{
  "cells": [
    {
      "cell_type": "markdown",
      "metadata": {},
      "source": [
        "# Discrete Dynamic Programming\n",
        "\n",
        "Pablo Winant\n",
        "\n",
        "## Markov Chains\n",
        "\n",
        "A worker’s employment dynamics is described by the stochastic matrix\n",
        "\n",
        "$$P = \\begin{bmatrix}\n",
        "1-\\alpha & \\alpha \\\\\n",
        "\\beta & 1-\\beta\n",
        "\\end{bmatrix}$$\n",
        "\n",
        "with $\\alpha\\in(0,1)$ and $\\beta\\in (0,1)$. First line corresponds to\n",
        "employment, second line to unemployment.\n",
        "\n",
        "**Which is the stationary equilibrium? (choose any value for $\\alpha$\n",
        "and $\\beta$)**"
      ],
      "id": "a5e68edb-ae53-4012-81ab-89add4353e86"
    },
    {
      "cell_type": "code",
      "execution_count": 3,
      "metadata": {},
      "outputs": [
        {
          "output_type": "display_data",
          "metadata": {},
          "data": {
            "text/plain": [
              "3×3 Matrix{Float64}:\n",
              " 0.7   0.15  0.15\n",
              " 0.25  0.5   0.25\n",
              " 0.1   0.1   0.8"
            ]
          }
        }
      ],
      "source": [
        "α = 0.3\n",
        "β = 0.5\n",
        "γ = 0.2\n",
        "P = [\n",
        "    (1-α) α/2 α/2;\n",
        "    β/2  (1-β) β/2;\n",
        "    γ/2 γ/2 (1-γ);\n",
        "]"
      ],
      "id": "cell-4"
    },
    {
      "cell_type": "code",
      "execution_count": null,
      "metadata": {},
      "outputs": [
        {
          "output_type": "display_data",
          "metadata": {},
          "data": {
            "text/plain": [
              "1×3 adjoint(::Vector{Float64}) with eltype Float64:\n",
              " 0.322581  0.193548  0.483871"
            ]
          }
        }
      ],
      "source": [
        "μ0 = [1.0, 1.0, 1.0]/3\n",
        "μ0' * (P^10)"
      ],
      "id": "cell-5"
    },
    {
      "cell_type": "code",
      "execution_count": 15,
      "metadata": {},
      "outputs": [
        {
          "output_type": "display_data",
          "metadata": {},
          "data": {
            "text/plain": [
              "solve_steady_state (generic function with 1 method)"
            ]
          }
        }
      ],
      "source": [
        "function solve_steady_state(P; T=100)\n",
        "    n = size(P,1)\n",
        "    μ0 = (ones(n)/n)'\n",
        "    for t in 1:T\n",
        "        μ1 = μ0*P\n",
        "        η = maximum(abs, μ1 - μ0)\n",
        "        if η<1e-10\n",
        "            return μ1'\n",
        "        end\n",
        "        μ0 = μ1\n",
        "    end\n",
        "    error(\"No convergence\")\n",
        "end\n"
      ],
      "id": "cell-6"
    },
    {
      "cell_type": "code",
      "execution_count": 16,
      "metadata": {},
      "outputs": [
        {
          "output_type": "display_data",
          "metadata": {},
          "data": {
            "text/plain": [
              "3-element Vector{Float64}:\n",
              " 0.3225806452587981\n",
              " 0.19354838711776282\n",
              " 0.48387096762343945"
            ]
          }
        }
      ],
      "source": [
        "solve_steady_state(P)"
      ],
      "id": "cell-7"
    },
    {
      "cell_type": "code",
      "execution_count": 24,
      "metadata": {},
      "outputs": [
        {
          "output_type": "display_data",
          "metadata": {},
          "data": {
            "text/plain": [
              "3-element Vector{Float64}:\n",
              " 0.32258064516129037\n",
              " 0.19354838709677416\n",
              " 0.48387096774193555"
            ]
          }
        }
      ],
      "source": [
        "# using linear algrebra\n",
        "\n",
        "using LinearAlgebra: I\n",
        "# I is the identity operator\n",
        "\n",
        "M = P' - I\n",
        "\n",
        "# modify last line of M\n",
        "\n",
        "M[end,:] .= 1.0\n",
        "M\n",
        "\n",
        "# define right hand side\n",
        "r = zeros(size(M,1))\n",
        "\n",
        "r[end] = 1.0\n",
        "\n",
        "M \\ r"
      ],
      "id": "cell-8"
    },
    {
      "cell_type": "code",
      "execution_count": 32,
      "metadata": {},
      "outputs": [
        {
          "output_type": "display_data",
          "metadata": {},
          "data": {
            "text/plain": [
              "3-element Vector{Float64}:\n",
              " 0.32258064516129054\n",
              " 0.19354838709677397\n",
              " 0.4838709677419355"
            ]
          }
        }
      ],
      "source": [
        "M = P' - I\n",
        "\n",
        "# modify last line of M\n",
        "\n",
        "M1 = [\n",
        "    M ;  # concatenate along first dimension\n",
        "    ones(size(M,1))'  # ' to turn the vector a 1x3 matrix\n",
        "]\n",
        "M1\n",
        "\n",
        "# # define right hand side\n",
        "r = [zeros(size(M,1)) ; 1]\n",
        "\n",
        "M1 \\ r"
      ],
      "id": "cell-9"
    },
    {
      "cell_type": "markdown",
      "metadata": {},
      "source": [
        "**In the long run, what will the the fraction $p$ of time spent\n",
        "unemployed? (Denote by $X_m$ the fraction of dates were one is\n",
        "unemployed)**\n",
        "\n",
        "**Illustrate this convergence by generating a simulated series of length\n",
        "10000 starting at $X_0=1$. Plot $X_m-p$ against $m$. (Take\n",
        "$\\alpha=\\beta=0.1$).**\n",
        "\n",
        "## Job-Search Model\n",
        "\n",
        "We want to solve the following model, adapted from McCall.\n",
        "\n",
        "-   When unemployed in date, a job-seeker\n",
        "    -   consumes unemployment benefit $c_t = \\underline{c}$\n",
        "    -   receives in every date $t$ a job offer $w_t$\n",
        "        -   $w_t$ is i.i.d.,\n",
        "        -   takes values $w_1, w_2, w_3$ with probabilities\n",
        "            $p_1, p_2, p_3$\n",
        "    -   if job-seeker accepts, becomes employed at rate $w_t$ in the\n",
        "        next period\n",
        "    -   else he stays unemployed\n",
        "-   When employed at rate $w$\n",
        "    -   worker consumes salary $c_t = w$\n",
        "    -   with small probability $\\lambda>0$ looses his job:\n",
        "        -   starts next period unemployed\n",
        "    -   otherwise stays employed at same rate\n",
        "-   Objective: $\\max E_0 \\left\\{ \\sum \\beta^t \\log(c_t) \\right\\}$\n",
        "\n",
        "**What are the states, the controls, the reward of this problem ? Write\n",
        "down the Bellman equation.**\n",
        "\n",
        "**Define a parameter structure for the model.**\n",
        "\n",
        "**Define a function\n",
        "`value_update(V_U::Vector{Float64}, V_E::Vector{Float64}, x::Vector{Bool}, p::Parameters)::Tuple{Vector, Vector}`,\n",
        "which takes in value functions tomorrow and a policy vector and return\n",
        "updated values for today.**\n",
        "\n",
        "**Define a function\n",
        "`policy_eval(x::Vector{Bool}, p::Parameter)::Tuple{Vector, Vector}`\n",
        "which takes in a policy vector and returns the value(s) of following\n",
        "this policies forever. You can add relevant arguments to the function.**\n",
        "\n",
        "**Define a function\n",
        "`bellman_step(V_E::Vector, V_U::Vector, p::Parameters)::Tuple{Vector, Vector, Vector}`\n",
        "which returns updated values, together with improved policy rules.**\n",
        "\n",
        "**Implement Value Function**\n",
        "\n",
        "**Implement Policy Iteration and compare rates of convergence.**\n",
        "\n",
        "**Discuss the Effects of the Parameters**"
      ],
      "id": "4ab01ec8-b411-459f-95c2-6c42679f60dc"
    }
  ],
  "nbformat": 4,
  "nbformat_minor": 5,
  "metadata": {
    "kernelspec": {
      "name": "julia-1.11",
      "display_name": "Julia 1.11.3",
      "language": "julia"
    },
    "language_info": {
      "name": "julia",
      "file_extension": ".jl",
      "mimetype": "application/julia",
      "version": "1.11.3"
    }
  }
}