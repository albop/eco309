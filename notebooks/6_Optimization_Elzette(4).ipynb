{
 "cells": [
  {
   "cell_type": "markdown",
   "metadata": {},
   "source": [
    "# Optimization (tutorial)\n",
    "\n",
    "In this tutorial you will learn to code and use common optimization algorithms for static models."
   ]
  },
  {
   "cell_type": "code",
   "execution_count": 1,
   "metadata": {},
   "outputs": [],
   "source": [
    "using Plots"
   ]
  },
  {
   "cell_type": "markdown",
   "metadata": {},
   "source": [
    "\n",
    "---\n",
    "\n",
    "## Profit optimization by a monopolist\n",
    "\n",
    "A monopolist produces quantity $q$ of goods X at price $p$. Its cost function is $c(q) = 0.5 + q (1-qe^{-q})$\n",
    "\n",
    "The consumer's demand for price $p$ is $x(p)=2 e^{-0.5 p}$ (constant elasticity of demand to price).\n",
    "\n",
    "__Write down the profit function of the monopolist and find the optimal production (if any). Don't use any library except for plotting.__\n",
    "\n"
   ]
  },
  {
   "cell_type": "markdown",
   "metadata": {},
   "source": [
    "We will firstly write the profit function of the monopoly economy. It is will known that the profit is given by the difference between the revenue and the total cost. The revenue was calculated by using the inverse demand. "
   ]
  },
  {
   "cell_type": "code",
   "execution_count": 2,
   "metadata": {},
   "outputs": [
    {
     "data": {
      "text/plain": [
       "profit (generic function with 1 method)"
      ]
     },
     "execution_count": 2,
     "metadata": {},
     "output_type": "execute_result"
    }
   ],
   "source": [
    "function profit(q)\n",
    "    cost = 0.5 + q*( 1-q*exp(-q) )\n",
    "    revenue = (-2)*log( q/2 )* q\n",
    "    return revenue - cost\n",
    "end\n"
   ]
  },
  {
   "cell_type": "markdown",
   "metadata": {},
   "source": [
    "As can be seen the function above is convex thereby any local maxima will be a global one. We will now use a optimization technique seen in the lecture to find the global maxima of the profit function. To do this, we also need a marginal profit function. "
   ]
  },
  {
   "cell_type": "code",
   "execution_count": 3,
   "metadata": {},
   "outputs": [
    {
     "data": {
      "text/plain": [
       "golden_search (generic function with 3 methods)"
      ]
     },
     "execution_count": 3,
     "metadata": {},
     "output_type": "execute_result"
    }
   ],
   "source": [
    "function golden_search(func, a = 0.01, b = 10)\n",
    "    \"Maximise func where func is a concave function\"\n",
    "    ϕ = (sqrt(5) -1)/2\n",
    "    ϵ = 0.0000001\n",
    "    while abs(a - b)> ϵ\n",
    "        c = a + ϕ*(b -a)\n",
    "        d = a +(1-ϕ)*(b-a)\n",
    "        if func(c) < func(d)\n",
    "            b = d    \n",
    "        else\n",
    "            a = c\n",
    "        end  \n",
    "        println(a,b,c,d)\n",
    "    end \n",
    "    return a,b \n",
    "end "
   ]
  },
  {
   "cell_type": "code",
   "execution_count": 4,
   "metadata": {},
   "outputs": [
    {
     "name": "stdout",
     "output_type": "stream",
     "text": [
      "0.013.82584045238854966.184159547611453.8258404523885496\n",
      "0.011.4675213571656512.36831909522289851.467521357165651\n",
      "0.010.56672361910840350.91079773805724740.5667236191084035\n",
      "0.354074118948843830.56672361910840350.354074118948843830.2226495001595597\n",
      "0.48549873773812790.56672361910840350.48549873773812790.43529900031911944\n",
      "0.53569847515713640.56672361910840350.53569847515713640.516523881689395\n",
      "0.55487306862487770.56672361910840350.55487306862487770.5475490256406622\n",
      "0.56219711160909310.56672361910840350.56219711160909310.5593995761241881\n",
      "0.56219711160909310.56392608362349840.56499464709399830.5639260836234984\n",
      "0.56219711160909310.56285752015299860.56326567507959290.5628575201529986\n",
      "0.56219711160909310.56244936522640420.56260526653568750.5624493652264042\n",
      "0.56219711160909310.56229346391712090.56235301291837650.5622934639171209\n",
      "0.56219711160909310.56223391491586530.56225666061034870.5622339149158653\n",
      "0.56219711160909310.56221116922138170.56221985730357670.5622111692213817\n",
      "0.56219711160909310.56220248113918670.56220579969128810.5622024811391867\n",
      "0.56219711160909310.56219916258708520.56220043016119460.5621991625870852\n",
      "0.56219711160909310.56219789501297590.56219837918320250.5621978950129759\n",
      "0.56219711160909310.56219741084274940.56219759577931960.5621974108427494\n",
      "0.56219711160909310.56219722590617930.56219729654566330.5621972259061793\n",
      "0.56219711160909310.56219715526669520.56219718224857720.5621971552666952\n",
      "(0.5621971116090931, 0.5621971552666952)\n"
     ]
    }
   ],
   "source": [
    "q = golden_search(profit)\n",
    "println(q)\n"
   ]
  },
  {
   "cell_type": "code",
   "execution_count": 5,
   "metadata": {},
   "outputs": [
    {
     "data": {
      "text/plain": [
       "mprofit (generic function with 1 method)"
      ]
     },
     "execution_count": 5,
     "metadata": {},
     "output_type": "execute_result"
    }
   ],
   "source": [
    "function mprofit(q) \n",
    "    mC = 1 -q*exp(-q) + q*( q*exp(-q)-exp(-q) )\n",
    "    mR = (-2)*log(q/2) - 4\n",
    "    return mR-mC\n",
    "end"
   ]
  },
  {
   "cell_type": "code",
   "execution_count": 6,
   "metadata": {},
   "outputs": [
    {
     "data": {
      "text/plain": [
       "10-element Array{Float64,1}:\n",
       " -3.245826197708667\n",
       " -5.0\n",
       " -5.960291421319921\n",
       " -6.532819472229765\n",
       " -6.933650668734592\n",
       " -7.256714629576212\n",
       " -7.537441805785145\n",
       " -7.788690928379102\n",
       " -8.015929611210009\n",
       " -8.2225078192492"
      ]
     },
     "execution_count": 6,
     "metadata": {},
     "output_type": "execute_result"
    }
   ],
   "source": [
    "prof = [profit(i)  for i in 1:10]\n",
    "mP = [mprofit(i) for i in 1:10 ]"
   ]
  },
  {
   "cell_type": "code",
   "execution_count": 7,
   "metadata": {},
   "outputs": [
    {
     "data": {
      "image/svg+xml": [
       "<?xml version=\"1.0\" encoding=\"utf-8\"?>\n",
       "<svg xmlns=\"http://www.w3.org/2000/svg\" xmlns:xlink=\"http://www.w3.org/1999/xlink\" width=\"600\" height=\"400\" viewBox=\"0 0 2400 1600\">\n",
       "<defs>\n",
       "  <clipPath id=\"clip350\">\n",
       "    <rect x=\"0\" y=\"0\" width=\"2400\" height=\"1600\"/>\n",
       "  </clipPath>\n",
       "</defs>\n",
       "<path clip-path=\"url(#clip350)\" d=\"\n",
       "M0 1600 L2400 1600 L2400 0 L0 0  Z\n",
       "  \" fill=\"#ffffff\" fill-rule=\"evenodd\" fill-opacity=\"1\"/>\n",
       "<defs>\n",
       "  <clipPath id=\"clip351\">\n",
       "    <rect x=\"480\" y=\"0\" width=\"1681\" height=\"1600\"/>\n",
       "  </clipPath>\n",
       "</defs>\n",
       "<path clip-path=\"url(#clip350)\" d=\"\n",
       "M153.983 1486.45 L2352.76 1486.45 L2352.76 47.2441 L153.983 47.2441  Z\n",
       "  \" fill=\"#ffffff\" fill-rule=\"evenodd\" fill-opacity=\"1\"/>\n",
       "<defs>\n",
       "  <clipPath id=\"clip352\">\n",
       "    <rect x=\"153\" y=\"47\" width=\"2200\" height=\"1440\"/>\n",
       "  </clipPath>\n",
       "</defs>\n",
       "<polyline clip-path=\"url(#clip352)\" style=\"stroke:#000000; stroke-width:2; stroke-opacity:0.1; fill:none\" points=\"\n",
       "  446.691,1486.45 446.691,47.2441 \n",
       "  \"/>\n",
       "<polyline clip-path=\"url(#clip352)\" style=\"stroke:#000000; stroke-width:2; stroke-opacity:0.1; fill:none\" points=\"\n",
       "  907.65,1486.45 907.65,47.2441 \n",
       "  \"/>\n",
       "<polyline clip-path=\"url(#clip352)\" style=\"stroke:#000000; stroke-width:2; stroke-opacity:0.1; fill:none\" points=\"\n",
       "  1368.61,1486.45 1368.61,47.2441 \n",
       "  \"/>\n",
       "<polyline clip-path=\"url(#clip352)\" style=\"stroke:#000000; stroke-width:2; stroke-opacity:0.1; fill:none\" points=\"\n",
       "  1829.57,1486.45 1829.57,47.2441 \n",
       "  \"/>\n",
       "<polyline clip-path=\"url(#clip352)\" style=\"stroke:#000000; stroke-width:2; stroke-opacity:0.1; fill:none\" points=\"\n",
       "  2290.53,1486.45 2290.53,47.2441 \n",
       "  \"/>\n",
       "<polyline clip-path=\"url(#clip352)\" style=\"stroke:#000000; stroke-width:2; stroke-opacity:0.1; fill:none\" points=\"\n",
       "  153.983,1360.84 2352.76,1360.84 \n",
       "  \"/>\n",
       "<polyline clip-path=\"url(#clip352)\" style=\"stroke:#000000; stroke-width:2; stroke-opacity:0.1; fill:none\" points=\"\n",
       "  153.983,1044.63 2352.76,1044.63 \n",
       "  \"/>\n",
       "<polyline clip-path=\"url(#clip352)\" style=\"stroke:#000000; stroke-width:2; stroke-opacity:0.1; fill:none\" points=\"\n",
       "  153.983,728.426 2352.76,728.426 \n",
       "  \"/>\n",
       "<polyline clip-path=\"url(#clip352)\" style=\"stroke:#000000; stroke-width:2; stroke-opacity:0.1; fill:none\" points=\"\n",
       "  153.983,412.22 2352.76,412.22 \n",
       "  \"/>\n",
       "<polyline clip-path=\"url(#clip352)\" style=\"stroke:#000000; stroke-width:2; stroke-opacity:0.1; fill:none\" points=\"\n",
       "  153.983,96.0134 2352.76,96.0134 \n",
       "  \"/>\n",
       "<polyline clip-path=\"url(#clip350)\" style=\"stroke:#000000; stroke-width:4; stroke-opacity:1; fill:none\" points=\"\n",
       "  153.983,1486.45 2352.76,1486.45 \n",
       "  \"/>\n",
       "<polyline clip-path=\"url(#clip350)\" style=\"stroke:#000000; stroke-width:4; stroke-opacity:1; fill:none\" points=\"\n",
       "  153.983,1486.45 153.983,47.2441 \n",
       "  \"/>\n",
       "<polyline clip-path=\"url(#clip350)\" style=\"stroke:#000000; stroke-width:4; stroke-opacity:1; fill:none\" points=\"\n",
       "  446.691,1486.45 446.691,1469.18 \n",
       "  \"/>\n",
       "<polyline clip-path=\"url(#clip350)\" style=\"stroke:#000000; stroke-width:4; stroke-opacity:1; fill:none\" points=\"\n",
       "  907.65,1486.45 907.65,1469.18 \n",
       "  \"/>\n",
       "<polyline clip-path=\"url(#clip350)\" style=\"stroke:#000000; stroke-width:4; stroke-opacity:1; fill:none\" points=\"\n",
       "  1368.61,1486.45 1368.61,1469.18 \n",
       "  \"/>\n",
       "<polyline clip-path=\"url(#clip350)\" style=\"stroke:#000000; stroke-width:4; stroke-opacity:1; fill:none\" points=\"\n",
       "  1829.57,1486.45 1829.57,1469.18 \n",
       "  \"/>\n",
       "<polyline clip-path=\"url(#clip350)\" style=\"stroke:#000000; stroke-width:4; stroke-opacity:1; fill:none\" points=\"\n",
       "  2290.53,1486.45 2290.53,1469.18 \n",
       "  \"/>\n",
       "<polyline clip-path=\"url(#clip350)\" style=\"stroke:#000000; stroke-width:4; stroke-opacity:1; fill:none\" points=\"\n",
       "  153.983,1360.84 180.368,1360.84 \n",
       "  \"/>\n",
       "<polyline clip-path=\"url(#clip350)\" style=\"stroke:#000000; stroke-width:4; stroke-opacity:1; fill:none\" points=\"\n",
       "  153.983,1044.63 180.368,1044.63 \n",
       "  \"/>\n",
       "<polyline clip-path=\"url(#clip350)\" style=\"stroke:#000000; stroke-width:4; stroke-opacity:1; fill:none\" points=\"\n",
       "  153.983,728.426 180.368,728.426 \n",
       "  \"/>\n",
       "<polyline clip-path=\"url(#clip350)\" style=\"stroke:#000000; stroke-width:4; stroke-opacity:1; fill:none\" points=\"\n",
       "  153.983,412.22 180.368,412.22 \n",
       "  \"/>\n",
       "<polyline clip-path=\"url(#clip350)\" style=\"stroke:#000000; stroke-width:4; stroke-opacity:1; fill:none\" points=\"\n",
       "  153.983,96.0134 180.368,96.0134 \n",
       "  \"/>\n",
       "<path clip-path=\"url(#clip350)\" d=\"M 0 0 M441.344 1535.98 L457.663 1535.98 L457.663 1539.92 L435.719 1539.92 L435.719 1535.98 Q438.381 1533.23 442.965 1528.6 Q447.571 1523.95 448.752 1522.61 Q450.997 1520.08 451.876 1518.35 Q452.779 1516.59 452.779 1514.9 Q452.779 1512.14 450.835 1510.41 Q448.914 1508.67 445.812 1508.67 Q443.613 1508.67 441.159 1509.43 Q438.728 1510.2 435.951 1511.75 L435.951 1507.03 Q438.775 1505.89 441.228 1505.31 Q443.682 1504.73 445.719 1504.73 Q451.089 1504.73 454.284 1507.42 Q457.478 1510.11 457.478 1514.6 Q457.478 1516.73 456.668 1518.65 Q455.881 1520.54 453.775 1523.14 Q453.196 1523.81 450.094 1527.03 Q446.992 1530.22 441.344 1535.98 Z\" fill=\"#000000\" fill-rule=\"evenodd\" fill-opacity=\"1\" /><path clip-path=\"url(#clip350)\" d=\"M 0 0 M910.659 1509.43 L898.854 1527.88 L910.659 1527.88 L910.659 1509.43 M909.433 1505.36 L915.312 1505.36 L915.312 1527.88 L920.243 1527.88 L920.243 1531.77 L915.312 1531.77 L915.312 1539.92 L910.659 1539.92 L910.659 1531.77 L895.058 1531.77 L895.058 1527.26 L909.433 1505.36 Z\" fill=\"#000000\" fill-rule=\"evenodd\" fill-opacity=\"1\" /><path clip-path=\"url(#clip350)\" d=\"M 0 0 M1369.01 1520.78 Q1365.87 1520.78 1364.01 1522.93 Q1362.19 1525.08 1362.19 1528.83 Q1362.19 1532.56 1364.01 1534.73 Q1365.87 1536.89 1369.01 1536.89 Q1372.16 1536.89 1373.99 1534.73 Q1375.84 1532.56 1375.84 1528.83 Q1375.84 1525.08 1373.99 1522.93 Q1372.16 1520.78 1369.01 1520.78 M1378.3 1506.12 L1378.3 1510.38 Q1376.54 1509.55 1374.73 1509.11 Q1372.95 1508.67 1371.19 1508.67 Q1366.56 1508.67 1364.11 1511.8 Q1361.68 1514.92 1361.33 1521.24 Q1362.69 1519.23 1364.75 1518.16 Q1366.81 1517.07 1369.29 1517.07 Q1374.5 1517.07 1377.51 1520.24 Q1380.54 1523.39 1380.54 1528.83 Q1380.54 1534.16 1377.39 1537.37 Q1374.25 1540.59 1369.01 1540.59 Q1363.02 1540.59 1359.85 1536.01 Q1356.68 1531.4 1356.68 1522.67 Q1356.68 1514.48 1360.56 1509.62 Q1364.45 1504.73 1371 1504.73 Q1372.76 1504.73 1374.55 1505.08 Q1376.35 1505.43 1378.3 1506.12 Z\" fill=\"#000000\" fill-rule=\"evenodd\" fill-opacity=\"1\" /><path clip-path=\"url(#clip350)\" d=\"M 0 0 M1829.57 1523.51 Q1826.23 1523.51 1824.31 1525.29 Q1822.41 1527.07 1822.41 1530.2 Q1822.41 1533.32 1824.31 1535.11 Q1826.23 1536.89 1829.57 1536.89 Q1832.9 1536.89 1834.82 1535.11 Q1836.74 1533.3 1836.74 1530.2 Q1836.74 1527.07 1834.82 1525.29 Q1832.92 1523.51 1829.57 1523.51 M1824.89 1521.52 Q1821.88 1520.78 1820.19 1518.72 Q1818.53 1516.66 1818.53 1513.69 Q1818.53 1509.55 1821.47 1507.14 Q1824.43 1504.73 1829.57 1504.73 Q1834.73 1504.73 1837.67 1507.14 Q1840.61 1509.55 1840.61 1513.69 Q1840.61 1516.66 1838.92 1518.72 Q1837.25 1520.78 1834.27 1521.52 Q1837.65 1522.3 1839.52 1524.6 Q1841.42 1526.89 1841.42 1530.2 Q1841.42 1535.22 1838.34 1537.91 Q1835.29 1540.59 1829.57 1540.59 Q1823.85 1540.59 1820.77 1537.91 Q1817.72 1535.22 1817.72 1530.2 Q1817.72 1526.89 1819.61 1524.6 Q1821.51 1522.3 1824.89 1521.52 M1823.18 1514.13 Q1823.18 1516.82 1824.85 1518.32 Q1826.54 1519.83 1829.57 1519.83 Q1832.58 1519.83 1834.27 1518.32 Q1835.98 1516.82 1835.98 1514.13 Q1835.98 1511.45 1834.27 1509.94 Q1832.58 1508.44 1829.57 1508.44 Q1826.54 1508.44 1824.85 1509.94 Q1823.18 1511.45 1823.18 1514.13 Z\" fill=\"#000000\" fill-rule=\"evenodd\" fill-opacity=\"1\" /><path clip-path=\"url(#clip350)\" d=\"M 0 0 M2267.4 1535.98 L2275.04 1535.98 L2275.04 1509.62 L2266.73 1511.29 L2266.73 1507.03 L2274.99 1505.36 L2279.67 1505.36 L2279.67 1535.98 L2287.31 1535.98 L2287.31 1539.92 L2267.4 1539.92 L2267.4 1535.98 Z\" fill=\"#000000\" fill-rule=\"evenodd\" fill-opacity=\"1\" /><path clip-path=\"url(#clip350)\" d=\"M 0 0 M2302.38 1508.44 Q2298.77 1508.44 2296.94 1512 Q2295.13 1515.55 2295.13 1522.67 Q2295.13 1529.78 2296.94 1533.35 Q2298.77 1536.89 2302.38 1536.89 Q2306.01 1536.89 2307.82 1533.35 Q2309.65 1529.78 2309.65 1522.67 Q2309.65 1515.55 2307.82 1512 Q2306.01 1508.44 2302.38 1508.44 M2302.38 1504.73 Q2308.19 1504.73 2311.24 1509.34 Q2314.32 1513.92 2314.32 1522.67 Q2314.32 1531.4 2311.24 1536.01 Q2308.19 1540.59 2302.38 1540.59 Q2296.57 1540.59 2293.49 1536.01 Q2290.43 1531.4 2290.43 1522.67 Q2290.43 1513.92 2293.49 1509.34 Q2296.57 1504.73 2302.38 1504.73 Z\" fill=\"#000000\" fill-rule=\"evenodd\" fill-opacity=\"1\" /><path clip-path=\"url(#clip350)\" d=\"M 0 0 M62.9921 1363.23 L75.4689 1363.23 L75.4689 1367.03 L62.9921 1367.03 L62.9921 1363.23 Z\" fill=\"#000000\" fill-rule=\"evenodd\" fill-opacity=\"1\" /><path clip-path=\"url(#clip350)\" d=\"M 0 0 M93.3855 1347.63 L81.58 1366.08 L93.3855 1366.08 L93.3855 1347.63 M92.1586 1343.56 L98.0382 1343.56 L98.0382 1366.08 L102.969 1366.08 L102.969 1369.97 L98.0382 1369.97 L98.0382 1378.12 L93.3855 1378.12 L93.3855 1369.97 L77.7837 1369.97 L77.7837 1365.46 L92.1586 1343.56 Z\" fill=\"#000000\" fill-rule=\"evenodd\" fill-opacity=\"1\" /><path clip-path=\"url(#clip350)\" d=\"M 0 0 M118.038 1346.64 Q114.427 1346.64 112.598 1350.2 Q110.793 1353.74 110.793 1360.87 Q110.793 1367.98 112.598 1371.54 Q114.427 1375.09 118.038 1375.09 Q121.672 1375.09 123.478 1371.54 Q125.307 1367.98 125.307 1360.87 Q125.307 1353.74 123.478 1350.2 Q121.672 1346.64 118.038 1346.64 M118.038 1342.93 Q123.848 1342.93 126.904 1347.54 Q129.983 1352.12 129.983 1360.87 Q129.983 1369.6 126.904 1374.21 Q123.848 1378.79 118.038 1378.79 Q112.228 1378.79 109.149 1374.21 Q106.094 1369.6 106.094 1360.87 Q106.094 1352.12 109.149 1347.54 Q112.228 1342.93 118.038 1342.93 Z\" fill=\"#000000\" fill-rule=\"evenodd\" fill-opacity=\"1\" /><path clip-path=\"url(#clip350)\" d=\"M 0 0 M64.1264 1047.03 L76.6032 1047.03 L76.6032 1050.82 L64.1264 1050.82 L64.1264 1047.03 Z\" fill=\"#000000\" fill-rule=\"evenodd\" fill-opacity=\"1\" /><path clip-path=\"url(#clip350)\" d=\"M 0 0 M95.8392 1043.28 Q99.1956 1044 101.071 1046.26 Q102.969 1048.53 102.969 1051.87 Q102.969 1056.98 99.4503 1059.78 Q95.9318 1062.58 89.4503 1062.58 Q87.2744 1062.58 84.9596 1062.14 Q82.6679 1061.73 80.2143 1060.87 L80.2143 1056.36 Q82.1587 1057.49 84.4735 1058.07 Q86.7883 1058.65 89.3114 1058.65 Q93.7096 1058.65 96.0012 1056.91 Q98.316 1055.18 98.316 1051.87 Q98.316 1048.81 96.1632 1047.1 Q94.0336 1045.36 90.2142 1045.36 L86.1864 1045.36 L86.1864 1041.52 L90.3994 1041.52 Q93.8484 1041.52 95.6771 1040.15 Q97.5058 1038.76 97.5058 1036.17 Q97.5058 1033.51 95.6077 1032.1 Q93.7327 1030.66 90.2142 1030.66 Q88.2929 1030.66 86.0939 1031.08 Q83.8948 1031.5 81.2559 1032.38 L81.2559 1028.21 Q83.9179 1027.47 86.2327 1027.1 Q88.5707 1026.73 90.6309 1026.73 Q95.9549 1026.73 99.0567 1029.16 Q102.159 1031.57 102.159 1035.69 Q102.159 1038.56 100.515 1040.55 Q98.8716 1042.51 95.8392 1043.28 Z\" fill=\"#000000\" fill-rule=\"evenodd\" fill-opacity=\"1\" /><path clip-path=\"url(#clip350)\" d=\"M 0 0 M118.038 1030.43 Q114.427 1030.43 112.598 1034 Q110.793 1037.54 110.793 1044.67 Q110.793 1051.77 112.598 1055.34 Q114.427 1058.88 118.038 1058.88 Q121.672 1058.88 123.478 1055.34 Q125.307 1051.77 125.307 1044.67 Q125.307 1037.54 123.478 1034 Q121.672 1030.43 118.038 1030.43 M118.038 1026.73 Q123.848 1026.73 126.904 1031.33 Q129.983 1035.92 129.983 1044.67 Q129.983 1053.39 126.904 1058 Q123.848 1062.58 118.038 1062.58 Q112.228 1062.58 109.149 1058 Q106.094 1053.39 106.094 1044.67 Q106.094 1035.92 109.149 1031.33 Q112.228 1026.73 118.038 1026.73 Z\" fill=\"#000000\" fill-rule=\"evenodd\" fill-opacity=\"1\" /><path clip-path=\"url(#clip350)\" d=\"M 0 0 M65.0754 730.822 L77.5522 730.822 L77.5522 734.618 L65.0754 734.618 L65.0754 730.822 Z\" fill=\"#000000\" fill-rule=\"evenodd\" fill-opacity=\"1\" /><path clip-path=\"url(#clip350)\" d=\"M 0 0 M86.6494 741.771 L102.969 741.771 L102.969 745.706 L81.0244 745.706 L81.0244 741.771 Q83.6865 739.016 88.2698 734.387 Q92.8762 729.734 94.0568 728.391 Q96.3021 725.868 97.1818 724.132 Q98.0845 722.373 98.0845 720.683 Q98.0845 717.929 96.1401 716.192 Q94.2188 714.456 91.117 714.456 Q88.9179 714.456 86.4642 715.22 Q84.0337 715.984 81.2559 717.535 L81.2559 712.813 Q84.08 711.679 86.5337 711.1 Q88.9874 710.521 91.0244 710.521 Q96.3947 710.521 99.5892 713.206 Q102.784 715.892 102.784 720.382 Q102.784 722.512 101.973 724.433 Q101.186 726.331 99.0799 728.924 Q98.5012 729.595 95.3994 732.813 Q92.2975 736.007 86.6494 741.771 Z\" fill=\"#000000\" fill-rule=\"evenodd\" fill-opacity=\"1\" /><path clip-path=\"url(#clip350)\" d=\"M 0 0 M118.038 714.225 Q114.427 714.225 112.598 717.79 Q110.793 721.331 110.793 728.461 Q110.793 735.567 112.598 739.132 Q114.427 742.674 118.038 742.674 Q121.672 742.674 123.478 739.132 Q125.307 735.567 125.307 728.461 Q125.307 721.331 123.478 717.79 Q121.672 714.225 118.038 714.225 M118.038 710.521 Q123.848 710.521 126.904 715.128 Q129.983 719.711 129.983 728.461 Q129.983 737.188 126.904 741.794 Q123.848 746.377 118.038 746.377 Q112.228 746.377 109.149 741.794 Q106.094 737.188 106.094 728.461 Q106.094 719.711 109.149 715.128 Q112.228 710.521 118.038 710.521 Z\" fill=\"#000000\" fill-rule=\"evenodd\" fill-opacity=\"1\" /><path clip-path=\"url(#clip350)\" d=\"M 0 0 M64.7051 414.616 L77.1819 414.616 L77.1819 418.412 L64.7051 418.412 L64.7051 414.616 Z\" fill=\"#000000\" fill-rule=\"evenodd\" fill-opacity=\"1\" /><path clip-path=\"url(#clip350)\" d=\"M 0 0 M83.0615 425.565 L90.7003 425.565 L90.7003 399.199 L82.3902 400.866 L82.3902 396.606 L90.654 394.94 L95.3299 394.94 L95.3299 425.565 L102.969 425.565 L102.969 429.5 L83.0615 429.5 L83.0615 425.565 Z\" fill=\"#000000\" fill-rule=\"evenodd\" fill-opacity=\"1\" /><path clip-path=\"url(#clip350)\" d=\"M 0 0 M118.038 398.018 Q114.427 398.018 112.598 401.583 Q110.793 405.125 110.793 412.255 Q110.793 419.361 112.598 422.926 Q114.427 426.467 118.038 426.467 Q121.672 426.467 123.478 422.926 Q125.307 419.361 125.307 412.255 Q125.307 405.125 123.478 401.583 Q121.672 398.018 118.038 398.018 M118.038 394.315 Q123.848 394.315 126.904 398.921 Q129.983 403.505 129.983 412.255 Q129.983 420.981 126.904 425.588 Q123.848 430.171 118.038 430.171 Q112.228 430.171 109.149 425.588 Q106.094 420.981 106.094 412.255 Q106.094 403.505 109.149 398.921 Q112.228 394.315 118.038 394.315 Z\" fill=\"#000000\" fill-rule=\"evenodd\" fill-opacity=\"1\" /><path clip-path=\"url(#clip350)\" d=\"M 0 0 M118.038 81.8121 Q114.427 81.8121 112.598 85.3769 Q110.793 88.9185 110.793 96.0481 Q110.793 103.155 112.598 106.719 Q114.427 110.261 118.038 110.261 Q121.672 110.261 123.478 106.719 Q125.307 103.155 125.307 96.0481 Q125.307 88.9185 123.478 85.3769 Q121.672 81.8121 118.038 81.8121 M118.038 78.1084 Q123.848 78.1084 126.904 82.7149 Q129.983 87.2982 129.983 96.0481 Q129.983 104.775 126.904 109.381 Q123.848 113.965 118.038 113.965 Q112.228 113.965 109.149 109.381 Q106.094 104.775 106.094 96.0481 Q106.094 87.2982 109.149 82.7149 Q112.228 78.1084 118.038 78.1084 Z\" fill=\"#000000\" fill-rule=\"evenodd\" fill-opacity=\"1\" /><polyline clip-path=\"url(#clip352)\" style=\"stroke:#009af9; stroke-width:4; stroke-opacity:1; fill:none\" points=\"\n",
       "  216.212,87.9763 446.691,157.947 677.171,269.443 907.65,404.382 1138.13,554.337 1368.61,715.592 1599.09,886.34 1829.57,1065.48 2060.05,1252.17 2290.53,1445.72 \n",
       "  \n",
       "  \"/>\n",
       "<polyline clip-path=\"url(#clip352)\" style=\"stroke:#e26f46; stroke-width:4; stroke-opacity:1; fill:none\" points=\"\n",
       "  216.212,198.649 446.691,254.117 677.171,284.482 907.65,302.585 1138.13,315.26 1368.61,325.475 1599.09,334.352 1829.57,342.297 2060.05,349.482 2290.53,356.014 \n",
       "  \n",
       "  \"/>\n",
       "<path clip-path=\"url(#clip350)\" d=\"\n",
       "M1741.89 312.204 L2280.76 312.204 L2280.76 130.764 L1741.89 130.764  Z\n",
       "  \" fill=\"#ffffff\" fill-rule=\"evenodd\" fill-opacity=\"1\"/>\n",
       "<polyline clip-path=\"url(#clip350)\" style=\"stroke:#000000; stroke-width:4; stroke-opacity:1; fill:none\" points=\"\n",
       "  1741.89,312.204 2280.76,312.204 2280.76,130.764 1741.89,130.764 1741.89,312.204 \n",
       "  \"/>\n",
       "<polyline clip-path=\"url(#clip350)\" style=\"stroke:#009af9; stroke-width:4; stroke-opacity:1; fill:none\" points=\"\n",
       "  1765.89,191.244 1909.89,191.244 \n",
       "  \"/>\n",
       "<path clip-path=\"url(#clip350)\" d=\"M 0 0 M1938.57 177.807 L1938.57 190.793 L1944.45 190.793 Q1947.71 190.793 1949.49 189.103 Q1951.28 187.413 1951.28 184.288 Q1951.28 181.186 1949.49 179.496 Q1947.71 177.807 1944.45 177.807 L1938.57 177.807 M1933.89 173.964 L1944.45 173.964 Q1950.26 173.964 1953.22 176.603 Q1956.21 179.219 1956.21 184.288 Q1956.21 189.404 1953.22 192.02 Q1950.26 194.635 1944.45 194.635 L1938.57 194.635 L1938.57 208.524 L1933.89 208.524 L1933.89 173.964 Z\" fill=\"#000000\" fill-rule=\"evenodd\" fill-opacity=\"1\" /><path clip-path=\"url(#clip350)\" d=\"M 0 0 M1974.86 186.58 Q1974.15 186.163 1973.29 185.978 Q1972.46 185.77 1971.44 185.77 Q1967.83 185.77 1965.88 188.131 Q1963.96 190.469 1963.96 194.867 L1963.96 208.524 L1959.68 208.524 L1959.68 182.598 L1963.96 182.598 L1963.96 186.626 Q1965.3 184.265 1967.46 183.131 Q1969.61 181.973 1972.69 181.973 Q1973.13 181.973 1973.66 182.043 Q1974.19 182.089 1974.84 182.205 L1974.86 186.58 Z\" fill=\"#000000\" fill-rule=\"evenodd\" fill-opacity=\"1\" /><path clip-path=\"url(#clip350)\" d=\"M 0 0 M1988.34 185.584 Q1984.91 185.584 1982.92 188.27 Q1980.93 190.932 1980.93 195.584 Q1980.93 200.237 1982.9 202.922 Q1984.89 205.584 1988.34 205.584 Q1991.74 205.584 1993.73 202.899 Q1995.72 200.214 1995.72 195.584 Q1995.72 190.978 1993.73 188.293 Q1991.74 185.584 1988.34 185.584 M1988.34 181.973 Q1993.89 181.973 1997.06 185.584 Q2000.23 189.195 2000.23 195.584 Q2000.23 201.95 1997.06 205.584 Q1993.89 209.195 1988.34 209.195 Q1982.76 209.195 1979.59 205.584 Q1976.44 201.95 1976.44 195.584 Q1976.44 189.195 1979.59 185.584 Q1982.76 181.973 1988.34 181.973 Z\" fill=\"#000000\" fill-rule=\"evenodd\" fill-opacity=\"1\" /><path clip-path=\"url(#clip350)\" d=\"M 0 0 M2017.83 172.506 L2017.83 176.047 L2013.75 176.047 Q2011.46 176.047 2010.56 176.973 Q2009.68 177.899 2009.68 180.307 L2009.68 182.598 L2016.69 182.598 L2016.69 185.908 L2009.68 185.908 L2009.68 208.524 L2005.4 208.524 L2005.4 185.908 L2001.32 185.908 L2001.32 182.598 L2005.4 182.598 L2005.4 180.793 Q2005.4 176.464 2007.41 174.496 Q2009.42 172.506 2013.8 172.506 L2017.83 172.506 Z\" fill=\"#000000\" fill-rule=\"evenodd\" fill-opacity=\"1\" /><path clip-path=\"url(#clip350)\" d=\"M 0 0 M2022.29 182.598 L2026.55 182.598 L2026.55 208.524 L2022.29 208.524 L2022.29 182.598 M2022.29 172.506 L2026.55 172.506 L2026.55 177.899 L2022.29 177.899 L2022.29 172.506 Z\" fill=\"#000000\" fill-rule=\"evenodd\" fill-opacity=\"1\" /><path clip-path=\"url(#clip350)\" d=\"M 0 0 M2035.23 175.237 L2035.23 182.598 L2044.01 182.598 L2044.01 185.908 L2035.23 185.908 L2035.23 199.982 Q2035.23 203.154 2036.09 204.057 Q2036.97 204.959 2039.63 204.959 L2044.01 204.959 L2044.01 208.524 L2039.63 208.524 Q2034.7 208.524 2032.83 206.695 Q2030.95 204.844 2030.95 199.982 L2030.95 185.908 L2027.83 185.908 L2027.83 182.598 L2030.95 182.598 L2030.95 175.237 L2035.23 175.237 Z\" fill=\"#000000\" fill-rule=\"evenodd\" fill-opacity=\"1\" /><polyline clip-path=\"url(#clip350)\" style=\"stroke:#e26f46; stroke-width:4; stroke-opacity:1; fill:none\" points=\"\n",
       "  1765.89,251.724 1909.89,251.724 \n",
       "  \"/>\n",
       "<path clip-path=\"url(#clip350)\" d=\"M 0 0 M1933.89 234.444 L1940.86 234.444 L1949.68 257.962 L1958.54 234.444 L1965.51 234.444 L1965.51 269.004 L1960.95 269.004 L1960.95 238.657 L1952.04 262.361 L1947.34 262.361 L1938.43 238.657 L1938.43 269.004 L1933.89 269.004 L1933.89 234.444 Z\" fill=\"#000000\" fill-rule=\"evenodd\" fill-opacity=\"1\" /><path clip-path=\"url(#clip350)\" d=\"M 0 0 M1981.76 255.972 Q1976.6 255.972 1974.61 257.152 Q1972.62 258.333 1972.62 261.18 Q1972.62 263.449 1974.1 264.791 Q1975.6 266.111 1978.17 266.111 Q1981.72 266.111 1983.85 263.611 Q1986 261.087 1986 256.921 L1986 255.972 L1981.76 255.972 M1990.26 254.213 L1990.26 269.004 L1986 269.004 L1986 265.069 Q1984.54 267.43 1982.36 268.564 Q1980.19 269.675 1977.04 269.675 Q1973.06 269.675 1970.7 267.453 Q1968.36 265.208 1968.36 261.458 Q1968.36 257.083 1971.28 254.861 Q1974.22 252.638 1980.03 252.638 L1986 252.638 L1986 252.222 Q1986 249.282 1984.05 247.685 Q1982.13 246.064 1978.64 246.064 Q1976.41 246.064 1974.31 246.597 Q1972.2 247.129 1970.26 248.194 L1970.26 244.259 Q1972.6 243.356 1974.79 242.916 Q1976.99 242.453 1979.08 242.453 Q1984.7 242.453 1987.48 245.37 Q1990.26 248.287 1990.26 254.213 Z\" fill=\"#000000\" fill-rule=\"evenodd\" fill-opacity=\"1\" /><path clip-path=\"url(#clip350)\" d=\"M 0 0 M2009.75 247.06 Q2009.03 246.643 2008.17 246.458 Q2007.34 246.25 2006.32 246.25 Q2002.71 246.25 2000.77 248.611 Q1998.85 250.949 1998.85 255.347 L1998.85 269.004 L1994.56 269.004 L1994.56 243.078 L1998.85 243.078 L1998.85 247.106 Q2000.19 244.745 2002.34 243.611 Q2004.49 242.453 2007.57 242.453 Q2008.01 242.453 2008.54 242.523 Q2009.08 242.569 2009.72 242.685 L2009.75 247.06 Z\" fill=\"#000000\" fill-rule=\"evenodd\" fill-opacity=\"1\" /><path clip-path=\"url(#clip350)\" d=\"M 0 0 M2030.44 255.74 Q2030.44 251.111 2028.52 248.564 Q2026.62 246.018 2023.17 246.018 Q2019.75 246.018 2017.83 248.564 Q2015.93 251.111 2015.93 255.74 Q2015.93 260.347 2017.83 262.893 Q2019.75 265.439 2023.17 265.439 Q2026.62 265.439 2028.52 262.893 Q2030.44 260.347 2030.44 255.74 M2034.7 265.787 Q2034.7 272.407 2031.76 275.624 Q2028.82 278.865 2022.76 278.865 Q2020.51 278.865 2018.52 278.518 Q2016.53 278.194 2014.66 277.499 L2014.66 273.356 Q2016.53 274.374 2018.36 274.861 Q2020.19 275.347 2022.09 275.347 Q2026.28 275.347 2028.36 273.148 Q2030.44 270.972 2030.44 266.55 L2030.44 264.444 Q2029.12 266.736 2027.06 267.87 Q2025 269.004 2022.13 269.004 Q2017.36 269.004 2014.45 265.37 Q2011.53 261.736 2011.53 255.74 Q2011.53 249.722 2014.45 246.088 Q2017.36 242.453 2022.13 242.453 Q2025 242.453 2027.06 243.588 Q2029.12 244.722 2030.44 247.013 L2030.44 243.078 L2034.7 243.078 L2034.7 265.787 Z\" fill=\"#000000\" fill-rule=\"evenodd\" fill-opacity=\"1\" /><path clip-path=\"url(#clip350)\" d=\"M 0 0 M2039.17 243.078 L2043.43 243.078 L2043.43 269.004 L2039.17 269.004 L2039.17 243.078 M2039.17 232.986 L2043.43 232.986 L2043.43 238.379 L2039.17 238.379 L2039.17 232.986 Z\" fill=\"#000000\" fill-rule=\"evenodd\" fill-opacity=\"1\" /><path clip-path=\"url(#clip350)\" d=\"M 0 0 M2069.45 253.356 L2069.45 269.004 L2065.19 269.004 L2065.19 253.495 Q2065.19 249.814 2063.75 247.986 Q2062.32 246.157 2059.45 246.157 Q2056 246.157 2054.01 248.356 Q2052.02 250.555 2052.02 254.351 L2052.02 269.004 L2047.73 269.004 L2047.73 243.078 L2052.02 243.078 L2052.02 247.106 Q2053.54 244.768 2055.6 243.611 Q2057.69 242.453 2060.4 242.453 Q2064.86 242.453 2067.15 245.231 Q2069.45 247.986 2069.45 253.356 Z\" fill=\"#000000\" fill-rule=\"evenodd\" fill-opacity=\"1\" /><path clip-path=\"url(#clip350)\" d=\"M 0 0 M2085.7 255.972 Q2080.53 255.972 2078.54 257.152 Q2076.55 258.333 2076.55 261.18 Q2076.55 263.449 2078.03 264.791 Q2079.54 266.111 2082.11 266.111 Q2085.65 266.111 2087.78 263.611 Q2089.93 261.087 2089.93 256.921 L2089.93 255.972 L2085.7 255.972 M2094.19 254.213 L2094.19 269.004 L2089.93 269.004 L2089.93 265.069 Q2088.47 267.43 2086.3 268.564 Q2084.12 269.675 2080.97 269.675 Q2076.99 269.675 2074.63 267.453 Q2072.29 265.208 2072.29 261.458 Q2072.29 257.083 2075.21 254.861 Q2078.15 252.638 2083.96 252.638 L2089.93 252.638 L2089.93 252.222 Q2089.93 249.282 2087.99 247.685 Q2086.07 246.064 2082.57 246.064 Q2080.35 246.064 2078.24 246.597 Q2076.14 247.129 2074.19 248.194 L2074.19 244.259 Q2076.53 243.356 2078.73 242.916 Q2080.93 242.453 2083.01 242.453 Q2088.64 242.453 2091.41 245.37 Q2094.19 248.287 2094.19 254.213 Z\" fill=\"#000000\" fill-rule=\"evenodd\" fill-opacity=\"1\" /><path clip-path=\"url(#clip350)\" d=\"M 0 0 M2098.66 232.986 L2102.92 232.986 L2102.92 269.004 L2098.66 269.004 L2098.66 232.986 Z\" fill=\"#000000\" fill-rule=\"evenodd\" fill-opacity=\"1\" /><path clip-path=\"url(#clip350)\" d=\"M 0 0 M2127.32 238.287 L2127.32 251.273 L2133.2 251.273 Q2136.46 251.273 2138.24 249.583 Q2140.02 247.893 2140.02 244.768 Q2140.02 241.666 2138.24 239.976 Q2136.46 238.287 2133.2 238.287 L2127.32 238.287 M2122.64 234.444 L2133.2 234.444 Q2139.01 234.444 2141.97 237.083 Q2144.96 239.699 2144.96 244.768 Q2144.96 249.884 2141.97 252.5 Q2139.01 255.115 2133.2 255.115 L2127.32 255.115 L2127.32 269.004 L2122.64 269.004 L2122.64 234.444 Z\" fill=\"#000000\" fill-rule=\"evenodd\" fill-opacity=\"1\" /><path clip-path=\"url(#clip350)\" d=\"M 0 0 M2163.61 247.06 Q2162.9 246.643 2162.04 246.458 Q2161.21 246.25 2160.19 246.25 Q2156.58 246.25 2154.63 248.611 Q2152.71 250.949 2152.71 255.347 L2152.71 269.004 L2148.43 269.004 L2148.43 243.078 L2152.71 243.078 L2152.71 247.106 Q2154.05 244.745 2156.21 243.611 Q2158.36 242.453 2161.44 242.453 Q2161.88 242.453 2162.41 242.523 Q2162.94 242.569 2163.59 242.685 L2163.61 247.06 Z\" fill=\"#000000\" fill-rule=\"evenodd\" fill-opacity=\"1\" /><path clip-path=\"url(#clip350)\" d=\"M 0 0 M2177.08 246.064 Q2173.66 246.064 2171.67 248.75 Q2169.68 251.412 2169.68 256.064 Q2169.68 260.717 2171.65 263.402 Q2173.64 266.064 2177.08 266.064 Q2180.49 266.064 2182.48 263.379 Q2184.47 260.694 2184.47 256.064 Q2184.47 251.458 2182.48 248.773 Q2180.49 246.064 2177.08 246.064 M2177.08 242.453 Q2182.64 242.453 2185.81 246.064 Q2188.98 249.675 2188.98 256.064 Q2188.98 262.43 2185.81 266.064 Q2182.64 269.675 2177.08 269.675 Q2171.51 269.675 2168.33 266.064 Q2165.19 262.43 2165.19 256.064 Q2165.19 249.675 2168.33 246.064 Q2171.51 242.453 2177.08 242.453 Z\" fill=\"#000000\" fill-rule=\"evenodd\" fill-opacity=\"1\" /><path clip-path=\"url(#clip350)\" d=\"M 0 0 M2206.58 232.986 L2206.58 236.527 L2202.5 236.527 Q2200.21 236.527 2199.31 237.453 Q2198.43 238.379 2198.43 240.787 L2198.43 243.078 L2205.44 243.078 L2205.44 246.388 L2198.43 246.388 L2198.43 269.004 L2194.15 269.004 L2194.15 246.388 L2190.07 246.388 L2190.07 243.078 L2194.15 243.078 L2194.15 241.273 Q2194.15 236.944 2196.16 234.976 Q2198.17 232.986 2202.55 232.986 L2206.58 232.986 Z\" fill=\"#000000\" fill-rule=\"evenodd\" fill-opacity=\"1\" /><path clip-path=\"url(#clip350)\" d=\"M 0 0 M2211.04 243.078 L2215.3 243.078 L2215.3 269.004 L2211.04 269.004 L2211.04 243.078 M2211.04 232.986 L2215.3 232.986 L2215.3 238.379 L2211.04 238.379 L2211.04 232.986 Z\" fill=\"#000000\" fill-rule=\"evenodd\" fill-opacity=\"1\" /><path clip-path=\"url(#clip350)\" d=\"M 0 0 M2223.98 235.717 L2223.98 243.078 L2232.76 243.078 L2232.76 246.388 L2223.98 246.388 L2223.98 260.462 Q2223.98 263.634 2224.84 264.537 Q2225.72 265.439 2228.38 265.439 L2232.76 265.439 L2232.76 269.004 L2228.38 269.004 Q2223.45 269.004 2221.58 267.175 Q2219.7 265.324 2219.7 260.462 L2219.7 246.388 L2216.58 246.388 L2216.58 243.078 L2219.7 243.078 L2219.7 235.717 L2223.98 235.717 Z\" fill=\"#000000\" fill-rule=\"evenodd\" fill-opacity=\"1\" /></svg>\n"
      ]
     },
     "execution_count": 7,
     "metadata": {},
     "output_type": "execute_result"
    }
   ],
   "source": [
    "pl = plot(x=1:10, prof, label=\"Profit\" )\n",
    "\n",
    "plot!(pl, x=1:10, mP, label=\"Marginal Profit\" )\n"
   ]
  },
  {
   "cell_type": "markdown",
   "metadata": {},
   "source": [
    "---\n",
    "\n",
    "## (modified) Solow model\n",
    "\n",
    "This model tries to explain long-term productivity, its relation to productivity and the speed of convergence.\n",
    "\n",
    "The setup is the following:\n",
    "\n",
    "- a country accumulates capital $k_t$\n",
    "- population $n_t$ grows at rate $g$ (so that $n_{t+1}=g n_t$\n",
    "- capital and labour are combined to produce $y_t = A F(k_t, n_t)$ where $A>0$ is total factor productivity.\n",
    "- capital depreciates at rate $\\delta \\in ]0,1[$. Its law of motion is $k_{t+1}=(1-\\delta)k_{t}+i_{t}$ where $i_t$ is the amount invested at time $t$\n",
    "- production is either consumed or invested: $y_t = c_t + i_t$\n",
    "\n",
    "We choose a Cobb-Douglas specification with constant returns to scale $F(k_t, n_t) = k_t^{\\alpha} n_t^{1-\\alpha}$.\n",
    "\n",
    "In the Ramsey–Cass–Koopmans  model (also called neoclassical growth model), a representative agent would choose $c_t$ in every period so as to maximize an intertemporal utility like $\\sum_{t \\geq 0} \\beta^t U(c_t)$ where $\\beta \\in [0,1[$ is a time discount and $U(x)=\\frac{x^{1-\\gamma}}{1-\\gamma}$ is the instantaneous felicity.\n",
    "\n",
    "Here we follow the Solow-Swan specification and assume instead there is a fixed fraction $s\\in[0,1[$ of income in every period, which is saved and invested in every period. In other words investment (or savings) is given by:\n",
    "\n",
    "$$i_t = s y_t$$\n",
    "\n",
    "As a result, the dynamic of capital and all other variables will be backward looking and can be simulated easily."
   ]
  },
  {
   "cell_type": "markdown",
   "metadata": {},
   "source": [
    "__Calibrate parameters $\\beta$, $\\delta$ and $g$, that is, propose plausible values for them, from the litterature, or by matching some observable fact.__"
   ]
  },
  {
   "cell_type": "code",
   "execution_count": 8,
   "metadata": {},
   "outputs": [
    {
     "data": {
      "text/plain": [
       "Dict{Char,Float64} with 6 entries:\n",
       "  'β' => 0.9\n",
       "  'A' => 0.5\n",
       "  'g' => 1.02\n",
       "  'δ' => 0.04\n",
       "  's' => 0.3\n",
       "  'α' => 0.7"
      ]
     },
     "execution_count": 8,
     "metadata": {},
     "output_type": "execute_result"
    }
   ],
   "source": [
    "p = Dict('β' => 0.9 , 'δ' => 0.04, 'g' => 1.02, 's' => 0.3, 'α' => 0.7, 'A' => 0.5) #creating dictionary \n"
   ]
  },
  {
   "cell_type": "markdown",
   "metadata": {},
   "source": [
    "__Detrend the equations of the model w.r.t. population growth. Denote the detrended variables with a hat (in the code we assume all variables are detrended and ignore the hat).__"
   ]
  },
  {
   "cell_type": "markdown",
   "metadata": {},
   "source": [
    "We can detrend all equations w.r.t. populatulation growth through dividing by $n_t$ we thereby have a model with the following specifications: \n",
    "\n",
    "- a country accumulates capital per unit of labour as $\\hat{k_t} = \\frac{k_t}{n_t}$\n",
    "- capital per unit of labour is used to produce output per unit of labour as  $\\hat{y_t} = \\frac{y_t}{n_t} = A F(\\frac{k_t}{n_t}, 1) = A \\frac{k_t}{n_t}^\\alpha = \\hat{k}^\\alpha$ where $A>0$ is total factor productivity and the CD specification is used.\n",
    "- capital per unit of labour depreciates at rate $\\delta \\in ]0,1[$. Its law of motion is $\\hat{k_{t+1}}=\\frac{k_{t+1} }{n_{t+1} } = \\frac{k_{t+1} }{g n_{t} } = \\frac{(1-\\delta)k_{t}+i_{t}}{g*n_t} = \\frac{(1-\\delta)}{g}\\hat{k_t}+\\frac{1}{g}\\hat{i_t}$ where $\\hat{i_t}$ is the amount per unit labour invested at time $t$ \n",
    "- production  per unit labour is either consumed or invested: $\\hat{y_t} = \\hat{c_t} + \\hat{i_t}$\n",
    "\n",
    "Note that in ther detrended version we have\n",
    "\n",
    "$$\\hat{i_t} = s \\hat{y_t}$$\n"
   ]
  },
  {
   "cell_type": "markdown",
   "metadata": {},
   "source": [
    "Our goal is to compute the steady-state and assess its stability.\n",
    "\n",
    "__Compute a function `f` which returns the capital $\\hat{k}_{t+1}$ as a function of $\\hat{k_t}$. It is suggested to define `f(k::Float64, p::Dict{Symbol, Float64})` where `p` is a dictionary of parameters.__"
   ]
  },
  {
   "cell_type": "markdown",
   "metadata": {},
   "source": [
    " (note: such a dictionary can be defined as `p = Dict(:a=>0.9, :b=>4)` and accessed with brackets `p[:a]` or `p[:b]`) (note2: symbols like `:a` or `:b` are lightweight string. The content must be a valid julia identifier so that it is valid to write `a=p[:a]`)"
   ]
  },
  {
   "cell_type": "code",
   "execution_count": 9,
   "metadata": {},
   "outputs": [
    {
     "data": {
      "text/plain": [
       "f (generic function with 1 method)"
      ]
     },
     "execution_count": 9,
     "metadata": {},
     "output_type": "execute_result"
    }
   ],
   "source": [
    "function f(k::Float64, p::Dict{Char, Float64})\n",
    "    α = p['α']\n",
    "    δ  = p['δ']\n",
    "    s = p['s']\n",
    "    A = p['A']\n",
    "    g = p['g']\n",
    "    return (1-δ)*k/g+A/g*s*k^α\n",
    "    end  #fix dictionary implimentation to more userfriendly version   "
   ]
  },
  {
   "cell_type": "markdown",
   "metadata": {},
   "source": [
    "__Starting from an initial level $\\hat{k}_0$ compute successive iterates of `f` to find the long-run level $\\overline{k}$ of capital per capita. (Bonus: produce a nice plot of the convergence)__"
   ]
  },
  {
   "cell_type": "code",
   "execution_count": 10,
   "metadata": {},
   "outputs": [
    {
     "data": {
      "text/plain": [
       "([20.0, 20.020854504520308, 20.041356073605506, 20.06151041410673, 20.081323150079754, 20.10079982363635, 20.119945895801116, 20.13876674737292, 20.157267679790305, 20.17545391600011  …  21.199824591980697, 21.19994039774541, 21.200054160317897, 21.200165915739134, 21.200275699414618, 21.200383546125565, 21.20048949003991, 21.200593564723096, 21.200695803148704, 21.200796237708886], [0.020854504520308126, 0.020501569085197957, 0.02015434050122522, 0.01981273597302291, 0.019476673556596324, 0.019146072164765826, 0.018820851571803132, 0.018500932417385485, 0.018186236209803752, 0.017876685328548803  …  0.0001158057647145938, 0.00011376257248585375, 0.00011175542123709192, 0.00010978367548375445, 0.00010784671094654641, 0.00010594391434537442, 0.00010407468318618385, 0.00010223842560819207, 0.00010043456018138386, 9.866251570400664e-5])"
      ]
     },
     "execution_count": 10,
     "metadata": {},
     "output_type": "execute_result"
    }
   ],
   "source": [
    "function simulate(f, p::Dict{Char, Float64}, N =1000, k0 = 20.0) \n",
    "    k =  Array{Float64,1}(undef, N) \n",
    "    k[1] = k0\n",
    "    dif = Array{Float64,1}(undef, N) \n",
    "    ϵ = 0.0001\n",
    "    j = 0\n",
    "    for i in 1:(N-1)\n",
    "        j = i\n",
    "        k[i+1] = f(k[i], p)\n",
    "        dif[i] = abs(k[i+1]-k[i])\n",
    "        if dif[i] < ϵ\n",
    "            break \n",
    "        end \n",
    "        end \n",
    "    return (k[1:j],dif[1:j])\n",
    "end \n",
    "\n",
    "\n",
    "k,dif = simulate(f, p)\n"
   ]
  },
  {
   "cell_type": "code",
   "execution_count": 11,
   "metadata": {},
   "outputs": [
    {
     "data": {
      "image/svg+xml": [
       "<?xml version=\"1.0\" encoding=\"utf-8\"?>\n",
       "<svg xmlns=\"http://www.w3.org/2000/svg\" xmlns:xlink=\"http://www.w3.org/1999/xlink\" width=\"600\" height=\"400\" viewBox=\"0 0 2400 1600\">\n",
       "<defs>\n",
       "  <clipPath id=\"clip390\">\n",
       "    <rect x=\"0\" y=\"0\" width=\"2400\" height=\"1600\"/>\n",
       "  </clipPath>\n",
       "</defs>\n",
       "<path clip-path=\"url(#clip390)\" d=\"\n",
       "M0 1600 L2400 1600 L2400 0 L0 0  Z\n",
       "  \" fill=\"#ffffff\" fill-rule=\"evenodd\" fill-opacity=\"1\"/>\n",
       "<defs>\n",
       "  <clipPath id=\"clip391\">\n",
       "    <rect x=\"480\" y=\"0\" width=\"1681\" height=\"1600\"/>\n",
       "  </clipPath>\n",
       "</defs>\n",
       "<path clip-path=\"url(#clip390)\" d=\"\n",
       "M201.876 1486.45 L2352.76 1486.45 L2352.76 47.2441 L201.876 47.2441  Z\n",
       "  \" fill=\"#ffffff\" fill-rule=\"evenodd\" fill-opacity=\"1\"/>\n",
       "<defs>\n",
       "  <clipPath id=\"clip392\">\n",
       "    <rect x=\"201\" y=\"47\" width=\"2152\" height=\"1440\"/>\n",
       "  </clipPath>\n",
       "</defs>\n",
       "<polyline clip-path=\"url(#clip392)\" style=\"stroke:#000000; stroke-width:2; stroke-opacity:0.1; fill:none\" points=\"\n",
       "  256.053,1486.45 256.053,47.2441 \n",
       "  \"/>\n",
       "<polyline clip-path=\"url(#clip392)\" style=\"stroke:#000000; stroke-width:2; stroke-opacity:0.1; fill:none\" points=\"\n",
       "  925.734,1486.45 925.734,47.2441 \n",
       "  \"/>\n",
       "<polyline clip-path=\"url(#clip392)\" style=\"stroke:#000000; stroke-width:2; stroke-opacity:0.1; fill:none\" points=\"\n",
       "  1595.41,1486.45 1595.41,47.2441 \n",
       "  \"/>\n",
       "<polyline clip-path=\"url(#clip392)\" style=\"stroke:#000000; stroke-width:2; stroke-opacity:0.1; fill:none\" points=\"\n",
       "  2265.09,1486.45 2265.09,47.2441 \n",
       "  \"/>\n",
       "<polyline clip-path=\"url(#clip392)\" style=\"stroke:#000000; stroke-width:2; stroke-opacity:0.1; fill:none\" points=\"\n",
       "  201.876,1452.17 2352.76,1452.17 \n",
       "  \"/>\n",
       "<polyline clip-path=\"url(#clip392)\" style=\"stroke:#000000; stroke-width:2; stroke-opacity:0.1; fill:none\" points=\"\n",
       "  201.876,1125.1 2352.76,1125.1 \n",
       "  \"/>\n",
       "<polyline clip-path=\"url(#clip392)\" style=\"stroke:#000000; stroke-width:2; stroke-opacity:0.1; fill:none\" points=\"\n",
       "  201.876,798.022 2352.76,798.022 \n",
       "  \"/>\n",
       "<polyline clip-path=\"url(#clip392)\" style=\"stroke:#000000; stroke-width:2; stroke-opacity:0.1; fill:none\" points=\"\n",
       "  201.876,470.948 2352.76,470.948 \n",
       "  \"/>\n",
       "<polyline clip-path=\"url(#clip392)\" style=\"stroke:#000000; stroke-width:2; stroke-opacity:0.1; fill:none\" points=\"\n",
       "  201.876,143.874 2352.76,143.874 \n",
       "  \"/>\n",
       "<polyline clip-path=\"url(#clip390)\" style=\"stroke:#000000; stroke-width:4; stroke-opacity:1; fill:none\" points=\"\n",
       "  201.876,1486.45 2352.76,1486.45 \n",
       "  \"/>\n",
       "<polyline clip-path=\"url(#clip390)\" style=\"stroke:#000000; stroke-width:4; stroke-opacity:1; fill:none\" points=\"\n",
       "  201.876,1486.45 201.876,47.2441 \n",
       "  \"/>\n",
       "<polyline clip-path=\"url(#clip390)\" style=\"stroke:#000000; stroke-width:4; stroke-opacity:1; fill:none\" points=\"\n",
       "  256.053,1486.45 256.053,1469.18 \n",
       "  \"/>\n",
       "<polyline clip-path=\"url(#clip390)\" style=\"stroke:#000000; stroke-width:4; stroke-opacity:1; fill:none\" points=\"\n",
       "  925.734,1486.45 925.734,1469.18 \n",
       "  \"/>\n",
       "<polyline clip-path=\"url(#clip390)\" style=\"stroke:#000000; stroke-width:4; stroke-opacity:1; fill:none\" points=\"\n",
       "  1595.41,1486.45 1595.41,1469.18 \n",
       "  \"/>\n",
       "<polyline clip-path=\"url(#clip390)\" style=\"stroke:#000000; stroke-width:4; stroke-opacity:1; fill:none\" points=\"\n",
       "  2265.09,1486.45 2265.09,1469.18 \n",
       "  \"/>\n",
       "<polyline clip-path=\"url(#clip390)\" style=\"stroke:#000000; stroke-width:4; stroke-opacity:1; fill:none\" points=\"\n",
       "  201.876,1452.17 227.686,1452.17 \n",
       "  \"/>\n",
       "<polyline clip-path=\"url(#clip390)\" style=\"stroke:#000000; stroke-width:4; stroke-opacity:1; fill:none\" points=\"\n",
       "  201.876,1125.1 227.686,1125.1 \n",
       "  \"/>\n",
       "<polyline clip-path=\"url(#clip390)\" style=\"stroke:#000000; stroke-width:4; stroke-opacity:1; fill:none\" points=\"\n",
       "  201.876,798.022 227.686,798.022 \n",
       "  \"/>\n",
       "<polyline clip-path=\"url(#clip390)\" style=\"stroke:#000000; stroke-width:4; stroke-opacity:1; fill:none\" points=\"\n",
       "  201.876,470.948 227.686,470.948 \n",
       "  \"/>\n",
       "<polyline clip-path=\"url(#clip390)\" style=\"stroke:#000000; stroke-width:4; stroke-opacity:1; fill:none\" points=\"\n",
       "  201.876,143.874 227.686,143.874 \n",
       "  \"/>\n",
       "<path clip-path=\"url(#clip390)\" d=\"M 0 0 M256.053 1508.44 Q252.442 1508.44 250.613 1512 Q248.808 1515.55 248.808 1522.67 Q248.808 1529.78 250.613 1533.35 Q252.442 1536.89 256.053 1536.89 Q259.687 1536.89 261.493 1533.35 Q263.321 1529.78 263.321 1522.67 Q263.321 1515.55 261.493 1512 Q259.687 1508.44 256.053 1508.44 M256.053 1504.73 Q261.863 1504.73 264.919 1509.34 Q267.997 1513.92 267.997 1522.67 Q267.997 1531.4 264.919 1536.01 Q261.863 1540.59 256.053 1540.59 Q250.243 1540.59 247.164 1536.01 Q244.109 1531.4 244.109 1522.67 Q244.109 1513.92 247.164 1509.34 Q250.243 1504.73 256.053 1504.73 Z\" fill=\"#000000\" fill-rule=\"evenodd\" fill-opacity=\"1\" /><path clip-path=\"url(#clip390)\" d=\"M 0 0 M889.102 1535.98 L896.741 1535.98 L896.741 1509.62 L888.43 1511.29 L888.43 1507.03 L896.694 1505.36 L901.37 1505.36 L901.37 1535.98 L909.009 1535.98 L909.009 1539.92 L889.102 1539.92 L889.102 1535.98 Z\" fill=\"#000000\" fill-rule=\"evenodd\" fill-opacity=\"1\" /><path clip-path=\"url(#clip390)\" d=\"M 0 0 M924.078 1508.44 Q920.467 1508.44 918.639 1512 Q916.833 1515.55 916.833 1522.67 Q916.833 1529.78 918.639 1533.35 Q920.467 1536.89 924.078 1536.89 Q927.713 1536.89 929.518 1533.35 Q931.347 1529.78 931.347 1522.67 Q931.347 1515.55 929.518 1512 Q927.713 1508.44 924.078 1508.44 M924.078 1504.73 Q929.889 1504.73 932.944 1509.34 Q936.023 1513.92 936.023 1522.67 Q936.023 1531.4 932.944 1536.01 Q929.889 1540.59 924.078 1540.59 Q918.268 1540.59 915.19 1536.01 Q912.134 1531.4 912.134 1522.67 Q912.134 1513.92 915.19 1509.34 Q918.268 1504.73 924.078 1504.73 Z\" fill=\"#000000\" fill-rule=\"evenodd\" fill-opacity=\"1\" /><path clip-path=\"url(#clip390)\" d=\"M 0 0 M951.092 1508.44 Q947.481 1508.44 945.652 1512 Q943.847 1515.55 943.847 1522.67 Q943.847 1529.78 945.652 1533.35 Q947.481 1536.89 951.092 1536.89 Q954.726 1536.89 956.532 1533.35 Q958.361 1529.78 958.361 1522.67 Q958.361 1515.55 956.532 1512 Q954.726 1508.44 951.092 1508.44 M951.092 1504.73 Q956.902 1504.73 959.958 1509.34 Q963.037 1513.92 963.037 1522.67 Q963.037 1531.4 959.958 1536.01 Q956.902 1540.59 951.092 1540.59 Q945.282 1540.59 942.203 1536.01 Q939.148 1531.4 939.148 1522.67 Q939.148 1513.92 942.203 1509.34 Q945.282 1504.73 951.092 1504.73 Z\" fill=\"#000000\" fill-rule=\"evenodd\" fill-opacity=\"1\" /><path clip-path=\"url(#clip390)\" d=\"M 0 0 M1563.05 1535.98 L1579.37 1535.98 L1579.37 1539.92 L1557.43 1539.92 L1557.43 1535.98 Q1560.09 1533.23 1564.67 1528.6 Q1569.28 1523.95 1570.46 1522.61 Q1572.71 1520.08 1573.59 1518.35 Q1574.49 1516.59 1574.49 1514.9 Q1574.49 1512.14 1572.54 1510.41 Q1570.62 1508.67 1567.52 1508.67 Q1565.32 1508.67 1562.87 1509.43 Q1560.44 1510.2 1557.66 1511.75 L1557.66 1507.03 Q1560.48 1505.89 1562.94 1505.31 Q1565.39 1504.73 1567.43 1504.73 Q1572.8 1504.73 1575.99 1507.42 Q1579.19 1510.11 1579.19 1514.6 Q1579.19 1516.73 1578.38 1518.65 Q1577.59 1520.54 1575.48 1523.14 Q1574.9 1523.81 1571.8 1527.03 Q1568.7 1530.22 1563.05 1535.98 Z\" fill=\"#000000\" fill-rule=\"evenodd\" fill-opacity=\"1\" /><path clip-path=\"url(#clip390)\" d=\"M 0 0 M1594.44 1508.44 Q1590.83 1508.44 1589 1512 Q1587.2 1515.55 1587.2 1522.67 Q1587.2 1529.78 1589 1533.35 Q1590.83 1536.89 1594.44 1536.89 Q1598.08 1536.89 1599.88 1533.35 Q1601.71 1529.78 1601.71 1522.67 Q1601.71 1515.55 1599.88 1512 Q1598.08 1508.44 1594.44 1508.44 M1594.44 1504.73 Q1600.25 1504.73 1603.31 1509.34 Q1606.39 1513.92 1606.39 1522.67 Q1606.39 1531.4 1603.31 1536.01 Q1600.25 1540.59 1594.44 1540.59 Q1588.63 1540.59 1585.55 1536.01 Q1582.5 1531.4 1582.5 1522.67 Q1582.5 1513.92 1585.55 1509.34 Q1588.63 1504.73 1594.44 1504.73 Z\" fill=\"#000000\" fill-rule=\"evenodd\" fill-opacity=\"1\" /><path clip-path=\"url(#clip390)\" d=\"M 0 0 M1621.46 1508.44 Q1617.84 1508.44 1616.02 1512 Q1614.21 1515.55 1614.21 1522.67 Q1614.21 1529.78 1616.02 1533.35 Q1617.84 1536.89 1621.46 1536.89 Q1625.09 1536.89 1626.9 1533.35 Q1628.72 1529.78 1628.72 1522.67 Q1628.72 1515.55 1626.9 1512 Q1625.09 1508.44 1621.46 1508.44 M1621.46 1504.73 Q1627.27 1504.73 1630.32 1509.34 Q1633.4 1513.92 1633.4 1522.67 Q1633.4 1531.4 1630.32 1536.01 Q1627.27 1540.59 1621.46 1540.59 Q1615.65 1540.59 1612.57 1536.01 Q1609.51 1531.4 1609.51 1522.67 Q1609.51 1513.92 1612.57 1509.34 Q1615.65 1504.73 1621.46 1504.73 Z\" fill=\"#000000\" fill-rule=\"evenodd\" fill-opacity=\"1\" /><path clip-path=\"url(#clip390)\" d=\"M 0 0 M2242.33 1521.29 Q2245.69 1522 2247.56 1524.27 Q2249.46 1526.54 2249.46 1529.87 Q2249.46 1534.99 2245.94 1537.79 Q2242.42 1540.59 2235.94 1540.59 Q2233.76 1540.59 2231.45 1540.15 Q2229.16 1539.73 2226.7 1538.88 L2226.7 1534.36 Q2228.65 1535.5 2230.96 1536.08 Q2233.28 1536.66 2235.8 1536.66 Q2240.2 1536.66 2242.49 1534.92 Q2244.81 1533.18 2244.81 1529.87 Q2244.81 1526.82 2242.65 1525.11 Q2240.52 1523.37 2236.7 1523.37 L2232.68 1523.37 L2232.68 1519.53 L2236.89 1519.53 Q2240.34 1519.53 2242.17 1518.16 Q2244 1516.77 2244 1514.18 Q2244 1511.52 2242.1 1510.11 Q2240.22 1508.67 2236.7 1508.67 Q2234.78 1508.67 2232.58 1509.09 Q2230.38 1509.5 2227.75 1510.38 L2227.75 1506.22 Q2230.41 1505.48 2232.72 1505.11 Q2235.06 1504.73 2237.12 1504.73 Q2242.44 1504.73 2245.55 1507.17 Q2248.65 1509.57 2248.65 1513.69 Q2248.65 1516.56 2247 1518.55 Q2245.36 1520.52 2242.33 1521.29 Z\" fill=\"#000000\" fill-rule=\"evenodd\" fill-opacity=\"1\" /><path clip-path=\"url(#clip390)\" d=\"M 0 0 M2264.53 1508.44 Q2260.92 1508.44 2259.09 1512 Q2257.28 1515.55 2257.28 1522.67 Q2257.28 1529.78 2259.09 1533.35 Q2260.92 1536.89 2264.53 1536.89 Q2268.16 1536.89 2269.97 1533.35 Q2271.8 1529.78 2271.8 1522.67 Q2271.8 1515.55 2269.97 1512 Q2268.16 1508.44 2264.53 1508.44 M2264.53 1504.73 Q2270.34 1504.73 2273.39 1509.34 Q2276.47 1513.92 2276.47 1522.67 Q2276.47 1531.4 2273.39 1536.01 Q2270.34 1540.59 2264.53 1540.59 Q2258.72 1540.59 2255.64 1536.01 Q2252.58 1531.4 2252.58 1522.67 Q2252.58 1513.92 2255.64 1509.34 Q2258.72 1504.73 2264.53 1504.73 Z\" fill=\"#000000\" fill-rule=\"evenodd\" fill-opacity=\"1\" /><path clip-path=\"url(#clip390)\" d=\"M 0 0 M2291.54 1508.44 Q2287.93 1508.44 2286.1 1512 Q2284.3 1515.55 2284.3 1522.67 Q2284.3 1529.78 2286.1 1533.35 Q2287.93 1536.89 2291.54 1536.89 Q2295.18 1536.89 2296.98 1533.35 Q2298.81 1529.78 2298.81 1522.67 Q2298.81 1515.55 2296.98 1512 Q2295.18 1508.44 2291.54 1508.44 M2291.54 1504.73 Q2297.35 1504.73 2300.41 1509.34 Q2303.49 1513.92 2303.49 1522.67 Q2303.49 1531.4 2300.41 1536.01 Q2297.35 1540.59 2291.54 1540.59 Q2285.73 1540.59 2282.65 1536.01 Q2279.6 1531.4 2279.6 1522.67 Q2279.6 1513.92 2282.65 1509.34 Q2285.73 1504.73 2291.54 1504.73 Z\" fill=\"#000000\" fill-rule=\"evenodd\" fill-opacity=\"1\" /><path clip-path=\"url(#clip390)\" d=\"M 0 0 M74.9365 1437.97 Q71.3254 1437.97 69.4967 1441.53 Q67.6912 1445.07 67.6912 1452.2 Q67.6912 1459.31 69.4967 1462.88 Q71.3254 1466.42 74.9365 1466.42 Q78.5707 1466.42 80.3763 1462.88 Q82.205 1459.31 82.205 1452.2 Q82.205 1445.07 80.3763 1441.53 Q78.5707 1437.97 74.9365 1437.97 M74.9365 1434.26 Q80.7467 1434.26 83.8022 1438.87 Q86.8809 1443.45 86.8809 1452.2 Q86.8809 1460.93 83.8022 1465.54 Q80.7467 1470.12 74.9365 1470.12 Q69.1264 1470.12 66.0477 1465.54 Q62.9921 1460.93 62.9921 1452.2 Q62.9921 1443.45 66.0477 1438.87 Q69.1264 1434.26 74.9365 1434.26 Z\" fill=\"#000000\" fill-rule=\"evenodd\" fill-opacity=\"1\" /><path clip-path=\"url(#clip390)\" d=\"M 0 0 M91.9503 1463.57 L96.8345 1463.57 L96.8345 1469.45 L91.9503 1469.45 L91.9503 1463.57 Z\" fill=\"#000000\" fill-rule=\"evenodd\" fill-opacity=\"1\" /><path clip-path=\"url(#clip390)\" d=\"M 0 0 M111.904 1437.97 Q108.293 1437.97 106.464 1441.53 Q104.659 1445.07 104.659 1452.2 Q104.659 1459.31 106.464 1462.88 Q108.293 1466.42 111.904 1466.42 Q115.538 1466.42 117.344 1462.88 Q119.172 1459.31 119.172 1452.2 Q119.172 1445.07 117.344 1441.53 Q115.538 1437.97 111.904 1437.97 M111.904 1434.26 Q117.714 1434.26 120.77 1438.87 Q123.848 1443.45 123.848 1452.2 Q123.848 1460.93 120.77 1465.54 Q117.714 1470.12 111.904 1470.12 Q106.094 1470.12 103.015 1465.54 Q99.9595 1460.93 99.9595 1452.2 Q99.9595 1443.45 103.015 1438.87 Q106.094 1434.26 111.904 1434.26 Z\" fill=\"#000000\" fill-rule=\"evenodd\" fill-opacity=\"1\" /><path clip-path=\"url(#clip390)\" d=\"M 0 0 M138.918 1437.97 Q135.307 1437.97 133.478 1441.53 Q131.672 1445.07 131.672 1452.2 Q131.672 1459.31 133.478 1462.88 Q135.307 1466.42 138.918 1466.42 Q142.552 1466.42 144.357 1462.88 Q146.186 1459.31 146.186 1452.2 Q146.186 1445.07 144.357 1441.53 Q142.552 1437.97 138.918 1437.97 M138.918 1434.26 Q144.728 1434.26 147.783 1438.87 Q150.862 1443.45 150.862 1452.2 Q150.862 1460.93 147.783 1465.54 Q144.728 1470.12 138.918 1470.12 Q133.107 1470.12 130.029 1465.54 Q126.973 1460.93 126.973 1452.2 Q126.973 1443.45 130.029 1438.87 Q133.107 1434.26 138.918 1434.26 Z\" fill=\"#000000\" fill-rule=\"evenodd\" fill-opacity=\"1\" /><path clip-path=\"url(#clip390)\" d=\"M 0 0 M165.931 1437.97 Q162.32 1437.97 160.492 1441.53 Q158.686 1445.07 158.686 1452.2 Q158.686 1459.31 160.492 1462.88 Q162.32 1466.42 165.931 1466.42 Q169.566 1466.42 171.371 1462.88 Q173.2 1459.31 173.2 1452.2 Q173.2 1445.07 171.371 1441.53 Q169.566 1437.97 165.931 1437.97 M165.931 1434.26 Q171.742 1434.26 174.797 1438.87 Q177.876 1443.45 177.876 1452.2 Q177.876 1460.93 174.797 1465.54 Q171.742 1470.12 165.931 1470.12 Q160.121 1470.12 157.043 1465.54 Q153.987 1460.93 153.987 1452.2 Q153.987 1443.45 157.043 1438.87 Q160.121 1434.26 165.931 1434.26 Z\" fill=\"#000000\" fill-rule=\"evenodd\" fill-opacity=\"1\" /><path clip-path=\"url(#clip390)\" d=\"M 0 0 M75.9319 1110.89 Q72.3208 1110.89 70.4921 1114.46 Q68.6865 1118 68.6865 1125.13 Q68.6865 1132.24 70.4921 1135.8 Q72.3208 1139.34 75.9319 1139.34 Q79.5661 1139.34 81.3717 1135.8 Q83.2004 1132.24 83.2004 1125.13 Q83.2004 1118 81.3717 1114.46 Q79.5661 1110.89 75.9319 1110.89 M75.9319 1107.19 Q81.742 1107.19 84.7976 1111.8 Q87.8763 1116.38 87.8763 1125.13 Q87.8763 1133.86 84.7976 1138.46 Q81.742 1143.05 75.9319 1143.05 Q70.1217 1143.05 67.043 1138.46 Q63.9875 1133.86 63.9875 1125.13 Q63.9875 1116.38 67.043 1111.8 Q70.1217 1107.19 75.9319 1107.19 Z\" fill=\"#000000\" fill-rule=\"evenodd\" fill-opacity=\"1\" /><path clip-path=\"url(#clip390)\" d=\"M 0 0 M92.9457 1136.5 L97.8299 1136.5 L97.8299 1142.38 L92.9457 1142.38 L92.9457 1136.5 Z\" fill=\"#000000\" fill-rule=\"evenodd\" fill-opacity=\"1\" /><path clip-path=\"url(#clip390)\" d=\"M 0 0 M112.899 1110.89 Q109.288 1110.89 107.459 1114.46 Q105.654 1118 105.654 1125.13 Q105.654 1132.24 107.459 1135.8 Q109.288 1139.34 112.899 1139.34 Q116.534 1139.34 118.339 1135.8 Q120.168 1132.24 120.168 1125.13 Q120.168 1118 118.339 1114.46 Q116.534 1110.89 112.899 1110.89 M112.899 1107.19 Q118.709 1107.19 121.765 1111.8 Q124.844 1116.38 124.844 1125.13 Q124.844 1133.86 121.765 1138.46 Q118.709 1143.05 112.899 1143.05 Q107.089 1143.05 104.01 1138.46 Q100.955 1133.86 100.955 1125.13 Q100.955 1116.38 104.01 1111.8 Q107.089 1107.19 112.899 1107.19 Z\" fill=\"#000000\" fill-rule=\"evenodd\" fill-opacity=\"1\" /><path clip-path=\"url(#clip390)\" d=\"M 0 0 M139.913 1110.89 Q136.302 1110.89 134.473 1114.46 Q132.668 1118 132.668 1125.13 Q132.668 1132.24 134.473 1135.8 Q136.302 1139.34 139.913 1139.34 Q143.547 1139.34 145.353 1135.8 Q147.181 1132.24 147.181 1125.13 Q147.181 1118 145.353 1114.46 Q143.547 1110.89 139.913 1110.89 M139.913 1107.19 Q145.723 1107.19 148.779 1111.8 Q151.857 1116.38 151.857 1125.13 Q151.857 1133.86 148.779 1138.46 Q145.723 1143.05 139.913 1143.05 Q134.103 1143.05 131.024 1138.46 Q127.969 1133.86 127.969 1125.13 Q127.969 1116.38 131.024 1111.8 Q134.103 1107.19 139.913 1107.19 Z\" fill=\"#000000\" fill-rule=\"evenodd\" fill-opacity=\"1\" /><path clip-path=\"url(#clip390)\" d=\"M 0 0 M156.973 1107.82 L175.329 1107.82 L175.329 1111.75 L161.255 1111.75 L161.255 1120.22 Q162.274 1119.88 163.293 1119.71 Q164.311 1119.53 165.33 1119.53 Q171.117 1119.53 174.496 1122.7 Q177.876 1125.87 177.876 1131.29 Q177.876 1136.87 174.404 1139.97 Q170.931 1143.05 164.612 1143.05 Q162.436 1143.05 160.168 1142.68 Q157.922 1142.31 155.515 1141.57 L155.515 1136.87 Q157.598 1138 159.82 1138.56 Q162.043 1139.11 164.519 1139.11 Q168.524 1139.11 170.862 1137.01 Q173.2 1134.9 173.2 1131.29 Q173.2 1127.68 170.862 1125.57 Q168.524 1123.46 164.519 1123.46 Q162.644 1123.46 160.769 1123.88 Q158.918 1124.3 156.973 1125.18 L156.973 1107.82 Z\" fill=\"#000000\" fill-rule=\"evenodd\" fill-opacity=\"1\" /><path clip-path=\"url(#clip390)\" d=\"M 0 0 M76.1634 783.82 Q72.5523 783.82 70.7236 787.385 Q68.918 790.927 68.918 798.056 Q68.918 805.163 70.7236 808.728 Q72.5523 812.269 76.1634 812.269 Q79.7976 812.269 81.6031 808.728 Q83.4318 805.163 83.4318 798.056 Q83.4318 790.927 81.6031 787.385 Q79.7976 783.82 76.1634 783.82 M76.1634 780.117 Q81.9735 780.117 85.029 784.723 Q88.1077 789.306 88.1077 798.056 Q88.1077 806.783 85.029 811.39 Q81.9735 815.973 76.1634 815.973 Q70.3532 815.973 67.2745 811.39 Q64.219 806.783 64.219 798.056 Q64.219 789.306 67.2745 784.723 Q70.3532 780.117 76.1634 780.117 Z\" fill=\"#000000\" fill-rule=\"evenodd\" fill-opacity=\"1\" /><path clip-path=\"url(#clip390)\" d=\"M 0 0 M93.1771 809.422 L98.0614 809.422 L98.0614 815.302 L93.1771 815.302 L93.1771 809.422 Z\" fill=\"#000000\" fill-rule=\"evenodd\" fill-opacity=\"1\" /><path clip-path=\"url(#clip390)\" d=\"M 0 0 M113.131 783.82 Q109.52 783.82 107.691 787.385 Q105.885 790.927 105.885 798.056 Q105.885 805.163 107.691 808.728 Q109.52 812.269 113.131 812.269 Q116.765 812.269 118.571 808.728 Q120.399 805.163 120.399 798.056 Q120.399 790.927 118.571 787.385 Q116.765 783.82 113.131 783.82 M113.131 780.117 Q118.941 780.117 121.996 784.723 Q125.075 789.306 125.075 798.056 Q125.075 806.783 121.996 811.39 Q118.941 815.973 113.131 815.973 Q107.321 815.973 104.242 811.39 Q101.186 806.783 101.186 798.056 Q101.186 789.306 104.242 784.723 Q107.321 780.117 113.131 780.117 Z\" fill=\"#000000\" fill-rule=\"evenodd\" fill-opacity=\"1\" /><path clip-path=\"url(#clip390)\" d=\"M 0 0 M130.955 811.366 L138.594 811.366 L138.594 785.001 L130.283 786.667 L130.283 782.408 L138.547 780.742 L143.223 780.742 L143.223 811.366 L150.862 811.366 L150.862 815.302 L130.955 815.302 L130.955 811.366 Z\" fill=\"#000000\" fill-rule=\"evenodd\" fill-opacity=\"1\" /><path clip-path=\"url(#clip390)\" d=\"M 0 0 M165.931 783.82 Q162.32 783.82 160.492 787.385 Q158.686 790.927 158.686 798.056 Q158.686 805.163 160.492 808.728 Q162.32 812.269 165.931 812.269 Q169.566 812.269 171.371 808.728 Q173.2 805.163 173.2 798.056 Q173.2 790.927 171.371 787.385 Q169.566 783.82 165.931 783.82 M165.931 780.117 Q171.742 780.117 174.797 784.723 Q177.876 789.306 177.876 798.056 Q177.876 806.783 174.797 811.39 Q171.742 815.973 165.931 815.973 Q160.121 815.973 157.043 811.39 Q153.987 806.783 153.987 798.056 Q153.987 789.306 157.043 784.723 Q160.121 780.117 165.931 780.117 Z\" fill=\"#000000\" fill-rule=\"evenodd\" fill-opacity=\"1\" /><path clip-path=\"url(#clip390)\" d=\"M 0 0 M77.1587 456.746 Q73.5476 456.746 71.7189 460.311 Q69.9134 463.853 69.9134 470.982 Q69.9134 478.089 71.7189 481.654 Q73.5476 485.195 77.1587 485.195 Q80.793 485.195 82.5985 481.654 Q84.4272 478.089 84.4272 470.982 Q84.4272 463.853 82.5985 460.311 Q80.793 456.746 77.1587 456.746 M77.1587 453.043 Q82.9689 453.043 86.0244 457.649 Q89.1031 462.232 89.1031 470.982 Q89.1031 479.709 86.0244 484.316 Q82.9689 488.899 77.1587 488.899 Q71.3486 488.899 68.2699 484.316 Q65.2143 479.709 65.2143 470.982 Q65.2143 462.232 68.2699 457.649 Q71.3486 453.043 77.1587 453.043 Z\" fill=\"#000000\" fill-rule=\"evenodd\" fill-opacity=\"1\" /><path clip-path=\"url(#clip390)\" d=\"M 0 0 M94.1725 482.348 L99.0567 482.348 L99.0567 488.228 L94.1725 488.228 L94.1725 482.348 Z\" fill=\"#000000\" fill-rule=\"evenodd\" fill-opacity=\"1\" /><path clip-path=\"url(#clip390)\" d=\"M 0 0 M114.126 456.746 Q110.515 456.746 108.686 460.311 Q106.881 463.853 106.881 470.982 Q106.881 478.089 108.686 481.654 Q110.515 485.195 114.126 485.195 Q117.76 485.195 119.566 481.654 Q121.395 478.089 121.395 470.982 Q121.395 463.853 119.566 460.311 Q117.76 456.746 114.126 456.746 M114.126 453.043 Q119.936 453.043 122.992 457.649 Q126.07 462.232 126.07 470.982 Q126.07 479.709 122.992 484.316 Q119.936 488.899 114.126 488.899 Q108.316 488.899 105.237 484.316 Q102.182 479.709 102.182 470.982 Q102.182 462.232 105.237 457.649 Q108.316 453.043 114.126 453.043 Z\" fill=\"#000000\" fill-rule=\"evenodd\" fill-opacity=\"1\" /><path clip-path=\"url(#clip390)\" d=\"M 0 0 M131.95 484.292 L139.589 484.292 L139.589 457.927 L131.279 459.593 L131.279 455.334 L139.543 453.668 L144.219 453.668 L144.219 484.292 L151.857 484.292 L151.857 488.228 L131.95 488.228 L131.95 484.292 Z\" fill=\"#000000\" fill-rule=\"evenodd\" fill-opacity=\"1\" /><path clip-path=\"url(#clip390)\" d=\"M 0 0 M156.973 453.668 L175.329 453.668 L175.329 457.603 L161.255 457.603 L161.255 466.075 Q162.274 465.728 163.293 465.566 Q164.311 465.38 165.33 465.38 Q171.117 465.38 174.496 468.552 Q177.876 471.723 177.876 477.14 Q177.876 482.718 174.404 485.82 Q170.931 488.899 164.612 488.899 Q162.436 488.899 160.168 488.528 Q157.922 488.158 155.515 487.417 L155.515 482.718 Q157.598 483.853 159.82 484.408 Q162.043 484.964 164.519 484.964 Q168.524 484.964 170.862 482.857 Q173.2 480.751 173.2 477.14 Q173.2 473.529 170.862 471.422 Q168.524 469.316 164.519 469.316 Q162.644 469.316 160.769 469.732 Q158.918 470.149 156.973 471.029 L156.973 453.668 Z\" fill=\"#000000\" fill-rule=\"evenodd\" fill-opacity=\"1\" /><path clip-path=\"url(#clip390)\" d=\"M 0 0 M76.5337 129.672 Q72.9226 129.672 71.0939 133.237 Q69.2884 136.779 69.2884 143.908 Q69.2884 151.015 71.0939 154.579 Q72.9226 158.121 76.5337 158.121 Q80.168 158.121 81.9735 154.579 Q83.8022 151.015 83.8022 143.908 Q83.8022 136.779 81.9735 133.237 Q80.168 129.672 76.5337 129.672 M76.5337 125.969 Q82.3439 125.969 85.3994 130.575 Q88.4781 135.158 88.4781 143.908 Q88.4781 152.635 85.3994 157.242 Q82.3439 161.825 76.5337 161.825 Q70.7236 161.825 67.6449 157.242 Q64.5893 152.635 64.5893 143.908 Q64.5893 135.158 67.6449 130.575 Q70.7236 125.969 76.5337 125.969 Z\" fill=\"#000000\" fill-rule=\"evenodd\" fill-opacity=\"1\" /><path clip-path=\"url(#clip390)\" d=\"M 0 0 M93.5475 155.274 L98.4318 155.274 L98.4318 161.154 L93.5475 161.154 L93.5475 155.274 Z\" fill=\"#000000\" fill-rule=\"evenodd\" fill-opacity=\"1\" /><path clip-path=\"url(#clip390)\" d=\"M 0 0 M113.501 129.672 Q109.89 129.672 108.061 133.237 Q106.256 136.779 106.256 143.908 Q106.256 151.015 108.061 154.579 Q109.89 158.121 113.501 158.121 Q117.135 158.121 118.941 154.579 Q120.77 151.015 120.77 143.908 Q120.77 136.779 118.941 133.237 Q117.135 129.672 113.501 129.672 M113.501 125.969 Q119.311 125.969 122.367 130.575 Q125.445 135.158 125.445 143.908 Q125.445 152.635 122.367 157.242 Q119.311 161.825 113.501 161.825 Q107.691 161.825 104.612 157.242 Q101.557 152.635 101.557 143.908 Q101.557 135.158 104.612 130.575 Q107.691 125.969 113.501 125.969 Z\" fill=\"#000000\" fill-rule=\"evenodd\" fill-opacity=\"1\" /><path clip-path=\"url(#clip390)\" d=\"M 0 0 M134.543 157.218 L150.862 157.218 L150.862 161.154 L128.918 161.154 L128.918 157.218 Q131.58 154.464 136.163 149.834 Q140.769 145.181 141.95 143.839 Q144.195 141.316 145.075 139.58 Q145.978 137.82 145.978 136.131 Q145.978 133.376 144.033 131.64 Q142.112 129.904 139.01 129.904 Q136.811 129.904 134.357 130.668 Q131.927 131.431 129.149 132.982 L129.149 128.26 Q131.973 127.126 134.427 126.547 Q136.881 125.969 138.918 125.969 Q144.288 125.969 147.482 128.654 Q150.677 131.339 150.677 135.83 Q150.677 137.959 149.867 139.88 Q149.08 141.779 146.973 144.371 Q146.394 145.043 143.293 148.26 Q140.191 151.455 134.543 157.218 Z\" fill=\"#000000\" fill-rule=\"evenodd\" fill-opacity=\"1\" /><path clip-path=\"url(#clip390)\" d=\"M 0 0 M165.931 129.672 Q162.32 129.672 160.492 133.237 Q158.686 136.779 158.686 143.908 Q158.686 151.015 160.492 154.579 Q162.32 158.121 165.931 158.121 Q169.566 158.121 171.371 154.579 Q173.2 151.015 173.2 143.908 Q173.2 136.779 171.371 133.237 Q169.566 129.672 165.931 129.672 M165.931 125.969 Q171.742 125.969 174.797 130.575 Q177.876 135.158 177.876 143.908 Q177.876 152.635 174.797 157.242 Q171.742 161.825 165.931 161.825 Q160.121 161.825 157.043 157.242 Q153.987 152.635 153.987 143.908 Q153.987 135.158 157.043 130.575 Q160.121 125.969 165.931 125.969 Z\" fill=\"#000000\" fill-rule=\"evenodd\" fill-opacity=\"1\" /><polyline clip-path=\"url(#clip392)\" style=\"stroke:#009af9; stroke-width:4; stroke-opacity:1; fill:none\" points=\"\n",
       "  262.75,87.9763 269.447,111.063 276.143,133.777 282.84,156.123 289.537,178.107 296.234,199.733 302.931,221.007 309.627,241.935 316.324,262.521 323.021,282.77 \n",
       "  329.718,302.687 336.415,322.278 343.111,341.548 349.808,360.5 356.505,379.141 363.202,397.474 369.899,415.504 376.595,433.237 383.292,450.676 389.989,467.826 \n",
       "  396.686,484.692 403.383,501.277 410.079,517.587 416.776,533.625 423.473,549.396 430.17,564.904 436.867,580.153 443.563,595.147 450.26,609.89 456.957,624.386 \n",
       "  463.654,638.639 470.351,652.653 477.048,666.432 483.744,679.979 490.441,693.297 497.138,706.392 503.835,719.266 510.532,731.922 517.228,744.365 523.925,756.598 \n",
       "  530.622,768.623 537.319,780.446 544.016,792.067 550.712,803.492 557.409,814.723 564.106,825.764 570.803,836.616 577.5,847.285 584.196,857.771 590.893,868.08 \n",
       "  597.59,878.212 604.287,888.172 610.984,897.962 617.68,907.585 624.377,917.044 631.074,926.341 637.771,935.479 644.468,944.46 651.164,953.288 657.861,961.965 \n",
       "  664.558,970.493 671.255,978.875 677.952,987.113 684.649,995.209 691.345,1003.17 698.042,1010.99 704.739,1018.67 711.436,1026.23 718.133,1033.65 724.829,1040.95 \n",
       "  731.526,1048.12 738.223,1055.17 744.92,1062.09 751.617,1068.9 758.313,1075.59 765.01,1082.16 771.707,1088.62 778.404,1094.97 785.101,1101.21 791.797,1107.34 \n",
       "  798.494,1113.36 805.191,1119.29 811.888,1125.1 818.585,1130.82 825.281,1136.44 831.978,1141.96 838.675,1147.39 845.372,1152.72 852.069,1157.96 858.765,1163.11 \n",
       "  865.462,1168.16 872.159,1173.14 878.856,1178.02 885.553,1182.82 892.249,1187.54 898.946,1192.17 905.643,1196.73 912.34,1201.2 919.037,1205.6 925.734,1209.92 \n",
       "  932.43,1214.16 939.127,1218.33 945.824,1222.43 952.521,1226.46 959.218,1230.42 965.914,1234.31 972.611,1238.13 979.308,1241.88 986.005,1245.57 992.702,1249.19 \n",
       "  999.398,1252.76 1006.1,1256.25 1012.79,1259.69 1019.49,1263.07 1026.19,1266.39 1032.88,1269.65 1039.58,1272.85 1046.28,1276 1052.97,1279.1 1059.67,1282.14 \n",
       "  1066.37,1285.12 1073.06,1288.06 1079.76,1290.94 1086.46,1293.77 1093.15,1296.55 1099.85,1299.29 1106.55,1301.97 1113.24,1304.61 1119.94,1307.2 1126.64,1309.75 \n",
       "  1133.33,1312.26 1140.03,1314.71 1146.73,1317.13 1153.42,1319.5 1160.12,1321.84 1166.82,1324.13 1173.52,1326.38 1180.21,1328.59 1186.91,1330.76 1193.61,1332.9 \n",
       "  1200.3,1335 1207,1337.06 1213.7,1339.08 1220.39,1341.07 1227.09,1343.03 1233.79,1344.95 1240.48,1346.83 1247.18,1348.69 1253.88,1350.51 1260.57,1352.3 \n",
       "  1267.27,1354.05 1273.97,1355.78 1280.66,1357.48 1287.36,1359.14 1294.06,1360.78 1300.75,1362.39 1307.45,1363.97 1314.15,1365.52 1320.85,1367.05 1327.54,1368.55 \n",
       "  1334.24,1370.02 1340.94,1371.46 1347.63,1372.89 1354.33,1374.28 1361.03,1375.65 1367.72,1377 1374.42,1378.32 1381.12,1379.62 1387.81,1380.9 1394.51,1382.16 \n",
       "  1401.21,1383.39 1407.9,1384.6 1414.6,1385.79 1421.3,1386.96 1427.99,1388.11 1434.69,1389.24 1441.39,1390.35 1448.08,1391.44 1454.78,1392.51 1461.48,1393.56 \n",
       "  1468.17,1394.59 1474.87,1395.6 1481.57,1396.6 1488.27,1397.58 1494.96,1398.54 1501.66,1399.49 1508.36,1400.41 1515.05,1401.33 1521.75,1402.22 1528.45,1403.1 \n",
       "  1535.14,1403.97 1541.84,1404.82 1548.54,1405.65 1555.23,1406.47 1561.93,1407.28 1568.63,1408.07 1575.32,1408.84 1582.02,1409.61 1588.72,1410.36 1595.41,1411.1 \n",
       "  1602.11,1411.82 1608.81,1412.53 1615.5,1413.23 1622.2,1413.92 1628.9,1414.59 1635.59,1415.25 1642.29,1415.9 1648.99,1416.54 1655.69,1417.17 1662.38,1417.79 \n",
       "  1669.08,1418.39 1675.78,1418.99 1682.47,1419.57 1689.17,1420.15 1695.87,1420.71 1702.56,1421.27 1709.26,1421.81 1715.96,1422.35 1722.65,1422.87 1729.35,1423.39 \n",
       "  1736.05,1423.9 1742.74,1424.4 1749.44,1424.89 1756.14,1425.37 1762.83,1425.84 1769.53,1426.3 1776.23,1426.76 1782.92,1427.21 1789.62,1427.65 1796.32,1428.08 \n",
       "  1803.02,1428.51 1809.71,1428.92 1816.41,1429.33 1823.11,1429.74 1829.8,1430.13 1836.5,1430.52 1843.2,1430.9 1849.89,1431.28 1856.59,1431.65 1863.29,1432.01 \n",
       "  1869.98,1432.36 1876.68,1432.71 1883.38,1433.06 1890.07,1433.39 1896.77,1433.72 1903.47,1434.05 1910.16,1434.37 1916.86,1434.68 1923.56,1434.99 1930.25,1435.29 \n",
       "  1936.95,1435.59 1943.65,1435.88 1950.34,1436.17 1957.04,1436.45 1963.74,1436.73 1970.44,1437 1977.13,1437.27 1983.83,1437.53 1990.53,1437.79 1997.22,1438.05 \n",
       "  2003.92,1438.29 2010.62,1438.54 2017.31,1438.78 2024.01,1439.02 2030.71,1439.25 2037.4,1439.48 2044.1,1439.7 2050.8,1439.92 2057.49,1440.14 2064.19,1440.35 \n",
       "  2070.89,1440.56 2077.58,1440.76 2084.28,1440.96 2090.98,1441.16 2097.67,1441.35 2104.37,1441.55 2111.07,1441.73 2117.76,1441.92 2124.46,1442.1 2131.16,1442.28 \n",
       "  2137.86,1442.45 2144.55,1442.62 2151.25,1442.79 2157.95,1442.96 2164.64,1443.12 2171.34,1443.28 2178.04,1443.43 2184.73,1443.59 2191.43,1443.74 2198.13,1443.89 \n",
       "  2204.82,1444.04 2211.52,1444.18 2218.22,1444.32 2224.91,1444.46 2231.61,1444.59 2238.31,1444.73 2245,1444.86 2251.7,1444.99 2258.4,1445.11 2265.09,1445.24 \n",
       "  2271.79,1445.36 2278.49,1445.48 2285.19,1445.6 2291.88,1445.72 \n",
       "  \"/>\n",
       "<path clip-path=\"url(#clip390)\" d=\"\n",
       "M1776.59 251.724 L2280.76 251.724 L2280.76 130.764 L1776.59 130.764  Z\n",
       "  \" fill=\"#ffffff\" fill-rule=\"evenodd\" fill-opacity=\"1\"/>\n",
       "<polyline clip-path=\"url(#clip390)\" style=\"stroke:#000000; stroke-width:4; stroke-opacity:1; fill:none\" points=\"\n",
       "  1776.59,251.724 2280.76,251.724 2280.76,130.764 1776.59,130.764 1776.59,251.724 \n",
       "  \"/>\n",
       "<polyline clip-path=\"url(#clip390)\" style=\"stroke:#009af9; stroke-width:4; stroke-opacity:1; fill:none\" points=\"\n",
       "  1800.59,191.244 1944.59,191.244 \n",
       "  \"/>\n",
       "<path clip-path=\"url(#clip390)\" d=\"M 0 0 M1968.59 172.506 L1972.87 172.506 L1972.87 193.779 L1985.58 182.598 L1991.02 182.598 L1977.27 194.728 L1991.6 208.524 L1986.04 208.524 L1972.87 195.862 L1972.87 208.524 L1968.59 208.524 L1968.59 172.506 Z\" fill=\"#000000\" fill-rule=\"evenodd\" fill-opacity=\"1\" /><path clip-path=\"url(#clip390)\" d=\"M 0 0 M2015.77 216.394 L2015.77 219.705 L1991.14 219.705 L1991.14 216.394 L2015.77 216.394 Z\" fill=\"#000000\" fill-rule=\"evenodd\" fill-opacity=\"1\" /><path clip-path=\"url(#clip390)\" d=\"M 0 0 M2040 212.922 L2040 216.256 L2038.57 216.256 Q2032.8 216.256 2030.84 214.543 Q2028.89 212.83 2028.89 207.714 L2028.89 202.182 Q2028.89 198.686 2027.64 197.344 Q2026.39 196.001 2023.1 196.001 L2021.69 196.001 L2021.69 192.691 L2023.1 192.691 Q2026.41 192.691 2027.64 191.371 Q2028.89 190.029 2028.89 186.58 L2028.89 181.024 Q2028.89 175.909 2030.84 174.219 Q2032.8 172.506 2038.57 172.506 L2040 172.506 L2040 175.816 L2038.43 175.816 Q2035.16 175.816 2034.17 176.834 Q2033.17 177.853 2033.17 181.117 L2033.17 186.858 Q2033.17 190.492 2032.11 192.135 Q2031.07 193.779 2028.52 194.358 Q2031.09 194.983 2032.13 196.626 Q2033.17 198.27 2033.17 201.881 L2033.17 207.621 Q2033.17 210.885 2034.17 211.904 Q2035.16 212.922 2038.43 212.922 L2040 212.922 Z\" fill=\"#000000\" fill-rule=\"evenodd\" fill-opacity=\"1\" /><path clip-path=\"url(#clip390)\" d=\"M 0 0 M2044.47 182.598 L2048.73 182.598 L2048.73 208.524 L2044.47 208.524 L2044.47 182.598 M2044.47 172.506 L2048.73 172.506 L2048.73 177.899 L2044.47 177.899 L2044.47 172.506 Z\" fill=\"#000000\" fill-rule=\"evenodd\" fill-opacity=\"1\" /><path clip-path=\"url(#clip390)\" d=\"M 0 0 M2070.53 178.802 L2070.53 191.695 L2083.43 191.695 L2083.43 195.631 L2070.53 195.631 L2070.53 208.524 L2066.65 208.524 L2066.65 195.631 L2053.75 195.631 L2053.75 191.695 L2066.65 191.695 L2066.65 178.802 L2070.53 178.802 Z\" fill=\"#000000\" fill-rule=\"evenodd\" fill-opacity=\"1\" /><path clip-path=\"url(#clip390)\" d=\"M 0 0 M2089.31 204.589 L2096.95 204.589 L2096.95 178.223 L2088.64 179.89 L2088.64 175.631 L2096.9 173.964 L2101.58 173.964 L2101.58 204.589 L2109.21 204.589 L2109.21 208.524 L2089.31 208.524 L2089.31 204.589 Z\" fill=\"#000000\" fill-rule=\"evenodd\" fill-opacity=\"1\" /><path clip-path=\"url(#clip390)\" d=\"M 0 0 M2115.14 212.922 L2116.76 212.922 Q2120 212.922 2120.97 211.927 Q2121.97 210.931 2121.97 207.621 L2121.97 201.881 Q2121.97 198.27 2123.01 196.626 Q2124.05 194.983 2126.62 194.358 Q2124.05 193.779 2123.01 192.135 Q2121.97 190.492 2121.97 186.858 L2121.97 181.117 Q2121.97 177.83 2120.97 176.834 Q2120 175.816 2116.76 175.816 L2115.14 175.816 L2115.14 172.506 L2116.6 172.506 Q2122.36 172.506 2124.28 174.219 Q2126.23 175.909 2126.23 181.024 L2126.23 186.58 Q2126.23 190.029 2127.48 191.371 Q2128.73 192.691 2132.02 192.691 L2133.45 192.691 L2133.45 196.001 L2132.02 196.001 Q2128.73 196.001 2127.48 197.344 Q2126.23 198.686 2126.23 202.182 L2126.23 207.714 Q2126.23 212.83 2124.28 214.543 Q2122.36 216.256 2116.6 216.256 L2115.14 216.256 L2115.14 212.922 Z\" fill=\"#000000\" fill-rule=\"evenodd\" fill-opacity=\"1\" /><path clip-path=\"url(#clip390)\" d=\"M 0 0 M2135.77 193.64 L2148.24 193.64 L2148.24 197.436 L2135.77 197.436 L2135.77 193.64 Z\" fill=\"#000000\" fill-rule=\"evenodd\" fill-opacity=\"1\" /><path clip-path=\"url(#clip390)\" d=\"M 0 0 M2152.55 172.506 L2156.83 172.506 L2156.83 193.779 L2169.54 182.598 L2174.98 182.598 L2161.23 194.728 L2175.56 208.524 L2170 208.524 L2156.83 195.862 L2156.83 208.524 L2152.55 208.524 L2152.55 172.506 Z\" fill=\"#000000\" fill-rule=\"evenodd\" fill-opacity=\"1\" /><path clip-path=\"url(#clip390)\" d=\"M 0 0 M2199.79 212.922 L2199.79 216.256 L2198.36 216.256 Q2192.59 216.256 2190.63 214.543 Q2188.68 212.83 2188.68 207.714 L2188.68 202.182 Q2188.68 198.686 2187.43 197.344 Q2186.18 196.001 2182.9 196.001 L2181.48 196.001 L2181.48 192.691 L2182.9 192.691 Q2186.21 192.691 2187.43 191.371 Q2188.68 190.029 2188.68 186.58 L2188.68 181.024 Q2188.68 175.909 2190.63 174.219 Q2192.59 172.506 2198.36 172.506 L2199.79 172.506 L2199.79 175.816 L2198.22 175.816 Q2194.96 175.816 2193.96 176.834 Q2192.96 177.853 2192.96 181.117 L2192.96 186.858 Q2192.96 190.492 2191.9 192.135 Q2190.86 193.779 2188.31 194.358 Q2190.88 194.983 2191.92 196.626 Q2192.96 198.27 2192.96 201.881 L2192.96 207.621 Q2192.96 210.885 2193.96 211.904 Q2194.96 212.922 2198.22 212.922 L2199.79 212.922 Z\" fill=\"#000000\" fill-rule=\"evenodd\" fill-opacity=\"1\" /><path clip-path=\"url(#clip390)\" d=\"M 0 0 M2204.26 182.598 L2208.52 182.598 L2208.52 208.524 L2204.26 208.524 L2204.26 182.598 M2204.26 172.506 L2208.52 172.506 L2208.52 177.899 L2204.26 177.899 L2204.26 172.506 Z\" fill=\"#000000\" fill-rule=\"evenodd\" fill-opacity=\"1\" /><path clip-path=\"url(#clip390)\" d=\"M 0 0 M2214.45 212.922 L2216.07 212.922 Q2219.31 212.922 2220.28 211.927 Q2221.27 210.931 2221.27 207.621 L2221.27 201.881 Q2221.27 198.27 2222.32 196.626 Q2223.36 194.983 2225.93 194.358 Q2223.36 193.779 2222.32 192.135 Q2221.27 190.492 2221.27 186.858 L2221.27 181.117 Q2221.27 177.83 2220.28 176.834 Q2219.31 175.816 2216.07 175.816 L2214.45 175.816 L2214.45 172.506 L2215.9 172.506 Q2221.67 172.506 2223.59 174.219 Q2225.53 175.909 2225.53 181.024 L2225.53 186.58 Q2225.53 190.029 2226.78 191.371 Q2228.03 192.691 2231.32 192.691 L2232.76 192.691 L2232.76 196.001 L2231.32 196.001 Q2228.03 196.001 2226.78 197.344 Q2225.53 198.686 2225.53 202.182 L2225.53 207.714 Q2225.53 212.83 2223.59 214.543 Q2221.67 216.256 2215.9 216.256 L2214.45 216.256 L2214.45 212.922 Z\" fill=\"#000000\" fill-rule=\"evenodd\" fill-opacity=\"1\" /></svg>\n"
      ]
     },
     "execution_count": 11,
     "metadata": {},
     "output_type": "execute_result"
    }
   ],
   "source": [
    "p1 = plot(x = 1:750, dif, label=\"k_{i+1}-k{i}\")"
   ]
  },
  {
   "cell_type": "markdown",
   "metadata": {},
   "source": [
    "__What factors affect the steady-state level of capital?__"
   ]
  },
  {
   "cell_type": "markdown",
   "metadata": {},
   "source": [
    "The steady state level of capital can be defined as the state where $\\hat{k_{t+1}} = \\hat{k_t}$. Where have that at the steade state level of capital $ k_* = \\frac{(1-δ)}{g} k_*+\\frac{A}{g} s k_*^α$, assuming that $k_* \\neq 0$ we have that $1-\\delta - g+Ask^{\\alpha-1} = 0$. Thereby $k_* = \\left( \\frac{g+\\delta-1}{As} \\right)^\\frac{1}{\\alpha - 1} $ so the steady-state level of capital is affected by the population growth rate, the rate of capital depreciation, the savings rate, the technological constant and the $\\alpha$ paramater in the production function. "
   ]
  },
  {
   "cell_type": "markdown",
   "metadata": {},
   "source": [
    "__Study the stability of $f$ around $\\overline{k}$. Which factors affect the speed of convergence towards the steady-state?__"
   ]
  },
  {
   "cell_type": "markdown",
   "metadata": {},
   "source": [
    "To study the stability of f around $k_*$, let us recall that by definition $f(k) = k^\\alpha$ therefore we need to study the stability of k around $k_*$. To do this, let us exam the rate of change of $k_t$ as define by $k_{t+1}-k_t = \\frac{(1-\\delta)-g}{g}\\hat{k_t}+\\frac{1}{g}sf(k)$. When $k_t < k_*$ we  have that $k_{t+1}-k_t >  \\frac{(1-\\delta)-g}{g}\\hat{k_*}+\\frac{1}{g}sf(k_*)>0$ so $k_{t+1}$ is increasing till $k_{t+1} = k_*$. \n",
    "\n",
    "Conversily if we assume $k_t > k_*$ we have that $k_{t+1}-k_t <  \\frac{(1-\\delta)-g}{g}\\hat{k_*}+\\frac{1}{g}sf(k_*)<0$ so $k_{t+1}$ decreasing monotonically till it reaches $k_*$. \n",
    "\n",
    "We can therefore conclude that $f(k)$ converges to $f(k_*)$ for all values of k. \n",
    "\n",
    "\n",
    "To study the speed of convergence of $k_t$, let us linearize the difference between $k_{t+1}-k_t$ at $k_*$. \n",
    "\n",
    "$$\n",
    "\\begin{equation}\n",
    "    \\begin{split}\n",
    "    k_{t+1}-k_* - (k_{t}-k_*) &= \\frac{\\alpha s(k^*)^{\\alpha-1}-(\\delta+g-1)}{g}(k_t-k_*)  \\\\\n",
    "    &= - \\frac{(1-\\alpha)(\\delta+g-1)}{g}(k_t-k_*)     \n",
    "    \\end{split}\n",
    "\\end{equation}\n",
    "$$\n",
    "\n",
    "Therefore, we can define the convergence speed as $\\lambda = \\frac{(1-\\alpha)(\\delta+g-1)}{g}$. Note that output converges at an equal speed aswell.  "
   ]
  },
  {
   "cell_type": "markdown",
   "metadata": {},
   "source": [
    "__Compute the steady-state directly using a Newton method and compare convergence speed.__"
   ]
  },
  {
   "cell_type": "code",
   "execution_count": 12,
   "metadata": {},
   "outputs": [
    {
     "data": {
      "text/plain": [
       "Newton (generic function with 2 methods)"
      ]
     },
     "execution_count": 12,
     "metadata": {},
     "output_type": "execute_result"
    }
   ],
   "source": [
    "function Newton(f,df,ddf, x0,p, N=1000)\n",
    "    ϵ = 0.00000001\n",
    "    x =  Array{Float64,1}(undef, N) \n",
    "    x[1] = x0\n",
    "    dif = Array{Float64,1}(undef, N) \n",
    "    j = 0\n",
    "    for i in 1:(N-1)\n",
    "        j = i\n",
    "        x[i+1] = x[i]-df(x[i])/ddf(x[i])\n",
    "        dif[i] = abs(x[i+1]-x[i])\n",
    "        if dif[i] < ϵ\n",
    "            break \n",
    "        if df(x[i],p)< ϵ\n",
    "            break \n",
    "        end \n",
    "        end \n",
    "    return (x[1:j],dif[1:j])\n",
    "end  \n",
    "end\n",
    "    "
   ]
  },
  {
   "cell_type": "markdown",
   "metadata": {},
   "source": [
    "__Suppose one tries to maximize steady-state consumption by choosing saving rate $s$. Which value would one choose?__"
   ]
  },
  {
   "cell_type": "markdown",
   "metadata": {},
   "source": [
    "Note that the steady state level of consumption is given by $c_* = (1-s)f(k_*) = (1-s ) \\left( \\frac{g+\\delta-1}{As} \\right)^\\frac{1}{\\alpha - 1}  $. This can analytically be solved for by assuming c is continuous in $s$ and taking first order conditions to find $\\frac{\\delta c}{\\delta s}= - \\frac{s}{1-s}+\\frac{\\alpha}{1-\\alpha}$. Therefore the level of savings that maximizes capital is $s=\\alpha$. \n",
    "\n",
    "\n",
    "Alternatively, we can numerically solve for the optimal $s$ by appling Newton's method  to $\\frac{\\delta c}{\\delta s}$ as done below:"
   ]
  },
  {
   "cell_type": "code",
   "execution_count": 13,
   "metadata": {},
   "outputs": [
    {
     "data": {
      "text/plain": [
       "ddf (generic function with 1 method)"
      ]
     },
     "execution_count": 13,
     "metadata": {},
     "output_type": "execute_result"
    }
   ],
   "source": [
    "function f(s,p)\n",
    "    α = p['α']\n",
    "    return -s/(1-s)+α/(1-α)\n",
    "    end \n",
    "\n",
    "\n",
    "function df(s)\n",
    "    return 2s/(1-s)^2 \n",
    "    end \n",
    "\n",
    "function ddf(s)\n",
    "    return (2(1-s)^2+2(1-s))/(1-s)^2 \n",
    "    end \n"
   ]
  },
  {
   "cell_type": "code",
   "execution_count": 14,
   "metadata": {},
   "outputs": [
    {
     "ename": "MethodError",
     "evalue": "MethodError: no method matching iterate(::Nothing)\nClosest candidates are:\n  iterate(!Matched::Core.SimpleVector) at essentials.jl:603\n  iterate(!Matched::Core.SimpleVector, !Matched::Any) at essentials.jl:603\n  iterate(!Matched::ExponentialBackOff) at error.jl:253\n  ...",
     "output_type": "error",
     "traceback": [
      "MethodError: no method matching iterate(::Nothing)\nClosest candidates are:\n  iterate(!Matched::Core.SimpleVector) at essentials.jl:603\n  iterate(!Matched::Core.SimpleVector, !Matched::Any) at essentials.jl:603\n  iterate(!Matched::ExponentialBackOff) at error.jl:253\n  ...",
      "",
      "Stacktrace:",
      " [1] indexed_iterate(::Nothing, ::Int64) at ./tuple.jl:84",
      " [2] top-level scope at In[14]:2"
     ]
    }
   ],
   "source": [
    "x0 = 0.0\n",
    "s,dif = Newton(f,df,ddf,x0,p) "
   ]
  },
  {
   "cell_type": "markdown",
   "metadata": {},
   "source": [
    "---\n",
    "\n",
    "## Exercise: constrained optimization\n",
    "\n",
    "Consider the function $f(x,y) = 1-(x-0.5)^2 -(y-0.3)^2$.\n",
    "\n",
    "__Use Optim.jl to minimize $f$ without constraint. Check you understand diagnostic information returned by the optimizer.__"
   ]
  },
  {
   "cell_type": "code",
   "execution_count": 30,
   "metadata": {},
   "outputs": [
    {
     "name": "stderr",
     "output_type": "stream",
     "text": [
      "\u001b[32m\u001b[1m  Resolving\u001b[22m\u001b[39m package versions...\n",
      "\u001b[32m\u001b[1m   Updating\u001b[22m\u001b[39m `~/Project.toml`\n",
      "\u001b[90m [no changes]\u001b[39m\n",
      "\u001b[32m\u001b[1m   Updating\u001b[22m\u001b[39m `~/Manifest.toml`\n",
      "\u001b[90m [no changes]\u001b[39m\n"
     ]
    },
    {
     "data": {
      "text/plain": [
       " * Status: failure (reached maximum number of iterations)\n",
       "\n",
       " * Candidate solution\n",
       "    Minimizer: [-1.86e+154, 2.93e+153]\n",
       "    Minimum:   -Inf\n",
       "\n",
       " * Found with\n",
       "    Algorithm:     Nelder-Mead\n",
       "    Initial Point: [0.00e+00, 0.00e+00]\n",
       "\n",
       " * Convergence measures\n",
       "    √(Σ(yᵢ-ȳ)²)/n ≰ 1.0e-08\n",
       "\n",
       " * Work counters\n",
       "    Seconds run:   0  (vs limit Inf)\n",
       "    Iterations:    1000\n",
       "    f(x) calls:    2630\n"
      ]
     },
     "execution_count": 30,
     "metadata": {},
     "output_type": "execute_result"
    }
   ],
   "source": [
    "import Pkg; Pkg.add(\"Optim\")\n",
    "using Optim \n",
    "\n",
    "\n",
    "f(x) = 1 - (x[1]-0.5)^2- (x[2]-0.3)^2\n",
    "x0 = [0.0, 0.0]\n",
    "\n",
    "res = optimize(f, x0)"
   ]
  },
  {
   "cell_type": "markdown",
   "metadata": {},
   "source": [
    "__Now, consider the constraint $x<0.3$ and maximize $f$ under this new constraint.__"
   ]
  },
  {
   "cell_type": "code",
   "execution_count": 32,
   "metadata": {},
   "outputs": [
    {
     "data": {
      "text/plain": [
       " * Status: success\n",
       "\n",
       " * Candidate solution\n",
       "    Minimizer: [3.00e-01, 3.00e-01]\n",
       "    Minimum:   -9.600000e-01\n",
       "\n",
       " * Found with\n",
       "    Algorithm:     Fminbox with Gradient Descent\n",
       "    Initial Point: [0.00e+00, 0.00e+00]\n",
       "\n",
       " * Convergence measures\n",
       "    |x - x'|               = 0.00e+00 ≤ 0.0e+00\n",
       "    |x - x'|/|x'|          = 0.00e+00 ≤ 0.0e+00\n",
       "    |f(x) - f(x')|         = 0.00e+00 ≤ 0.0e+00\n",
       "    |f(x) - f(x')|/|f(x')| = 0.00e+00 ≤ 0.0e+00\n",
       "    |g(x)|                 = 4.00e-01 ≰ 1.0e-08\n",
       "\n",
       " * Work counters\n",
       "    Seconds run:   0  (vs limit Inf)\n",
       "    Iterations:    7\n",
       "    f(x) calls:    1180\n",
       "    ∇f(x) calls:   1180\n"
      ]
     },
     "execution_count": 32,
     "metadata": {},
     "output_type": "execute_result"
    }
   ],
   "source": [
    "lower = [-Inf, -Inf]\n",
    "upper = [0.3, Inf]\n",
    "initial_x = [0.0, 0.0]\n",
    "inner_optimizer = GradientDescent()\n",
    "f(x) = -1*( 1 - (x[1]-0.5)^2- (x[2]-0.3)^2 )\n",
    "\n",
    "results = optimize(f, lower, upper, initial_x, Fminbox(inner_optimizer))\n"
   ]
  },
  {
   "cell_type": "markdown",
   "metadata": {},
   "source": [
    "__Reformulate the problem as a root finding with lagrangians. Write the complementarity conditions.__"
   ]
  },
  {
   "cell_type": "markdown",
   "metadata": {},
   "source": [
    "We want to minimize the function $f(x,y) = -1*(1 - (x-0.5)^2- (y-0.3)^2)$ subject to the constraints $0.3-x>0$. We thereby have the Lagragian\n",
    "\n",
    "$$\\mathcal{L}(x,y) = -1*(1 - (x-0.5)^2- (y-0.3)^2) - \\lambda(0.3-x) $$\n",
    "\n",
    "such that $\\lambda \\geq 0$ and $\\lambda(0.3-x) = 0$. We thereby want to solve the problem $ \\nabla{ \\mathcal{L} }  = 0 $ such that  $\\lambda(x-0.3) = 0$. We thereby get the system:\n",
    "\n",
    "$$\n",
    "\\star \\begin{cases}\n",
    "-2x + \\lambda = 0 \\\\\n",
    "-2y + 0.6 = 0\\\\\n",
    "\\lambda(x-0.3) = 0 \\\\\n",
    "\\end{cases}\n",
    "$$"
   ]
  },
  {
   "cell_type": "markdown",
   "metadata": {},
   "source": [
    "__Solve using NLSolve.jl__"
   ]
  },
  {
   "cell_type": "markdown",
   "metadata": {},
   "source": [
    "To solve the problem using the NLsolve method we need to find continuous functions that incorporate the constraints of this problem. To do this we note that the constraints are orthoganailty constraints which can be replaced by the Fisher-Burmeister function as done in the lecture. \n",
    "\n",
    "Note we can define such $f: \\mathbb{R}^2 \\to \\mathbb{R}^2$ as:\n",
    "\n",
    "$f_1 = (2x-1)(x-0.3)(0.3-x-\\sqrt{(x-0.3)^2})$ and\n",
    "$f_2 = -2y+0.6$\n",
    "\n",
    "\n",
    "Where we calculated $f_1$ by combining the first and the third conditions in $\\star$ in the style of the lecture. \n",
    "\n",
    "From there, it is straight forward to calculate the elements of the Jacobian by taking the partial derivatives of f w.r.t. x and y. The formula can be seen in the code below"
   ]
  },
  {
   "cell_type": "code",
   "execution_count": 35,
   "metadata": {},
   "outputs": [
    {
     "name": "stderr",
     "output_type": "stream",
     "text": [
      "\u001b[32m\u001b[1m  Resolving\u001b[22m\u001b[39m package versions...\n",
      "\u001b[32m\u001b[1m   Updating\u001b[22m\u001b[39m `~/Project.toml`\n",
      "\u001b[90m [no changes]\u001b[39m\n",
      "\u001b[32m\u001b[1m   Updating\u001b[22m\u001b[39m `~/Manifest.toml`\n",
      "\u001b[90m [no changes]\u001b[39m\n"
     ]
    }
   ],
   "source": [
    "import Pkg; Pkg.add(\"NLsolve\")"
   ]
  },
  {
   "cell_type": "code",
   "execution_count": 36,
   "metadata": {},
   "outputs": [
    {
     "data": {
      "text/plain": [
       "Results of Nonlinear Solver Algorithm\n",
       " * Algorithm: Trust-region with dogleg and autoscaling\n",
       " * Starting Point: [10.0, 10.0]\n",
       " * Zero: [0.3005984507957437, 0.3]\n",
       " * Inf-norm of residuals: 0.000000\n",
       " * Iterations: 1000\n",
       " * Convergence: false\n",
       "   * |x - x'| < 0.0e+00: false\n",
       "   * |f(x)| < 1.0e-08: false\n",
       " * Function Calls (f): 65\n",
       " * Jacobian Calls (df/dx): 65"
      ]
     },
     "execution_count": 36,
     "metadata": {},
     "output_type": "execute_result"
    }
   ],
   "source": [
    "using NLsolve\n",
    "\n",
    "function f!(F, x)\n",
    "    F[1] = (2*x[1]-1)*(x[1]-0.3)*( 0.3-x[1]-sqrt((0.3-x[1])^2) )\n",
    "    F[2] = -2*x[2] +0.6\n",
    "end\n",
    "\n",
    "function j!(J, x)\n",
    "    J[1, 1] = -6*x[1]^2 + 4.4*x[1]- (4*x[1]-1.6)*sqrt((0.3-x[1])^2) + (2*x[1]^2 -1.6*x[1] +0.3)*(0.3-x[1])/sqrt((0.3-x[1])^2)\n",
    "    J[1, 2] = 0\n",
    "    J[2, 1] = 0\n",
    "    J[2, 2] = -2\n",
    "end\n",
    "\n",
    "nlsolve(f!, j!, [10.; 10.])\n",
    "\n"
   ]
  },
  {
   "cell_type": "markdown",
   "metadata": {},
   "source": [
    "---\n",
    "\n",
    "## Consumption optimization\n",
    "\n",
    "A consumer has preferences $U(c_1, c_2)$ over two consumption goods $c_1$ and $c_2$.\n",
    "\n",
    "Given a budget $I$, consumer wants to maximize utility subject to the budget constraint $p_1 c_1 + p_2 c_2 \\leq I$.\n",
    "\n",
    "We choose a Stone-Geary specification where\n",
    "\n",
    "$U(c_1, c_2)=\\beta_1 \\log(c_1-\\gamma_1) + \\beta_2 \\log(c_2-\\gamma_2)$\n",
    "\n",
    "__Write the Karush-Kuhn-Tucker necessary conditions for the problem.__"
   ]
  },
  {
   "cell_type": "markdown",
   "metadata": {},
   "source": [
    "We can write the lagrangian of the problem as $\\mathcal{L}(x,y) =\\beta_1 \\log(c_1-\\gamma_1) + \\beta_2 \\log(c_2-\\gamma_2) - \\lambda (I - p_1c_1-p_2c_2)$. With complementary and slackness conditions: \n",
    "\n",
    "   - $ \\lambda \\geq 0$ \n",
    "   - $ \\lambda (I - p_1c_1-p_2c_2) = 0 $\n",
    "\n",
    "Taking first order conditions we thereby know that the problem must satisfy: \n",
    "\n",
    "- $\\frac{\\partial U}{\\partial c_1} - \\lambda p_1 = 0$\n",
    "\n",
    "- $\\frac{\\partial U}{\\partial c_2}- \\lambda p_2 = 0$\n",
    "\n",
    "- $\\lambda(p_1 c_1 + p_2 c_2 -I) = 0$\n"
   ]
  },
  {
   "cell_type": "markdown",
   "metadata": {},
   "source": [
    "__Verify the KKT conditions are sufficient for optimality.__"
   ]
  },
  {
   "cell_type": "code",
   "execution_count": null,
   "metadata": {},
   "outputs": [],
   "source": []
  },
  {
   "cell_type": "markdown",
   "metadata": {},
   "source": [
    "__Derive analytically the demand functions, and the shadow price.__"
   ]
  },
  {
   "cell_type": "markdown",
   "metadata": {},
   "source": [
    "Solving the first order conditions previously described we get the system of equations:\n",
    "\n",
    "\\begin{cases}\n",
    "\\frac{\\beta_1}{c_1 - \\gamma_1} - \\lambda p_1 = 0\\\\\\\\\n",
    "\\frac{\\beta_2}{c_2 - \\gamma_2}- \\lambda p_2 = 0\\\\\\\\\n",
    "\\lambda(p_1 c_1 + p_2 c_2 -I) = 0\n",
    "\\end{cases}\n",
    "\n",
    "We thereby have thereby obtain the value of the shadow price as  $\\lambda = \\frac{\\beta_1}{(c_1 - \\gamma_1)p1} = \\frac{\\beta_2}{(c_2 - \\gamma_2)p2} $. Note we can assume that $\\beta_1 \\neq 0$ and $\\beta_2 \\neq 0$ otherwise the individual would have zero utility. Thereby, we have that the budget constraint is binding or that $p_1 c_1 + p_2 c_2 -I =0$. \n",
    "\n",
    "From here we can find the demand functions by rewriting $c1 = I-p_2c_2$ to get: \n",
    "\n",
    "$$\n",
    "\\begin{align}\n",
    "(c_2 - \\gamma_2)p_2\\beta_1 &= \\beta_2(I-p_2c_2 - p_1\\gamma_1)\\\\\n",
    "c_2(p_2\\beta_1 + \\beta_2p_2) &=\\beta_2(I- p_1\\gamma_1) + \\gamma_2 p_2\\beta_1\\\\\n",
    "c_2(p_1,p_2) &=\\frac{\\beta_2(I- p_1\\gamma_1) + \\gamma_2 p_2\\beta_1}{p_2\\beta_1 + \\beta_2p_2}\n",
    "\\end{align}\n",
    "$$\n",
    "\n",
    "Resubstituting into the budget constraint we get $c_1$ as: \n",
    "\n",
    "$$\n",
    "c_1(p_1,p_2)= \\frac{\\beta_1(I- p_2\\gamma_2) + \\gamma_1 p_1\\beta_2}{p_1\\beta_2 + \\beta_1p_1}\n",
    "$$\n",
    "\n",
    "Therefore, \n",
    "\n",
    "$$\n",
    "\\lambda^*=  \\frac{\\beta_1 + \\beta_2}{I -\\gamma_2p_2 - p_1\\gamma_1}\n",
    "$$"
   ]
  },
  {
   "cell_type": "markdown",
   "metadata": {},
   "source": [
    "__Interpret this problem as a complementarity problem and solve it using NLSolve.__"
   ]
  },
  {
   "cell_type": "code",
   "execution_count": null,
   "metadata": {},
   "outputs": [],
   "source": []
  },
  {
   "cell_type": "markdown",
   "metadata": {},
   "source": [
    "__Produce some nice graphs with isoutility curves, the budget constraint and the optimal choice.__\n",
    "\n"
   ]
  },
  {
   "cell_type": "markdown",
   "metadata": {},
   "source": [
    "The iso-utility curves can be obtained by fixing a level of utility $\\bar{u}$ and expressing $c_2$ as a function of $c_1$. We thereby have: \n",
    "\n",
    "$$\n",
    "\\begin{align}\n",
    " \\bar{u} &= \\ln\\left((c_1-\\gamma_1)^{\\beta_1}(c_2-\\gamma_2)^{\\beta_2}\\right)\\\\\\\\\n",
    "exp(\\bar{u}) &= (c_1-\\gamma_1)^{\\beta_1}(c_2-\\gamma_2)^{\\beta_2}\\\\\\\\\n",
    "c_2 &= \\left[\\frac{exp(\\bar{u} )}{(c_1 - \\gamma_1)^{\\beta_1}} \\right]^{\\frac{1}{\\beta_2}} + \\gamma_2\n",
    "\\end{align}\n",
    "$$\n",
    "\n",
    "\n",
    "The budget constraint can simply be incorporated as:\n",
    "\n",
    "$$\n",
    "c_1 = \\frac{I - p_2c_2}{p_1}\n",
    "$$"
   ]
  },
  {
   "cell_type": "markdown",
   "metadata": {},
   "source": [
    "Here I will plot the curves using an initial set of values for the parameters. They are arbitrary."
   ]
  },
  {
   "cell_type": "code",
   "execution_count": 37,
   "metadata": {},
   "outputs": [
    {
     "data": {
      "text/plain": [
       "Dict{Symbol,Float64} with 7 entries:\n",
       "  :p2 => 2.0\n",
       "  :γ2 => 0.4\n",
       "  :I  => 50.0\n",
       "  :β1 => 0.5\n",
       "  :p1 => 1.0\n",
       "  :γ1 => 0.3\n",
       "  :β2 => 0.6"
      ]
     },
     "execution_count": 37,
     "metadata": {},
     "output_type": "execute_result"
    }
   ],
   "source": [
    "p = Dict(:I=>50.0, :p1 =>1.0, :p2 =>2.0, :γ1 =>0.3, :γ2 => 0.4, :β1 => 0.5, :β2 => 0.6)"
   ]
  },
  {
   "cell_type": "code",
   "execution_count": 43,
   "metadata": {},
   "outputs": [
    {
     "data": {
      "text/plain": [
       "budget (generic function with 1 method)"
      ]
     },
     "execution_count": 43,
     "metadata": {},
     "output_type": "execute_result"
    }
   ],
   "source": [
    "function isoutil(c_1,u,p)\n",
    "    γ1 = p[:γ1]\n",
    "    γ2 = p[:γ2]\n",
    "    β1 = p[:β1]\n",
    "    β2 = p[:β2]\n",
    "  return (exp(u)/(c_1-γ1)^(β1))^(1/β2) + γ2\n",
    "end\n",
    "\n",
    "function budget(c1,p)\n",
    "    return (p[:I] - p[:p1]*c1)/p[:p2]\n",
    "end\n",
    "\n"
   ]
  },
  {
   "cell_type": "code",
   "execution_count": 56,
   "metadata": {},
   "outputs": [
    {
     "data": {
      "text/plain": [
       "20-element Array{Float64,1}:\n",
       " 16.79914369830421\n",
       "  8.228804299803631\n",
       "  5.724347607988035\n",
       "  4.494819549555641\n",
       "  3.7547074756969034\n",
       "  3.2565411961226736\n",
       "  2.896551537555739\n",
       "  2.6232788357084234\n",
       "  2.4081839615473397\n",
       "  2.234114423603813\n",
       "  2.090115520814039\n",
       "  1.9688496312324242\n",
       "  1.8652096510946952\n",
       "  1.7755268288239603\n",
       "  1.697094922055757\n",
       "  1.627872184107527\n",
       "  1.566288013335059\n",
       "  1.511113649661071\n",
       "  1.461373400274331\n",
       "  1.4162822715313057"
      ]
     },
     "execution_count": 56,
     "metadata": {},
     "output_type": "execute_result"
    }
   ],
   "source": [
    "c1 = [i for i in 1:20]\n",
    "B = [budget(c,p) for c in c1]\n",
    "Iso = [isoutil(c,1.5,p) for c in c1]"
   ]
  },
  {
   "cell_type": "code",
   "execution_count": 57,
   "metadata": {},
   "outputs": [
    {
     "data": {
      "image/svg+xml": [
       "<?xml version=\"1.0\" encoding=\"utf-8\"?>\n",
       "<svg xmlns=\"http://www.w3.org/2000/svg\" xmlns:xlink=\"http://www.w3.org/1999/xlink\" width=\"600\" height=\"400\" viewBox=\"0 0 2400 1600\">\n",
       "<defs>\n",
       "  <clipPath id=\"clip630\">\n",
       "    <rect x=\"0\" y=\"0\" width=\"2400\" height=\"1600\"/>\n",
       "  </clipPath>\n",
       "</defs>\n",
       "<path clip-path=\"url(#clip630)\" d=\"\n",
       "M0 1600 L2400 1600 L2400 0 L0 0  Z\n",
       "  \" fill=\"#ffffff\" fill-rule=\"evenodd\" fill-opacity=\"1\"/>\n",
       "<defs>\n",
       "  <clipPath id=\"clip631\">\n",
       "    <rect x=\"480\" y=\"0\" width=\"1681\" height=\"1600\"/>\n",
       "  </clipPath>\n",
       "</defs>\n",
       "<path clip-path=\"url(#clip630)\" d=\"\n",
       "M199.218 1423.18 L2352.76 1423.18 L2352.76 47.2441 L199.218 47.2441  Z\n",
       "  \" fill=\"#ffffff\" fill-rule=\"evenodd\" fill-opacity=\"1\"/>\n",
       "<defs>\n",
       "  <clipPath id=\"clip632\">\n",
       "    <rect x=\"199\" y=\"47\" width=\"2155\" height=\"1377\"/>\n",
       "  </clipPath>\n",
       "</defs>\n",
       "<polyline clip-path=\"url(#clip632)\" style=\"stroke:#000000; stroke-width:2; stroke-opacity:0.1; fill:none\" points=\"\n",
       "  687.881,1423.18 687.881,47.2441 \n",
       "  \"/>\n",
       "<polyline clip-path=\"url(#clip632)\" style=\"stroke:#000000; stroke-width:2; stroke-opacity:0.1; fill:none\" points=\"\n",
       "  1222.52,1423.18 1222.52,47.2441 \n",
       "  \"/>\n",
       "<polyline clip-path=\"url(#clip632)\" style=\"stroke:#000000; stroke-width:2; stroke-opacity:0.1; fill:none\" points=\"\n",
       "  1757.16,1423.18 1757.16,47.2441 \n",
       "  \"/>\n",
       "<polyline clip-path=\"url(#clip632)\" style=\"stroke:#000000; stroke-width:2; stroke-opacity:0.1; fill:none\" points=\"\n",
       "  2291.81,1423.18 2291.81,47.2441 \n",
       "  \"/>\n",
       "<polyline clip-path=\"url(#clip632)\" style=\"stroke:#000000; stroke-width:2; stroke-opacity:0.1; fill:none\" points=\"\n",
       "  199.218,1182.72 2352.76,1182.72 \n",
       "  \"/>\n",
       "<polyline clip-path=\"url(#clip632)\" style=\"stroke:#000000; stroke-width:2; stroke-opacity:0.1; fill:none\" points=\"\n",
       "  199.218,901.555 2352.76,901.555 \n",
       "  \"/>\n",
       "<polyline clip-path=\"url(#clip632)\" style=\"stroke:#000000; stroke-width:2; stroke-opacity:0.1; fill:none\" points=\"\n",
       "  199.218,620.393 2352.76,620.393 \n",
       "  \"/>\n",
       "<polyline clip-path=\"url(#clip632)\" style=\"stroke:#000000; stroke-width:2; stroke-opacity:0.1; fill:none\" points=\"\n",
       "  199.218,339.231 2352.76,339.231 \n",
       "  \"/>\n",
       "<polyline clip-path=\"url(#clip632)\" style=\"stroke:#000000; stroke-width:2; stroke-opacity:0.1; fill:none\" points=\"\n",
       "  199.218,58.0695 2352.76,58.0695 \n",
       "  \"/>\n",
       "<polyline clip-path=\"url(#clip630)\" style=\"stroke:#000000; stroke-width:4; stroke-opacity:1; fill:none\" points=\"\n",
       "  199.218,1423.18 2352.76,1423.18 \n",
       "  \"/>\n",
       "<polyline clip-path=\"url(#clip630)\" style=\"stroke:#000000; stroke-width:4; stroke-opacity:1; fill:none\" points=\"\n",
       "  199.218,1423.18 199.218,47.2441 \n",
       "  \"/>\n",
       "<polyline clip-path=\"url(#clip630)\" style=\"stroke:#000000; stroke-width:4; stroke-opacity:1; fill:none\" points=\"\n",
       "  687.881,1423.18 687.881,1406.67 \n",
       "  \"/>\n",
       "<polyline clip-path=\"url(#clip630)\" style=\"stroke:#000000; stroke-width:4; stroke-opacity:1; fill:none\" points=\"\n",
       "  1222.52,1423.18 1222.52,1406.67 \n",
       "  \"/>\n",
       "<polyline clip-path=\"url(#clip630)\" style=\"stroke:#000000; stroke-width:4; stroke-opacity:1; fill:none\" points=\"\n",
       "  1757.16,1423.18 1757.16,1406.67 \n",
       "  \"/>\n",
       "<polyline clip-path=\"url(#clip630)\" style=\"stroke:#000000; stroke-width:4; stroke-opacity:1; fill:none\" points=\"\n",
       "  2291.81,1423.18 2291.81,1406.67 \n",
       "  \"/>\n",
       "<polyline clip-path=\"url(#clip630)\" style=\"stroke:#000000; stroke-width:4; stroke-opacity:1; fill:none\" points=\"\n",
       "  199.218,1182.72 225.061,1182.72 \n",
       "  \"/>\n",
       "<polyline clip-path=\"url(#clip630)\" style=\"stroke:#000000; stroke-width:4; stroke-opacity:1; fill:none\" points=\"\n",
       "  199.218,901.555 225.061,901.555 \n",
       "  \"/>\n",
       "<polyline clip-path=\"url(#clip630)\" style=\"stroke:#000000; stroke-width:4; stroke-opacity:1; fill:none\" points=\"\n",
       "  199.218,620.393 225.061,620.393 \n",
       "  \"/>\n",
       "<polyline clip-path=\"url(#clip630)\" style=\"stroke:#000000; stroke-width:4; stroke-opacity:1; fill:none\" points=\"\n",
       "  199.218,339.231 225.061,339.231 \n",
       "  \"/>\n",
       "<polyline clip-path=\"url(#clip630)\" style=\"stroke:#000000; stroke-width:4; stroke-opacity:1; fill:none\" points=\"\n",
       "  199.218,58.0695 225.061,58.0695 \n",
       "  \"/>\n",
       "<path clip-path=\"url(#clip630)\" d=\"M 0 0 M678.159 1442.09 L696.515 1442.09 L696.515 1446.03 L682.441 1446.03 L682.441 1454.5 Q683.46 1454.15 684.478 1453.99 Q685.497 1453.8 686.515 1453.8 Q692.302 1453.8 695.682 1456.98 Q699.061 1460.15 699.061 1465.56 Q699.061 1471.14 695.589 1474.24 Q692.117 1477.32 685.798 1477.32 Q683.622 1477.32 681.353 1476.95 Q679.108 1476.58 676.7 1475.84 L676.7 1471.14 Q678.784 1472.28 681.006 1472.83 Q683.228 1473.39 685.705 1473.39 Q689.71 1473.39 692.048 1471.28 Q694.386 1469.18 694.386 1465.56 Q694.386 1461.95 692.048 1459.85 Q689.71 1457.74 685.705 1457.74 Q683.83 1457.74 681.955 1458.16 Q680.103 1458.57 678.159 1459.45 L678.159 1442.09 Z\" fill=\"#000000\" fill-rule=\"evenodd\" fill-opacity=\"1\" /><path clip-path=\"url(#clip630)\" d=\"M 0 0 M1199.4 1472.72 L1207.04 1472.72 L1207.04 1446.35 L1198.73 1448.02 L1198.73 1443.76 L1206.99 1442.09 L1211.67 1442.09 L1211.67 1472.72 L1219.31 1472.72 L1219.31 1476.65 L1199.4 1476.65 L1199.4 1472.72 Z\" fill=\"#000000\" fill-rule=\"evenodd\" fill-opacity=\"1\" /><path clip-path=\"url(#clip630)\" d=\"M 0 0 M1234.37 1445.17 Q1230.76 1445.17 1228.93 1448.74 Q1227.13 1452.28 1227.13 1459.41 Q1227.13 1466.51 1228.93 1470.08 Q1230.76 1473.62 1234.37 1473.62 Q1238.01 1473.62 1239.81 1470.08 Q1241.64 1466.51 1241.64 1459.41 Q1241.64 1452.28 1239.81 1448.74 Q1238.01 1445.17 1234.37 1445.17 M1234.37 1441.47 Q1240.18 1441.47 1243.24 1446.07 Q1246.32 1450.66 1246.32 1459.41 Q1246.32 1468.13 1243.24 1472.74 Q1240.18 1477.32 1234.37 1477.32 Q1228.56 1477.32 1225.49 1472.74 Q1222.43 1468.13 1222.43 1459.41 Q1222.43 1450.66 1225.49 1446.07 Q1228.56 1441.47 1234.37 1441.47 Z\" fill=\"#000000\" fill-rule=\"evenodd\" fill-opacity=\"1\" /><path clip-path=\"url(#clip630)\" d=\"M 0 0 M1734.54 1472.72 L1742.18 1472.72 L1742.18 1446.35 L1733.87 1448.02 L1733.87 1443.76 L1742.13 1442.09 L1746.81 1442.09 L1746.81 1472.72 L1754.44 1472.72 L1754.44 1476.65 L1734.54 1476.65 L1734.54 1472.72 Z\" fill=\"#000000\" fill-rule=\"evenodd\" fill-opacity=\"1\" /><path clip-path=\"url(#clip630)\" d=\"M 0 0 M1759.56 1442.09 L1777.92 1442.09 L1777.92 1446.03 L1763.84 1446.03 L1763.84 1454.5 Q1764.86 1454.15 1765.88 1453.99 Q1766.9 1453.8 1767.92 1453.8 Q1773.7 1453.8 1777.08 1456.98 Q1780.46 1460.15 1780.46 1465.56 Q1780.46 1471.14 1776.99 1474.24 Q1773.52 1477.32 1767.2 1477.32 Q1765.02 1477.32 1762.76 1476.95 Q1760.51 1476.58 1758.1 1475.84 L1758.1 1471.14 Q1760.19 1472.28 1762.41 1472.83 Q1764.63 1473.39 1767.11 1473.39 Q1771.11 1473.39 1773.45 1471.28 Q1775.79 1469.18 1775.79 1465.56 Q1775.79 1461.95 1773.45 1459.85 Q1771.11 1457.74 1767.11 1457.74 Q1765.23 1457.74 1763.36 1458.16 Q1761.51 1458.57 1759.56 1459.45 L1759.56 1442.09 Z\" fill=\"#000000\" fill-rule=\"evenodd\" fill-opacity=\"1\" /><path clip-path=\"url(#clip630)\" d=\"M 0 0 M2272.95 1472.72 L2289.27 1472.72 L2289.27 1476.65 L2267.33 1476.65 L2267.33 1472.72 Q2269.99 1469.96 2274.57 1465.33 Q2279.18 1460.68 2280.36 1459.34 Q2282.61 1456.81 2283.49 1455.08 Q2284.39 1453.32 2284.39 1451.63 Q2284.39 1448.87 2282.44 1447.14 Q2280.52 1445.4 2277.42 1445.4 Q2275.22 1445.4 2272.77 1446.17 Q2270.34 1446.93 2267.56 1448.48 L2267.56 1443.76 Q2270.38 1442.62 2272.84 1442.05 Q2275.29 1441.47 2277.33 1441.47 Q2282.7 1441.47 2285.89 1444.15 Q2289.09 1446.84 2289.09 1451.33 Q2289.09 1453.46 2288.28 1455.38 Q2287.49 1457.28 2285.38 1459.87 Q2284.8 1460.54 2281.7 1463.76 Q2278.6 1466.95 2272.95 1472.72 Z\" fill=\"#000000\" fill-rule=\"evenodd\" fill-opacity=\"1\" /><path clip-path=\"url(#clip630)\" d=\"M 0 0 M2304.34 1445.17 Q2300.73 1445.17 2298.9 1448.74 Q2297.1 1452.28 2297.1 1459.41 Q2297.1 1466.51 2298.9 1470.08 Q2300.73 1473.62 2304.34 1473.62 Q2307.98 1473.62 2309.78 1470.08 Q2311.61 1466.51 2311.61 1459.41 Q2311.61 1452.28 2309.78 1448.74 Q2307.98 1445.17 2304.34 1445.17 M2304.34 1441.47 Q2310.15 1441.47 2313.21 1446.07 Q2316.29 1450.66 2316.29 1459.41 Q2316.29 1468.13 2313.21 1472.74 Q2310.15 1477.32 2304.34 1477.32 Q2298.53 1477.32 2295.45 1472.74 Q2292.4 1468.13 2292.4 1459.41 Q2292.4 1450.66 2295.45 1446.07 Q2298.53 1441.47 2304.34 1441.47 Z\" fill=\"#000000\" fill-rule=\"evenodd\" fill-opacity=\"1\" /><path clip-path=\"url(#clip630)\" d=\"M 0 0 M154.316 1165.44 L172.672 1165.44 L172.672 1169.37 L158.598 1169.37 L158.598 1177.84 Q159.616 1177.5 160.635 1177.34 Q161.653 1177.15 162.672 1177.15 Q168.459 1177.15 171.839 1180.32 Q175.218 1183.49 175.218 1188.91 Q175.218 1194.49 171.746 1197.59 Q168.274 1200.67 161.954 1200.67 Q159.778 1200.67 157.51 1200.3 Q155.265 1199.93 152.857 1199.19 L152.857 1194.49 Q154.941 1195.62 157.163 1196.18 Q159.385 1196.73 161.862 1196.73 Q165.866 1196.73 168.204 1194.63 Q170.542 1192.52 170.542 1188.91 Q170.542 1185.3 168.204 1183.19 Q165.866 1181.09 161.862 1181.09 Q159.987 1181.09 158.112 1181.5 Q156.26 1181.92 154.316 1182.8 L154.316 1165.44 Z\" fill=\"#000000\" fill-rule=\"evenodd\" fill-opacity=\"1\" /><path clip-path=\"url(#clip630)\" d=\"M 0 0 M128.297 914.9 L135.936 914.9 L135.936 888.535 L127.626 890.201 L127.626 885.942 L135.89 884.275 L140.566 884.275 L140.566 914.9 L148.204 914.9 L148.204 918.835 L128.297 918.835 L128.297 914.9 Z\" fill=\"#000000\" fill-rule=\"evenodd\" fill-opacity=\"1\" /><path clip-path=\"url(#clip630)\" d=\"M 0 0 M163.274 887.354 Q159.663 887.354 157.834 890.919 Q156.029 894.46 156.029 901.59 Q156.029 908.696 157.834 912.261 Q159.663 915.803 163.274 915.803 Q166.908 915.803 168.714 912.261 Q170.542 908.696 170.542 901.59 Q170.542 894.46 168.714 890.919 Q166.908 887.354 163.274 887.354 M163.274 883.65 Q169.084 883.65 172.14 888.257 Q175.218 892.84 175.218 901.59 Q175.218 910.317 172.14 914.923 Q169.084 919.507 163.274 919.507 Q157.464 919.507 154.385 914.923 Q151.329 910.317 151.329 901.59 Q151.329 892.84 154.385 888.257 Q157.464 883.65 163.274 883.65 Z\" fill=\"#000000\" fill-rule=\"evenodd\" fill-opacity=\"1\" /><path clip-path=\"url(#clip630)\" d=\"M 0 0 M129.293 633.738 L136.931 633.738 L136.931 607.373 L128.621 609.039 L128.621 604.78 L136.885 603.113 L141.561 603.113 L141.561 633.738 L149.2 633.738 L149.2 637.673 L129.293 637.673 L129.293 633.738 Z\" fill=\"#000000\" fill-rule=\"evenodd\" fill-opacity=\"1\" /><path clip-path=\"url(#clip630)\" d=\"M 0 0 M154.316 603.113 L172.672 603.113 L172.672 607.049 L158.598 607.049 L158.598 615.521 Q159.616 615.173 160.635 615.011 Q161.653 614.826 162.672 614.826 Q168.459 614.826 171.839 617.998 Q175.218 621.169 175.218 626.585 Q175.218 632.164 171.746 635.266 Q168.274 638.345 161.954 638.345 Q159.778 638.345 157.51 637.974 Q155.265 637.604 152.857 636.863 L152.857 632.164 Q154.941 633.298 157.163 633.854 Q159.385 634.409 161.862 634.409 Q165.866 634.409 168.204 632.303 Q170.542 630.197 170.542 626.585 Q170.542 622.974 168.204 620.868 Q165.866 618.761 161.862 618.761 Q159.987 618.761 158.112 619.178 Q156.26 619.595 154.316 620.474 L154.316 603.113 Z\" fill=\"#000000\" fill-rule=\"evenodd\" fill-opacity=\"1\" /><path clip-path=\"url(#clip630)\" d=\"M 0 0 M131.885 352.576 L148.204 352.576 L148.204 356.511 L126.26 356.511 L126.26 352.576 Q128.922 349.822 133.505 345.192 Q138.112 340.539 139.292 339.197 Q141.538 336.674 142.417 334.937 Q143.32 333.178 143.32 331.488 Q143.32 328.734 141.376 326.998 Q139.455 325.262 136.353 325.262 Q134.154 325.262 131.7 326.025 Q129.269 326.789 126.492 328.34 L126.492 323.618 Q129.316 322.484 131.769 321.905 Q134.223 321.326 136.26 321.326 Q141.63 321.326 144.825 324.012 Q148.019 326.697 148.019 331.187 Q148.019 333.317 147.209 335.238 Q146.422 337.137 144.316 339.729 Q143.737 340.4 140.635 343.618 Q137.533 346.812 131.885 352.576 Z\" fill=\"#000000\" fill-rule=\"evenodd\" fill-opacity=\"1\" /><path clip-path=\"url(#clip630)\" d=\"M 0 0 M163.274 325.03 Q159.663 325.03 157.834 328.595 Q156.029 332.137 156.029 339.266 Q156.029 346.373 157.834 349.937 Q159.663 353.479 163.274 353.479 Q166.908 353.479 168.714 349.937 Q170.542 346.373 170.542 339.266 Q170.542 332.137 168.714 328.595 Q166.908 325.03 163.274 325.03 M163.274 321.326 Q169.084 321.326 172.14 325.933 Q175.218 330.516 175.218 339.266 Q175.218 347.993 172.14 352.599 Q169.084 357.183 163.274 357.183 Q157.464 357.183 154.385 352.599 Q151.329 347.993 151.329 339.266 Q151.329 330.516 154.385 325.933 Q157.464 321.326 163.274 321.326 Z\" fill=\"#000000\" fill-rule=\"evenodd\" fill-opacity=\"1\" /><path clip-path=\"url(#clip630)\" d=\"M 0 0 M132.88 71.4143 L149.2 71.4143 L149.2 75.3495 L127.256 75.3495 L127.256 71.4143 Q129.918 68.6597 134.501 64.0301 Q139.107 59.3773 140.288 58.0348 Q142.533 55.5116 143.413 53.7755 Q144.316 52.0163 144.316 50.3265 Q144.316 47.5718 142.371 45.8357 Q140.45 44.0996 137.348 44.0996 Q135.149 44.0996 132.695 44.8635 Q130.265 45.6274 127.487 47.1783 L127.487 42.4561 Q130.311 41.3219 132.765 40.7432 Q135.218 40.1645 137.255 40.1645 Q142.626 40.1645 145.82 42.8497 Q149.015 45.5348 149.015 50.0255 Q149.015 52.1552 148.204 54.0764 Q147.417 55.9746 145.311 58.5672 Q144.732 59.2385 141.63 62.456 Q138.529 65.6505 132.88 71.4143 Z\" fill=\"#000000\" fill-rule=\"evenodd\" fill-opacity=\"1\" /><path clip-path=\"url(#clip630)\" d=\"M 0 0 M154.316 40.7895 L172.672 40.7895 L172.672 44.7246 L158.598 44.7246 L158.598 53.1968 Q159.616 52.8496 160.635 52.6876 Q161.653 52.5024 162.672 52.5024 Q168.459 52.5024 171.839 55.6737 Q175.218 58.8449 175.218 64.2616 Q175.218 69.8402 171.746 72.9421 Q168.274 76.0208 161.954 76.0208 Q159.778 76.0208 157.51 75.6504 Q155.265 75.28 152.857 74.5393 L152.857 69.8402 Q154.941 70.9745 157.163 71.5301 Q159.385 72.0856 161.862 72.0856 Q165.866 72.0856 168.204 69.9791 Q170.542 67.8727 170.542 64.2616 Q170.542 60.6505 168.204 58.544 Q165.866 56.4375 161.862 56.4375 Q159.987 56.4375 158.112 56.8542 Q156.26 57.2709 154.316 58.1505 L154.316 40.7895 Z\" fill=\"#000000\" fill-rule=\"evenodd\" fill-opacity=\"1\" /><path clip-path=\"url(#clip630)\" d=\"M 0 0 M1255.74 1521.76 L1255.74 1527.24 Q1253.26 1525.87 1250.75 1525.2 Q1248.26 1524.5 1245.72 1524.5 Q1240.02 1524.5 1236.87 1528.13 Q1233.72 1531.73 1233.72 1538.25 Q1233.72 1544.78 1236.87 1548.4 Q1240.02 1552 1245.72 1552 Q1248.26 1552 1250.75 1551.33 Q1253.26 1550.63 1255.74 1549.26 L1255.74 1554.68 Q1253.29 1555.82 1250.65 1556.39 Q1248.04 1556.97 1245.08 1556.97 Q1237.03 1556.97 1232.29 1551.91 Q1227.54 1546.85 1227.54 1538.25 Q1227.54 1529.53 1232.32 1524.53 Q1237.12 1519.54 1245.46 1519.54 Q1248.17 1519.54 1250.75 1520.11 Q1253.33 1520.65 1255.74 1521.76 Z\" fill=\"#000000\" fill-rule=\"evenodd\" fill-opacity=\"1\" /><path clip-path=\"url(#clip630)\" d=\"M 0 0 M1288.97 1566.87 L1288.97 1571.42 L1255.11 1571.42 L1255.11 1566.87 L1288.97 1566.87 Z\" fill=\"#000000\" fill-rule=\"evenodd\" fill-opacity=\"1\" /><path clip-path=\"url(#clip630)\" d=\"M 0 0 M1297.06 1550.63 L1307.56 1550.63 L1307.56 1514.38 L1296.13 1516.67 L1296.13 1510.82 L1307.5 1508.52 L1313.93 1508.52 L1313.93 1550.63 L1324.43 1550.63 L1324.43 1556.04 L1297.06 1556.04 L1297.06 1550.63 Z\" fill=\"#000000\" fill-rule=\"evenodd\" fill-opacity=\"1\" /><path clip-path=\"url(#clip630)\" d=\"M 0 0 M53.7248 755.2 L59.1993 755.2 Q57.8307 757.683 57.1623 760.197 Q56.4621 762.68 56.4621 765.226 Q56.4621 770.924 60.0905 774.075 Q63.6872 777.226 70.212 777.226 Q76.7369 777.226 80.3653 774.075 Q83.9619 770.924 83.9619 765.226 Q83.9619 762.68 83.2935 760.197 Q82.5933 757.683 81.2247 755.2 L86.6355 755.2 Q87.7814 757.651 88.3543 760.293 Q88.9272 762.903 88.9272 765.863 Q88.9272 773.915 83.8664 778.658 Q78.8057 783.4 70.212 783.4 Q61.491 783.4 56.4939 778.626 Q51.4968 773.82 51.4968 765.481 Q51.4968 762.775 52.0697 760.197 Q52.6108 757.619 53.7248 755.2 Z\" fill=\"#000000\" fill-rule=\"evenodd\" fill-opacity=\"1\" /><path clip-path=\"url(#clip630)\" d=\"M 0 0 M98.8259 721.971 L103.377 721.971 L103.377 755.837 L98.8259 755.837 L98.8259 721.971 Z\" fill=\"#000000\" fill-rule=\"evenodd\" fill-opacity=\"1\" /><path clip-path=\"url(#clip630)\" d=\"M 0 0 M82.5933 709.463 L82.5933 687.024 L88.0042 687.024 L88.0042 717.197 L82.5933 717.197 Q78.8057 713.537 72.44 707.235 Q66.0425 700.901 64.1964 699.278 Q60.7271 696.19 58.34 694.981 Q55.921 693.739 53.5975 693.739 Q49.8099 693.739 47.4228 696.413 Q45.0356 699.055 45.0356 703.32 Q45.0356 706.343 46.086 709.717 Q47.1363 713.059 49.2688 716.879 L42.7758 716.879 Q41.2162 712.996 40.4205 709.622 Q39.6248 706.248 39.6248 703.447 Q39.6248 696.063 43.3169 691.671 Q47.009 687.278 53.1837 687.278 Q56.112 687.278 58.7537 688.392 Q61.3637 689.474 64.9285 692.371 Q65.8515 693.166 70.2757 697.431 Q74.668 701.697 82.5933 709.463 Z\" fill=\"#000000\" fill-rule=\"evenodd\" fill-opacity=\"1\" /><polyline clip-path=\"url(#clip632)\" style=\"stroke:#009af9; stroke-width:4; stroke-opacity:1; fill:none\" points=\"\n",
       "  260.167,86.1857 367.096,114.302 474.024,142.418 580.953,170.534 687.881,198.65 794.809,226.767 901.738,254.883 1008.67,282.999 1115.59,311.115 1222.52,339.231 \n",
       "  1329.45,367.348 1436.38,395.464 1543.31,423.58 1650.24,451.696 1757.16,479.812 1864.09,507.929 1971.02,536.045 2077.95,564.161 2184.88,592.277 2291.81,620.393 \n",
       "  \n",
       "  \"/>\n",
       "<polyline clip-path=\"url(#clip632)\" style=\"stroke:#e26f46; stroke-width:4; stroke-opacity:1; fill:none\" points=\"\n",
       "  260.167,519.223 367.096,1001.15 474.024,1141.99 580.953,1211.12 687.881,1252.74 794.809,1280.76 901.738,1301 1008.67,1316.37 1115.59,1328.46 1222.52,1338.25 \n",
       "  1329.45,1346.35 1436.38,1353.17 1543.31,1358.99 1650.24,1364.04 1757.16,1368.45 1864.09,1372.34 1971.02,1375.8 2077.95,1378.91 2184.88,1381.7 2291.81,1384.24 \n",
       "  \n",
       "  \"/>\n",
       "<path clip-path=\"url(#clip630)\" d=\"\n",
       "M1772.01 312.204 L2280.76 312.204 L2280.76 130.764 L1772.01 130.764  Z\n",
       "  \" fill=\"#ffffff\" fill-rule=\"evenodd\" fill-opacity=\"1\"/>\n",
       "<polyline clip-path=\"url(#clip630)\" style=\"stroke:#000000; stroke-width:4; stroke-opacity:1; fill:none\" points=\"\n",
       "  1772.01,312.204 2280.76,312.204 2280.76,130.764 1772.01,130.764 1772.01,312.204 \n",
       "  \"/>\n",
       "<polyline clip-path=\"url(#clip630)\" style=\"stroke:#009af9; stroke-width:4; stroke-opacity:1; fill:none\" points=\"\n",
       "  1796.01,191.244 1940.01,191.244 \n",
       "  \"/>\n",
       "<path clip-path=\"url(#clip630)\" d=\"M 0 0 M1968.68 192.02 L1968.68 204.682 L1976.18 204.682 Q1979.96 204.682 1981.76 203.131 Q1983.59 201.557 1983.59 198.339 Q1983.59 195.098 1981.76 193.57 Q1979.96 192.02 1976.18 192.02 L1968.68 192.02 M1968.68 177.807 L1968.68 188.223 L1975.6 188.223 Q1979.03 188.223 1980.7 186.95 Q1982.39 185.654 1982.39 183.015 Q1982.39 180.399 1980.7 179.103 Q1979.03 177.807 1975.6 177.807 L1968.68 177.807 M1964.01 173.964 L1975.95 173.964 Q1981.3 173.964 1984.19 176.186 Q1987.09 178.409 1987.09 182.506 Q1987.09 185.677 1985.6 187.552 Q1984.12 189.427 1981.25 189.89 Q1984.7 190.631 1986.6 192.992 Q1988.52 195.33 1988.52 198.848 Q1988.52 203.478 1985.37 206.001 Q1982.22 208.524 1976.41 208.524 L1964.01 208.524 L1964.01 173.964 Z\" fill=\"#000000\" fill-rule=\"evenodd\" fill-opacity=\"1\" /><path clip-path=\"url(#clip630)\" d=\"M 0 0 M1992.55 198.293 L1992.55 182.598 L1996.81 182.598 L1996.81 198.131 Q1996.81 201.811 1998.24 203.663 Q1999.68 205.492 2002.55 205.492 Q2006 205.492 2007.99 203.293 Q2010 201.094 2010 197.297 L2010 182.598 L2014.26 182.598 L2014.26 208.524 L2010 208.524 L2010 204.543 Q2008.45 206.904 2006.39 208.061 Q2004.35 209.195 2001.65 209.195 Q1997.18 209.195 1994.86 206.418 Q1992.55 203.64 1992.55 198.293 M2003.27 181.973 L2003.27 181.973 Z\" fill=\"#000000\" fill-rule=\"evenodd\" fill-opacity=\"1\" /><path clip-path=\"url(#clip630)\" d=\"M 0 0 M2035.79 186.533 L2035.79 172.506 L2040.05 172.506 L2040.05 208.524 L2035.79 208.524 L2035.79 204.635 Q2034.45 206.95 2032.39 208.084 Q2030.35 209.195 2027.48 209.195 Q2022.78 209.195 2019.82 205.445 Q2016.88 201.695 2016.88 195.584 Q2016.88 189.473 2019.82 185.723 Q2022.78 181.973 2027.48 181.973 Q2030.35 181.973 2032.39 183.108 Q2034.45 184.219 2035.79 186.533 M2021.28 195.584 Q2021.28 200.283 2023.2 202.969 Q2025.14 205.631 2028.52 205.631 Q2031.9 205.631 2033.84 202.969 Q2035.79 200.283 2035.79 195.584 Q2035.79 190.885 2033.84 188.223 Q2031.9 185.538 2028.52 185.538 Q2025.14 185.538 2023.2 188.223 Q2021.28 190.885 2021.28 195.584 Z\" fill=\"#000000\" fill-rule=\"evenodd\" fill-opacity=\"1\" /><path clip-path=\"url(#clip630)\" d=\"M 0 0 M2061.58 195.26 Q2061.58 190.631 2059.65 188.084 Q2057.76 185.538 2054.31 185.538 Q2050.88 185.538 2048.96 188.084 Q2047.06 190.631 2047.06 195.26 Q2047.06 199.867 2048.96 202.413 Q2050.88 204.959 2054.31 204.959 Q2057.76 204.959 2059.65 202.413 Q2061.58 199.867 2061.58 195.26 M2065.84 205.307 Q2065.84 211.927 2062.9 215.144 Q2059.96 218.385 2053.89 218.385 Q2051.65 218.385 2049.66 218.038 Q2047.66 217.714 2045.79 217.019 L2045.79 212.876 Q2047.66 213.894 2049.49 214.381 Q2051.32 214.867 2053.22 214.867 Q2057.41 214.867 2059.49 212.668 Q2061.58 210.492 2061.58 206.07 L2061.58 203.964 Q2060.26 206.256 2058.2 207.39 Q2056.14 208.524 2053.27 208.524 Q2048.5 208.524 2045.58 204.89 Q2042.66 201.256 2042.66 195.26 Q2042.66 189.242 2045.58 185.608 Q2048.5 181.973 2053.27 181.973 Q2056.14 181.973 2058.2 183.108 Q2060.26 184.242 2061.58 186.533 L2061.58 182.598 L2065.84 182.598 L2065.84 205.307 Z\" fill=\"#000000\" fill-rule=\"evenodd\" fill-opacity=\"1\" /><path clip-path=\"url(#clip630)\" d=\"M 0 0 M2092.48 194.496 L2092.48 196.58 L2072.9 196.58 Q2073.17 200.978 2075.53 203.293 Q2077.92 205.584 2082.15 205.584 Q2084.61 205.584 2086.9 204.982 Q2089.22 204.381 2091.48 203.177 L2091.48 207.205 Q2089.19 208.177 2086.78 208.686 Q2084.38 209.195 2081.9 209.195 Q2075.7 209.195 2072.06 205.584 Q2068.45 201.973 2068.45 195.816 Q2068.45 189.45 2071.88 185.723 Q2075.33 181.973 2081.16 181.973 Q2086.39 181.973 2089.42 185.353 Q2092.48 188.709 2092.48 194.496 M2088.22 193.246 Q2088.17 189.751 2086.25 187.668 Q2084.35 185.584 2081.21 185.584 Q2077.64 185.584 2075.49 187.598 Q2073.36 189.612 2073.03 193.27 L2088.22 193.246 Z\" fill=\"#000000\" fill-rule=\"evenodd\" fill-opacity=\"1\" /><path clip-path=\"url(#clip630)\" d=\"M 0 0 M2101.16 175.237 L2101.16 182.598 L2109.93 182.598 L2109.93 185.908 L2101.16 185.908 L2101.16 199.982 Q2101.16 203.154 2102.02 204.057 Q2102.9 204.959 2105.56 204.959 L2109.93 204.959 L2109.93 208.524 L2105.56 208.524 Q2100.63 208.524 2098.75 206.695 Q2096.88 204.844 2096.88 199.982 L2096.88 185.908 L2093.75 185.908 L2093.75 182.598 L2096.88 182.598 L2096.88 175.237 L2101.16 175.237 Z\" fill=\"#000000\" fill-rule=\"evenodd\" fill-opacity=\"1\" /><path clip-path=\"url(#clip630)\" d=\"M 0 0 M2129.47 172.506 L2133.73 172.506 L2133.73 208.524 L2129.47 208.524 L2129.47 172.506 Z\" fill=\"#000000\" fill-rule=\"evenodd\" fill-opacity=\"1\" /><path clip-path=\"url(#clip630)\" d=\"M 0 0 M2138.2 182.598 L2142.46 182.598 L2142.46 208.524 L2138.2 208.524 L2138.2 182.598 M2138.2 172.506 L2142.46 172.506 L2142.46 177.899 L2138.2 177.899 L2138.2 172.506 Z\" fill=\"#000000\" fill-rule=\"evenodd\" fill-opacity=\"1\" /><path clip-path=\"url(#clip630)\" d=\"M 0 0 M2168.47 192.876 L2168.47 208.524 L2164.21 208.524 L2164.21 193.015 Q2164.21 189.334 2162.78 187.506 Q2161.34 185.677 2158.47 185.677 Q2155.02 185.677 2153.03 187.876 Q2151.04 190.075 2151.04 193.871 L2151.04 208.524 L2146.76 208.524 L2146.76 182.598 L2151.04 182.598 L2151.04 186.626 Q2152.57 184.288 2154.63 183.131 Q2156.71 181.973 2159.42 181.973 Q2163.89 181.973 2166.18 184.751 Q2168.47 187.506 2168.47 192.876 Z\" fill=\"#000000\" fill-rule=\"evenodd\" fill-opacity=\"1\" /><path clip-path=\"url(#clip630)\" d=\"M 0 0 M2195.12 194.496 L2195.12 196.58 L2175.53 196.58 Q2175.81 200.978 2178.17 203.293 Q2180.56 205.584 2184.79 205.584 Q2187.25 205.584 2189.54 204.982 Q2191.85 204.381 2194.12 203.177 L2194.12 207.205 Q2191.83 208.177 2189.42 208.686 Q2187.02 209.195 2184.54 209.195 Q2178.33 209.195 2174.7 205.584 Q2171.09 201.973 2171.09 195.816 Q2171.09 189.45 2174.52 185.723 Q2177.96 181.973 2183.8 181.973 Q2189.03 181.973 2192.06 185.353 Q2195.12 188.709 2195.12 194.496 M2190.86 193.246 Q2190.81 189.751 2188.89 187.668 Q2186.99 185.584 2183.84 185.584 Q2180.28 185.584 2178.13 187.598 Q2176 189.612 2175.67 193.27 L2190.86 193.246 Z\" fill=\"#000000\" fill-rule=\"evenodd\" fill-opacity=\"1\" /><polyline clip-path=\"url(#clip630)\" style=\"stroke:#e26f46; stroke-width:4; stroke-opacity:1; fill:none\" points=\"\n",
       "  1796.01,251.724 1940.01,251.724 \n",
       "  \"/>\n",
       "<path clip-path=\"url(#clip630)\" d=\"M 0 0 M1964.01 277.384 L1964.01 235.578 L1987.71 235.578 L1987.71 277.384 L1964.01 277.384 M1966.67 274.745 L1985.07 274.745 L1985.07 238.24 L1966.67 238.24 L1966.67 274.745 Z\" fill=\"#000000\" fill-rule=\"evenodd\" fill-opacity=\"1\" /><path clip-path=\"url(#clip630)\" d=\"M 0 0 M2003.96 255.972 Q1998.8 255.972 1996.81 257.152 Q1994.82 258.333 1994.82 261.18 Q1994.82 263.449 1996.3 264.791 Q1997.8 266.111 2000.37 266.111 Q2003.91 266.111 2006.04 263.611 Q2008.2 261.087 2008.2 256.921 L2008.2 255.972 L2003.96 255.972 M2012.46 254.213 L2012.46 269.004 L2008.2 269.004 L2008.2 265.069 Q2006.74 267.43 2004.56 268.564 Q2002.39 269.675 1999.24 269.675 Q1995.26 269.675 1992.9 267.453 Q1990.56 265.208 1990.56 261.458 Q1990.56 257.083 1993.47 254.861 Q1996.41 252.638 2002.22 252.638 L2008.2 252.638 L2008.2 252.222 Q2008.2 249.282 2006.25 247.685 Q2004.33 246.064 2000.84 246.064 Q1998.61 246.064 1996.51 246.597 Q1994.4 247.129 1992.46 248.194 L1992.46 244.259 Q1994.79 243.356 1996.99 242.916 Q1999.19 242.453 2001.28 242.453 Q2006.9 242.453 2009.68 245.37 Q2012.46 248.287 2012.46 254.213 Z\" fill=\"#000000\" fill-rule=\"evenodd\" fill-opacity=\"1\" /><path clip-path=\"url(#clip630)\" d=\"M 0 0 M2031.95 247.06 Q2031.23 246.643 2030.37 246.458 Q2029.54 246.25 2028.52 246.25 Q2024.91 246.25 2022.97 248.611 Q2021.04 250.949 2021.04 255.347 L2021.04 269.004 L2016.76 269.004 L2016.76 243.078 L2021.04 243.078 L2021.04 247.106 Q2022.39 244.745 2024.54 243.611 Q2026.69 242.453 2029.77 242.453 Q2030.21 242.453 2030.74 242.523 Q2031.28 242.569 2031.92 242.685 L2031.95 247.06 Z\" fill=\"#000000\" fill-rule=\"evenodd\" fill-opacity=\"1\" /><path clip-path=\"url(#clip630)\" d=\"M 0 0 M2056.18 273.402 L2056.18 276.736 L2054.75 276.736 Q2048.98 276.736 2047.02 275.023 Q2045.07 273.31 2045.07 268.194 L2045.07 262.662 Q2045.07 259.166 2043.82 257.824 Q2042.57 256.481 2039.28 256.481 L2037.87 256.481 L2037.87 253.171 L2039.28 253.171 Q2042.59 253.171 2043.82 251.851 Q2045.07 250.509 2045.07 247.06 L2045.07 241.504 Q2045.07 236.389 2047.02 234.699 Q2048.98 232.986 2054.75 232.986 L2056.18 232.986 L2056.18 236.296 L2054.61 236.296 Q2051.34 236.296 2050.35 237.314 Q2049.35 238.333 2049.35 241.597 L2049.35 247.338 Q2049.35 250.972 2048.29 252.615 Q2047.25 254.259 2044.7 254.838 Q2047.27 255.463 2048.31 257.106 Q2049.35 258.75 2049.35 262.361 L2049.35 268.101 Q2049.35 271.365 2050.35 272.384 Q2051.34 273.402 2054.61 273.402 L2056.18 273.402 Z\" fill=\"#000000\" fill-rule=\"evenodd\" fill-opacity=\"1\" /><path clip-path=\"url(#clip630)\" d=\"M 0 0 M2060.21 258.773 L2060.21 243.078 L2064.47 243.078 L2064.47 258.611 Q2064.47 262.291 2065.9 264.143 Q2067.34 265.972 2070.21 265.972 Q2073.66 265.972 2075.65 263.773 Q2077.66 261.574 2077.66 257.777 L2077.66 243.078 L2081.92 243.078 L2081.92 269.004 L2077.66 269.004 L2077.66 265.023 Q2076.11 267.384 2074.05 268.541 Q2072.02 269.675 2069.31 269.675 Q2064.84 269.675 2062.53 266.898 Q2060.21 264.12 2060.21 258.773 M2070.93 242.453 L2070.93 242.453 Z\" fill=\"#000000\" fill-rule=\"evenodd\" fill-opacity=\"1\" /><path clip-path=\"url(#clip630)\" d=\"M 0 0 M2087.85 273.402 L2089.47 273.402 Q2092.71 273.402 2093.68 272.407 Q2094.68 271.411 2094.68 268.101 L2094.68 262.361 Q2094.68 258.75 2095.72 257.106 Q2096.76 255.463 2099.33 254.838 Q2096.76 254.259 2095.72 252.615 Q2094.68 250.972 2094.68 247.338 L2094.68 241.597 Q2094.68 238.31 2093.68 237.314 Q2092.71 236.296 2089.47 236.296 L2087.85 236.296 L2087.85 232.986 L2089.31 232.986 Q2095.07 232.986 2096.99 234.699 Q2098.94 236.389 2098.94 241.504 L2098.94 247.06 Q2098.94 250.509 2100.19 251.851 Q2101.44 253.171 2104.72 253.171 L2106.16 253.171 L2106.16 256.481 L2104.72 256.481 Q2101.44 256.481 2100.19 257.824 Q2098.94 259.166 2098.94 262.662 L2098.94 268.194 Q2098.94 273.31 2096.99 275.023 Q2095.07 276.736 2089.31 276.736 L2087.85 276.736 L2087.85 273.402 Z\" fill=\"#000000\" fill-rule=\"evenodd\" fill-opacity=\"1\" /><path clip-path=\"url(#clip630)\" d=\"M 0 0 M2126.25 247.476 L2155.93 247.476 L2155.93 251.365 L2126.25 251.365 L2126.25 247.476 M2126.25 256.921 L2155.93 256.921 L2155.93 260.856 L2126.25 260.856 L2126.25 256.921 Z\" fill=\"#000000\" fill-rule=\"evenodd\" fill-opacity=\"1\" /><path clip-path=\"url(#clip630)\" d=\"M 0 0 M2176.88 265.069 L2184.52 265.069 L2184.52 238.703 L2176.21 240.37 L2176.21 236.111 L2184.47 234.444 L2189.15 234.444 L2189.15 265.069 L2196.78 265.069 L2196.78 269.004 L2176.88 269.004 L2176.88 265.069 Z\" fill=\"#000000\" fill-rule=\"evenodd\" fill-opacity=\"1\" /><path clip-path=\"url(#clip630)\" d=\"M 0 0 M2201.85 263.124 L2206.74 263.124 L2206.74 269.004 L2201.85 269.004 L2201.85 263.124 Z\" fill=\"#000000\" fill-rule=\"evenodd\" fill-opacity=\"1\" /><path clip-path=\"url(#clip630)\" d=\"M 0 0 M2211.85 234.444 L2230.21 234.444 L2230.21 238.379 L2216.14 238.379 L2216.14 246.851 Q2217.15 246.504 2218.17 246.342 Q2219.19 246.157 2220.21 246.157 Q2226 246.157 2229.38 249.328 Q2232.76 252.5 2232.76 257.916 Q2232.76 263.495 2229.28 266.597 Q2225.81 269.675 2219.49 269.675 Q2217.32 269.675 2215.05 269.305 Q2212.8 268.935 2210.39 268.194 L2210.39 263.495 Q2212.48 264.629 2214.7 265.185 Q2216.92 265.74 2219.4 265.74 Q2223.4 265.74 2225.74 263.634 Q2228.08 261.527 2228.08 257.916 Q2228.08 254.305 2225.74 252.199 Q2223.4 250.092 2219.4 250.092 Q2217.52 250.092 2215.65 250.509 Q2213.8 250.925 2211.85 251.805 L2211.85 234.444 Z\" fill=\"#000000\" fill-rule=\"evenodd\" fill-opacity=\"1\" /></svg>\n"
      ]
     },
     "execution_count": 57,
     "metadata": {},
     "output_type": "execute_result"
    }
   ],
   "source": [
    "pl = plot(c1,B, label=\"Budget line\",xlabel=\"c_1\", ylabel = \"c_2\")\n",
    "plot!(pl, c1, Iso,  label=\"\\bar{u} = 1.5\")"
   ]
  },
  {
   "cell_type": "markdown",
   "metadata": {},
   "source": [
    "Below is the function that computers the choices of c_1 and c_2 given the values for the initial paramaters. An example is calculated that it works!"
   ]
  },
  {
   "cell_type": "code",
   "execution_count": 58,
   "metadata": {},
   "outputs": [
    {
     "data": {
      "text/plain": [
       "2-element Array{Float64,1}:\n",
       " 22.527272727272727\n",
       " 13.736363636363635"
      ]
     },
     "execution_count": 58,
     "metadata": {},
     "output_type": "execute_result"
    }
   ],
   "source": [
    "function get_c(p)\n",
    "    I  = p[:I]\n",
    "    γ1 = p[:γ1]\n",
    "    γ2 = p[:γ2]\n",
    "    β1 = p[:β1]\n",
    "    β2 = p[:β2]\n",
    "    p1 = p[:p1]\n",
    "    p2 = p[:p2]  \n",
    "    c1 = (β1*(I-p2*γ2) + γ1*p1*β2)/(p1*β2 + β1*p1)\n",
    "    c2 = (β2*(I-p1*γ1) + γ2*p2*β1)/(p2*β1 + β2*p2)\n",
    "   return [c1,c2]\n",
    "end\n",
    "\n",
    "get_c(p)"
   ]
  },
  {
   "cell_type": "code",
   "execution_count": null,
   "metadata": {},
   "outputs": [],
   "source": []
  }
 ],
 "metadata": {
  "kernelspec": {
   "display_name": "Julia 1.4.1",
   "language": "julia",
   "name": "julia-1.4"
  },
  "language_info": {
   "file_extension": ".jl",
   "mimetype": "application/julia",
   "name": "julia",
   "version": "1.4.1"
  }
 },
 "nbformat": 4,
 "nbformat_minor": 4
}
