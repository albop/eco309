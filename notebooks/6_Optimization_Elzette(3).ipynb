{
 "cells": [
  {
   "cell_type": "markdown",
   "metadata": {},
   "source": [
    "# Optimization (tutorial)\n",
    "\n",
    "In this tutorial you will learn to code and use common optimization algorithms for static models."
   ]
  },
  {
   "cell_type": "code",
   "execution_count": 27,
   "metadata": {},
   "outputs": [
    {
     "name": "stderr",
     "output_type": "stream",
     "text": [
      "┌ Info: Precompiling Plots [91a5bcdd-55d7-5caf-9e0b-520d859cae80]\n",
      "└ @ Base loading.jl:1260\n",
      "ERROR: LoadError: LoadError: EOFError: read end of file\n",
      "Stacktrace:\n",
      " [1] read(::IOStream, ::Type{Int64}) at /Applications/JuliaPro-1.4.0-1.app/Contents/Resources/julia/Contents/Resources/julia/lib/julia/sys.dylib:?\n",
      " [2] parse_cache_header(::IOStream) at /Applications/JuliaPro-1.4.0-1.app/Contents/Resources/julia/Contents/Resources/julia/lib/julia/sys.dylib:?\n",
      " [3] stale_cachefile(::String, ::String) at /Applications/JuliaPro-1.4.0-1.app/Contents/Resources/julia/Contents/Resources/julia/lib/julia/sys.dylib:?\n",
      " [4] _require_search_from_serialized(::Base.PkgId, ::String) at /Applications/JuliaPro-1.4.0-1.app/Contents/Resources/julia/Contents/Resources/julia/lib/julia/sys.dylib:?\n",
      " [5] _require(::Base.PkgId) at /Applications/JuliaPro-1.4.0-1.app/Contents/Resources/julia/Contents/Resources/julia/lib/julia/sys.dylib:?\n",
      " [6] require(::Base.PkgId) at /Applications/JuliaPro-1.4.0-1.app/Contents/Resources/julia/Contents/Resources/julia/lib/julia/sys.dylib:?\n",
      " [7] require(::Module, ::Symbol) at /Applications/JuliaPro-1.4.0-1.app/Contents/Resources/julia/Contents/Resources/julia/lib/julia/sys.dylib:?\n",
      " [8] include(::Module, ::String) at /Applications/JuliaPro-1.4.0-1.app/Contents/Resources/julia/Contents/Resources/julia/lib/julia/sys.dylib:?\n",
      " [9] include(::String) at /Users/Elzette/.juliapro/JuliaPro_v1.4.0-1/packages/FFMPEG_jll/tCUYA/src/FFMPEG_jll.jl:1\n",
      " [10] top-level scope at /Users/Elzette/.juliapro/JuliaPro_v1.4.0-1/packages/FFMPEG_jll/tCUYA/src/FFMPEG_jll.jl:50\n",
      " [11] include(::Module, ::String) at /Applications/JuliaPro-1.4.0-1.app/Contents/Resources/julia/Contents/Resources/julia/lib/julia/sys.dylib:?\n",
      " [12] top-level scope at none:2\n",
      " [13] eval at ./boot.jl:331 [inlined]\n",
      "in expression starting at /Users/Elzette/.juliapro/JuliaPro_v1.4.0-1/packages/FFMPEG_jll/tCUYA/src/wrappers/x86_64-apple-darwin14.jl:16\n",
      "in expression starting at /Users/Elzette/.juliapro/JuliaPro_v1.4.0-1/packages/FFMPEG_jll/tCUYA/src/FFMPEG_jll.jl:43\n",
      "ERROR: LoadError: Failed to precompile FFMPEG_jll [b22a6f82-2f65-5046-a5b2-351ab43fb4e5] to /Users/Elzette/.juliapro/JuliaPro_v1.4.0-1/compiled/v1.4/FFMPEG_jll/uSD0T_F2mWv.ji.\n",
      "Stacktrace:\n",
      " [1] error(::String) at /Applications/JuliaPro-1.4.0-1.app/Contents/Resources/julia/Contents/Resources/julia/lib/julia/sys.dylib:?\n",
      " [2] compilecache(::Base.PkgId, ::String) at /Applications/JuliaPro-1.4.0-1.app/Contents/Resources/julia/Contents/Resources/julia/lib/julia/sys.dylib:?\n",
      " [3] _require(::Base.PkgId) at /Applications/JuliaPro-1.4.0-1.app/Contents/Resources/julia/Contents/Resources/julia/lib/julia/sys.dylib:?\n",
      " [4] require(::Base.PkgId) at /Applications/JuliaPro-1.4.0-1.app/Contents/Resources/julia/Contents/Resources/julia/lib/julia/sys.dylib:?\n",
      " [5] require(::Module, ::Symbol) at /Applications/JuliaPro-1.4.0-1.app/Contents/Resources/julia/Contents/Resources/julia/lib/julia/sys.dylib:?\n",
      " [6] include(::Module, ::String) at /Applications/JuliaPro-1.4.0-1.app/Contents/Resources/julia/Contents/Resources/julia/lib/julia/sys.dylib:?\n",
      " [7] top-level scope at none:2\n",
      " [8] eval at ./boot.jl:331 [inlined]\n",
      "in expression starting at /Users/Elzette/.juliapro/JuliaPro_v1.4.0-1/packages/FFMPEG/vocw2/src/FFMPEG.jl:3\n",
      "ERROR: LoadError: Failed to precompile FFMPEG [c87230d0-a227-11e9-1b43-d7ebe4e7570a] to /Users/Elzette/.juliapro/JuliaPro_v1.4.0-1/compiled/v1.4/FFMPEG/TGvga_F2mWv.ji.\n",
      "Stacktrace:\n",
      " [1] error(::String) at /Applications/JuliaPro-1.4.0-1.app/Contents/Resources/julia/Contents/Resources/julia/lib/julia/sys.dylib:?\n",
      " [2] compilecache(::Base.PkgId, ::String) at /Applications/JuliaPro-1.4.0-1.app/Contents/Resources/julia/Contents/Resources/julia/lib/julia/sys.dylib:?\n",
      " [3] _require(::Base.PkgId) at /Applications/JuliaPro-1.4.0-1.app/Contents/Resources/julia/Contents/Resources/julia/lib/julia/sys.dylib:?\n",
      " [4] require(::Base.PkgId) at /Applications/JuliaPro-1.4.0-1.app/Contents/Resources/julia/Contents/Resources/julia/lib/julia/sys.dylib:?\n",
      " [5] require(::Module, ::Symbol) at /Applications/JuliaPro-1.4.0-1.app/Contents/Resources/julia/Contents/Resources/julia/lib/julia/sys.dylib:?\n",
      " [6] include(::Module, ::String) at /Applications/JuliaPro-1.4.0-1.app/Contents/Resources/julia/Contents/Resources/julia/lib/julia/sys.dylib:?\n",
      " [7] top-level scope at none:2\n",
      " [8] eval at ./boot.jl:331 [inlined]\n",
      "in expression starting at /Users/Elzette/.juliapro/JuliaPro_v1.4.0-1/packages/Plots/cc8wh/src/Plots.jl:11\n"
     ]
    },
    {
     "ename": "ErrorException",
     "evalue": "Failed to precompile Plots [91a5bcdd-55d7-5caf-9e0b-520d859cae80] to /Users/Elzette/.juliapro/JuliaPro_v1.4.0-1/compiled/v1.4/Plots/ld3vC_F2mWv.ji.",
     "output_type": "error",
     "traceback": [
      "Failed to precompile Plots [91a5bcdd-55d7-5caf-9e0b-520d859cae80] to /Users/Elzette/.juliapro/JuliaPro_v1.4.0-1/compiled/v1.4/Plots/ld3vC_F2mWv.ji.",
      "",
      "Stacktrace:",
      " [1] error(::String) at /Applications/JuliaPro-1.4.0-1.app/Contents/Resources/julia/Contents/Resources/julia/lib/julia/sys.dylib:?",
      " [2] compilecache(::Base.PkgId, ::String) at ./loading.jl:1272",
      " [3] _require(::Base.PkgId) at ./loading.jl:1029",
      " [4] require(::Base.PkgId) at ./loading.jl:927",
      " [5] require(::Module, ::Symbol) at ./loading.jl:922",
      " [6] top-level scope at In[27]:1"
     ]
    }
   ],
   "source": [
    "using Plots"
   ]
  },
  {
   "cell_type": "markdown",
   "metadata": {},
   "source": [
    "\n",
    "---\n",
    "\n",
    "## Profit optimization by a monopolist\n",
    "\n",
    "A monopolist produces quantity $q$ of goods X at price $p$. Its cost function is $c(q) = 0.5 + q (1-qe^{-q})$\n",
    "\n",
    "The consumer's demand for price $p$ is $x(p)=2 e^{-0.5 p}$ (constant elasticity of demand to price).\n",
    "\n",
    "__Write down the profit function of the monopolist and find the optimal production (if any). Don't use any library except for plotting.__\n",
    "\n"
   ]
  },
  {
   "cell_type": "markdown",
   "metadata": {},
   "source": [
    "We will firstly write the profit function of the monopoly economy. It is will known that the profit is given by the difference between the revenue and the total cost. The revenue was calculated by using the inverse demand. "
   ]
  },
  {
   "cell_type": "code",
   "execution_count": 1,
   "metadata": {},
   "outputs": [
    {
     "data": {
      "text/plain": [
       "profit (generic function with 1 method)"
      ]
     },
     "execution_count": 1,
     "metadata": {},
     "output_type": "execute_result"
    }
   ],
   "source": [
    "function profit(q)\n",
    "    cost = 0.5 + q*( 1-q*exp(-q) )\n",
    "    revenue = (-2)*log( q/2 )* q\n",
    "    return revenue - cost\n",
    "end\n"
   ]
  },
  {
   "cell_type": "markdown",
   "metadata": {},
   "source": [
    "As can be seen the function above is convex thereby any local maxima will be a global one. We will now use a optimization technique seen in the lecture to find the global maxima of the profit function. To do this, we also need a marginal profit function. "
   ]
  },
  {
   "cell_type": "code",
   "execution_count": 152,
   "metadata": {},
   "outputs": [
    {
     "data": {
      "text/plain": [
       "golden_search (generic function with 3 methods)"
      ]
     },
     "execution_count": 152,
     "metadata": {},
     "output_type": "execute_result"
    }
   ],
   "source": [
    "function golden_search(func, a = 0.01, b = 10)\n",
    "    \"Maximise func where func is a concave function\"\n",
    "    ϕ = (sqrt(5) -1)/2\n",
    "    ϵ = 0.0000001\n",
    "    while abs(a - b)> ϵ\n",
    "        c = a + ϕ*(b -a)\n",
    "        d = a +(1-ϕ)*(b-a)\n",
    "        if func(c) < func(d)\n",
    "            b = d    \n",
    "        else\n",
    "            a = c\n",
    "        end  \n",
    "        println(a,b,c,d)\n",
    "    end \n",
    "    return a,b \n",
    "end "
   ]
  },
  {
   "cell_type": "code",
   "execution_count": 142,
   "metadata": {},
   "outputs": [
    {
     "name": "stdout",
     "output_type": "stream",
     "text": [
      "(0.5621971116090931, 0.5621971552666952)\n"
     ]
    }
   ],
   "source": [
    "q = golden_search(profit)\n",
    "println(q)\n"
   ]
  },
  {
   "cell_type": "code",
   "execution_count": null,
   "metadata": {},
   "outputs": [],
   "source": [
    "function mprofit(q) \n",
    "    mC = 1 -q*exp(-q) + q*( q*exp(-q)-exp(-q) )\n",
    "    mR = (-2)*log(q/2) - 4\n",
    "    return mR-mC\n",
    "end"
   ]
  },
  {
   "cell_type": "code",
   "execution_count": 145,
   "metadata": {},
   "outputs": [
    {
     "data": {
      "text/plain": [
       "10-element Array{Float64,1}:\n",
       " -3.245826197708667\n",
       " -5.0\n",
       " -5.960291421319921\n",
       " -6.532819472229765\n",
       " -6.933650668734592\n",
       " -7.256714629576212\n",
       " -7.537441805785145\n",
       " -7.788690928379102\n",
       " -8.015929611210009\n",
       " -8.2225078192492"
      ]
     },
     "execution_count": 145,
     "metadata": {},
     "output_type": "execute_result"
    }
   ],
   "source": [
    "prof = [profit(i)  for i in 1:10]\n",
    "mP = [mprofit(i) for i in 1:10 ]"
   ]
  },
  {
   "cell_type": "code",
   "execution_count": 146,
   "metadata": {},
   "outputs": [
    {
     "data": {
      "image/svg+xml": [
       "<?xml version=\"1.0\" encoding=\"utf-8\"?>\n",
       "<svg xmlns=\"http://www.w3.org/2000/svg\" xmlns:xlink=\"http://www.w3.org/1999/xlink\" width=\"600\" height=\"400\" viewBox=\"0 0 2400 1600\">\n",
       "<defs>\n",
       "  <clipPath id=\"clip3500\">\n",
       "    <rect x=\"0\" y=\"0\" width=\"2400\" height=\"1600\"/>\n",
       "  </clipPath>\n",
       "</defs>\n",
       "<path clip-path=\"url(#clip3500)\" d=\"\n",
       "M0 1600 L2400 1600 L2400 0 L0 0  Z\n",
       "  \" fill=\"#ffffff\" fill-rule=\"evenodd\" fill-opacity=\"1\"/>\n",
       "<defs>\n",
       "  <clipPath id=\"clip3501\">\n",
       "    <rect x=\"480\" y=\"0\" width=\"1681\" height=\"1600\"/>\n",
       "  </clipPath>\n",
       "</defs>\n",
       "<path clip-path=\"url(#clip3500)\" d=\"\n",
       "M153.983 1486.45 L2352.76 1486.45 L2352.76 47.2441 L153.983 47.2441  Z\n",
       "  \" fill=\"#ffffff\" fill-rule=\"evenodd\" fill-opacity=\"1\"/>\n",
       "<defs>\n",
       "  <clipPath id=\"clip3502\">\n",
       "    <rect x=\"153\" y=\"47\" width=\"2200\" height=\"1440\"/>\n",
       "  </clipPath>\n",
       "</defs>\n",
       "<polyline clip-path=\"url(#clip3502)\" style=\"stroke:#000000; stroke-width:2; stroke-opacity:0.1; fill:none\" points=\"\n",
       "  446.691,1486.45 446.691,47.2441 \n",
       "  \"/>\n",
       "<polyline clip-path=\"url(#clip3502)\" style=\"stroke:#000000; stroke-width:2; stroke-opacity:0.1; fill:none\" points=\"\n",
       "  907.65,1486.45 907.65,47.2441 \n",
       "  \"/>\n",
       "<polyline clip-path=\"url(#clip3502)\" style=\"stroke:#000000; stroke-width:2; stroke-opacity:0.1; fill:none\" points=\"\n",
       "  1368.61,1486.45 1368.61,47.2441 \n",
       "  \"/>\n",
       "<polyline clip-path=\"url(#clip3502)\" style=\"stroke:#000000; stroke-width:2; stroke-opacity:0.1; fill:none\" points=\"\n",
       "  1829.57,1486.45 1829.57,47.2441 \n",
       "  \"/>\n",
       "<polyline clip-path=\"url(#clip3502)\" style=\"stroke:#000000; stroke-width:2; stroke-opacity:0.1; fill:none\" points=\"\n",
       "  2290.53,1486.45 2290.53,47.2441 \n",
       "  \"/>\n",
       "<polyline clip-path=\"url(#clip3502)\" style=\"stroke:#000000; stroke-width:2; stroke-opacity:0.1; fill:none\" points=\"\n",
       "  153.983,1360.84 2352.76,1360.84 \n",
       "  \"/>\n",
       "<polyline clip-path=\"url(#clip3502)\" style=\"stroke:#000000; stroke-width:2; stroke-opacity:0.1; fill:none\" points=\"\n",
       "  153.983,1044.63 2352.76,1044.63 \n",
       "  \"/>\n",
       "<polyline clip-path=\"url(#clip3502)\" style=\"stroke:#000000; stroke-width:2; stroke-opacity:0.1; fill:none\" points=\"\n",
       "  153.983,728.426 2352.76,728.426 \n",
       "  \"/>\n",
       "<polyline clip-path=\"url(#clip3502)\" style=\"stroke:#000000; stroke-width:2; stroke-opacity:0.1; fill:none\" points=\"\n",
       "  153.983,412.22 2352.76,412.22 \n",
       "  \"/>\n",
       "<polyline clip-path=\"url(#clip3502)\" style=\"stroke:#000000; stroke-width:2; stroke-opacity:0.1; fill:none\" points=\"\n",
       "  153.983,96.0134 2352.76,96.0134 \n",
       "  \"/>\n",
       "<polyline clip-path=\"url(#clip3500)\" style=\"stroke:#000000; stroke-width:4; stroke-opacity:1; fill:none\" points=\"\n",
       "  153.983,1486.45 2352.76,1486.45 \n",
       "  \"/>\n",
       "<polyline clip-path=\"url(#clip3500)\" style=\"stroke:#000000; stroke-width:4; stroke-opacity:1; fill:none\" points=\"\n",
       "  153.983,1486.45 153.983,47.2441 \n",
       "  \"/>\n",
       "<polyline clip-path=\"url(#clip3500)\" style=\"stroke:#000000; stroke-width:4; stroke-opacity:1; fill:none\" points=\"\n",
       "  446.691,1486.45 446.691,1469.18 \n",
       "  \"/>\n",
       "<polyline clip-path=\"url(#clip3500)\" style=\"stroke:#000000; stroke-width:4; stroke-opacity:1; fill:none\" points=\"\n",
       "  907.65,1486.45 907.65,1469.18 \n",
       "  \"/>\n",
       "<polyline clip-path=\"url(#clip3500)\" style=\"stroke:#000000; stroke-width:4; stroke-opacity:1; fill:none\" points=\"\n",
       "  1368.61,1486.45 1368.61,1469.18 \n",
       "  \"/>\n",
       "<polyline clip-path=\"url(#clip3500)\" style=\"stroke:#000000; stroke-width:4; stroke-opacity:1; fill:none\" points=\"\n",
       "  1829.57,1486.45 1829.57,1469.18 \n",
       "  \"/>\n",
       "<polyline clip-path=\"url(#clip3500)\" style=\"stroke:#000000; stroke-width:4; stroke-opacity:1; fill:none\" points=\"\n",
       "  2290.53,1486.45 2290.53,1469.18 \n",
       "  \"/>\n",
       "<polyline clip-path=\"url(#clip3500)\" style=\"stroke:#000000; stroke-width:4; stroke-opacity:1; fill:none\" points=\"\n",
       "  153.983,1360.84 180.368,1360.84 \n",
       "  \"/>\n",
       "<polyline clip-path=\"url(#clip3500)\" style=\"stroke:#000000; stroke-width:4; stroke-opacity:1; fill:none\" points=\"\n",
       "  153.983,1044.63 180.368,1044.63 \n",
       "  \"/>\n",
       "<polyline clip-path=\"url(#clip3500)\" style=\"stroke:#000000; stroke-width:4; stroke-opacity:1; fill:none\" points=\"\n",
       "  153.983,728.426 180.368,728.426 \n",
       "  \"/>\n",
       "<polyline clip-path=\"url(#clip3500)\" style=\"stroke:#000000; stroke-width:4; stroke-opacity:1; fill:none\" points=\"\n",
       "  153.983,412.22 180.368,412.22 \n",
       "  \"/>\n",
       "<polyline clip-path=\"url(#clip3500)\" style=\"stroke:#000000; stroke-width:4; stroke-opacity:1; fill:none\" points=\"\n",
       "  153.983,96.0134 180.368,96.0134 \n",
       "  \"/>\n",
       "<path clip-path=\"url(#clip3500)\" d=\"M 0 0 M441.344 1535.98 L457.663 1535.98 L457.663 1539.92 L435.719 1539.92 L435.719 1535.98 Q438.381 1533.23 442.965 1528.6 Q447.571 1523.95 448.752 1522.61 Q450.997 1520.08 451.876 1518.35 Q452.779 1516.59 452.779 1514.9 Q452.779 1512.14 450.835 1510.41 Q448.914 1508.67 445.812 1508.67 Q443.613 1508.67 441.159 1509.43 Q438.728 1510.2 435.951 1511.75 L435.951 1507.03 Q438.775 1505.89 441.228 1505.31 Q443.682 1504.73 445.719 1504.73 Q451.089 1504.73 454.284 1507.42 Q457.478 1510.11 457.478 1514.6 Q457.478 1516.73 456.668 1518.65 Q455.881 1520.54 453.775 1523.14 Q453.196 1523.81 450.094 1527.03 Q446.992 1530.22 441.344 1535.98 Z\" fill=\"#000000\" fill-rule=\"evenodd\" fill-opacity=\"1\" /><path clip-path=\"url(#clip3500)\" d=\"M 0 0 M910.659 1509.43 L898.854 1527.88 L910.659 1527.88 L910.659 1509.43 M909.433 1505.36 L915.312 1505.36 L915.312 1527.88 L920.243 1527.88 L920.243 1531.77 L915.312 1531.77 L915.312 1539.92 L910.659 1539.92 L910.659 1531.77 L895.058 1531.77 L895.058 1527.26 L909.433 1505.36 Z\" fill=\"#000000\" fill-rule=\"evenodd\" fill-opacity=\"1\" /><path clip-path=\"url(#clip3500)\" d=\"M 0 0 M1369.01 1520.78 Q1365.87 1520.78 1364.01 1522.93 Q1362.19 1525.08 1362.19 1528.83 Q1362.19 1532.56 1364.01 1534.73 Q1365.87 1536.89 1369.01 1536.89 Q1372.16 1536.89 1373.99 1534.73 Q1375.84 1532.56 1375.84 1528.83 Q1375.84 1525.08 1373.99 1522.93 Q1372.16 1520.78 1369.01 1520.78 M1378.3 1506.12 L1378.3 1510.38 Q1376.54 1509.55 1374.73 1509.11 Q1372.95 1508.67 1371.19 1508.67 Q1366.56 1508.67 1364.11 1511.8 Q1361.68 1514.92 1361.33 1521.24 Q1362.69 1519.23 1364.75 1518.16 Q1366.81 1517.07 1369.29 1517.07 Q1374.5 1517.07 1377.51 1520.24 Q1380.54 1523.39 1380.54 1528.83 Q1380.54 1534.16 1377.39 1537.37 Q1374.25 1540.59 1369.01 1540.59 Q1363.02 1540.59 1359.85 1536.01 Q1356.68 1531.4 1356.68 1522.67 Q1356.68 1514.48 1360.56 1509.62 Q1364.45 1504.73 1371 1504.73 Q1372.76 1504.73 1374.55 1505.08 Q1376.35 1505.43 1378.3 1506.12 Z\" fill=\"#000000\" fill-rule=\"evenodd\" fill-opacity=\"1\" /><path clip-path=\"url(#clip3500)\" d=\"M 0 0 M1829.57 1523.51 Q1826.23 1523.51 1824.31 1525.29 Q1822.41 1527.07 1822.41 1530.2 Q1822.41 1533.32 1824.31 1535.11 Q1826.23 1536.89 1829.57 1536.89 Q1832.9 1536.89 1834.82 1535.11 Q1836.74 1533.3 1836.74 1530.2 Q1836.74 1527.07 1834.82 1525.29 Q1832.92 1523.51 1829.57 1523.51 M1824.89 1521.52 Q1821.88 1520.78 1820.19 1518.72 Q1818.53 1516.66 1818.53 1513.69 Q1818.53 1509.55 1821.47 1507.14 Q1824.43 1504.73 1829.57 1504.73 Q1834.73 1504.73 1837.67 1507.14 Q1840.61 1509.55 1840.61 1513.69 Q1840.61 1516.66 1838.92 1518.72 Q1837.25 1520.78 1834.27 1521.52 Q1837.65 1522.3 1839.52 1524.6 Q1841.42 1526.89 1841.42 1530.2 Q1841.42 1535.22 1838.34 1537.91 Q1835.29 1540.59 1829.57 1540.59 Q1823.85 1540.59 1820.77 1537.91 Q1817.72 1535.22 1817.72 1530.2 Q1817.72 1526.89 1819.61 1524.6 Q1821.51 1522.3 1824.89 1521.52 M1823.18 1514.13 Q1823.18 1516.82 1824.85 1518.32 Q1826.54 1519.83 1829.57 1519.83 Q1832.58 1519.83 1834.27 1518.32 Q1835.98 1516.82 1835.98 1514.13 Q1835.98 1511.45 1834.27 1509.94 Q1832.58 1508.44 1829.57 1508.44 Q1826.54 1508.44 1824.85 1509.94 Q1823.18 1511.45 1823.18 1514.13 Z\" fill=\"#000000\" fill-rule=\"evenodd\" fill-opacity=\"1\" /><path clip-path=\"url(#clip3500)\" d=\"M 0 0 M2267.4 1535.98 L2275.04 1535.98 L2275.04 1509.62 L2266.73 1511.29 L2266.73 1507.03 L2274.99 1505.36 L2279.67 1505.36 L2279.67 1535.98 L2287.31 1535.98 L2287.31 1539.92 L2267.4 1539.92 L2267.4 1535.98 Z\" fill=\"#000000\" fill-rule=\"evenodd\" fill-opacity=\"1\" /><path clip-path=\"url(#clip3500)\" d=\"M 0 0 M2302.38 1508.44 Q2298.77 1508.44 2296.94 1512 Q2295.13 1515.55 2295.13 1522.67 Q2295.13 1529.78 2296.94 1533.35 Q2298.77 1536.89 2302.38 1536.89 Q2306.01 1536.89 2307.82 1533.35 Q2309.65 1529.78 2309.65 1522.67 Q2309.65 1515.55 2307.82 1512 Q2306.01 1508.44 2302.38 1508.44 M2302.38 1504.73 Q2308.19 1504.73 2311.24 1509.34 Q2314.32 1513.92 2314.32 1522.67 Q2314.32 1531.4 2311.24 1536.01 Q2308.19 1540.59 2302.38 1540.59 Q2296.57 1540.59 2293.49 1536.01 Q2290.43 1531.4 2290.43 1522.67 Q2290.43 1513.92 2293.49 1509.34 Q2296.57 1504.73 2302.38 1504.73 Z\" fill=\"#000000\" fill-rule=\"evenodd\" fill-opacity=\"1\" /><path clip-path=\"url(#clip3500)\" d=\"M 0 0 M62.9921 1363.23 L75.4689 1363.23 L75.4689 1367.03 L62.9921 1367.03 L62.9921 1363.23 Z\" fill=\"#000000\" fill-rule=\"evenodd\" fill-opacity=\"1\" /><path clip-path=\"url(#clip3500)\" d=\"M 0 0 M93.3855 1347.63 L81.58 1366.08 L93.3855 1366.08 L93.3855 1347.63 M92.1586 1343.56 L98.0382 1343.56 L98.0382 1366.08 L102.969 1366.08 L102.969 1369.97 L98.0382 1369.97 L98.0382 1378.12 L93.3855 1378.12 L93.3855 1369.97 L77.7837 1369.97 L77.7837 1365.46 L92.1586 1343.56 Z\" fill=\"#000000\" fill-rule=\"evenodd\" fill-opacity=\"1\" /><path clip-path=\"url(#clip3500)\" d=\"M 0 0 M118.038 1346.64 Q114.427 1346.64 112.598 1350.2 Q110.793 1353.74 110.793 1360.87 Q110.793 1367.98 112.598 1371.54 Q114.427 1375.09 118.038 1375.09 Q121.672 1375.09 123.478 1371.54 Q125.307 1367.98 125.307 1360.87 Q125.307 1353.74 123.478 1350.2 Q121.672 1346.64 118.038 1346.64 M118.038 1342.93 Q123.848 1342.93 126.904 1347.54 Q129.983 1352.12 129.983 1360.87 Q129.983 1369.6 126.904 1374.21 Q123.848 1378.79 118.038 1378.79 Q112.228 1378.79 109.149 1374.21 Q106.094 1369.6 106.094 1360.87 Q106.094 1352.12 109.149 1347.54 Q112.228 1342.93 118.038 1342.93 Z\" fill=\"#000000\" fill-rule=\"evenodd\" fill-opacity=\"1\" /><path clip-path=\"url(#clip3500)\" d=\"M 0 0 M64.1264 1047.03 L76.6032 1047.03 L76.6032 1050.82 L64.1264 1050.82 L64.1264 1047.03 Z\" fill=\"#000000\" fill-rule=\"evenodd\" fill-opacity=\"1\" /><path clip-path=\"url(#clip3500)\" d=\"M 0 0 M95.8392 1043.28 Q99.1956 1044 101.071 1046.26 Q102.969 1048.53 102.969 1051.87 Q102.969 1056.98 99.4503 1059.78 Q95.9318 1062.58 89.4503 1062.58 Q87.2744 1062.58 84.9596 1062.14 Q82.6679 1061.73 80.2143 1060.87 L80.2143 1056.36 Q82.1587 1057.49 84.4735 1058.07 Q86.7883 1058.65 89.3114 1058.65 Q93.7096 1058.65 96.0012 1056.91 Q98.316 1055.18 98.316 1051.87 Q98.316 1048.81 96.1632 1047.1 Q94.0336 1045.36 90.2142 1045.36 L86.1864 1045.36 L86.1864 1041.52 L90.3994 1041.52 Q93.8484 1041.52 95.6771 1040.15 Q97.5058 1038.76 97.5058 1036.17 Q97.5058 1033.51 95.6077 1032.1 Q93.7327 1030.66 90.2142 1030.66 Q88.2929 1030.66 86.0939 1031.08 Q83.8948 1031.5 81.2559 1032.38 L81.2559 1028.21 Q83.9179 1027.47 86.2327 1027.1 Q88.5707 1026.73 90.6309 1026.73 Q95.9549 1026.73 99.0567 1029.16 Q102.159 1031.57 102.159 1035.69 Q102.159 1038.56 100.515 1040.55 Q98.8716 1042.51 95.8392 1043.28 Z\" fill=\"#000000\" fill-rule=\"evenodd\" fill-opacity=\"1\" /><path clip-path=\"url(#clip3500)\" d=\"M 0 0 M118.038 1030.43 Q114.427 1030.43 112.598 1034 Q110.793 1037.54 110.793 1044.67 Q110.793 1051.77 112.598 1055.34 Q114.427 1058.88 118.038 1058.88 Q121.672 1058.88 123.478 1055.34 Q125.307 1051.77 125.307 1044.67 Q125.307 1037.54 123.478 1034 Q121.672 1030.43 118.038 1030.43 M118.038 1026.73 Q123.848 1026.73 126.904 1031.33 Q129.983 1035.92 129.983 1044.67 Q129.983 1053.39 126.904 1058 Q123.848 1062.58 118.038 1062.58 Q112.228 1062.58 109.149 1058 Q106.094 1053.39 106.094 1044.67 Q106.094 1035.92 109.149 1031.33 Q112.228 1026.73 118.038 1026.73 Z\" fill=\"#000000\" fill-rule=\"evenodd\" fill-opacity=\"1\" /><path clip-path=\"url(#clip3500)\" d=\"M 0 0 M65.0754 730.822 L77.5522 730.822 L77.5522 734.618 L65.0754 734.618 L65.0754 730.822 Z\" fill=\"#000000\" fill-rule=\"evenodd\" fill-opacity=\"1\" /><path clip-path=\"url(#clip3500)\" d=\"M 0 0 M86.6494 741.771 L102.969 741.771 L102.969 745.706 L81.0244 745.706 L81.0244 741.771 Q83.6865 739.016 88.2698 734.387 Q92.8762 729.734 94.0568 728.391 Q96.3021 725.868 97.1818 724.132 Q98.0845 722.373 98.0845 720.683 Q98.0845 717.929 96.1401 716.192 Q94.2188 714.456 91.117 714.456 Q88.9179 714.456 86.4642 715.22 Q84.0337 715.984 81.2559 717.535 L81.2559 712.813 Q84.08 711.679 86.5337 711.1 Q88.9874 710.521 91.0244 710.521 Q96.3947 710.521 99.5892 713.206 Q102.784 715.892 102.784 720.382 Q102.784 722.512 101.973 724.433 Q101.186 726.331 99.0799 728.924 Q98.5012 729.595 95.3994 732.813 Q92.2975 736.007 86.6494 741.771 Z\" fill=\"#000000\" fill-rule=\"evenodd\" fill-opacity=\"1\" /><path clip-path=\"url(#clip3500)\" d=\"M 0 0 M118.038 714.225 Q114.427 714.225 112.598 717.79 Q110.793 721.331 110.793 728.461 Q110.793 735.567 112.598 739.132 Q114.427 742.674 118.038 742.674 Q121.672 742.674 123.478 739.132 Q125.307 735.567 125.307 728.461 Q125.307 721.331 123.478 717.79 Q121.672 714.225 118.038 714.225 M118.038 710.521 Q123.848 710.521 126.904 715.128 Q129.983 719.711 129.983 728.461 Q129.983 737.188 126.904 741.794 Q123.848 746.377 118.038 746.377 Q112.228 746.377 109.149 741.794 Q106.094 737.188 106.094 728.461 Q106.094 719.711 109.149 715.128 Q112.228 710.521 118.038 710.521 Z\" fill=\"#000000\" fill-rule=\"evenodd\" fill-opacity=\"1\" /><path clip-path=\"url(#clip3500)\" d=\"M 0 0 M64.7051 414.616 L77.1819 414.616 L77.1819 418.412 L64.7051 418.412 L64.7051 414.616 Z\" fill=\"#000000\" fill-rule=\"evenodd\" fill-opacity=\"1\" /><path clip-path=\"url(#clip3500)\" d=\"M 0 0 M83.0615 425.565 L90.7003 425.565 L90.7003 399.199 L82.3902 400.866 L82.3902 396.606 L90.654 394.94 L95.3299 394.94 L95.3299 425.565 L102.969 425.565 L102.969 429.5 L83.0615 429.5 L83.0615 425.565 Z\" fill=\"#000000\" fill-rule=\"evenodd\" fill-opacity=\"1\" /><path clip-path=\"url(#clip3500)\" d=\"M 0 0 M118.038 398.018 Q114.427 398.018 112.598 401.583 Q110.793 405.125 110.793 412.255 Q110.793 419.361 112.598 422.926 Q114.427 426.467 118.038 426.467 Q121.672 426.467 123.478 422.926 Q125.307 419.361 125.307 412.255 Q125.307 405.125 123.478 401.583 Q121.672 398.018 118.038 398.018 M118.038 394.315 Q123.848 394.315 126.904 398.921 Q129.983 403.505 129.983 412.255 Q129.983 420.981 126.904 425.588 Q123.848 430.171 118.038 430.171 Q112.228 430.171 109.149 425.588 Q106.094 420.981 106.094 412.255 Q106.094 403.505 109.149 398.921 Q112.228 394.315 118.038 394.315 Z\" fill=\"#000000\" fill-rule=\"evenodd\" fill-opacity=\"1\" /><path clip-path=\"url(#clip3500)\" d=\"M 0 0 M118.038 81.8121 Q114.427 81.8121 112.598 85.3769 Q110.793 88.9185 110.793 96.0481 Q110.793 103.155 112.598 106.719 Q114.427 110.261 118.038 110.261 Q121.672 110.261 123.478 106.719 Q125.307 103.155 125.307 96.0481 Q125.307 88.9185 123.478 85.3769 Q121.672 81.8121 118.038 81.8121 M118.038 78.1084 Q123.848 78.1084 126.904 82.7149 Q129.983 87.2982 129.983 96.0481 Q129.983 104.775 126.904 109.381 Q123.848 113.965 118.038 113.965 Q112.228 113.965 109.149 109.381 Q106.094 104.775 106.094 96.0481 Q106.094 87.2982 109.149 82.7149 Q112.228 78.1084 118.038 78.1084 Z\" fill=\"#000000\" fill-rule=\"evenodd\" fill-opacity=\"1\" /><polyline clip-path=\"url(#clip3502)\" style=\"stroke:#009af9; stroke-width:4; stroke-opacity:1; fill:none\" points=\"\n",
       "  216.212,87.9763 446.691,157.947 677.171,269.443 907.65,404.382 1138.13,554.337 1368.61,715.592 1599.09,886.34 1829.57,1065.48 2060.05,1252.17 2290.53,1445.72 \n",
       "  \n",
       "  \"/>\n",
       "<polyline clip-path=\"url(#clip3502)\" style=\"stroke:#e26f46; stroke-width:4; stroke-opacity:1; fill:none\" points=\"\n",
       "  216.212,198.649 446.691,254.117 677.171,284.482 907.65,302.585 1138.13,315.26 1368.61,325.475 1599.09,334.352 1829.57,342.297 2060.05,349.482 2290.53,356.014 \n",
       "  \n",
       "  \"/>\n",
       "<path clip-path=\"url(#clip3500)\" d=\"\n",
       "M1741.89 312.204 L2280.76 312.204 L2280.76 130.764 L1741.89 130.764  Z\n",
       "  \" fill=\"#ffffff\" fill-rule=\"evenodd\" fill-opacity=\"1\"/>\n",
       "<polyline clip-path=\"url(#clip3500)\" style=\"stroke:#000000; stroke-width:4; stroke-opacity:1; fill:none\" points=\"\n",
       "  1741.89,312.204 2280.76,312.204 2280.76,130.764 1741.89,130.764 1741.89,312.204 \n",
       "  \"/>\n",
       "<polyline clip-path=\"url(#clip3500)\" style=\"stroke:#009af9; stroke-width:4; stroke-opacity:1; fill:none\" points=\"\n",
       "  1765.89,191.244 1909.89,191.244 \n",
       "  \"/>\n",
       "<path clip-path=\"url(#clip3500)\" d=\"M 0 0 M1938.57 177.807 L1938.57 190.793 L1944.45 190.793 Q1947.71 190.793 1949.49 189.103 Q1951.28 187.413 1951.28 184.288 Q1951.28 181.186 1949.49 179.496 Q1947.71 177.807 1944.45 177.807 L1938.57 177.807 M1933.89 173.964 L1944.45 173.964 Q1950.26 173.964 1953.22 176.603 Q1956.21 179.219 1956.21 184.288 Q1956.21 189.404 1953.22 192.02 Q1950.26 194.635 1944.45 194.635 L1938.57 194.635 L1938.57 208.524 L1933.89 208.524 L1933.89 173.964 Z\" fill=\"#000000\" fill-rule=\"evenodd\" fill-opacity=\"1\" /><path clip-path=\"url(#clip3500)\" d=\"M 0 0 M1974.86 186.58 Q1974.15 186.163 1973.29 185.978 Q1972.46 185.77 1971.44 185.77 Q1967.83 185.77 1965.88 188.131 Q1963.96 190.469 1963.96 194.867 L1963.96 208.524 L1959.68 208.524 L1959.68 182.598 L1963.96 182.598 L1963.96 186.626 Q1965.3 184.265 1967.46 183.131 Q1969.61 181.973 1972.69 181.973 Q1973.13 181.973 1973.66 182.043 Q1974.19 182.089 1974.84 182.205 L1974.86 186.58 Z\" fill=\"#000000\" fill-rule=\"evenodd\" fill-opacity=\"1\" /><path clip-path=\"url(#clip3500)\" d=\"M 0 0 M1988.34 185.584 Q1984.91 185.584 1982.92 188.27 Q1980.93 190.932 1980.93 195.584 Q1980.93 200.237 1982.9 202.922 Q1984.89 205.584 1988.34 205.584 Q1991.74 205.584 1993.73 202.899 Q1995.72 200.214 1995.72 195.584 Q1995.72 190.978 1993.73 188.293 Q1991.74 185.584 1988.34 185.584 M1988.34 181.973 Q1993.89 181.973 1997.06 185.584 Q2000.23 189.195 2000.23 195.584 Q2000.23 201.95 1997.06 205.584 Q1993.89 209.195 1988.34 209.195 Q1982.76 209.195 1979.59 205.584 Q1976.44 201.95 1976.44 195.584 Q1976.44 189.195 1979.59 185.584 Q1982.76 181.973 1988.34 181.973 Z\" fill=\"#000000\" fill-rule=\"evenodd\" fill-opacity=\"1\" /><path clip-path=\"url(#clip3500)\" d=\"M 0 0 M2017.83 172.506 L2017.83 176.047 L2013.75 176.047 Q2011.46 176.047 2010.56 176.973 Q2009.68 177.899 2009.68 180.307 L2009.68 182.598 L2016.69 182.598 L2016.69 185.908 L2009.68 185.908 L2009.68 208.524 L2005.4 208.524 L2005.4 185.908 L2001.32 185.908 L2001.32 182.598 L2005.4 182.598 L2005.4 180.793 Q2005.4 176.464 2007.41 174.496 Q2009.42 172.506 2013.8 172.506 L2017.83 172.506 Z\" fill=\"#000000\" fill-rule=\"evenodd\" fill-opacity=\"1\" /><path clip-path=\"url(#clip3500)\" d=\"M 0 0 M2022.29 182.598 L2026.55 182.598 L2026.55 208.524 L2022.29 208.524 L2022.29 182.598 M2022.29 172.506 L2026.55 172.506 L2026.55 177.899 L2022.29 177.899 L2022.29 172.506 Z\" fill=\"#000000\" fill-rule=\"evenodd\" fill-opacity=\"1\" /><path clip-path=\"url(#clip3500)\" d=\"M 0 0 M2035.23 175.237 L2035.23 182.598 L2044.01 182.598 L2044.01 185.908 L2035.23 185.908 L2035.23 199.982 Q2035.23 203.154 2036.09 204.057 Q2036.97 204.959 2039.63 204.959 L2044.01 204.959 L2044.01 208.524 L2039.63 208.524 Q2034.7 208.524 2032.83 206.695 Q2030.95 204.844 2030.95 199.982 L2030.95 185.908 L2027.83 185.908 L2027.83 182.598 L2030.95 182.598 L2030.95 175.237 L2035.23 175.237 Z\" fill=\"#000000\" fill-rule=\"evenodd\" fill-opacity=\"1\" /><polyline clip-path=\"url(#clip3500)\" style=\"stroke:#e26f46; stroke-width:4; stroke-opacity:1; fill:none\" points=\"\n",
       "  1765.89,251.724 1909.89,251.724 \n",
       "  \"/>\n",
       "<path clip-path=\"url(#clip3500)\" d=\"M 0 0 M1933.89 234.444 L1940.86 234.444 L1949.68 257.962 L1958.54 234.444 L1965.51 234.444 L1965.51 269.004 L1960.95 269.004 L1960.95 238.657 L1952.04 262.361 L1947.34 262.361 L1938.43 238.657 L1938.43 269.004 L1933.89 269.004 L1933.89 234.444 Z\" fill=\"#000000\" fill-rule=\"evenodd\" fill-opacity=\"1\" /><path clip-path=\"url(#clip3500)\" d=\"M 0 0 M1981.76 255.972 Q1976.6 255.972 1974.61 257.152 Q1972.62 258.333 1972.62 261.18 Q1972.62 263.449 1974.1 264.791 Q1975.6 266.111 1978.17 266.111 Q1981.72 266.111 1983.85 263.611 Q1986 261.087 1986 256.921 L1986 255.972 L1981.76 255.972 M1990.26 254.213 L1990.26 269.004 L1986 269.004 L1986 265.069 Q1984.54 267.43 1982.36 268.564 Q1980.19 269.675 1977.04 269.675 Q1973.06 269.675 1970.7 267.453 Q1968.36 265.208 1968.36 261.458 Q1968.36 257.083 1971.28 254.861 Q1974.22 252.638 1980.03 252.638 L1986 252.638 L1986 252.222 Q1986 249.282 1984.05 247.685 Q1982.13 246.064 1978.64 246.064 Q1976.41 246.064 1974.31 246.597 Q1972.2 247.129 1970.26 248.194 L1970.26 244.259 Q1972.6 243.356 1974.79 242.916 Q1976.99 242.453 1979.08 242.453 Q1984.7 242.453 1987.48 245.37 Q1990.26 248.287 1990.26 254.213 Z\" fill=\"#000000\" fill-rule=\"evenodd\" fill-opacity=\"1\" /><path clip-path=\"url(#clip3500)\" d=\"M 0 0 M2009.75 247.06 Q2009.03 246.643 2008.17 246.458 Q2007.34 246.25 2006.32 246.25 Q2002.71 246.25 2000.77 248.611 Q1998.85 250.949 1998.85 255.347 L1998.85 269.004 L1994.56 269.004 L1994.56 243.078 L1998.85 243.078 L1998.85 247.106 Q2000.19 244.745 2002.34 243.611 Q2004.49 242.453 2007.57 242.453 Q2008.01 242.453 2008.54 242.523 Q2009.08 242.569 2009.72 242.685 L2009.75 247.06 Z\" fill=\"#000000\" fill-rule=\"evenodd\" fill-opacity=\"1\" /><path clip-path=\"url(#clip3500)\" d=\"M 0 0 M2030.44 255.74 Q2030.44 251.111 2028.52 248.564 Q2026.62 246.018 2023.17 246.018 Q2019.75 246.018 2017.83 248.564 Q2015.93 251.111 2015.93 255.74 Q2015.93 260.347 2017.83 262.893 Q2019.75 265.439 2023.17 265.439 Q2026.62 265.439 2028.52 262.893 Q2030.44 260.347 2030.44 255.74 M2034.7 265.787 Q2034.7 272.407 2031.76 275.624 Q2028.82 278.865 2022.76 278.865 Q2020.51 278.865 2018.52 278.518 Q2016.53 278.194 2014.66 277.499 L2014.66 273.356 Q2016.53 274.374 2018.36 274.861 Q2020.19 275.347 2022.09 275.347 Q2026.28 275.347 2028.36 273.148 Q2030.44 270.972 2030.44 266.55 L2030.44 264.444 Q2029.12 266.736 2027.06 267.87 Q2025 269.004 2022.13 269.004 Q2017.36 269.004 2014.45 265.37 Q2011.53 261.736 2011.53 255.74 Q2011.53 249.722 2014.45 246.088 Q2017.36 242.453 2022.13 242.453 Q2025 242.453 2027.06 243.588 Q2029.12 244.722 2030.44 247.013 L2030.44 243.078 L2034.7 243.078 L2034.7 265.787 Z\" fill=\"#000000\" fill-rule=\"evenodd\" fill-opacity=\"1\" /><path clip-path=\"url(#clip3500)\" d=\"M 0 0 M2039.17 243.078 L2043.43 243.078 L2043.43 269.004 L2039.17 269.004 L2039.17 243.078 M2039.17 232.986 L2043.43 232.986 L2043.43 238.379 L2039.17 238.379 L2039.17 232.986 Z\" fill=\"#000000\" fill-rule=\"evenodd\" fill-opacity=\"1\" /><path clip-path=\"url(#clip3500)\" d=\"M 0 0 M2069.45 253.356 L2069.45 269.004 L2065.19 269.004 L2065.19 253.495 Q2065.19 249.814 2063.75 247.986 Q2062.32 246.157 2059.45 246.157 Q2056 246.157 2054.01 248.356 Q2052.02 250.555 2052.02 254.351 L2052.02 269.004 L2047.73 269.004 L2047.73 243.078 L2052.02 243.078 L2052.02 247.106 Q2053.54 244.768 2055.6 243.611 Q2057.69 242.453 2060.4 242.453 Q2064.86 242.453 2067.15 245.231 Q2069.45 247.986 2069.45 253.356 Z\" fill=\"#000000\" fill-rule=\"evenodd\" fill-opacity=\"1\" /><path clip-path=\"url(#clip3500)\" d=\"M 0 0 M2085.7 255.972 Q2080.53 255.972 2078.54 257.152 Q2076.55 258.333 2076.55 261.18 Q2076.55 263.449 2078.03 264.791 Q2079.54 266.111 2082.11 266.111 Q2085.65 266.111 2087.78 263.611 Q2089.93 261.087 2089.93 256.921 L2089.93 255.972 L2085.7 255.972 M2094.19 254.213 L2094.19 269.004 L2089.93 269.004 L2089.93 265.069 Q2088.47 267.43 2086.3 268.564 Q2084.12 269.675 2080.97 269.675 Q2076.99 269.675 2074.63 267.453 Q2072.29 265.208 2072.29 261.458 Q2072.29 257.083 2075.21 254.861 Q2078.15 252.638 2083.96 252.638 L2089.93 252.638 L2089.93 252.222 Q2089.93 249.282 2087.99 247.685 Q2086.07 246.064 2082.57 246.064 Q2080.35 246.064 2078.24 246.597 Q2076.14 247.129 2074.19 248.194 L2074.19 244.259 Q2076.53 243.356 2078.73 242.916 Q2080.93 242.453 2083.01 242.453 Q2088.64 242.453 2091.41 245.37 Q2094.19 248.287 2094.19 254.213 Z\" fill=\"#000000\" fill-rule=\"evenodd\" fill-opacity=\"1\" /><path clip-path=\"url(#clip3500)\" d=\"M 0 0 M2098.66 232.986 L2102.92 232.986 L2102.92 269.004 L2098.66 269.004 L2098.66 232.986 Z\" fill=\"#000000\" fill-rule=\"evenodd\" fill-opacity=\"1\" /><path clip-path=\"url(#clip3500)\" d=\"M 0 0 M2127.32 238.287 L2127.32 251.273 L2133.2 251.273 Q2136.46 251.273 2138.24 249.583 Q2140.02 247.893 2140.02 244.768 Q2140.02 241.666 2138.24 239.976 Q2136.46 238.287 2133.2 238.287 L2127.32 238.287 M2122.64 234.444 L2133.2 234.444 Q2139.01 234.444 2141.97 237.083 Q2144.96 239.699 2144.96 244.768 Q2144.96 249.884 2141.97 252.5 Q2139.01 255.115 2133.2 255.115 L2127.32 255.115 L2127.32 269.004 L2122.64 269.004 L2122.64 234.444 Z\" fill=\"#000000\" fill-rule=\"evenodd\" fill-opacity=\"1\" /><path clip-path=\"url(#clip3500)\" d=\"M 0 0 M2163.61 247.06 Q2162.9 246.643 2162.04 246.458 Q2161.21 246.25 2160.19 246.25 Q2156.58 246.25 2154.63 248.611 Q2152.71 250.949 2152.71 255.347 L2152.71 269.004 L2148.43 269.004 L2148.43 243.078 L2152.71 243.078 L2152.71 247.106 Q2154.05 244.745 2156.21 243.611 Q2158.36 242.453 2161.44 242.453 Q2161.88 242.453 2162.41 242.523 Q2162.94 242.569 2163.59 242.685 L2163.61 247.06 Z\" fill=\"#000000\" fill-rule=\"evenodd\" fill-opacity=\"1\" /><path clip-path=\"url(#clip3500)\" d=\"M 0 0 M2177.08 246.064 Q2173.66 246.064 2171.67 248.75 Q2169.68 251.412 2169.68 256.064 Q2169.68 260.717 2171.65 263.402 Q2173.64 266.064 2177.08 266.064 Q2180.49 266.064 2182.48 263.379 Q2184.47 260.694 2184.47 256.064 Q2184.47 251.458 2182.48 248.773 Q2180.49 246.064 2177.08 246.064 M2177.08 242.453 Q2182.64 242.453 2185.81 246.064 Q2188.98 249.675 2188.98 256.064 Q2188.98 262.43 2185.81 266.064 Q2182.64 269.675 2177.08 269.675 Q2171.51 269.675 2168.33 266.064 Q2165.19 262.43 2165.19 256.064 Q2165.19 249.675 2168.33 246.064 Q2171.51 242.453 2177.08 242.453 Z\" fill=\"#000000\" fill-rule=\"evenodd\" fill-opacity=\"1\" /><path clip-path=\"url(#clip3500)\" d=\"M 0 0 M2206.58 232.986 L2206.58 236.527 L2202.5 236.527 Q2200.21 236.527 2199.31 237.453 Q2198.43 238.379 2198.43 240.787 L2198.43 243.078 L2205.44 243.078 L2205.44 246.388 L2198.43 246.388 L2198.43 269.004 L2194.15 269.004 L2194.15 246.388 L2190.07 246.388 L2190.07 243.078 L2194.15 243.078 L2194.15 241.273 Q2194.15 236.944 2196.16 234.976 Q2198.17 232.986 2202.55 232.986 L2206.58 232.986 Z\" fill=\"#000000\" fill-rule=\"evenodd\" fill-opacity=\"1\" /><path clip-path=\"url(#clip3500)\" d=\"M 0 0 M2211.04 243.078 L2215.3 243.078 L2215.3 269.004 L2211.04 269.004 L2211.04 243.078 M2211.04 232.986 L2215.3 232.986 L2215.3 238.379 L2211.04 238.379 L2211.04 232.986 Z\" fill=\"#000000\" fill-rule=\"evenodd\" fill-opacity=\"1\" /><path clip-path=\"url(#clip3500)\" d=\"M 0 0 M2223.98 235.717 L2223.98 243.078 L2232.76 243.078 L2232.76 246.388 L2223.98 246.388 L2223.98 260.462 Q2223.98 263.634 2224.84 264.537 Q2225.72 265.439 2228.38 265.439 L2232.76 265.439 L2232.76 269.004 L2228.38 269.004 Q2223.45 269.004 2221.58 267.175 Q2219.7 265.324 2219.7 260.462 L2219.7 246.388 L2216.58 246.388 L2216.58 243.078 L2219.7 243.078 L2219.7 235.717 L2223.98 235.717 Z\" fill=\"#000000\" fill-rule=\"evenodd\" fill-opacity=\"1\" /></svg>\n"
      ]
     },
     "execution_count": 146,
     "metadata": {},
     "output_type": "execute_result"
    }
   ],
   "source": [
    "pl = plot(x=1:10, prof, label=\"Profit\" )\n",
    "\n",
    "plot!(pl, x=1:10, mP, label=\"Marginal Profit\" )\n"
   ]
  },
  {
   "cell_type": "markdown",
   "metadata": {},
   "source": [
    "---\n",
    "\n",
    "## (modified) Solow model\n",
    "\n",
    "This model tries to explain long-term productivity, its relation to productivity and the speed of convergence.\n",
    "\n",
    "The setup is the following:\n",
    "\n",
    "- a country accumulates capital $k_t$\n",
    "- population $n_t$ grows at rate $g$ (so that $n_{t+1}=g n_t$\n",
    "- capital and labour are combined to produce $y_t = A F(k_t, n_t)$ where $A>0$ is total factor productivity.\n",
    "- capital depreciates at rate $\\delta \\in ]0,1[$. Its law of motion is $k_{t+1}=(1-\\delta)k_{t}+i_{t}$ where $i_t$ is the amount invested at time $t$\n",
    "- production is either consumed or invested: $y_t = c_t + i_t$\n",
    "\n",
    "We choose a Cobb-Douglas specification with constant returns to scale $F(k_t, n_t) = k_t^{\\alpha} n_t^{1-\\alpha}$.\n",
    "\n",
    "In the Ramsey–Cass–Koopmans  model (also called neoclassical growth model), a representative agent would choose $c_t$ in every period so as to maximize an intertemporal utility like $\\sum_{t \\geq 0} \\beta^t U(c_t)$ where $\\beta \\in [0,1[$ is a time discount and $U(x)=\\frac{x^{1-\\gamma}}{1-\\gamma}$ is the instantaneous felicity.\n",
    "\n",
    "Here we follow the Solow-Swan specification and assume instead there is a fixed fraction $s\\in[0,1[$ of income in every period, which is saved and invested in every period. In other words investment (or savings) is given by:\n",
    "\n",
    "$$i_t = s y_t$$\n",
    "\n",
    "As a result, the dynamic of capital and all other variables will be backward looking and can be simulated easily."
   ]
  },
  {
   "cell_type": "markdown",
   "metadata": {},
   "source": [
    "__Calibrate parameters $\\beta$, $\\delta$ and $g$, that is, propose plausible values for them, from the litterature, or by matching some observable fact.__"
   ]
  },
  {
   "cell_type": "code",
   "execution_count": 4,
   "metadata": {},
   "outputs": [
    {
     "data": {
      "text/plain": [
       "Dict{Char,Float64} with 6 entries:\n",
       "  'β' => 0.9\n",
       "  'A' => 0.5\n",
       "  'g' => 1.02\n",
       "  'δ' => 0.04\n",
       "  's' => 0.3\n",
       "  'α' => 0.7"
      ]
     },
     "execution_count": 4,
     "metadata": {},
     "output_type": "execute_result"
    }
   ],
   "source": [
    "p = Dict('β' => 0.9 , 'δ' => 0.04, 'g' => 1.02, 's' => 0.3, 'α' => 0.7, 'A' => 0.5) #creating dictionary \n"
   ]
  },
  {
   "cell_type": "markdown",
   "metadata": {},
   "source": [
    "__Detrend the equations of the model w.r.t. population growth. Denote the detrended variables with a hat (in the code we assume all variables are detrended and ignore the hat).__"
   ]
  },
  {
   "cell_type": "markdown",
   "metadata": {},
   "source": [
    "We can detrend all equations w.r.t. populatulation growth through dividing by $n_t$ we thereby have a model with the following specifications: \n",
    "\n",
    "- a country accumulates capital per unit of labour as $\\hat{k_t} = \\frac{k_t}{n_t}$\n",
    "- capital per unit of labour is used to produce output per unit of labour as  $\\hat{y_t} = \\frac{y_t}{n_t} = A F(\\frac{k_t}{n_t}, 1) = A \\frac{k_t}{n_t}^\\alpha = \\hat{k}^\\alpha$ where $A>0$ is total factor productivity and the CD specification is used.\n",
    "- capital per unit of labour depreciates at rate $\\delta \\in ]0,1[$. Its law of motion is $\\hat{k_{t+1}}=\\frac{k_{t+1} }{n_{t+1} } = \\frac{k_{t+1} }{g n_{t} } = \\frac{(1-\\delta)k_{t}+i_{t}}{g*n_t} = \\frac{(1-\\delta)}{g}\\hat{k_t}+\\frac{1}{g}\\hat{i_t}$ where $\\hat{i_t}$ is the amount per unit labour invested at time $t$ \n",
    "- production  per unit labour is either consumed or invested: $\\hat{y_t} = \\hat{c_t} + \\hat{i_t}$\n",
    "\n",
    "Note that in ther detrended version we have\n",
    "\n",
    "$$\\hat{i_t} = s \\hat{y_t}$$\n"
   ]
  },
  {
   "cell_type": "markdown",
   "metadata": {},
   "source": [
    "Our goal is to compute the steady-state and assess its stability.\n",
    "\n",
    "__Compute a function `f` which returns the capital $\\hat{k}_{t+1}$ as a function of $\\hat{k_t}$. It is suggested to define `f(k::Float64, p::Dict{Symbol, Float64})` where `p` is a dictionary of parameters.__"
   ]
  },
  {
   "cell_type": "markdown",
   "metadata": {},
   "source": [
    " (note: such a dictionary can be defined as `p = Dict(:a=>0.9, :b=>4)` and accessed with brackets `p[:a]` or `p[:b]`) (note2: symbols like `:a` or `:b` are lightweight string. The content must be a valid julia identifier so that it is valid to write `a=p[:a]`)"
   ]
  },
  {
   "cell_type": "code",
   "execution_count": 28,
   "metadata": {},
   "outputs": [
    {
     "data": {
      "text/plain": [
       "f (generic function with 1 method)"
      ]
     },
     "execution_count": 28,
     "metadata": {},
     "output_type": "execute_result"
    }
   ],
   "source": [
    "function f(k::Float64, p::Dict{Char, Float64})\n",
    "    α = p['α']\n",
    "    δ  = p['δ']\n",
    "    s = p['s']\n",
    "    A = p['A']\n",
    "    g = p['g']\n",
    "    return (1-δ)*k/g+A/g*s*k^α\n",
    "    end     "
   ]
  },
  {
   "cell_type": "markdown",
   "metadata": {},
   "source": [
    "__Starting from an initial level $\\hat{k}_0$ compute successive iterates of `f` to find the long-run level $\\overline{k}$ of capital per capita. (Bonus: produce a nice plot of the convergence)__"
   ]
  },
  {
   "cell_type": "code",
   "execution_count": 29,
   "metadata": {},
   "outputs": [
    {
     "data": {
      "text/plain": [
       "([20.0, 20.020854504520308, 20.041356073605506, 20.06151041410673, 20.081323150079754, 20.10079982363635, 20.119945895801116, 20.13876674737292, 20.157267679790305, 20.17545391600011  …  21.199824591980697, 21.19994039774541, 21.200054160317897, 21.200165915739134, 21.200275699414618, 21.200383546125565, 21.20048949003991, 21.200593564723096, 21.200695803148704, 21.200796237708886], [0.020854504520308126, 0.020501569085197957, 0.02015434050122522, 0.01981273597302291, 0.019476673556596324, 0.019146072164765826, 0.018820851571803132, 0.018500932417385485, 0.018186236209803752, 0.017876685328548803  …  0.0001158057647145938, 0.00011376257248585375, 0.00011175542123709192, 0.00010978367548375445, 0.00010784671094654641, 0.00010594391434537442, 0.00010407468318618385, 0.00010223842560819207, 0.00010043456018138386, 9.866251570400664e-5])"
      ]
     },
     "execution_count": 29,
     "metadata": {},
     "output_type": "execute_result"
    }
   ],
   "source": [
    "function simulate(f, p::Dict{Char, Float64}, N =1000, k0 = 20.0) \n",
    "    k =  Array{Float64,1}(undef, N) \n",
    "    k[1] = k0\n",
    "    dif = Array{Float64,1}(undef, N) \n",
    "    ϵ = 0.0001\n",
    "    j = 0\n",
    "    for i in 1:(N-1)\n",
    "        j = i\n",
    "        k[i+1] = f(k[i], p)\n",
    "        dif[i] = abs(k[i+1]-k[i])\n",
    "        if dif[i] < ϵ\n",
    "            break \n",
    "        end \n",
    "        end \n",
    "    return (k[1:j],dif[1:j])\n",
    "end \n",
    "\n",
    "\n",
    "k,dif = simulate(f, p)\n"
   ]
  },
  {
   "cell_type": "code",
   "execution_count": 30,
   "metadata": {},
   "outputs": [
    {
     "ename": "UndefVarError",
     "evalue": "UndefVarError: plot not defined",
     "output_type": "error",
     "traceback": [
      "UndefVarError: plot not defined",
      "",
      "Stacktrace:",
      " [1] top-level scope at In[30]:1"
     ]
    }
   ],
   "source": [
    "p1 = plot(x = 1:750, dif, label=\"k_{i+1}-k{i}\")"
   ]
  },
  {
   "cell_type": "markdown",
   "metadata": {},
   "source": [
    "__What factors affect the steady-state level of capital?__"
   ]
  },
  {
   "cell_type": "markdown",
   "metadata": {},
   "source": [
    "The steady state level of capital can be defined as the state where $\\hat{k_{t+1}} = \\hat{k_t}$. Where have that at the steade state level of capital $ k_* = \\frac{(1-δ)}{g} k_*+\\frac{A}{g} s k_*^α$, assuming that $k_* \\neq 0$ we have that $1-\\delta - g+Ask^{\\alpha-1} = 0$. Thereby $k_* = \\left( \\frac{g+\\delta-1}{As} \\right)^\\frac{1}{\\alpha - 1} $ so the steady-state level of capital is affected by the population growth rate, the rate of capital depreciation, the savings rate, the technological constant and the $\\alpha$ paramater in the production function. "
   ]
  },
  {
   "cell_type": "markdown",
   "metadata": {},
   "source": [
    "__Study the stability of $f$ around $\\overline{k}$. Which factors affect the speed of convergence towards the steady-state?__"
   ]
  },
  {
   "cell_type": "markdown",
   "metadata": {},
   "source": [
    "To study the stability of f around $k_*$, let us recall that by definition $f(k) = k^\\alpha$ therefore we need to study the stability of k around $k_*$. To do this, let us exam the rate of change of $k_t$ as define by $k_{t+1}-k_t = \\frac{(1-\\delta)-g}{g}\\hat{k_t}+\\frac{1}{g}sf(k)$. When $k_t < k_*$ we  have that $k_{t+1}-k_t >  \\frac{(1-\\delta)-g}{g}\\hat{k_*}+\\frac{1}{g}sf(k_*)>0$ so $k_{t+1}$ is increasing till $k_{t+1} = k_*$. \n",
    "\n",
    "Conversily if we assume $k_t > k_*$ we have that $k_{t+1}-k_t <  \\frac{(1-\\delta)-g}{g}\\hat{k_*}+\\frac{1}{g}sf(k_*)<0$ so $k_{t+1}$ decreasing monotonically till it reaches $k_*$. \n",
    "\n",
    "We can therefore conclude that $f(k)$ converges to $f(k_*)$ for all values of k. \n",
    "\n",
    "\n",
    "To study the speed of convergence of $k_t$, let us linearize the difference between $k_{t+1}-k_t$ at $k_*$. \n",
    "\n",
    "$$\n",
    "\\begin{equation}\n",
    "    \\begin{split}\n",
    "    k_{t+1}-k_* - (k_{t}-k_*) &= \\frac{\\alpha s(k^*)^{\\alpha-1}-(\\delta+g-1)}{g}(k_t-k_*)  \\\\\n",
    "    &= - \\frac{(1-\\alpha)(\\delta+g-1)}{g}(k_t-k_*)     \n",
    "    \\end{split}\n",
    "\\end{equation}\n",
    "$$\n",
    "\n",
    "Therefore, we can define the convergence speed as $\\lambda = \\frac{(1-\\alpha)(\\delta+g-1)}{g}$. Note that output converges at an equal speed aswell.  "
   ]
  },
  {
   "cell_type": "markdown",
   "metadata": {},
   "source": [
    "__Compute the steady-state directly using a Newton method and compare convergence speed.__"
   ]
  },
  {
   "cell_type": "code",
   "execution_count": 71,
   "metadata": {},
   "outputs": [
    {
     "data": {
      "text/plain": [
       "Newton"
      ]
     },
     "execution_count": 71,
     "metadata": {},
     "output_type": "execute_result"
    }
   ],
   "source": [
    "function Newton(f,df,ddf, x0,p, N=1000)\n",
    "    ϵ = 0.00000001\n",
    "    x =  Array{Float64,1}(undef, N) \n",
    "    x[1] = x0\n",
    "    dif = Array{Float64,1}(undef, N) \n",
    "    j = 0\n",
    "    for i in 1:(N-1)\n",
    "        j = i\n",
    "        x[i+1] = x[i]-df(x[i])/ddf(x[i])\n",
    "        dif[i] = abs(x[i+1]-x[i])\n",
    "        if dif[i] < ϵ\n",
    "            break \n",
    "        if df(x[i],p)< ϵ\n",
    "                break \n",
    "        end \n",
    "        end \n",
    "    return (x[1:j],dif[1:j])\n",
    "end  \n",
    "end\n",
    "    "
   ]
  },
  {
   "cell_type": "markdown",
   "metadata": {},
   "source": [
    "__Suppose one tries to maximize steady-state consumption by choosing saving rate $s$. Which value would one choose?__"
   ]
  },
  {
   "cell_type": "markdown",
   "metadata": {},
   "source": [
    "Note that the steady state level of consumption is given by $c_* = (1-s)f(k_*) = (1-s ) \\left( \\frac{g+\\delta-1}{As} \\right)^\\frac{1}{\\alpha - 1}  $. This can analytically be solved for by assuming c is continuous in $s$ and taking first order conditions to find $\\frac{\\delta c}{\\delta s}= - \\frac{s}{1-s}+\\frac{\\alpha}{1-\\alpha}$. Therefore the level of savings that maximizes capital is $s=\\alpha$. \n",
    "\n",
    "\n",
    "Alternatively, we can numerically solve for the optimal $s$ by appling Newton's method  to $\\frac{\\delta c}{\\delta s}$ as done below:"
   ]
  },
  {
   "cell_type": "code",
   "execution_count": 72,
   "metadata": {},
   "outputs": [
    {
     "data": {
      "text/plain": [
       "ddf (generic function with 2 methods)"
      ]
     },
     "execution_count": 72,
     "metadata": {},
     "output_type": "execute_result"
    }
   ],
   "source": [
    "function f(s,p)\n",
    "    α = p['α']\n",
    "    return -s/(1-s)+α/(1-α)\n",
    "    end \n",
    "\n",
    "\n",
    "function df(s)\n",
    "    return 2s/(1-s)^2 \n",
    "    end \n",
    "\n",
    "function ddf(s)\n",
    "    return (2(1-s)^2+2(1-s))/(1-s)^2 \n",
    "    end \n"
   ]
  },
  {
   "cell_type": "code",
   "execution_count": 73,
   "metadata": {},
   "outputs": [
    {
     "ename": "MethodError",
     "evalue": "MethodError: no method matching iterate(::Nothing)\nClosest candidates are:\n  iterate(!Matched::Core.SimpleVector) at essentials.jl:603\n  iterate(!Matched::Core.SimpleVector, !Matched::Any) at essentials.jl:603\n  iterate(!Matched::ExponentialBackOff) at error.jl:253\n  ...",
     "output_type": "error",
     "traceback": [
      "MethodError: no method matching iterate(::Nothing)\nClosest candidates are:\n  iterate(!Matched::Core.SimpleVector) at essentials.jl:603\n  iterate(!Matched::Core.SimpleVector, !Matched::Any) at essentials.jl:603\n  iterate(!Matched::ExponentialBackOff) at error.jl:253\n  ...",
      "",
      "Stacktrace:",
      " [1] indexed_iterate(::Nothing, ::Int64) at /Applications/JuliaPro-1.4.0-1.app/Contents/Resources/julia/Contents/Resources/julia/lib/julia/sys.dylib:?",
      " [2] top-level scope at In[73]:2"
     ]
    }
   ],
   "source": [
    "x0 = 0.0\n",
    "s,dif = Newton(f,df,ddf,x0,p)"
   ]
  },
  {
   "cell_type": "markdown",
   "metadata": {},
   "source": [
    "---\n",
    "\n",
    "## Exercise: constrained optimization\n",
    "\n",
    "Consider the function $f(x,y) = 1-(x-0.5)^2 -(y-0.3)^2$.\n",
    "\n",
    "__Use Optim.jl to minimize $f$ without constraint. Check you understand diagnostic information returned by the optimizer.__"
   ]
  },
  {
   "cell_type": "code",
   "execution_count": 31,
   "metadata": {
    "scrolled": false
   },
   "outputs": [
    {
     "name": "stderr",
     "output_type": "stream",
     "text": [
      "\u001b[32m\u001b[1m   Updating\u001b[22m\u001b[39m registry at `~/.juliapro/JuliaPro_v1.4.0-1/registries/JuliaPro`\n",
      "\u001b[32m\u001b[1m  Resolving\u001b[22m\u001b[39m package versions...\n",
      "\u001b[32m\u001b[1m  Installed\u001b[22m\u001b[39m PositiveFactorizations ─ v0.2.3\n",
      "\u001b[32m\u001b[1m  Installed\u001b[22m\u001b[39m Optim ────────────────── v0.21.0\n",
      "\u001b[32m\u001b[1m   Updating\u001b[22m\u001b[39m `~/.juliapro/JuliaPro_v1.4.0-1/environments/v1.4/Project.toml`\n",
      " \u001b[90m [429524aa]\u001b[39m\u001b[92m + Optim v0.21.0\u001b[39m\n",
      "\u001b[32m\u001b[1m   Updating\u001b[22m\u001b[39m `~/.juliapro/JuliaPro_v1.4.0-1/environments/v1.4/Manifest.toml`\n",
      " \u001b[90m [4fba245c]\u001b[39m\u001b[92m + ArrayInterface v2.8.7\u001b[39m\n",
      " \u001b[90m [bbf7d656]\u001b[39m\u001b[92m + CommonSubexpressions v0.2.0\u001b[39m\n",
      " \u001b[90m [e66e0078]\u001b[39m\u001b[92m + CompilerSupportLibraries_jll v0.3.3+0\u001b[39m\n",
      " \u001b[90m [163ba53b]\u001b[39m\u001b[92m + DiffResults v1.0.2\u001b[39m\n",
      " \u001b[90m [b552c78f]\u001b[39m\u001b[92m + DiffRules v1.0.1\u001b[39m\n",
      " \u001b[90m [1a297f60]\u001b[39m\u001b[92m + FillArrays v0.8.8\u001b[39m\n",
      " \u001b[90m [6a86dc24]\u001b[39m\u001b[92m + FiniteDiff v2.3.1\u001b[39m\n",
      " \u001b[90m [f6369f11]\u001b[39m\u001b[92m + ForwardDiff v0.10.10\u001b[39m\n",
      " \u001b[90m [d3d80556]\u001b[39m\u001b[92m + LineSearches v7.0.1\u001b[39m\n",
      " \u001b[90m [d41bc354]\u001b[39m\u001b[92m + NLSolversBase v7.6.1\u001b[39m\n",
      " \u001b[90m [efe28fd5]\u001b[39m\u001b[92m + OpenSpecFun_jll v0.5.3+3\u001b[39m\n",
      " \u001b[90m [429524aa]\u001b[39m\u001b[92m + Optim v0.21.0\u001b[39m\n",
      " \u001b[90m [d96e819e]\u001b[39m\u001b[92m + Parameters v0.12.0\u001b[39m\n",
      " \u001b[90m [85a6dd25]\u001b[39m\u001b[92m + PositiveFactorizations v0.2.3\u001b[39m\n",
      " \u001b[90m [276daf66]\u001b[39m\u001b[92m + SpecialFunctions v0.10.0\u001b[39m\n"
     ]
    }
   ],
   "source": [
    "Pkg.add(\"Optim\")"
   ]
  },
  {
   "cell_type": "code",
   "execution_count": 74,
   "metadata": {},
   "outputs": [
    {
     "data": {
      "text/plain": [
       " * Status: failure (reached maximum number of iterations)\n",
       "\n",
       " * Candidate solution\n",
       "    Minimizer: [-1.86e+154, 2.93e+153]\n",
       "    Minimum:   -Inf\n",
       "\n",
       " * Found with\n",
       "    Algorithm:     Nelder-Mead\n",
       "    Initial Point: [0.00e+00, 0.00e+00]\n",
       "\n",
       " * Convergence measures\n",
       "    √(Σ(yᵢ-ȳ)²)/n ≰ 1.0e-08\n",
       "\n",
       " * Work counters\n",
       "    Seconds run:   0  (vs limit Inf)\n",
       "    Iterations:    1000\n",
       "    f(x) calls:    2630\n"
      ]
     },
     "execution_count": 74,
     "metadata": {},
     "output_type": "execute_result"
    }
   ],
   "source": [
    "using Optim \n",
    "\n",
    "f(x) = 1 - (x[1]-0.5)^2- (x[2]-0.3)^2\n",
    "x0 = [0.0, 0.0]\n",
    "\n",
    "res = optimize(f, x0)"
   ]
  },
  {
   "cell_type": "markdown",
   "metadata": {},
   "source": [
    "__Now, consider the constraint $x<0.3$ and maximize $f$ under this new constraint.__"
   ]
  },
  {
   "cell_type": "code",
   "execution_count": 78,
   "metadata": {},
   "outputs": [
    {
     "data": {
      "text/plain": [
       " * Status: success\n",
       "\n",
       " * Candidate solution\n",
       "    Minimizer: [3.00e-01, 3.00e-01]\n",
       "    Minimum:   -9.600000e-01\n",
       "\n",
       " * Found with\n",
       "    Algorithm:     Fminbox with Gradient Descent\n",
       "    Initial Point: [0.00e+00, 0.00e+00]\n",
       "\n",
       " * Convergence measures\n",
       "    |x - x'|               = 0.00e+00 ≤ 0.0e+00\n",
       "    |x - x'|/|x'|          = 0.00e+00 ≤ 0.0e+00\n",
       "    |f(x) - f(x')|         = 0.00e+00 ≤ 0.0e+00\n",
       "    |f(x) - f(x')|/|f(x')| = 0.00e+00 ≤ 0.0e+00\n",
       "    |g(x)|                 = 4.00e-01 ≰ 1.0e-08\n",
       "\n",
       " * Work counters\n",
       "    Seconds run:   0  (vs limit Inf)\n",
       "    Iterations:    7\n",
       "    f(x) calls:    1180\n",
       "    ∇f(x) calls:   1180\n"
      ]
     },
     "execution_count": 78,
     "metadata": {},
     "output_type": "execute_result"
    }
   ],
   "source": [
    "lower = [-Inf, -Inf]\n",
    "upper = [0.3, Inf]\n",
    "initial_x = [0.0, 0.0]\n",
    "inner_optimizer = GradientDescent()\n",
    "f(x) = -1*( 1 - (x[1]-0.5)^2- (x[2]-0.3)^2 )\n",
    "\n",
    "results = optimize(f, lower, upper, initial_x, Fminbox(inner_optimizer))\n",
    "\n",
    "results"
   ]
  },
  {
   "cell_type": "markdown",
   "metadata": {},
   "source": [
    "__Reformulate the problem as a root finding with lagrangians. Write the complementarity conditions.__"
   ]
  },
  {
   "cell_type": "markdown",
   "metadata": {},
   "source": [
    "We want to minimize the function $f(x,y) = -1*(1 - (x-0.5)^2- (y-0.3)^2)$ subject to the constraints $0.3-x>0$. We thereby have the Lagragian\n",
    "\n",
    "$$\\mathcal{L}(x,y) = -1*(1 - (x-0.5)^2- (y-0.3)^2) - \\lambda(0.3-x) $$\n",
    "\n",
    "such that $\\lambda \\geq 0$ and $\\lambda(0.3-x) = 0$. We thereby want to solve the problem $ \\nabla{ \\mathcal{L} }  = 0 $ such that  $\\lambda(x-0.3) = 0$. We thereby get the system:\n",
    "\n",
    "$$\n",
    "\\star \\begin{cases}\n",
    "-2x + \\lambda = 0 \\\\\n",
    "-2y + 0.6 = 0\\\\\n",
    "\\lambda(x-0.3) = 0 \\\\\n",
    "\\end{cases}\n",
    "$$"
   ]
  },
  {
   "cell_type": "markdown",
   "metadata": {},
   "source": [
    "__Solve using NLSolve.jl__"
   ]
  },
  {
   "cell_type": "markdown",
   "metadata": {},
   "source": [
    "To solve the problem using the NLsolve method we need to find continuous functions that incorporate the constraints of this problem. To do this we note that the constraints are orthoganailty constraints which can be replaced by the Fisher-Burmeister function as done in the lecture. \n",
    "\n",
    "Note we can define such $f: \\mathbb{R}^2 \\to \\mathbb{R}^2$ as:\n",
    "\n",
    "$f_1 = (2x-1)(x-0.3)(0.3-x-\\sqrt{(x-0.3)^2})$ and\n",
    "$f_2 = -2y+0.6$\n",
    "\n",
    "\n",
    "Where we calculated $f_1$ by combining the first and the third conditions in $\\star$ in the style of the lecture. \n",
    "\n",
    "From there, it is straight forward to calculate the elements of the Jacobian by taking the partial derivatives of f w.r.t. x and y. The formula can be seen in the code below"
   ]
  },
  {
   "cell_type": "code",
   "execution_count": 66,
   "metadata": {},
   "outputs": [
    {
     "name": "stderr",
     "output_type": "stream",
     "text": [
      "\u001b[32m\u001b[1m  Resolving\u001b[22m\u001b[39m package versions...\n",
      "\u001b[32m\u001b[1m   Updating\u001b[22m\u001b[39m `~/.juliapro/JuliaPro_v1.4.0-1/environments/v1.4/Project.toml`\n",
      " \u001b[90m [2774e3e8]\u001b[39m\u001b[92m + NLsolve v4.3.0\u001b[39m\n",
      "\u001b[32m\u001b[1m   Updating\u001b[22m\u001b[39m `~/.juliapro/JuliaPro_v1.4.0-1/environments/v1.4/Manifest.toml`\n",
      " \u001b[90m [2774e3e8]\u001b[39m\u001b[92m + NLsolve v4.3.0\u001b[39m\n"
     ]
    }
   ],
   "source": [
    "Pkg.add(\"NLsolve\")"
   ]
  },
  {
   "cell_type": "code",
   "execution_count": 82,
   "metadata": {},
   "outputs": [
    {
     "data": {
      "text/plain": [
       "Results of Nonlinear Solver Algorithm\n",
       " * Algorithm: Trust-region with dogleg and autoscaling\n",
       " * Starting Point: [10.0, 10.0]\n",
       " * Zero: [0.3005984507957437, 0.3]\n",
       " * Inf-norm of residuals: 0.000000\n",
       " * Iterations: 1000\n",
       " * Convergence: false\n",
       "   * |x - x'| < 0.0e+00: false\n",
       "   * |f(x)| < 1.0e-08: false\n",
       " * Function Calls (f): 65\n",
       " * Jacobian Calls (df/dx): 65"
      ]
     },
     "execution_count": 82,
     "metadata": {},
     "output_type": "execute_result"
    }
   ],
   "source": [
    "using NLsolve\n",
    "\n",
    "function f!(F, x)\n",
    "    F[1] = (2*x[1]-1)*(x[1]-0.3)*( 0.3-x[1]-sqrt((0.3-x[1])^2) )\n",
    "    F[2] = -2*x[2] +0.6\n",
    "end\n",
    "\n",
    "function j!(J, x)\n",
    "    J[1, 1] = -6*x[1]^2 + 4.4*x[1]- (4*x[1]-1.6)*sqrt((0.3-x[1])^2) + (2*x[1]^2 -1.6*x[1] +0.3)*(0.3-x[1])/sqrt((0.3-x[1])^2)\n",
    "    J[1, 2] = 0\n",
    "    J[2, 1] = 0\n",
    "    J[2, 2] = -2\n",
    "end\n",
    "\n",
    "nlsolve(f!, j!, [10.; 10.])\n",
    "\n"
   ]
  },
  {
   "cell_type": "markdown",
   "metadata": {},
   "source": [
    "---\n",
    "\n",
    "## Consumption optimization\n",
    "\n",
    "A consumer has preferences $U(c_1, c_2)$ over two consumption goods $c_1$ and $c_2$.\n",
    "\n",
    "Given a budget $I$, consumer wants to maximize utility subject to the budget constraint $p_1 c_1 + p_2 c_2 \\leq I$.\n",
    "\n",
    "We choose a Stone-Geary specification where\n",
    "\n",
    "$U(c_1, c_2)=\\beta_1 \\log(c_1-\\gamma_1) + \\beta_2 \\log(c_2-\\gamma_2)$\n",
    "\n",
    "__Write the Karush-Kuhn-Tucker necessary conditions for the problem.__"
   ]
  },
  {
   "cell_type": "markdown",
   "metadata": {},
   "source": [
    "We can write the lagrangian of the problem as $\\mathcal{L}(x,y) =\\beta_1 \\log(c_1-\\gamma_1) + \\beta_2 \\log(c_2-\\gamma_2) - \\lambda (I - p_1c_1-p_2c_2)$. With complementary and slackness conditions: \n",
    "\n",
    "   - $ \\lambda \\geq 0$ \n",
    "   - $ \\lambda (I - p_1c_1-p_2c_2) = 0 $\n",
    "\n",
    "Taking first order conditions we thereby know that the problem must satisfy: \n",
    "\n",
    "- $\\frac{\\partial U}{\\partial c_1} - \\lambda p_1 = 0$\n",
    "\n",
    "- $\\frac{\\partial U}{\\partial c_2}- \\lambda p_2 = 0$\n",
    "\n",
    "- $\\lambda(p_1 c_1 + p_2 c_2 -I) = 0$\n"
   ]
  },
  {
   "cell_type": "markdown",
   "metadata": {},
   "source": [
    "__Verify the KKT conditions are sufficient for optimality.__"
   ]
  },
  {
   "cell_type": "code",
   "execution_count": null,
   "metadata": {},
   "outputs": [],
   "source": []
  },
  {
   "cell_type": "markdown",
   "metadata": {},
   "source": [
    "__Derive analytically the demand functions, and the shadow price.__"
   ]
  },
  {
   "cell_type": "markdown",
   "metadata": {},
   "source": [
    "Solving the first order conditions previously described we get the system of equations:\n",
    "\n",
    "\\begin{cases}\n",
    "\\frac{\\beta_1}{c_1 - \\gamma_1} - \\lambda p_1 = 0\\\\\\\\\n",
    "\\frac{\\beta_2}{c_2 - \\gamma_2}- \\lambda p_2 = 0\\\\\\\\\n",
    "\\lambda(p_1 c_1 + p_2 c_2 -I) = 0\n",
    "\\end{cases}\n",
    "\n",
    "We thereby have thereby obtain the value of the shadow price as  $\\lambda = \\frac{\\beta_1}{(c_1 - \\gamma_1)p1} = \\frac{\\beta_2}{(c_2 - \\gamma_2)p2} $. Note we can assume that $\\beta_1 \\neq 0$ and $\\beta_2 \\neq 0$ otherwise the individual would have zero utility. Thereby, we have that the budget constraint is binding or that $p_1 c_1 + p_2 c_2 -I =0$. \n",
    "\n",
    "From here we can find the demand functions by rewriting $c1 = I-p_2c_2$ to get: \n",
    "\n",
    "$$\n",
    "\\begin{align}\n",
    "(c_2 - \\gamma_2)p_2\\beta_1 &= \\beta_2(I-p_2c_2 - p_1\\gamma_1)\\\\\n",
    "c_2(p_2\\beta_1 + \\beta_2p_2) &=\\beta_2(I- p_1\\gamma_1) + \\gamma_2 p_2\\beta_1\\\\\n",
    "c_2(p_1,p_2) &=\\frac{\\beta_2(I- p_1\\gamma_1) + \\gamma_2 p_2\\beta_1}{p_2\\beta_1 + \\beta_2p_2}\n",
    "\\end{align}\n",
    "$$\n",
    "\n",
    "Resubstituting into the budget constraint we get $c_1$ as: \n",
    "\n",
    "$$\n",
    "c_1(p_1,p_2)= \\frac{\\beta_1(I- p_2\\gamma_2) + \\gamma_1 p_1\\beta_2}{p_1\\beta_2 + \\beta_1p_1}\n",
    "$$\n",
    "\n",
    "Therefore, \n",
    "\n",
    "$$\n",
    "\\lambda^*=  \\frac{\\beta_1 + \\beta_2}{I -\\gamma_2p_2 - p_1\\gamma_1}\n",
    "$$"
   ]
  },
  {
   "cell_type": "markdown",
   "metadata": {},
   "source": [
    "__Interpret this problem as a complementarity problem and solve it using NLSolve.__"
   ]
  },
  {
   "cell_type": "code",
   "execution_count": null,
   "metadata": {},
   "outputs": [],
   "source": []
  },
  {
   "cell_type": "markdown",
   "metadata": {},
   "source": [
    "__Produce some nice graphs with isoutility curves, the budget constraint and the optimal choice.__\n",
    "\n"
   ]
  },
  {
   "cell_type": "markdown",
   "metadata": {},
   "source": [
    "The iso-utility curves can be obtained by fixing a level of utility $\\bar{u}$ and expressing $c_2$ as a function of $c_1$. We thereby have: \n",
    "\n",
    "$$\n",
    "\\begin{align}\n",
    " \\bar{u} &= \\ln\\left((c_1-\\gamma_1)^{\\beta_1}(c_2-\\gamma_2)^{\\beta_2}\\right)\\\\\\\\\n",
    "exp(\\bar{u}) &= (c_1-\\gamma_1)^{\\beta_1}(c_2-\\gamma_2)^{\\beta_2}\\\\\\\\\n",
    "c_2 &= \\left[\\frac{exp(\\bar{u} )}{(c_1 - \\gamma_1)^{\\beta_1}} \\right]^{\\frac{1}{\\beta_2}} + \\gamma_2\n",
    "\\end{align}\n",
    "$$\n",
    "\n",
    "\n",
    "The budget constraint can simply be incorporated as:\n",
    "\n",
    "$$\n",
    "c_2 = \\frac{I - p_1c_1}{p_2}\n",
    "$$"
   ]
  },
  {
   "cell_type": "code",
   "execution_count": 86,
   "metadata": {},
   "outputs": [
    {
     "data": {
      "text/plain": [
       "Dict{Symbol,Float64} with 7 entries:\n",
       "  :p2 => 2.0\n",
       "  :γ2 => 0.4\n",
       "  :I  => 50.0\n",
       "  :β1 => 0.5\n",
       "  :p1 => 1.0\n",
       "  :γ1 => 0.3\n",
       "  :β2 => 0.6"
      ]
     },
     "execution_count": 86,
     "metadata": {},
     "output_type": "execute_result"
    }
   ],
   "source": [
    "p = Dict(:I=>50.0, :p1 =>1.0, :p2 =>2.0, :γ1 =>0.3, :γ2 => 0.4, :β1 => 0.5, :β2 => 0.6)"
   ]
  },
  {
   "cell_type": "code",
   "execution_count": 87,
   "metadata": {},
   "outputs": [
    {
     "data": {
      "text/plain": [
       "budget (generic function with 2 methods)"
      ]
     },
     "execution_count": 87,
     "metadata": {},
     "output_type": "execute_result"
    }
   ],
   "source": [
    "function isoutil(c1,u,p)\n",
    "    γ1 = p[:γ1]\n",
    "    γ2 = p[:γ2]\n",
    "    β1 = p[:β1]\n",
    "    β2 = p[:β2]\n",
    "  return (exp(u)/(c1-γ1)^(β1))^(1/β2) + γ2\n",
    "end\n",
    "\n",
    "function budget(c1,p)\n",
    "    return (p[:I] - p[:p1]*c1)/p[:p2]\n",
    "end\n",
    "\n"
   ]
  },
  {
   "cell_type": "code",
   "execution_count": 90,
   "metadata": {},
   "outputs": [
    {
     "data": {
      "text/plain": [
       "20-element Array{Float64,1}:\n",
       " 9.55129854418714\n",
       " 4.768747948646092\n",
       " 3.3711730935540043\n",
       " 2.6850532242383203\n",
       " 2.2720446752163883\n",
       " 1.9940503827764609\n",
       " 1.7931635011823523\n",
       " 1.6406677291720104\n",
       " 1.5206372297151405\n",
       " 1.4235003097346994\n",
       " 1.3431438610256814\n",
       " 1.2754732326560705\n",
       " 1.2176384812323082\n",
       " 1.1675923144333893\n",
       " 1.1238245539069724\n",
       " 1.0851958332454297\n",
       " 1.0508297015312882\n",
       " 1.0200404674557049\n",
       " 0.9922836601385371\n",
       " 0.9671212255374867"
      ]
     },
     "execution_count": 90,
     "metadata": {},
     "output_type": "execute_result"
    }
   ],
   "source": [
    "c1 = [i for i in 1:20]\n",
    "B = [budget(c,p) for c in c1]\n",
    "Iso1 = [isoutil(c,1.15,p) for c in c1]"
   ]
  },
  {
   "cell_type": "code",
   "execution_count": 91,
   "metadata": {},
   "outputs": [
    {
     "ename": "UndefVarError",
     "evalue": "UndefVarError: plot not defined",
     "output_type": "error",
     "traceback": [
      "UndefVarError: plot not defined",
      "",
      "Stacktrace:",
      " [1] top-level scope at In[91]:1"
     ]
    }
   ],
   "source": [
    "pl = plot(c1,B, label=\"Budget line\",xlabel=\"c_1\", ylabel = \"c_2\")\n",
    "plot!(pl, c1, Iso1,  label=\"Isoutility u = 1.2\")"
   ]
  },
  {
   "cell_type": "markdown",
   "metadata": {},
   "source": [
    "Below is the function that computers the choices of c_1 and c_2 given the values for the initial paramaters. An example is calculated that it works!"
   ]
  },
  {
   "cell_type": "code",
   "execution_count": 93,
   "metadata": {},
   "outputs": [
    {
     "data": {
      "text/plain": [
       "2-element Array{Float64,1}:\n",
       " 22.527272727272727\n",
       " 13.736363636363635"
      ]
     },
     "execution_count": 93,
     "metadata": {},
     "output_type": "execute_result"
    }
   ],
   "source": [
    "function get_c(p)\n",
    "    I  = p[:I]\n",
    "    γ1 = p[:γ1]\n",
    "    γ2 = p[:γ2]\n",
    "    β1 = p[:β1]\n",
    "    β2 = p[:β2]\n",
    "    p1 = p[:p1]\n",
    "    p2 = p[:p2]  \n",
    "    c1 = (β1*(I-p2*γ2) + γ1*p1*β2)/(p1*β2 + β1*p1)\n",
    "    c2 = (β2*(I-p1*γ1) + γ2*p2*β1)/(p2*β1 + β2*p2)\n",
    "   return [c1,c2]\n",
    "end\n",
    "\n",
    "get_c(p)"
   ]
  },
  {
   "cell_type": "code",
   "execution_count": null,
   "metadata": {},
   "outputs": [],
   "source": []
  }
 ],
 "metadata": {
  "kernelspec": {
   "display_name": "Julia 1.4.0",
   "language": "julia",
   "name": "julia-1.4"
  },
  "language_info": {
   "file_extension": ".jl",
   "mimetype": "application/julia",
   "name": "julia",
   "version": "1.4.0"
  }
 },
 "nbformat": 4,
 "nbformat_minor": 4
}
