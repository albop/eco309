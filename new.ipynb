{
 "cells": [
  {
   "cell_type": "markdown",
   "metadata": {},
   "source": [
    "Table SAM(u,v) social accounting matrix\n",
    "\n",
    "\n",
    "|   SAM |     BRD  |  MLK   |   CAP  |  LAB  |  HOH  |\n",
    "| ----- | -------- | ------ | ------ | ----- | ----- |\n",
    "|   BRD |     -    |   -    |    -   |   -   |  15   |\n",
    "|  MLK  |          |    -   |    -   |   -   |  35   |\n",
    "|  CAP  |     5    |    -   |     -  |   -   |  20   |\n",
    "|  LAB  |    10    |   15   |     -  |    -  |    -  |\n",
    "|  HOH  |      -   |    -   |    25  |   25  |    -  |"
   ]
  },
  {
   "cell_type": "markdown",
   "metadata": {},
   "source": [
    "| SAM       | BRD    | MLK    | CAP    | LAB  | HOH  |\n",
    "| -------- | ------- | ------ | ------ | ---- | ---- |\n",
    "| January  | $250    |        |        |      |  15  |\n",
    "| January  | $250    |        |        |      |  15  |\n",
    "| January  | $250    |        |        |      |  15  |"
   ]
  },
  {
   "cell_type": "markdown",
   "metadata": {},
   "source": []
  }
 ],
 "metadata": {
  "language_info": {
   "name": "python"
  }
 },
 "nbformat": 4,
 "nbformat_minor": 2
}
