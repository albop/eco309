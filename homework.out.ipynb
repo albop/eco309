{
  "cells": [
    {
      "cell_type": "markdown",
      "metadata": {},
      "source": [
        "# Homework\n",
        "\n",
        "Computational Economics (ECO309)\n",
        "\n",
        "Pablo Winant\n",
        "\n",
        "## Part I : A simple CGE model\n",
        "\n",
        "The goal of this exercise consists in solving a simple CGE model using\n",
        "Julia.\n",
        "\n",
        "Model is taken from *Handbook of Computible General Equilibrium\n",
        "Modeling*. [1]\n",
        "\n",
        "### The data and the social accounting mmatrix\n",
        "\n",
        "In a CGE, the data about the economy’s exchanges is compiled in one\n",
        "single “Social Accounting Matrix”. It is essentially a matrix\n",
        "representation of the national accounts that can be arbitrary refined\n",
        "based on data availability.\n",
        "\n",
        "In this course work we consider the following simplified version. All\n",
        "items are in million euros.\n",
        "\n",
        "| SAM | BRD | MLK | CAP | LAB | HOH |\n",
        "|:---:|:---:|:---:|:---:|:---:|:---:|\n",
        "| BRD |     |     |     |     | 15  |\n",
        "| MLK |     |     |     |     | 35  |\n",
        "| CAP |  5  | 20  |     |     |     |\n",
        "| LAB | 10  | 15  |     |     |     |\n",
        "| HOH |     |     | 25  | 25  |     |\n",
        "\n",
        "In this table, there are:\n",
        "\n",
        "-   Two Goods: BRD and MLK\n",
        "-   Two Factors: CAP and LAB (capital and labour)\n",
        "-   One Agent: HOH (Households)\n",
        "\n",
        "To read the matrix, we consider that rows decomposes the inputs for each\n",
        "column (measured by their cost).\n",
        "\n",
        "For instance, the value of the production in the BRD-producing sector is\n",
        "decomposed between the payment to capital (5) and the payment to labor\n",
        "(10).\n",
        "\n",
        "We will assume there are fixed endowments in capital and labour and that\n",
        "they are owned by the household.\n",
        "\n",
        "1.  Create a DataFrame representing the SAM matrix.\n",
        "\n",
        "[1] GAMS is a modeling software, routinely used for CGEs. You can\n",
        "checkout the code for the current model\n",
        "[here](https://www.gams.com/latest/gamslib_ml/libhtml/gamslib_splcge.html)"
      ],
      "id": "e682615a-6e01-44f0-8c79-d48a7cfaa744"
    },
    {
      "cell_type": "code",
      "execution_count": 3,
      "metadata": {},
      "outputs": [],
      "source": [
        "using DataFrames\n",
        "\n",
        "SAM = ..."
      ],
      "id": "d302947e"
    },
    {
      "cell_type": "markdown",
      "metadata": {},
      "source": [
        "We use the following notations:\n",
        "\n",
        "-   $X_i$ household consumption of good i\n",
        "-   $F_{h,j}$ the h-th factor input by firm j\n",
        "-   $Z_{j}$ output of the j-th good\n",
        "-   $p^x_{i}$ demand price of the i-th good\n",
        "-   $p^z_{j}$ supply price of the i-th good\n",
        "-   $p^f_{h}$ the h-th factor price\n",
        "\n",
        "In these definitions the indices are conventionally:\n",
        "$i \\in \\text{BRD,MLK}$, $j\\in \\text{BRD,MLK}$, $h \\in \\text{CAP,LAB}$).\n",
        "\n",
        "Our goal is to determine a model consistent value for all these\n",
        "variables (there are 14 of them), by solving a system of equations\n",
        "corresponding to the model we describe below.\n",
        "\n",
        "We also denote by a zero exponent, the variables at the steady-state.\n",
        "For instance, $X_{BRD}^0$ is the household consumption of good $BRD$. We\n",
        "assume that the SAM corresponds to values observed at the steady-state.\n",
        "\n",
        "### Consumers\n",
        "\n",
        "Given prices $p^x_i$, households maximize utility of consumption\n",
        "$$U = \\prod_i X_i^{\\alpha_i}$$ where $\\alpha_i$ is the share parameter\n",
        "in the utility function (with $\\sum_i \\alpha_i=1$)\n",
        "\n",
        "1.  **Write down the budget constraint of households and write down the\n",
        "    demand function for households as a function of total gdp and price\n",
        "    of goods.**\n",
        "\n",
        "$$X_i  = \\alpha_i \\sum_h \\frac{p^f_h FF_h}{px_i}$$\n",
        "\n",
        "1.  **According to the SAM matrix, what is the value of gdp in the\n",
        "    model. How can we calibrate the values of $\\alpha_i$?**\n",
        "\n",
        "$$X_i  = \\alpha_i \\sum_h \\frac{p^f_h FF_h}{px_i}$$\n",
        "$$\\alpha_i  = \\frac{X^0_i}{\\sum_j X^0_{j}}$$\n",
        "\n",
        "### Producers\n",
        "\n",
        "We assume that producers of final goods, use the following production\n",
        "function:\n",
        "\n",
        "$$Z_j   = b_j \\prod_h F_{h,j}^{\\beta_{h,j}}$$\n",
        "\n",
        "where $\\beta_{h,j}$ is the share parameter in production function\n",
        "($\\sum_h \\beta_{h,j}=1$) and $b_j$ a scale parameter.\n",
        "\n",
        "1.  **Show that factor demand function can be written as:**\n",
        "    $$ F_{h,j} = \\beta_{h,j} \\frac{pz_j Z_j }{pf_h} $$\n",
        "\n",
        "2.  **How can we calibrate $\\beta_{h,j}$ from the data? How can we\n",
        "    recover $b_j$?**\n",
        "\n",
        "> **Note**\n",
        ">\n",
        "> $$\\beta_{h,j} = \\frac{F^0_{h,j}}{\\sum_k F^0_{k,j}}$$\n",
        "> $$b_j      = \\frac{Z^0_j}{ \\prod_h  (F^0_{h,j})^{\\beta_{h,j}} }$$\n",
        "\n",
        "### Equilibrium\n",
        "\n",
        "In equilibrium we have the following conditions:\n",
        "\n",
        "-   demand prices of the i-th good must match supply price of the same\n",
        "    good: $$px_{i} = pz_{i}$$\n",
        "\n",
        "-   good market must clear: $$ X_i   = Z_i $$\n",
        "\n",
        "-   factor market must clear: $$ \\sum_j F_{h,j} = F_h $$"
      ],
      "id": "9eec2785-88c4-401f-a54c-ac125f3afdf2"
    },
    {
      "cell_type": "raw",
      "metadata": {
        "raw_mimetype": "text/html"
      },
      "source": [
        "<!-- @. __Justify the steady-state identity: $Z^0_j   = \\sum_h F^0_{h,j}$.__ -->"
      ],
      "id": "eccb38b6-1e93-478f-8c3a-08d53caecfd9"
    },
    {
      "cell_type": "markdown",
      "metadata": {},
      "source": [
        "### Calibration\n",
        "\n",
        "1.  **Define a structure `model`, containing the parameters of the model\n",
        "    that can be directly calibrated from the data\n",
        "    (i.e. $\\alpha_i$,$\\beta_{ij}$, $b_j$, $F_h$ …).**"
      ],
      "id": "1a3faaa1-9123-400e-8368-48c48c6d3af1"
    },
    {
      "cell_type": "code",
      "execution_count": 4,
      "metadata": {},
      "outputs": [],
      "source": [
        "## Choose the structure your prefer"
      ],
      "id": "703ee725"
    },
    {
      "cell_type": "markdown",
      "metadata": {},
      "source": [
        "## \n",
        "\n",
        "Consumer problem\n",
        "\n",
        "1.  **Create an initial set of values `vars0` for the model variables to\n",
        "    be solved for.**"
      ],
      "id": "58a0fe00-80e9-4674-9dc9-96f6ac8be54c"
    },
    {
      "cell_type": "code",
      "execution_count": null,
      "metadata": {},
      "outputs": [],
      "source": [
        "## one suggestion consists in defnining a named tuple of the form:\n",
        "\n",
        "vars0 = (;\n",
        "    X=(;\n",
        "        BRD=...,\n",
        "        MLK=...\n",
        "    ),\n",
        "    F=(;\n",
        "        LAB=(;\n",
        "            BRD=...,\n",
        "            MLK=...\n",
        "        )\n",
        "    ),\n",
        "    ...\n",
        ")"
      ],
      "id": "d6efd3d8"
    },
    {
      "cell_type": "markdown",
      "metadata": {},
      "source": [
        "1.  **Write a function which packs the set of variable values into a\n",
        "    julia vector. Write the reverse function to unpack a vector into a\n",
        "    structure of the same type as vars. Check these two functions are\n",
        "    consistent (i.e. `pack(unpack(u)) == u`).**"
      ],
      "id": "60673294-c372-4999-95a7-f8d15738a6bc"
    },
    {
      "cell_type": "code",
      "execution_count": null,
      "metadata": {},
      "outputs": [],
      "source": [
        "# input argument should be the same as vars0\n",
        "function pack(vars)::Vector\n",
        "\n",
        "    # [X_BRD, X_MLK, F_LAB_BRD, ...]\n",
        "end"
      ],
      "id": "4d086f6e"
    },
    {
      "cell_type": "code",
      "execution_count": 7,
      "metadata": {},
      "outputs": [
        {
          "output_type": "display_data",
          "metadata": {},
          "data": {
            "text/plain": [
              "unpack (generic function with 1 method)"
            ]
          }
        }
      ],
      "source": [
        "# output argument should be the same as vars0\n",
        "function unpack(u::AbstractVector)\n",
        "\n",
        "    \n",
        "end"
      ],
      "id": "10474206"
    },
    {
      "cell_type": "markdown",
      "metadata": {},
      "source": [
        "1.  **Write a function `residuals` which check whether the model\n",
        "    equations are satisified for a particular guess `v0`. The output can\n",
        "    be a simple vector. Check the residuals for the initial guess\n",
        "    vars0.**"
      ],
      "id": "15604a1e-e910-45b9-9c56-c8e81fb94cfa"
    },
    {
      "cell_type": "code",
      "execution_count": null,
      "metadata": {},
      "outputs": [],
      "source": [
        "function residuals(model, v)::Vector\n",
        "\n",
        "    # write down the model equations below\n",
        "    \n",
        "\n",
        "end"
      ],
      "id": "fd624138"
    },
    {
      "cell_type": "markdown",
      "metadata": {},
      "source": [
        "1.  **Add a method to function `residuals`, which now takes a vector as\n",
        "    argument (using the unpack function). Compute the jacobian of that\n",
        "    new function. Verify that the rank of this jacobian equals the\n",
        "    number of variables to be determined. If the number of equations is\n",
        "    greater than the number of variables to be determined, can you\n",
        "    identify one equation that can be safely removed?**.\n",
        "\n",
        "2.  **Solve the system in all the endogenous variables using your method\n",
        "    of choice (using your own code, using nlsolve, …). To ease\n",
        "    convergence, you might want to to take into account information\n",
        "    about variable boundaries (all variables are positive).**\n",
        "\n",
        "### Applications\n",
        "\n",
        "1.  **A massive migration doubles the endowment of labour, which is now\n",
        "    equal to 50. Assuming structural parameters are unchanged, Compute\n",
        "    the new equilibrium using the same code as before. Comment on the\n",
        "    changes in quantities and prices. Could you have predicted them?**\n",
        "\n",
        "2.  **What happens if the labour share in both production sectors is\n",
        "    reduced by 1%? (i.e. $\\beta_{LAB,j}$ is reduced by 1%).**\n",
        "\n",
        "## Part II - Endogenous Exit\n",
        "\n",
        "### Discretization of an AR1\n",
        "\n",
        "The following code, taken from Quantecon.jl approximates an AR1 process\n",
        "$$y_t = \\mu + \\rho (y_{t-1}-\\mu) + \\epsilon_t$$ (where $\\nu$ is the\n",
        "standard deviation of normal process $\\epsilon$), using a finite markov\n",
        "chain with $N$ different values.\n",
        "\n",
        "The output is a transition matrix and a vector containing discretized\n",
        "values $y_1, y_2, ... y_p$"
      ],
      "id": "4351bf3e-8ee4-420a-b381-a80e8ff74883"
    },
    {
      "cell_type": "code",
      "execution_count": null,
      "metadata": {},
      "outputs": [
        {
          "output_type": "display_data",
          "metadata": {},
          "data": {
            "text/plain": [
              "tauchen (generic function with 3 methods)"
            ]
          }
        }
      ],
      "source": [
        "# uncomment the following line if \"SpecialFunctions\" is not on your system\n",
        "# import Pkg; Pkg.add(\"SpecialFunctions\")\n",
        "\n",
        "using SpecialFunctions: erfc\n",
        "\n",
        "std_norm_cdf(x::T) where {T <: Real} = 0.5 * erfc(-x/sqrt(2))\n",
        "std_norm_cdf(x::Array{T}) where {T <: Real} = 0.5 .* erfc(-x./sqrt(2))\n",
        "\n",
        "function tauchen(N::Integer, ρ::T1, σ::T2, μ=zero(promote_type(T1, T2)), n_std::T3=3) where {T1 <: Real, T2 <: Real, T3 <: Real}\n",
        "    # Get discretized space\n",
        "    a_bar = n_std * sqrt(σ^2 / (1 - ρ^2))\n",
        "    y = range(-a_bar, stop=a_bar, length=N)\n",
        "    d = y[2] - y[1]\n",
        "\n",
        "    # Get transition probabilities\n",
        "    Π = zeros(promote_type(T1, T2), N, N)\n",
        "    for row = 1:N\n",
        "        # Do end points first\n",
        "        Π[row, 1] = std_norm_cdf((y[1] - ρ*y[row] + d/2) / σ)\n",
        "        Π[row, N] = 1 - std_norm_cdf((y[N] - ρ*y[row] - d/2) / σ)\n",
        "\n",
        "        # fill in the middle columns\n",
        "        for col = 2:N-1\n",
        "            Π[row, col] = (std_norm_cdf((y[col] - ρ*y[row] + d/2) / σ) -\n",
        "                           std_norm_cdf((y[col] - ρ*y[row] - d/2) / σ))\n",
        "        end\n",
        "    end\n",
        "\n",
        "    yy = y .+ μ / (1 - ρ) # center process around its mean (wbar / (1 - rho)) in new variable\n",
        "\n",
        "    (;transitions=Π, values=yy)\n",
        "\n",
        "end"
      ],
      "id": "128cf883"
    },
    {
      "cell_type": "markdown",
      "metadata": {},
      "source": [
        "**1. Take $\\rho=0.95, \\mu=0.1, \\nu=0.1$. Approximate the AR1 with 200\n",
        "discrete states, using the tauchen function above. Check that all rows\n",
        "sum to 1. Compute and plot the steady-state distribution.**"
      ],
      "id": "9745a6f2-6111-4501-9e5b-0a558355cee1"
    },
    {
      "cell_type": "code",
      "execution_count": null,
      "metadata": {},
      "outputs": [],
      "source": [
        "# you code here"
      ],
      "id": "41465ba4"
    },
    {
      "cell_type": "markdown",
      "metadata": {},
      "source": [
        "Consider a firm whose productivity $y_t$ is exogenous and evolves\n",
        "according to the markov chain above.\n",
        "\n",
        "Profits are given by $\\pi(y_t) = y_t$.\n",
        "\n",
        "At the start of each period, the firm decides whether to remain in\n",
        "operation and receive current profit $\\pi_t$ or to exit and receive\n",
        "scrap value $s>0$ for the sale of physical assets.\n",
        "\n",
        "Time is discounted using interest rate, that is\n",
        "$\\beta=\\frac{1}{1+r} \\in [0,1[$.\n",
        "\n",
        "The following code creates a parameterization of the firm’s problem:"
      ],
      "id": "25ff123a-40fe-45b4-b9e5-f29ac485d9db"
    },
    {
      "cell_type": "code",
      "execution_count": null,
      "metadata": {},
      "outputs": [
        {
          "output_type": "display_data",
          "metadata": {},
          "data": {
            "text/plain": [
              "create_exit_model"
            ]
          }
        }
      ],
      "source": [
        "\"Creates an instance of the firm exit model.\"\n",
        "function create_exit_model(;\n",
        "    n=200, # productivity grid size\n",
        "    ρ=0.95, μ=0.1, ν=0.1, # persistence, mean and volatility\n",
        "    β=0.98, s=100.0 # discount factor and scrap value\n",
        "    )\n",
        "    mc = tauchen(n, ρ, ν, μ)\n",
        "    z_vals, Q = mc.state_values, mc.p\n",
        "    return (; n, z_vals, Q, β, s)\n",
        "end"
      ],
      "id": "21b181f5"
    },
    {
      "cell_type": "markdown",
      "metadata": {},
      "source": [
        "\\_\\_2. What are the states of the problem? The controls? The rewards?"
      ],
      "id": "feb85f62-017f-4b18-9d72-1385d72535d2"
    },
    {
      "cell_type": "code",
      "execution_count": null,
      "metadata": {},
      "outputs": [],
      "source": [
        "# you code here"
      ],
      "id": "e1333177"
    },
    {
      "cell_type": "markdown",
      "metadata": {},
      "source": [
        "Solving the model consists in finding the value of the firm in each\n",
        "productivity state $y$ as well as the optimal decision (quit or continue\n",
        "in each of these states).\n",
        "\n",
        "The value of the firm satisfies:\n",
        "\n",
        "\\$V(y) = \\_{c(y)} (y) +"
      ],
      "id": "85a40bc7-8da4-4004-b99e-ca30fcd23bba"
    },
    {
      "cell_type": "raw",
      "metadata": {
        "raw_mimetype": "tex"
      },
      "source": [
        "\\begin{cases} \\end{cases}"
      ],
      "id": "38a01e3c-aef2-4272-91aa-2e00073d0167"
    }
  ],
  "nbformat": 4,
  "nbformat_minor": 5,
  "metadata": {
    "kernelspec": {
      "name": "julia-1.10",
      "display_name": "Julia 1.10.3",
      "language": "julia"
    },
    "language_info": {
      "name": "julia",
      "file_extension": ".jl",
      "mimetype": "application/julia",
      "version": "1.10.3"
    }
  }
}