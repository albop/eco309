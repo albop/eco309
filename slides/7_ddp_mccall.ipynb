{
 "cells": [
  {
   "cell_type": "markdown",
   "id": "66d5a921-11fd-4644-a442-0262024a57b7",
   "metadata": {},
   "source": [
    "# Tutorial: Discrete Dynamic Programming (2)\n",
    "\n",
    "## Advanced Macro: numerical methods"
   ]
  },
  {
   "cell_type": "markdown",
   "id": "fab9401f-5ba1-40b7-8dab-b09a083d7537",
   "metadata": {},
   "source": [
    "### Job-Search Model\n",
    "\n",
    "- When unemployed in date, a job-seeker\n",
    "  - consumes unemployment benefit $c_t = \\underline{c}$\n",
    "  - receives in every date $t$ a job offer $w_t$\n",
    "    - $w_t$ is i.i.d., \n",
    "    - takes values $w_1, w_2, w_3$ with probabilities $p_1, p_2, p_3$\n",
    "  - if job-seeker accepts, becomes employed at rate $w_t$ in the next period\n",
    "  - else he stays unemployed\n",
    "  \n",
    "- When employed at rate $w$\n",
    "  - worker consumes salary $c_t = w$\n",
    "  - with small probability $\\lambda>0$ looses his job:\n",
    "    - starts next period unemployed\n",
    "  - otherwise stays employed at same rate\n",
    "- Objective: $\\max E_0 \\left\\{ \\sum \\beta^t \\log(w_t) \\right\\}$\n"
   ]
  },
  {
   "cell_type": "markdown",
   "id": "582c4b30-f5b7-4e87-a42e-bb86be8bf1a7",
   "metadata": {},
   "source": [
    "__What are the states, the controls, the reward of this problem ? Write down the Bellman equation.__"
   ]
  },
  {
   "cell_type": "code",
   "execution_count": null,
   "id": "201c98f9-11c4-48ef-b21c-1b9d0263943b",
   "metadata": {},
   "outputs": [],
   "source": []
  },
  {
   "cell_type": "markdown",
   "id": "fa2980a7-8d14-414b-b79f-0316c46f9703",
   "metadata": {},
   "source": [
    "__Define a parameter structure for the model.__"
   ]
  },
  {
   "cell_type": "code",
   "execution_count": null,
   "id": "22b385f4-d91c-4fbf-ac24-8e59c80b60d3",
   "metadata": {},
   "outputs": [],
   "source": []
  },
  {
   "cell_type": "markdown",
   "id": "ad8ee344-9dc2-4ea9-81d2-83d795058a6f",
   "metadata": {},
   "source": [
    "__Define a function  `value_update(V_U::Vector{Float64}, V_E::Vector{Float64}, x::Vector{Bool}, p::Parameters)::Tuple{Vector, Vector}`, which takes in value functions tomorrow and a policy vector and return updated values for today.__"
   ]
  },
  {
   "cell_type": "code",
   "execution_count": null,
   "id": "ab4b4006-d0d7-4da7-928c-4b5c94b31a1c",
   "metadata": {},
   "outputs": [],
   "source": []
  },
  {
   "cell_type": "markdown",
   "id": "2f61a503-6b8e-40e6-8bf5-619f4d116a4b",
   "metadata": {},
   "source": [
    "__Define a function __Define a function `policy_eval(x::Vector{Bool}, p::Parameter)::Tuple{Vector, Vector}` which takes in a policy vector and returns the value(s) of following this policies forever. You can add relevant arguments to the function.__ which takes in a policy vector and returns the value(s) of following this policies forever. You can add relevant arguments to the function.__"
   ]
  },
  {
   "cell_type": "code",
   "execution_count": null,
   "id": "6ebb9fbd-0bae-4134-822e-3db75c832dcb",
   "metadata": {},
   "outputs": [],
   "source": []
  },
  {
   "cell_type": "markdown",
   "id": "43de188f-eba4-4e88-8cb3-dc932e29b111",
   "metadata": {},
   "source": [
    "__Define a function `bellman_step(V_E::Vector, V_U::Vector, p::Parameters)::Tuple{Vector, Vector, Vector}` which returns updated values, together with improved policy rules.__"
   ]
  },
  {
   "cell_type": "code",
   "execution_count": null,
   "id": "54b14005-f350-43b7-94e6-066a6ca42443",
   "metadata": {},
   "outputs": [],
   "source": []
  },
  {
   "cell_type": "markdown",
   "id": "ce6555c7-f055-4b3c-be2f-d3111b50d804",
   "metadata": {},
   "source": [
    "__Implement Value Function__"
   ]
  },
  {
   "cell_type": "code",
   "execution_count": null,
   "id": "a8d39209-bf35-4478-abb6-0c3d498aefd2",
   "metadata": {},
   "outputs": [],
   "source": []
  },
  {
   "cell_type": "markdown",
   "id": "fff1a1ce-d953-4c42-a8e4-39f1cf4ede20",
   "metadata": {},
   "source": [
    "__Implement Policy Iteration and compare rates of convergence.__"
   ]
  },
  {
   "cell_type": "code",
   "execution_count": null,
   "id": "c9e9cbca-71a4-40d7-9e15-63c6c0bc7743",
   "metadata": {},
   "outputs": [],
   "source": []
  },
  {
   "cell_type": "markdown",
   "id": "bf846bb7-6e9f-4748-8b21-09e869a5f59b",
   "metadata": {},
   "source": [
    "__Discuss the Effects of the Parameters__"
   ]
  },
  {
   "cell_type": "code",
   "execution_count": null,
   "id": "56d22fe1-a32d-42c1-ac55-943877a84211",
   "metadata": {},
   "outputs": [],
   "source": []
  },
  {
   "cell_type": "markdown",
   "id": "2f2c6918-4f1e-4ea5-bbfd-38784803e64a",
   "metadata": {},
   "source": [
    "### Simulating an AR1\n",
    "\n",
    "Choose a 2x2 matrix $P$ (with spectral radius <1) and a 2x2 matrix Q.\n",
    "\n",
    "Consider the VAR1 process $x_t = P x_{t-1} + Q \\epsilon_t$ where $\\epsilon_t= (\\eta_{1,t}, \\eta_{2,t})$ with $\\eta_1\\sim\\mathcal{N}(0,1)$ and $\\eta_1\\sim\\mathcal{N}(0,1)$"
   ]
  },
  {
   "cell_type": "markdown",
   "id": "0e9c7cb2-e492-4e52-986a-01bee6584a01",
   "metadata": {
    "tags": []
   },
   "source": [
    "__Compute impulse response functions.__"
   ]
  },
  {
   "cell_type": "code",
   "execution_count": null,
   "id": "6c5454f5-7ffd-46ca-803d-20f46c29d64b",
   "metadata": {},
   "outputs": [],
   "source": []
  },
  {
   "cell_type": "markdown",
   "id": "ddc1dcc3-a268-43c7-a564-86994b798c4e",
   "metadata": {},
   "source": [
    "__Simulate the process for $T$ periods.__"
   ]
  },
  {
   "cell_type": "code",
   "execution_count": null,
   "id": "fd3d9f2a-4e2b-41ae-9421-cd6aea3630ce",
   "metadata": {},
   "outputs": [],
   "source": []
  },
  {
   "cell_type": "markdown",
   "id": "6668a155-4022-4d54-a73b-605d3b52d0d7",
   "metadata": {},
   "source": [
    "__Simulate the process $N=1000$ times for $T=1000$ periods. How would you store the results?__"
   ]
  },
  {
   "cell_type": "code",
   "execution_count": null,
   "id": "aa8e4b18-2046-469b-b3de-e9af359f28bf",
   "metadata": {},
   "outputs": [],
   "source": []
  },
  {
   "cell_type": "markdown",
   "id": "2f76b2d0-b300-4ccc-9167-642663618626",
   "metadata": {},
   "source": [
    "__Make density plots to illustrate the ergodic property of the process__"
   ]
  },
  {
   "cell_type": "code",
   "execution_count": null,
   "id": "8e80889e-6905-4f2b-90b5-67c43ba35c62",
   "metadata": {},
   "outputs": [],
   "source": []
  },
  {
   "cell_type": "markdown",
   "id": "59aadfb5-de4c-4519-bf24-00f8a27c74b4",
   "metadata": {},
   "source": [
    "__Compute the asymptotic variance of the process. Compare with the theoretical one.__"
   ]
  },
  {
   "cell_type": "code",
   "execution_count": null,
   "id": "9e605055-58f7-438f-a724-826bcffa6997",
   "metadata": {},
   "outputs": [],
   "source": []
  },
  {
   "cell_type": "code",
   "execution_count": null,
   "id": "3fe919cc-a18f-47ec-8c01-cdb77083bea8",
   "metadata": {},
   "outputs": [],
   "source": []
  }
 ],
 "metadata": {
  "kernelspec": {
   "display_name": "Julia 1.5.3",
   "language": "julia",
   "name": "julia-1.5"
  },
  "language_info": {
   "file_extension": ".jl",
   "mimetype": "application/julia",
   "name": "julia",
   "version": "1.5.3"
  }
 },
 "nbformat": 4,
 "nbformat_minor": 5
}
