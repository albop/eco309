{
 "cells": [
  {
   "cell_type": "markdown",
   "id": "2016bb39",
   "metadata": {},
   "source": [
    "---\n",
    "title: Homework\n",
    "subtitle:  \"Computational Economics (ECO309)\"\n",
    "format:\n",
    "    html: default\n",
    "    ipynb: default\n",
    "---"
   ]
  },
  {
   "cell_type": "markdown",
   "id": "8c86d9a3",
   "metadata": {},
   "source": [
    "__Name__:\n",
    "\n",
    "__Surname__: \n",
    "\n",
    "After completing the following questions, send the edited notebook to `pablo.winant@polytechnique.fr`\n",
    "\n",
    "You are allowed to use any online available resource, and to you use any julia package, but not to copy/paste any code.\n",
    "\n",
    "Also, don't forget to comment your code and take any initiative you find useful and/or interesting. Also don't wait to be prompted to interpret your own results (or lack thereof)."
   ]
  },
  {
   "cell_type": "markdown",
   "id": "e4844ed0",
   "metadata": {},
   "source": [
    "## Part I : A simple CGE model\n",
    "\n",
    "The goal of this exercise consists in solving a simple CGE model using Julia.\n",
    "\n",
    "Model is taken from *Handbook of Computible General Equilibrium Modeling*. [^gams]\n",
    "\n",
    "[^gams]: GAMS is a modeling software, routinely used for CGEs. You can checkout the code for the current model [here](https://www.gams.com/latest/gamslib_ml/libhtml/gamslib_splcge.html)"
   ]
  },
  {
   "cell_type": "markdown",
   "id": "1d4802ce-e29f-4664-8f9c-74515116a173",
   "metadata": {},
   "source": [
    "### The data and the social accounting matrix"
   ]
  },
  {
   "cell_type": "markdown",
   "id": "ddc41f83",
   "metadata": {},
   "source": [
    "In a CGE, the data about the economy's exchanges is compiled in one single \"Social Accounting Matrix\".\n",
    "It is essentially a matrix representation of the national accounts that can be arbitrary refined based on data availability."
   ]
  },
  {
   "cell_type": "markdown",
   "id": "2953fe47-0f4c-43ee-986d-af447bec8130",
   "metadata": {},
   "source": [
    "In this course work we consider the following simplified version. All items are in million euros."
   ]
  },
  {
   "cell_type": "markdown",
   "id": "6ec66777",
   "metadata": {},
   "source": [
    "\n",
    "|    SAM   |     BRD  |  MLK  |   CAP  |  LAB  |  HOH |\n",
    "|:--------:|:--------:|:-----:|:------:|:-----:|:----:|\n",
    "|   BRD    |          |       |        |       |  15  |\n",
    "|  MLK     |          |       |        |       |  35  |\n",
    "|  CAP     |     5    |   20  |        |       |      |\n",
    "|  LAB     |    10    |   15  |        |       |      |\n",
    "|  HOH     |          |       |    25  |   25  |      |\n"
   ]
  },
  {
   "cell_type": "markdown",
   "id": "8afaaeba-5d17-4e59-93cf-8b559a087e76",
   "metadata": {},
   "source": [
    "In this table, there are 5 sectors:\n",
    "\n",
    "- Two Goods: BRD and MLK\n",
    "- Two Factors: CAP and LAB (capital and labour)\n",
    "- One Agent: HOH (Households)"
   ]
  },
  {
   "cell_type": "markdown",
   "id": "f3179975-7181-4e03-8ecd-1199e105a30c",
   "metadata": {},
   "source": [
    "Each of the rows feature a decomposition of the spending associated with each column.\n",
    "\n",
    "For instance, the value of the production in the BRD-producing sector (column BRD) is decomposed between the payment to capital (5) and the payment to labor (10). The full capital income goes to households (25). Households spend their income between BRD (15) and MLK (35.)"
   ]
  },
  {
   "cell_type": "markdown",
   "id": "734e0230",
   "metadata": {},
   "source": [
    "@. Create a DataFrame representing the SAM matrix."
   ]
  },
  {
   "cell_type": "code",
   "execution_count": 3,
   "id": "d302947e",
   "metadata": {},
   "outputs": [],
   "source": [
    "using DataFrames\n",
    "\n",
    "SAM = ..."
   ]
  },
  {
   "cell_type": "markdown",
   "id": "88c8a76b",
   "metadata": {},
   "source": [
    "### Notations\n",
    "\n",
    "To shorten notations while preserving readibility we associate conventional indices to each sector: $i \\in \\text{BRD,MLK}$, $j\\in \\text{BRD,MLK}$, $h \\in \\text{CAP,LAB}$).\n",
    "\n",
    "To model the economy, we will assume that endowments $F_h$ are in fixed quantities (so $F_{BRD}$ and $F_{MLK}$ are two fixed parameters.)\n"
   ]
  },
  {
   "cell_type": "markdown",
   "id": "a63b7b08-85ba-4235-84ba-9800f7739d0e",
   "metadata": {},
   "source": [
    "We use the following notations:\n",
    "\n",
    "- $X_i$   household consumption of good i \n",
    "- $F_{h,j}$ the h-th factor input by firm j\n",
    "- $Z_{j}$   output of the j-th good\n",
    "- $p^x_{i}$  demand price of the i-th good\n",
    "- $p^z_{j}$  supply price of the i-th good\n",
    "- $p^f_{h}$  the h-th factor price\n",
    "\n",
    "\n",
    "Our goal is to endogenize all these variables (there are 14 of them), by constructing a system of equations corresponding to the model we describe below.\n",
    "\n",
    "We also denote by a zero exponent, the variables at the initial steady-state. For instance, $X_{BRD}^0$ is the household consumption of good $BRD$. We assume that the SAM corresponds to values observed at the initial steady-state."
   ]
  },
  {
   "cell_type": "markdown",
   "id": "1647e98f-2d51-4a63-bc46-42b6f061e7be",
   "metadata": {},
   "source": [
    "### Consumers\n",
    "\n",
    "\n",
    "Households are endowed with capital (resp labour) in quantity $F_{CAP}$ resp $F_{LAB}$) that they sell to the goods producing firms at price $p^f_{CAP}$ (resp $p^f_{LAB}$).\n",
    "\n",
    "Given prices of goods $p^x_i$, households maximize utility of consumption $$U = \\prod_i X_i^{\\alpha_i}$$ where $\\alpha_i$ is the share parameter in the utility function (with $\\sum_i \\alpha_i=1$)\n"
   ]
  },
  {
   "cell_type": "markdown",
   "id": "d25d80ed",
   "metadata": {},
   "source": [
    "@. __Write down the budget constraint of households. Show that household's demand can be written as function of total gdp and price of goods as in   $$X_i  = \\alpha_i\\frac{ \\sum_h  p^f_h F_h}{p^x_i}$$.__"
   ]
  },
  {
   "cell_type": "markdown",
   "id": "4ff1e291",
   "metadata": {},
   "source": []
  },
  {
   "cell_type": "markdown",
   "id": "ac6ce692-bae3-4d8e-bc56-93ac237813ec",
   "metadata": {},
   "source": [
    "@. __According to the SAM matrix, what is the value of gdp in the model? How can we calibrate the values of $\\alpha_i$?__\n",
    "\n",
    "::: {callout-note}\n",
    "  $$X_i  = \\alpha_i  \\frac{\\sum_h p^f_h F_h}{p^x_i}$$\n",
    "$$\\alpha_i  = \\frac{p^x_i X^0_i}{\\sum_j p^x_j X^0_{j}}$$\n",
    ":::"
   ]
  },
  {
   "cell_type": "markdown",
   "id": "bf043373-6339-4b33-8b6d-e4b407ae449d",
   "metadata": {},
   "source": [
    "### Producers"
   ]
  },
  {
   "cell_type": "markdown",
   "id": "cc027894-6f41-4dbd-a393-2d45d9616558",
   "metadata": {},
   "source": [
    "We assume that producers of final goods, use the following production function:\n",
    "\n",
    "$$Z_j   = b_j \\prod_h F_{h,j}^{\\beta_{h,j}}$$\n",
    "\n",
    "where $\\beta_{h,j}$ is the share parameter in production function ($\\sum_h \\beta_{h,j}=1$) and $b_j$ is a scale parameter. Firms rent labour and capital at market price and are perfectly competitive.\n",
    "\n",
    "\n",
    "@. __Show that factor demand function can be written as:__\n",
    "$$ F_{h,j} = \\beta_{h,j} \\frac{p^z_j Z_j }{p^f_h} $$"
   ]
  },
  {
   "cell_type": "code",
   "execution_count": null,
   "id": "002816fd",
   "metadata": {},
   "outputs": [],
   "source": []
  },
  {
   "cell_type": "markdown",
   "id": "b4a0113f-f713-4f93-a421-04d05381f6ce",
   "metadata": {},
   "source": [
    "@. __How can we calibrate $\\beta_{h,j}$ from the data? How can we recover $b_j$?__"
   ]
  },
  {
   "cell_type": "markdown",
   "id": "fc86be44",
   "metadata": {},
   "source": []
  },
  {
   "cell_type": "markdown",
   "id": "bc53fcfa",
   "metadata": {},
   "source": [
    "@. __Without loss of generality we can assume that all prices are equal to 1 in the initial equilibrium. [^footnote]\n",
    "What are then the values for endowments $F_h$ consistent with the SAM? How can we calibrate the value of $b_j$?__\n",
    "\n",
    "[^footnote]: this can be done by renormalizing the unit of the quantities."
   ]
  },
  {
   "cell_type": "markdown",
   "id": "adac98a4",
   "metadata": {},
   "source": [
    "::: {.callout-note}\n",
    "\n",
    "$$\\beta_{h,j} = \\frac{F^0_{h,j}}{\\sum_k F^0_{k,j}}$$\n",
    "$$b_j      = \\frac{Z^0_j}{ \\prod_h  (F^0_{h,j})^{\\beta_{h,j}} }$$\n",
    "\n",
    ":::"
   ]
  },
  {
   "cell_type": "markdown",
   "id": "8ad1520c",
   "metadata": {},
   "source": [
    "### Equilibrium\n",
    "\n",
    "In equilibrium we have the following conditions:\n",
    "\n",
    "- demand prices of the i-th good must match supply price of the same good:\n",
    "$$p^x_{i} = p^z_{i}$$\n",
    "\n",
    "- good markets must clear:\n",
    "$$ X_i   = Z_i $$\n",
    "\n",
    "- factor markets must clear:\n",
    "$$ \\sum_j F_{h,j} = F_h $$\n",
    "\n",
    "- the price of labour is taken as the numeraire $p_{LAB} = 1$ (the other prices are endogenous)."
   ]
  },
  {
   "cell_type": "markdown",
   "id": "a465788c",
   "metadata": {},
   "source": [
    "<!-- @. __Justify the steady-state identity: $Z^0_j   = \\sum_h F^0_{h,j}$.__ -->\n"
   ]
  },
  {
   "cell_type": "markdown",
   "id": "b46e66c6",
   "metadata": {},
   "source": [
    "### Calibration and solution\n",
    "\n",
    "@. __Define a structure `model`, containing the parameters of the model that can be directly calibrated from the data (i.e. $\\alpha_i$,$\\beta_{ij}$, $b_j$, $F_h$ ...).__"
   ]
  },
  {
   "cell_type": "code",
   "execution_count": 4,
   "id": "703ee725",
   "metadata": {},
   "outputs": [],
   "source": [
    "## Choose the structure your prefer"
   ]
  },
  {
   "cell_type": "markdown",
   "id": "7fbd4e7d",
   "metadata": {},
   "source": [
    "@. __Create an initial set of values `vars0` for the model *variables* to be solved for. These variables should be consistent with the Social Accounting Matrix.__"
   ]
  },
  {
   "cell_type": "code",
   "execution_count": null,
   "id": "d6efd3d8",
   "metadata": {},
   "outputs": [],
   "source": [
    "## one suggestion consists in defining a named tuple of the form:\n",
    "\n",
    "vars0 = (;\n",
    "    X=(;\n",
    "        BRD=...,\n",
    "        MLK=...\n",
    "    ),\n",
    "    F=(;\n",
    "        LAB=(;\n",
    "            BRD=...,\n",
    "            MLK=...\n",
    "        )\n",
    "    ),\n",
    "    ...\n",
    ")"
   ]
  },
  {
   "cell_type": "markdown",
   "id": "a0e99bec",
   "metadata": {},
   "source": [
    "@. __Write a function which packs the set of variable values into a julia vector. Write the reverse function to unpack a vector into a structure of the same type as vars. Check that these two functions are consistent (i.e. `pack(unpack(u)) == u`).__"
   ]
  },
  {
   "cell_type": "code",
   "execution_count": null,
   "id": "4d086f6e",
   "metadata": {},
   "outputs": [],
   "source": [
    "# input argument should be the same as vars0\n",
    "function pack(vars)::Vector\n",
    "\n",
    "    # [X_BRD, X_MLK, F_LAB_BRD, ...]\n",
    "end"
   ]
  },
  {
   "cell_type": "code",
   "execution_count": 7,
   "id": "10474206",
   "metadata": {},
   "outputs": [
    {
     "data": {
      "text/plain": [
       "unpack (generic function with 1 method)"
      ]
     },
     "metadata": {},
     "output_type": "display_data"
    }
   ],
   "source": [
    "# output argument should be the same as vars0\n",
    "function unpack(u::AbstractVector)\n",
    "\n",
    "    \n",
    "end"
   ]
  },
  {
   "cell_type": "markdown",
   "id": "2c78b49a",
   "metadata": {},
   "source": [
    "@. __Write a function `residuals` which check whether the model equations are satisfied for a particular guess `v0`.  The output can be a simple vector. Check the residuals for the initial guess `vars0`. They should be zeros is if the initial values and the model equations have been carefully chosen.__ "
   ]
  },
  {
   "cell_type": "code",
   "execution_count": null,
   "id": "fd624138",
   "metadata": {},
   "outputs": [],
   "source": [
    "function residuals(model, v)::Vector\n",
    "\n",
    "    # write down the model equations below\n",
    "    \n",
    "\n",
    "end"
   ]
  },
  {
   "cell_type": "markdown",
   "id": "a5b5e089",
   "metadata": {},
   "source": [
    "@. __Add a new method to the function `residuals`, which now takes a vector as argument (using the unpack function). Compute the jacobian of that new function.\n",
    "Verify that the rank of this jacobian equals the number of variables to be determined. If the number of equations is greater than the number of variables to be determined, can you identify one equation that can be safely removed?__."
   ]
  },
  {
   "cell_type": "code",
   "execution_count": null,
   "id": "2da9cf90",
   "metadata": {},
   "outputs": [],
   "source": [
    "# Your code"
   ]
  },
  {
   "cell_type": "markdown",
   "id": "b3493b28",
   "metadata": {},
   "source": [
    "@. __Write a method to solve the system in all the endogenous variables when the initial guess is close to the initial equilibrium. You can use your method of choice (using your own code, using nlsolve, ...). To ease convergence, you might want to take into account information about variable boundaries (all variables are positive).__"
   ]
  },
  {
   "cell_type": "code",
   "execution_count": null,
   "id": "d926e4a3",
   "metadata": {},
   "outputs": [],
   "source": [
    "# Your code"
   ]
  },
  {
   "cell_type": "markdown",
   "id": "e195ed93",
   "metadata": {},
   "source": [
    "### Applications"
   ]
  },
  {
   "cell_type": "markdown",
   "id": "1c97a777",
   "metadata": {},
   "source": [
    "@. __A massive migration doubles the endowment of labour, which is now equal to 50. Assuming structural parameters are unchanged, Compute the new equilibrium using the same code as before. Comment on the changes in quantities and prices. Could you have predicted them?__"
   ]
  },
  {
   "cell_type": "code",
   "execution_count": 2,
   "id": "9d902800",
   "metadata": {},
   "outputs": [],
   "source": [
    "# Your code"
   ]
  },
  {
   "cell_type": "markdown",
   "id": "33f79780",
   "metadata": {},
   "source": [
    "@. __What happens if the labour share in both production sectors is reduced by 1%? (i.e. $\\beta_{LAB,j}$ is reduced by 1%).__"
   ]
  },
  {
   "cell_type": "code",
   "execution_count": null,
   "id": "294abf9b",
   "metadata": {},
   "outputs": [],
   "source": [
    "# Your code"
   ]
  },
  {
   "cell_type": "markdown",
   "id": "43eb46fc",
   "metadata": {},
   "source": [
    "## Part II - Endogenous Exit"
   ]
  },
  {
   "cell_type": "markdown",
   "id": "2976e49f",
   "metadata": {},
   "source": [
    "### Warmup: discretization of an AR1"
   ]
  },
  {
   "cell_type": "markdown",
   "id": "4104c527",
   "metadata": {},
   "source": [
    "The following code, taken from Quantecon.jl approximates an AR1 process $$y_t = \\mu + \\rho (y_{t-1}-\\mu) + \\epsilon_t$$ (where $\\nu$ is the standard deviation of normal process $\\epsilon$), using a finite markov chain with $N$ different values.\n",
    "\n",
    "The output is a transition matrix $P_ij$ and a vector containing discretized values $y_1, y_2, ... y_p$"
   ]
  },
  {
   "cell_type": "code",
   "execution_count": null,
   "id": "128cf883",
   "metadata": {},
   "outputs": [
    {
     "data": {
      "text/plain": [
       "tauchen (generic function with 3 methods)"
      ]
     },
     "metadata": {},
     "output_type": "display_data"
    }
   ],
   "source": [
    "# uncomment the following line if \"SpecialFunctions\" is not on your system\n",
    "# import Pkg; Pkg.add(\"SpecialFunctions\")\n",
    "\n",
    "using SpecialFunctions: erfc\n",
    "\n",
    "std_norm_cdf(x::T) where {T <: Real} = 0.5 * erfc(-x/sqrt(2))\n",
    "std_norm_cdf(x::Array{T}) where {T <: Real} = 0.5 .* erfc(-x./sqrt(2))\n",
    "\n",
    "function tauchen(N::Integer, ρ::T1, σ::T2, μ=zero(promote_type(T1, T2)), n_std::T3=3) where {T1 <: Real, T2 <: Real, T3 <: Real}\n",
    "    # Get discretized space\n",
    "    a_bar = n_std * sqrt(σ^2 / (1 - ρ^2))\n",
    "    y = range(-a_bar, stop=a_bar, length=N)\n",
    "    d = y[2] - y[1]\n",
    "\n",
    "    # Get transition probabilities\n",
    "    Π = zeros(promote_type(T1, T2), N, N)\n",
    "    for row = 1:N\n",
    "        # Do end points first\n",
    "        Π[row, 1] = std_norm_cdf((y[1] - ρ*y[row] + d/2) / σ)\n",
    "        Π[row, N] = 1 - std_norm_cdf((y[N] - ρ*y[row] - d/2) / σ)\n",
    "\n",
    "        # fill in the middle columns\n",
    "        for col = 2:N-1\n",
    "            Π[row, col] = (std_norm_cdf((y[col] - ρ*y[row] + d/2) / σ) -\n",
    "                           std_norm_cdf((y[col] - ρ*y[row] - d/2) / σ))\n",
    "        end\n",
    "    end\n",
    "\n",
    "    yy = y .+ μ / (1 - ρ) # center process around its mean (wbar / (1 - rho)) in new variable\n",
    "\n",
    "    (;transitions=Π, values=yy)\n",
    "\n",
    "end"
   ]
  },
  {
   "cell_type": "markdown",
   "id": "31bec39a",
   "metadata": {},
   "source": [
    "@. __Take $\\rho=0.95, \\mu=0.1, \\nu=0.1$. Approximate the AR1 with 200 discrete states, using the tauchen function above. Check that all rows sum to 1. Compute and plot the steady-state distribution.__"
   ]
  },
  {
   "cell_type": "code",
   "execution_count": null,
   "id": "41465ba4",
   "metadata": {},
   "outputs": [],
   "source": [
    "# you code here"
   ]
  },
  {
   "cell_type": "markdown",
   "id": "c013b2ad",
   "metadata": {},
   "source": [
    "@. __Simulate the evolution of the above markov chain for 10000 periods. Compute the mean and standard deviation of all the simulated values. Compare these moments with the results obtained in the preceding question.__"
   ]
  },
  {
   "cell_type": "code",
   "execution_count": 17,
   "id": "3063ccca",
   "metadata": {},
   "outputs": [],
   "source": [
    "# you code here"
   ]
  },
  {
   "cell_type": "markdown",
   "id": "7744cb97",
   "metadata": {},
   "source": [
    "### A firm's problem\n",
    "\n",
    "Consider a firm whose productivity $y_t$ is exogenous and evolves according to the markov chain above.\n",
    "\n",
    "Profits are given by $\\pi(y_t) = y_t$.\n",
    "\n",
    "At the start of each period, the firm decides whether to remain in operation and receive\n",
    "current profit $\\pi_t$ or to exit and receive scrap value $s>0$ for the sale of physical assets.\n",
    "\n",
    "Time is discounted using interest rate, that is $\\beta=\\frac{1}{1+r} \\in [0,1[$.\n",
    "\n",
    "\n",
    "\n",
    "The following code creates a parameterization of the firm's problem:\n",
    "\n"
   ]
  },
  {
   "cell_type": "code",
   "execution_count": null,
   "id": "21b181f5",
   "metadata": {},
   "outputs": [
    {
     "data": {
      "text/plain": [
       "create_exit_model"
      ]
     },
     "metadata": {},
     "output_type": "display_data"
    }
   ],
   "source": [
    "\"Creates an instance of the firm exit model.\"\n",
    "function create_exit_model(;\n",
    "    n=200, # productivity grid size\n",
    "    ρ=0.95, μ=0.1, ν=0.1, # persistence, mean and volatility\n",
    "    β=0.98, s=100.0 # discount factor and scrap value\n",
    "    )\n",
    "    mc = tauchen(n, ρ, ν, μ)\n",
    "    z_vals, Q = mc.state_values, mc.p\n",
    "    return (; n, z_vals, Q, β, s)\n",
    "end"
   ]
  },
  {
   "cell_type": "markdown",
   "id": "19d21c65",
   "metadata": {},
   "source": [
    "Solving the model consists in finding the value of the firm in each productivity state $y$ as well as the optimal decision (quit or continue in each of these states).\n",
    "\n",
    "The value of the firm satisfies the Bellman equation:\n",
    "\n",
    "$$V(y) = \\max_{c(y)} \\pi(y) + \\beta \\begin{cases} \\mathbb{E}\\left[ V(y') | y\\right] & \\text{if c(y)=true}\\\\ s & \\text{otherwise}\\end{cases}$$\n",
    "\n",
    "Given that we have discretized the AR1 as a markov chain, one can also write it \n",
    "\n",
    "\n",
    "$$V(y_i) = \\max_{c(y_i)} \\pi(y_i) + \\beta \\begin{cases} \\sum_j P_{ij} V(y_j)  & \\text{if } c(y_i)=\\text{true} \\\\ s & \\text{otherwise} \\end{cases}$$\n",
    "\n",
    "For this problem it is natural to encode a guess for the value function $(V(y_i))_i$ as a `Vector{Float64}` of length $p$ and the vector of controls $(c(y_i))_i$ as a `Vector{Float64}` of length $p$."
   ]
  },
  {
   "cell_type": "markdown",
   "id": "83298441",
   "metadata": {},
   "source": [
    "@. __Write a function `bellman_step(model, V)` which takes in the model parameterization, as well as a guess for the next period value function ($V()$ on the right hand side of the Bellman equation) and returns a new updated value ($V()$ on the left).__"
   ]
  },
  {
   "cell_type": "code",
   "execution_count": null,
   "id": "de81b671",
   "metadata": {},
   "outputs": [],
   "source": [
    "# you code here"
   ]
  },
  {
   "cell_type": "markdown",
   "id": "b6e2c6f4",
   "metadata": {},
   "source": [
    "@. __Apply the `bellman_step` function until convergence, starting from any initial guess.[^vfi] Show that convergence speed is linear. Plot the resulting value function and optimal choices. Comment.__\n",
    "\n",
    "[^vfi]: This is known as the value function iteration algorithm."
   ]
  },
  {
   "cell_type": "code",
   "execution_count": 18,
   "id": "35893367",
   "metadata": {},
   "outputs": [],
   "source": [
    "# you code here"
   ]
  }
 ],
 "metadata": {
  "kernelspec": {
   "display_name": "Julia 1.10.3",
   "language": "julia",
   "name": "julia-1.10"
  },
  "language_info": {
   "file_extension": ".jl",
   "mimetype": "application/julia",
   "name": "julia",
   "version": "1.10.3"
  }
 },
 "nbformat": 4,
 "nbformat_minor": 5
}
