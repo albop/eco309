{
 "cells": [
  {
   "attachments": {},
   "cell_type": "markdown",
   "id": "694fa386",
   "metadata": {},
   "source": [
    "---\n",
    "title: Coursework 2025 - Deep Learning\n",
    "format:\n",
    "    html: default\n",
    "    ipynb: default\n",
    "---\n",
    "\n",
    "__Name__:\n",
    "\n",
    "__Surname__: \n",
    "\n",
    "After completing the following questions, send the edited notebook to `pablo.winant@ensae.fr`.\n",
    "You can work in (small) teams but are not allowed to copy/paste any code.\n",
    "Don't forget to comment your code and take any initiative you find relevant."
   ]
  },
  {
   "attachments": {},
   "cell_type": "markdown",
   "id": "4e299f22",
   "metadata": {},
   "source": [
    "## Learning the Consumption Rule"
   ]
  },
  {
   "attachments": {},
   "cell_type": "markdown",
   "id": "1122a8e5",
   "metadata": {},
   "source": [
    "This exercise is inspired from *Individual learning about consumption* by Todd Allen and Chris Carroll [link](https://www.econstor.eu/bitstream/10419/72016/1/328292125.pdf) and from *Deep Learning for Solving Economic models* by Maliar, Maliar and Winant [link](https://web.stanford.edu/~maliars/Files/JME2021.pdf)\n",
    "\n",
    "We consider the following consumption saving problem. An agent receives random income $y_t = \\exp(\\epsilon_t)$ where $\\epsilon_t\\sim \\mathcal{N}(\\sigma)$ ($\\sigma$ is the standard deviation.)\n",
    "\n",
    "Consumer starts the period with available income $w_t$. The law of motion for available income is:\n",
    "\n",
    "$$w_t = \\exp(\\epsilon_t) + (w_{t-1}-c_{t-1}) r$$\n",
    "\n",
    "where consumption $c_t \\in ]0,w_t]$ is chosen in each period in order to maximize:\n",
    "\n",
    "$$E_t \\sum_{t=0}^T \\beta^t U(c_t)$$\n",
    "\n",
    "given initial available income $w_0$.\n",
    "\n",
    "In the questions below, we will use the following calibration:\n",
    "\n",
    "- $\\beta = 0.9$\n",
    "- $\\sigma = 0.1$\n",
    "- $T=100$\n",
    "- $U(x) = \\frac{x^{1-\\gamma}}{1-\\gamma}$ with $\\gamma=2$\n",
    "- $w_0 = 1.1$ (alternatively, consider values 0.5 and 1)\n",
    "\n",
    "The theoretical solution to this problem is a concave function $\\varphi$ such that $\\varphi(x)\\in ]0,x]$ and $\\forall t,  c_t=\\varphi(w_t)$. Qualitatively, agents accumulate savings, up to a certain point (a buffer stock), beyond which wealth is not increasing any more (in expectation).\n",
    "\n",
    "Carroll and Allen have noticed that the true solution can be approximated very well by a simple rule:\n",
    "\n",
    "$\\psi(x) = \\min(x, \\theta_0 + \\theta_1 (x - \\theta_0) )$\n",
    "\n",
    "The main question they ask in the aforementioned paper is whether it is realistic that agents would learn good values of $\\theta_0$ and $\\theta_1$ by observing past experiences.\n",
    "\n",
    "We would like to examine this result by checking convergence of speed of stochastic gradient algorithm."
   ]
  },
  {
   "cell_type": "markdown",
   "id": "eb39e72f",
   "metadata": {},
   "source": [
    "### Lifetime reward"
   ]
  },
  {
   "cell_type": "markdown",
   "id": "01d53ebe",
   "metadata": {},
   "source": [
    "__Define a NamedTuple to hold the parameter values__"
   ]
  },
  {
   "cell_type": "code",
   "execution_count": null,
   "id": "1251211f",
   "metadata": {},
   "outputs": [],
   "source": []
  },
  {
   "cell_type": "markdown",
   "id": "5c9d2b96",
   "metadata": {},
   "source": [
    "__Define simple rule fonction `consumption(w::Number, θ_0::Number, θ_1::Number, p::NamedTuple)`\n",
    "which compute consumption using a simple rule. What is the meaning of $\\theta_0$ and $\\theta_1$? Make a plot in the space $w,c$, including consumption rule and the line where $w_{t+1} = w_t$.__\n",
    "\n",
    "(remark for later: `Number` type is compatible with ForwardDiff.jl 😉)"
   ]
  },
  {
   "cell_type": "code",
   "execution_count": null,
   "id": "9a741558",
   "metadata": {},
   "outputs": [],
   "source": []
  },
  {
   "cell_type": "markdown",
   "id": "71a7c36b",
   "metadata": {},
   "source": [
    "__Write a function `lifetime_reward(w_0::Number, θ_0::Number, θ_1::Number, p::NamedTuple)` which computes one realization of $\\sum \\beta^t U(c_t)$ for initial wealth `w_0` and simple rule `θ_0`, `θ_1`. Mathematically, we denote it by $\\xi(\\omega; \\theta_0, \\theta_1)$, where $\\omega$ represents the succession of random income draws.__"
   ]
  },
  {
   "cell_type": "code",
   "execution_count": null,
   "id": "66422835",
   "metadata": {},
   "outputs": [],
   "source": []
  },
  {
   "cell_type": "markdown",
   "id": "1ce85362",
   "metadata": {},
   "source": [
    "__Write a function `expected_lifetime_reward(w_0::Number, θ_0::Number, θ_1::Number,  p::NamedTuple; N=1000)` which computes expected lifetime reward using `N` Monte-Carlo draws. Mathematically, we write it $\\Xi^{N}(\\theta_0, \\theta_1) =\\frac{1}{N} \\sum_1^N {\\xi(\\omega_N; \\theta_0, \\theta_1)}$. Check empirically that standard deviation of these draws decrease proportionally to $\\frac{1}{\\sqrt{N}}$ .__"
   ]
  },
  {
   "cell_type": "code",
   "execution_count": null,
   "id": "aa9fe67c",
   "metadata": {},
   "outputs": [],
   "source": []
  },
  {
   "cell_type": "markdown",
   "id": "96eda21f",
   "metadata": {},
   "source": [
    "__Using a high enough number for `N`, compute optimal values for $\\theta_0$ and $\\theta_1$. What is the matching value for the objective function converted into an equivalent stream of deterministic consumption ? That is if `V` is the approximated value computed above, what is $\\bar{c}\\in \\R$ such that $ V= \\sum_{t=0}^T \\beta^t U(\\bar{c})$ ?__\n"
   ]
  },
  {
   "cell_type": "code",
   "execution_count": null,
   "id": "211eee2e",
   "metadata": {},
   "outputs": [],
   "source": []
  },
  {
   "cell_type": "markdown",
   "id": "f6f457b2",
   "metadata": {},
   "source": [
    "__Using a high enough number for `N`, make contour plots of lifetime rewards as a function of `θ_0` and `θ_1`. Ideally, represent lines with $1\\%$ consumption loss, $5\\%$ and $10\\%$ deterministic consumption loss w.r.t. to maximum.__"
   ]
  },
  {
   "cell_type": "code",
   "execution_count": null,
   "id": "ad7fea5e",
   "metadata": {},
   "outputs": [],
   "source": []
  },
  {
   "cell_type": "markdown",
   "id": "806a65a8",
   "metadata": {},
   "source": [
    "### Learning to save\n",
    "\n",
    "We now focus on the number of steps it takes to optimize $\\theta_0$, $\\theta_1$."
   ]
  },
  {
   "cell_type": "markdown",
   "id": "2e0cb1d4",
   "metadata": {},
   "source": [
    "__Implement a function `∇(θ::Vector; N=1000)::Vector` which computes the gradient of the objective w.r.t. `θ==[θ_0,θ_1]`. (You need to use automatic differentiation, otherwise you might get incorrect results).__"
   ]
  },
  {
   "cell_type": "code",
   "execution_count": null,
   "id": "929e606b",
   "metadata": {},
   "outputs": [],
   "source": []
  },
  {
   "cell_type": "markdown",
   "id": "c0a674ce",
   "metadata": {},
   "source": [
    "__Implement a gradient descent algorithm to maximize $\\Xi^N(\\theta_0, \\theta_1)$ using learning rate $\\lambda \\in ]0,1]$. Stop after a predefined number of iterations. Compare convergence speed for different values of $\\lambda$ and plot them on the $\\theta_0, \\theta_1$ plan. How many steps does it take to enter the `1%` error zone? The `5%` and the `10%` error zone?__"
   ]
  },
  {
   "cell_type": "code",
   "execution_count": null,
   "id": "4e382679",
   "metadata": {},
   "outputs": [],
   "source": []
  },
  {
   "cell_type": "markdown",
   "id": "3a7ba713",
   "metadata": {},
   "source": [
    "__Even for big N, the evaluated value of ∇ are stochastic, and always slightly inaccurate. In average, they are non-biased and the algorithm converges in expectation (it fluctuates around the maximum). This is called the stochastic gradient method.__\n"
   ]
  },
  {
   "cell_type": "code",
   "execution_count": null,
   "id": "0c5d858e",
   "metadata": {},
   "outputs": [],
   "source": []
  },
  {
   "cell_type": "markdown",
   "id": "231c70f4",
   "metadata": {},
   "source": [
    "\n",
    "__What are the values of $N$ and $\\lambda$ which minimize the number of iterations before reaching the target zones (at 1%, 2%, etc...)? How many simulations periods does it correspond to? Would you say it is realistic that consumers learn from their own experience?__"
   ]
  },
  {
   "cell_type": "code",
   "execution_count": null,
   "id": "145306f9",
   "metadata": {},
   "outputs": [],
   "source": []
  }
 ],
 "metadata": {
  "kernelspec": {
   "display_name": "Julia 1.6.1",
   "language": "julia",
   "name": "julia-1.6"
  },
  "language_info": {
   "file_extension": ".jl",
   "mimetype": "application/julia",
   "name": "julia",
   "version": "1.6.1"
  }
 },
 "nbformat": 4,
 "nbformat_minor": 5
}
