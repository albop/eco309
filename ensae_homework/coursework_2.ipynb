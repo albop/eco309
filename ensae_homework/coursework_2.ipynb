{
 "cells": [
  {
   "attachments": {},
   "cell_type": "markdown",
   "id": "3bdef81a-07e3-4d42-b3b9-6f916c48530f",
   "metadata": {},
   "source": [
    "---\n",
    "title: Coursework 2025 - Consumption Saving\n",
    "format:\n",
    "    html: default\n",
    "    ipynb: default\n",
    "---\n",
    "\n",
    "__Name__:\n",
    "\n",
    "__Surname__: \n",
    "\n",
    "After completing the following questions, send the edited notebook to `pablo.winant@ensae.fr`.\n",
    "You can work in (small) teams but are not allowed to copy/paste any code.\n",
    "Don't forget to comment your code and take any initiative you find relevant.\n"
   ]
  },
  {
   "cell_type": "markdown",
   "id": "0b339888",
   "metadata": {
    "vscode": {
     "languageId": "plaintext"
    }
   },
   "source": [
    "## General Problem\n",
    "\n",
    "We seek to solve numerically the following consumption-saving problem using the time-iteration algorithm.\n",
    "\n",
    "\n",
    "Income is an iid normally distributed process with standard deviation $\\sigma$. Interest rate is $r\\in [1,\\frac{1}{\\beta}[$ where $\\beta\\in]0,1[$ is the discount factor.\n",
    "\n",
    "\n",
    "Available income is $w_t$ and follows the law of motion:\n",
    "\n",
    "$$w_{t+1} = e^ {\\epsilon_{t+1}} +  (w_{t} - c_{t}) r$$\n",
    "\n",
    "\n",
    "where $c_t \\in ]0,w_t]$ is consumption chosen at date $t$ (which includes an implicit no borrowing constraint).\n"
   ]
  },
  {
   "cell_type": "markdown",
   "id": "31a3c9a3",
   "metadata": {
    "vscode": {
     "languageId": "plaintext"
    }
   },
   "source": [
    "## Calibration"
   ]
  },
  {
   "cell_type": "markdown",
   "id": "7be36737",
   "metadata": {
    "vscode": {
     "languageId": "plaintext"
    }
   },
   "source": [
    "We will use the following calibration:\n",
    "\n",
    "$\\sigma = 0.01$\n",
    "\n",
    "$\\beta = 0.96$\n",
    "\n",
    "$r = 1.03$"
   ]
  },
  {
   "cell_type": "markdown",
   "id": "5d3c0825",
   "metadata": {
    "vscode": {
     "languageId": "plaintext"
    }
   },
   "source": [
    "__Choose a structure `model` to represent the model parameters.__\n"
   ]
  },
  {
   "cell_type": "code",
   "execution_count": null,
   "id": "d583ccea",
   "metadata": {},
   "outputs": [],
   "source": [
    "\n",
    "# model = ..."
   ]
  },
  {
   "cell_type": "markdown",
   "id": "672af903",
   "metadata": {
    "vscode": {
     "languageId": "plaintext"
    }
   },
   "source": [
    "## Representing the decision function\n",
    "\n",
    "The solution of the model is a decision rule $c(w)$.\n",
    "\n",
    "In what follows, we will approximate it by a function defined over $[0,w_{max}[$, pinned down by the values it takes on $N$ linearly spaced grid points.\n",
    "\n",
    "\n",
    "In our solutions algorithm, we will use the initial guess $\\varphi_0(w) = min(w, p_0+p_1(w-p_0))$.\n",
    "\n"
   ]
  },
  {
   "cell_type": "markdown",
   "id": "71c233d2",
   "metadata": {},
   "source": [
    "\n",
    "__Create a structure `approx` to represent the approximation space. This structure should contain the parameters, as well as a `points::Vector{Float64}`  array coontaining the (regularly spaced) list of grid points.__\n",
    "\n",
    "To start with you can take $w_{max}=5$, $N=20$, $p_0=0.95, p_1=0.03$ but don't hesitate to change these values later if needed."
   ]
  },
  {
   "cell_type": "code",
   "execution_count": 3,
   "id": "9f968914",
   "metadata": {},
   "outputs": [],
   "source": [
    "# approx = ...\n"
   ]
  },
  {
   "cell_type": "markdown",
   "id": "e67314e3",
   "metadata": {},
   "source": [
    "__Define a method `φ_0(w::Float64)::Float64` for the initial guess. Plot it against $w$ in the approximation space.__"
   ]
  },
  {
   "cell_type": "code",
   "execution_count": 4,
   "id": "be731a28",
   "metadata": {},
   "outputs": [],
   "source": []
  },
  {
   "cell_type": "markdown",
   "id": "fce49e69",
   "metadata": {},
   "source": [
    "__Compute the values `c_0::{Float64}`of `φ_0()` on the grid `points`__"
   ]
  },
  {
   "cell_type": "code",
   "execution_count": null,
   "id": "74a07ca6",
   "metadata": {},
   "outputs": [],
   "source": []
  },
  {
   "cell_type": "markdown",
   "id": "34ad469f",
   "metadata": {},
   "source": [
    "__Use the `Interpolations.jl` library to define a function `φ(w::Float64)` defined for any `w` using piecewise *linear* interpolation in such a way that it takes values `c_0` on the grid `points`.__"
   ]
  },
  {
   "cell_type": "code",
   "execution_count": null,
   "id": "6637c359",
   "metadata": {},
   "outputs": [],
   "source": []
  },
  {
   "cell_type": "markdown",
   "id": "6e479f5b",
   "metadata": {},
   "source": [
    "__Create a single plot with__:\n",
    "\n",
    "- the function `φ_0()`\n",
    "- the interpolated function $φ$\n",
    "- its values `c_0` on the grid points"
   ]
  },
  {
   "cell_type": "code",
   "execution_count": null,
   "id": "fe19f25a",
   "metadata": {},
   "outputs": [],
   "source": []
  },
  {
   "cell_type": "markdown",
   "id": "a4ca0ee2",
   "metadata": {},
   "source": [
    "__Bonus: add to the graph the function obtained using cubic spline interpolation. What *could* be the problem?__"
   ]
  },
  {
   "cell_type": "code",
   "execution_count": null,
   "id": "d9e9cb54",
   "metadata": {},
   "outputs": [],
   "source": []
  },
  {
   "cell_type": "markdown",
   "id": "e69920b7",
   "metadata": {},
   "source": [
    "## Discretizing $\\epsilon_{t+1}$"
   ]
  },
  {
   "cell_type": "markdown",
   "id": "b9de1621",
   "metadata": {},
   "source": [
    "__Represent the shock $\\epsilon$ by two vectors $(e_1, ... e_q)$ and $(l_1, ..., l_q)$ with $q=10$ \n",
    "such that for a suitable function $g$ we can approximate $E_{\\epsilon} (g(\\epsilon))$ by $\\sum_{i=1}^q l_i e_i$ .__\n",
    "\n",
    "(choose the method you want)"
   ]
  },
  {
   "cell_type": "code",
   "execution_count": null,
   "id": "9e5cbd11",
   "metadata": {},
   "outputs": [],
   "source": [
    "# e = ...\n",
    "# w = ..."
   ]
  },
  {
   "cell_type": "markdown",
   "id": "de0a3c49",
   "metadata": {},
   "source": [
    "__Test that it works by computing $E_{\\epsilon} \\left[ \\epsilon^2 \\right]$.__"
   ]
  },
  {
   "cell_type": "code",
   "execution_count": null,
   "id": "d799b2f4",
   "metadata": {},
   "outputs": [],
   "source": []
  },
  {
   "cell_type": "markdown",
   "id": "9209e299",
   "metadata": {},
   "source": [
    "__Redefine `approx` so as to include the discretized shock__"
   ]
  },
  {
   "cell_type": "code",
   "execution_count": null,
   "id": "f7539bf3",
   "metadata": {},
   "outputs": [],
   "source": []
  },
  {
   "cell_type": "markdown",
   "id": "704e2a25",
   "metadata": {},
   "source": [
    "## Euler equation\n",
    "\n",
    "__Write down the Euler equation, paying attention to the slackness condition.__\n",
    "\n",
    "It should be of the form $$0 \\leq \\underbrace{E_t \\left[ f(w_t, c_t, w_{t+1}, c_{t+1}, \\epsilon_{t+1}) \\right]}_{\\Phi_t} \\perp c_t \\leq w_t$$\n",
    "\n",
    "where $f$ is a function to be explicited."
   ]
  },
  {
   "cell_type": "code",
   "execution_count": null,
   "id": "a2c6e27f",
   "metadata": {},
   "outputs": [],
   "source": []
  },
  {
   "cell_type": "markdown",
   "id": "964265a8",
   "metadata": {},
   "source": [
    "__Define the function `Phi(w::Float64,c::Float64,φ::Fun, model, approx)` which approximates the residuals of the euler equation given the available income today, the consumption choice today, the consumption *function* tomorrow and the model/approx structures.__"
   ]
  },
  {
   "cell_type": "code",
   "execution_count": null,
   "id": "ea97747e",
   "metadata": {},
   "outputs": [],
   "source": []
  },
  {
   "cell_type": "markdown",
   "id": "25f95867",
   "metadata": {},
   "source": [
    "__Overload `Phi` function with another method `Phi(w::Float64,c::Float64,φ::Fun, model, approx, slackness=true)` which uses the Fisher-Burmeister\n",
    "    transform to incorporate the credit constraint.__"
   ]
  },
  {
   "cell_type": "code",
   "execution_count": null,
   "id": "4005d572",
   "metadata": {},
   "outputs": [],
   "source": []
  },
  {
   "cell_type": "markdown",
   "id": "7a1b0c01",
   "metadata": {},
   "source": [
    "__Plot the optization residuals (i.e.  values of $\\Phi_t$) corresponding to the initial guess function with and without the complementarity constraints.__\n"
   ]
  },
  {
   "cell_type": "markdown",
   "id": "7b0596e2",
   "metadata": {},
   "source": []
  },
  {
   "cell_type": "markdown",
   "id": "38ae27da",
   "metadata": {},
   "source": [
    "## Time Iteration\n",
    "\n",
    "__(prep): Assuming the initial guess $φ_0()$ is the decision rule followed tomorrow, determine, for a given value `w` in the state-space, the  optimal consumption choice made today. This can be achieved by feeding the appropriate function into the right nonlinear root-finder.__"
   ]
  },
  {
   "cell_type": "code",
   "execution_count": null,
   "id": "e3785fcf",
   "metadata": {},
   "outputs": [],
   "source": []
  },
  {
   "cell_type": "markdown",
   "id": "504cfb1f",
   "metadata": {},
   "source": [
    "__(prep): Find the vector of all the optimal consumption choices on the grid today, given the decision rule tomorrow.__"
   ]
  },
  {
   "cell_type": "code",
   "execution_count": null,
   "id": "4431b24f",
   "metadata": {},
   "outputs": [],
   "source": []
  },
  {
   "cell_type": "markdown",
   "id": "64c08784",
   "metadata": {},
   "source": [
    "__Plot the optimization residuals (i.e.  values of $\\Phi_t$) for the initial guess function__"
   ]
  },
  {
   "cell_type": "markdown",
   "id": "8c42a0dc",
   "metadata": {},
   "source": []
  },
  {
   "cell_type": "markdown",
   "id": "f59eb929",
   "metadata": {},
   "source": [
    "__Write down the time-iteration algorithm.__\n",
    "\n",
    "You can use the course as reference and/or repeat the recurrence steps below:\n",
    "\n",
    "- given an initial guess for the consumption vector `c0`\n",
    "- create a function defined `φ` on `[0,wmax]` which interpolates `c0` on the grid\n",
    "- for each grid point `w` in the grid, solve the system `u->Phi(w,u,φ, model, approx, slackness=true)`\n",
    "    - store the result as a vector `c1`\n",
    "- check whether `c1` is close to `c0`\n",
    "    - yes: check the system is indeed solved and return\n",
    "    - no: start again with `c1` as `c0`\n"
   ]
  },
  {
   "cell_type": "code",
   "execution_count": null,
   "id": "86dbbbeb",
   "metadata": {},
   "outputs": [],
   "source": [
    "# here is a placeholder implementation to help you structure your program.\n",
    "#  feel free to modify or discard\n",
    "\n",
    "\n",
    "\"\"\"\n",
    "φ: Float64->Float64 Initial guess for the consumption function\n",
    "model: parameters representing the model\n",
    "approx: parameters defining the approximation and solution method\n",
    "K: max number of iterations\n",
    "... other parameters for you to choose\n",
    "\"\"\"\n",
    "function time_iteration(φ0, model, approx; K=200, ... )\n",
    "\n",
    "    # ...\n",
    "\n",
    "    # convert initial function φ0 into a consumption vector by evaluating φ on the grid\n",
    "    # c0 = ... :: Vector{Float64}\n",
    "\n",
    "    for k=1:K\n",
    "\n",
    "        # convert consumption vector c0 into a function φ\n",
    "        # φ = ...\n",
    "\n",
    "        # solve for the optimal consumption for all grid points\n",
    "        # ...\n",
    "        # c1  :: Vector{Float64}\n",
    "\n",
    "        # check distance between c0 and c1\n",
    "\n",
    "        # η = ...\n",
    "\n",
    "        # if distance is small return function `varphi`\n",
    "\n",
    "    end\n",
    "\n",
    "\n",
    "\n",
    "\n",
    "end"
   ]
  },
  {
   "cell_type": "markdown",
   "id": "e81ac862",
   "metadata": {},
   "source": [
    "__Check that the value returned by `time_iteration` is actually a solution to the system. How fast is the convergence? Graphical representation.__"
   ]
  },
  {
   "cell_type": "code",
   "execution_count": null,
   "id": "57492cb9",
   "metadata": {},
   "outputs": [],
   "source": []
  },
  {
   "cell_type": "markdown",
   "id": "463f23be",
   "metadata": {},
   "source": [
    "## Bonuses"
   ]
  },
  {
   "cell_type": "markdown",
   "id": "a115b296",
   "metadata": {},
   "source": [
    "__(easy): perform some sensitivity analysis on the model to explain the effect of the main parameters__"
   ]
  },
  {
   "cell_type": "code",
   "execution_count": null,
   "id": "c372f986",
   "metadata": {},
   "outputs": [],
   "source": []
  },
  {
   "cell_type": "markdown",
   "id": "1891b26e",
   "metadata": {},
   "source": [
    "__(medium): Give the solution to the above problem, simulate the law of motion for the available income. \n",
    "Find a way to plot the distriution of that income over a long period of time.__"
   ]
  },
  {
   "cell_type": "code",
   "execution_count": null,
   "id": "33f3b791",
   "metadata": {},
   "outputs": [],
   "source": []
  },
  {
   "cell_type": "markdown",
   "id": "310334de",
   "metadata": {},
   "source": [
    "__(hard): Propose and implement some ideas to speed up the solution process.__\n",
    "\n",
    "One promising avenue consists in solving for all consumption values at all grid points as one single system of equation after recognizing that the jacobian of this particular system has a specific structure."
   ]
  },
  {
   "cell_type": "code",
   "execution_count": null,
   "id": "a98b8d68",
   "metadata": {},
   "outputs": [],
   "source": []
  }
 ],
 "metadata": {
  "kernelspec": {
   "display_name": "Julia 1.11.3",
   "language": "julia",
   "name": "julia-1.11"
  },
  "language_info": {
   "file_extension": ".jl",
   "mimetype": "application/julia",
   "name": "julia",
   "version": "1.11.3"
  }
 },
 "nbformat": 4,
 "nbformat_minor": 5
}
