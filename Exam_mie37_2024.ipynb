{
 "cells": [
  {
   "attachments": {},
   "cell_type": "markdown",
   "id": "3bdef81a-07e3-4d42-b3b9-6f916c48530f",
   "metadata": {},
   "source": [
    "---\n",
    "title: MIE 37 - Final Exam 2024\n",
    "format:\n",
    "    html: default\n",
    "    ipynb: default\n",
    "---\n",
    "\n",
    "__Name__:\n",
    "\n",
    "__Surname__: \n",
    "\n",
    "After completing the following questions, send the edited notebook to `pablo.winant@ensae.fr`.\n",
    "\n",
    "You are allowed to use any online available resource, even to install Julia packages, but not to copy/paste any code.\n",
    "\n",
    "Also, don't forget to comment your code and take any initiative you find relevant.\n"
   ]
  },
  {
   "cell_type": "markdown",
   "id": "647cc191",
   "metadata": {},
   "source": [
    "## Part I - Linear Regression and Stochastic Gradient Descent\n",
    "\n",
    "We consider the following data generation process:\n",
    "\n",
    "$$y=0.4+2.5 x + \\epsilon$$\n",
    "\n",
    "where $x_i$ is uniformly distributed between 0 and 1 and $\\epsilon$ is drawn from a normal distribution with standard deviation $\\sigma=0.5$.\n",
    "\n"
   ]
  },
  {
   "cell_type": "markdown",
   "id": "af39a082",
   "metadata": {},
   "source": [
    "1. __Write a function `draw(a::Number, b::Number)::Tuple{Float64, Float64}` which generates one random draw for a pair $(x,y)$.__\n"
   ]
  },
  {
   "cell_type": "code",
   "execution_count": null,
   "id": "bd614686",
   "metadata": {},
   "outputs": [],
   "source": [
    "# you code here"
   ]
  },
  {
   "cell_type": "markdown",
   "id": "e8f77035",
   "metadata": {},
   "source": [
    "2. __Generate a sample $d=(x_i, y_i)_{i=[1,N]}$ of $N=100000$ different observations. Justify your choice for how to represent this data.__"
   ]
  },
  {
   "cell_type": "code",
   "execution_count": 6,
   "id": "418409d0",
   "metadata": {},
   "outputs": [],
   "source": [
    "# you code here"
   ]
  },
  {
   "cell_type": "markdown",
   "id": "d8a9d2ad",
   "metadata": {},
   "source": [
    "3. __Write the loss function $L(d,a,b)=\\frac{1}{N}\\sum_{i=1}^N ( a x_i + b-y_i)^2$. Find the values of $a$ and $b$ minimizing this function by implementing the gradient descent algorithm (do not use any library). What is the best learning rate?__"
   ]
  },
  {
   "cell_type": "code",
   "execution_count": 7,
   "metadata": {},
   "outputs": [],
   "source": [
    "# you code here"
   ]
  },
  {
   "cell_type": "markdown",
   "id": "0d1dd630-e5f5-453a-bd50-cf9d83b06dd2",
   "metadata": {},
   "source": [
    "\n",
    "4. __Write another function `ξ(a::Number, b::Number)::Tuple{Float64, Float64, Float64}` which returns a random realization of $( a x + b - y)^2$ as well as its derivatives w.r.t. `a` and `b` (make sure the derivatives are computed for the same realization of $\\epsilon$). We call `ξ` the empirical loss.__\n",
    "\n",
    "(hint: here you can either compute the derivatives by hand, or use an automatic differentiation library)"
   ]
  },
  {
   "cell_type": "code",
   "execution_count": null,
   "id": "2fced963",
   "metadata": {},
   "outputs": [],
   "source": [
    "# you code here"
   ]
  },
  {
   "cell_type": "markdown",
   "id": "d7dd0b07",
   "metadata": {},
   "source": [
    "__5. Stochastic gradient algorithm.__\n",
    "\n",
    "The stochastic gradient algorithm minimizes $$E\\xi(a,b)$$ with the following steps:\n",
    "\n",
    "- start with an initial guess $a_0,b_0$\n",
    "- given a guess $a_k, b_k$\n",
    "    - compute $\\xi, \\xi^{prime}_a, \\xi^{prime}_b$ using the function from the last function\n",
    "    - make a new guess $(a_{k+1}, b_{k+1}) = (1-\\lambda) (a_{k}, b_{k}) - \\lambda (\\xi^{\\prime}_a, \\xi^{\\prime}_b)$\n",
    "\n",
    "__Implement  the SGD algorithm. How many iterations does one needs to get a good approximation of $a,b$? What value of $\n",
    "\\lambda$ works better? Compare with question 3.__"
   ]
  },
  {
   "cell_type": "code",
   "execution_count": 44,
   "id": "b28908e0",
   "metadata": {},
   "outputs": [],
   "source": [
    "# you code here"
   ]
  },
  {
   "cell_type": "markdown",
   "id": "fa15901b",
   "metadata": {},
   "source": [
    "__6. (bonus) Illustrate the convergence by plotting the empirical loss for each step $k$ in the above alogorithm, as well as the validation loss in the same step. (Given $a,b$, the validation loss is the empirical mean of $\\xi(a,b)$ computed using $N=1000$ observations.)__"
   ]
  },
  {
   "cell_type": "code",
   "execution_count": null,
   "id": "e13268b1",
   "metadata": {},
   "outputs": [],
   "source": [
    "# you code here"
   ]
  },
  {
   "cell_type": "markdown",
   "id": "cd897499",
   "metadata": {},
   "source": [
    "## Part II - Endogenous Exit"
   ]
  },
  {
   "cell_type": "markdown",
   "id": "87a4fc33",
   "metadata": {},
   "source": [
    "### Discretization of an AR1"
   ]
  },
  {
   "cell_type": "markdown",
   "id": "1d28c0ed",
   "metadata": {},
   "source": [
    "The following code, taken from Quantecon.jl approximates an AR1 process $$y_t = \\mu + \\rho (y_{t-1}-\\mu) + \\epsilon_t$$ (where $\\nu$ is the standard deviation of normal process $\\epsilon$), using a finite markov chain with $N$ different values.\n",
    "\n",
    "The output is a transition matrix and a vector containing discretized values $y_1, y_2, ... y_p$"
   ]
  },
  {
   "cell_type": "code",
   "execution_count": 43,
   "id": "43cedb56",
   "metadata": {},
   "outputs": [],
   "source": [
    "# uncomment the following line if \"SpecialFunctions\" is not on your system\n",
    "# import Pkg; Pkg.add(\"SpecialFunctions\")"
   ]
  },
  {
   "cell_type": "code",
   "execution_count": 40,
   "id": "516366bf",
   "metadata": {},
   "outputs": [
    {
     "data": {
      "text/plain": [
       "tauchen (generic function with 3 methods)"
      ]
     },
     "metadata": {},
     "output_type": "display_data"
    }
   ],
   "source": [
    "using SpecialFunctions: erfc\n",
    "\n",
    "std_norm_cdf(x::T) where {T <: Real} = 0.5 * erfc(-x/sqrt(2))\n",
    "std_norm_cdf(x::Array{T}) where {T <: Real} = 0.5 .* erfc(-x./sqrt(2))\n",
    "\n",
    "function tauchen(N::Integer, ρ::T1, σ::T2, μ=zero(promote_type(T1, T2)), n_std::T3=3) where {T1 <: Real, T2 <: Real, T3 <: Real}\n",
    "    # Get discretized space\n",
    "    a_bar = n_std * sqrt(σ^2 / (1 - ρ^2))\n",
    "    y = range(-a_bar, stop=a_bar, length=N)\n",
    "    d = y[2] - y[1]\n",
    "\n",
    "    # Get transition probabilities\n",
    "    Π = zeros(promote_type(T1, T2), N, N)\n",
    "    for row = 1:N\n",
    "        # Do end points first\n",
    "        Π[row, 1] = std_norm_cdf((y[1] - ρ*y[row] + d/2) / σ)\n",
    "        Π[row, N] = 1 - std_norm_cdf((y[N] - ρ*y[row] - d/2) / σ)\n",
    "\n",
    "        # fill in the middle columns\n",
    "        for col = 2:N-1\n",
    "            Π[row, col] = (std_norm_cdf((y[col] - ρ*y[row] + d/2) / σ) -\n",
    "                           std_norm_cdf((y[col] - ρ*y[row] - d/2) / σ))\n",
    "        end\n",
    "    end\n",
    "\n",
    "    yy = y .+ μ / (1 - ρ) # center process around its mean (wbar / (1 - rho)) in new variable\n",
    "\n",
    "    (;transitions=Π, values=yy)\n",
    "\n",
    "end"
   ]
  },
  {
   "cell_type": "markdown",
   "id": "9751ecdd",
   "metadata": {},
   "source": [
    "__1. Take $\\rho=0.95, \\mu=0.1, \\nu=0.1$. Approximate the AR1 with 200 discrete states, using the tauchen function above. Check that all rows sum to 1. Compute and plot the steady-state distribution.__"
   ]
  },
  {
   "cell_type": "code",
   "execution_count": null,
   "id": "7b9d009c",
   "metadata": {},
   "outputs": [],
   "source": [
    "# you code here"
   ]
  },
  {
   "cell_type": "markdown",
   "id": "7000438f",
   "metadata": {},
   "source": [
    "Consider a firm whose productivity $y_t$ is exogenous and evolves according to the markov chain above.\n",
    "\n",
    "Profits are given by $\\pi(y_t) = y_t$.\n",
    "\n",
    "At the start of each period, the firm decides whether to remain in operation and receive\n",
    "current profit $\\pi_t$ or to exit and receive scrap value $s>0$ for the sale of physical assets.\n",
    "\n",
    "Time is discounted using interest rate, that is $\\beta=\\frac{1}{1+r} \\in [0,1[$.\n",
    "\n",
    "The following code creates a parameterization of the firm's problem:\n",
    "\n"
   ]
  },
  {
   "cell_type": "code",
   "execution_count": 39,
   "id": "30cd7d91",
   "metadata": {},
   "outputs": [
    {
     "data": {
      "text/plain": [
       "create_exit_model"
      ]
     },
     "metadata": {},
     "output_type": "display_data"
    }
   ],
   "source": [
    "\"Creates an instance of the firm exit model.\"\n",
    "function create_exit_model(;\n",
    "    n=200, # productivity grid size\n",
    "    ρ=0.95, μ=0.1, ν=0.1, # persistence, mean and volatility\n",
    "    β=0.98, s=100.0 # discount factor and scrap value\n",
    "    )\n",
    "    mc = tauchen(n, ρ, ν, μ)\n",
    "    z_vals, Q = mc.state_values, mc.p\n",
    "    return (; n, z_vals, Q, β, s)\n",
    "end"
   ]
  },
  {
   "cell_type": "markdown",
   "id": "f9c9dc10",
   "metadata": {},
   "source": [
    "__2. What are the states of the problem? The controls? The rewards? What equation defines the value of the firm? How would you represent numerically the value function and the decision rule?__"
   ]
  },
  {
   "cell_type": "code",
   "execution_count": null,
   "id": "b48b1e41",
   "metadata": {},
   "outputs": [],
   "source": [
    "# you code here"
   ]
  },
  {
   "cell_type": "markdown",
   "id": "71d68f48",
   "metadata": {},
   "source": [
    "__3. Solve for the optimal exit decision using value function iteration. Plot the results.__"
   ]
  },
  {
   "cell_type": "code",
   "execution_count": null,
   "id": "82879ed6",
   "metadata": {},
   "outputs": [],
   "source": [
    "# you code here"
   ]
  },
  {
   "cell_type": "markdown",
   "id": "69177a12",
   "metadata": {},
   "source": [
    "__4. (bonus) Taking into account the specific nature of this problem, propose a more efficient algorithm.__"
   ]
  },
  {
   "cell_type": "code",
   "execution_count": null,
   "id": "c71a31dd",
   "metadata": {},
   "outputs": [],
   "source": [
    "# you code here"
   ]
  }
 ],
 "metadata": {
  "kernelspec": {
   "display_name": "Julia 1.10.3",
   "language": "julia",
   "name": "julia-1.10"
  },
  "language_info": {
   "file_extension": ".jl",
   "mimetype": "application/julia",
   "name": "julia",
   "version": "1.10.3"
  }
 },
 "nbformat": 4,
 "nbformat_minor": 5
}
