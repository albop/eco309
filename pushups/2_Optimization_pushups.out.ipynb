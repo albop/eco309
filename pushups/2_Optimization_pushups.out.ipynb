{
  "cells": [
    {
      "cell_type": "markdown",
      "metadata": {},
      "source": [
        "# Optimization Pushups\n",
        "\n",
        "The spirit of this simple tutorial consists in learning how to write\n",
        "simple solution algorithms. For each algorithm, test that it works,\n",
        "using simple test functions whose solution is known.\n",
        "\n",
        "**Write a function `fixed_point(f::Function, x0::Float64)` which\n",
        "computes the fixed point of `f` starting from initial point `x0`.**\n",
        "\n",
        "**Write a function `bisection(f::Function, a::Float64, b::Float64)`\n",
        "which computes a zero of function `f` within `(a,b)` using a bisection\n",
        "method.**\n",
        "\n",
        "**Write a function `golden(f::Function, a::Float64, b::Float64)` which\n",
        "computes a zero of function `f` within `(a,b)` using a golden ratio\n",
        "method.**\n",
        "\n",
        "**Write a function `zero_newton(f::Function, x0::Float64)` which\n",
        "computes the zero of function `f` starting from initial point `x0`.**\n",
        "\n",
        "**Add an option\n",
        "`zero_newton(f::Function, x0::Float64, backtracking=true)` which\n",
        "computes the zero of function `f` starting from initial point `x0` using\n",
        "backtracking in each iteration.**\n",
        "\n",
        "**Write a function `min_gd(f::Function, x0::Float64)` which computes the\n",
        "minimum of function `f` using gradient descent. Assume `f` returns a\n",
        "scalar and a gradient.**\n",
        "\n",
        "**Write a function `min_nr(f::Function, x0::Float64)` which computes the\n",
        "minimum of function `f` using Newton-Raphson method. Assume `f` returns\n",
        "a scalar, a gradient, and a hessian.**\n",
        "\n",
        "**Write a method `zero_newton(f::Function, x0::Vector{Float64})` which\n",
        "computes the zero of a vector valued function `f` starting from initial\n",
        "point `x0`.**"
      ],
      "id": "40ea7634-ccc2-4b29-a94a-d3b3053e7b52"
    },
    {
      "cell_type": "code",
      "execution_count": 7,
      "metadata": {},
      "outputs": [
        {
          "output_type": "display_data",
          "metadata": {},
          "data": {
            "text/plain": [
              "2-element Vector{Float64}:\n",
              " 0.1\n",
              " 0.3"
            ]
          }
        }
      ],
      "source": [
        "f(z) = let \n",
        "    x,y = z\n",
        "    [x^3 + y, x-y] \n",
        "end\n",
        "x0 = [0.1, 0.3]"
      ],
      "id": "cell-17"
    },
    {
      "cell_type": "code",
      "execution_count": 10,
      "metadata": {},
      "outputs": [
        {
          "output_type": "display_data",
          "metadata": {},
          "data": {
            "text/plain": [
              "2-element Vector{Float64}:\n",
              "  0.301\n",
              " -0.19999999999999998"
            ]
          }
        }
      ],
      "source": [
        "f(x0)"
      ],
      "id": "cell-18"
    },
    {
      "cell_type": "code",
      "execution_count": 12,
      "metadata": {},
      "outputs": [
        {
          "output_type": "display_data",
          "metadata": {},
          "data": {
            "text/plain": [
              "2×2 Matrix{Float64}:\n",
              " 0.03   1.0\n",
              " 1.0   -1.0"
            ]
          }
        }
      ],
      "source": [
        "using ForwardDiff\n",
        "ForwardDiff.jacobian(f, x0)\n"
      ],
      "id": "cell-19"
    },
    {
      "cell_type": "code",
      "execution_count": 30,
      "metadata": {},
      "outputs": [
        {
          "output_type": "display_data",
          "metadata": {},
          "data": {
            "text/plain": [
              "zero_newton (generic function with 1 method)"
            ]
          }
        }
      ],
      "source": [
        "function zero_newton(f, x0; maxit=10, verbose=false, τ_η=1e-10, τ_ϵ=1e-10)\n",
        "\n",
        "    # local x1\n",
        "    x1 = x0\n",
        "    \n",
        "    for it ∈ 1:maxit\n",
        "\n",
        "        f0 = f(x0)\n",
        "        ϵ = maximum(abs.(f0))\n",
        "        if ϵ < τ_ϵ\n",
        "            verbose ? println(\"Iteration $(it): ϵ=$(ϵ) \") : nothing\n",
        "            return x0\n",
        "        end\n",
        "\n",
        "\n",
        "        J0 = ForwardDiff.jacobian(f, x0)\n",
        "\n",
        "        x1 = x0 - J0 \\ f0\n",
        "\n",
        "        η = maximum(abs.(x1-x0))\n",
        "        if η<τ_η\n",
        "            return x1\n",
        "        end\n",
        "\n",
        "        # cond ? do : otherwise\n",
        "\n",
        "        verbose ? println(\"Iteration $(it): ϵ=$(ϵ) : η=$(η)\") : nothing\n",
        "\n",
        "\n",
        "        x0 = x1\n",
        "\n",
        "    end\n",
        "\n",
        "    return x1\n",
        "\n",
        "end"
      ],
      "id": "cell-20"
    },
    {
      "cell_type": "code",
      "execution_count": 31,
      "metadata": {},
      "outputs": [
        {
          "output_type": "stream",
          "name": "stdout",
          "text": [
            "Iteration 1: ϵ=0.301 : η=0.2980582524271845\n",
            "Iteration 2: ϵ=0.0019417548939487858 : η=0.00194173293071458\n",
            "Iteration 3: ϵ=1.4642100930805857e-8 : η=1.4642100930805848e-8\n",
            "Iteration 4: ϵ=6.617444900424222e-24 "
          ]
        },
        {
          "output_type": "display_data",
          "metadata": {},
          "data": {
            "text/plain": [
              "2-element Vector{Float64}:\n",
              " 6.617444900424222e-24\n",
              " 6.617444900424222e-24"
            ]
          }
        }
      ],
      "source": [
        "zero_newton(f, x0; verbose=true)"
      ],
      "id": "cell-21"
    },
    {
      "cell_type": "markdown",
      "metadata": {},
      "source": [
        "**Add an method\n",
        "`zero_newton(f::Function, x0::Vector{Float64}, backtracking=true)` which\n",
        "computes the zero of function `f` starting from initial point `x0` using\n",
        "backtracking in each iteration.**"
      ],
      "id": "2205be47-e637-4028-bafc-94f690d14e7f"
    },
    {
      "cell_type": "code",
      "execution_count": 39,
      "metadata": {},
      "outputs": [
        {
          "output_type": "display_data",
          "metadata": {},
          "data": {
            "text/plain": [
              "zero_newton (generic function with 1 method)"
            ]
          }
        }
      ],
      "source": [
        "function zero_newton(f, x0; maxit=10, verbose=false, τ_η=1e-10, τ_ϵ=1e-10, backtrack=true)\n",
        "\n",
        "    # local x1\n",
        "    x1 = x0\n",
        "    \n",
        "    for it ∈ 1:maxit\n",
        "\n",
        "        f0 = f(x0)\n",
        "        ϵ = maximum(abs.(f0))\n",
        "        if ϵ < τ_ϵ\n",
        "            verbose ? println(\"Iteration $(it): ϵ=$(ϵ) \") : nothing\n",
        "            return x0\n",
        "        end\n",
        "\n",
        "\n",
        "        J0 = ForwardDiff.jacobian(f, x0)\n",
        "        \n",
        "        # Newton steap\n",
        "        Δ = - J0 \\ f0\n",
        "        \n",
        "        if !backtrack\n",
        "        \n",
        "            x1 = x0 + Δ\n",
        "\n",
        "        else\n",
        "            for i = 0:10\n",
        "                x1 = x0 + 2.0^(-i)*Δ\n",
        "\n",
        "                # test function for new guess\n",
        "                f1 = f(x1)\n",
        "                ϵ1 = maximum(abs.(f1))\n",
        "                \n",
        "                if ϵ1<ϵ\n",
        "                    # new guess is good\n",
        "                    break\n",
        "                end\n",
        "\n",
        "            end\n",
        "        end\n",
        "\n",
        "        η = maximum(abs.(x1-x0))\n",
        "        if η<τ_η\n",
        "            return x1\n",
        "        end\n",
        "\n",
        "        # cond ? do : otherwise\n",
        "\n",
        "        verbose ? println(\"Iteration $(it): ϵ=$(ϵ) : η=$(η)\") : nothing\n",
        "\n",
        "\n",
        "        x0 = x1\n",
        "\n",
        "    end\n",
        "\n",
        "    return x1\n",
        "\n",
        "end"
      ],
      "id": "cell-23"
    },
    {
      "cell_type": "code",
      "execution_count": 42,
      "metadata": {},
      "outputs": [
        {
          "output_type": "stream",
          "name": "stdout",
          "text": [
            "Iteration 1: ϵ=0.301 : η=0.2980582524271845\n",
            "Iteration 2: ϵ=0.0019417548939487858 : η=0.00194173293071458\n",
            "Iteration 3: ϵ=1.4642100930805857e-8 : η=1.4642100930805848e-8\n",
            "Iteration 4: ϵ=6.617444900424222e-24 "
          ]
        },
        {
          "output_type": "display_data",
          "metadata": {},
          "data": {
            "text/plain": [
              "2-element Vector{Float64}:\n",
              " 6.617444900424222e-24\n",
              " 6.617444900424222e-24"
            ]
          }
        }
      ],
      "source": [
        "zero_newton(f, x0, verbose=true, backtrack=true)"
      ],
      "id": "cell-24"
    },
    {
      "cell_type": "markdown",
      "metadata": {},
      "source": [
        "**Add a method\n",
        "`zero_newton(f::Function, x0::Vector{Float64}, backtracking=true, lb=Vector{Float64})`\n",
        "which computes the zero of function `f` starting from initial point `x0`\n",
        "taking complementarity constraint into account `x>=lb` using the\n",
        "Fischer-Burmeister method.**"
      ],
      "id": "1ccdeb71-07b9-4dd5-8a6b-b0a5bdfabbf8"
    },
    {
      "cell_type": "code",
      "execution_count": 62,
      "metadata": {},
      "outputs": [
        {
          "output_type": "display_data",
          "metadata": {},
          "data": {
            "text/plain": [
              "2-element Vector{Float64}:\n",
              "      0.0\n",
              " -10000.0"
            ]
          }
        }
      ],
      "source": [
        "g(z) = let\n",
        "    x,y=z\n",
        "    [ y-x, x^2+y^2-1 ]\n",
        "end\n",
        "\n",
        "\n",
        "lb = [0.0, -10000]"
      ],
      "id": "cell-26"
    },
    {
      "cell_type": "code",
      "execution_count": 63,
      "metadata": {},
      "outputs": [
        {
          "output_type": "display_data",
          "metadata": {},
          "data": {
            "text/plain": [
              "φ_FB (generic function with 1 method)"
            ]
          }
        }
      ],
      "source": [
        "φ_FB(a,b) = a+b-sqrt(a^2+b^2)  # min"
      ],
      "id": "cell-27"
    },
    {
      "cell_type": "code",
      "execution_count": 71,
      "metadata": {},
      "outputs": [
        {
          "output_type": "display_data",
          "metadata": {},
          "data": {
            "text/plain": [
              "ncp (generic function with 2 methods)"
            ]
          }
        }
      ],
      "source": [
        "function ncp(f, x0, lb; args...)\n",
        "    \n",
        "    # the dot calls φ_FB component-wise on its vector arguments\n",
        "    fun(u) = φ_FB.(f(u), u - lb)\n",
        "\n",
        "    zero_newton(fun, x0; args...)\n",
        "\n",
        "end"
      ],
      "id": "cell-28"
    },
    {
      "cell_type": "code",
      "execution_count": 72,
      "metadata": {},
      "outputs": [
        {
          "output_type": "display_data",
          "metadata": {},
          "data": {
            "text/plain": [
              "2-element Vector{Float64}:\n",
              " 0.1\n",
              " 0.3"
            ]
          }
        }
      ],
      "source": [
        "x0"
      ],
      "id": "cell-29"
    },
    {
      "cell_type": "code",
      "execution_count": 73,
      "metadata": {},
      "outputs": [
        {
          "output_type": "stream",
          "name": "stdout",
          "text": [
            "Iteration 1: ϵ=0.900040498785529 : η=0.8449227125187968\n",
            "Iteration 2: ϵ=0.34501875850946817 : η=0.17623432346721998\n",
            "Iteration 3: ϵ=0.04599075111946149 : η=0.022412443670669857\n",
            "Iteration 4: ϵ=0.0005761770207755035 : η=0.0002880043594630788\n",
            "Iteration 5: ϵ=8.413735486101359e-8 : η=4.2068675654149956e-8\n",
            "Iteration 6: ϵ=0.0 "
          ]
        },
        {
          "output_type": "display_data",
          "metadata": {},
          "data": {
            "text/plain": [
              "2-element Vector{Float64}:\n",
              " -5.460886251568741e-17\n",
              "  1.0000000000002816"
            ]
          }
        }
      ],
      "source": [
        "ncp(g, x0, lb; maxit=100, verbose=true)"
      ],
      "id": "cell-30"
    },
    {
      "cell_type": "code",
      "execution_count": 74,
      "metadata": {},
      "outputs": [
        {
          "output_type": "stream",
          "name": "stdout",
          "text": [
            "Iteration 1: ϵ=0.2800039197663864 : η=0.11666503345865797\n",
            "Iteration 2: ϵ=0.027217503327847226 : η=0.009494525381928298\n",
            "Iteration 3: ϵ=0.0001802549850253854 : η=6.37240192483679e-5\n",
            "Iteration 4: ϵ=8.119968697428703e-9 : η=2.8708424526513454e-9\n",
            "Iteration 5: ϵ=0.0 "
          ]
        },
        {
          "output_type": "display_data",
          "metadata": {},
          "data": {
            "text/plain": [
              "2-element Vector{Float64}:\n",
              " 0.7071067811866388\n",
              " 0.7071067811866388"
            ]
          }
        }
      ],
      "source": [
        "ncp(g, [0.6, 0.6], lb; maxit=100, verbose=true)"
      ],
      "id": "cell-31"
    }
  ],
  "nbformat": 4,
  "nbformat_minor": 5,
  "metadata": {
    "kernelspec": {
      "name": "julia-1.9",
      "display_name": "Julia 1.9.3",
      "language": "julia"
    },
    "language_info": {
      "name": "julia",
      "file_extension": ".jl",
      "mimetype": "application/julia",
      "version": "1.9.3"
    }
  }
}