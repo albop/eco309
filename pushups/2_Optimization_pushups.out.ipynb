{
  "cells": [
    {
      "cell_type": "markdown",
      "metadata": {},
      "source": [
        "# Optimization Pushups\n",
        "\n",
        "The spirit of this simple tutorial consists in learning how to write\n",
        "simple solution algorithms. For each algorithm, test that it works,\n",
        "using simple test functions whose solution is known.\n",
        "\n",
        "**Write a function `fixed_point(f::Function, x0::Float64)` which\n",
        "computes the fixed point of `f` starting from initial point `x0`.**\n",
        "\n",
        "**Write a function `bisection(f::Function, a::Float64, b::Float64)`\n",
        "which computes the zero of function `f` within `(a,b)` using a bisection\n",
        "method.**\n",
        "\n",
        "**Write a function `golden(f::Function, a::Float64, b::Float64)` which\n",
        "computes a zero of function `f` within `(a,b)` using a golden ratio\n",
        "method.**\n",
        "\n",
        "**Write a function `zero_newton(f::Function, x0::Float64)` which\n",
        "computes the zero of function `f` starting from initial point `x0`.**\n",
        "\n",
        "**Add an option\n",
        "`zero_newton(f::Function, x0::Float64, backtracking=true)` which\n",
        "computes the zero of function `f` starting from initial point `x0` using\n",
        "backtracking in each iteration.**\n",
        "\n",
        "**Write a function `min_gd(f::Function, x0::Float64)` which computes the\n",
        "minimum of function `f` using gradient descent. Assume `f` returns a\n",
        "scalar and a gradient.**\n",
        "\n",
        "**Write a function `min_nr(f::Function, x0::Float64)` which computes the\n",
        "minimum of function `f` using Newton-Raphson method. Assume `f` returns\n",
        "a scalar, a gradient, and a hessian.**\n",
        "\n",
        "**Write a method `zero_newton(f::Function, x0::Vector{Float64})` which\n",
        "computes the zero of a vector valued function `f` starting from initial\n",
        "point `x0`.**\n",
        "\n",
        "**Add an method\n",
        "`zero_newton(f::Function, x0::Vector{Float64}, backtracking=true)` which\n",
        "computes the zero of function `f` starting from initial point `x0` using\n",
        "backtracking in each iteration.**\n",
        "\n",
        "**Add a method\n",
        "`zero_newton(f::Function, x0::Vector{Float64}, backtracking=true, lb=Vector{Float64})`\n",
        "which computes the zero of function `f` starting from initial point `x0`\n",
        "taking complementarity constraint into account `x>=lb` using the\n",
        "Fischer-Burmeister method.**"
      ],
      "id": "1197ea63-7d19-406e-95e5-c2c69a1a8a87"
    }
  ],
  "nbformat": 4,
  "nbformat_minor": 5,
  "metadata": {
    "kernelspec": {
      "name": "julia-1.10",
      "display_name": "Julia 1.10.2",
      "language": "julia"
    },
    "language_info": {
      "name": "julia",
      "file_extension": ".jl",
      "mimetype": "application/julia",
      "version": "1.10.2"
    }
  }
}