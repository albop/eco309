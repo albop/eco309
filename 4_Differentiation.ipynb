{
 "cells": [
  {
   "cell_type": "markdown",
   "metadata": {},
   "source": [
    "## Explore\n",
    "\n",
    "Install and try out libraries\n",
    "    \n",
    "- FiniteDiff.jl\n",
    "- Symbolics.jl\n",
    "- ForwardDiff.jl\n",
    "- ReverseDiff.jl\n",
    "\n",
    "Compare their accuracy on some function you specify."
   ]
  },
  {
   "cell_type": "markdown",
   "metadata": {},
   "source": [
    "## Deterministic Neoclassical Model: bruteforce"
   ]
  },
  {
   "cell_type": "markdown",
   "metadata": {},
   "source": [
    "The setup is exactly the same as in the the Solow model form session 3, but now we look for a time-dependent saving rule, that is a different $s_t$ for each date. We will try to choose $s_t$ to maximize\n",
    "\n",
    "$$\\sum_{t = 0}^T \\beta^t U(c_t) + \\sum_{t = T+1}^{\\infty} \\beta^t U(c_T) $$\n",
    "\n",
    "\n",
    "I need to choose vector $\\mathbf{s} = (s_0, s_1, ... s_T)$ to maximize intertemporal utility. We can assume $\\forall t>T s_t= s_T$\n",
    "\n",
    "\n",
    "General approach: define a function `objective(s)` and maximize objective numerically. To do it well:\n",
    "- think about the terminal conditions what happens for $t>T$\n",
    "- try to implement gradient computation efficiently\n",
    "\n",
    "\n",
    "__Explain why the second term is important__"
   ]
  },
  {
   "cell_type": "code",
   "execution_count": null,
   "metadata": {},
   "outputs": [],
   "source": []
  },
  {
   "cell_type": "markdown",
   "metadata": {},
   "source": [
    "__Choose an horizon $T$ and write a function `objective(s, k0::Float64, T::Int, p::Parameters)` to compute the objective approximated with $T$ periods as a function of initial state `k0::Float64` and of the vector of saving rates `s::Vector` representing $(s_0, s_1, \\cdots s_{T})$. Note that argument type of `s` is left unspecified to make it compatible with automatic differentiation.__"
   ]
  },
  {
   "cell_type": "code",
   "execution_count": null,
   "metadata": {},
   "outputs": [],
   "source": []
  },
  {
   "cell_type": "markdown",
   "metadata": {},
   "source": [
    "__Use library `Optim.jl` to maximize the utility function. If possible, find a way to specify derivatives of the objective function.__"
   ]
  },
  {
   "cell_type": "code",
   "execution_count": null,
   "metadata": {},
   "outputs": [],
   "source": []
  }
 ],
 "metadata": {
  "kernelspec": {
   "display_name": "Julia 1.5.3",
   "language": "julia",
   "name": "julia-1.5"
  },
  "language_info": {
   "file_extension": ".jl",
   "mimetype": "application/julia",
   "name": "julia",
   "version": "1.5.3"
  }
 },
 "nbformat": 4,
 "nbformat_minor": 4
}
