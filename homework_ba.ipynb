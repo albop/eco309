{
 "cells": [
  {
   "cell_type": "markdown",
   "id": "2016bb39",
   "metadata": {},
   "source": [
    "---\n",
    "title: Homework\n",
    "subtitle:  \"Computational Economics (ECO309)\"\n",
    "author: Pablo Winant\n",
    "format:\n",
    "    html: default\n",
    "    ipynb: default\n",
    "---"
   ]
  },
  {
   "cell_type": "markdown",
   "id": "e4844ed0",
   "metadata": {},
   "source": [
    "## A simple CGE model\n",
    "\n",
    "The goal of this exercise consists in solving a simple CGE model using Julia.\n",
    "\n",
    "Model is taken from *Handbook of Computible General Equilibrium Modeling*. [^gams]\n",
    "\n",
    "[^gams]: GAMS is a modeling software, routinely used for CGEs. You can checkout the code for the current model [here](https://www.gams.com/latest/gamslib_ml/libhtml/gamslib_splcge.html)"
   ]
  },
  {
   "cell_type": "markdown",
   "id": "1d4802ce-e29f-4664-8f9c-74515116a173",
   "metadata": {},
   "source": [
    "## The data and the social accounting mmatrix"
   ]
  },
  {
   "cell_type": "markdown",
   "id": "ddc41f83",
   "metadata": {},
   "source": [
    "In a CGE, the data about the economy's exchanges is compiled in one single \"Social Accounting Matrix\".\n",
    "It is essentially a matrix representation of the national accounts that can be arbitrary refined based on data availability."
   ]
  },
  {
   "cell_type": "markdown",
   "id": "2953fe47-0f4c-43ee-986d-af447bec8130",
   "metadata": {},
   "source": [
    "In this course work we consider the following simplified version. All items are in million euros."
   ]
  },
  {
   "cell_type": "markdown",
   "id": "6ec66777",
   "metadata": {},
   "source": [
    "\n",
    "|    SAM   |     BRD  |  MLK  |   CAP  |  LAB  |  HOH |\n",
    "|:--------:|:--------:|:-----:|:------:|:-----:|:----:|\n",
    "|   BRD    |          |       |        |       |  15  |\n",
    "|  MLK     |          |       |        |       |  35  |\n",
    "|  CAP     |     5    |   20  |        |       |      |\n",
    "|  LAB     |    10    |   15  |        |       |      |\n",
    "|  HOH     |          |       |    25  |   25  |      |\n"
   ]
  },
  {
   "cell_type": "markdown",
   "id": "8afaaeba-5d17-4e59-93cf-8b559a087e76",
   "metadata": {},
   "source": [
    "In this table, there are:\n",
    "\n",
    "- Two Goods: BRD and MLK\n",
    "- Two Factors: CAP and LAB (capital and labour)\n",
    "- One Agent: HOH (Households)"
   ]
  },
  {
   "cell_type": "markdown",
   "id": "f3179975-7181-4e03-8ecd-1199e105a30c",
   "metadata": {},
   "source": [
    "To read the matrix, we consider that rows decomposes the inputs for each column (measured by their cost).\n",
    "\n",
    "For instance, the value of the production in the BRD-producing sector is decomposed between the payment to capital (5) and the payment to labor (10).\n",
    "\n",
    "We will assume there are fixed endowments in capital and labour and that they are owned by the household."
   ]
  },
  {
   "cell_type": "markdown",
   "id": "a63b7b08-85ba-4235-84ba-9800f7739d0e",
   "metadata": {},
   "source": [
    "We use the following notations:\n",
    "\n",
    "- $X_i$   household consumption of good i \n",
    "- $F_{h,j}$ the h-th factor input by firm j\n",
    "- $Z_{j}$   output of the j-th good\n",
    "- $px_{i}$  demand price of the i-th good\n",
    "- $pz_{j}$  supply price of the i-th good\n",
    "- $pf_{h}$  the h-th factor price}\n",
    "\n",
    "In these definitions the indices are conventionally: $i \\in \\text{BRD,MLK}$, $j\\in \\text{BRD,MLK}$, $h \\in \\text{CAP,LAB}$).\n",
    "\n",
    "We also denote by a zero exponent, the variables at the steady-state. For instance, $X_{BRD}^0$ is the household consumption of good $BRD$.\n",
    "\n",
    "We assume that the SAM corresponds to values observed at the steady-state."
   ]
  },
  {
   "cell_type": "markdown",
   "id": "1647e98f-2d51-4a63-bc46-42b6f061e7be",
   "metadata": {},
   "source": [
    "## Consumers\n",
    "\n",
    "Given prices $px_i$, households maximize utility of consumption $$U = \\prod_i X_i^{\\alpha_i}$$ where $\\alpha_i$ is the share parameter in the utility function (with $\\sum_i \\alpha_i=1$)\n"
   ]
  },
  {
   "cell_type": "markdown",
   "id": "d25d80ed",
   "metadata": {},
   "source": [
    "@. __Write down the budget constraint of households. How can we calibrate $\\alpha_i$ from the data?__"
   ]
  },
  {
   "cell_type": "markdown",
   "id": "4ff1e291",
   "metadata": {},
   "source": [
    "::: {callout-note}\n",
    "$$\\alpha_i  = \\frac{X^0_i}{\\sum_j X^0_{j}}$$\n",
    ":::"
   ]
  },
  {
   "cell_type": "markdown",
   "id": "ac6ce692-bae3-4d8e-bc56-93ac237813ec",
   "metadata": {},
   "source": [
    "@. __Show that the household demand function satisfies  $$X_i  = \\alpha_i \\sum_h \\frac{pf_h FF_h}{px_i}$$.__"
   ]
  },
  {
   "cell_type": "markdown",
   "id": "bf043373-6339-4b33-8b6d-e4b407ae449d",
   "metadata": {},
   "source": [
    "## Producers"
   ]
  },
  {
   "cell_type": "markdown",
   "id": "cc027894-6f41-4dbd-a393-2d45d9616558",
   "metadata": {},
   "source": [
    "We assume that producers of final goods, use the following production function:\n",
    "\n",
    "$$Z_j   = b_j \\prod_h F_{h,j}^{\\beta_{h,j}}$$\n",
    "\n",
    "where $\\beta_{h,j}$ is the share parameter in production function ($\\sum_h \\beta_{h,j}=1$) and $b_j$ a scale parameter.\n",
    "\n",
    "\n",
    "@. __Show that factor demand function can be written as:__\n",
    "$$ F_{h,j} = \\beta_{h,j} \\frac{pz_j Z_j }{pf_h} $$"
   ]
  },
  {
   "cell_type": "markdown",
   "id": "b4a0113f-f713-4f93-a421-04d05381f6ce",
   "metadata": {},
   "source": [
    "@. __How can we calibrate $\\beta_{h,j}$ from the data? How can we recover $b_j$?__"
   ]
  },
  {
   "cell_type": "markdown",
   "id": "fc86be44",
   "metadata": {},
   "source": []
  },
  {
   "cell_type": "markdown",
   "id": "adac98a4",
   "metadata": {},
   "source": [
    "::: {.callout-note}\n",
    "\n",
    "$$\\beta_{h,j} = \\frac{F^0_{h,j}}{\\sum_k F^0_{k,j}}$$\n",
    "$$b_j      = \\frac{Z^0_j}{ \\prod_h  (F^0_{h,j})^{\\beta_{h,j}} }$$\n",
    "\n",
    ":::"
   ]
  },
  {
   "cell_type": "markdown",
   "id": "8ad1520c",
   "metadata": {},
   "source": [
    "## Equilibrium\n",
    "\n",
    "In equilibrium we have the following conditions:\n",
    "\n",
    "- demand prices of the i-th good must match supply price of the same good:\n",
    "$$px_{i} = pz_{i}$$\n",
    "\n",
    "- good market must clear:\n",
    "$$ X_i   = Z_i $$\n",
    "\n",
    "- factor market must clear:\n",
    "$$ \\sum_j F_{h,j} = FF_h $$"
   ]
  },
  {
   "cell_type": "markdown",
   "id": "a465788c",
   "metadata": {},
   "source": [
    "@. Justify the steady-state identity: $Z^0_j   = \\sum_h F^0_{h,j}$\n"
   ]
  },
  {
   "cell_type": "markdown",
   "id": "f0725094",
   "metadata": {},
   "source": [
    "Calibration\n",
    "\n",
    "$i\\in I$:goods\n",
    "$h\\in H$: factor\n",
    "\n",
    "$X^0_i   = SAM(i,\"HOH\")$\n",
    "\n",
    "$F^0_{h,j} = SAM(h,j)$\n",
    "\n",
    "\n",
    "$FF_h   = SAM(\"HOH\",h)$\n"
   ]
  },
  {
   "cell_type": "markdown",
   "id": "323cf40b",
   "metadata": {},
   "source": [
    "Definitions\n",
    "\n",
    "$X_i$   household consumption of the i-th good\n",
    "\n",
    "$F_{h,j}$ the h-th factor input by the j-th firm\n",
    "\n",
    "$Z_{j}$   output of the j-th good\n",
    "\n",
    "$px_{i}$  demand price of the i-th good\n",
    "\n",
    "$pz_{j}$  supply price of the i-th good\n",
    "\n",
    "$pf_{h}$  the h-th factor price\n",
    "\n",
    "$UU$     utility [fictitious]"
   ]
  },
  {
   "cell_type": "markdown",
   "id": "faf28afe",
   "metadata": {},
   "source": [
    "good market clearing condition\n",
    "$$ X_i   = Z_i $$\n",
    "\n",
    "factor market clearing condition\n",
    "$$ \\sum_j F_{h,j} = FF_h $$\n",
    "\n",
    "price equation\n",
    "$$ px_i  = pz_i $$\n",
    "\n",
    "utility function [fictitious]\n",
    "$$ UU     = \\prod_i X_i^{\\alpha_i}"
   ]
  },
  {
   "cell_type": "code",
   "execution_count": null,
   "id": "703ee725",
   "metadata": {},
   "outputs": [],
   "source": []
  },
  {
   "cell_type": "markdown",
   "id": "46b1840f",
   "metadata": {},
   "source": [
    "##\n",
    "Consumer problem\n"
   ]
  }
 ],
 "metadata": {
  "kernelspec": {
   "display_name": "Julia 1.10.3",
   "language": "julia",
   "name": "julia-1.10"
  },
  "language_info": {
   "file_extension": ".jl",
   "mimetype": "application/julia",
   "name": "julia",
   "version": "1.10.3"
  }
 },
 "nbformat": 4,
 "nbformat_minor": 5
}
