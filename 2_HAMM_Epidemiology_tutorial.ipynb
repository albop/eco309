{
 "cells": [
  {
   "cell_type": "markdown",
   "metadata": {},
   "source": [
    "# Computational Economics  (ECO288)\n",
    "\n",
    "## Tutorial: Epidemiology Models\n",
    "\n",
    "\n",
    "H.W. Heathcote: epidemiologic models are *deterministic models for infectious diseases which are spread by direct person-to-person contact in a population*.\n",
    "\n",
    "This kind of models has been used since by a few decades by economist, for matters that have nothing to do with health.\n",
    "\n",
    "- diffusion of information, or opinions on social medias\n",
    "- asset prices and fads\n",
    "- expectation formation for macroeconomic outcomes (ex: *The Epidemiology of Macroeconomic Expectations* by Chris Carroll)\n",
    "\n",
    "Epidemiologic models have two features that depart from standard economic models:\n",
    "\n",
    "- Agent's behaviour does not take the full system into account, an is irrational in the sense that it isn't forwards looking. Instead, an agent is given a behavioural heuristic.\n",
    "- The transitions of the whole system can be determined without solving for complex interactions first.\n",
    "\n",
    "Understanding why these two assumptions are very costly for economists will keep us busy during a big part of the course. Here we just consider two simple models as small programming exercises."
   ]
  },
  {
   "cell_type": "markdown",
   "metadata": {},
   "source": [
    "### Simple SIR model\n",
    "\n",
    "There is a continuum of agents of mass $1$. Each agent can be either \"Susceptible\" (S), \"Infected\" (I) or \"Recovered\" (R).\n",
    "Agents meet randomly. The probability that two agents meet in a given period is $\\mu$. During a meeting susceptible agents catch the disease (or the fad) for sure an infected agent, but are not contagious. Infected agents, have a probability $\\pi$ of being recovered. No distinction is made between recovering as a healthy or a dead person.\n",
    "\n",
    "We're interested in the evolution in the number infected persons, both the speed of infection and the total amount of infected people in every period."
   ]
  },
  {
   "cell_type": "markdown",
   "metadata": {},
   "source": [
    "__Write down the transition equations for $n_I$, the number of infected people, for $n_R$ the number of recovered people and $n_S$ the number of susceptible people.__\n",
    "\n"
   ]
  },
  {
   "cell_type": "markdown",
   "metadata": {},
   "source": []
  },
  {
   "cell_type": "markdown",
   "metadata": {},
   "source": [
    "__Compute the transition matrix $M$ for the vector state $s_t$ such that $s_{t+1}= M s_t$__\n",
    "\n"
   ]
  },
  {
   "cell_type": "code",
   "execution_count": null,
   "metadata": {},
   "outputs": [],
   "source": []
  },
  {
   "cell_type": "markdown",
   "metadata": {},
   "source": [
    "__Compute the transitions over $T$ periods. Plot the result using Plots.jl. (bonus: check against closed form solution)__\n",
    "\n"
   ]
  },
  {
   "cell_type": "code",
   "execution_count": null,
   "metadata": {},
   "outputs": [],
   "source": []
  },
  {
   "cell_type": "markdown",
   "metadata": {},
   "source": [
    "__Write a function of $\\mu$, $\\pi$ which returns the simulation. Compare different values of the parameters. How would you interpret \"social distancing\"?__"
   ]
  },
  {
   "cell_type": "code",
   "execution_count": null,
   "metadata": {},
   "outputs": [],
   "source": []
  },
  {
   "cell_type": "markdown",
   "metadata": {},
   "source": [
    "### A Spatial SIR model\n",
    "\n",
    "We now consider another version of the model where agents evolve in the space $\\mathcal{S}=[0,1]\\times[0,1]$. There are $N\\in\\mathbb{N}$ agent. At any date, each agent $n \\in [0,1]$  is located at $(x_n,y_n)\\in \\mathcal{S}$.\n",
    "\n",
    "Each agent moves follows a random walk bounded by $\\mathcal{S}$:\n",
    "$$x_t = \\min(\\max( x_{t-1} + \\epsilon_t, 0), 1)$$\n",
    "$$y_t = \\min(\\max( y_{t-1} + \\eta_t, 0), 1)$$\n",
    "where $\\epsilon_t$ and $\\eta_t$ are both normally distributed with standard deviation $\\sigma$.\n",
    "\n",
    "At any date, the individual state of an agent is $s_t=(x_t, y_t, h_t)$ where $h_t$ is either \"S\", \"I\" or \"R\". $v_t$ denotes the states of all agents (for instance $v_t=(s_{n,t})_n$. The health status of each agent is updated in the following way:\n",
    "\n",
    "- Agents $R$ stay $R$.\n",
    "- Agents $I$ have probability $\\pi$ to become $R$. They stay $I$ otherwise.\n",
    "- An agent of type $S$ in position $(x,y)$ has a probability $prob(x,y,S)$ to be infected that is $\\mu$ if there is another infected agent within a radius $r>0$.\n"
   ]
  },
  {
   "cell_type": "markdown",
   "metadata": {},
   "source": [
    "__Define a type `Agent`, which holds the type of an agent. The state of the whole system will be held in a `Vector[Agent]` type.__\n",
    "\n"
   ]
  },
  {
   "cell_type": "code",
   "execution_count": null,
   "metadata": {},
   "outputs": [],
   "source": []
  },
  {
   "cell_type": "markdown",
   "metadata": {},
   "source": [
    "__Write a function `spatial_transition(S::Vector[Agent])::Vector[Agent]` to compute the transition of the positions. Write another function `random_guess(T=100)` which simulates for $T$ periods in order to find a good initial guess.__\n",
    "\n"
   ]
  },
  {
   "cell_type": "code",
   "execution_count": null,
   "metadata": {},
   "outputs": [],
   "source": []
  },
  {
   "cell_type": "markdown",
   "metadata": {},
   "source": [
    "__Write a function `show_population` to plot all agents with different colors for different health status.__\n",
    "\n"
   ]
  },
  {
   "cell_type": "code",
   "execution_count": null,
   "metadata": {},
   "outputs": [],
   "source": []
  },
  {
   "cell_type": "markdown",
   "metadata": {},
   "source": [
    "__Write a function `evolve(S::Vector[Agent])::Vector[Agent]` which takes the population in a given state and returns the same population with updated health status.__\n",
    "\n"
   ]
  },
  {
   "cell_type": "code",
   "execution_count": null,
   "metadata": {},
   "outputs": [],
   "source": []
  },
  {
   "cell_type": "markdown",
   "metadata": {},
   "source": [
    "__Write a function `simulate(S0::Vector[Agent], k=1)` to simulate the economy starting from an initially random position with `k` infected individuals. The returned object should be of type `Vector[Vector[Agent]]`.__\n",
    "\n"
   ]
  },
  {
   "cell_type": "code",
   "execution_count": null,
   "metadata": {},
   "outputs": [],
   "source": []
  },
  {
   "cell_type": "markdown",
   "metadata": {},
   "source": [
    "__Compute statistics along a simulated path for $n_I$, $n_S$, $n_R$. Plot and compare with the basic SIR model__"
   ]
  },
  {
   "cell_type": "code",
   "execution_count": null,
   "metadata": {},
   "outputs": [],
   "source": []
  },
  {
   "cell_type": "markdown",
   "metadata": {},
   "source": [
    "### Additional questions\n",
    "\n",
    "Have fun by trying to answer one of these questions:\n",
    "- change probability of infection so that it depends on the number of infected people in the vincinity (with some suitable functional formulation for)\n",
    "- compute an animation of the transition\n",
    "- compute an interactive visualisation (with `Interact.jl` if available)"
   ]
  }
 ],
 "metadata": {
  "kernelspec": {
   "display_name": "Julia 1.4.0",
   "language": "julia",
   "name": "julia-1.4"
  },
  "language_info": {
   "file_extension": ".jl",
   "mimetype": "application/julia",
   "name": "julia",
   "version": "1.4.0"
  }
 },
 "nbformat": 4,
 "nbformat_minor": 4
}
