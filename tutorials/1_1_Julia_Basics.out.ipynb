{
  "cells": [
    {
      "cell_type": "markdown",
      "metadata": {},
      "source": [
        "# Julia Basics\n",
        "\n",
        "### What is Julia\n",
        "\n",
        "-   developped at MIT on top of opensource technologies\n",
        "    -   linux / git / llvm\n",
        "-   syntax inspired by Matlab but:\n",
        "    -   more consistent\n",
        "    -   lots of features from high level languages\n",
        "-   everything is JIT-compiled\n",
        "    -   interpreted vs compiled treadeoff\n",
        "    -   -\\> very fast\n",
        "    -   most of the base library is written in Julia\n",
        "-   opensource/free + vibrant community\n",
        "\n",
        "Some useful links from QuantEcon:\n",
        "\n",
        "-   [Julia\n",
        "    cheatsheet](https://cheatsheets.quantecon.org/julia-cheatsheet.html)\n",
        "-   [Julia-Matlab\n",
        "    comparison](https://cheatsheets.quantecon.org/index.html)\n",
        "-   [Julia\n",
        "    essentials](https://lectures.quantecon.org/jl/julia_essentials.html)\n",
        "-   [Vectors, arrays and\n",
        "    matrices](https://lectures.quantecon.org/jl/julia_arrays.html)\n",
        "\n",
        "Excellent resources at: [julialang](https://julialang.org/learning/) -\n",
        "checkout JuliaAcademy, it’s free\n",
        "\n",
        "### an example of what you shouldn’t do in Matlab\n",
        "\n",
        "How I learnt: interpreted code is slow, so vectorize your coe."
      ],
      "id": "8455d96b-5d2f-4b1b-a32b-0d6cf60e1c1d"
    },
    {
      "cell_type": "code",
      "execution_count": 1,
      "metadata": {},
      "outputs": [
        {
          "output_type": "display_data",
          "metadata": {},
          "data": {
            "text/plain": [
              "stupid_loop"
            ]
          }
        }
      ],
      "source": [
        "\"\"\"\n",
        "Multplies I by J by K\n",
        "\"\"\"\n",
        "function stupid_loop(I,J,K)\n",
        "    t = 0.0\n",
        "    for i=1:I\n",
        "        for j=1:J\n",
        "            for k = 1:K\n",
        "                t += 1.0\n",
        "            end        \n",
        "        end\n",
        "    end\n",
        "    return t\n",
        "end"
      ],
      "id": "cell-4"
    },
    {
      "cell_type": "code",
      "execution_count": 5,
      "metadata": {},
      "outputs": [
        {
          "output_type": "stream",
          "name": "stdout",
          "text": [
            "  0.530100 seconds"
          ]
        },
        {
          "output_type": "display_data",
          "metadata": {},
          "data": {
            "text/plain": [
              "1.0e9"
            ]
          }
        }
      ],
      "source": [
        "@time stupid_loop(1000,1000,1000)"
      ],
      "id": "cell-5"
    },
    {
      "cell_type": "code",
      "execution_count": null,
      "metadata": {},
      "outputs": [],
      "source": [
        "@time [ stupid_loop(1000,1000,i) for i =1:10]"
      ],
      "id": "cell-6"
    },
    {
      "cell_type": "markdown",
      "metadata": {},
      "source": [
        "Code is translated to LLVM code then to instructions for the processor.\n",
        "Note that processor instructions are shorter than LLVM code."
      ],
      "id": "37431431-e432-4cfc-802c-356e3f84df5a"
    },
    {
      "cell_type": "code",
      "execution_count": 6,
      "metadata": {},
      "outputs": [
        {
          "output_type": "stream",
          "name": "stdout",
          "text": [
            "; Function Signature: stupid_loop(Int64, Int64, Int64)\n",
            ";  @ /home/pablo/Teaching/polytechnique/eco309/tutorials/jl_notebook_cell_df34fa98e69747e1a8f8a730347b8e2f_W4sZmlsZQ==.jl:4 within `stupid_loop`\n",
            "define double @julia_stupid_loop_6611(i64 signext %\"I::Int64\", i64 signext %\"J::Int64\", i64 signext %\"K::Int64\") #0 {\n",
            "top:\n",
            ";  @ /home/pablo/Teaching/polytechnique/eco309/tutorials/jl_notebook_cell_df34fa98e69747e1a8f8a730347b8e2f_W4sZmlsZQ==.jl within `stupid_loop`\n",
            "  %\".I::Int64\" = call i64 @llvm.smax.i64(i64 %\"I::Int64\", i64 0)\n",
            ";  @ /home/pablo/Teaching/polytechnique/eco309/tutorials/jl_notebook_cell_df34fa98e69747e1a8f8a730347b8e2f_W4sZmlsZQ==.jl:6 within `stupid_loop`\n",
            "; ┌ @ range.jl:904 within `iterate`\n",
            "; │┌ @ range.jl:681 within `isempty`\n",
            "; ││┌ @ operators.jl:379 within `>`\n",
            "; │││┌ @ int.jl:83 within `<`\n",
            "      %0 = icmp slt i64 %\"I::Int64\", 1\n",
            "; └└└└\n",
            "  br i1 %0, label %L85, label %L16.preheader\n",
            "\n",
            "L16.preheader:                                    ; preds = %top\n",
            "  %\".J::Int64\" = call i64 @llvm.smax.i64(i64 %\"J::Int64\", i64 0)\n",
            "  %1 = icmp slt i64 %\"J::Int64\", 1\n",
            "  %\".K::Int64\" = call i64 @llvm.smax.i64(i64 %\"K::Int64\", i64 0)\n",
            "  %2 = icmp slt i64 %\"K::Int64\", 1\n",
            ";  @ /home/pablo/Teaching/polytechnique/eco309/tutorials/jl_notebook_cell_df34fa98e69747e1a8f8a730347b8e2f_W4sZmlsZQ==.jl:7 within `stupid_loop`\n",
            "  %or.cond = select i1 %1, i1 true, i1 %2\n",
            "  br i1 %or.cond, label %L85, label %L16.preheader49\n",
            "\n",
            "L16.preheader49:                                  ; preds = %L16.preheader\n",
            ";  @ /home/pablo/Teaching/polytechnique/eco309/tutorials/jl_notebook_cell_df34fa98e69747e1a8f8a730347b8e2f_W4sZmlsZQ==.jl:8 within `stupid_loop`\n",
            "  %3 = add nsw i64 %\".K::Int64\", -1\n",
            "  br label %L16\n",
            "\n",
            "L16:                                              ; preds = %L74.loopexit.split, %L16.preheader49\n",
            "  %value_phi3 = phi i64 [ %11, %L74.loopexit.split ], [ 1, %L16.preheader49 ]\n",
            "  %value_phi4 = phi double [ %.lcssa, %L74.loopexit.split ], [ 0.000000e+00, %L16.preheader49 ]\n",
            "  br label %L33\n",
            "\n",
            "L33:                                              ; preds = %L63.loopexit, %L16\n",
            "  %value_phi11 = phi double [ %.lcssa, %L63.loopexit ], [ %value_phi4, %L16 ]\n",
            "  %value_phi12 = phi i64 [ %10, %L63.loopexit ], [ 1, %L16 ]\n",
            ";  @ /home/pablo/Teaching/polytechnique/eco309/tutorials/jl_notebook_cell_df34fa98e69747e1a8f8a730347b8e2f_W4sZmlsZQ==.jl:10 within `stupid_loop`\n",
            "  %xtraiter = and i64 %\".K::Int64\", 3\n",
            "  %4 = icmp ult i64 %3, 3\n",
            "  br i1 %4, label %L63.loopexit.unr-lcssa, label %L33.new\n",
            "\n",
            "L33.new:                                          ; preds = %L33\n",
            "  %unroll_iter = and i64 %\".K::Int64\", 9223372036854775804\n",
            "  br label %L50\n",
            "\n",
            "L50:                                              ; preds = %L50, %L33.new\n",
            "  %value_phi19 = phi double [ %value_phi11, %L33.new ], [ %8, %L50 ]\n",
            "  %niter = phi i64 [ 0, %L33.new ], [ %niter.next.3, %L50 ]\n",
            ";  @ /home/pablo/Teaching/polytechnique/eco309/tutorials/jl_notebook_cell_df34fa98e69747e1a8f8a730347b8e2f_W4sZmlsZQ==.jl:9 within `stupid_loop`\n",
            "; ┌ @ float.jl:491 within `+`\n",
            "   %5 = fadd double %value_phi19, 1.000000e+00\n",
            "   %6 = fadd double %5, 1.000000e+00\n",
            "   %7 = fadd double %6, 1.000000e+00\n",
            "   %8 = fadd double %7, 1.000000e+00\n",
            "; └\n",
            ";  @ /home/pablo/Teaching/polytechnique/eco309/tutorials/jl_notebook_cell_df34fa98e69747e1a8f8a730347b8e2f_W4sZmlsZQ==.jl:10 within `stupid_loop`\n",
            "  %niter.next.3 = add i64 %niter, 4\n",
            "  %niter.ncmp.3 = icmp eq i64 %niter.next.3, %unroll_iter\n",
            "  br i1 %niter.ncmp.3, label %L63.loopexit.unr-lcssa, label %L50\n",
            "\n",
            "L63.loopexit.unr-lcssa:                           ; preds = %L50, %L33\n",
            "  %.lcssa.ph = phi double [ undef, %L33 ], [ %8, %L50 ]\n",
            "  %value_phi19.unr = phi double [ %value_phi11, %L33 ], [ %8, %L50 ]\n",
            "  %lcmp.mod.not = icmp eq i64 %xtraiter, 0\n",
            "  br i1 %lcmp.mod.not, label %L63.loopexit, label %L50.epil\n",
            "\n",
            "L50.epil:                                         ; preds = %L50.epil, %L63.loopexit.unr-lcssa\n",
            "  %value_phi19.epil = phi double [ %9, %L50.epil ], [ %value_phi19.unr, %L63.loopexit.unr-lcssa ]\n",
            "  %epil.iter = phi i64 [ %epil.iter.next, %L50.epil ], [ 0, %L63.loopexit.unr-lcssa ]\n",
            ";  @ /home/pablo/Teaching/polytechnique/eco309/tutorials/jl_notebook_cell_df34fa98e69747e1a8f8a730347b8e2f_W4sZmlsZQ==.jl:9 within `stupid_loop`\n",
            "; ┌ @ float.jl:491 within `+`\n",
            "   %9 = fadd double %value_phi19.epil, 1.000000e+00\n",
            "; └\n",
            ";  @ /home/pablo/Teaching/polytechnique/eco309/tutorials/jl_notebook_cell_df34fa98e69747e1a8f8a730347b8e2f_W4sZmlsZQ==.jl:10 within `stupid_loop`\n",
            "  %epil.iter.next = add i64 %epil.iter, 1\n",
            "  %epil.iter.cmp.not = icmp eq i64 %epil.iter.next, %xtraiter\n",
            "  br i1 %epil.iter.cmp.not, label %L63.loopexit, label %L50.epil\n",
            "\n",
            "L63.loopexit:                                     ; preds = %L50.epil, %L63.loopexit.unr-lcssa\n",
            ";  @ /home/pablo/Teaching/polytechnique/eco309/tutorials/jl_notebook_cell_df34fa98e69747e1a8f8a730347b8e2f_W4sZmlsZQ==.jl:9 within `stupid_loop`\n",
            "; ┌ @ float.jl:491 within `+`\n",
            "   %.lcssa = phi double [ %.lcssa.ph, %L63.loopexit.unr-lcssa ], [ %9, %L50.epil ]\n",
            "; └\n",
            ";  @ /home/pablo/Teaching/polytechnique/eco309/tutorials/jl_notebook_cell_df34fa98e69747e1a8f8a730347b8e2f_W4sZmlsZQ==.jl:11 within `stupid_loop`\n",
            "; ┌ @ range.jl:908 within `iterate`\n",
            "; │┌ @ promotion.jl:639 within `==`\n",
            "    %.not.not37 = icmp eq i64 %value_phi12, %\".J::Int64\"\n",
            "; │└\n",
            "   %10 = add nuw i64 %value_phi12, 1\n",
            "; └\n",
            "  br i1 %.not.not37, label %L74.loopexit.split, label %L33\n",
            "\n",
            "L74.loopexit.split:                               ; preds = %L63.loopexit\n",
            ";  @ /home/pablo/Teaching/polytechnique/eco309/tutorials/jl_notebook_cell_df34fa98e69747e1a8f8a730347b8e2f_W4sZmlsZQ==.jl:12 within `stupid_loop`\n",
            "; ┌ @ range.jl:908 within `iterate`\n",
            "; │┌ @ promotion.jl:639 within `==`\n",
            "    %.not.not38 = icmp eq i64 %value_phi3, %\".I::Int64\"\n",
            "; │└\n",
            "   %11 = add nuw i64 %value_phi3, 1\n",
            "; └\n",
            "  br i1 %.not.not38, label %L85, label %L16\n",
            "\n",
            "L85:                                              ; preds = %L74.loopexit.split, %L16.preheader, %top\n",
            "  %value_phi34 = phi double [ 0.000000e+00, %top ], [ 0.000000e+00, %L16.preheader ], [ %.lcssa, %L74.loopexit.split ]\n",
            ";  @ /home/pablo/Teaching/polytechnique/eco309/tutorials/jl_notebook_cell_df34fa98e69747e1a8f8a730347b8e2f_W4sZmlsZQ==.jl:13 within `stupid_loop`\n",
            "  ret double %value_phi34\n",
            "}"
          ]
        }
      ],
      "source": [
        "@code_llvm stupid_loop(10,10,10)"
      ],
      "id": "cell-8"
    },
    {
      "cell_type": "code",
      "execution_count": 7,
      "metadata": {},
      "outputs": [
        {
          "output_type": "stream",
          "name": "stdout",
          "text": [
            "    .text\n",
            "    .file   \"stupid_loop\"\n",
            "    .section    .rodata.cst8,\"aM\",@progbits,8\n",
            "    .p2align    3, 0x0                          # -- Begin function julia_stupid_loop_6783\n",
            ".LCPI0_0:\n",
            "    .quad   0x3ff0000000000000              # double 1\n",
            "    .text\n",
            "    .globl  julia_stupid_loop_6783\n",
            "    .p2align    4, 0x90\n",
            "    .type   julia_stupid_loop_6783,@function\n",
            "julia_stupid_loop_6783:                 # @julia_stupid_loop_6783\n",
            "; Function Signature: stupid_loop(Int64, Int64, Int64)\n",
            "; ┌ @ /home/pablo/Teaching/polytechnique/eco309/tutorials/jl_notebook_cell_df34fa98e69747e1a8f8a730347b8e2f_W4sZmlsZQ==.jl:4 within `stupid_loop`\n",
            "# %bb.0:                                # %top\n",
            "; │ @ /home/pablo/Teaching/polytechnique/eco309/tutorials/jl_notebook_cell_df34fa98e69747e1a8f8a730347b8e2f_W4sZmlsZQ==.jl within `stupid_loop`\n",
            "    #DEBUG_VALUE: stupid_loop:I <- $rdi\n",
            "    #DEBUG_VALUE: stupid_loop:J <- $rsi\n",
            "    #DEBUG_VALUE: stupid_loop:K <- $rdx\n",
            "    xor eax, eax\n",
            "    test    rdi, rdi\n",
            "    vxorpd  xmm0, xmm0, xmm0\n",
            "    cmovg   rax, rdi\n",
            "; │ @ /home/pablo/Teaching/polytechnique/eco309/tutorials/jl_notebook_cell_df34fa98e69747e1a8f8a730347b8e2f_W4sZmlsZQ==.jl:6 within `stupid_loop`\n",
            "    jle .LBB0_13\n",
            "# %bb.1:                                # %L16.preheader\n",
            "    xor ecx, ecx\n",
            "    test    rsi, rsi\n",
            "    cmovg   rcx, rsi\n",
            "; │ @ /home/pablo/Teaching/polytechnique/eco309/tutorials/jl_notebook_cell_df34fa98e69747e1a8f8a730347b8e2f_W4sZmlsZQ==.jl:7 within `stupid_loop`\n",
            "    jle .LBB0_13\n",
            "# %bb.2:                                # %L16.preheader\n",
            "    test    rdx, rdx\n",
            "    jle .LBB0_13\n",
            "# %bb.3:                                # %L16.preheader49\n",
            "    push    rbp\n",
            "    mov rsi, rdx\n",
            "    movabs  r10, offset .LCPI0_0\n",
            "    vxorpd  xmm0, xmm0, xmm0\n",
            "    mov r9d, 1\n",
            "    mov rbp, rsp\n",
            "    sar rsi, 63\n",
            "    vmovsd  xmm1, qword ptr [r10]           # xmm1 = mem[0],zero\n",
            "    andn    rdx, rsi, rdx\n",
            "; │ @ /home/pablo/Teaching/polytechnique/eco309/tutorials/jl_notebook_cell_df34fa98e69747e1a8f8a730347b8e2f_W4sZmlsZQ==.jl:8 within `stupid_loop`\n",
            "    mov r8d, edx\n",
            "    mov rdi, rdx\n",
            "    lea rsi, [rdx - 1]\n",
            "    and rdi, -4\n",
            "    and r8d, 3\n",
            "    pop rbp\n",
            "    jmp .LBB0_4\n",
            "    .p2align    4, 0x90\n",
            ".LBB0_12:                               # %L74.loopexit.split\n",
            "                                        #   in Loop: Header=BB0_4 Depth=1\n",
            "; │ @ /home/pablo/Teaching/polytechnique/eco309/tutorials/jl_notebook_cell_df34fa98e69747e1a8f8a730347b8e2f_W4sZmlsZQ==.jl:12 within `stupid_loop`\n",
            "; │┌ @ range.jl:908 within `iterate`\n",
            "; ││┌ @ promotion.jl:639 within `==`\n",
            "    cmp r9, rax\n",
            "; ││└\n",
            "    lea r9, [r9 + 1]\n",
            "; │└\n",
            "    je  .LBB0_13\n",
            ".LBB0_4:                                # %L16\n",
            "                                        # =>This Loop Header: Depth=1\n",
            "                                        #     Child Loop BB0_5 Depth 2\n",
            "                                        #       Child Loop BB0_7 Depth 3\n",
            "                                        #       Child Loop BB0_10 Depth 3\n",
            "    mov r10d, 1\n",
            "    jmp .LBB0_5\n",
            "    .p2align    4, 0x90\n",
            ".LBB0_11:                               # %L63.loopexit\n",
            "                                        #   in Loop: Header=BB0_5 Depth=2\n",
            "; │ @ /home/pablo/Teaching/polytechnique/eco309/tutorials/jl_notebook_cell_df34fa98e69747e1a8f8a730347b8e2f_W4sZmlsZQ==.jl:11 within `stupid_loop`\n",
            "; │┌ @ range.jl:908 within `iterate`\n",
            "; ││┌ @ promotion.jl:639 within `==`\n",
            "    cmp r10, rcx\n",
            "; ││└\n",
            "    lea r10, [r10 + 1]\n",
            "; │└\n",
            "    je  .LBB0_12\n",
            ".LBB0_5:                                # %L33\n",
            "                                        #   Parent Loop BB0_4 Depth=1\n",
            "                                        # =>  This Loop Header: Depth=2\n",
            "                                        #       Child Loop BB0_7 Depth 3\n",
            "                                        #       Child Loop BB0_10 Depth 3\n",
            "; │ @ /home/pablo/Teaching/polytechnique/eco309/tutorials/jl_notebook_cell_df34fa98e69747e1a8f8a730347b8e2f_W4sZmlsZQ==.jl:10 within `stupid_loop`\n",
            "    cmp rsi, 3\n",
            "    jb  .LBB0_8\n",
            "# %bb.6:                                # %L33.new\n",
            "                                        #   in Loop: Header=BB0_5 Depth=2\n",
            "    mov r11, rdi\n",
            "    .p2align    4, 0x90\n",
            ".LBB0_7:                                # %L50\n",
            "                                        #   Parent Loop BB0_4 Depth=1\n",
            "                                        #     Parent Loop BB0_5 Depth=2\n",
            "                                        # =>    This Inner Loop Header: Depth=3\n",
            "; │ @ /home/pablo/Teaching/polytechnique/eco309/tutorials/jl_notebook_cell_df34fa98e69747e1a8f8a730347b8e2f_W4sZmlsZQ==.jl:9 within `stupid_loop`\n",
            "; │┌ @ float.jl:491 within `+`\n",
            "    vaddsd  xmm0, xmm0, xmm1\n",
            "; │└\n",
            "; │ @ /home/pablo/Teaching/polytechnique/eco309/tutorials/jl_notebook_cell_df34fa98e69747e1a8f8a730347b8e2f_W4sZmlsZQ==.jl:10 within `stupid_loop`\n",
            "    add r11, -4\n",
            "; │ @ /home/pablo/Teaching/polytechnique/eco309/tutorials/jl_notebook_cell_df34fa98e69747e1a8f8a730347b8e2f_W4sZmlsZQ==.jl:9 within `stupid_loop`\n",
            "; │┌ @ float.jl:491 within `+`\n",
            "    vaddsd  xmm0, xmm0, xmm1\n",
            "    vaddsd  xmm0, xmm0, xmm1\n",
            "    vaddsd  xmm0, xmm0, xmm1\n",
            "; │└\n",
            "; │ @ /home/pablo/Teaching/polytechnique/eco309/tutorials/jl_notebook_cell_df34fa98e69747e1a8f8a730347b8e2f_W4sZmlsZQ==.jl:10 within `stupid_loop`\n",
            "    jne .LBB0_7\n",
            ".LBB0_8:                                # %L63.loopexit.unr-lcssa\n",
            "                                        #   in Loop: Header=BB0_5 Depth=2\n",
            "    test    dl, 3\n",
            "    je  .LBB0_11\n",
            "# %bb.9:                                # %L50.epil.preheader\n",
            "                                        #   in Loop: Header=BB0_5 Depth=2\n",
            "    mov r11, r8\n",
            "    .p2align    4, 0x90\n",
            ".LBB0_10:                               # %L50.epil\n",
            "                                        #   Parent Loop BB0_4 Depth=1\n",
            "                                        #     Parent Loop BB0_5 Depth=2\n",
            "                                        # =>    This Inner Loop Header: Depth=3\n",
            "; │ @ /home/pablo/Teaching/polytechnique/eco309/tutorials/jl_notebook_cell_df34fa98e69747e1a8f8a730347b8e2f_W4sZmlsZQ==.jl:9 within `stupid_loop`\n",
            "; │┌ @ float.jl:491 within `+`\n",
            "    vaddsd  xmm0, xmm0, xmm1\n",
            "; │└\n",
            "; │ @ /home/pablo/Teaching/polytechnique/eco309/tutorials/jl_notebook_cell_df34fa98e69747e1a8f8a730347b8e2f_W4sZmlsZQ==.jl:10 within `stupid_loop`\n",
            "    add r11, -1\n",
            "    jne .LBB0_10\n",
            "    jmp .LBB0_11\n",
            ".LBB0_13:                               # %L85\n",
            "; │ @ /home/pablo/Teaching/polytechnique/eco309/tutorials/jl_notebook_cell_df34fa98e69747e1a8f8a730347b8e2f_W4sZmlsZQ==.jl:13 within `stupid_loop`\n",
            "    ret\n",
            ".Lfunc_end0:\n",
            "    .size   julia_stupid_loop_6783, .Lfunc_end0-julia_stupid_loop_6783\n",
            "; └\n",
            "                                        # -- End function\n",
            "    .type   \".L+Core.Float64#6785\",@object  # @\"+Core.Float64#6785\"\n",
            "    .section    .rodata,\"a\",@progbits\n",
            "    .p2align    3, 0x0\n",
            "\".L+Core.Float64#6785\":\n",
            "    .quad   \".L+Core.Float64#6785.jit\"\n",
            "    .size   \".L+Core.Float64#6785\", 8\n",
            "\n",
            ".set \".L+Core.Float64#6785.jit\", 126257775752480\n",
            "    .size   \".L+Core.Float64#6785.jit\", 8\n",
            "    .section    \".note.GNU-stack\",\"\",@progbits"
          ]
        }
      ],
      "source": [
        "@code_native stupid_loop(10,10,10)"
      ],
      "id": "cell-9"
    },
    {
      "cell_type": "markdown",
      "metadata": {},
      "source": [
        "### Syntax Review\n",
        "\n",
        "#### Variable assignment\n",
        "\n",
        "Assignement operator is = (equality is ==, identity is ===)"
      ],
      "id": "4e868f38-97a8-4aff-bbcb-7744ec21c501"
    },
    {
      "cell_type": "code",
      "execution_count": null,
      "metadata": {},
      "outputs": [],
      "source": [
        "# Assign the value 10 to the variable x\n",
        "x = 10"
      ],
      "id": "cell-12"
    },
    {
      "cell_type": "code",
      "execution_count": null,
      "metadata": {},
      "outputs": [],
      "source": [
        "2 == 3"
      ],
      "id": "cell-13"
    },
    {
      "cell_type": "code",
      "execution_count": null,
      "metadata": {},
      "outputs": [],
      "source": [
        "# Variable names can have Unicode characters\n",
        "# To get ϵ in the REPL, type \\epsilon<TAB>\n",
        "ϵ = 1e-4"
      ],
      "id": "cell-14"
    },
    {
      "cell_type": "markdown",
      "metadata": {},
      "source": [
        "Default semantic is pass-by-reference:"
      ],
      "id": "1b42e655-d590-4caf-8f7e-2189cffb68b1"
    },
    {
      "cell_type": "code",
      "execution_count": null,
      "metadata": {},
      "outputs": [],
      "source": [
        "a = [1,2,3,4]\n",
        "b = a\n",
        "a[1] = 10\n",
        "b"
      ],
      "id": "cell-16"
    },
    {
      "cell_type": "markdown",
      "metadata": {},
      "source": [
        "To work on a copy: `copy` or `deepcopy`"
      ],
      "id": "d8059163-4454-4420-9575-db1c7e44bc3f"
    },
    {
      "cell_type": "code",
      "execution_count": null,
      "metadata": {},
      "outputs": [],
      "source": [
        "a = [1,2,3,4]\n",
        "b = copy(a)\n",
        "a[1]=10\n",
        "b"
      ],
      "id": "cell-18"
    },
    {
      "cell_type": "code",
      "execution_count": null,
      "metadata": {},
      "outputs": [],
      "source": [
        "a .== b"
      ],
      "id": "cell-19"
    },
    {
      "cell_type": "code",
      "execution_count": null,
      "metadata": {},
      "outputs": [],
      "source": [
        "a === b"
      ],
      "id": "cell-20"
    },
    {
      "cell_type": "markdown",
      "metadata": {},
      "source": [
        "#### Basic types"
      ],
      "id": "e9afa456-85d1-4d24-86f5-c9de8766636a"
    },
    {
      "cell_type": "code",
      "execution_count": null,
      "metadata": {},
      "outputs": [],
      "source": [
        "# for any object `typeof` returns the type\n",
        "?typeof"
      ],
      "id": "cell-22"
    },
    {
      "cell_type": "code",
      "execution_count": null,
      "metadata": {},
      "outputs": [],
      "source": [
        "typeof(a)"
      ],
      "id": "cell-23"
    },
    {
      "cell_type": "markdown",
      "metadata": {},
      "source": [
        "#### Numbers"
      ],
      "id": "4e388e6b-93ff-4866-a251-0999882d09a1"
    },
    {
      "cell_type": "code",
      "execution_count": null,
      "metadata": {},
      "outputs": [],
      "source": [
        "y = 2 + 2"
      ],
      "id": "cell-25"
    },
    {
      "cell_type": "code",
      "execution_count": null,
      "metadata": {},
      "outputs": [],
      "source": [
        "-y"
      ],
      "id": "cell-26"
    },
    {
      "cell_type": "code",
      "execution_count": null,
      "metadata": {},
      "outputs": [],
      "source": [
        "0.34*23"
      ],
      "id": "cell-27"
    },
    {
      "cell_type": "code",
      "execution_count": null,
      "metadata": {},
      "outputs": [],
      "source": [
        "3/4"
      ],
      "id": "cell-28"
    },
    {
      "cell_type": "code",
      "execution_count": null,
      "metadata": {},
      "outputs": [],
      "source": [
        "# Scalar multiplication doesn't require *\n",
        "3(4 - 2)"
      ],
      "id": "cell-29"
    },
    {
      "cell_type": "code",
      "execution_count": null,
      "metadata": {},
      "outputs": [],
      "source": [
        "x = 4\n",
        "2x"
      ],
      "id": "cell-30"
    },
    {
      "cell_type": "code",
      "execution_count": null,
      "metadata": {},
      "outputs": [],
      "source": [
        "typeof(x)"
      ],
      "id": "cell-31"
    },
    {
      "cell_type": "code",
      "execution_count": null,
      "metadata": {},
      "outputs": [],
      "source": [
        "sizeof(a)"
      ],
      "id": "cell-32"
    },
    {
      "cell_type": "markdown",
      "metadata": {},
      "source": [
        "#### Booleans\n",
        "\n",
        "Equality"
      ],
      "id": "207e41f7-91b5-48cc-89e3-709a6029acfa"
    },
    {
      "cell_type": "code",
      "execution_count": null,
      "metadata": {},
      "outputs": [],
      "source": [
        "0 == 1"
      ],
      "id": "cell-35"
    },
    {
      "cell_type": "code",
      "execution_count": null,
      "metadata": {},
      "outputs": [],
      "source": [
        "2 != 3"
      ],
      "id": "cell-36"
    },
    {
      "cell_type": "code",
      "execution_count": null,
      "metadata": {},
      "outputs": [],
      "source": [
        "3 <= 4"
      ],
      "id": "cell-37"
    },
    {
      "cell_type": "markdown",
      "metadata": {},
      "source": [
        "Identity"
      ],
      "id": "9bd0f818-ad31-48bc-a50a-06a2b722cf5a"
    },
    {
      "cell_type": "code",
      "execution_count": null,
      "metadata": {},
      "outputs": [],
      "source": [
        "a = [34, 35]\n",
        "b = [34, 35]\n",
        "c = a"
      ],
      "id": "cell-39"
    },
    {
      "cell_type": "code",
      "execution_count": null,
      "metadata": {},
      "outputs": [],
      "source": [
        "c === a"
      ],
      "id": "cell-40"
    },
    {
      "cell_type": "code",
      "execution_count": null,
      "metadata": {},
      "outputs": [],
      "source": [
        "b === a"
      ],
      "id": "cell-41"
    },
    {
      "cell_type": "markdown",
      "metadata": {},
      "source": [
        "Boolean operator"
      ],
      "id": "55433bc0-0cf4-43b3-a029-212334018a80"
    },
    {
      "cell_type": "code",
      "execution_count": null,
      "metadata": {},
      "outputs": [],
      "source": [
        "true && false"
      ],
      "id": "cell-43"
    },
    {
      "cell_type": "code",
      "execution_count": null,
      "metadata": {},
      "outputs": [],
      "source": [
        "true || false"
      ],
      "id": "cell-44"
    },
    {
      "cell_type": "code",
      "execution_count": null,
      "metadata": {},
      "outputs": [],
      "source": [
        "!true"
      ],
      "id": "cell-45"
    },
    {
      "cell_type": "markdown",
      "metadata": {},
      "source": [
        "#### Strings"
      ],
      "id": "08efcc4c-cff5-4dbf-a0a0-378ce764c5cc"
    },
    {
      "cell_type": "code",
      "execution_count": null,
      "metadata": {},
      "outputs": [],
      "source": [
        "# Strings are written using double quotes\n",
        "str = \"This is a string\""
      ],
      "id": "cell-47"
    },
    {
      "cell_type": "code",
      "execution_count": null,
      "metadata": {},
      "outputs": [],
      "source": [
        "ch = 'k' # this is a character"
      ],
      "id": "cell-48"
    },
    {
      "cell_type": "code",
      "execution_count": null,
      "metadata": {},
      "outputs": [],
      "source": [
        "# Strings can also contain Unicode characters\n",
        "fancy_str = \"α is a string\""
      ],
      "id": "cell-49"
    },
    {
      "cell_type": "code",
      "execution_count": null,
      "metadata": {},
      "outputs": [],
      "source": [
        "# String interpolation using $\n",
        "# The expression in parentheses is evaluated and the result is \n",
        "# inserted into the string\n",
        "a = 2+2\n",
        "\"2 + 2 = $(a)\""
      ],
      "id": "cell-50"
    },
    {
      "cell_type": "code",
      "execution_count": null,
      "metadata": {},
      "outputs": [],
      "source": [
        "println(\"It took me $(a) iterations\")"
      ],
      "id": "cell-51"
    },
    {
      "cell_type": "code",
      "execution_count": null,
      "metadata": {},
      "outputs": [],
      "source": [
        "# String concatenation using *\n",
        "\"hello\" * \"world\""
      ],
      "id": "cell-52"
    },
    {
      "cell_type": "code",
      "execution_count": null,
      "metadata": {},
      "outputs": [],
      "source": [
        "println(\"hello \", \"world\")"
      ],
      "id": "cell-53"
    },
    {
      "cell_type": "markdown",
      "metadata": {},
      "source": [
        "#### Arrays\n",
        "\n",
        "Julia has one-dimensional arrays. They are also called Vector."
      ],
      "id": "4c9422e5-6f88-46ad-a5e6-d0f4d1ad7a0a"
    },
    {
      "cell_type": "code",
      "execution_count": 1,
      "metadata": {},
      "outputs": [
        {
          "output_type": "display_data",
          "metadata": {},
          "data": {
            "text/plain": [
              "2-element Array{Int64,1}:\n",
              " 1\n",
              " 2"
            ]
          }
        }
      ],
      "source": [
        "A = [1, 2]"
      ],
      "id": "cell-56"
    },
    {
      "cell_type": "code",
      "execution_count": 2,
      "metadata": {},
      "outputs": [
        {
          "output_type": "display_data",
          "metadata": {},
          "data": {
            "text/plain": [
              "16"
            ]
          }
        }
      ],
      "source": [
        "sizeof(A)"
      ],
      "id": "cell-57"
    },
    {
      "cell_type": "code",
      "execution_count": null,
      "metadata": {},
      "outputs": [],
      "source": [
        "typeof(A) == Vector{Int64}"
      ],
      "id": "cell-58"
    },
    {
      "cell_type": "code",
      "execution_count": 5,
      "metadata": {},
      "outputs": [
        {
          "output_type": "display_data",
          "metadata": {},
          "data": {
            "text/plain": [
              "1"
            ]
          }
        }
      ],
      "source": [
        "# vectors have one dimension: they are indexed by an integer\n",
        "A[1]"
      ],
      "id": "cell-59"
    },
    {
      "cell_type": "markdown",
      "metadata": {},
      "source": [
        "2d arrays are also called matrices… and can be used for matrix\n",
        "multiplications."
      ],
      "id": "a39d77ed-8586-466e-b898-c7fa8446eee0"
    },
    {
      "cell_type": "code",
      "execution_count": 15,
      "metadata": {},
      "outputs": [
        {
          "output_type": "display_data",
          "metadata": {},
          "data": {
            "text/plain": [
              "2×3 Array{Float64,2}:\n",
              " 0.1  0.2  0.3\n",
              " 4.0  5.0  6.0"
            ]
          }
        }
      ],
      "source": [
        "B = [0.1 0.2 0.3; 4 5 6]"
      ],
      "id": "cell-61"
    },
    {
      "cell_type": "code",
      "execution_count": 14,
      "metadata": {},
      "outputs": [
        {
          "output_type": "display_data",
          "metadata": {},
          "data": {
            "text/plain": [
              "2×2 Array{Float64,2}:\n",
              " 0.14   3.2\n",
              " 3.2   77.0"
            ]
          }
        }
      ],
      "source": [
        "B*B'"
      ],
      "id": "cell-62"
    },
    {
      "cell_type": "markdown",
      "metadata": {},
      "source": [
        "Vectorized operations take a ., even comparisons:"
      ],
      "id": "b95c4df0-32fb-4984-b69f-d16085d7e682"
    },
    {
      "cell_type": "code",
      "execution_count": 16,
      "metadata": {},
      "outputs": [
        {
          "output_type": "display_data",
          "metadata": {},
          "data": {
            "text/plain": [
              "2×3 Array{Float64,2}:\n",
              "  0.01   0.04   0.09\n",
              " 16.0   25.0   36.0"
            ]
          }
        }
      ],
      "source": [
        "B.*B"
      ],
      "id": "cell-64"
    },
    {
      "cell_type": "code",
      "execution_count": 17,
      "metadata": {},
      "outputs": [
        {
          "output_type": "display_data",
          "metadata": {},
          "data": {
            "text/plain": [
              "2×3 BitArray{2}:\n",
              " 1  1  1\n",
              " 0  0  0"
            ]
          }
        }
      ],
      "source": [
        "B .* B .< B"
      ],
      "id": "cell-65"
    },
    {
      "cell_type": "markdown",
      "metadata": {},
      "source": [
        "Elements are always accessed with square brackets:"
      ],
      "id": "d7415052-5fbc-43e7-8895-b097c5cf13b2"
    },
    {
      "cell_type": "code",
      "execution_count": 22,
      "metadata": {},
      "outputs": [
        {
          "output_type": "display_data",
          "metadata": {},
          "data": {
            "text/plain": [
              "0.2"
            ]
          }
        }
      ],
      "source": [
        "B[1,2]"
      ],
      "id": "cell-67"
    },
    {
      "cell_type": "code",
      "execution_count": 23,
      "metadata": {},
      "outputs": [
        {
          "output_type": "display_data",
          "metadata": {},
          "data": {
            "text/plain": [
              "2-element Array{Float64,1}:\n",
              " 0.1\n",
              " 4.0"
            ]
          }
        }
      ],
      "source": [
        "B[:,1]"
      ],
      "id": "cell-68"
    },
    {
      "cell_type": "code",
      "execution_count": 24,
      "metadata": {},
      "outputs": [
        {
          "output_type": "display_data",
          "metadata": {},
          "data": {
            "text/plain": [
              "2×2 Array{Float64,2}:\n",
              " 0.1  0.2\n",
              " 4.0  5.0"
            ]
          }
        }
      ],
      "source": [
        "B[:,1:end-1]"
      ],
      "id": "cell-69"
    },
    {
      "cell_type": "markdown",
      "metadata": {},
      "source": [
        "#### Control flow\n",
        "\n",
        "Conditions"
      ],
      "id": "b9d02caf-8cbc-40c9-9854-0f93f1a519ee"
    },
    {
      "cell_type": "code",
      "execution_count": 25,
      "metadata": {},
      "outputs": [
        {
          "output_type": "stream",
          "name": "stdout",
          "text": [
            "x is negative"
          ]
        }
      ],
      "source": [
        "x = -3\n",
        "if x < 0\n",
        "    println(\"x is negative\")\n",
        "elseif x > 0 # optional and unlimited\n",
        "    println(\"x is positive\")\n",
        "else         # optional\n",
        "    println(\"x is zero\")\n",
        "end"
      ],
      "id": "cell-72"
    },
    {
      "cell_type": "markdown",
      "metadata": {},
      "source": [
        "While"
      ],
      "id": "f8844afe-d3c4-4c2c-857d-89c15e12df57"
    },
    {
      "cell_type": "code",
      "execution_count": 29,
      "metadata": {},
      "outputs": [
        {
          "output_type": "stream",
          "name": "stdout",
          "text": [
            "3\n",
            "2\n",
            "1"
          ]
        }
      ],
      "source": [
        "i = 3\n",
        "while i > 0\n",
        "    println(i)\n",
        "    i = i - 1\n",
        "end"
      ],
      "id": "cell-74"
    },
    {
      "cell_type": "markdown",
      "metadata": {},
      "source": [
        "For loops"
      ],
      "id": "64dab6d2-ec04-46f4-b95a-b75da844aeb6"
    },
    {
      "cell_type": "code",
      "execution_count": 31,
      "metadata": {},
      "outputs": [
        {
          "output_type": "stream",
          "name": "stdout",
          "text": [
            "1\n",
            "2"
          ]
        }
      ],
      "source": [
        "# Iterate through ranges of numbers\n",
        "for i = 1:3\n",
        "    println(i)\n",
        "    \n",
        "    if i == 2\n",
        "        break\n",
        "    end\n",
        "end"
      ],
      "id": "cell-76"
    },
    {
      "cell_type": "code",
      "execution_count": 34,
      "metadata": {},
      "outputs": [
        {
          "output_type": "stream",
          "name": "stdout",
          "text": [
            "Boston\n",
            "New York\n",
            "Philadelphia"
          ]
        }
      ],
      "source": [
        "# Iterate through arrays\n",
        "cities = [\"Boston\", \"New York\", \"Philadelphia\"]\n",
        "for city in cities\n",
        "    println(city)\n",
        "end"
      ],
      "id": "cell-77"
    },
    {
      "cell_type": "code",
      "execution_count": 41,
      "metadata": {},
      "outputs": [
        {
          "output_type": "stream",
          "name": "stdout",
          "text": [
            "(\"Boston\", \"MA\")\n",
            "(\"New York\", \"NY\")\n",
            "(\"Philadelphia\", \"PA\")"
          ]
        }
      ],
      "source": [
        "for t in zip(cities, states)\n",
        "    println(t)\n",
        "end\n"
      ],
      "id": "cell-78"
    },
    {
      "cell_type": "code",
      "execution_count": 42,
      "metadata": {},
      "outputs": [
        {
          "output_type": "stream",
          "name": "stdout",
          "text": [
            "Boston, MA\n",
            "New York, NY\n",
            "Philadelphia, PA"
          ]
        }
      ],
      "source": [
        "# Iterate through arrays of tuples using zip\n",
        "for (city, state) in zip(cities, states)\n",
        "    println(\"$city, $state\")\n",
        "end"
      ],
      "id": "cell-79"
    },
    {
      "cell_type": "code",
      "execution_count": 43,
      "metadata": {},
      "outputs": [
        {
          "output_type": "stream",
          "name": "stdout",
          "text": [
            "City number 1 is Boston\n",
            "City number 2 is New York\n",
            "City number 3 is Philadelphia"
          ]
        }
      ],
      "source": [
        "# Iterate through arrays and their indices using enumerate\n",
        "for (i, city) in enumerate(cities)\n",
        "    println(\"City number $i is $city\")\n",
        "end"
      ],
      "id": "cell-80"
    },
    {
      "cell_type": "markdown",
      "metadata": {},
      "source": [
        "#### List comprehensions"
      ],
      "id": "1bf39924-7ae7-4070-876b-89e41b35ddb3"
    },
    {
      "cell_type": "code",
      "execution_count": 44,
      "metadata": {},
      "outputs": [
        {
          "output_type": "display_data",
          "metadata": {},
          "data": {
            "text/plain": [
              "10-element Array{Int64,1}:\n",
              "   1\n",
              "   4\n",
              "   9\n",
              "  16\n",
              "  25\n",
              "  36\n",
              "  49\n",
              "  64\n",
              "  81\n",
              " 100"
            ]
          }
        }
      ],
      "source": [
        "[i^2 for i=1:10]"
      ],
      "id": "cell-82"
    },
    {
      "cell_type": "code",
      "execution_count": 45,
      "metadata": {},
      "outputs": [
        {
          "output_type": "display_data",
          "metadata": {},
          "data": {
            "text/plain": [
              "5-element Array{Int64,1}:\n",
              "   4\n",
              "  16\n",
              "  36\n",
              "  64\n",
              " 100"
            ]
          }
        }
      ],
      "source": [
        "[i^2 for i=1:10 if mod(i,2)==0]"
      ],
      "id": "cell-83"
    },
    {
      "cell_type": "markdown",
      "metadata": {},
      "source": [
        "### Function definitions\n",
        "\n",
        "Basic functions"
      ],
      "id": "70ddf742-c58f-4105-b977-7be860978b52"
    },
    {
      "cell_type": "code",
      "execution_count": 2,
      "metadata": {},
      "outputs": [
        {
          "output_type": "display_data",
          "metadata": {},
          "data": {
            "text/plain": [
              "f (generic function with 1 method)"
            ]
          }
        }
      ],
      "source": [
        "function f(a,b,c)\n",
        "    res = a + b +c\n",
        "    return res\n",
        "end"
      ],
      "id": "cell-86"
    },
    {
      "cell_type": "code",
      "execution_count": 3,
      "metadata": {},
      "outputs": [
        {
          "output_type": "display_data",
          "metadata": {},
          "data": {
            "text/plain": [
              "10"
            ]
          }
        }
      ],
      "source": [
        "f(3,4,3)"
      ],
      "id": "cell-87"
    },
    {
      "cell_type": "markdown",
      "metadata": {},
      "source": [
        "Optional arguments"
      ],
      "id": "f659f3a7-cc81-4597-b250-d2f92fe562a4"
    },
    {
      "cell_type": "code",
      "execution_count": 4,
      "metadata": {},
      "outputs": [
        {
          "output_type": "display_data",
          "metadata": {},
          "data": {
            "text/plain": [
              "f (generic function with 2 methods)"
            ]
          }
        }
      ],
      "source": [
        "function f(a,b,c=1)\n",
        "    res = a + b +c\n",
        "    return res\n",
        "end"
      ],
      "id": "cell-89"
    },
    {
      "cell_type": "code",
      "execution_count": 5,
      "metadata": {},
      "outputs": [
        {
          "output_type": "display_data",
          "metadata": {},
          "data": {
            "text/plain": [
              "6"
            ]
          }
        }
      ],
      "source": [
        "f(1,2,3)"
      ],
      "id": "cell-90"
    },
    {
      "cell_type": "code",
      "execution_count": 6,
      "metadata": {},
      "outputs": [
        {
          "output_type": "display_data",
          "metadata": {},
          "data": {
            "text/plain": [
              "4"
            ]
          }
        }
      ],
      "source": [
        "f(1,2)"
      ],
      "id": "cell-91"
    },
    {
      "cell_type": "markdown",
      "metadata": {},
      "source": [
        "Keyword arguments"
      ],
      "id": "2a24202a-de1c-4424-8390-d0c854d09b17"
    },
    {
      "cell_type": "code",
      "execution_count": 19,
      "metadata": {},
      "outputs": [
        {
          "output_type": "display_data",
          "metadata": {},
          "data": {
            "text/plain": [
              "g (generic function with 1 method)"
            ]
          }
        }
      ],
      "source": [
        "function g(a,b,c; operator=(+), add_one=false)\n",
        "    res = operator(a, operator( b , c) )\n",
        "    if add_one\n",
        "        res +=1\n",
        "    end\n",
        "    return res\n",
        "end"
      ],
      "id": "cell-93"
    },
    {
      "cell_type": "code",
      "execution_count": 15,
      "metadata": {},
      "outputs": [
        {
          "output_type": "display_data",
          "metadata": {},
          "data": {
            "text/plain": [
              "6"
            ]
          }
        }
      ],
      "source": [
        "g(1,2,3)"
      ],
      "id": "cell-94"
    },
    {
      "cell_type": "code",
      "execution_count": 16,
      "metadata": {},
      "outputs": [
        {
          "output_type": "display_data",
          "metadata": {},
          "data": {
            "text/plain": [
              "1.0344827586206897"
            ]
          }
        }
      ],
      "source": [
        "g(1.0,2.9,3.0; operator=(/))"
      ],
      "id": "cell-95"
    },
    {
      "cell_type": "code",
      "execution_count": 20,
      "metadata": {},
      "outputs": [
        {
          "output_type": "display_data",
          "metadata": {},
          "data": {
            "text/plain": [
              "2.0344827586206895"
            ]
          }
        }
      ],
      "source": [
        "g(1.0,2.9,3.0; operator=(/), add_one=true)"
      ],
      "id": "cell-96"
    },
    {
      "cell_type": "code",
      "execution_count": 21,
      "metadata": {},
      "outputs": [
        {
          "output_type": "display_data",
          "metadata": {},
          "data": {
            "text/plain": [
              "2.0344827586206895"
            ]
          }
        }
      ],
      "source": [
        "g(1.0,2.9,3.0; add_one=true, operator=(/), )"
      ],
      "id": "cell-97"
    },
    {
      "cell_type": "markdown",
      "metadata": {},
      "source": [
        "One liners:"
      ],
      "id": "27015e29-89a5-4e1e-be4b-9854eecb3432"
    },
    {
      "cell_type": "code",
      "execution_count": 22,
      "metadata": {},
      "outputs": [
        {
          "output_type": "display_data",
          "metadata": {},
          "data": {
            "text/plain": [
              "g (generic function with 2 methods)"
            ]
          }
        }
      ],
      "source": [
        "g(x,y) = x^2 + y^2"
      ],
      "id": "cell-99"
    },
    {
      "cell_type": "markdown",
      "metadata": {},
      "source": [
        "Anonymous function:"
      ],
      "id": "466e1d18-085d-4e01-ada0-47f9c4f270a0"
    },
    {
      "cell_type": "code",
      "execution_count": 28,
      "metadata": {},
      "outputs": [
        {
          "output_type": "display_data",
          "metadata": {},
          "data": {
            "text/plain": [
              "#12 (generic function with 1 method)"
            ]
          }
        }
      ],
      "source": [
        "fun = (x,y) -> x^2 + 1 + y"
      ],
      "id": "cell-101"
    },
    {
      "cell_type": "code",
      "execution_count": 29,
      "metadata": {},
      "outputs": [
        {
          "output_type": "display_data",
          "metadata": {},
          "data": {
            "text/plain": [
              "10"
            ]
          }
        }
      ],
      "source": [
        "f(1,2,3; operator=fun)"
      ],
      "id": "cell-102"
    },
    {
      "cell_type": "markdown",
      "metadata": {},
      "source": [
        "### Data Types and multiple dispatch\n",
        "\n",
        "#### Composite types\n",
        "\n",
        "A **composite type** is a collection of named fields that can be treated\n",
        "as a single value. They bear a passing resemblance to MATLAB structs.\n",
        "\n",
        "All fields must be declared ahead of time. The double colon, `::`,\n",
        "constrains a field to contain values of a certain type. This is optional\n",
        "for any field."
      ],
      "id": "3b690a8a-2aa7-4d2f-b753-048188f2389c"
    },
    {
      "cell_type": "code",
      "execution_count": 30,
      "metadata": {},
      "outputs": [],
      "source": [
        "struct Parameter_without_types\n",
        "    value\n",
        "    name\n",
        "end"
      ],
      "id": "cell-105"
    },
    {
      "cell_type": "code",
      "execution_count": 32,
      "metadata": {},
      "outputs": [
        {
          "output_type": "display_data",
          "metadata": {},
          "data": {
            "text/plain": [
              "Parameter_without_types(4.4, \"no type at all\")"
            ]
          }
        }
      ],
      "source": [
        "s = Parameter_without_types(4.4, \"no type at all\")"
      ],
      "id": "cell-106"
    },
    {
      "cell_type": "code",
      "execution_count": 35,
      "metadata": {},
      "outputs": [],
      "source": [
        "# Type definition\n",
        "struct Parameter\n",
        "    value::Float64\n",
        "    transformation::Function # Function is a type!\n",
        "    tex_label::String\n",
        "    description::String\n",
        "end"
      ],
      "id": "cell-107"
    },
    {
      "cell_type": "code",
      "execution_count": 39,
      "metadata": {},
      "outputs": [
        {
          "output_type": "display_data",
          "metadata": {},
          "data": {
            "text/plain": [
              "Parameter(4.0, var\"#12#13\"(), \"\\\\Gamma\", \"My parameter\")"
            ]
          }
        }
      ],
      "source": [
        "Parameter(4,fun,\"\\\\Gamma\", \"My parameter\")"
      ],
      "id": "cell-108"
    },
    {
      "cell_type": "markdown",
      "metadata": {},
      "source": [
        "When a type with $n$ fields is defined, a constructor (function that\n",
        "creates an instance of that type) that takes $n$ ordered arguments is\n",
        "automatically created. Additional constructors can be defined for\n",
        "convenience."
      ],
      "id": "441f6ae3-b93c-41c7-ba5f-95d9920a36b0"
    },
    {
      "cell_type": "code",
      "execution_count": 40,
      "metadata": {},
      "outputs": [
        {
          "output_type": "display_data",
          "metadata": {},
          "data": {
            "text/plain": [
              "Parameter(0.9, identity, \"\\beta\", \"Discount rate\")"
            ]
          }
        }
      ],
      "source": [
        "# Creating an instance of the Parameter type using the default\n",
        "# constructor\n",
        "β = Parameter(0.9, identity, \"\\beta\", \"Discount rate\")"
      ],
      "id": "cell-110"
    },
    {
      "cell_type": "code",
      "execution_count": 42,
      "metadata": {},
      "outputs": [
        {
          "output_type": "display_data",
          "metadata": {},
          "data": {
            "text/plain": [
              "0.9"
            ]
          }
        }
      ],
      "source": [
        "β.value"
      ],
      "id": "cell-111"
    },
    {
      "cell_type": "code",
      "execution_count": 45,
      "metadata": {},
      "outputs": [
        {
          "output_type": "display_data",
          "metadata": {},
          "data": {
            "text/plain": [
              "Parameter"
            ]
          }
        }
      ],
      "source": [
        "Parameter(value, transformation, tex) = Parameter(value, transformation, tex, \"no description\")"
      ],
      "id": "cell-112"
    },
    {
      "cell_type": "code",
      "execution_count": 46,
      "metadata": {},
      "outputs": [
        {
          "output_type": "display_data",
          "metadata": {},
          "data": {
            "text/plain": [
              "Parameter(0.34, identity, \"\\beta\", \"no description\")"
            ]
          }
        }
      ],
      "source": [
        "Parameter(0.34, identity, \"\\beta\")"
      ],
      "id": "cell-113"
    },
    {
      "cell_type": "code",
      "execution_count": 48,
      "metadata": {},
      "outputs": [
        {
          "output_type": "display_data",
          "metadata": {},
          "data": {
            "text/plain": [
              "Parameter"
            ]
          }
        }
      ],
      "source": [
        "# constructor A\n",
        "Parameter(value, tex) = Parameter(value, identity, tex, \"no description\")"
      ],
      "id": "cell-114"
    },
    {
      "cell_type": "code",
      "execution_count": 49,
      "metadata": {},
      "outputs": [
        {
          "output_type": "display_data",
          "metadata": {},
          "data": {
            "text/plain": [
              "Parameter(0.1, identity, \"\\beta\", \"no description\")"
            ]
          }
        }
      ],
      "source": [
        "Parameter(0.1, \"\\beta\")"
      ],
      "id": "cell-115"
    },
    {
      "cell_type": "code",
      "execution_count": 50,
      "metadata": {},
      "outputs": [
        {
          "output_type": "display_data",
          "metadata": {},
          "data": {
            "text/plain": [
              "Parameter"
            ]
          }
        }
      ],
      "source": [
        "# constructor B\n",
        "Parameter(value, transformation)  = Parameter(value, transformation, \"notex\", \"no description\")"
      ],
      "id": "cell-116"
    },
    {
      "cell_type": "code",
      "execution_count": null,
      "metadata": {},
      "outputs": [],
      "source": [
        "Parameter(0.1, \"\\beta\")"
      ],
      "id": "cell-117"
    },
    {
      "cell_type": "code",
      "execution_count": 15,
      "metadata": {},
      "outputs": [],
      "source": [
        "# here Julia doesn't know whether it should call constructor A or constructor B"
      ],
      "id": "cell-118"
    },
    {
      "cell_type": "code",
      "execution_count": 55,
      "metadata": {},
      "outputs": [
        {
          "output_type": "display_data",
          "metadata": {},
          "data": {
            "text/plain": [
              "Parameter"
            ]
          }
        }
      ],
      "source": [
        "# solution : give different signatures to the various constructors\n",
        "Parameter(value, tex::String)               = Parameter(value, identity, tex, \"no description\")\n",
        "Parameter(value, transformation::Function)  = Parameter(value, transformation, \"notex\", \"no description\")"
      ],
      "id": "cell-119"
    },
    {
      "cell_type": "code",
      "execution_count": 53,
      "metadata": {},
      "outputs": [
        {
          "output_type": "display_data",
          "metadata": {},
          "data": {
            "text/plain": [
              "Parameter(0.5, identity, \"\\beta\", \"no description\")"
            ]
          }
        }
      ],
      "source": [
        "Parameter(0.5, \"\\beta\")"
      ],
      "id": "cell-120"
    },
    {
      "cell_type": "code",
      "execution_count": 54,
      "metadata": {},
      "outputs": [
        {
          "output_type": "display_data",
          "metadata": {},
          "data": {
            "text/plain": [
              "Parameter(0.9, var\"#14#15\"(), \"notex\", \"no description\")"
            ]
          }
        }
      ],
      "source": [
        "Parameter(0.9, u->u^2)"
      ],
      "id": "cell-121"
    },
    {
      "cell_type": "code",
      "execution_count": 56,
      "metadata": {},
      "outputs": [
        {
          "output_type": "display_data",
          "metadata": {},
          "data": {
            "text/html": [
              "# 6 methods for type constructor:<ul><li> Parameter(value::<b>Float64</b>, transformation::<b>Function</b>, tex_label::<b>String</b>, description::<b>String</b>) in Main at In[35]:3</li> <li> Parameter(value, tex::<b>String</b>) in Main at In[55]:2</li> <li> Parameter(value, transformation::<b>Function</b>) in Main at In[55]:3</li> <li> Parameter(value, transformation) in Main at In[50]:2</li> <li> Parameter(value, transformation, tex) in Main at In[45]:1</li> <li> Parameter(value, transformation, tex_label, description) in Main at In[35]:3</li> </ul>"
            ]
          }
        }
      ],
      "source": [
        "methods( Parameter )"
      ],
      "id": "cell-122"
    },
    {
      "cell_type": "code",
      "execution_count": 8,
      "metadata": {},
      "outputs": [
        {
          "output_type": "display_data",
          "metadata": {},
          "data": {
            "text/plain": [
              "Parameter(0.5, identity, \"\\alpha\", \"No description available\")"
            ]
          }
        }
      ],
      "source": [
        "# Alternative constructors end with an appeal to the default\n",
        "# constructor\n",
        "function Parameter(value::Float64, tex_label::String)\n",
        "    transformation = identity\n",
        "    description = \"No description available\"\n",
        "    return Parameter(value, transformation, tex_label, description)\n",
        "end\n",
        "\n",
        "α = Parameter(0.5, \"\\alpha\")"
      ],
      "id": "cell-123"
    },
    {
      "cell_type": "markdown",
      "metadata": {},
      "source": [
        "Now the function `Parameter` has two different `methods` with different\n",
        "signatures:"
      ],
      "id": "469e5f54-9cda-4f94-930b-c2174846fc8b"
    },
    {
      "cell_type": "code",
      "execution_count": 9,
      "metadata": {},
      "outputs": [
        {
          "output_type": "display_data",
          "metadata": {},
          "data": {
            "text/html": [
              "# 4 methods for type constructor:<ul><li> Parameter(value::<b>Float64</b>, transformation::<b>Function</b>, tex_label::<b>String</b>, description::<b>String</b>) in Main at In[1]:3</li> <li> Parameter(value::<b>Float64</b>, tex_label::<b>String</b>) in Main at In[8]:4</li> <li> Parameter(value, transformation, tex) in Main at In[5]:1</li> <li> Parameter(value, transformation, tex_label, description) in Main at In[1]:3</li> </ul>"
            ]
          }
        }
      ],
      "source": [
        "methods(Parameter)"
      ],
      "id": "cell-125"
    },
    {
      "cell_type": "code",
      "execution_count": null,
      "metadata": {},
      "outputs": [],
      "source": [
        "# Find the fields of an instance of a composite type\n",
        "fieldnames(α)"
      ],
      "id": "cell-126"
    },
    {
      "cell_type": "code",
      "execution_count": null,
      "metadata": {},
      "outputs": [],
      "source": [
        "α.tex_label"
      ],
      "id": "cell-127"
    },
    {
      "cell_type": "code",
      "execution_count": null,
      "metadata": {},
      "outputs": [],
      "source": [
        "# Access a particular field using .\n",
        "α.value"
      ],
      "id": "cell-128"
    },
    {
      "cell_type": "code",
      "execution_count": null,
      "metadata": {},
      "outputs": [],
      "source": [
        "# Fields are modifiable and can be assigned to, like \n",
        "# ordinary variables\n",
        "α.value = 0.75"
      ],
      "id": "cell-129"
    },
    {
      "cell_type": "markdown",
      "metadata": {},
      "source": [
        "### Mutable vs non mutable types\n",
        "\n",
        "by default structures in Julia are non-mutable"
      ],
      "id": "344fbb1c-a66e-4452-9746-ffa46bb7ade7"
    },
    {
      "cell_type": "code",
      "execution_count": 77,
      "metadata": {},
      "outputs": [],
      "source": [
        "β.value = 0.6"
      ],
      "id": "cell-132"
    },
    {
      "cell_type": "code",
      "execution_count": 13,
      "metadata": {},
      "outputs": [],
      "source": [
        "mutable struct Params\n",
        "    x:: Float64\n",
        "    y:: Float64\n",
        "end"
      ],
      "id": "cell-133"
    },
    {
      "cell_type": "code",
      "execution_count": 14,
      "metadata": {},
      "outputs": [
        {
          "output_type": "display_data",
          "metadata": {},
          "data": {
            "text/plain": [
              "Params(0.4, 0.2)"
            ]
          }
        }
      ],
      "source": [
        "pos = Params(0.4, 0.2)"
      ],
      "id": "cell-134"
    },
    {
      "cell_type": "code",
      "execution_count": 15,
      "metadata": {},
      "outputs": [
        {
          "output_type": "display_data",
          "metadata": {},
          "data": {
            "text/plain": [
              "0.5"
            ]
          }
        }
      ],
      "source": [
        "pos.x = 0.5"
      ],
      "id": "cell-135"
    },
    {
      "cell_type": "markdown",
      "metadata": {},
      "source": [
        "### Parameterized Types\n",
        "\n",
        "**Parameterized types** are data types that are defined to handle values\n",
        "identically regardless of the type of those values.\n",
        "\n",
        "Arrays are a familiar example. An `Array{T,1}` is a one-dimensional\n",
        "array filled with objects of any type `T` (e.g. `Float64`, `String`)."
      ],
      "id": "f12069f2-5705-4614-8e7a-babb4b2f0847"
    },
    {
      "cell_type": "code",
      "execution_count": 29,
      "metadata": {},
      "outputs": [],
      "source": [
        "# Defining a parametric point\n",
        "struct Duple{T} # T is a parameter to the type Duple\n",
        "    x::T\n",
        "    y::T\n",
        "end"
      ],
      "id": "cell-137"
    },
    {
      "cell_type": "code",
      "execution_count": 30,
      "metadata": {},
      "outputs": [],
      "source": [
        "Duple(3, -1.0)"
      ],
      "id": "cell-138"
    },
    {
      "cell_type": "code",
      "execution_count": 31,
      "metadata": {},
      "outputs": [
        {
          "output_type": "display_data",
          "metadata": {},
          "data": {
            "text/plain": [
              "Duple{Int64}"
            ]
          }
        }
      ],
      "source": [
        "Duple{Int64}"
      ],
      "id": "cell-139"
    },
    {
      "cell_type": "markdown",
      "metadata": {},
      "source": [
        "This single declaration defines an unlimited number of new types:\n",
        "`Duple{String}`, `Duple{Float64}`, etc. are all immediately usable."
      ],
      "id": "65ebda4a-1d37-46a3-af48-04d4eaf12a3a"
    },
    {
      "cell_type": "code",
      "execution_count": 40,
      "metadata": {},
      "outputs": [
        {
          "output_type": "display_data",
          "metadata": {},
          "data": {
            "text/plain": [
              "Truple3{Float64, Int64}((3.4, 5), 4)"
            ]
          }
        }
      ],
      "source": [
        "Duple(1.3, 3.4)"
      ],
      "id": "cell-141"
    },
    {
      "cell_type": "code",
      "execution_count": null,
      "metadata": {},
      "outputs": [],
      "source": [
        "Duple(\"Hello\", \"Your\")"
      ],
      "id": "cell-142"
    },
    {
      "cell_type": "markdown",
      "metadata": {},
      "source": [
        "We can also restrict the type parameter `T` using the type hierarchy."
      ],
      "id": "023e059f-5df9-41b3-b6be-b8e424c2a326"
    },
    {
      "cell_type": "code",
      "execution_count": 41,
      "metadata": {},
      "outputs": [
        {
          "output_type": "display_data",
          "metadata": {},
          "data": {
            "text/plain": [
              "String"
            ]
          }
        }
      ],
      "source": [
        "typeof(\"S\")"
      ],
      "id": "cell-144"
    },
    {
      "cell_type": "code",
      "execution_count": 37,
      "metadata": {},
      "outputs": [
        {
          "output_type": "display_data",
          "metadata": {},
          "data": {
            "text/plain": [
              "false"
            ]
          }
        }
      ],
      "source": [
        "typeof(\"S\") <: Number"
      ],
      "id": "cell-145"
    },
    {
      "cell_type": "code",
      "execution_count": 46,
      "metadata": {},
      "outputs": [
        {
          "output_type": "display_data",
          "metadata": {},
          "data": {
            "text/plain": [
              "true"
            ]
          }
        }
      ],
      "source": [
        "typeof(4.6) <: Float64"
      ],
      "id": "cell-146"
    },
    {
      "cell_type": "code",
      "execution_count": 47,
      "metadata": {},
      "outputs": [
        {
          "output_type": "display_data",
          "metadata": {},
          "data": {
            "text/plain": [
              "true"
            ]
          }
        }
      ],
      "source": [
        "Float64 <: Number"
      ],
      "id": "cell-147"
    },
    {
      "cell_type": "code",
      "execution_count": 48,
      "metadata": {},
      "outputs": [],
      "source": [
        "# T can be any subtype of Number, but nothing else\n",
        "struct PlanarCoordinate{T<:Number}\n",
        "    x::T\n",
        "    y::T\n",
        "end"
      ],
      "id": "cell-148"
    },
    {
      "cell_type": "code",
      "execution_count": 49,
      "metadata": {},
      "outputs": [],
      "source": [
        "PlanarCoordinate(\"4th Ave\", \"14th St\")"
      ],
      "id": "cell-149"
    },
    {
      "cell_type": "code",
      "execution_count": 50,
      "metadata": {},
      "outputs": [
        {
          "output_type": "display_data",
          "metadata": {},
          "data": {
            "text/plain": [
              "PlanarCoordinate{Rational{Int64}}(2//3, 8//9)"
            ]
          }
        }
      ],
      "source": [
        "PlanarCoordinate(2//3, 8//9)"
      ],
      "id": "cell-150"
    },
    {
      "cell_type": "code",
      "execution_count": null,
      "metadata": {},
      "outputs": [],
      "source": [
        "Number:"
      ],
      "id": "cell-151"
    },
    {
      "cell_type": "code",
      "execution_count": 53,
      "metadata": {},
      "outputs": [
        {
          "output_type": "display_data",
          "metadata": {},
          "data": {
            "text/plain": [
              "409//80"
            ]
          }
        }
      ],
      "source": [
        "349//80 + 3//4 # rational "
      ],
      "id": "cell-152"
    },
    {
      "cell_type": "code",
      "execution_count": 65,
      "metadata": {},
      "outputs": [
        {
          "output_type": "display_data",
          "metadata": {},
          "data": {
            "text/plain": [
              "Int64"
            ]
          }
        }
      ],
      "source": [
        "typeof( factorial(20) )"
      ],
      "id": "cell-153"
    },
    {
      "cell_type": "code",
      "execution_count": 67,
      "metadata": {},
      "outputs": [
        {
          "output_type": "display_data",
          "metadata": {},
          "data": {
            "text/plain": [
              "BigInt"
            ]
          }
        }
      ],
      "source": [
        "typeof( big(20) )"
      ],
      "id": "cell-154"
    },
    {
      "cell_type": "markdown",
      "metadata": {},
      "source": [
        "### Why Use Types?\n",
        "\n",
        "You can write all your code without thinking about types at all. If you\n",
        "do this, however, you’ll be missing out on some of the biggest benefits\n",
        "of using Julia.\n",
        "\n",
        "If you understand types, you can:\n",
        "\n",
        "-   Write faster code\n",
        "-   Write expressive, clear, and well-structured programs (keep this in\n",
        "    mind when we talk about functions)\n",
        "-   Reason more clearly about how your code works\n",
        "\n",
        "Even if you only use built-in functions and types, your code still takes\n",
        "advantage of Julia’s type system. That’s why it’s important to\n",
        "understand what types are and how to use them."
      ],
      "id": "bd71165d-9846-4b39-822b-b8349d15d8ad"
    },
    {
      "cell_type": "code",
      "execution_count": 90,
      "metadata": {},
      "outputs": [
        {
          "output_type": "display_data",
          "metadata": {},
          "data": {
            "text/plain": [
              "-25554.110202663698"
            ]
          }
        }
      ],
      "source": [
        "# Example: writing type-stable functions\n",
        "function sumofsins_unstable(n::Integer)  \n",
        "    sum = 0:: Integer\n",
        "    for i in 1:n  \n",
        "        sum += sin(3.4)  \n",
        "    end  \n",
        "    return sum \n",
        "end  \n",
        "\n",
        "function sumofsins_stable(n::Integer)  \n",
        "    sum = 0.0 :: Float64\n",
        "    for i in 1:n  \n",
        "        sum += sin(3.4)  \n",
        "    end  \n",
        "    return sum \n",
        "end\n",
        "\n",
        "# Compile and run\n",
        "sumofsins_unstable(Int(1e5))\n",
        "sumofsins_stable(Int(1e5))"
      ],
      "id": "cell-157"
    },
    {
      "cell_type": "code",
      "execution_count": 91,
      "metadata": {},
      "outputs": [
        {
          "output_type": "stream",
          "name": "stdout",
          "text": [
            "  0.000268 seconds"
          ]
        },
        {
          "output_type": "display_data",
          "metadata": {},
          "data": {
            "text/plain": [
              "-25554.110202663698"
            ]
          }
        }
      ],
      "source": [
        "@time sumofsins_unstable(Int(1e5))"
      ],
      "id": "cell-158"
    },
    {
      "cell_type": "code",
      "execution_count": 92,
      "metadata": {},
      "outputs": [
        {
          "output_type": "stream",
          "name": "stdout",
          "text": [
            "  0.000130 seconds"
          ]
        },
        {
          "output_type": "display_data",
          "metadata": {},
          "data": {
            "text/plain": [
              "-25554.110202663698"
            ]
          }
        }
      ],
      "source": [
        "@time sumofsins_stable(Int(1e5))"
      ],
      "id": "cell-159"
    },
    {
      "cell_type": "markdown",
      "metadata": {},
      "source": [
        "In `sumofsins_stable`, the compiler is guaranteed that `sum` is of type\n",
        "`Float64` throughout; therefore, it saves time and memory. On the other\n",
        "hand, in `sumofsins_unstable`, the compiler must check the type of `sum`\n",
        "at each iteration of the loop. Let’s look at the LLVM [intermediate\n",
        "representation](http://www.johnmyleswhite.com/notebook/2013/12/06/writing-type-stable-code-in-julia/).\n",
        "\n",
        "### Multiple Dispatch\n",
        "\n",
        "So far we have defined functions over argument lists of any type.\n",
        "Methods allow us to define functions “piecewise”. For any set of input\n",
        "arguments, we can define a **method**, a definition of one possible\n",
        "behavior for a function."
      ],
      "id": "ab2cdfb6-c329-4722-a61b-3011d1510b1a"
    },
    {
      "cell_type": "code",
      "execution_count": 51,
      "metadata": {},
      "outputs": [
        {
          "output_type": "display_data",
          "metadata": {},
          "data": {
            "text/plain": [
              "print_type (generic function with 1 method)"
            ]
          }
        }
      ],
      "source": [
        "# Define one method of the function print_type\n",
        "function print_type(x::Number)\n",
        "    println(\"$x is a number\")\n",
        "end"
      ],
      "id": "cell-163"
    },
    {
      "cell_type": "code",
      "execution_count": 53,
      "metadata": {},
      "outputs": [
        {
          "output_type": "display_data",
          "metadata": {},
          "data": {
            "text/plain": [
              "print_type (generic function with 2 methods)"
            ]
          }
        }
      ],
      "source": [
        "# Define another method\n",
        "function print_type(x::String)\n",
        "    println(\"$x is a string\")\n",
        "end"
      ],
      "id": "cell-164"
    },
    {
      "cell_type": "code",
      "execution_count": 54,
      "metadata": {},
      "outputs": [
        {
          "output_type": "display_data",
          "metadata": {},
          "data": {
            "text/plain": [
              "print_type (generic function with 3 methods)"
            ]
          }
        }
      ],
      "source": [
        "# Define yet another method\n",
        "function print_type(x::Number, y::Number)\n",
        "    println(\"$x and $y are both numbers\")\n",
        "end"
      ],
      "id": "cell-165"
    },
    {
      "cell_type": "code",
      "execution_count": 55,
      "metadata": {},
      "outputs": [
        {
          "output_type": "display_data",
          "metadata": {},
          "data": {
            "text/html": [
              "# 3 methods for generic function <b>print_type</b>:<ul><li> print_type(x::<b>String</b>) in Main at In[53]:3</li> <li> print_type(x::<b>Number</b>) in Main at In[51]:3</li> <li> print_type(x::<b>Number</b>, y::<b>Number</b>) in Main at In[54]:3</li> </ul>"
            ]
          }
        }
      ],
      "source": [
        "# See all methods for a given function\n",
        "methods(print_type)"
      ],
      "id": "cell-166"
    },
    {
      "cell_type": "markdown",
      "metadata": {},
      "source": [
        "Julia uses **multiple dispatch** to decide which **method** of a\n",
        "**function** to execute when a function is applied. In particular, Julia\n",
        "compares the types of *all* arguments to the signatures of the\n",
        "function’s methods in order to choose the applicable one, not just the\n",
        "first (hence “multiple”)."
      ],
      "id": "999ab973-22bc-4a6d-b2c4-b6db581cf779"
    },
    {
      "cell_type": "code",
      "execution_count": 56,
      "metadata": {},
      "outputs": [
        {
          "output_type": "stream",
          "name": "stdout",
          "text": [
            "5 is a number"
          ]
        }
      ],
      "source": [
        "print_type(5)"
      ],
      "id": "cell-168"
    },
    {
      "cell_type": "code",
      "execution_count": 57,
      "metadata": {},
      "outputs": [
        {
          "output_type": "stream",
          "name": "stdout",
          "text": [
            "foo is a string"
          ]
        }
      ],
      "source": [
        "print_type(\"foo\")"
      ],
      "id": "cell-169"
    },
    {
      "cell_type": "code",
      "execution_count": 58,
      "metadata": {},
      "outputs": [],
      "source": [
        "print_type([1, 2, 3])"
      ],
      "id": "cell-170"
    },
    {
      "cell_type": "markdown",
      "metadata": {},
      "source": [
        "#### Other types of functions\n",
        "\n",
        "Julia supports a short function definition for one-liners"
      ],
      "id": "8006a108-b2e2-4690-b5d8-0819f821f4b2"
    },
    {
      "cell_type": "code",
      "execution_count": null,
      "metadata": {},
      "outputs": [],
      "source": [
        "f(x::Float64) = x^2.0\n",
        "f(x::Int64) = x^3"
      ],
      "id": "cell-172"
    },
    {
      "cell_type": "markdown",
      "metadata": {},
      "source": [
        "As well as a special syntax for anonymous functions"
      ],
      "id": "a6b445ce-6dcd-41cb-bd97-4166a94d1770"
    },
    {
      "cell_type": "code",
      "execution_count": null,
      "metadata": {},
      "outputs": [],
      "source": [
        "u->u^2"
      ],
      "id": "cell-174"
    },
    {
      "cell_type": "code",
      "execution_count": null,
      "metadata": {},
      "outputs": [],
      "source": [
        "map(u->u^2, [1,2,3,4])"
      ],
      "id": "cell-175"
    },
    {
      "cell_type": "markdown",
      "metadata": {},
      "source": [
        "### Keyword arguments and optional arguments"
      ],
      "id": "e034c185-b00d-4e70-9afd-615e2d5b710e"
    },
    {
      "cell_type": "code",
      "execution_count": 59,
      "metadata": {},
      "outputs": [],
      "source": [
        "f(a,b,c=true; algo=\"newton\")"
      ],
      "id": "cell-177"
    },
    {
      "cell_type": "markdown",
      "metadata": {},
      "source": [
        "### Writing Julian Code\n",
        "\n",
        "As we’ve seen, you can use Julia just like you use MATLAB and get faster\n",
        "code. However, to write faster and *better* code, attempt to write in a\n",
        "“Julian” manner:\n",
        "\n",
        "-   Define composite types as logically needed\n",
        "-   Write type-stable functions for best performance\n",
        "-   Take advantage of multiple dispatch to write code that looks like\n",
        "    math\n",
        "-   Add methods to existing functions\n",
        "\n",
        "### Just-in-Time Compilation\n",
        "\n",
        "How is Julia so fast? Julia is just-in-time (JIT) compiled, which means\n",
        "(according to [this StackExchange\n",
        "answer](http://stackoverflow.com/questions/95635/what-does-a-just-in-time-jit-compiler-do)):\n",
        "\n",
        "> A JIT compiler runs after the program has started and compiles the\n",
        "> code (usually bytecode or some kind of VM instructions) on the fly (or\n",
        "> just-in-time, as it’s called) into a form that’s usually faster,\n",
        "> typically the host CPU’s native instruction set. *A JIT has access to\n",
        "> dynamic runtime information whereas a standard compiler doesn’t and\n",
        "> can make better optimizations like inlining functions that are used\n",
        "> frequently.*\n",
        "\n",
        "> This is in contrast to a traditional compiler that compiles all the\n",
        "> code to machine language before the program is first run.\n",
        "\n",
        "In particular, Julia uses type information at runtime to optimize how\n",
        "your code is compiled. This is why writing type-stable code makes such a\n",
        "difference in speed!\n",
        "\n",
        "## Additional Exercises\n",
        "\n",
        "Taken from QuantEcon’s [Julia\n",
        "Essentials](https://lectures.quantecon.org/jl/julia_essentials.html) and\n",
        "[Vectors, Arrays, and\n",
        "Matrices](https://lectures.quantecon.org/jl/julia_arrays.html) lectures.\n",
        "\n",
        "1.  Consider the polynomial $$p(x) = \\sum_{i=0}^n a_0 x^0$$ Using\n",
        "    `enumerate`, write a function `p` such that `p(x, coeff)` computes\n",
        "    the value of the polynomial with coefficients `coeff` evaluated at\n",
        "    `x`.\n",
        "\n",
        "2.  Write a function `solve_discrete_lyapunov` that solves the discrete\n",
        "    Lyapunov equation $$S = ASA' + \\Sigma \\Sigma'$$ using the iterative\n",
        "    procedure $$S_0 = \\Sigma \\Sigma'$$\n",
        "    $$S_{t+1} = A S_t A' + \\Sigma \\Sigma'$$ taking in as arguments the\n",
        "    $n \\times n$ matrix $A$, the $n \\times k$ matrix $\\Sigma$, and a\n",
        "    number of iterations."
      ],
      "id": "a0c00ed1-c988-4515-a754-87ab9f4882c6"
    }
  ],
  "nbformat": 4,
  "nbformat_minor": 5,
  "metadata": {
    "kernelspec": {
      "name": "julia-1.11",
      "display_name": "Julia 1.11.3",
      "language": "julia"
    },
    "language_info": {
      "name": "julia",
      "file_extension": ".jl",
      "mimetype": "application/julia",
      "version": "1.11.3"
    }
  }
}