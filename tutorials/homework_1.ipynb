{
 "cells": [
  {
   "cell_type": "markdown",
   "metadata": {},
   "source": [
    "# Homework 1\n",
    "\n",
    "- Last name: \n",
    "- First Name:\n",
    "\n",
    "Homework must be sent to `pwinant@escp.eu` by email before May 5th.\n",
    "\n",
    "You are welcome to install any library, take any initiative you deem appropriate and encourage to help each other (but not copy/paste code)."
   ]
  },
  {
   "cell_type": "markdown",
   "metadata": {},
   "source": [
    "---\n",
    "## Exercise 1: Linear Regression\n",
    "\n",
    "1. __For $N=100$, compute a sample $(x_i, y_i)_{i=[1:N]}$ satisfying $$y_i=0.4+2.5 x_i + \\epsilon_i$$ where $x_i$ uniformly distributed between 0 and 1 and $\\epsilon_i$ is drawn from a normal distribution with standard deviation 0.5.__"
   ]
  },
  {
   "cell_type": "code",
   "execution_count": null,
   "metadata": {},
   "outputs": [],
   "source": []
  },
  {
   "cell_type": "markdown",
   "metadata": {},
   "source": [
    "2. __Define the model $f(x;a,b)=a+b x$. Find the parameters $a$ and $b$ which minimize the objective $\\xi(a,b)=\\sum_i (f(x_i;a,b)-y_i)^2$ by using a numerical optimization algorithm (not the formula for the regression). Plot.__\n",
    "\n",
    "<mark>Hint</mark>: you can write your own gradient descent algorithm or use an optimization library)."
   ]
  },
  {
   "cell_type": "code",
   "execution_count": null,
   "metadata": {},
   "outputs": [],
   "source": []
  },
  {
   "cell_type": "markdown",
   "metadata": {},
   "source": [
    "---\n",
    "\n",
    "## Exercise 2: constrained optimization\n",
    "\n",
    "Consider the function $f(x,y) = 1-(x-0.5)^2 -(y-0.3)^2$.\n",
    "\n",
    "__Use Optim.jl to minimize $f$ without constraint. Check you understand diagnostic information returned by the optimizer.__"
   ]
  },
  {
   "cell_type": "code",
   "execution_count": 2,
   "metadata": {},
   "outputs": [
    {
     "data": {
      "text/plain": [
       "f (generic function with 1 method)"
      ]
     },
     "execution_count": 2,
     "metadata": {},
     "output_type": "execute_result"
    }
   ],
   "source": [
    "f(x,y) = 1-(x-0.5)^2 - (y-0.3)^2"
   ]
  },
  {
   "cell_type": "code",
   "execution_count": 5,
   "metadata": {},
   "outputs": [
    {
     "data": {
      "text/plain": [
       "f (generic function with 2 methods)"
      ]
     },
     "execution_count": 5,
     "metadata": {},
     "output_type": "execute_result"
    }
   ],
   "source": [
    "f(v) = f(v...)   # or f(v) = f(v[1], v[2])"
   ]
  },
  {
   "cell_type": "code",
   "execution_count": 6,
   "metadata": {},
   "outputs": [
    {
     "data": {
      "text/plain": [
       "0.71"
      ]
     },
     "execution_count": 6,
     "metadata": {},
     "output_type": "execute_result"
    }
   ],
   "source": [
    "f([0., 0.1])"
   ]
  },
  {
   "cell_type": "code",
   "execution_count": 7,
   "metadata": {},
   "outputs": [
    {
     "name": "stderr",
     "output_type": "stream",
     "text": [
      "┌ Info: Precompiling Optim [429524aa-4258-5aef-a3af-852621145aeb]\n",
      "└ @ Base loading.jl:1423\n"
     ]
    }
   ],
   "source": [
    "using Optim"
   ]
  },
  {
   "cell_type": "code",
   "execution_count": 8,
   "metadata": {},
   "outputs": [
    {
     "data": {
      "text/plain": [
       "Results of Optimization Algorithm\n",
       " * Algorithm: Nelder-Mead\n",
       " * Starting Point: [0.0,0.0]\n",
       " * Maximizer: [0.5000172833186103,0.2999408484491455]\n",
       " * Maximum: 1.000000e+00\n",
       " * Iterations: 34\n",
       " * Convergence: true\n",
       "   *  √(Σ(yᵢ-ȳ)²)/n < 1.0e-08: true\n",
       "   * Reached Maximum Number of Iterations: false\n",
       " * Objective Calls: 66"
      ]
     },
     "execution_count": 8,
     "metadata": {},
     "output_type": "execute_result"
    }
   ],
   "source": [
    "maximize(f, [0.0, 0.0])   # minimize( u->-f(u) )"
   ]
  },
  {
   "cell_type": "markdown",
   "metadata": {},
   "source": [
    "__Now, consider the constraint $x<0.3$ and maximize $f$ under this new constraint.__"
   ]
  },
  {
   "cell_type": "code",
   "execution_count": 13,
   "metadata": {},
   "outputs": [
    {
     "data": {
      "text/plain": [
       "2-element Vector{Float64}:\n",
       " 0.0\n",
       " 0.0"
      ]
     },
     "execution_count": 13,
     "metadata": {},
     "output_type": "execute_result"
    }
   ],
   "source": [
    "x0 = [0.0, 0.0]"
   ]
  },
  {
   "cell_type": "code",
   "execution_count": 15,
   "metadata": {},
   "outputs": [
    {
     "data": {
      "text/plain": [
       " * Status: success\n",
       "\n",
       " * Candidate solution\n",
       "    Final objective value:     -9.600000e-01\n",
       "\n",
       " * Found with\n",
       "    Algorithm:     Fminbox with L-BFGS\n",
       "\n",
       " * Convergence measures\n",
       "    |x - x'|               = 1.20e-06 ≰ 0.0e+00\n",
       "    |x - x'|/|x'|          = 2.83e-06 ≰ 0.0e+00\n",
       "    |f(x) - f(x')|         = 0.00e+00 ≤ 0.0e+00\n",
       "    |f(x) - f(x')|/|f(x')| = 0.00e+00 ≤ 0.0e+00\n",
       "    |g(x)|                 = 1.20e-09 ≤ 1.0e-08\n",
       "\n",
       " * Work counters\n",
       "    Seconds run:   0  (vs limit Inf)\n",
       "    Iterations:    3\n",
       "    f(x) calls:    56\n",
       "    ∇f(x) calls:   56\n"
      ]
     },
     "execution_count": 15,
     "metadata": {},
     "output_type": "execute_result"
    }
   ],
   "source": [
    "sol = optimize(u->-f(u), [-Inf, -Inf], [0.3, Inf], x0)"
   ]
  },
  {
   "cell_type": "code",
   "execution_count": 21,
   "metadata": {},
   "outputs": [
    {
     "data": {
      "text/plain": [
       "true"
      ]
     },
     "execution_count": 21,
     "metadata": {},
     "output_type": "execute_result"
    }
   ],
   "source": [
    "sol.g_converged"
   ]
  },
  {
   "cell_type": "markdown",
   "metadata": {},
   "source": [
    "__Reformulate the problem as a root finding with lagrangians. Write the complementarity conditions.__"
   ]
  },
  {
   "cell_type": "code",
   "execution_count": 26,
   "metadata": {},
   "outputs": [
    {
     "data": {
      "text/plain": [
       "fun (generic function with 2 methods)"
      ]
     },
     "execution_count": 26,
     "metadata": {},
     "output_type": "execute_result"
    }
   ],
   "source": []
  },
  {
   "cell_type": "markdown",
   "metadata": {},
   "source": [
    "__Solve using NLsolve.jl__"
   ]
  },
  {
   "cell_type": "code",
   "execution_count": 1,
   "metadata": {},
   "outputs": [
    {
     "name": "stderr",
     "output_type": "stream",
     "text": [
      "┌ Info: Precompiling NLsolve [2774e3e8-f4cf-5e23-947b-6d7e65073b56]\n",
      "└ @ Base loading.jl:1423\n"
     ]
    }
   ],
   "source": [
    "using NLsolve"
   ]
  },
  {
   "cell_type": "code",
   "execution_count": 34,
   "metadata": {},
   "outputs": [
    {
     "data": {
      "text/plain": [
       "fun (generic function with 2 methods)"
      ]
     },
     "execution_count": 34,
     "metadata": {},
     "output_type": "execute_result"
    }
   ],
   "source": [
    "fun(x, y, λ) = [\n",
    "    - 2x + 1 - λ,\n",
    "    -2y + 0.6,\n",
    "    0.3 - x    #   \\lambda \\geq 0\n",
    "]\n",
    "fun(v) = fun(v...)"
   ]
  },
  {
   "cell_type": "code",
   "execution_count": 35,
   "metadata": {},
   "outputs": [
    {
     "data": {
      "text/plain": [
       "fun! (generic function with 1 method)"
      ]
     },
     "execution_count": 35,
     "metadata": {},
     "output_type": "execute_result"
    }
   ],
   "source": [
    "function fun!(F, v) \n",
    "    F[:] = fun(v)\n",
    "end"
   ]
  },
  {
   "cell_type": "code",
   "execution_count": 37,
   "metadata": {},
   "outputs": [
    {
     "data": {
      "text/plain": [
       "3-element Vector{Float64}:\n",
       " Inf\n",
       " Inf\n",
       " Inf"
      ]
     },
     "execution_count": 37,
     "metadata": {},
     "output_type": "execute_result"
    }
   ],
   "source": [
    "# lower boundas:\n",
    "a = [-Inf, -Inf, 0]\n",
    "b = [Inf, Inf , Inf]"
   ]
  },
  {
   "cell_type": "code",
   "execution_count": 40,
   "metadata": {},
   "outputs": [
    {
     "data": {
      "text/plain": [
       "Results of Nonlinear Solver Algorithm\n",
       " * Algorithm: Trust-region with dogleg and autoscaling\n",
       " * Starting Point: [0.0, 0.0, 0.0]\n",
       " * Zero: [0.30000000016911516, 0.3, 0.3999999996617697]\n",
       " * Inf-norm of residuals: 0.000000\n",
       " * Iterations: 5\n",
       " * Convergence: true\n",
       "   * |x - x'| < 0.0e+00: false\n",
       "   * |f(x)| < 1.0e-08: true\n",
       " * Function Calls (f): 6\n",
       " * Jacobian Calls (df/dx): 6"
      ]
     },
     "execution_count": 40,
     "metadata": {},
     "output_type": "execute_result"
    }
   ],
   "source": [
    "sol = mcpsolve(fun!, a, b, [0.0, 0.0, 0.0])"
   ]
  },
  {
   "cell_type": "code",
   "execution_count": 41,
   "metadata": {},
   "outputs": [
    {
     "data": {
      "text/plain": [
       "true"
      ]
     },
     "execution_count": 41,
     "metadata": {},
     "output_type": "execute_result"
    }
   ],
   "source": [
    "converged(sol)"
   ]
  },
  {
   "cell_type": "code",
   "execution_count": 42,
   "metadata": {},
   "outputs": [
    {
     "data": {
      "text/plain": [
       "3-element Vector{Float64}:\n",
       " 0.30000000016911516\n",
       " 0.3\n",
       " 0.3999999996617697"
      ]
     },
     "execution_count": 42,
     "metadata": {},
     "output_type": "execute_result"
    }
   ],
   "source": [
    "sol.zero\n"
   ]
  },
  {
   "cell_type": "markdown",
   "metadata": {},
   "source": [
    "---\n",
    "\n",
    "## Exercise 3: Learning simple decision rules in the Consumption-Savings model"
   ]
  },
  {
   "cell_type": "markdown",
   "metadata": {},
   "source": [
    "𝑟This exercise is inspired from *Individual learning about consumption* by Todd Allen and Chris Carroll [link](https://www.econstor.eu/bitstream/10419/72016/1/328292125.pdf).\n",
    "\n",
    "\n",
    "We consider the following consumption saving problem. An agent receives random income $y_t = \\exp(\\epsilon_t)$ where $\\epsilon_t\\sim \\mathcal{N}(\\sigma)$ ($\\sigma$ is the standard deviation.)\n",
    "\n",
    "Consumer starts the period with available income $w_t$. The law of motion for available income is:\n",
    "\n",
    "$$w_t = \\exp(\\epsilon_t) + (w_{t-1}-c_{t-1}) r$$\n",
    "\n",
    "where consumption $c_t \\in ]0,w_t]$ is chosen in each period in order to maximize:\n",
    "\n",
    "$$E_t \\sum_{t=0}^T \\beta^t U(c_t)$$\n",
    "\n",
    "given initial available income $w_0$.\n",
    "\n",
    "In the questions below, we will use the following calibration:\n",
    "- $\\beta = 0.9$\n",
    "- $\\sigma = 0.1$\n",
    "- $T=100$\n",
    "- $U(x) = \\frac{x^{1-\\gamma}}{1-\\gamma}$ with $\\gamma=2$\n",
    "- $w_0 = 1.1$ (alternatively, consider values 0.5 and 1)\n",
    "\n",
    "The theoretical solution to this problem is a concave function $\\varphi$ such that $\\varphi(x)\\in ]0,x]$ and $\\forall t,  c_t=\\varphi(w_t)$. Qualitatively, agents accumulate savings, up to a certain point (a buffer stock), beyond which wealth is not increasing any more (in expectation).\n",
    "\n",
    "Carroll and Allen have noticed that the true solution can be approximated very well by a simple rule:\n",
    "\n",
    "$\\psi(x) = \\min(x, \\theta_0 + \\theta_1 (x - \\theta_0) )$\n",
    "\n",
    "The main question they ask in the aforementioned paper is whether it is realistic that agents would learn good values of $\\theta_0$ and $\\theta_1$ by observing past experiences.\n",
    "\n",
    "We would like to examine this result."
   ]
  },
  {
   "cell_type": "markdown",
   "metadata": {},
   "source": [
    "### Lifetime reward"
   ]
  },
  {
   "cell_type": "markdown",
   "metadata": {},
   "source": [
    "__Define a NamedTuple to hold the parameter values__"
   ]
  },
  {
   "cell_type": "code",
   "execution_count": 155,
   "metadata": {},
   "outputs": [
    {
     "data": {
      "text/plain": [
       "(β = 0.9, σ = 0.1, γ = 2.0, T = 100, w0 = 1.1, r = 1.01)"
      ]
     },
     "execution_count": 155,
     "metadata": {},
     "output_type": "execute_result"
    }
   ],
   "source": [
    "p = (\n",
    "   β  = 0.9,\n",
    "    σ = 0.1,\n",
    "    γ = 2.0,\n",
    "    T = 100,\n",
    "    w0 = 1.1,\n",
    "    r = 1.01\n",
    ")"
   ]
  },
  {
   "cell_type": "markdown",
   "metadata": {},
   "source": [
    "__Define simple rule fonction `consumption(w::Number, θ_0::Number, θ_1::Number, p::NamedTuple)`\n",
    "which compute consumption using a simple rule. What is the meaning of $\\theta_0$ and $\\theta_1$? Make a plot in the space $w,c$, including consumption rule and the line where $w_{t+1} = w_t$.__\n",
    "\n",
    "(remark for later: `Number` type is compatible with ForwardDiff.jl 😉)"
   ]
  },
  {
   "cell_type": "code",
   "execution_count": 46,
   "metadata": {},
   "outputs": [
    {
     "data": {
      "text/plain": [
       "consumption (generic function with 1 method)"
      ]
     },
     "execution_count": 46,
     "metadata": {},
     "output_type": "execute_result"
    }
   ],
   "source": [
    "consumption(w, θ_0, θ_1, p) = min(w, θ_0 + θ_1*(w-θ_0))"
   ]
  },
  {
   "cell_type": "code",
   "execution_count": 47,
   "metadata": {},
   "outputs": [],
   "source": [
    "using Plots"
   ]
  },
  {
   "cell_type": "code",
   "execution_count": 62,
   "metadata": {},
   "outputs": [
    {
     "data": {
      "text/plain": [
       "2-element Vector{Float64}:\n",
       " 0.9\n",
       " 0.08"
      ]
     },
     "execution_count": 62,
     "metadata": {},
     "output_type": "execute_result"
    }
   ],
   "source": [
    "θ = [0.9, 0.08]"
   ]
  },
  {
   "cell_type": "code",
   "execution_count": 63,
   "metadata": {},
   "outputs": [],
   "source": [
    "wvec = range(0,5; length=1000);\n",
    "cvec = [consumption(w, θ[1], θ[2], p ) for w in wvec];"
   ]
  },
  {
   "cell_type": "code",
   "execution_count": 64,
   "metadata": {},
   "outputs": [
    {
     "data": {
      "image/svg+xml": [
       "<?xml version=\"1.0\" encoding=\"utf-8\"?>\n",
       "<svg xmlns=\"http://www.w3.org/2000/svg\" xmlns:xlink=\"http://www.w3.org/1999/xlink\" width=\"600\" height=\"400\" viewBox=\"0 0 2400 1600\">\n",
       "<defs>\n",
       "  <clipPath id=\"clip240\">\n",
       "    <rect x=\"0\" y=\"0\" width=\"2400\" height=\"1600\"/>\n",
       "  </clipPath>\n",
       "</defs>\n",
       "<path clip-path=\"url(#clip240)\" d=\"\n",
       "M0 1600 L2400 1600 L2400 0 L0 0  Z\n",
       "  \" fill=\"#ffffff\" fill-rule=\"evenodd\" fill-opacity=\"1\"/>\n",
       "<defs>\n",
       "  <clipPath id=\"clip241\">\n",
       "    <rect x=\"480\" y=\"0\" width=\"1681\" height=\"1600\"/>\n",
       "  </clipPath>\n",
       "</defs>\n",
       "<path clip-path=\"url(#clip240)\" d=\"\n",
       "M156.112 1486.45 L2352.76 1486.45 L2352.76 47.2441 L156.112 47.2441  Z\n",
       "  \" fill=\"#ffffff\" fill-rule=\"evenodd\" fill-opacity=\"1\"/>\n",
       "<defs>\n",
       "  <clipPath id=\"clip242\">\n",
       "    <rect x=\"156\" y=\"47\" width=\"2198\" height=\"1440\"/>\n",
       "  </clipPath>\n",
       "</defs>\n",
       "<polyline clip-path=\"url(#clip242)\" style=\"stroke:#000000; stroke-linecap:butt; stroke-linejoin:round; stroke-width:2; stroke-opacity:0.1; fill:none\" points=\"\n",
       "  218.281,1486.45 218.281,47.2441 \n",
       "  \"/>\n",
       "<polyline clip-path=\"url(#clip242)\" style=\"stroke:#000000; stroke-linecap:butt; stroke-linejoin:round; stroke-width:2; stroke-opacity:0.1; fill:none\" points=\"\n",
       "  632.742,1486.45 632.742,47.2441 \n",
       "  \"/>\n",
       "<polyline clip-path=\"url(#clip242)\" style=\"stroke:#000000; stroke-linecap:butt; stroke-linejoin:round; stroke-width:2; stroke-opacity:0.1; fill:none\" points=\"\n",
       "  1047.2,1486.45 1047.2,47.2441 \n",
       "  \"/>\n",
       "<polyline clip-path=\"url(#clip242)\" style=\"stroke:#000000; stroke-linecap:butt; stroke-linejoin:round; stroke-width:2; stroke-opacity:0.1; fill:none\" points=\"\n",
       "  1461.66,1486.45 1461.66,47.2441 \n",
       "  \"/>\n",
       "<polyline clip-path=\"url(#clip242)\" style=\"stroke:#000000; stroke-linecap:butt; stroke-linejoin:round; stroke-width:2; stroke-opacity:0.1; fill:none\" points=\"\n",
       "  1876.13,1486.45 1876.13,47.2441 \n",
       "  \"/>\n",
       "<polyline clip-path=\"url(#clip242)\" style=\"stroke:#000000; stroke-linecap:butt; stroke-linejoin:round; stroke-width:2; stroke-opacity:0.1; fill:none\" points=\"\n",
       "  2290.59,1486.45 2290.59,47.2441 \n",
       "  \"/>\n",
       "<polyline clip-path=\"url(#clip240)\" style=\"stroke:#000000; stroke-linecap:butt; stroke-linejoin:round; stroke-width:4; stroke-opacity:1; fill:none\" points=\"\n",
       "  156.112,1486.45 2352.76,1486.45 \n",
       "  \"/>\n",
       "<polyline clip-path=\"url(#clip240)\" style=\"stroke:#000000; stroke-linecap:butt; stroke-linejoin:round; stroke-width:4; stroke-opacity:1; fill:none\" points=\"\n",
       "  218.281,1486.45 218.281,1467.55 \n",
       "  \"/>\n",
       "<polyline clip-path=\"url(#clip240)\" style=\"stroke:#000000; stroke-linecap:butt; stroke-linejoin:round; stroke-width:4; stroke-opacity:1; fill:none\" points=\"\n",
       "  632.742,1486.45 632.742,1467.55 \n",
       "  \"/>\n",
       "<polyline clip-path=\"url(#clip240)\" style=\"stroke:#000000; stroke-linecap:butt; stroke-linejoin:round; stroke-width:4; stroke-opacity:1; fill:none\" points=\"\n",
       "  1047.2,1486.45 1047.2,1467.55 \n",
       "  \"/>\n",
       "<polyline clip-path=\"url(#clip240)\" style=\"stroke:#000000; stroke-linecap:butt; stroke-linejoin:round; stroke-width:4; stroke-opacity:1; fill:none\" points=\"\n",
       "  1461.66,1486.45 1461.66,1467.55 \n",
       "  \"/>\n",
       "<polyline clip-path=\"url(#clip240)\" style=\"stroke:#000000; stroke-linecap:butt; stroke-linejoin:round; stroke-width:4; stroke-opacity:1; fill:none\" points=\"\n",
       "  1876.13,1486.45 1876.13,1467.55 \n",
       "  \"/>\n",
       "<polyline clip-path=\"url(#clip240)\" style=\"stroke:#000000; stroke-linecap:butt; stroke-linejoin:round; stroke-width:4; stroke-opacity:1; fill:none\" points=\"\n",
       "  2290.59,1486.45 2290.59,1467.55 \n",
       "  \"/>\n",
       "<path clip-path=\"url(#clip240)\" d=\"M218.281 1517.37 Q214.67 1517.37 212.842 1520.93 Q211.036 1524.47 211.036 1531.6 Q211.036 1538.71 212.842 1542.27 Q214.67 1545.82 218.281 1545.82 Q221.916 1545.82 223.721 1542.27 Q225.55 1538.71 225.55 1531.6 Q225.55 1524.47 223.721 1520.93 Q221.916 1517.37 218.281 1517.37 M218.281 1513.66 Q224.091 1513.66 227.147 1518.27 Q230.226 1522.85 230.226 1531.6 Q230.226 1540.33 227.147 1544.94 Q224.091 1549.52 218.281 1549.52 Q212.471 1549.52 209.392 1544.94 Q206.337 1540.33 206.337 1531.6 Q206.337 1522.85 209.392 1518.27 Q212.471 1513.66 218.281 1513.66 Z\" fill=\"#000000\" fill-rule=\"evenodd\" fill-opacity=\"1\" /><path clip-path=\"url(#clip240)\" d=\"M623.124 1544.91 L630.763 1544.91 L630.763 1518.55 L622.453 1520.21 L622.453 1515.95 L630.717 1514.29 L635.393 1514.29 L635.393 1544.91 L643.032 1544.91 L643.032 1548.85 L623.124 1548.85 L623.124 1544.91 Z\" fill=\"#000000\" fill-rule=\"evenodd\" fill-opacity=\"1\" /><path clip-path=\"url(#clip240)\" d=\"M1041.86 1544.91 L1058.18 1544.91 L1058.18 1548.85 L1036.23 1548.85 L1036.23 1544.91 Q1038.89 1542.16 1043.48 1537.53 Q1048.08 1532.88 1049.26 1531.53 Q1051.51 1529.01 1052.39 1527.27 Q1053.29 1525.51 1053.29 1523.82 Q1053.29 1521.07 1051.35 1519.33 Q1049.43 1517.6 1046.32 1517.6 Q1044.12 1517.6 1041.67 1518.36 Q1039.24 1519.13 1036.46 1520.68 L1036.46 1515.95 Q1039.29 1514.82 1041.74 1514.24 Q1044.19 1513.66 1046.23 1513.66 Q1051.6 1513.66 1054.8 1516.35 Q1057.99 1519.03 1057.99 1523.52 Q1057.99 1525.65 1057.18 1527.57 Q1056.39 1529.47 1054.29 1532.07 Q1053.71 1532.74 1050.61 1535.95 Q1047.5 1539.15 1041.86 1544.91 Z\" fill=\"#000000\" fill-rule=\"evenodd\" fill-opacity=\"1\" /><path clip-path=\"url(#clip240)\" d=\"M1465.91 1530.21 Q1469.27 1530.93 1471.14 1533.2 Q1473.04 1535.47 1473.04 1538.8 Q1473.04 1543.92 1469.52 1546.72 Q1466 1549.52 1459.52 1549.52 Q1457.35 1549.52 1455.03 1549.08 Q1452.74 1548.66 1450.29 1547.81 L1450.29 1543.29 Q1452.23 1544.43 1454.55 1545.01 Q1456.86 1545.58 1459.38 1545.58 Q1463.78 1545.58 1466.07 1543.85 Q1468.39 1542.11 1468.39 1538.8 Q1468.39 1535.75 1466.24 1534.03 Q1464.11 1532.3 1460.29 1532.3 L1456.26 1532.3 L1456.26 1528.45 L1460.47 1528.45 Q1463.92 1528.45 1465.75 1527.09 Q1467.58 1525.7 1467.58 1523.11 Q1467.58 1520.45 1465.68 1519.03 Q1463.81 1517.6 1460.29 1517.6 Q1458.37 1517.6 1456.17 1518.01 Q1453.97 1518.43 1451.33 1519.31 L1451.33 1515.14 Q1453.99 1514.4 1456.31 1514.03 Q1458.64 1513.66 1460.7 1513.66 Q1466.03 1513.66 1469.13 1516.09 Q1472.23 1518.5 1472.23 1522.62 Q1472.23 1525.49 1470.59 1527.48 Q1468.94 1529.45 1465.91 1530.21 Z\" fill=\"#000000\" fill-rule=\"evenodd\" fill-opacity=\"1\" /><path clip-path=\"url(#clip240)\" d=\"M1879.13 1518.36 L1867.33 1536.81 L1879.13 1536.81 L1879.13 1518.36 M1877.91 1514.29 L1883.79 1514.29 L1883.79 1536.81 L1888.72 1536.81 L1888.72 1540.7 L1883.79 1540.7 L1883.79 1548.85 L1879.13 1548.85 L1879.13 1540.7 L1863.53 1540.7 L1863.53 1536.19 L1877.91 1514.29 Z\" fill=\"#000000\" fill-rule=\"evenodd\" fill-opacity=\"1\" /><path clip-path=\"url(#clip240)\" d=\"M2280.86 1514.29 L2299.22 1514.29 L2299.22 1518.22 L2285.15 1518.22 L2285.15 1526.7 Q2286.17 1526.35 2287.18 1526.19 Q2288.2 1526 2289.22 1526 Q2295.01 1526 2298.39 1529.17 Q2301.77 1532.34 2301.77 1537.76 Q2301.77 1543.34 2298.3 1546.44 Q2294.82 1549.52 2288.5 1549.52 Q2286.33 1549.52 2284.06 1549.15 Q2281.81 1548.78 2279.41 1548.04 L2279.41 1543.34 Q2281.49 1544.47 2283.71 1545.03 Q2285.93 1545.58 2288.41 1545.58 Q2292.42 1545.58 2294.75 1543.48 Q2297.09 1541.37 2297.09 1537.76 Q2297.09 1534.15 2294.75 1532.04 Q2292.42 1529.94 2288.41 1529.94 Q2286.54 1529.94 2284.66 1530.35 Q2282.81 1530.77 2280.86 1531.65 L2280.86 1514.29 Z\" fill=\"#000000\" fill-rule=\"evenodd\" fill-opacity=\"1\" /><polyline clip-path=\"url(#clip242)\" style=\"stroke:#000000; stroke-linecap:butt; stroke-linejoin:round; stroke-width:2; stroke-opacity:0.1; fill:none\" points=\"\n",
       "  156.112,1486.45 2352.76,1486.45 \n",
       "  \"/>\n",
       "<polyline clip-path=\"url(#clip242)\" style=\"stroke:#000000; stroke-linecap:butt; stroke-linejoin:round; stroke-width:2; stroke-opacity:0.1; fill:none\" points=\"\n",
       "  156.112,1126.65 2352.76,1126.65 \n",
       "  \"/>\n",
       "<polyline clip-path=\"url(#clip242)\" style=\"stroke:#000000; stroke-linecap:butt; stroke-linejoin:round; stroke-width:2; stroke-opacity:0.1; fill:none\" points=\"\n",
       "  156.112,766.846 2352.76,766.846 \n",
       "  \"/>\n",
       "<polyline clip-path=\"url(#clip242)\" style=\"stroke:#000000; stroke-linecap:butt; stroke-linejoin:round; stroke-width:2; stroke-opacity:0.1; fill:none\" points=\"\n",
       "  156.112,407.045 2352.76,407.045 \n",
       "  \"/>\n",
       "<polyline clip-path=\"url(#clip242)\" style=\"stroke:#000000; stroke-linecap:butt; stroke-linejoin:round; stroke-width:2; stroke-opacity:0.1; fill:none\" points=\"\n",
       "  156.112,47.2441 2352.76,47.2441 \n",
       "  \"/>\n",
       "<polyline clip-path=\"url(#clip240)\" style=\"stroke:#000000; stroke-linecap:butt; stroke-linejoin:round; stroke-width:4; stroke-opacity:1; fill:none\" points=\"\n",
       "  156.112,1486.45 156.112,47.2441 \n",
       "  \"/>\n",
       "<polyline clip-path=\"url(#clip240)\" style=\"stroke:#000000; stroke-linecap:butt; stroke-linejoin:round; stroke-width:4; stroke-opacity:1; fill:none\" points=\"\n",
       "  156.112,1486.45 175.01,1486.45 \n",
       "  \"/>\n",
       "<polyline clip-path=\"url(#clip240)\" style=\"stroke:#000000; stroke-linecap:butt; stroke-linejoin:round; stroke-width:4; stroke-opacity:1; fill:none\" points=\"\n",
       "  156.112,1126.65 175.01,1126.65 \n",
       "  \"/>\n",
       "<polyline clip-path=\"url(#clip240)\" style=\"stroke:#000000; stroke-linecap:butt; stroke-linejoin:round; stroke-width:4; stroke-opacity:1; fill:none\" points=\"\n",
       "  156.112,766.846 175.01,766.846 \n",
       "  \"/>\n",
       "<polyline clip-path=\"url(#clip240)\" style=\"stroke:#000000; stroke-linecap:butt; stroke-linejoin:round; stroke-width:4; stroke-opacity:1; fill:none\" points=\"\n",
       "  156.112,407.045 175.01,407.045 \n",
       "  \"/>\n",
       "<polyline clip-path=\"url(#clip240)\" style=\"stroke:#000000; stroke-linecap:butt; stroke-linejoin:round; stroke-width:4; stroke-opacity:1; fill:none\" points=\"\n",
       "  156.112,47.2441 175.01,47.2441 \n",
       "  \"/>\n",
       "<path clip-path=\"url(#clip240)\" d=\"M62.9365 1472.25 Q59.3254 1472.25 57.4967 1475.81 Q55.6912 1479.35 55.6912 1486.48 Q55.6912 1493.59 57.4967 1497.15 Q59.3254 1500.7 62.9365 1500.7 Q66.5707 1500.7 68.3763 1497.15 Q70.205 1493.59 70.205 1486.48 Q70.205 1479.35 68.3763 1475.81 Q66.5707 1472.25 62.9365 1472.25 M62.9365 1468.54 Q68.7467 1468.54 71.8022 1473.15 Q74.8809 1477.73 74.8809 1486.48 Q74.8809 1495.21 71.8022 1499.82 Q68.7467 1504.4 62.9365 1504.4 Q57.1264 1504.4 54.0477 1499.82 Q50.9921 1495.21 50.9921 1486.48 Q50.9921 1477.73 54.0477 1473.15 Q57.1264 1468.54 62.9365 1468.54 Z\" fill=\"#000000\" fill-rule=\"evenodd\" fill-opacity=\"1\" /><path clip-path=\"url(#clip240)\" d=\"M83.0984 1497.85 L87.9827 1497.85 L87.9827 1503.73 L83.0984 1503.73 L83.0984 1497.85 Z\" fill=\"#000000\" fill-rule=\"evenodd\" fill-opacity=\"1\" /><path clip-path=\"url(#clip240)\" d=\"M108.168 1472.25 Q104.557 1472.25 102.728 1475.81 Q100.922 1479.35 100.922 1486.48 Q100.922 1493.59 102.728 1497.15 Q104.557 1500.7 108.168 1500.7 Q111.802 1500.7 113.608 1497.15 Q115.436 1493.59 115.436 1486.48 Q115.436 1479.35 113.608 1475.81 Q111.802 1472.25 108.168 1472.25 M108.168 1468.54 Q113.978 1468.54 117.033 1473.15 Q120.112 1477.73 120.112 1486.48 Q120.112 1495.21 117.033 1499.82 Q113.978 1504.4 108.168 1504.4 Q102.358 1504.4 99.2789 1499.82 Q96.2234 1495.21 96.2234 1486.48 Q96.2234 1477.73 99.2789 1473.15 Q102.358 1468.54 108.168 1468.54 Z\" fill=\"#000000\" fill-rule=\"evenodd\" fill-opacity=\"1\" /><path clip-path=\"url(#clip240)\" d=\"M63.9319 1112.45 Q60.3208 1112.45 58.4921 1116.01 Q56.6865 1119.55 56.6865 1126.68 Q56.6865 1133.79 58.4921 1137.35 Q60.3208 1140.89 63.9319 1140.89 Q67.5661 1140.89 69.3717 1137.35 Q71.2004 1133.79 71.2004 1126.68 Q71.2004 1119.55 69.3717 1116.01 Q67.5661 1112.45 63.9319 1112.45 M63.9319 1108.74 Q69.742 1108.74 72.7976 1113.35 Q75.8763 1117.93 75.8763 1126.68 Q75.8763 1135.41 72.7976 1140.01 Q69.742 1144.6 63.9319 1144.6 Q58.1217 1144.6 55.043 1140.01 Q51.9875 1135.41 51.9875 1126.68 Q51.9875 1117.93 55.043 1113.35 Q58.1217 1108.74 63.9319 1108.74 Z\" fill=\"#000000\" fill-rule=\"evenodd\" fill-opacity=\"1\" /><path clip-path=\"url(#clip240)\" d=\"M84.0938 1138.05 L88.978 1138.05 L88.978 1143.93 L84.0938 1143.93 L84.0938 1138.05 Z\" fill=\"#000000\" fill-rule=\"evenodd\" fill-opacity=\"1\" /><path clip-path=\"url(#clip240)\" d=\"M99.2095 1109.37 L117.566 1109.37 L117.566 1113.3 L103.492 1113.3 L103.492 1121.77 Q104.51 1121.43 105.529 1121.27 Q106.547 1121.08 107.566 1121.08 Q113.353 1121.08 116.733 1124.25 Q120.112 1127.42 120.112 1132.84 Q120.112 1138.42 116.64 1141.52 Q113.168 1144.6 106.848 1144.6 Q104.672 1144.6 102.404 1144.23 Q100.159 1143.86 97.7511 1143.12 L97.7511 1138.42 Q99.8345 1139.55 102.057 1140.11 Q104.279 1140.66 106.756 1140.66 Q110.76 1140.66 113.098 1138.56 Q115.436 1136.45 115.436 1132.84 Q115.436 1129.23 113.098 1127.12 Q110.76 1125.01 106.756 1125.01 Q104.881 1125.01 103.006 1125.43 Q101.154 1125.85 99.2095 1126.73 L99.2095 1109.37 Z\" fill=\"#000000\" fill-rule=\"evenodd\" fill-opacity=\"1\" /><path clip-path=\"url(#clip240)\" d=\"M53.7467 780.191 L61.3856 780.191 L61.3856 753.825 L53.0754 755.492 L53.0754 751.233 L61.3393 749.566 L66.0152 749.566 L66.0152 780.191 L73.654 780.191 L73.654 784.126 L53.7467 784.126 L53.7467 780.191 Z\" fill=\"#000000\" fill-rule=\"evenodd\" fill-opacity=\"1\" /><path clip-path=\"url(#clip240)\" d=\"M83.0984 778.246 L87.9827 778.246 L87.9827 784.126 L83.0984 784.126 L83.0984 778.246 Z\" fill=\"#000000\" fill-rule=\"evenodd\" fill-opacity=\"1\" /><path clip-path=\"url(#clip240)\" d=\"M108.168 752.645 Q104.557 752.645 102.728 756.209 Q100.922 759.751 100.922 766.881 Q100.922 773.987 102.728 777.552 Q104.557 781.094 108.168 781.094 Q111.802 781.094 113.608 777.552 Q115.436 773.987 115.436 766.881 Q115.436 759.751 113.608 756.209 Q111.802 752.645 108.168 752.645 M108.168 748.941 Q113.978 748.941 117.033 753.547 Q120.112 758.131 120.112 766.881 Q120.112 775.608 117.033 780.214 Q113.978 784.797 108.168 784.797 Q102.358 784.797 99.2789 780.214 Q96.2234 775.608 96.2234 766.881 Q96.2234 758.131 99.2789 753.547 Q102.358 748.941 108.168 748.941 Z\" fill=\"#000000\" fill-rule=\"evenodd\" fill-opacity=\"1\" /><path clip-path=\"url(#clip240)\" d=\"M54.7421 420.39 L62.381 420.39 L62.381 394.024 L54.0708 395.691 L54.0708 391.432 L62.3347 389.765 L67.0106 389.765 L67.0106 420.39 L74.6494 420.39 L74.6494 424.325 L54.7421 424.325 L54.7421 420.39 Z\" fill=\"#000000\" fill-rule=\"evenodd\" fill-opacity=\"1\" /><path clip-path=\"url(#clip240)\" d=\"M84.0938 418.445 L88.978 418.445 L88.978 424.325 L84.0938 424.325 L84.0938 418.445 Z\" fill=\"#000000\" fill-rule=\"evenodd\" fill-opacity=\"1\" /><path clip-path=\"url(#clip240)\" d=\"M99.2095 389.765 L117.566 389.765 L117.566 393.7 L103.492 393.7 L103.492 402.172 Q104.51 401.825 105.529 401.663 Q106.547 401.478 107.566 401.478 Q113.353 401.478 116.733 404.649 Q120.112 407.82 120.112 413.237 Q120.112 418.816 116.64 421.918 Q113.168 424.996 106.848 424.996 Q104.672 424.996 102.404 424.626 Q100.159 424.256 97.7511 423.515 L97.7511 418.816 Q99.8345 419.95 102.057 420.506 Q104.279 421.061 106.756 421.061 Q110.76 421.061 113.098 418.955 Q115.436 416.848 115.436 413.237 Q115.436 409.626 113.098 407.52 Q110.76 405.413 106.756 405.413 Q104.881 405.413 103.006 405.83 Q101.154 406.246 99.2095 407.126 L99.2095 389.765 Z\" fill=\"#000000\" fill-rule=\"evenodd\" fill-opacity=\"1\" /><path clip-path=\"url(#clip240)\" d=\"M56.9643 60.5889 L73.2837 60.5889 L73.2837 64.5241 L51.3393 64.5241 L51.3393 60.5889 Q54.0014 57.8343 58.5847 53.2047 Q63.1911 48.552 64.3717 47.2094 Q66.617 44.6862 67.4967 42.9501 Q68.3994 41.1909 68.3994 39.5011 Q68.3994 36.7465 66.455 35.0104 Q64.5337 33.2743 61.4319 33.2743 Q59.2328 33.2743 56.7791 34.0381 Q54.3486 34.802 51.5708 36.3529 L51.5708 31.6308 Q54.3949 30.4965 56.8486 29.9178 Q59.3023 29.3391 61.3393 29.3391 Q66.7096 29.3391 69.9041 32.0243 Q73.0985 34.7094 73.0985 39.2002 Q73.0985 41.3298 72.2883 43.2511 Q71.5013 45.1492 69.3948 47.7418 Q68.8161 48.4131 65.7143 51.6306 Q62.6124 54.8251 56.9643 60.5889 Z\" fill=\"#000000\" fill-rule=\"evenodd\" fill-opacity=\"1\" /><path clip-path=\"url(#clip240)\" d=\"M83.0984 58.6445 L87.9827 58.6445 L87.9827 64.5241 L83.0984 64.5241 L83.0984 58.6445 Z\" fill=\"#000000\" fill-rule=\"evenodd\" fill-opacity=\"1\" /><path clip-path=\"url(#clip240)\" d=\"M108.168 33.0428 Q104.557 33.0428 102.728 36.6076 Q100.922 40.1492 100.922 47.2788 Q100.922 54.3853 102.728 57.9501 Q104.557 61.4917 108.168 61.4917 Q111.802 61.4917 113.608 57.9501 Q115.436 54.3853 115.436 47.2788 Q115.436 40.1492 113.608 36.6076 Q111.802 33.0428 108.168 33.0428 M108.168 29.3391 Q113.978 29.3391 117.033 33.9456 Q120.112 38.5289 120.112 47.2788 Q120.112 56.0056 117.033 60.6121 Q113.978 65.1954 108.168 65.1954 Q102.358 65.1954 99.2789 60.6121 Q96.2234 56.0056 96.2234 47.2788 Q96.2234 38.5289 99.2789 33.9456 Q102.358 29.3391 108.168 29.3391 Z\" fill=\"#000000\" fill-rule=\"evenodd\" fill-opacity=\"1\" /><polyline clip-path=\"url(#clip242)\" style=\"stroke:#009af9; stroke-linecap:butt; stroke-linejoin:round; stroke-width:4; stroke-opacity:1; fill:none\" points=\"\n",
       "  218.281,1486.45 220.356,1482.85 222.43,1479.24 224.504,1475.64 226.579,1472.04 228.653,1468.44 230.728,1464.84 232.802,1461.24 234.876,1457.63 236.951,1454.03 \n",
       "  239.025,1450.43 241.099,1446.83 243.174,1443.23 245.248,1439.63 247.323,1436.03 249.397,1432.42 251.471,1428.82 253.546,1425.22 255.62,1421.62 257.695,1418.02 \n",
       "  259.769,1414.42 261.843,1410.81 263.918,1407.21 265.992,1403.61 268.066,1400.01 270.141,1396.41 272.215,1392.81 274.29,1389.2 276.364,1385.6 278.438,1382 \n",
       "  280.513,1378.4 282.587,1374.8 284.661,1371.2 286.736,1367.59 288.81,1363.99 290.885,1360.39 292.959,1356.79 295.033,1353.19 297.108,1349.59 299.182,1345.99 \n",
       "  301.256,1342.38 303.331,1338.78 305.405,1335.18 307.48,1331.58 309.554,1327.98 311.628,1324.38 313.703,1320.77 315.777,1317.17 317.852,1313.57 319.926,1309.97 \n",
       "  322,1306.37 324.075,1302.77 326.149,1299.16 328.223,1295.56 330.298,1291.96 332.372,1288.36 334.447,1284.76 336.521,1281.16 338.595,1277.55 340.67,1273.95 \n",
       "  342.744,1270.35 344.818,1266.75 346.893,1263.15 348.967,1259.55 351.042,1255.94 353.116,1252.34 355.19,1248.74 357.265,1245.14 359.339,1241.54 361.413,1237.94 \n",
       "  363.488,1234.34 365.562,1230.73 367.637,1227.13 369.711,1223.53 371.785,1219.93 373.86,1216.33 375.934,1212.73 378.009,1209.12 380.083,1205.52 382.157,1201.92 \n",
       "  384.232,1198.32 386.306,1194.72 388.38,1191.12 390.455,1187.51 392.529,1183.91 394.604,1180.31 396.678,1176.71 398.752,1173.11 400.827,1169.51 402.901,1165.9 \n",
       "  404.975,1162.3 407.05,1158.7 409.124,1155.1 411.199,1151.5 413.273,1147.9 415.347,1144.29 417.422,1140.69 419.496,1137.09 421.571,1133.49 423.645,1129.89 \n",
       "  425.719,1126.29 427.794,1122.69 429.868,1119.08 431.942,1115.48 434.017,1111.88 436.091,1108.28 438.166,1104.68 440.24,1101.08 442.314,1097.47 444.389,1093.87 \n",
       "  446.463,1090.27 448.537,1086.67 450.612,1083.07 452.686,1079.47 454.761,1075.86 456.835,1072.26 458.909,1068.66 460.984,1065.06 463.058,1061.46 465.132,1057.86 \n",
       "  467.207,1054.25 469.281,1050.65 471.356,1047.05 473.43,1043.45 475.504,1039.85 477.579,1036.25 479.653,1032.64 481.728,1029.04 483.802,1025.44 485.876,1021.84 \n",
       "  487.951,1018.24 490.025,1014.64 492.099,1011.04 494.174,1007.43 496.248,1003.83 498.323,1000.23 500.397,996.629 502.471,993.027 504.546,989.426 506.62,985.824 \n",
       "  508.694,982.222 510.769,978.621 512.843,975.019 514.918,971.417 516.992,967.816 519.066,964.214 521.141,960.613 523.215,957.011 525.29,953.409 527.364,949.808 \n",
       "  529.438,946.206 531.513,942.605 533.587,939.003 535.661,935.401 537.736,931.8 539.81,928.198 541.885,924.597 543.959,920.995 546.033,917.393 548.108,913.792 \n",
       "  550.182,910.19 552.256,906.588 554.331,902.987 556.405,899.385 558.48,895.784 560.554,892.182 562.628,888.58 564.703,884.979 566.777,881.377 568.851,877.776 \n",
       "  570.926,874.174 573,870.572 575.075,866.971 577.149,863.369 579.223,859.768 581.298,856.166 583.372,852.564 585.447,848.963 587.521,845.361 589.595,841.759 \n",
       "  591.67,838.158 593.744,834.556 595.818,830.955 597.893,827.353 599.967,823.751 602.042,820.15 604.116,816.548 606.19,812.947 608.265,809.345 610.339,805.743 \n",
       "  612.413,802.142 614.488,798.54 616.562,794.939 618.637,791.337 620.711,787.735 622.785,784.134 624.86,780.532 626.934,776.93 629.008,773.329 631.083,769.727 \n",
       "  633.157,766.126 635.232,762.524 637.306,758.922 639.38,755.321 641.455,751.719 643.529,748.118 645.604,744.516 647.678,740.914 649.752,737.313 651.827,733.711 \n",
       "  653.901,730.11 655.975,726.508 658.05,722.906 660.124,719.305 662.199,715.703 664.273,712.101 666.347,708.5 668.422,704.898 670.496,701.297 672.57,697.695 \n",
       "  674.645,694.093 676.719,690.492 678.794,686.89 680.868,683.289 682.942,679.687 685.017,676.085 687.091,672.484 689.166,668.882 691.24,665.281 693.314,661.679 \n",
       "  695.389,658.077 697.463,654.476 699.537,650.874 701.612,647.272 703.686,643.671 705.761,640.069 707.835,636.468 709.909,632.866 711.984,629.264 714.058,625.663 \n",
       "  716.132,622.061 718.207,618.46 720.281,614.858 722.356,611.256 724.43,607.655 726.504,604.053 728.579,600.452 730.653,596.85 732.727,593.248 734.802,589.647 \n",
       "  736.876,586.045 738.951,582.443 741.025,578.842 743.099,575.24 745.174,571.639 747.248,568.037 749.323,564.435 751.397,560.834 753.471,557.232 755.546,553.631 \n",
       "  757.62,550.029 759.694,546.427 761.769,542.826 763.843,539.224 765.918,535.623 767.992,532.021 770.066,528.419 772.141,524.818 774.215,521.216 776.289,517.614 \n",
       "  778.364,514.013 780.438,510.411 782.513,506.81 784.587,503.208 786.661,499.606 788.736,496.005 790.81,492.403 792.885,488.802 794.959,485.2 797.033,481.598 \n",
       "  799.108,477.997 801.182,474.395 803.256,470.794 805.331,467.192 807.405,463.59 809.48,459.989 811.554,456.387 813.628,452.785 815.703,449.184 817.777,445.582 \n",
       "  819.851,441.981 821.926,438.379 824,434.777 826.075,431.176 828.149,427.574 830.223,423.973 832.298,420.371 834.372,416.769 836.446,413.168 838.521,409.566 \n",
       "  840.595,405.965 842.67,402.363 844.744,398.761 846.818,395.16 848.893,391.558 850.967,387.957 853.042,384.355 855.116,380.753 857.19,377.152 859.265,373.55 \n",
       "  861.339,369.948 863.413,366.347 865.488,362.745 867.562,359.144 869.637,355.542 871.711,351.94 873.785,348.339 875.86,344.737 877.934,341.136 880.008,337.534 \n",
       "  882.083,333.932 884.157,330.331 886.232,326.729 888.306,323.128 890.38,319.526 892.455,315.924 894.529,312.323 896.603,308.721 898.678,305.119 900.752,301.518 \n",
       "  902.827,297.916 904.901,294.315 906.975,290.713 909.05,287.111 911.124,283.51 913.199,279.908 915.273,276.307 917.347,272.705 919.422,269.103 921.496,265.502 \n",
       "  923.57,261.9 925.645,258.299 927.719,254.697 929.794,251.095 931.868,247.494 933.942,243.892 936.017,240.29 938.091,236.689 940.165,233.087 942.24,229.486 \n",
       "  944.314,225.884 946.389,222.282 948.463,218.681 950.537,215.079 952.612,211.478 954.686,207.876 956.761,204.274 958.835,200.673 960.909,197.071 962.984,193.47 \n",
       "  965.058,189.868 967.132,186.266 969.207,182.665 971.281,179.063 973.356,175.461 975.43,171.86 977.504,168.258 979.579,164.657 981.653,161.055 983.727,157.453 \n",
       "  985.802,153.852 987.876,150.25 989.951,146.649 992.025,143.047 994.099,139.445 996.174,135.844 998.248,132.242 1000.32,128.641 1002.4,125.039 1004.47,121.437 \n",
       "  1006.55,117.836 1008.62,114.234 1010.69,110.632 1012.77,107.031 1014.84,103.429 1016.92,99.8276 1018.99,96.226 1021.07,92.6244 1023.14,89.0228 1025.22,85.4212 \n",
       "  1027.29,81.8196 1029.36,78.2179 1031.44,74.6163 1033.51,71.0147 1035.59,67.4131 1037.66,63.8115 1039.74,60.2099 1041.81,56.6083 1043.88,53.0067 1045.96,49.4051 \n",
       "  1048.03,45.8035 1050.11,42.2018 1052.18,38.6002 1054.26,34.9986 1056.33,31.397 1058.41,27.7954 1060.48,24.1938 1062.55,20.5922 1064.63,16.9906 1066.7,13.389 \n",
       "  1068.78,9.78734 1070.85,6.18573 1072.93,2.58412 1075,-1.01749 1077.07,-4.6191 1079.15,-8.22072 1081.22,-11.8223 1083.3,-15.4239 1085.37,-19.0255 1087.45,-22.6272 \n",
       "  1089.52,-26.2288 1091.6,-29.8304 1093.67,-33.432 1095.74,-37.0336 1097.82,-40.6352 1099.89,-44.2368 1101.97,-47.8384 1104.04,-51.44 1106.12,-55.0417 1108.19,-58.6433 \n",
       "  1110.26,-62.2449 1112.34,-65.8465 1114.41,-69.4481 1116.49,-73.0497 1118.56,-76.6513 1120.64,-80.2529 1122.71,-83.8545 1124.79,-87.4562 1126.86,-91.0578 1128.93,-94.6594 \n",
       "  1131.01,-98.261 1133.08,-101.863 1135.16,-105.464 1137.23,-109.066 1139.31,-112.667 1141.38,-116.269 1143.45,-119.871 1145.53,-123.472 1147.6,-127.074 1149.68,-130.675 \n",
       "  1151.75,-134.277 1153.83,-137.879 1155.9,-141.48 1157.98,-145.082 1160.05,-148.684 1162.12,-152.285 1164.2,-155.887 1166.27,-159.488 1168.35,-163.09 1170.42,-166.692 \n",
       "  1172.5,-170.293 1174.57,-173.895 1176.64,-177.496 1178.72,-181.098 1180.79,-184.7 1182.87,-188.301 1184.94,-191.903 1187.02,-195.504 1189.09,-199.106 1191.17,-202.708 \n",
       "  1193.24,-206.309 1195.31,-209.911 1197.39,-213.513 1199.46,-217.114 1201.54,-220.716 1203.61,-224.317 1205.69,-227.919 1207.76,-231.521 1209.83,-235.122 1211.91,-238.724 \n",
       "  1213.98,-242.325 1216.06,-245.927 1218.13,-249.529 1220.21,-253.13 1222.28,-256.732 1224.36,-260.333 1226.43,-263.935 1228.5,-267.537 1230.58,-271.138 1232.65,-274.74 \n",
       "  1234.73,-278.342 1236.8,-281.943 1238.88,-285.545 1240.95,-289.146 1243.02,-292.748 1245.1,-296.35 1247.17,-299.951 1249.25,-303.553 1251.32,-307.154 1253.4,-310.756 \n",
       "  1255.47,-314.358 1257.55,-317.959 1259.62,-321.561 1261.69,-325.162 1263.77,-328.764 1265.84,-332.366 1267.92,-335.967 1269.99,-339.569 1272.07,-343.171 1274.14,-346.772 \n",
       "  1276.22,-350.374 1278.29,-353.975 1280.36,-357.577 1282.44,-361.179 1284.51,-364.78 1286.59,-368.382 1288.66,-371.983 1290.74,-375.585 1292.81,-379.187 1294.88,-382.788 \n",
       "  1296.96,-386.39 1299.03,-389.991 1301.11,-393.593 1303.18,-397.195 1305.26,-400.796 1307.33,-404.398 1309.41,-408 1311.48,-411.601 1313.55,-415.203 1315.63,-418.804 \n",
       "  1317.7,-422.406 1319.78,-426.008 1321.85,-429.609 1323.93,-433.211 1326,-436.812 1328.07,-440.414 1330.15,-444.016 1332.22,-447.617 1334.3,-451.219 1336.37,-454.82 \n",
       "  1338.45,-458.422 1340.52,-462.024 1342.6,-465.625 1344.67,-469.227 1346.74,-472.829 1348.82,-476.43 1350.89,-480.032 1352.97,-483.633 1355.04,-487.235 1357.12,-490.837 \n",
       "  1359.19,-494.438 1361.26,-498.04 1363.34,-501.641 1365.41,-505.243 1367.49,-508.845 1369.56,-512.446 1371.64,-516.048 1373.71,-519.649 1375.79,-523.251 1377.86,-526.853 \n",
       "  1379.93,-530.454 1382.01,-534.056 1384.08,-537.658 1386.16,-541.259 1388.23,-544.861 1390.31,-548.462 1392.38,-552.064 1394.45,-555.666 1396.53,-559.267 1398.6,-562.869 \n",
       "  1400.68,-566.47 1402.75,-570.072 1404.83,-573.674 1406.9,-577.275 1408.98,-580.877 1411.05,-584.478 1413.12,-588.08 1415.2,-591.682 1417.27,-595.283 1419.35,-598.885 \n",
       "  1421.42,-602.487 1423.5,-606.088 1425.57,-609.69 1427.64,-613.291 1429.72,-616.893 1431.79,-620.495 1433.87,-624.096 1435.94,-627.698 1438.02,-631.299 1440.09,-634.901 \n",
       "  1442.17,-638.503 1444.24,-642.104 1446.31,-645.706 1448.39,-649.307 1450.46,-652.909 1452.54,-656.511 1454.61,-660.112 1456.69,-663.714 1458.76,-667.316 1460.83,-670.917 \n",
       "  1462.91,-674.519 1464.98,-678.12 1467.06,-681.722 1469.13,-685.324 1471.21,-688.925 1473.28,-692.527 1475.36,-696.128 1477.43,-699.73 1479.5,-703.332 1481.58,-706.933 \n",
       "  1483.65,-710.535 1485.73,-714.136 1487.8,-717.738 1489.88,-721.34 1491.95,-724.941 1494.02,-728.543 1496.1,-732.145 1498.17,-735.746 1500.25,-739.348 1502.32,-742.949 \n",
       "  1504.4,-746.551 1506.47,-750.153 1508.55,-753.754 1510.62,-757.356 1512.69,-760.957 1514.77,-764.559 1516.84,-768.161 1518.92,-771.762 1520.99,-775.364 1523.07,-778.965 \n",
       "  1525.14,-782.567 1527.21,-786.169 1529.29,-789.77 1531.36,-793.372 1533.44,-796.974 1535.51,-800.575 1537.59,-804.177 1539.66,-807.778 1541.74,-811.38 1543.81,-814.982 \n",
       "  1545.88,-818.583 1547.96,-822.185 1550.03,-825.786 1552.11,-829.388 1554.18,-832.99 1556.26,-836.591 1558.33,-840.193 1560.41,-843.794 1562.48,-847.396 1564.55,-850.998 \n",
       "  1566.63,-854.599 1568.7,-858.201 1570.78,-861.803 1572.85,-865.404 1574.93,-869.006 1577,-872.607 1579.07,-876.209 1581.15,-879.811 1583.22,-883.412 1585.3,-887.014 \n",
       "  1587.37,-890.615 1589.45,-894.217 1591.52,-897.819 1593.6,-901.42 1595.67,-905.022 1597.74,-908.623 1599.82,-912.225 1601.89,-915.827 1603.97,-919.428 1606.04,-923.03 \n",
       "  1608.12,-926.632 1610.19,-930.233 1612.26,-933.835 1614.34,-937.436 1616.41,-941.038 1618.49,-944.64 1620.56,-948.241 1622.64,-951.843 1624.71,-955.444 1626.79,-959.046 \n",
       "  1628.86,-962.648 1630.93,-966.249 1633.01,-969.851 1635.08,-973.452 1637.16,-977.054 1639.23,-980.656 1641.31,-984.257 1643.38,-987.859 1645.45,-991.461 1647.53,-995.062 \n",
       "  1649.6,-998.664 1651.68,-1002.27 1653.75,-1005.87 1655.83,-1009.47 1657.9,-1013.07 1659.98,-1016.67 1662.05,-1020.27 1664.12,-1023.88 1666.2,-1027.48 1668.27,-1031.08 \n",
       "  1670.35,-1034.68 1672.42,-1038.28 1674.5,-1041.88 1676.57,-1045.48 1678.64,-1049.09 1680.72,-1052.69 1682.79,-1056.29 1684.87,-1059.89 1686.94,-1063.49 1689.02,-1067.09 \n",
       "  1691.09,-1070.7 1693.17,-1074.3 1695.24,-1077.9 1697.31,-1081.5 1699.39,-1085.1 1701.46,-1088.7 1703.54,-1092.31 1705.61,-1095.91 1707.69,-1099.51 1709.76,-1103.11 \n",
       "  1711.83,-1106.71 1713.91,-1110.31 1715.98,-1113.92 1718.06,-1117.52 1720.13,-1121.12 1722.21,-1124.72 1724.28,-1128.32 1726.36,-1131.92 1728.43,-1135.52 1730.5,-1139.13 \n",
       "  1732.58,-1142.73 1734.65,-1146.33 1736.73,-1149.93 1738.8,-1153.53 1740.88,-1157.13 1742.95,-1160.74 1745.02,-1164.34 1747.1,-1167.94 1749.17,-1171.54 1751.25,-1175.14 \n",
       "  1753.32,-1178.74 1755.4,-1182.35 1757.47,-1185.95 1759.55,-1189.55 1761.62,-1193.15 1763.69,-1196.75 1765.77,-1200.35 1767.84,-1203.96 1769.92,-1207.56 1771.99,-1211.16 \n",
       "  1774.07,-1214.76 1776.14,-1218.36 1778.21,-1221.96 1780.29,-1225.57 1782.36,-1229.17 1784.44,-1232.77 1786.51,-1236.37 1788.59,-1239.97 1790.66,-1243.57 1792.74,-1247.17 \n",
       "  1794.81,-1250.78 1796.88,-1254.38 1798.96,-1257.98 1801.03,-1261.58 1803.11,-1265.18 1805.18,-1268.78 1807.26,-1272.39 1809.33,-1275.99 1811.41,-1279.59 1813.48,-1283.19 \n",
       "  1815.55,-1286.79 1817.63,-1290.39 1819.7,-1294 1821.78,-1297.6 1823.85,-1301.2 1825.93,-1304.8 1828,-1308.4 1830.07,-1312 1832.15,-1315.61 1834.22,-1319.21 \n",
       "  1836.3,-1322.81 1838.37,-1326.41 1840.45,-1330.01 1842.52,-1333.61 1844.6,-1337.22 1846.67,-1340.82 1848.74,-1344.42 1850.82,-1348.02 1852.89,-1351.62 1854.97,-1355.22 \n",
       "  1857.04,-1358.82 1859.12,-1362.43 1861.19,-1366.03 1863.26,-1369.63 1865.34,-1373.23 1867.41,-1376.83 1869.49,-1380.43 1871.56,-1384.04 1873.64,-1387.64 1875.71,-1391.24 \n",
       "  1877.79,-1394.84 1879.86,-1398.44 1881.93,-1402.04 1884.01,-1405.65 1886.08,-1409.25 1888.16,-1412.85 1890.23,-1416.45 1892.31,-1420.05 1894.38,-1423.65 1896.45,-1427.26 \n",
       "  1898.53,-1430.86 1900.6,-1434.46 1902.68,-1438.06 1904.75,-1441.66 1906.83,-1445.26 1908.9,-1448.87 1910.98,-1452.47 1913.05,-1456.07 1915.12,-1459.67 1917.2,-1463.27 \n",
       "  1919.27,-1466.87 1921.35,-1470.47 1923.42,-1474.08 1925.5,-1477.68 1927.57,-1481.28 1929.64,-1484.88 1931.72,-1488.48 1933.79,-1492.08 1935.87,-1495.69 1937.94,-1499.29 \n",
       "  1940.02,-1502.89 1942.09,-1506.49 1944.17,-1510.09 1946.24,-1513.69 1948.31,-1517.3 1950.39,-1520.9 1952.46,-1524.5 1954.54,-1528.1 1956.61,-1531.7 1958.69,-1535.3 \n",
       "  1960.76,-1538.91 1962.83,-1542.51 1964.91,-1546.11 1966.98,-1549.71 1969.06,-1553.31 1971.13,-1556.91 1973.21,-1560.52 1975.28,-1564.12 1977.36,-1567.72 1979.43,-1571.32 \n",
       "  1981.5,-1574.92 1983.58,-1578.52 1985.65,-1582.12 1987.73,-1585.73 1989.8,-1589.33 1991.88,-1592.93 1993.95,-1596.53 1996.02,-1600.13 1998.1,-1603.73 2000.17,-1607.34 \n",
       "  2002.25,-1610.94 2004.32,-1614.54 2006.4,-1618.14 2008.47,-1621.74 2010.55,-1625.34 2012.62,-1628.95 2014.69,-1632.55 2016.77,-1636.15 2018.84,-1639.75 2020.92,-1643.35 \n",
       "  2022.99,-1646.95 2025.07,-1650.56 2027.14,-1654.16 2029.21,-1657.76 2031.29,-1661.36 2033.36,-1664.96 2035.44,-1668.56 2037.51,-1672.17 2039.59,-1675.77 2041.66,-1679.37 \n",
       "  2043.74,-1682.97 2045.81,-1686.57 2047.88,-1690.17 2049.96,-1693.77 2052.03,-1697.38 2054.11,-1700.98 2056.18,-1704.58 2058.26,-1708.18 2060.33,-1711.78 2062.4,-1715.38 \n",
       "  2064.48,-1718.99 2066.55,-1722.59 2068.63,-1726.19 2070.7,-1729.79 2072.78,-1733.39 2074.85,-1736.99 2076.93,-1740.6 2079,-1744.2 2081.07,-1747.8 2083.15,-1751.4 \n",
       "  2085.22,-1755 2087.3,-1758.6 2089.37,-1762.21 2091.45,-1765.81 2093.52,-1769.41 2095.6,-1773.01 2097.67,-1776.61 2099.74,-1780.21 2101.82,-1783.81 2103.89,-1787.42 \n",
       "  2105.97,-1791.02 2108.04,-1794.62 2110.12,-1798.22 2112.19,-1801.82 2114.26,-1805.42 2116.34,-1809.03 2118.41,-1812.63 2120.49,-1816.23 2122.56,-1819.83 2124.64,-1823.43 \n",
       "  2126.71,-1827.03 2128.79,-1830.64 2130.86,-1834.24 2132.93,-1837.84 2135.01,-1841.44 2137.08,-1845.04 2139.16,-1848.64 2141.23,-1852.25 2143.31,-1855.85 2145.38,-1859.45 \n",
       "  2147.45,-1863.05 2149.53,-1866.65 2151.6,-1870.25 2153.68,-1873.86 2155.75,-1877.46 2157.83,-1881.06 2159.9,-1884.66 2161.98,-1888.26 2164.05,-1891.86 2166.12,-1895.46 \n",
       "  2168.2,-1899.07 2170.27,-1902.67 2172.35,-1906.27 2174.42,-1909.87 2176.5,-1913.47 2178.57,-1917.07 2180.64,-1920.68 2182.72,-1924.28 2184.79,-1927.88 2186.87,-1931.48 \n",
       "  2188.94,-1935.08 2191.02,-1938.68 2193.09,-1942.29 2195.17,-1945.89 2197.24,-1949.49 2199.31,-1953.09 2201.39,-1956.69 2203.46,-1960.29 2205.54,-1963.9 2207.61,-1967.5 \n",
       "  2209.69,-1971.1 2211.76,-1974.7 2213.83,-1978.3 2215.91,-1981.9 2217.98,-1985.51 2220.06,-1989.11 2222.13,-1992.71 2224.21,-1996.31 2226.28,-1999.91 2228.36,-2003.51 \n",
       "  2230.43,-2007.11 2232.5,-2010.72 2234.58,-2014.32 2236.65,-2017.92 2238.73,-2021.52 2240.8,-2025.12 2242.88,-2028.72 2244.95,-2032.33 2247.02,-2035.93 2249.1,-2039.53 \n",
       "  2251.17,-2043.13 2253.25,-2046.73 2255.32,-2050.33 2257.4,-2053.94 2259.47,-2057.54 2261.55,-2061.14 2263.62,-2064.74 2265.69,-2068.34 2267.77,-2071.94 2269.84,-2075.55 \n",
       "  2271.92,-2079.15 2273.99,-2082.75 2276.07,-2086.35 2278.14,-2089.95 2280.21,-2093.55 2282.29,-2097.16 2284.36,-2100.76 2286.44,-2104.36 2288.51,-2107.96 2290.59,-2111.56 \n",
       "  \n",
       "  \"/>\n",
       "<polyline clip-path=\"url(#clip242)\" style=\"stroke:#e26f46; stroke-linecap:butt; stroke-linejoin:round; stroke-width:4; stroke-opacity:1; fill:none\" points=\"\n",
       "  218.281,1486.45 220.356,1482.85 222.43,1479.24 224.504,1475.64 226.579,1472.04 228.653,1468.44 230.728,1464.84 232.802,1461.24 234.876,1457.63 236.951,1454.03 \n",
       "  239.025,1450.43 241.099,1446.83 243.174,1443.23 245.248,1439.63 247.323,1436.03 249.397,1432.42 251.471,1428.82 253.546,1425.22 255.62,1421.62 257.695,1418.02 \n",
       "  259.769,1414.42 261.843,1410.81 263.918,1407.21 265.992,1403.61 268.066,1400.01 270.141,1396.41 272.215,1392.81 274.29,1389.2 276.364,1385.6 278.438,1382 \n",
       "  280.513,1378.4 282.587,1374.8 284.661,1371.2 286.736,1367.59 288.81,1363.99 290.885,1360.39 292.959,1356.79 295.033,1353.19 297.108,1349.59 299.182,1345.99 \n",
       "  301.256,1342.38 303.331,1338.78 305.405,1335.18 307.48,1331.58 309.554,1327.98 311.628,1324.38 313.703,1320.77 315.777,1317.17 317.852,1313.57 319.926,1309.97 \n",
       "  322,1306.37 324.075,1302.77 326.149,1299.16 328.223,1295.56 330.298,1291.96 332.372,1288.36 334.447,1284.76 336.521,1281.16 338.595,1277.55 340.67,1273.95 \n",
       "  342.744,1270.35 344.818,1266.75 346.893,1263.15 348.967,1259.55 351.042,1255.94 353.116,1252.34 355.19,1248.74 357.265,1245.14 359.339,1241.54 361.413,1237.94 \n",
       "  363.488,1234.34 365.562,1230.73 367.637,1227.13 369.711,1223.53 371.785,1219.93 373.86,1216.33 375.934,1212.73 378.009,1209.12 380.083,1205.52 382.157,1201.92 \n",
       "  384.232,1198.32 386.306,1194.72 388.38,1191.12 390.455,1187.51 392.529,1183.91 394.604,1180.31 396.678,1176.71 398.752,1173.11 400.827,1169.51 402.901,1165.9 \n",
       "  404.975,1162.3 407.05,1158.7 409.124,1155.1 411.199,1151.5 413.273,1147.9 415.347,1144.29 417.422,1140.69 419.496,1137.09 421.571,1133.49 423.645,1129.89 \n",
       "  425.719,1126.29 427.794,1122.69 429.868,1119.08 431.942,1115.48 434.017,1111.88 436.091,1108.28 438.166,1104.68 440.24,1101.08 442.314,1097.47 444.389,1093.87 \n",
       "  446.463,1090.27 448.537,1086.67 450.612,1083.07 452.686,1079.47 454.761,1075.86 456.835,1072.26 458.909,1068.66 460.984,1065.06 463.058,1061.46 465.132,1057.86 \n",
       "  467.207,1054.25 469.281,1050.65 471.356,1047.05 473.43,1043.45 475.504,1039.85 477.579,1036.25 479.653,1032.64 481.728,1029.04 483.802,1025.44 485.876,1021.84 \n",
       "  487.951,1018.24 490.025,1014.64 492.099,1011.04 494.174,1007.43 496.248,1003.83 498.323,1000.23 500.397,996.629 502.471,993.027 504.546,989.426 506.62,985.824 \n",
       "  508.694,982.222 510.769,978.621 512.843,975.019 514.918,971.417 516.992,967.816 519.066,964.214 521.141,960.613 523.215,957.011 525.29,953.409 527.364,949.808 \n",
       "  529.438,946.206 531.513,942.605 533.587,939.003 535.661,935.401 537.736,931.8 539.81,928.198 541.885,924.597 543.959,920.995 546.033,917.393 548.108,913.792 \n",
       "  550.182,910.19 552.256,906.588 554.331,902.987 556.405,899.385 558.48,895.784 560.554,892.182 562.628,888.58 564.703,884.979 566.777,881.377 568.851,877.776 \n",
       "  570.926,874.174 573,870.572 575.075,866.971 577.149,863.369 579.223,859.768 581.298,856.166 583.372,852.564 585.447,848.963 587.521,845.361 589.595,841.759 \n",
       "  591.67,838.754 593.744,838.466 595.818,838.178 597.893,837.89 599.967,837.602 602.042,837.314 604.116,837.026 606.19,836.737 608.265,836.449 610.339,836.161 \n",
       "  612.413,835.873 614.488,835.585 616.562,835.297 618.637,835.009 620.711,834.721 622.785,834.432 624.86,834.144 626.934,833.856 629.008,833.568 631.083,833.28 \n",
       "  633.157,832.992 635.232,832.704 637.306,832.415 639.38,832.127 641.455,831.839 643.529,831.551 645.604,831.263 647.678,830.975 649.752,830.687 651.827,830.399 \n",
       "  653.901,830.11 655.975,829.822 658.05,829.534 660.124,829.246 662.199,828.958 664.273,828.67 666.347,828.382 668.422,828.094 670.496,827.805 672.57,827.517 \n",
       "  674.645,827.229 676.719,826.941 678.794,826.653 680.868,826.365 682.942,826.077 685.017,825.789 687.091,825.5 689.166,825.212 691.24,824.924 693.314,824.636 \n",
       "  695.389,824.348 697.463,824.06 699.537,823.772 701.612,823.483 703.686,823.195 705.761,822.907 707.835,822.619 709.909,822.331 711.984,822.043 714.058,821.755 \n",
       "  716.132,821.467 718.207,821.178 720.281,820.89 722.356,820.602 724.43,820.314 726.504,820.026 728.579,819.738 730.653,819.45 732.727,819.162 734.802,818.873 \n",
       "  736.876,818.585 738.951,818.297 741.025,818.009 743.099,817.721 745.174,817.433 747.248,817.145 749.323,816.857 751.397,816.568 753.471,816.28 755.546,815.992 \n",
       "  757.62,815.704 759.694,815.416 761.769,815.128 763.843,814.84 765.918,814.551 767.992,814.263 770.066,813.975 772.141,813.687 774.215,813.399 776.289,813.111 \n",
       "  778.364,812.823 780.438,812.535 782.513,812.246 784.587,811.958 786.661,811.67 788.736,811.382 790.81,811.094 792.885,810.806 794.959,810.518 797.033,810.23 \n",
       "  799.108,809.941 801.182,809.653 803.256,809.365 805.331,809.077 807.405,808.789 809.48,808.501 811.554,808.213 813.628,807.925 815.703,807.636 817.777,807.348 \n",
       "  819.851,807.06 821.926,806.772 824,806.484 826.075,806.196 828.149,805.908 830.223,805.619 832.298,805.331 834.372,805.043 836.446,804.755 838.521,804.467 \n",
       "  840.595,804.179 842.67,803.891 844.744,803.603 846.818,803.314 848.893,803.026 850.967,802.738 853.042,802.45 855.116,802.162 857.19,801.874 859.265,801.586 \n",
       "  861.339,801.298 863.413,801.009 865.488,800.721 867.562,800.433 869.637,800.145 871.711,799.857 873.785,799.569 875.86,799.281 877.934,798.993 880.008,798.704 \n",
       "  882.083,798.416 884.157,798.128 886.232,797.84 888.306,797.552 890.38,797.264 892.455,796.976 894.529,796.687 896.603,796.399 898.678,796.111 900.752,795.823 \n",
       "  902.827,795.535 904.901,795.247 906.975,794.959 909.05,794.671 911.124,794.382 913.199,794.094 915.273,793.806 917.347,793.518 919.422,793.23 921.496,792.942 \n",
       "  923.57,792.654 925.645,792.366 927.719,792.077 929.794,791.789 931.868,791.501 933.942,791.213 936.017,790.925 938.091,790.637 940.165,790.349 942.24,790.061 \n",
       "  944.314,789.772 946.389,789.484 948.463,789.196 950.537,788.908 952.612,788.62 954.686,788.332 956.761,788.044 958.835,787.755 960.909,787.467 962.984,787.179 \n",
       "  965.058,786.891 967.132,786.603 969.207,786.315 971.281,786.027 973.356,785.739 975.43,785.45 977.504,785.162 979.579,784.874 981.653,784.586 983.727,784.298 \n",
       "  985.802,784.01 987.876,783.722 989.951,783.434 992.025,783.145 994.099,782.857 996.174,782.569 998.248,782.281 1000.32,781.993 1002.4,781.705 1004.47,781.417 \n",
       "  1006.55,781.129 1008.62,780.84 1010.69,780.552 1012.77,780.264 1014.84,779.976 1016.92,779.688 1018.99,779.4 1021.07,779.112 1023.14,778.824 1025.22,778.535 \n",
       "  1027.29,778.247 1029.36,777.959 1031.44,777.671 1033.51,777.383 1035.59,777.095 1037.66,776.807 1039.74,776.518 1041.81,776.23 1043.88,775.942 1045.96,775.654 \n",
       "  1048.03,775.366 1050.11,775.078 1052.18,774.79 1054.26,774.502 1056.33,774.213 1058.41,773.925 1060.48,773.637 1062.55,773.349 1064.63,773.061 1066.7,772.773 \n",
       "  1068.78,772.485 1070.85,772.197 1072.93,771.908 1075,771.62 1077.07,771.332 1079.15,771.044 1081.22,770.756 1083.3,770.468 1085.37,770.18 1087.45,769.892 \n",
       "  1089.52,769.603 1091.6,769.315 1093.67,769.027 1095.74,768.739 1097.82,768.451 1099.89,768.163 1101.97,767.875 1104.04,767.586 1106.12,767.298 1108.19,767.01 \n",
       "  1110.26,766.722 1112.34,766.434 1114.41,766.146 1116.49,765.858 1118.56,765.57 1120.64,765.281 1122.71,764.993 1124.79,764.705 1126.86,764.417 1128.93,764.129 \n",
       "  1131.01,763.841 1133.08,763.553 1135.16,763.265 1137.23,762.976 1139.31,762.688 1141.38,762.4 1143.45,762.112 1145.53,761.824 1147.6,761.536 1149.68,761.248 \n",
       "  1151.75,760.96 1153.83,760.671 1155.9,760.383 1157.98,760.095 1160.05,759.807 1162.12,759.519 1164.2,759.231 1166.27,758.943 1168.35,758.654 1170.42,758.366 \n",
       "  1172.5,758.078 1174.57,757.79 1176.64,757.502 1178.72,757.214 1180.79,756.926 1182.87,756.638 1184.94,756.349 1187.02,756.061 1189.09,755.773 1191.17,755.485 \n",
       "  1193.24,755.197 1195.31,754.909 1197.39,754.621 1199.46,754.333 1201.54,754.044 1203.61,753.756 1205.69,753.468 1207.76,753.18 1209.83,752.892 1211.91,752.604 \n",
       "  1213.98,752.316 1216.06,752.028 1218.13,751.739 1220.21,751.451 1222.28,751.163 1224.36,750.875 1226.43,750.587 1228.5,750.299 1230.58,750.011 1232.65,749.722 \n",
       "  1234.73,749.434 1236.8,749.146 1238.88,748.858 1240.95,748.57 1243.02,748.282 1245.1,747.994 1247.17,747.706 1249.25,747.417 1251.32,747.129 1253.4,746.841 \n",
       "  1255.47,746.553 1257.55,746.265 1259.62,745.977 1261.69,745.689 1263.77,745.401 1265.84,745.112 1267.92,744.824 1269.99,744.536 1272.07,744.248 1274.14,743.96 \n",
       "  1276.22,743.672 1278.29,743.384 1280.36,743.096 1282.44,742.807 1284.51,742.519 1286.59,742.231 1288.66,741.943 1290.74,741.655 1292.81,741.367 1294.88,741.079 \n",
       "  1296.96,740.79 1299.03,740.502 1301.11,740.214 1303.18,739.926 1305.26,739.638 1307.33,739.35 1309.41,739.062 1311.48,738.774 1313.55,738.485 1315.63,738.197 \n",
       "  1317.7,737.909 1319.78,737.621 1321.85,737.333 1323.93,737.045 1326,736.757 1328.07,736.469 1330.15,736.18 1332.22,735.892 1334.3,735.604 1336.37,735.316 \n",
       "  1338.45,735.028 1340.52,734.74 1342.6,734.452 1344.67,734.164 1346.74,733.875 1348.82,733.587 1350.89,733.299 1352.97,733.011 1355.04,732.723 1357.12,732.435 \n",
       "  1359.19,732.147 1361.26,731.858 1363.34,731.57 1365.41,731.282 1367.49,730.994 1369.56,730.706 1371.64,730.418 1373.71,730.13 1375.79,729.842 1377.86,729.553 \n",
       "  1379.93,729.265 1382.01,728.977 1384.08,728.689 1386.16,728.401 1388.23,728.113 1390.31,727.825 1392.38,727.537 1394.45,727.248 1396.53,726.96 1398.6,726.672 \n",
       "  1400.68,726.384 1402.75,726.096 1404.83,725.808 1406.9,725.52 1408.98,725.232 1411.05,724.943 1413.12,724.655 1415.2,724.367 1417.27,724.079 1419.35,723.791 \n",
       "  1421.42,723.503 1423.5,723.215 1425.57,722.926 1427.64,722.638 1429.72,722.35 1431.79,722.062 1433.87,721.774 1435.94,721.486 1438.02,721.198 1440.09,720.91 \n",
       "  1442.17,720.621 1444.24,720.333 1446.31,720.045 1448.39,719.757 1450.46,719.469 1452.54,719.181 1454.61,718.893 1456.69,718.605 1458.76,718.316 1460.83,718.028 \n",
       "  1462.91,717.74 1464.98,717.452 1467.06,717.164 1469.13,716.876 1471.21,716.588 1473.28,716.3 1475.36,716.011 1477.43,715.723 1479.5,715.435 1481.58,715.147 \n",
       "  1483.65,714.859 1485.73,714.571 1487.8,714.283 1489.88,713.995 1491.95,713.706 1494.02,713.418 1496.1,713.13 1498.17,712.842 1500.25,712.554 1502.32,712.266 \n",
       "  1504.4,711.978 1506.47,711.689 1508.55,711.401 1510.62,711.113 1512.69,710.825 1514.77,710.537 1516.84,710.249 1518.92,709.961 1520.99,709.673 1523.07,709.384 \n",
       "  1525.14,709.096 1527.21,708.808 1529.29,708.52 1531.36,708.232 1533.44,707.944 1535.51,707.656 1537.59,707.368 1539.66,707.079 1541.74,706.791 1543.81,706.503 \n",
       "  1545.88,706.215 1547.96,705.927 1550.03,705.639 1552.11,705.351 1554.18,705.063 1556.26,704.774 1558.33,704.486 1560.41,704.198 1562.48,703.91 1564.55,703.622 \n",
       "  1566.63,703.334 1568.7,703.046 1570.78,702.757 1572.85,702.469 1574.93,702.181 1577,701.893 1579.07,701.605 1581.15,701.317 1583.22,701.029 1585.3,700.741 \n",
       "  1587.37,700.452 1589.45,700.164 1591.52,699.876 1593.6,699.588 1595.67,699.3 1597.74,699.012 1599.82,698.724 1601.89,698.436 1603.97,698.147 1606.04,697.859 \n",
       "  1608.12,697.571 1610.19,697.283 1612.26,696.995 1614.34,696.707 1616.41,696.419 1618.49,696.131 1620.56,695.842 1622.64,695.554 1624.71,695.266 1626.79,694.978 \n",
       "  1628.86,694.69 1630.93,694.402 1633.01,694.114 1635.08,693.825 1637.16,693.537 1639.23,693.249 1641.31,692.961 1643.38,692.673 1645.45,692.385 1647.53,692.097 \n",
       "  1649.6,691.809 1651.68,691.52 1653.75,691.232 1655.83,690.944 1657.9,690.656 1659.98,690.368 1662.05,690.08 1664.12,689.792 1666.2,689.504 1668.27,689.215 \n",
       "  1670.35,688.927 1672.42,688.639 1674.5,688.351 1676.57,688.063 1678.64,687.775 1680.72,687.487 1682.79,687.199 1684.87,686.91 1686.94,686.622 1689.02,686.334 \n",
       "  1691.09,686.046 1693.17,685.758 1695.24,685.47 1697.31,685.182 1699.39,684.893 1701.46,684.605 1703.54,684.317 1705.61,684.029 1707.69,683.741 1709.76,683.453 \n",
       "  1711.83,683.165 1713.91,682.877 1715.98,682.588 1718.06,682.3 1720.13,682.012 1722.21,681.724 1724.28,681.436 1726.36,681.148 1728.43,680.86 1730.5,680.572 \n",
       "  1732.58,680.283 1734.65,679.995 1736.73,679.707 1738.8,679.419 1740.88,679.131 1742.95,678.843 1745.02,678.555 1747.1,678.267 1749.17,677.978 1751.25,677.69 \n",
       "  1753.32,677.402 1755.4,677.114 1757.47,676.826 1759.55,676.538 1761.62,676.25 1763.69,675.961 1765.77,675.673 1767.84,675.385 1769.92,675.097 1771.99,674.809 \n",
       "  1774.07,674.521 1776.14,674.233 1778.21,673.945 1780.29,673.656 1782.36,673.368 1784.44,673.08 1786.51,672.792 1788.59,672.504 1790.66,672.216 1792.74,671.928 \n",
       "  1794.81,671.64 1796.88,671.351 1798.96,671.063 1801.03,670.775 1803.11,670.487 1805.18,670.199 1807.26,669.911 1809.33,669.623 1811.41,669.335 1813.48,669.046 \n",
       "  1815.55,668.758 1817.63,668.47 1819.7,668.182 1821.78,667.894 1823.85,667.606 1825.93,667.318 1828,667.029 1830.07,666.741 1832.15,666.453 1834.22,666.165 \n",
       "  1836.3,665.877 1838.37,665.589 1840.45,665.301 1842.52,665.013 1844.6,664.724 1846.67,664.436 1848.74,664.148 1850.82,663.86 1852.89,663.572 1854.97,663.284 \n",
       "  1857.04,662.996 1859.12,662.708 1861.19,662.419 1863.26,662.131 1865.34,661.843 1867.41,661.555 1869.49,661.267 1871.56,660.979 1873.64,660.691 1875.71,660.403 \n",
       "  1877.79,660.114 1879.86,659.826 1881.93,659.538 1884.01,659.25 1886.08,658.962 1888.16,658.674 1890.23,658.386 1892.31,658.097 1894.38,657.809 1896.45,657.521 \n",
       "  1898.53,657.233 1900.6,656.945 1902.68,656.657 1904.75,656.369 1906.83,656.081 1908.9,655.792 1910.98,655.504 1913.05,655.216 1915.12,654.928 1917.2,654.64 \n",
       "  1919.27,654.352 1921.35,654.064 1923.42,653.776 1925.5,653.487 1927.57,653.199 1929.64,652.911 1931.72,652.623 1933.79,652.335 1935.87,652.047 1937.94,651.759 \n",
       "  1940.02,651.471 1942.09,651.182 1944.17,650.894 1946.24,650.606 1948.31,650.318 1950.39,650.03 1952.46,649.742 1954.54,649.454 1956.61,649.166 1958.69,648.877 \n",
       "  1960.76,648.589 1962.83,648.301 1964.91,648.013 1966.98,647.725 1969.06,647.437 1971.13,647.149 1973.21,646.86 1975.28,646.572 1977.36,646.284 1979.43,645.996 \n",
       "  1981.5,645.708 1983.58,645.42 1985.65,645.132 1987.73,644.844 1989.8,644.555 1991.88,644.267 1993.95,643.979 1996.02,643.691 1998.1,643.403 2000.17,643.115 \n",
       "  2002.25,642.827 2004.32,642.539 2006.4,642.25 2008.47,641.962 2010.55,641.674 2012.62,641.386 2014.69,641.098 2016.77,640.81 2018.84,640.522 2020.92,640.234 \n",
       "  2022.99,639.945 2025.07,639.657 2027.14,639.369 2029.21,639.081 2031.29,638.793 2033.36,638.505 2035.44,638.217 2037.51,637.928 2039.59,637.64 2041.66,637.352 \n",
       "  2043.74,637.064 2045.81,636.776 2047.88,636.488 2049.96,636.2 2052.03,635.912 2054.11,635.623 2056.18,635.335 2058.26,635.047 2060.33,634.759 2062.4,634.471 \n",
       "  2064.48,634.183 2066.55,633.895 2068.63,633.607 2070.7,633.318 2072.78,633.03 2074.85,632.742 2076.93,632.454 2079,632.166 2081.07,631.878 2083.15,631.59 \n",
       "  2085.22,631.302 2087.3,631.013 2089.37,630.725 2091.45,630.437 2093.52,630.149 2095.6,629.861 2097.67,629.573 2099.74,629.285 2101.82,628.996 2103.89,628.708 \n",
       "  2105.97,628.42 2108.04,628.132 2110.12,627.844 2112.19,627.556 2114.26,627.268 2116.34,626.98 2118.41,626.691 2120.49,626.403 2122.56,626.115 2124.64,625.827 \n",
       "  2126.71,625.539 2128.79,625.251 2130.86,624.963 2132.93,624.675 2135.01,624.386 2137.08,624.098 2139.16,623.81 2141.23,623.522 2143.31,623.234 2145.38,622.946 \n",
       "  2147.45,622.658 2149.53,622.37 2151.6,622.081 2153.68,621.793 2155.75,621.505 2157.83,621.217 2159.9,620.929 2161.98,620.641 2164.05,620.353 2166.12,620.064 \n",
       "  2168.2,619.776 2170.27,619.488 2172.35,619.2 2174.42,618.912 2176.5,618.624 2178.57,618.336 2180.64,618.048 2182.72,617.759 2184.79,617.471 2186.87,617.183 \n",
       "  2188.94,616.895 2191.02,616.607 2193.09,616.319 2195.17,616.031 2197.24,615.743 2199.31,615.454 2201.39,615.166 2203.46,614.878 2205.54,614.59 2207.61,614.302 \n",
       "  2209.69,614.014 2211.76,613.726 2213.83,613.438 2215.91,613.149 2217.98,612.861 2220.06,612.573 2222.13,612.285 2224.21,611.997 2226.28,611.709 2228.36,611.421 \n",
       "  2230.43,611.132 2232.5,610.844 2234.58,610.556 2236.65,610.268 2238.73,609.98 2240.8,609.692 2242.88,609.404 2244.95,609.116 2247.02,608.827 2249.1,608.539 \n",
       "  2251.17,608.251 2253.25,607.963 2255.32,607.675 2257.4,607.387 2259.47,607.099 2261.55,606.811 2263.62,606.522 2265.69,606.234 2267.77,605.946 2269.84,605.658 \n",
       "  2271.92,605.37 2273.99,605.082 2276.07,604.794 2278.14,604.506 2280.21,604.217 2282.29,603.929 2284.36,603.641 2286.44,603.353 2288.51,603.065 2290.59,602.777 \n",
       "  \n",
       "  \"/>\n",
       "<polyline clip-path=\"url(#clip242)\" style=\"stroke:#3da44d; stroke-linecap:butt; stroke-linejoin:round; stroke-width:4; stroke-opacity:1; fill:none\" points=\"\n",
       "  218.281,780.956 220.356,780.885 222.43,780.815 224.504,780.744 226.579,780.673 228.653,780.603 230.728,780.532 232.802,780.461 234.876,780.391 236.951,780.32 \n",
       "  239.025,780.25 241.099,780.179 243.174,780.108 245.248,780.038 247.323,779.967 249.397,779.897 251.471,779.826 253.546,779.755 255.62,779.685 257.695,779.614 \n",
       "  259.769,779.543 261.843,779.473 263.918,779.402 265.992,779.332 268.066,779.261 270.141,779.19 272.215,779.12 274.29,779.049 276.364,778.978 278.438,778.908 \n",
       "  280.513,778.837 282.587,778.767 284.661,778.696 286.736,778.625 288.81,778.555 290.885,778.484 292.959,778.414 295.033,778.343 297.108,778.272 299.182,778.202 \n",
       "  301.256,778.131 303.331,778.06 305.405,777.99 307.48,777.919 309.554,777.849 311.628,777.778 313.703,777.707 315.777,777.637 317.852,777.566 319.926,777.495 \n",
       "  322,777.425 324.075,777.354 326.149,777.284 328.223,777.213 330.298,777.142 332.372,777.072 334.447,777.001 336.521,776.93 338.595,776.86 340.67,776.789 \n",
       "  342.744,776.719 344.818,776.648 346.893,776.577 348.967,776.507 351.042,776.436 353.116,776.366 355.19,776.295 357.265,776.224 359.339,776.154 361.413,776.083 \n",
       "  363.488,776.012 365.562,775.942 367.637,775.871 369.711,775.801 371.785,775.73 373.86,775.659 375.934,775.589 378.009,775.518 380.083,775.447 382.157,775.377 \n",
       "  384.232,775.306 386.306,775.236 388.38,775.165 390.455,775.094 392.529,775.024 394.604,774.953 396.678,774.883 398.752,774.812 400.827,774.741 402.901,774.671 \n",
       "  404.975,774.6 407.05,774.529 409.124,774.459 411.199,774.388 413.273,774.318 415.347,774.247 417.422,774.176 419.496,774.106 421.571,774.035 423.645,773.964 \n",
       "  425.719,773.894 427.794,773.823 429.868,773.753 431.942,773.682 434.017,773.611 436.091,773.541 438.166,773.47 440.24,773.4 442.314,773.329 444.389,773.258 \n",
       "  446.463,773.188 448.537,773.117 450.612,773.046 452.686,772.976 454.761,772.905 456.835,772.835 458.909,772.764 460.984,772.693 463.058,772.623 465.132,772.552 \n",
       "  467.207,772.481 469.281,772.411 471.356,772.34 473.43,772.27 475.504,772.199 477.579,772.128 479.653,772.058 481.728,771.987 483.802,771.916 485.876,771.846 \n",
       "  487.951,771.775 490.025,771.705 492.099,771.634 494.174,771.563 496.248,771.493 498.323,771.422 500.397,771.352 502.471,771.281 504.546,771.21 506.62,771.14 \n",
       "  508.694,771.069 510.769,770.998 512.843,770.928 514.918,770.857 516.992,770.787 519.066,770.716 521.141,770.645 523.215,770.575 525.29,770.504 527.364,770.433 \n",
       "  529.438,770.363 531.513,770.292 533.587,770.222 535.661,770.151 537.736,770.08 539.81,770.01 541.885,769.939 543.959,769.869 546.033,769.798 548.108,769.727 \n",
       "  550.182,769.657 552.256,769.586 554.331,769.515 556.405,769.445 558.48,769.374 560.554,769.304 562.628,769.233 564.703,769.162 566.777,769.092 568.851,769.021 \n",
       "  570.926,768.95 573,768.88 575.075,768.809 577.149,768.739 579.223,768.668 581.298,768.597 583.372,768.527 585.447,768.456 587.521,768.385 589.595,768.315 \n",
       "  591.67,768.244 593.744,768.174 595.818,768.103 597.893,768.032 599.967,767.962 602.042,767.891 604.116,767.821 606.19,767.75 608.265,767.679 610.339,767.609 \n",
       "  612.413,767.538 614.488,767.467 616.562,767.397 618.637,767.326 620.711,767.256 622.785,767.185 624.86,767.114 626.934,767.044 629.008,766.973 631.083,766.902 \n",
       "  633.157,766.832 635.232,766.761 637.306,766.691 639.38,766.62 641.455,766.549 643.529,766.479 645.604,766.408 647.678,766.338 649.752,766.267 651.827,766.196 \n",
       "  653.901,766.126 655.975,766.055 658.05,765.984 660.124,765.914 662.199,765.843 664.273,765.773 666.347,765.702 668.422,765.631 670.496,765.561 672.57,765.49 \n",
       "  674.645,765.419 676.719,765.349 678.794,765.278 680.868,765.208 682.942,765.137 685.017,765.066 687.091,764.996 689.166,764.925 691.24,764.855 693.314,764.784 \n",
       "  695.389,764.713 697.463,764.643 699.537,764.572 701.612,764.501 703.686,764.431 705.761,764.36 707.835,764.29 709.909,764.219 711.984,764.148 714.058,764.078 \n",
       "  716.132,764.007 718.207,763.936 720.281,763.866 722.356,763.795 724.43,763.725 726.504,763.654 728.579,763.583 730.653,763.513 732.727,763.442 734.802,763.371 \n",
       "  736.876,763.301 738.951,763.23 741.025,763.16 743.099,763.089 745.174,763.018 747.248,762.948 749.323,762.877 751.397,762.807 753.471,762.736 755.546,762.665 \n",
       "  757.62,762.595 759.694,762.524 761.769,762.453 763.843,762.383 765.918,762.312 767.992,762.242 770.066,762.171 772.141,762.1 774.215,762.03 776.289,761.959 \n",
       "  778.364,761.888 780.438,761.818 782.513,761.747 784.587,761.677 786.661,761.606 788.736,761.535 790.81,761.465 792.885,761.394 794.959,761.324 797.033,761.253 \n",
       "  799.108,761.182 801.182,761.112 803.256,761.041 805.331,760.97 807.405,760.9 809.48,760.829 811.554,760.759 813.628,760.688 815.703,760.617 817.777,760.547 \n",
       "  819.851,760.476 821.926,760.405 824,760.335 826.075,760.264 828.149,760.194 830.223,760.123 832.298,760.052 834.372,759.982 836.446,759.911 838.521,759.84 \n",
       "  840.595,759.77 842.67,759.699 844.744,759.629 846.818,759.558 848.893,759.487 850.967,759.417 853.042,759.346 855.116,759.276 857.19,759.205 859.265,759.134 \n",
       "  861.339,759.064 863.413,758.993 865.488,758.922 867.562,758.852 869.637,758.781 871.711,758.711 873.785,758.64 875.86,758.569 877.934,758.499 880.008,758.428 \n",
       "  882.083,758.357 884.157,758.287 886.232,758.216 888.306,758.146 890.38,758.075 892.455,758.004 894.529,757.934 896.603,757.863 898.678,757.793 900.752,757.722 \n",
       "  902.827,757.651 904.901,757.581 906.975,757.51 909.05,757.439 911.124,757.369 913.199,757.298 915.273,757.228 917.347,757.157 919.422,757.086 921.496,757.016 \n",
       "  923.57,756.945 925.645,756.874 927.719,756.804 929.794,756.733 931.868,756.663 933.942,756.592 936.017,756.521 938.091,756.451 940.165,756.38 942.24,756.31 \n",
       "  944.314,756.239 946.389,756.168 948.463,756.098 950.537,756.027 952.612,755.956 954.686,755.886 956.761,755.815 958.835,755.745 960.909,755.674 962.984,755.603 \n",
       "  965.058,755.533 967.132,755.462 969.207,755.391 971.281,755.321 973.356,755.25 975.43,755.18 977.504,755.109 979.579,755.038 981.653,754.968 983.727,754.897 \n",
       "  985.802,754.826 987.876,754.756 989.951,754.685 992.025,754.615 994.099,754.544 996.174,754.473 998.248,754.403 1000.32,754.332 1002.4,754.262 1004.47,754.191 \n",
       "  1006.55,754.12 1008.62,754.05 1010.69,753.979 1012.77,753.908 1014.84,753.838 1016.92,753.767 1018.99,753.697 1021.07,753.626 1023.14,753.555 1025.22,753.485 \n",
       "  1027.29,753.414 1029.36,753.343 1031.44,753.273 1033.51,753.202 1035.59,753.132 1037.66,753.061 1039.74,752.99 1041.81,752.92 1043.88,752.849 1045.96,752.779 \n",
       "  1048.03,752.708 1050.11,752.637 1052.18,752.567 1054.26,752.496 1056.33,752.425 1058.41,752.355 1060.48,752.284 1062.55,752.214 1064.63,752.143 1066.7,752.072 \n",
       "  1068.78,752.002 1070.85,751.931 1072.93,751.86 1075,751.79 1077.07,751.719 1079.15,751.649 1081.22,751.578 1083.3,751.507 1085.37,751.437 1087.45,751.366 \n",
       "  1089.52,751.295 1091.6,751.225 1093.67,751.154 1095.74,751.084 1097.82,751.013 1099.89,750.942 1101.97,750.872 1104.04,750.801 1106.12,750.731 1108.19,750.66 \n",
       "  1110.26,750.589 1112.34,750.519 1114.41,750.448 1116.49,750.377 1118.56,750.307 1120.64,750.236 1122.71,750.166 1124.79,750.095 1126.86,750.024 1128.93,749.954 \n",
       "  1131.01,749.883 1133.08,749.812 1135.16,749.742 1137.23,749.671 1139.31,749.601 1141.38,749.53 1143.45,749.459 1145.53,749.389 1147.6,749.318 1149.68,749.248 \n",
       "  1151.75,749.177 1153.83,749.106 1155.9,749.036 1157.98,748.965 1160.05,748.894 1162.12,748.824 1164.2,748.753 1166.27,748.683 1168.35,748.612 1170.42,748.541 \n",
       "  1172.5,748.471 1174.57,748.4 1176.64,748.329 1178.72,748.259 1180.79,748.188 1182.87,748.118 1184.94,748.047 1187.02,747.976 1189.09,747.906 1191.17,747.835 \n",
       "  1193.24,747.765 1195.31,747.694 1197.39,747.623 1199.46,747.553 1201.54,747.482 1203.61,747.411 1205.69,747.341 1207.76,747.27 1209.83,747.2 1211.91,747.129 \n",
       "  1213.98,747.058 1216.06,746.988 1218.13,746.917 1220.21,746.846 1222.28,746.776 1224.36,746.705 1226.43,746.635 1228.5,746.564 1230.58,746.493 1232.65,746.423 \n",
       "  1234.73,746.352 1236.8,746.281 1238.88,746.211 1240.95,746.14 1243.02,746.07 1245.1,745.999 1247.17,745.928 1249.25,745.858 1251.32,745.787 1253.4,745.717 \n",
       "  1255.47,745.646 1257.55,745.575 1259.62,745.505 1261.69,745.434 1263.77,745.363 1265.84,745.293 1267.92,745.222 1269.99,745.152 1272.07,745.081 1274.14,745.01 \n",
       "  1276.22,744.94 1278.29,744.869 1280.36,744.798 1282.44,744.728 1284.51,744.657 1286.59,744.587 1288.66,744.516 1290.74,744.445 1292.81,744.375 1294.88,744.304 \n",
       "  1296.96,744.234 1299.03,744.163 1301.11,744.092 1303.18,744.022 1305.26,743.951 1307.33,743.88 1309.41,743.81 1311.48,743.739 1313.55,743.669 1315.63,743.598 \n",
       "  1317.7,743.527 1319.78,743.457 1321.85,743.386 1323.93,743.315 1326,743.245 1328.07,743.174 1330.15,743.104 1332.22,743.033 1334.3,742.962 1336.37,742.892 \n",
       "  1338.45,742.821 1340.52,742.751 1342.6,742.68 1344.67,742.609 1346.74,742.539 1348.82,742.468 1350.89,742.397 1352.97,742.327 1355.04,742.256 1357.12,742.186 \n",
       "  1359.19,742.115 1361.26,742.044 1363.34,741.974 1365.41,741.903 1367.49,741.832 1369.56,741.762 1371.64,741.691 1373.71,741.621 1375.79,741.55 1377.86,741.479 \n",
       "  1379.93,741.409 1382.01,741.338 1384.08,741.267 1386.16,741.197 1388.23,741.126 1390.31,741.056 1392.38,740.985 1394.45,740.914 1396.53,740.844 1398.6,740.773 \n",
       "  1400.68,740.703 1402.75,740.632 1404.83,740.561 1406.9,740.491 1408.98,740.42 1411.05,740.349 1413.12,740.279 1415.2,740.208 1417.27,740.138 1419.35,740.067 \n",
       "  1421.42,739.996 1423.5,739.926 1425.57,739.855 1427.64,739.784 1429.72,739.714 1431.79,739.643 1433.87,739.573 1435.94,739.502 1438.02,739.431 1440.09,739.361 \n",
       "  1442.17,739.29 1444.24,739.22 1446.31,739.149 1448.39,739.078 1450.46,739.008 1452.54,738.937 1454.61,738.866 1456.69,738.796 1458.76,738.725 1460.83,738.655 \n",
       "  1462.91,738.584 1464.98,738.513 1467.06,738.443 1469.13,738.372 1471.21,738.301 1473.28,738.231 1475.36,738.16 1477.43,738.09 1479.5,738.019 1481.58,737.948 \n",
       "  1483.65,737.878 1485.73,737.807 1487.8,737.736 1489.88,737.666 1491.95,737.595 1494.02,737.525 1496.1,737.454 1498.17,737.383 1500.25,737.313 1502.32,737.242 \n",
       "  1504.4,737.172 1506.47,737.101 1508.55,737.03 1510.62,736.96 1512.69,736.889 1514.77,736.818 1516.84,736.748 1518.92,736.677 1520.99,736.607 1523.07,736.536 \n",
       "  1525.14,736.465 1527.21,736.395 1529.29,736.324 1531.36,736.253 1533.44,736.183 1535.51,736.112 1537.59,736.042 1539.66,735.971 1541.74,735.9 1543.81,735.83 \n",
       "  1545.88,735.759 1547.96,735.689 1550.03,735.618 1552.11,735.547 1554.18,735.477 1556.26,735.406 1558.33,735.335 1560.41,735.265 1562.48,735.194 1564.55,735.124 \n",
       "  1566.63,735.053 1568.7,734.982 1570.78,734.912 1572.85,734.841 1574.93,734.77 1577,734.7 1579.07,734.629 1581.15,734.559 1583.22,734.488 1585.3,734.417 \n",
       "  1587.37,734.347 1589.45,734.276 1591.52,734.206 1593.6,734.135 1595.67,734.064 1597.74,733.994 1599.82,733.923 1601.89,733.852 1603.97,733.782 1606.04,733.711 \n",
       "  1608.12,733.641 1610.19,733.57 1612.26,733.499 1614.34,733.429 1616.41,733.358 1618.49,733.287 1620.56,733.217 1622.64,733.146 1624.71,733.076 1626.79,733.005 \n",
       "  1628.86,732.934 1630.93,732.864 1633.01,732.793 1635.08,732.722 1637.16,732.652 1639.23,732.581 1641.31,732.511 1643.38,732.44 1645.45,732.369 1647.53,732.299 \n",
       "  1649.6,732.228 1651.68,732.158 1653.75,732.087 1655.83,732.016 1657.9,731.946 1659.98,731.875 1662.05,731.804 1664.12,731.734 1666.2,731.663 1668.27,731.593 \n",
       "  1670.35,731.522 1672.42,731.451 1674.5,731.381 1676.57,731.31 1678.64,731.239 1680.72,731.169 1682.79,731.098 1684.87,731.028 1686.94,730.957 1689.02,730.886 \n",
       "  1691.09,730.816 1693.17,730.745 1695.24,730.675 1697.31,730.604 1699.39,730.533 1701.46,730.463 1703.54,730.392 1705.61,730.321 1707.69,730.251 1709.76,730.18 \n",
       "  1711.83,730.11 1713.91,730.039 1715.98,729.968 1718.06,729.898 1720.13,729.827 1722.21,729.756 1724.28,729.686 1726.36,729.615 1728.43,729.545 1730.5,729.474 \n",
       "  1732.58,729.403 1734.65,729.333 1736.73,729.262 1738.8,729.191 1740.88,729.121 1742.95,729.05 1745.02,728.98 1747.1,728.909 1749.17,728.838 1751.25,728.768 \n",
       "  1753.32,728.697 1755.4,728.627 1757.47,728.556 1759.55,728.485 1761.62,728.415 1763.69,728.344 1765.77,728.273 1767.84,728.203 1769.92,728.132 1771.99,728.062 \n",
       "  1774.07,727.991 1776.14,727.92 1778.21,727.85 1780.29,727.779 1782.36,727.708 1784.44,727.638 1786.51,727.567 1788.59,727.497 1790.66,727.426 1792.74,727.355 \n",
       "  1794.81,727.285 1796.88,727.214 1798.96,727.144 1801.03,727.073 1803.11,727.002 1805.18,726.932 1807.26,726.861 1809.33,726.79 1811.41,726.72 1813.48,726.649 \n",
       "  1815.55,726.579 1817.63,726.508 1819.7,726.437 1821.78,726.367 1823.85,726.296 1825.93,726.225 1828,726.155 1830.07,726.084 1832.15,726.014 1834.22,725.943 \n",
       "  1836.3,725.872 1838.37,725.802 1840.45,725.731 1842.52,725.661 1844.6,725.59 1846.67,725.519 1848.74,725.449 1850.82,725.378 1852.89,725.307 1854.97,725.237 \n",
       "  1857.04,725.166 1859.12,725.096 1861.19,725.025 1863.26,724.954 1865.34,724.884 1867.41,724.813 1869.49,724.742 1871.56,724.672 1873.64,724.601 1875.71,724.531 \n",
       "  1877.79,724.46 1879.86,724.389 1881.93,724.319 1884.01,724.248 1886.08,724.177 1888.16,724.107 1890.23,724.036 1892.31,723.966 1894.38,723.895 1896.45,723.824 \n",
       "  1898.53,723.754 1900.6,723.683 1902.68,723.613 1904.75,723.542 1906.83,723.471 1908.9,723.401 1910.98,723.33 1913.05,723.259 1915.12,723.189 1917.2,723.118 \n",
       "  1919.27,723.048 1921.35,722.977 1923.42,722.906 1925.5,722.836 1927.57,722.765 1929.64,722.694 1931.72,722.624 1933.79,722.553 1935.87,722.483 1937.94,722.412 \n",
       "  1940.02,722.341 1942.09,722.271 1944.17,722.2 1946.24,722.13 1948.31,722.059 1950.39,721.988 1952.46,721.918 1954.54,721.847 1956.61,721.776 1958.69,721.706 \n",
       "  1960.76,721.635 1962.83,721.565 1964.91,721.494 1966.98,721.423 1969.06,721.353 1971.13,721.282 1973.21,721.211 1975.28,721.141 1977.36,721.07 1979.43,721 \n",
       "  1981.5,720.929 1983.58,720.858 1985.65,720.788 1987.73,720.717 1989.8,720.646 1991.88,720.576 1993.95,720.505 1996.02,720.435 1998.1,720.364 2000.17,720.293 \n",
       "  2002.25,720.223 2004.32,720.152 2006.4,720.082 2008.47,720.011 2010.55,719.94 2012.62,719.87 2014.69,719.799 2016.77,719.728 2018.84,719.658 2020.92,719.587 \n",
       "  2022.99,719.517 2025.07,719.446 2027.14,719.375 2029.21,719.305 2031.29,719.234 2033.36,719.163 2035.44,719.093 2037.51,719.022 2039.59,718.952 2041.66,718.881 \n",
       "  2043.74,718.81 2045.81,718.74 2047.88,718.669 2049.96,718.599 2052.03,718.528 2054.11,718.457 2056.18,718.387 2058.26,718.316 2060.33,718.245 2062.4,718.175 \n",
       "  2064.48,718.104 2066.55,718.034 2068.63,717.963 2070.7,717.892 2072.78,717.822 2074.85,717.751 2076.93,717.68 2079,717.61 2081.07,717.539 2083.15,717.469 \n",
       "  2085.22,717.398 2087.3,717.327 2089.37,717.257 2091.45,717.186 2093.52,717.116 2095.6,717.045 2097.67,716.974 2099.74,716.904 2101.82,716.833 2103.89,716.762 \n",
       "  2105.97,716.692 2108.04,716.621 2110.12,716.551 2112.19,716.48 2114.26,716.409 2116.34,716.339 2118.41,716.268 2120.49,716.197 2122.56,716.127 2124.64,716.056 \n",
       "  2126.71,715.986 2128.79,715.915 2130.86,715.844 2132.93,715.774 2135.01,715.703 2137.08,715.632 2139.16,715.562 2141.23,715.491 2143.31,715.421 2145.38,715.35 \n",
       "  2147.45,715.279 2149.53,715.209 2151.6,715.138 2153.68,715.068 2155.75,714.997 2157.83,714.926 2159.9,714.856 2161.98,714.785 2164.05,714.714 2166.12,714.644 \n",
       "  2168.2,714.573 2170.27,714.503 2172.35,714.432 2174.42,714.361 2176.5,714.291 2178.57,714.22 2180.64,714.149 2182.72,714.079 2184.79,714.008 2186.87,713.938 \n",
       "  2188.94,713.867 2191.02,713.796 2193.09,713.726 2195.17,713.655 2197.24,713.585 2199.31,713.514 2201.39,713.443 2203.46,713.373 2205.54,713.302 2207.61,713.231 \n",
       "  2209.69,713.161 2211.76,713.09 2213.83,713.02 2215.91,712.949 2217.98,712.878 2220.06,712.808 2222.13,712.737 2224.21,712.666 2226.28,712.596 2228.36,712.525 \n",
       "  2230.43,712.455 2232.5,712.384 2234.58,712.313 2236.65,712.243 2238.73,712.172 2240.8,712.101 2242.88,712.031 2244.95,711.96 2247.02,711.89 2249.1,711.819 \n",
       "  2251.17,711.748 2253.25,711.678 2255.32,711.607 2257.4,711.537 2259.47,711.466 2261.55,711.395 2263.62,711.325 2265.69,711.254 2267.77,711.183 2269.84,711.113 \n",
       "  2271.92,711.042 2273.99,710.972 2276.07,710.901 2278.14,710.83 2280.21,710.76 2282.29,710.689 2284.36,710.618 2286.44,710.548 2288.51,710.477 2290.59,710.407 \n",
       "  \n",
       "  \"/>\n",
       "<path clip-path=\"url(#clip240)\" d=\"\n",
       "M1982.45 302.578 L2279.53 302.578 L2279.53 95.2176 L1982.45 95.2176  Z\n",
       "  \" fill=\"#ffffff\" fill-rule=\"evenodd\" fill-opacity=\"1\"/>\n",
       "<polyline clip-path=\"url(#clip240)\" style=\"stroke:#000000; stroke-linecap:butt; stroke-linejoin:round; stroke-width:4; stroke-opacity:1; fill:none\" points=\"\n",
       "  1982.45,302.578 2279.53,302.578 2279.53,95.2176 1982.45,95.2176 1982.45,302.578 \n",
       "  \"/>\n",
       "<polyline clip-path=\"url(#clip240)\" style=\"stroke:#009af9; stroke-linecap:butt; stroke-linejoin:round; stroke-width:4; stroke-opacity:1; fill:none\" points=\"\n",
       "  2006.86,147.058 2153.3,147.058 \n",
       "  \"/>\n",
       "<path clip-path=\"url(#clip240)\" d=\"M2191.55 166.745 Q2189.75 171.375 2188.04 172.787 Q2186.32 174.199 2183.45 174.199 L2180.05 174.199 L2180.05 170.634 L2182.55 170.634 Q2184.31 170.634 2185.28 169.8 Q2186.25 168.967 2187.43 165.865 L2188.2 163.921 L2177.71 138.412 L2182.23 138.412 L2190.33 158.689 L2198.43 138.412 L2202.94 138.412 L2191.55 166.745 Z\" fill=\"#000000\" fill-rule=\"evenodd\" fill-opacity=\"1\" /><path clip-path=\"url(#clip240)\" d=\"M2210.23 160.402 L2217.87 160.402 L2217.87 134.037 L2209.56 135.703 L2209.56 131.444 L2217.83 129.778 L2222.5 129.778 L2222.5 160.402 L2230.14 160.402 L2230.14 164.338 L2210.23 164.338 L2210.23 160.402 Z\" fill=\"#000000\" fill-rule=\"evenodd\" fill-opacity=\"1\" /><polyline clip-path=\"url(#clip240)\" style=\"stroke:#e26f46; stroke-linecap:butt; stroke-linejoin:round; stroke-width:4; stroke-opacity:1; fill:none\" points=\"\n",
       "  2006.86,198.898 2153.3,198.898 \n",
       "  \"/>\n",
       "<path clip-path=\"url(#clip240)\" d=\"M2191.55 218.585 Q2189.75 223.215 2188.04 224.627 Q2186.32 226.039 2183.45 226.039 L2180.05 226.039 L2180.05 222.474 L2182.55 222.474 Q2184.31 222.474 2185.28 221.64 Q2186.25 220.807 2187.43 217.705 L2188.2 215.761 L2177.71 190.252 L2182.23 190.252 L2190.33 210.529 L2198.43 190.252 L2202.94 190.252 L2191.55 218.585 Z\" fill=\"#000000\" fill-rule=\"evenodd\" fill-opacity=\"1\" /><path clip-path=\"url(#clip240)\" d=\"M2213.45 212.242 L2229.77 212.242 L2229.77 216.178 L2207.83 216.178 L2207.83 212.242 Q2210.49 209.488 2215.07 204.858 Q2219.68 200.205 2220.86 198.863 Q2223.1 196.34 2223.98 194.604 Q2224.89 192.844 2224.89 191.155 Q2224.89 188.4 2222.94 186.664 Q2221.02 184.928 2217.92 184.928 Q2215.72 184.928 2213.27 185.692 Q2210.84 186.455 2208.06 188.006 L2208.06 183.284 Q2210.88 182.15 2213.34 181.571 Q2215.79 180.993 2217.83 180.993 Q2223.2 180.993 2226.39 183.678 Q2229.59 186.363 2229.59 190.854 Q2229.59 192.983 2228.78 194.905 Q2227.99 196.803 2225.88 199.395 Q2225.3 200.067 2222.2 203.284 Q2219.1 206.479 2213.45 212.242 Z\" fill=\"#000000\" fill-rule=\"evenodd\" fill-opacity=\"1\" /><polyline clip-path=\"url(#clip240)\" style=\"stroke:#3da44d; stroke-linecap:butt; stroke-linejoin:round; stroke-width:4; stroke-opacity:1; fill:none\" points=\"\n",
       "  2006.86,250.738 2153.3,250.738 \n",
       "  \"/>\n",
       "<path clip-path=\"url(#clip240)\" d=\"M2191.55 270.425 Q2189.75 275.055 2188.04 276.467 Q2186.32 277.879 2183.45 277.879 L2180.05 277.879 L2180.05 274.314 L2182.55 274.314 Q2184.31 274.314 2185.28 273.48 Q2186.25 272.647 2187.43 269.545 L2188.2 267.601 L2177.71 242.092 L2182.23 242.092 L2190.33 262.369 L2198.43 242.092 L2202.94 242.092 L2191.55 270.425 Z\" fill=\"#000000\" fill-rule=\"evenodd\" fill-opacity=\"1\" /><path clip-path=\"url(#clip240)\" d=\"M2223.59 249.383 Q2226.95 250.101 2228.82 252.369 Q2230.72 254.638 2230.72 257.971 Q2230.72 263.087 2227.2 265.888 Q2223.68 268.689 2217.2 268.689 Q2215.03 268.689 2212.71 268.249 Q2210.42 267.832 2207.97 266.976 L2207.97 262.462 Q2209.91 263.596 2212.22 264.175 Q2214.54 264.754 2217.06 264.754 Q2221.46 264.754 2223.75 263.018 Q2226.07 261.281 2226.07 257.971 Q2226.07 254.916 2223.91 253.203 Q2221.79 251.467 2217.97 251.467 L2213.94 251.467 L2213.94 247.624 L2218.15 247.624 Q2221.6 247.624 2223.43 246.258 Q2225.26 244.87 2225.26 242.277 Q2225.26 239.615 2223.36 238.203 Q2221.48 236.768 2217.97 236.768 Q2216.04 236.768 2213.85 237.184 Q2211.65 237.601 2209.01 238.481 L2209.01 234.314 Q2211.67 233.573 2213.98 233.203 Q2216.32 232.833 2218.38 232.833 Q2223.71 232.833 2226.81 235.263 Q2229.91 237.67 2229.91 241.791 Q2229.91 244.661 2228.27 246.652 Q2226.62 248.62 2223.59 249.383 Z\" fill=\"#000000\" fill-rule=\"evenodd\" fill-opacity=\"1\" /></svg>\n"
      ]
     },
     "execution_count": 64,
     "metadata": {},
     "output_type": "execute_result"
    }
   ],
   "source": [
    "plot(wvec, wvec, ylims=(0,2))\n",
    "plot!(wvec, cvec)\n",
    "plot!(wvec, wvec.*(1-1/p.r).+1.0/p.r)"
   ]
  },
  {
   "cell_type": "markdown",
   "metadata": {},
   "source": [
    "__Write a function `lifetime_reward(w_0::Number, θ_0::Number, θ_1::Number, p::NamedTuple)` which computes one realization of $\\sum \\beta^t U(c_t)$ for initial wealth `w_0` and simple rule `θ_0`, `θ_1`. Mathematically, we denote it by $\\xi(\\omega; \\theta_0, \\theta_1)$, where $\\omega$ represents the succession of random income draws.__"
   ]
  },
  {
   "cell_type": "code",
   "execution_count": 69,
   "metadata": {},
   "outputs": [],
   "source": [
    "using Statistics"
   ]
  },
  {
   "cell_type": "code",
   "execution_count": 71,
   "metadata": {},
   "outputs": [
    {
     "data": {
      "text/plain": [
       "0.9997369999124471"
      ]
     },
     "execution_count": 71,
     "metadata": {},
     "output_type": "execute_result"
    }
   ],
   "source": [
    "std([randn() for i=1:1000000])"
   ]
  },
  {
   "cell_type": "code",
   "execution_count": 109,
   "metadata": {},
   "outputs": [
    {
     "data": {
      "text/plain": [
       "lifetime_reward (generic function with 1 method)"
      ]
     },
     "execution_count": 109,
     "metadata": {},
     "output_type": "execute_result"
    }
   ],
   "source": [
    "function lifetime_reward(w_0, θ_0, θ_1, p; T=p.T, return_sim=false)\n",
    "    V = 0.0\n",
    "    δ = 1.0\n",
    "    return_sim ? sim = [] : nothing\n",
    "    for t=1:T\n",
    "        c_0 = consumption(w_0, θ_0, θ_1, p)\n",
    "        return_sim ? push!(sim, (;w=w_0, c=c_0)) : nothing\n",
    "        ϵ = randn()*p.σ\n",
    "        w_1 = (w_0 - c_0)*p.r + exp(ϵ)\n",
    "        w_0 = w_1\n",
    "        U_0 = c_0^(1-p.γ)/(1-p.γ)\n",
    "        \n",
    "        V += δ*U_0\n",
    "        δ *= p.β\n",
    "    end\n",
    "    if !return_sim\n",
    "        return V\n",
    "    else\n",
    "        return V, sim\n",
    "    end\n",
    "end"
   ]
  },
  {
   "cell_type": "code",
   "execution_count": 90,
   "metadata": {},
   "outputs": [
    {
     "data": {
      "text/plain": [
       "(-10.187777719695024, Any[(w = 1.1, c = 0.89), (w = 1.2450233716706482, c = 0.9335070115011945), (w = 1.2811353979723168, c = 0.944340619391695), (w = 1.4866950013176603, c = 1.006008500395298), (w = 1.463969302107319, c = 0.9991907906321957), (w = 1.5937254959244673, c = 1.0381176487773403), (w = 1.5173469226555065, c = 1.015204076796652), (w = 1.316035840396221, c = 0.9548107521188662), (w = 1.490743851355116, c = 1.0072231554065347), (w = 1.461791393568053, c = 0.998537418070416)  …  (w = 1.8546729699073947, c = 1.1164018909722184), (w = 1.7302986880169158, c = 1.0790896064050748), (w = 1.8025997525069983, c = 1.1007799257520996), (w = 1.724397215041446, c = 1.0773191645124338), (w = 1.7415138182102106, c = 1.0824541454630632), (w = 1.8519190234408986, c = 1.1155757070322696), (w = 1.747006365205586, c = 1.0841019095616757), (w = 1.766651537813773, c = 1.0899954613441318), (w = 1.5690663218272234, c = 1.030719896548167), (w = 1.522368051910922, c = 1.0167104155732767)])"
      ]
     },
     "execution_count": 90,
     "metadata": {},
     "output_type": "execute_result"
    }
   ],
   "source": [
    "V, sim1 = lifetime_reward(p.w0, 0.8, 0.3, p; return_sim=true)\n",
    "V, sim2 = lifetime_reward(p.w0, 0.8, 0.3, p; return_sim=true)\n",
    "V, sim3 = lifetime_reward(p.w0, 0.8, 0.3, p; return_sim=true)"
   ]
  },
  {
   "cell_type": "code",
   "execution_count": 91,
   "metadata": {},
   "outputs": [
    {
     "data": {
      "image/svg+xml": [
       "<?xml version=\"1.0\" encoding=\"utf-8\"?>\n",
       "<svg xmlns=\"http://www.w3.org/2000/svg\" xmlns:xlink=\"http://www.w3.org/1999/xlink\" width=\"600\" height=\"400\" viewBox=\"0 0 2400 1600\">\n",
       "<defs>\n",
       "  <clipPath id=\"clip440\">\n",
       "    <rect x=\"0\" y=\"0\" width=\"2400\" height=\"1600\"/>\n",
       "  </clipPath>\n",
       "</defs>\n",
       "<path clip-path=\"url(#clip440)\" d=\"\n",
       "M0 1600 L2400 1600 L2400 0 L0 0  Z\n",
       "  \" fill=\"#ffffff\" fill-rule=\"evenodd\" fill-opacity=\"1\"/>\n",
       "<defs>\n",
       "  <clipPath id=\"clip441\">\n",
       "    <rect x=\"480\" y=\"0\" width=\"1681\" height=\"1600\"/>\n",
       "  </clipPath>\n",
       "</defs>\n",
       "<path clip-path=\"url(#clip440)\" d=\"\n",
       "M155.765 1486.45 L2352.76 1486.45 L2352.76 47.2441 L155.765 47.2441  Z\n",
       "  \" fill=\"#ffffff\" fill-rule=\"evenodd\" fill-opacity=\"1\"/>\n",
       "<defs>\n",
       "  <clipPath id=\"clip442\">\n",
       "    <rect x=\"155\" y=\"47\" width=\"2198\" height=\"1440\"/>\n",
       "  </clipPath>\n",
       "</defs>\n",
       "<polyline clip-path=\"url(#clip442)\" style=\"stroke:#000000; stroke-linecap:butt; stroke-linejoin:round; stroke-width:2; stroke-opacity:0.1; fill:none\" points=\"\n",
       "  197.008,1486.45 197.008,47.2441 \n",
       "  \"/>\n",
       "<polyline clip-path=\"url(#clip442)\" style=\"stroke:#000000; stroke-linecap:butt; stroke-linejoin:round; stroke-width:2; stroke-opacity:0.1; fill:none\" points=\"\n",
       "  720.4,1486.45 720.4,47.2441 \n",
       "  \"/>\n",
       "<polyline clip-path=\"url(#clip442)\" style=\"stroke:#000000; stroke-linecap:butt; stroke-linejoin:round; stroke-width:2; stroke-opacity:0.1; fill:none\" points=\"\n",
       "  1243.79,1486.45 1243.79,47.2441 \n",
       "  \"/>\n",
       "<polyline clip-path=\"url(#clip442)\" style=\"stroke:#000000; stroke-linecap:butt; stroke-linejoin:round; stroke-width:2; stroke-opacity:0.1; fill:none\" points=\"\n",
       "  1767.18,1486.45 1767.18,47.2441 \n",
       "  \"/>\n",
       "<polyline clip-path=\"url(#clip442)\" style=\"stroke:#000000; stroke-linecap:butt; stroke-linejoin:round; stroke-width:2; stroke-opacity:0.1; fill:none\" points=\"\n",
       "  2290.58,1486.45 2290.58,47.2441 \n",
       "  \"/>\n",
       "<polyline clip-path=\"url(#clip440)\" style=\"stroke:#000000; stroke-linecap:butt; stroke-linejoin:round; stroke-width:4; stroke-opacity:1; fill:none\" points=\"\n",
       "  155.765,1486.45 2352.76,1486.45 \n",
       "  \"/>\n",
       "<polyline clip-path=\"url(#clip440)\" style=\"stroke:#000000; stroke-linecap:butt; stroke-linejoin:round; stroke-width:4; stroke-opacity:1; fill:none\" points=\"\n",
       "  197.008,1486.45 197.008,1467.55 \n",
       "  \"/>\n",
       "<polyline clip-path=\"url(#clip440)\" style=\"stroke:#000000; stroke-linecap:butt; stroke-linejoin:round; stroke-width:4; stroke-opacity:1; fill:none\" points=\"\n",
       "  720.4,1486.45 720.4,1467.55 \n",
       "  \"/>\n",
       "<polyline clip-path=\"url(#clip440)\" style=\"stroke:#000000; stroke-linecap:butt; stroke-linejoin:round; stroke-width:4; stroke-opacity:1; fill:none\" points=\"\n",
       "  1243.79,1486.45 1243.79,1467.55 \n",
       "  \"/>\n",
       "<polyline clip-path=\"url(#clip440)\" style=\"stroke:#000000; stroke-linecap:butt; stroke-linejoin:round; stroke-width:4; stroke-opacity:1; fill:none\" points=\"\n",
       "  1767.18,1486.45 1767.18,1467.55 \n",
       "  \"/>\n",
       "<polyline clip-path=\"url(#clip440)\" style=\"stroke:#000000; stroke-linecap:butt; stroke-linejoin:round; stroke-width:4; stroke-opacity:1; fill:none\" points=\"\n",
       "  2290.58,1486.45 2290.58,1467.55 \n",
       "  \"/>\n",
       "<path clip-path=\"url(#clip440)\" d=\"M197.008 1517.37 Q193.397 1517.37 191.568 1520.93 Q189.763 1524.47 189.763 1531.6 Q189.763 1538.71 191.568 1542.27 Q193.397 1545.82 197.008 1545.82 Q200.642 1545.82 202.448 1542.27 Q204.277 1538.71 204.277 1531.6 Q204.277 1524.47 202.448 1520.93 Q200.642 1517.37 197.008 1517.37 M197.008 1513.66 Q202.818 1513.66 205.874 1518.27 Q208.953 1522.85 208.953 1531.6 Q208.953 1540.33 205.874 1544.94 Q202.818 1549.52 197.008 1549.52 Q191.198 1549.52 188.119 1544.94 Q185.064 1540.33 185.064 1531.6 Q185.064 1522.85 188.119 1518.27 Q191.198 1513.66 197.008 1513.66 Z\" fill=\"#000000\" fill-rule=\"evenodd\" fill-opacity=\"1\" /><path clip-path=\"url(#clip440)\" d=\"M699.671 1544.91 L715.991 1544.91 L715.991 1548.85 L694.046 1548.85 L694.046 1544.91 Q696.708 1542.16 701.292 1537.53 Q705.898 1532.88 707.079 1531.53 Q709.324 1529.01 710.204 1527.27 Q711.106 1525.51 711.106 1523.82 Q711.106 1521.07 709.162 1519.33 Q707.241 1517.6 704.139 1517.6 Q701.94 1517.6 699.486 1518.36 Q697.056 1519.13 694.278 1520.68 L694.278 1515.95 Q697.102 1514.82 699.556 1514.24 Q702.009 1513.66 704.046 1513.66 Q709.417 1513.66 712.611 1516.35 Q715.806 1519.03 715.806 1523.52 Q715.806 1525.65 714.995 1527.57 Q714.208 1529.47 712.102 1532.07 Q711.523 1532.74 708.421 1535.95 Q705.319 1539.15 699.671 1544.91 Z\" fill=\"#000000\" fill-rule=\"evenodd\" fill-opacity=\"1\" /><path clip-path=\"url(#clip440)\" d=\"M725.852 1514.29 L744.208 1514.29 L744.208 1518.22 L730.134 1518.22 L730.134 1526.7 Q731.153 1526.35 732.171 1526.19 Q733.19 1526 734.208 1526 Q739.995 1526 743.375 1529.17 Q746.754 1532.34 746.754 1537.76 Q746.754 1543.34 743.282 1546.44 Q739.81 1549.52 733.491 1549.52 Q731.315 1549.52 729.046 1549.15 Q726.801 1548.78 724.393 1548.04 L724.393 1543.34 Q726.477 1544.47 728.699 1545.03 Q730.921 1545.58 733.398 1545.58 Q737.403 1545.58 739.741 1543.48 Q742.079 1541.37 742.079 1537.76 Q742.079 1534.15 739.741 1532.04 Q737.403 1529.94 733.398 1529.94 Q731.523 1529.94 729.648 1530.35 Q727.796 1530.77 725.852 1531.65 L725.852 1514.29 Z\" fill=\"#000000\" fill-rule=\"evenodd\" fill-opacity=\"1\" /><path clip-path=\"url(#clip440)\" d=\"M1218.49 1514.29 L1236.85 1514.29 L1236.85 1518.22 L1222.77 1518.22 L1222.77 1526.7 Q1223.79 1526.35 1224.81 1526.19 Q1225.83 1526 1226.85 1526 Q1232.64 1526 1236.01 1529.17 Q1239.39 1532.34 1239.39 1537.76 Q1239.39 1543.34 1235.92 1546.44 Q1232.45 1549.52 1226.13 1549.52 Q1223.95 1549.52 1221.69 1549.15 Q1219.44 1548.78 1217.03 1548.04 L1217.03 1543.34 Q1219.12 1544.47 1221.34 1545.03 Q1223.56 1545.58 1226.04 1545.58 Q1230.04 1545.58 1232.38 1543.48 Q1234.72 1541.37 1234.72 1537.76 Q1234.72 1534.15 1232.38 1532.04 Q1230.04 1529.94 1226.04 1529.94 Q1224.16 1529.94 1222.29 1530.35 Q1220.44 1530.77 1218.49 1531.65 L1218.49 1514.29 Z\" fill=\"#000000\" fill-rule=\"evenodd\" fill-opacity=\"1\" /><path clip-path=\"url(#clip440)\" d=\"M1258.61 1517.37 Q1255 1517.37 1253.17 1520.93 Q1251.36 1524.47 1251.36 1531.6 Q1251.36 1538.71 1253.17 1542.27 Q1255 1545.82 1258.61 1545.82 Q1262.24 1545.82 1264.05 1542.27 Q1265.88 1538.71 1265.88 1531.6 Q1265.88 1524.47 1264.05 1520.93 Q1262.24 1517.37 1258.61 1517.37 M1258.61 1513.66 Q1264.42 1513.66 1267.47 1518.27 Q1270.55 1522.85 1270.55 1531.6 Q1270.55 1540.33 1267.47 1544.94 Q1264.42 1549.52 1258.61 1549.52 Q1252.8 1549.52 1249.72 1544.94 Q1246.66 1540.33 1246.66 1531.6 Q1246.66 1522.85 1249.72 1518.27 Q1252.8 1513.66 1258.61 1513.66 Z\" fill=\"#000000\" fill-rule=\"evenodd\" fill-opacity=\"1\" /><path clip-path=\"url(#clip440)\" d=\"M1741.04 1514.29 L1763.26 1514.29 L1763.26 1516.28 L1750.71 1548.85 L1745.83 1548.85 L1757.64 1518.22 L1741.04 1518.22 L1741.04 1514.29 Z\" fill=\"#000000\" fill-rule=\"evenodd\" fill-opacity=\"1\" /><path clip-path=\"url(#clip440)\" d=\"M1772.43 1514.29 L1790.78 1514.29 L1790.78 1518.22 L1776.71 1518.22 L1776.71 1526.7 Q1777.73 1526.35 1778.75 1526.19 Q1779.77 1526 1780.78 1526 Q1786.57 1526 1789.95 1529.17 Q1793.33 1532.34 1793.33 1537.76 Q1793.33 1543.34 1789.86 1546.44 Q1786.39 1549.52 1780.07 1549.52 Q1777.89 1549.52 1775.62 1549.15 Q1773.38 1548.78 1770.97 1548.04 L1770.97 1543.34 Q1773.05 1544.47 1775.27 1545.03 Q1777.5 1545.58 1779.97 1545.58 Q1783.98 1545.58 1786.32 1543.48 Q1788.65 1541.37 1788.65 1537.76 Q1788.65 1534.15 1786.32 1532.04 Q1783.98 1529.94 1779.97 1529.94 Q1778.1 1529.94 1776.22 1530.35 Q1774.37 1530.77 1772.43 1531.65 L1772.43 1514.29 Z\" fill=\"#000000\" fill-rule=\"evenodd\" fill-opacity=\"1\" /><path clip-path=\"url(#clip440)\" d=\"M2250.18 1544.91 L2257.82 1544.91 L2257.82 1518.55 L2249.51 1520.21 L2249.51 1515.95 L2257.78 1514.29 L2262.45 1514.29 L2262.45 1544.91 L2270.09 1544.91 L2270.09 1548.85 L2250.18 1548.85 L2250.18 1544.91 Z\" fill=\"#000000\" fill-rule=\"evenodd\" fill-opacity=\"1\" /><path clip-path=\"url(#clip440)\" d=\"M2289.54 1517.37 Q2285.92 1517.37 2284.1 1520.93 Q2282.29 1524.47 2282.29 1531.6 Q2282.29 1538.71 2284.1 1542.27 Q2285.92 1545.82 2289.54 1545.82 Q2293.17 1545.82 2294.98 1542.27 Q2296.8 1538.71 2296.8 1531.6 Q2296.8 1524.47 2294.98 1520.93 Q2293.17 1517.37 2289.54 1517.37 M2289.54 1513.66 Q2295.35 1513.66 2298.4 1518.27 Q2301.48 1522.85 2301.48 1531.6 Q2301.48 1540.33 2298.4 1544.94 Q2295.35 1549.52 2289.54 1549.52 Q2283.73 1549.52 2280.65 1544.94 Q2277.59 1540.33 2277.59 1531.6 Q2277.59 1522.85 2280.65 1518.27 Q2283.73 1513.66 2289.54 1513.66 Z\" fill=\"#000000\" fill-rule=\"evenodd\" fill-opacity=\"1\" /><path clip-path=\"url(#clip440)\" d=\"M2319.7 1517.37 Q2316.09 1517.37 2314.26 1520.93 Q2312.45 1524.47 2312.45 1531.6 Q2312.45 1538.71 2314.26 1542.27 Q2316.09 1545.82 2319.7 1545.82 Q2323.33 1545.82 2325.14 1542.27 Q2326.97 1538.71 2326.97 1531.6 Q2326.97 1524.47 2325.14 1520.93 Q2323.33 1517.37 2319.7 1517.37 M2319.7 1513.66 Q2325.51 1513.66 2328.56 1518.27 Q2331.64 1522.85 2331.64 1531.6 Q2331.64 1540.33 2328.56 1544.94 Q2325.51 1549.52 2319.7 1549.52 Q2313.89 1549.52 2310.81 1544.94 Q2307.75 1540.33 2307.75 1531.6 Q2307.75 1522.85 2310.81 1518.27 Q2313.89 1513.66 2319.7 1513.66 Z\" fill=\"#000000\" fill-rule=\"evenodd\" fill-opacity=\"1\" /><polyline clip-path=\"url(#clip442)\" style=\"stroke:#000000; stroke-linecap:butt; stroke-linejoin:round; stroke-width:2; stroke-opacity:0.1; fill:none\" points=\"\n",
       "  155.765,1312.57 2352.76,1312.57 \n",
       "  \"/>\n",
       "<polyline clip-path=\"url(#clip442)\" style=\"stroke:#000000; stroke-linecap:butt; stroke-linejoin:round; stroke-width:2; stroke-opacity:0.1; fill:none\" points=\"\n",
       "  155.765,1046.28 2352.76,1046.28 \n",
       "  \"/>\n",
       "<polyline clip-path=\"url(#clip442)\" style=\"stroke:#000000; stroke-linecap:butt; stroke-linejoin:round; stroke-width:2; stroke-opacity:0.1; fill:none\" points=\"\n",
       "  155.765,779.993 2352.76,779.993 \n",
       "  \"/>\n",
       "<polyline clip-path=\"url(#clip442)\" style=\"stroke:#000000; stroke-linecap:butt; stroke-linejoin:round; stroke-width:2; stroke-opacity:0.1; fill:none\" points=\"\n",
       "  155.765,513.704 2352.76,513.704 \n",
       "  \"/>\n",
       "<polyline clip-path=\"url(#clip442)\" style=\"stroke:#000000; stroke-linecap:butt; stroke-linejoin:round; stroke-width:2; stroke-opacity:0.1; fill:none\" points=\"\n",
       "  155.765,247.415 2352.76,247.415 \n",
       "  \"/>\n",
       "<polyline clip-path=\"url(#clip440)\" style=\"stroke:#000000; stroke-linecap:butt; stroke-linejoin:round; stroke-width:4; stroke-opacity:1; fill:none\" points=\"\n",
       "  155.765,1486.45 155.765,47.2441 \n",
       "  \"/>\n",
       "<polyline clip-path=\"url(#clip440)\" style=\"stroke:#000000; stroke-linecap:butt; stroke-linejoin:round; stroke-width:4; stroke-opacity:1; fill:none\" points=\"\n",
       "  155.765,1312.57 174.663,1312.57 \n",
       "  \"/>\n",
       "<polyline clip-path=\"url(#clip440)\" style=\"stroke:#000000; stroke-linecap:butt; stroke-linejoin:round; stroke-width:4; stroke-opacity:1; fill:none\" points=\"\n",
       "  155.765,1046.28 174.663,1046.28 \n",
       "  \"/>\n",
       "<polyline clip-path=\"url(#clip440)\" style=\"stroke:#000000; stroke-linecap:butt; stroke-linejoin:round; stroke-width:4; stroke-opacity:1; fill:none\" points=\"\n",
       "  155.765,779.993 174.663,779.993 \n",
       "  \"/>\n",
       "<polyline clip-path=\"url(#clip440)\" style=\"stroke:#000000; stroke-linecap:butt; stroke-linejoin:round; stroke-width:4; stroke-opacity:1; fill:none\" points=\"\n",
       "  155.765,513.704 174.663,513.704 \n",
       "  \"/>\n",
       "<polyline clip-path=\"url(#clip440)\" style=\"stroke:#000000; stroke-linecap:butt; stroke-linejoin:round; stroke-width:4; stroke-opacity:1; fill:none\" points=\"\n",
       "  155.765,247.415 174.663,247.415 \n",
       "  \"/>\n",
       "<path clip-path=\"url(#clip440)\" d=\"M54.9967 1325.92 L62.6356 1325.92 L62.6356 1299.55 L54.3254 1301.22 L54.3254 1296.96 L62.5893 1295.29 L67.2652 1295.29 L67.2652 1325.92 L74.904 1325.92 L74.904 1329.85 L54.9967 1329.85 L54.9967 1325.92 Z\" fill=\"#000000\" fill-rule=\"evenodd\" fill-opacity=\"1\" /><path clip-path=\"url(#clip440)\" d=\"M84.3484 1323.97 L89.2327 1323.97 L89.2327 1329.85 L84.3484 1329.85 L84.3484 1323.97 Z\" fill=\"#000000\" fill-rule=\"evenodd\" fill-opacity=\"1\" /><path clip-path=\"url(#clip440)\" d=\"M103.446 1325.92 L119.765 1325.92 L119.765 1329.85 L97.8206 1329.85 L97.8206 1325.92 Q100.483 1323.16 105.066 1318.53 Q109.672 1313.88 110.853 1312.54 Q113.098 1310.01 113.978 1308.28 Q114.881 1306.52 114.881 1304.83 Q114.881 1302.07 112.936 1300.34 Q111.015 1298.6 107.913 1298.6 Q105.714 1298.6 103.26 1299.37 Q100.83 1300.13 98.0521 1301.68 L98.0521 1296.96 Q100.876 1295.82 103.33 1295.24 Q105.783 1294.67 107.821 1294.67 Q113.191 1294.67 116.385 1297.35 Q119.58 1300.04 119.58 1304.53 Q119.58 1306.66 118.77 1308.58 Q117.983 1310.48 115.876 1313.07 Q115.297 1313.74 112.196 1316.96 Q109.094 1320.15 103.446 1325.92 Z\" fill=\"#000000\" fill-rule=\"evenodd\" fill-opacity=\"1\" /><path clip-path=\"url(#clip440)\" d=\"M52.9134 1059.63 L60.5523 1059.63 L60.5523 1033.26 L52.2421 1034.93 L52.2421 1030.67 L60.506 1029 L65.1819 1029 L65.1819 1059.63 L72.8207 1059.63 L72.8207 1063.56 L52.9134 1063.56 L52.9134 1059.63 Z\" fill=\"#000000\" fill-rule=\"evenodd\" fill-opacity=\"1\" /><path clip-path=\"url(#clip440)\" d=\"M82.2651 1057.68 L87.1493 1057.68 L87.1493 1063.56 L82.2651 1063.56 L82.2651 1057.68 Z\" fill=\"#000000\" fill-rule=\"evenodd\" fill-opacity=\"1\" /><path clip-path=\"url(#clip440)\" d=\"M110.182 1033.08 L98.3761 1051.53 L110.182 1051.53 L110.182 1033.08 M108.955 1029 L114.834 1029 L114.834 1051.53 L119.765 1051.53 L119.765 1055.41 L114.834 1055.41 L114.834 1063.56 L110.182 1063.56 L110.182 1055.41 L94.5799 1055.41 L94.5799 1050.9 L108.955 1029 Z\" fill=\"#000000\" fill-rule=\"evenodd\" fill-opacity=\"1\" /><path clip-path=\"url(#clip440)\" d=\"M53.2375 793.338 L60.8763 793.338 L60.8763 766.972 L52.5662 768.639 L52.5662 764.38 L60.83 762.713 L65.5059 762.713 L65.5059 793.338 L73.1448 793.338 L73.1448 797.273 L53.2375 797.273 L53.2375 793.338 Z\" fill=\"#000000\" fill-rule=\"evenodd\" fill-opacity=\"1\" /><path clip-path=\"url(#clip440)\" d=\"M82.5892 791.393 L87.4734 791.393 L87.4734 797.273 L82.5892 797.273 L82.5892 791.393 Z\" fill=\"#000000\" fill-rule=\"evenodd\" fill-opacity=\"1\" /><path clip-path=\"url(#clip440)\" d=\"M108.237 778.13 Q105.089 778.13 103.237 780.282 Q101.409 782.435 101.409 786.185 Q101.409 789.912 103.237 792.088 Q105.089 794.241 108.237 794.241 Q111.385 794.241 113.214 792.088 Q115.066 789.912 115.066 786.185 Q115.066 782.435 113.214 780.282 Q111.385 778.13 108.237 778.13 M117.52 763.477 L117.52 767.736 Q115.76 766.903 113.955 766.463 Q112.172 766.023 110.413 766.023 Q105.783 766.023 103.33 769.148 Q100.899 772.273 100.552 778.593 Q101.918 776.579 103.978 775.514 Q106.038 774.426 108.515 774.426 Q113.723 774.426 116.733 777.597 Q119.765 780.745 119.765 786.185 Q119.765 791.509 116.617 794.727 Q113.469 797.944 108.237 797.944 Q102.242 797.944 99.0706 793.361 Q95.8993 788.755 95.8993 780.028 Q95.8993 771.833 99.7882 766.972 Q103.677 762.088 110.228 762.088 Q111.987 762.088 113.77 762.435 Q115.575 762.782 117.52 763.477 Z\" fill=\"#000000\" fill-rule=\"evenodd\" fill-opacity=\"1\" /><path clip-path=\"url(#clip440)\" d=\"M53.4921 527.049 L61.131 527.049 L61.131 500.683 L52.8208 502.35 L52.8208 498.091 L61.0847 496.424 L65.7606 496.424 L65.7606 527.049 L73.3994 527.049 L73.3994 530.984 L53.4921 530.984 L53.4921 527.049 Z\" fill=\"#000000\" fill-rule=\"evenodd\" fill-opacity=\"1\" /><path clip-path=\"url(#clip440)\" d=\"M82.8438 525.104 L87.728 525.104 L87.728 530.984 L82.8438 530.984 L82.8438 525.104 Z\" fill=\"#000000\" fill-rule=\"evenodd\" fill-opacity=\"1\" /><path clip-path=\"url(#clip440)\" d=\"M107.913 514.572 Q104.58 514.572 102.659 516.354 Q100.76 518.137 100.76 521.262 Q100.76 524.387 102.659 526.169 Q104.58 527.952 107.913 527.952 Q111.246 527.952 113.168 526.169 Q115.089 524.364 115.089 521.262 Q115.089 518.137 113.168 516.354 Q111.27 514.572 107.913 514.572 M103.237 512.581 Q100.228 511.841 98.5382 509.78 Q96.8715 507.72 96.8715 504.757 Q96.8715 500.614 99.8113 498.206 Q102.774 495.799 107.913 495.799 Q113.075 495.799 116.015 498.206 Q118.955 500.614 118.955 504.757 Q118.955 507.72 117.265 509.78 Q115.598 511.841 112.612 512.581 Q115.992 513.368 117.867 515.66 Q119.765 517.952 119.765 521.262 Q119.765 526.285 116.686 528.97 Q113.631 531.655 107.913 531.655 Q102.196 531.655 99.1169 528.97 Q96.0613 526.285 96.0613 521.262 Q96.0613 517.952 97.9595 515.66 Q99.8576 513.368 103.237 512.581 M101.524 505.197 Q101.524 507.882 103.191 509.387 Q104.881 510.891 107.913 510.891 Q110.922 510.891 112.612 509.387 Q114.325 507.882 114.325 505.197 Q114.325 502.512 112.612 501.007 Q110.922 499.503 107.913 499.503 Q104.881 499.503 103.191 501.007 Q101.524 502.512 101.524 505.197 Z\" fill=\"#000000\" fill-rule=\"evenodd\" fill-opacity=\"1\" /><path clip-path=\"url(#clip440)\" d=\"M56.6171 260.76 L72.9365 260.76 L72.9365 264.695 L50.9921 264.695 L50.9921 260.76 Q53.6541 258.005 58.2375 253.375 Q62.8439 248.723 64.0245 247.38 Q66.2698 244.857 67.1494 243.121 Q68.0522 241.362 68.0522 239.672 Q68.0522 236.917 66.1078 235.181 Q64.1865 233.445 61.0847 233.445 Q58.8856 233.445 56.4319 234.209 Q54.0014 234.973 51.2236 236.524 L51.2236 231.802 Q54.0477 230.667 56.5014 230.089 Q58.955 229.51 60.9921 229.51 Q66.3624 229.51 69.5568 232.195 Q72.7513 234.88 72.7513 239.371 Q72.7513 241.501 71.9411 243.422 Q71.1541 245.32 69.0476 247.913 Q68.4689 248.584 65.367 251.801 Q62.2652 254.996 56.6171 260.76 Z\" fill=\"#000000\" fill-rule=\"evenodd\" fill-opacity=\"1\" /><path clip-path=\"url(#clip440)\" d=\"M82.7512 258.815 L87.6354 258.815 L87.6354 264.695 L82.7512 264.695 L82.7512 258.815 Z\" fill=\"#000000\" fill-rule=\"evenodd\" fill-opacity=\"1\" /><path clip-path=\"url(#clip440)\" d=\"M107.821 233.214 Q104.209 233.214 102.381 236.778 Q100.575 240.32 100.575 247.45 Q100.575 254.556 102.381 258.121 Q104.209 261.662 107.821 261.662 Q111.455 261.662 113.26 258.121 Q115.089 254.556 115.089 247.45 Q115.089 240.32 113.26 236.778 Q111.455 233.214 107.821 233.214 M107.821 229.51 Q113.631 229.51 116.686 234.116 Q119.765 238.7 119.765 247.45 Q119.765 256.176 116.686 260.783 Q113.631 265.366 107.821 265.366 Q102.01 265.366 98.9317 260.783 Q95.8761 256.176 95.8761 247.45 Q95.8761 238.7 98.9317 234.116 Q102.01 229.51 107.821 229.51 Z\" fill=\"#000000\" fill-rule=\"evenodd\" fill-opacity=\"1\" /><polyline clip-path=\"url(#clip442)\" style=\"stroke:#009af9; stroke-linecap:butt; stroke-linejoin:round; stroke-width:4; stroke-opacity:1; fill:none\" points=\"\n",
       "  217.944,1445.72 238.88,1237.22 259.815,1269.31 280.751,1042.37 301.687,999.686 322.622,968.577 343.558,913.108 364.494,966.65 385.429,881.703 406.365,916.301 \n",
       "  427.301,928.218 448.236,1082.17 469.172,1086.34 490.108,963.385 511.044,884.617 531.979,990.275 552.915,753.449 573.851,529.811 594.786,902.832 615.722,1168.58 \n",
       "  636.658,1231.47 657.593,1020.04 678.529,1065.43 699.465,994.026 720.4,1084.45 741.336,1045.64 762.272,1123.33 783.207,1284.94 804.143,1302.9 825.079,1298.16 \n",
       "  846.015,1035.16 866.95,1039.16 887.886,853.186 908.822,957.995 929.757,990.306 950.693,808.541 971.629,569.103 992.564,601.44 1013.5,622.769 1034.44,647.831 \n",
       "  1055.37,661.859 1076.31,701.282 1097.24,719.414 1118.18,788.336 1139.11,767.938 1160.05,649.802 1180.99,702.48 1201.92,684.668 1222.86,691.778 1243.79,837.977 \n",
       "  1264.73,842.585 1285.66,1061.49 1306.6,1097.67 1327.54,1210.32 1348.47,1289.56 1369.41,1074.89 1390.34,951.334 1411.28,857.641 1432.21,879.542 1453.15,993.367 \n",
       "  1474.09,885.276 1495.02,969.314 1515.96,948.617 1536.89,789.364 1557.83,996.945 1578.76,1017.24 1599.7,1175.75 1620.63,1102.5 1641.57,1272.13 1662.51,1320.11 \n",
       "  1683.44,1125.07 1704.38,947.403 1725.31,967.88 1746.25,1008.37 1767.18,906.75 1788.12,857.533 1809.06,834.125 1829.99,642.089 1850.93,630.474 1871.86,656.399 \n",
       "  1892.8,641.467 1913.73,637.628 1934.67,719.98 1955.61,729.339 1976.54,773.722 1997.48,1123.69 2018.41,1112.31 2039.35,1034.94 2060.28,986.664 2081.22,1105.85 \n",
       "  2102.16,1052.87 2123.09,1049.39 2144.03,998.162 2164.96,1120.4 2185.9,872.268 2206.83,949.458 2227.77,979.202 2248.71,787.268 2269.64,945.2 2290.58,982.362 \n",
       "  \n",
       "  \"/>\n",
       "<polyline clip-path=\"url(#clip442)\" style=\"stroke:#e26f46; stroke-linecap:butt; stroke-linejoin:round; stroke-width:4; stroke-opacity:1; fill:none\" points=\"\n",
       "  217.944,1445.72 238.88,1191.97 259.815,1112.02 280.751,1092.98 301.687,1240.32 322.622,1231.65 343.558,1201.52 364.494,1151.65 385.429,1134.92 406.365,932.088 \n",
       "  427.301,1003.72 448.236,869.856 469.172,761.977 490.108,553.969 511.044,786.753 531.979,805.495 552.915,872.897 573.851,882.079 594.786,1070.36 615.722,951.373 \n",
       "  636.658,968.058 657.593,1124.06 678.529,962.066 699.465,774.333 720.4,897.417 741.336,937.727 762.272,1194.04 783.207,1230.74 804.143,1160.45 825.079,1169.89 \n",
       "  846.015,1015.25 866.95,892.503 887.886,879.206 908.822,906.299 929.757,810.867 950.693,600.226 971.629,698.368 992.564,819.54 1013.5,982.11 1034.44,775.779 \n",
       "  1055.37,867.472 1076.31,579.477 1097.24,482.835 1118.18,536.489 1139.11,638.374 1160.05,512.752 1180.99,571.205 1201.92,779.771 1222.86,738.566 1243.79,883.239 \n",
       "  1264.73,765.772 1285.66,826.02 1306.6,1091.19 1327.54,1094.58 1348.47,1059.8 1369.41,924.274 1390.34,764.021 1411.28,878.1 1432.21,868.635 1453.15,992.64 \n",
       "  1474.09,1157.64 1495.02,814.316 1515.96,861.743 1536.89,724.933 1557.83,826.626 1578.76,867.968 1599.7,846.178 1620.63,967.889 1641.57,1023.18 1662.51,980.876 \n",
       "  1683.44,978.387 1704.38,1061.21 1725.31,1192.71 1746.25,1281.14 1767.18,1048.71 1788.12,947.802 1809.06,937.8 1829.99,910.834 1850.93,657.368 1871.86,769.648 \n",
       "  1892.8,705.425 1913.73,940.556 1934.67,1017.78 1955.61,941.494 1976.54,884.38 1997.48,847.125 2018.41,788.079 2039.35,1005.27 2060.28,986.422 2081.22,1176.79 \n",
       "  2102.16,1217.89 2123.09,982.87 2144.03,812.964 2164.96,929.436 2185.9,898.925 2206.83,682.36 2227.77,809.361 2248.71,1002.17 2269.64,1215.19 2290.58,1294.3 \n",
       "  \n",
       "  \"/>\n",
       "<polyline clip-path=\"url(#clip442)\" style=\"stroke:#3da44d; stroke-linecap:butt; stroke-linejoin:round; stroke-width:4; stroke-opacity:1; fill:none\" points=\"\n",
       "  217.944,1445.72 238.88,1252.62 259.815,1204.54 280.751,930.852 301.687,961.11 322.622,788.347 343.558,890.041 364.494,1158.08 385.429,925.462 406.365,964.01 \n",
       "  427.301,780.934 448.236,927.469 469.172,981.401 490.108,888.776 511.044,1071.43 531.979,1002.08 552.915,876.312 573.851,1016.77 594.786,1133.37 615.722,1030.49 \n",
       "  636.658,871.612 657.593,658.572 678.529,811.24 699.465,896.952 720.4,877.15 741.336,871.951 762.272,994.449 783.207,911.592 804.143,854.676 825.079,1025.36 \n",
       "  846.015,1002.41 866.95,816.644 887.886,921.189 908.822,872.108 929.757,771.832 950.693,625.589 971.629,726.286 992.564,758.543 1013.5,877.757 1034.44,882.992 \n",
       "  1055.37,1014.67 1076.31,977.741 1097.24,824.604 1118.18,499.697 1139.11,470.062 1160.05,617.709 1180.99,380.973 1201.92,87.9763 1222.86,467.789 1243.79,603.946 \n",
       "  1264.73,616.887 1285.66,656.229 1306.6,746.129 1327.54,729.877 1348.47,801.148 1369.41,579.129 1390.34,674.622 1411.28,783.365 1432.21,992.715 1453.15,928.73 \n",
       "  1474.09,852.555 1495.02,1011.67 1515.96,937.845 1536.89,773.639 1557.83,824.983 1578.76,841.617 1599.7,857.787 1620.63,781.703 1641.57,813.457 1662.51,935.891 \n",
       "  1683.44,802.969 1704.38,752.931 1725.31,855.797 1746.25,925.081 1767.18,898.355 1788.12,997.964 1809.06,951.684 1829.99,758.211 1850.93,851.355 1871.86,854.648 \n",
       "  1892.8,888.541 1913.73,629.067 1934.67,807.967 1955.61,663.644 1976.54,626.286 1997.48,616.486 2018.41,761.09 2039.35,498.837 2060.28,603.707 2081.22,566.486 \n",
       "  2102.16,440.91 2123.09,606.507 2144.03,510.243 2164.96,614.365 2185.9,591.575 2206.83,444.577 2227.77,584.262 2248.71,558.106 2269.64,821.18 2290.58,883.356 \n",
       "  \n",
       "  \"/>\n",
       "<path clip-path=\"url(#clip440)\" d=\"\n",
       "M1982.4 302.578 L2279.52 302.578 L2279.52 95.2176 L1982.4 95.2176  Z\n",
       "  \" fill=\"#ffffff\" fill-rule=\"evenodd\" fill-opacity=\"1\"/>\n",
       "<polyline clip-path=\"url(#clip440)\" style=\"stroke:#000000; stroke-linecap:butt; stroke-linejoin:round; stroke-width:4; stroke-opacity:1; fill:none\" points=\"\n",
       "  1982.4,302.578 2279.52,302.578 2279.52,95.2176 1982.4,95.2176 1982.4,302.578 \n",
       "  \"/>\n",
       "<polyline clip-path=\"url(#clip440)\" style=\"stroke:#009af9; stroke-linecap:butt; stroke-linejoin:round; stroke-width:4; stroke-opacity:1; fill:none\" points=\"\n",
       "  2006.81,147.058 2153.28,147.058 \n",
       "  \"/>\n",
       "<path clip-path=\"url(#clip440)\" d=\"M2191.53 166.745 Q2189.73 171.375 2188.02 172.787 Q2186.3 174.199 2183.43 174.199 L2180.03 174.199 L2180.03 170.634 L2182.53 170.634 Q2184.29 170.634 2185.26 169.8 Q2186.23 168.967 2187.41 165.865 L2188.18 163.921 L2177.69 138.412 L2182.21 138.412 L2190.31 158.689 L2198.41 138.412 L2202.92 138.412 L2191.53 166.745 Z\" fill=\"#000000\" fill-rule=\"evenodd\" fill-opacity=\"1\" /><path clip-path=\"url(#clip440)\" d=\"M2210.21 160.402 L2217.85 160.402 L2217.85 134.037 L2209.54 135.703 L2209.54 131.444 L2217.81 129.778 L2222.48 129.778 L2222.48 160.402 L2230.12 160.402 L2230.12 164.338 L2210.21 164.338 L2210.21 160.402 Z\" fill=\"#000000\" fill-rule=\"evenodd\" fill-opacity=\"1\" /><polyline clip-path=\"url(#clip440)\" style=\"stroke:#e26f46; stroke-linecap:butt; stroke-linejoin:round; stroke-width:4; stroke-opacity:1; fill:none\" points=\"\n",
       "  2006.81,198.898 2153.28,198.898 \n",
       "  \"/>\n",
       "<path clip-path=\"url(#clip440)\" d=\"M2191.53 218.585 Q2189.73 223.215 2188.02 224.627 Q2186.3 226.039 2183.43 226.039 L2180.03 226.039 L2180.03 222.474 L2182.53 222.474 Q2184.29 222.474 2185.26 221.64 Q2186.23 220.807 2187.41 217.705 L2188.18 215.761 L2177.69 190.252 L2182.21 190.252 L2190.31 210.529 L2198.41 190.252 L2202.92 190.252 L2191.53 218.585 Z\" fill=\"#000000\" fill-rule=\"evenodd\" fill-opacity=\"1\" /><path clip-path=\"url(#clip440)\" d=\"M2213.43 212.242 L2229.75 212.242 L2229.75 216.178 L2207.81 216.178 L2207.81 212.242 Q2210.47 209.488 2215.05 204.858 Q2219.66 200.205 2220.84 198.863 Q2223.09 196.34 2223.96 194.604 Q2224.87 192.844 2224.87 191.155 Q2224.87 188.4 2222.92 186.664 Q2221 184.928 2217.9 184.928 Q2215.7 184.928 2213.25 185.692 Q2210.82 186.455 2208.04 188.006 L2208.04 183.284 Q2210.86 182.15 2213.32 181.571 Q2215.77 180.993 2217.81 180.993 Q2223.18 180.993 2226.37 183.678 Q2229.57 186.363 2229.57 190.854 Q2229.57 192.983 2228.76 194.905 Q2227.97 196.803 2225.86 199.395 Q2225.28 200.067 2222.18 203.284 Q2219.08 206.479 2213.43 212.242 Z\" fill=\"#000000\" fill-rule=\"evenodd\" fill-opacity=\"1\" /><polyline clip-path=\"url(#clip440)\" style=\"stroke:#3da44d; stroke-linecap:butt; stroke-linejoin:round; stroke-width:4; stroke-opacity:1; fill:none\" points=\"\n",
       "  2006.81,250.738 2153.28,250.738 \n",
       "  \"/>\n",
       "<path clip-path=\"url(#clip440)\" d=\"M2191.53 270.425 Q2189.73 275.055 2188.02 276.467 Q2186.3 277.879 2183.43 277.879 L2180.03 277.879 L2180.03 274.314 L2182.53 274.314 Q2184.29 274.314 2185.26 273.48 Q2186.23 272.647 2187.41 269.545 L2188.18 267.601 L2177.69 242.092 L2182.21 242.092 L2190.31 262.369 L2198.41 242.092 L2202.92 242.092 L2191.53 270.425 Z\" fill=\"#000000\" fill-rule=\"evenodd\" fill-opacity=\"1\" /><path clip-path=\"url(#clip440)\" d=\"M2223.57 249.383 Q2226.93 250.101 2228.8 252.369 Q2230.7 254.638 2230.7 257.971 Q2230.7 263.087 2227.18 265.888 Q2223.66 268.689 2217.18 268.689 Q2215.01 268.689 2212.69 268.249 Q2210.4 267.832 2207.95 266.976 L2207.95 262.462 Q2209.89 263.596 2212.21 264.175 Q2214.52 264.754 2217.04 264.754 Q2221.44 264.754 2223.73 263.018 Q2226.05 261.281 2226.05 257.971 Q2226.05 254.916 2223.9 253.203 Q2221.77 251.467 2217.95 251.467 L2213.92 251.467 L2213.92 247.624 L2218.13 247.624 Q2221.58 247.624 2223.41 246.258 Q2225.24 244.87 2225.24 242.277 Q2225.24 239.615 2223.34 238.203 Q2221.46 236.768 2217.95 236.768 Q2216.03 236.768 2213.83 237.184 Q2211.63 237.601 2208.99 238.481 L2208.99 234.314 Q2211.65 233.573 2213.96 233.203 Q2216.3 232.833 2218.36 232.833 Q2223.69 232.833 2226.79 235.263 Q2229.89 237.67 2229.89 241.791 Q2229.89 244.661 2228.25 246.652 Q2226.6 248.62 2223.57 249.383 Z\" fill=\"#000000\" fill-rule=\"evenodd\" fill-opacity=\"1\" /></svg>\n"
      ]
     },
     "execution_count": 91,
     "metadata": {},
     "output_type": "execute_result"
    }
   ],
   "source": [
    "plot([e.w for e in sim1])\n",
    "plot!([e.w for e in sim2])\n",
    "plot!([e.w for e in sim3])"
   ]
  },
  {
   "cell_type": "markdown",
   "metadata": {},
   "source": [
    "__Write a function `expected_lifetime_reward(w_0::Number, θ_0::Number, θ_1::Number,  p::NamedTuple; N=1000)` which computes expected lifetime reward using `N` Monte-Carlo draws. Mathematically, we write it $\\Xi^{N}(\\theta_0, \\theta_1) =\\frac{1}{N} \\sum_1^N {\\xi(\\omega_N; \\theta_0, \\theta_1)}$. Check empirically that standard deviation of these draws decrease proportionally to $\\frac{1}{\\sqrt{N}}$ .__"
   ]
  },
  {
   "cell_type": "code",
   "execution_count": 106,
   "metadata": {},
   "outputs": [
    {
     "data": {
      "text/plain": [
       "expected_lifetime_reward (generic function with 1 method)"
      ]
     },
     "execution_count": 106,
     "metadata": {},
     "output_type": "execute_result"
    }
   ],
   "source": [
    "expected_lifetime_reward(w_0, θ_0, θ_1, p; N=1000) = \n",
    "sum( lifetime_reward(w_0, θ_0, θ_1, p) for it in 1:N )/ N"
   ]
  },
  {
   "cell_type": "code",
   "execution_count": 111,
   "metadata": {},
   "outputs": [
    {
     "name": "stdout",
     "output_type": "stream",
     "text": [
      "  0.199967 seconds (3 allocations: 96 bytes)\n"
     ]
    },
    {
     "data": {
      "text/plain": [
       "-10.237567261278564"
      ]
     },
     "execution_count": 111,
     "metadata": {},
     "output_type": "execute_result"
    }
   ],
   "source": [
    "@time expected_lifetime_reward(p.w0, 0.8, 0.3, p; N=100000)"
   ]
  },
  {
   "cell_type": "code",
   "execution_count": 124,
   "metadata": {},
   "outputs": [
    {
     "data": {
      "text/plain": [
       "4-element Vector{Float64}:\n",
       " -10.272434542180445\n",
       " -10.261876137182862\n",
       " -10.236602350305729\n",
       " -10.237722904406546"
      ]
     },
     "execution_count": 124,
     "metadata": {},
     "output_type": "execute_result"
    }
   ],
   "source": [
    "Nvec = [10, 100, 1000, 10000]\n",
    "values = [expected_lifetime_reward(p.w0, 0.8, 0.3, p; N=n) for n in Nvec]"
   ]
  },
  {
   "cell_type": "code",
   "execution_count": 125,
   "metadata": {},
   "outputs": [
    {
     "data": {
      "image/svg+xml": [
       "<?xml version=\"1.0\" encoding=\"utf-8\"?>\n",
       "<svg xmlns=\"http://www.w3.org/2000/svg\" xmlns:xlink=\"http://www.w3.org/1999/xlink\" width=\"600\" height=\"400\" viewBox=\"0 0 2400 1600\">\n",
       "<defs>\n",
       "  <clipPath id=\"clip600\">\n",
       "    <rect x=\"0\" y=\"0\" width=\"2400\" height=\"1600\"/>\n",
       "  </clipPath>\n",
       "</defs>\n",
       "<path clip-path=\"url(#clip600)\" d=\"\n",
       "M0 1600 L2400 1600 L2400 0 L0 0  Z\n",
       "  \" fill=\"#ffffff\" fill-rule=\"evenodd\" fill-opacity=\"1\"/>\n",
       "<defs>\n",
       "  <clipPath id=\"clip601\">\n",
       "    <rect x=\"480\" y=\"0\" width=\"1681\" height=\"1600\"/>\n",
       "  </clipPath>\n",
       "</defs>\n",
       "<path clip-path=\"url(#clip600)\" d=\"\n",
       "M254.746 1486.45 L2352.76 1486.45 L2352.76 47.2441 L254.746 47.2441  Z\n",
       "  \" fill=\"#ffffff\" fill-rule=\"evenodd\" fill-opacity=\"1\"/>\n",
       "<defs>\n",
       "  <clipPath id=\"clip602\">\n",
       "    <rect x=\"254\" y=\"47\" width=\"2099\" height=\"1440\"/>\n",
       "  </clipPath>\n",
       "</defs>\n",
       "<polyline clip-path=\"url(#clip602)\" style=\"stroke:#000000; stroke-linecap:butt; stroke-linejoin:round; stroke-width:2; stroke-opacity:0.1; fill:none\" points=\"\n",
       "  314.123,1486.45 314.123,47.2441 \n",
       "  \"/>\n",
       "<polyline clip-path=\"url(#clip602)\" style=\"stroke:#000000; stroke-linecap:butt; stroke-linejoin:round; stroke-width:2; stroke-opacity:0.1; fill:none\" points=\"\n",
       "  973.875,1486.45 973.875,47.2441 \n",
       "  \"/>\n",
       "<polyline clip-path=\"url(#clip602)\" style=\"stroke:#000000; stroke-linecap:butt; stroke-linejoin:round; stroke-width:2; stroke-opacity:0.1; fill:none\" points=\"\n",
       "  1633.63,1486.45 1633.63,47.2441 \n",
       "  \"/>\n",
       "<polyline clip-path=\"url(#clip602)\" style=\"stroke:#000000; stroke-linecap:butt; stroke-linejoin:round; stroke-width:2; stroke-opacity:0.1; fill:none\" points=\"\n",
       "  2293.38,1486.45 2293.38,47.2441 \n",
       "  \"/>\n",
       "<polyline clip-path=\"url(#clip600)\" style=\"stroke:#000000; stroke-linecap:butt; stroke-linejoin:round; stroke-width:4; stroke-opacity:1; fill:none\" points=\"\n",
       "  254.746,1486.45 2352.76,1486.45 \n",
       "  \"/>\n",
       "<polyline clip-path=\"url(#clip600)\" style=\"stroke:#000000; stroke-linecap:butt; stroke-linejoin:round; stroke-width:4; stroke-opacity:1; fill:none\" points=\"\n",
       "  314.123,1486.45 314.123,1467.55 \n",
       "  \"/>\n",
       "<polyline clip-path=\"url(#clip600)\" style=\"stroke:#000000; stroke-linecap:butt; stroke-linejoin:round; stroke-width:4; stroke-opacity:1; fill:none\" points=\"\n",
       "  973.875,1486.45 973.875,1467.55 \n",
       "  \"/>\n",
       "<polyline clip-path=\"url(#clip600)\" style=\"stroke:#000000; stroke-linecap:butt; stroke-linejoin:round; stroke-width:4; stroke-opacity:1; fill:none\" points=\"\n",
       "  1633.63,1486.45 1633.63,1467.55 \n",
       "  \"/>\n",
       "<polyline clip-path=\"url(#clip600)\" style=\"stroke:#000000; stroke-linecap:butt; stroke-linejoin:round; stroke-width:4; stroke-opacity:1; fill:none\" points=\"\n",
       "  2293.38,1486.45 2293.38,1467.55 \n",
       "  \"/>\n",
       "<path clip-path=\"url(#clip600)\" d=\"M304.505 1544.91 L312.144 1544.91 L312.144 1518.55 L303.834 1520.21 L303.834 1515.95 L312.098 1514.29 L316.774 1514.29 L316.774 1544.91 L324.413 1544.91 L324.413 1548.85 L304.505 1548.85 L304.505 1544.91 Z\" fill=\"#000000\" fill-rule=\"evenodd\" fill-opacity=\"1\" /><path clip-path=\"url(#clip600)\" d=\"M968.528 1544.91 L984.847 1544.91 L984.847 1548.85 L962.903 1548.85 L962.903 1544.91 Q965.565 1542.16 970.148 1537.53 Q974.755 1532.88 975.935 1531.53 Q978.181 1529.01 979.06 1527.27 Q979.963 1525.51 979.963 1523.82 Q979.963 1521.07 978.019 1519.33 Q976.097 1517.6 972.995 1517.6 Q970.796 1517.6 968.343 1518.36 Q965.912 1519.13 963.134 1520.68 L963.134 1515.95 Q965.958 1514.82 968.412 1514.24 Q970.866 1513.66 972.903 1513.66 Q978.273 1513.66 981.468 1516.35 Q984.662 1519.03 984.662 1523.52 Q984.662 1525.65 983.852 1527.57 Q983.065 1529.47 980.958 1532.07 Q980.38 1532.74 977.278 1535.95 Q974.176 1539.15 968.528 1544.91 Z\" fill=\"#000000\" fill-rule=\"evenodd\" fill-opacity=\"1\" /><path clip-path=\"url(#clip600)\" d=\"M1637.87 1530.21 Q1641.23 1530.93 1643.11 1533.2 Q1645 1535.47 1645 1538.8 Q1645 1543.92 1641.49 1546.72 Q1637.97 1549.52 1631.49 1549.52 Q1629.31 1549.52 1626.99 1549.08 Q1624.7 1548.66 1622.25 1547.81 L1622.25 1543.29 Q1624.19 1544.43 1626.51 1545.01 Q1628.82 1545.58 1631.35 1545.58 Q1635.74 1545.58 1638.04 1543.85 Q1640.35 1542.11 1640.35 1538.8 Q1640.35 1535.75 1638.2 1534.03 Q1636.07 1532.3 1632.25 1532.3 L1628.22 1532.3 L1628.22 1528.45 L1632.43 1528.45 Q1635.88 1528.45 1637.71 1527.09 Q1639.54 1525.7 1639.54 1523.11 Q1639.54 1520.45 1637.64 1519.03 Q1635.77 1517.6 1632.25 1517.6 Q1630.33 1517.6 1628.13 1518.01 Q1625.93 1518.43 1623.29 1519.31 L1623.29 1515.14 Q1625.95 1514.4 1628.27 1514.03 Q1630.61 1513.66 1632.67 1513.66 Q1637.99 1513.66 1641.09 1516.09 Q1644.19 1518.5 1644.19 1522.62 Q1644.19 1525.49 1642.55 1527.48 Q1640.91 1529.45 1637.87 1530.21 Z\" fill=\"#000000\" fill-rule=\"evenodd\" fill-opacity=\"1\" /><path clip-path=\"url(#clip600)\" d=\"M2296.39 1518.36 L2284.58 1536.81 L2296.39 1536.81 L2296.39 1518.36 M2295.16 1514.29 L2301.04 1514.29 L2301.04 1536.81 L2305.97 1536.81 L2305.97 1540.7 L2301.04 1540.7 L2301.04 1548.85 L2296.39 1548.85 L2296.39 1540.7 L2280.79 1540.7 L2280.79 1536.19 L2295.16 1514.29 Z\" fill=\"#000000\" fill-rule=\"evenodd\" fill-opacity=\"1\" /><polyline clip-path=\"url(#clip602)\" style=\"stroke:#000000; stroke-linecap:butt; stroke-linejoin:round; stroke-width:2; stroke-opacity:0.1; fill:none\" points=\"\n",
       "  254.746,1353.47 2352.76,1353.47 \n",
       "  \"/>\n",
       "<polyline clip-path=\"url(#clip602)\" style=\"stroke:#000000; stroke-linecap:butt; stroke-linejoin:round; stroke-width:2; stroke-opacity:0.1; fill:none\" points=\"\n",
       "  254.746,974.551 2352.76,974.551 \n",
       "  \"/>\n",
       "<polyline clip-path=\"url(#clip602)\" style=\"stroke:#000000; stroke-linecap:butt; stroke-linejoin:round; stroke-width:2; stroke-opacity:0.1; fill:none\" points=\"\n",
       "  254.746,595.635 2352.76,595.635 \n",
       "  \"/>\n",
       "<polyline clip-path=\"url(#clip602)\" style=\"stroke:#000000; stroke-linecap:butt; stroke-linejoin:round; stroke-width:2; stroke-opacity:0.1; fill:none\" points=\"\n",
       "  254.746,216.719 2352.76,216.719 \n",
       "  \"/>\n",
       "<polyline clip-path=\"url(#clip600)\" style=\"stroke:#000000; stroke-linecap:butt; stroke-linejoin:round; stroke-width:4; stroke-opacity:1; fill:none\" points=\"\n",
       "  254.746,1486.45 254.746,47.2441 \n",
       "  \"/>\n",
       "<polyline clip-path=\"url(#clip600)\" style=\"stroke:#000000; stroke-linecap:butt; stroke-linejoin:round; stroke-width:4; stroke-opacity:1; fill:none\" points=\"\n",
       "  254.746,1353.47 273.643,1353.47 \n",
       "  \"/>\n",
       "<polyline clip-path=\"url(#clip600)\" style=\"stroke:#000000; stroke-linecap:butt; stroke-linejoin:round; stroke-width:4; stroke-opacity:1; fill:none\" points=\"\n",
       "  254.746,974.551 273.643,974.551 \n",
       "  \"/>\n",
       "<polyline clip-path=\"url(#clip600)\" style=\"stroke:#000000; stroke-linecap:butt; stroke-linejoin:round; stroke-width:4; stroke-opacity:1; fill:none\" points=\"\n",
       "  254.746,595.635 273.643,595.635 \n",
       "  \"/>\n",
       "<polyline clip-path=\"url(#clip600)\" style=\"stroke:#000000; stroke-linecap:butt; stroke-linejoin:round; stroke-width:4; stroke-opacity:1; fill:none\" points=\"\n",
       "  254.746,216.719 273.643,216.719 \n",
       "  \"/>\n",
       "<path clip-path=\"url(#clip600)\" d=\"M52.381 1353.92 L82.0568 1353.92 L82.0568 1357.85 L52.381 1357.85 L52.381 1353.92 Z\" fill=\"#000000\" fill-rule=\"evenodd\" fill-opacity=\"1\" /><path clip-path=\"url(#clip600)\" d=\"M92.9595 1366.81 L100.598 1366.81 L100.598 1340.45 L92.2882 1342.11 L92.2882 1337.85 L100.552 1336.19 L105.228 1336.19 L105.228 1366.81 L112.867 1366.81 L112.867 1370.75 L92.9595 1370.75 L92.9595 1366.81 Z\" fill=\"#000000\" fill-rule=\"evenodd\" fill-opacity=\"1\" /><path clip-path=\"url(#clip600)\" d=\"M132.311 1339.27 Q128.7 1339.27 126.871 1342.83 Q125.066 1346.37 125.066 1353.5 Q125.066 1360.61 126.871 1364.17 Q128.7 1367.71 132.311 1367.71 Q135.945 1367.71 137.751 1364.17 Q139.58 1360.61 139.58 1353.5 Q139.58 1346.37 137.751 1342.83 Q135.945 1339.27 132.311 1339.27 M132.311 1335.56 Q138.121 1335.56 141.177 1340.17 Q144.256 1344.75 144.256 1353.5 Q144.256 1362.23 141.177 1366.83 Q138.121 1371.42 132.311 1371.42 Q126.501 1371.42 123.422 1366.83 Q120.367 1362.23 120.367 1353.5 Q120.367 1344.75 123.422 1340.17 Q126.501 1335.56 132.311 1335.56 Z\" fill=\"#000000\" fill-rule=\"evenodd\" fill-opacity=\"1\" /><path clip-path=\"url(#clip600)\" d=\"M152.473 1364.87 L157.357 1364.87 L157.357 1370.75 L152.473 1370.75 L152.473 1364.87 Z\" fill=\"#000000\" fill-rule=\"evenodd\" fill-opacity=\"1\" /><path clip-path=\"url(#clip600)\" d=\"M171.57 1366.81 L187.89 1366.81 L187.89 1370.75 L165.945 1370.75 L165.945 1366.81 Q168.607 1364.06 173.191 1359.43 Q177.797 1354.77 178.978 1353.43 Q181.223 1350.91 182.103 1349.17 Q183.005 1347.41 183.005 1345.72 Q183.005 1342.97 181.061 1341.23 Q179.14 1339.5 176.038 1339.5 Q173.839 1339.5 171.385 1340.26 Q168.954 1341.02 166.177 1342.58 L166.177 1337.85 Q169.001 1336.72 171.454 1336.14 Q173.908 1335.56 175.945 1335.56 Q181.316 1335.56 184.51 1338.25 Q187.704 1340.93 187.704 1345.42 Q187.704 1347.55 186.894 1349.47 Q186.107 1351.37 184.001 1353.96 Q183.422 1354.64 180.32 1357.85 Q177.218 1361.05 171.57 1366.81 Z\" fill=\"#000000\" fill-rule=\"evenodd\" fill-opacity=\"1\" /><path clip-path=\"url(#clip600)\" d=\"M196.524 1336.19 L218.746 1336.19 L218.746 1338.18 L206.2 1370.75 L201.315 1370.75 L213.121 1340.12 L196.524 1340.12 L196.524 1336.19 Z\" fill=\"#000000\" fill-rule=\"evenodd\" fill-opacity=\"1\" /><path clip-path=\"url(#clip600)\" d=\"M51.3162 975.002 L80.992 975.002 L80.992 978.937 L51.3162 978.937 L51.3162 975.002 Z\" fill=\"#000000\" fill-rule=\"evenodd\" fill-opacity=\"1\" /><path clip-path=\"url(#clip600)\" d=\"M91.8947 987.896 L99.5335 987.896 L99.5335 961.53 L91.2234 963.197 L91.2234 958.938 L99.4872 957.271 L104.163 957.271 L104.163 987.896 L111.802 987.896 L111.802 991.831 L91.8947 991.831 L91.8947 987.896 Z\" fill=\"#000000\" fill-rule=\"evenodd\" fill-opacity=\"1\" /><path clip-path=\"url(#clip600)\" d=\"M131.246 960.35 Q127.635 960.35 125.807 963.914 Q124.001 967.456 124.001 974.586 Q124.001 981.692 125.807 985.257 Q127.635 988.798 131.246 988.798 Q134.881 988.798 136.686 985.257 Q138.515 981.692 138.515 974.586 Q138.515 967.456 136.686 963.914 Q134.881 960.35 131.246 960.35 M131.246 956.646 Q137.056 956.646 140.112 961.252 Q143.191 965.836 143.191 974.586 Q143.191 983.312 140.112 987.919 Q137.056 992.502 131.246 992.502 Q125.436 992.502 122.357 987.919 Q119.302 983.312 119.302 974.586 Q119.302 965.836 122.357 961.252 Q125.436 956.646 131.246 956.646 Z\" fill=\"#000000\" fill-rule=\"evenodd\" fill-opacity=\"1\" /><path clip-path=\"url(#clip600)\" d=\"M151.408 985.951 L156.292 985.951 L156.292 991.831 L151.408 991.831 L151.408 985.951 Z\" fill=\"#000000\" fill-rule=\"evenodd\" fill-opacity=\"1\" /><path clip-path=\"url(#clip600)\" d=\"M170.505 987.896 L186.825 987.896 L186.825 991.831 L164.88 991.831 L164.88 987.896 Q167.542 985.141 172.126 980.511 Q176.732 975.859 177.913 974.516 Q180.158 971.993 181.038 970.257 Q181.94 968.498 181.94 966.808 Q181.94 964.053 179.996 962.317 Q178.075 960.581 174.973 960.581 Q172.774 960.581 170.32 961.345 Q167.89 962.109 165.112 963.66 L165.112 958.938 Q167.936 957.803 170.39 957.225 Q172.843 956.646 174.88 956.646 Q180.251 956.646 183.445 959.331 Q186.64 962.016 186.64 966.507 Q186.64 968.637 185.829 970.558 Q185.042 972.456 182.936 975.049 Q182.357 975.72 179.255 978.937 Q176.153 982.132 170.505 987.896 Z\" fill=\"#000000\" fill-rule=\"evenodd\" fill-opacity=\"1\" /><path clip-path=\"url(#clip600)\" d=\"M207.218 972.687 Q204.07 972.687 202.218 974.84 Q200.389 976.993 200.389 980.743 Q200.389 984.47 202.218 986.646 Q204.07 988.798 207.218 988.798 Q210.366 988.798 212.195 986.646 Q214.047 984.47 214.047 980.743 Q214.047 976.993 212.195 974.84 Q210.366 972.687 207.218 972.687 M216.5 958.035 L216.5 962.294 Q214.741 961.461 212.936 961.021 Q211.153 960.581 209.394 960.581 Q204.764 960.581 202.311 963.706 Q199.88 966.831 199.533 973.15 Q200.899 971.137 202.959 970.072 Q205.019 968.984 207.496 968.984 Q212.704 968.984 215.713 972.155 Q218.746 975.303 218.746 980.743 Q218.746 986.067 215.598 989.285 Q212.45 992.502 207.218 992.502 Q201.223 992.502 198.052 987.919 Q194.88 983.312 194.88 974.586 Q194.88 966.391 198.769 961.53 Q202.658 956.646 209.209 956.646 Q210.968 956.646 212.751 956.993 Q214.556 957.34 216.5 958.035 Z\" fill=\"#000000\" fill-rule=\"evenodd\" fill-opacity=\"1\" /><path clip-path=\"url(#clip600)\" d=\"M52.4736 596.086 L82.1494 596.086 L82.1494 600.021 L52.4736 600.021 L52.4736 596.086 Z\" fill=\"#000000\" fill-rule=\"evenodd\" fill-opacity=\"1\" /><path clip-path=\"url(#clip600)\" d=\"M93.0521 608.98 L100.691 608.98 L100.691 582.614 L92.3808 584.281 L92.3808 580.021 L100.645 578.355 L105.321 578.355 L105.321 608.98 L112.959 608.98 L112.959 612.915 L93.0521 612.915 L93.0521 608.98 Z\" fill=\"#000000\" fill-rule=\"evenodd\" fill-opacity=\"1\" /><path clip-path=\"url(#clip600)\" d=\"M132.404 581.433 Q128.793 581.433 126.964 584.998 Q125.158 588.54 125.158 595.67 Q125.158 602.776 126.964 606.341 Q128.793 609.882 132.404 609.882 Q136.038 609.882 137.844 606.341 Q139.672 602.776 139.672 595.67 Q139.672 588.54 137.844 584.998 Q136.038 581.433 132.404 581.433 M132.404 577.73 Q138.214 577.73 141.269 582.336 Q144.348 586.92 144.348 595.67 Q144.348 604.396 141.269 609.003 Q138.214 613.586 132.404 613.586 Q126.594 613.586 123.515 609.003 Q120.459 604.396 120.459 595.67 Q120.459 586.92 123.515 582.336 Q126.594 577.73 132.404 577.73 Z\" fill=\"#000000\" fill-rule=\"evenodd\" fill-opacity=\"1\" /><path clip-path=\"url(#clip600)\" d=\"M152.566 607.035 L157.45 607.035 L157.45 612.915 L152.566 612.915 L152.566 607.035 Z\" fill=\"#000000\" fill-rule=\"evenodd\" fill-opacity=\"1\" /><path clip-path=\"url(#clip600)\" d=\"M171.663 608.98 L187.982 608.98 L187.982 612.915 L166.038 612.915 L166.038 608.98 Q168.7 606.225 173.283 601.595 Q177.89 596.943 179.07 595.6 Q181.316 593.077 182.195 591.341 Q183.098 589.582 183.098 587.892 Q183.098 585.137 181.153 583.401 Q179.232 581.665 176.13 581.665 Q173.931 581.665 171.478 582.429 Q169.047 583.193 166.269 584.744 L166.269 580.021 Q169.093 578.887 171.547 578.308 Q174.001 577.73 176.038 577.73 Q181.408 577.73 184.603 580.415 Q187.797 583.1 187.797 587.591 Q187.797 589.72 186.987 591.642 Q186.2 593.54 184.093 596.132 Q183.515 596.804 180.413 600.021 Q177.311 603.216 171.663 608.98 Z\" fill=\"#000000\" fill-rule=\"evenodd\" fill-opacity=\"1\" /><path clip-path=\"url(#clip600)\" d=\"M197.843 578.355 L216.2 578.355 L216.2 582.29 L202.126 582.29 L202.126 590.762 Q203.144 590.415 204.163 590.253 Q205.181 590.068 206.2 590.068 Q211.987 590.068 215.366 593.239 Q218.746 596.41 218.746 601.827 Q218.746 607.406 215.274 610.507 Q211.801 613.586 205.482 613.586 Q203.306 613.586 201.038 613.216 Q198.792 612.845 196.385 612.105 L196.385 607.406 Q198.468 608.54 200.69 609.095 Q202.913 609.651 205.389 609.651 Q209.394 609.651 211.732 607.544 Q214.07 605.438 214.07 601.827 Q214.07 598.216 211.732 596.109 Q209.394 594.003 205.389 594.003 Q203.514 594.003 201.639 594.42 Q199.788 594.836 197.843 595.716 L197.843 578.355 Z\" fill=\"#000000\" fill-rule=\"evenodd\" fill-opacity=\"1\" /><path clip-path=\"url(#clip600)\" d=\"M50.9921 217.17 L80.6679 217.17 L80.6679 221.105 L50.9921 221.105 L50.9921 217.17 Z\" fill=\"#000000\" fill-rule=\"evenodd\" fill-opacity=\"1\" /><path clip-path=\"url(#clip600)\" d=\"M91.5706 230.064 L99.2095 230.064 L99.2095 203.698 L90.8993 205.365 L90.8993 201.105 L99.1632 199.439 L103.839 199.439 L103.839 230.064 L111.478 230.064 L111.478 233.999 L91.5706 233.999 L91.5706 230.064 Z\" fill=\"#000000\" fill-rule=\"evenodd\" fill-opacity=\"1\" /><path clip-path=\"url(#clip600)\" d=\"M130.922 202.517 Q127.311 202.517 125.482 206.082 Q123.677 209.624 123.677 216.753 Q123.677 223.86 125.482 227.425 Q127.311 230.966 130.922 230.966 Q134.556 230.966 136.362 227.425 Q138.191 223.86 138.191 216.753 Q138.191 209.624 136.362 206.082 Q134.556 202.517 130.922 202.517 M130.922 198.814 Q136.732 198.814 139.788 203.42 Q142.867 208.003 142.867 216.753 Q142.867 225.48 139.788 230.087 Q136.732 234.67 130.922 234.67 Q125.112 234.67 122.033 230.087 Q118.978 225.48 118.978 216.753 Q118.978 208.003 122.033 203.42 Q125.112 198.814 130.922 198.814 Z\" fill=\"#000000\" fill-rule=\"evenodd\" fill-opacity=\"1\" /><path clip-path=\"url(#clip600)\" d=\"M151.084 228.119 L155.968 228.119 L155.968 233.999 L151.084 233.999 L151.084 228.119 Z\" fill=\"#000000\" fill-rule=\"evenodd\" fill-opacity=\"1\" /><path clip-path=\"url(#clip600)\" d=\"M170.181 230.064 L186.501 230.064 L186.501 233.999 L164.556 233.999 L164.556 230.064 Q167.218 227.309 171.802 222.679 Q176.408 218.027 177.589 216.684 Q179.834 214.161 180.714 212.425 Q181.616 210.665 181.616 208.976 Q181.616 206.221 179.672 204.485 Q177.751 202.749 174.649 202.749 Q172.45 202.749 169.996 203.513 Q167.566 204.277 164.788 205.828 L164.788 201.105 Q167.612 199.971 170.066 199.392 Q172.519 198.814 174.556 198.814 Q179.927 198.814 183.121 201.499 Q186.315 204.184 186.315 208.675 Q186.315 210.804 185.505 212.726 Q184.718 214.624 182.612 217.216 Q182.033 217.888 178.931 221.105 Q175.829 224.3 170.181 230.064 Z\" fill=\"#000000\" fill-rule=\"evenodd\" fill-opacity=\"1\" /><path clip-path=\"url(#clip600)\" d=\"M209.163 203.513 L197.357 221.962 L209.163 221.962 L209.163 203.513 M207.936 199.439 L213.815 199.439 L213.815 221.962 L218.746 221.962 L218.746 225.851 L213.815 225.851 L213.815 233.999 L209.163 233.999 L209.163 225.851 L193.561 225.851 L193.561 221.337 L207.936 199.439 Z\" fill=\"#000000\" fill-rule=\"evenodd\" fill-opacity=\"1\" /><polyline clip-path=\"url(#clip602)\" style=\"stroke:#009af9; stroke-linecap:butt; stroke-linejoin:round; stroke-width:4; stroke-opacity:1; fill:none\" points=\"\n",
       "  314.123,1445.72 973.875,1045.64 1633.63,87.9763 2293.38,130.436 \n",
       "  \"/>\n",
       "<path clip-path=\"url(#clip600)\" d=\"\n",
       "M1997.28 198.898 L2282.82 198.898 L2282.82 95.2176 L1997.28 95.2176  Z\n",
       "  \" fill=\"#ffffff\" fill-rule=\"evenodd\" fill-opacity=\"1\"/>\n",
       "<polyline clip-path=\"url(#clip600)\" style=\"stroke:#000000; stroke-linecap:butt; stroke-linejoin:round; stroke-width:4; stroke-opacity:1; fill:none\" points=\"\n",
       "  1997.28,198.898 2282.82,198.898 2282.82,95.2176 1997.28,95.2176 1997.28,198.898 \n",
       "  \"/>\n",
       "<polyline clip-path=\"url(#clip600)\" style=\"stroke:#009af9; stroke-linecap:butt; stroke-linejoin:round; stroke-width:4; stroke-opacity:1; fill:none\" points=\"\n",
       "  2020.59,147.058 2160.46,147.058 \n",
       "  \"/>\n",
       "<path clip-path=\"url(#clip600)\" d=\"M2197.61 166.745 Q2195.81 171.375 2194.09 172.787 Q2192.38 174.199 2189.51 174.199 L2186.11 174.199 L2186.11 170.634 L2188.61 170.634 Q2190.37 170.634 2191.34 169.8 Q2192.31 168.967 2193.49 165.865 L2194.26 163.921 L2183.77 138.412 L2188.28 138.412 L2196.39 158.689 L2204.49 138.412 L2209 138.412 L2197.61 166.745 Z\" fill=\"#000000\" fill-rule=\"evenodd\" fill-opacity=\"1\" /><path clip-path=\"url(#clip600)\" d=\"M2216.29 160.402 L2223.93 160.402 L2223.93 134.037 L2215.62 135.703 L2215.62 131.444 L2223.89 129.778 L2228.56 129.778 L2228.56 160.402 L2236.2 160.402 L2236.2 164.338 L2216.29 164.338 L2216.29 160.402 Z\" fill=\"#000000\" fill-rule=\"evenodd\" fill-opacity=\"1\" /></svg>\n"
      ]
     },
     "execution_count": 125,
     "metadata": {},
     "output_type": "execute_result"
    }
   ],
   "source": [
    "plot(values)"
   ]
  },
  {
   "cell_type": "code",
   "execution_count": 126,
   "metadata": {},
   "outputs": [
    {
     "data": {
      "text/plain": [
       "compute_statistics (generic function with 1 method)"
      ]
     },
     "execution_count": 126,
     "metadata": {},
     "output_type": "execute_result"
    }
   ],
   "source": [
    "K = 1000\n",
    "N = 1000\n",
    "function compute_statistics(K,N)\n",
    "    values = [expected_lifetime_reward(p.w0, 0.8, 0.3, p; N=N) for k = 1:K]\n",
    "    mean(values) , std(values)\n",
    "end"
   ]
  },
  {
   "cell_type": "code",
   "execution_count": 127,
   "metadata": {},
   "outputs": [
    {
     "data": {
      "text/plain": [
       "4-element Vector{Tuple{Float64, Float64}}:\n",
       " (-10.238950545868379, 0.05457789637520804)\n",
       " (-10.236629317827548, 0.018625280596690646)\n",
       " (-10.236981077681534, 0.005555522105185848)\n",
       " (-10.237227458930144, 0.0017865162556239596)"
      ]
     },
     "execution_count": 127,
     "metadata": {},
     "output_type": "execute_result"
    }
   ],
   "source": [
    "std_values = [compute_statistics(K, n) for n in Nvec]"
   ]
  },
  {
   "cell_type": "code",
   "execution_count": 133,
   "metadata": {},
   "outputs": [
    {
     "data": {
      "image/svg+xml": [
       "<?xml version=\"1.0\" encoding=\"utf-8\"?>\n",
       "<svg xmlns=\"http://www.w3.org/2000/svg\" xmlns:xlink=\"http://www.w3.org/1999/xlink\" width=\"600\" height=\"400\" viewBox=\"0 0 2400 1600\">\n",
       "<defs>\n",
       "  <clipPath id=\"clip800\">\n",
       "    <rect x=\"0\" y=\"0\" width=\"2400\" height=\"1600\"/>\n",
       "  </clipPath>\n",
       "</defs>\n",
       "<path clip-path=\"url(#clip800)\" d=\"\n",
       "M0 1600 L2400 1600 L2400 0 L0 0  Z\n",
       "  \" fill=\"#ffffff\" fill-rule=\"evenodd\" fill-opacity=\"1\"/>\n",
       "<defs>\n",
       "  <clipPath id=\"clip801\">\n",
       "    <rect x=\"480\" y=\"0\" width=\"1681\" height=\"1600\"/>\n",
       "  </clipPath>\n",
       "</defs>\n",
       "<path clip-path=\"url(#clip800)\" d=\"\n",
       "M186.76 1486.45 L2352.76 1486.45 L2352.76 47.2441 L186.76 47.2441  Z\n",
       "  \" fill=\"#ffffff\" fill-rule=\"evenodd\" fill-opacity=\"1\"/>\n",
       "<defs>\n",
       "  <clipPath id=\"clip802\">\n",
       "    <rect x=\"186\" y=\"47\" width=\"2167\" height=\"1440\"/>\n",
       "  </clipPath>\n",
       "</defs>\n",
       "<polyline clip-path=\"url(#clip802)\" style=\"stroke:#000000; stroke-linecap:butt; stroke-linejoin:round; stroke-width:2; stroke-opacity:0.1; fill:none\" points=\"\n",
       "  514.973,1486.45 514.973,47.2441 \n",
       "  \"/>\n",
       "<polyline clip-path=\"url(#clip802)\" style=\"stroke:#000000; stroke-linecap:butt; stroke-linejoin:round; stroke-width:2; stroke-opacity:0.1; fill:none\" points=\"\n",
       "  848.613,1486.45 848.613,47.2441 \n",
       "  \"/>\n",
       "<polyline clip-path=\"url(#clip802)\" style=\"stroke:#000000; stroke-linecap:butt; stroke-linejoin:round; stroke-width:2; stroke-opacity:0.1; fill:none\" points=\"\n",
       "  1182.25,1486.45 1182.25,47.2441 \n",
       "  \"/>\n",
       "<polyline clip-path=\"url(#clip802)\" style=\"stroke:#000000; stroke-linecap:butt; stroke-linejoin:round; stroke-width:2; stroke-opacity:0.1; fill:none\" points=\"\n",
       "  1515.89,1486.45 1515.89,47.2441 \n",
       "  \"/>\n",
       "<polyline clip-path=\"url(#clip802)\" style=\"stroke:#000000; stroke-linecap:butt; stroke-linejoin:round; stroke-width:2; stroke-opacity:0.1; fill:none\" points=\"\n",
       "  1849.53,1486.45 1849.53,47.2441 \n",
       "  \"/>\n",
       "<polyline clip-path=\"url(#clip802)\" style=\"stroke:#000000; stroke-linecap:butt; stroke-linejoin:round; stroke-width:2; stroke-opacity:0.1; fill:none\" points=\"\n",
       "  2183.17,1486.45 2183.17,47.2441 \n",
       "  \"/>\n",
       "<polyline clip-path=\"url(#clip800)\" style=\"stroke:#000000; stroke-linecap:butt; stroke-linejoin:round; stroke-width:4; stroke-opacity:1; fill:none\" points=\"\n",
       "  186.76,1486.45 2352.76,1486.45 \n",
       "  \"/>\n",
       "<polyline clip-path=\"url(#clip800)\" style=\"stroke:#000000; stroke-linecap:butt; stroke-linejoin:round; stroke-width:4; stroke-opacity:1; fill:none\" points=\"\n",
       "  514.973,1486.45 514.973,1467.55 \n",
       "  \"/>\n",
       "<polyline clip-path=\"url(#clip800)\" style=\"stroke:#000000; stroke-linecap:butt; stroke-linejoin:round; stroke-width:4; stroke-opacity:1; fill:none\" points=\"\n",
       "  848.613,1486.45 848.613,1467.55 \n",
       "  \"/>\n",
       "<polyline clip-path=\"url(#clip800)\" style=\"stroke:#000000; stroke-linecap:butt; stroke-linejoin:round; stroke-width:4; stroke-opacity:1; fill:none\" points=\"\n",
       "  1182.25,1486.45 1182.25,1467.55 \n",
       "  \"/>\n",
       "<polyline clip-path=\"url(#clip800)\" style=\"stroke:#000000; stroke-linecap:butt; stroke-linejoin:round; stroke-width:4; stroke-opacity:1; fill:none\" points=\"\n",
       "  1515.89,1486.45 1515.89,1467.55 \n",
       "  \"/>\n",
       "<polyline clip-path=\"url(#clip800)\" style=\"stroke:#000000; stroke-linecap:butt; stroke-linejoin:round; stroke-width:4; stroke-opacity:1; fill:none\" points=\"\n",
       "  1849.53,1486.45 1849.53,1467.55 \n",
       "  \"/>\n",
       "<polyline clip-path=\"url(#clip800)\" style=\"stroke:#000000; stroke-linecap:butt; stroke-linejoin:round; stroke-width:4; stroke-opacity:1; fill:none\" points=\"\n",
       "  2183.17,1486.45 2183.17,1467.55 \n",
       "  \"/>\n",
       "<path clip-path=\"url(#clip800)\" d=\"M477.774 1517.37 Q474.163 1517.37 472.335 1520.93 Q470.529 1524.47 470.529 1531.6 Q470.529 1538.71 472.335 1542.27 Q474.163 1545.82 477.774 1545.82 Q481.409 1545.82 483.214 1542.27 Q485.043 1538.71 485.043 1531.6 Q485.043 1524.47 483.214 1520.93 Q481.409 1517.37 477.774 1517.37 M477.774 1513.66 Q483.585 1513.66 486.64 1518.27 Q489.719 1522.85 489.719 1531.6 Q489.719 1540.33 486.64 1544.94 Q483.585 1549.52 477.774 1549.52 Q471.964 1549.52 468.886 1544.94 Q465.83 1540.33 465.83 1531.6 Q465.83 1522.85 468.886 1518.27 Q471.964 1513.66 477.774 1513.66 Z\" fill=\"#000000\" fill-rule=\"evenodd\" fill-opacity=\"1\" /><path clip-path=\"url(#clip800)\" d=\"M497.936 1542.97 L502.821 1542.97 L502.821 1548.85 L497.936 1548.85 L497.936 1542.97 Z\" fill=\"#000000\" fill-rule=\"evenodd\" fill-opacity=\"1\" /><path clip-path=\"url(#clip800)\" d=\"M523.006 1517.37 Q519.395 1517.37 517.566 1520.93 Q515.76 1524.47 515.76 1531.6 Q515.76 1538.71 517.566 1542.27 Q519.395 1545.82 523.006 1545.82 Q526.64 1545.82 528.445 1542.27 Q530.274 1538.71 530.274 1531.6 Q530.274 1524.47 528.445 1520.93 Q526.64 1517.37 523.006 1517.37 M523.006 1513.66 Q528.816 1513.66 531.871 1518.27 Q534.95 1522.85 534.95 1531.6 Q534.95 1540.33 531.871 1544.94 Q528.816 1549.52 523.006 1549.52 Q517.196 1549.52 514.117 1544.94 Q511.061 1540.33 511.061 1531.6 Q511.061 1522.85 514.117 1518.27 Q517.196 1513.66 523.006 1513.66 Z\" fill=\"#000000\" fill-rule=\"evenodd\" fill-opacity=\"1\" /><path clip-path=\"url(#clip800)\" d=\"M543.214 1514.29 L561.57 1514.29 L561.57 1518.22 L547.496 1518.22 L547.496 1526.7 Q548.515 1526.35 549.533 1526.19 Q550.552 1526 551.57 1526 Q557.357 1526 560.737 1529.17 Q564.117 1532.34 564.117 1537.76 Q564.117 1543.34 560.644 1546.44 Q557.172 1549.52 550.853 1549.52 Q548.677 1549.52 546.408 1549.15 Q544.163 1548.78 541.756 1548.04 L541.756 1543.34 Q543.839 1544.47 546.061 1545.03 Q548.283 1545.58 550.76 1545.58 Q554.765 1545.58 557.103 1543.48 Q559.441 1541.37 559.441 1537.76 Q559.441 1534.15 557.103 1532.04 Q554.765 1529.94 550.76 1529.94 Q548.885 1529.94 547.01 1530.35 Q545.158 1530.77 543.214 1531.65 L543.214 1514.29 Z\" fill=\"#000000\" fill-rule=\"evenodd\" fill-opacity=\"1\" /><path clip-path=\"url(#clip800)\" d=\"M810.916 1517.37 Q807.305 1517.37 805.476 1520.93 Q803.671 1524.47 803.671 1531.6 Q803.671 1538.71 805.476 1542.27 Q807.305 1545.82 810.916 1545.82 Q814.55 1545.82 816.356 1542.27 Q818.185 1538.71 818.185 1531.6 Q818.185 1524.47 816.356 1520.93 Q814.55 1517.37 810.916 1517.37 M810.916 1513.66 Q816.726 1513.66 819.782 1518.27 Q822.86 1522.85 822.86 1531.6 Q822.86 1540.33 819.782 1544.94 Q816.726 1549.52 810.916 1549.52 Q805.106 1549.52 802.027 1544.94 Q798.972 1540.33 798.972 1531.6 Q798.972 1522.85 802.027 1518.27 Q805.106 1513.66 810.916 1513.66 Z\" fill=\"#000000\" fill-rule=\"evenodd\" fill-opacity=\"1\" /><path clip-path=\"url(#clip800)\" d=\"M831.078 1542.97 L835.962 1542.97 L835.962 1548.85 L831.078 1548.85 L831.078 1542.97 Z\" fill=\"#000000\" fill-rule=\"evenodd\" fill-opacity=\"1\" /><path clip-path=\"url(#clip800)\" d=\"M846.958 1544.91 L854.596 1544.91 L854.596 1518.55 L846.286 1520.21 L846.286 1515.95 L854.55 1514.29 L859.226 1514.29 L859.226 1544.91 L866.865 1544.91 L866.865 1548.85 L846.958 1548.85 L846.958 1544.91 Z\" fill=\"#000000\" fill-rule=\"evenodd\" fill-opacity=\"1\" /><path clip-path=\"url(#clip800)\" d=\"M886.309 1517.37 Q882.698 1517.37 880.869 1520.93 Q879.064 1524.47 879.064 1531.6 Q879.064 1538.71 880.869 1542.27 Q882.698 1545.82 886.309 1545.82 Q889.943 1545.82 891.749 1542.27 Q893.578 1538.71 893.578 1531.6 Q893.578 1524.47 891.749 1520.93 Q889.943 1517.37 886.309 1517.37 M886.309 1513.66 Q892.119 1513.66 895.175 1518.27 Q898.254 1522.85 898.254 1531.6 Q898.254 1540.33 895.175 1544.94 Q892.119 1549.52 886.309 1549.52 Q880.499 1549.52 877.42 1544.94 Q874.365 1540.33 874.365 1531.6 Q874.365 1522.85 877.42 1518.27 Q880.499 1513.66 886.309 1513.66 Z\" fill=\"#000000\" fill-rule=\"evenodd\" fill-opacity=\"1\" /><path clip-path=\"url(#clip800)\" d=\"M1145.05 1517.37 Q1141.44 1517.37 1139.61 1520.93 Q1137.81 1524.47 1137.81 1531.6 Q1137.81 1538.71 1139.61 1542.27 Q1141.44 1545.82 1145.05 1545.82 Q1148.69 1545.82 1150.49 1542.27 Q1152.32 1538.71 1152.32 1531.6 Q1152.32 1524.47 1150.49 1520.93 Q1148.69 1517.37 1145.05 1517.37 M1145.05 1513.66 Q1150.86 1513.66 1153.92 1518.27 Q1157 1522.85 1157 1531.6 Q1157 1540.33 1153.92 1544.94 Q1150.86 1549.52 1145.05 1549.52 Q1139.24 1549.52 1136.16 1544.94 Q1133.11 1540.33 1133.11 1531.6 Q1133.11 1522.85 1136.16 1518.27 Q1139.24 1513.66 1145.05 1513.66 Z\" fill=\"#000000\" fill-rule=\"evenodd\" fill-opacity=\"1\" /><path clip-path=\"url(#clip800)\" d=\"M1165.21 1542.97 L1170.1 1542.97 L1170.1 1548.85 L1165.21 1548.85 L1165.21 1542.97 Z\" fill=\"#000000\" fill-rule=\"evenodd\" fill-opacity=\"1\" /><path clip-path=\"url(#clip800)\" d=\"M1181.09 1544.91 L1188.73 1544.91 L1188.73 1518.55 L1180.42 1520.21 L1180.42 1515.95 L1188.69 1514.29 L1193.36 1514.29 L1193.36 1544.91 L1201 1544.91 L1201 1548.85 L1181.09 1548.85 L1181.09 1544.91 Z\" fill=\"#000000\" fill-rule=\"evenodd\" fill-opacity=\"1\" /><path clip-path=\"url(#clip800)\" d=\"M1210.49 1514.29 L1228.85 1514.29 L1228.85 1518.22 L1214.77 1518.22 L1214.77 1526.7 Q1215.79 1526.35 1216.81 1526.19 Q1217.83 1526 1218.85 1526 Q1224.64 1526 1228.02 1529.17 Q1231.4 1532.34 1231.4 1537.76 Q1231.4 1543.34 1227.92 1546.44 Q1224.45 1549.52 1218.13 1549.52 Q1215.96 1549.52 1213.69 1549.15 Q1211.44 1548.78 1209.03 1548.04 L1209.03 1543.34 Q1211.12 1544.47 1213.34 1545.03 Q1215.56 1545.58 1218.04 1545.58 Q1222.04 1545.58 1224.38 1543.48 Q1226.72 1541.37 1226.72 1537.76 Q1226.72 1534.15 1224.38 1532.04 Q1222.04 1529.94 1218.04 1529.94 Q1216.16 1529.94 1214.29 1530.35 Q1212.44 1530.77 1210.49 1531.65 L1210.49 1514.29 Z\" fill=\"#000000\" fill-rule=\"evenodd\" fill-opacity=\"1\" /><path clip-path=\"url(#clip800)\" d=\"M1478.19 1517.37 Q1474.58 1517.37 1472.75 1520.93 Q1470.95 1524.47 1470.95 1531.6 Q1470.95 1538.71 1472.75 1542.27 Q1474.58 1545.82 1478.19 1545.82 Q1481.83 1545.82 1483.63 1542.27 Q1485.46 1538.71 1485.46 1531.6 Q1485.46 1524.47 1483.63 1520.93 Q1481.83 1517.37 1478.19 1517.37 M1478.19 1513.66 Q1484 1513.66 1487.06 1518.27 Q1490.14 1522.85 1490.14 1531.6 Q1490.14 1540.33 1487.06 1544.94 Q1484 1549.52 1478.19 1549.52 Q1472.38 1549.52 1469.31 1544.94 Q1466.25 1540.33 1466.25 1531.6 Q1466.25 1522.85 1469.31 1518.27 Q1472.38 1513.66 1478.19 1513.66 Z\" fill=\"#000000\" fill-rule=\"evenodd\" fill-opacity=\"1\" /><path clip-path=\"url(#clip800)\" d=\"M1498.36 1542.97 L1503.24 1542.97 L1503.24 1548.85 L1498.36 1548.85 L1498.36 1542.97 Z\" fill=\"#000000\" fill-rule=\"evenodd\" fill-opacity=\"1\" /><path clip-path=\"url(#clip800)\" d=\"M1517.45 1544.91 L1533.77 1544.91 L1533.77 1548.85 L1511.83 1548.85 L1511.83 1544.91 Q1514.49 1542.16 1519.07 1537.53 Q1523.68 1532.88 1524.86 1531.53 Q1527.11 1529.01 1527.99 1527.27 Q1528.89 1525.51 1528.89 1523.82 Q1528.89 1521.07 1526.94 1519.33 Q1525.02 1517.6 1521.92 1517.6 Q1519.72 1517.6 1517.27 1518.36 Q1514.84 1519.13 1512.06 1520.68 L1512.06 1515.95 Q1514.88 1514.82 1517.34 1514.24 Q1519.79 1513.66 1521.83 1513.66 Q1527.2 1513.66 1530.39 1516.35 Q1533.59 1519.03 1533.59 1523.52 Q1533.59 1525.65 1532.78 1527.57 Q1531.99 1529.47 1529.88 1532.07 Q1529.31 1532.74 1526.2 1535.95 Q1523.1 1539.15 1517.45 1544.91 Z\" fill=\"#000000\" fill-rule=\"evenodd\" fill-opacity=\"1\" /><path clip-path=\"url(#clip800)\" d=\"M1553.59 1517.37 Q1549.98 1517.37 1548.15 1520.93 Q1546.34 1524.47 1546.34 1531.6 Q1546.34 1538.71 1548.15 1542.27 Q1549.98 1545.82 1553.59 1545.82 Q1557.22 1545.82 1559.03 1542.27 Q1560.86 1538.71 1560.86 1531.6 Q1560.86 1524.47 1559.03 1520.93 Q1557.22 1517.37 1553.59 1517.37 M1553.59 1513.66 Q1559.4 1513.66 1562.45 1518.27 Q1565.53 1522.85 1565.53 1531.6 Q1565.53 1540.33 1562.45 1544.94 Q1559.4 1549.52 1553.59 1549.52 Q1547.78 1549.52 1544.7 1544.94 Q1541.64 1540.33 1541.64 1531.6 Q1541.64 1522.85 1544.7 1518.27 Q1547.78 1513.66 1553.59 1513.66 Z\" fill=\"#000000\" fill-rule=\"evenodd\" fill-opacity=\"1\" /><path clip-path=\"url(#clip800)\" d=\"M1812.33 1517.37 Q1808.72 1517.37 1806.89 1520.93 Q1805.09 1524.47 1805.09 1531.6 Q1805.09 1538.71 1806.89 1542.27 Q1808.72 1545.82 1812.33 1545.82 Q1815.97 1545.82 1817.77 1542.27 Q1819.6 1538.71 1819.6 1531.6 Q1819.6 1524.47 1817.77 1520.93 Q1815.97 1517.37 1812.33 1517.37 M1812.33 1513.66 Q1818.14 1513.66 1821.2 1518.27 Q1824.28 1522.85 1824.28 1531.6 Q1824.28 1540.33 1821.2 1544.94 Q1818.14 1549.52 1812.33 1549.52 Q1806.52 1549.52 1803.44 1544.94 Q1800.39 1540.33 1800.39 1531.6 Q1800.39 1522.85 1803.44 1518.27 Q1806.52 1513.66 1812.33 1513.66 Z\" fill=\"#000000\" fill-rule=\"evenodd\" fill-opacity=\"1\" /><path clip-path=\"url(#clip800)\" d=\"M1832.49 1542.97 L1837.38 1542.97 L1837.38 1548.85 L1832.49 1548.85 L1832.49 1542.97 Z\" fill=\"#000000\" fill-rule=\"evenodd\" fill-opacity=\"1\" /><path clip-path=\"url(#clip800)\" d=\"M1851.59 1544.91 L1867.91 1544.91 L1867.91 1548.85 L1845.97 1548.85 L1845.97 1544.91 Q1848.63 1542.16 1853.21 1537.53 Q1857.82 1532.88 1859 1531.53 Q1861.24 1529.01 1862.12 1527.27 Q1863.03 1525.51 1863.03 1523.82 Q1863.03 1521.07 1861.08 1519.33 Q1859.16 1517.6 1856.06 1517.6 Q1853.86 1517.6 1851.41 1518.36 Q1848.97 1519.13 1846.2 1520.68 L1846.2 1515.95 Q1849.02 1514.82 1851.47 1514.24 Q1853.93 1513.66 1855.97 1513.66 Q1861.34 1513.66 1864.53 1516.35 Q1867.72 1519.03 1867.72 1523.52 Q1867.72 1525.65 1866.91 1527.57 Q1866.13 1529.47 1864.02 1532.07 Q1863.44 1532.74 1860.34 1535.95 Q1857.24 1539.15 1851.59 1544.91 Z\" fill=\"#000000\" fill-rule=\"evenodd\" fill-opacity=\"1\" /><path clip-path=\"url(#clip800)\" d=\"M1877.77 1514.29 L1896.13 1514.29 L1896.13 1518.22 L1882.05 1518.22 L1882.05 1526.7 Q1883.07 1526.35 1884.09 1526.19 Q1885.11 1526 1886.13 1526 Q1891.91 1526 1895.29 1529.17 Q1898.67 1532.34 1898.67 1537.76 Q1898.67 1543.34 1895.2 1546.44 Q1891.73 1549.52 1885.41 1549.52 Q1883.23 1549.52 1880.97 1549.15 Q1878.72 1548.78 1876.31 1548.04 L1876.31 1543.34 Q1878.4 1544.47 1880.62 1545.03 Q1882.84 1545.58 1885.32 1545.58 Q1889.32 1545.58 1891.66 1543.48 Q1894 1541.37 1894 1537.76 Q1894 1534.15 1891.66 1532.04 Q1889.32 1529.94 1885.32 1529.94 Q1883.44 1529.94 1881.57 1530.35 Q1879.72 1530.77 1877.77 1531.65 L1877.77 1514.29 Z\" fill=\"#000000\" fill-rule=\"evenodd\" fill-opacity=\"1\" /><path clip-path=\"url(#clip800)\" d=\"M2145.47 1517.37 Q2141.86 1517.37 2140.03 1520.93 Q2138.23 1524.47 2138.23 1531.6 Q2138.23 1538.71 2140.03 1542.27 Q2141.86 1545.82 2145.47 1545.82 Q2149.11 1545.82 2150.91 1542.27 Q2152.74 1538.71 2152.74 1531.6 Q2152.74 1524.47 2150.91 1520.93 Q2149.11 1517.37 2145.47 1517.37 M2145.47 1513.66 Q2151.28 1513.66 2154.34 1518.27 Q2157.42 1522.85 2157.42 1531.6 Q2157.42 1540.33 2154.34 1544.94 Q2151.28 1549.52 2145.47 1549.52 Q2139.66 1549.52 2136.58 1544.94 Q2133.53 1540.33 2133.53 1531.6 Q2133.53 1522.85 2136.58 1518.27 Q2139.66 1513.66 2145.47 1513.66 Z\" fill=\"#000000\" fill-rule=\"evenodd\" fill-opacity=\"1\" /><path clip-path=\"url(#clip800)\" d=\"M2165.64 1542.97 L2170.52 1542.97 L2170.52 1548.85 L2165.64 1548.85 L2165.64 1542.97 Z\" fill=\"#000000\" fill-rule=\"evenodd\" fill-opacity=\"1\" /><path clip-path=\"url(#clip800)\" d=\"M2194.87 1530.21 Q2198.23 1530.93 2200.1 1533.2 Q2202 1535.47 2202 1538.8 Q2202 1543.92 2198.48 1546.72 Q2194.96 1549.52 2188.48 1549.52 Q2186.31 1549.52 2183.99 1549.08 Q2181.7 1548.66 2179.25 1547.81 L2179.25 1543.29 Q2181.19 1544.43 2183.51 1545.01 Q2185.82 1545.58 2188.34 1545.58 Q2192.74 1545.58 2195.03 1543.85 Q2197.35 1542.11 2197.35 1538.8 Q2197.35 1535.75 2195.2 1534.03 Q2193.07 1532.3 2189.25 1532.3 L2185.22 1532.3 L2185.22 1528.45 L2189.43 1528.45 Q2192.88 1528.45 2194.71 1527.09 Q2196.54 1525.7 2196.54 1523.11 Q2196.54 1520.45 2194.64 1519.03 Q2192.76 1517.6 2189.25 1517.6 Q2187.32 1517.6 2185.13 1518.01 Q2182.93 1518.43 2180.29 1519.31 L2180.29 1515.14 Q2182.95 1514.4 2185.26 1514.03 Q2187.6 1513.66 2189.66 1513.66 Q2194.99 1513.66 2198.09 1516.09 Q2201.19 1518.5 2201.19 1522.62 Q2201.19 1525.49 2199.55 1527.48 Q2197.9 1529.45 2194.87 1530.21 Z\" fill=\"#000000\" fill-rule=\"evenodd\" fill-opacity=\"1\" /><path clip-path=\"url(#clip800)\" d=\"M2220.87 1517.37 Q2217.26 1517.37 2215.43 1520.93 Q2213.62 1524.47 2213.62 1531.6 Q2213.62 1538.71 2215.43 1542.27 Q2217.26 1545.82 2220.87 1545.82 Q2224.5 1545.82 2226.31 1542.27 Q2228.13 1538.71 2228.13 1531.6 Q2228.13 1524.47 2226.31 1520.93 Q2224.5 1517.37 2220.87 1517.37 M2220.87 1513.66 Q2226.68 1513.66 2229.73 1518.27 Q2232.81 1522.85 2232.81 1531.6 Q2232.81 1540.33 2229.73 1544.94 Q2226.68 1549.52 2220.87 1549.52 Q2215.06 1549.52 2211.98 1544.94 Q2208.92 1540.33 2208.92 1531.6 Q2208.92 1522.85 2211.98 1518.27 Q2215.06 1513.66 2220.87 1513.66 Z\" fill=\"#000000\" fill-rule=\"evenodd\" fill-opacity=\"1\" /><polyline clip-path=\"url(#clip802)\" style=\"stroke:#000000; stroke-linecap:butt; stroke-linejoin:round; stroke-width:2; stroke-opacity:0.1; fill:none\" points=\"\n",
       "  186.76,1234.47 2352.76,1234.47 \n",
       "  \"/>\n",
       "<polyline clip-path=\"url(#clip802)\" style=\"stroke:#000000; stroke-linecap:butt; stroke-linejoin:round; stroke-width:2; stroke-opacity:0.1; fill:none\" points=\"\n",
       "  186.76,977.284 2352.76,977.284 \n",
       "  \"/>\n",
       "<polyline clip-path=\"url(#clip802)\" style=\"stroke:#000000; stroke-linecap:butt; stroke-linejoin:round; stroke-width:2; stroke-opacity:0.1; fill:none\" points=\"\n",
       "  186.76,720.094 2352.76,720.094 \n",
       "  \"/>\n",
       "<polyline clip-path=\"url(#clip802)\" style=\"stroke:#000000; stroke-linecap:butt; stroke-linejoin:round; stroke-width:2; stroke-opacity:0.1; fill:none\" points=\"\n",
       "  186.76,462.905 2352.76,462.905 \n",
       "  \"/>\n",
       "<polyline clip-path=\"url(#clip802)\" style=\"stroke:#000000; stroke-linecap:butt; stroke-linejoin:round; stroke-width:2; stroke-opacity:0.1; fill:none\" points=\"\n",
       "  186.76,205.715 2352.76,205.715 \n",
       "  \"/>\n",
       "<polyline clip-path=\"url(#clip800)\" style=\"stroke:#000000; stroke-linecap:butt; stroke-linejoin:round; stroke-width:4; stroke-opacity:1; fill:none\" points=\"\n",
       "  186.76,1486.45 186.76,47.2441 \n",
       "  \"/>\n",
       "<polyline clip-path=\"url(#clip800)\" style=\"stroke:#000000; stroke-linecap:butt; stroke-linejoin:round; stroke-width:4; stroke-opacity:1; fill:none\" points=\"\n",
       "  186.76,1234.47 205.658,1234.47 \n",
       "  \"/>\n",
       "<polyline clip-path=\"url(#clip800)\" style=\"stroke:#000000; stroke-linecap:butt; stroke-linejoin:round; stroke-width:4; stroke-opacity:1; fill:none\" points=\"\n",
       "  186.76,977.284 205.658,977.284 \n",
       "  \"/>\n",
       "<polyline clip-path=\"url(#clip800)\" style=\"stroke:#000000; stroke-linecap:butt; stroke-linejoin:round; stroke-width:4; stroke-opacity:1; fill:none\" points=\"\n",
       "  186.76,720.094 205.658,720.094 \n",
       "  \"/>\n",
       "<polyline clip-path=\"url(#clip800)\" style=\"stroke:#000000; stroke-linecap:butt; stroke-linejoin:round; stroke-width:4; stroke-opacity:1; fill:none\" points=\"\n",
       "  186.76,462.905 205.658,462.905 \n",
       "  \"/>\n",
       "<polyline clip-path=\"url(#clip800)\" style=\"stroke:#000000; stroke-linecap:butt; stroke-linejoin:round; stroke-width:4; stroke-opacity:1; fill:none\" points=\"\n",
       "  186.76,205.715 205.658,205.715 \n",
       "  \"/>\n",
       "<path clip-path=\"url(#clip800)\" d=\"M64.6495 1220.27 Q61.0384 1220.27 59.2097 1223.84 Q57.4041 1227.38 57.4041 1234.51 Q57.4041 1241.61 59.2097 1245.18 Q61.0384 1248.72 64.6495 1248.72 Q68.2837 1248.72 70.0892 1245.18 Q71.9179 1241.61 71.9179 1234.51 Q71.9179 1227.38 70.0892 1223.84 Q68.2837 1220.27 64.6495 1220.27 M64.6495 1216.57 Q70.4596 1216.57 73.5152 1221.17 Q76.5938 1225.76 76.5938 1234.51 Q76.5938 1243.23 73.5152 1247.84 Q70.4596 1252.42 64.6495 1252.42 Q58.8393 1252.42 55.7606 1247.84 Q52.7051 1243.23 52.7051 1234.51 Q52.7051 1225.76 55.7606 1221.17 Q58.8393 1216.57 64.6495 1216.57 Z\" fill=\"#000000\" fill-rule=\"evenodd\" fill-opacity=\"1\" /><path clip-path=\"url(#clip800)\" d=\"M84.8114 1245.87 L89.6956 1245.87 L89.6956 1251.75 L84.8114 1251.75 L84.8114 1245.87 Z\" fill=\"#000000\" fill-rule=\"evenodd\" fill-opacity=\"1\" /><path clip-path=\"url(#clip800)\" d=\"M109.881 1220.27 Q106.27 1220.27 104.441 1223.84 Q102.635 1227.38 102.635 1234.51 Q102.635 1241.61 104.441 1245.18 Q106.27 1248.72 109.881 1248.72 Q113.515 1248.72 115.32 1245.18 Q117.149 1241.61 117.149 1234.51 Q117.149 1227.38 115.32 1223.84 Q113.515 1220.27 109.881 1220.27 M109.881 1216.57 Q115.691 1216.57 118.746 1221.17 Q121.825 1225.76 121.825 1234.51 Q121.825 1243.23 118.746 1247.84 Q115.691 1252.42 109.881 1252.42 Q104.071 1252.42 100.992 1247.84 Q97.9363 1243.23 97.9363 1234.51 Q97.9363 1225.76 100.992 1221.17 Q104.071 1216.57 109.881 1216.57 Z\" fill=\"#000000\" fill-rule=\"evenodd\" fill-opacity=\"1\" /><path clip-path=\"url(#clip800)\" d=\"M130.853 1247.82 L138.492 1247.82 L138.492 1221.45 L130.182 1223.12 L130.182 1218.86 L138.445 1217.19 L143.121 1217.19 L143.121 1247.82 L150.76 1247.82 L150.76 1251.75 L130.853 1251.75 L130.853 1247.82 Z\" fill=\"#000000\" fill-rule=\"evenodd\" fill-opacity=\"1\" /><path clip-path=\"url(#clip800)\" d=\"M65.0198 963.083 Q61.4087 963.083 59.58 966.647 Q57.7745 970.189 57.7745 977.319 Q57.7745 984.425 59.58 987.99 Q61.4087 991.531 65.0198 991.531 Q68.6541 991.531 70.4596 987.99 Q72.2883 984.425 72.2883 977.319 Q72.2883 970.189 70.4596 966.647 Q68.6541 963.083 65.0198 963.083 M65.0198 959.379 Q70.83 959.379 73.8855 963.985 Q76.9642 968.569 76.9642 977.319 Q76.9642 986.045 73.8855 990.652 Q70.83 995.235 65.0198 995.235 Q59.2097 995.235 56.131 990.652 Q53.0754 986.045 53.0754 977.319 Q53.0754 968.569 56.131 963.985 Q59.2097 959.379 65.0198 959.379 Z\" fill=\"#000000\" fill-rule=\"evenodd\" fill-opacity=\"1\" /><path clip-path=\"url(#clip800)\" d=\"M85.1818 988.684 L90.066 988.684 L90.066 994.564 L85.1818 994.564 L85.1818 988.684 Z\" fill=\"#000000\" fill-rule=\"evenodd\" fill-opacity=\"1\" /><path clip-path=\"url(#clip800)\" d=\"M110.251 963.083 Q106.64 963.083 104.811 966.647 Q103.006 970.189 103.006 977.319 Q103.006 984.425 104.811 987.99 Q106.64 991.531 110.251 991.531 Q113.885 991.531 115.691 987.99 Q117.52 984.425 117.52 977.319 Q117.52 970.189 115.691 966.647 Q113.885 963.083 110.251 963.083 M110.251 959.379 Q116.061 959.379 119.117 963.985 Q122.195 968.569 122.195 977.319 Q122.195 986.045 119.117 990.652 Q116.061 995.235 110.251 995.235 Q104.441 995.235 101.362 990.652 Q98.3067 986.045 98.3067 977.319 Q98.3067 968.569 101.362 963.985 Q104.441 959.379 110.251 959.379 Z\" fill=\"#000000\" fill-rule=\"evenodd\" fill-opacity=\"1\" /><path clip-path=\"url(#clip800)\" d=\"M134.441 990.629 L150.76 990.629 L150.76 994.564 L128.816 994.564 L128.816 990.629 Q131.478 987.874 136.061 983.244 Q140.668 978.592 141.848 977.249 Q144.093 974.726 144.973 972.99 Q145.876 971.231 145.876 969.541 Q145.876 966.786 143.931 965.05 Q142.01 963.314 138.908 963.314 Q136.709 963.314 134.256 964.078 Q131.825 964.842 129.047 966.393 L129.047 961.67 Q131.871 960.536 134.325 959.958 Q136.779 959.379 138.816 959.379 Q144.186 959.379 147.38 962.064 Q150.575 964.749 150.575 969.24 Q150.575 971.37 149.765 973.291 Q148.978 975.189 146.871 977.782 Q146.293 978.453 143.191 981.67 Q140.089 984.865 134.441 990.629 Z\" fill=\"#000000\" fill-rule=\"evenodd\" fill-opacity=\"1\" /><path clip-path=\"url(#clip800)\" d=\"M64.0708 705.893 Q60.4597 705.893 58.631 709.458 Q56.8254 712.999 56.8254 720.129 Q56.8254 727.235 58.631 730.8 Q60.4597 734.342 64.0708 734.342 Q67.705 734.342 69.5105 730.8 Q71.3392 727.235 71.3392 720.129 Q71.3392 712.999 69.5105 709.458 Q67.705 705.893 64.0708 705.893 M64.0708 702.189 Q69.8809 702.189 72.9365 706.796 Q76.0151 711.379 76.0151 720.129 Q76.0151 728.856 72.9365 733.462 Q69.8809 738.046 64.0708 738.046 Q58.2606 738.046 55.1819 733.462 Q52.1264 728.856 52.1264 720.129 Q52.1264 711.379 55.1819 706.796 Q58.2606 702.189 64.0708 702.189 Z\" fill=\"#000000\" fill-rule=\"evenodd\" fill-opacity=\"1\" /><path clip-path=\"url(#clip800)\" d=\"M84.2327 731.495 L89.1169 731.495 L89.1169 737.374 L84.2327 737.374 L84.2327 731.495 Z\" fill=\"#000000\" fill-rule=\"evenodd\" fill-opacity=\"1\" /><path clip-path=\"url(#clip800)\" d=\"M109.302 705.893 Q105.691 705.893 103.862 709.458 Q102.057 712.999 102.057 720.129 Q102.057 727.235 103.862 730.8 Q105.691 734.342 109.302 734.342 Q112.936 734.342 114.742 730.8 Q116.57 727.235 116.57 720.129 Q116.57 712.999 114.742 709.458 Q112.936 705.893 109.302 705.893 M109.302 702.189 Q115.112 702.189 118.168 706.796 Q121.246 711.379 121.246 720.129 Q121.246 728.856 118.168 733.462 Q115.112 738.046 109.302 738.046 Q103.492 738.046 100.413 733.462 Q97.3576 728.856 97.3576 720.129 Q97.3576 711.379 100.413 706.796 Q103.492 702.189 109.302 702.189 Z\" fill=\"#000000\" fill-rule=\"evenodd\" fill-opacity=\"1\" /><path clip-path=\"url(#clip800)\" d=\"M143.631 718.74 Q146.987 719.458 148.862 721.726 Q150.76 723.995 150.76 727.328 Q150.76 732.444 147.242 735.245 Q143.723 738.046 137.242 738.046 Q135.066 738.046 132.751 737.606 Q130.459 737.189 128.006 736.333 L128.006 731.819 Q129.95 732.953 132.265 733.532 Q134.58 734.11 137.103 734.11 Q141.501 734.11 143.793 732.374 Q146.107 730.638 146.107 727.328 Q146.107 724.272 143.955 722.559 Q141.825 720.823 138.006 720.823 L133.978 720.823 L133.978 716.981 L138.191 716.981 Q141.64 716.981 143.468 715.615 Q145.297 714.226 145.297 711.634 Q145.297 708.972 143.399 707.56 Q141.524 706.124 138.006 706.124 Q136.084 706.124 133.885 706.541 Q131.686 706.958 129.047 707.837 L129.047 703.671 Q131.709 702.93 134.024 702.56 Q136.362 702.189 138.422 702.189 Q143.746 702.189 146.848 704.62 Q149.95 707.027 149.95 711.148 Q149.95 714.018 148.306 716.009 Q146.663 717.976 143.631 718.74 Z\" fill=\"#000000\" fill-rule=\"evenodd\" fill-opacity=\"1\" /><path clip-path=\"url(#clip800)\" d=\"M62.9365 448.703 Q59.3254 448.703 57.4967 452.268 Q55.6912 455.81 55.6912 462.939 Q55.6912 470.046 57.4967 473.611 Q59.3254 477.152 62.9365 477.152 Q66.5707 477.152 68.3763 473.611 Q70.205 470.046 70.205 462.939 Q70.205 455.81 68.3763 452.268 Q66.5707 448.703 62.9365 448.703 M62.9365 445 Q68.7467 445 71.8022 449.606 Q74.8809 454.189 74.8809 462.939 Q74.8809 471.666 71.8022 476.273 Q68.7467 480.856 62.9365 480.856 Q57.1264 480.856 54.0477 476.273 Q50.9921 471.666 50.9921 462.939 Q50.9921 454.189 54.0477 449.606 Q57.1264 445 62.9365 445 Z\" fill=\"#000000\" fill-rule=\"evenodd\" fill-opacity=\"1\" /><path clip-path=\"url(#clip800)\" d=\"M83.0984 474.305 L87.9827 474.305 L87.9827 480.185 L83.0984 480.185 L83.0984 474.305 Z\" fill=\"#000000\" fill-rule=\"evenodd\" fill-opacity=\"1\" /><path clip-path=\"url(#clip800)\" d=\"M108.168 448.703 Q104.557 448.703 102.728 452.268 Q100.922 455.81 100.922 462.939 Q100.922 470.046 102.728 473.611 Q104.557 477.152 108.168 477.152 Q111.802 477.152 113.608 473.611 Q115.436 470.046 115.436 462.939 Q115.436 455.81 113.608 452.268 Q111.802 448.703 108.168 448.703 M108.168 445 Q113.978 445 117.033 449.606 Q120.112 454.189 120.112 462.939 Q120.112 471.666 117.033 476.273 Q113.978 480.856 108.168 480.856 Q102.358 480.856 99.2789 476.273 Q96.2234 471.666 96.2234 462.939 Q96.2234 454.189 99.2789 449.606 Q102.358 445 108.168 445 Z\" fill=\"#000000\" fill-rule=\"evenodd\" fill-opacity=\"1\" /><path clip-path=\"url(#clip800)\" d=\"M141.177 449.699 L129.371 468.148 L141.177 468.148 L141.177 449.699 M139.95 445.625 L145.83 445.625 L145.83 468.148 L150.76 468.148 L150.76 472.037 L145.83 472.037 L145.83 480.185 L141.177 480.185 L141.177 472.037 L125.575 472.037 L125.575 467.523 L139.95 445.625 Z\" fill=\"#000000\" fill-rule=\"evenodd\" fill-opacity=\"1\" /><path clip-path=\"url(#clip800)\" d=\"M64.418 191.514 Q60.8069 191.514 58.9782 195.078 Q57.1726 198.62 57.1726 205.75 Q57.1726 212.856 58.9782 216.421 Q60.8069 219.963 64.418 219.963 Q68.0522 219.963 69.8578 216.421 Q71.6865 212.856 71.6865 205.75 Q71.6865 198.62 69.8578 195.078 Q68.0522 191.514 64.418 191.514 M64.418 187.81 Q70.2281 187.81 73.2837 192.416 Q76.3624 197 76.3624 205.75 Q76.3624 214.477 73.2837 219.083 Q70.2281 223.666 64.418 223.666 Q58.6078 223.666 55.5291 219.083 Q52.4736 214.477 52.4736 205.75 Q52.4736 197 55.5291 192.416 Q58.6078 187.81 64.418 187.81 Z\" fill=\"#000000\" fill-rule=\"evenodd\" fill-opacity=\"1\" /><path clip-path=\"url(#clip800)\" d=\"M84.5799 217.115 L89.4641 217.115 L89.4641 222.995 L84.5799 222.995 L84.5799 217.115 Z\" fill=\"#000000\" fill-rule=\"evenodd\" fill-opacity=\"1\" /><path clip-path=\"url(#clip800)\" d=\"M109.649 191.514 Q106.038 191.514 104.209 195.078 Q102.404 198.62 102.404 205.75 Q102.404 212.856 104.209 216.421 Q106.038 219.963 109.649 219.963 Q113.283 219.963 115.089 216.421 Q116.918 212.856 116.918 205.75 Q116.918 198.62 115.089 195.078 Q113.283 191.514 109.649 191.514 M109.649 187.81 Q115.459 187.81 118.515 192.416 Q121.594 197 121.594 205.75 Q121.594 214.477 118.515 219.083 Q115.459 223.666 109.649 223.666 Q103.839 223.666 100.76 219.083 Q97.7048 214.477 97.7048 205.75 Q97.7048 197 100.76 192.416 Q103.839 187.81 109.649 187.81 Z\" fill=\"#000000\" fill-rule=\"evenodd\" fill-opacity=\"1\" /><path clip-path=\"url(#clip800)\" d=\"M129.857 188.435 L148.214 188.435 L148.214 192.37 L134.14 192.37 L134.14 200.842 Q135.158 200.495 136.177 200.333 Q137.195 200.148 138.214 200.148 Q144.001 200.148 147.38 203.319 Q150.76 206.49 150.76 211.907 Q150.76 217.486 147.288 220.588 Q143.816 223.666 137.496 223.666 Q135.32 223.666 133.052 223.296 Q130.807 222.926 128.399 222.185 L128.399 217.486 Q130.482 218.62 132.705 219.176 Q134.927 219.731 137.404 219.731 Q141.408 219.731 143.746 217.625 Q146.084 215.518 146.084 211.907 Q146.084 208.296 143.746 206.19 Q141.408 204.083 137.404 204.083 Q135.529 204.083 133.654 204.5 Q131.802 204.916 129.857 205.796 L129.857 188.435 Z\" fill=\"#000000\" fill-rule=\"evenodd\" fill-opacity=\"1\" /><polyline clip-path=\"url(#clip802)\" style=\"stroke:#009af9; stroke-linecap:butt; stroke-linejoin:round; stroke-width:4; stroke-opacity:1; fill:none\" points=\"\n",
       "  2291.45,87.9763 848.613,1012.64 392.346,1348.78 248.062,1445.72 \n",
       "  \"/>\n",
       "<path clip-path=\"url(#clip800)\" d=\"\n",
       "M1987.46 198.898 L2280.56 198.898 L2280.56 95.2176 L1987.46 95.2176  Z\n",
       "  \" fill=\"#ffffff\" fill-rule=\"evenodd\" fill-opacity=\"1\"/>\n",
       "<polyline clip-path=\"url(#clip800)\" style=\"stroke:#000000; stroke-linecap:butt; stroke-linejoin:round; stroke-width:4; stroke-opacity:1; fill:none\" points=\"\n",
       "  1987.46,198.898 2280.56,198.898 2280.56,95.2176 1987.46,95.2176 1987.46,198.898 \n",
       "  \"/>\n",
       "<polyline clip-path=\"url(#clip800)\" style=\"stroke:#009af9; stroke-linecap:butt; stroke-linejoin:round; stroke-width:4; stroke-opacity:1; fill:none\" points=\"\n",
       "  2011.53,147.058 2155.93,147.058 \n",
       "  \"/>\n",
       "<path clip-path=\"url(#clip800)\" d=\"M2193.84 166.745 Q2192.03 171.375 2190.32 172.787 Q2188.6 174.199 2185.73 174.199 L2182.33 174.199 L2182.33 170.634 L2184.83 170.634 Q2186.59 170.634 2187.56 169.8 Q2188.53 168.967 2189.71 165.865 L2190.48 163.921 L2179.99 138.412 L2184.51 138.412 L2192.61 158.689 L2200.71 138.412 L2205.22 138.412 L2193.84 166.745 Z\" fill=\"#000000\" fill-rule=\"evenodd\" fill-opacity=\"1\" /><path clip-path=\"url(#clip800)\" d=\"M2212.52 160.402 L2220.15 160.402 L2220.15 134.037 L2211.84 135.703 L2211.84 131.444 L2220.11 129.778 L2224.78 129.778 L2224.78 160.402 L2232.42 160.402 L2232.42 164.338 L2212.52 164.338 L2212.52 160.402 Z\" fill=\"#000000\" fill-rule=\"evenodd\" fill-opacity=\"1\" /></svg>\n"
      ]
     },
     "execution_count": 133,
     "metadata": {},
     "output_type": "execute_result"
    }
   ],
   "source": [
    "plot(1 ./sqrt.(Nvec), [e[2] for e in std_values])"
   ]
  },
  {
   "cell_type": "markdown",
   "metadata": {},
   "source": [
    "__Using a high enough number for `N`, compute optimal values for $\\theta_0$ and $\\theta_1$. What is the matching value for the objective function converted into an equivalent stream of determinstic consumption ? That is if `V` is the approximated value computed above, what is $\\bar{c}\\in \\R$ such that $ V= \\sum_{t=0}^T \\beta^t U(\\bar{c})$ ?__\n"
   ]
  },
  {
   "cell_type": "code",
   "execution_count": 145,
   "metadata": {},
   "outputs": [
    {
     "data": {
      "text/plain": [
       "fun (generic function with 3 methods)"
      ]
     },
     "execution_count": 145,
     "metadata": {},
     "output_type": "execute_result"
    }
   ],
   "source": [
    "fun(θ_0, θ_1) = expected_lifetime_reward(p.w0, θ_0, θ_1, p; N=100000)\n",
    "fun(v) = fun(v...)"
   ]
  },
  {
   "cell_type": "code",
   "execution_count": 146,
   "metadata": {},
   "outputs": [],
   "source": [
    "using Optim"
   ]
  },
  {
   "cell_type": "code",
   "execution_count": 147,
   "metadata": {},
   "outputs": [
    {
     "ename": "LoadError",
     "evalue": "InterruptException:",
     "output_type": "error",
     "traceback": [
      "InterruptException:",
      "",
      "Stacktrace:",
      "  [1] fun(θ_0::Float64, θ_1::Float64)",
      "    @ Main ./In[145]:1",
      "  [2] fun",
      "    @ ./In[145]:2 [inlined]",
      "  [3] (::Optim.var\"#132#133\"{typeof(fun)})(x::Vector{Float64})",
      "    @ Optim ~/.julia/packages/Optim/6Lpjy/src/maximize.jl:25",
      "  [4] value(obj::NonDifferentiable{Float64, Vector{Float64}}, x::Vector{Float64})",
      "    @ NLSolversBase ~/.julia/packages/NLSolversBase/cfJrN/src/interface.jl:19",
      "  [5] update_state!(f::NonDifferentiable{Float64, Vector{Float64}}, state::Optim.NelderMeadState{Vector{Float64}, Float64, Vector{Float64}}, method::NelderMead{Optim.AffineSimplexer, Optim.AdaptiveParameters})",
      "    @ Optim ~/.julia/packages/Optim/6Lpjy/src/multivariate/solvers/zeroth_order/nelder_mead.jl:220",
      "  [6] optimize(d::NonDifferentiable{Float64, Vector{Float64}}, initial_x::Vector{Float64}, method::NelderMead{Optim.AffineSimplexer, Optim.AdaptiveParameters}, options::Optim.Options{Float64, Nothing}, state::Optim.NelderMeadState{Vector{Float64}, Float64, Vector{Float64}})",
      "    @ Optim ~/.julia/packages/Optim/6Lpjy/src/multivariate/optimize/optimize.jl:54",
      "  [7] optimize(d::NonDifferentiable{Float64, Vector{Float64}}, initial_x::Vector{Float64}, method::NelderMead{Optim.AffineSimplexer, Optim.AdaptiveParameters}, options::Optim.Options{Float64, Nothing})",
      "    @ Optim ~/.julia/packages/Optim/6Lpjy/src/multivariate/optimize/optimize.jl:36",
      "  [8] optimize(f::Function, initial_x::Vector{Float64}; inplace::Bool, autodiff::Symbol, kwargs::Base.Pairs{Symbol, Union{}, Tuple{}, NamedTuple{(), Tuple{}}})",
      "    @ Optim ~/.julia/packages/Optim/6Lpjy/src/multivariate/optimize/interface.jl:90",
      "  [9] optimize",
      "    @ ~/.julia/packages/Optim/6Lpjy/src/multivariate/optimize/interface.jl:84 [inlined]",
      " [10] #maximize#131",
      "    @ ~/.julia/packages/Optim/6Lpjy/src/maximize.jl:26 [inlined]",
      " [11] maximize(f::Function, x0::Vector{Float64})",
      "    @ Optim ~/.julia/packages/Optim/6Lpjy/src/maximize.jl:25",
      " [12] top-level scope",
      "    @ In[147]:1",
      " [13] eval",
      "    @ ./boot.jl:373 [inlined]",
      " [14] include_string(mapexpr::typeof(REPL.softscope), mod::Module, code::String, filename::String)",
      "    @ Base ./loading.jl:1196"
     ]
    }
   ],
   "source": [
    "sol = maximize(fun, [1.0, 0.1])"
   ]
  },
  {
   "cell_type": "code",
   "execution_count": 144,
   "metadata": {},
   "outputs": [
    {
     "ename": "LoadError",
     "evalue": "type MaximizationWrapper has no field zero",
     "output_type": "error",
     "traceback": [
      "type MaximizationWrapper has no field zero",
      "",
      "Stacktrace:",
      " [1] getproperty(x::Optim.MaximizationWrapper{Optim.MultivariateOptimizationResults{NelderMead{Optim.AffineSimplexer, Optim.AdaptiveParameters}, Vector{Float64}, Float64, Float64, Vector{OptimizationState{Float64, NelderMead{Optim.AffineSimplexer, Optim.AdaptiveParameters}}}, Bool, NamedTuple{(:f_limit_reached, :g_limit_reached, :h_limit_reached, :time_limit, :callback, :f_increased), NTuple{6, Bool}}}}, f::Symbol)",
      "   @ Base ./Base.jl:42",
      " [2] top-level scope",
      "   @ In[144]:1",
      " [3] eval",
      "   @ ./boot.jl:373 [inlined]",
      " [4] include_string(mapexpr::typeof(REPL.softscope), mod::Module, code::String, filename::String)",
      "   @ Base ./loading.jl:1196"
     ]
    }
   ],
   "source": [
    "sol"
   ]
  },
  {
   "cell_type": "markdown",
   "metadata": {},
   "source": [
    "__Using a high enough number for `N`, make contour plots of lifetime rewards as a function of `θ_0` and `θ_1`. Ideally, represent lines with $1\\%$ consumption loss, $5\\%$ and $10\\%$ deterministic consumption loss w.r.t. to maximum.__"
   ]
  },
  {
   "cell_type": "code",
   "execution_count": 158,
   "metadata": {},
   "outputs": [
    {
     "data": {
      "text/plain": [
       "10×10 Matrix{Float64}:\n",
       " -12.4997   -12.1497   -11.8836   …  -11.1183   -11.0242   -10.9405\n",
       " -11.8418   -11.5896   -11.3945      -10.8233   -10.7526   -10.6901\n",
       " -11.2497   -11.0798   -10.946       -10.5475   -10.4975   -10.4538\n",
       " -10.7153   -10.6146   -10.5345      -10.2919   -10.26     -10.234\n",
       " -10.2566   -10.2132   -10.1781      -10.0734   -10.0599   -10.0493\n",
       "  -9.99351   -9.98788   -9.98044  …   -9.96133   -9.95887   -9.95695\n",
       "  -9.94233   -9.94095   -9.94055      -9.93929   -9.93944   -9.94079\n",
       "  -9.94388   -9.94313   -9.94423      -9.9432    -9.94289   -9.94324\n",
       "  -9.94756   -9.9465    -9.94805      -9.94695   -9.94705   -9.9484\n",
       "  -9.95036   -9.95032   -9.95097      -9.95062   -9.95125   -9.95035"
      ]
     },
     "execution_count": 158,
     "metadata": {},
     "output_type": "execute_result"
    }
   ],
   "source": [
    "θ_0_vec = range(0.8, 1.2; length=10)\n",
    "θ_1_vec = range(0, 0.1; length=10)\n",
    "values = [fun(x,y) for x in θ_0_vec, y in θ_1_vec]\n",
    "\n"
   ]
  },
  {
   "cell_type": "code",
   "execution_count": 159,
   "metadata": {},
   "outputs": [
    {
     "data": {
      "image/svg+xml": [
       "<?xml version=\"1.0\" encoding=\"utf-8\"?>\n",
       "<svg xmlns=\"http://www.w3.org/2000/svg\" xmlns:xlink=\"http://www.w3.org/1999/xlink\" width=\"600\" height=\"400\" viewBox=\"0 0 2400 1600\">\n",
       "<defs>\n",
       "  <clipPath id=\"clip960\">\n",
       "    <rect x=\"0\" y=\"0\" width=\"2400\" height=\"1600\"/>\n",
       "  </clipPath>\n",
       "</defs>\n",
       "<path clip-path=\"url(#clip960)\" d=\"\n",
       "M0 1600 L2400 1600 L2400 0 L0 0  Z\n",
       "  \" fill=\"#ffffff\" fill-rule=\"evenodd\" fill-opacity=\"1\"/>\n",
       "<defs>\n",
       "  <clipPath id=\"clip961\">\n",
       "    <rect x=\"480\" y=\"0\" width=\"1681\" height=\"1600\"/>\n",
       "  </clipPath>\n",
       "</defs>\n",
       "<path clip-path=\"url(#clip960)\" d=\"\n",
       "M186.76 1486.45 L2112.76 1486.45 L2112.76 47.2441 L186.76 47.2441  Z\n",
       "  \" fill=\"#ffffff\" fill-rule=\"evenodd\" fill-opacity=\"1\"/>\n",
       "<defs>\n",
       "  <clipPath id=\"clip962\">\n",
       "    <rect x=\"186\" y=\"47\" width=\"1927\" height=\"1440\"/>\n",
       "  </clipPath>\n",
       "</defs>\n",
       "<polyline clip-path=\"url(#clip962)\" style=\"stroke:#000000; stroke-linecap:butt; stroke-linejoin:round; stroke-width:2; stroke-opacity:0.1; fill:none\" points=\"\n",
       "  186.76,1486.45 186.76,47.2441 \n",
       "  \"/>\n",
       "<polyline clip-path=\"url(#clip962)\" style=\"stroke:#000000; stroke-linecap:butt; stroke-linejoin:round; stroke-width:2; stroke-opacity:0.1; fill:none\" points=\"\n",
       "  668.259,1486.45 668.259,47.2441 \n",
       "  \"/>\n",
       "<polyline clip-path=\"url(#clip962)\" style=\"stroke:#000000; stroke-linecap:butt; stroke-linejoin:round; stroke-width:2; stroke-opacity:0.1; fill:none\" points=\"\n",
       "  1149.76,1486.45 1149.76,47.2441 \n",
       "  \"/>\n",
       "<polyline clip-path=\"url(#clip962)\" style=\"stroke:#000000; stroke-linecap:butt; stroke-linejoin:round; stroke-width:2; stroke-opacity:0.1; fill:none\" points=\"\n",
       "  1631.26,1486.45 1631.26,47.2441 \n",
       "  \"/>\n",
       "<polyline clip-path=\"url(#clip960)\" style=\"stroke:#000000; stroke-linecap:butt; stroke-linejoin:round; stroke-width:4; stroke-opacity:1; fill:none\" points=\"\n",
       "  186.76,1486.45 2112.76,1486.45 \n",
       "  \"/>\n",
       "<polyline clip-path=\"url(#clip960)\" style=\"stroke:#000000; stroke-linecap:butt; stroke-linejoin:round; stroke-width:4; stroke-opacity:1; fill:none\" points=\"\n",
       "  186.76,1486.45 186.76,1467.55 \n",
       "  \"/>\n",
       "<polyline clip-path=\"url(#clip960)\" style=\"stroke:#000000; stroke-linecap:butt; stroke-linejoin:round; stroke-width:4; stroke-opacity:1; fill:none\" points=\"\n",
       "  668.259,1486.45 668.259,1467.55 \n",
       "  \"/>\n",
       "<polyline clip-path=\"url(#clip960)\" style=\"stroke:#000000; stroke-linecap:butt; stroke-linejoin:round; stroke-width:4; stroke-opacity:1; fill:none\" points=\"\n",
       "  1149.76,1486.45 1149.76,1467.55 \n",
       "  \"/>\n",
       "<polyline clip-path=\"url(#clip960)\" style=\"stroke:#000000; stroke-linecap:butt; stroke-linejoin:round; stroke-width:4; stroke-opacity:1; fill:none\" points=\"\n",
       "  1631.26,1486.45 1631.26,1467.55 \n",
       "  \"/>\n",
       "<path clip-path=\"url(#clip960)\" d=\"M164.191 1517.37 Q160.58 1517.37 158.751 1520.93 Q156.945 1524.47 156.945 1531.6 Q156.945 1538.71 158.751 1542.27 Q160.58 1545.82 164.191 1545.82 Q167.825 1545.82 169.631 1542.27 Q171.459 1538.71 171.459 1531.6 Q171.459 1524.47 169.631 1520.93 Q167.825 1517.37 164.191 1517.37 M164.191 1513.66 Q170.001 1513.66 173.056 1518.27 Q176.135 1522.85 176.135 1531.6 Q176.135 1540.33 173.056 1544.94 Q170.001 1549.52 164.191 1549.52 Q158.381 1549.52 155.302 1544.94 Q152.246 1540.33 152.246 1531.6 Q152.246 1522.85 155.302 1518.27 Q158.381 1513.66 164.191 1513.66 Z\" fill=\"#000000\" fill-rule=\"evenodd\" fill-opacity=\"1\" /><path clip-path=\"url(#clip960)\" d=\"M184.353 1542.97 L189.237 1542.97 L189.237 1548.85 L184.353 1548.85 L184.353 1542.97 Z\" fill=\"#000000\" fill-rule=\"evenodd\" fill-opacity=\"1\" /><path clip-path=\"url(#clip960)\" d=\"M209.422 1532.44 Q206.089 1532.44 204.167 1534.22 Q202.269 1536 202.269 1539.13 Q202.269 1542.25 204.167 1544.03 Q206.089 1545.82 209.422 1545.82 Q212.755 1545.82 214.677 1544.03 Q216.598 1542.23 216.598 1539.13 Q216.598 1536 214.677 1534.22 Q212.778 1532.44 209.422 1532.44 M204.746 1530.45 Q201.737 1529.7 200.047 1527.64 Q198.38 1525.58 198.38 1522.62 Q198.38 1518.48 201.32 1516.07 Q204.283 1513.66 209.422 1513.66 Q214.584 1513.66 217.524 1516.07 Q220.464 1518.48 220.464 1522.62 Q220.464 1525.58 218.774 1527.64 Q217.107 1529.7 214.121 1530.45 Q217.501 1531.23 219.376 1533.52 Q221.274 1535.82 221.274 1539.13 Q221.274 1544.15 218.195 1546.83 Q215.14 1549.52 209.422 1549.52 Q203.704 1549.52 200.626 1546.83 Q197.57 1544.15 197.57 1539.13 Q197.57 1535.82 199.468 1533.52 Q201.367 1531.23 204.746 1530.45 M203.033 1523.06 Q203.033 1525.75 204.7 1527.25 Q206.39 1528.76 209.422 1528.76 Q212.431 1528.76 214.121 1527.25 Q215.834 1525.75 215.834 1523.06 Q215.834 1520.38 214.121 1518.87 Q212.431 1517.37 209.422 1517.37 Q206.39 1517.37 204.7 1518.87 Q203.033 1520.38 203.033 1523.06 Z\" fill=\"#000000\" fill-rule=\"evenodd\" fill-opacity=\"1\" /><path clip-path=\"url(#clip960)\" d=\"M645.736 1517.37 Q642.125 1517.37 640.296 1520.93 Q638.491 1524.47 638.491 1531.6 Q638.491 1538.71 640.296 1542.27 Q642.125 1545.82 645.736 1545.82 Q649.37 1545.82 651.176 1542.27 Q653.005 1538.71 653.005 1531.6 Q653.005 1524.47 651.176 1520.93 Q649.37 1517.37 645.736 1517.37 M645.736 1513.66 Q651.546 1513.66 654.602 1518.27 Q657.68 1522.85 657.68 1531.6 Q657.68 1540.33 654.602 1544.94 Q651.546 1549.52 645.736 1549.52 Q639.926 1549.52 636.847 1544.94 Q633.792 1540.33 633.792 1531.6 Q633.792 1522.85 636.847 1518.27 Q639.926 1513.66 645.736 1513.66 Z\" fill=\"#000000\" fill-rule=\"evenodd\" fill-opacity=\"1\" /><path clip-path=\"url(#clip960)\" d=\"M665.898 1542.97 L670.782 1542.97 L670.782 1548.85 L665.898 1548.85 L665.898 1542.97 Z\" fill=\"#000000\" fill-rule=\"evenodd\" fill-opacity=\"1\" /><path clip-path=\"url(#clip960)\" d=\"M681.106 1548.13 L681.106 1543.87 Q682.865 1544.7 684.671 1545.14 Q686.477 1545.58 688.213 1545.58 Q692.842 1545.58 695.273 1542.48 Q697.726 1539.36 698.074 1533.01 Q696.731 1535.01 694.671 1536.07 Q692.611 1537.13 690.111 1537.13 Q684.926 1537.13 681.893 1534.01 Q678.884 1530.86 678.884 1525.42 Q678.884 1520.1 682.032 1516.88 Q685.18 1513.66 690.412 1513.66 Q696.407 1513.66 699.555 1518.27 Q702.726 1522.85 702.726 1531.6 Q702.726 1539.77 698.838 1544.66 Q694.972 1549.52 688.421 1549.52 Q686.662 1549.52 684.856 1549.17 Q683.051 1548.82 681.106 1548.13 M690.412 1533.48 Q693.56 1533.48 695.389 1531.32 Q697.24 1529.17 697.24 1525.42 Q697.24 1521.7 695.389 1519.54 Q693.56 1517.37 690.412 1517.37 Q687.264 1517.37 685.412 1519.54 Q683.583 1521.7 683.583 1525.42 Q683.583 1529.17 685.412 1531.32 Q687.264 1533.48 690.412 1533.48 Z\" fill=\"#000000\" fill-rule=\"evenodd\" fill-opacity=\"1\" /><path clip-path=\"url(#clip960)\" d=\"M1116.91 1544.91 L1124.55 1544.91 L1124.55 1518.55 L1116.24 1520.21 L1116.24 1515.95 L1124.5 1514.29 L1129.18 1514.29 L1129.18 1544.91 L1136.82 1544.91 L1136.82 1548.85 L1116.91 1548.85 L1116.91 1544.91 Z\" fill=\"#000000\" fill-rule=\"evenodd\" fill-opacity=\"1\" /><path clip-path=\"url(#clip960)\" d=\"M1146.26 1542.97 L1151.15 1542.97 L1151.15 1548.85 L1146.26 1548.85 L1146.26 1542.97 Z\" fill=\"#000000\" fill-rule=\"evenodd\" fill-opacity=\"1\" /><path clip-path=\"url(#clip960)\" d=\"M1171.33 1517.37 Q1167.72 1517.37 1165.89 1520.93 Q1164.09 1524.47 1164.09 1531.6 Q1164.09 1538.71 1165.89 1542.27 Q1167.72 1545.82 1171.33 1545.82 Q1174.97 1545.82 1176.77 1542.27 Q1178.6 1538.71 1178.6 1531.6 Q1178.6 1524.47 1176.77 1520.93 Q1174.97 1517.37 1171.33 1517.37 M1171.33 1513.66 Q1177.14 1513.66 1180.2 1518.27 Q1183.28 1522.85 1183.28 1531.6 Q1183.28 1540.33 1180.2 1544.94 Q1177.14 1549.52 1171.33 1549.52 Q1165.52 1549.52 1162.44 1544.94 Q1159.39 1540.33 1159.39 1531.6 Q1159.39 1522.85 1162.44 1518.27 Q1165.52 1513.66 1171.33 1513.66 Z\" fill=\"#000000\" fill-rule=\"evenodd\" fill-opacity=\"1\" /><path clip-path=\"url(#clip960)\" d=\"M1599.02 1544.91 L1606.66 1544.91 L1606.66 1518.55 L1598.35 1520.21 L1598.35 1515.95 L1606.62 1514.29 L1611.29 1514.29 L1611.29 1544.91 L1618.93 1544.91 L1618.93 1548.85 L1599.02 1548.85 L1599.02 1544.91 Z\" fill=\"#000000\" fill-rule=\"evenodd\" fill-opacity=\"1\" /><path clip-path=\"url(#clip960)\" d=\"M1628.38 1542.97 L1633.26 1542.97 L1633.26 1548.85 L1628.38 1548.85 L1628.38 1542.97 Z\" fill=\"#000000\" fill-rule=\"evenodd\" fill-opacity=\"1\" /><path clip-path=\"url(#clip960)\" d=\"M1644.25 1544.91 L1651.89 1544.91 L1651.89 1518.55 L1643.58 1520.21 L1643.58 1515.95 L1651.85 1514.29 L1656.52 1514.29 L1656.52 1544.91 L1664.16 1544.91 L1664.16 1548.85 L1644.25 1548.85 L1644.25 1544.91 Z\" fill=\"#000000\" fill-rule=\"evenodd\" fill-opacity=\"1\" /><polyline clip-path=\"url(#clip962)\" style=\"stroke:#000000; stroke-linecap:butt; stroke-linejoin:round; stroke-width:2; stroke-opacity:0.1; fill:none\" points=\"\n",
       "  186.76,1486.45 2112.76,1486.45 \n",
       "  \"/>\n",
       "<polyline clip-path=\"url(#clip962)\" style=\"stroke:#000000; stroke-linecap:butt; stroke-linejoin:round; stroke-width:2; stroke-opacity:0.1; fill:none\" points=\"\n",
       "  186.76,1198.61 2112.76,1198.61 \n",
       "  \"/>\n",
       "<polyline clip-path=\"url(#clip962)\" style=\"stroke:#000000; stroke-linecap:butt; stroke-linejoin:round; stroke-width:2; stroke-opacity:0.1; fill:none\" points=\"\n",
       "  186.76,910.766 2112.76,910.766 \n",
       "  \"/>\n",
       "<polyline clip-path=\"url(#clip962)\" style=\"stroke:#000000; stroke-linecap:butt; stroke-linejoin:round; stroke-width:2; stroke-opacity:0.1; fill:none\" points=\"\n",
       "  186.76,622.926 2112.76,622.926 \n",
       "  \"/>\n",
       "<polyline clip-path=\"url(#clip962)\" style=\"stroke:#000000; stroke-linecap:butt; stroke-linejoin:round; stroke-width:2; stroke-opacity:0.1; fill:none\" points=\"\n",
       "  186.76,335.085 2112.76,335.085 \n",
       "  \"/>\n",
       "<polyline clip-path=\"url(#clip962)\" style=\"stroke:#000000; stroke-linecap:butt; stroke-linejoin:round; stroke-width:2; stroke-opacity:0.1; fill:none\" points=\"\n",
       "  186.76,47.2441 2112.76,47.2441 \n",
       "  \"/>\n",
       "<polyline clip-path=\"url(#clip960)\" style=\"stroke:#000000; stroke-linecap:butt; stroke-linejoin:round; stroke-width:4; stroke-opacity:1; fill:none\" points=\"\n",
       "  186.76,1486.45 186.76,47.2441 \n",
       "  \"/>\n",
       "<polyline clip-path=\"url(#clip960)\" style=\"stroke:#000000; stroke-linecap:butt; stroke-linejoin:round; stroke-width:4; stroke-opacity:1; fill:none\" points=\"\n",
       "  186.76,1486.45 203.564,1486.45 \n",
       "  \"/>\n",
       "<polyline clip-path=\"url(#clip960)\" style=\"stroke:#000000; stroke-linecap:butt; stroke-linejoin:round; stroke-width:4; stroke-opacity:1; fill:none\" points=\"\n",
       "  186.76,1198.61 203.564,1198.61 \n",
       "  \"/>\n",
       "<polyline clip-path=\"url(#clip960)\" style=\"stroke:#000000; stroke-linecap:butt; stroke-linejoin:round; stroke-width:4; stroke-opacity:1; fill:none\" points=\"\n",
       "  186.76,910.766 203.564,910.766 \n",
       "  \"/>\n",
       "<polyline clip-path=\"url(#clip960)\" style=\"stroke:#000000; stroke-linecap:butt; stroke-linejoin:round; stroke-width:4; stroke-opacity:1; fill:none\" points=\"\n",
       "  186.76,622.926 203.564,622.926 \n",
       "  \"/>\n",
       "<polyline clip-path=\"url(#clip960)\" style=\"stroke:#000000; stroke-linecap:butt; stroke-linejoin:round; stroke-width:4; stroke-opacity:1; fill:none\" points=\"\n",
       "  186.76,335.085 203.564,335.085 \n",
       "  \"/>\n",
       "<polyline clip-path=\"url(#clip960)\" style=\"stroke:#000000; stroke-linecap:butt; stroke-linejoin:round; stroke-width:4; stroke-opacity:1; fill:none\" points=\"\n",
       "  186.76,47.2441 203.564,47.2441 \n",
       "  \"/>\n",
       "<path clip-path=\"url(#clip960)\" d=\"M63.4226 1472.25 Q59.8115 1472.25 57.9828 1475.81 Q56.1773 1479.35 56.1773 1486.48 Q56.1773 1493.59 57.9828 1497.15 Q59.8115 1500.7 63.4226 1500.7 Q67.0569 1500.7 68.8624 1497.15 Q70.6911 1493.59 70.6911 1486.48 Q70.6911 1479.35 68.8624 1475.81 Q67.0569 1472.25 63.4226 1472.25 M63.4226 1468.54 Q69.2328 1468.54 72.2883 1473.15 Q75.367 1477.73 75.367 1486.48 Q75.367 1495.21 72.2883 1499.82 Q69.2328 1504.4 63.4226 1504.4 Q57.6125 1504.4 54.5338 1499.82 Q51.4782 1495.21 51.4782 1486.48 Q51.4782 1477.73 54.5338 1473.15 Q57.6125 1468.54 63.4226 1468.54 Z\" fill=\"#000000\" fill-rule=\"evenodd\" fill-opacity=\"1\" /><path clip-path=\"url(#clip960)\" d=\"M83.5845 1497.85 L88.4688 1497.85 L88.4688 1503.73 L83.5845 1503.73 L83.5845 1497.85 Z\" fill=\"#000000\" fill-rule=\"evenodd\" fill-opacity=\"1\" /><path clip-path=\"url(#clip960)\" d=\"M108.654 1472.25 Q105.043 1472.25 103.214 1475.81 Q101.409 1479.35 101.409 1486.48 Q101.409 1493.59 103.214 1497.15 Q105.043 1500.7 108.654 1500.7 Q112.288 1500.7 114.094 1497.15 Q115.922 1493.59 115.922 1486.48 Q115.922 1479.35 114.094 1475.81 Q112.288 1472.25 108.654 1472.25 M108.654 1468.54 Q114.464 1468.54 117.52 1473.15 Q120.598 1477.73 120.598 1486.48 Q120.598 1495.21 117.52 1499.82 Q114.464 1504.4 108.654 1504.4 Q102.844 1504.4 99.765 1499.82 Q96.7095 1495.21 96.7095 1486.48 Q96.7095 1477.73 99.765 1473.15 Q102.844 1468.54 108.654 1468.54 Z\" fill=\"#000000\" fill-rule=\"evenodd\" fill-opacity=\"1\" /><path clip-path=\"url(#clip960)\" d=\"M138.816 1472.25 Q135.205 1472.25 133.376 1475.81 Q131.57 1479.35 131.57 1486.48 Q131.57 1493.59 133.376 1497.15 Q135.205 1500.7 138.816 1500.7 Q142.45 1500.7 144.256 1497.15 Q146.084 1493.59 146.084 1486.48 Q146.084 1479.35 144.256 1475.81 Q142.45 1472.25 138.816 1472.25 M138.816 1468.54 Q144.626 1468.54 147.681 1473.15 Q150.76 1477.73 150.76 1486.48 Q150.76 1495.21 147.681 1499.82 Q144.626 1504.4 138.816 1504.4 Q133.006 1504.4 129.927 1499.82 Q126.871 1495.21 126.871 1486.48 Q126.871 1477.73 129.927 1473.15 Q133.006 1468.54 138.816 1468.54 Z\" fill=\"#000000\" fill-rule=\"evenodd\" fill-opacity=\"1\" /><path clip-path=\"url(#clip960)\" d=\"M65.0198 1184.41 Q61.4087 1184.41 59.58 1187.97 Q57.7745 1191.51 57.7745 1198.64 Q57.7745 1205.75 59.58 1209.31 Q61.4087 1212.85 65.0198 1212.85 Q68.6541 1212.85 70.4596 1209.31 Q72.2883 1205.75 72.2883 1198.64 Q72.2883 1191.51 70.4596 1187.97 Q68.6541 1184.41 65.0198 1184.41 M65.0198 1180.7 Q70.83 1180.7 73.8855 1185.31 Q76.9642 1189.89 76.9642 1198.64 Q76.9642 1207.37 73.8855 1211.98 Q70.83 1216.56 65.0198 1216.56 Q59.2097 1216.56 56.131 1211.98 Q53.0754 1207.37 53.0754 1198.64 Q53.0754 1189.89 56.131 1185.31 Q59.2097 1180.7 65.0198 1180.7 Z\" fill=\"#000000\" fill-rule=\"evenodd\" fill-opacity=\"1\" /><path clip-path=\"url(#clip960)\" d=\"M85.1818 1210.01 L90.066 1210.01 L90.066 1215.89 L85.1818 1215.89 L85.1818 1210.01 Z\" fill=\"#000000\" fill-rule=\"evenodd\" fill-opacity=\"1\" /><path clip-path=\"url(#clip960)\" d=\"M110.251 1184.41 Q106.64 1184.41 104.811 1187.97 Q103.006 1191.51 103.006 1198.64 Q103.006 1205.75 104.811 1209.31 Q106.64 1212.85 110.251 1212.85 Q113.885 1212.85 115.691 1209.31 Q117.52 1205.75 117.52 1198.64 Q117.52 1191.51 115.691 1187.97 Q113.885 1184.41 110.251 1184.41 M110.251 1180.7 Q116.061 1180.7 119.117 1185.31 Q122.195 1189.89 122.195 1198.64 Q122.195 1207.37 119.117 1211.98 Q116.061 1216.56 110.251 1216.56 Q104.441 1216.56 101.362 1211.98 Q98.3067 1207.37 98.3067 1198.64 Q98.3067 1189.89 101.362 1185.31 Q104.441 1180.7 110.251 1180.7 Z\" fill=\"#000000\" fill-rule=\"evenodd\" fill-opacity=\"1\" /><path clip-path=\"url(#clip960)\" d=\"M134.441 1211.95 L150.76 1211.95 L150.76 1215.89 L128.816 1215.89 L128.816 1211.95 Q131.478 1209.2 136.061 1204.57 Q140.668 1199.91 141.848 1198.57 Q144.093 1196.05 144.973 1194.31 Q145.876 1192.55 145.876 1190.86 Q145.876 1188.11 143.931 1186.37 Q142.01 1184.64 138.908 1184.64 Q136.709 1184.64 134.256 1185.4 Q131.825 1186.17 129.047 1187.72 L129.047 1182.99 Q131.871 1181.86 134.325 1181.28 Q136.779 1180.7 138.816 1180.7 Q144.186 1180.7 147.38 1183.39 Q150.575 1186.07 150.575 1190.56 Q150.575 1192.69 149.765 1194.61 Q148.978 1196.51 146.871 1199.1 Q146.293 1199.78 143.191 1202.99 Q140.089 1206.19 134.441 1211.95 Z\" fill=\"#000000\" fill-rule=\"evenodd\" fill-opacity=\"1\" /><path clip-path=\"url(#clip960)\" d=\"M62.9365 896.565 Q59.3254 896.565 57.4967 900.13 Q55.6912 903.671 55.6912 910.801 Q55.6912 917.908 57.4967 921.472 Q59.3254 925.014 62.9365 925.014 Q66.5707 925.014 68.3763 921.472 Q70.205 917.908 70.205 910.801 Q70.205 903.671 68.3763 900.13 Q66.5707 896.565 62.9365 896.565 M62.9365 892.861 Q68.7467 892.861 71.8022 897.468 Q74.8809 902.051 74.8809 910.801 Q74.8809 919.528 71.8022 924.134 Q68.7467 928.718 62.9365 928.718 Q57.1264 928.718 54.0477 924.134 Q50.9921 919.528 50.9921 910.801 Q50.9921 902.051 54.0477 897.468 Q57.1264 892.861 62.9365 892.861 Z\" fill=\"#000000\" fill-rule=\"evenodd\" fill-opacity=\"1\" /><path clip-path=\"url(#clip960)\" d=\"M83.0984 922.167 L87.9827 922.167 L87.9827 928.046 L83.0984 928.046 L83.0984 922.167 Z\" fill=\"#000000\" fill-rule=\"evenodd\" fill-opacity=\"1\" /><path clip-path=\"url(#clip960)\" d=\"M108.168 896.565 Q104.557 896.565 102.728 900.13 Q100.922 903.671 100.922 910.801 Q100.922 917.908 102.728 921.472 Q104.557 925.014 108.168 925.014 Q111.802 925.014 113.608 921.472 Q115.436 917.908 115.436 910.801 Q115.436 903.671 113.608 900.13 Q111.802 896.565 108.168 896.565 M108.168 892.861 Q113.978 892.861 117.033 897.468 Q120.112 902.051 120.112 910.801 Q120.112 919.528 117.033 924.134 Q113.978 928.718 108.168 928.718 Q102.358 928.718 99.2789 924.134 Q96.2234 919.528 96.2234 910.801 Q96.2234 902.051 99.2789 897.468 Q102.358 892.861 108.168 892.861 Z\" fill=\"#000000\" fill-rule=\"evenodd\" fill-opacity=\"1\" /><path clip-path=\"url(#clip960)\" d=\"M141.177 897.56 L129.371 916.009 L141.177 916.009 L141.177 897.56 M139.95 893.486 L145.83 893.486 L145.83 916.009 L150.76 916.009 L150.76 919.898 L145.83 919.898 L145.83 928.046 L141.177 928.046 L141.177 919.898 L125.575 919.898 L125.575 915.384 L139.95 893.486 Z\" fill=\"#000000\" fill-rule=\"evenodd\" fill-opacity=\"1\" /><path clip-path=\"url(#clip960)\" d=\"M63.2606 608.724 Q59.6495 608.724 57.8208 612.289 Q56.0152 615.831 56.0152 622.96 Q56.0152 630.067 57.8208 633.632 Q59.6495 637.173 63.2606 637.173 Q66.8948 637.173 68.7004 633.632 Q70.5291 630.067 70.5291 622.96 Q70.5291 615.831 68.7004 612.289 Q66.8948 608.724 63.2606 608.724 M63.2606 605.021 Q69.0707 605.021 72.1263 609.627 Q75.205 614.21 75.205 622.96 Q75.205 631.687 72.1263 636.294 Q69.0707 640.877 63.2606 640.877 Q57.4504 640.877 54.3717 636.294 Q51.3162 631.687 51.3162 622.96 Q51.3162 614.21 54.3717 609.627 Q57.4504 605.021 63.2606 605.021 Z\" fill=\"#000000\" fill-rule=\"evenodd\" fill-opacity=\"1\" /><path clip-path=\"url(#clip960)\" d=\"M83.4225 634.326 L88.3067 634.326 L88.3067 640.206 L83.4225 640.206 L83.4225 634.326 Z\" fill=\"#000000\" fill-rule=\"evenodd\" fill-opacity=\"1\" /><path clip-path=\"url(#clip960)\" d=\"M108.492 608.724 Q104.881 608.724 103.052 612.289 Q101.246 615.831 101.246 622.96 Q101.246 630.067 103.052 633.632 Q104.881 637.173 108.492 637.173 Q112.126 637.173 113.932 633.632 Q115.76 630.067 115.76 622.96 Q115.76 615.831 113.932 612.289 Q112.126 608.724 108.492 608.724 M108.492 605.021 Q114.302 605.021 117.358 609.627 Q120.436 614.21 120.436 622.96 Q120.436 631.687 117.358 636.294 Q114.302 640.877 108.492 640.877 Q102.682 640.877 99.603 636.294 Q96.5474 631.687 96.5474 622.96 Q96.5474 614.21 99.603 609.627 Q102.682 605.021 108.492 605.021 Z\" fill=\"#000000\" fill-rule=\"evenodd\" fill-opacity=\"1\" /><path clip-path=\"url(#clip960)\" d=\"M139.232 621.062 Q136.084 621.062 134.232 623.215 Q132.404 625.368 132.404 629.118 Q132.404 632.845 134.232 635.02 Q136.084 637.173 139.232 637.173 Q142.381 637.173 144.209 635.02 Q146.061 632.845 146.061 629.118 Q146.061 625.368 144.209 623.215 Q142.381 621.062 139.232 621.062 M148.515 606.409 L148.515 610.669 Q146.756 609.835 144.95 609.396 Q143.168 608.956 141.408 608.956 Q136.779 608.956 134.325 612.081 Q131.894 615.206 131.547 621.525 Q132.913 619.511 134.973 618.446 Q137.033 617.359 139.51 617.359 Q144.718 617.359 147.728 620.53 Q150.76 623.678 150.76 629.118 Q150.76 634.442 147.612 637.659 Q144.464 640.877 139.232 640.877 Q133.237 640.877 130.066 636.294 Q126.894 631.687 126.894 622.96 Q126.894 614.766 130.783 609.905 Q134.672 605.021 141.223 605.021 Q142.982 605.021 144.765 605.368 Q146.57 605.715 148.515 606.409 Z\" fill=\"#000000\" fill-rule=\"evenodd\" fill-opacity=\"1\" /><path clip-path=\"url(#clip960)\" d=\"M63.5152 320.884 Q59.9041 320.884 58.0754 324.448 Q56.2699 327.99 56.2699 335.12 Q56.2699 342.226 58.0754 345.791 Q59.9041 349.332 63.5152 349.332 Q67.1494 349.332 68.955 345.791 Q70.7837 342.226 70.7837 335.12 Q70.7837 327.99 68.955 324.448 Q67.1494 320.884 63.5152 320.884 M63.5152 317.18 Q69.3254 317.18 72.3809 321.786 Q75.4596 326.37 75.4596 335.12 Q75.4596 343.846 72.3809 348.453 Q69.3254 353.036 63.5152 353.036 Q57.7051 353.036 54.6264 348.453 Q51.5708 343.846 51.5708 335.12 Q51.5708 326.37 54.6264 321.786 Q57.7051 317.18 63.5152 317.18 Z\" fill=\"#000000\" fill-rule=\"evenodd\" fill-opacity=\"1\" /><path clip-path=\"url(#clip960)\" d=\"M83.6771 346.485 L88.5614 346.485 L88.5614 352.365 L83.6771 352.365 L83.6771 346.485 Z\" fill=\"#000000\" fill-rule=\"evenodd\" fill-opacity=\"1\" /><path clip-path=\"url(#clip960)\" d=\"M108.746 320.884 Q105.135 320.884 103.307 324.448 Q101.501 327.99 101.501 335.12 Q101.501 342.226 103.307 345.791 Q105.135 349.332 108.746 349.332 Q112.381 349.332 114.186 345.791 Q116.015 342.226 116.015 335.12 Q116.015 327.99 114.186 324.448 Q112.381 320.884 108.746 320.884 M108.746 317.18 Q114.557 317.18 117.612 321.786 Q120.691 326.37 120.691 335.12 Q120.691 343.846 117.612 348.453 Q114.557 353.036 108.746 353.036 Q102.936 353.036 99.8576 348.453 Q96.8021 343.846 96.8021 335.12 Q96.8021 326.37 99.8576 321.786 Q102.936 317.18 108.746 317.18 Z\" fill=\"#000000\" fill-rule=\"evenodd\" fill-opacity=\"1\" /><path clip-path=\"url(#clip960)\" d=\"M138.908 335.953 Q135.575 335.953 133.654 337.735 Q131.756 339.518 131.756 342.643 Q131.756 345.768 133.654 347.55 Q135.575 349.332 138.908 349.332 Q142.242 349.332 144.163 347.55 Q146.084 345.745 146.084 342.643 Q146.084 339.518 144.163 337.735 Q142.265 335.953 138.908 335.953 M134.232 333.962 Q131.223 333.221 129.533 331.161 Q127.867 329.101 127.867 326.138 Q127.867 321.995 130.807 319.587 Q133.769 317.18 138.908 317.18 Q144.07 317.18 147.01 319.587 Q149.95 321.995 149.95 326.138 Q149.95 329.101 148.26 331.161 Q146.593 333.221 143.607 333.962 Q146.987 334.749 148.862 337.041 Q150.76 339.333 150.76 342.643 Q150.76 347.666 147.681 350.351 Q144.626 353.036 138.908 353.036 Q133.191 353.036 130.112 350.351 Q127.057 347.666 127.057 342.643 Q127.057 339.333 128.955 337.041 Q130.853 334.749 134.232 333.962 M132.519 326.578 Q132.519 329.263 134.186 330.768 Q135.876 332.272 138.908 332.272 Q141.918 332.272 143.607 330.768 Q145.32 329.263 145.32 326.578 Q145.32 323.893 143.607 322.388 Q141.918 320.884 138.908 320.884 Q135.876 320.884 134.186 322.388 Q132.519 323.893 132.519 326.578 Z\" fill=\"#000000\" fill-rule=\"evenodd\" fill-opacity=\"1\" /><path clip-path=\"url(#clip960)\" d=\"M63.4226 33.0428 Q59.8115 33.0428 57.9828 36.6076 Q56.1773 40.1492 56.1773 47.2788 Q56.1773 54.3853 57.9828 57.9501 Q59.8115 61.4917 63.4226 61.4917 Q67.0569 61.4917 68.8624 57.9501 Q70.6911 54.3853 70.6911 47.2788 Q70.6911 40.1492 68.8624 36.6076 Q67.0569 33.0428 63.4226 33.0428 M63.4226 29.3391 Q69.2328 29.3391 72.2883 33.9456 Q75.367 38.5289 75.367 47.2788 Q75.367 56.0056 72.2883 60.6121 Q69.2328 65.1954 63.4226 65.1954 Q57.6125 65.1954 54.5338 60.6121 Q51.4782 56.0056 51.4782 47.2788 Q51.4782 38.5289 54.5338 33.9456 Q57.6125 29.3391 63.4226 29.3391 Z\" fill=\"#000000\" fill-rule=\"evenodd\" fill-opacity=\"1\" /><path clip-path=\"url(#clip960)\" d=\"M83.5845 58.6445 L88.4688 58.6445 L88.4688 64.5241 L83.5845 64.5241 L83.5845 58.6445 Z\" fill=\"#000000\" fill-rule=\"evenodd\" fill-opacity=\"1\" /><path clip-path=\"url(#clip960)\" d=\"M99.4641 60.5889 L107.103 60.5889 L107.103 34.2233 L98.7928 35.89 L98.7928 31.6308 L107.057 29.9641 L111.733 29.9641 L111.733 60.5889 L119.371 60.5889 L119.371 64.5241 L99.4641 64.5241 L99.4641 60.5889 Z\" fill=\"#000000\" fill-rule=\"evenodd\" fill-opacity=\"1\" /><path clip-path=\"url(#clip960)\" d=\"M138.816 33.0428 Q135.205 33.0428 133.376 36.6076 Q131.57 40.1492 131.57 47.2788 Q131.57 54.3853 133.376 57.9501 Q135.205 61.4917 138.816 61.4917 Q142.45 61.4917 144.256 57.9501 Q146.084 54.3853 146.084 47.2788 Q146.084 40.1492 144.256 36.6076 Q142.45 33.0428 138.816 33.0428 M138.816 29.3391 Q144.626 29.3391 147.681 33.9456 Q150.76 38.5289 150.76 47.2788 Q150.76 56.0056 147.681 60.6121 Q144.626 65.1954 138.816 65.1954 Q133.006 65.1954 129.927 60.6121 Q126.871 56.0056 126.871 47.2788 Q126.871 38.5289 129.927 33.9456 Q133.006 29.3391 138.816 29.3391 Z\" fill=\"#000000\" fill-rule=\"evenodd\" fill-opacity=\"1\" /><polyline clip-path=\"url(#clip962)\" style=\"stroke:#090621; stroke-linecap:butt; stroke-linejoin:round; stroke-width:4; stroke-opacity:1; fill:none\" points=\"\n",
       "  284.624,1486.45 186.76,1447.55 \n",
       "  \"/>\n",
       "<polyline clip-path=\"url(#clip962)\" style=\"stroke:#1f0c47; stroke-linecap:butt; stroke-linejoin:round; stroke-width:4; stroke-opacity:1; fill:none\" points=\"\n",
       "  382.488,1486.45 186.76,1408.65 \n",
       "  \"/>\n",
       "<polyline clip-path=\"url(#clip962)\" style=\"stroke:#3b0964; stroke-linecap:butt; stroke-linejoin:round; stroke-width:4; stroke-opacity:1; fill:none\" points=\"\n",
       "  186.76,1369.74 400.76,1449.29 505.416,1486.45 \n",
       "  \"/>\n",
       "<polyline clip-path=\"url(#clip962)\" style=\"stroke:#550f6d; stroke-linecap:butt; stroke-linejoin:round; stroke-width:4; stroke-opacity:1; fill:none\" points=\"\n",
       "  638.991,1486.45 614.759,1478.58 400.76,1403.59 186.76,1330.84 \n",
       "  \"/>\n",
       "<polyline clip-path=\"url(#clip962)\" style=\"stroke:#6e186e; stroke-linecap:butt; stroke-linejoin:round; stroke-width:4; stroke-opacity:1; fill:none\" points=\"\n",
       "  186.76,1288.1 307.537,1326.54 400.76,1357.9 614.759,1426.26 800.223,1486.45 \n",
       "  \"/>\n",
       "<polyline clip-path=\"url(#clip962)\" style=\"stroke:#88216a; stroke-linecap:butt; stroke-linejoin:round; stroke-width:4; stroke-opacity:1; fill:none\" points=\"\n",
       "  990.489,1486.45 828.759,1437.87 614.759,1373.93 455.79,1326.54 400.76,1310.79 186.76,1244.87 \n",
       "  \"/>\n",
       "<polyline clip-path=\"url(#clip962)\" style=\"stroke:#a12b61; stroke-linecap:butt; stroke-linejoin:round; stroke-width:4; stroke-opacity:1; fill:none\" points=\"\n",
       "  186.76,1201.65 400.76,1260.6 614.759,1321.16 635.309,1326.54 828.759,1378.84 1042.76,1438.22 1214.72,1486.45 \n",
       "  \"/>\n",
       "<polyline clip-path=\"url(#clip962)\" style=\"stroke:#ba3655; stroke-linecap:butt; stroke-linejoin:round; stroke-width:4; stroke-opacity:1; fill:none\" points=\"\n",
       "  1483.13,1486.45 1470.76,1483.36 1256.76,1426.99 1042.76,1372.52 858.691,1326.54 828.759,1319.26 614.759,1264.1 400.76,1210.4 225.01,1166.62 186.76,1157.54 \n",
       "  \n",
       "  \"/>\n",
       "<polyline clip-path=\"url(#clip962)\" style=\"stroke:#d04544; stroke-linecap:butt; stroke-linejoin:round; stroke-width:4; stroke-opacity:1; fill:none\" points=\"\n",
       "  186.76,1109.65 400.76,1159.58 433.531,1166.62 614.759,1207.03 828.759,1255.31 1042.76,1305.21 1136.34,1326.54 1256.76,1354.53 1470.76,1403.72 1684.76,1454.46 \n",
       "  1818.99,1486.45 \n",
       "  \"/>\n",
       "<polyline clip-path=\"url(#clip962)\" style=\"stroke:#e35832; stroke-linecap:butt; stroke-linejoin:round; stroke-width:4; stroke-opacity:1; fill:none\" points=\"\n",
       "  2112.76,1460.13 1898.76,1412.87 1684.76,1367.73 1483.86,1326.54 1470.76,1323.89 1256.76,1278.56 1042.76,1234.17 828.759,1191.36 706.817,1166.62 614.759,1148.46 \n",
       "  400.76,1104.57 186.76,1061.76 \n",
       "  \"/>\n",
       "<polyline clip-path=\"url(#clip962)\" style=\"stroke:#f0701e; stroke-linecap:butt; stroke-linejoin:round; stroke-width:4; stroke-opacity:1; fill:none\" points=\"\n",
       "  186.76,1013.87 400.76,1049.56 614.759,1086.28 828.759,1124.09 1042.76,1162.86 1064.6,1166.62 1256.76,1200.39 1470.76,1238.34 1684.76,1277.81 1898.76,1318.13 \n",
       "  1944.61,1326.54 2112.76,1357.93 \n",
       "  \"/>\n",
       "<polyline clip-path=\"url(#clip962)\" style=\"stroke:#f98c09; stroke-linecap:butt; stroke-linejoin:round; stroke-width:4; stroke-opacity:1; fill:none\" points=\"\n",
       "  2112.76,1251.51 1898.76,1217.84 1684.76,1185 1566.92,1166.62 1470.76,1151.79 1256.76,1118.68 1042.76,1086.15 828.759,1054.73 614.759,1024.09 495.302,1006.71 \n",
       "  400.76,992.617 186.76,959.262 \n",
       "  \"/>\n",
       "<polyline clip-path=\"url(#clip962)\" style=\"stroke:#fbaa0e; stroke-linecap:butt; stroke-linejoin:round; stroke-width:4; stroke-opacity:1; fill:none\" points=\"\n",
       "  186.76,903.477 400.76,928.86 614.759,954.957 828.759,981.984 1020.62,1006.71 1042.76,1009.44 1256.76,1034.29 1470.76,1059.97 1684.76,1086.33 1898.76,1113.87 \n",
       "  2112.76,1141.44 \n",
       "  \"/>\n",
       "<polyline clip-path=\"url(#clip962)\" style=\"stroke:#f8c931; stroke-linecap:butt; stroke-linejoin:round; stroke-width:4; stroke-opacity:1; fill:none\" points=\"\n",
       "  2112.76,1024.96 1906.51,1006.71 1898.76,1005.96 1684.76,982.72 1470.76,961.61 1256.76,940.511 1042.76,920.982 828.759,901.64 614.759,883.136 400.76,865.104 \n",
       "  186.76,847.691 \n",
       "  \"/>\n",
       "<polyline clip-path=\"url(#clip962)\" style=\"stroke:#f1e864; stroke-linecap:butt; stroke-linejoin:round; stroke-width:4; stroke-opacity:1; fill:none\" points=\"\n",
       "  186.76,751.06 400.76,765.811 614.759,782.84 828.759,800.121 1042.76,819.246 1256.76,838.117 1343.47,846.802 1470.76,854.205 1684.76,865.569 1898.76,878.09 \n",
       "  2112.76,889.893 \n",
       "  \"/>\n",
       "<defs>\n",
       "  <clipPath id=\"clip963\">\n",
       "    <rect x=\"2160\" y=\"47\" width=\"73\" height=\"1440\"/>\n",
       "  </clipPath>\n",
       "</defs>\n",
       "<polyline clip-path=\"url(#clip963)\" style=\"stroke:#0a0723; stroke-linecap:butt; stroke-linejoin:round; stroke-width:4; stroke-opacity:1; fill:none\" points=\"\n",
       "  2160.76,1396.5 2232.76,1396.5 \n",
       "  \"/>\n",
       "<polyline clip-path=\"url(#clip963)\" style=\"stroke:#200c4a; stroke-linecap:butt; stroke-linejoin:round; stroke-width:4; stroke-opacity:1; fill:none\" points=\"\n",
       "  2160.76,1306.55 2232.76,1306.55 \n",
       "  \"/>\n",
       "<polyline clip-path=\"url(#clip963)\" style=\"stroke:#3c0965; stroke-linecap:butt; stroke-linejoin:round; stroke-width:4; stroke-opacity:1; fill:none\" points=\"\n",
       "  2160.76,1216.6 2232.76,1216.6 \n",
       "  \"/>\n",
       "<polyline clip-path=\"url(#clip963)\" style=\"stroke:#570f6d; stroke-linecap:butt; stroke-linejoin:round; stroke-width:4; stroke-opacity:1; fill:none\" points=\"\n",
       "  2160.76,1126.65 2232.76,1126.65 \n",
       "  \"/>\n",
       "<polyline clip-path=\"url(#clip963)\" style=\"stroke:#70196e; stroke-linecap:butt; stroke-linejoin:round; stroke-width:4; stroke-opacity:1; fill:none\" points=\"\n",
       "  2160.76,1036.7 2232.76,1036.7 \n",
       "  \"/>\n",
       "<polyline clip-path=\"url(#clip963)\" style=\"stroke:#892269; stroke-linecap:butt; stroke-linejoin:round; stroke-width:4; stroke-opacity:1; fill:none\" points=\"\n",
       "  2160.76,946.746 2232.76,946.746 \n",
       "  \"/>\n",
       "<polyline clip-path=\"url(#clip963)\" style=\"stroke:#a32b61; stroke-linecap:butt; stroke-linejoin:round; stroke-width:4; stroke-opacity:1; fill:none\" points=\"\n",
       "  2160.76,856.796 2232.76,856.796 \n",
       "  \"/>\n",
       "<polyline clip-path=\"url(#clip963)\" style=\"stroke:#bb3754; stroke-linecap:butt; stroke-linejoin:round; stroke-width:4; stroke-opacity:1; fill:none\" points=\"\n",
       "  2160.76,766.846 2232.76,766.846 \n",
       "  \"/>\n",
       "<polyline clip-path=\"url(#clip963)\" style=\"stroke:#d04544; stroke-linecap:butt; stroke-linejoin:round; stroke-width:4; stroke-opacity:1; fill:none\" points=\"\n",
       "  2160.76,676.896 2232.76,676.896 \n",
       "  \"/>\n",
       "<polyline clip-path=\"url(#clip963)\" style=\"stroke:#e35832; stroke-linecap:butt; stroke-linejoin:round; stroke-width:4; stroke-opacity:1; fill:none\" points=\"\n",
       "  2160.76,586.946 2232.76,586.946 \n",
       "  \"/>\n",
       "<polyline clip-path=\"url(#clip963)\" style=\"stroke:#f0701e; stroke-linecap:butt; stroke-linejoin:round; stroke-width:4; stroke-opacity:1; fill:none\" points=\"\n",
       "  2160.76,496.995 2232.76,496.995 \n",
       "  \"/>\n",
       "<polyline clip-path=\"url(#clip963)\" style=\"stroke:#f98c09; stroke-linecap:butt; stroke-linejoin:round; stroke-width:4; stroke-opacity:1; fill:none\" points=\"\n",
       "  2160.76,407.045 2232.76,407.045 \n",
       "  \"/>\n",
       "<polyline clip-path=\"url(#clip963)\" style=\"stroke:#fbaa0e; stroke-linecap:butt; stroke-linejoin:round; stroke-width:4; stroke-opacity:1; fill:none\" points=\"\n",
       "  2160.76,317.095 2232.76,317.095 \n",
       "  \"/>\n",
       "<polyline clip-path=\"url(#clip963)\" style=\"stroke:#f8c931; stroke-linecap:butt; stroke-linejoin:round; stroke-width:4; stroke-opacity:1; fill:none\" points=\"\n",
       "  2160.76,227.145 2232.76,227.145 \n",
       "  \"/>\n",
       "<polyline clip-path=\"url(#clip963)\" style=\"stroke:#f1e864; stroke-linecap:butt; stroke-linejoin:round; stroke-width:4; stroke-opacity:1; fill:none\" points=\"\n",
       "  2160.76,137.194 2232.76,137.194 \n",
       "  \"/>\n",
       "<path clip-path=\"url(#clip960)\" d=\"M2268.76 1202.43 L2298.43 1202.43 L2298.43 1206.37 L2268.76 1206.37 L2268.76 1202.43 Z\" fill=\"#000000\" fill-rule=\"evenodd\" fill-opacity=\"1\" /><path clip-path=\"url(#clip960)\" d=\"M2309.33 1215.33 L2316.97 1215.33 L2316.97 1188.96 L2308.66 1190.63 L2308.66 1186.37 L2316.93 1184.7 L2321.6 1184.7 L2321.6 1215.33 L2329.24 1215.33 L2329.24 1219.26 L2309.33 1219.26 L2309.33 1215.33 Z\" fill=\"#000000\" fill-rule=\"evenodd\" fill-opacity=\"1\" /><path clip-path=\"url(#clip960)\" d=\"M2342.71 1215.33 L2359.03 1215.33 L2359.03 1219.26 L2337.09 1219.26 L2337.09 1215.33 Q2339.75 1212.57 2344.33 1207.94 Q2348.94 1203.29 2350.12 1201.95 Q2352.37 1199.42 2353.25 1197.69 Q2354.15 1195.93 2354.15 1194.24 Q2354.15 1191.48 2352.2 1189.75 Q2350.28 1188.01 2347.18 1188.01 Q2344.98 1188.01 2342.53 1188.78 Q2340.1 1189.54 2337.32 1191.09 L2337.32 1186.37 Q2340.14 1185.23 2342.6 1184.66 Q2345.05 1184.08 2347.09 1184.08 Q2352.46 1184.08 2355.65 1186.76 Q2358.85 1189.45 2358.85 1193.94 Q2358.85 1196.07 2358.04 1197.99 Q2357.25 1199.89 2355.14 1202.48 Q2354.57 1203.15 2351.46 1206.37 Q2348.36 1209.56 2342.71 1215.33 Z\" fill=\"#000000\" fill-rule=\"evenodd\" fill-opacity=\"1\" /><path clip-path=\"url(#clip960)\" d=\"M2368.85 1213.38 L2373.73 1213.38 L2373.73 1219.26 L2368.85 1219.26 L2368.85 1213.38 Z\" fill=\"#000000\" fill-rule=\"evenodd\" fill-opacity=\"1\" /><path clip-path=\"url(#clip960)\" d=\"M2393.92 1187.78 Q2390.31 1187.78 2388.48 1191.35 Q2386.67 1194.89 2386.67 1202.02 Q2386.67 1209.12 2388.48 1212.69 Q2390.31 1216.23 2393.92 1216.23 Q2397.55 1216.23 2399.36 1212.69 Q2401.19 1209.12 2401.19 1202.02 Q2401.19 1194.89 2399.36 1191.35 Q2397.55 1187.78 2393.92 1187.78 M2393.92 1184.08 Q2399.73 1184.08 2402.78 1188.68 Q2405.86 1193.27 2405.86 1202.02 Q2405.86 1210.74 2402.78 1215.35 Q2399.73 1219.93 2393.92 1219.93 Q2388.11 1219.93 2385.03 1215.35 Q2381.97 1210.74 2381.97 1202.02 Q2381.97 1193.27 2385.03 1188.68 Q2388.11 1184.08 2393.92 1184.08 Z\" fill=\"#000000\" fill-rule=\"evenodd\" fill-opacity=\"1\" /><path clip-path=\"url(#clip960)\" d=\"M2268.76 921.409 L2298.43 921.409 L2298.43 925.344 L2268.76 925.344 L2268.76 921.409 Z\" fill=\"#000000\" fill-rule=\"evenodd\" fill-opacity=\"1\" /><path clip-path=\"url(#clip960)\" d=\"M2309.33 934.303 L2316.97 934.303 L2316.97 907.937 L2308.66 909.604 L2308.66 905.345 L2316.93 903.678 L2321.6 903.678 L2321.6 934.303 L2329.24 934.303 L2329.24 938.238 L2309.33 938.238 L2309.33 934.303 Z\" fill=\"#000000\" fill-rule=\"evenodd\" fill-opacity=\"1\" /><path clip-path=\"url(#clip960)\" d=\"M2339.5 934.303 L2347.14 934.303 L2347.14 907.937 L2338.82 909.604 L2338.82 905.345 L2347.09 903.678 L2351.76 903.678 L2351.76 934.303 L2359.4 934.303 L2359.4 938.238 L2339.5 938.238 L2339.5 934.303 Z\" fill=\"#000000\" fill-rule=\"evenodd\" fill-opacity=\"1\" /><path clip-path=\"url(#clip960)\" d=\"M2368.85 932.358 L2373.73 932.358 L2373.73 938.238 L2368.85 938.238 L2368.85 932.358 Z\" fill=\"#000000\" fill-rule=\"evenodd\" fill-opacity=\"1\" /><path clip-path=\"url(#clip960)\" d=\"M2383.96 903.678 L2402.32 903.678 L2402.32 907.613 L2388.25 907.613 L2388.25 916.085 Q2389.26 915.738 2390.28 915.576 Q2391.3 915.391 2392.32 915.391 Q2398.11 915.391 2401.49 918.562 Q2404.87 921.733 2404.87 927.15 Q2404.87 932.729 2401.39 935.83 Q2397.92 938.909 2391.6 938.909 Q2389.43 938.909 2387.16 938.539 Q2384.91 938.168 2382.51 937.428 L2382.51 932.729 Q2384.59 933.863 2386.81 934.418 Q2389.03 934.974 2391.51 934.974 Q2395.51 934.974 2397.85 932.868 Q2400.19 930.761 2400.19 927.15 Q2400.19 923.539 2397.85 921.432 Q2395.51 919.326 2391.51 919.326 Q2389.63 919.326 2387.76 919.743 Q2385.91 920.159 2383.96 921.039 L2383.96 903.678 Z\" fill=\"#000000\" fill-rule=\"evenodd\" fill-opacity=\"1\" /><path clip-path=\"url(#clip960)\" d=\"M2268.76 640.385 L2298.43 640.385 L2298.43 644.321 L2268.76 644.321 L2268.76 640.385 Z\" fill=\"#000000\" fill-rule=\"evenodd\" fill-opacity=\"1\" /><path clip-path=\"url(#clip960)\" d=\"M2309.33 653.279 L2316.97 653.279 L2316.97 626.913 L2308.66 628.58 L2308.66 624.321 L2316.93 622.654 L2321.6 622.654 L2321.6 653.279 L2329.24 653.279 L2329.24 657.214 L2309.33 657.214 L2309.33 653.279 Z\" fill=\"#000000\" fill-rule=\"evenodd\" fill-opacity=\"1\" /><path clip-path=\"url(#clip960)\" d=\"M2339.5 653.279 L2347.14 653.279 L2347.14 626.913 L2338.82 628.58 L2338.82 624.321 L2347.09 622.654 L2351.76 622.654 L2351.76 653.279 L2359.4 653.279 L2359.4 657.214 L2339.5 657.214 L2339.5 653.279 Z\" fill=\"#000000\" fill-rule=\"evenodd\" fill-opacity=\"1\" /><path clip-path=\"url(#clip960)\" d=\"M2368.85 651.334 L2373.73 651.334 L2373.73 657.214 L2368.85 657.214 L2368.85 651.334 Z\" fill=\"#000000\" fill-rule=\"evenodd\" fill-opacity=\"1\" /><path clip-path=\"url(#clip960)\" d=\"M2393.92 625.733 Q2390.31 625.733 2388.48 629.297 Q2386.67 632.839 2386.67 639.969 Q2386.67 647.075 2388.48 650.64 Q2390.31 654.182 2393.92 654.182 Q2397.55 654.182 2399.36 650.64 Q2401.19 647.075 2401.19 639.969 Q2401.19 632.839 2399.36 629.297 Q2397.55 625.733 2393.92 625.733 M2393.92 622.029 Q2399.73 622.029 2402.78 626.635 Q2405.86 631.219 2405.86 639.969 Q2405.86 648.696 2402.78 653.302 Q2399.73 657.885 2393.92 657.885 Q2388.11 657.885 2385.03 653.302 Q2381.97 648.696 2381.97 639.969 Q2381.97 631.219 2385.03 626.635 Q2388.11 622.029 2393.92 622.029 Z\" fill=\"#000000\" fill-rule=\"evenodd\" fill-opacity=\"1\" /><path clip-path=\"url(#clip960)\" d=\"M2268.76 359.361 L2298.43 359.361 L2298.43 363.297 L2268.76 363.297 L2268.76 359.361 Z\" fill=\"#000000\" fill-rule=\"evenodd\" fill-opacity=\"1\" /><path clip-path=\"url(#clip960)\" d=\"M2309.33 372.255 L2316.97 372.255 L2316.97 345.889 L2308.66 347.556 L2308.66 343.297 L2316.93 341.63 L2321.6 341.63 L2321.6 372.255 L2329.24 372.255 L2329.24 376.19 L2309.33 376.19 L2309.33 372.255 Z\" fill=\"#000000\" fill-rule=\"evenodd\" fill-opacity=\"1\" /><path clip-path=\"url(#clip960)\" d=\"M2348.69 344.709 Q2345.07 344.709 2343.25 348.274 Q2341.44 351.815 2341.44 358.945 Q2341.44 366.051 2343.25 369.616 Q2345.07 373.158 2348.69 373.158 Q2352.32 373.158 2354.13 369.616 Q2355.95 366.051 2355.95 358.945 Q2355.95 351.815 2354.13 348.274 Q2352.32 344.709 2348.69 344.709 M2348.69 341.005 Q2354.5 341.005 2357.55 345.612 Q2360.63 350.195 2360.63 358.945 Q2360.63 367.672 2357.55 372.278 Q2354.5 376.861 2348.69 376.861 Q2342.88 376.861 2339.8 372.278 Q2336.74 367.672 2336.74 358.945 Q2336.74 350.195 2339.8 345.612 Q2342.88 341.005 2348.69 341.005 Z\" fill=\"#000000\" fill-rule=\"evenodd\" fill-opacity=\"1\" /><path clip-path=\"url(#clip960)\" d=\"M2368.85 370.31 L2373.73 370.31 L2373.73 376.19 L2368.85 376.19 L2368.85 370.31 Z\" fill=\"#000000\" fill-rule=\"evenodd\" fill-opacity=\"1\" /><path clip-path=\"url(#clip960)\" d=\"M2383.96 341.63 L2402.32 341.63 L2402.32 345.565 L2388.25 345.565 L2388.25 354.037 Q2389.26 353.69 2390.28 353.528 Q2391.3 353.343 2392.32 353.343 Q2398.11 353.343 2401.49 356.514 Q2404.87 359.686 2404.87 365.102 Q2404.87 370.681 2401.39 373.783 Q2397.92 376.861 2391.6 376.861 Q2389.43 376.861 2387.16 376.491 Q2384.91 376.121 2382.51 375.38 L2382.51 370.681 Q2384.59 371.815 2386.81 372.371 Q2389.03 372.926 2391.51 372.926 Q2395.51 372.926 2397.85 370.82 Q2400.19 368.713 2400.19 365.102 Q2400.19 361.491 2397.85 359.385 Q2395.51 357.278 2391.51 357.278 Q2389.63 357.278 2387.76 357.695 Q2385.91 358.111 2383.96 358.991 L2383.96 341.63 Z\" fill=\"#000000\" fill-rule=\"evenodd\" fill-opacity=\"1\" /><path clip-path=\"url(#clip960)\" d=\"M2268.76 78.3376 L2298.43 78.3376 L2298.43 82.2727 L2268.76 82.2727 L2268.76 78.3376 Z\" fill=\"#000000\" fill-rule=\"evenodd\" fill-opacity=\"1\" /><path clip-path=\"url(#clip960)\" d=\"M2309.33 91.231 L2316.97 91.231 L2316.97 64.8654 L2308.66 66.5321 L2308.66 62.2728 L2316.93 60.6062 L2321.6 60.6062 L2321.6 91.231 L2329.24 91.231 L2329.24 95.1662 L2309.33 95.1662 L2309.33 91.231 Z\" fill=\"#000000\" fill-rule=\"evenodd\" fill-opacity=\"1\" /><path clip-path=\"url(#clip960)\" d=\"M2348.69 63.6849 Q2345.07 63.6849 2343.25 67.2497 Q2341.44 70.7913 2341.44 77.9209 Q2341.44 85.0273 2343.25 88.5921 Q2345.07 92.1338 2348.69 92.1338 Q2352.32 92.1338 2354.13 88.5921 Q2355.95 85.0273 2355.95 77.9209 Q2355.95 70.7913 2354.13 67.2497 Q2352.32 63.6849 2348.69 63.6849 M2348.69 59.9812 Q2354.5 59.9812 2357.55 64.5876 Q2360.63 69.1709 2360.63 77.9209 Q2360.63 86.6477 2357.55 91.2542 Q2354.5 95.8375 2348.69 95.8375 Q2342.88 95.8375 2339.8 91.2542 Q2336.74 86.6477 2336.74 77.9209 Q2336.74 69.1709 2339.8 64.5876 Q2342.88 59.9812 2348.69 59.9812 Z\" fill=\"#000000\" fill-rule=\"evenodd\" fill-opacity=\"1\" /><path clip-path=\"url(#clip960)\" d=\"M2368.85 89.2866 L2373.73 89.2866 L2373.73 95.1662 L2368.85 95.1662 L2368.85 89.2866 Z\" fill=\"#000000\" fill-rule=\"evenodd\" fill-opacity=\"1\" /><path clip-path=\"url(#clip960)\" d=\"M2393.92 63.6849 Q2390.31 63.6849 2388.48 67.2497 Q2386.67 70.7913 2386.67 77.9209 Q2386.67 85.0273 2388.48 88.5921 Q2390.31 92.1338 2393.92 92.1338 Q2397.55 92.1338 2399.36 88.5921 Q2401.19 85.0273 2401.19 77.9209 Q2401.19 70.7913 2399.36 67.2497 Q2397.55 63.6849 2393.92 63.6849 M2393.92 59.9812 Q2399.73 59.9812 2402.78 64.5876 Q2405.86 69.1709 2405.86 77.9209 Q2405.86 86.6477 2402.78 91.2542 Q2399.73 95.8375 2393.92 95.8375 Q2388.11 95.8375 2385.03 91.2542 Q2381.97 86.6477 2381.97 77.9209 Q2381.97 69.1709 2385.03 64.5876 Q2388.11 59.9812 2393.92 59.9812 Z\" fill=\"#000000\" fill-rule=\"evenodd\" fill-opacity=\"1\" /><polyline clip-path=\"url(#clip960)\" style=\"stroke:#000000; stroke-linecap:butt; stroke-linejoin:round; stroke-width:4; stroke-opacity:1; fill:none\" points=\"\n",
       "  2232.76,1486.45 2232.76,1205.61 2256.76,1205.61 2232.76,1205.61 2232.76,924.587 2256.76,924.587 2232.76,924.587 2232.76,643.563 2256.76,643.563 2232.76,643.563 \n",
       "  2232.76,362.539 2256.76,362.539 2232.76,362.539 2232.76,81.515 2256.76,81.515 2232.76,81.515 2232.76,47.2441 \n",
       "  \"/>\n",
       "</svg>\n"
      ]
     },
     "execution_count": 159,
     "metadata": {},
     "output_type": "execute_result"
    }
   ],
   "source": [
    "contour(θ_0_vec, θ_1_vec, values)"
   ]
  },
  {
   "cell_type": "markdown",
   "metadata": {},
   "source": [
    "### Learning to save\n",
    "\n",
    "__We now focus on the number of steps it takes to optimize $\\theta_0$, $\\theta_1$.__"
   ]
  },
  {
   "cell_type": "markdown",
   "metadata": {},
   "source": [
    "__Implement a function `∇(θ::Vector; N=1000)::Vector` which computes the gradient of the objective w.r.t. `θ==[θ_0,θ_1]`. (You need to use automatic differentiation, otherwise you might get incorrect results).__"
   ]
  },
  {
   "cell_type": "code",
   "execution_count": null,
   "metadata": {},
   "outputs": [],
   "source": []
  },
  {
   "cell_type": "markdown",
   "metadata": {},
   "source": [
    "__Implement a gradient descent algorithm to maximize $\\Xi^N(\\theta_0, \\theta_1)$ using learning rate $\\lambda \\in ]0,1]$. Stop after a predefined number of iterations. Compare convergence speed for different values of $\\lambda$ and plot them on the $\\theta_0, \\theta_1$ plan. How many steps does it take to enter the `1%` error zone? The `5%` and the `10%` error zone?__"
   ]
  },
  {
   "cell_type": "code",
   "execution_count": null,
   "metadata": {},
   "outputs": [],
   "source": []
  },
  {
   "cell_type": "markdown",
   "metadata": {},
   "source": [
    "__Even for big N, the evaluated value of ∇ are stochastic, and always slightly inaccurate. In average, they are non-biased and the algorithm converges in expectation (it fluctuates around the maximum). This is called the stochastic gradient method.__\n",
    "\n",
    "__What are the values of $N$ and $\\lambda$ which minimize the number of iterations before reaching the target zones (at 1%, 2%, etc...)? How many simulations periods does it correspond to? Would you say it is realistic that consumers learn from their own experience?__"
   ]
  },
  {
   "cell_type": "code",
   "execution_count": null,
   "metadata": {},
   "outputs": [],
   "source": []
  }
 ],
 "metadata": {
  "kernelspec": {
   "display_name": "Julia 1.7.2",
   "language": "julia",
   "name": "julia-1.7"
  },
  "language_info": {
   "file_extension": ".jl",
   "mimetype": "application/julia",
   "name": "julia",
   "version": "1.7.2"
  }
 },
 "nbformat": 4,
 "nbformat_minor": 4
}
