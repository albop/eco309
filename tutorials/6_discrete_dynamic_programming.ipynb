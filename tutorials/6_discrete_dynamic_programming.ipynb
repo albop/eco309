{
 "cells": [
  {
   "attachments": {},
   "cell_type": "markdown",
   "metadata": {},
   "source": [
    "# Tutorial: Discrete Dynamic Programming"
   ]
  },
  {
   "cell_type": "markdown",
   "metadata": {},
   "source": [
    "## Markov Chains"
   ]
  },
  {
   "cell_type": "markdown",
   "metadata": {},
   "source": [
    "A worker’s employment dynamics obey the stochastic matrix\n",
    "\n",
    "$$P = \\begin{bmatrix}\n",
    "1-\\alpha & \\alpha \\\\\n",
    "\\beta & 1-\\beta\n",
    "\\end{bmatrix}$$\n",
    "\n",
    "\n",
    "\n",
    "$$P = \\begin{bmatrix}\n",
    "1-\\alpha & ... \\\\\n",
    "\\beta & ...\n",
    "\\end{bmatrix}$$\n",
    "\n",
    "\n",
    "with $\\alpha\\in(0,1)$ and $\\beta\\in (0,1)$. First line corresponds to employment, second line to unemployment."
   ]
  },
  {
   "attachments": {},
   "cell_type": "markdown",
   "metadata": {},
   "source": [
    "__Which is the stationary equilibrium? (choose any value for $\\alpha$ and $\\beta$)__"
   ]
  },
  {
   "cell_type": "code",
   "execution_count": null,
   "metadata": {},
   "outputs": [],
   "source": []
  },
  {
   "cell_type": "markdown",
   "metadata": {},
   "source": [
    "__In the long run, what will the the fraction $p$ of time spent unemployed? (Denote by $X_m$ the fraction of dates were one is unemployed)__"
   ]
  },
  {
   "cell_type": "code",
   "execution_count": null,
   "metadata": {},
   "outputs": [],
   "source": []
  },
  {
   "cell_type": "markdown",
   "metadata": {},
   "source": [
    "__Illustrate this convergence by generating a simulated series of length 10000 starting at $X_0=1$. Plot $X_m-p$ against $m$. (Take $\\alpha=\\beta=0.1$).__"
   ]
  },
  {
   "cell_type": "code",
   "execution_count": null,
   "metadata": {},
   "outputs": [],
   "source": []
  },
  {
   "cell_type": "markdown",
   "metadata": {},
   "source": [
    "## Basic Asset Pricing model\n",
    "\n",
    "A financial asset yields dividend $(x_t)$, which follows an AR1. It is evaluated using the stochastic discount factor: $\\rho_{0,t} = \\beta^t \\exp(y_t)$  where $\\beta<1$ and $y_t$ is an $AR1$.\n",
    "The price of the asset is given by $p_0 = \\sum_{t\\geq 0} \\rho_{0,t} U(x_t)$ where $U(u)=\\exp(u)^{0.5}/{0.5}$.\n",
    "Our goal is to find the pricing function $p(x,y)$, which yields the price of the asset in any state."
   ]
  },
  {
   "cell_type": "markdown",
   "metadata": {},
   "source": [
    "__Write down the recursive equation which must be satisfied by $p$.__"
   ]
  },
  {
   "cell_type": "markdown",
   "metadata": {},
   "source": [
    "\n",
    "$$p_t = U(x_t) + \\beta E_t \\left[ \\frac{e^{y_{t+1}}}{e^{y_t}} p_{t+1} \\right]$$"
   ]
  },
  {
   "attachments": {},
   "cell_type": "markdown",
   "metadata": {},
   "source": [
    "__Compute the ergodic distribution of $x$ and $y$.__"
   ]
  },
  {
   "cell_type": "code",
   "execution_count": null,
   "metadata": {},
   "outputs": [],
   "source": []
  },
  {
   "cell_type": "markdown",
   "metadata": {},
   "source": [
    "__Discretize processes $(x_t)$ and $(y_t)$ using 2 states each. How would you represent the unknown $p()$?__"
   ]
  },
  {
   "cell_type": "code",
   "execution_count": null,
   "metadata": {},
   "outputs": [],
   "source": []
  },
  {
   "cell_type": "markdown",
   "metadata": {},
   "source": [
    "__Solve for $p()$ using successive approximations__"
   ]
  },
  {
   "cell_type": "code",
   "execution_count": null,
   "metadata": {},
   "outputs": [],
   "source": []
  },
  {
   "cell_type": "markdown",
   "metadata": {},
   "source": [
    "__Solve for $p()$ by solving a linear system (homework)__"
   ]
  },
  {
   "cell_type": "code",
   "execution_count": null,
   "metadata": {},
   "outputs": [],
   "source": []
  },
  {
   "cell_type": "markdown",
   "metadata": {},
   "source": [
    "## Asset replacement (from Compecon)\n",
    "\n",
    "At the beginning of each year, a manufacturer must decide whether to continue to operate an aging physical asset or replace it with a new one.\n",
    "\n",
    "An asset that is $a$ years old yields a profit contribution $p(a)$ up to $n$ years, at which point, the asset becomes unsafe and must be replaced by law.\n",
    "\n",
    "The cost of a new asset is $c$. What replacement policy maximizes profits?\n",
    "\n",
    "Calibration: profit $p(a)=50-2.5a-2.5a^2$. Maximum asset age: 5 years. Asset replacement cost: 75, annual discount factor $\\delta=0.9$."
   ]
  },
  {
   "cell_type": "markdown",
   "metadata": {},
   "source": [
    "__Define kind of problem, the state space, the actions, the reward function, and the Bellman updating equation__"
   ]
  },
  {
   "cell_type": "markdown",
   "metadata": {},
   "source": [
    "kind of problem:\n",
    "- discrete/finite state and actions space\n",
    "- infinite horizon\n",
    "- discrete dynamic programming problem (d.m.d.p.)"
   ]
  },
  {
   "attachments": {},
   "cell_type": "markdown",
   "metadata": {},
   "source": [
    "- state-space:  asset age $a\\in[0,1,2,3,4,5]$\n",
    "- actions: keep/replace ($\\text{replace} in false/true$ if a<5)\n"
   ]
  },
  {
   "attachments": {},
   "cell_type": "markdown",
   "metadata": {},
   "source": [
    "Bellman updating equation:\n",
    "\n",
    "$$ V(a) ← p(a) + \\delta \\begin{cases} V(0) - c \\   \\text{if a=true} \\\\ V(a+1) \\text{if a=false} \\\\ V(0)-c \\text{if a=5}\\end{cases}   $$"
   ]
  },
  {
   "cell_type": "markdown",
   "metadata": {},
   "source": [
    "__Solve the problem using Value Function Iteration__"
   ]
  },
  {
   "cell_type": "code",
   "execution_count": null,
   "metadata": {},
   "outputs": [],
   "source": []
  },
  {
   "cell_type": "markdown",
   "metadata": {},
   "source": [
    "__Solve the problem using Policy Iteration. Compare with VFI.__"
   ]
  },
  {
   "cell_type": "code",
   "execution_count": null,
   "metadata": {},
   "outputs": [],
   "source": []
  }
 ],
 "metadata": {
  "kernelspec": {
   "display_name": "Julia 1.8.5",
   "language": "julia",
   "name": "julia-1.8"
  },
  "language_info": {
   "file_extension": ".jl",
   "mimetype": "application/julia",
   "name": "julia",
   "version": "1.8.5"
  }
 },
 "nbformat": 4,
 "nbformat_minor": 4
}
