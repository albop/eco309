{
 "cells": [
  {
   "cell_type": "markdown",
   "metadata": {},
   "source": [
    "# Tutorial: Julia Basics\n",
    "\n",
    "## Computational Economics  (ECO309)"
   ]
  },
  {
   "cell_type": "markdown",
   "metadata": {},
   "source": [
    "### What is Julia\n",
    "\n",
    "- developped at MIT on top of opensource technologies\n",
    "    - linux / git / llvm\n",
    "- syntax inspired by Matlab but:\n",
    "    - more consistent\n",
    "    - lots of features from high level languages\n",
    "- everything is JIT-compiled\n",
    "    - interpreted vs compiled treadeoff\n",
    "    - -> very fast\n",
    "    - most of the base library is written in Julia\n",
    "- opensource/free + vibrant community\n"
   ]
  },
  {
   "cell_type": "markdown",
   "metadata": {},
   "source": [
    "Some useful links from QuantEcon:\n",
    "\n",
    "* [Julia cheatsheet](https://cheatsheets.quantecon.org/julia-cheatsheet.html)\n",
    "* [Julia-Matlab comparison](https://cheatsheets.quantecon.org/index.html)\n",
    "* [Julia essentials](https://lectures.quantecon.org/jl/julia_essentials.html)\n",
    "* [Vectors, arrays and matrices](https://lectures.quantecon.org/jl/julia_arrays.html)\n",
    "\n",
    "Excellent resources at: [julialang](https://julialang.org/learning/)\n",
    "- checkout JuliaAcademy, it's free"
   ]
  },
  {
   "cell_type": "markdown",
   "metadata": {},
   "source": [
    "### an example of what you shouldn't do in Matlab\n",
    "\n",
    "How I learnt: interpreted code is slow, so vectorize your coe."
   ]
  },
  {
   "cell_type": "code",
   "execution_count": 3,
   "metadata": {},
   "outputs": [
    {
     "name": "stdout",
     "output_type": "stream",
     "text": [
      "  0.208609 seconds (63.54 k allocations: 3.423 MiB, 41.77% compilation time)\n"
     ]
    },
    {
     "data": {
      "text/plain": [
       "10-element Vector{Float64}:\n",
       " 1.0e6\n",
       " 2.0e6\n",
       " 3.0e6\n",
       " 4.0e6\n",
       " 5.0e6\n",
       " 6.0e6\n",
       " 7.0e6\n",
       " 8.0e6\n",
       " 9.0e6\n",
       " 1.0e7"
      ]
     },
     "metadata": {},
     "output_type": "display_data"
    }
   ],
   "source": [
    "function stupid_loop(I,J,K)\n",
    "    t = 0.0\n",
    "    for i=1:I\n",
    "        for j=1:J\n",
    "            for k = 1:K\n",
    "                t += 1.0\n",
    "            end        \n",
    "        end\n",
    "    end\n",
    "    return t\n",
    "end\n",
    "@time [ stupid_loop(1000,1000,i) for i =1:10]"
   ]
  },
  {
   "cell_type": "markdown",
   "metadata": {},
   "source": [
    "Code is translated to LLVM code then to instructions for the processor. Note that processor instructions are shorter than LLVM code."
   ]
  },
  {
   "cell_type": "code",
   "execution_count": 4,
   "metadata": {},
   "outputs": [
    {
     "name": "stdout",
     "output_type": "stream",
     "text": [
      "\u001b[90m;  @ c:\\Users\\tress\\Documents\\eco309\\tutorials\\1_1_Julia_Basics.ipynb:1 within `stupid_loop`\u001b[39m\n",
      "\u001b[90m; Function Attrs: uwtable\u001b[39m\n",
      "\u001b[95mdefine\u001b[39m \u001b[36mdouble\u001b[39m \u001b[93m@julia_stupid_loop_908\u001b[39m\u001b[33m(\u001b[39m\u001b[36mi64\u001b[39m \u001b[95msignext\u001b[39m \u001b[0m%0\u001b[0m, \u001b[36mi64\u001b[39m \u001b[95msignext\u001b[39m \u001b[0m%1\u001b[0m, \u001b[36mi64\u001b[39m \u001b[95msignext\u001b[39m \u001b[0m%2\u001b[33m)\u001b[39m \u001b[0m#0 \u001b[33m{\u001b[39m\n",
      "\u001b[91mtop:\u001b[39m\n",
      "\u001b[90m;  @ c:\\Users\\tress\\Documents\\eco309\\tutorials\\1_1_Julia_Basics.ipynb:3 within `stupid_loop`\u001b[39m\n",
      "\u001b[90m; ┌ @ range.jl:5 within `Colon`\u001b[39m\n",
      "\u001b[90m; │┌ @ range.jl:354 within `UnitRange`\u001b[39m\n",
      "\u001b[90m; ││┌ @ range.jl:359 within `unitrange_last`\u001b[39m\n",
      "     \u001b[0m%.inv \u001b[0m= \u001b[96m\u001b[1micmp\u001b[22m\u001b[39m \u001b[96m\u001b[1msgt\u001b[22m\u001b[39m \u001b[36mi64\u001b[39m \u001b[0m%0\u001b[0m, \u001b[33m0\u001b[39m\n",
      "     \u001b[0m%3 \u001b[0m= \u001b[96m\u001b[1mselect\u001b[22m\u001b[39m \u001b[36mi1\u001b[39m \u001b[0m%.inv\u001b[0m, \u001b[36mi64\u001b[39m \u001b[0m%0\u001b[0m, \u001b[36mi64\u001b[39m \u001b[33m0\u001b[39m\n",
      "\u001b[90m; └└└\u001b[39m\n",
      "  \u001b[96m\u001b[1mbr\u001b[22m\u001b[39m \u001b[36mi1\u001b[39m \u001b[0m%.inv\u001b[0m, \u001b[36mlabel\u001b[39m \u001b[91m%L12.preheader\u001b[39m\u001b[0m, \u001b[36mlabel\u001b[39m \u001b[91m%L76\u001b[39m\n",
      "\n",
      "\u001b[91mL12.preheader:\u001b[39m                                    \u001b[90m; preds = %top\u001b[39m\n",
      "  \u001b[0m%.inv26 \u001b[0m= \u001b[96m\u001b[1micmp\u001b[22m\u001b[39m \u001b[96m\u001b[1msgt\u001b[22m\u001b[39m \u001b[36mi64\u001b[39m \u001b[0m%1\u001b[0m, \u001b[33m0\u001b[39m\n",
      "  \u001b[0m%4 \u001b[0m= \u001b[96m\u001b[1mselect\u001b[22m\u001b[39m \u001b[36mi1\u001b[39m \u001b[0m%.inv26\u001b[0m, \u001b[36mi64\u001b[39m \u001b[0m%1\u001b[0m, \u001b[36mi64\u001b[39m \u001b[33m0\u001b[39m\n",
      "  \u001b[0m%.inv27 \u001b[0m= \u001b[96m\u001b[1micmp\u001b[22m\u001b[39m \u001b[96m\u001b[1msgt\u001b[22m\u001b[39m \u001b[36mi64\u001b[39m \u001b[0m%2\u001b[0m, \u001b[33m0\u001b[39m\n",
      "  \u001b[0m%5 \u001b[0m= \u001b[96m\u001b[1mselect\u001b[22m\u001b[39m \u001b[36mi1\u001b[39m \u001b[0m%.inv27\u001b[0m, \u001b[36mi64\u001b[39m \u001b[0m%2\u001b[0m, \u001b[36mi64\u001b[39m \u001b[33m0\u001b[39m\n",
      "\u001b[90m;  @ c:\\Users\\tress\\Documents\\eco309\\tutorials\\1_1_Julia_Basics.ipynb:4 within `stupid_loop`\u001b[39m\n",
      "  \u001b[0m%brmerge.demorgan \u001b[0m= \u001b[96m\u001b[1mand\u001b[22m\u001b[39m \u001b[36mi1\u001b[39m \u001b[0m%.inv26\u001b[0m, \u001b[0m%.inv27\n",
      "  \u001b[96m\u001b[1mbr\u001b[22m\u001b[39m \u001b[36mi1\u001b[39m \u001b[0m%brmerge.demorgan\u001b[0m, \u001b[36mlabel\u001b[39m \u001b[91m%L25.preheader.split.us.us.us\u001b[39m\u001b[0m, \u001b[36mlabel\u001b[39m \u001b[91m%L76\u001b[39m\n",
      "\n",
      "\u001b[91mL64.us.us:\u001b[39m                                        \u001b[90m; preds = %L52.us.us.us\u001b[39m\n",
      "\u001b[90m;  @ c:\\Users\\tress\\Documents\\eco309\\tutorials\\1_1_Julia_Basics.ipynb:6 within `stupid_loop`\u001b[39m\n",
      "\u001b[90m; ┌ @ range.jl:837 within `iterate`\u001b[39m\n",
      "\u001b[90m; │┌ @ promotion.jl:468 within `==`\u001b[39m\n",
      "    \u001b[0m%.not29.us.us \u001b[0m= \u001b[96m\u001b[1micmp\u001b[22m\u001b[39m \u001b[96m\u001b[1meq\u001b[22m\u001b[39m \u001b[36mi64\u001b[39m \u001b[0m%value_phi2.us.us\u001b[0m, \u001b[0m%3\n",
      "\u001b[90m; │└\u001b[39m\n",
      "   \u001b[0m%6 \u001b[0m= \u001b[96m\u001b[1madd\u001b[22m\u001b[39m \u001b[95mnuw\u001b[39m \u001b[36mi64\u001b[39m \u001b[0m%value_phi2.us.us\u001b[0m, \u001b[33m1\u001b[39m\n",
      "\u001b[90m; └\u001b[39m\n",
      "  \u001b[96m\u001b[1mbr\u001b[22m\u001b[39m \u001b[36mi1\u001b[39m \u001b[0m%.not29.us.us\u001b[0m, \u001b[36mlabel\u001b[39m \u001b[91m%L76\u001b[39m\u001b[0m, \u001b[36mlabel\u001b[39m \u001b[91m%L25.preheader.split.us.us.us\u001b[39m\n",
      "\n",
      "\u001b[91mL25.preheader.split.us.us.us:\u001b[39m                     \u001b[90m; preds = %L64.us.us, %L12.preheader\u001b[39m\n",
      "  \u001b[0m%value_phi2.us.us \u001b[0m= \u001b[96m\u001b[1mphi\u001b[22m\u001b[39m \u001b[36mi64\u001b[39m \u001b[33m[\u001b[39m \u001b[0m%6\u001b[0m, \u001b[91m%L64.us.us\u001b[39m \u001b[33m]\u001b[39m\u001b[0m, \u001b[33m[\u001b[39m \u001b[33m1\u001b[39m\u001b[0m, \u001b[91m%L12.preheader\u001b[39m \u001b[33m]\u001b[39m\n",
      "  \u001b[0m%value_phi3.us.us \u001b[0m= \u001b[96m\u001b[1mphi\u001b[22m\u001b[39m \u001b[36mdouble\u001b[39m \u001b[33m[\u001b[39m \u001b[0m%8\u001b[0m, \u001b[91m%L64.us.us\u001b[39m \u001b[33m]\u001b[39m\u001b[0m, \u001b[33m[\u001b[39m \u001b[33m0.000000e+00\u001b[39m\u001b[0m, \u001b[91m%L12.preheader\u001b[39m \u001b[33m]\u001b[39m\n",
      "\u001b[90m;  @ c:\\Users\\tress\\Documents\\eco309\\tutorials\\1_1_Julia_Basics.ipynb:5 within `stupid_loop`\u001b[39m\n",
      "  \u001b[96m\u001b[1mbr\u001b[22m\u001b[39m \u001b[36mlabel\u001b[39m \u001b[91m%L38.preheader.us.us.us\u001b[39m\n",
      "\n",
      "\u001b[91mL38.preheader.us.us.us:\u001b[39m                           \u001b[90m; preds = %L52.us.us.us, %L25.preheader.split.us.us.us\u001b[39m\n",
      "  \u001b[0m%value_phi6.us.us.us \u001b[0m= \u001b[96m\u001b[1mphi\u001b[22m\u001b[39m \u001b[36mdouble\u001b[39m \u001b[33m[\u001b[39m \u001b[0m%8\u001b[0m, \u001b[91m%L52.us.us.us\u001b[39m \u001b[33m]\u001b[39m\u001b[0m, \u001b[33m[\u001b[39m \u001b[0m%value_phi3.us.us\u001b[0m, \u001b[91m%L25.preheader.split.us.us.us\u001b[39m \u001b[33m]\u001b[39m\n",
      "  \u001b[0m%value_phi7.us.us.us \u001b[0m= \u001b[96m\u001b[1mphi\u001b[22m\u001b[39m \u001b[36mi64\u001b[39m \u001b[33m[\u001b[39m \u001b[0m%7\u001b[0m, \u001b[91m%L52.us.us.us\u001b[39m \u001b[33m]\u001b[39m\u001b[0m, \u001b[33m[\u001b[39m \u001b[33m1\u001b[39m\u001b[0m, \u001b[91m%L25.preheader.split.us.us.us\u001b[39m \u001b[33m]\u001b[39m\n",
      "\u001b[90m;  @ c:\\Users\\tress\\Documents\\eco309\\tutorials\\1_1_Julia_Basics.ipynb:6 within `stupid_loop`\u001b[39m\n",
      "  \u001b[96m\u001b[1mbr\u001b[22m\u001b[39m \u001b[36mlabel\u001b[39m \u001b[91m%L38.us.us.us\u001b[39m\n",
      "\n",
      "\u001b[91mL52.us.us.us:\u001b[39m                                     \u001b[90m; preds = %L38.us.us.us\u001b[39m\n",
      "\u001b[90m; ┌ @ range.jl:837 within `iterate`\u001b[39m\n",
      "\u001b[90m; │┌ @ promotion.jl:468 within `==`\u001b[39m\n",
      "    \u001b[0m%.not28.us.us.us \u001b[0m= \u001b[96m\u001b[1micmp\u001b[22m\u001b[39m \u001b[96m\u001b[1meq\u001b[22m\u001b[39m \u001b[36mi64\u001b[39m \u001b[0m%value_phi7.us.us.us\u001b[0m, \u001b[0m%4\n",
      "\u001b[90m; │└\u001b[39m\n",
      "   \u001b[0m%7 \u001b[0m= \u001b[96m\u001b[1madd\u001b[22m\u001b[39m \u001b[95mnuw\u001b[39m \u001b[36mi64\u001b[39m \u001b[0m%value_phi7.us.us.us\u001b[0m, \u001b[33m1\u001b[39m\n",
      "\u001b[90m; └\u001b[39m\n",
      "  \u001b[96m\u001b[1mbr\u001b[22m\u001b[39m \u001b[36mi1\u001b[39m \u001b[0m%.not28.us.us.us\u001b[0m, \u001b[36mlabel\u001b[39m \u001b[91m%L64.us.us\u001b[39m\u001b[0m, \u001b[36mlabel\u001b[39m \u001b[91m%L38.preheader.us.us.us\u001b[39m\n",
      "\n",
      "\u001b[91mL38.us.us.us:\u001b[39m                                     \u001b[90m; preds = %L38.us.us.us, %L38.preheader.us.us.us\u001b[39m\n",
      "  \u001b[0m%value_phi10.us.us.us \u001b[0m= \u001b[96m\u001b[1mphi\u001b[22m\u001b[39m \u001b[36mdouble\u001b[39m \u001b[33m[\u001b[39m \u001b[0m%8\u001b[0m, \u001b[91m%L38.us.us.us\u001b[39m \u001b[33m]\u001b[39m\u001b[0m, \u001b[33m[\u001b[39m \u001b[0m%value_phi6.us.us.us\u001b[0m, \u001b[91m%L38.preheader.us.us.us\u001b[39m \u001b[33m]\u001b[39m\n",
      "  \u001b[0m%value_phi11.us.us.us \u001b[0m= \u001b[96m\u001b[1mphi\u001b[22m\u001b[39m \u001b[36mi64\u001b[39m \u001b[33m[\u001b[39m \u001b[0m%9\u001b[0m, \u001b[91m%L38.us.us.us\u001b[39m \u001b[33m]\u001b[39m\u001b[0m, \u001b[33m[\u001b[39m \u001b[33m1\u001b[39m\u001b[0m, \u001b[91m%L38.preheader.us.us.us\u001b[39m \u001b[33m]\u001b[39m\n",
      "\u001b[90m; ┌ @ float.jl:399 within `+`\u001b[39m\n",
      "   \u001b[0m%8 \u001b[0m= \u001b[96m\u001b[1mfadd\u001b[22m\u001b[39m \u001b[36mdouble\u001b[39m \u001b[0m%value_phi10.us.us.us\u001b[0m, \u001b[33m1.000000e+00\u001b[39m\n",
      "\u001b[90m; └\u001b[39m\n",
      "\u001b[90m; ┌ @ range.jl:837 within `iterate`\u001b[39m\n",
      "\u001b[90m; │┌ @ promotion.jl:468 within `==`\u001b[39m\n",
      "    \u001b[0m%.not.us.us.us \u001b[0m= \u001b[96m\u001b[1micmp\u001b[22m\u001b[39m \u001b[96m\u001b[1meq\u001b[22m\u001b[39m \u001b[36mi64\u001b[39m \u001b[0m%value_phi11.us.us.us\u001b[0m, \u001b[0m%5\n",
      "\u001b[90m; │└\u001b[39m\n",
      "   \u001b[0m%9 \u001b[0m= \u001b[96m\u001b[1madd\u001b[22m\u001b[39m \u001b[95mnuw\u001b[39m \u001b[36mi64\u001b[39m \u001b[0m%value_phi11.us.us.us\u001b[0m, \u001b[33m1\u001b[39m\n",
      "\u001b[90m; └\u001b[39m\n",
      "  \u001b[96m\u001b[1mbr\u001b[22m\u001b[39m \u001b[36mi1\u001b[39m \u001b[0m%.not.us.us.us\u001b[0m, \u001b[36mlabel\u001b[39m \u001b[91m%L52.us.us.us\u001b[39m\u001b[0m, \u001b[36mlabel\u001b[39m \u001b[91m%L38.us.us.us\u001b[39m\n",
      "\n",
      "\u001b[91mL76:\u001b[39m                                              \u001b[90m; preds = %L64.us.us, %L12.preheader, %top\u001b[39m\n",
      "  \u001b[0m%value_phi20 \u001b[0m= \u001b[96m\u001b[1mphi\u001b[22m\u001b[39m \u001b[36mdouble\u001b[39m \u001b[33m[\u001b[39m \u001b[33m0.000000e+00\u001b[39m\u001b[0m, \u001b[91m%top\u001b[39m \u001b[33m]\u001b[39m\u001b[0m, \u001b[33m[\u001b[39m \u001b[0m%8\u001b[0m, \u001b[91m%L64.us.us\u001b[39m \u001b[33m]\u001b[39m\u001b[0m, \u001b[33m[\u001b[39m \u001b[33m0.000000e+00\u001b[39m\u001b[0m, \u001b[91m%L12.preheader\u001b[39m \u001b[33m]\u001b[39m\n",
      "\u001b[90m;  @ c:\\Users\\tress\\Documents\\eco309\\tutorials\\1_1_Julia_Basics.ipynb:10 within `stupid_loop`\u001b[39m\n",
      "  \u001b[96m\u001b[1mret\u001b[22m\u001b[39m \u001b[36mdouble\u001b[39m \u001b[0m%value_phi20\n",
      "\u001b[33m}\u001b[39m\n"
     ]
    }
   ],
   "source": [
    "@code_llvm stupid_loop(10,10,10)"
   ]
  },
  {
   "cell_type": "code",
   "execution_count": 5,
   "metadata": {},
   "outputs": [
    {
     "name": "stdout",
     "output_type": "stream",
     "text": [
      "\t\u001b[0m.text\n",
      "\u001b[90m; ┌ @ 1_1_Julia_Basics.ipynb:1 within `stupid_loop`\u001b[39m\n",
      "\t\u001b[96m\u001b[1mpushq\u001b[22m\u001b[39m\t\u001b[0m%rbp\n",
      "\t\u001b[96m\u001b[1mmovq\u001b[22m\u001b[39m\t\u001b[0m%rsp\u001b[0m, \u001b[0m%rbp\n",
      "\t\u001b[96m\u001b[1mvxorpd\u001b[22m\u001b[39m\t\u001b[0m%xmm0\u001b[0m, \u001b[0m%xmm0\u001b[0m, \u001b[0m%xmm0\n",
      "\u001b[90m; │ @ 1_1_Julia_Basics.ipynb:3 within `stupid_loop`\u001b[39m\n",
      "\u001b[90m; │┌ @ range.jl:5 within `Colon`\u001b[39m\n",
      "\u001b[90m; ││┌ @ range.jl:354 within `UnitRange`\u001b[39m\n",
      "\u001b[90m; │││┌ @ range.jl:359 within `unitrange_last`\u001b[39m\n",
      "\t\u001b[96m\u001b[1mtestq\u001b[22m\u001b[39m\t\u001b[0m%rcx\u001b[0m, \u001b[0m%rcx\n",
      "\u001b[90m; │└└└\u001b[39m\n",
      "\t\u001b[96m\u001b[1mjle\u001b[22m\u001b[39m\t\u001b[91mL161\u001b[39m\n",
      "\u001b[90m; │ @ 1_1_Julia_Basics.ipynb within `stupid_loop`\u001b[39m\n",
      "\t\u001b[96m\u001b[1mtestq\u001b[22m\u001b[39m\t\u001b[0m%rdx\u001b[0m, \u001b[0m%rdx\n",
      "\u001b[90m; │ @ 1_1_Julia_Basics.ipynb:4 within `stupid_loop`\u001b[39m\n",
      "\t\u001b[96m\u001b[1mjle\u001b[22m\u001b[39m\t\u001b[91mL161\u001b[39m\n",
      "\t\u001b[96m\u001b[1mtestq\u001b[22m\u001b[39m\t\u001b[0m%r8\u001b[0m, \u001b[0m%r8\n",
      "\t\u001b[96m\u001b[1mjle\u001b[22m\u001b[39m\t\u001b[91mL161\u001b[39m\n",
      "\u001b[90m; │ @ 1_1_Julia_Basics.ipynb within `stupid_loop`\u001b[39m\n",
      "\t\u001b[96m\u001b[1mmovq\u001b[22m\u001b[39m\t\u001b[0m%rdx\u001b[0m, \u001b[0m%r10\n",
      "\t\u001b[96m\u001b[1mmovq\u001b[22m\u001b[39m\t\u001b[0m%rcx\u001b[0m, \u001b[0m%rax\n",
      "\t\u001b[96m\u001b[1mvxorpd\u001b[22m\u001b[39m\t\u001b[0m%xmm0\u001b[0m, \u001b[0m%xmm0\u001b[0m, \u001b[0m%xmm0\n",
      "\t\u001b[96m\u001b[1msarq\u001b[22m\u001b[39m\t\u001b[33m$63\u001b[39m\u001b[0m, \u001b[0m%r10\n",
      "\t\u001b[96m\u001b[1msarq\u001b[22m\u001b[39m\t\u001b[33m$63\u001b[39m\u001b[0m, \u001b[0m%rax\n",
      "\t\u001b[96m\u001b[1mandnq\u001b[22m\u001b[39m\t\u001b[0m%rdx\u001b[0m, \u001b[0m%r10\u001b[0m, \u001b[0m%r10\n",
      "\t\u001b[96m\u001b[1mmovabsq\u001b[22m\u001b[39m\t\u001b[93m$.rodata.cst8\u001b[39m\u001b[0m, \u001b[0m%rdx\n",
      "\t\u001b[96m\u001b[1mandnq\u001b[22m\u001b[39m\t\u001b[0m%rcx\u001b[0m, \u001b[0m%rax\u001b[0m, \u001b[0m%r9\n",
      "\t\u001b[96m\u001b[1mmovq\u001b[22m\u001b[39m\t\u001b[0m%r8\u001b[0m, \u001b[0m%rcx\n",
      "\t\u001b[96m\u001b[1mvmovsd\u001b[22m\u001b[39m\t\u001b[33m(\u001b[39m\u001b[0m%rdx\u001b[33m)\u001b[39m\u001b[0m, \u001b[0m%xmm1                   \u001b[90m# xmm1 = mem[0],zero\u001b[39m\n",
      "\t\u001b[96m\u001b[1msarq\u001b[22m\u001b[39m\t\u001b[33m$63\u001b[39m\u001b[0m, \u001b[0m%rcx\n",
      "\t\u001b[96m\u001b[1mandnq\u001b[22m\u001b[39m\t\u001b[0m%r8\u001b[0m, \u001b[0m%rcx\u001b[0m, \u001b[0m%rcx\n",
      "\t\u001b[96m\u001b[1mmovl\u001b[22m\u001b[39m\t\u001b[33m$1\u001b[39m\u001b[0m, \u001b[0m%r8d\n",
      "\t\u001b[96m\u001b[1mnop\u001b[22m\u001b[39m\n",
      "\u001b[91mL96:\u001b[39m\n",
      "\t\u001b[96m\u001b[1mmovl\u001b[22m\u001b[39m\t\u001b[33m$1\u001b[39m\u001b[0m, \u001b[0m%eax\n",
      "\t\u001b[96m\u001b[1mnopw\u001b[22m\u001b[39m\t\u001b[0m%cs\u001b[0m:\u001b[33m(\u001b[39m\u001b[0m%rax\u001b[0m,\u001b[0m%rax\u001b[33m)\u001b[39m\n",
      "\u001b[91mL112:\u001b[39m\n",
      "\t\u001b[96m\u001b[1mmovq\u001b[22m\u001b[39m\t\u001b[0m%rcx\u001b[0m, \u001b[0m%rdx\n",
      "\t\u001b[96m\u001b[1mnopw\u001b[22m\u001b[39m\t\u001b[0m%cs\u001b[0m:\u001b[33m(\u001b[39m\u001b[0m%rax\u001b[0m,\u001b[0m%rax\u001b[33m)\u001b[39m\n",
      "\u001b[90m; │ @ 1_1_Julia_Basics.ipynb:6 within `stupid_loop`\u001b[39m\n",
      "\u001b[90m; │┌ @ float.jl:399 within `+`\u001b[39m\n",
      "\u001b[91mL128:\u001b[39m\n",
      "\t\u001b[96m\u001b[1mvaddsd\u001b[22m\u001b[39m\t\u001b[0m%xmm1\u001b[0m, \u001b[0m%xmm0\u001b[0m, \u001b[0m%xmm0\n",
      "\u001b[90m; │└\u001b[39m\n",
      "\u001b[90m; │┌ @ range.jl:837 within `iterate`\u001b[39m\n",
      "\u001b[90m; ││┌ @ promotion.jl:468 within `==`\u001b[39m\n",
      "\t\u001b[96m\u001b[1mdecq\u001b[22m\u001b[39m\t\u001b[0m%rdx\n",
      "\u001b[90m; │└└\u001b[39m\n",
      "\t\u001b[96m\u001b[1mjne\u001b[22m\u001b[39m\t\u001b[91mL128\u001b[39m\n",
      "\u001b[90m; │┌ @ range.jl:837 within `iterate`\u001b[39m\n",
      "\t\u001b[96m\u001b[1mleaq\u001b[22m\u001b[39m\t\u001b[33m1\u001b[39m\u001b[33m(\u001b[39m\u001b[0m%rax\u001b[33m)\u001b[39m\u001b[0m, \u001b[0m%rdx\n",
      "\u001b[90m; ││┌ @ promotion.jl:468 within `==`\u001b[39m\n",
      "\t\u001b[96m\u001b[1mcmpq\u001b[22m\u001b[39m\t\u001b[0m%r10\u001b[0m, \u001b[0m%rax\n",
      "\t\u001b[96m\u001b[1mmovq\u001b[22m\u001b[39m\t\u001b[0m%rdx\u001b[0m, \u001b[0m%rax\n",
      "\u001b[90m; │└└\u001b[39m\n",
      "\t\u001b[96m\u001b[1mjne\u001b[22m\u001b[39m\t\u001b[91mL112\u001b[39m\n",
      "\u001b[90m; │┌ @ range.jl:837 within `iterate`\u001b[39m\n",
      "\t\u001b[96m\u001b[1mleaq\u001b[22m\u001b[39m\t\u001b[33m1\u001b[39m\u001b[33m(\u001b[39m\u001b[0m%r8\u001b[33m)\u001b[39m\u001b[0m, \u001b[0m%rax\n",
      "\u001b[90m; ││┌ @ promotion.jl:468 within `==`\u001b[39m\n",
      "\t\u001b[96m\u001b[1mcmpq\u001b[22m\u001b[39m\t\u001b[0m%r9\u001b[0m, \u001b[0m%r8\n",
      "\t\u001b[96m\u001b[1mmovq\u001b[22m\u001b[39m\t\u001b[0m%rax\u001b[0m, \u001b[0m%r8\n",
      "\u001b[90m; │└└\u001b[39m\n",
      "\t\u001b[96m\u001b[1mjne\u001b[22m\u001b[39m\t\u001b[91mL96\u001b[39m\n",
      "\u001b[90m; │ @ 1_1_Julia_Basics.ipynb:10 within `stupid_loop`\u001b[39m\n",
      "\u001b[91mL161:\u001b[39m\n",
      "\t\u001b[96m\u001b[1mpopq\u001b[22m\u001b[39m\t\u001b[0m%rbp\n",
      "\t\u001b[96m\u001b[1mretq\u001b[22m\u001b[39m\n",
      "\t\u001b[96m\u001b[1mnopw\u001b[22m\u001b[39m\t\u001b[0m%cs\u001b[0m:\u001b[33m(\u001b[39m\u001b[0m%rax\u001b[0m,\u001b[0m%rax\u001b[33m)\u001b[39m\n",
      "\u001b[90m; └\u001b[39m\n"
     ]
    }
   ],
   "source": [
    "@code_native stupid_loop(10,10,10)"
   ]
  },
  {
   "cell_type": "markdown",
   "metadata": {},
   "source": [
    "### Syntax Review"
   ]
  },
  {
   "cell_type": "markdown",
   "metadata": {},
   "source": [
    "#### Variable assignment\n",
    "\n",
    "Assignement operator is = (equality is ==, identity is ===)"
   ]
  },
  {
   "cell_type": "code",
   "execution_count": 6,
   "metadata": {},
   "outputs": [
    {
     "data": {
      "text/plain": [
       "10"
      ]
     },
     "metadata": {},
     "output_type": "display_data"
    }
   ],
   "source": [
    "# Assign the value 10 to the variable x\n",
    "x = 10"
   ]
  },
  {
   "cell_type": "code",
   "execution_count": 7,
   "metadata": {},
   "outputs": [
    {
     "data": {
      "text/plain": [
       "false"
      ]
     },
     "metadata": {},
     "output_type": "display_data"
    }
   ],
   "source": [
    "2 == 3"
   ]
  },
  {
   "cell_type": "code",
   "execution_count": 8,
   "metadata": {},
   "outputs": [
    {
     "data": {
      "text/plain": [
       "0.0001"
      ]
     },
     "metadata": {},
     "output_type": "display_data"
    }
   ],
   "source": [
    "# Variable names can have Unicode characters\n",
    "# To get ϵ in the REPL, type \\epsilon<TAB>\n",
    "ϵ = 1e-4"
   ]
  },
  {
   "cell_type": "markdown",
   "metadata": {},
   "source": [
    "Default semantic is pass-by-reference:"
   ]
  },
  {
   "cell_type": "code",
   "execution_count": 10,
   "metadata": {},
   "outputs": [
    {
     "data": {
      "text/plain": [
       "4-element Vector{Int64}:\n",
       " 10\n",
       "  2\n",
       "  3\n",
       "  4"
      ]
     },
     "metadata": {},
     "output_type": "display_data"
    }
   ],
   "source": [
    "a = [1,2,3,4]\n",
    "b = a\n",
    "a[1] = 10\n",
    "b"
   ]
  },
  {
   "cell_type": "markdown",
   "metadata": {},
   "source": [
    "To work on a copy: `copy` or `deepcopy`"
   ]
  },
  {
   "cell_type": "code",
   "execution_count": 11,
   "metadata": {},
   "outputs": [
    {
     "data": {
      "text/plain": [
       "4-element Vector{Int64}:\n",
       " 1\n",
       " 2\n",
       " 3\n",
       " 4"
      ]
     },
     "metadata": {},
     "output_type": "display_data"
    }
   ],
   "source": [
    "a = [1,2,3,4]\n",
    "b = copy(a)\n",
    "a[1]=10\n",
    "b"
   ]
  },
  {
   "cell_type": "code",
   "execution_count": 13,
   "metadata": {},
   "outputs": [
    {
     "data": {
      "text/plain": [
       "4-element BitVector:\n",
       " 0\n",
       " 1\n",
       " 1\n",
       " 1"
      ]
     },
     "metadata": {},
     "output_type": "display_data"
    }
   ],
   "source": [
    "a .== b"
   ]
  },
  {
   "cell_type": "code",
   "execution_count": 14,
   "metadata": {},
   "outputs": [
    {
     "data": {
      "text/plain": [
       "false"
      ]
     },
     "metadata": {},
     "output_type": "display_data"
    }
   ],
   "source": [
    "a === b"
   ]
  },
  {
   "cell_type": "code",
   "execution_count": null,
   "metadata": {},
   "outputs": [],
   "source": []
  },
  {
   "cell_type": "markdown",
   "metadata": {},
   "source": [
    "#### Basic types"
   ]
  },
  {
   "cell_type": "code",
   "execution_count": null,
   "metadata": {},
   "outputs": [],
   "source": []
  },
  {
   "cell_type": "code",
   "execution_count": 15,
   "metadata": {},
   "outputs": [
    {
     "ename": "ErrorException",
     "evalue": "syntax: invalid identifier name \"?\"",
     "output_type": "error",
     "traceback": [
      "syntax: invalid identifier name \"?\"\n",
      "\n",
      "Stacktrace:\n",
      "  [1] top-level scope\n",
      "    @ c:\\Users\\tress\\Documents\\eco309\\tutorials\\1_1_Julia_Basics.ipynb:2\n",
      "  [2] eval\n",
      "    @ .\\boot.jl:373 [inlined]\n",
      "  [3] include_string(mapexpr::typeof(REPL.softscope), mod::Module, code::String, filename::String)\n",
      "    @ Base .\\loading.jl:1196\n",
      "  [4] #invokelatest#2\n",
      "    @ .\\essentials.jl:716 [inlined]\n",
      "  [5] invokelatest\n",
      "    @ .\\essentials.jl:714 [inlined]\n",
      "  [6] (::VSCodeServer.var\"#159#160\"{VSCodeServer.NotebookRunCellArguments, String})()\n",
      "    @ VSCodeServer c:\\Users\\tress\\.vscode\\extensions\\julialang.language-julia-1.6.11\\scripts\\packages\\VSCodeServer\\src\\serve_notebook.jl:19\n",
      "  [7] withpath(f::VSCodeServer.var\"#159#160\"{VSCodeServer.NotebookRunCellArguments, String}, path::String)\n",
      "    @ VSCodeServer c:\\Users\\tress\\.vscode\\extensions\\julialang.language-julia-1.6.11\\scripts\\packages\\VSCodeServer\\src\\repl.jl:184\n",
      "  [8] notebook_runcell_request(conn::VSCodeServer.JSONRPC.JSONRPCEndpoint{Base.PipeEndpoint, Base.PipeEndpoint}, params::VSCodeServer.NotebookRunCellArguments)\n",
      "    @ VSCodeServer c:\\Users\\tress\\.vscode\\extensions\\julialang.language-julia-1.6.11\\scripts\\packages\\VSCodeServer\\src\\serve_notebook.jl:13\n",
      "  [9] dispatch_msg(x::VSCodeServer.JSONRPC.JSONRPCEndpoint{Base.PipeEndpoint, Base.PipeEndpoint}, dispatcher::VSCodeServer.JSONRPC.MsgDispatcher, msg::Dict{String, Any})\n",
      "    @ VSCodeServer.JSONRPC c:\\Users\\tress\\.vscode\\extensions\\julialang.language-julia-1.6.11\\scripts\\packages\\JSONRPC\\src\\typed.jl:67\n",
      " [10] serve_notebook(pipename::String, outputchannel_logger::Base.CoreLogging.SimpleLogger; crashreporting_pipename::String)\n",
      "    @ VSCodeServer c:\\Users\\tress\\.vscode\\extensions\\julialang.language-julia-1.6.11\\scripts\\packages\\VSCodeServer\\src\\serve_notebook.jl:136\n",
      " [11] top-level scope\n",
      "    @ c:\\Users\\tress\\.vscode\\extensions\\julialang.language-julia-1.6.11\\scripts\\notebook\\notebook.jl:22\n",
      " [12] include(mod::Module, _path::String)\n",
      "    @ Base .\\Base.jl:418\n",
      " [13] exec_options(opts::Base.JLOptions)\n",
      "    @ Base .\\client.jl:292\n",
      " [14] _start()\n",
      "    @ Base .\\client.jl:495"
     ]
    }
   ],
   "source": [
    "# for any object `typeof` returns the type\n",
    "?typeof"
   ]
  },
  {
   "cell_type": "code",
   "execution_count": 16,
   "metadata": {},
   "outputs": [
    {
     "data": {
      "text/plain": [
       "Vector{Int64} (alias for Array{Int64, 1})"
      ]
     },
     "metadata": {},
     "output_type": "display_data"
    }
   ],
   "source": [
    "typeof(a)"
   ]
  },
  {
   "cell_type": "markdown",
   "metadata": {},
   "source": [
    "#### Numbers"
   ]
  },
  {
   "cell_type": "code",
   "execution_count": 17,
   "metadata": {},
   "outputs": [
    {
     "data": {
      "text/plain": [
       "4"
      ]
     },
     "metadata": {},
     "output_type": "display_data"
    }
   ],
   "source": [
    "y = 2 + 2"
   ]
  },
  {
   "cell_type": "code",
   "execution_count": 18,
   "metadata": {},
   "outputs": [
    {
     "data": {
      "text/plain": [
       "-4"
      ]
     },
     "metadata": {},
     "output_type": "display_data"
    }
   ],
   "source": [
    "-y"
   ]
  },
  {
   "cell_type": "code",
   "execution_count": 19,
   "metadata": {},
   "outputs": [
    {
     "data": {
      "text/plain": [
       "7.82"
      ]
     },
     "metadata": {},
     "output_type": "display_data"
    }
   ],
   "source": [
    "0.34*23"
   ]
  },
  {
   "cell_type": "code",
   "execution_count": 20,
   "metadata": {},
   "outputs": [
    {
     "data": {
      "text/plain": [
       "0.75"
      ]
     },
     "metadata": {},
     "output_type": "display_data"
    }
   ],
   "source": [
    "3/4"
   ]
  },
  {
   "cell_type": "code",
   "execution_count": 21,
   "metadata": {},
   "outputs": [
    {
     "data": {
      "text/plain": [
       "6"
      ]
     },
     "metadata": {},
     "output_type": "display_data"
    }
   ],
   "source": [
    "# Scalar multiplication doesn't require *\n",
    "3(4 - 2)"
   ]
  },
  {
   "cell_type": "code",
   "execution_count": 22,
   "metadata": {},
   "outputs": [
    {
     "data": {
      "text/plain": [
       "8"
      ]
     },
     "metadata": {},
     "output_type": "display_data"
    }
   ],
   "source": [
    "x = 4\n",
    "2x"
   ]
  },
  {
   "cell_type": "code",
   "execution_count": 23,
   "metadata": {},
   "outputs": [
    {
     "data": {
      "text/plain": [
       "Int64"
      ]
     },
     "metadata": {},
     "output_type": "display_data"
    }
   ],
   "source": [
    "typeof(x)"
   ]
  },
  {
   "cell_type": "code",
   "execution_count": 24,
   "metadata": {},
   "outputs": [
    {
     "data": {
      "text/plain": [
       "32"
      ]
     },
     "metadata": {},
     "output_type": "display_data"
    }
   ],
   "source": [
    "sizeof(a)"
   ]
  },
  {
   "cell_type": "markdown",
   "metadata": {},
   "source": [
    "#### Booleans"
   ]
  },
  {
   "cell_type": "markdown",
   "metadata": {},
   "source": [
    "Equality"
   ]
  },
  {
   "cell_type": "code",
   "execution_count": 25,
   "metadata": {},
   "outputs": [
    {
     "data": {
      "text/plain": [
       "false"
      ]
     },
     "metadata": {},
     "output_type": "display_data"
    }
   ],
   "source": [
    "0 == 1"
   ]
  },
  {
   "cell_type": "code",
   "execution_count": 26,
   "metadata": {},
   "outputs": [
    {
     "data": {
      "text/plain": [
       "true"
      ]
     },
     "metadata": {},
     "output_type": "display_data"
    }
   ],
   "source": [
    "2 != 3"
   ]
  },
  {
   "cell_type": "code",
   "execution_count": 27,
   "metadata": {},
   "outputs": [
    {
     "data": {
      "text/plain": [
       "true"
      ]
     },
     "metadata": {},
     "output_type": "display_data"
    }
   ],
   "source": [
    "3 <= 4"
   ]
  },
  {
   "cell_type": "markdown",
   "metadata": {},
   "source": [
    "Identity"
   ]
  },
  {
   "cell_type": "code",
   "execution_count": 28,
   "metadata": {},
   "outputs": [
    {
     "data": {
      "text/plain": [
       "2-element Vector{Int64}:\n",
       " 34\n",
       " 35"
      ]
     },
     "metadata": {},
     "output_type": "display_data"
    }
   ],
   "source": [
    "a = [34, 35]\n",
    "b = [34, 35]\n",
    "c = a"
   ]
  },
  {
   "cell_type": "code",
   "execution_count": 29,
   "metadata": {},
   "outputs": [
    {
     "data": {
      "text/plain": [
       "true"
      ]
     },
     "metadata": {},
     "output_type": "display_data"
    }
   ],
   "source": [
    "c === a"
   ]
  },
  {
   "cell_type": "code",
   "execution_count": 30,
   "metadata": {},
   "outputs": [
    {
     "data": {
      "text/plain": [
       "false"
      ]
     },
     "metadata": {},
     "output_type": "display_data"
    }
   ],
   "source": [
    "b === a"
   ]
  },
  {
   "cell_type": "markdown",
   "metadata": {},
   "source": [
    "Boolean operator"
   ]
  },
  {
   "cell_type": "code",
   "execution_count": 31,
   "metadata": {},
   "outputs": [
    {
     "data": {
      "text/plain": [
       "false"
      ]
     },
     "metadata": {},
     "output_type": "display_data"
    }
   ],
   "source": [
    "true && false"
   ]
  },
  {
   "cell_type": "code",
   "execution_count": 32,
   "metadata": {},
   "outputs": [
    {
     "data": {
      "text/plain": [
       "true"
      ]
     },
     "metadata": {},
     "output_type": "display_data"
    }
   ],
   "source": [
    "true || false"
   ]
  },
  {
   "cell_type": "code",
   "execution_count": 33,
   "metadata": {},
   "outputs": [
    {
     "data": {
      "text/plain": [
       "false"
      ]
     },
     "metadata": {},
     "output_type": "display_data"
    }
   ],
   "source": [
    "!true"
   ]
  },
  {
   "cell_type": "markdown",
   "metadata": {},
   "source": [
    "#### Strings"
   ]
  },
  {
   "cell_type": "code",
   "execution_count": 34,
   "metadata": {},
   "outputs": [
    {
     "data": {
      "text/plain": [
       "\"This is a string\""
      ]
     },
     "metadata": {},
     "output_type": "display_data"
    }
   ],
   "source": [
    "# Strings are written using double quotes\n",
    "str = \"This is a string\""
   ]
  },
  {
   "cell_type": "code",
   "execution_count": 35,
   "metadata": {},
   "outputs": [
    {
     "data": {
      "text/plain": [
       "'k': ASCII/Unicode U+006B (category Ll: Letter, lowercase)"
      ]
     },
     "metadata": {},
     "output_type": "display_data"
    }
   ],
   "source": [
    "ch = 'k' # this is a character"
   ]
  },
  {
   "cell_type": "code",
   "execution_count": 36,
   "metadata": {},
   "outputs": [
    {
     "data": {
      "text/plain": [
       "\"α is a string\""
      ]
     },
     "metadata": {},
     "output_type": "display_data"
    }
   ],
   "source": [
    "# Strings can also contain Unicode characters\n",
    "fancy_str = \"α is a string\""
   ]
  },
  {
   "cell_type": "code",
   "execution_count": 37,
   "metadata": {},
   "outputs": [
    {
     "data": {
      "text/plain": [
       "\"2 + 2 = 4\""
      ]
     },
     "metadata": {},
     "output_type": "display_data"
    }
   ],
   "source": [
    "# String interpolation using $\n",
    "# The expression in parentheses is evaluated and the result is \n",
    "# inserted into the string\n",
    "a = 2+2\n",
    "\"2 + 2 = $(a)\""
   ]
  },
  {
   "cell_type": "code",
   "execution_count": 38,
   "metadata": {},
   "outputs": [
    {
     "name": "stdout",
     "output_type": "stream",
     "text": [
      "It took me 4 iterations\n"
     ]
    }
   ],
   "source": [
    "println(\"It took me $(a) iterations\")"
   ]
  },
  {
   "cell_type": "code",
   "execution_count": 39,
   "metadata": {},
   "outputs": [
    {
     "data": {
      "text/plain": [
       "\"helloworld\""
      ]
     },
     "metadata": {},
     "output_type": "display_data"
    }
   ],
   "source": [
    "# String concatenation using *\n",
    "\"hello\" * \"world\""
   ]
  },
  {
   "cell_type": "code",
   "execution_count": 40,
   "metadata": {},
   "outputs": [
    {
     "name": "stdout",
     "output_type": "stream",
     "text": [
      "hello world\n"
     ]
    }
   ],
   "source": [
    "println(\"hello \", \"world\")"
   ]
  },
  {
   "cell_type": "markdown",
   "metadata": {},
   "source": [
    "#### Arrays"
   ]
  },
  {
   "cell_type": "markdown",
   "metadata": {},
   "source": [
    "Julia has one-dimensional arrays. They are also called Vector."
   ]
  },
  {
   "cell_type": "code",
   "execution_count": 44,
   "metadata": {},
   "outputs": [
    {
     "data": {
      "text/plain": [
       "2-element Vector{Int64}:\n",
       " 1\n",
       " 2"
      ]
     },
     "metadata": {},
     "output_type": "display_data"
    }
   ],
   "source": [
    "A = [1, 2]"
   ]
  },
  {
   "cell_type": "code",
   "execution_count": 42,
   "metadata": {},
   "outputs": [
    {
     "data": {
      "text/plain": [
       "16"
      ]
     },
     "metadata": {},
     "output_type": "display_data"
    }
   ],
   "source": [
    "sizeof(A)"
   ]
  },
  {
   "cell_type": "code",
   "execution_count": 45,
   "metadata": {},
   "outputs": [
    {
     "data": {
      "text/plain": [
       "true"
      ]
     },
     "metadata": {},
     "output_type": "display_data"
    }
   ],
   "source": [
    "typeof(A) == Vector{Int64}"
   ]
  },
  {
   "cell_type": "code",
   "execution_count": 46,
   "metadata": {},
   "outputs": [
    {
     "data": {
      "text/plain": [
       "2-element Vector{Int64}:\n",
       " 1\n",
       " 2"
      ]
     },
     "metadata": {},
     "output_type": "display_data"
    }
   ],
   "source": [
    "A''"
   ]
  },
  {
   "cell_type": "code",
   "execution_count": 47,
   "metadata": {},
   "outputs": [
    {
     "data": {
      "text/plain": [
       "1"
      ]
     },
     "metadata": {},
     "output_type": "display_data"
    }
   ],
   "source": [
    "# vectors have one dimension: they are indexed by an integer\n",
    "A[1]"
   ]
  },
  {
   "cell_type": "markdown",
   "metadata": {},
   "source": [
    "2d arrays are also called matrices... and can be used for matrix multiplications."
   ]
  },
  {
   "cell_type": "code",
   "execution_count": 48,
   "metadata": {},
   "outputs": [
    {
     "name": "stdout",
     "output_type": "stream",
     "text": [
      "[1, 2, 3, 4, 5, 6, 7, 8]\n"
     ]
    },
    {
     "data": {
      "text/plain": [
       "8-element Vector{Int64}:\n",
       " 1\n",
       " 2\n",
       " 3\n",
       " 4\n",
       " 5\n",
       " 6\n",
       " 7\n",
       " 8"
      ]
     },
     "metadata": {},
     "output_type": "display_data"
    }
   ],
   "source": [
    "a1 = [1,2,3,4]\n",
    "a2 = [1,2,3,4].+4\n",
    "println( [a1; a2] )\n",
    "cat(a1, a2; dims=1)"
   ]
  },
  {
   "cell_type": "code",
   "execution_count": 49,
   "metadata": {},
   "outputs": [
    {
     "data": {
      "text/plain": [
       "1×3 Matrix{Float64}:\n",
       " 1.0  0.6  0.0"
      ]
     },
     "metadata": {},
     "output_type": "display_data"
    }
   ],
   "source": [
    "b = [1 0.6 0]"
   ]
  },
  {
   "cell_type": "code",
   "execution_count": 50,
   "metadata": {},
   "outputs": [
    {
     "data": {
      "text/plain": [
       "2×3 Matrix{Float64}:\n",
       " 0.1  0.2  0.3\n",
       " 4.0  5.0  6.0"
      ]
     },
     "metadata": {},
     "output_type": "display_data"
    }
   ],
   "source": [
    "B = [0.1 0.2 0.3; 4 5 6]"
   ]
  },
  {
   "cell_type": "code",
   "execution_count": 51,
   "metadata": {},
   "outputs": [
    {
     "data": {
      "text/plain": [
       "2×2 Matrix{Float64}:\n",
       " 0.14   3.2\n",
       " 3.2   77.0"
      ]
     },
     "metadata": {},
     "output_type": "display_data"
    }
   ],
   "source": [
    "B*B'"
   ]
  },
  {
   "cell_type": "markdown",
   "metadata": {},
   "source": [
    "Vectorized operations take a ., even comparisons:"
   ]
  },
  {
   "cell_type": "code",
   "execution_count": 52,
   "metadata": {},
   "outputs": [
    {
     "data": {
      "text/plain": [
       "2×3 Matrix{Float64}:\n",
       "  0.01   0.04   0.09\n",
       " 16.0   25.0   36.0"
      ]
     },
     "metadata": {},
     "output_type": "display_data"
    }
   ],
   "source": [
    "B.*B"
   ]
  },
  {
   "cell_type": "code",
   "execution_count": 53,
   "metadata": {},
   "outputs": [
    {
     "data": {
      "text/plain": [
       "2×3 BitMatrix:\n",
       " 1  1  1\n",
       " 0  0  0"
      ]
     },
     "metadata": {},
     "output_type": "display_data"
    }
   ],
   "source": [
    "B .* B .< B"
   ]
  },
  {
   "cell_type": "code",
   "execution_count": 54,
   "metadata": {},
   "outputs": [
    {
     "data": {
      "text/plain": [
       "f (generic function with 1 method)"
      ]
     },
     "metadata": {},
     "output_type": "display_data"
    }
   ],
   "source": [
    "f(x) = x^2+1"
   ]
  },
  {
   "cell_type": "code",
   "execution_count": 55,
   "metadata": {},
   "outputs": [
    {
     "data": {
      "text/plain": [
       "1850"
      ]
     },
     "metadata": {},
     "output_type": "display_data"
    }
   ],
   "source": [
    "f(43)"
   ]
  },
  {
   "cell_type": "code",
   "execution_count": 56,
   "metadata": {},
   "outputs": [
    {
     "data": {
      "text/plain": [
       "2×3 Matrix{Float64}:\n",
       "  1.01   1.04   1.09\n",
       " 17.0   26.0   37.0"
      ]
     },
     "metadata": {},
     "output_type": "display_data"
    }
   ],
   "source": [
    "f.(B)"
   ]
  },
  {
   "cell_type": "markdown",
   "metadata": {},
   "source": [
    "Elements are always accessed with square brackets:"
   ]
  },
  {
   "cell_type": "code",
   "execution_count": 57,
   "metadata": {},
   "outputs": [
    {
     "data": {
      "text/plain": [
       "0.2"
      ]
     },
     "metadata": {},
     "output_type": "display_data"
    }
   ],
   "source": [
    "B[1,2]"
   ]
  },
  {
   "cell_type": "code",
   "execution_count": 58,
   "metadata": {},
   "outputs": [
    {
     "data": {
      "text/plain": [
       "2-element Vector{Float64}:\n",
       " 0.1\n",
       " 4.0"
      ]
     },
     "metadata": {},
     "output_type": "display_data"
    }
   ],
   "source": [
    "B[:,1]"
   ]
  },
  {
   "cell_type": "code",
   "execution_count": 59,
   "metadata": {},
   "outputs": [
    {
     "data": {
      "text/plain": [
       "2×2 Matrix{Float64}:\n",
       " 0.1  0.2\n",
       " 4.0  5.0"
      ]
     },
     "metadata": {},
     "output_type": "display_data"
    }
   ],
   "source": [
    "B[:,1:end-1]"
   ]
  },
  {
   "cell_type": "markdown",
   "metadata": {},
   "source": [
    "#### Control flow"
   ]
  },
  {
   "cell_type": "markdown",
   "metadata": {},
   "source": [
    "Conditions"
   ]
  },
  {
   "cell_type": "code",
   "execution_count": 60,
   "metadata": {},
   "outputs": [
    {
     "name": "stdout",
     "output_type": "stream",
     "text": [
      "x is negative\n"
     ]
    }
   ],
   "source": [
    "x = -3\n",
    "if x < 0\n",
    "    println(\"x is negative\")\n",
    "elseif x > 0 # optional and unlimited\n",
    "    println(\"x is positive\")\n",
    "else         # optional\n",
    "    println(\"x is zero\")\n",
    "end"
   ]
  },
  {
   "cell_type": "code",
   "execution_count": 61,
   "metadata": {},
   "outputs": [
    {
     "name": "stdout",
     "output_type": "stream",
     "text": [
      "abc"
     ]
    }
   ],
   "source": [
    "print(\"a\")\n",
    "print(\"b\")\n",
    "print(\"c\")"
   ]
  },
  {
   "cell_type": "code",
   "execution_count": 62,
   "metadata": {},
   "outputs": [
    {
     "name": "stdout",
     "output_type": "stream",
     "text": [
      "a\n",
      "b\n",
      "c\n"
     ]
    }
   ],
   "source": [
    "println(\"a\")\n",
    "println(\"b\")\n",
    "println(\"c\")"
   ]
  },
  {
   "cell_type": "markdown",
   "metadata": {},
   "source": [
    "While"
   ]
  },
  {
   "cell_type": "code",
   "execution_count": 63,
   "metadata": {},
   "outputs": [
    {
     "name": "stdout",
     "output_type": "stream",
     "text": [
      "3\n",
      "2\n",
      "1\n"
     ]
    }
   ],
   "source": [
    "i = 3\n",
    "while i > 0\n",
    "    println(i)\n",
    "    i = i - 1\n",
    "end"
   ]
  },
  {
   "cell_type": "markdown",
   "metadata": {},
   "source": [
    "For loops"
   ]
  },
  {
   "cell_type": "code",
   "execution_count": 64,
   "metadata": {},
   "outputs": [
    {
     "name": "stdout",
     "output_type": "stream",
     "text": [
      "1\n",
      "2\n"
     ]
    }
   ],
   "source": [
    "# Iterate through ranges of numbers\n",
    "for i = 1:3\n",
    "    println(i)\n",
    "    \n",
    "    if i == 2\n",
    "        break\n",
    "    end\n",
    "end"
   ]
  },
  {
   "cell_type": "code",
   "execution_count": 65,
   "metadata": {},
   "outputs": [
    {
     "name": "stdout",
     "output_type": "stream",
     "text": [
      "Boston\n",
      "New York\n",
      "Philadelphia\n"
     ]
    }
   ],
   "source": [
    "# Iterate through arrays\n",
    "cities = [\"Boston\", \"New York\", \"Philadelphia\"]\n",
    "for city in cities\n",
    "    println(city)\n",
    "end"
   ]
  },
  {
   "cell_type": "code",
   "execution_count": 66,
   "metadata": {},
   "outputs": [
    {
     "data": {
      "text/plain": [
       "3-element Vector{String}:\n",
       " \"MA\"\n",
       " \"NY\"\n",
       " \"PA\""
      ]
     },
     "metadata": {},
     "output_type": "display_data"
    }
   ],
   "source": [
    "states = [\"MA\", \"NY\", \"PA\"]\n"
   ]
  },
  {
   "cell_type": "code",
   "execution_count": 67,
   "metadata": {},
   "outputs": [
    {
     "data": {
      "text/plain": [
       "zip([\"Boston\", \"New York\", \"Philadelphia\"], [\"MA\", \"NY\", \"PA\"])"
      ]
     },
     "metadata": {},
     "output_type": "display_data"
    }
   ],
   "source": [
    "( zip(cities, states) )"
   ]
  },
  {
   "cell_type": "code",
   "execution_count": 68,
   "metadata": {},
   "outputs": [
    {
     "data": {
      "text/plain": [
       "3-element Vector{Tuple{String, String}}:\n",
       " (\"Boston\", \"MA\")\n",
       " (\"New York\", \"NY\")\n",
       " (\"Philadelphia\", \"PA\")"
      ]
     },
     "metadata": {},
     "output_type": "display_data"
    }
   ],
   "source": [
    "collect( zip(cities, states) )"
   ]
  },
  {
   "cell_type": "code",
   "execution_count": 69,
   "metadata": {},
   "outputs": [
    {
     "name": "stdout",
     "output_type": "stream",
     "text": [
      "(\"Boston\", \"MA\")\n",
      "(\"New York\", \"NY\")\n",
      "(\"Philadelphia\", \"PA\")\n"
     ]
    }
   ],
   "source": [
    "for t in zip(cities, states)\n",
    "    println(t)\n",
    "end\n"
   ]
  },
  {
   "cell_type": "code",
   "execution_count": 42,
   "metadata": {},
   "outputs": [
    {
     "name": "stdout",
     "output_type": "stream",
     "text": [
      "Boston, MA\n",
      "New York, NY\n",
      "Philadelphia, PA\n"
     ]
    }
   ],
   "source": [
    "# Iterate through arrays of tuples using zip\n",
    "for (city, state) in zip(cities, states)\n",
    "    println(\"$city, $state\")\n",
    "end"
   ]
  },
  {
   "cell_type": "code",
   "execution_count": 70,
   "metadata": {},
   "outputs": [
    {
     "name": "stdout",
     "output_type": "stream",
     "text": [
      "City number 1 is Boston\n",
      "City number 2 is New York\n",
      "City number 3 is Philadelphia\n"
     ]
    }
   ],
   "source": [
    "# Iterate through arrays and their indices using enumerate\n",
    "for (i, city) in enumerate(cities)\n",
    "    println(\"City number $i is $city\")\n",
    "end"
   ]
  },
  {
   "cell_type": "markdown",
   "metadata": {},
   "source": [
    "#### List comprehensions"
   ]
  },
  {
   "cell_type": "code",
   "execution_count": 71,
   "metadata": {},
   "outputs": [
    {
     "data": {
      "text/plain": [
       "10-element Vector{Int64}:\n",
       "   1\n",
       "   4\n",
       "   9\n",
       "  16\n",
       "  25\n",
       "  36\n",
       "  49\n",
       "  64\n",
       "  81\n",
       " 100"
      ]
     },
     "metadata": {},
     "output_type": "display_data"
    }
   ],
   "source": [
    "[i^2 for i=1:10]"
   ]
  },
  {
   "cell_type": "code",
   "execution_count": 72,
   "metadata": {},
   "outputs": [
    {
     "data": {
      "text/plain": [
       "5-element Vector{Int64}:\n",
       "   4\n",
       "  16\n",
       "  36\n",
       "  64\n",
       " 100"
      ]
     },
     "metadata": {},
     "output_type": "display_data"
    }
   ],
   "source": [
    "[i^2 for i=1:10 if mod(i,2)==0]"
   ]
  },
  {
   "cell_type": "markdown",
   "metadata": {},
   "source": [
    "## Function definitions"
   ]
  },
  {
   "cell_type": "code",
   "execution_count": 73,
   "metadata": {},
   "outputs": [
    {
     "data": {
      "text/plain": [
       "f (generic function with 2 methods)"
      ]
     },
     "metadata": {},
     "output_type": "display_data"
    }
   ],
   "source": [
    "function f(a,b,c)\n",
    "    res = a+ b +c\n",
    "    return res\n",
    "end"
   ]
  },
  {
   "cell_type": "code",
   "execution_count": 74,
   "metadata": {},
   "outputs": [
    {
     "data": {
      "text/plain": [
       "g (generic function with 1 method)"
      ]
     },
     "metadata": {},
     "output_type": "display_data"
    }
   ],
   "source": [
    "g(x,y) = x^2 + y^2"
   ]
  },
  {
   "cell_type": "code",
   "execution_count": 75,
   "metadata": {},
   "outputs": [
    {
     "data": {
      "text/plain": [
       "#13 (generic function with 1 method)"
      ]
     },
     "metadata": {},
     "output_type": "display_data"
    }
   ],
   "source": [
    "x -> x^2 + 1 "
   ]
  },
  {
   "cell_type": "markdown",
   "metadata": {},
   "source": [
    "### Data Types and multiple dispatch"
   ]
  },
  {
   "cell_type": "markdown",
   "metadata": {},
   "source": [
    "#### Composite types\n",
    "\n",
    "A **composite type** is a collection of named fields that can be treated as a single value. They bear a passing resemblance to MATLAB structs.\n",
    "\n",
    "All fields must be declared ahead of time. The double colon, `::`, constrains a field to contain values of a certain type. This is optional for any field."
   ]
  },
  {
   "cell_type": "code",
   "execution_count": 1,
   "metadata": {},
   "outputs": [],
   "source": [
    "# Type definition\n",
    "struct Parameter\n",
    "    value::Float64\n",
    "    transformation::Function # Function is a type!\n",
    "    tex_label::String\n",
    "    description::String\n",
    "end"
   ]
  },
  {
   "cell_type": "markdown",
   "metadata": {},
   "source": [
    "When a type with $n$ fields is defined, a constructor (function that creates an instance of that type) that takes $n$ ordered arguments is automatically created. Additional constructors can be defined for convenience."
   ]
  },
  {
   "cell_type": "code",
   "execution_count": 2,
   "metadata": {},
   "outputs": [
    {
     "data": {
      "text/plain": [
       "Parameter(0.9, identity, \"\\beta\", \"Discount rate\")"
      ]
     },
     "metadata": {},
     "output_type": "display_data"
    }
   ],
   "source": [
    "# Creating an instance of the Parameter type using the default\n",
    "# constructor\n",
    "β = Parameter(0.9, identity, \"\\beta\", \"Discount rate\")"
   ]
  },
  {
   "cell_type": "code",
   "execution_count": 3,
   "metadata": {},
   "outputs": [
    {
     "data": {
      "text/plain": [
       "0.9"
      ]
     },
     "metadata": {},
     "output_type": "display_data"
    }
   ],
   "source": [
    "β.value"
   ]
  },
  {
   "cell_type": "code",
   "execution_count": 4,
   "metadata": {},
   "outputs": [
    {
     "data": {
      "text/plain": [
       "Parameter"
      ]
     },
     "metadata": {},
     "output_type": "display_data"
    }
   ],
   "source": [
    "Parameter(value, transformation, tex) = Parameter(value, transformation, tex, \"no description\")"
   ]
  },
  {
   "cell_type": "code",
   "execution_count": 5,
   "metadata": {},
   "outputs": [
    {
     "data": {
      "text/plain": [
       "Parameter(0.34, identity, \"\\beta\", \"no description\")"
      ]
     },
     "metadata": {},
     "output_type": "display_data"
    }
   ],
   "source": [
    "Parameter(0.34, identity, \"\\beta\")"
   ]
  },
  {
   "cell_type": "code",
   "execution_count": 6,
   "metadata": {},
   "outputs": [
    {
     "data": {
      "text/plain": [
       "Parameter"
      ]
     },
     "metadata": {},
     "output_type": "display_data"
    }
   ],
   "source": [
    "# constructor A\n",
    "Parameter(value, tex) = Parameter(value, identity, tex, \"no description\")"
   ]
  },
  {
   "cell_type": "code",
   "execution_count": 7,
   "metadata": {},
   "outputs": [
    {
     "data": {
      "text/plain": [
       "Parameter(0.1, identity, \"\\beta\", \"no description\")"
      ]
     },
     "metadata": {},
     "output_type": "display_data"
    }
   ],
   "source": [
    "Parameter(0.1, \"\\beta\")"
   ]
  },
  {
   "cell_type": "code",
   "execution_count": 8,
   "metadata": {},
   "outputs": [
    {
     "data": {
      "text/plain": [
       "Parameter"
      ]
     },
     "metadata": {},
     "output_type": "display_data"
    }
   ],
   "source": [
    "# constructor B\n",
    "Parameter(value, transformation)  = Parameter(value, transformation, \"notex\", \"no description\")"
   ]
  },
  {
   "cell_type": "code",
   "execution_count": 9,
   "metadata": {},
   "outputs": [
    {
     "ename": "MethodError",
     "evalue": "MethodError: Cannot `convert` an object of type String to an object of type Function\nClosest candidates are:\n  convert(::Type{T}, !Matched::T) where T at C:\\Users\\tress\\AppData\\Local\\Programs\\Julia-1.7.2\\share\\julia\\base\\essentials.jl:218",
     "output_type": "error",
     "traceback": [
      "MethodError: Cannot `convert` an object of type String to an object of type Function\n",
      "Closest candidates are:\n",
      "  convert(::Type{T}, !Matched::T) where T at C:\\Users\\tress\\AppData\\Local\\Programs\\Julia-1.7.2\\share\\julia\\base\\essentials.jl:218\n",
      "\n",
      "Stacktrace:\n",
      "  [1] Parameter(value::Float64, transformation::String, tex_label::String, description::String)\n",
      "    @ Main c:\\Users\\tress\\Documents\\eco309\\tutorials\\1_1_Julia_Basics.ipynb:3\n",
      "  [2] Parameter(value::Float64, transformation::String)\n",
      "    @ Main c:\\Users\\tress\\Documents\\eco309\\tutorials\\1_1_Julia_Basics.ipynb:2\n",
      "  [3] top-level scope\n",
      "    @ c:\\Users\\tress\\Documents\\eco309\\tutorials\\1_1_Julia_Basics.ipynb:1\n",
      "  [4] eval\n",
      "    @ .\\boot.jl:373 [inlined]\n",
      "  [5] include_string(mapexpr::typeof(REPL.softscope), mod::Module, code::String, filename::String)\n",
      "    @ Base .\\loading.jl:1196\n",
      "  [6] #invokelatest#2\n",
      "    @ .\\essentials.jl:716 [inlined]\n",
      "  [7] invokelatest\n",
      "    @ .\\essentials.jl:714 [inlined]\n",
      "  [8] (::VSCodeServer.var\"#164#165\"{VSCodeServer.NotebookRunCellArguments, String})()\n",
      "    @ VSCodeServer c:\\Users\\tress\\.vscode\\extensions\\julialang.language-julia-1.6.17\\scripts\\packages\\VSCodeServer\\src\\serve_notebook.jl:19\n",
      "  [9] withpath(f::VSCodeServer.var\"#164#165\"{VSCodeServer.NotebookRunCellArguments, String}, path::String)\n",
      "    @ VSCodeServer c:\\Users\\tress\\.vscode\\extensions\\julialang.language-julia-1.6.17\\scripts\\packages\\VSCodeServer\\src\\repl.jl:184\n",
      " [10] notebook_runcell_request(conn::VSCodeServer.JSONRPC.JSONRPCEndpoint{Base.PipeEndpoint, Base.PipeEndpoint}, params::VSCodeServer.NotebookRunCellArguments)\n",
      "    @ VSCodeServer c:\\Users\\tress\\.vscode\\extensions\\julialang.language-julia-1.6.17\\scripts\\packages\\VSCodeServer\\src\\serve_notebook.jl:13\n",
      " [11] dispatch_msg(x::VSCodeServer.JSONRPC.JSONRPCEndpoint{Base.PipeEndpoint, Base.PipeEndpoint}, dispatcher::VSCodeServer.JSONRPC.MsgDispatcher, msg::Dict{String, Any})\n",
      "    @ VSCodeServer.JSONRPC c:\\Users\\tress\\.vscode\\extensions\\julialang.language-julia-1.6.17\\scripts\\packages\\JSONRPC\\src\\typed.jl:67\n",
      " [12] serve_notebook(pipename::String, outputchannel_logger::Base.CoreLogging.SimpleLogger; crashreporting_pipename::String)\n",
      "    @ VSCodeServer c:\\Users\\tress\\.vscode\\extensions\\julialang.language-julia-1.6.17\\scripts\\packages\\VSCodeServer\\src\\serve_notebook.jl:136\n",
      " [13] top-level scope\n",
      "    @ c:\\Users\\tress\\.vscode\\extensions\\julialang.language-julia-1.6.17\\scripts\\notebook\\notebook.jl:32\n",
      " [14] include(mod::Module, _path::String)\n",
      "    @ Base .\\Base.jl:418\n",
      " [15] exec_options(opts::Base.JLOptions)\n",
      "    @ Base .\\client.jl:292\n",
      " [16] _start()\n",
      "    @ Base .\\client.jl:495"
     ]
    }
   ],
   "source": [
    "Parameter(0.1, \"\\beta\")"
   ]
  },
  {
   "cell_type": "code",
   "execution_count": 15,
   "metadata": {},
   "outputs": [],
   "source": [
    "# here Julia doesn't know whether it should call constructor A or constructor B"
   ]
  },
  {
   "cell_type": "code",
   "execution_count": 10,
   "metadata": {},
   "outputs": [
    {
     "data": {
      "text/plain": [
       "Parameter"
      ]
     },
     "metadata": {},
     "output_type": "display_data"
    }
   ],
   "source": [
    "# solution : give different signatures to the various constructors\n",
    "Parameter(value, tex::String) = Parameter(value, identity, tex, \"no description\")\n",
    "Parameter(value, transformation::Function)  = Parameter(value, transformation, \"notex\", \"no description\")"
   ]
  },
  {
   "cell_type": "code",
   "execution_count": 11,
   "metadata": {},
   "outputs": [
    {
     "data": {
      "text/plain": [
       "Parameter(0.5, identity, \"\\beta\", \"no description\")"
      ]
     },
     "metadata": {},
     "output_type": "display_data"
    }
   ],
   "source": [
    "Parameter(0.5, \"\\beta\")"
   ]
  },
  {
   "cell_type": "code",
   "execution_count": 12,
   "metadata": {},
   "outputs": [
    {
     "data": {
      "text/plain": [
       "Parameter(0.9, var\"#9#10\"(), \"notex\", \"no description\")"
      ]
     },
     "metadata": {},
     "output_type": "display_data"
    }
   ],
   "source": [
    "Parameter(0.9, u->u^2)"
   ]
  },
  {
   "cell_type": "code",
   "execution_count": 13,
   "metadata": {},
   "outputs": [
    {
     "data": {
      "text/html": [
       "# 6 methods for type constructor:<ul><li> Parameter(value::<b>Float64</b>, transformation::<b>Function</b>, tex_label::<b>String</b>, description::<b>String</b>) in Main at <a href=\"https://github.com/thomastressel/eco309/tree/421c8ad78502500f4403ffd0a9c5b9d249cbf240//tutorials/1_1_Julia_Basics.ipynb#L3\" target=\"_blank\">c:\\Users\\tress\\Documents\\eco309\\tutorials\\1_1_Julia_Basics.ipynb:3</a></li> <li> Parameter(value, transformation::<b>Function</b>) in Main at <a href=\"https://github.com/thomastressel/eco309/tree/421c8ad78502500f4403ffd0a9c5b9d249cbf240//tutorials/1_1_Julia_Basics.ipynb#L3\" target=\"_blank\">c:\\Users\\tress\\Documents\\eco309\\tutorials\\1_1_Julia_Basics.ipynb:3</a></li> <li> Parameter(value, tex::<b>String</b>) in Main at <a href=\"https://github.com/thomastressel/eco309/tree/421c8ad78502500f4403ffd0a9c5b9d249cbf240//tutorials/1_1_Julia_Basics.ipynb#L2\" target=\"_blank\">c:\\Users\\tress\\Documents\\eco309\\tutorials\\1_1_Julia_Basics.ipynb:2</a></li> <li> Parameter(value, transformation) in Main at <a href=\"https://github.com/thomastressel/eco309/tree/421c8ad78502500f4403ffd0a9c5b9d249cbf240//tutorials/1_1_Julia_Basics.ipynb#L2\" target=\"_blank\">c:\\Users\\tress\\Documents\\eco309\\tutorials\\1_1_Julia_Basics.ipynb:2</a></li> <li> Parameter(value, transformation, tex) in Main at <a href=\"https://github.com/thomastressel/eco309/tree/421c8ad78502500f4403ffd0a9c5b9d249cbf240//tutorials/1_1_Julia_Basics.ipynb#L1\" target=\"_blank\">c:\\Users\\tress\\Documents\\eco309\\tutorials\\1_1_Julia_Basics.ipynb:1</a></li> <li> Parameter(value, transformation, tex_label, description) in Main at <a href=\"https://github.com/thomastressel/eco309/tree/421c8ad78502500f4403ffd0a9c5b9d249cbf240//tutorials/1_1_Julia_Basics.ipynb#L3\" target=\"_blank\">c:\\Users\\tress\\Documents\\eco309\\tutorials\\1_1_Julia_Basics.ipynb:3</a></li> </ul>"
      ],
      "text/plain": [
       "# 6 methods for type constructor:\n",
       "[1] Parameter(value::Float64, transformation::Function, tex_label::String, description::String) in Main at c:\\Users\\tress\\Documents\\eco309\\tutorials\\1_1_Julia_Basics.ipynb:3\n",
       "[2] Parameter(value, transformation::Function) in Main at c:\\Users\\tress\\Documents\\eco309\\tutorials\\1_1_Julia_Basics.ipynb:3\n",
       "[3] Parameter(value, tex::String) in Main at c:\\Users\\tress\\Documents\\eco309\\tutorials\\1_1_Julia_Basics.ipynb:2\n",
       "[4] Parameter(value, transformation) in Main at c:\\Users\\tress\\Documents\\eco309\\tutorials\\1_1_Julia_Basics.ipynb:2\n",
       "[5] Parameter(value, transformation, tex) in Main at c:\\Users\\tress\\Documents\\eco309\\tutorials\\1_1_Julia_Basics.ipynb:1\n",
       "[6] Parameter(value, transformation, tex_label, description) in Main at c:\\Users\\tress\\Documents\\eco309\\tutorials\\1_1_Julia_Basics.ipynb:3"
      ]
     },
     "metadata": {},
     "output_type": "display_data"
    }
   ],
   "source": [
    "methods( Parameter )"
   ]
  },
  {
   "cell_type": "code",
   "execution_count": 14,
   "metadata": {},
   "outputs": [
    {
     "data": {
      "text/plain": [
       "Parameter(0.5, identity, \"\\alpha\", \"No description available\")"
      ]
     },
     "metadata": {},
     "output_type": "display_data"
    }
   ],
   "source": [
    "# Alternative constructors end with an appeal to the default\n",
    "# constructor\n",
    "function Parameter(value::Float64, tex_label::String)\n",
    "    transformation = identity\n",
    "    description = \"No description available\"\n",
    "    return Parameter(value, transformation, tex_label, description)\n",
    "end\n",
    "\n",
    "α = Parameter(0.5, \"\\alpha\")"
   ]
  },
  {
   "cell_type": "markdown",
   "metadata": {},
   "source": [
    "Now the function `Parameter` has two different `methods` with different signatures:"
   ]
  },
  {
   "cell_type": "code",
   "execution_count": 15,
   "metadata": {},
   "outputs": [
    {
     "data": {
      "text/html": [
       "# 7 methods for type constructor:<ul><li> Parameter(value::<b>Float64</b>, transformation::<b>Function</b>, tex_label::<b>String</b>, description::<b>String</b>) in Main at <a href=\"https://github.com/thomastressel/eco309/tree/421c8ad78502500f4403ffd0a9c5b9d249cbf240//tutorials/1_1_Julia_Basics.ipynb#L3\" target=\"_blank\">c:\\Users\\tress\\Documents\\eco309\\tutorials\\1_1_Julia_Basics.ipynb:3</a></li> <li> Parameter(value, transformation::<b>Function</b>) in Main at <a href=\"https://github.com/thomastressel/eco309/tree/421c8ad78502500f4403ffd0a9c5b9d249cbf240//tutorials/1_1_Julia_Basics.ipynb#L3\" target=\"_blank\">c:\\Users\\tress\\Documents\\eco309\\tutorials\\1_1_Julia_Basics.ipynb:3</a></li> <li> Parameter(value::<b>Float64</b>, tex_label::<b>String</b>) in Main at <a href=\"https://github.com/thomastressel/eco309/tree/421c8ad78502500f4403ffd0a9c5b9d249cbf240//tutorials/1_1_Julia_Basics.ipynb#L3\" target=\"_blank\">c:\\Users\\tress\\Documents\\eco309\\tutorials\\1_1_Julia_Basics.ipynb:3</a></li> <li> Parameter(value, tex::<b>String</b>) in Main at <a href=\"https://github.com/thomastressel/eco309/tree/421c8ad78502500f4403ffd0a9c5b9d249cbf240//tutorials/1_1_Julia_Basics.ipynb#L2\" target=\"_blank\">c:\\Users\\tress\\Documents\\eco309\\tutorials\\1_1_Julia_Basics.ipynb:2</a></li> <li> Parameter(value, transformation) in Main at <a href=\"https://github.com/thomastressel/eco309/tree/421c8ad78502500f4403ffd0a9c5b9d249cbf240//tutorials/1_1_Julia_Basics.ipynb#L2\" target=\"_blank\">c:\\Users\\tress\\Documents\\eco309\\tutorials\\1_1_Julia_Basics.ipynb:2</a></li> <li> Parameter(value, transformation, tex) in Main at <a href=\"https://github.com/thomastressel/eco309/tree/421c8ad78502500f4403ffd0a9c5b9d249cbf240//tutorials/1_1_Julia_Basics.ipynb#L1\" target=\"_blank\">c:\\Users\\tress\\Documents\\eco309\\tutorials\\1_1_Julia_Basics.ipynb:1</a></li> <li> Parameter(value, transformation, tex_label, description) in Main at <a href=\"https://github.com/thomastressel/eco309/tree/421c8ad78502500f4403ffd0a9c5b9d249cbf240//tutorials/1_1_Julia_Basics.ipynb#L3\" target=\"_blank\">c:\\Users\\tress\\Documents\\eco309\\tutorials\\1_1_Julia_Basics.ipynb:3</a></li> </ul>"
      ],
      "text/plain": [
       "# 7 methods for type constructor:\n",
       "[1] Parameter(value::Float64, transformation::Function, tex_label::String, description::String) in Main at c:\\Users\\tress\\Documents\\eco309\\tutorials\\1_1_Julia_Basics.ipynb:3\n",
       "[2] Parameter(value, transformation::Function) in Main at c:\\Users\\tress\\Documents\\eco309\\tutorials\\1_1_Julia_Basics.ipynb:3\n",
       "[3] Parameter(value::Float64, tex_label::String) in Main at c:\\Users\\tress\\Documents\\eco309\\tutorials\\1_1_Julia_Basics.ipynb:3\n",
       "[4] Parameter(value, tex::String) in Main at c:\\Users\\tress\\Documents\\eco309\\tutorials\\1_1_Julia_Basics.ipynb:2\n",
       "[5] Parameter(value, transformation) in Main at c:\\Users\\tress\\Documents\\eco309\\tutorials\\1_1_Julia_Basics.ipynb:2\n",
       "[6] Parameter(value, transformation, tex) in Main at c:\\Users\\tress\\Documents\\eco309\\tutorials\\1_1_Julia_Basics.ipynb:1\n",
       "[7] Parameter(value, transformation, tex_label, description) in Main at c:\\Users\\tress\\Documents\\eco309\\tutorials\\1_1_Julia_Basics.ipynb:3"
      ]
     },
     "metadata": {},
     "output_type": "display_data"
    }
   ],
   "source": [
    "methods(Parameter)"
   ]
  },
  {
   "cell_type": "code",
   "execution_count": 16,
   "metadata": {},
   "outputs": [
    {
     "data": {
      "text/plain": [
       "fun (generic function with 1 method)"
      ]
     },
     "metadata": {},
     "output_type": "display_data"
    }
   ],
   "source": [
    "fun(x::Int64, y::Int64) = x^3 + y"
   ]
  },
  {
   "cell_type": "code",
   "execution_count": 17,
   "metadata": {},
   "outputs": [
    {
     "data": {
      "text/plain": [
       "fun (generic function with 2 methods)"
      ]
     },
     "metadata": {},
     "output_type": "display_data"
    }
   ],
   "source": [
    "fun(x::Float64, y::Int64) = x/2 + y"
   ]
  },
  {
   "cell_type": "code",
   "execution_count": 18,
   "metadata": {},
   "outputs": [
    {
     "data": {
      "text/plain": [
       "10"
      ]
     },
     "metadata": {},
     "output_type": "display_data"
    }
   ],
   "source": [
    "fun(2, 2)"
   ]
  },
  {
   "cell_type": "code",
   "execution_count": 19,
   "metadata": {},
   "outputs": [
    {
     "data": {
      "text/plain": [
       "3.0"
      ]
     },
     "metadata": {},
     "output_type": "display_data"
    }
   ],
   "source": [
    "fun(2.0, 2)"
   ]
  },
  {
   "cell_type": "code",
   "execution_count": 20,
   "metadata": {},
   "outputs": [
    {
     "ename": "MethodError",
     "evalue": "MethodError: no method matching fieldnames(::Parameter)\nClosest candidates are:\n  fieldnames(!Matched::Core.TypeofBottom) at C:\\Users\\tress\\AppData\\Local\\Programs\\Julia-1.7.2\\share\\julia\\base\\reflection.jl:188\n  fieldnames(!Matched::Type{<:Tuple}) at C:\\Users\\tress\\AppData\\Local\\Programs\\Julia-1.7.2\\share\\julia\\base\\reflection.jl:190\n  fieldnames(!Matched::DataType) at C:\\Users\\tress\\AppData\\Local\\Programs\\Julia-1.7.2\\share\\julia\\base\\reflection.jl:185\n  ...",
     "output_type": "error",
     "traceback": [
      "MethodError: no method matching fieldnames(::Parameter)\n",
      "Closest candidates are:\n",
      "  fieldnames(!Matched::Core.TypeofBottom) at C:\\Users\\tress\\AppData\\Local\\Programs\\Julia-1.7.2\\share\\julia\\base\\reflection.jl:188\n",
      "  fieldnames(!Matched::Type{<:Tuple}) at C:\\Users\\tress\\AppData\\Local\\Programs\\Julia-1.7.2\\share\\julia\\base\\reflection.jl:190\n",
      "  fieldnames(!Matched::DataType) at C:\\Users\\tress\\AppData\\Local\\Programs\\Julia-1.7.2\\share\\julia\\base\\reflection.jl:185\n",
      "  ...\n",
      "\n",
      "Stacktrace:\n",
      "  [1] top-level scope\n",
      "    @ c:\\Users\\tress\\Documents\\eco309\\tutorials\\1_1_Julia_Basics.ipynb:2\n",
      "  [2] eval\n",
      "    @ .\\boot.jl:373 [inlined]\n",
      "  [3] include_string(mapexpr::typeof(REPL.softscope), mod::Module, code::String, filename::String)\n",
      "    @ Base .\\loading.jl:1196\n",
      "  [4] #invokelatest#2\n",
      "    @ .\\essentials.jl:716 [inlined]\n",
      "  [5] invokelatest\n",
      "    @ .\\essentials.jl:714 [inlined]\n",
      "  [6] (::VSCodeServer.var\"#164#165\"{VSCodeServer.NotebookRunCellArguments, String})()\n",
      "    @ VSCodeServer c:\\Users\\tress\\.vscode\\extensions\\julialang.language-julia-1.6.17\\scripts\\packages\\VSCodeServer\\src\\serve_notebook.jl:19\n",
      "  [7] withpath(f::VSCodeServer.var\"#164#165\"{VSCodeServer.NotebookRunCellArguments, String}, path::String)\n",
      "    @ VSCodeServer c:\\Users\\tress\\.vscode\\extensions\\julialang.language-julia-1.6.17\\scripts\\packages\\VSCodeServer\\src\\repl.jl:184\n",
      "  [8] notebook_runcell_request(conn::VSCodeServer.JSONRPC.JSONRPCEndpoint{Base.PipeEndpoint, Base.PipeEndpoint}, params::VSCodeServer.NotebookRunCellArguments)\n",
      "    @ VSCodeServer c:\\Users\\tress\\.vscode\\extensions\\julialang.language-julia-1.6.17\\scripts\\packages\\VSCodeServer\\src\\serve_notebook.jl:13\n",
      "  [9] dispatch_msg(x::VSCodeServer.JSONRPC.JSONRPCEndpoint{Base.PipeEndpoint, Base.PipeEndpoint}, dispatcher::VSCodeServer.JSONRPC.MsgDispatcher, msg::Dict{String, Any})\n",
      "    @ VSCodeServer.JSONRPC c:\\Users\\tress\\.vscode\\extensions\\julialang.language-julia-1.6.17\\scripts\\packages\\JSONRPC\\src\\typed.jl:67\n",
      " [10] serve_notebook(pipename::String, outputchannel_logger::Base.CoreLogging.SimpleLogger; crashreporting_pipename::String)\n",
      "    @ VSCodeServer c:\\Users\\tress\\.vscode\\extensions\\julialang.language-julia-1.6.17\\scripts\\packages\\VSCodeServer\\src\\serve_notebook.jl:136\n",
      " [11] top-level scope\n",
      "    @ c:\\Users\\tress\\.vscode\\extensions\\julialang.language-julia-1.6.17\\scripts\\notebook\\notebook.jl:32\n",
      " [12] include(mod::Module, _path::String)\n",
      "    @ Base .\\Base.jl:418\n",
      " [13] exec_options(opts::Base.JLOptions)\n",
      "    @ Base .\\client.jl:292\n",
      " [14] _start()\n",
      "    @ Base .\\client.jl:495"
     ]
    }
   ],
   "source": [
    "# Find the fields of an instance of a composite type\n",
    "fieldnames(α)"
   ]
  },
  {
   "cell_type": "code",
   "execution_count": 21,
   "metadata": {},
   "outputs": [
    {
     "data": {
      "text/plain": [
       "\"\\alpha\""
      ]
     },
     "metadata": {},
     "output_type": "display_data"
    }
   ],
   "source": [
    "α.tex_label"
   ]
  },
  {
   "cell_type": "code",
   "execution_count": 22,
   "metadata": {},
   "outputs": [
    {
     "data": {
      "text/plain": [
       "0.5"
      ]
     },
     "metadata": {},
     "output_type": "display_data"
    }
   ],
   "source": [
    "# Access a particular field using .\n",
    "α.value"
   ]
  },
  {
   "cell_type": "code",
   "execution_count": null,
   "metadata": {},
   "outputs": [],
   "source": [
    "# Fields are modifiable and can be assigned to, like \n",
    "# ordinary variables\n",
    "α.value = 0.75"
   ]
  },
  {
   "cell_type": "code",
   "execution_count": null,
   "metadata": {},
   "outputs": [],
   "source": []
  },
  {
   "cell_type": "code",
   "execution_count": 23,
   "metadata": {},
   "outputs": [
    {
     "data": {
      "text/plain": [
       "1.4901161193847656e-8"
      ]
     },
     "metadata": {},
     "output_type": "display_data"
    }
   ],
   "source": [
    "# smallest epsilon one can represent with a given float type\n",
    "ϵ = sqrt(eps(Float64))"
   ]
  },
  {
   "cell_type": "code",
   "execution_count": 24,
   "metadata": {},
   "outputs": [
    {
     "data": {
      "text/plain": [
       "2.000000014901161"
      ]
     },
     "metadata": {},
     "output_type": "display_data"
    }
   ],
   "source": [
    "a = 2 + ϵ"
   ]
  },
  {
   "cell_type": "code",
   "execution_count": 25,
   "metadata": {},
   "outputs": [
    {
     "data": {
      "text/plain": [
       "1.4901161193847656e-8"
      ]
     },
     "metadata": {},
     "output_type": "display_data"
    }
   ],
   "source": [
    "a - 2"
   ]
  },
  {
   "cell_type": "code",
   "execution_count": 26,
   "metadata": {},
   "outputs": [
    {
     "data": {
      "text/plain": [
       "f (generic function with 1 method)"
      ]
     },
     "metadata": {},
     "output_type": "display_data"
    }
   ],
   "source": [
    "f(x) = x^2"
   ]
  },
  {
   "cell_type": "code",
   "execution_count": 27,
   "metadata": {},
   "outputs": [
    {
     "data": {
      "text/plain": [
       "4.0"
      ]
     },
     "metadata": {},
     "output_type": "display_data"
    }
   ],
   "source": [
    "(f(2+ϵ) - f(2))/ϵ"
   ]
  },
  {
   "cell_type": "code",
   "execution_count": 28,
   "metadata": {},
   "outputs": [
    {
     "data": {
      "text/plain": [
       "1.1920929f-7"
      ]
     },
     "metadata": {},
     "output_type": "display_data"
    }
   ],
   "source": [
    "eps(Float32)"
   ]
  },
  {
   "cell_type": "code",
   "execution_count": null,
   "metadata": {},
   "outputs": [],
   "source": []
  },
  {
   "cell_type": "code",
   "execution_count": null,
   "metadata": {},
   "outputs": [],
   "source": []
  },
  {
   "cell_type": "code",
   "execution_count": null,
   "metadata": {},
   "outputs": [],
   "source": []
  },
  {
   "cell_type": "markdown",
   "metadata": {},
   "source": [
    "### Mutable vs non mutable types\n"
   ]
  },
  {
   "cell_type": "markdown",
   "metadata": {},
   "source": [
    "by default structures in Julia are non-mutable"
   ]
  },
  {
   "cell_type": "code",
   "execution_count": 29,
   "metadata": {},
   "outputs": [
    {
     "ename": "ErrorException",
     "evalue": "setfield!: immutable struct of type Parameter cannot be changed",
     "output_type": "error",
     "traceback": [
      "setfield!: immutable struct of type Parameter cannot be changed\n",
      "\n",
      "Stacktrace:\n",
      "  [1] setproperty!(x::Parameter, f::Symbol, v::Float64)\n",
      "    @ Base .\\Base.jl:43\n",
      "  [2] top-level scope\n",
      "    @ c:\\Users\\tress\\Documents\\eco309\\tutorials\\1_1_Julia_Basics.ipynb:1\n",
      "  [3] eval\n",
      "    @ .\\boot.jl:373 [inlined]\n",
      "  [4] include_string(mapexpr::typeof(REPL.softscope), mod::Module, code::String, filename::String)\n",
      "    @ Base .\\loading.jl:1196\n",
      "  [5] #invokelatest#2\n",
      "    @ .\\essentials.jl:716 [inlined]\n",
      "  [6] invokelatest\n",
      "    @ .\\essentials.jl:714 [inlined]\n",
      "  [7] (::VSCodeServer.var\"#164#165\"{VSCodeServer.NotebookRunCellArguments, String})()\n",
      "    @ VSCodeServer c:\\Users\\tress\\.vscode\\extensions\\julialang.language-julia-1.6.17\\scripts\\packages\\VSCodeServer\\src\\serve_notebook.jl:19\n",
      "  [8] withpath(f::VSCodeServer.var\"#164#165\"{VSCodeServer.NotebookRunCellArguments, String}, path::String)\n",
      "    @ VSCodeServer c:\\Users\\tress\\.vscode\\extensions\\julialang.language-julia-1.6.17\\scripts\\packages\\VSCodeServer\\src\\repl.jl:184\n",
      "  [9] notebook_runcell_request(conn::VSCodeServer.JSONRPC.JSONRPCEndpoint{Base.PipeEndpoint, Base.PipeEndpoint}, params::VSCodeServer.NotebookRunCellArguments)\n",
      "    @ VSCodeServer c:\\Users\\tress\\.vscode\\extensions\\julialang.language-julia-1.6.17\\scripts\\packages\\VSCodeServer\\src\\serve_notebook.jl:13\n",
      " [10] dispatch_msg(x::VSCodeServer.JSONRPC.JSONRPCEndpoint{Base.PipeEndpoint, Base.PipeEndpoint}, dispatcher::VSCodeServer.JSONRPC.MsgDispatcher, msg::Dict{String, Any})\n",
      "    @ VSCodeServer.JSONRPC c:\\Users\\tress\\.vscode\\extensions\\julialang.language-julia-1.6.17\\scripts\\packages\\JSONRPC\\src\\typed.jl:67\n",
      " [11] serve_notebook(pipename::String, outputchannel_logger::Base.CoreLogging.SimpleLogger; crashreporting_pipename::String)\n",
      "    @ VSCodeServer c:\\Users\\tress\\.vscode\\extensions\\julialang.language-julia-1.6.17\\scripts\\packages\\VSCodeServer\\src\\serve_notebook.jl:136\n",
      " [12] top-level scope\n",
      "    @ c:\\Users\\tress\\.vscode\\extensions\\julialang.language-julia-1.6.17\\scripts\\notebook\\notebook.jl:32\n",
      " [13] include(mod::Module, _path::String)\n",
      "    @ Base .\\Base.jl:418\n",
      " [14] exec_options(opts::Base.JLOptions)\n",
      "    @ Base .\\client.jl:292\n",
      " [15] _start()\n",
      "    @ Base .\\client.jl:495"
     ]
    }
   ],
   "source": [
    "α.value = 0.6"
   ]
  },
  {
   "cell_type": "code",
   "execution_count": 30,
   "metadata": {},
   "outputs": [],
   "source": [
    "mutable struct Params\n",
    "    x:: Float64\n",
    "    y:: Float64\n",
    "end"
   ]
  },
  {
   "cell_type": "code",
   "execution_count": 31,
   "metadata": {},
   "outputs": [
    {
     "data": {
      "text/plain": [
       "Params(0.4, 0.2)"
      ]
     },
     "metadata": {},
     "output_type": "display_data"
    }
   ],
   "source": [
    "pos = Params(0.4, 0.2)"
   ]
  },
  {
   "cell_type": "code",
   "execution_count": 32,
   "metadata": {},
   "outputs": [
    {
     "data": {
      "text/plain": [
       "0.5"
      ]
     },
     "metadata": {},
     "output_type": "display_data"
    }
   ],
   "source": [
    "pos.x = 0.5"
   ]
  },
  {
   "cell_type": "markdown",
   "metadata": {},
   "source": [
    "### Parameterized Types\n",
    "\n",
    "**Parameterized types** are data types that are defined to handle values identically regardless of the type of those values.\n",
    "\n",
    "Arrays are a familiar example. An `Array{T,1}` is a one-dimensional array filled with objects of any type `T` (e.g. `Float64`, `String`)."
   ]
  },
  {
   "cell_type": "code",
   "execution_count": 25,
   "metadata": {},
   "outputs": [],
   "source": [
    "# Defining a parametric point\n",
    "struct Duple{T} # T is a parameter to the type Duple\n",
    "    x::T\n",
    "    y::T\n",
    "end"
   ]
  },
  {
   "cell_type": "code",
   "execution_count": 28,
   "metadata": {},
   "outputs": [
    {
     "ename": "MethodError",
     "evalue": "MethodError: no method matching Duple(::Int64, ::Float64)\nClosest candidates are:\n  Duple(::T, !Matched::T) where T at In[25]:3",
     "output_type": "error",
     "traceback": [
      "MethodError: no method matching Duple(::Int64, ::Float64)\nClosest candidates are:\n  Duple(::T, !Matched::T) where T at In[25]:3",
      "",
      "Stacktrace:",
      " [1] top-level scope at In[28]:1"
     ]
    }
   ],
   "source": [
    "Duple(3, -1.0)"
   ]
  },
  {
   "cell_type": "code",
   "execution_count": 29,
   "metadata": {},
   "outputs": [],
   "source": [
    "struct Truple{T}\n",
    "    x::Duple{T}\n",
    "    z::T\n",
    "end"
   ]
  },
  {
   "cell_type": "markdown",
   "metadata": {},
   "source": [
    "This single declaration defines an unlimited number of new types: `Duple{String}`, `Duple{Float64}`, etc. are all immediately usable."
   ]
  },
  {
   "cell_type": "code",
   "execution_count": 30,
   "metadata": {},
   "outputs": [
    {
     "data": {
      "text/plain": [
       "8"
      ]
     },
     "execution_count": 30,
     "metadata": {},
     "output_type": "execute_result"
    }
   ],
   "source": [
    "sizeof(3.0)"
   ]
  },
  {
   "cell_type": "code",
   "execution_count": 31,
   "metadata": {},
   "outputs": [
    {
     "data": {
      "text/plain": [
       "16"
      ]
     },
     "execution_count": 31,
     "metadata": {},
     "output_type": "execute_result"
    }
   ],
   "source": [
    "sizeof( Duple(3.0, -15.0) )"
   ]
  },
  {
   "cell_type": "code",
   "execution_count": null,
   "metadata": {},
   "outputs": [],
   "source": [
    "# What happens here?\n",
    "Duple(1.5, 3)"
   ]
  },
  {
   "cell_type": "code",
   "execution_count": 35,
   "metadata": {},
   "outputs": [],
   "source": [
    "struct Truple3{T,S}\n",
    "    x::Tuple{T,S}\n",
    "    z::S\n",
    "end"
   ]
  },
  {
   "cell_type": "markdown",
   "metadata": {},
   "source": [
    "We can also restrict the type parameter `T`:"
   ]
  },
  {
   "cell_type": "code",
   "execution_count": 37,
   "metadata": {},
   "outputs": [
    {
     "data": {
      "text/plain": [
       "false"
      ]
     },
     "execution_count": 37,
     "metadata": {},
     "output_type": "execute_result"
    }
   ],
   "source": [
    "typeof(\"S\") <: Number"
   ]
  },
  {
   "cell_type": "code",
   "execution_count": 38,
   "metadata": {},
   "outputs": [
    {
     "data": {
      "text/plain": [
       "true"
      ]
     },
     "execution_count": 38,
     "metadata": {},
     "output_type": "execute_result"
    }
   ],
   "source": [
    "typeof(4) <: Number"
   ]
  },
  {
   "cell_type": "code",
   "execution_count": 40,
   "metadata": {},
   "outputs": [],
   "source": [
    "# T can be any subtype of Number, but nothing else\n",
    "struct PlanarCoordinate{T<:Number}\n",
    "    x::T\n",
    "    y::T\n",
    "end"
   ]
  },
  {
   "cell_type": "code",
   "execution_count": 41,
   "metadata": {},
   "outputs": [
    {
     "ename": "MethodError",
     "evalue": "MethodError: no method matching PlanarCoordinate(::String, ::String)",
     "output_type": "error",
     "traceback": [
      "MethodError: no method matching PlanarCoordinate(::String, ::String)",
      "",
      "Stacktrace:",
      " [1] top-level scope at In[41]:1"
     ]
    }
   ],
   "source": [
    "PlanarCoordinate(\"4th Ave\", \"14th St\")"
   ]
  },
  {
   "cell_type": "code",
   "execution_count": 42,
   "metadata": {},
   "outputs": [
    {
     "data": {
      "text/plain": [
       "PlanarCoordinate{Rational{Int64}}(2//3, 8//9)"
      ]
     },
     "execution_count": 42,
     "metadata": {},
     "output_type": "execute_result"
    }
   ],
   "source": [
    "PlanarCoordinate(2//3, 8//9)"
   ]
  },
  {
   "cell_type": "markdown",
   "metadata": {},
   "source": [
    "### Arrays are an exemple of mutable, parameterized types"
   ]
  },
  {
   "cell_type": "code",
   "execution_count": null,
   "metadata": {},
   "outputs": [],
   "source": []
  },
  {
   "cell_type": "markdown",
   "metadata": {},
   "source": [
    "### Why Use Types?"
   ]
  },
  {
   "cell_type": "markdown",
   "metadata": {},
   "source": [
    "You can write all your code without thinking about types at all. If you do this, however, you’ll be missing out on some of the biggest benefits of using Julia.\n",
    "\n",
    "If you understand types, you can:\n",
    "\n",
    "- Write faster code\n",
    "- Write expressive, clear, and well-structured programs (keep this in mind when we talk about functions)\n",
    "- Reason more clearly about how your code works\n",
    "\n",
    "Even if you only use built-in functions and types, your code still takes advantage of Julia’s type system. That’s why it’s important to understand what types are and how to use them."
   ]
  },
  {
   "cell_type": "code",
   "execution_count": 49,
   "metadata": {},
   "outputs": [
    {
     "data": {
      "text/plain": [
       "-25554.110202663698"
      ]
     },
     "execution_count": 49,
     "metadata": {},
     "output_type": "execute_result"
    }
   ],
   "source": [
    "# Example: writing type-stable functions\n",
    "function sumofsins_unstable(n::Integer)  \n",
    "    sum = 0:: Integer\n",
    "    for i in 1:n  \n",
    "        sum += sin(3.4)  \n",
    "    end  \n",
    "    return sum \n",
    "end  \n",
    "\n",
    "function sumofsins_stable(n::Integer)  \n",
    "    sum = 0.0 :: Float64\n",
    "    for i in 1:n  \n",
    "        sum += sin(3.4)  \n",
    "    end  \n",
    "    return sum \n",
    "end\n",
    "\n",
    "# Compile and run\n",
    "sumofsins_unstable(Int(1e5))\n",
    "sumofsins_stable(Int(1e5))"
   ]
  },
  {
   "cell_type": "code",
   "execution_count": 50,
   "metadata": {},
   "outputs": [
    {
     "name": "stdout",
     "output_type": "stream",
     "text": [
      "  0.000176 seconds\n"
     ]
    },
    {
     "data": {
      "text/plain": [
       "-25554.110202663698"
      ]
     },
     "execution_count": 50,
     "metadata": {},
     "output_type": "execute_result"
    }
   ],
   "source": [
    "@time sumofsins_unstable(Int(1e5))"
   ]
  },
  {
   "cell_type": "code",
   "execution_count": 47,
   "metadata": {},
   "outputs": [
    {
     "name": "stdout",
     "output_type": "stream",
     "text": [
      "  0.000168 seconds\n"
     ]
    },
    {
     "data": {
      "text/plain": [
       "-25554.110202663698"
      ]
     },
     "execution_count": 47,
     "metadata": {},
     "output_type": "execute_result"
    }
   ],
   "source": [
    "@time sumofsins_stable(Int(1e5))"
   ]
  },
  {
   "cell_type": "markdown",
   "metadata": {},
   "source": [
    "In `sumofsins_stable`, the compiler is guaranteed that `sum` is of type `Float64` throughout; therefore, it saves time and memory. On the other hand, in `sumofsins_unstable`, the compiler must check the type of `sum` at each iteration of the loop. Let's look at the LLVM [intermediate representation](http://www.johnmyleswhite.com/notebook/2013/12/06/writing-type-stable-code-in-julia/)."
   ]
  },
  {
   "cell_type": "markdown",
   "metadata": {},
   "source": [
    "### Multiple Dispatch"
   ]
  },
  {
   "cell_type": "markdown",
   "metadata": {},
   "source": [
    "So far we have defined functions over argument lists of any type. Methods allow us to define functions “piecewise”. For any set of input arguments, we can define a **method**, a definition of one possible behavior for a function."
   ]
  },
  {
   "cell_type": "code",
   "execution_count": 51,
   "metadata": {},
   "outputs": [
    {
     "data": {
      "text/plain": [
       "print_type (generic function with 1 method)"
      ]
     },
     "execution_count": 51,
     "metadata": {},
     "output_type": "execute_result"
    }
   ],
   "source": [
    "# Define one method of the function print_type\n",
    "function print_type(x::Number)\n",
    "    println(\"$x is a number\")\n",
    "end"
   ]
  },
  {
   "cell_type": "code",
   "execution_count": 53,
   "metadata": {},
   "outputs": [
    {
     "data": {
      "text/plain": [
       "print_type (generic function with 2 methods)"
      ]
     },
     "execution_count": 53,
     "metadata": {},
     "output_type": "execute_result"
    }
   ],
   "source": [
    "# Define another method\n",
    "function print_type(x::String)\n",
    "    println(\"$x is a string\")\n",
    "end"
   ]
  },
  {
   "cell_type": "code",
   "execution_count": 54,
   "metadata": {},
   "outputs": [
    {
     "data": {
      "text/plain": [
       "print_type (generic function with 3 methods)"
      ]
     },
     "execution_count": 54,
     "metadata": {},
     "output_type": "execute_result"
    }
   ],
   "source": [
    "# Define yet another method\n",
    "function print_type(x::Number, y::Number)\n",
    "    println(\"$x and $y are both numbers\")\n",
    "end"
   ]
  },
  {
   "cell_type": "code",
   "execution_count": 55,
   "metadata": {},
   "outputs": [
    {
     "data": {
      "text/html": [
       "# 3 methods for generic function <b>print_type</b>:<ul><li> print_type(x::<b>String</b>) in Main at In[53]:3</li> <li> print_type(x::<b>Number</b>) in Main at In[51]:3</li> <li> print_type(x::<b>Number</b>, y::<b>Number</b>) in Main at In[54]:3</li> </ul>"
      ],
      "text/plain": [
       "# 3 methods for generic function \"print_type\":\n",
       "[1] print_type(x::String) in Main at In[53]:3\n",
       "[2] print_type(x::Number) in Main at In[51]:3\n",
       "[3] print_type(x::Number, y::Number) in Main at In[54]:3"
      ]
     },
     "execution_count": 55,
     "metadata": {},
     "output_type": "execute_result"
    }
   ],
   "source": [
    "# See all methods for a given function\n",
    "methods(print_type)"
   ]
  },
  {
   "cell_type": "markdown",
   "metadata": {},
   "source": [
    "Julia uses **multiple dispatch** to decide which **method** of a **function** to execute when a function is applied. In particular, Julia compares the types of _all_ arguments to the signatures of the function’s methods in order to choose the applicable one, not just the first (hence \"multiple\")."
   ]
  },
  {
   "cell_type": "code",
   "execution_count": 56,
   "metadata": {},
   "outputs": [
    {
     "name": "stdout",
     "output_type": "stream",
     "text": [
      "5 is a number\n"
     ]
    }
   ],
   "source": [
    "print_type(5)"
   ]
  },
  {
   "cell_type": "code",
   "execution_count": 57,
   "metadata": {},
   "outputs": [
    {
     "name": "stdout",
     "output_type": "stream",
     "text": [
      "foo is a string\n"
     ]
    }
   ],
   "source": [
    "print_type(\"foo\")"
   ]
  },
  {
   "cell_type": "code",
   "execution_count": 58,
   "metadata": {},
   "outputs": [
    {
     "ename": "MethodError",
     "evalue": "MethodError: no method matching print_type(::Array{Int64,1})\nClosest candidates are:\n  print_type(!Matched::String) at In[53]:3\n  print_type(!Matched::Number) at In[51]:3\n  print_type(!Matched::Number, !Matched::Number) at In[54]:3",
     "output_type": "error",
     "traceback": [
      "MethodError: no method matching print_type(::Array{Int64,1})\nClosest candidates are:\n  print_type(!Matched::String) at In[53]:3\n  print_type(!Matched::Number) at In[51]:3\n  print_type(!Matched::Number, !Matched::Number) at In[54]:3",
      "",
      "Stacktrace:",
      " [1] top-level scope at In[58]:1"
     ]
    }
   ],
   "source": [
    "print_type([1, 2, 3])"
   ]
  },
  {
   "cell_type": "markdown",
   "metadata": {},
   "source": [
    "#### Other types of functions\n",
    "\n",
    "Julia supports a short function definition for one-liners"
   ]
  },
  {
   "cell_type": "code",
   "execution_count": null,
   "metadata": {},
   "outputs": [],
   "source": [
    "f(x::Float64) = x^2.0\n",
    "f(x::Int64) = x^3"
   ]
  },
  {
   "cell_type": "markdown",
   "metadata": {},
   "source": [
    "As well as a special syntax for anonymous functions"
   ]
  },
  {
   "cell_type": "code",
   "execution_count": null,
   "metadata": {},
   "outputs": [],
   "source": [
    "u->u^2"
   ]
  },
  {
   "cell_type": "code",
   "execution_count": null,
   "metadata": {},
   "outputs": [],
   "source": [
    "map(u->u^2, [1,2,3,4])"
   ]
  },
  {
   "cell_type": "markdown",
   "metadata": {},
   "source": [
    "### Keyword arguments and optional arguments"
   ]
  },
  {
   "cell_type": "code",
   "execution_count": 59,
   "metadata": {},
   "outputs": [
    {
     "ename": "UndefVarError",
     "evalue": "UndefVarError: f not defined",
     "output_type": "error",
     "traceback": [
      "UndefVarError: f not defined",
      "",
      "Stacktrace:",
      " [1] top-level scope at In[59]:1"
     ]
    }
   ],
   "source": [
    "f(a,b,c=true; algo=\"newton\")"
   ]
  },
  {
   "cell_type": "markdown",
   "metadata": {},
   "source": [
    "### Packing/unpacking\n"
   ]
  },
  {
   "cell_type": "code",
   "execution_count": 60,
   "metadata": {},
   "outputs": [
    {
     "data": {
      "text/plain": [
       "(1, 2, 4)"
      ]
     },
     "execution_count": 60,
     "metadata": {},
     "output_type": "execute_result"
    }
   ],
   "source": [
    "t = (1,2,4)"
   ]
  },
  {
   "cell_type": "code",
   "execution_count": 61,
   "metadata": {},
   "outputs": [
    {
     "data": {
      "text/plain": [
       "(1, 2, 4)"
      ]
     },
     "execution_count": 61,
     "metadata": {},
     "output_type": "execute_result"
    }
   ],
   "source": [
    "a,b,c = t"
   ]
  },
  {
   "cell_type": "code",
   "execution_count": 65,
   "metadata": {},
   "outputs": [
    {
     "data": {
      "text/plain": [
       "10-element Array{Int64,1}:\n",
       "  1\n",
       "  2\n",
       "  3\n",
       "  4\n",
       "  5\n",
       "  6\n",
       "  7\n",
       "  8\n",
       "  9\n",
       " 10"
      ]
     },
     "execution_count": 65,
     "metadata": {},
     "output_type": "execute_result"
    }
   ],
   "source": [
    "[(1:10)...]"
   ]
  },
  {
   "cell_type": "code",
   "execution_count": 66,
   "metadata": {},
   "outputs": [
    {
     "data": {
      "text/plain": [
       "4-element Array{Int64,1}:\n",
       " 4\n",
       " 3\n",
       " 0\n",
       " 1"
      ]
     },
     "execution_count": 66,
     "metadata": {},
     "output_type": "execute_result"
    }
   ],
   "source": [
    "cat([4,3], [0,1]; dims=1)"
   ]
  },
  {
   "cell_type": "code",
   "execution_count": 67,
   "metadata": {},
   "outputs": [
    {
     "data": {
      "text/plain": [
       "8-element Array{Int64,1}:\n",
       " 4\n",
       " 3\n",
       " 0\n",
       " 1\n",
       " 0\n",
       " 0\n",
       " 1\n",
       " 1"
      ]
     },
     "execution_count": 67,
     "metadata": {},
     "output_type": "execute_result"
    }
   ],
   "source": [
    "l = [[4,3], [0,1], [0, 0], [1, 1]]\n",
    "# how do I concatenate it ?\n",
    "\n",
    "cat(l...; dims=1) ### see python's f(*s)"
   ]
  },
  {
   "cell_type": "markdown",
   "metadata": {},
   "source": [
    "### Writing Julian Code\n",
    "\n",
    "As we've seen, you can use Julia just like you use MATLAB and get faster code. However, to write faster and _better_ code, attempt to write in a “Julian” manner:\n",
    "\n",
    "- Define composite types as logically needed\n",
    "- Write type-stable functions for best performance\n",
    "- Take advantage of multiple dispatch to write code that looks like math\n",
    "- Add methods to existing functions"
   ]
  },
  {
   "cell_type": "markdown",
   "metadata": {},
   "source": [
    "### Just-in-Time Compilation"
   ]
  },
  {
   "cell_type": "markdown",
   "metadata": {},
   "source": [
    "How is Julia so fast? Julia is just-in-time (JIT) compiled, which  means (according to [this StackExchange answer](http://stackoverflow.com/questions/95635/what-does-a-just-in-time-jit-compiler-do)):\n",
    "\n",
    "> A JIT compiler runs after the program has started and compiles the code (usually bytecode or some kind of VM instructions) on the fly (or just-in-time, as it's called) into a form that's usually faster, typically the host CPU's native instruction set. _A JIT has access to dynamic runtime information whereas a standard compiler doesn't and can make better optimizations like inlining functions that are used frequently._\n",
    "\n",
    "> This is in contrast to a traditional compiler that compiles all the code to machine language before the program is first run.\n",
    "\n",
    "In particular, Julia uses type information at runtime to optimize how your code is compiled. This is why writing type-stable code makes such a difference in speed!"
   ]
  },
  {
   "cell_type": "markdown",
   "metadata": {},
   "source": [
    "## Additional Exercises\n",
    "\n",
    "Taken from QuantEcon's [Julia Essentials](https://lectures.quantecon.org/jl/julia_essentials.html) and [Vectors, Arrays, and Matrices](https://lectures.quantecon.org/jl/julia_arrays.html) lectures.\n",
    "\n",
    "1. Consider the polynomial $$p(x) = \\sum_{i=0}^n a_0 x^0$$ Using `enumerate`, write a function `p` such that `p(x, coeff)` computes the value of the polynomial with coefficients `coeff` evaluated at `x`."
   ]
  },
  {
   "cell_type": "code",
   "execution_count": null,
   "metadata": {},
   "outputs": [],
   "source": []
  },
  {
   "cell_type": "markdown",
   "metadata": {},
   "source": [
    "2. Write a function `solve_discrete_lyapunov` that solves the discrete Lyapunov equation $$S = ASA' + \\Sigma \\Sigma'$$ using the iterative procedure $$S_0 = \\Sigma \\Sigma'$$ $$S_{t+1} = A S_t A' + \\Sigma \\Sigma'$$ taking in as arguments the $n \\times n$ matrix $A$, the $n \\times k$ matrix $\\Sigma$, and a number of iterations."
   ]
  }
 ],
 "metadata": {
  "kernelspec": {
   "display_name": "Julia 1.7.2",
   "language": "julia",
   "name": "julia-1.7"
  },
  "language_info": {
   "file_extension": ".jl",
   "mimetype": "application/julia",
   "name": "julia",
   "version": "1.7.2"
  }
 },
 "nbformat": 4,
 "nbformat_minor": 4
}
