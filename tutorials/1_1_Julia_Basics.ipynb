{
 "cells": [
  {
   "cell_type": "markdown",
   "metadata": {},
   "source": [
    "---\n",
    "title: Julia Basics\n",
    "format:\n",
    "    html: default\n",
    "    ipynb: default\n",
    "---"
   ]
  },
  {
   "cell_type": "markdown",
   "metadata": {},
   "source": [
    "### What is Julia\n",
    "\n",
    "- developped at MIT on top of opensource technologies\n",
    "    - linux / git / llvm\n",
    "- syntax inspired by Matlab but:\n",
    "    - more consistent\n",
    "    - lots of features from high level languages\n",
    "- everything is JIT-compiled\n",
    "    - interpreted vs compiled treadeoff\n",
    "    - -> very fast\n",
    "    - most of the base library is written in Julia\n",
    "- opensource/free + vibrant community\n"
   ]
  },
  {
   "cell_type": "markdown",
   "metadata": {},
   "source": [
    "Some useful links from QuantEcon:\n",
    "\n",
    "* [Julia cheatsheet](https://cheatsheets.quantecon.org/julia-cheatsheet.html)\n",
    "* [Julia-Matlab comparison](https://cheatsheets.quantecon.org/index.html)\n",
    "* [Julia essentials](https://lectures.quantecon.org/jl/julia_essentials.html)\n",
    "* [Vectors, arrays and matrices](https://lectures.quantecon.org/jl/julia_arrays.html)\n",
    "\n",
    "Excellent resources at: [julialang](https://julialang.org/learning/)\n",
    "- checkout JuliaAcademy, it's free"
   ]
  },
  {
   "cell_type": "markdown",
   "metadata": {},
   "source": [
    "### an example of what you shouldn't do in Matlab\n",
    "\n",
    "How I learnt: interpreted code is slow, so vectorize your coe."
   ]
  },
  {
   "cell_type": "code",
   "execution_count": 1,
   "metadata": {},
   "outputs": [
    {
     "data": {
      "text/plain": [
       "stupid_loop"
      ]
     },
     "metadata": {},
     "output_type": "display_data"
    }
   ],
   "source": [
    "\"\"\"\n",
    "Multplies I by J by K\n",
    "\"\"\"\n",
    "function stupid_loop(I,J,K)\n",
    "    t = 0.0\n",
    "    for i=1:I\n",
    "        for j=1:J\n",
    "            for k = 1:K\n",
    "                t += 1.0\n",
    "            end        \n",
    "        end\n",
    "    end\n",
    "    return t\n",
    "end"
   ]
  },
  {
   "cell_type": "code",
   "execution_count": 5,
   "metadata": {},
   "outputs": [
    {
     "name": "stdout",
     "output_type": "stream",
     "text": [
      "  0.530100 seconds\n"
     ]
    },
    {
     "data": {
      "text/plain": [
       "1.0e9"
      ]
     },
     "metadata": {},
     "output_type": "display_data"
    }
   ],
   "source": [
    "@time stupid_loop(1000,1000,1000)"
   ]
  },
  {
   "cell_type": "code",
   "execution_count": null,
   "metadata": {},
   "outputs": [],
   "source": [
    "@time [ stupid_loop(1000,1000,i) for i =1:10]"
   ]
  },
  {
   "cell_type": "markdown",
   "metadata": {},
   "source": [
    "Code is translated to LLVM code then to instructions for the processor. Note that processor instructions are shorter than LLVM code."
   ]
  },
  {
   "cell_type": "code",
   "execution_count": 6,
   "metadata": {},
   "outputs": [
    {
     "name": "stdout",
     "output_type": "stream",
     "text": [
      "\u001b[90m; Function Signature: stupid_loop(Int64, Int64, Int64)\u001b[39m\n",
      "\u001b[90m;  @ /home/pablo/Teaching/polytechnique/eco309/tutorials/jl_notebook_cell_df34fa98e69747e1a8f8a730347b8e2f_W4sZmlsZQ==.jl:4 within `stupid_loop`\u001b[39m\n",
      "\u001b[95mdefine\u001b[39m \u001b[36mdouble\u001b[39m \u001b[93m@julia_stupid_loop_6611\u001b[39m\u001b[33m(\u001b[39m\u001b[36mi64\u001b[39m \u001b[95msignext\u001b[39m \u001b[0m%\"I::Int64\"\u001b[0m, \u001b[36mi64\u001b[39m \u001b[95msignext\u001b[39m \u001b[0m%\"J::Int64\"\u001b[0m, \u001b[36mi64\u001b[39m \u001b[95msignext\u001b[39m \u001b[0m%\"K::Int64\"\u001b[33m)\u001b[39m \u001b[0m#0 \u001b[33m{\u001b[39m\n",
      "\u001b[91mtop:\u001b[39m\n",
      "\u001b[90m;  @ /home/pablo/Teaching/polytechnique/eco309/tutorials/jl_notebook_cell_df34fa98e69747e1a8f8a730347b8e2f_W4sZmlsZQ==.jl within `stupid_loop`\u001b[39m\n",
      "  \u001b[91m%\".I:\u001b[39m\u001b[0m:Int64\" \u001b[0m= \u001b[95mcall\u001b[39m \u001b[36mi64\u001b[39m \u001b[93m@llvm.smax.i64\u001b[39m\u001b[33m(\u001b[39m\u001b[36mi64\u001b[39m \u001b[0m%\"I::Int64\"\u001b[0m, \u001b[36mi64\u001b[39m \u001b[33m0\u001b[39m\u001b[33m)\u001b[39m\n",
      "\u001b[90m;  @ /home/pablo/Teaching/polytechnique/eco309/tutorials/jl_notebook_cell_df34fa98e69747e1a8f8a730347b8e2f_W4sZmlsZQ==.jl:6 within `stupid_loop`\u001b[39m\n",
      "\u001b[90m; ┌ @ range.jl:904 within `iterate`\u001b[39m\n",
      "\u001b[90m; │┌ @ range.jl:681 within `isempty`\u001b[39m\n",
      "\u001b[90m; ││┌ @ operators.jl:379 within `>`\u001b[39m\n",
      "\u001b[90m; │││┌ @ int.jl:83 within `<`\u001b[39m\n",
      "      \u001b[0m%0 \u001b[0m= \u001b[96m\u001b[1micmp\u001b[22m\u001b[39m \u001b[96m\u001b[1mslt\u001b[22m\u001b[39m \u001b[36mi64\u001b[39m \u001b[0m%\"I::Int64\"\u001b[0m, \u001b[33m1\u001b[39m\n",
      "\u001b[90m; └└└└\u001b[39m\n",
      "  \u001b[96m\u001b[1mbr\u001b[22m\u001b[39m \u001b[36mi1\u001b[39m \u001b[0m%0\u001b[0m, \u001b[36mlabel\u001b[39m \u001b[91m%L85\u001b[39m\u001b[0m, \u001b[36mlabel\u001b[39m \u001b[91m%L16.preheader\u001b[39m\n",
      "\n",
      "\u001b[91mL16.preheader:\u001b[39m                                    \u001b[90m; preds = %top\u001b[39m\n",
      "  \u001b[91m%\".J:\u001b[39m\u001b[0m:Int64\" \u001b[0m= \u001b[95mcall\u001b[39m \u001b[36mi64\u001b[39m \u001b[93m@llvm.smax.i64\u001b[39m\u001b[33m(\u001b[39m\u001b[36mi64\u001b[39m \u001b[0m%\"J::Int64\"\u001b[0m, \u001b[36mi64\u001b[39m \u001b[33m0\u001b[39m\u001b[33m)\u001b[39m\n",
      "  \u001b[0m%1 \u001b[0m= \u001b[96m\u001b[1micmp\u001b[22m\u001b[39m \u001b[96m\u001b[1mslt\u001b[22m\u001b[39m \u001b[36mi64\u001b[39m \u001b[0m%\"J::Int64\"\u001b[0m, \u001b[33m1\u001b[39m\n",
      "  \u001b[91m%\".K:\u001b[39m\u001b[0m:Int64\" \u001b[0m= \u001b[95mcall\u001b[39m \u001b[36mi64\u001b[39m \u001b[93m@llvm.smax.i64\u001b[39m\u001b[33m(\u001b[39m\u001b[36mi64\u001b[39m \u001b[0m%\"K::Int64\"\u001b[0m, \u001b[36mi64\u001b[39m \u001b[33m0\u001b[39m\u001b[33m)\u001b[39m\n",
      "  \u001b[0m%2 \u001b[0m= \u001b[96m\u001b[1micmp\u001b[22m\u001b[39m \u001b[96m\u001b[1mslt\u001b[22m\u001b[39m \u001b[36mi64\u001b[39m \u001b[0m%\"K::Int64\"\u001b[0m, \u001b[33m1\u001b[39m\n",
      "\u001b[90m;  @ /home/pablo/Teaching/polytechnique/eco309/tutorials/jl_notebook_cell_df34fa98e69747e1a8f8a730347b8e2f_W4sZmlsZQ==.jl:7 within `stupid_loop`\u001b[39m\n",
      "  \u001b[0m%or.cond \u001b[0m= \u001b[96m\u001b[1mselect\u001b[22m\u001b[39m \u001b[36mi1\u001b[39m \u001b[0m%1\u001b[0m, \u001b[36mi1\u001b[39m \u001b[95mtrue\u001b[39m\u001b[0m, \u001b[36mi1\u001b[39m \u001b[0m%2\n",
      "  \u001b[96m\u001b[1mbr\u001b[22m\u001b[39m \u001b[36mi1\u001b[39m \u001b[0m%or.cond\u001b[0m, \u001b[36mlabel\u001b[39m \u001b[91m%L85\u001b[39m\u001b[0m, \u001b[36mlabel\u001b[39m \u001b[91m%L16.preheader49\u001b[39m\n",
      "\n",
      "\u001b[91mL16.preheader49:\u001b[39m                                  \u001b[90m; preds = %L16.preheader\u001b[39m\n",
      "\u001b[90m;  @ /home/pablo/Teaching/polytechnique/eco309/tutorials/jl_notebook_cell_df34fa98e69747e1a8f8a730347b8e2f_W4sZmlsZQ==.jl:8 within `stupid_loop`\u001b[39m\n",
      "  \u001b[0m%3 \u001b[0m= \u001b[96m\u001b[1madd\u001b[22m\u001b[39m \u001b[95mnsw\u001b[39m \u001b[36mi64\u001b[39m \u001b[0m%\".K::Int64\"\u001b[0m, \u001b[33m-1\u001b[39m\n",
      "  \u001b[96m\u001b[1mbr\u001b[22m\u001b[39m \u001b[36mlabel\u001b[39m \u001b[91m%L16\u001b[39m\n",
      "\n",
      "\u001b[91mL16:\u001b[39m                                              \u001b[90m; preds = %L74.loopexit.split, %L16.preheader49\u001b[39m\n",
      "  \u001b[0m%value_phi3 \u001b[0m= \u001b[96m\u001b[1mphi\u001b[22m\u001b[39m \u001b[36mi64\u001b[39m \u001b[33m[\u001b[39m \u001b[0m%11\u001b[0m, \u001b[91m%L74.loopexit.split\u001b[39m \u001b[33m]\u001b[39m\u001b[0m, \u001b[33m[\u001b[39m \u001b[33m1\u001b[39m\u001b[0m, \u001b[91m%L16.preheader49\u001b[39m \u001b[33m]\u001b[39m\n",
      "  \u001b[0m%value_phi4 \u001b[0m= \u001b[96m\u001b[1mphi\u001b[22m\u001b[39m \u001b[36mdouble\u001b[39m \u001b[33m[\u001b[39m \u001b[0m%.lcssa\u001b[0m, \u001b[91m%L74.loopexit.split\u001b[39m \u001b[33m]\u001b[39m\u001b[0m, \u001b[33m[\u001b[39m \u001b[33m0.000000e+00\u001b[39m\u001b[0m, \u001b[91m%L16.preheader49\u001b[39m \u001b[33m]\u001b[39m\n",
      "  \u001b[96m\u001b[1mbr\u001b[22m\u001b[39m \u001b[36mlabel\u001b[39m \u001b[91m%L33\u001b[39m\n",
      "\n",
      "\u001b[91mL33:\u001b[39m                                              \u001b[90m; preds = %L63.loopexit, %L16\u001b[39m\n",
      "  \u001b[0m%value_phi11 \u001b[0m= \u001b[96m\u001b[1mphi\u001b[22m\u001b[39m \u001b[36mdouble\u001b[39m \u001b[33m[\u001b[39m \u001b[0m%.lcssa\u001b[0m, \u001b[91m%L63.loopexit\u001b[39m \u001b[33m]\u001b[39m\u001b[0m, \u001b[33m[\u001b[39m \u001b[0m%value_phi4\u001b[0m, \u001b[91m%L16\u001b[39m \u001b[33m]\u001b[39m\n",
      "  \u001b[0m%value_phi12 \u001b[0m= \u001b[96m\u001b[1mphi\u001b[22m\u001b[39m \u001b[36mi64\u001b[39m \u001b[33m[\u001b[39m \u001b[0m%10\u001b[0m, \u001b[91m%L63.loopexit\u001b[39m \u001b[33m]\u001b[39m\u001b[0m, \u001b[33m[\u001b[39m \u001b[33m1\u001b[39m\u001b[0m, \u001b[91m%L16\u001b[39m \u001b[33m]\u001b[39m\n",
      "\u001b[90m;  @ /home/pablo/Teaching/polytechnique/eco309/tutorials/jl_notebook_cell_df34fa98e69747e1a8f8a730347b8e2f_W4sZmlsZQ==.jl:10 within `stupid_loop`\u001b[39m\n",
      "  \u001b[0m%xtraiter \u001b[0m= \u001b[96m\u001b[1mand\u001b[22m\u001b[39m \u001b[36mi64\u001b[39m \u001b[0m%\".K::Int64\"\u001b[0m, \u001b[33m3\u001b[39m\n",
      "  \u001b[0m%4 \u001b[0m= \u001b[96m\u001b[1micmp\u001b[22m\u001b[39m \u001b[96m\u001b[1mult\u001b[22m\u001b[39m \u001b[36mi64\u001b[39m \u001b[0m%3\u001b[0m, \u001b[33m3\u001b[39m\n",
      "  \u001b[96m\u001b[1mbr\u001b[22m\u001b[39m \u001b[36mi1\u001b[39m \u001b[0m%4\u001b[0m, \u001b[36mlabel\u001b[39m \u001b[91m%L63.loopexit.unr-lcssa\u001b[39m\u001b[0m, \u001b[36mlabel\u001b[39m \u001b[91m%L33.new\u001b[39m\n",
      "\n",
      "\u001b[91mL33.new:\u001b[39m                                          \u001b[90m; preds = %L33\u001b[39m\n",
      "  \u001b[0m%unroll_iter \u001b[0m= \u001b[96m\u001b[1mand\u001b[22m\u001b[39m \u001b[36mi64\u001b[39m \u001b[0m%\".K::Int64\"\u001b[0m, \u001b[33m9223372036854775804\u001b[39m\n",
      "  \u001b[96m\u001b[1mbr\u001b[22m\u001b[39m \u001b[36mlabel\u001b[39m \u001b[91m%L50\u001b[39m\n",
      "\n",
      "\u001b[91mL50:\u001b[39m                                              \u001b[90m; preds = %L50, %L33.new\u001b[39m\n",
      "  \u001b[0m%value_phi19 \u001b[0m= \u001b[96m\u001b[1mphi\u001b[22m\u001b[39m \u001b[36mdouble\u001b[39m \u001b[33m[\u001b[39m \u001b[0m%value_phi11\u001b[0m, \u001b[91m%L33.new\u001b[39m \u001b[33m]\u001b[39m\u001b[0m, \u001b[33m[\u001b[39m \u001b[0m%8\u001b[0m, \u001b[91m%L50\u001b[39m \u001b[33m]\u001b[39m\n",
      "  \u001b[0m%niter \u001b[0m= \u001b[96m\u001b[1mphi\u001b[22m\u001b[39m \u001b[36mi64\u001b[39m \u001b[33m[\u001b[39m \u001b[33m0\u001b[39m\u001b[0m, \u001b[91m%L33.new\u001b[39m \u001b[33m]\u001b[39m\u001b[0m, \u001b[33m[\u001b[39m \u001b[0m%niter.next.3\u001b[0m, \u001b[91m%L50\u001b[39m \u001b[33m]\u001b[39m\n",
      "\u001b[90m;  @ /home/pablo/Teaching/polytechnique/eco309/tutorials/jl_notebook_cell_df34fa98e69747e1a8f8a730347b8e2f_W4sZmlsZQ==.jl:9 within `stupid_loop`\u001b[39m\n",
      "\u001b[90m; ┌ @ float.jl:491 within `+`\u001b[39m\n",
      "   \u001b[0m%5 \u001b[0m= \u001b[96m\u001b[1mfadd\u001b[22m\u001b[39m \u001b[36mdouble\u001b[39m \u001b[0m%value_phi19\u001b[0m, \u001b[33m1.000000e+00\u001b[39m\n",
      "   \u001b[0m%6 \u001b[0m= \u001b[96m\u001b[1mfadd\u001b[22m\u001b[39m \u001b[36mdouble\u001b[39m \u001b[0m%5\u001b[0m, \u001b[33m1.000000e+00\u001b[39m\n",
      "   \u001b[0m%7 \u001b[0m= \u001b[96m\u001b[1mfadd\u001b[22m\u001b[39m \u001b[36mdouble\u001b[39m \u001b[0m%6\u001b[0m, \u001b[33m1.000000e+00\u001b[39m\n",
      "   \u001b[0m%8 \u001b[0m= \u001b[96m\u001b[1mfadd\u001b[22m\u001b[39m \u001b[36mdouble\u001b[39m \u001b[0m%7\u001b[0m, \u001b[33m1.000000e+00\u001b[39m\n",
      "\u001b[90m; └\u001b[39m\n",
      "\u001b[90m;  @ /home/pablo/Teaching/polytechnique/eco309/tutorials/jl_notebook_cell_df34fa98e69747e1a8f8a730347b8e2f_W4sZmlsZQ==.jl:10 within `stupid_loop`\u001b[39m\n",
      "  \u001b[0m%niter.next.3 \u001b[0m= \u001b[96m\u001b[1madd\u001b[22m\u001b[39m \u001b[36mi64\u001b[39m \u001b[0m%niter\u001b[0m, \u001b[33m4\u001b[39m\n",
      "  \u001b[0m%niter.ncmp.3 \u001b[0m= \u001b[96m\u001b[1micmp\u001b[22m\u001b[39m \u001b[96m\u001b[1meq\u001b[22m\u001b[39m \u001b[36mi64\u001b[39m \u001b[0m%niter.next.3\u001b[0m, \u001b[0m%unroll_iter\n",
      "  \u001b[96m\u001b[1mbr\u001b[22m\u001b[39m \u001b[36mi1\u001b[39m \u001b[0m%niter.ncmp.3\u001b[0m, \u001b[36mlabel\u001b[39m \u001b[91m%L63.loopexit.unr-lcssa\u001b[39m\u001b[0m, \u001b[36mlabel\u001b[39m \u001b[91m%L50\u001b[39m\n",
      "\n",
      "\u001b[91mL63.loopexit.unr-lcssa:\u001b[39m                           \u001b[90m; preds = %L50, %L33\u001b[39m\n",
      "  \u001b[0m%.lcssa.ph \u001b[0m= \u001b[96m\u001b[1mphi\u001b[22m\u001b[39m \u001b[36mdouble\u001b[39m \u001b[33m[\u001b[39m \u001b[95mundef\u001b[39m\u001b[0m, \u001b[91m%L33\u001b[39m \u001b[33m]\u001b[39m\u001b[0m, \u001b[33m[\u001b[39m \u001b[0m%8\u001b[0m, \u001b[91m%L50\u001b[39m \u001b[33m]\u001b[39m\n",
      "  \u001b[0m%value_phi19.unr \u001b[0m= \u001b[96m\u001b[1mphi\u001b[22m\u001b[39m \u001b[36mdouble\u001b[39m \u001b[33m[\u001b[39m \u001b[0m%value_phi11\u001b[0m, \u001b[91m%L33\u001b[39m \u001b[33m]\u001b[39m\u001b[0m, \u001b[33m[\u001b[39m \u001b[0m%8\u001b[0m, \u001b[91m%L50\u001b[39m \u001b[33m]\u001b[39m\n",
      "  \u001b[0m%lcmp.mod.not \u001b[0m= \u001b[96m\u001b[1micmp\u001b[22m\u001b[39m \u001b[96m\u001b[1meq\u001b[22m\u001b[39m \u001b[36mi64\u001b[39m \u001b[0m%xtraiter\u001b[0m, \u001b[33m0\u001b[39m\n",
      "  \u001b[96m\u001b[1mbr\u001b[22m\u001b[39m \u001b[36mi1\u001b[39m \u001b[0m%lcmp.mod.not\u001b[0m, \u001b[36mlabel\u001b[39m \u001b[91m%L63.loopexit\u001b[39m\u001b[0m, \u001b[36mlabel\u001b[39m \u001b[91m%L50.epil\u001b[39m\n",
      "\n",
      "\u001b[91mL50.epil:\u001b[39m                                         \u001b[90m; preds = %L50.epil, %L63.loopexit.unr-lcssa\u001b[39m\n",
      "  \u001b[0m%value_phi19.epil \u001b[0m= \u001b[96m\u001b[1mphi\u001b[22m\u001b[39m \u001b[36mdouble\u001b[39m \u001b[33m[\u001b[39m \u001b[0m%9\u001b[0m, \u001b[91m%L50.epil\u001b[39m \u001b[33m]\u001b[39m\u001b[0m, \u001b[33m[\u001b[39m \u001b[0m%value_phi19.unr\u001b[0m, \u001b[91m%L63.loopexit.unr-lcssa\u001b[39m \u001b[33m]\u001b[39m\n",
      "  \u001b[0m%epil.iter \u001b[0m= \u001b[96m\u001b[1mphi\u001b[22m\u001b[39m \u001b[36mi64\u001b[39m \u001b[33m[\u001b[39m \u001b[0m%epil.iter.next\u001b[0m, \u001b[91m%L50.epil\u001b[39m \u001b[33m]\u001b[39m\u001b[0m, \u001b[33m[\u001b[39m \u001b[33m0\u001b[39m\u001b[0m, \u001b[91m%L63.loopexit.unr-lcssa\u001b[39m \u001b[33m]\u001b[39m\n",
      "\u001b[90m;  @ /home/pablo/Teaching/polytechnique/eco309/tutorials/jl_notebook_cell_df34fa98e69747e1a8f8a730347b8e2f_W4sZmlsZQ==.jl:9 within `stupid_loop`\u001b[39m\n",
      "\u001b[90m; ┌ @ float.jl:491 within `+`\u001b[39m\n",
      "   \u001b[0m%9 \u001b[0m= \u001b[96m\u001b[1mfadd\u001b[22m\u001b[39m \u001b[36mdouble\u001b[39m \u001b[0m%value_phi19.epil\u001b[0m, \u001b[33m1.000000e+00\u001b[39m\n",
      "\u001b[90m; └\u001b[39m\n",
      "\u001b[90m;  @ /home/pablo/Teaching/polytechnique/eco309/tutorials/jl_notebook_cell_df34fa98e69747e1a8f8a730347b8e2f_W4sZmlsZQ==.jl:10 within `stupid_loop`\u001b[39m\n",
      "  \u001b[0m%epil.iter.next \u001b[0m= \u001b[96m\u001b[1madd\u001b[22m\u001b[39m \u001b[36mi64\u001b[39m \u001b[0m%epil.iter\u001b[0m, \u001b[33m1\u001b[39m\n",
      "  \u001b[0m%epil.iter.cmp.not \u001b[0m= \u001b[96m\u001b[1micmp\u001b[22m\u001b[39m \u001b[96m\u001b[1meq\u001b[22m\u001b[39m \u001b[36mi64\u001b[39m \u001b[0m%epil.iter.next\u001b[0m, \u001b[0m%xtraiter\n",
      "  \u001b[96m\u001b[1mbr\u001b[22m\u001b[39m \u001b[36mi1\u001b[39m \u001b[0m%epil.iter.cmp.not\u001b[0m, \u001b[36mlabel\u001b[39m \u001b[91m%L63.loopexit\u001b[39m\u001b[0m, \u001b[36mlabel\u001b[39m \u001b[91m%L50.epil\u001b[39m\n",
      "\n",
      "\u001b[91mL63.loopexit:\u001b[39m                                     \u001b[90m; preds = %L50.epil, %L63.loopexit.unr-lcssa\u001b[39m\n",
      "\u001b[90m;  @ /home/pablo/Teaching/polytechnique/eco309/tutorials/jl_notebook_cell_df34fa98e69747e1a8f8a730347b8e2f_W4sZmlsZQ==.jl:9 within `stupid_loop`\u001b[39m\n",
      "\u001b[90m; ┌ @ float.jl:491 within `+`\u001b[39m\n",
      "   \u001b[0m%.lcssa \u001b[0m= \u001b[96m\u001b[1mphi\u001b[22m\u001b[39m \u001b[36mdouble\u001b[39m \u001b[33m[\u001b[39m \u001b[0m%.lcssa.ph\u001b[0m, \u001b[91m%L63.loopexit.unr-lcssa\u001b[39m \u001b[33m]\u001b[39m\u001b[0m, \u001b[33m[\u001b[39m \u001b[0m%9\u001b[0m, \u001b[91m%L50.epil\u001b[39m \u001b[33m]\u001b[39m\n",
      "\u001b[90m; └\u001b[39m\n",
      "\u001b[90m;  @ /home/pablo/Teaching/polytechnique/eco309/tutorials/jl_notebook_cell_df34fa98e69747e1a8f8a730347b8e2f_W4sZmlsZQ==.jl:11 within `stupid_loop`\u001b[39m\n",
      "\u001b[90m; ┌ @ range.jl:908 within `iterate`\u001b[39m\n",
      "\u001b[90m; │┌ @ promotion.jl:639 within `==`\u001b[39m\n",
      "    \u001b[0m%.not.not37 \u001b[0m= \u001b[96m\u001b[1micmp\u001b[22m\u001b[39m \u001b[96m\u001b[1meq\u001b[22m\u001b[39m \u001b[36mi64\u001b[39m \u001b[0m%value_phi12\u001b[0m, \u001b[0m%\".J::Int64\"\n",
      "\u001b[90m; │└\u001b[39m\n",
      "   \u001b[0m%10 \u001b[0m= \u001b[96m\u001b[1madd\u001b[22m\u001b[39m \u001b[95mnuw\u001b[39m \u001b[36mi64\u001b[39m \u001b[0m%value_phi12\u001b[0m, \u001b[33m1\u001b[39m\n",
      "\u001b[90m; └\u001b[39m\n",
      "  \u001b[96m\u001b[1mbr\u001b[22m\u001b[39m \u001b[36mi1\u001b[39m \u001b[0m%.not.not37\u001b[0m, \u001b[36mlabel\u001b[39m \u001b[91m%L74.loopexit.split\u001b[39m\u001b[0m, \u001b[36mlabel\u001b[39m \u001b[91m%L33\u001b[39m\n",
      "\n",
      "\u001b[91mL74.loopexit.split:\u001b[39m                               \u001b[90m; preds = %L63.loopexit\u001b[39m\n",
      "\u001b[90m;  @ /home/pablo/Teaching/polytechnique/eco309/tutorials/jl_notebook_cell_df34fa98e69747e1a8f8a730347b8e2f_W4sZmlsZQ==.jl:12 within `stupid_loop`\u001b[39m\n",
      "\u001b[90m; ┌ @ range.jl:908 within `iterate`\u001b[39m\n",
      "\u001b[90m; │┌ @ promotion.jl:639 within `==`\u001b[39m\n",
      "    \u001b[0m%.not.not38 \u001b[0m= \u001b[96m\u001b[1micmp\u001b[22m\u001b[39m \u001b[96m\u001b[1meq\u001b[22m\u001b[39m \u001b[36mi64\u001b[39m \u001b[0m%value_phi3\u001b[0m, \u001b[0m%\".I::Int64\"\n",
      "\u001b[90m; │└\u001b[39m\n",
      "   \u001b[0m%11 \u001b[0m= \u001b[96m\u001b[1madd\u001b[22m\u001b[39m \u001b[95mnuw\u001b[39m \u001b[36mi64\u001b[39m \u001b[0m%value_phi3\u001b[0m, \u001b[33m1\u001b[39m\n",
      "\u001b[90m; └\u001b[39m\n",
      "  \u001b[96m\u001b[1mbr\u001b[22m\u001b[39m \u001b[36mi1\u001b[39m \u001b[0m%.not.not38\u001b[0m, \u001b[36mlabel\u001b[39m \u001b[91m%L85\u001b[39m\u001b[0m, \u001b[36mlabel\u001b[39m \u001b[91m%L16\u001b[39m\n",
      "\n",
      "\u001b[91mL85:\u001b[39m                                              \u001b[90m; preds = %L74.loopexit.split, %L16.preheader, %top\u001b[39m\n",
      "  \u001b[0m%value_phi34 \u001b[0m= \u001b[96m\u001b[1mphi\u001b[22m\u001b[39m \u001b[36mdouble\u001b[39m \u001b[33m[\u001b[39m \u001b[33m0.000000e+00\u001b[39m\u001b[0m, \u001b[91m%top\u001b[39m \u001b[33m]\u001b[39m\u001b[0m, \u001b[33m[\u001b[39m \u001b[33m0.000000e+00\u001b[39m\u001b[0m, \u001b[91m%L16.preheader\u001b[39m \u001b[33m]\u001b[39m\u001b[0m, \u001b[33m[\u001b[39m \u001b[0m%.lcssa\u001b[0m, \u001b[91m%L74.loopexit.split\u001b[39m \u001b[33m]\u001b[39m\n",
      "\u001b[90m;  @ /home/pablo/Teaching/polytechnique/eco309/tutorials/jl_notebook_cell_df34fa98e69747e1a8f8a730347b8e2f_W4sZmlsZQ==.jl:13 within `stupid_loop`\u001b[39m\n",
      "  \u001b[96m\u001b[1mret\u001b[22m\u001b[39m \u001b[36mdouble\u001b[39m \u001b[0m%value_phi34\n",
      "\u001b[33m}\u001b[39m\n"
     ]
    }
   ],
   "source": [
    "@code_llvm stupid_loop(10,10,10)"
   ]
  },
  {
   "cell_type": "code",
   "execution_count": 7,
   "metadata": {},
   "outputs": [
    {
     "name": "stdout",
     "output_type": "stream",
     "text": [
      "\t\u001b[0m.text\n",
      "\t\u001b[0m.file\t\u001b[0m\"stupid_loop\"\n",
      "\t\u001b[0m.section\t\u001b[0m.rodata.cst8\u001b[0m,\u001b[0m\"aM\"\u001b[0m,\u001b[0m@progbits\u001b[0m,\u001b[33m8\u001b[39m\n",
      "\t\u001b[0m.p2align\t\u001b[33m3\u001b[39m\u001b[0m, \u001b[33m0x0\u001b[39m                          \u001b[90m# -- Begin function julia_stupid_loop_6783\u001b[39m\n",
      "\u001b[91m.LCPI0_0:\u001b[39m\n",
      "\t\u001b[0m.quad\t\u001b[33m0x3ff0000000000000\u001b[39m              \u001b[90m# double 1\u001b[39m\n",
      "\t\u001b[0m.text\n",
      "\t\u001b[0m.globl\t\u001b[0mjulia_stupid_loop_6783\n",
      "\t\u001b[0m.p2align\t\u001b[33m4\u001b[39m\u001b[0m, \u001b[33m0x90\u001b[39m\n",
      "\t\u001b[0m.type\t\u001b[0mjulia_stupid_loop_6783\u001b[0m,\u001b[0m@function\n",
      "\u001b[91mjulia_stupid_loop_6783:\u001b[39m                 \u001b[90m# @julia_stupid_loop_6783\u001b[39m\n",
      "\u001b[90m; Function Signature: stupid_loop(Int64, Int64, Int64)\u001b[39m\n",
      "\u001b[90m; ┌ @ /home/pablo/Teaching/polytechnique/eco309/tutorials/jl_notebook_cell_df34fa98e69747e1a8f8a730347b8e2f_W4sZmlsZQ==.jl:4 within `stupid_loop`\u001b[39m\n",
      "\u001b[90m# %bb.0:                                # %top\u001b[39m\n",
      "\u001b[90m; │ @ /home/pablo/Teaching/polytechnique/eco309/tutorials/jl_notebook_cell_df34fa98e69747e1a8f8a730347b8e2f_W4sZmlsZQ==.jl within `stupid_loop`\u001b[39m\n",
      "\t\u001b[91m#DEBUG_VALUE:\u001b[39m \u001b[96m\u001b[1mstupid_loop\u001b[22m\u001b[39m\u001b[0m:\u001b[0mI \u001b[0m<- \u001b[93m$rdi\u001b[39m\n",
      "\t\u001b[91m#DEBUG_VALUE:\u001b[39m \u001b[96m\u001b[1mstupid_loop\u001b[22m\u001b[39m\u001b[0m:\u001b[0mJ \u001b[0m<- \u001b[93m$rsi\u001b[39m\n",
      "\t\u001b[91m#DEBUG_VALUE:\u001b[39m \u001b[96m\u001b[1mstupid_loop\u001b[22m\u001b[39m\u001b[0m:\u001b[0mK \u001b[0m<- \u001b[93m$rdx\u001b[39m\n",
      "\t\u001b[96m\u001b[1mxor\u001b[22m\u001b[39m\t\u001b[0meax\u001b[0m, \u001b[0meax\n",
      "\t\u001b[96m\u001b[1mtest\u001b[22m\u001b[39m\t\u001b[0mrdi\u001b[0m, \u001b[0mrdi\n",
      "\t\u001b[96m\u001b[1mvxorpd\u001b[22m\u001b[39m\t\u001b[0mxmm0\u001b[0m, \u001b[0mxmm0\u001b[0m, \u001b[0mxmm0\n",
      "\t\u001b[96m\u001b[1mcmovg\u001b[22m\u001b[39m\t\u001b[0mrax\u001b[0m, \u001b[0mrdi\n",
      "\u001b[90m; │ @ /home/pablo/Teaching/polytechnique/eco309/tutorials/jl_notebook_cell_df34fa98e69747e1a8f8a730347b8e2f_W4sZmlsZQ==.jl:6 within `stupid_loop`\u001b[39m\n",
      "\t\u001b[96m\u001b[1mjle\u001b[22m\u001b[39m\t\u001b[0m.LBB0_13\n",
      "\u001b[90m# %bb.1:                                # %L16.preheader\u001b[39m\n",
      "\t\u001b[96m\u001b[1mxor\u001b[22m\u001b[39m\t\u001b[0mecx\u001b[0m, \u001b[0mecx\n",
      "\t\u001b[96m\u001b[1mtest\u001b[22m\u001b[39m\t\u001b[0mrsi\u001b[0m, \u001b[0mrsi\n",
      "\t\u001b[96m\u001b[1mcmovg\u001b[22m\u001b[39m\t\u001b[0mrcx\u001b[0m, \u001b[0mrsi\n",
      "\u001b[90m; │ @ /home/pablo/Teaching/polytechnique/eco309/tutorials/jl_notebook_cell_df34fa98e69747e1a8f8a730347b8e2f_W4sZmlsZQ==.jl:7 within `stupid_loop`\u001b[39m\n",
      "\t\u001b[96m\u001b[1mjle\u001b[22m\u001b[39m\t\u001b[0m.LBB0_13\n",
      "\u001b[90m# %bb.2:                                # %L16.preheader\u001b[39m\n",
      "\t\u001b[96m\u001b[1mtest\u001b[22m\u001b[39m\t\u001b[0mrdx\u001b[0m, \u001b[0mrdx\n",
      "\t\u001b[96m\u001b[1mjle\u001b[22m\u001b[39m\t\u001b[0m.LBB0_13\n",
      "\u001b[90m# %bb.3:                                # %L16.preheader49\u001b[39m\n",
      "\t\u001b[96m\u001b[1mpush\u001b[22m\u001b[39m\t\u001b[0mrbp\n",
      "\t\u001b[96m\u001b[1mmov\u001b[22m\u001b[39m\t\u001b[0mrsi\u001b[0m, \u001b[0mrdx\n",
      "\t\u001b[96m\u001b[1mmovabs\u001b[22m\u001b[39m\t\u001b[0mr10\u001b[0m, \u001b[95moffset\u001b[39m \u001b[0m.LCPI0_0\n",
      "\t\u001b[96m\u001b[1mvxorpd\u001b[22m\u001b[39m\t\u001b[0mxmm0\u001b[0m, \u001b[0mxmm0\u001b[0m, \u001b[0mxmm0\n",
      "\t\u001b[96m\u001b[1mmov\u001b[22m\u001b[39m\t\u001b[0mr9d\u001b[0m, \u001b[33m1\u001b[39m\n",
      "\t\u001b[96m\u001b[1mmov\u001b[22m\u001b[39m\t\u001b[0mrbp\u001b[0m, \u001b[0mrsp\n",
      "\t\u001b[96m\u001b[1msar\u001b[22m\u001b[39m\t\u001b[0mrsi\u001b[0m, \u001b[33m63\u001b[39m\n",
      "\t\u001b[96m\u001b[1mvmovsd\u001b[22m\u001b[39m\t\u001b[0mxmm1\u001b[0m, \u001b[95mqword\u001b[39m \u001b[95mptr\u001b[39m \u001b[33m[\u001b[39m\u001b[0mr10\u001b[33m]\u001b[39m           \u001b[90m# xmm1 = mem[0],zero\u001b[39m\n",
      "\t\u001b[96m\u001b[1mandn\u001b[22m\u001b[39m\t\u001b[0mrdx\u001b[0m, \u001b[0mrsi\u001b[0m, \u001b[0mrdx\n",
      "\u001b[90m; │ @ /home/pablo/Teaching/polytechnique/eco309/tutorials/jl_notebook_cell_df34fa98e69747e1a8f8a730347b8e2f_W4sZmlsZQ==.jl:8 within `stupid_loop`\u001b[39m\n",
      "\t\u001b[96m\u001b[1mmov\u001b[22m\u001b[39m\t\u001b[0mr8d\u001b[0m, \u001b[0medx\n",
      "\t\u001b[96m\u001b[1mmov\u001b[22m\u001b[39m\t\u001b[0mrdi\u001b[0m, \u001b[0mrdx\n",
      "\t\u001b[96m\u001b[1mlea\u001b[22m\u001b[39m\t\u001b[0mrsi\u001b[0m, \u001b[33m[\u001b[39m\u001b[0mrdx \u001b[0m- \u001b[33m1\u001b[39m\u001b[33m]\u001b[39m\n",
      "\t\u001b[96m\u001b[1mand\u001b[22m\u001b[39m\t\u001b[0mrdi\u001b[0m, \u001b[33m-4\u001b[39m\n",
      "\t\u001b[96m\u001b[1mand\u001b[22m\u001b[39m\t\u001b[0mr8d\u001b[0m, \u001b[33m3\u001b[39m\n",
      "\t\u001b[96m\u001b[1mpop\u001b[22m\u001b[39m\t\u001b[0mrbp\n",
      "\t\u001b[96m\u001b[1mjmp\u001b[22m\u001b[39m\t\u001b[0m.LBB0_4\n",
      "\t\u001b[0m.p2align\t\u001b[33m4\u001b[39m\u001b[0m, \u001b[33m0x90\u001b[39m\n",
      "\u001b[91m.LBB0_12:\u001b[39m                               \u001b[90m# %L74.loopexit.split\u001b[39m\n",
      "                                        \u001b[90m#   in Loop: Header=BB0_4 Depth=1\u001b[39m\n",
      "\u001b[90m; │ @ /home/pablo/Teaching/polytechnique/eco309/tutorials/jl_notebook_cell_df34fa98e69747e1a8f8a730347b8e2f_W4sZmlsZQ==.jl:12 within `stupid_loop`\u001b[39m\n",
      "\u001b[90m; │┌ @ range.jl:908 within `iterate`\u001b[39m\n",
      "\u001b[90m; ││┌ @ promotion.jl:639 within `==`\u001b[39m\n",
      "\t\u001b[96m\u001b[1mcmp\u001b[22m\u001b[39m\t\u001b[0mr9\u001b[0m, \u001b[0mrax\n",
      "\u001b[90m; ││└\u001b[39m\n",
      "\t\u001b[96m\u001b[1mlea\u001b[22m\u001b[39m\t\u001b[0mr9\u001b[0m, \u001b[33m[\u001b[39m\u001b[0mr9 \u001b[0m+ \u001b[33m1\u001b[39m\u001b[33m]\u001b[39m\n",
      "\u001b[90m; │└\u001b[39m\n",
      "\t\u001b[96m\u001b[1mje\u001b[22m\u001b[39m\t\u001b[0m.LBB0_13\n",
      "\u001b[91m.LBB0_4:\u001b[39m                                \u001b[90m# %L16\u001b[39m\n",
      "                                        \u001b[90m# =>This Loop Header: Depth=1\u001b[39m\n",
      "                                        \u001b[90m#     Child Loop BB0_5 Depth 2\u001b[39m\n",
      "                                        \u001b[90m#       Child Loop BB0_7 Depth 3\u001b[39m\n",
      "                                        \u001b[90m#       Child Loop BB0_10 Depth 3\u001b[39m\n",
      "\t\u001b[96m\u001b[1mmov\u001b[22m\u001b[39m\t\u001b[0mr10d\u001b[0m, \u001b[33m1\u001b[39m\n",
      "\t\u001b[96m\u001b[1mjmp\u001b[22m\u001b[39m\t\u001b[0m.LBB0_5\n",
      "\t\u001b[0m.p2align\t\u001b[33m4\u001b[39m\u001b[0m, \u001b[33m0x90\u001b[39m\n",
      "\u001b[91m.LBB0_11:\u001b[39m                               \u001b[90m# %L63.loopexit\u001b[39m\n",
      "                                        \u001b[90m#   in Loop: Header=BB0_5 Depth=2\u001b[39m\n",
      "\u001b[90m; │ @ /home/pablo/Teaching/polytechnique/eco309/tutorials/jl_notebook_cell_df34fa98e69747e1a8f8a730347b8e2f_W4sZmlsZQ==.jl:11 within `stupid_loop`\u001b[39m\n",
      "\u001b[90m; │┌ @ range.jl:908 within `iterate`\u001b[39m\n",
      "\u001b[90m; ││┌ @ promotion.jl:639 within `==`\u001b[39m\n",
      "\t\u001b[96m\u001b[1mcmp\u001b[22m\u001b[39m\t\u001b[0mr10\u001b[0m, \u001b[0mrcx\n",
      "\u001b[90m; ││└\u001b[39m\n",
      "\t\u001b[96m\u001b[1mlea\u001b[22m\u001b[39m\t\u001b[0mr10\u001b[0m, \u001b[33m[\u001b[39m\u001b[0mr10 \u001b[0m+ \u001b[33m1\u001b[39m\u001b[33m]\u001b[39m\n",
      "\u001b[90m; │└\u001b[39m\n",
      "\t\u001b[96m\u001b[1mje\u001b[22m\u001b[39m\t\u001b[0m.LBB0_12\n",
      "\u001b[91m.LBB0_5:\u001b[39m                                \u001b[90m# %L33\u001b[39m\n",
      "                                        \u001b[90m#   Parent Loop BB0_4 Depth=1\u001b[39m\n",
      "                                        \u001b[90m# =>  This Loop Header: Depth=2\u001b[39m\n",
      "                                        \u001b[90m#       Child Loop BB0_7 Depth 3\u001b[39m\n",
      "                                        \u001b[90m#       Child Loop BB0_10 Depth 3\u001b[39m\n",
      "\u001b[90m; │ @ /home/pablo/Teaching/polytechnique/eco309/tutorials/jl_notebook_cell_df34fa98e69747e1a8f8a730347b8e2f_W4sZmlsZQ==.jl:10 within `stupid_loop`\u001b[39m\n",
      "\t\u001b[96m\u001b[1mcmp\u001b[22m\u001b[39m\t\u001b[0mrsi\u001b[0m, \u001b[33m3\u001b[39m\n",
      "\t\u001b[96m\u001b[1mjb\u001b[22m\u001b[39m\t\u001b[0m.LBB0_8\n",
      "\u001b[90m# %bb.6:                                # %L33.new\u001b[39m\n",
      "                                        \u001b[90m#   in Loop: Header=BB0_5 Depth=2\u001b[39m\n",
      "\t\u001b[96m\u001b[1mmov\u001b[22m\u001b[39m\t\u001b[0mr11\u001b[0m, \u001b[0mrdi\n",
      "\t\u001b[0m.p2align\t\u001b[33m4\u001b[39m\u001b[0m, \u001b[33m0x90\u001b[39m\n",
      "\u001b[91m.LBB0_7:\u001b[39m                                \u001b[90m# %L50\u001b[39m\n",
      "                                        \u001b[90m#   Parent Loop BB0_4 Depth=1\u001b[39m\n",
      "                                        \u001b[90m#     Parent Loop BB0_5 Depth=2\u001b[39m\n",
      "                                        \u001b[90m# =>    This Inner Loop Header: Depth=3\u001b[39m\n",
      "\u001b[90m; │ @ /home/pablo/Teaching/polytechnique/eco309/tutorials/jl_notebook_cell_df34fa98e69747e1a8f8a730347b8e2f_W4sZmlsZQ==.jl:9 within `stupid_loop`\u001b[39m\n",
      "\u001b[90m; │┌ @ float.jl:491 within `+`\u001b[39m\n",
      "\t\u001b[96m\u001b[1mvaddsd\u001b[22m\u001b[39m\t\u001b[0mxmm0\u001b[0m, \u001b[0mxmm0\u001b[0m, \u001b[0mxmm1\n",
      "\u001b[90m; │└\u001b[39m\n",
      "\u001b[90m; │ @ /home/pablo/Teaching/polytechnique/eco309/tutorials/jl_notebook_cell_df34fa98e69747e1a8f8a730347b8e2f_W4sZmlsZQ==.jl:10 within `stupid_loop`\u001b[39m\n",
      "\t\u001b[96m\u001b[1madd\u001b[22m\u001b[39m\t\u001b[0mr11\u001b[0m, \u001b[33m-4\u001b[39m\n",
      "\u001b[90m; │ @ /home/pablo/Teaching/polytechnique/eco309/tutorials/jl_notebook_cell_df34fa98e69747e1a8f8a730347b8e2f_W4sZmlsZQ==.jl:9 within `stupid_loop`\u001b[39m\n",
      "\u001b[90m; │┌ @ float.jl:491 within `+`\u001b[39m\n",
      "\t\u001b[96m\u001b[1mvaddsd\u001b[22m\u001b[39m\t\u001b[0mxmm0\u001b[0m, \u001b[0mxmm0\u001b[0m, \u001b[0mxmm1\n",
      "\t\u001b[96m\u001b[1mvaddsd\u001b[22m\u001b[39m\t\u001b[0mxmm0\u001b[0m, \u001b[0mxmm0\u001b[0m, \u001b[0mxmm1\n",
      "\t\u001b[96m\u001b[1mvaddsd\u001b[22m\u001b[39m\t\u001b[0mxmm0\u001b[0m, \u001b[0mxmm0\u001b[0m, \u001b[0mxmm1\n",
      "\u001b[90m; │└\u001b[39m\n",
      "\u001b[90m; │ @ /home/pablo/Teaching/polytechnique/eco309/tutorials/jl_notebook_cell_df34fa98e69747e1a8f8a730347b8e2f_W4sZmlsZQ==.jl:10 within `stupid_loop`\u001b[39m\n",
      "\t\u001b[96m\u001b[1mjne\u001b[22m\u001b[39m\t\u001b[0m.LBB0_7\n",
      "\u001b[91m.LBB0_8:\u001b[39m                                \u001b[90m# %L63.loopexit.unr-lcssa\u001b[39m\n",
      "                                        \u001b[90m#   in Loop: Header=BB0_5 Depth=2\u001b[39m\n",
      "\t\u001b[96m\u001b[1mtest\u001b[22m\u001b[39m\t\u001b[0mdl\u001b[0m, \u001b[33m3\u001b[39m\n",
      "\t\u001b[96m\u001b[1mje\u001b[22m\u001b[39m\t\u001b[0m.LBB0_11\n",
      "\u001b[90m# %bb.9:                                # %L50.epil.preheader\u001b[39m\n",
      "                                        \u001b[90m#   in Loop: Header=BB0_5 Depth=2\u001b[39m\n",
      "\t\u001b[96m\u001b[1mmov\u001b[22m\u001b[39m\t\u001b[0mr11\u001b[0m, \u001b[0mr8\n",
      "\t\u001b[0m.p2align\t\u001b[33m4\u001b[39m\u001b[0m, \u001b[33m0x90\u001b[39m\n",
      "\u001b[91m.LBB0_10:\u001b[39m                               \u001b[90m# %L50.epil\u001b[39m\n",
      "                                        \u001b[90m#   Parent Loop BB0_4 Depth=1\u001b[39m\n",
      "                                        \u001b[90m#     Parent Loop BB0_5 Depth=2\u001b[39m\n",
      "                                        \u001b[90m# =>    This Inner Loop Header: Depth=3\u001b[39m\n",
      "\u001b[90m; │ @ /home/pablo/Teaching/polytechnique/eco309/tutorials/jl_notebook_cell_df34fa98e69747e1a8f8a730347b8e2f_W4sZmlsZQ==.jl:9 within `stupid_loop`\u001b[39m\n",
      "\u001b[90m; │┌ @ float.jl:491 within `+`\u001b[39m\n",
      "\t\u001b[96m\u001b[1mvaddsd\u001b[22m\u001b[39m\t\u001b[0mxmm0\u001b[0m, \u001b[0mxmm0\u001b[0m, \u001b[0mxmm1\n",
      "\u001b[90m; │└\u001b[39m\n",
      "\u001b[90m; │ @ /home/pablo/Teaching/polytechnique/eco309/tutorials/jl_notebook_cell_df34fa98e69747e1a8f8a730347b8e2f_W4sZmlsZQ==.jl:10 within `stupid_loop`\u001b[39m\n",
      "\t\u001b[96m\u001b[1madd\u001b[22m\u001b[39m\t\u001b[0mr11\u001b[0m, \u001b[33m-1\u001b[39m\n",
      "\t\u001b[96m\u001b[1mjne\u001b[22m\u001b[39m\t\u001b[0m.LBB0_10\n",
      "\t\u001b[96m\u001b[1mjmp\u001b[22m\u001b[39m\t\u001b[0m.LBB0_11\n",
      "\u001b[91m.LBB0_13:\u001b[39m                               \u001b[90m# %L85\u001b[39m\n",
      "\u001b[90m; │ @ /home/pablo/Teaching/polytechnique/eco309/tutorials/jl_notebook_cell_df34fa98e69747e1a8f8a730347b8e2f_W4sZmlsZQ==.jl:13 within `stupid_loop`\u001b[39m\n",
      "\t\u001b[96m\u001b[1mret\u001b[22m\u001b[39m\n",
      "\u001b[91m.Lfunc_end0:\u001b[39m\n",
      "\t\u001b[0m.size\t\u001b[0mjulia_stupid_loop_6783\u001b[0m, \u001b[0m.Lfunc_end0-julia_stupid_loop_6783\n",
      "\u001b[90m; └\u001b[39m\n",
      "                                        \u001b[90m# -- End function\u001b[39m\n",
      "\t\u001b[0m.type\t\u001b[0m\".L+Core.Float64#6785\"\u001b[0m,\u001b[0m@object  \u001b[90m# @\"+Core.Float64#6785\"\u001b[39m\n",
      "\t\u001b[0m.section\t\u001b[0m.rodata\u001b[0m,\u001b[0m\"a\"\u001b[0m,\u001b[0m@progbits\n",
      "\t\u001b[0m.p2align\t\u001b[33m3\u001b[39m\u001b[0m, \u001b[33m0x0\u001b[39m\n",
      "\u001b[91m\".L+Core.Float64#6785\":\u001b[39m\n",
      "\t\u001b[0m.quad\t\u001b[0m\".L+Core.Float64#6785.jit\"\n",
      "\t\u001b[0m.size\t\u001b[0m\".L+Core.Float64#6785\"\u001b[0m, \u001b[33m8\u001b[39m\n",
      "\n",
      "\u001b[0m.set \u001b[0m\".L+Core.Float64#6785.jit\"\u001b[0m, \u001b[33m126257775752480\u001b[39m\n",
      "\t\u001b[0m.size\t\u001b[0m\".L+Core.Float64#6785.jit\"\u001b[0m, \u001b[33m8\u001b[39m\n",
      "\t\u001b[0m.section\t\u001b[0m\".note.GNU-stack\"\u001b[0m,\u001b[0m\"\"\u001b[0m,\u001b[0m@progbits\n"
     ]
    }
   ],
   "source": [
    "@code_native stupid_loop(10,10,10)"
   ]
  },
  {
   "cell_type": "markdown",
   "metadata": {},
   "source": [
    "### Syntax Review"
   ]
  },
  {
   "cell_type": "markdown",
   "metadata": {},
   "source": [
    "#### Variable assignment\n",
    "\n",
    "Assignement operator is = (equality is ==, identity is ===)"
   ]
  },
  {
   "cell_type": "code",
   "execution_count": null,
   "metadata": {},
   "outputs": [],
   "source": [
    "# Assign the value 10 to the variable x\n",
    "x = 10"
   ]
  },
  {
   "cell_type": "code",
   "execution_count": null,
   "metadata": {},
   "outputs": [],
   "source": [
    "2 == 3"
   ]
  },
  {
   "cell_type": "code",
   "execution_count": null,
   "metadata": {},
   "outputs": [],
   "source": [
    "# Variable names can have Unicode characters\n",
    "# To get ϵ in the REPL, type \\epsilon<TAB>\n",
    "ϵ = 1e-4"
   ]
  },
  {
   "cell_type": "markdown",
   "metadata": {},
   "source": [
    "Default semantic is pass-by-reference:"
   ]
  },
  {
   "cell_type": "code",
   "execution_count": null,
   "metadata": {},
   "outputs": [],
   "source": [
    "a = [1,2,3,4]\n",
    "b = a\n",
    "a[1] = 10\n",
    "b"
   ]
  },
  {
   "cell_type": "markdown",
   "metadata": {},
   "source": [
    "To work on a copy: `copy` or `deepcopy`"
   ]
  },
  {
   "cell_type": "code",
   "execution_count": null,
   "metadata": {},
   "outputs": [],
   "source": [
    "a = [1,2,3,4]\n",
    "b = copy(a)\n",
    "a[1]=10\n",
    "b"
   ]
  },
  {
   "cell_type": "code",
   "execution_count": null,
   "metadata": {},
   "outputs": [],
   "source": [
    "a .== b"
   ]
  },
  {
   "cell_type": "code",
   "execution_count": null,
   "metadata": {},
   "outputs": [],
   "source": [
    "a === b"
   ]
  },
  {
   "cell_type": "markdown",
   "metadata": {},
   "source": [
    "#### Basic types"
   ]
  },
  {
   "cell_type": "code",
   "execution_count": null,
   "metadata": {},
   "outputs": [],
   "source": [
    "# for any object `typeof` returns the type\n",
    "?typeof"
   ]
  },
  {
   "cell_type": "code",
   "execution_count": null,
   "metadata": {},
   "outputs": [],
   "source": [
    "typeof(a)"
   ]
  },
  {
   "cell_type": "markdown",
   "metadata": {},
   "source": [
    "#### Numbers"
   ]
  },
  {
   "cell_type": "code",
   "execution_count": null,
   "metadata": {},
   "outputs": [],
   "source": [
    "y = 2 + 2"
   ]
  },
  {
   "cell_type": "code",
   "execution_count": null,
   "metadata": {},
   "outputs": [],
   "source": [
    "-y"
   ]
  },
  {
   "cell_type": "code",
   "execution_count": null,
   "metadata": {},
   "outputs": [],
   "source": [
    "0.34*23"
   ]
  },
  {
   "cell_type": "code",
   "execution_count": null,
   "metadata": {},
   "outputs": [],
   "source": [
    "3/4"
   ]
  },
  {
   "cell_type": "code",
   "execution_count": null,
   "metadata": {},
   "outputs": [],
   "source": [
    "# Scalar multiplication doesn't require *\n",
    "3(4 - 2)"
   ]
  },
  {
   "cell_type": "code",
   "execution_count": null,
   "metadata": {},
   "outputs": [],
   "source": [
    "x = 4\n",
    "2x"
   ]
  },
  {
   "cell_type": "code",
   "execution_count": null,
   "metadata": {},
   "outputs": [],
   "source": [
    "typeof(x)"
   ]
  },
  {
   "cell_type": "code",
   "execution_count": null,
   "metadata": {},
   "outputs": [],
   "source": [
    "sizeof(a)"
   ]
  },
  {
   "cell_type": "markdown",
   "metadata": {},
   "source": [
    "#### Booleans"
   ]
  },
  {
   "cell_type": "markdown",
   "metadata": {},
   "source": [
    "Equality"
   ]
  },
  {
   "cell_type": "code",
   "execution_count": null,
   "metadata": {},
   "outputs": [],
   "source": [
    "0 == 1"
   ]
  },
  {
   "cell_type": "code",
   "execution_count": null,
   "metadata": {},
   "outputs": [],
   "source": [
    "2 != 3"
   ]
  },
  {
   "cell_type": "code",
   "execution_count": null,
   "metadata": {},
   "outputs": [],
   "source": [
    "3 <= 4"
   ]
  },
  {
   "cell_type": "markdown",
   "metadata": {},
   "source": [
    "Identity"
   ]
  },
  {
   "cell_type": "code",
   "execution_count": null,
   "metadata": {},
   "outputs": [],
   "source": [
    "a = [34, 35]\n",
    "b = [34, 35]\n",
    "c = a"
   ]
  },
  {
   "cell_type": "code",
   "execution_count": null,
   "metadata": {},
   "outputs": [],
   "source": [
    "c === a"
   ]
  },
  {
   "cell_type": "code",
   "execution_count": null,
   "metadata": {},
   "outputs": [],
   "source": [
    "b === a"
   ]
  },
  {
   "cell_type": "markdown",
   "metadata": {},
   "source": [
    "Boolean operator"
   ]
  },
  {
   "cell_type": "code",
   "execution_count": null,
   "metadata": {},
   "outputs": [],
   "source": [
    "true && false"
   ]
  },
  {
   "cell_type": "code",
   "execution_count": null,
   "metadata": {},
   "outputs": [],
   "source": [
    "true || false"
   ]
  },
  {
   "cell_type": "code",
   "execution_count": null,
   "metadata": {},
   "outputs": [],
   "source": [
    "!true"
   ]
  },
  {
   "cell_type": "markdown",
   "metadata": {},
   "source": [
    "#### Strings"
   ]
  },
  {
   "cell_type": "code",
   "execution_count": null,
   "metadata": {},
   "outputs": [],
   "source": [
    "# Strings are written using double quotes\n",
    "str = \"This is a string\""
   ]
  },
  {
   "cell_type": "code",
   "execution_count": null,
   "metadata": {},
   "outputs": [],
   "source": [
    "ch = 'k' # this is a character"
   ]
  },
  {
   "cell_type": "code",
   "execution_count": null,
   "metadata": {},
   "outputs": [],
   "source": [
    "# Strings can also contain Unicode characters\n",
    "fancy_str = \"α is a string\""
   ]
  },
  {
   "cell_type": "code",
   "execution_count": null,
   "metadata": {},
   "outputs": [],
   "source": [
    "# String interpolation using $\n",
    "# The expression in parentheses is evaluated and the result is \n",
    "# inserted into the string\n",
    "a = 2+2\n",
    "\"2 + 2 = $(a)\""
   ]
  },
  {
   "cell_type": "code",
   "execution_count": null,
   "metadata": {},
   "outputs": [],
   "source": [
    "println(\"It took me $(a) iterations\")"
   ]
  },
  {
   "cell_type": "code",
   "execution_count": null,
   "metadata": {},
   "outputs": [],
   "source": [
    "# String concatenation using *\n",
    "\"hello\" * \"world\""
   ]
  },
  {
   "cell_type": "code",
   "execution_count": null,
   "metadata": {},
   "outputs": [],
   "source": [
    "println(\"hello \", \"world\")"
   ]
  },
  {
   "cell_type": "markdown",
   "metadata": {},
   "source": [
    "#### Arrays"
   ]
  },
  {
   "cell_type": "markdown",
   "metadata": {},
   "source": [
    "Julia has one-dimensional arrays. They are also called Vector."
   ]
  },
  {
   "cell_type": "code",
   "execution_count": 1,
   "metadata": {},
   "outputs": [
    {
     "data": {
      "text/plain": [
       "2-element Array{Int64,1}:\n",
       " 1\n",
       " 2"
      ]
     },
     "execution_count": 1,
     "metadata": {},
     "output_type": "execute_result"
    }
   ],
   "source": [
    "A = [1, 2]"
   ]
  },
  {
   "cell_type": "code",
   "execution_count": 2,
   "metadata": {},
   "outputs": [
    {
     "data": {
      "text/plain": [
       "16"
      ]
     },
     "execution_count": 2,
     "metadata": {},
     "output_type": "execute_result"
    }
   ],
   "source": [
    "sizeof(A)"
   ]
  },
  {
   "cell_type": "code",
   "execution_count": null,
   "metadata": {},
   "outputs": [],
   "source": [
    "typeof(A) == Vector{Int64}"
   ]
  },
  {
   "cell_type": "code",
   "execution_count": 5,
   "metadata": {},
   "outputs": [
    {
     "data": {
      "text/plain": [
       "1"
      ]
     },
     "execution_count": 5,
     "metadata": {},
     "output_type": "execute_result"
    }
   ],
   "source": [
    "# vectors have one dimension: they are indexed by an integer\n",
    "A[1]"
   ]
  },
  {
   "cell_type": "markdown",
   "metadata": {},
   "source": [
    "2d arrays are also called matrices... and can be used for matrix multiplications."
   ]
  },
  {
   "cell_type": "code",
   "execution_count": 15,
   "metadata": {},
   "outputs": [
    {
     "data": {
      "text/plain": [
       "2×3 Array{Float64,2}:\n",
       " 0.1  0.2  0.3\n",
       " 4.0  5.0  6.0"
      ]
     },
     "execution_count": 15,
     "metadata": {},
     "output_type": "execute_result"
    }
   ],
   "source": [
    "B = [0.1 0.2 0.3; 4 5 6]"
   ]
  },
  {
   "cell_type": "code",
   "execution_count": 14,
   "metadata": {},
   "outputs": [
    {
     "data": {
      "text/plain": [
       "2×2 Array{Float64,2}:\n",
       " 0.14   3.2\n",
       " 3.2   77.0"
      ]
     },
     "execution_count": 14,
     "metadata": {},
     "output_type": "execute_result"
    }
   ],
   "source": [
    "B*B'"
   ]
  },
  {
   "cell_type": "markdown",
   "metadata": {},
   "source": [
    "Vectorized operations take a ., even comparisons:"
   ]
  },
  {
   "cell_type": "code",
   "execution_count": 16,
   "metadata": {},
   "outputs": [
    {
     "data": {
      "text/plain": [
       "2×3 Array{Float64,2}:\n",
       "  0.01   0.04   0.09\n",
       " 16.0   25.0   36.0"
      ]
     },
     "execution_count": 16,
     "metadata": {},
     "output_type": "execute_result"
    }
   ],
   "source": [
    "B.*B"
   ]
  },
  {
   "cell_type": "code",
   "execution_count": 17,
   "metadata": {},
   "outputs": [
    {
     "data": {
      "text/plain": [
       "2×3 BitArray{2}:\n",
       " 1  1  1\n",
       " 0  0  0"
      ]
     },
     "execution_count": 17,
     "metadata": {},
     "output_type": "execute_result"
    }
   ],
   "source": [
    "B .* B .< B"
   ]
  },
  {
   "cell_type": "markdown",
   "metadata": {},
   "source": [
    "Elements are always accessed with square brackets:"
   ]
  },
  {
   "cell_type": "code",
   "execution_count": 22,
   "metadata": {},
   "outputs": [
    {
     "data": {
      "text/plain": [
       "0.2"
      ]
     },
     "execution_count": 22,
     "metadata": {},
     "output_type": "execute_result"
    }
   ],
   "source": [
    "B[1,2]"
   ]
  },
  {
   "cell_type": "code",
   "execution_count": 23,
   "metadata": {},
   "outputs": [
    {
     "data": {
      "text/plain": [
       "2-element Array{Float64,1}:\n",
       " 0.1\n",
       " 4.0"
      ]
     },
     "execution_count": 23,
     "metadata": {},
     "output_type": "execute_result"
    }
   ],
   "source": [
    "B[:,1]"
   ]
  },
  {
   "cell_type": "code",
   "execution_count": 24,
   "metadata": {},
   "outputs": [
    {
     "data": {
      "text/plain": [
       "2×2 Array{Float64,2}:\n",
       " 0.1  0.2\n",
       " 4.0  5.0"
      ]
     },
     "execution_count": 24,
     "metadata": {},
     "output_type": "execute_result"
    }
   ],
   "source": [
    "B[:,1:end-1]"
   ]
  },
  {
   "cell_type": "markdown",
   "metadata": {},
   "source": [
    "#### Control flow"
   ]
  },
  {
   "cell_type": "markdown",
   "metadata": {},
   "source": [
    "Conditions"
   ]
  },
  {
   "cell_type": "code",
   "execution_count": 25,
   "metadata": {},
   "outputs": [
    {
     "name": "stdout",
     "output_type": "stream",
     "text": [
      "x is negative\n"
     ]
    }
   ],
   "source": [
    "x = -3\n",
    "if x < 0\n",
    "    println(\"x is negative\")\n",
    "elseif x > 0 # optional and unlimited\n",
    "    println(\"x is positive\")\n",
    "else         # optional\n",
    "    println(\"x is zero\")\n",
    "end"
   ]
  },
  {
   "cell_type": "markdown",
   "metadata": {},
   "source": [
    "While"
   ]
  },
  {
   "cell_type": "code",
   "execution_count": 29,
   "metadata": {},
   "outputs": [
    {
     "name": "stdout",
     "output_type": "stream",
     "text": [
      "3\n",
      "2\n",
      "1\n"
     ]
    }
   ],
   "source": [
    "i = 3\n",
    "while i > 0\n",
    "    println(i)\n",
    "    i = i - 1\n",
    "end"
   ]
  },
  {
   "cell_type": "markdown",
   "metadata": {},
   "source": [
    "For loops"
   ]
  },
  {
   "cell_type": "code",
   "execution_count": 31,
   "metadata": {},
   "outputs": [
    {
     "name": "stdout",
     "output_type": "stream",
     "text": [
      "1\n",
      "2\n"
     ]
    }
   ],
   "source": [
    "# Iterate through ranges of numbers\n",
    "for i = 1:3\n",
    "    println(i)\n",
    "    \n",
    "    if i == 2\n",
    "        break\n",
    "    end\n",
    "end"
   ]
  },
  {
   "cell_type": "code",
   "execution_count": 34,
   "metadata": {},
   "outputs": [
    {
     "name": "stdout",
     "output_type": "stream",
     "text": [
      "Boston\n",
      "New York\n",
      "Philadelphia\n"
     ]
    }
   ],
   "source": [
    "# Iterate through arrays\n",
    "cities = [\"Boston\", \"New York\", \"Philadelphia\"]\n",
    "for city in cities\n",
    "    println(city)\n",
    "end"
   ]
  },
  {
   "cell_type": "code",
   "execution_count": 41,
   "metadata": {},
   "outputs": [
    {
     "name": "stdout",
     "output_type": "stream",
     "text": [
      "(\"Boston\", \"MA\")\n",
      "(\"New York\", \"NY\")\n",
      "(\"Philadelphia\", \"PA\")\n"
     ]
    }
   ],
   "source": [
    "for t in zip(cities, states)\n",
    "    println(t)\n",
    "end\n"
   ]
  },
  {
   "cell_type": "code",
   "execution_count": 42,
   "metadata": {},
   "outputs": [
    {
     "name": "stdout",
     "output_type": "stream",
     "text": [
      "Boston, MA\n",
      "New York, NY\n",
      "Philadelphia, PA\n"
     ]
    }
   ],
   "source": [
    "# Iterate through arrays of tuples using zip\n",
    "for (city, state) in zip(cities, states)\n",
    "    println(\"$city, $state\")\n",
    "end"
   ]
  },
  {
   "cell_type": "code",
   "execution_count": 43,
   "metadata": {},
   "outputs": [
    {
     "name": "stdout",
     "output_type": "stream",
     "text": [
      "City number 1 is Boston\n",
      "City number 2 is New York\n",
      "City number 3 is Philadelphia\n"
     ]
    }
   ],
   "source": [
    "# Iterate through arrays and their indices using enumerate\n",
    "for (i, city) in enumerate(cities)\n",
    "    println(\"City number $i is $city\")\n",
    "end"
   ]
  },
  {
   "cell_type": "markdown",
   "metadata": {},
   "source": [
    "#### List comprehensions"
   ]
  },
  {
   "cell_type": "code",
   "execution_count": 44,
   "metadata": {},
   "outputs": [
    {
     "data": {
      "text/plain": [
       "10-element Array{Int64,1}:\n",
       "   1\n",
       "   4\n",
       "   9\n",
       "  16\n",
       "  25\n",
       "  36\n",
       "  49\n",
       "  64\n",
       "  81\n",
       " 100"
      ]
     },
     "execution_count": 44,
     "metadata": {},
     "output_type": "execute_result"
    }
   ],
   "source": [
    "[i^2 for i=1:10]"
   ]
  },
  {
   "cell_type": "code",
   "execution_count": 45,
   "metadata": {},
   "outputs": [
    {
     "data": {
      "text/plain": [
       "5-element Array{Int64,1}:\n",
       "   4\n",
       "  16\n",
       "  36\n",
       "  64\n",
       " 100"
      ]
     },
     "execution_count": 45,
     "metadata": {},
     "output_type": "execute_result"
    }
   ],
   "source": [
    "[i^2 for i=1:10 if mod(i,2)==0]"
   ]
  },
  {
   "cell_type": "markdown",
   "metadata": {},
   "source": [
    "### Function definitions"
   ]
  },
  {
   "cell_type": "markdown",
   "metadata": {},
   "source": [
    "Basic functions"
   ]
  },
  {
   "cell_type": "code",
   "execution_count": 2,
   "metadata": {},
   "outputs": [
    {
     "data": {
      "text/plain": [
       "f (generic function with 1 method)"
      ]
     },
     "execution_count": 2,
     "metadata": {},
     "output_type": "execute_result"
    }
   ],
   "source": [
    "function f(a,b,c)\n",
    "    res = a + b +c\n",
    "    return res\n",
    "end"
   ]
  },
  {
   "cell_type": "code",
   "execution_count": 3,
   "metadata": {},
   "outputs": [
    {
     "data": {
      "text/plain": [
       "10"
      ]
     },
     "execution_count": 3,
     "metadata": {},
     "output_type": "execute_result"
    }
   ],
   "source": [
    "f(3,4,3)"
   ]
  },
  {
   "cell_type": "markdown",
   "metadata": {},
   "source": [
    "Optional arguments"
   ]
  },
  {
   "cell_type": "code",
   "execution_count": 4,
   "metadata": {},
   "outputs": [
    {
     "data": {
      "text/plain": [
       "f (generic function with 2 methods)"
      ]
     },
     "execution_count": 4,
     "metadata": {},
     "output_type": "execute_result"
    }
   ],
   "source": [
    "function f(a,b,c=1)\n",
    "    res = a + b +c\n",
    "    return res\n",
    "end"
   ]
  },
  {
   "cell_type": "code",
   "execution_count": 5,
   "metadata": {},
   "outputs": [
    {
     "data": {
      "text/plain": [
       "6"
      ]
     },
     "execution_count": 5,
     "metadata": {},
     "output_type": "execute_result"
    }
   ],
   "source": [
    "f(1,2,3)"
   ]
  },
  {
   "cell_type": "code",
   "execution_count": 6,
   "metadata": {},
   "outputs": [
    {
     "data": {
      "text/plain": [
       "4"
      ]
     },
     "execution_count": 6,
     "metadata": {},
     "output_type": "execute_result"
    }
   ],
   "source": [
    "f(1,2)"
   ]
  },
  {
   "attachments": {},
   "cell_type": "markdown",
   "metadata": {},
   "source": [
    "Keyword arguments"
   ]
  },
  {
   "cell_type": "code",
   "execution_count": 19,
   "metadata": {},
   "outputs": [
    {
     "data": {
      "text/plain": [
       "g (generic function with 1 method)"
      ]
     },
     "execution_count": 19,
     "metadata": {},
     "output_type": "execute_result"
    }
   ],
   "source": [
    "function g(a,b,c; operator=(+), add_one=false)\n",
    "    res = operator(a, operator( b , c) )\n",
    "    if add_one\n",
    "        res +=1\n",
    "    end\n",
    "    return res\n",
    "end"
   ]
  },
  {
   "cell_type": "code",
   "execution_count": 15,
   "metadata": {},
   "outputs": [
    {
     "data": {
      "text/plain": [
       "6"
      ]
     },
     "execution_count": 15,
     "metadata": {},
     "output_type": "execute_result"
    }
   ],
   "source": [
    "g(1,2,3)"
   ]
  },
  {
   "cell_type": "code",
   "execution_count": 16,
   "metadata": {},
   "outputs": [
    {
     "data": {
      "text/plain": [
       "1.0344827586206897"
      ]
     },
     "execution_count": 16,
     "metadata": {},
     "output_type": "execute_result"
    }
   ],
   "source": [
    "g(1.0,2.9,3.0; operator=(/))"
   ]
  },
  {
   "cell_type": "code",
   "execution_count": 20,
   "metadata": {},
   "outputs": [
    {
     "data": {
      "text/plain": [
       "2.0344827586206895"
      ]
     },
     "execution_count": 20,
     "metadata": {},
     "output_type": "execute_result"
    }
   ],
   "source": [
    "g(1.0,2.9,3.0; operator=(/), add_one=true)"
   ]
  },
  {
   "cell_type": "code",
   "execution_count": 21,
   "metadata": {},
   "outputs": [
    {
     "data": {
      "text/plain": [
       "2.0344827586206895"
      ]
     },
     "execution_count": 21,
     "metadata": {},
     "output_type": "execute_result"
    }
   ],
   "source": [
    "g(1.0,2.9,3.0; add_one=true, operator=(/), )"
   ]
  },
  {
   "cell_type": "markdown",
   "metadata": {},
   "source": [
    "One liners:"
   ]
  },
  {
   "cell_type": "code",
   "execution_count": 22,
   "metadata": {},
   "outputs": [
    {
     "data": {
      "text/plain": [
       "g (generic function with 2 methods)"
      ]
     },
     "execution_count": 22,
     "metadata": {},
     "output_type": "execute_result"
    }
   ],
   "source": [
    "g(x,y) = x^2 + y^2"
   ]
  },
  {
   "cell_type": "markdown",
   "metadata": {},
   "source": [
    "Anonymous function:"
   ]
  },
  {
   "cell_type": "code",
   "execution_count": 28,
   "metadata": {},
   "outputs": [
    {
     "data": {
      "text/plain": [
       "#12 (generic function with 1 method)"
      ]
     },
     "execution_count": 28,
     "metadata": {},
     "output_type": "execute_result"
    }
   ],
   "source": [
    "fun = (x,y) -> x^2 + 1 + y"
   ]
  },
  {
   "cell_type": "code",
   "execution_count": 29,
   "metadata": {},
   "outputs": [
    {
     "data": {
      "text/plain": [
       "10"
      ]
     },
     "execution_count": 29,
     "metadata": {},
     "output_type": "execute_result"
    }
   ],
   "source": [
    "f(1,2,3; operator=fun)"
   ]
  },
  {
   "cell_type": "markdown",
   "metadata": {},
   "source": [
    "### Data Types and multiple dispatch"
   ]
  },
  {
   "cell_type": "markdown",
   "metadata": {},
   "source": [
    "#### Composite types\n",
    "\n",
    "A **composite type** is a collection of named fields that can be treated as a single value. They bear a passing resemblance to MATLAB structs.\n",
    "\n",
    "All fields must be declared ahead of time. The double colon, `::`, constrains a field to contain values of a certain type. This is optional for any field."
   ]
  },
  {
   "cell_type": "code",
   "execution_count": 30,
   "metadata": {},
   "outputs": [],
   "source": [
    "struct Parameter_without_types\n",
    "    value\n",
    "    name\n",
    "end"
   ]
  },
  {
   "cell_type": "code",
   "execution_count": 32,
   "metadata": {},
   "outputs": [
    {
     "data": {
      "text/plain": [
       "Parameter_without_types(4.4, \"no type at all\")"
      ]
     },
     "execution_count": 32,
     "metadata": {},
     "output_type": "execute_result"
    }
   ],
   "source": [
    "s = Parameter_without_types(4.4, \"no type at all\")"
   ]
  },
  {
   "cell_type": "code",
   "execution_count": 35,
   "metadata": {},
   "outputs": [],
   "source": [
    "# Type definition\n",
    "struct Parameter\n",
    "    value::Float64\n",
    "    transformation::Function # Function is a type!\n",
    "    tex_label::String\n",
    "    description::String\n",
    "end"
   ]
  },
  {
   "cell_type": "code",
   "execution_count": 39,
   "metadata": {},
   "outputs": [
    {
     "data": {
      "text/plain": [
       "Parameter(4.0, var\"#12#13\"(), \"\\\\Gamma\", \"My parameter\")"
      ]
     },
     "execution_count": 39,
     "metadata": {},
     "output_type": "execute_result"
    }
   ],
   "source": [
    "Parameter(4,fun,\"\\\\Gamma\", \"My parameter\")"
   ]
  },
  {
   "cell_type": "markdown",
   "metadata": {},
   "source": [
    "When a type with $n$ fields is defined, a constructor (function that creates an instance of that type) that takes $n$ ordered arguments is automatically created. Additional constructors can be defined for convenience."
   ]
  },
  {
   "cell_type": "code",
   "execution_count": 40,
   "metadata": {},
   "outputs": [
    {
     "data": {
      "text/plain": [
       "Parameter(0.9, identity, \"\\beta\", \"Discount rate\")"
      ]
     },
     "execution_count": 40,
     "metadata": {},
     "output_type": "execute_result"
    }
   ],
   "source": [
    "# Creating an instance of the Parameter type using the default\n",
    "# constructor\n",
    "β = Parameter(0.9, identity, \"\\beta\", \"Discount rate\")"
   ]
  },
  {
   "cell_type": "code",
   "execution_count": 42,
   "metadata": {},
   "outputs": [
    {
     "data": {
      "text/plain": [
       "0.9"
      ]
     },
     "execution_count": 42,
     "metadata": {},
     "output_type": "execute_result"
    }
   ],
   "source": [
    "β.value"
   ]
  },
  {
   "cell_type": "code",
   "execution_count": 45,
   "metadata": {},
   "outputs": [
    {
     "data": {
      "text/plain": [
       "Parameter"
      ]
     },
     "execution_count": 45,
     "metadata": {},
     "output_type": "execute_result"
    }
   ],
   "source": [
    "Parameter(value, transformation, tex) = Parameter(value, transformation, tex, \"no description\")"
   ]
  },
  {
   "cell_type": "code",
   "execution_count": 46,
   "metadata": {},
   "outputs": [
    {
     "data": {
      "text/plain": [
       "Parameter(0.34, identity, \"\\beta\", \"no description\")"
      ]
     },
     "execution_count": 46,
     "metadata": {},
     "output_type": "execute_result"
    }
   ],
   "source": [
    "Parameter(0.34, identity, \"\\beta\")"
   ]
  },
  {
   "cell_type": "code",
   "execution_count": 48,
   "metadata": {},
   "outputs": [
    {
     "data": {
      "text/plain": [
       "Parameter"
      ]
     },
     "execution_count": 48,
     "metadata": {},
     "output_type": "execute_result"
    }
   ],
   "source": [
    "# constructor A\n",
    "Parameter(value, tex) = Parameter(value, identity, tex, \"no description\")"
   ]
  },
  {
   "cell_type": "code",
   "execution_count": 49,
   "metadata": {},
   "outputs": [
    {
     "data": {
      "text/plain": [
       "Parameter(0.1, identity, \"\\beta\", \"no description\")"
      ]
     },
     "execution_count": 49,
     "metadata": {},
     "output_type": "execute_result"
    }
   ],
   "source": [
    "Parameter(0.1, \"\\beta\")"
   ]
  },
  {
   "cell_type": "code",
   "execution_count": 50,
   "metadata": {},
   "outputs": [
    {
     "data": {
      "text/plain": [
       "Parameter"
      ]
     },
     "execution_count": 50,
     "metadata": {},
     "output_type": "execute_result"
    }
   ],
   "source": [
    "# constructor B\n",
    "Parameter(value, transformation)  = Parameter(value, transformation, \"notex\", \"no description\")"
   ]
  },
  {
   "cell_type": "code",
   "execution_count": null,
   "metadata": {},
   "outputs": [
    {
     "ename": "LoadError",
     "evalue": "MethodError: \u001b[0mCannot `convert` an object of type \u001b[92mString\u001b[39m\u001b[0m to an object of type \u001b[91mFunction\u001b[39m\n\u001b[0mClosest candidates are:\n\u001b[0m  convert(::Type{T}, \u001b[91m::T\u001b[39m) where T at essentials.jl:205",
     "output_type": "error",
     "traceback": [
      "MethodError: \u001b[0mCannot `convert` an object of type \u001b[92mString\u001b[39m\u001b[0m to an object of type \u001b[91mFunction\u001b[39m\n\u001b[0mClosest candidates are:\n\u001b[0m  convert(::Type{T}, \u001b[91m::T\u001b[39m) where T at essentials.jl:205",
      "",
      "Stacktrace:",
      " [1] Parameter(value::Float64, transformation::String, tex_label::String, description::String)",
      "   @ Main ./In[35]:3",
      " [2] Parameter(value::Float64, transformation::String)",
      "   @ Main ./In[50]:2",
      " [3] top-level scope",
      "   @ In[51]:1",
      " [4] eval",
      "   @ ./boot.jl:360 [inlined]",
      " [5] include_string(mapexpr::typeof(REPL.softscope), mod::Module, code::String, filename::String)",
      "   @ Base ./loading.jl:1094"
     ]
    }
   ],
   "source": [
    "Parameter(0.1, \"\\beta\")"
   ]
  },
  {
   "cell_type": "code",
   "execution_count": 15,
   "metadata": {},
   "outputs": [],
   "source": [
    "# here Julia doesn't know whether it should call constructor A or constructor B"
   ]
  },
  {
   "cell_type": "code",
   "execution_count": 55,
   "metadata": {},
   "outputs": [
    {
     "data": {
      "text/plain": [
       "Parameter"
      ]
     },
     "execution_count": 55,
     "metadata": {},
     "output_type": "execute_result"
    }
   ],
   "source": [
    "# solution : give different signatures to the various constructors\n",
    "Parameter(value, tex::String)               = Parameter(value, identity, tex, \"no description\")\n",
    "Parameter(value, transformation::Function)  = Parameter(value, transformation, \"notex\", \"no description\")"
   ]
  },
  {
   "cell_type": "code",
   "execution_count": 53,
   "metadata": {},
   "outputs": [
    {
     "data": {
      "text/plain": [
       "Parameter(0.5, identity, \"\\beta\", \"no description\")"
      ]
     },
     "execution_count": 53,
     "metadata": {},
     "output_type": "execute_result"
    }
   ],
   "source": [
    "Parameter(0.5, \"\\beta\")"
   ]
  },
  {
   "cell_type": "code",
   "execution_count": 54,
   "metadata": {},
   "outputs": [
    {
     "data": {
      "text/plain": [
       "Parameter(0.9, var\"#14#15\"(), \"notex\", \"no description\")"
      ]
     },
     "execution_count": 54,
     "metadata": {},
     "output_type": "execute_result"
    }
   ],
   "source": [
    "Parameter(0.9, u->u^2)"
   ]
  },
  {
   "cell_type": "code",
   "execution_count": 56,
   "metadata": {},
   "outputs": [
    {
     "data": {
      "text/html": [
       "# 6 methods for type constructor:<ul><li> Parameter(value::<b>Float64</b>, transformation::<b>Function</b>, tex_label::<b>String</b>, description::<b>String</b>) in Main at In[35]:3</li> <li> Parameter(value, tex::<b>String</b>) in Main at In[55]:2</li> <li> Parameter(value, transformation::<b>Function</b>) in Main at In[55]:3</li> <li> Parameter(value, transformation) in Main at In[50]:2</li> <li> Parameter(value, transformation, tex) in Main at In[45]:1</li> <li> Parameter(value, transformation, tex_label, description) in Main at In[35]:3</li> </ul>"
      ],
      "text/plain": [
       "# 6 methods for type constructor:\n",
       "[1] Parameter(value::Float64, transformation::Function, tex_label::String, description::String) in Main at In[35]:3\n",
       "[2] Parameter(value, tex::String) in Main at In[55]:2\n",
       "[3] Parameter(value, transformation::Function) in Main at In[55]:3\n",
       "[4] Parameter(value, transformation) in Main at In[50]:2\n",
       "[5] Parameter(value, transformation, tex) in Main at In[45]:1\n",
       "[6] Parameter(value, transformation, tex_label, description) in Main at In[35]:3"
      ]
     },
     "execution_count": 56,
     "metadata": {},
     "output_type": "execute_result"
    }
   ],
   "source": [
    "methods( Parameter )"
   ]
  },
  {
   "cell_type": "code",
   "execution_count": 8,
   "metadata": {},
   "outputs": [
    {
     "data": {
      "text/plain": [
       "Parameter(0.5, identity, \"\\alpha\", \"No description available\")"
      ]
     },
     "execution_count": 8,
     "metadata": {},
     "output_type": "execute_result"
    }
   ],
   "source": [
    "# Alternative constructors end with an appeal to the default\n",
    "# constructor\n",
    "function Parameter(value::Float64, tex_label::String)\n",
    "    transformation = identity\n",
    "    description = \"No description available\"\n",
    "    return Parameter(value, transformation, tex_label, description)\n",
    "end\n",
    "\n",
    "α = Parameter(0.5, \"\\alpha\")"
   ]
  },
  {
   "cell_type": "markdown",
   "metadata": {},
   "source": [
    "Now the function `Parameter` has two different `methods` with different signatures:"
   ]
  },
  {
   "cell_type": "code",
   "execution_count": 9,
   "metadata": {},
   "outputs": [
    {
     "data": {
      "text/html": [
       "# 4 methods for type constructor:<ul><li> Parameter(value::<b>Float64</b>, transformation::<b>Function</b>, tex_label::<b>String</b>, description::<b>String</b>) in Main at In[1]:3</li> <li> Parameter(value::<b>Float64</b>, tex_label::<b>String</b>) in Main at In[8]:4</li> <li> Parameter(value, transformation, tex) in Main at In[5]:1</li> <li> Parameter(value, transformation, tex_label, description) in Main at In[1]:3</li> </ul>"
      ],
      "text/plain": [
       "# 4 methods for type constructor:\n",
       "[1] Parameter(value::Float64, transformation::Function, tex_label::String, description::String) in Main at In[1]:3\n",
       "[2] Parameter(value::Float64, tex_label::String) in Main at In[8]:4\n",
       "[3] Parameter(value, transformation, tex) in Main at In[5]:1\n",
       "[4] Parameter(value, transformation, tex_label, description) in Main at In[1]:3"
      ]
     },
     "execution_count": 9,
     "metadata": {},
     "output_type": "execute_result"
    }
   ],
   "source": [
    "methods(Parameter)"
   ]
  },
  {
   "cell_type": "code",
   "execution_count": null,
   "metadata": {},
   "outputs": [],
   "source": [
    "# Find the fields of an instance of a composite type\n",
    "fieldnames(α)"
   ]
  },
  {
   "cell_type": "code",
   "execution_count": null,
   "metadata": {},
   "outputs": [],
   "source": [
    "α.tex_label"
   ]
  },
  {
   "cell_type": "code",
   "execution_count": null,
   "metadata": {},
   "outputs": [],
   "source": [
    "# Access a particular field using .\n",
    "α.value"
   ]
  },
  {
   "cell_type": "code",
   "execution_count": null,
   "metadata": {},
   "outputs": [],
   "source": [
    "# Fields are modifiable and can be assigned to, like \n",
    "# ordinary variables\n",
    "α.value = 0.75"
   ]
  },
  {
   "cell_type": "markdown",
   "metadata": {},
   "source": [
    "### Mutable vs non mutable types\n"
   ]
  },
  {
   "cell_type": "markdown",
   "metadata": {},
   "source": [
    "by default structures in Julia are non-mutable"
   ]
  },
  {
   "cell_type": "code",
   "execution_count": 77,
   "metadata": {},
   "outputs": [
    {
     "ename": "LoadError",
     "evalue": "setfield! immutable struct of type Parameter cannot be changed",
     "output_type": "error",
     "traceback": [
      "setfield! immutable struct of type Parameter cannot be changed",
      "",
      "Stacktrace:",
      " [1] setproperty!(x::Parameter, f::Symbol, v::Float64)",
      "   @ Base ./Base.jl:34",
      " [2] top-level scope",
      "   @ In[77]:1",
      " [3] eval",
      "   @ ./boot.jl:360 [inlined]",
      " [4] include_string(mapexpr::typeof(REPL.softscope), mod::Module, code::String, filename::String)",
      "   @ Base ./loading.jl:1094"
     ]
    }
   ],
   "source": [
    "β.value = 0.6"
   ]
  },
  {
   "cell_type": "code",
   "execution_count": 13,
   "metadata": {},
   "outputs": [],
   "source": [
    "mutable struct Params\n",
    "    x:: Float64\n",
    "    y:: Float64\n",
    "end"
   ]
  },
  {
   "cell_type": "code",
   "execution_count": 14,
   "metadata": {},
   "outputs": [
    {
     "data": {
      "text/plain": [
       "Params(0.4, 0.2)"
      ]
     },
     "execution_count": 14,
     "metadata": {},
     "output_type": "execute_result"
    }
   ],
   "source": [
    "pos = Params(0.4, 0.2)"
   ]
  },
  {
   "cell_type": "code",
   "execution_count": 15,
   "metadata": {},
   "outputs": [
    {
     "data": {
      "text/plain": [
       "0.5"
      ]
     },
     "execution_count": 15,
     "metadata": {},
     "output_type": "execute_result"
    }
   ],
   "source": [
    "pos.x = 0.5"
   ]
  },
  {
   "cell_type": "markdown",
   "metadata": {},
   "source": [
    "### Parameterized Types\n",
    "\n",
    "**Parameterized types** are data types that are defined to handle values identically regardless of the type of those values.\n",
    "\n",
    "Arrays are a familiar example. An `Array{T,1}` is a one-dimensional array filled with objects of any type `T` (e.g. `Float64`, `String`)."
   ]
  },
  {
   "cell_type": "code",
   "execution_count": 29,
   "metadata": {},
   "outputs": [],
   "source": [
    "# Defining a parametric point\n",
    "struct Duple{T} # T is a parameter to the type Duple\n",
    "    x::T\n",
    "    y::T\n",
    "end"
   ]
  },
  {
   "cell_type": "code",
   "execution_count": 30,
   "metadata": {},
   "outputs": [
    {
     "ename": "LoadError",
     "evalue": "MethodError: no method matching Duple(::Int64, ::Float64)\n\u001b[0mClosest candidates are:\n\u001b[0m  Duple(::T, \u001b[91m::T\u001b[39m) where T at In[29]:3",
     "output_type": "error",
     "traceback": [
      "MethodError: no method matching Duple(::Int64, ::Float64)\n\u001b[0mClosest candidates are:\n\u001b[0m  Duple(::T, \u001b[91m::T\u001b[39m) where T at In[29]:3",
      "",
      "Stacktrace:",
      " [1] top-level scope",
      "   @ In[30]:1",
      " [2] eval",
      "   @ ./boot.jl:373 [inlined]",
      " [3] include_string(mapexpr::typeof(REPL.softscope), mod::Module, code::String, filename::String)",
      "   @ Base ./loading.jl:1196"
     ]
    }
   ],
   "source": [
    "Duple(3, -1.0)"
   ]
  },
  {
   "cell_type": "code",
   "execution_count": 31,
   "metadata": {},
   "outputs": [
    {
     "data": {
      "text/plain": [
       "Duple{Int64}"
      ]
     },
     "execution_count": 31,
     "metadata": {},
     "output_type": "execute_result"
    }
   ],
   "source": [
    "Duple{Int64}"
   ]
  },
  {
   "cell_type": "markdown",
   "metadata": {},
   "source": [
    "This single declaration defines an unlimited number of new types: `Duple{String}`, `Duple{Float64}`, etc. are all immediately usable."
   ]
  },
  {
   "cell_type": "code",
   "execution_count": 40,
   "metadata": {},
   "outputs": [
    {
     "data": {
      "text/plain": [
       "Truple3{Float64, Int64}((3.4, 5), 4)"
      ]
     },
     "execution_count": 40,
     "metadata": {},
     "output_type": "execute_result"
    }
   ],
   "source": [
    "Duple(1.3, 3.4)"
   ]
  },
  {
   "cell_type": "code",
   "execution_count": null,
   "metadata": {},
   "outputs": [],
   "source": [
    "Duple(\"Hello\", \"Your\")"
   ]
  },
  {
   "cell_type": "markdown",
   "metadata": {},
   "source": [
    "We can also restrict the type parameter `T` using the type hierarchy."
   ]
  },
  {
   "cell_type": "code",
   "execution_count": 41,
   "metadata": {},
   "outputs": [
    {
     "data": {
      "text/plain": [
       "String"
      ]
     },
     "execution_count": 41,
     "metadata": {},
     "output_type": "execute_result"
    }
   ],
   "source": [
    "typeof(\"S\")"
   ]
  },
  {
   "cell_type": "code",
   "execution_count": 37,
   "metadata": {},
   "outputs": [
    {
     "data": {
      "text/plain": [
       "false"
      ]
     },
     "execution_count": 37,
     "metadata": {},
     "output_type": "execute_result"
    }
   ],
   "source": [
    "typeof(\"S\") <: Number"
   ]
  },
  {
   "cell_type": "code",
   "execution_count": 46,
   "metadata": {},
   "outputs": [
    {
     "data": {
      "text/plain": [
       "true"
      ]
     },
     "execution_count": 46,
     "metadata": {},
     "output_type": "execute_result"
    }
   ],
   "source": [
    "typeof(4.6) <: Float64"
   ]
  },
  {
   "cell_type": "code",
   "execution_count": 47,
   "metadata": {},
   "outputs": [
    {
     "data": {
      "text/plain": [
       "true"
      ]
     },
     "execution_count": 47,
     "metadata": {},
     "output_type": "execute_result"
    }
   ],
   "source": [
    "Float64 <: Number"
   ]
  },
  {
   "cell_type": "code",
   "execution_count": 48,
   "metadata": {},
   "outputs": [],
   "source": [
    "# T can be any subtype of Number, but nothing else\n",
    "struct PlanarCoordinate{T<:Number}\n",
    "    x::T\n",
    "    y::T\n",
    "end"
   ]
  },
  {
   "cell_type": "code",
   "execution_count": 49,
   "metadata": {},
   "outputs": [
    {
     "ename": "LoadError",
     "evalue": "MethodError: no method matching PlanarCoordinate(::String, ::String)",
     "output_type": "error",
     "traceback": [
      "MethodError: no method matching PlanarCoordinate(::String, ::String)",
      "",
      "Stacktrace:",
      " [1] top-level scope",
      "   @ In[49]:1",
      " [2] eval",
      "   @ ./boot.jl:373 [inlined]",
      " [3] include_string(mapexpr::typeof(REPL.softscope), mod::Module, code::String, filename::String)",
      "   @ Base ./loading.jl:1196"
     ]
    }
   ],
   "source": [
    "PlanarCoordinate(\"4th Ave\", \"14th St\")"
   ]
  },
  {
   "cell_type": "code",
   "execution_count": 50,
   "metadata": {},
   "outputs": [
    {
     "data": {
      "text/plain": [
       "PlanarCoordinate{Rational{Int64}}(2//3, 8//9)"
      ]
     },
     "execution_count": 50,
     "metadata": {},
     "output_type": "execute_result"
    }
   ],
   "source": [
    "PlanarCoordinate(2//3, 8//9)"
   ]
  },
  {
   "cell_type": "code",
   "execution_count": null,
   "metadata": {},
   "outputs": [],
   "source": [
    "Number:"
   ]
  },
  {
   "cell_type": "code",
   "execution_count": 53,
   "metadata": {},
   "outputs": [
    {
     "data": {
      "text/plain": [
       "409//80"
      ]
     },
     "execution_count": 53,
     "metadata": {},
     "output_type": "execute_result"
    }
   ],
   "source": [
    "349//80 + 3//4 # rational "
   ]
  },
  {
   "cell_type": "code",
   "execution_count": 65,
   "metadata": {},
   "outputs": [
    {
     "data": {
      "text/plain": [
       "Int64"
      ]
     },
     "execution_count": 65,
     "metadata": {},
     "output_type": "execute_result"
    }
   ],
   "source": [
    "typeof( factorial(20) )"
   ]
  },
  {
   "cell_type": "code",
   "execution_count": 67,
   "metadata": {},
   "outputs": [
    {
     "data": {
      "text/plain": [
       "BigInt"
      ]
     },
     "execution_count": 67,
     "metadata": {},
     "output_type": "execute_result"
    }
   ],
   "source": [
    "typeof( big(20) )"
   ]
  },
  {
   "cell_type": "markdown",
   "metadata": {},
   "source": [
    "### Why Use Types?"
   ]
  },
  {
   "cell_type": "markdown",
   "metadata": {},
   "source": [
    "You can write all your code without thinking about types at all. If you do this, however, you’ll be missing out on some of the biggest benefits of using Julia.\n",
    "\n",
    "If you understand types, you can:\n",
    "\n",
    "- Write faster code\n",
    "- Write expressive, clear, and well-structured programs (keep this in mind when we talk about functions)\n",
    "- Reason more clearly about how your code works\n",
    "\n",
    "Even if you only use built-in functions and types, your code still takes advantage of Julia’s type system. That’s why it’s important to understand what types are and how to use them."
   ]
  },
  {
   "cell_type": "code",
   "execution_count": 90,
   "metadata": {},
   "outputs": [
    {
     "data": {
      "text/plain": [
       "-25554.110202663698"
      ]
     },
     "execution_count": 90,
     "metadata": {},
     "output_type": "execute_result"
    }
   ],
   "source": [
    "# Example: writing type-stable functions\n",
    "function sumofsins_unstable(n::Integer)  \n",
    "    sum = 0:: Integer\n",
    "    for i in 1:n  \n",
    "        sum += sin(3.4)  \n",
    "    end  \n",
    "    return sum \n",
    "end  \n",
    "\n",
    "function sumofsins_stable(n::Integer)  \n",
    "    sum = 0.0 :: Float64\n",
    "    for i in 1:n  \n",
    "        sum += sin(3.4)  \n",
    "    end  \n",
    "    return sum \n",
    "end\n",
    "\n",
    "# Compile and run\n",
    "sumofsins_unstable(Int(1e5))\n",
    "sumofsins_stable(Int(1e5))"
   ]
  },
  {
   "cell_type": "code",
   "execution_count": 91,
   "metadata": {},
   "outputs": [
    {
     "name": "stdout",
     "output_type": "stream",
     "text": [
      "  0.000268 seconds\n"
     ]
    },
    {
     "data": {
      "text/plain": [
       "-25554.110202663698"
      ]
     },
     "execution_count": 91,
     "metadata": {},
     "output_type": "execute_result"
    }
   ],
   "source": [
    "@time sumofsins_unstable(Int(1e5))"
   ]
  },
  {
   "cell_type": "code",
   "execution_count": 92,
   "metadata": {},
   "outputs": [
    {
     "name": "stdout",
     "output_type": "stream",
     "text": [
      "  0.000130 seconds\n"
     ]
    },
    {
     "data": {
      "text/plain": [
       "-25554.110202663698"
      ]
     },
     "execution_count": 92,
     "metadata": {},
     "output_type": "execute_result"
    }
   ],
   "source": [
    "@time sumofsins_stable(Int(1e5))"
   ]
  },
  {
   "cell_type": "markdown",
   "metadata": {},
   "source": [
    "In `sumofsins_stable`, the compiler is guaranteed that `sum` is of type `Float64` throughout; therefore, it saves time and memory. On the other hand, in `sumofsins_unstable`, the compiler must check the type of `sum` at each iteration of the loop. Let's look at the LLVM [intermediate representation](http://www.johnmyleswhite.com/notebook/2013/12/06/writing-type-stable-code-in-julia/)."
   ]
  },
  {
   "cell_type": "markdown",
   "metadata": {},
   "source": [
    "### Multiple Dispatch"
   ]
  },
  {
   "cell_type": "markdown",
   "metadata": {},
   "source": [
    "So far we have defined functions over argument lists of any type. Methods allow us to define functions “piecewise”. For any set of input arguments, we can define a **method**, a definition of one possible behavior for a function."
   ]
  },
  {
   "cell_type": "code",
   "execution_count": 51,
   "metadata": {},
   "outputs": [
    {
     "data": {
      "text/plain": [
       "print_type (generic function with 1 method)"
      ]
     },
     "execution_count": 51,
     "metadata": {},
     "output_type": "execute_result"
    }
   ],
   "source": [
    "# Define one method of the function print_type\n",
    "function print_type(x::Number)\n",
    "    println(\"$x is a number\")\n",
    "end"
   ]
  },
  {
   "cell_type": "code",
   "execution_count": 53,
   "metadata": {},
   "outputs": [
    {
     "data": {
      "text/plain": [
       "print_type (generic function with 2 methods)"
      ]
     },
     "execution_count": 53,
     "metadata": {},
     "output_type": "execute_result"
    }
   ],
   "source": [
    "# Define another method\n",
    "function print_type(x::String)\n",
    "    println(\"$x is a string\")\n",
    "end"
   ]
  },
  {
   "cell_type": "code",
   "execution_count": 54,
   "metadata": {},
   "outputs": [
    {
     "data": {
      "text/plain": [
       "print_type (generic function with 3 methods)"
      ]
     },
     "execution_count": 54,
     "metadata": {},
     "output_type": "execute_result"
    }
   ],
   "source": [
    "# Define yet another method\n",
    "function print_type(x::Number, y::Number)\n",
    "    println(\"$x and $y are both numbers\")\n",
    "end"
   ]
  },
  {
   "cell_type": "code",
   "execution_count": 55,
   "metadata": {},
   "outputs": [
    {
     "data": {
      "text/html": [
       "# 3 methods for generic function <b>print_type</b>:<ul><li> print_type(x::<b>String</b>) in Main at In[53]:3</li> <li> print_type(x::<b>Number</b>) in Main at In[51]:3</li> <li> print_type(x::<b>Number</b>, y::<b>Number</b>) in Main at In[54]:3</li> </ul>"
      ],
      "text/plain": [
       "# 3 methods for generic function \"print_type\":\n",
       "[1] print_type(x::String) in Main at In[53]:3\n",
       "[2] print_type(x::Number) in Main at In[51]:3\n",
       "[3] print_type(x::Number, y::Number) in Main at In[54]:3"
      ]
     },
     "execution_count": 55,
     "metadata": {},
     "output_type": "execute_result"
    }
   ],
   "source": [
    "# See all methods for a given function\n",
    "methods(print_type)"
   ]
  },
  {
   "cell_type": "markdown",
   "metadata": {},
   "source": [
    "Julia uses **multiple dispatch** to decide which **method** of a **function** to execute when a function is applied. In particular, Julia compares the types of _all_ arguments to the signatures of the function’s methods in order to choose the applicable one, not just the first (hence \"multiple\")."
   ]
  },
  {
   "cell_type": "code",
   "execution_count": 56,
   "metadata": {},
   "outputs": [
    {
     "name": "stdout",
     "output_type": "stream",
     "text": [
      "5 is a number\n"
     ]
    }
   ],
   "source": [
    "print_type(5)"
   ]
  },
  {
   "cell_type": "code",
   "execution_count": 57,
   "metadata": {},
   "outputs": [
    {
     "name": "stdout",
     "output_type": "stream",
     "text": [
      "foo is a string\n"
     ]
    }
   ],
   "source": [
    "print_type(\"foo\")"
   ]
  },
  {
   "cell_type": "code",
   "execution_count": 58,
   "metadata": {},
   "outputs": [
    {
     "ename": "MethodError",
     "evalue": "MethodError: no method matching print_type(::Array{Int64,1})\nClosest candidates are:\n  print_type(!Matched::String) at In[53]:3\n  print_type(!Matched::Number) at In[51]:3\n  print_type(!Matched::Number, !Matched::Number) at In[54]:3",
     "output_type": "error",
     "traceback": [
      "MethodError: no method matching print_type(::Array{Int64,1})\nClosest candidates are:\n  print_type(!Matched::String) at In[53]:3\n  print_type(!Matched::Number) at In[51]:3\n  print_type(!Matched::Number, !Matched::Number) at In[54]:3",
      "",
      "Stacktrace:",
      " [1] top-level scope at In[58]:1"
     ]
    }
   ],
   "source": [
    "print_type([1, 2, 3])"
   ]
  },
  {
   "cell_type": "markdown",
   "metadata": {},
   "source": [
    "#### Other types of functions\n",
    "\n",
    "Julia supports a short function definition for one-liners"
   ]
  },
  {
   "cell_type": "code",
   "execution_count": null,
   "metadata": {},
   "outputs": [],
   "source": [
    "f(x::Float64) = x^2.0\n",
    "f(x::Int64) = x^3"
   ]
  },
  {
   "cell_type": "markdown",
   "metadata": {},
   "source": [
    "As well as a special syntax for anonymous functions"
   ]
  },
  {
   "cell_type": "code",
   "execution_count": null,
   "metadata": {},
   "outputs": [],
   "source": [
    "u->u^2"
   ]
  },
  {
   "cell_type": "code",
   "execution_count": null,
   "metadata": {},
   "outputs": [],
   "source": [
    "map(u->u^2, [1,2,3,4])"
   ]
  },
  {
   "cell_type": "markdown",
   "metadata": {},
   "source": [
    "### Keyword arguments and optional arguments"
   ]
  },
  {
   "cell_type": "code",
   "execution_count": 59,
   "metadata": {},
   "outputs": [
    {
     "ename": "UndefVarError",
     "evalue": "UndefVarError: f not defined",
     "output_type": "error",
     "traceback": [
      "UndefVarError: f not defined",
      "",
      "Stacktrace:",
      " [1] top-level scope at In[59]:1"
     ]
    }
   ],
   "source": [
    "f(a,b,c=true; algo=\"newton\")"
   ]
  },
  {
   "cell_type": "markdown",
   "metadata": {},
   "source": [
    "### Writing Julian Code\n",
    "\n",
    "As we've seen, you can use Julia just like you use MATLAB and get faster code. However, to write faster and _better_ code, attempt to write in a “Julian” manner:\n",
    "\n",
    "- Define composite types as logically needed\n",
    "- Write type-stable functions for best performance\n",
    "- Take advantage of multiple dispatch to write code that looks like math\n",
    "- Add methods to existing functions"
   ]
  },
  {
   "cell_type": "markdown",
   "metadata": {},
   "source": [
    "### Just-in-Time Compilation"
   ]
  },
  {
   "cell_type": "markdown",
   "metadata": {},
   "source": [
    "How is Julia so fast? Julia is just-in-time (JIT) compiled, which  means (according to [this StackExchange answer](http://stackoverflow.com/questions/95635/what-does-a-just-in-time-jit-compiler-do)):\n",
    "\n",
    "> A JIT compiler runs after the program has started and compiles the code (usually bytecode or some kind of VM instructions) on the fly (or just-in-time, as it's called) into a form that's usually faster, typically the host CPU's native instruction set. _A JIT has access to dynamic runtime information whereas a standard compiler doesn't and can make better optimizations like inlining functions that are used frequently._\n",
    "\n",
    "> This is in contrast to a traditional compiler that compiles all the code to machine language before the program is first run.\n",
    "\n",
    "In particular, Julia uses type information at runtime to optimize how your code is compiled. This is why writing type-stable code makes such a difference in speed!"
   ]
  },
  {
   "cell_type": "markdown",
   "metadata": {},
   "source": [
    "## Additional Exercises\n",
    "\n",
    "Taken from QuantEcon's [Julia Essentials](https://lectures.quantecon.org/jl/julia_essentials.html) and [Vectors, Arrays, and Matrices](https://lectures.quantecon.org/jl/julia_arrays.html) lectures.\n",
    "\n",
    "1. Consider the polynomial $$p(x) = \\sum_{i=0}^n a_0 x^0$$ Using `enumerate`, write a function `p` such that `p(x, coeff)` computes the value of the polynomial with coefficients `coeff` evaluated at `x`."
   ]
  },
  {
   "cell_type": "code",
   "execution_count": null,
   "metadata": {},
   "outputs": [],
   "source": []
  },
  {
   "cell_type": "markdown",
   "metadata": {},
   "source": [
    "2. Write a function `solve_discrete_lyapunov` that solves the discrete Lyapunov equation $$S = ASA' + \\Sigma \\Sigma'$$ using the iterative procedure $$S_0 = \\Sigma \\Sigma'$$ $$S_{t+1} = A S_t A' + \\Sigma \\Sigma'$$ taking in as arguments the $n \\times n$ matrix $A$, the $n \\times k$ matrix $\\Sigma$, and a number of iterations."
   ]
  }
 ],
 "metadata": {
  "kernelspec": {
   "display_name": "Julia 1.11.3",
   "language": "julia",
   "name": "julia-1.11"
  },
  "language_info": {
   "file_extension": ".jl",
   "mimetype": "application/julia",
   "name": "julia",
   "version": "1.11.3"
  }
 },
 "nbformat": 4,
 "nbformat_minor": 4
}
