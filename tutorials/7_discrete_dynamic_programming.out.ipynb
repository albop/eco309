{
  "cells": [
    {
      "cell_type": "markdown",
      "metadata": {},
      "source": [
        "# Discrete Dynamic Programming\n",
        "\n",
        "Pablo Winant\n",
        "\n",
        "## Markov Chains\n",
        "\n",
        "A worker’s employment dynamics is described by the stochastic matrix\n",
        "\n",
        "$$P = \\begin{bmatrix}\n",
        "1-\\alpha & \\alpha \\\\\n",
        "\\beta & 1-\\beta\n",
        "\\end{bmatrix}$$\n",
        "\n",
        "with $\\alpha\\in(0,1)$ and $\\beta\\in (0,1)$. First line corresponds to\n",
        "employment, second line to unemployment.\n",
        "\n",
        "**Which is the stationary equilibrium? (choose any value for $\\alpha$\n",
        "and $\\beta$)**"
      ],
      "id": "128696dd-8ff4-4a73-b00a-54fba92db261"
    },
    {
      "cell_type": "code",
      "execution_count": 3,
      "metadata": {},
      "outputs": [
        {
          "output_type": "display_data",
          "metadata": {},
          "data": {
            "text/plain": [
              "2×2 Matrix{Float64}:\n",
              " 0.8  0.2\n",
              " 0.3  0.7"
            ]
          }
        }
      ],
      "source": [
        "α = 0.2\n",
        "β = 0.3\n",
        "P =  [(1-α) α;  β (1-β)]"
      ],
      "id": "cell-4"
    },
    {
      "cell_type": "code",
      "execution_count": 16,
      "metadata": {},
      "outputs": [
        {
          "output_type": "display_data",
          "metadata": {},
          "data": {
            "text/plain": [
              "2×2 Matrix{Float64}:\n",
              " -0.2   0.3\n",
              "  0.2  -0.3"
            ]
          }
        }
      ],
      "source": [
        "# we want to find  μ P = μ \n",
        "# we can rewrite as P' μ' = μ'\n",
        "\n",
        "# and solve (P' - I) x = 0\n",
        "\n",
        "# identity operator:\n",
        "using LinearAlgebra: I\n",
        "M = (P'-I)"
      ],
      "id": "cell-5"
    },
    {
      "cell_type": "code",
      "execution_count": 8,
      "metadata": {},
      "outputs": [],
      "source": [
        "# cannot the system directly because M is not inversble\n",
        "# one row is colinear to the others\n",
        "# M\\zeros(2)#"
      ],
      "id": "cell-6"
    },
    {
      "cell_type": "code",
      "execution_count": 9,
      "metadata": {},
      "outputs": [],
      "source": [
        "# let' s replace one row of M with the condition |μ|=1"
      ],
      "id": "cell-7"
    },
    {
      "cell_type": "code",
      "execution_count": 17,
      "metadata": {},
      "outputs": [
        {
          "output_type": "display_data",
          "metadata": {},
          "data": {
            "text/plain": [
              "2-element view(::Matrix{Float64}, 2, :) with eltype Float64:\n",
              " 1.0\n",
              " 1.0"
            ]
          }
        }
      ],
      "source": [
        "M[end,:] = ones(2) # set equal to vector\n",
        "M[end,:].= 1.0      # set equal to a scalar (with vectorization)"
      ],
      "id": "cell-8"
    },
    {
      "cell_type": "code",
      "execution_count": 19,
      "metadata": {},
      "outputs": [
        {
          "output_type": "display_data",
          "metadata": {},
          "data": {
            "text/plain": [
              "2×2 Matrix{Float64}:\n",
              " -0.2  0.3\n",
              "  1.0  1.0"
            ]
          }
        }
      ],
      "source": [
        "M"
      ],
      "id": "cell-9"
    },
    {
      "cell_type": "code",
      "execution_count": 28,
      "metadata": {},
      "outputs": [
        {
          "output_type": "display_data",
          "metadata": {},
          "data": {
            "text/plain": [
              "1×2 Matrix{Float64}:\n",
              " 0.0  1.0"
            ]
          }
        }
      ],
      "source": [
        "[0.0 1.0] # one row vecto"
      ],
      "id": "cell-10"
    },
    {
      "cell_type": "code",
      "execution_count": 29,
      "metadata": {},
      "outputs": [
        {
          "output_type": "display_data",
          "metadata": {},
          "data": {
            "text/plain": [
              "2-element Vector{Float64}:\n",
              " 0.0\n",
              " 1.0"
            ]
          }
        }
      ],
      "source": [
        "[0.0, 1.0]"
      ],
      "id": "cell-11"
    },
    {
      "cell_type": "code",
      "execution_count": 21,
      "metadata": {},
      "outputs": [
        {
          "output_type": "display_data",
          "metadata": {},
          "data": {
            "text/plain": [
              "2-element Vector{Float64}:\n",
              " 0.6000000000000001\n",
              " 0.39999999999999997"
            ]
          }
        }
      ],
      "source": [
        "μ = M \\ [0.0, 1.0]"
      ],
      "id": "cell-12"
    },
    {
      "cell_type": "code",
      "execution_count": 26,
      "metadata": {},
      "outputs": [
        {
          "output_type": "stream",
          "name": "stdout",
          "text": [
            "[0.0 5.551115123125783e-17]"
          ]
        },
        {
          "output_type": "display_data",
          "metadata": {},
          "data": {
            "text/plain": [
              "1.0"
            ]
          }
        }
      ],
      "source": [
        "# check μ is indeed the right solution\n",
        "println(μ' * P - μ')\n",
        "sum(μ)"
      ],
      "id": "cell-13"
    },
    {
      "cell_type": "markdown",
      "metadata": {},
      "source": [
        "Other solution"
      ],
      "id": "cdf0666d-6aea-411d-9810-96e8187a6633"
    },
    {
      "cell_type": "code",
      "execution_count": 33,
      "metadata": {},
      "outputs": [
        {
          "output_type": "display_data",
          "metadata": {},
          "data": {
            "text/plain": [
              "3×2 Matrix{Float64}:\n",
              " -0.2   0.3\n",
              "  0.2  -0.3\n",
              "  1.0   1.0"
            ]
          }
        }
      ],
      "source": [
        "MM = cat(\n",
        "    P'-I,\n",
        "    ones(1,2);\n",
        "    dims=1\n",
        ")"
      ],
      "id": "cell-15"
    },
    {
      "cell_type": "code",
      "execution_count": 34,
      "metadata": {},
      "outputs": [
        {
          "output_type": "display_data",
          "metadata": {},
          "data": {
            "text/plain": [
              "2-element Vector{Float64}:\n",
              " 0.6\n",
              " 0.3999999999999999"
            ]
          }
        }
      ],
      "source": [
        "MM \\ [0.0, 0.0, 1.0]"
      ],
      "id": "cell-16"
    },
    {
      "cell_type": "markdown",
      "metadata": {},
      "source": [
        "**In the long run, what will the the fraction $p$ of time spent\n",
        "unemployed? (Denote by $X_m$ the fraction of dates were one is\n",
        "unemployed)**\n",
        "\n",
        "**Illustrate this convergence by generating a simulated series of length\n",
        "10000 starting at $X_0=1$. Plot $X_m-p$ against $m$. (Take\n",
        "$\\alpha=\\beta=0.1$).**"
      ],
      "id": "e3925130-6a2c-4268-b919-cadfaf6622ba"
    },
    {
      "cell_type": "code",
      "execution_count": 35,
      "metadata": {},
      "outputs": [],
      "source": [
        "using Plots"
      ],
      "id": "cell-20"
    },
    {
      "cell_type": "markdown",
      "metadata": {},
      "source": [
        "## Job-Search Model\n",
        "\n",
        "We want to solve the following model, adapted from McCall.\n",
        "\n",
        "-   When unemployed in date, a job-seeker\n",
        "    -   consumes unemployment benefit $c_t = \\underline{c}$\n",
        "    -   receives in every date $t$ a job offer $w_t$\n",
        "        -   $w_t$ is i.i.d.,\n",
        "        -   takes values $w_1, w_2, w_3$ with probabilities\n",
        "            $p_1, p_2, p_3$\n",
        "    -   if job-seeker accepts, becomes employed at rate $w_t$ in the\n",
        "        next period\n",
        "    -   else he stays unemployed\n",
        "-   When employed at rate $w$\n",
        "    -   worker consumes salary $c_t = w$\n",
        "    -   with small probability $\\lambda>0$ looses his job:\n",
        "        -   starts next period unemployed\n",
        "    -   otherwise stays employed at same rate\n",
        "-   Objective: $\\max E_0 \\left\\{ \\sum \\beta^t \\log(w_t) \\right\\}$\n",
        "\n",
        "**What are the states, the controls, the reward of this problem ? Write\n",
        "down the Bellman equation.**\n",
        "\n",
        "cf course\n",
        "\n",
        "**Define a parameter structure for the model.**"
      ],
      "id": "dd856b59-905d-41b7-ab7a-dc5d355c4f54"
    },
    {
      "cell_type": "code",
      "execution_count": 1,
      "metadata": {},
      "outputs": [
        {
          "output_type": "display_data",
          "metadata": {},
          "data": {
            "text/plain": [
              "(λ = 0.01, cbar = 0.8, β = 0.9, wvec = [0.9, 1.0, 1.1], pvec = [0.3333333333333333, 0.3333333333333333, 0.3333333333333333])"
            ]
          }
        }
      ],
      "source": [
        "model = (;\n",
        "    λ=0.01,\n",
        "    cbar=0.8,\n",
        "    β=0.9,\n",
        "    wvec=[0.9, 1.0, 1.1],\n",
        "    pvec=[1/3,1/3,1/3]\n",
        ")"
      ],
      "id": "cell-25"
    },
    {
      "cell_type": "markdown",
      "metadata": {},
      "source": [
        "**Define a function\n",
        "`value_update(V_U::Vector{Float64}, V_E::Vector{Float64}, x::Vector{Bool}, p::Parameters)::Tuple{Vector, Vector}`,\n",
        "which takes in value functions tomorrow and a policy vector and return\n",
        "updated values for today.**"
      ],
      "id": "0bb0bee0-a177-4a27-b7e7-6261c2531207"
    },
    {
      "cell_type": "code",
      "execution_count": 6,
      "metadata": {},
      "outputs": [
        {
          "output_type": "display_data",
          "metadata": {},
          "data": {
            "text/plain": [
              "([-0.2231435513142097, -0.2231435513142097, -0.2231435513142097], [-0.10536051565782628, 0.0, 0.09531017980432493])"
            ]
          }
        }
      ],
      "source": [
        "V_U_0 = zeros(3)\n",
        "V_E_0 = zeros(3)\n",
        "x_0 = [false, false, false]\n",
        "\n",
        "function value_update(V_U, V_E, x, model)\n",
        "\n",
        "    (;cbar, λ, β) = model\n",
        "    n_V_E = zeros(3)\n",
        "    n_V_U = zeros(3)\n",
        "\n",
        "    c_V_U = sum( p*V_U[j] for (j,p) in  enumerate(model.pvec ))\n",
        "\n",
        "    for i=1:3\n",
        "        n_V_E[i] = log(model.wvec[i]) + (1-λ)*β*V_E[i] + λ*β*c_V_U\n",
        "    end\n",
        "\n",
        "    for i=1:3\n",
        "        if x[i]\n",
        "            n_V_U[i] = log(model.cbar) + β*V_E[i]\n",
        "        else\n",
        "            n_V_U[i] = log(model.cbar) + β*c_V_U\n",
        "        end\n",
        "    end\n",
        "\n",
        "    return n_V_U, n_V_E\n",
        "end\n",
        "\n",
        "value_update(V_U_0, V_E_0, x_0, model)"
      ],
      "id": "cell-27"
    },
    {
      "cell_type": "markdown",
      "metadata": {},
      "source": [
        "**Define a function\n",
        "`policy_eval(x::Vector{Bool}, p::Parameter)::Tuple{Vector, Vector}`\n",
        "which takes in a policy vector and returns the value(s) of following\n",
        "this policies forever. You can add relevant arguments to the function.**"
      ],
      "id": "42e31fa0-393d-4c2f-b61b-6030d6d1b4de"
    },
    {
      "cell_type": "code",
      "execution_count": 10,
      "metadata": {},
      "outputs": [
        {
          "output_type": "display_data",
          "metadata": {},
          "data": {
            "text/plain": [
              "policy_eval (generic function with 1 method)"
            ]
          }
        }
      ],
      "source": [
        "function policy_eval(x, model; T=500, tol_η=1e-6)\n",
        "\n",
        "    V_U_0 = zeros(3)\n",
        "    V_E_0 = zeros(3)\n",
        "\n",
        "    for t=1:T\n",
        "        V_U, V_E = value_update(V_U_0, V_E_0, x, model)\n",
        "        η = maximum(abs.( [  V_U-V_U_0   ;  V_E-V_E_0   ]))\n",
        "        if η<tol_η\n",
        "            return V_U, V_E\n",
        "        end\n",
        "\n",
        "        V_U_0, V_E_0 = V_U, V_E\n",
        "    end\n",
        "\n",
        "    \n",
        "end"
      ],
      "id": "cell-29"
    },
    {
      "cell_type": "code",
      "execution_count": 13,
      "metadata": {},
      "outputs": [
        {
          "output_type": "display_data",
          "metadata": {},
          "data": {
            "text/plain": [
              "([-2.2314266170257446, -2.2314266170257446, -2.2314266170257446], [-1.1508496241589632, -0.18424056588532145, 0.6901636885865156])"
            ]
          }
        }
      ],
      "source": [
        "policy_eval([false, false, false], model)"
      ],
      "id": "cell-30"
    },
    {
      "cell_type": "code",
      "execution_count": 17,
      "metadata": {},
      "outputs": [
        {
          "output_type": "display_data",
          "metadata": {},
          "data": {
            "text/plain": [
              "([-0.16894144584658277, -0.21867165307166767, 0.5682888378093481], [-0.9616363330197235, 0.0049692003147929036, 0.8793702660913234])"
            ]
          }
        }
      ],
      "source": [
        "policy_eval([false, true, true], model)"
      ],
      "id": "cell-31"
    },
    {
      "cell_type": "markdown",
      "metadata": {},
      "source": [
        "**Define a function\n",
        "`bellman_step(V_E::Vector, V_U::Vector, p::Parameters)::Tuple{Vector, Vector, Vector}`\n",
        "which returns updated values, together with improved policy rules.**"
      ],
      "id": "3c671334-f9a7-46e5-87be-8d76a0695de5"
    },
    {
      "cell_type": "code",
      "execution_count": 18,
      "metadata": {},
      "outputs": [
        {
          "output_type": "display_data",
          "metadata": {},
          "data": {
            "text/plain": [
              "bellman_step (generic function with 1 method)"
            ]
          }
        }
      ],
      "source": [
        "\n",
        "function bellman_step(V_U, V_E, model)\n",
        "\n",
        "    (;cbar, λ, β) = model\n",
        "    n_V_E = zeros(3)\n",
        "    n_V_U = zeros(3)\n",
        "    x = zeros(Bool, 3)\n",
        "\n",
        "    c_V_U = sum( p*V_U[j] for (j,p) in  enumerate(model.pvec ))\n",
        "\n",
        "    for i=1:3\n",
        "        n_V_E[i] = log(model.wvec[i]) + (1-λ)*β*V_E[i] + λ*β*c_V_U\n",
        "    end\n",
        "\n",
        "    # when unemployed\n",
        "    for i=1:3\n",
        "        v_accept = log(model.cbar) + β*V_E[i]\n",
        "        v_reject = log(model.cbar) + β*c_V_U\n",
        "        if v_accept>v_reject\n",
        "            n_V_U[i] = v_accept\n",
        "            x[i] = true\n",
        "        else\n",
        "            n_V_U[i] = v_reject\n",
        "            x[i] = false\n",
        "        end\n",
        "    end\n",
        "\n",
        "    return n_V_U, n_V_E, x\n",
        "end"
      ],
      "id": "cell-33"
    },
    {
      "cell_type": "code",
      "execution_count": 20,
      "metadata": {},
      "outputs": [
        {
          "output_type": "display_data",
          "metadata": {},
          "data": {
            "text/plain": [
              "([-0.2231435513142097, -0.2231435513142097, -0.2231435513142097], [-0.10536051565782628, 0.0, 0.09531017980432493], Bool[0, 0, 0])"
            ]
          }
        }
      ],
      "source": [
        "bellman_step(V_U_0, V_E_0, model)"
      ],
      "id": "cell-34"
    },
    {
      "cell_type": "markdown",
      "metadata": {},
      "source": [
        "**Implement Value Function**"
      ],
      "id": "ba0c3ab0-e385-42f9-830d-c077fa7e6c3f"
    },
    {
      "cell_type": "code",
      "execution_count": 25,
      "metadata": {},
      "outputs": [
        {
          "output_type": "display_data",
          "metadata": {},
          "data": {
            "text/plain": [
              "vfi (generic function with 2 methods)"
            ]
          }
        }
      ],
      "source": [
        "function vfi(model; T=500, tol_η=1e-6)\n",
        "\n",
        "    V_U_0 = zeros(3)\n",
        "    V_E_0 = zeros(3)\n",
        "\n",
        "    for t=1:T\n",
        "        V_U, V_E, x = bellman_step(V_U_0, V_E_0, model)\n",
        "        η = maximum(abs.( [  V_U-V_U_0   ;  V_E-V_E_0   ]))\n",
        "        println(\"$t : $η\")\n",
        "        if η<tol_η\n",
        "            return V_U, V_E, x\n",
        "        end\n",
        "\n",
        "        V_U_0, V_E_0 = V_U, V_E\n",
        "    end\n",
        "\n",
        "    \n",
        "end"
      ],
      "id": "cell-36"
    },
    {
      "cell_type": "code",
      "execution_count": 26,
      "metadata": {},
      "outputs": [
        {
          "output_type": "stream",
          "name": "stdout",
          "text": [
            "1 : 0.2231435513142097\n",
            "2 : 0.09588451141295112\n",
            "3 : 0.08629606027165598\n",
            "4 : 0.07618551515584138\n",
            "5 : 0.06776620825824747\n",
            "6 : 0.06017209711438726\n",
            "7 : 0.05339623450323355\n",
            "8 : 0.04737184303259734\n",
            "9 : 0.042021967211819056\n",
            "10 : 0.037273116454005106\n",
            "11 : 0.033058519006658904\n",
            "12 : 0.029318432293365393\n",
            "13 : 0.025999667465517406\n",
            "14 : 0.023054948225977645\n",
            "15 : 0.020442277375651963\n",
            "16 : 0.018124355344447007\n",
            "17 : 0.01606805806256495\n",
            "18 : 0.014243971400986988\n",
            "19 : 0.01262597700763557\n",
            "20 : 0.011258315445731748\n",
            "21 : 0.010085339325077824\n",
            "22 : 0.009048942948106098\n",
            "23 : 0.008127581948617513\n",
            "24 : 0.007305091931290697\n",
            "25 : 0.006568831231085204\n",
            "26 : 0.005908548967294203\n",
            "27 : 0.005315685178421625\n",
            "28 : 0.004782929405322878\n",
            "29 : 0.004303934796933695\n",
            "30 : 0.0038731266315371604\n",
            "31 : 0.003485568889132873\n",
            "32 : 0.0031368671583823504\n",
            "33 : 0.002823094841018392\n",
            "34 : 0.0025407347664148094\n",
            "35 : 0.0022866313907867752\n",
            "36 : 0.0020579505814068977\n",
            "37 : 0.0018521450801185502\n",
            "38 : 0.0016669244002061046\n",
            "39 : 0.0015002283125924443\n",
            "40 : 0.0013502033256055368\n",
            "41 : 0.0012151817190101388\n",
            "42 : 0.0010936627941545707\n",
            "43 : 0.0009842960697428182\n",
            "44 : 0.0008858661997758199\n",
            "45 : 0.0007972794243694681\n",
            "46 : 0.0007175513900742336\n",
            "47 : 0.0006457961967782921\n",
            "48 : 0.0005812165450161944\n",
            "49 : 0.0005230948715527761\n",
            "50 : 0.0004707853731908962\n",
            "51 : 0.0004237068292487489\n",
            "52 : 0.00038133614240976055\n",
            "53 : 0.0003432025258554017\n",
            "54 : 0.0003088822719028439\n",
            "55 : 0.0002779940439044948\n",
            "56 : 0.00025019463903641626\n",
            "57 : 0.0002251751748508779\n",
            "58 : 0.00020265765719873485\n",
            "59 : 0.00018239189138036238\n",
            "60 : 0.00016415270218417266\n",
            "61 : 0.00014773743193119415\n",
            "62 : 0.00013296368871773545\n",
            "63 : 0.00011966731983381607\n",
            "64 : 0.00010770058784359549\n",
            "65 : 9.693052905479504e-5\n",
            "66 : 8.723747614691746e-5\n",
            "67 : 7.851372853084904e-5\n",
            "68 : 7.066235567687595e-5\n",
            "69 : 6.359612010864435e-5\n",
            "70 : 5.723650809752456e-5\n",
            "71 : 5.151285728743904e-5\n",
            "72 : 4.6361571558684034e-5\n",
            "73 : 4.1725414402837835e-5\n",
            "74 : 3.755287296258736e-5\n",
            "75 : 3.3797585666239804e-5\n",
            "76 : 3.0417827099560313e-5\n",
            "77 : 2.7376044389626486e-5\n",
            "78 : 2.4638439950708246e-5\n",
            "79 : 2.2174595955659626e-5\n",
            "80 : 1.9957136359938232e-5\n",
            "81 : 1.7961422724033227e-5\n",
            "82 : 1.6165280451674313e-5\n",
            "83 : 1.4548752406418064e-5\n",
            "84 : 1.3093877165748502e-5\n",
            "85 : 1.178448944921806e-5\n",
            "86 : 1.0606040504401726e-5\n",
            "87 : 9.545436453928247e-6\n",
            "88 : 8.59089280857983e-6\n",
            "89 : 7.731803527755154e-6\n",
            "90 : 6.958623174901923e-6\n",
            "91 : 6.262760857467242e-6\n",
            "92 : 5.6364847716983135e-6\n",
            "93 : 5.072836294500727e-6\n",
            "94 : 4.565552665036776e-6\n",
            "95 : 4.108997398666325e-6\n",
            "96 : 3.6980976588774084e-6\n",
            "97 : 3.3282878928453385e-6\n",
            "98 : 2.9954591036496225e-6\n",
            "99 : 2.6959131932402514e-6\n",
            "100 : 2.4263218739717374e-6\n",
            "101 : 2.1836896865190525e-6\n",
            "102 : 1.9653207178338405e-6\n",
            "103 : 1.7687886460504565e-6\n",
            "104 : 1.5919097814398597e-6\n",
            "105 : 1.4327188033735894e-6\n",
            "106 : 1.289446923014026e-6\n",
            "107 : 1.16050223064601e-6\n",
            "108 : 1.0444520076591246e-6\n",
            "109 : 9.400068069487233e-7"
          ]
        },
        {
          "output_type": "display_data",
          "metadata": {},
          "data": {
            "text/plain": [
              "([-0.12918217853332556, -0.12918217853332556, 0.5715717530233522], [-0.9579912751556052, 0.008615634245837868, 0.88301794482632], Bool[0, 0, 1])"
            ]
          }
        }
      ],
      "source": [
        "V_U, V_E, x = vfi(model)"
      ],
      "id": "cell-37"
    },
    {
      "cell_type": "code",
      "execution_count": 27,
      "metadata": {},
      "outputs": [
        {
          "output_type": "display_data",
          "metadata": {},
          "data": {
            "text/plain": [
              "3-element Vector{Bool}:\n",
              " 0\n",
              " 0\n",
              " 1"
            ]
          }
        }
      ],
      "source": [
        "x"
      ],
      "id": "cell-38"
    },
    {
      "cell_type": "markdown",
      "metadata": {},
      "source": [
        "**Implement Policy Iteration and compare rates of convergence.**"
      ],
      "id": "a2b14296-5ab0-4c7a-9dd4-d1d09798857c"
    },
    {
      "cell_type": "code",
      "execution_count": 31,
      "metadata": {},
      "outputs": [
        {
          "output_type": "display_data",
          "metadata": {},
          "data": {
            "text/plain": [
              "policy_iteration (generic function with 1 method)"
            ]
          }
        }
      ],
      "source": [
        "function policy_iteration(model; T=500, tol_η=1e-6)\n",
        "\n",
        "    V_U_0 = zeros(3)\n",
        "    V_E_0 = zeros(3)\n",
        "\n",
        "    for t=1:T\n",
        "        V_U, V_E, x = bellman_step(V_U_0, V_E_0, model)\n",
        "        η = maximum(abs.( [  V_U-V_U_0   ;  V_E-V_E_0   ]))\n",
        "        println(\"$t : $η : $x\")\n",
        "        if η<tol_η\n",
        "            return V_U, V_E, x\n",
        "        end\n",
        "\n",
        "        V_U_0, V_E_0 = policy_eval(x, model)\n",
        "    end\n",
        "\n",
        "    \n",
        "end"
      ],
      "id": "cell-40"
    },
    {
      "cell_type": "code",
      "execution_count": 32,
      "metadata": {},
      "outputs": [
        {
          "output_type": "stream",
          "name": "stdout",
          "text": [
            "1 : 0.2231435513142097 : Bool[0, 0, 0]\n",
            "2 : 2.6294303854393988 : Bool[1, 1, 1]\n",
            "3 : 0.6462314803394785 : Bool[0, 1, 1]\n",
            "4 : 0.04973082342478724 : Bool[0, 0, 1]\n",
            "5 : 8.853353918869544e-7 : Bool[0, 0, 1]"
          ]
        },
        {
          "output_type": "display_data",
          "metadata": {},
          "data": {
            "text/plain": [
              "([-0.1291816864905906, -0.1291816864905906, 0.5715722450660872], [-0.9579914735969917, 0.00861579833752028, 0.883018436869055], Bool[0, 0, 1])"
            ]
          }
        }
      ],
      "source": [
        "V_U, V_E, x = policy_iteration(model)"
      ],
      "id": "cell-41"
    },
    {
      "cell_type": "markdown",
      "metadata": {},
      "source": [
        "**Discuss the Effects of the Parameters**"
      ],
      "id": "771c3ceb-4a88-40da-82d0-310ab03be223"
    },
    {
      "cell_type": "code",
      "execution_count": 36,
      "metadata": {},
      "outputs": [
        {
          "output_type": "stream",
          "name": "stdout",
          "text": [
            "1 : 0.2231435513142097 : Bool[0, 0, 0]\n",
            "2 : 2.6294303854393988 : Bool[1, 1, 1]\n",
            "3 : 0.6462314803394785 : Bool[0, 1, 1]\n",
            "4 : 0.04973082342478724 : Bool[0, 0, 1]\n",
            "5 : 8.853353918869544e-7 : Bool[0, 0, 1]"
          ]
        },
        {
          "output_type": "display_data",
          "metadata": {},
          "data": {
            "text/plain": [
              "3-element Vector{Bool}:\n",
              " 0\n",
              " 0\n",
              " 1"
            ]
          }
        }
      ],
      "source": [
        "policy_iteration(model)[3]"
      ],
      "id": "cell-43"
    },
    {
      "cell_type": "code",
      "execution_count": 40,
      "metadata": {},
      "outputs": [
        {
          "output_type": "stream",
          "name": "stdout",
          "text": [
            "1 : 1.2039728043259361 : Bool[0, 0, 0]\n",
            "2 : 10.728021688918453 : Bool[1, 1, 1]\n",
            "3 : 8.015472237055121e-7 : Bool[1, 1, 1]"
          ]
        },
        {
          "output_type": "display_data",
          "metadata": {},
          "data": {
            "text/plain": [
              "3-element Vector{Bool}:\n",
              " 1\n",
              " 1\n",
              " 1"
            ]
          }
        }
      ],
      "source": [
        "policy_iteration(merge(model, (;cbar=0.3)))[3]"
      ],
      "id": "cell-44"
    },
    {
      "cell_type": "code",
      "execution_count": null,
      "metadata": {},
      "outputs": [],
      "source": [
        "merge(model, (;cbar=0.7)"
      ],
      "id": "cell-45"
    }
  ],
  "nbformat": 4,
  "nbformat_minor": 5,
  "metadata": {
    "kernelspec": {
      "name": "julia-1.10",
      "display_name": "Julia 1.10.3",
      "language": "julia"
    },
    "language_info": {
      "name": "julia",
      "file_extension": ".jl",
      "mimetype": "application/julia",
      "version": "1.10.3"
    }
  }
}