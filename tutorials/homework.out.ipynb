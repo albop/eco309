{
  "cells": [
    {
      "cell_type": "markdown",
      "metadata": {},
      "source": [
        "# Homework\n",
        "\n",
        "Computational Economics (ECO309)\n",
        "\n",
        "**Name**:\n",
        "\n",
        "**Surname**:\n",
        "\n",
        "After completing the following questions, send the edited notebook to\n",
        "`pwinant@escp.eu`\n",
        "\n",
        "You are allowed to use any online available resource, and to you use any\n",
        "julia package, but not to copy/paste any code.\n",
        "\n",
        "Also, don’t forget to comment your code and take any initiative you find\n",
        "useful and/or interesting. Also don’t wait to be prompted to interpret\n",
        "your own results (or attempts).\n",
        "\n",
        "Have fun ! ⌣\n",
        "\n",
        "## Part I : A simple CGE model\n",
        "\n",
        "The goal of this exercise consists in solving a simple CGE model using\n",
        "Julia.\n",
        "\n",
        "Model is taken from *Handbook of Computable General Equilibrium\n",
        "Modeling*. [1]\n",
        "\n",
        "### The data and the social accounting matrix\n",
        "\n",
        "In a CGE, the data about the economy’s exchanges is compiled in one\n",
        "single “Social Accounting Matrix”. It is essentially a matrix\n",
        "representation of the national accounts that can be arbitrary refined\n",
        "based on data availability.\n",
        "\n",
        "In this course work we consider the following simplified version. All\n",
        "items are in million euros.\n",
        "\n",
        "| SAM | BRD | MLK | CAP | LAB | HOH |\n",
        "|:---:|:---:|:---:|:---:|:---:|:---:|\n",
        "| BRD |     |     |     |     | 15  |\n",
        "| MLK |     |     |     |     | 35  |\n",
        "| CAP |  5  | 20  |     |     |     |\n",
        "| LAB | 10  | 15  |     |     |     |\n",
        "| HOH |     |     | 25  | 25  |     |\n",
        "\n",
        "In this table, there are 5 sectors:\n",
        "\n",
        "-   Two Goods: BRD and MLK\n",
        "-   Two Factors: CAP and LAB (capital and labour)\n",
        "-   One Agent: HOH (Households)\n",
        "\n",
        "Each of the rows feature a decomposition of the spending associated with\n",
        "each column.\n",
        "\n",
        "For instance, the value of the production in the BRD-producing sector\n",
        "(column BRD) is decomposed between the payment to capital (5) and the\n",
        "payment to labor (10). The full capital income goes to households (25).\n",
        "Households spend their income between BRD (15) and MLK (35.)\n",
        "\n",
        "1.  Create a DataFrame representing the SAM matrix.\n",
        "\n",
        "[1] You can checkout the GAMS code for the model\n",
        "[here](https://www.gams.com/latest/gamslib_ml/libhtml/gamslib_splcge.html).\n",
        "This can be useful to check that you get all equations right. GAMS is a\n",
        "modeling software, routinely used for CGEs."
      ],
      "id": "f5c63106-ac22-4758-a66b-75468c43a461"
    },
    {
      "cell_type": "code",
      "execution_count": 3,
      "metadata": {},
      "outputs": [],
      "source": [
        "using DataFrames\n",
        "\n",
        "SAM = ..."
      ],
      "id": "d302947e"
    },
    {
      "cell_type": "markdown",
      "metadata": {},
      "source": [
        "### Notations\n",
        "\n",
        "To shorten notations while preserving readibility we associate\n",
        "conventional indices to each sector: $i \\in \\text{BRD,MLK}$,\n",
        "$j\\in \\text{BRD,MLK}$, $h \\in \\text{CAP,LAB}$).\n",
        "\n",
        "To model the economy, we will assume that endowments $F_h$ are in fixed\n",
        "quantities (so $F_{BRD}$ and $F_{MLK}$ are two fixed parameters.)\n",
        "\n",
        "We use the following notations:\n",
        "\n",
        "-   $X_i$ household consumption of good i\n",
        "-   $F_{h,j}$ the h-th factor input by firm j\n",
        "-   $Z_{j}$ output of the j-th good\n",
        "-   $p^x_{i}$ demand price of the i-th good\n",
        "-   $p^z_{j}$ supply price of the i-th good\n",
        "-   $p^f_{h}$ the h-th factor price\n",
        "\n",
        "Our goal is to endogenize all these variables (there are 14 of them), by\n",
        "constructing a system of equations corresponding to the model we\n",
        "describe below.\n",
        "\n",
        "We also denote by a zero exponent, the variables at the initial\n",
        "steady-state. For instance, $X_{BRD}^0$ is the household consumption of\n",
        "good $BRD$. We assume that the SAM corresponds to values observed at the\n",
        "initial steady-state.\n",
        "\n",
        "### Consumers\n",
        "\n",
        "Households are endowed with capital (resp labour) in quantity $F_{CAP}$\n",
        "resp $F_{LAB}$) that they sell to the goods producing firms at price\n",
        "$p^f_{CAP}$ (resp $p^f_{LAB}$).\n",
        "\n",
        "Given prices of goods $p^x_i$, households maximize utility of\n",
        "consumption $$U = \\prod_i X_i^{\\alpha_i}$$ where $\\alpha_i$ is the share\n",
        "parameter in the utility function (with $\\sum_i \\alpha_i=1$)\n",
        "\n",
        "1.  **Write down the budget constraint of households. Show that\n",
        "    household’s demand can be written as function of total gdp and price\n",
        "    of goods as in\n",
        "    $$X_i  = \\alpha_i\\frac{ \\sum_h  p^f_h F_h}{p^x_i}$$.**\n",
        "\n",
        "2.  **According to the SAM matrix, what is the value of gdp in the\n",
        "    model? How can we calibrate the values of $\\alpha_i$?**\n",
        "\n",
        "### Producers\n",
        "\n",
        "We assume that producers of final goods, use the following production\n",
        "function:\n",
        "\n",
        "$$Z_j   = b_j \\prod_h F_{h,j}^{\\beta_{h,j}}$$\n",
        "\n",
        "where $\\beta_{h,j}$ is the share parameter in production function\n",
        "($\\sum_h \\beta_{h,j}=1$) and $b_j$ is a scale parameter. Firms rent\n",
        "labour and capital at market price and are perfectly competitive.\n",
        "\n",
        "1.  **Show that factor demand function can be written as:**\n",
        "    $$ F_{h,j} = \\beta_{h,j} \\frac{p^z_j Z_j }{p^f_h} $$\n",
        "\n",
        "2.  **How can we calibrate $\\beta_{h,j}$ from the data? How can we\n",
        "    recover $b_j$?**\n",
        "\n",
        "3.  **Without loss of generality we can assume that all prices are equal\n",
        "    to 1 in the initial equilibrium. [1] What are then the values for\n",
        "    endowments $F_h$ consistent with the SAM? How can we calibrate the\n",
        "    value of $b_j$?**\n",
        "\n",
        "### Equilibrium\n",
        "\n",
        "In equilibrium we have the following conditions:\n",
        "\n",
        "-   demand prices of the i-th good must match supply price of the same\n",
        "    good: $$p^x_{i} = p^z_{i}$$\n",
        "\n",
        "-   good markets must clear: $$ X_i   = Z_i $$\n",
        "\n",
        "-   factor markets must clear: $$ \\sum_j F_{h,j} = F_h $$\n",
        "\n",
        "-   the price of labour is taken as the numeraire $p_{LAB} = 1$ (the\n",
        "    other prices are endogenous).\n",
        "\n",
        "[1] this can be done by renormalizing the unit of the quantities."
      ],
      "id": "aed8a06f-530c-44a7-9b42-1c9f3361df6f"
    },
    {
      "cell_type": "raw",
      "metadata": {
        "raw_mimetype": "text/html"
      },
      "source": [
        "<!-- @. __Justify the steady-state identity: $Z^0_j   = \\sum_h F^0_{h,j}$.__ -->"
      ],
      "id": "2fdd2e13-87a3-4f3f-bded-61c89f908022"
    },
    {
      "cell_type": "markdown",
      "metadata": {},
      "source": [
        "### Calibration and solution\n",
        "\n",
        "1.  **Define a structure `model`, containing the parameters of the model\n",
        "    that can be directly calibrated from the data\n",
        "    (i.e. $\\alpha_i$,$\\beta_{ij}$, $b_j$, $F_h$ …).**"
      ],
      "id": "261d8c4f-5d3e-4c41-80c6-4f35733ceaf4"
    },
    {
      "cell_type": "code",
      "execution_count": 4,
      "metadata": {},
      "outputs": [],
      "source": [
        "## Choose the structure your prefer"
      ],
      "id": "703ee725"
    },
    {
      "cell_type": "markdown",
      "metadata": {},
      "source": [
        "1.  **Create an initial set of values `vars0` for the model *variables*\n",
        "    to be solved for. These variables should be consistent with the\n",
        "    Social Accounting Matrix.**"
      ],
      "id": "4b97a952-fae8-4af8-b352-5d7c1d9ef314"
    },
    {
      "cell_type": "code",
      "execution_count": null,
      "metadata": {},
      "outputs": [],
      "source": [
        "## one suggestion consists in defining a named tuple of the form:\n",
        "\n",
        "vars0 = (;\n",
        "    X=(;\n",
        "        BRD=...,\n",
        "        MLK=...\n",
        "    ),\n",
        "    F=(;\n",
        "        LAB=(;\n",
        "            BRD=...,\n",
        "            MLK=...\n",
        "        )\n",
        "    ),\n",
        "    ...\n",
        ")"
      ],
      "id": "d6efd3d8"
    },
    {
      "cell_type": "markdown",
      "metadata": {},
      "source": [
        "1.  **Write a function which packs the set of variable values into a\n",
        "    julia vector. Write the reverse function to unpack a vector into a\n",
        "    structure of the same type as vars. Check that these two functions\n",
        "    are consistent (i.e. `pack(unpack(u)) == u`).**"
      ],
      "id": "9f8bbda2-a213-411c-8733-419012a7df67"
    },
    {
      "cell_type": "code",
      "execution_count": null,
      "metadata": {},
      "outputs": [],
      "source": [
        "# input argument should be the same as vars0\n",
        "function pack(vars)::Vector\n",
        "\n",
        "    # [X_BRD, X_MLK, F_LAB_BRD, ...]\n",
        "end"
      ],
      "id": "4d086f6e"
    },
    {
      "cell_type": "code",
      "execution_count": 7,
      "metadata": {},
      "outputs": [
        {
          "output_type": "display_data",
          "metadata": {},
          "data": {
            "text/plain": [
              "unpack (generic function with 1 method)"
            ]
          }
        }
      ],
      "source": [
        "# output argument should be the same as vars0\n",
        "function unpack(u::AbstractVector)\n",
        "\n",
        "    \n",
        "end"
      ],
      "id": "10474206"
    },
    {
      "cell_type": "markdown",
      "metadata": {},
      "source": [
        "1.  **Write a function `residuals` which check whether the model\n",
        "    equations are satisfied for a particular guess `v0`. The output can\n",
        "    be a simple vector. Check the residuals for the initial guess\n",
        "    `vars0`. They should be zeros is if the initial values and the model\n",
        "    equations have been carefully chosen.**"
      ],
      "id": "3f9a258a-9f90-4f43-a746-21428c35979f"
    },
    {
      "cell_type": "code",
      "execution_count": null,
      "metadata": {},
      "outputs": [],
      "source": [
        "function residuals(model, v)::Vector\n",
        "\n",
        "    # write down the model equations below\n",
        "    \n",
        "\n",
        "end"
      ],
      "id": "fd624138"
    },
    {
      "cell_type": "markdown",
      "metadata": {},
      "source": [
        "1.  **Add a new method to the function `residuals`, which now takes a\n",
        "    vector as argument (using the unpack function). Compute the jacobian\n",
        "    of that new function. Verify that the rank of this jacobian equals\n",
        "    the number of variables to be determined. If the number of equations\n",
        "    is greater than the number of variables to be determined, can you\n",
        "    identify one equation that can be safely removed?**."
      ],
      "id": "945e3862-495f-4f3a-9273-69de93db7615"
    },
    {
      "cell_type": "code",
      "execution_count": null,
      "metadata": {},
      "outputs": [],
      "source": [
        "# Your code"
      ],
      "id": "2da9cf90"
    },
    {
      "cell_type": "markdown",
      "metadata": {},
      "source": [
        "1.  **Write a method to solve the system in all the endogenous variables\n",
        "    when the initial guess is close to the initial equilibrium. You can\n",
        "    use your method of choice (using your own code, using nlsolve, …).\n",
        "    To ease convergence, you might want to take into account information\n",
        "    about variable boundaries (all variables are positive).**"
      ],
      "id": "cc008b33-5ccb-40e6-9f7e-d4216bae1d00"
    },
    {
      "cell_type": "code",
      "execution_count": null,
      "metadata": {},
      "outputs": [],
      "source": [
        "# Your code"
      ],
      "id": "d926e4a3"
    },
    {
      "cell_type": "markdown",
      "metadata": {},
      "source": [
        "### Applications\n",
        "\n",
        "1.  **A massive migration doubles the endowment of labour, which is now\n",
        "    equal to 50. Assuming structural parameters are unchanged, Compute\n",
        "    the new equilibrium using the same code as before. Comment on the\n",
        "    changes in quantities and prices. Could you have predicted them?**"
      ],
      "id": "85d20d8c-200c-48ca-8b3e-3d7732ba67e8"
    },
    {
      "cell_type": "code",
      "execution_count": 2,
      "metadata": {},
      "outputs": [],
      "source": [
        "# Your code"
      ],
      "id": "9d902800"
    },
    {
      "cell_type": "markdown",
      "metadata": {},
      "source": [
        "1.  **What happens if the labour share in both production sectors is\n",
        "    reduced by 1%? (i.e. $\\beta_{LAB,j}$ is reduced by 1%).**"
      ],
      "id": "d4472b78-45b3-49d8-b753-8f8cdaa924aa"
    },
    {
      "cell_type": "code",
      "execution_count": null,
      "metadata": {},
      "outputs": [],
      "source": [
        "# Your code"
      ],
      "id": "294abf9b"
    },
    {
      "cell_type": "markdown",
      "metadata": {},
      "source": [
        "## Part II - Endogenous Exit\n",
        "\n",
        "### Warmup: discretization of an AR1\n",
        "\n",
        "{The following code, taken from Quantecon.jl approximates an AR1 process\n",
        "$$y_t = \\mu + \\rho (y_{t-1}-\\mu) + \\epsilon_t$$ (where $\\nu$ is the\n",
        "standard deviation of normal process $\\epsilon$), using a finite markov\n",
        "chain with $N$ different values.\n",
        "\n",
        "The output is a transition matrix $P_{ij}$ and a vector containing\n",
        "discretized values $y_1, y_2, ... y_p$"
      ],
      "id": "f3e8661d-a5cd-41aa-98de-2a217f36a286"
    },
    {
      "cell_type": "code",
      "execution_count": null,
      "metadata": {},
      "outputs": [
        {
          "output_type": "display_data",
          "metadata": {},
          "data": {
            "text/plain": [
              "tauchen (generic function with 3 methods)"
            ]
          }
        }
      ],
      "source": [
        "# uncomment the following line if \"SpecialFunctions\" is not on your system\n",
        "# import Pkg; Pkg.add(\"SpecialFunctions\")\n",
        "\n",
        "using SpecialFunctions: erfc\n",
        "\n",
        "std_norm_cdf(x::T) where {T <: Real} = 0.5 * erfc(-x/sqrt(2))\n",
        "std_norm_cdf(x::Array{T}) where {T <: Real} = 0.5 .* erfc(-x./sqrt(2))\n",
        "\n",
        "function tauchen(N::Integer, ρ::T1, σ::T2, μ=zero(promote_type(T1, T2)), n_std::T3=3) where {T1 <: Real, T2 <: Real, T3 <: Real}\n",
        "    # Get discretized space\n",
        "    a_bar = n_std * sqrt(σ^2 / (1 - ρ^2))\n",
        "    y = range(-a_bar, stop=a_bar, length=N)\n",
        "    d = y[2] - y[1]\n",
        "\n",
        "    # Get transition probabilities\n",
        "    Π = zeros(promote_type(T1, T2), N, N)\n",
        "    for row = 1:N\n",
        "        # Do end points first\n",
        "        Π[row, 1] = std_norm_cdf((y[1] - ρ*y[row] + d/2) / σ)\n",
        "        Π[row, N] = 1 - std_norm_cdf((y[N] - ρ*y[row] - d/2) / σ)\n",
        "\n",
        "        # fill in the middle columns\n",
        "        for col = 2:N-1\n",
        "            Π[row, col] = (std_norm_cdf((y[col] - ρ*y[row] + d/2) / σ) -\n",
        "                           std_norm_cdf((y[col] - ρ*y[row] - d/2) / σ))\n",
        "        end\n",
        "    end\n",
        "\n",
        "    yy = y .+ μ / (1 - ρ) # center process around its mean (wbar / (1 - rho)) in new variable\n",
        "\n",
        "    (;transitions=Π, values=yy)\n",
        "\n",
        "end"
      ],
      "id": "128cf883"
    },
    {
      "cell_type": "markdown",
      "metadata": {},
      "source": [
        "1.  **Take $\\rho=0.95, \\mu=0.1, \\nu=0.1$. Approximate the AR1 with 200\n",
        "    discrete states, using the tauchen function above. Check that all\n",
        "    rows sum to 1. Compute and plot the steady-state distribution.**"
      ],
      "id": "f2d61dfb-bacb-4c6c-a934-ea252a9847dc"
    },
    {
      "cell_type": "code",
      "execution_count": null,
      "metadata": {},
      "outputs": [],
      "source": [
        "# you code here"
      ],
      "id": "41465ba4"
    },
    {
      "cell_type": "markdown",
      "metadata": {},
      "source": [
        "1.  **Simulate the evolution of the above markov chain for 10000\n",
        "    periods. Compute the mean and standard deviation of all the\n",
        "    simulated values. Compare these moments with the results obtained in\n",
        "    the preceding question.**"
      ],
      "id": "bd220f86-cc5c-4e62-b400-5608a6656269"
    },
    {
      "cell_type": "code",
      "execution_count": 17,
      "metadata": {},
      "outputs": [],
      "source": [
        "# you code here"
      ],
      "id": "3063ccca"
    },
    {
      "cell_type": "markdown",
      "metadata": {},
      "source": [
        "### A firm’s problem\n",
        "\n",
        "Consider a firm whose productivity $y_t$ is exogenous and evolves\n",
        "according to the markov chain above.\n",
        "\n",
        "Profits are given by $\\pi(y_t) = y_t$.\n",
        "\n",
        "At the start of each period, the firm decides whether to remain in\n",
        "operation and receive current profit $\\pi_t$ or to exit and receive\n",
        "scrap value $s>0$ for the sale of physical assets.\n",
        "\n",
        "Time is discounted using interest rate, that is\n",
        "$\\beta=\\frac{1}{1+r} \\in [0,1[$.\n",
        "\n",
        "The following code creates a parameterization of the firm’s problem:"
      ],
      "id": "969fe3bb-0738-4f52-bb9b-1c1ce751bdb7"
    },
    {
      "cell_type": "code",
      "execution_count": null,
      "metadata": {},
      "outputs": [
        {
          "output_type": "display_data",
          "metadata": {},
          "data": {
            "text/plain": [
              "create_exit_model"
            ]
          }
        }
      ],
      "source": [
        "\"Creates an instance of the firm exit model.\"\n",
        "function create_exit_model(;\n",
        "    n=200, # productivity grid size\n",
        "    ρ=0.95, μ=0.1, ν=0.1, # persistence, mean and volatility\n",
        "    β=0.98, s=100.0 # discount factor and scrap value\n",
        "    )\n",
        "    mc = tauchen(n, ρ, ν, μ)\n",
        "    z_vals, Q = mc.state_values, mc.p\n",
        "    return (; n, z_vals, Q, β, s)\n",
        "end"
      ],
      "id": "21b181f5"
    },
    {
      "cell_type": "markdown",
      "metadata": {},
      "source": [
        "Solving the model consists in finding the value of the firm in each\n",
        "productivity state $y$ as well as the optimal decision (quit or continue\n",
        "in each of these states).\n",
        "\n",
        "The value of the firm satisfies the Bellman equation:\n",
        "\n",
        "$$V(y) = \\max_{c(y)} \\pi(y) + \\beta \\begin{cases} \\mathbb{E}\\left[ V(y') | y\\right] & \\text{if c(y)=true}\\\\ s & \\text{otherwise}\\end{cases}$$\n",
        "\n",
        "Given that we have discretized the AR1 as a markov chain, one can also\n",
        "write it\n",
        "\n",
        "$$V(y_i) = \\max_{c(y_i)} \\pi(y_i) + \\beta \\begin{cases} \\sum_j P_{ij} V(y_j)  & \\text{if } c(y_i)=\\text{true} \\\\ s & \\text{otherwise} \\end{cases}$$\n",
        "\n",
        "For this problem it is natural to encode a guess for the value function\n",
        "$(V(y_i))_i$ as a `Vector{Float64}` of length $p$ and the vector of\n",
        "controls $(c(y_i))_i$ as a `Vector{Float64}` of length $p$.\n",
        "\n",
        "1.  **Write a function `bellman_step(model, V)` which takes in the model\n",
        "    parameterization, as well as a guess for the next period value\n",
        "    function ($V()$ on the right hand side of the Bellman equation) and\n",
        "    returns a new updated value ($V()$ on the left).**"
      ],
      "id": "22147cc5-abaf-44a1-b9d3-4e923c41c292"
    },
    {
      "cell_type": "code",
      "execution_count": null,
      "metadata": {},
      "outputs": [],
      "source": [
        "# you code here"
      ],
      "id": "de81b671"
    },
    {
      "cell_type": "markdown",
      "metadata": {},
      "source": [
        "1.  **Apply the `bellman_step` function until convergence, starting from\n",
        "    any initial guess.[1] Show that convergence speed is linear. Plot\n",
        "    the resulting value function and optimal choices. Comment.**\n",
        "\n",
        "[1] This is known as the value function iteration algorithm."
      ],
      "id": "f9747d59-a937-4692-a4ad-f882b4b13ab9"
    },
    {
      "cell_type": "code",
      "execution_count": 18,
      "metadata": {},
      "outputs": [],
      "source": [
        "# you code here"
      ],
      "id": "35893367"
    }
  ],
  "nbformat": 4,
  "nbformat_minor": 5,
  "metadata": {
    "kernelspec": {
      "name": "julia-1.10",
      "display_name": "Julia 1.10.3",
      "language": "julia"
    },
    "language_info": {
      "name": "julia",
      "file_extension": ".jl",
      "mimetype": "application/julia",
      "version": "1.10.3"
    }
  }
}