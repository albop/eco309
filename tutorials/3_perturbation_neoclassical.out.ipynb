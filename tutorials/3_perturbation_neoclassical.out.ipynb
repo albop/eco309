{
  "cells": [
    {
      "cell_type": "markdown",
      "metadata": {},
      "source": [
        "# Perturbation of Neoclassical Model\n",
        "\n",
        "Pablo Winant"
      ],
      "id": "f928c192-fb15-4c23-a050-e85fc22de607"
    },
    {
      "cell_type": "code",
      "execution_count": null,
      "metadata": {},
      "outputs": [],
      "source": [
        "Our goal here is to compute a linear approximation of solution to the neoclassical model, close ot the steady-state."
      ],
      "id": "cell-1"
    },
    {
      "cell_type": "markdown",
      "metadata": {},
      "source": [
        "**Warm-up: install the `ForwardDiff` library. Use it to differentiate\n",
        "the function below. Check the jacobian function.**\n",
        "\n",
        "Note: the signature of function `f` needs to be fixed first to allow for\n",
        "dual numbers as arguments."
      ],
      "id": "4bd9ea3b-c850-4d68-a70b-edee3438acb8"
    },
    {
      "cell_type": "code",
      "execution_count": 16,
      "metadata": {},
      "outputs": [
        {
          "output_type": "display_data",
          "metadata": {},
          "data": {
            "text/plain": [
              "f (generic function with 4 methods)"
            ]
          }
        }
      ],
      "source": [
        "# function f(x::Vector{T}) where T <: Number\n",
        "function f(x::Vector{<:Number}) # equivalent\n",
        "    a = x[1]\n",
        "    b = x[2]\n",
        "    x1 = a+b\n",
        "    x2 = a*exp(b)\n",
        "    return [x1,x2]\n",
        "end"
      ],
      "id": "cell-3"
    },
    {
      "cell_type": "code",
      "execution_count": 17,
      "metadata": {},
      "outputs": [],
      "source": [
        "using ForwardDiff"
      ],
      "id": "cell-4"
    },
    {
      "cell_type": "code",
      "execution_count": 18,
      "metadata": {},
      "outputs": [
        {
          "output_type": "display_data",
          "metadata": {},
          "data": {
            "text/plain": [
              "2×2 Matrix{Float64}:\n",
              " 1.0      1.0\n",
              " 1.49182  0.298365"
            ]
          }
        }
      ],
      "source": [
        "ForwardDiff.jacobian(f, [0.2, 0.4])"
      ],
      "id": "cell-5"
    },
    {
      "cell_type": "markdown",
      "metadata": {},
      "source": [
        "**Create a NamedTuple to hold the model parameters.**"
      ],
      "id": "4ca9908f-280b-4cb0-8266-6745489bad51"
    },
    {
      "cell_type": "code",
      "execution_count": 1,
      "metadata": {},
      "outputs": [
        {
          "output_type": "display_data",
          "metadata": {},
          "data": {
            "text/plain": [
              "(α = 0.3, β = 0.96, γ = 4.0, δ = 0.1, ρ = 0.9)"
            ]
          }
        }
      ],
      "source": [
        "parameters = (;\n",
        "    α=0.3,\n",
        "    β=0.96,\n",
        "    γ=4.0,\n",
        "    δ=0.1,\n",
        "    ρ=0.9\n",
        ")"
      ],
      "id": "cell-7"
    },
    {
      "cell_type": "markdown",
      "metadata": {},
      "source": [
        "**Define two functions:** -\n",
        "`transition(z::Number, k::Number, i::Number, p)::Tuple{Number}` which\n",
        "returns productivity and capital at date `t+1` as a function of\n",
        "productivity, capital and investment at date `t` -\n",
        "`arbitrage(z::Number, k::Number, i::Number, Z::Number, K::Number, I::Number, p)::Number`\n",
        "which returns the residual of the euler equation (lower case variable\n",
        "for date t, upper case for date t+1)"
      ],
      "id": "860ccb7f-e1a5-45ae-9ced-84dcec06dc11"
    },
    {
      "cell_type": "code",
      "execution_count": 2,
      "metadata": {},
      "outputs": [
        {
          "output_type": "display_data",
          "metadata": {},
          "data": {
            "text/plain": [
              "transition (generic function with 1 method)"
            ]
          }
        }
      ],
      "source": [
        "function transition(z::Number, k::Number, i::Number, p)\n",
        "\n",
        "        Z = p.ρ * z\n",
        "        K = (1-p.δ) * k + i\n",
        "\n",
        "        (;Z, K)\n",
        "\n",
        "end"
      ],
      "id": "cell-9"
    },
    {
      "cell_type": "code",
      "execution_count": 3,
      "metadata": {},
      "outputs": [
        {
          "output_type": "display_data",
          "metadata": {},
          "data": {
            "text/plain": [
              "arbitrage (generic function with 1 method)"
            ]
          }
        }
      ],
      "source": [
        "function arbitrage(z::Number, k::Number, i::Number, Z::Number, K::Number, I::Number, p)\n",
        "\n",
        "    # positional unpacking (error-prone)\n",
        "    # α, β, γ, δ, ρ = p\n",
        "    \n",
        "    (;α, β, γ, δ, ρ) = p\n",
        "\n",
        "    # define auxiliary variables today\n",
        "    y = exp(z)k^α\n",
        "    c = y - i\n",
        "\n",
        "    # define auxiliary variables tomorrow\n",
        "    Y = exp(Z)K^α\n",
        "    C = Y - I\n",
        "\n",
        "    residual = β*(C/c)^(-γ)*( (1-δ) + α*K^(α-1)*exp(Z)) - 1\n",
        "\n",
        "    return residual\n",
        "\n",
        "\n",
        "end"
      ],
      "id": "cell-10"
    },
    {
      "cell_type": "markdown",
      "metadata": {},
      "source": [
        "**Using multiple dispatch, define two variants of the same functions,\n",
        "that take vectors as input and output arguments:** -\n",
        "`arbitrage(s::Vector{T}, x::Vector{T}, S::Vector{T}, X::Vector{T}, p) where T<:Number` -\n",
        "`transition(s::Vector{T}, x::Vector{T}, p) where T<:Number`"
      ],
      "id": "77404ed3-84f5-4663-859a-e29c934173e4"
    },
    {
      "cell_type": "code",
      "execution_count": 4,
      "metadata": {},
      "outputs": [],
      "source": [
        "# this returns a number\n",
        "# arbitrage(s::Vector{T}, x::Vector{T}, S::Vector{T}, X::Vector{T}, p) where T<:Number = arbitrage(s[1],s[2],x[1],S[1],S[2],X[1],p)"
      ],
      "id": "cell-12"
    },
    {
      "cell_type": "code",
      "execution_count": 5,
      "metadata": {},
      "outputs": [
        {
          "output_type": "display_data",
          "metadata": {},
          "data": {
            "text/plain": [
              "1-element Vector{Float64}:\n",
              " 2.4"
            ]
          }
        }
      ],
      "source": [
        "[2.4]   # create a vector from  a number"
      ],
      "id": "cell-13"
    },
    {
      "cell_type": "code",
      "execution_count": 6,
      "metadata": {},
      "outputs": [
        {
          "output_type": "display_data",
          "metadata": {},
          "data": {
            "text/plain": [
              "arbitrage (generic function with 2 methods)"
            ]
          }
        }
      ],
      "source": [
        "arbitrage(s::Vector{T}, x::Vector{T}, S::Vector{T}, X::Vector{T}, p) where T<:Number = [\n",
        "    arbitrage(s[1],s[2],x[1],S[1],S[2],X[1],p)\n",
        "]"
      ],
      "id": "cell-14"
    },
    {
      "cell_type": "code",
      "execution_count": 7,
      "metadata": {},
      "outputs": [],
      "source": [
        "# this returns a tuple\n",
        "# transition(s::Vector{T}, x::Vector{T}, p) where T<: Number = transition(s[1], s[2], x[1], p)"
      ],
      "id": "cell-15"
    },
    {
      "cell_type": "code",
      "execution_count": 8,
      "metadata": {},
      "outputs": [
        {
          "output_type": "display_data",
          "metadata": {},
          "data": {
            "text/plain": [
              "(1, 2, 3)"
            ]
          }
        }
      ],
      "source": [
        "t = (1,2,3)"
      ],
      "id": "cell-16"
    },
    {
      "cell_type": "code",
      "execution_count": 9,
      "metadata": {},
      "outputs": [
        {
          "output_type": "display_data",
          "metadata": {},
          "data": {
            "text/plain": [
              "3-element Vector{Int64}:\n",
              " 1\n",
              " 2\n",
              " 3"
            ]
          }
        }
      ],
      "source": [
        "# to convert into a tuple into a vector\n",
        "[t...]"
      ],
      "id": "cell-17"
    },
    {
      "cell_type": "code",
      "execution_count": 10,
      "metadata": {},
      "outputs": [
        {
          "output_type": "display_data",
          "metadata": {},
          "data": {
            "text/plain": [
              "transition (generic function with 2 methods)"
            ]
          }
        }
      ],
      "source": [
        "transition(s::Vector{T}, x::Vector{T}, p) where T<: Number = [transition(s[1], s[2], x[1], p)...]"
      ],
      "id": "cell-18"
    },
    {
      "cell_type": "markdown",
      "metadata": {},
      "source": [
        "**Write a function `steady_state(p)::Tuple{Vector,Vector}` which\n",
        "computes the steady-state of the model computed by hand.** It returns\n",
        "two vectors, one for the states, one for the controls. Check that the\n",
        "steady-state satisfies the model equations."
      ],
      "id": "f2720034-b16b-4d32-9a4a-f569a1c9b5da"
    },
    {
      "cell_type": "code",
      "execution_count": 11,
      "metadata": {},
      "outputs": [
        {
          "output_type": "display_data",
          "metadata": {},
          "data": {
            "text/plain": [
              "steady_state (generic function with 1 method)"
            ]
          }
        }
      ],
      "source": [
        "function steady_state(p)\n",
        "    (;α, β, γ, δ, ρ) = p\n",
        "\n",
        "    # ...\n",
        "    z = 0.0\n",
        "\n",
        "    k = ((1/β - (1-δ))/α)^ (1/(α-1))\n",
        "    i = δ*k\n",
        "\n",
        "    s = [z,k] # vector of states\n",
        "    x = [i]  # vector controls\n",
        "\n",
        "    return (;\n",
        "        s,\n",
        "        x\n",
        "    )\n",
        "\n",
        "\n",
        "end"
      ],
      "id": "cell-20"
    },
    {
      "cell_type": "code",
      "execution_count": 12,
      "metadata": {},
      "outputs": [
        {
          "output_type": "display_data",
          "metadata": {},
          "data": {
            "text/plain": [
              "(s = [0.0, 2.920822149964071], x = [0.29208221499640713])"
            ]
          }
        }
      ],
      "source": [
        "q = steady_state(parameters)"
      ],
      "id": "cell-21"
    },
    {
      "cell_type": "code",
      "execution_count": 13,
      "metadata": {},
      "outputs": [],
      "source": [
        "# check the steady-state is correct using the functions representing the model\n"
      ],
      "id": "cell-22"
    },
    {
      "cell_type": "code",
      "execution_count": 14,
      "metadata": {},
      "outputs": [
        {
          "output_type": "display_data",
          "metadata": {},
          "data": {
            "text/html": [
              "# 2 methods for generic function <b>transition</b> from \u001b[35mMain\u001b[39m:<ul><li> transition(z::<b>Number</b>, k::<b>Number</b>, i::<b>Number</b>, p) in Main at <a href=\"https://github.com/albop/mie37/tree/5e1a75579e52971459bf081175090f650cec0fa1//tutorials/3_perturbation_neoclassical.ipynb#L1\" target=\"_blank\">/home/pablo/Teaching/ensae/mie37/tutorials/3_perturbation_neoclassical.ipynb:1</a></li> <li> transition(s::<b>Vector{T}</b>, x::<b>Vector{T}</b>, p)<i> where T<:Number</i> in Main at <a href=\"https://github.com/albop/mie37/tree/5e1a75579e52971459bf081175090f650cec0fa1//tutorials/3_perturbation_neoclassical.ipynb#L1\" target=\"_blank\">/home/pablo/Teaching/ensae/mie37/tutorials/3_perturbation_neoclassical.ipynb:1</a></li> </ul>"
            ]
          }
        }
      ],
      "source": [
        "methods(transition)"
      ],
      "id": "cell-23"
    },
    {
      "cell_type": "code",
      "execution_count": 15,
      "metadata": {},
      "outputs": [],
      "source": [
        "@assert maximum(transition(q.s, q.x, parameters) - q.s) == 0.0"
      ],
      "id": "cell-24"
    },
    {
      "cell_type": "code",
      "execution_count": 16,
      "metadata": {},
      "outputs": [],
      "source": [
        "@assert maximum(arbitrage(q.s, q.x, q.s, q.x, parameters)) == 0.0"
      ],
      "id": "cell-25"
    },
    {
      "cell_type": "markdown",
      "metadata": {},
      "source": [
        "The first order system satisfies:\n",
        "$$\\begin{align}A s_t + B x_t + C s_{t+1} + D x_{t+1} & = & 0 \\\\\\\\ \n",
        "s_{t+1} & = & E s_t + F x_t\n",
        " \\end{align}$$\n",
        "\n",
        "**Define a structure `PerturbedModel` to hold matrices A,B,C,D,E,F.**"
      ],
      "id": "0ef99260-ebb7-415c-bacc-7b971dfb80dc"
    },
    {
      "cell_type": "code",
      "execution_count": 17,
      "metadata": {},
      "outputs": [],
      "source": [
        "struct PerturbedModel\n",
        "    A::Matrix\n",
        "    B::Matrix\n",
        "    C::Matrix\n",
        "    D::Matrix\n",
        "    E::Matrix\n",
        "    F::Matrix\n",
        "\n",
        "end"
      ],
      "id": "cell-27"
    },
    {
      "cell_type": "markdown",
      "metadata": {},
      "source": [
        "**Write a function\n",
        "`first_order_model(s::Vector, x::Vector, p)::PerturbedModel`, which\n",
        "returns the first order model, given the steady-state and the\n",
        "calibration. Suggestion: use `ForwardDiff.jl` library.**"
      ],
      "id": "57a1a303-8a15-46bc-9695-4cd833e9ae7a"
    },
    {
      "cell_type": "code",
      "execution_count": 18,
      "metadata": {},
      "outputs": [
        {
          "output_type": "stream",
          "name": "stderr",
          "text": [
            "WARNING: method definition for arbitrage at /home/pablo/Teaching/ensae/mie37/tutorials/3_perturbation_neoclassical.ipynb:4 declares type variable T but does not use it."
          ]
        },
        {
          "output_type": "display_data",
          "metadata": {},
          "data": {
            "text/plain": [
              "arbitrage (generic function with 3 methods)"
            ]
          }
        }
      ],
      "source": [
        "# we need to loosen the constraint on the arbitrage arguments:\n",
        "\n",
        "# brutal\n",
        "arbitrage(s, x, S, X, p) where T<:Number = [\n",
        "    arbitrage(s[1],s[2],x[1],S[1],S[2],X[1],p)\n",
        "]\n",
        "\n",
        "\n",
        "# more precise\n",
        "# arbitrage(s::Vector{<:Number}, x::Vector{<:Number}, S::Vector{<:Number}, X::Vector{<:Number}, p) = [\n",
        "#     arbitrage(s[1],s[2],x[1],S[1],S[2],X[1],p)\n",
        "# ]"
      ],
      "id": "cell-29"
    },
    {
      "cell_type": "code",
      "execution_count": 19,
      "metadata": {},
      "outputs": [],
      "source": [
        "arbitrage(s,x,s,x,parameters)"
      ],
      "id": "cell-30"
    },
    {
      "cell_type": "code",
      "execution_count": 24,
      "metadata": {},
      "outputs": [
        {
          "output_type": "stream",
          "name": "stderr",
          "text": [
            "WARNING: method definition for transition at /home/pablo/Teaching/ensae/mie37/tutorials/3_perturbation_neoclassical.ipynb:1 declares type variable T but does not use it."
          ]
        },
        {
          "output_type": "display_data",
          "metadata": {},
          "data": {
            "text/plain": [
              "transition (generic function with 3 methods)"
            ]
          }
        }
      ],
      "source": [
        "transition(s, x, p) where T<: Number = [transition(s[1], s[2], x[1], p)...]"
      ],
      "id": "cell-31"
    },
    {
      "cell_type": "code",
      "execution_count": 25,
      "metadata": {},
      "outputs": [],
      "source": [
        "using ForwardDiff"
      ],
      "id": "cell-32"
    },
    {
      "cell_type": "code",
      "execution_count": 26,
      "metadata": {},
      "outputs": [
        {
          "output_type": "display_data",
          "metadata": {},
          "data": {
            "text/plain": [
              "first_order_model (generic function with 1 method)"
            ]
          }
        }
      ],
      "source": [
        "function first_order_model(s, x, parameters)\n",
        "\n",
        "    A = ForwardDiff.jacobian(  u->arbitrage(u, x, s, x, parameters), s    )\n",
        "    B = ForwardDiff.jacobian(  u->arbitrage(s, u, s, x, parameters), x    )\n",
        "    C = ForwardDiff.jacobian(  u->arbitrage(s, x, u, x, parameters), s    )\n",
        "    D = ForwardDiff.jacobian(  u->arbitrage(s, x, s, u, parameters), x    )\n",
        "    E = ForwardDiff.jacobian(  u->transition(u, x, parameters), s    )\n",
        "    F = ForwardDiff.jacobian(  u->transition(s, u, parameters), x    )\n",
        "\n",
        "    return PerturbedModel(A,B,C,D,E,F)\n",
        "\n",
        "end"
      ],
      "id": "cell-33"
    },
    {
      "cell_type": "code",
      "execution_count": 27,
      "metadata": {},
      "outputs": [
        {
          "output_type": "stream",
          "name": "stdout",
          "text": [
            "  1.343581 seconds (7.27 M allocations: 474.892 MiB, 7.63% gc time, 99.95% compilation time)"
          ]
        },
        {
          "output_type": "display_data",
          "metadata": {},
          "data": {
            "text/plain": [
              "PerturbedModel([5.074626865671642 0.5212190203776081], [-3.679193085018409;;], [-4.938626865671642 -0.5538125831185546], [3.679193085018409;;], [0.9 0.0; 0.0 0.9], [0.0; 1.0;;])"
            ]
          }
        }
      ],
      "source": [
        "@time model = first_order_model(q.s, q.x, parameters)"
      ],
      "id": "cell-34"
    },
    {
      "cell_type": "markdown",
      "metadata": {},
      "source": [
        "**We look for a linear solution $x_t = X s_t$ . Write the matrix\n",
        "equation which `X` must satisfy. Write a function\n",
        "`residual(X::Array, M::PerturbedModel)` which computes the residual of\n",
        "this equation for a given `X`.**"
      ],
      "id": "39ad593e-b8f6-4be5-a1a4-aabe5215e2e3"
    },
    {
      "cell_type": "code",
      "execution_count": 28,
      "metadata": {},
      "outputs": [
        {
          "output_type": "display_data",
          "metadata": {},
          "data": {
            "text/plain": [
              "residual (generic function with 1 method)"
            ]
          }
        }
      ],
      "source": [
        "function residual(X::Matrix, M::PerturbedModel)\n",
        "    (;A,B,C,D,E,F) = M # keyword unpacking\n",
        "    return A + B*X + (C+D*X)*(E+F*X)\n",
        "end"
      ],
      "id": "cell-36"
    },
    {
      "cell_type": "code",
      "execution_count": 29,
      "metadata": {},
      "outputs": [
        {
          "output_type": "display_data",
          "metadata": {},
          "data": {
            "text/plain": [
              "1×2 Matrix{Float64}:\n",
              " 0.629863  0.0227877"
            ]
          }
        }
      ],
      "source": [
        "X0 = zeros(1, 2)\n",
        "residual(X0, model)"
      ],
      "id": "cell-37"
    },
    {
      "cell_type": "markdown",
      "metadata": {},
      "source": [
        "**Write a function `T(X, M::PerturbedModel)` which implements the time\n",
        "iteration step.**"
      ],
      "id": "d3aa9a47-0f73-48be-9c85-c5965b881727"
    },
    {
      "cell_type": "code",
      "execution_count": 30,
      "metadata": {},
      "outputs": [
        {
          "output_type": "display_data",
          "metadata": {},
          "data": {
            "text/plain": [
              "T (generic function with 1 method)"
            ]
          }
        }
      ],
      "source": [
        "function T(X::Matrix, M::PerturbedModel)\n",
        "    (;A,B,C,D,E,F) = M # keyword unpacking\n",
        "\n",
        "    C_DX = (C+D*X)\n",
        "\n",
        "    return -(B+C_DX*F) \\ (A+C_DX*E)\n",
        "    # return  -solve(B+C_DX*F ,   (A+C_DX*E))\n",
        "    # return  -inv(B+C_DX*F)*(A+C_DX*E)) # not ok\n",
        "end"
      ],
      "id": "cell-39"
    },
    {
      "cell_type": "code",
      "execution_count": 31,
      "metadata": {},
      "outputs": [
        {
          "output_type": "display_data",
          "metadata": {},
          "data": {
            "text/plain": [
              "1×2 Matrix{Float64}:\n",
              " 0.148798  0.00538334"
            ]
          }
        }
      ],
      "source": [
        "T(X0, model)"
      ],
      "id": "cell-40"
    },
    {
      "cell_type": "markdown",
      "metadata": {},
      "source": [
        "**Write function\n",
        "`linear_time_iteration(X_0::Matrix, m::PerturbedModel)::Matrix` which\n",
        "implements the time iteration algorithm. Apply it to `X0 = rand(1,2)`\n",
        "and check that the result satisfies the first order model.**"
      ],
      "id": "60c659ac-5b54-47de-b317-474cd2eb9d6c"
    },
    {
      "cell_type": "code",
      "execution_count": 32,
      "metadata": {},
      "outputs": [],
      "source": [
        "A = rand(10000, 10000);\n",
        "B = rand(10000, 10000);"
      ],
      "id": "cell-42"
    },
    {
      "cell_type": "code",
      "execution_count": 33,
      "metadata": {},
      "outputs": [
        {
          "output_type": "display_data",
          "metadata": {},
          "data": {
            "text/plain": [
              "distance (generic function with 1 method)"
            ]
          }
        }
      ],
      "source": [
        "distance(A,B) = sum(abs(e1-e2) for (e1, e2) in zip(A,B))"
      ],
      "id": "cell-43"
    },
    {
      "cell_type": "code",
      "execution_count": 34,
      "metadata": {},
      "outputs": [
        {
          "output_type": "display_data",
          "metadata": {},
          "data": {
            "text/plain": [
              "linear_time_iteration (generic function with 1 method)"
            ]
          }
        }
      ],
      "source": [
        "function linear_time_iteration(X_0, M; N=5, τ_η=1e-8, verbose=true)\n",
        "\n",
        "    η_0 = 1.0\n",
        "\n",
        "    for n in 1:N\n",
        "\n",
        "        X = T(X_0, M)\n",
        "\n",
        "        # successive approximation error\n",
        "        η = distance(X, X_0)\n",
        "\n",
        "\n",
        "        # ratio of successive approximation errors\n",
        "        λ = η/η_0\n",
        "\n",
        "        if verbose\n",
        "            println(n, \" : \", η, \" : \", λ)\n",
        "        end\n",
        "\n",
        "        # η_0 will be the value from last iteration\n",
        "        η_0 = η\n",
        "\n",
        "        if η<τ_η\n",
        "            return X\n",
        "        end\n",
        "\n",
        "        X_0 = X\n",
        "    end\n",
        "\n",
        "    error(\"No convergence\")\n",
        "\n",
        "end"
      ],
      "id": "cell-44"
    },
    {
      "cell_type": "code",
      "execution_count": 35,
      "metadata": {},
      "outputs": [
        {
          "output_type": "stream",
          "name": "stdout",
          "text": [
            "1 : 0.15418131543048902 : 0.15418131543048902\n",
            "2 : 0.12190031209691013 : 0.7906296022741327\n",
            "3 : 0.0971923112531961 : 0.7973097819136732\n",
            "4 : 0.07801352484927856 : 0.802671773552593\n",
            "5 : 0.06295682833902616 : 0.8069988948795506\n",
            "6 : 0.05102689044058986 : 0.8105060529067174\n",
            "7 : 0.04150316170984929 : 0.8133586301554283\n",
            "8 : 0.033853524549360574 : 0.815685435871905\n",
            "9 : 0.027678228788813052 : 0.8175878038476156\n",
            "10 : 0.022672513753932016 : 0.8191461211960124\n",
            "11 : 0.018601088097577975 : 0.8204246030880477\n",
            "12 : 0.01528032593947912 : 0.8214748438006029\n",
            "13 : 0.01256560026933672 : 0.8223384971698489\n",
            "14 : 0.010342108838667052 : 0.8230493264937326\n",
            "15 : 0.008518120644127804 : 0.8236347902547955\n",
            "16 : 0.007019930424960394 : 0.8241172810577381\n",
            "17 : 0.005788038650448812 : 0.8245151020113518\n",
            "18 : 0.004774224564889556 : 0.8248432419364298\n",
            "19 : 0.0039392795027168095 : 0.8251139947808338\n",
            "20 : 0.003251234928149705 : 0.8253374572450166\n",
            "21 : 0.0026839657341018452 : 0.8255219304097795\n",
            "22 : 0.0022160813815156506 : 0.8256742451509851\n",
            "23 : 0.0018300400639542705 : 0.8258000266680848\n",
            "24 : 0.001511437244487067 : 0.8259039101150711\n",
            "25 : 0.0012484316214957068 : 0.8259897167741055\n",
            "26 : 0.001031280172156878 : 0.8260605982739636\n",
            "27 : 0.0008519603042240476 : 0.8261191548386015\n",
            "28 : 0.0007038619422192541 : 0.8261675323715003\n",
            "29 : 0.000581536017211115 : 0.826207502251863\n",
            "30 : 0.00048048862532256223 : 0.8262405269872226\n",
            "31 : 0.00039701228622349843 : 0.8262678142629821\n",
            "32 : 0.0003280474254938187 : 0.8262903614754736\n",
            "33 : 0.0002710685376324101 : 0.8263089924402341\n",
            "34 : 0.00022399054337329805 : 0.8263243876611255\n",
            "35 : 0.00018509169812225973 : 0.8263371093028231\n",
            "36 : 0.00015295008455855352 : 0.8263476218016245\n",
            "37 : 0.00012639126731726208 : 0.826356308870663\n",
            "38 : 0.00010444512845603215 : 0.826363487549012\n",
            "39 : 8.631026020181412e-5 : 0.8263694197872312\n",
            "40 : 7.132458275916145e-5 : 0.8263743220375822\n",
            "41 : 5.894109266629463e-5 : 0.8263783731524711\n",
            "42 : 4.870784159012598e-5 : 0.8263817209140318\n",
            "43 : 4.0251404707945804e-5 : 0.8263844874642432\n",
            "44 : 3.3263228473082856e-5 : 0.8263867736898273\n",
            "45 : 2.7488354905323004e-5 : 0.8263886630116805\n",
            "46 : 2.2716107776505484e-5 : 0.826390224323923\n",
            "47 : 1.8772398710901333e-5 : 0.8263915145849502\n",
            "48 : 1.551337101909217e-5 : 0.8263925808311001\n",
            "49 : 1.2820148383725638e-5 : 0.826393461997911\n",
            "50 : 1.0594496141231452e-5 : 0.8263941901546545\n",
            "51 : 8.755236434329627e-6 : 0.8263947919388228\n",
            "52 : 7.235286145202552e-6 : 0.8263952892046078\n",
            "53 : 5.979209359931875e-6 : 0.8263957001751017\n",
            "54 : 4.94119493606518e-6 : 0.8263960397803294\n",
            "55 : 4.083385313793236e-6 : 0.8263963204505664\n",
            "56 : 3.374495545591105e-6 : 0.8263965524371217\n",
            "57 : 2.788672131517206e-6 : 0.8263967439994704\n",
            "58 : 2.304550011482387e-6 : 0.826396902467187\n",
            "59 : 1.9044732927631092e-6 : 0.8263970333792274\n",
            "60 : 1.5738512852726816e-6 : 0.8263971415368372\n",
            "61 : 1.300626344003658e-6 : 0.8263972309037538\n",
            "62 : 1.074834105267708e-6 : 0.8263973048239941\n",
            "63 : 8.882400730839124e-7 : 0.826397365631303\n",
            "64 : 7.340393016162794e-7 : 0.8263974164864485\n",
            "65 : 6.066082128101946e-7 : 0.8263974578397988\n",
            "66 : 5.012995060102443e-7 : 0.8263974925230678\n",
            "67 : 4.1427266909629945e-7 : 0.826397521101554\n",
            "68 : 3.4235391643128166e-7 : 0.8263975443470543\n",
            "69 : 2.8292044249381143e-7 : 0.8263975637930232\n",
            "70 : 2.338047691008427e-7 : 0.8263975803231571\n",
            "71 : 1.9321569839914066e-7 : 0.8263975929242252\n",
            "72 : 1.596729903574623e-7 : 0.8263976047516254\n",
            "73 : 1.3195337798116435e-7 : 0.826397612305991\n",
            "74 : 1.0904595768024272e-7 : 0.8263976212553532\n",
            "75 : 9.011532065353323e-8 : 0.8263976269324892\n",
            "76 : 7.44710876507404e-8 : 0.826397632618539\n",
            "77 : 6.154273075875683e-8 : 0.8263976356486713\n",
            "78 : 5.085876750646201e-8 : 0.8263976407843324\n",
            "79 : 4.202956567153637e-8 : 0.8263976445397774\n",
            "80 : 3.473313383434151e-8 : 0.8263976388855188\n",
            "81 : 2.870338035310116e-8 : 0.8263976550460705\n",
            "82 : 2.372040580275736e-8 : 0.8263976406595807\n",
            "83 : 1.9602487667802482e-8 : 0.8263976523337474\n",
            "84 : 1.619944979894261e-8 : 0.8263976528627315\n",
            "85 : 1.33871871400848e-8 : 0.8263976435149435\n",
            "86 : 1.1063140292755236e-8 : 0.8263976724153838\n",
            "87 : 9.142552898772083e-9 : 0.8263976282357315\n",
            "  0.188574 seconds (380.90 k allocations: 25.696 MiB, 5.04% gc time, 99.17% compilation time)"
          ]
        },
        {
          "output_type": "display_data",
          "metadata": {},
          "data": {
            "text/plain": [
              "1×2 Matrix{Float64}:\n",
              " 0.768674  0.0278097"
            ]
          }
        }
      ],
      "source": [
        "@time sol = linear_time_iteration(X0, model; N=500)"
      ],
      "id": "cell-45"
    },
    {
      "cell_type": "code",
      "execution_count": 36,
      "metadata": {},
      "outputs": [
        {
          "output_type": "display_data",
          "metadata": {},
          "data": {
            "text/plain": [
              "1×2 Matrix{Float64}:\n",
              " 3.01193e-8  1.08968e-9"
            ]
          }
        }
      ],
      "source": [
        "residual(sol, model)"
      ],
      "id": "cell-46"
    },
    {
      "cell_type": "markdown",
      "metadata": {},
      "source": [
        "**Check blanchard Kahn Conditions**"
      ],
      "id": "ee9df9bf-5c47-4357-a4b4-930836f02e96"
    },
    {
      "cell_type": "code",
      "execution_count": 37,
      "metadata": {},
      "outputs": [],
      "source": [
        "# check that solution is not diverging\n",
        "# let's check the transition matrix has spectral radius smaller than 1"
      ],
      "id": "cell-48"
    },
    {
      "cell_type": "code",
      "execution_count": 38,
      "metadata": {},
      "outputs": [],
      "source": [
        "using LinearAlgebra"
      ],
      "id": "cell-49"
    },
    {
      "cell_type": "code",
      "execution_count": 48,
      "metadata": {},
      "outputs": [
        {
          "output_type": "display_data",
          "metadata": {},
          "data": {
            "text/plain": [
              "bk_check (generic function with 1 method)"
            ]
          }
        }
      ],
      "source": [
        "function bk_check(X, M)\n",
        "    (;A,B,C,D,E,F) = M # keyword unpacking\n",
        "\n",
        "    P = E+F*X\n",
        "    maximum(abs,eigvals(P))\n",
        "\n",
        "    # can check the solution is unique by computing the first \"rejected\" eigenvalue\n",
        "\n",
        "\n",
        "end"
      ],
      "id": "cell-50"
    },
    {
      "cell_type": "code",
      "execution_count": 49,
      "metadata": {},
      "outputs": [
        {
          "output_type": "display_data",
          "metadata": {},
          "data": {
            "text/plain": [
              "4.13068831324392"
            ]
          }
        }
      ],
      "source": [
        "bk_check(sol, model)\n"
      ],
      "id": "cell-51"
    },
    {
      "cell_type": "markdown",
      "metadata": {},
      "source": [
        "**Define two linear operators\n",
        "`L_S(U::Union{Vector, Matrix}, X_0::Matrix, m::PerturbedModel)::Matrix`\n",
        "and `L_T(U::Matrix, X_0::Matrix, m::PerturbedModel)::Matrix` which\n",
        "implement the derivatives of the simulation and the time-iteration\n",
        "operator respectively.**\n",
        "\n",
        "**Implement a function `spectral_radius(f::Function)::Float64` which\n",
        "implements the power iteration method to compute the biggest eigenvalues\n",
        "of the two previously defined operators. Check that Blanchard-Kahn\n",
        "conditions are met.**\n",
        "\n",
        "**Write a function\n",
        "`simulate(s0::Vector, X::Matrix, p, T::Int64)::Tuple{Matrix, Matrix}` to\n",
        "simulate the model over $T$ periods (by using the formula\n",
        "$\\Delta s_t = (E + F X) \\Delta s_{t-1}$. Return a matrix for the states\n",
        "(one line per date) and another matrix for the controls. Bonus: add a\n",
        "keyword option to compute variables levels or log-deviations. If\n",
        "possible, return a DataFrame object.**"
      ],
      "id": "df200ada-8c13-4ac1-8857-1babee53387a"
    },
    {
      "cell_type": "code",
      "execution_count": 50,
      "metadata": {},
      "outputs": [
        {
          "output_type": "display_data",
          "metadata": {},
          "data": {
            "text/plain": [
              "2×2 Matrix{Float64}:\n",
              " 0.9       0.0\n",
              " 0.768674  0.92781"
            ]
          }
        }
      ],
      "source": [
        "P = model.E + model.F*sol"
      ],
      "id": "cell-57"
    },
    {
      "cell_type": "markdown",
      "metadata": {},
      "source": [
        "**Make some nice plots.**"
      ],
      "id": "a567ca19-45ad-41f7-ba28-b44db0532953"
    }
  ],
  "nbformat": 4,
  "nbformat_minor": 5,
  "metadata": {
    "kernelspec": {
      "name": "julia-1.9",
      "display_name": "Julia 1.9.3",
      "language": "julia"
    },
    "language_info": {
      "name": "julia",
      "file_extension": ".jl",
      "mimetype": "application/julia",
      "version": "1.9.3"
    }
  }
}