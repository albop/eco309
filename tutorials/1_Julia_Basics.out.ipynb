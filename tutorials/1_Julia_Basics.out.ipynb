{
  "cells": [
    {
      "cell_type": "markdown",
      "metadata": {},
      "source": [
        "# Julia Basics\n",
        "\n",
        "Pablo Winant\n",
        "\n",
        "### What is Julia\n",
        "\n",
        "-   developped at MIT on top of **opensource** technologies\n",
        "    -   linux / git / llvm\n",
        "-   syntax inspired by Matlab but:\n",
        "    -   more consistent\n",
        "    -   lots of features from high level languages\n",
        "-   everything is JIT-compiled\n",
        "    -   interpreted vs compiled treadeoff\n",
        "    -   -\\> very fast\n",
        "    -   most of the base library is written in Julia\n",
        "-   opensource/free + vibrant community\n",
        "\n",
        "Some useful links from QuantEcon:\n",
        "\n",
        "-   [Julia\n",
        "    cheatsheet](https://cheatsheets.quantecon.org/julia-cheatsheet.html)\n",
        "-   [Julia-Matlab\n",
        "    comparison](https://cheatsheets.quantecon.org/index.html)\n",
        "-   [Julia\n",
        "    essentials](https://lectures.quantecon.org/jl/julia_essentials.html)\n",
        "-   [Vectors, arrays and\n",
        "    matrices](https://lectures.quantecon.org/jl/julia_arrays.html)\n",
        "\n",
        "Excellent resources at: [julialang](https://julialang.org/learning/) -\n",
        "checkout JuliaAcademy, it’s free - ongoing\n",
        "[MOOC](https://computationalthinking.mit.edu/Spring21/) at MIT\n",
        "\n",
        "### an example of what you shouldn’t do in Matlab\n",
        "\n",
        "How I learnt: interpreted code is slow, so vectorize your coe."
      ],
      "id": "b88782af-2207-4995-9864-2f2400165334"
    },
    {
      "cell_type": "code",
      "execution_count": 1,
      "metadata": {},
      "outputs": [
        {
          "output_type": "stream",
          "name": "stdout",
          "text": [
            "  0.066082 seconds (37.67 k allocations: 2.477 MiB, 16.37% gc time, 48.03% compilation time)"
          ]
        },
        {
          "output_type": "display_data",
          "metadata": {},
          "data": {
            "text/plain": [
              "10-element Vector{Float64}:\n",
              " 1.0e6\n",
              " 2.0e6\n",
              " 3.0e6\n",
              " 4.0e6\n",
              " 5.0e6\n",
              " 6.0e6\n",
              " 7.0e6\n",
              " 8.0e6\n",
              " 9.0e6\n",
              " 1.0e7"
            ]
          }
        }
      ],
      "source": [
        "function stupid_loop(I,J,K)\n",
        "    t = 0.0\n",
        "    for i=1:I\n",
        "        for j=1:J\n",
        "            for k = 1:K\n",
        "                t += 1.0\n",
        "            end        \n",
        "        end\n",
        "    end\n",
        "    return t\n",
        "end\n",
        "@time [ stupid_loop(1000,1000,i) for i =1:10]"
      ],
      "id": "cell-4"
    },
    {
      "cell_type": "code",
      "execution_count": 3,
      "metadata": {},
      "outputs": [
        {
          "output_type": "stream",
          "name": "stdout",
          "text": [
            "  0.531084 seconds"
          ]
        },
        {
          "output_type": "display_data",
          "metadata": {},
          "data": {
            "text/plain": [
              "1.0e9"
            ]
          }
        }
      ],
      "source": [
        "@time stupid_loop(1000,1000,1000)"
      ],
      "id": "cell-5"
    },
    {
      "cell_type": "markdown",
      "metadata": {},
      "source": [
        "Code is translated to LLVM code then to instructions for the processor.\n",
        "Note that processor instructions are shorter than LLVM code."
      ],
      "id": "474f0fd9-ca18-412f-9d61-016f312da877"
    },
    {
      "cell_type": "code",
      "execution_count": 4,
      "metadata": {},
      "outputs": [
        {
          "output_type": "stream",
          "name": "stdout",
          "text": [
            ";  @ /home/pablo/Teaching/polytechnique/eco309/tutorials/1_Julia_Basics.ipynb:1 within `stupid_loop`\n",
            "define double @julia_stupid_loop_1226(i64 signext %0, i64 signext %1, i64 signext %2) #0 {\n",
            "top:\n",
            ";  @ /home/pablo/Teaching/polytechnique/eco309/tutorials/1_Julia_Basics.ipynb:3 within `stupid_loop`\n",
            "; ┌ @ range.jl:5 within `Colon`\n",
            "; │┌ @ range.jl:397 within `UnitRange`\n",
            "; ││┌ @ range.jl:404 within `unitrange_last`\n",
            "     %.inv = icmp sgt i64 %0, 0\n",
            "     %. = select i1 %.inv, i64 %0, i64 0\n",
            "; └└└\n",
            "  br i1 %.inv, label %L16.preheader, label %L85\n",
            "\n",
            "L16.preheader:                                    ; preds = %top\n",
            "  %.inv26 = icmp sgt i64 %1, 0\n",
            "  %.24 = select i1 %.inv26, i64 %1, i64 0\n",
            "  %.inv27 = icmp sgt i64 %2, 0\n",
            "  %.25 = select i1 %.inv27, i64 %2, i64 0\n",
            ";  @ /home/pablo/Teaching/polytechnique/eco309/tutorials/1_Julia_Basics.ipynb:4 within `stupid_loop`\n",
            "  %3 = select i1 %.inv26, i1 %.inv27, i1 false\n",
            "  br i1 %3, label %L33.preheader.split.us.us.us, label %L85\n",
            "\n",
            "L74.us.us:                                        ; preds = %L63.us.us.us\n",
            ";  @ /home/pablo/Teaching/polytechnique/eco309/tutorials/1_Julia_Basics.ipynb:9 within `stupid_loop`\n",
            "; ┌ @ range.jl:891 within `iterate`\n",
            "; │┌ @ promotion.jl:499 within `==`\n",
            "    %.not29.us.us = icmp eq i64 %value_phi3.us.us, %.\n",
            "; │└\n",
            "   %4 = add nuw i64 %value_phi3.us.us, 1\n",
            "; └\n",
            "  br i1 %.not29.us.us, label %L85, label %L33.preheader.split.us.us.us\n",
            "\n",
            "L33.preheader.split.us.us.us:                     ; preds = %L74.us.us, %L16.preheader\n",
            "  %value_phi3.us.us = phi i64 [ %4, %L74.us.us ], [ 1, %L16.preheader ]\n",
            "  %value_phi4.us.us = phi double [ %6, %L74.us.us ], [ 0.000000e+00, %L16.preheader ]\n",
            ";  @ /home/pablo/Teaching/polytechnique/eco309/tutorials/1_Julia_Basics.ipynb:5 within `stupid_loop`\n",
            "  br label %L50.preheader.us.us.us\n",
            "\n",
            "L50.preheader.us.us.us:                           ; preds = %L63.us.us.us, %L33.preheader.split.us.us.us\n",
            "  %value_phi8.us.us.us = phi double [ %6, %L63.us.us.us ], [ %value_phi4.us.us, %L33.preheader.split.us.us.us ]\n",
            "  %value_phi9.us.us.us = phi i64 [ %5, %L63.us.us.us ], [ 1, %L33.preheader.split.us.us.us ]\n",
            ";  @ /home/pablo/Teaching/polytechnique/eco309/tutorials/1_Julia_Basics.ipynb:7 within `stupid_loop`\n",
            "  br label %L50.us.us.us\n",
            "\n",
            "L63.us.us.us:                                     ; preds = %L50.us.us.us\n",
            ";  @ /home/pablo/Teaching/polytechnique/eco309/tutorials/1_Julia_Basics.ipynb:8 within `stupid_loop`\n",
            "; ┌ @ range.jl:891 within `iterate`\n",
            "; │┌ @ promotion.jl:499 within `==`\n",
            "    %.not28.us.us.us = icmp eq i64 %value_phi9.us.us.us, %.24\n",
            "; │└\n",
            "   %5 = add nuw i64 %value_phi9.us.us.us, 1\n",
            "; └\n",
            "  br i1 %.not28.us.us.us, label %L74.us.us, label %L50.preheader.us.us.us\n",
            "\n",
            "L50.us.us.us:                                     ; preds = %L50.us.us.us, %L50.preheader.us.us.us\n",
            "  %value_phi13.us.us.us = phi double [ %6, %L50.us.us.us ], [ %value_phi8.us.us.us, %L50.preheader.us.us.us ]\n",
            "  %value_phi14.us.us.us = phi i64 [ %7, %L50.us.us.us ], [ 1, %L50.preheader.us.us.us ]\n",
            ";  @ /home/pablo/Teaching/polytechnique/eco309/tutorials/1_Julia_Basics.ipynb:6 within `stupid_loop`\n",
            "; ┌ @ float.jl:408 within `+`\n",
            "   %6 = fadd double %value_phi13.us.us.us, 1.000000e+00\n",
            "; └\n",
            ";  @ /home/pablo/Teaching/polytechnique/eco309/tutorials/1_Julia_Basics.ipynb:7 within `stupid_loop`\n",
            "; ┌ @ range.jl:891 within `iterate`\n",
            "; │┌ @ promotion.jl:499 within `==`\n",
            "    %.not.us.us.us = icmp eq i64 %value_phi14.us.us.us, %.25\n",
            "; │└\n",
            "   %7 = add nuw i64 %value_phi14.us.us.us, 1\n",
            "; └\n",
            "  br i1 %.not.us.us.us, label %L63.us.us.us, label %L50.us.us.us\n",
            "\n",
            "L85:                                              ; preds = %L74.us.us, %L16.preheader, %top\n",
            "  %value_phi23 = phi double [ 0.000000e+00, %top ], [ %6, %L74.us.us ], [ 0.000000e+00, %L16.preheader ]\n",
            ";  @ /home/pablo/Teaching/polytechnique/eco309/tutorials/1_Julia_Basics.ipynb:10 within `stupid_loop`\n",
            "  ret double %value_phi23\n",
            "}"
          ]
        }
      ],
      "source": [
        "@code_llvm stupid_loop(10,10,10)"
      ],
      "id": "cell-7"
    },
    {
      "cell_type": "code",
      "execution_count": 5,
      "metadata": {},
      "outputs": [
        {
          "output_type": "stream",
          "name": "stdout",
          "text": [
            "    .text\n",
            "    .file   \"stupid_loop\"\n",
            "    .section    .rodata.cst8,\"aM\",@progbits,8\n",
            "    .p2align    3                               # -- Begin function julia_stupid_loop_1261\n",
            ".LCPI0_0:\n",
            "    .quad   0x3ff0000000000000              # double 1\n",
            "    .text\n",
            "    .globl  julia_stupid_loop_1261\n",
            "    .p2align    4, 0x90\n",
            "    .type   julia_stupid_loop_1261,@function\n",
            "julia_stupid_loop_1261:                 # @julia_stupid_loop_1261\n",
            "; ┌ @ /home/pablo/Teaching/polytechnique/eco309/tutorials/1_Julia_Basics.ipynb:1 within `stupid_loop`\n",
            "    .cfi_startproc\n",
            "# %bb.0:                                # %top\n",
            "; │ @ /home/pablo/Teaching/polytechnique/eco309/tutorials/1_Julia_Basics.ipynb:3 within `stupid_loop`\n",
            "; │┌ @ range.jl:5 within `Colon`\n",
            "; ││┌ @ range.jl:397 within `UnitRange`\n",
            "; │││┌ @ range.jl:404 within `unitrange_last`\n",
            "    testq   %rdi, %rdi\n",
            "    vxorpd  %xmm0, %xmm0, %xmm0\n",
            "; │└└└\n",
            "    jle .LBB0_9\n",
            "# %bb.1:                                # %L16.preheader\n",
            "    testq   %rsi, %rsi\n",
            "; │ @ /home/pablo/Teaching/polytechnique/eco309/tutorials/1_Julia_Basics.ipynb:4 within `stupid_loop`\n",
            "    jle .LBB0_9\n",
            "# %bb.2:                                # %L16.preheader\n",
            "    testq   %rdx, %rdx\n",
            "    jle .LBB0_9\n",
            "# %bb.3:                                # %L33.preheader.split.us.us.us.preheader\n",
            "    pushq   %rbp\n",
            "    .cfi_def_cfa_offset 16\n",
            "    .cfi_offset %rbp, -16\n",
            "    movq    %rsp, %rbp\n",
            "    .cfi_def_cfa_register %rbp\n",
            "    movq    %rdi, %rax\n",
            "    movq    %rsi, %rcx\n",
            "    vxorpd  %xmm0, %xmm0, %xmm0\n",
            "    sarq    $63, %rax\n",
            "    sarq    $63, %rcx\n",
            "    andnq   %rdi, %rax, %r8\n",
            "    movabsq $.LCPI0_0, %rdi\n",
            "    andnq   %rsi, %rcx, %rcx\n",
            "    movq    %rdx, %rsi\n",
            "    vmovsd  (%rdi), %xmm1                   # xmm1 = mem[0],zero\n",
            "    sarq    $63, %rsi\n",
            "    andnq   %rdx, %rsi, %rax\n",
            "    movl    $1, %esi\n",
            "; │ @ /home/pablo/Teaching/polytechnique/eco309/tutorials/1_Julia_Basics.ipynb:5 within `stupid_loop`\n",
            "    popq    %rbp\n",
            "    .cfi_def_cfa %rsp, 8\n",
            "    .cfi_restore %rbp\n",
            "    .p2align    4, 0x90\n",
            ".LBB0_5:                                # %L33.preheader.split.us.us.us\n",
            "                                        # =>This Loop Header: Depth=1\n",
            "                                        #     Child Loop BB0_6 Depth 2\n",
            "                                        #       Child Loop BB0_7 Depth 3\n",
            "    movl    $1, %edi\n",
            "    .p2align    4, 0x90\n",
            ".LBB0_6:                                # %L50.preheader.us.us.us\n",
            "                                        #   Parent Loop BB0_5 Depth=1\n",
            "                                        # =>  This Loop Header: Depth=2\n",
            "                                        #       Child Loop BB0_7 Depth 3\n",
            "    movq    %rax, %rdx\n",
            "    .p2align    4, 0x90\n",
            ".LBB0_7:                                # %L50.us.us.us\n",
            "                                        #   Parent Loop BB0_5 Depth=1\n",
            "                                        #     Parent Loop BB0_6 Depth=2\n",
            "                                        # =>    This Inner Loop Header: Depth=3\n",
            "; │ @ /home/pablo/Teaching/polytechnique/eco309/tutorials/1_Julia_Basics.ipynb:6 within `stupid_loop`\n",
            "; │┌ @ float.jl:408 within `+`\n",
            "    vaddsd  %xmm1, %xmm0, %xmm0\n",
            "; │└\n",
            "; │ @ /home/pablo/Teaching/polytechnique/eco309/tutorials/1_Julia_Basics.ipynb:7 within `stupid_loop`\n",
            "; │┌ @ range.jl:891 within `iterate`\n",
            "; ││┌ @ promotion.jl:499 within `==`\n",
            "    addq    $-1, %rdx\n",
            "; │└└\n",
            "    jne .LBB0_7\n",
            "# %bb.8:                                # %L63.us.us.us\n",
            "                                        #   in Loop: Header=BB0_6 Depth=2\n",
            "; │ @ /home/pablo/Teaching/polytechnique/eco309/tutorials/1_Julia_Basics.ipynb:8 within `stupid_loop`\n",
            "; │┌ @ range.jl:891 within `iterate`\n",
            "; ││┌ @ promotion.jl:499 within `==`\n",
            "    cmpq    %rcx, %rdi\n",
            "; ││└\n",
            "    leaq    1(%rdi), %rdi\n",
            "; │└\n",
            "    jne .LBB0_6\n",
            "# %bb.4:                                # %L74.us.us\n",
            "                                        #   in Loop: Header=BB0_5 Depth=1\n",
            "; │ @ /home/pablo/Teaching/polytechnique/eco309/tutorials/1_Julia_Basics.ipynb:9 within `stupid_loop`\n",
            "; │┌ @ range.jl:891 within `iterate`\n",
            "; ││┌ @ promotion.jl:499 within `==`\n",
            "    cmpq    %r8, %rsi\n",
            "; ││└\n",
            "    leaq    1(%rsi), %rsi\n",
            "; │└\n",
            "    jne .LBB0_5\n",
            ".LBB0_9:                                # %L85\n",
            "; │ @ /home/pablo/Teaching/polytechnique/eco309/tutorials/1_Julia_Basics.ipynb:10 within `stupid_loop`\n",
            "    retq\n",
            ".Lfunc_end0:\n",
            "    .size   julia_stupid_loop_1261, .Lfunc_end0-julia_stupid_loop_1261\n",
            "    .cfi_endproc\n",
            "; └\n",
            "                                        # -- End function\n",
            "    .section    \".note.GNU-stack\",\"\",@progbits"
          ]
        }
      ],
      "source": [
        "@code_native stupid_loop(10,10,10)"
      ],
      "id": "cell-8"
    },
    {
      "cell_type": "markdown",
      "metadata": {},
      "source": [
        "### Syntax Review\n",
        "\n",
        "#### Variable assignment\n",
        "\n",
        "Assignement operator is = (equality is ==, identity is ===)"
      ],
      "id": "ae193b95-79ae-460c-8482-af85600cefea"
    },
    {
      "cell_type": "code",
      "execution_count": 6,
      "metadata": {},
      "outputs": [
        {
          "output_type": "display_data",
          "metadata": {},
          "data": {
            "text/plain": [
              "10"
            ]
          }
        }
      ],
      "source": [
        "# Assign the value 10 to the variable x\n",
        "x = 10"
      ],
      "id": "cell-11"
    },
    {
      "cell_type": "code",
      "execution_count": 7,
      "metadata": {},
      "outputs": [
        {
          "output_type": "display_data",
          "metadata": {},
          "data": {
            "text/plain": [
              "10"
            ]
          }
        }
      ],
      "source": [
        "x"
      ],
      "id": "cell-12"
    },
    {
      "cell_type": "code",
      "execution_count": 6,
      "metadata": {},
      "outputs": [
        {
          "output_type": "display_data",
          "metadata": {},
          "data": {
            "text/plain": [
              "false"
            ]
          }
        }
      ],
      "source": [
        "2 == 3"
      ],
      "id": "cell-13"
    },
    {
      "cell_type": "code",
      "execution_count": 8,
      "metadata": {},
      "outputs": [
        {
          "output_type": "display_data",
          "metadata": {},
          "data": {
            "text/plain": [
              "4"
            ]
          }
        }
      ],
      "source": [
        "# Variable names can have Unicode characters\n",
        "# To get ϵ in the REPL, type \\epsilon<TAB>\n",
        "a = 20\n",
        "α = 10\n",
        "🍄 = 4"
      ],
      "id": "cell-14"
    },
    {
      "cell_type": "markdown",
      "metadata": {},
      "source": [
        "Default semantic is pass-by-reference:"
      ],
      "id": "8cdf43b4-e554-4aca-9e20-6241ae1a9cfe"
    },
    {
      "cell_type": "code",
      "execution_count": 10,
      "metadata": {},
      "outputs": [
        {
          "output_type": "display_data",
          "metadata": {},
          "data": {
            "text/plain": [
              "4-element Vector{Int64}:\n",
              " 10\n",
              "  2\n",
              "  3\n",
              "  4"
            ]
          }
        }
      ],
      "source": [
        "a = [1,2,3,4]\n",
        "b = a\n",
        "a[1] = 10\n",
        "b"
      ],
      "id": "cell-16"
    },
    {
      "cell_type": "markdown",
      "metadata": {},
      "source": [
        "To work on a copy: `copy` or `deepcopy`"
      ],
      "id": "117e7fad-e2f3-4da2-bcba-500c3d2387bd"
    },
    {
      "cell_type": "code",
      "execution_count": 13,
      "metadata": {},
      "outputs": [
        {
          "output_type": "display_data",
          "metadata": {},
          "data": {
            "text/plain": [
              "4-element Vector{Int64}:\n",
              " 1\n",
              " 2\n",
              " 3\n",
              " 4"
            ]
          }
        }
      ],
      "source": [
        "a = [1,2,3,4]\n",
        "b = copy(a)\n",
        "a[1]=10\n",
        "b"
      ],
      "id": "cell-18"
    },
    {
      "cell_type": "code",
      "execution_count": 15,
      "metadata": {},
      "outputs": [
        {
          "output_type": "display_data",
          "metadata": {},
          "data": {
            "text/plain": [
              "4-element BitVector:\n",
              " 0\n",
              " 1\n",
              " 1\n",
              " 1"
            ]
          }
        }
      ],
      "source": [
        "a .== b"
      ],
      "id": "cell-19"
    },
    {
      "cell_type": "code",
      "execution_count": 13,
      "metadata": {},
      "outputs": [
        {
          "output_type": "display_data",
          "metadata": {},
          "data": {
            "text/plain": [
              "4-element Vector{Int64}:\n",
              " 1\n",
              " 2\n",
              " 3\n",
              " 4"
            ]
          }
        }
      ],
      "source": [
        "c = b"
      ],
      "id": "cell-20"
    },
    {
      "cell_type": "code",
      "execution_count": 18,
      "metadata": {},
      "outputs": [
        {
          "output_type": "display_data",
          "metadata": {},
          "data": {
            "text/plain": [
              "4-element Vector{Int64}:\n",
              " 1\n",
              " 2\n",
              " 3\n",
              " 4"
            ]
          }
        }
      ],
      "source": [
        "b = [1,2,3,4]"
      ],
      "id": "cell-21"
    },
    {
      "cell_type": "code",
      "execution_count": 16,
      "metadata": {},
      "outputs": [
        {
          "output_type": "display_data",
          "metadata": {},
          "data": {
            "text/plain": [
              "4-element BitVector:\n",
              " 1\n",
              " 1\n",
              " 1\n",
              " 1"
            ]
          }
        }
      ],
      "source": [
        "a .== b"
      ],
      "id": "cell-22"
    },
    {
      "cell_type": "code",
      "execution_count": 19,
      "metadata": {},
      "outputs": [
        {
          "output_type": "display_data",
          "metadata": {},
          "data": {
            "text/plain": [
              "false"
            ]
          }
        }
      ],
      "source": [
        "c === b"
      ],
      "id": "cell-23"
    },
    {
      "cell_type": "markdown",
      "metadata": {},
      "source": [
        "#### Basic types"
      ],
      "id": "db3dde81-9209-467e-98fe-42ee47bec4aa"
    },
    {
      "cell_type": "code",
      "execution_count": 14,
      "metadata": {},
      "outputs": [
        {
          "output_type": "display_data",
          "metadata": {},
          "data": {
            "text/html": [
              "<pre>Vector{Int64}<span class=\"ansi-bright-black-fg\"> (alias for </span><span class=\"ansi-bright-black-fg\">Array{Int64, 1}</span><span class=\"ansi-bright-black-fg\">)</span></pre>"
            ]
          }
        }
      ],
      "source": [
        "# for any object `typeof` returns the type\n",
        "typeof(a)"
      ],
      "id": "cell-25"
    },
    {
      "cell_type": "code",
      "execution_count": 16,
      "metadata": {},
      "outputs": [
        {
          "output_type": "display_data",
          "metadata": {},
          "data": {
            "text/plain": [
              "String"
            ]
          }
        }
      ],
      "source": [
        "typeof(\" JIJ\")"
      ],
      "id": "cell-26"
    },
    {
      "cell_type": "markdown",
      "metadata": {},
      "source": [
        "#### Numbers"
      ],
      "id": "35b85c5b-ae4f-4ebd-8b57-643429b3a58c"
    },
    {
      "cell_type": "code",
      "execution_count": 17,
      "metadata": {},
      "outputs": [
        {
          "output_type": "display_data",
          "metadata": {},
          "data": {
            "text/plain": [
              "4"
            ]
          }
        }
      ],
      "source": [
        "y = 2 + 2"
      ],
      "id": "cell-28"
    },
    {
      "cell_type": "code",
      "execution_count": 18,
      "metadata": {},
      "outputs": [
        {
          "output_type": "display_data",
          "metadata": {},
          "data": {
            "text/plain": [
              "-4"
            ]
          }
        }
      ],
      "source": [
        "-y"
      ],
      "id": "cell-29"
    },
    {
      "cell_type": "code",
      "execution_count": 19,
      "metadata": {},
      "outputs": [
        {
          "output_type": "display_data",
          "metadata": {},
          "data": {
            "text/plain": [
              "7.82"
            ]
          }
        }
      ],
      "source": [
        "0.34*23"
      ],
      "id": "cell-30"
    },
    {
      "cell_type": "code",
      "execution_count": 20,
      "metadata": {},
      "outputs": [
        {
          "output_type": "display_data",
          "metadata": {},
          "data": {
            "text/plain": [
              "0.75"
            ]
          }
        }
      ],
      "source": [
        "3/4"
      ],
      "id": "cell-31"
    },
    {
      "cell_type": "code",
      "execution_count": 22,
      "metadata": {},
      "outputs": [
        {
          "output_type": "display_data",
          "metadata": {},
          "data": {
            "text/plain": [
              "3//4"
            ]
          }
        }
      ],
      "source": [
        "3//4"
      ],
      "id": "cell-32"
    },
    {
      "cell_type": "code",
      "execution_count": 23,
      "metadata": {},
      "outputs": [
        {
          "output_type": "display_data",
          "metadata": {},
          "data": {
            "text/plain": [
              "17//12"
            ]
          }
        }
      ],
      "source": [
        "3//4 + 2//3"
      ],
      "id": "cell-33"
    },
    {
      "cell_type": "code",
      "execution_count": 24,
      "metadata": {},
      "outputs": [
        {
          "output_type": "display_data",
          "metadata": {},
          "data": {
            "text/plain": [
              "Rational{Int64}"
            ]
          }
        }
      ],
      "source": [
        "typeof(3//4 + 2//3)"
      ],
      "id": "cell-34"
    },
    {
      "cell_type": "code",
      "execution_count": 26,
      "metadata": {},
      "outputs": [
        {
          "output_type": "display_data",
          "metadata": {},
          "data": {
            "text/plain": [
              "Int64"
            ]
          }
        }
      ],
      "source": [
        "typeof(factorial(10))"
      ],
      "id": "cell-35"
    },
    {
      "cell_type": "code",
      "execution_count": 27,
      "metadata": {},
      "outputs": [
        {
          "output_type": "display_data",
          "metadata": {},
          "data": {
            "text/plain": [
              "8"
            ]
          }
        }
      ],
      "source": [
        "sizeof(typeof(factorial(10)))"
      ],
      "id": "cell-36"
    },
    {
      "cell_type": "code",
      "execution_count": 34,
      "metadata": {},
      "outputs": [
        {
          "output_type": "display_data",
          "metadata": {},
          "data": {
            "text/plain": [
              "<00100001 11000011 01100111 01111100 10000010 10110100 00000000 00000000>"
            ]
          }
        }
      ],
      "source": [
        "bits(factorial(20))"
      ],
      "id": "cell-37"
    },
    {
      "cell_type": "code",
      "execution_count": 37,
      "metadata": {},
      "outputs": [
        {
          "output_type": "display_data",
          "metadata": {},
          "data": {
            "text/plain": [
              "331627509245063324117539338057632403828111720810578039457193543706038077905600822400273230859732592255402352941225834109258084817415293796131386633526343688905634058556163940605117252571870647856393544045405243957467037674108722970434684158343752431580877533645127487995436859247408032408946561507233250652797655757179671536718689359056112815871601717232657156110004214012420433842573712700175883547796899921283528996665853405579854903657366350133386550401172012152635488038268152152246920995206031564418565480675946497051552288205234899995726450814065536678969532101467622671332026831552205194494461618239275204026529722631502574752048296064750927394165856283531779574482876314596450373991327334177263608852490093506621610144459709412707821313732563831572302019949914958316470942774473870327985549674298608839376326824152478834387469595829257740574539837501585815468136294217949972399813599481016556563876034227312912250384709872909626622461971076605931550201895135583165357871492290916779049702247094611937607785165110684432255905648736266530377384650390788049524600712549402614566072254136302754913671583406097831074945282217490781347709693241556111339828051358600690594619965257310741177081519922564516778571458056602185654760952377463016679422488444485798349801548032620829890965857381751888619376692828279888453584639896594213952984465291092009103710046149449915828588050761867924946385180879874512891408019340074625920057098729578599643650655895612410231018690556060308783629110505601245908998383410799367902052076858669183477906558544700148692656924631933337612428097420067172846361939249698628468719993450393889367270487127172734561700354867477509102955523953547941107421913301356819541091941462766417542161587625262858089801222443890248677182054959415751991701271767571787495861619665931878855141835782092601482071777331735396034304969082070589958701381980813035590160762908388574561288217698136182483576739218303118414719133986892842344000779246691209766731651433494437473235636572048844478331854941693030124531676232745367879322847473824485092283139952509732505979127031047683601481191102229253372697693823670057565612400290576043852852902937606479533458179666123839605262549107186663869354766108455046198102084050635827676526589492393249519685954171672419329530683673495544004586359838161043059449826627530605423580755894108278880427825951089880635410567917950974017780688782869810219010900148352061688883720250310665922068601483649830532782088263536558043605686781284169217133047141176312175895777122637584753123517230990549829210134687304205898014418063875382664169897704237759406280877253702265426530580862379301422675821187143502918637636340300173251818262076039747369595202642632364145446851113427202150458383851010136941313034856221916631623892632765815355011276307825059969158824533457435437863683173730673296589355199694458236873508830278657700879749889992343555566240682834763784685183844973648873952475103224222110561201295829657191368108693825475764118886879346725191246192151144738836269591643672490071653428228152661247800463922544945170363723627940757784542091048305461656190622174286981602973324046520201992813854882681951007282869701070737500927666487502174775372742351508748246720274170031581122805896178122160747437947510950620938556674581252518376682157712807861499255876132352950422346387878954850885764466136290394127665978044202092281337987115900896264878942413210454925003566670632909441579372986743421470507213588932019580723064781498429522595589012754823971773325722910325760929790733299545056388362640474650245080809469116072632087494143973000704111418595530278827357654819182002449697761111346318195282761590964189790958117338627206088910432945244978535147014112442143055486089639578378347325323595763291438925288393986256273242862775563140463830389168421633113445636309571965978466338551492316196335675355138403425804162919837822266909521770153175338730284610841886554138329171951332117895728541662084823682817932512931237521541926970269703299477643823386483008871530373405666383868294088487730721762268849023084934661194260180272613802108005078215741006054848201347859578102770707780655512772540501674332396066253216415004808772403047611929032210154385353138685538486425570790795341176519571188683739880683895792743749683498142923292196309777090143936843655333359307820181312993455024206044563340578606962471961505603394899523321800434359967256623927196435402872055475012079854331970674797313126813523653744085662263206768837585132782896252333284341812977624697079543436003492343159239674763638912115285406657783646213911247447051255226342701239527018127045491648045932248108858674600952306793175967755581011679940005249806303763141344412269037034987355799916009259248075052485541568266281760815446308305406677412630124441864204108373119093130001154470560277773724378067188899770851056727276781247198832857695844217588895160467868204810010047816462358220838532488134270834079868486632162720208823308727819085378845469131556021728873121907393965209260229101477527080930865364979858554010577450279289814603688431821508637246216967872282169347370599286277112447690920902988320166830170273420259765671709863311216349502171264426827119650264054228231759630874475301847194095524263411498469508073390080000000000000000000000000000000000000000000000000000000000000000000000000000000000000000000000000000000000000000000000000000000000000000000000000000000000000000000000000000000000000000000000000000000000000000000000000000000000000000000000000000000000000000000000000000000000000000000000000000000000000000000000000000000000000000000000000000000000000000000000000000000000000000000000000000000000000000000000000000000000000000000000000000000000000000000000000000000000000000000000000000000000000000000"
            ]
          }
        }
      ],
      "source": [
        "factorial(big(2000))"
      ],
      "id": "cell-38"
    },
    {
      "cell_type": "code",
      "execution_count": 32,
      "metadata": {},
      "outputs": [
        {
          "output_type": "display_data",
          "metadata": {},
          "data": {
            "text/plain": [
              "6"
            ]
          }
        }
      ],
      "source": [
        "# Scalar multiplication doesn't require *\n",
        "3(4 - 2) "
      ],
      "id": "cell-39"
    },
    {
      "cell_type": "code",
      "execution_count": 39,
      "metadata": {},
      "outputs": [
        {
          "output_type": "display_data",
          "metadata": {},
          "data": {
            "text/plain": [
              "40"
            ]
          }
        }
      ],
      "source": [
        "x = 4\n",
        "2x + 2x^2"
      ],
      "id": "cell-40"
    },
    {
      "cell_type": "code",
      "execution_count": null,
      "metadata": {},
      "outputs": [],
      "source": [
        "typeof(x)"
      ],
      "id": "cell-41"
    },
    {
      "cell_type": "code",
      "execution_count": 36,
      "metadata": {},
      "outputs": [
        {
          "output_type": "display_data",
          "metadata": {},
          "data": {
            "text/plain": [
              "8"
            ]
          }
        }
      ],
      "source": [
        "sizeof(x)"
      ],
      "id": "cell-42"
    },
    {
      "cell_type": "code",
      "execution_count": 41,
      "metadata": {},
      "outputs": [
        {
          "output_type": "display_data",
          "metadata": {},
          "data": {
            "text/plain": [
              "Int64"
            ]
          }
        }
      ],
      "source": [
        "typeof(10)"
      ],
      "id": "cell-43"
    },
    {
      "cell_type": "code",
      "execution_count": 45,
      "metadata": {},
      "outputs": [
        {
          "output_type": "display_data",
          "metadata": {},
          "data": {
            "text/plain": [
              "1//10"
            ]
          }
        }
      ],
      "source": [
        "(big(100))//big(1000)"
      ],
      "id": "cell-44"
    },
    {
      "cell_type": "code",
      "execution_count": 47,
      "metadata": {},
      "outputs": [
        {
          "output_type": "display_data",
          "metadata": {},
          "data": {
            "text/plain": [
              "\"0000000000000000000000000000000000000000000000000000000000001010\""
            ]
          }
        }
      ],
      "source": [
        "bitstring(10)"
      ],
      "id": "cell-45"
    },
    {
      "cell_type": "markdown",
      "metadata": {},
      "source": [
        "#### Booleans\n",
        "\n",
        "Equality"
      ],
      "id": "b41a4f26-2090-4ae8-88f7-dcf01f15a181"
    },
    {
      "cell_type": "code",
      "execution_count": 40,
      "metadata": {},
      "outputs": [
        {
          "output_type": "display_data",
          "metadata": {},
          "data": {
            "text/plain": [
              "false"
            ]
          }
        }
      ],
      "source": [
        "0 == 1"
      ],
      "id": "cell-48"
    },
    {
      "cell_type": "code",
      "execution_count": 41,
      "metadata": {},
      "outputs": [
        {
          "output_type": "display_data",
          "metadata": {},
          "data": {
            "text/plain": [
              "true"
            ]
          }
        }
      ],
      "source": [
        "2 != 3"
      ],
      "id": "cell-49"
    },
    {
      "cell_type": "code",
      "execution_count": 42,
      "metadata": {},
      "outputs": [
        {
          "output_type": "display_data",
          "metadata": {},
          "data": {
            "text/plain": [
              "true"
            ]
          }
        }
      ],
      "source": [
        "3 < 4"
      ],
      "id": "cell-50"
    },
    {
      "cell_type": "code",
      "execution_count": 43,
      "metadata": {},
      "outputs": [
        {
          "output_type": "display_data",
          "metadata": {},
          "data": {
            "text/plain": [
              "false"
            ]
          }
        }
      ],
      "source": [
        "true == false"
      ],
      "id": "cell-51"
    },
    {
      "cell_type": "markdown",
      "metadata": {},
      "source": [
        "Identity"
      ],
      "id": "ddf40c73-bbf3-4f93-9426-52d05a9a2d4e"
    },
    {
      "cell_type": "code",
      "execution_count": null,
      "metadata": {},
      "outputs": [],
      "source": [
        "a = [34, 35]\n",
        "b = [34, 35]\n",
        "c = a"
      ],
      "id": "cell-53"
    },
    {
      "cell_type": "code",
      "execution_count": null,
      "metadata": {},
      "outputs": [],
      "source": [
        "c === a"
      ],
      "id": "cell-54"
    },
    {
      "cell_type": "code",
      "execution_count": null,
      "metadata": {},
      "outputs": [],
      "source": [
        "b === a"
      ],
      "id": "cell-55"
    },
    {
      "cell_type": "markdown",
      "metadata": {},
      "source": [
        "Boolean operator"
      ],
      "id": "d6325534-f9e0-4bc8-9f91-2c45b465bf8c"
    },
    {
      "cell_type": "code",
      "execution_count": 54,
      "metadata": {},
      "outputs": [
        {
          "output_type": "display_data",
          "metadata": {},
          "data": {
            "text/plain": [
              "false"
            ]
          }
        }
      ],
      "source": [
        "true && false"
      ],
      "id": "cell-57"
    },
    {
      "cell_type": "code",
      "execution_count": 55,
      "metadata": {},
      "outputs": [
        {
          "output_type": "display_data",
          "metadata": {},
          "data": {
            "text/plain": [
              "true"
            ]
          }
        }
      ],
      "source": [
        "true || false"
      ],
      "id": "cell-58"
    },
    {
      "cell_type": "code",
      "execution_count": 56,
      "metadata": {},
      "outputs": [
        {
          "output_type": "display_data",
          "metadata": {},
          "data": {
            "text/plain": [
              "false"
            ]
          }
        }
      ],
      "source": [
        "!true"
      ],
      "id": "cell-59"
    },
    {
      "cell_type": "code",
      "execution_count": 46,
      "metadata": {},
      "outputs": [],
      "source": [
        "a  = 2\n",
        "b = 3\n",
        "\n",
        "# greedy version: computes both sides\n",
        "(a > b) & (factorial(100) > 10)\n",
        "\n",
        "# lazy version: computes just enough\n",
        "(a > b) && (factorial(100) > 10)"
      ],
      "id": "cell-60"
    },
    {
      "cell_type": "markdown",
      "metadata": {},
      "source": [
        "#### Strings"
      ],
      "id": "e27e99e5-72b7-4f40-9a52-c45aaa60b290"
    },
    {
      "cell_type": "code",
      "execution_count": 47,
      "metadata": {},
      "outputs": [
        {
          "output_type": "display_data",
          "metadata": {},
          "data": {
            "text/plain": [
              "\"This is a string\""
            ]
          }
        }
      ],
      "source": [
        "# Strings are written using double quotes\n",
        "str = \"This is a string\""
      ],
      "id": "cell-62"
    },
    {
      "cell_type": "code",
      "execution_count": 48,
      "metadata": {},
      "outputs": [
        {
          "output_type": "display_data",
          "metadata": {},
          "data": {
            "text/plain": [
              "'🦆': Unicode U+1F986 (category So: Symbol, other)"
            ]
          }
        }
      ],
      "source": [
        "ch = '🦆' # this is a character"
      ],
      "id": "cell-63"
    },
    {
      "cell_type": "code",
      "execution_count": 62,
      "metadata": {},
      "outputs": [
        {
          "output_type": "display_data",
          "metadata": {},
          "data": {
            "text/plain": [
              "\"α is a string\""
            ]
          }
        }
      ],
      "source": [
        "# Strings can also contain Unicode characters\n",
        "fancy_str = \"9098 α s a string\""
      ],
      "id": "cell-64"
    },
    {
      "cell_type": "code",
      "execution_count": 64,
      "metadata": {},
      "outputs": [
        {
          "output_type": "stream",
          "name": "stdout",
          "text": [
            "Iteration : 10"
          ]
        }
      ],
      "source": [
        "n = 10\n",
        "println(\"Iteration : \", n)"
      ],
      "id": "cell-65"
    },
    {
      "cell_type": "code",
      "execution_count": 65,
      "metadata": {},
      "outputs": [
        {
          "output_type": "display_data",
          "metadata": {},
          "data": {
            "text/plain": [
              "\"2 + 2 = 5\""
            ]
          }
        }
      ],
      "source": [
        "# String interpolation using $\n",
        "# The expression in parentheses is evaluated and the result is \n",
        "# inserted into the string\n",
        "a = 2+2\n",
        "\"2 + 2 = $(a+1)\""
      ],
      "id": "cell-66"
    },
    {
      "cell_type": "code",
      "execution_count": 66,
      "metadata": {},
      "outputs": [
        {
          "output_type": "stream",
          "name": "stdout",
          "text": [
            "It took me 4 iterations"
          ]
        }
      ],
      "source": [
        "println(\"It took me $(a) iterations\")"
      ],
      "id": "cell-67"
    },
    {
      "cell_type": "code",
      "execution_count": 67,
      "metadata": {},
      "outputs": [
        {
          "output_type": "display_data",
          "metadata": {},
          "data": {
            "text/plain": [
              "\"helloworld\""
            ]
          }
        }
      ],
      "source": [
        "# String concatenation using *\n",
        "\"hello\" * \"world\""
      ],
      "id": "cell-68"
    },
    {
      "cell_type": "code",
      "execution_count": 69,
      "metadata": {},
      "outputs": [
        {
          "output_type": "stream",
          "name": "stdout",
          "text": [
            "123"
          ]
        }
      ],
      "source": [
        "print(\"1\")\n",
        "print(\"2\")\n",
        "print(\"3\")"
      ],
      "id": "cell-69"
    },
    {
      "cell_type": "code",
      "execution_count": 70,
      "metadata": {},
      "outputs": [
        {
          "output_type": "stream",
          "name": "stdout",
          "text": [
            "1\n",
            "2\n",
            "3"
          ]
        }
      ],
      "source": [
        "println(\"1\")\n",
        "println(\"2\")\n",
        "println(\"3\")"
      ],
      "id": "cell-70"
    },
    {
      "cell_type": "code",
      "execution_count": 44,
      "metadata": {},
      "outputs": [
        {
          "output_type": "stream",
          "name": "stdout",
          "text": [
            "hello world"
          ]
        }
      ],
      "source": [
        "println(\"hello \", \"world\")"
      ],
      "id": "cell-71"
    },
    {
      "cell_type": "markdown",
      "metadata": {},
      "source": [
        "#### Arrays\n",
        "\n",
        "Julia has one-dimensional arrays. They are also called Vector."
      ],
      "id": "162a50fe-ec6d-43b1-a70c-1f3bf8a9cb53"
    },
    {
      "cell_type": "code",
      "execution_count": 45,
      "metadata": {},
      "outputs": [
        {
          "output_type": "display_data",
          "metadata": {},
          "data": {
            "text/plain": [
              "2-element Vector{Int64}:\n",
              " 1\n",
              " 2"
            ]
          }
        }
      ],
      "source": [
        "A = [1, 2]"
      ],
      "id": "cell-74"
    },
    {
      "cell_type": "markdown",
      "metadata": {},
      "source": [
        "All elements have the type:"
      ],
      "id": "0abafe70-1c28-4b38-80c4-e23d373be4a7"
    },
    {
      "cell_type": "code",
      "execution_count": 53,
      "metadata": {},
      "outputs": [
        {
          "output_type": "display_data",
          "metadata": {},
          "data": {
            "text/plain": [
              "2-element Vector{Float64}:\n",
              " 1.0\n",
              " 1.4"
            ]
          }
        }
      ],
      "source": [
        "A = [1, 1.4]"
      ],
      "id": "cell-76"
    },
    {
      "cell_type": "code",
      "execution_count": 51,
      "metadata": {},
      "outputs": [
        {
          "output_type": "display_data",
          "metadata": {},
          "data": {
            "text/plain": [
              "4-element Vector{Any}:\n",
              "  \"One\"\n",
              "  \"Two\"\n",
              "  \"Three\"\n",
              " 8"
            ]
          }
        }
      ],
      "source": [
        "[\"One\",\"Two\",\"Three\",8]"
      ],
      "id": "cell-77"
    },
    {
      "cell_type": "code",
      "execution_count": 73,
      "metadata": {},
      "outputs": [
        {
          "output_type": "display_data",
          "metadata": {},
          "data": {
            "text/plain": [
              "false"
            ]
          }
        }
      ],
      "source": [
        "typeof(A) == Vector{Int64}"
      ],
      "id": "cell-78"
    },
    {
      "cell_type": "code",
      "execution_count": 56,
      "metadata": {},
      "outputs": [
        {
          "output_type": "display_data",
          "metadata": {},
          "data": {
            "text/plain": [
              "2-element Vector{Float64}:\n",
              " 1.0\n",
              " 1.4"
            ]
          }
        }
      ],
      "source": [
        "A''"
      ],
      "id": "cell-79"
    },
    {
      "cell_type": "markdown",
      "metadata": {},
      "source": [
        "To get the size of an array:"
      ],
      "id": "5e7c13e0-8250-46f4-a173-ed530cfd811f"
    },
    {
      "cell_type": "code",
      "execution_count": 54,
      "metadata": {},
      "outputs": [
        {
          "output_type": "display_data",
          "metadata": {},
          "data": {
            "text/plain": [
              "2"
            ]
          }
        }
      ],
      "source": [
        "length(A)"
      ],
      "id": "cell-81"
    },
    {
      "cell_type": "code",
      "execution_count": 57,
      "metadata": {},
      "outputs": [
        {
          "output_type": "display_data",
          "metadata": {},
          "data": {
            "text/plain": [
              "(2,)"
            ]
          }
        }
      ],
      "source": [
        "size(A)"
      ],
      "id": "cell-82"
    },
    {
      "cell_type": "markdown",
      "metadata": {},
      "source": [
        "Arrays are *mutable*"
      ],
      "id": "94057974-710e-4989-9306-0edb62a714f2"
    },
    {
      "cell_type": "code",
      "execution_count": 58,
      "metadata": {},
      "outputs": [
        {
          "output_type": "display_data",
          "metadata": {},
          "data": {
            "text/plain": [
              "10"
            ]
          }
        }
      ],
      "source": [
        "A[1] = 10"
      ],
      "id": "cell-84"
    },
    {
      "cell_type": "code",
      "execution_count": 59,
      "metadata": {},
      "outputs": [
        {
          "output_type": "display_data",
          "metadata": {},
          "data": {
            "text/plain": [
              "2-element Vector{Float64}:\n",
              " 10.0\n",
              "  1.4"
            ]
          }
        }
      ],
      "source": [
        "A"
      ],
      "id": "cell-85"
    },
    {
      "cell_type": "markdown",
      "metadata": {},
      "source": [
        "Julia has one-based indexing: you refer to the first element as 1\n",
        "($\\neq$ zero-based indexing in C or Python)"
      ],
      "id": "bdeec271-b7f5-4baa-979d-2ac239624467"
    },
    {
      "cell_type": "code",
      "execution_count": 54,
      "metadata": {},
      "outputs": [
        {
          "output_type": "display_data",
          "metadata": {},
          "data": {
            "text/plain": [
              "1.4"
            ]
          }
        }
      ],
      "source": [
        "A[2]"
      ],
      "id": "cell-87"
    },
    {
      "cell_type": "markdown",
      "metadata": {},
      "source": [
        "Arrays are mutable and their size can be changed too:"
      ],
      "id": "35bd992b-1ec4-4dde-97b3-4af39e07a066"
    },
    {
      "cell_type": "code",
      "execution_count": 61,
      "metadata": {},
      "outputs": [
        {
          "output_type": "display_data",
          "metadata": {},
          "data": {
            "text/plain": [
              "4-element Vector{Float64}:\n",
              " 10.0\n",
              "  1.4\n",
              " 29.0\n",
              " 29.0"
            ]
          }
        }
      ],
      "source": [
        "push!(A, 29)\n",
        "A"
      ],
      "id": "cell-89"
    },
    {
      "cell_type": "code",
      "execution_count": 27,
      "metadata": {},
      "outputs": [
        {
          "output_type": "display_data",
          "metadata": {},
          "data": {
            "text/plain": [
              "3-element Array{Float64,1}:\n",
              " 10.0\n",
              "  1.4\n",
              " 29.0"
            ]
          }
        }
      ],
      "source": [
        "A"
      ],
      "id": "cell-90"
    },
    {
      "cell_type": "code",
      "execution_count": 63,
      "metadata": {},
      "outputs": [
        {
          "output_type": "display_data",
          "metadata": {},
          "data": {
            "text/plain": [
              "6-element Vector{Float64}:\n",
              " 28.0\n",
              " 28.0\n",
              " 10.0\n",
              "  1.4\n",
              " 29.0\n",
              " 29.0"
            ]
          }
        }
      ],
      "source": [
        "prepend!(A, 28)"
      ],
      "id": "cell-91"
    },
    {
      "cell_type": "markdown",
      "metadata": {},
      "source": [
        "Two comments: - the `push!` operation is *fast* - `!` is a julia\n",
        "convention to express the fact that `push!` mutates its first argument"
      ],
      "id": "314f033f-e9dd-49e1-8c17-35f34a60d235"
    },
    {
      "cell_type": "code",
      "execution_count": 81,
      "metadata": {},
      "outputs": [
        {
          "output_type": "display_data",
          "metadata": {},
          "data": {
            "text/plain": [
              "2-element Vector{String}:\n",
              " \"a\"\n",
              " \"b\""
            ]
          }
        }
      ],
      "source": [
        "[\"a\", \"b\"]"
      ],
      "id": "cell-93"
    },
    {
      "cell_type": "code",
      "execution_count": 82,
      "metadata": {},
      "outputs": [
        {
          "output_type": "display_data",
          "metadata": {},
          "data": {
            "text/plain": [
              "2-element Vector{Any}:\n",
              "  \"a\"\n",
              " 1"
            ]
          }
        }
      ],
      "source": [
        "[\"a\", 1]"
      ],
      "id": "cell-94"
    },
    {
      "cell_type": "markdown",
      "metadata": {},
      "source": [
        "#### tuples"
      ],
      "id": "7fea4006-f922-486b-8f80-7d9997770432"
    },
    {
      "cell_type": "code",
      "execution_count": 64,
      "metadata": {},
      "outputs": [
        {
          "output_type": "display_data",
          "metadata": {},
          "data": {
            "text/plain": [
              "(6,)"
            ]
          }
        }
      ],
      "source": [
        "size(A)  # is a tuple"
      ],
      "id": "cell-96"
    },
    {
      "cell_type": "code",
      "execution_count": 65,
      "metadata": {},
      "outputs": [
        {
          "output_type": "display_data",
          "metadata": {},
          "data": {
            "text/plain": [
              "(5,)"
            ]
          }
        }
      ],
      "source": [
        "(5,)"
      ],
      "id": "cell-97"
    },
    {
      "cell_type": "code",
      "execution_count": 66,
      "metadata": {},
      "outputs": [
        {
          "output_type": "display_data",
          "metadata": {},
          "data": {
            "text/plain": [
              "(1, 2, 3, 4)"
            ]
          }
        }
      ],
      "source": [
        "# you can create tuples with (,,,)\n",
        "t = (1,2,3,4)\n"
      ],
      "id": "cell-98"
    },
    {
      "cell_type": "code",
      "execution_count": 88,
      "metadata": {},
      "outputs": [
        {
          "output_type": "display_data",
          "metadata": {},
          "data": {
            "text/plain": [
              "(1, 2, 3, 4)"
            ]
          }
        }
      ],
      "source": [
        "t"
      ],
      "id": "cell-99"
    },
    {
      "cell_type": "markdown",
      "metadata": {},
      "source": [
        "tuples differ from arrays in two ways: - they are immutable - they can\n",
        "contain non-homogenous objects"
      ],
      "id": "169114b9-70b6-4eb9-8efd-655948050549"
    },
    {
      "cell_type": "code",
      "execution_count": 89,
      "metadata": {},
      "outputs": [
        {
          "output_type": "display_data",
          "metadata": {},
          "data": {
            "text/plain": [
              "1"
            ]
          }
        }
      ],
      "source": [
        "t[1]"
      ],
      "id": "cell-101"
    },
    {
      "cell_type": "code",
      "execution_count": 67,
      "metadata": {},
      "outputs": [],
      "source": [
        "t[1] = 2"
      ],
      "id": "cell-102"
    },
    {
      "cell_type": "code",
      "execution_count": 68,
      "metadata": {},
      "outputs": [
        {
          "output_type": "display_data",
          "metadata": {},
          "data": {
            "text/plain": [
              "Tuple{Int64, String, Vector{Int64}}"
            ]
          }
        }
      ],
      "source": [
        "typeof((1, \"1\", [1]))"
      ],
      "id": "cell-103"
    },
    {
      "cell_type": "markdown",
      "metadata": {},
      "source": [
        "2d arrays are also called matrices… and can be used for matrix\n",
        "multiplications."
      ],
      "id": "272a027c-a7a4-4a0a-9e6c-77a17afb7e38"
    },
    {
      "cell_type": "code",
      "execution_count": 92,
      "metadata": {},
      "outputs": [
        {
          "output_type": "display_data",
          "metadata": {},
          "data": {
            "text/plain": [
              "2×2 Matrix{Int64}:\n",
              " 3  4\n",
              " 5  6"
            ]
          }
        }
      ],
      "source": [
        "[3 4; 5 6]"
      ],
      "id": "cell-105"
    },
    {
      "cell_type": "code",
      "execution_count": 95,
      "metadata": {},
      "outputs": [
        {
          "output_type": "display_data",
          "metadata": {},
          "data": {
            "text/plain": [
              "2×2 Matrix{Int64}:\n",
              " 3  5\n",
              " 4  6"
            ]
          }
        }
      ],
      "source": [
        "[ [3, 4];; [5, 6]] # concatenate along second dimension"
      ],
      "id": "cell-106"
    },
    {
      "cell_type": "code",
      "execution_count": 97,
      "metadata": {},
      "outputs": [
        {
          "output_type": "display_data",
          "metadata": {},
          "data": {
            "text/plain": [
              "4×2 Matrix{Int64}:\n",
              " 1  5\n",
              " 2  6\n",
              " 3  7\n",
              " 4  8"
            ]
          }
        }
      ],
      "source": [
        "a1 = [1,2,3,4]\n",
        "a2 = [1,2,3,4]  .+ 4\n",
        "[a1 ;; a2]\n",
        "cat(a1, a2; dims=2)"
      ],
      "id": "cell-107"
    },
    {
      "cell_type": "code",
      "execution_count": 37,
      "metadata": {},
      "outputs": [
        {
          "output_type": "display_data",
          "metadata": {},
          "data": {
            "text/plain": [
              "1×3 Array{Float64,2}:\n",
              " 1.0  0.6  0.0"
            ]
          }
        }
      ],
      "source": [
        "b = [1 0.6 0]"
      ],
      "id": "cell-108"
    },
    {
      "cell_type": "code",
      "execution_count": null,
      "metadata": {},
      "outputs": [],
      "source": [
        "B = [0.1 0.2 0.3; 4 5 6]"
      ],
      "id": "cell-109"
    },
    {
      "cell_type": "markdown",
      "metadata": {},
      "source": [
        "Other ways to construct arrays:"
      ],
      "id": "1f351a9a-af71-4b6c-afa8-bf48f898c3f8"
    },
    {
      "cell_type": "code",
      "execution_count": 69,
      "metadata": {},
      "outputs": [
        {
          "output_type": "display_data",
          "metadata": {},
          "data": {
            "text/plain": [
              "2×3 Matrix{Float64}:\n",
              " 0.0  23.2  0.0\n",
              " 0.0   0.0  0.0"
            ]
          }
        }
      ],
      "source": [
        "# zero array\n",
        "t = zeros(2,3)\n",
        "t[1,2] = 23.2\n",
        "t"
      ],
      "id": "cell-111"
    },
    {
      "cell_type": "code",
      "execution_count": 100,
      "metadata": {},
      "outputs": [
        {
          "output_type": "display_data",
          "metadata": {},
          "data": {
            "text/plain": [
              "2×3 Matrix{Int64}:\n",
              " 0  0  0\n",
              " 0  0  0"
            ]
          }
        }
      ],
      "source": [
        "# zero array\n",
        "t = zeros(Int64,2,3)\n",
        "# t[1,2] = 23.2\n",
        "t"
      ],
      "id": "cell-112"
    },
    {
      "cell_type": "code",
      "execution_count": 70,
      "metadata": {},
      "outputs": [
        {
          "output_type": "display_data",
          "metadata": {},
          "data": {
            "text/plain": [
              "3×3 Matrix{Float64}:\n",
              " 0.928785  0.995991  0.7203\n",
              " 0.973016  0.348774  0.894226\n",
              " 0.347023  0.183494  0.0354047"
            ]
          }
        }
      ],
      "source": [
        "# random array (uniform distribution)\n",
        "t= rand(3,3)\n",
        "t"
      ],
      "id": "cell-113"
    },
    {
      "cell_type": "code",
      "execution_count": 71,
      "metadata": {},
      "outputs": [
        {
          "output_type": "display_data",
          "metadata": {},
          "data": {
            "text/plain": [
              "3×3 Matrix{Float64}:\n",
              " -0.227202   0.380089  -0.915389\n",
              " -0.155927   0.575084   0.881319\n",
              "  0.0436224  0.349997  -0.321883"
            ]
          }
        }
      ],
      "source": [
        "# random array (normal distribution)\n",
        "t= randn(3,3)\n",
        "t"
      ],
      "id": "cell-114"
    },
    {
      "cell_type": "markdown",
      "metadata": {},
      "source": [
        "Vectorized operations take a ., even comparisons (pointwise operations)"
      ],
      "id": "d76bd92b-d39f-4a79-a21e-3826302d7a96"
    },
    {
      "cell_type": "code",
      "execution_count": 72,
      "metadata": {},
      "outputs": [
        {
          "output_type": "display_data",
          "metadata": {},
          "data": {
            "text/plain": [
              "2×2 Matrix{Int64}:\n",
              " 1  2\n",
              " 3  4"
            ]
          }
        }
      ],
      "source": [
        "B = [1 2;3 4]"
      ],
      "id": "cell-116"
    },
    {
      "cell_type": "code",
      "execution_count": 103,
      "metadata": {},
      "outputs": [
        {
          "output_type": "display_data",
          "metadata": {},
          "data": {
            "text/plain": [
              "2×2 Matrix{Int64}:\n",
              "  7  10\n",
              " 15  22"
            ]
          }
        }
      ],
      "source": [
        "B*B"
      ],
      "id": "cell-117"
    },
    {
      "cell_type": "code",
      "execution_count": 73,
      "metadata": {},
      "outputs": [
        {
          "output_type": "display_data",
          "metadata": {},
          "data": {
            "text/plain": [
              "2×2 Matrix{Int64}:\n",
              " 1   4\n",
              " 9  16"
            ]
          }
        }
      ],
      "source": [
        "B .* B"
      ],
      "id": "cell-118"
    },
    {
      "cell_type": "code",
      "execution_count": 74,
      "metadata": {},
      "outputs": [
        {
          "output_type": "display_data",
          "metadata": {},
          "data": {
            "text/plain": [
              "f (generic function with 1 method)"
            ]
          }
        }
      ],
      "source": [
        "f(x) = x^2+1"
      ],
      "id": "cell-119"
    },
    {
      "cell_type": "code",
      "execution_count": 105,
      "metadata": {},
      "outputs": [
        {
          "output_type": "display_data",
          "metadata": {},
          "data": {
            "text/plain": [
              "1850"
            ]
          }
        }
      ],
      "source": [
        "f(43)"
      ],
      "id": "cell-120"
    },
    {
      "cell_type": "code",
      "execution_count": 76,
      "metadata": {},
      "outputs": [
        {
          "output_type": "display_data",
          "metadata": {},
          "data": {
            "text/plain": [
              "5-element Vector{Int64}:\n",
              "  2\n",
              "  5\n",
              " 10\n",
              " 17\n",
              " 26"
            ]
          }
        }
      ],
      "source": [
        "[ f(e) for e in [1,2,3,4,5] ]\n"
      ],
      "id": "cell-121"
    },
    {
      "cell_type": "code",
      "execution_count": 75,
      "metadata": {},
      "outputs": [
        {
          "output_type": "display_data",
          "metadata": {},
          "data": {
            "text/plain": [
              "5-element Vector{Int64}:\n",
              "  2\n",
              "  5\n",
              " 10\n",
              " 17\n",
              " 26"
            ]
          }
        }
      ],
      "source": [
        "# [ f(e) for e in [1,2,3,4,5] ]\n",
        "f.([1,2,3,4,5])"
      ],
      "id": "cell-122"
    },
    {
      "cell_type": "markdown",
      "metadata": {},
      "source": [
        "Elements are always accessed with square brackets:"
      ],
      "id": "19a2d6fa-45ad-4f35-a550-a49f590d4049"
    },
    {
      "cell_type": "code",
      "execution_count": 109,
      "metadata": {},
      "outputs": [
        {
          "output_type": "display_data",
          "metadata": {},
          "data": {
            "text/plain": [
              "2×3 Matrix{Int64}:\n",
              " 1  2  3\n",
              " 4  5  6"
            ]
          }
        }
      ],
      "source": [
        "B = [1 2 3; 4 5 6]"
      ],
      "id": "cell-124"
    },
    {
      "cell_type": "code",
      "execution_count": null,
      "metadata": {},
      "outputs": [],
      "source": [
        "You get element $B_{ij}$ with `B[i,j]`"
      ],
      "id": "cell-125"
    },
    {
      "cell_type": "code",
      "execution_count": 55,
      "metadata": {},
      "outputs": [
        {
          "output_type": "display_data",
          "metadata": {},
          "data": {
            "text/plain": [
              "2"
            ]
          }
        }
      ],
      "source": [
        "B[1,2]"
      ],
      "id": "cell-126"
    },
    {
      "cell_type": "markdown",
      "metadata": {},
      "source": [
        "You select a whole row/column with `:`"
      ],
      "id": "4211e4e4-ae69-44a5-a663-a143e6d12cb9"
    },
    {
      "cell_type": "code",
      "execution_count": 77,
      "metadata": {},
      "outputs": [
        {
          "output_type": "display_data",
          "metadata": {},
          "data": {
            "text/plain": [
              "2×2 Matrix{Int64}:\n",
              " 1  2\n",
              " 3  4"
            ]
          }
        }
      ],
      "source": [
        "B"
      ],
      "id": "cell-128"
    },
    {
      "cell_type": "code",
      "execution_count": 78,
      "metadata": {},
      "outputs": [
        {
          "output_type": "display_data",
          "metadata": {},
          "data": {
            "text/plain": [
              "2-element Vector{Int64}:\n",
              " 1\n",
              " 2"
            ]
          }
        }
      ],
      "source": [
        "B[1,:]"
      ],
      "id": "cell-129"
    },
    {
      "cell_type": "code",
      "execution_count": 79,
      "metadata": {},
      "outputs": [
        {
          "output_type": "display_data",
          "metadata": {},
          "data": {
            "text/plain": [
              "2-element Vector{Int64}:\n",
              " 1\n",
              " 3"
            ]
          }
        }
      ],
      "source": [
        "B[:,1]"
      ],
      "id": "cell-130"
    },
    {
      "cell_type": "code",
      "execution_count": 112,
      "metadata": {},
      "outputs": [
        {
          "output_type": "display_data",
          "metadata": {},
          "data": {
            "text/plain": [
              "2×2 Matrix{Int64}:\n",
              " 1  2\n",
              " 4  5"
            ]
          }
        }
      ],
      "source": [
        "B[:,1:2]"
      ],
      "id": "cell-131"
    },
    {
      "cell_type": "code",
      "execution_count": 113,
      "metadata": {},
      "outputs": [
        {
          "output_type": "display_data",
          "metadata": {},
          "data": {
            "text/plain": [
              "2×2 Matrix{Int64}:\n",
              " 1  2\n",
              " 4  5"
            ]
          }
        }
      ],
      "source": [
        "B[:,1:end-1]"
      ],
      "id": "cell-132"
    },
    {
      "cell_type": "markdown",
      "metadata": {},
      "source": [
        "#### Control flow\n",
        "\n",
        "Conditions"
      ],
      "id": "01c6dbed-7ffa-4b1b-8ae8-20cda33c5969"
    },
    {
      "cell_type": "code",
      "execution_count": 97,
      "metadata": {},
      "outputs": [
        {
          "output_type": "stream",
          "name": "stdout",
          "text": [
            "x is zero"
          ]
        }
      ],
      "source": [
        "x = 0\n",
        "if x<0\n",
        "    # block\n",
        "    println(\"x is negative\")\n",
        "elseif (x > 0) # optional and unlimited\n",
        "    println(\"x is positive\")\n",
        "else         # optional\n",
        "    println(\"x is zero\")\n",
        "end"
      ],
      "id": "cell-135"
    },
    {
      "cell_type": "markdown",
      "metadata": {},
      "source": [
        "While"
      ],
      "id": "58249f2f-cd9b-4b57-989e-a62a80c50e77"
    },
    {
      "cell_type": "code",
      "execution_count": 67,
      "metadata": {},
      "outputs": [
        {
          "output_type": "stream",
          "name": "stdout",
          "text": [
            "3\n",
            "2\n",
            "1"
          ]
        }
      ],
      "source": [
        "i = 3\n",
        "while i > 0\n",
        "    println(i)\n",
        "    i -= 1 # decrement\n",
        "end"
      ],
      "id": "cell-137"
    },
    {
      "cell_type": "markdown",
      "metadata": {},
      "source": [
        "For loops: your iterate over any iterable object: - range `i1:i2` -\n",
        "vector - tuple"
      ],
      "id": "b1d230b6-bcc5-41fc-af10-55ef2442c891"
    },
    {
      "cell_type": "code",
      "execution_count": 98,
      "metadata": {},
      "outputs": [
        {
          "output_type": "stream",
          "name": "stdout",
          "text": [
            "1\n",
            "2\n",
            "3"
          ]
        }
      ],
      "source": [
        "# Iterate through ranges of numbers\n",
        "for i ∈ (1:3)\n",
        "    println(i)\n",
        "end"
      ],
      "id": "cell-139"
    },
    {
      "cell_type": "code",
      "execution_count": 115,
      "metadata": {},
      "outputs": [
        {
          "output_type": "stream",
          "name": "stdout",
          "text": [
            "Boston\n",
            "New York\n",
            "Philadelphia"
          ]
        }
      ],
      "source": [
        "# Iterate through arrays\n",
        "cities = [\"Boston\", \"New York\", \"Philadelphia\"]\n",
        "for city ∈ cities\n",
        "    println(city)\n",
        "end"
      ],
      "id": "cell-140"
    },
    {
      "cell_type": "code",
      "execution_count": 100,
      "metadata": {},
      "outputs": [
        {
          "output_type": "display_data",
          "metadata": {},
          "data": {
            "text/plain": [
              "3-element Vector{String}:\n",
              " \"Boston\"\n",
              " \"New York\"\n",
              " \"Philadelphia\""
            ]
          }
        }
      ],
      "source": [
        "cities"
      ],
      "id": "cell-141"
    },
    {
      "cell_type": "code",
      "execution_count": 116,
      "metadata": {},
      "outputs": [
        {
          "output_type": "display_data",
          "metadata": {},
          "data": {
            "text/plain": [
              "3-element Vector{String}:\n",
              " \"Massachussets\"\n",
              " \"New York\"\n",
              " \"Pennsylvania\""
            ]
          }
        }
      ],
      "source": [
        "states = [\"Massachussets\", \"New York\", \"Pennsylvania\"]"
      ],
      "id": "cell-142"
    },
    {
      "cell_type": "code",
      "execution_count": 118,
      "metadata": {},
      "outputs": [
        {
          "output_type": "display_data",
          "metadata": {},
          "data": {
            "text/plain": [
              "zip([\"Boston\", \"New York\", \"Philadelphia\"], [\"Massachussets\", \"New York\", \"Pennsylvania\"])"
            ]
          }
        }
      ],
      "source": [
        "two_by_two_iterable = zip(cities, states)"
      ],
      "id": "cell-143"
    },
    {
      "cell_type": "code",
      "execution_count": 120,
      "metadata": {},
      "outputs": [
        {
          "output_type": "display_data",
          "metadata": {},
          "data": {
            "text/plain": [
              "Base.Iterators.Zip{Tuple{Vector{String}, Vector{String}}}"
            ]
          }
        }
      ],
      "source": [
        "typeof(two_by_two_iterable)"
      ],
      "id": "cell-144"
    },
    {
      "cell_type": "code",
      "execution_count": 121,
      "metadata": {},
      "outputs": [
        {
          "output_type": "display_data",
          "metadata": {},
          "data": {
            "text/plain": [
              "3-element Vector{Tuple{String, String}}:\n",
              " (\"Boston\", \"Massachussets\")\n",
              " (\"New York\", \"New York\")\n",
              " (\"Philadelphia\", \"Pennsylvania\")"
            ]
          }
        }
      ],
      "source": [
        "collect(two_by_two_iterable)"
      ],
      "id": "cell-145"
    },
    {
      "cell_type": "code",
      "execution_count": 122,
      "metadata": {},
      "outputs": [
        {
          "output_type": "display_data",
          "metadata": {},
          "data": {
            "text/plain": [
              "3-element Vector{Tuple{String, String}}:\n",
              " (\"Boston\", \"Massachussets\")\n",
              " (\"New York\", \"New York\")\n",
              " (\"Philadelphia\", \"Pennsylvania\")"
            ]
          }
        }
      ],
      "source": [
        "[two_by_two_iterable...]"
      ],
      "id": "cell-146"
    },
    {
      "cell_type": "code",
      "execution_count": 106,
      "metadata": {},
      "outputs": [
        {
          "output_type": "stream",
          "name": "stdout",
          "text": [
            "(\"Boston\", \"Massachussets\")\n",
            "(\"New York\", \"New York\")\n",
            "(\"Philadelphia\", \"Pennsylvania\")"
          ]
        }
      ],
      "source": [
        "# Iterate through arrays of tuples using zip\n",
        "for kw in zip(cities, states)\n",
        "    println(kw)\n",
        "end"
      ],
      "id": "cell-147"
    },
    {
      "cell_type": "code",
      "execution_count": 123,
      "metadata": {},
      "outputs": [
        {
          "output_type": "stream",
          "name": "stdout",
          "text": [
            "City: Boston | State: Massachussets\n",
            "City: New York | State: New York\n",
            "City: Philadelphia | State: Pennsylvania"
          ]
        }
      ],
      "source": [
        "# Iterate through arrays of tuples using zip\n",
        "for (city, state) in zip(cities, states)\n",
        "    println(\"City: $city | State: $state\")\n",
        "end"
      ],
      "id": "cell-148"
    },
    {
      "cell_type": "code",
      "execution_count": 108,
      "metadata": {},
      "outputs": [
        {
          "output_type": "stream",
          "name": "stdout",
          "text": [
            "City 1 is Boston\n",
            "City 2 is New York\n",
            "City 3 is Philadelphia"
          ]
        }
      ],
      "source": [
        "# Iterate through arrays and their indices using enumerate\n",
        "for (i, city) in enumerate(cities)\n",
        "    println(\"City $i is $city\")\n",
        "end"
      ],
      "id": "cell-150"
    },
    {
      "cell_type": "markdown",
      "metadata": {},
      "source": [
        "#### List comprehensions"
      ],
      "id": "eb4c2552-cc6b-4de1-9fe9-d90a670755d9"
    },
    {
      "cell_type": "code",
      "execution_count": 111,
      "metadata": {},
      "outputs": [
        {
          "output_type": "display_data",
          "metadata": {},
          "data": {
            "text/plain": [
              "10-element Vector{Float64}:\n",
              "  1.0\n",
              "  2.0\n",
              "  3.0\n",
              "  4.0\n",
              "  5.0\n",
              "  6.0\n",
              "  7.0\n",
              "  8.0\n",
              "  9.0\n",
              " 10.0"
            ]
          }
        }
      ],
      "source": [
        "[1:10 ...] # unpack operator"
      ],
      "id": "cell-152"
    },
    {
      "cell_type": "code",
      "execution_count": 112,
      "metadata": {},
      "outputs": [
        {
          "output_type": "display_data",
          "metadata": {},
          "data": {
            "text/plain": [
              "10-element Vector{Int64}:\n",
              "   1\n",
              "   4\n",
              "   9\n",
              "  16\n",
              "  25\n",
              "  36\n",
              "  49\n",
              "  64\n",
              "  81\n",
              " 100"
            ]
          }
        }
      ],
      "source": [
        "[i^2 for i  in 1:10] # collect with comprehension syntax"
      ],
      "id": "cell-153"
    },
    {
      "cell_type": "code",
      "execution_count": 125,
      "metadata": {},
      "outputs": [],
      "source": [
        "[i^2 for i=1:10000000 if mod(i,2)==0] ;"
      ],
      "id": "cell-154"
    },
    {
      "cell_type": "code",
      "execution_count": 133,
      "metadata": {},
      "outputs": [],
      "source": [
        "@time sum( [i^2 for i=1:10000000000 if mod(i,2)==0] )"
      ],
      "id": "cell-155"
    },
    {
      "cell_type": "code",
      "execution_count": 1,
      "metadata": {},
      "outputs": [
        {
          "output_type": "display_data",
          "metadata": {},
          "data": {
            "text/plain": [
              "fun (generic function with 1 method)"
            ]
          }
        }
      ],
      "source": [
        "function fun()\n",
        "    t = 0\n",
        "    for  i=1:10000000000\n",
        "        if mod(i,2)==0\n",
        "            t += i^2\n",
        "        end\n",
        "    end\n",
        "    return t\n",
        "end"
      ],
      "id": "cell-156"
    },
    {
      "cell_type": "code",
      "execution_count": 2,
      "metadata": {},
      "outputs": [
        {
          "output_type": "stream",
          "name": "stdout",
          "text": [
            "  2.552283 seconds"
          ]
        },
        {
          "output_type": "display_data",
          "metadata": {},
          "data": {
            "text/plain": [
              "-4494074839411110912"
            ]
          }
        }
      ],
      "source": [
        "@time fun()"
      ],
      "id": "cell-157"
    },
    {
      "cell_type": "code",
      "execution_count": 8,
      "metadata": {},
      "outputs": [
        {
          "output_type": "display_data",
          "metadata": {},
          "data": {
            "text/plain": [
              "Base.Generator{Base.Iterators.Filter{var\"#24#26\", UnitRange{Int64}}, var\"#23#25\"}(var\"#23#25\"(), Base.Iterators.Filter{var\"#24#26\", UnitRange{Int64}}(var\"#24#26\"(), 1:10000000000))"
            ]
          }
        }
      ],
      "source": [
        "gen = (i^2 for i=1:10000000000 if mod(i,2)==0)"
      ],
      "id": "cell-158"
    },
    {
      "cell_type": "code",
      "execution_count": 10,
      "metadata": {},
      "outputs": [
        {
          "output_type": "stream",
          "name": "stdout",
          "text": [
            " 16.349360 seconds (1 allocation: 16 bytes)"
          ]
        },
        {
          "output_type": "display_data",
          "metadata": {},
          "data": {
            "text/plain": [
              "-4494074839411110912"
            ]
          }
        }
      ],
      "source": [
        "@time sum(gen)"
      ],
      "id": "cell-159"
    },
    {
      "cell_type": "code",
      "execution_count": 11,
      "metadata": {},
      "outputs": [],
      "source": [
        "## Named Tuples"
      ],
      "id": "cell-160"
    },
    {
      "cell_type": "code",
      "execution_count": 13,
      "metadata": {},
      "outputs": [
        {
          "output_type": "display_data",
          "metadata": {},
          "data": {
            "text/plain": [
              "(a = 1, b = 2, c = 3)"
            ]
          }
        }
      ],
      "source": [
        "t = (;a=1,b=2,c=3)"
      ],
      "id": "cell-161"
    },
    {
      "cell_type": "code",
      "execution_count": 17,
      "metadata": {},
      "outputs": [
        {
          "output_type": "display_data",
          "metadata": {},
          "data": {
            "text/plain": [
              "1"
            ]
          }
        }
      ],
      "source": [
        "t[1] # indexed like tuple\n",
        "# t[1] = 2 # immutable\n",
        "t.a # access fields using names"
      ],
      "id": "cell-162"
    },
    {
      "cell_type": "code",
      "execution_count": 18,
      "metadata": {},
      "outputs": [
        {
          "output_type": "display_data",
          "metadata": {},
          "data": {
            "text/plain": [
              "(α = 0.3, β = 0.96)"
            ]
          }
        }
      ],
      "source": [
        "model = (;\n",
        "    α = 0.3,\n",
        "    β = 0.96\n",
        ")"
      ],
      "id": "cell-163"
    },
    {
      "cell_type": "code",
      "execution_count": 21,
      "metadata": {},
      "outputs": [
        {
          "output_type": "display_data",
          "metadata": {},
          "data": {
            "text/plain": [
              "(α = 0.3, β = 0.9, γ = 0.2)"
            ]
          }
        }
      ],
      "source": [
        "merge(model, (;β=0.9, γ=0.2))"
      ],
      "id": "cell-164"
    },
    {
      "cell_type": "code",
      "execution_count": 23,
      "metadata": {},
      "outputs": [
        {
          "output_type": "display_data",
          "metadata": {},
          "data": {
            "text/plain": [
              "0.96"
            ]
          }
        }
      ],
      "source": [
        "# unpack values from a tuple\n",
        "\n",
        "α = model[1]\n",
        "β = model[2]"
      ],
      "id": "cell-165"
    },
    {
      "cell_type": "code",
      "execution_count": 24,
      "metadata": {},
      "outputs": [
        {
          "output_type": "display_data",
          "metadata": {},
          "data": {
            "text/plain": [
              "0.96"
            ]
          }
        }
      ],
      "source": [
        "# unpack values from a namedtuple\n",
        "\n",
        "α = model.α\n",
        "β = model.β"
      ],
      "id": "cell-166"
    },
    {
      "cell_type": "code",
      "execution_count": 27,
      "metadata": {},
      "outputs": [
        {
          "output_type": "display_data",
          "metadata": {},
          "data": {
            "text/plain": [
              "0.3"
            ]
          }
        }
      ],
      "source": [
        "# namedtuple unpacking\n",
        "\n",
        "(;α, β) = model\n",
        "α"
      ],
      "id": "cell-167"
    },
    {
      "cell_type": "code",
      "execution_count": 26,
      "metadata": {},
      "outputs": [
        {
          "output_type": "display_data",
          "metadata": {},
          "data": {
            "text/plain": [
              "0.3"
            ]
          }
        }
      ],
      "source": [],
      "id": "cell-168"
    },
    {
      "cell_type": "markdown",
      "metadata": {},
      "source": [
        "### Data Types and multiple dispatch\n",
        "\n",
        "#### Composite types\n",
        "\n",
        "A **composite type** is a collection of named fields that can be treated\n",
        "as a single value. They bear a passing resemblance to MATLAB structs.\n",
        "\n",
        "All fields must be declared ahead of time. The double colon, `::`,\n",
        "constrains a field to contain values of a certain type. This is optional\n",
        "for any field."
      ],
      "id": "b3d72b81-1d31-4184-a4cc-cd86ede825bc"
    },
    {
      "cell_type": "code",
      "execution_count": 98,
      "metadata": {},
      "outputs": [],
      "source": [
        "# Type definition with 4 fields\n",
        "struct ParameterFree\n",
        "    value  \n",
        "    transformation  \n",
        "    tex_label\n",
        "    description \n",
        "end"
      ],
      "id": "cell-171"
    },
    {
      "cell_type": "code",
      "execution_count": 95,
      "metadata": {},
      "outputs": [
        {
          "output_type": "display_data",
          "metadata": {},
          "data": {
            "text/plain": [
              "ParameterFree(\"1\", var\"#9#10\"(), \"\\\\sqrt{1+x^2}\", (\"a\", 1))"
            ]
          }
        }
      ],
      "source": [
        "pf = ParameterFree(\"1\", x->x^2, \"\\\\sqrt{1+x^2}\", (\"a\",1))"
      ],
      "id": "cell-172"
    },
    {
      "cell_type": "code",
      "execution_count": 99,
      "metadata": {},
      "outputs": [
        {
          "output_type": "display_data",
          "metadata": {},
          "data": {
            "text/plain": [
              "\"1\""
            ]
          }
        }
      ],
      "source": [
        "pf.value"
      ],
      "id": "cell-173"
    },
    {
      "cell_type": "markdown",
      "metadata": {},
      "source": [
        "Two reasons to create structures: - syntactic shortcut (you access the\n",
        "fields with .) - specify the types of the fields"
      ],
      "id": "8b4debb4-d728-41f1-adf8-d9ce4b2ca6da"
    },
    {
      "cell_type": "code",
      "execution_count": 100,
      "metadata": {},
      "outputs": [],
      "source": [
        "# Type definition\n",
        "struct Parameter\n",
        "    value ::Float64\n",
        "    transformation ::Function # Function is a type!\n",
        "    tex_label::String\n",
        "    description::String\n",
        "end"
      ],
      "id": "cell-175"
    },
    {
      "cell_type": "code",
      "execution_count": 101,
      "metadata": {},
      "outputs": [],
      "source": [
        "p = Parameter(\"1\", x->x^2, \"\\\\sqrt{1+x^2}\", (\"a\",1))"
      ],
      "id": "cell-176"
    },
    {
      "cell_type": "code",
      "execution_count": 102,
      "metadata": {},
      "outputs": [
        {
          "output_type": "display_data",
          "metadata": {},
          "data": {
            "text/plain": [
              "Parameter(0.43, var\"#13#14\"(), \"\\\\sqrt{1+x^2}\", \"This is a description\")"
            ]
          }
        }
      ],
      "source": [
        "p = Parameter(0.43, x->x^2, \"\\\\sqrt{1+x^2}\", \"This is a description\")"
      ],
      "id": "cell-177"
    },
    {
      "cell_type": "code",
      "execution_count": 103,
      "metadata": {},
      "outputs": [
        {
          "output_type": "display_data",
          "metadata": {},
          "data": {
            "text/plain": [
              "0.43"
            ]
          }
        }
      ],
      "source": [
        "p.value"
      ],
      "id": "cell-178"
    },
    {
      "cell_type": "markdown",
      "metadata": {},
      "source": [
        "When a type with $n$ fields is defined, a constructor (function that\n",
        "creates an instance of that type) that takes $n$ ordered arguments is\n",
        "automatically created. Additional constructors can be defined for\n",
        "convenience."
      ],
      "id": "3488455e-4371-4fda-a9e6-031ab4ac8d77"
    },
    {
      "cell_type": "code",
      "execution_count": 104,
      "metadata": {},
      "outputs": [
        {
          "output_type": "display_data",
          "metadata": {},
          "data": {
            "text/plain": [
              "Parameter(0.9, identity, \"\\\\beta\", \"Discount rate\")"
            ]
          }
        }
      ],
      "source": [
        "# Creating an instance of the Parameter type using the default\n",
        "# constructor\n",
        "β = Parameter(0.9, identity, \"\\\\beta\", \"Discount rate\")"
      ],
      "id": "cell-180"
    },
    {
      "cell_type": "code",
      "execution_count": 106,
      "metadata": {},
      "outputs": [
        {
          "output_type": "display_data",
          "metadata": {},
          "data": {
            "text/plain": [
              "Parameter"
            ]
          }
        }
      ],
      "source": [
        "function Parameter(value)\n",
        "    return Parameter(value, x->x, \"x\", \"Anonymous\")\n",
        "end"
      ],
      "id": "cell-181"
    },
    {
      "cell_type": "code",
      "execution_count": 107,
      "metadata": {},
      "outputs": [
        {
          "output_type": "display_data",
          "metadata": {},
          "data": {
            "text/plain": [
              "Parameter(0.4, var\"#15#16\"(), \"x\", \"Anonymous\")"
            ]
          }
        }
      ],
      "source": [
        "Parameter(0.4)"
      ],
      "id": "cell-182"
    },
    {
      "cell_type": "code",
      "execution_count": 108,
      "metadata": {},
      "outputs": [
        {
          "output_type": "display_data",
          "metadata": {},
          "data": {
            "text/plain": [
              "Parameter"
            ]
          }
        }
      ],
      "source": [
        "Parameter(value, transformation, tex) = Parameter(value, transformation, tex, \"no description\")"
      ],
      "id": "cell-183"
    },
    {
      "cell_type": "code",
      "execution_count": 109,
      "metadata": {},
      "outputs": [
        {
          "output_type": "display_data",
          "metadata": {},
          "data": {
            "text/html": [
              "# 4 methods for type constructor:<ul><li> Parameter(value::<b>Float64</b>, transformation::<b>Function</b>, tex_label::<b>String</b>, description::<b>String</b>) in Main at In[100]:3</li> <li> Parameter(value) in Main at In[106]:1</li> <li> Parameter(value, transformation, tex) in Main at In[108]:1</li> <li> Parameter(value, transformation, tex_label, description) in Main at In[100]:3</li> </ul>"
            ]
          }
        }
      ],
      "source": [
        "methods( Parameter )"
      ],
      "id": "cell-184"
    },
    {
      "cell_type": "code",
      "execution_count": 110,
      "metadata": {},
      "outputs": [
        {
          "output_type": "display_data",
          "metadata": {},
          "data": {
            "text/plain": [
              "Parameter(0.5, identity, \"\\alpha\", \"No description available\")"
            ]
          }
        }
      ],
      "source": [
        "# Alternative constructors end with an appeal to the default\n",
        "# constructor\n",
        "function Parameter(value::Float64, tex_label::String)\n",
        "    transformation = identity\n",
        "    description = \"No description available\"\n",
        "    return Parameter(value, transformation, tex_label, description)\n",
        "end\n",
        "\n",
        "α = Parameter(0.5, \"\\alpha\")"
      ],
      "id": "cell-185"
    },
    {
      "cell_type": "markdown",
      "metadata": {},
      "source": [
        "Now the function `Parameter` has two different `methods` with different\n",
        "signatures:"
      ],
      "id": "4beb4894-fa48-47c8-b1bc-014003d99221"
    },
    {
      "cell_type": "code",
      "execution_count": 9,
      "metadata": {},
      "outputs": [
        {
          "output_type": "display_data",
          "metadata": {},
          "data": {
            "text/html": [
              "# 4 methods for type constructor:<ul><li> Parameter(value::<b>Float64</b>, transformation::<b>Function</b>, tex_label::<b>String</b>, description::<b>String</b>) in Main at In[1]:3</li> <li> Parameter(value::<b>Float64</b>, tex_label::<b>String</b>) in Main at In[8]:4</li> <li> Parameter(value, transformation, tex) in Main at In[5]:1</li> <li> Parameter(value, transformation, tex_label, description) in Main at In[1]:3</li> </ul>"
            ]
          }
        }
      ],
      "source": [
        "methods(Parameter)"
      ],
      "id": "cell-187"
    },
    {
      "cell_type": "markdown",
      "metadata": {},
      "source": [
        "We have seen that a function can have several implementations, called\n",
        "methods, for different number of arguments, or for different types of\n",
        "arguments."
      ],
      "id": "fbde6349-8cb7-4db7-a773-bfc2e7346c47"
    },
    {
      "cell_type": "code",
      "execution_count": 111,
      "metadata": {},
      "outputs": [
        {
          "output_type": "display_data",
          "metadata": {},
          "data": {
            "text/plain": [
              "fun (generic function with 1 method)"
            ]
          }
        }
      ],
      "source": [
        "fun(x::Int64, y::Int64) = x^3 + y"
      ],
      "id": "cell-189"
    },
    {
      "cell_type": "code",
      "execution_count": 114,
      "metadata": {},
      "outputs": [
        {
          "output_type": "display_data",
          "metadata": {},
          "data": {
            "text/plain": [
              "fun (generic function with 2 methods)"
            ]
          }
        }
      ],
      "source": [
        "fun(x::Float64, y::Int64) = x/2 + y"
      ],
      "id": "cell-190"
    },
    {
      "cell_type": "code",
      "execution_count": 115,
      "metadata": {},
      "outputs": [
        {
          "output_type": "display_data",
          "metadata": {},
          "data": {
            "text/plain": [
              "10"
            ]
          }
        }
      ],
      "source": [
        "fun(2, 2)"
      ],
      "id": "cell-191"
    },
    {
      "cell_type": "code",
      "execution_count": 117,
      "metadata": {},
      "outputs": [
        {
          "output_type": "display_data",
          "metadata": {},
          "data": {
            "text/plain": [
              "3.0"
            ]
          }
        }
      ],
      "source": [
        "fun(2.0, 2)"
      ],
      "id": "cell-192"
    },
    {
      "cell_type": "code",
      "execution_count": null,
      "metadata": {},
      "outputs": [],
      "source": [
        "α.tex_label"
      ],
      "id": "cell-193"
    },
    {
      "cell_type": "code",
      "execution_count": 118,
      "metadata": {},
      "outputs": [
        {
          "output_type": "display_data",
          "metadata": {},
          "data": {
            "text/plain": [
              "0.5"
            ]
          }
        }
      ],
      "source": [
        "# Access a particular field using .\n",
        "α.value"
      ],
      "id": "cell-194"
    },
    {
      "cell_type": "code",
      "execution_count": null,
      "metadata": {},
      "outputs": [],
      "source": [
        "# Fields are modifiable and can be assigned to, like \n",
        "# ordinary variables\n",
        "α.value = 0.75"
      ],
      "id": "cell-195"
    },
    {
      "cell_type": "markdown",
      "metadata": {},
      "source": [
        "### Mutable vs non mutable types\n",
        "\n",
        "by default structures in Julia are non-mutable"
      ],
      "id": "cab82c6b-e182-4363-b6fc-ac153b90a68d"
    },
    {
      "cell_type": "code",
      "execution_count": 123,
      "metadata": {},
      "outputs": [],
      "source": [
        "p.value = 3.0"
      ],
      "id": "cell-198"
    },
    {
      "cell_type": "code",
      "execution_count": 124,
      "metadata": {},
      "outputs": [],
      "source": [
        "mutable struct Params\n",
        "    x:: Float64\n",
        "    y:: Float64\n",
        "end"
      ],
      "id": "cell-199"
    },
    {
      "cell_type": "code",
      "execution_count": 125,
      "metadata": {},
      "outputs": [
        {
          "output_type": "display_data",
          "metadata": {},
          "data": {
            "text/plain": [
              "Params(0.4, 0.2)"
            ]
          }
        }
      ],
      "source": [
        "pos = Params(0.4, 0.2)"
      ],
      "id": "cell-200"
    },
    {
      "cell_type": "code",
      "execution_count": 126,
      "metadata": {},
      "outputs": [
        {
          "output_type": "display_data",
          "metadata": {},
          "data": {
            "text/plain": [
              "0.5"
            ]
          }
        }
      ],
      "source": [
        "pos.x = 0.5"
      ],
      "id": "cell-201"
    },
    {
      "cell_type": "markdown",
      "metadata": {},
      "source": [
        "### Parameterized Types\n",
        "\n",
        "**Parameterized types** are data types that are defined to handle values\n",
        "identically regardless of the type of those values.\n",
        "\n",
        "Arrays are a familiar example. An `Array{T,1}` is a one-dimensional\n",
        "array filled with objects of any type `T` (e.g. `Float64`, `String`)."
      ],
      "id": "6b42eac4-b551-4994-8013-7873293b3c40"
    },
    {
      "cell_type": "code",
      "execution_count": 127,
      "metadata": {},
      "outputs": [],
      "source": [
        "# Defining a parametric point\n",
        "struct Duple{T} # T is a parameter to the type Duple\n",
        "    x::T\n",
        "    y::T\n",
        "end"
      ],
      "id": "cell-203"
    },
    {
      "cell_type": "code",
      "execution_count": 130,
      "metadata": {},
      "outputs": [
        {
          "output_type": "display_data",
          "metadata": {},
          "data": {
            "text/plain": [
              "Duple{Int64}(3, 3)"
            ]
          }
        }
      ],
      "source": [
        "Duple(3, 3)"
      ],
      "id": "cell-204"
    },
    {
      "cell_type": "code",
      "execution_count": 128,
      "metadata": {},
      "outputs": [],
      "source": [
        "Duple(3, -1.0)"
      ],
      "id": "cell-205"
    },
    {
      "cell_type": "code",
      "execution_count": 29,
      "metadata": {},
      "outputs": [],
      "source": [
        "struct Truple{T}\n",
        "    x::Duple{T}\n",
        "    z::T\n",
        "end"
      ],
      "id": "cell-206"
    },
    {
      "cell_type": "markdown",
      "metadata": {},
      "source": [
        "This single declaration defines an unlimited number of new types:\n",
        "`Duple{String}`, `Duple{Float64}`, etc. are all immediately usable."
      ],
      "id": "46b5c515-2cc9-47d9-a150-67569f7e6a4d"
    },
    {
      "cell_type": "code",
      "execution_count": 30,
      "metadata": {},
      "outputs": [
        {
          "output_type": "display_data",
          "metadata": {},
          "data": {
            "text/plain": [
              "8"
            ]
          }
        }
      ],
      "source": [
        "sizeof(3.0)"
      ],
      "id": "cell-208"
    },
    {
      "cell_type": "code",
      "execution_count": 31,
      "metadata": {},
      "outputs": [
        {
          "output_type": "display_data",
          "metadata": {},
          "data": {
            "text/plain": [
              "16"
            ]
          }
        }
      ],
      "source": [
        "sizeof( Duple(3.0, -15.0) )"
      ],
      "id": "cell-209"
    },
    {
      "cell_type": "code",
      "execution_count": null,
      "metadata": {},
      "outputs": [],
      "source": [
        "# What happens here?\n",
        "Duple(1.5, 3)"
      ],
      "id": "cell-210"
    },
    {
      "cell_type": "code",
      "execution_count": 35,
      "metadata": {},
      "outputs": [],
      "source": [
        "struct Truple3{T,S}\n",
        "    x::Tuple{T,S}\n",
        "    z::S\n",
        "end"
      ],
      "id": "cell-211"
    },
    {
      "cell_type": "markdown",
      "metadata": {},
      "source": [
        "We can also restrict the type parameter `T`:"
      ],
      "id": "f0e9ffda-68c2-4152-abf1-e31462c60ede"
    },
    {
      "cell_type": "code",
      "execution_count": 37,
      "metadata": {},
      "outputs": [
        {
          "output_type": "display_data",
          "metadata": {},
          "data": {
            "text/plain": [
              "false"
            ]
          }
        }
      ],
      "source": [
        "typeof(\"S\") <: Number"
      ],
      "id": "cell-213"
    },
    {
      "cell_type": "code",
      "execution_count": 38,
      "metadata": {},
      "outputs": [
        {
          "output_type": "display_data",
          "metadata": {},
          "data": {
            "text/plain": [
              "true"
            ]
          }
        }
      ],
      "source": [
        "typeof(4) <: Number"
      ],
      "id": "cell-214"
    },
    {
      "cell_type": "code",
      "execution_count": 40,
      "metadata": {},
      "outputs": [],
      "source": [
        "# T can be any subtype of Number, but nothing else\n",
        "struct PlanarCoordinate{T<:Number}\n",
        "    x::T\n",
        "    y::T\n",
        "end"
      ],
      "id": "cell-215"
    },
    {
      "cell_type": "code",
      "execution_count": 41,
      "metadata": {},
      "outputs": [],
      "source": [
        "PlanarCoordinate(\"4th Ave\", \"14th St\")"
      ],
      "id": "cell-216"
    },
    {
      "cell_type": "code",
      "execution_count": 42,
      "metadata": {},
      "outputs": [
        {
          "output_type": "display_data",
          "metadata": {},
          "data": {
            "text/plain": [
              "PlanarCoordinate{Rational{Int64}}(2//3, 8//9)"
            ]
          }
        }
      ],
      "source": [
        "PlanarCoordinate(2//3, 8//9)"
      ],
      "id": "cell-217"
    },
    {
      "cell_type": "markdown",
      "metadata": {},
      "source": [
        "Arrays are an exemple of mutable, parameterized types\n",
        "\n",
        "### Why Use Types?\n",
        "\n",
        "You can write all your code without thinking about types at all. If you\n",
        "do this, however, you’ll be missing out on some of the biggest benefits\n",
        "of using Julia.\n",
        "\n",
        "If you understand types, you can:\n",
        "\n",
        "-   Write faster code\n",
        "-   Write expressive, clear, and well-structured programs (keep this in\n",
        "    mind when we talk about functions)\n",
        "-   Reason more clearly about how your code works\n",
        "\n",
        "Even if you only use built-in functions and types, your code still takes\n",
        "advantage of Julia’s type system. That’s why it’s important to\n",
        "understand what types are and how to use them."
      ],
      "id": "a96aa3c9-d6cf-40ab-bced-4876cd0e2945"
    },
    {
      "cell_type": "code",
      "execution_count": 49,
      "metadata": {},
      "outputs": [
        {
          "output_type": "display_data",
          "metadata": {},
          "data": {
            "text/plain": [
              "-25554.110202663698"
            ]
          }
        }
      ],
      "source": [
        "# Example: writing type-stable functions\n",
        "function sumofsins_unstable(n::Integer)  \n",
        "    sum = 0:: Integer\n",
        "    for i in 1:n  \n",
        "        sum += sin(3.4)  \n",
        "    end  \n",
        "    return sum \n",
        "end  \n",
        "\n",
        "function sumofsins_stable(n::Integer)  \n",
        "    sum = 0.0 :: Float64\n",
        "    for i in 1:n  \n",
        "        sum += sin(3.4)  \n",
        "    end  \n",
        "    return sum \n",
        "end\n",
        "\n",
        "# Compile and run\n",
        "sumofsins_unstable(Int(1e5))\n",
        "sumofsins_stable(Int(1e5))"
      ],
      "id": "cell-221"
    },
    {
      "cell_type": "code",
      "execution_count": 50,
      "metadata": {},
      "outputs": [
        {
          "output_type": "stream",
          "name": "stdout",
          "text": [
            "  0.000176 seconds"
          ]
        },
        {
          "output_type": "display_data",
          "metadata": {},
          "data": {
            "text/plain": [
              "-25554.110202663698"
            ]
          }
        }
      ],
      "source": [
        "@time sumofsins_unstable(Int(1e5))"
      ],
      "id": "cell-222"
    },
    {
      "cell_type": "code",
      "execution_count": 47,
      "metadata": {},
      "outputs": [
        {
          "output_type": "stream",
          "name": "stdout",
          "text": [
            "  0.000168 seconds"
          ]
        },
        {
          "output_type": "display_data",
          "metadata": {},
          "data": {
            "text/plain": [
              "-25554.110202663698"
            ]
          }
        }
      ],
      "source": [
        "@time sumofsins_stable(Int(1e5))"
      ],
      "id": "cell-223"
    },
    {
      "cell_type": "markdown",
      "metadata": {},
      "source": [
        "In `sumofsins_stable`, the compiler is guaranteed that `sum` is of type\n",
        "`Float64` throughout; therefore, it saves time and memory. On the other\n",
        "hand, in `sumofsins_unstable`, the compiler must check the type of `sum`\n",
        "at each iteration of the loop. Let’s look at the LLVM [intermediate\n",
        "representation](http://www.johnmyleswhite.com/notebook/2013/12/06/writing-type-stable-code-in-julia/).\n",
        "\n",
        "### Multiple Dispatch\n",
        "\n",
        "So far we have defined functions over argument lists of any type.\n",
        "Methods allow us to define functions “piecewise”. For any set of input\n",
        "arguments, we can define a **method**, a definition of one possible\n",
        "behavior for a function."
      ],
      "id": "739543f5-b401-4148-867b-373cb8b23ff8"
    },
    {
      "cell_type": "code",
      "execution_count": 51,
      "metadata": {},
      "outputs": [
        {
          "output_type": "display_data",
          "metadata": {},
          "data": {
            "text/plain": [
              "print_type (generic function with 1 method)"
            ]
          }
        }
      ],
      "source": [
        "# Define one method of the function print_type\n",
        "function print_type(x::Number)\n",
        "    println(\"$x is a number\")\n",
        "end"
      ],
      "id": "cell-227"
    },
    {
      "cell_type": "code",
      "execution_count": 53,
      "metadata": {},
      "outputs": [
        {
          "output_type": "display_data",
          "metadata": {},
          "data": {
            "text/plain": [
              "print_type (generic function with 2 methods)"
            ]
          }
        }
      ],
      "source": [
        "# Define another method\n",
        "function print_type(x::String)\n",
        "    println(\"$x is a string\")\n",
        "end"
      ],
      "id": "cell-228"
    },
    {
      "cell_type": "code",
      "execution_count": 54,
      "metadata": {},
      "outputs": [
        {
          "output_type": "display_data",
          "metadata": {},
          "data": {
            "text/plain": [
              "print_type (generic function with 3 methods)"
            ]
          }
        }
      ],
      "source": [
        "# Define yet another method\n",
        "function print_type(x::Number, y::Number)\n",
        "    println(\"$x and $y are both numbers\")\n",
        "end"
      ],
      "id": "cell-229"
    },
    {
      "cell_type": "code",
      "execution_count": 55,
      "metadata": {},
      "outputs": [
        {
          "output_type": "display_data",
          "metadata": {},
          "data": {
            "text/html": [
              "# 3 methods for generic function <b>print_type</b>:<ul><li> print_type(x::<b>String</b>) in Main at In[53]:3</li> <li> print_type(x::<b>Number</b>) in Main at In[51]:3</li> <li> print_type(x::<b>Number</b>, y::<b>Number</b>) in Main at In[54]:3</li> </ul>"
            ]
          }
        }
      ],
      "source": [
        "# See all methods for a given function\n",
        "methods(print_type)"
      ],
      "id": "cell-230"
    },
    {
      "cell_type": "markdown",
      "metadata": {},
      "source": [
        "Julia uses **multiple dispatch** to decide which **method** of a\n",
        "**function** to execute when a function is applied. In particular, Julia\n",
        "compares the types of *all* arguments to the signatures of the\n",
        "function’s methods in order to choose the applicable one, not just the\n",
        "first (hence “multiple”)."
      ],
      "id": "6624c019-934e-4646-9c1a-8e2544cf98e9"
    },
    {
      "cell_type": "code",
      "execution_count": 56,
      "metadata": {},
      "outputs": [
        {
          "output_type": "stream",
          "name": "stdout",
          "text": [
            "5 is a number"
          ]
        }
      ],
      "source": [
        "print_type(5)"
      ],
      "id": "cell-232"
    },
    {
      "cell_type": "code",
      "execution_count": 57,
      "metadata": {},
      "outputs": [
        {
          "output_type": "stream",
          "name": "stdout",
          "text": [
            "foo is a string"
          ]
        }
      ],
      "source": [
        "print_type(\"foo\")"
      ],
      "id": "cell-233"
    },
    {
      "cell_type": "code",
      "execution_count": 58,
      "metadata": {},
      "outputs": [],
      "source": [
        "print_type([1, 2, 3])"
      ],
      "id": "cell-234"
    },
    {
      "cell_type": "markdown",
      "metadata": {},
      "source": [
        "#### Other types of functions\n",
        "\n",
        "Julia supports a short function definition for one-liners"
      ],
      "id": "989f9e2e-60e5-4c8b-8aa8-2db01874db88"
    },
    {
      "cell_type": "code",
      "execution_count": null,
      "metadata": {},
      "outputs": [],
      "source": [
        "f(x::Float64) = x^2.0\n",
        "f(x::Int64) = x^3"
      ],
      "id": "cell-236"
    },
    {
      "cell_type": "markdown",
      "metadata": {},
      "source": [
        "As well as a special syntax for anonymous functions"
      ],
      "id": "18f57dfb-3858-4fc6-9530-2c65edafdd28"
    },
    {
      "cell_type": "code",
      "execution_count": null,
      "metadata": {},
      "outputs": [],
      "source": [
        "u->u^2"
      ],
      "id": "cell-238"
    },
    {
      "cell_type": "code",
      "execution_count": null,
      "metadata": {},
      "outputs": [],
      "source": [
        "map(u->u^2, [1,2,3,4])"
      ],
      "id": "cell-239"
    },
    {
      "cell_type": "markdown",
      "metadata": {},
      "source": [
        "### Keyword arguments and optional arguments"
      ],
      "id": "52cbc300-8ad7-4180-be48-1e3fd0e18427"
    },
    {
      "cell_type": "code",
      "execution_count": 59,
      "metadata": {},
      "outputs": [],
      "source": [
        "f(a,b,c=true; algo=\"newton\")"
      ],
      "id": "cell-241"
    },
    {
      "cell_type": "markdown",
      "metadata": {},
      "source": [
        "### Packing/unpacking"
      ],
      "id": "f564c029-9091-437c-9f6e-06ba89ba820f"
    },
    {
      "cell_type": "code",
      "execution_count": 60,
      "metadata": {},
      "outputs": [
        {
          "output_type": "display_data",
          "metadata": {},
          "data": {
            "text/plain": [
              "(1, 2, 4)"
            ]
          }
        }
      ],
      "source": [
        "t = (1,2,4)"
      ],
      "id": "cell-243"
    },
    {
      "cell_type": "code",
      "execution_count": 61,
      "metadata": {},
      "outputs": [
        {
          "output_type": "display_data",
          "metadata": {},
          "data": {
            "text/plain": [
              "(1, 2, 4)"
            ]
          }
        }
      ],
      "source": [
        "a,b,c = t"
      ],
      "id": "cell-244"
    },
    {
      "cell_type": "code",
      "execution_count": 65,
      "metadata": {},
      "outputs": [
        {
          "output_type": "display_data",
          "metadata": {},
          "data": {
            "text/plain": [
              "10-element Array{Int64,1}:\n",
              "  1\n",
              "  2\n",
              "  3\n",
              "  4\n",
              "  5\n",
              "  6\n",
              "  7\n",
              "  8\n",
              "  9\n",
              " 10"
            ]
          }
        }
      ],
      "source": [
        "[(1:10)...]"
      ],
      "id": "cell-245"
    },
    {
      "cell_type": "code",
      "execution_count": 66,
      "metadata": {},
      "outputs": [
        {
          "output_type": "display_data",
          "metadata": {},
          "data": {
            "text/plain": [
              "4-element Array{Int64,1}:\n",
              " 4\n",
              " 3\n",
              " 0\n",
              " 1"
            ]
          }
        }
      ],
      "source": [
        "cat([4,3], [0,1]; dims=1)"
      ],
      "id": "cell-246"
    },
    {
      "cell_type": "code",
      "execution_count": 67,
      "metadata": {},
      "outputs": [
        {
          "output_type": "display_data",
          "metadata": {},
          "data": {
            "text/plain": [
              "8-element Array{Int64,1}:\n",
              " 4\n",
              " 3\n",
              " 0\n",
              " 1\n",
              " 0\n",
              " 0\n",
              " 1\n",
              " 1"
            ]
          }
        }
      ],
      "source": [
        "l = [[4,3], [0,1], [0, 0], [1, 1]]\n",
        "# how do I concatenate it ?\n",
        "\n",
        "cat(l...; dims=1) ### see python's f(*s)"
      ],
      "id": "cell-247"
    },
    {
      "cell_type": "markdown",
      "metadata": {},
      "source": [
        "### Writing Julian Code\n",
        "\n",
        "As we’ve seen, you can use Julia just like you use MATLAB and get faster\n",
        "code. However, to write faster and *better* code, attempt to write in a\n",
        "“Julian” manner:\n",
        "\n",
        "-   Define composite types as logically needed\n",
        "-   Write type-stable functions for best performance\n",
        "-   Take advantage of multiple dispatch to write code that looks like\n",
        "    math\n",
        "-   Add methods to existing functions\n",
        "\n",
        "### Just-in-Time Compilation\n",
        "\n",
        "How is Julia so fast? Julia is just-in-time (JIT) compiled, which means\n",
        "(according to [this StackExchange\n",
        "answer](http://stackoverflow.com/questions/95635/what-does-a-just-in-time-jit-compiler-do)):\n",
        "\n",
        "> A JIT compiler runs after the program has started and compiles the\n",
        "> code (usually bytecode or some kind of VM instructions) on the fly (or\n",
        "> just-in-time, as it’s called) into a form that’s usually faster,\n",
        "> typically the host CPU’s native instruction set. *A JIT has access to\n",
        "> dynamic runtime information whereas a standard compiler doesn’t and\n",
        "> can make better optimizations like inlining functions that are used\n",
        "> frequently.*\n",
        "\n",
        "> This is in contrast to a traditional compiler that compiles all the\n",
        "> code to machine language before the program is first run.\n",
        "\n",
        "In particular, Julia uses type information at runtime to optimize how\n",
        "your code is compiled. This is why writing type-stable code makes such a\n",
        "difference in speed!\n",
        "\n",
        "## Additional Exercises\n",
        "\n",
        "Taken from QuantEcon’s [Julia\n",
        "Essentials](https://lectures.quantecon.org/jl/julia_essentials.html) and\n",
        "[Vectors, Arrays, and\n",
        "Matrices](https://lectures.quantecon.org/jl/julia_arrays.html) lectures.\n",
        "\n",
        "1.  Consider the polynomial $$p(x) = \\sum_{i=0}^n a_0 x^0$$ Using\n",
        "    `enumerate`, write a function `p` such that `p(x, coeff)` computes\n",
        "    the value of the polynomial with coefficients `coeff` evaluated at\n",
        "    `x`."
      ],
      "id": "fe6076b5-4fdd-4d3b-87cc-b459b395a7a0"
    },
    {
      "cell_type": "code",
      "execution_count": 75,
      "metadata": {},
      "outputs": [
        {
          "output_type": "display_data",
          "metadata": {},
          "data": {
            "text/plain": [
              "ppp (generic function with 1 method)"
            ]
          }
        }
      ],
      "source": [],
      "id": "cell-252"
    },
    {
      "cell_type": "markdown",
      "metadata": {},
      "source": [
        "1.  Write a function `solve_discrete_lyapunov` that solves the discrete\n",
        "    Lyapunov equation $$S = ASA' + \\Sigma \\Sigma'$$ using the iterative\n",
        "    procedure $$S_0 = \\Sigma \\Sigma'$$\n",
        "    $$S_{t+1} = A S_t A' + \\Sigma \\Sigma'$$ taking in as arguments the\n",
        "    $n \\times n$ matrix $A$, the $n \\times k$ matrix $\\Sigma$, and a\n",
        "    number of iterations."
      ],
      "id": "49d10fca-9263-42a0-aa95-0e1b8589f436"
    }
  ],
  "nbformat": 4,
  "nbformat_minor": 5,
  "metadata": {
    "kernelspec": {
      "name": "julia-1.9",
      "display_name": "Julia 1.9.3",
      "language": "julia"
    },
    "language_info": {
      "name": "julia",
      "file_extension": ".jl",
      "mimetype": "application/julia",
      "version": "1.9.3"
    }
  }
}