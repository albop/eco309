{
  "cells": [
    {
      "cell_type": "markdown",
      "metadata": {},
      "source": [
        "# Julia Basics\n",
        "\n",
        "Pablo Winant\n",
        "\n",
        "### What is Julia\n",
        "\n",
        "-   developped at MIT on top of **opensource** technologies\n",
        "    -   linux / git / llvm\n",
        "-   syntax inspired by Matlab but:\n",
        "    -   more consistent\n",
        "    -   lots of features from high level languages\n",
        "-   everything is JIT-compiled\n",
        "    -   interpreted vs compiled treadeoff\n",
        "    -   -\\> very fast\n",
        "    -   most of the base library is written in Julia\n",
        "-   opensource/free + vibrant community\n",
        "\n",
        "Some useful links from QuantEcon:\n",
        "\n",
        "-   [Julia\n",
        "    cheatsheet](https://cheatsheets.quantecon.org/julia-cheatsheet.html)\n",
        "-   [Julia-Matlab\n",
        "    comparison](https://cheatsheets.quantecon.org/index.html)\n",
        "-   [Julia\n",
        "    essentials](https://lectures.quantecon.org/jl/julia_essentials.html)\n",
        "-   [Vectors, arrays and\n",
        "    matrices](https://lectures.quantecon.org/jl/julia_arrays.html)\n",
        "\n",
        "Excellent resources at: [julialang](https://julialang.org/learning/) -\n",
        "checkout JuliaAcademy, it’s free - ongoing\n",
        "[MOOC](https://computationalthinking.mit.edu/Spring21/) at MIT\n",
        "\n",
        "### an example of what you shouldn’t do in Matlab\n",
        "\n",
        "How I learnt: interpreted code is slow, so vectorize your coe."
      ],
      "id": "239bc652-8133-4954-916d-6b6655797915"
    },
    {
      "cell_type": "code",
      "execution_count": 1,
      "metadata": {},
      "outputs": [
        {
          "output_type": "stream",
          "name": "stdout",
          "text": [
            "  0.054532 seconds (37.67 k allocations: 2.477 MiB, 36.74% compilation time)"
          ]
        },
        {
          "output_type": "display_data",
          "metadata": {},
          "data": {
            "text/plain": [
              "10-element Vector{Float64}:\n",
              " 1.0e6\n",
              " 2.0e6\n",
              " 3.0e6\n",
              " 4.0e6\n",
              " 5.0e6\n",
              " 6.0e6\n",
              " 7.0e6\n",
              " 8.0e6\n",
              " 9.0e6\n",
              " 1.0e7"
            ]
          }
        }
      ],
      "source": [
        "function stupid_loop(I,J,K)\n",
        "    t = 0.0\n",
        "    for i=1:I\n",
        "        for j=1:J\n",
        "            for k = 1:K\n",
        "                t += 1.0\n",
        "            end        \n",
        "        end\n",
        "    end\n",
        "    return t\n",
        "end\n",
        "@time [ stupid_loop(1000,1000,i) for i =1:10]"
      ],
      "id": "cell-4"
    },
    {
      "cell_type": "code",
      "execution_count": 2,
      "metadata": {},
      "outputs": [
        {
          "output_type": "display_data",
          "metadata": {},
          "data": {
            "text/plain": [
              "1.0e9"
            ]
          }
        }
      ],
      "source": [
        "stupid_loop(1000,1000,1000)"
      ],
      "id": "cell-5"
    },
    {
      "cell_type": "markdown",
      "metadata": {},
      "source": [
        "Code is translated to LLVM code then to instructions for the processor.\n",
        "Note that processor instructions are shorter than LLVM code."
      ],
      "id": "727208f2-0c1e-49f7-94e4-73b4d52cd432"
    },
    {
      "cell_type": "code",
      "execution_count": 3,
      "metadata": {},
      "outputs": [
        {
          "output_type": "stream",
          "name": "stdout",
          "text": [
            ";  @ /home/pablo/Teaching/ensae/mie37/tutorials/1_Julia_Basics.ipynb:1 within `stupid_loop`\n",
            "define double @julia_stupid_loop_1248(i64 signext %0, i64 signext %1, i64 signext %2) #0 {\n",
            "top:\n",
            ";  @ /home/pablo/Teaching/ensae/mie37/tutorials/1_Julia_Basics.ipynb:3 within `stupid_loop`\n",
            "; ┌ @ range.jl:5 within `Colon`\n",
            "; │┌ @ range.jl:397 within `UnitRange`\n",
            "; ││┌ @ range.jl:404 within `unitrange_last`\n",
            "     %.inv = icmp sgt i64 %0, 0\n",
            "     %. = select i1 %.inv, i64 %0, i64 0\n",
            "; └└└\n",
            "  br i1 %.inv, label %L16.preheader, label %L85\n",
            "\n",
            "L16.preheader:                                    ; preds = %top\n",
            "  %.inv26 = icmp sgt i64 %1, 0\n",
            "  %.24 = select i1 %.inv26, i64 %1, i64 0\n",
            "  %.inv27 = icmp sgt i64 %2, 0\n",
            "  %.25 = select i1 %.inv27, i64 %2, i64 0\n",
            ";  @ /home/pablo/Teaching/ensae/mie37/tutorials/1_Julia_Basics.ipynb:4 within `stupid_loop`\n",
            "  %3 = select i1 %.inv26, i1 %.inv27, i1 false\n",
            "  br i1 %3, label %L33.preheader.split.us.us.us, label %L85\n",
            "\n",
            "L74.us.us:                                        ; preds = %L63.us.us.us\n",
            ";  @ /home/pablo/Teaching/ensae/mie37/tutorials/1_Julia_Basics.ipynb:9 within `stupid_loop`\n",
            "; ┌ @ range.jl:891 within `iterate`\n",
            "; │┌ @ promotion.jl:499 within `==`\n",
            "    %.not29.us.us = icmp eq i64 %value_phi3.us.us, %.\n",
            "; │└\n",
            "   %4 = add nuw i64 %value_phi3.us.us, 1\n",
            "; └\n",
            "  br i1 %.not29.us.us, label %L85, label %L33.preheader.split.us.us.us\n",
            "\n",
            "L33.preheader.split.us.us.us:                     ; preds = %L74.us.us, %L16.preheader\n",
            "  %value_phi3.us.us = phi i64 [ %4, %L74.us.us ], [ 1, %L16.preheader ]\n",
            "  %value_phi4.us.us = phi double [ %6, %L74.us.us ], [ 0.000000e+00, %L16.preheader ]\n",
            ";  @ /home/pablo/Teaching/ensae/mie37/tutorials/1_Julia_Basics.ipynb:5 within `stupid_loop`\n",
            "  br label %L50.preheader.us.us.us\n",
            "\n",
            "L50.preheader.us.us.us:                           ; preds = %L63.us.us.us, %L33.preheader.split.us.us.us\n",
            "  %value_phi8.us.us.us = phi double [ %6, %L63.us.us.us ], [ %value_phi4.us.us, %L33.preheader.split.us.us.us ]\n",
            "  %value_phi9.us.us.us = phi i64 [ %5, %L63.us.us.us ], [ 1, %L33.preheader.split.us.us.us ]\n",
            ";  @ /home/pablo/Teaching/ensae/mie37/tutorials/1_Julia_Basics.ipynb:7 within `stupid_loop`\n",
            "  br label %L50.us.us.us\n",
            "\n",
            "L63.us.us.us:                                     ; preds = %L50.us.us.us\n",
            ";  @ /home/pablo/Teaching/ensae/mie37/tutorials/1_Julia_Basics.ipynb:8 within `stupid_loop`\n",
            "; ┌ @ range.jl:891 within `iterate`\n",
            "; │┌ @ promotion.jl:499 within `==`\n",
            "    %.not28.us.us.us = icmp eq i64 %value_phi9.us.us.us, %.24\n",
            "; │└\n",
            "   %5 = add nuw i64 %value_phi9.us.us.us, 1\n",
            "; └\n",
            "  br i1 %.not28.us.us.us, label %L74.us.us, label %L50.preheader.us.us.us\n",
            "\n",
            "L50.us.us.us:                                     ; preds = %L50.us.us.us, %L50.preheader.us.us.us\n",
            "  %value_phi13.us.us.us = phi double [ %6, %L50.us.us.us ], [ %value_phi8.us.us.us, %L50.preheader.us.us.us ]\n",
            "  %value_phi14.us.us.us = phi i64 [ %7, %L50.us.us.us ], [ 1, %L50.preheader.us.us.us ]\n",
            ";  @ /home/pablo/Teaching/ensae/mie37/tutorials/1_Julia_Basics.ipynb:6 within `stupid_loop`\n",
            "; ┌ @ float.jl:408 within `+`\n",
            "   %6 = fadd double %value_phi13.us.us.us, 1.000000e+00\n",
            "; └\n",
            ";  @ /home/pablo/Teaching/ensae/mie37/tutorials/1_Julia_Basics.ipynb:7 within `stupid_loop`\n",
            "; ┌ @ range.jl:891 within `iterate`\n",
            "; │┌ @ promotion.jl:499 within `==`\n",
            "    %.not.us.us.us = icmp eq i64 %value_phi14.us.us.us, %.25\n",
            "; │└\n",
            "   %7 = add nuw i64 %value_phi14.us.us.us, 1\n",
            "; └\n",
            "  br i1 %.not.us.us.us, label %L63.us.us.us, label %L50.us.us.us\n",
            "\n",
            "L85:                                              ; preds = %L74.us.us, %L16.preheader, %top\n",
            "  %value_phi23 = phi double [ 0.000000e+00, %top ], [ %6, %L74.us.us ], [ 0.000000e+00, %L16.preheader ]\n",
            ";  @ /home/pablo/Teaching/ensae/mie37/tutorials/1_Julia_Basics.ipynb:10 within `stupid_loop`\n",
            "  ret double %value_phi23\n",
            "}"
          ]
        }
      ],
      "source": [
        "@code_llvm stupid_loop(10,10,10)"
      ],
      "id": "cell-7"
    },
    {
      "cell_type": "code",
      "execution_count": 4,
      "metadata": {},
      "outputs": [
        {
          "output_type": "stream",
          "name": "stdout",
          "text": [
            "    .text\n",
            "    .file   \"stupid_loop\"\n",
            "    .section    .rodata.cst8,\"aM\",@progbits,8\n",
            "    .p2align    3                               # -- Begin function julia_stupid_loop_1283\n",
            ".LCPI0_0:\n",
            "    .quad   0x3ff0000000000000              # double 1\n",
            "    .text\n",
            "    .globl  julia_stupid_loop_1283\n",
            "    .p2align    4, 0x90\n",
            "    .type   julia_stupid_loop_1283,@function\n",
            "julia_stupid_loop_1283:                 # @julia_stupid_loop_1283\n",
            "; ┌ @ /home/pablo/Teaching/ensae/mie37/tutorials/1_Julia_Basics.ipynb:1 within `stupid_loop`\n",
            "    .cfi_startproc\n",
            "# %bb.0:                                # %top\n",
            "; │ @ /home/pablo/Teaching/ensae/mie37/tutorials/1_Julia_Basics.ipynb:3 within `stupid_loop`\n",
            "; │┌ @ range.jl:5 within `Colon`\n",
            "; ││┌ @ range.jl:397 within `UnitRange`\n",
            "; │││┌ @ range.jl:404 within `unitrange_last`\n",
            "    testq   %rdi, %rdi\n",
            "    vxorpd  %xmm0, %xmm0, %xmm0\n",
            "; │└└└\n",
            "    jle .LBB0_9\n",
            "# %bb.1:                                # %L16.preheader\n",
            "    testq   %rsi, %rsi\n",
            "; │ @ /home/pablo/Teaching/ensae/mie37/tutorials/1_Julia_Basics.ipynb:4 within `stupid_loop`\n",
            "    jle .LBB0_9\n",
            "# %bb.2:                                # %L16.preheader\n",
            "    testq   %rdx, %rdx\n",
            "    jle .LBB0_9\n",
            "# %bb.3:                                # %L33.preheader.split.us.us.us.preheader\n",
            "    pushq   %rbp\n",
            "    .cfi_def_cfa_offset 16\n",
            "    .cfi_offset %rbp, -16\n",
            "    movq    %rsp, %rbp\n",
            "    .cfi_def_cfa_register %rbp\n",
            "    movq    %rdi, %rax\n",
            "    movq    %rsi, %rcx\n",
            "    vxorpd  %xmm0, %xmm0, %xmm0\n",
            "    sarq    $63, %rax\n",
            "    sarq    $63, %rcx\n",
            "    andnq   %rdi, %rax, %r8\n",
            "    movabsq $.LCPI0_0, %rdi\n",
            "    andnq   %rsi, %rcx, %rcx\n",
            "    movq    %rdx, %rsi\n",
            "    vmovsd  (%rdi), %xmm1                   # xmm1 = mem[0],zero\n",
            "    sarq    $63, %rsi\n",
            "    andnq   %rdx, %rsi, %rax\n",
            "    movl    $1, %esi\n",
            "; │ @ /home/pablo/Teaching/ensae/mie37/tutorials/1_Julia_Basics.ipynb:5 within `stupid_loop`\n",
            "    popq    %rbp\n",
            "    .cfi_def_cfa %rsp, 8\n",
            "    .cfi_restore %rbp\n",
            "    .p2align    4, 0x90\n",
            ".LBB0_5:                                # %L33.preheader.split.us.us.us\n",
            "                                        # =>This Loop Header: Depth=1\n",
            "                                        #     Child Loop BB0_6 Depth 2\n",
            "                                        #       Child Loop BB0_7 Depth 3\n",
            "    movl    $1, %edi\n",
            "    .p2align    4, 0x90\n",
            ".LBB0_6:                                # %L50.preheader.us.us.us\n",
            "                                        #   Parent Loop BB0_5 Depth=1\n",
            "                                        # =>  This Loop Header: Depth=2\n",
            "                                        #       Child Loop BB0_7 Depth 3\n",
            "    movq    %rax, %rdx\n",
            "    .p2align    4, 0x90\n",
            ".LBB0_7:                                # %L50.us.us.us\n",
            "                                        #   Parent Loop BB0_5 Depth=1\n",
            "                                        #     Parent Loop BB0_6 Depth=2\n",
            "                                        # =>    This Inner Loop Header: Depth=3\n",
            "; │ @ /home/pablo/Teaching/ensae/mie37/tutorials/1_Julia_Basics.ipynb:6 within `stupid_loop`\n",
            "; │┌ @ float.jl:408 within `+`\n",
            "    vaddsd  %xmm1, %xmm0, %xmm0\n",
            "; │└\n",
            "; │ @ /home/pablo/Teaching/ensae/mie37/tutorials/1_Julia_Basics.ipynb:7 within `stupid_loop`\n",
            "; │┌ @ range.jl:891 within `iterate`\n",
            "; ││┌ @ promotion.jl:499 within `==`\n",
            "    addq    $-1, %rdx\n",
            "; │└└\n",
            "    jne .LBB0_7\n",
            "# %bb.8:                                # %L63.us.us.us\n",
            "                                        #   in Loop: Header=BB0_6 Depth=2\n",
            "; │ @ /home/pablo/Teaching/ensae/mie37/tutorials/1_Julia_Basics.ipynb:8 within `stupid_loop`\n",
            "; │┌ @ range.jl:891 within `iterate`\n",
            "; ││┌ @ promotion.jl:499 within `==`\n",
            "    cmpq    %rcx, %rdi\n",
            "; ││└\n",
            "    leaq    1(%rdi), %rdi\n",
            "; │└\n",
            "    jne .LBB0_6\n",
            "# %bb.4:                                # %L74.us.us\n",
            "                                        #   in Loop: Header=BB0_5 Depth=1\n",
            "; │ @ /home/pablo/Teaching/ensae/mie37/tutorials/1_Julia_Basics.ipynb:9 within `stupid_loop`\n",
            "; │┌ @ range.jl:891 within `iterate`\n",
            "; ││┌ @ promotion.jl:499 within `==`\n",
            "    cmpq    %r8, %rsi\n",
            "; ││└\n",
            "    leaq    1(%rsi), %rsi\n",
            "; │└\n",
            "    jne .LBB0_5\n",
            ".LBB0_9:                                # %L85\n",
            "; │ @ /home/pablo/Teaching/ensae/mie37/tutorials/1_Julia_Basics.ipynb:10 within `stupid_loop`\n",
            "    retq\n",
            ".Lfunc_end0:\n",
            "    .size   julia_stupid_loop_1283, .Lfunc_end0-julia_stupid_loop_1283\n",
            "    .cfi_endproc\n",
            "; └\n",
            "                                        # -- End function\n",
            "    .section    \".note.GNU-stack\",\"\",@progbits"
          ]
        }
      ],
      "source": [
        "@code_native stupid_loop(10,10,10)"
      ],
      "id": "cell-8"
    },
    {
      "cell_type": "markdown",
      "metadata": {},
      "source": [
        "### Syntax Review\n",
        "\n",
        "#### Variable assignment\n",
        "\n",
        "Assignement operator is = (equality is ==, identity is ===)"
      ],
      "id": "72b6dfe8-b673-49af-9107-e64d3708c99d"
    },
    {
      "cell_type": "code",
      "execution_count": 5,
      "metadata": {},
      "outputs": [
        {
          "output_type": "display_data",
          "metadata": {},
          "data": {
            "text/plain": [
              "10"
            ]
          }
        }
      ],
      "source": [
        "# Assign the value 10 to the variable x\n",
        "x = 10"
      ],
      "id": "cell-11"
    },
    {
      "cell_type": "code",
      "execution_count": 5,
      "metadata": {},
      "outputs": [
        {
          "output_type": "display_data",
          "metadata": {},
          "data": {
            "text/plain": [
              "10"
            ]
          }
        }
      ],
      "source": [
        "x"
      ],
      "id": "cell-12"
    },
    {
      "cell_type": "code",
      "execution_count": 6,
      "metadata": {},
      "outputs": [
        {
          "output_type": "display_data",
          "metadata": {},
          "data": {
            "text/plain": [
              "false"
            ]
          }
        }
      ],
      "source": [
        "2 == 3"
      ],
      "id": "cell-13"
    },
    {
      "cell_type": "code",
      "execution_count": 9,
      "metadata": {},
      "outputs": [
        {
          "output_type": "display_data",
          "metadata": {},
          "data": {
            "text/plain": [
              "0.0001"
            ]
          }
        }
      ],
      "source": [
        "# Variable names can have Unicode characters\n",
        "# To get ϵ in the REPL, type \\epsilon<TAB>\n",
        "a = 20\n",
        "α = 10\n",
        "🐳 = 0.1\n",
        "🦈 = 0.1 * 🐳\n",
        "σ = 34\n",
        "ϵ = 1e-4"
      ],
      "id": "cell-14"
    },
    {
      "cell_type": "markdown",
      "metadata": {},
      "source": [
        "Default semantic is pass-by-reference:"
      ],
      "id": "332b0cb6-0aba-46cf-9b77-395eeb258fa4"
    },
    {
      "cell_type": "code",
      "execution_count": 10,
      "metadata": {},
      "outputs": [
        {
          "output_type": "display_data",
          "metadata": {},
          "data": {
            "text/plain": [
              "4-element Vector{Int64}:\n",
              " 10\n",
              "  2\n",
              "  3\n",
              "  4"
            ]
          }
        }
      ],
      "source": [
        "a = [1,2,3,4]\n",
        "b = a\n",
        "a[1] = 10\n",
        "b"
      ],
      "id": "cell-16"
    },
    {
      "cell_type": "markdown",
      "metadata": {},
      "source": [
        "To work on a copy: `copy` or `deepcopy`"
      ],
      "id": "6f6d514d-0c62-4ce7-b777-bd4d3100c258"
    },
    {
      "cell_type": "code",
      "execution_count": 11,
      "metadata": {},
      "outputs": [
        {
          "output_type": "display_data",
          "metadata": {},
          "data": {
            "text/plain": [
              "4-element Vector{Int64}:\n",
              " 1\n",
              " 2\n",
              " 3\n",
              " 4"
            ]
          }
        }
      ],
      "source": [
        "a = [1,2,3,4]\n",
        "b = copy(a)\n",
        "a[1]=10\n",
        "b"
      ],
      "id": "cell-18"
    },
    {
      "cell_type": "code",
      "execution_count": 13,
      "metadata": {},
      "outputs": [
        {
          "output_type": "display_data",
          "metadata": {},
          "data": {
            "text/plain": [
              "4-element BitVector:\n",
              " 0\n",
              " 1\n",
              " 1\n",
              " 1"
            ]
          }
        }
      ],
      "source": [
        "a .== b"
      ],
      "id": "cell-19"
    },
    {
      "cell_type": "code",
      "execution_count": 13,
      "metadata": {},
      "outputs": [
        {
          "output_type": "display_data",
          "metadata": {},
          "data": {
            "text/plain": [
              "4-element Vector{Int64}:\n",
              " 1\n",
              " 2\n",
              " 3\n",
              " 4"
            ]
          }
        }
      ],
      "source": [
        "c = b"
      ],
      "id": "cell-20"
    },
    {
      "cell_type": "code",
      "execution_count": 18,
      "metadata": {},
      "outputs": [
        {
          "output_type": "display_data",
          "metadata": {},
          "data": {
            "text/plain": [
              "4-element Vector{Int64}:\n",
              " 1\n",
              " 2\n",
              " 3\n",
              " 4"
            ]
          }
        }
      ],
      "source": [
        "b = [1,2,3,4]"
      ],
      "id": "cell-21"
    },
    {
      "cell_type": "code",
      "execution_count": 16,
      "metadata": {},
      "outputs": [
        {
          "output_type": "display_data",
          "metadata": {},
          "data": {
            "text/plain": [
              "4-element BitVector:\n",
              " 1\n",
              " 1\n",
              " 1\n",
              " 1"
            ]
          }
        }
      ],
      "source": [
        "a .== b"
      ],
      "id": "cell-22"
    },
    {
      "cell_type": "code",
      "execution_count": 19,
      "metadata": {},
      "outputs": [
        {
          "output_type": "display_data",
          "metadata": {},
          "data": {
            "text/plain": [
              "false"
            ]
          }
        }
      ],
      "source": [
        "c === b"
      ],
      "id": "cell-23"
    },
    {
      "cell_type": "markdown",
      "metadata": {},
      "source": [
        "#### Basic types"
      ],
      "id": "52ec3dcc-13c0-4230-8b4d-3798dce26ed7"
    },
    {
      "cell_type": "code",
      "execution_count": 14,
      "metadata": {},
      "outputs": [
        {
          "output_type": "display_data",
          "metadata": {},
          "data": {
            "text/html": [
              "<pre>Vector{Int64}<span class=\"ansi-bright-black-fg\"> (alias for </span><span class=\"ansi-bright-black-fg\">Array{Int64, 1}</span><span class=\"ansi-bright-black-fg\">)</span></pre>"
            ]
          }
        }
      ],
      "source": [
        "# for any object `typeof` returns the type\n",
        "\n",
        "typeof(a)"
      ],
      "id": "cell-25"
    },
    {
      "cell_type": "code",
      "execution_count": 15,
      "metadata": {},
      "outputs": [
        {
          "output_type": "display_data",
          "metadata": {},
          "data": {
            "text/plain": [
              "3-element Vector{Int64}:\n",
              " 1\n",
              " 2\n",
              " 3"
            ]
          }
        }
      ],
      "source": [
        "[1,2,3]"
      ],
      "id": "cell-26"
    },
    {
      "cell_type": "code",
      "execution_count": 21,
      "metadata": {},
      "outputs": [
        {
          "output_type": "display_data",
          "metadata": {},
          "data": {
            "text/plain": [
              "true"
            ]
          }
        }
      ],
      "source": [
        "typeof(randn(3,3))  == Array{Float64, 2}"
      ],
      "id": "cell-27"
    },
    {
      "cell_type": "markdown",
      "metadata": {},
      "source": [
        "#### Numbers"
      ],
      "id": "df227418-e07b-44de-8927-7de14a6dd8bb"
    },
    {
      "cell_type": "code",
      "execution_count": 22,
      "metadata": {},
      "outputs": [
        {
          "output_type": "display_data",
          "metadata": {},
          "data": {
            "text/plain": [
              "4"
            ]
          }
        }
      ],
      "source": [
        "y = 2 + 2"
      ],
      "id": "cell-29"
    },
    {
      "cell_type": "code",
      "execution_count": 23,
      "metadata": {},
      "outputs": [
        {
          "output_type": "display_data",
          "metadata": {},
          "data": {
            "text/plain": [
              "-4"
            ]
          }
        }
      ],
      "source": [
        "-y"
      ],
      "id": "cell-30"
    },
    {
      "cell_type": "code",
      "execution_count": 24,
      "metadata": {},
      "outputs": [
        {
          "output_type": "display_data",
          "metadata": {},
          "data": {
            "text/plain": [
              "7.82"
            ]
          }
        }
      ],
      "source": [
        "0.34*23"
      ],
      "id": "cell-31"
    },
    {
      "cell_type": "code",
      "execution_count": 26,
      "metadata": {},
      "outputs": [
        {
          "output_type": "display_data",
          "metadata": {},
          "data": {
            "text/plain": [
              "0.75"
            ]
          }
        }
      ],
      "source": [
        "3/4"
      ],
      "id": "cell-32"
    },
    {
      "cell_type": "code",
      "execution_count": 28,
      "metadata": {},
      "outputs": [
        {
          "output_type": "display_data",
          "metadata": {},
          "data": {
            "text/plain": [
              "3//4"
            ]
          }
        }
      ],
      "source": [
        "3//4"
      ],
      "id": "cell-33"
    },
    {
      "cell_type": "code",
      "execution_count": 29,
      "metadata": {},
      "outputs": [
        {
          "output_type": "display_data",
          "metadata": {},
          "data": {
            "text/plain": [
              "17//12"
            ]
          }
        }
      ],
      "source": [
        "3//4 + 2//3"
      ],
      "id": "cell-34"
    },
    {
      "cell_type": "code",
      "execution_count": 30,
      "metadata": {},
      "outputs": [
        {
          "output_type": "display_data",
          "metadata": {},
          "data": {
            "text/plain": [
              "Rational{Int64}"
            ]
          }
        }
      ],
      "source": [
        "typeof(3//4 + 2//3)"
      ],
      "id": "cell-35"
    },
    {
      "cell_type": "code",
      "execution_count": 32,
      "metadata": {},
      "outputs": [
        {
          "output_type": "display_data",
          "metadata": {},
          "data": {
            "text/plain": [
              "6"
            ]
          }
        }
      ],
      "source": [
        "# Scalar multiplication doesn't require *\n",
        "3(4 - 2) "
      ],
      "id": "cell-36"
    },
    {
      "cell_type": "code",
      "execution_count": 35,
      "metadata": {},
      "outputs": [
        {
          "output_type": "display_data",
          "metadata": {},
          "data": {
            "text/plain": [
              "40"
            ]
          }
        }
      ],
      "source": [
        "x = 4\n",
        "2*x + 2x^2"
      ],
      "id": "cell-37"
    },
    {
      "cell_type": "code",
      "execution_count": null,
      "metadata": {},
      "outputs": [],
      "source": [
        "typeof(x)"
      ],
      "id": "cell-38"
    },
    {
      "cell_type": "code",
      "execution_count": 36,
      "metadata": {},
      "outputs": [
        {
          "output_type": "display_data",
          "metadata": {},
          "data": {
            "text/plain": [
              "8"
            ]
          }
        }
      ],
      "source": [
        "sizeof(x)"
      ],
      "id": "cell-39"
    },
    {
      "cell_type": "code",
      "execution_count": 41,
      "metadata": {},
      "outputs": [
        {
          "output_type": "display_data",
          "metadata": {},
          "data": {
            "text/plain": [
              "Int64"
            ]
          }
        }
      ],
      "source": [
        "typeof(10)"
      ],
      "id": "cell-40"
    },
    {
      "cell_type": "code",
      "execution_count": 45,
      "metadata": {},
      "outputs": [
        {
          "output_type": "display_data",
          "metadata": {},
          "data": {
            "text/plain": [
              "1//10"
            ]
          }
        }
      ],
      "source": [
        "(big(100))//big(1000)"
      ],
      "id": "cell-41"
    },
    {
      "cell_type": "code",
      "execution_count": 47,
      "metadata": {},
      "outputs": [
        {
          "output_type": "display_data",
          "metadata": {},
          "data": {
            "text/plain": [
              "\"0000000000000000000000000000000000000000000000000000000000001010\""
            ]
          }
        }
      ],
      "source": [
        "bitstring(10)"
      ],
      "id": "cell-42"
    },
    {
      "cell_type": "markdown",
      "metadata": {},
      "source": [
        "#### Booleans\n",
        "\n",
        "Equality"
      ],
      "id": "3740c52b-89ca-478f-aca0-b9b3ce8a1352"
    },
    {
      "cell_type": "code",
      "execution_count": 48,
      "metadata": {},
      "outputs": [
        {
          "output_type": "display_data",
          "metadata": {},
          "data": {
            "text/plain": [
              "false"
            ]
          }
        }
      ],
      "source": [
        "0 == 1"
      ],
      "id": "cell-45"
    },
    {
      "cell_type": "code",
      "execution_count": 49,
      "metadata": {},
      "outputs": [
        {
          "output_type": "display_data",
          "metadata": {},
          "data": {
            "text/plain": [
              "true"
            ]
          }
        }
      ],
      "source": [
        "2 != 3"
      ],
      "id": "cell-46"
    },
    {
      "cell_type": "code",
      "execution_count": 51,
      "metadata": {},
      "outputs": [
        {
          "output_type": "display_data",
          "metadata": {},
          "data": {
            "text/plain": [
              "true"
            ]
          }
        }
      ],
      "source": [
        "3 < 4"
      ],
      "id": "cell-47"
    },
    {
      "cell_type": "code",
      "execution_count": 53,
      "metadata": {},
      "outputs": [
        {
          "output_type": "display_data",
          "metadata": {},
          "data": {
            "text/plain": [
              "false"
            ]
          }
        }
      ],
      "source": [
        "true == false"
      ],
      "id": "cell-48"
    },
    {
      "cell_type": "markdown",
      "metadata": {},
      "source": [
        "Identity"
      ],
      "id": "eb2beb94-88fa-42cb-b7b5-2335c83ca4f0"
    },
    {
      "cell_type": "code",
      "execution_count": null,
      "metadata": {},
      "outputs": [],
      "source": [
        "a = [34, 35]\n",
        "b = [34, 35]\n",
        "c = a"
      ],
      "id": "cell-50"
    },
    {
      "cell_type": "code",
      "execution_count": null,
      "metadata": {},
      "outputs": [],
      "source": [
        "c === a"
      ],
      "id": "cell-51"
    },
    {
      "cell_type": "code",
      "execution_count": null,
      "metadata": {},
      "outputs": [],
      "source": [
        "b === a"
      ],
      "id": "cell-52"
    },
    {
      "cell_type": "markdown",
      "metadata": {},
      "source": [
        "Boolean operator"
      ],
      "id": "246a5128-fd34-49bd-acf5-3d5d41f7f41e"
    },
    {
      "cell_type": "code",
      "execution_count": 54,
      "metadata": {},
      "outputs": [
        {
          "output_type": "display_data",
          "metadata": {},
          "data": {
            "text/plain": [
              "false"
            ]
          }
        }
      ],
      "source": [
        "true && false"
      ],
      "id": "cell-54"
    },
    {
      "cell_type": "code",
      "execution_count": 55,
      "metadata": {},
      "outputs": [
        {
          "output_type": "display_data",
          "metadata": {},
          "data": {
            "text/plain": [
              "true"
            ]
          }
        }
      ],
      "source": [
        "true || false"
      ],
      "id": "cell-55"
    },
    {
      "cell_type": "code",
      "execution_count": 56,
      "metadata": {},
      "outputs": [
        {
          "output_type": "display_data",
          "metadata": {},
          "data": {
            "text/plain": [
              "false"
            ]
          }
        }
      ],
      "source": [
        "!true"
      ],
      "id": "cell-56"
    },
    {
      "cell_type": "code",
      "execution_count": 60,
      "metadata": {},
      "outputs": [
        {
          "output_type": "display_data",
          "metadata": {},
          "data": {
            "text/plain": [
              "false"
            ]
          }
        }
      ],
      "source": [
        "a  = 2\n",
        "b = 3\n",
        "\n",
        "(a > b) && (factorial(100) > 10)\n"
      ],
      "id": "cell-57"
    },
    {
      "cell_type": "markdown",
      "metadata": {},
      "source": [
        "#### Strings"
      ],
      "id": "8341c7ef-f118-47dd-977b-ad2c21383033"
    },
    {
      "cell_type": "code",
      "execution_count": 38,
      "metadata": {},
      "outputs": [
        {
          "output_type": "display_data",
          "metadata": {},
          "data": {
            "text/plain": [
              "\"This is a string\""
            ]
          }
        }
      ],
      "source": [
        "# Strings are written using double quotes\n",
        "str = \"This is a string\""
      ],
      "id": "cell-59"
    },
    {
      "cell_type": "code",
      "execution_count": 61,
      "metadata": {},
      "outputs": [
        {
          "output_type": "display_data",
          "metadata": {},
          "data": {
            "text/plain": [
              "'🦆': Unicode U+1F986 (category So: Symbol, other)"
            ]
          }
        }
      ],
      "source": [
        "ch = '🦆' # this is a character"
      ],
      "id": "cell-60"
    },
    {
      "cell_type": "code",
      "execution_count": 62,
      "metadata": {},
      "outputs": [
        {
          "output_type": "display_data",
          "metadata": {},
          "data": {
            "text/plain": [
              "\"α is a string\""
            ]
          }
        }
      ],
      "source": [
        "# Strings can also contain Unicode characters\n",
        "fancy_str = \"α is a string\""
      ],
      "id": "cell-61"
    },
    {
      "cell_type": "code",
      "execution_count": 64,
      "metadata": {},
      "outputs": [
        {
          "output_type": "stream",
          "name": "stdout",
          "text": [
            "Iteration : 10"
          ]
        }
      ],
      "source": [
        "n = 10\n",
        "println(\"Iteration : \", n)"
      ],
      "id": "cell-62"
    },
    {
      "cell_type": "code",
      "execution_count": 65,
      "metadata": {},
      "outputs": [
        {
          "output_type": "display_data",
          "metadata": {},
          "data": {
            "text/plain": [
              "\"2 + 2 = 5\""
            ]
          }
        }
      ],
      "source": [
        "# String interpolation using $\n",
        "# The expression in parentheses is evaluated and the result is \n",
        "# inserted into the string\n",
        "a = 2+2\n",
        "\"2 + 2 = $(a+1)\""
      ],
      "id": "cell-63"
    },
    {
      "cell_type": "code",
      "execution_count": 66,
      "metadata": {},
      "outputs": [
        {
          "output_type": "stream",
          "name": "stdout",
          "text": [
            "It took me 4 iterations"
          ]
        }
      ],
      "source": [
        "println(\"It took me $(a) iterations\")"
      ],
      "id": "cell-64"
    },
    {
      "cell_type": "code",
      "execution_count": 67,
      "metadata": {},
      "outputs": [
        {
          "output_type": "display_data",
          "metadata": {},
          "data": {
            "text/plain": [
              "\"helloworld\""
            ]
          }
        }
      ],
      "source": [
        "# String concatenation using *\n",
        "\"hello\" * \"world\""
      ],
      "id": "cell-65"
    },
    {
      "cell_type": "code",
      "execution_count": 69,
      "metadata": {},
      "outputs": [
        {
          "output_type": "stream",
          "name": "stdout",
          "text": [
            "123"
          ]
        }
      ],
      "source": [
        "print(\"1\")\n",
        "print(\"2\")\n",
        "print(\"3\")"
      ],
      "id": "cell-66"
    },
    {
      "cell_type": "code",
      "execution_count": 70,
      "metadata": {},
      "outputs": [
        {
          "output_type": "stream",
          "name": "stdout",
          "text": [
            "1\n",
            "2\n",
            "3"
          ]
        }
      ],
      "source": [
        "println(\"1\")\n",
        "println(\"2\")\n",
        "println(\"3\")"
      ],
      "id": "cell-67"
    },
    {
      "cell_type": "code",
      "execution_count": 44,
      "metadata": {},
      "outputs": [
        {
          "output_type": "stream",
          "name": "stdout",
          "text": [
            "hello world"
          ]
        }
      ],
      "source": [
        "println(\"hello \", \"world\")"
      ],
      "id": "cell-68"
    },
    {
      "cell_type": "markdown",
      "metadata": {},
      "source": [
        "#### Arrays\n",
        "\n",
        "Julia has one-dimensional arrays. They are also called Vector."
      ],
      "id": "7f2800f3-5a8a-4c14-a8ce-1ddd35c2316b"
    },
    {
      "cell_type": "code",
      "execution_count": 45,
      "metadata": {},
      "outputs": [
        {
          "output_type": "display_data",
          "metadata": {},
          "data": {
            "text/plain": [
              "2-element Vector{Int64}:\n",
              " 1\n",
              " 2"
            ]
          }
        }
      ],
      "source": [
        "A = [1, 2]"
      ],
      "id": "cell-71"
    },
    {
      "cell_type": "markdown",
      "metadata": {},
      "source": [
        "All elements have the type:"
      ],
      "id": "a367523f-75d0-4ab3-8d82-1dc189abea29"
    },
    {
      "cell_type": "code",
      "execution_count": 72,
      "metadata": {},
      "outputs": [
        {
          "output_type": "display_data",
          "metadata": {},
          "data": {
            "text/plain": [
              "2-element Vector{Float64}:\n",
              " 1.0\n",
              " 1.4"
            ]
          }
        }
      ],
      "source": [
        "A = [1, 1.4]"
      ],
      "id": "cell-73"
    },
    {
      "cell_type": "code",
      "execution_count": 73,
      "metadata": {},
      "outputs": [
        {
          "output_type": "display_data",
          "metadata": {},
          "data": {
            "text/plain": [
              "false"
            ]
          }
        }
      ],
      "source": [
        "typeof(A) == Vector{Int64}"
      ],
      "id": "cell-74"
    },
    {
      "cell_type": "code",
      "execution_count": 75,
      "metadata": {},
      "outputs": [
        {
          "output_type": "display_data",
          "metadata": {},
          "data": {
            "text/plain": [
              "2-element Vector{Float64}:\n",
              " 1.0\n",
              " 1.4"
            ]
          }
        }
      ],
      "source": [
        "A''"
      ],
      "id": "cell-75"
    },
    {
      "cell_type": "markdown",
      "metadata": {},
      "source": [
        "To get the size of an array:"
      ],
      "id": "6a7208b6-9376-4616-b5c1-001d4a3c28a1"
    },
    {
      "cell_type": "code",
      "execution_count": 77,
      "metadata": {},
      "outputs": [
        {
          "output_type": "display_data",
          "metadata": {},
          "data": {
            "text/plain": [
              "2"
            ]
          }
        }
      ],
      "source": [
        "length(A)"
      ],
      "id": "cell-77"
    },
    {
      "cell_type": "code",
      "execution_count": 76,
      "metadata": {},
      "outputs": [
        {
          "output_type": "display_data",
          "metadata": {},
          "data": {
            "text/plain": [
              "(2,)"
            ]
          }
        }
      ],
      "source": [
        "size(A)"
      ],
      "id": "cell-78"
    },
    {
      "cell_type": "markdown",
      "metadata": {},
      "source": [
        "Arrays are *mutable*"
      ],
      "id": "204a856b-0689-478e-8503-d0123a8d7695"
    },
    {
      "cell_type": "code",
      "execution_count": 51,
      "metadata": {},
      "outputs": [
        {
          "output_type": "display_data",
          "metadata": {},
          "data": {
            "text/plain": [
              "10"
            ]
          }
        }
      ],
      "source": [
        "A[1] = 10"
      ],
      "id": "cell-80"
    },
    {
      "cell_type": "code",
      "execution_count": 52,
      "metadata": {},
      "outputs": [
        {
          "output_type": "display_data",
          "metadata": {},
          "data": {
            "text/plain": [
              "2-element Vector{Float64}:\n",
              " 10.0\n",
              "  1.4"
            ]
          }
        }
      ],
      "source": [
        "A"
      ],
      "id": "cell-81"
    },
    {
      "cell_type": "markdown",
      "metadata": {},
      "source": [
        "Julia has one-based indexing: you refer to the first element as 1\n",
        "($\\neq$ zero-based indexing in C or Python)"
      ],
      "id": "79bc0430-3969-45e9-a20c-f7a8c43cb21b"
    },
    {
      "cell_type": "code",
      "execution_count": 54,
      "metadata": {},
      "outputs": [
        {
          "output_type": "display_data",
          "metadata": {},
          "data": {
            "text/plain": [
              "1.4"
            ]
          }
        }
      ],
      "source": [
        "A[2]"
      ],
      "id": "cell-83"
    },
    {
      "cell_type": "markdown",
      "metadata": {},
      "source": [
        "Arrays are mutable and their size can be changed too:"
      ],
      "id": "60f8dbc9-191a-4b83-ac77-750a57474658"
    },
    {
      "cell_type": "code",
      "execution_count": 79,
      "metadata": {},
      "outputs": [
        {
          "output_type": "display_data",
          "metadata": {},
          "data": {
            "text/plain": [
              "4-element Vector{Float64}:\n",
              "  1.0\n",
              "  1.4\n",
              " 29.0\n",
              " 29.0"
            ]
          }
        }
      ],
      "source": [
        "push!(A, 29)\n",
        "A"
      ],
      "id": "cell-85"
    },
    {
      "cell_type": "code",
      "execution_count": 27,
      "metadata": {},
      "outputs": [
        {
          "output_type": "display_data",
          "metadata": {},
          "data": {
            "text/plain": [
              "3-element Array{Float64,1}:\n",
              " 10.0\n",
              "  1.4\n",
              " 29.0"
            ]
          }
        }
      ],
      "source": [
        "A"
      ],
      "id": "cell-86"
    },
    {
      "cell_type": "code",
      "execution_count": 80,
      "metadata": {},
      "outputs": [
        {
          "output_type": "display_data",
          "metadata": {},
          "data": {
            "text/plain": [
              "5-element Vector{Float64}:\n",
              " 28.0\n",
              "  1.0\n",
              "  1.4\n",
              " 29.0\n",
              " 29.0"
            ]
          }
        }
      ],
      "source": [
        "prepend!(A, 28)"
      ],
      "id": "cell-87"
    },
    {
      "cell_type": "markdown",
      "metadata": {},
      "source": [
        "Two comments: - the `push!` operation is *fast* - `!` is a julia\n",
        "convention to express the fact that `push!` mutates its first argument"
      ],
      "id": "16cb2593-4945-43ed-9724-fbc630032174"
    },
    {
      "cell_type": "code",
      "execution_count": 81,
      "metadata": {},
      "outputs": [
        {
          "output_type": "display_data",
          "metadata": {},
          "data": {
            "text/plain": [
              "2-element Vector{String}:\n",
              " \"a\"\n",
              " \"b\""
            ]
          }
        }
      ],
      "source": [
        "[\"a\", \"b\"]"
      ],
      "id": "cell-89"
    },
    {
      "cell_type": "code",
      "execution_count": 82,
      "metadata": {},
      "outputs": [
        {
          "output_type": "display_data",
          "metadata": {},
          "data": {
            "text/plain": [
              "2-element Vector{Any}:\n",
              "  \"a\"\n",
              " 1"
            ]
          }
        }
      ],
      "source": [
        "[\"a\", 1]"
      ],
      "id": "cell-90"
    },
    {
      "cell_type": "markdown",
      "metadata": {},
      "source": [
        "#### tuples"
      ],
      "id": "6d3813f0-8799-420d-b2ba-30af6fcf10ec"
    },
    {
      "cell_type": "code",
      "execution_count": 83,
      "metadata": {},
      "outputs": [
        {
          "output_type": "display_data",
          "metadata": {},
          "data": {
            "text/plain": [
              "(5,)"
            ]
          }
        }
      ],
      "source": [
        "size(A)  # is a tuple"
      ],
      "id": "cell-92"
    },
    {
      "cell_type": "code",
      "execution_count": 87,
      "metadata": {},
      "outputs": [
        {
          "output_type": "display_data",
          "metadata": {},
          "data": {
            "text/plain": [
              "(5,)"
            ]
          }
        }
      ],
      "source": [
        "(5,)"
      ],
      "id": "cell-93"
    },
    {
      "cell_type": "code",
      "execution_count": 84,
      "metadata": {},
      "outputs": [
        {
          "output_type": "display_data",
          "metadata": {},
          "data": {
            "text/plain": [
              "(1, 2, 3, 4)"
            ]
          }
        }
      ],
      "source": [
        "# you can create tuples with (,,,)\n",
        "t = (1,2,3,4)\n"
      ],
      "id": "cell-94"
    },
    {
      "cell_type": "code",
      "execution_count": 88,
      "metadata": {},
      "outputs": [
        {
          "output_type": "display_data",
          "metadata": {},
          "data": {
            "text/plain": [
              "(1, 2, 3, 4)"
            ]
          }
        }
      ],
      "source": [
        "t"
      ],
      "id": "cell-95"
    },
    {
      "cell_type": "markdown",
      "metadata": {},
      "source": [
        "tuples differ from arrays in two ways: - they are immutable - they can\n",
        "contain non-homogenous objects"
      ],
      "id": "ce9b2fe7-e2aa-4290-afdc-3649fb2ff54a"
    },
    {
      "cell_type": "code",
      "execution_count": 89,
      "metadata": {},
      "outputs": [
        {
          "output_type": "display_data",
          "metadata": {},
          "data": {
            "text/plain": [
              "1"
            ]
          }
        }
      ],
      "source": [
        "t[1]"
      ],
      "id": "cell-97"
    },
    {
      "cell_type": "code",
      "execution_count": 90,
      "metadata": {},
      "outputs": [],
      "source": [
        "t[1] = 2"
      ],
      "id": "cell-98"
    },
    {
      "cell_type": "code",
      "execution_count": 91,
      "metadata": {},
      "outputs": [
        {
          "output_type": "display_data",
          "metadata": {},
          "data": {
            "text/plain": [
              "Tuple{Int64, String, Vector{Int64}}"
            ]
          }
        }
      ],
      "source": [
        "typeof((1, \"1\", [1]))"
      ],
      "id": "cell-99"
    },
    {
      "cell_type": "markdown",
      "metadata": {},
      "source": [
        "2d arrays are also called matrices… and can be used for matrix\n",
        "multiplications."
      ],
      "id": "0346ef8f-4553-4453-90ef-00878528900a"
    },
    {
      "cell_type": "code",
      "execution_count": 92,
      "metadata": {},
      "outputs": [
        {
          "output_type": "display_data",
          "metadata": {},
          "data": {
            "text/plain": [
              "2×2 Matrix{Int64}:\n",
              " 3  4\n",
              " 5  6"
            ]
          }
        }
      ],
      "source": [
        "[3 4; 5 6]"
      ],
      "id": "cell-101"
    },
    {
      "cell_type": "code",
      "execution_count": 95,
      "metadata": {},
      "outputs": [
        {
          "output_type": "display_data",
          "metadata": {},
          "data": {
            "text/plain": [
              "2×2 Matrix{Int64}:\n",
              " 3  5\n",
              " 4  6"
            ]
          }
        }
      ],
      "source": [
        "[ [3, 4];; [5, 6]] # concatenate along second dimension"
      ],
      "id": "cell-102"
    },
    {
      "cell_type": "code",
      "execution_count": 97,
      "metadata": {},
      "outputs": [
        {
          "output_type": "display_data",
          "metadata": {},
          "data": {
            "text/plain": [
              "4×2 Matrix{Int64}:\n",
              " 1  5\n",
              " 2  6\n",
              " 3  7\n",
              " 4  8"
            ]
          }
        }
      ],
      "source": [
        "a1 = [1,2,3,4]\n",
        "a2 = [1,2,3,4]  .+ 4\n",
        "[a1 ;; a2]\n",
        "cat(a1, a2; dims=2)"
      ],
      "id": "cell-103"
    },
    {
      "cell_type": "code",
      "execution_count": 37,
      "metadata": {},
      "outputs": [
        {
          "output_type": "display_data",
          "metadata": {},
          "data": {
            "text/plain": [
              "1×3 Array{Float64,2}:\n",
              " 1.0  0.6  0.0"
            ]
          }
        }
      ],
      "source": [
        "b = [1 0.6 0]"
      ],
      "id": "cell-104"
    },
    {
      "cell_type": "code",
      "execution_count": null,
      "metadata": {},
      "outputs": [],
      "source": [
        "B = [0.1 0.2 0.3; 4 5 6]"
      ],
      "id": "cell-105"
    },
    {
      "cell_type": "markdown",
      "metadata": {},
      "source": [
        "Other ways to construct arrays:"
      ],
      "id": "b281f3be-e8cd-4914-ada1-edc205775f12"
    },
    {
      "cell_type": "code",
      "execution_count": 101,
      "metadata": {},
      "outputs": [
        {
          "output_type": "display_data",
          "metadata": {},
          "data": {
            "text/plain": [
              "2×3 Matrix{Float64}:\n",
              " 0.0  23.2  0.0\n",
              " 0.0   0.0  0.0"
            ]
          }
        }
      ],
      "source": [
        "# zero array\n",
        "t = zeros(2,3)\n",
        "t[1,2] = 23.2\n",
        "t"
      ],
      "id": "cell-107"
    },
    {
      "cell_type": "code",
      "execution_count": 100,
      "metadata": {},
      "outputs": [
        {
          "output_type": "display_data",
          "metadata": {},
          "data": {
            "text/plain": [
              "2×3 Matrix{Int64}:\n",
              " 0  0  0\n",
              " 0  0  0"
            ]
          }
        }
      ],
      "source": [
        "# zero array\n",
        "t = zeros(Int64,2,3)\n",
        "# t[1,2] = 23.2\n",
        "t"
      ],
      "id": "cell-108"
    },
    {
      "cell_type": "code",
      "execution_count": 79,
      "metadata": {},
      "outputs": [
        {
          "output_type": "display_data",
          "metadata": {},
          "data": {
            "text/plain": [
              "3×3 Matrix{Float64}:\n",
              " 0.151296  0.390327  0.239194\n",
              " 0.726286  0.371063  0.133779\n",
              " 0.037311  0.183624  0.72499"
            ]
          }
        }
      ],
      "source": [
        "# random array (uniform distribution)\n",
        "t= rand(3,3)\n",
        "t"
      ],
      "id": "cell-109"
    },
    {
      "cell_type": "code",
      "execution_count": 46,
      "metadata": {},
      "outputs": [
        {
          "output_type": "display_data",
          "metadata": {},
          "data": {
            "text/plain": [
              "3×3 Array{Float64,2}:\n",
              " -0.149832     0.973627  -0.407871\n",
              " -0.00251947  -1.46936   -0.141511\n",
              "  0.676479    -0.774655   0.349923"
            ]
          }
        }
      ],
      "source": [
        "# random array (normal distribution)\n",
        "t= randn(3,3)\n",
        "t"
      ],
      "id": "cell-110"
    },
    {
      "cell_type": "markdown",
      "metadata": {},
      "source": [
        "Vectorized operations take a ., even comparisons (pointwise operations)"
      ],
      "id": "ba004a10-4a49-4b9d-87a6-8251c5ddb963"
    },
    {
      "cell_type": "code",
      "execution_count": 102,
      "metadata": {},
      "outputs": [
        {
          "output_type": "display_data",
          "metadata": {},
          "data": {
            "text/plain": [
              "2×2 Matrix{Int64}:\n",
              " 1  2\n",
              " 3  4"
            ]
          }
        }
      ],
      "source": [
        "B = [1 2;3 4]"
      ],
      "id": "cell-112"
    },
    {
      "cell_type": "code",
      "execution_count": 103,
      "metadata": {},
      "outputs": [
        {
          "output_type": "display_data",
          "metadata": {},
          "data": {
            "text/plain": [
              "2×2 Matrix{Int64}:\n",
              "  7  10\n",
              " 15  22"
            ]
          }
        }
      ],
      "source": [
        "B*B"
      ],
      "id": "cell-113"
    },
    {
      "cell_type": "code",
      "execution_count": 86,
      "metadata": {},
      "outputs": [
        {
          "output_type": "display_data",
          "metadata": {},
          "data": {
            "text/plain": [
              "2×2 Matrix{Int64}:\n",
              " 1   4\n",
              " 9  16"
            ]
          }
        }
      ],
      "source": [
        "B .* B"
      ],
      "id": "cell-114"
    },
    {
      "cell_type": "code",
      "execution_count": 104,
      "metadata": {},
      "outputs": [
        {
          "output_type": "display_data",
          "metadata": {},
          "data": {
            "text/plain": [
              "f (generic function with 1 method)"
            ]
          }
        }
      ],
      "source": [
        "f(x) = x^2+1"
      ],
      "id": "cell-115"
    },
    {
      "cell_type": "code",
      "execution_count": 105,
      "metadata": {},
      "outputs": [
        {
          "output_type": "display_data",
          "metadata": {},
          "data": {
            "text/plain": [
              "1850"
            ]
          }
        }
      ],
      "source": [
        "f(43)"
      ],
      "id": "cell-116"
    },
    {
      "cell_type": "code",
      "execution_count": 108,
      "metadata": {},
      "outputs": [
        {
          "output_type": "display_data",
          "metadata": {},
          "data": {
            "text/plain": [
              "5-element Vector{Int64}:\n",
              "  2\n",
              "  5\n",
              " 10\n",
              " 17\n",
              " 26"
            ]
          }
        }
      ],
      "source": [
        "# [ f(e) for e in [1,2,3,4,5] ]\n",
        "f.([1,2,3,4,5])"
      ],
      "id": "cell-117"
    },
    {
      "cell_type": "markdown",
      "metadata": {},
      "source": [
        "Elements are always accessed with square brackets:"
      ],
      "id": "fb5774da-9b03-4971-98bc-83b5132e7a28"
    },
    {
      "cell_type": "code",
      "execution_count": 109,
      "metadata": {},
      "outputs": [
        {
          "output_type": "display_data",
          "metadata": {},
          "data": {
            "text/plain": [
              "2×3 Matrix{Int64}:\n",
              " 1  2  3\n",
              " 4  5  6"
            ]
          }
        }
      ],
      "source": [
        "B = [1 2 3; 4 5 6]"
      ],
      "id": "cell-119"
    },
    {
      "cell_type": "code",
      "execution_count": null,
      "metadata": {},
      "outputs": [],
      "source": [
        "You get element $B_{ij}$ with `B[i,j]`"
      ],
      "id": "cell-120"
    },
    {
      "cell_type": "code",
      "execution_count": 55,
      "metadata": {},
      "outputs": [
        {
          "output_type": "display_data",
          "metadata": {},
          "data": {
            "text/plain": [
              "2"
            ]
          }
        }
      ],
      "source": [
        "B[1,2]"
      ],
      "id": "cell-121"
    },
    {
      "cell_type": "markdown",
      "metadata": {},
      "source": [
        "You select a whole row/column with `:`"
      ],
      "id": "d6003bcc-0592-4da4-ac4c-1a84c2e6aa80"
    },
    {
      "cell_type": "code",
      "execution_count": 110,
      "metadata": {},
      "outputs": [
        {
          "output_type": "display_data",
          "metadata": {},
          "data": {
            "text/plain": [
              "3-element Vector{Int64}:\n",
              " 1\n",
              " 2\n",
              " 3"
            ]
          }
        }
      ],
      "source": [
        "B[1,:]"
      ],
      "id": "cell-123"
    },
    {
      "cell_type": "code",
      "execution_count": 111,
      "metadata": {},
      "outputs": [
        {
          "output_type": "display_data",
          "metadata": {},
          "data": {
            "text/plain": [
              "2-element Vector{Int64}:\n",
              " 1\n",
              " 4"
            ]
          }
        }
      ],
      "source": [
        "B[:,1]"
      ],
      "id": "cell-124"
    },
    {
      "cell_type": "code",
      "execution_count": 112,
      "metadata": {},
      "outputs": [
        {
          "output_type": "display_data",
          "metadata": {},
          "data": {
            "text/plain": [
              "2×2 Matrix{Int64}:\n",
              " 1  2\n",
              " 4  5"
            ]
          }
        }
      ],
      "source": [
        "B[:,1:2]"
      ],
      "id": "cell-125"
    },
    {
      "cell_type": "code",
      "execution_count": 113,
      "metadata": {},
      "outputs": [
        {
          "output_type": "display_data",
          "metadata": {},
          "data": {
            "text/plain": [
              "2×2 Matrix{Int64}:\n",
              " 1  2\n",
              " 4  5"
            ]
          }
        }
      ],
      "source": [
        "B[:,1:end-1]"
      ],
      "id": "cell-126"
    },
    {
      "cell_type": "markdown",
      "metadata": {},
      "source": [
        "#### Control flow\n",
        "\n",
        "Conditions"
      ],
      "id": "e414b439-9d94-418e-b003-b2d7002ca3b9"
    },
    {
      "cell_type": "code",
      "execution_count": 97,
      "metadata": {},
      "outputs": [
        {
          "output_type": "stream",
          "name": "stdout",
          "text": [
            "x is zero"
          ]
        }
      ],
      "source": [
        "x = 0\n",
        "if x<0\n",
        "    # block\n",
        "    println(\"x is negative\")\n",
        "elseif (x > 0) # optional and unlimited\n",
        "    println(\"x is positive\")\n",
        "else         # optional\n",
        "    println(\"x is zero\")\n",
        "end"
      ],
      "id": "cell-129"
    },
    {
      "cell_type": "markdown",
      "metadata": {},
      "source": [
        "While"
      ],
      "id": "d6c2a270-9330-408c-8fcb-be7c5a03e4e5"
    },
    {
      "cell_type": "code",
      "execution_count": 67,
      "metadata": {},
      "outputs": [
        {
          "output_type": "stream",
          "name": "stdout",
          "text": [
            "3\n",
            "2\n",
            "1"
          ]
        }
      ],
      "source": [
        "i = 3\n",
        "while i > 0\n",
        "    println(i)\n",
        "    i -= 1 # decrement\n",
        "end"
      ],
      "id": "cell-131"
    },
    {
      "cell_type": "markdown",
      "metadata": {},
      "source": [
        "For loops: your iterate over any iterable object: - range `i1:i2` -\n",
        "vector - tuple"
      ],
      "id": "6f0cfb0f-c30b-4d52-9c19-d83f69545413"
    },
    {
      "cell_type": "code",
      "execution_count": 98,
      "metadata": {},
      "outputs": [
        {
          "output_type": "stream",
          "name": "stdout",
          "text": [
            "1\n",
            "2\n",
            "3"
          ]
        }
      ],
      "source": [
        "# Iterate through ranges of numbers\n",
        "for i ∈ (1:3)\n",
        "    println(i)\n",
        "end"
      ],
      "id": "cell-133"
    },
    {
      "cell_type": "code",
      "execution_count": 115,
      "metadata": {},
      "outputs": [
        {
          "output_type": "stream",
          "name": "stdout",
          "text": [
            "Boston\n",
            "New York\n",
            "Philadelphia"
          ]
        }
      ],
      "source": [
        "# Iterate through arrays\n",
        "cities = [\"Boston\", \"New York\", \"Philadelphia\"]\n",
        "for city ∈ cities\n",
        "    println(city)\n",
        "end"
      ],
      "id": "cell-134"
    },
    {
      "cell_type": "code",
      "execution_count": 100,
      "metadata": {},
      "outputs": [
        {
          "output_type": "display_data",
          "metadata": {},
          "data": {
            "text/plain": [
              "3-element Vector{String}:\n",
              " \"Boston\"\n",
              " \"New York\"\n",
              " \"Philadelphia\""
            ]
          }
        }
      ],
      "source": [
        "cities"
      ],
      "id": "cell-135"
    },
    {
      "cell_type": "code",
      "execution_count": 116,
      "metadata": {},
      "outputs": [
        {
          "output_type": "display_data",
          "metadata": {},
          "data": {
            "text/plain": [
              "3-element Vector{String}:\n",
              " \"Massachussets\"\n",
              " \"New York\"\n",
              " \"Pennsylvania\""
            ]
          }
        }
      ],
      "source": [
        "states = [\"Massachussets\", \"New York\", \"Pennsylvania\"]"
      ],
      "id": "cell-136"
    },
    {
      "cell_type": "code",
      "execution_count": 118,
      "metadata": {},
      "outputs": [
        {
          "output_type": "display_data",
          "metadata": {},
          "data": {
            "text/plain": [
              "zip([\"Boston\", \"New York\", \"Philadelphia\"], [\"Massachussets\", \"New York\", \"Pennsylvania\"])"
            ]
          }
        }
      ],
      "source": [
        "two_by_two_iterable = zip(cities, states)"
      ],
      "id": "cell-137"
    },
    {
      "cell_type": "code",
      "execution_count": 120,
      "metadata": {},
      "outputs": [
        {
          "output_type": "display_data",
          "metadata": {},
          "data": {
            "text/plain": [
              "Base.Iterators.Zip{Tuple{Vector{String}, Vector{String}}}"
            ]
          }
        }
      ],
      "source": [
        "typeof(two_by_two_iterable)"
      ],
      "id": "cell-138"
    },
    {
      "cell_type": "code",
      "execution_count": 121,
      "metadata": {},
      "outputs": [
        {
          "output_type": "display_data",
          "metadata": {},
          "data": {
            "text/plain": [
              "3-element Vector{Tuple{String, String}}:\n",
              " (\"Boston\", \"Massachussets\")\n",
              " (\"New York\", \"New York\")\n",
              " (\"Philadelphia\", \"Pennsylvania\")"
            ]
          }
        }
      ],
      "source": [
        "collect(two_by_two_iterable)"
      ],
      "id": "cell-139"
    },
    {
      "cell_type": "code",
      "execution_count": 122,
      "metadata": {},
      "outputs": [
        {
          "output_type": "display_data",
          "metadata": {},
          "data": {
            "text/plain": [
              "3-element Vector{Tuple{String, String}}:\n",
              " (\"Boston\", \"Massachussets\")\n",
              " (\"New York\", \"New York\")\n",
              " (\"Philadelphia\", \"Pennsylvania\")"
            ]
          }
        }
      ],
      "source": [
        "[two_by_two_iterable...]"
      ],
      "id": "cell-140"
    },
    {
      "cell_type": "code",
      "execution_count": 106,
      "metadata": {},
      "outputs": [
        {
          "output_type": "stream",
          "name": "stdout",
          "text": [
            "(\"Boston\", \"Massachussets\")\n",
            "(\"New York\", \"New York\")\n",
            "(\"Philadelphia\", \"Pennsylvania\")"
          ]
        }
      ],
      "source": [
        "# Iterate through arrays of tuples using zip\n",
        "for kw in zip(cities, states)\n",
        "    println(kw)\n",
        "end"
      ],
      "id": "cell-141"
    },
    {
      "cell_type": "code",
      "execution_count": 123,
      "metadata": {},
      "outputs": [
        {
          "output_type": "stream",
          "name": "stdout",
          "text": [
            "City: Boston | State: Massachussets\n",
            "City: New York | State: New York\n",
            "City: Philadelphia | State: Pennsylvania"
          ]
        }
      ],
      "source": [
        "# Iterate through arrays of tuples using zip\n",
        "for (city, state) in zip(cities, states)\n",
        "    println(\"City: $city | State: $state\")\n",
        "end"
      ],
      "id": "cell-142"
    },
    {
      "cell_type": "code",
      "execution_count": 108,
      "metadata": {},
      "outputs": [
        {
          "output_type": "stream",
          "name": "stdout",
          "text": [
            "City 1 is Boston\n",
            "City 2 is New York\n",
            "City 3 is Philadelphia"
          ]
        }
      ],
      "source": [
        "# Iterate through arrays and their indices using enumerate\n",
        "for (i, city) in enumerate(cities)\n",
        "    println(\"City $i is $city\")\n",
        "end"
      ],
      "id": "cell-144"
    },
    {
      "cell_type": "markdown",
      "metadata": {},
      "source": [
        "#### List comprehensions"
      ],
      "id": "7b6046de-89bb-47a3-820a-4e8b6b0f778e"
    },
    {
      "cell_type": "code",
      "execution_count": 111,
      "metadata": {},
      "outputs": [
        {
          "output_type": "display_data",
          "metadata": {},
          "data": {
            "text/plain": [
              "10-element Vector{Float64}:\n",
              "  1.0\n",
              "  2.0\n",
              "  3.0\n",
              "  4.0\n",
              "  5.0\n",
              "  6.0\n",
              "  7.0\n",
              "  8.0\n",
              "  9.0\n",
              " 10.0"
            ]
          }
        }
      ],
      "source": [
        "[1:10 ...] # unpack operator"
      ],
      "id": "cell-146"
    },
    {
      "cell_type": "code",
      "execution_count": 112,
      "metadata": {},
      "outputs": [
        {
          "output_type": "display_data",
          "metadata": {},
          "data": {
            "text/plain": [
              "10-element Vector{Int64}:\n",
              "   1\n",
              "   4\n",
              "   9\n",
              "  16\n",
              "  25\n",
              "  36\n",
              "  49\n",
              "  64\n",
              "  81\n",
              " 100"
            ]
          }
        }
      ],
      "source": [
        "[i^2 for i  in 1:10] # collect with comprehension syntax"
      ],
      "id": "cell-147"
    },
    {
      "cell_type": "code",
      "execution_count": 125,
      "metadata": {},
      "outputs": [],
      "source": [
        "[i^2 for i=1:10000000 if mod(i,2)==0] ;"
      ],
      "id": "cell-148"
    },
    {
      "cell_type": "code",
      "execution_count": 133,
      "metadata": {},
      "outputs": [],
      "source": [
        "@time sum( [i^2 for i=1:10000000000 if mod(i,2)==0] )"
      ],
      "id": "cell-149"
    },
    {
      "cell_type": "code",
      "execution_count": 1,
      "metadata": {},
      "outputs": [
        {
          "output_type": "display_data",
          "metadata": {},
          "data": {
            "text/plain": [
              "fun (generic function with 1 method)"
            ]
          }
        }
      ],
      "source": [
        "function fun()\n",
        "    t = 0\n",
        "    for  i=1:10000000000\n",
        "        if mod(i,2)==0\n",
        "            t += i^2\n",
        "        end\n",
        "    end\n",
        "    return t\n",
        "end"
      ],
      "id": "cell-150"
    },
    {
      "cell_type": "code",
      "execution_count": 2,
      "metadata": {},
      "outputs": [
        {
          "output_type": "stream",
          "name": "stdout",
          "text": [
            "  2.552283 seconds"
          ]
        },
        {
          "output_type": "display_data",
          "metadata": {},
          "data": {
            "text/plain": [
              "-4494074839411110912"
            ]
          }
        }
      ],
      "source": [
        "@time fun()"
      ],
      "id": "cell-151"
    },
    {
      "cell_type": "code",
      "execution_count": 8,
      "metadata": {},
      "outputs": [
        {
          "output_type": "display_data",
          "metadata": {},
          "data": {
            "text/plain": [
              "Base.Generator{Base.Iterators.Filter{var\"#24#26\", UnitRange{Int64}}, var\"#23#25\"}(var\"#23#25\"(), Base.Iterators.Filter{var\"#24#26\", UnitRange{Int64}}(var\"#24#26\"(), 1:10000000000))"
            ]
          }
        }
      ],
      "source": [
        "gen = (i^2 for i=1:10000000000 if mod(i,2)==0)"
      ],
      "id": "cell-152"
    },
    {
      "cell_type": "code",
      "execution_count": 10,
      "metadata": {},
      "outputs": [
        {
          "output_type": "stream",
          "name": "stdout",
          "text": [
            " 16.349360 seconds (1 allocation: 16 bytes)"
          ]
        },
        {
          "output_type": "display_data",
          "metadata": {},
          "data": {
            "text/plain": [
              "-4494074839411110912"
            ]
          }
        }
      ],
      "source": [
        "@time sum(gen)"
      ],
      "id": "cell-153"
    },
    {
      "cell_type": "code",
      "execution_count": 11,
      "metadata": {},
      "outputs": [],
      "source": [
        "## Named Tuples"
      ],
      "id": "cell-154"
    },
    {
      "cell_type": "code",
      "execution_count": 13,
      "metadata": {},
      "outputs": [
        {
          "output_type": "display_data",
          "metadata": {},
          "data": {
            "text/plain": [
              "(a = 1, b = 2, c = 3)"
            ]
          }
        }
      ],
      "source": [
        "t = (;a=1,b=2,c=3)"
      ],
      "id": "cell-155"
    },
    {
      "cell_type": "code",
      "execution_count": 17,
      "metadata": {},
      "outputs": [
        {
          "output_type": "display_data",
          "metadata": {},
          "data": {
            "text/plain": [
              "1"
            ]
          }
        }
      ],
      "source": [
        "t[1] # indexed like tuple\n",
        "# t[1] = 2 # immutable\n",
        "t.a # access fields using names"
      ],
      "id": "cell-156"
    },
    {
      "cell_type": "code",
      "execution_count": 18,
      "metadata": {},
      "outputs": [
        {
          "output_type": "display_data",
          "metadata": {},
          "data": {
            "text/plain": [
              "(α = 0.3, β = 0.96)"
            ]
          }
        }
      ],
      "source": [
        "model = (;\n",
        "    α = 0.3,\n",
        "    β = 0.96\n",
        ")"
      ],
      "id": "cell-157"
    },
    {
      "cell_type": "code",
      "execution_count": 21,
      "metadata": {},
      "outputs": [
        {
          "output_type": "display_data",
          "metadata": {},
          "data": {
            "text/plain": [
              "(α = 0.3, β = 0.9, γ = 0.2)"
            ]
          }
        }
      ],
      "source": [
        "merge(model, (;β=0.9, γ=0.2))"
      ],
      "id": "cell-158"
    },
    {
      "cell_type": "code",
      "execution_count": 23,
      "metadata": {},
      "outputs": [
        {
          "output_type": "display_data",
          "metadata": {},
          "data": {
            "text/plain": [
              "0.96"
            ]
          }
        }
      ],
      "source": [
        "# unpack values from a tuple\n",
        "\n",
        "α = model[1]\n",
        "β = model[2]"
      ],
      "id": "cell-159"
    },
    {
      "cell_type": "code",
      "execution_count": 24,
      "metadata": {},
      "outputs": [
        {
          "output_type": "display_data",
          "metadata": {},
          "data": {
            "text/plain": [
              "0.96"
            ]
          }
        }
      ],
      "source": [
        "# unpack values from a namedtuple\n",
        "\n",
        "α = model.α\n",
        "β = model.β"
      ],
      "id": "cell-160"
    },
    {
      "cell_type": "code",
      "execution_count": 27,
      "metadata": {},
      "outputs": [
        {
          "output_type": "display_data",
          "metadata": {},
          "data": {
            "text/plain": [
              "0.3"
            ]
          }
        }
      ],
      "source": [
        "# namedtuple unpacking\n",
        "\n",
        "(;α, β) = model\n",
        "α"
      ],
      "id": "cell-161"
    },
    {
      "cell_type": "code",
      "execution_count": 26,
      "metadata": {},
      "outputs": [
        {
          "output_type": "display_data",
          "metadata": {},
          "data": {
            "text/plain": [
              "0.3"
            ]
          }
        }
      ],
      "source": [],
      "id": "cell-162"
    },
    {
      "cell_type": "markdown",
      "metadata": {},
      "source": [
        "### Data Types and multiple dispatch\n",
        "\n",
        "#### Composite types\n",
        "\n",
        "A **composite type** is a collection of named fields that can be treated\n",
        "as a single value. They bear a passing resemblance to MATLAB structs.\n",
        "\n",
        "All fields must be declared ahead of time. The double colon, `::`,\n",
        "constrains a field to contain values of a certain type. This is optional\n",
        "for any field."
      ],
      "id": "7d33062b-f891-4c1c-856b-82f604ad4f42"
    },
    {
      "cell_type": "code",
      "execution_count": 98,
      "metadata": {},
      "outputs": [],
      "source": [
        "# Type definition with 4 fields\n",
        "struct ParameterFree\n",
        "    value  \n",
        "    transformation  \n",
        "    tex_label\n",
        "    description \n",
        "end"
      ],
      "id": "cell-165"
    },
    {
      "cell_type": "code",
      "execution_count": 95,
      "metadata": {},
      "outputs": [
        {
          "output_type": "display_data",
          "metadata": {},
          "data": {
            "text/plain": [
              "ParameterFree(\"1\", var\"#9#10\"(), \"\\\\sqrt{1+x^2}\", (\"a\", 1))"
            ]
          }
        }
      ],
      "source": [
        "pf = ParameterFree(\"1\", x->x^2, \"\\\\sqrt{1+x^2}\", (\"a\",1))"
      ],
      "id": "cell-166"
    },
    {
      "cell_type": "code",
      "execution_count": 99,
      "metadata": {},
      "outputs": [
        {
          "output_type": "display_data",
          "metadata": {},
          "data": {
            "text/plain": [
              "\"1\""
            ]
          }
        }
      ],
      "source": [
        "pf.value"
      ],
      "id": "cell-167"
    },
    {
      "cell_type": "markdown",
      "metadata": {},
      "source": [
        "Two reasons to create structures: - syntactic shortcut (you access the\n",
        "fields with .) - specify the types of the fields"
      ],
      "id": "6e0fac5c-e6ea-4d25-9b36-ff0e4d77e5d6"
    },
    {
      "cell_type": "code",
      "execution_count": 100,
      "metadata": {},
      "outputs": [],
      "source": [
        "# Type definition\n",
        "struct Parameter\n",
        "    value ::Float64\n",
        "    transformation ::Function # Function is a type!\n",
        "    tex_label::String\n",
        "    description::String\n",
        "end"
      ],
      "id": "cell-169"
    },
    {
      "cell_type": "code",
      "execution_count": 101,
      "metadata": {},
      "outputs": [],
      "source": [
        "p = Parameter(\"1\", x->x^2, \"\\\\sqrt{1+x^2}\", (\"a\",1))"
      ],
      "id": "cell-170"
    },
    {
      "cell_type": "code",
      "execution_count": 102,
      "metadata": {},
      "outputs": [
        {
          "output_type": "display_data",
          "metadata": {},
          "data": {
            "text/plain": [
              "Parameter(0.43, var\"#13#14\"(), \"\\\\sqrt{1+x^2}\", \"This is a description\")"
            ]
          }
        }
      ],
      "source": [
        "p = Parameter(0.43, x->x^2, \"\\\\sqrt{1+x^2}\", \"This is a description\")"
      ],
      "id": "cell-171"
    },
    {
      "cell_type": "code",
      "execution_count": 103,
      "metadata": {},
      "outputs": [
        {
          "output_type": "display_data",
          "metadata": {},
          "data": {
            "text/plain": [
              "0.43"
            ]
          }
        }
      ],
      "source": [
        "p.value"
      ],
      "id": "cell-172"
    },
    {
      "cell_type": "markdown",
      "metadata": {},
      "source": [
        "When a type with $n$ fields is defined, a constructor (function that\n",
        "creates an instance of that type) that takes $n$ ordered arguments is\n",
        "automatically created. Additional constructors can be defined for\n",
        "convenience."
      ],
      "id": "5906019f-4a22-4ec0-a211-749de2474a44"
    },
    {
      "cell_type": "code",
      "execution_count": 104,
      "metadata": {},
      "outputs": [
        {
          "output_type": "display_data",
          "metadata": {},
          "data": {
            "text/plain": [
              "Parameter(0.9, identity, \"\\\\beta\", \"Discount rate\")"
            ]
          }
        }
      ],
      "source": [
        "# Creating an instance of the Parameter type using the default\n",
        "# constructor\n",
        "β = Parameter(0.9, identity, \"\\\\beta\", \"Discount rate\")"
      ],
      "id": "cell-174"
    },
    {
      "cell_type": "code",
      "execution_count": 106,
      "metadata": {},
      "outputs": [
        {
          "output_type": "display_data",
          "metadata": {},
          "data": {
            "text/plain": [
              "Parameter"
            ]
          }
        }
      ],
      "source": [
        "function Parameter(value)\n",
        "    return Parameter(value, x->x, \"x\", \"Anonymous\")\n",
        "end"
      ],
      "id": "cell-175"
    },
    {
      "cell_type": "code",
      "execution_count": 107,
      "metadata": {},
      "outputs": [
        {
          "output_type": "display_data",
          "metadata": {},
          "data": {
            "text/plain": [
              "Parameter(0.4, var\"#15#16\"(), \"x\", \"Anonymous\")"
            ]
          }
        }
      ],
      "source": [
        "Parameter(0.4)"
      ],
      "id": "cell-176"
    },
    {
      "cell_type": "code",
      "execution_count": 108,
      "metadata": {},
      "outputs": [
        {
          "output_type": "display_data",
          "metadata": {},
          "data": {
            "text/plain": [
              "Parameter"
            ]
          }
        }
      ],
      "source": [
        "Parameter(value, transformation, tex) = Parameter(value, transformation, tex, \"no description\")"
      ],
      "id": "cell-177"
    },
    {
      "cell_type": "code",
      "execution_count": 109,
      "metadata": {},
      "outputs": [
        {
          "output_type": "display_data",
          "metadata": {},
          "data": {
            "text/html": [
              "# 4 methods for type constructor:<ul><li> Parameter(value::<b>Float64</b>, transformation::<b>Function</b>, tex_label::<b>String</b>, description::<b>String</b>) in Main at In[100]:3</li> <li> Parameter(value) in Main at In[106]:1</li> <li> Parameter(value, transformation, tex) in Main at In[108]:1</li> <li> Parameter(value, transformation, tex_label, description) in Main at In[100]:3</li> </ul>"
            ]
          }
        }
      ],
      "source": [
        "methods( Parameter )"
      ],
      "id": "cell-178"
    },
    {
      "cell_type": "code",
      "execution_count": 110,
      "metadata": {},
      "outputs": [
        {
          "output_type": "display_data",
          "metadata": {},
          "data": {
            "text/plain": [
              "Parameter(0.5, identity, \"\\alpha\", \"No description available\")"
            ]
          }
        }
      ],
      "source": [
        "# Alternative constructors end with an appeal to the default\n",
        "# constructor\n",
        "function Parameter(value::Float64, tex_label::String)\n",
        "    transformation = identity\n",
        "    description = \"No description available\"\n",
        "    return Parameter(value, transformation, tex_label, description)\n",
        "end\n",
        "\n",
        "α = Parameter(0.5, \"\\alpha\")"
      ],
      "id": "cell-179"
    },
    {
      "cell_type": "markdown",
      "metadata": {},
      "source": [
        "Now the function `Parameter` has two different `methods` with different\n",
        "signatures:"
      ],
      "id": "23195bee-74fe-4a3f-aa8e-b9c32c880bfe"
    },
    {
      "cell_type": "code",
      "execution_count": 9,
      "metadata": {},
      "outputs": [
        {
          "output_type": "display_data",
          "metadata": {},
          "data": {
            "text/html": [
              "# 4 methods for type constructor:<ul><li> Parameter(value::<b>Float64</b>, transformation::<b>Function</b>, tex_label::<b>String</b>, description::<b>String</b>) in Main at In[1]:3</li> <li> Parameter(value::<b>Float64</b>, tex_label::<b>String</b>) in Main at In[8]:4</li> <li> Parameter(value, transformation, tex) in Main at In[5]:1</li> <li> Parameter(value, transformation, tex_label, description) in Main at In[1]:3</li> </ul>"
            ]
          }
        }
      ],
      "source": [
        "methods(Parameter)"
      ],
      "id": "cell-181"
    },
    {
      "cell_type": "markdown",
      "metadata": {},
      "source": [
        "We have seen that a function can have several implementations, called\n",
        "methods, for different number of arguments, or for different types of\n",
        "arguments."
      ],
      "id": "24fff7b6-dd03-46b7-8b9d-13cdb9b945b8"
    },
    {
      "cell_type": "code",
      "execution_count": 111,
      "metadata": {},
      "outputs": [
        {
          "output_type": "display_data",
          "metadata": {},
          "data": {
            "text/plain": [
              "fun (generic function with 1 method)"
            ]
          }
        }
      ],
      "source": [
        "fun(x::Int64, y::Int64) = x^3 + y"
      ],
      "id": "cell-183"
    },
    {
      "cell_type": "code",
      "execution_count": 114,
      "metadata": {},
      "outputs": [
        {
          "output_type": "display_data",
          "metadata": {},
          "data": {
            "text/plain": [
              "fun (generic function with 2 methods)"
            ]
          }
        }
      ],
      "source": [
        "fun(x::Float64, y::Int64) = x/2 + y"
      ],
      "id": "cell-184"
    },
    {
      "cell_type": "code",
      "execution_count": 115,
      "metadata": {},
      "outputs": [
        {
          "output_type": "display_data",
          "metadata": {},
          "data": {
            "text/plain": [
              "10"
            ]
          }
        }
      ],
      "source": [
        "fun(2, 2)"
      ],
      "id": "cell-185"
    },
    {
      "cell_type": "code",
      "execution_count": 117,
      "metadata": {},
      "outputs": [
        {
          "output_type": "display_data",
          "metadata": {},
          "data": {
            "text/plain": [
              "3.0"
            ]
          }
        }
      ],
      "source": [
        "fun(2.0, 2)"
      ],
      "id": "cell-186"
    },
    {
      "cell_type": "code",
      "execution_count": null,
      "metadata": {},
      "outputs": [],
      "source": [
        "α.tex_label"
      ],
      "id": "cell-187"
    },
    {
      "cell_type": "code",
      "execution_count": 118,
      "metadata": {},
      "outputs": [
        {
          "output_type": "display_data",
          "metadata": {},
          "data": {
            "text/plain": [
              "0.5"
            ]
          }
        }
      ],
      "source": [
        "# Access a particular field using .\n",
        "α.value"
      ],
      "id": "cell-188"
    },
    {
      "cell_type": "code",
      "execution_count": null,
      "metadata": {},
      "outputs": [],
      "source": [
        "# Fields are modifiable and can be assigned to, like \n",
        "# ordinary variables\n",
        "α.value = 0.75"
      ],
      "id": "cell-189"
    },
    {
      "cell_type": "markdown",
      "metadata": {},
      "source": [
        "### Mutable vs non mutable types\n",
        "\n",
        "by default structures in Julia are non-mutable"
      ],
      "id": "80aa4d13-16b7-4772-8b09-d0efe48c7c3f"
    },
    {
      "cell_type": "code",
      "execution_count": 123,
      "metadata": {},
      "outputs": [],
      "source": [
        "p.value = 3.0"
      ],
      "id": "cell-192"
    },
    {
      "cell_type": "code",
      "execution_count": 124,
      "metadata": {},
      "outputs": [],
      "source": [
        "mutable struct Params\n",
        "    x:: Float64\n",
        "    y:: Float64\n",
        "end"
      ],
      "id": "cell-193"
    },
    {
      "cell_type": "code",
      "execution_count": 125,
      "metadata": {},
      "outputs": [
        {
          "output_type": "display_data",
          "metadata": {},
          "data": {
            "text/plain": [
              "Params(0.4, 0.2)"
            ]
          }
        }
      ],
      "source": [
        "pos = Params(0.4, 0.2)"
      ],
      "id": "cell-194"
    },
    {
      "cell_type": "code",
      "execution_count": 126,
      "metadata": {},
      "outputs": [
        {
          "output_type": "display_data",
          "metadata": {},
          "data": {
            "text/plain": [
              "0.5"
            ]
          }
        }
      ],
      "source": [
        "pos.x = 0.5"
      ],
      "id": "cell-195"
    },
    {
      "cell_type": "markdown",
      "metadata": {},
      "source": [
        "### Parameterized Types\n",
        "\n",
        "**Parameterized types** are data types that are defined to handle values\n",
        "identically regardless of the type of those values.\n",
        "\n",
        "Arrays are a familiar example. An `Array{T,1}` is a one-dimensional\n",
        "array filled with objects of any type `T` (e.g. `Float64`, `String`)."
      ],
      "id": "e7bd543b-e44d-4bd6-a3aa-269d83fc58d9"
    },
    {
      "cell_type": "code",
      "execution_count": 127,
      "metadata": {},
      "outputs": [],
      "source": [
        "# Defining a parametric point\n",
        "struct Duple{T} # T is a parameter to the type Duple\n",
        "    x::T\n",
        "    y::T\n",
        "end"
      ],
      "id": "cell-197"
    },
    {
      "cell_type": "code",
      "execution_count": 130,
      "metadata": {},
      "outputs": [
        {
          "output_type": "display_data",
          "metadata": {},
          "data": {
            "text/plain": [
              "Duple{Int64}(3, 3)"
            ]
          }
        }
      ],
      "source": [
        "Duple(3, 3)"
      ],
      "id": "cell-198"
    },
    {
      "cell_type": "code",
      "execution_count": 128,
      "metadata": {},
      "outputs": [],
      "source": [
        "Duple(3, -1.0)"
      ],
      "id": "cell-199"
    },
    {
      "cell_type": "code",
      "execution_count": 29,
      "metadata": {},
      "outputs": [],
      "source": [
        "struct Truple{T}\n",
        "    x::Duple{T}\n",
        "    z::T\n",
        "end"
      ],
      "id": "cell-200"
    },
    {
      "cell_type": "markdown",
      "metadata": {},
      "source": [
        "This single declaration defines an unlimited number of new types:\n",
        "`Duple{String}`, `Duple{Float64}`, etc. are all immediately usable."
      ],
      "id": "ba99a841-009b-453e-aa48-76bf7f55f04e"
    },
    {
      "cell_type": "code",
      "execution_count": 30,
      "metadata": {},
      "outputs": [
        {
          "output_type": "display_data",
          "metadata": {},
          "data": {
            "text/plain": [
              "8"
            ]
          }
        }
      ],
      "source": [
        "sizeof(3.0)"
      ],
      "id": "cell-202"
    },
    {
      "cell_type": "code",
      "execution_count": 31,
      "metadata": {},
      "outputs": [
        {
          "output_type": "display_data",
          "metadata": {},
          "data": {
            "text/plain": [
              "16"
            ]
          }
        }
      ],
      "source": [
        "sizeof( Duple(3.0, -15.0) )"
      ],
      "id": "cell-203"
    },
    {
      "cell_type": "code",
      "execution_count": null,
      "metadata": {},
      "outputs": [],
      "source": [
        "# What happens here?\n",
        "Duple(1.5, 3)"
      ],
      "id": "cell-204"
    },
    {
      "cell_type": "code",
      "execution_count": 35,
      "metadata": {},
      "outputs": [],
      "source": [
        "struct Truple3{T,S}\n",
        "    x::Tuple{T,S}\n",
        "    z::S\n",
        "end"
      ],
      "id": "cell-205"
    },
    {
      "cell_type": "markdown",
      "metadata": {},
      "source": [
        "We can also restrict the type parameter `T`:"
      ],
      "id": "fd5b53d4-7825-45f4-a8c9-4c386423519c"
    },
    {
      "cell_type": "code",
      "execution_count": 37,
      "metadata": {},
      "outputs": [
        {
          "output_type": "display_data",
          "metadata": {},
          "data": {
            "text/plain": [
              "false"
            ]
          }
        }
      ],
      "source": [
        "typeof(\"S\") <: Number"
      ],
      "id": "cell-207"
    },
    {
      "cell_type": "code",
      "execution_count": 38,
      "metadata": {},
      "outputs": [
        {
          "output_type": "display_data",
          "metadata": {},
          "data": {
            "text/plain": [
              "true"
            ]
          }
        }
      ],
      "source": [
        "typeof(4) <: Number"
      ],
      "id": "cell-208"
    },
    {
      "cell_type": "code",
      "execution_count": 40,
      "metadata": {},
      "outputs": [],
      "source": [
        "# T can be any subtype of Number, but nothing else\n",
        "struct PlanarCoordinate{T<:Number}\n",
        "    x::T\n",
        "    y::T\n",
        "end"
      ],
      "id": "cell-209"
    },
    {
      "cell_type": "code",
      "execution_count": 41,
      "metadata": {},
      "outputs": [],
      "source": [
        "PlanarCoordinate(\"4th Ave\", \"14th St\")"
      ],
      "id": "cell-210"
    },
    {
      "cell_type": "code",
      "execution_count": 42,
      "metadata": {},
      "outputs": [
        {
          "output_type": "display_data",
          "metadata": {},
          "data": {
            "text/plain": [
              "PlanarCoordinate{Rational{Int64}}(2//3, 8//9)"
            ]
          }
        }
      ],
      "source": [
        "PlanarCoordinate(2//3, 8//9)"
      ],
      "id": "cell-211"
    },
    {
      "cell_type": "markdown",
      "metadata": {},
      "source": [
        "Arrays are an exemple of mutable, parameterized types\n",
        "\n",
        "### Why Use Types?\n",
        "\n",
        "You can write all your code without thinking about types at all. If you\n",
        "do this, however, you’ll be missing out on some of the biggest benefits\n",
        "of using Julia.\n",
        "\n",
        "If you understand types, you can:\n",
        "\n",
        "-   Write faster code\n",
        "-   Write expressive, clear, and well-structured programs (keep this in\n",
        "    mind when we talk about functions)\n",
        "-   Reason more clearly about how your code works\n",
        "\n",
        "Even if you only use built-in functions and types, your code still takes\n",
        "advantage of Julia’s type system. That’s why it’s important to\n",
        "understand what types are and how to use them."
      ],
      "id": "f89eedbc-0c8f-414b-b4e5-9991dfe31ec4"
    },
    {
      "cell_type": "code",
      "execution_count": 49,
      "metadata": {},
      "outputs": [
        {
          "output_type": "display_data",
          "metadata": {},
          "data": {
            "text/plain": [
              "-25554.110202663698"
            ]
          }
        }
      ],
      "source": [
        "# Example: writing type-stable functions\n",
        "function sumofsins_unstable(n::Integer)  \n",
        "    sum = 0:: Integer\n",
        "    for i in 1:n  \n",
        "        sum += sin(3.4)  \n",
        "    end  \n",
        "    return sum \n",
        "end  \n",
        "\n",
        "function sumofsins_stable(n::Integer)  \n",
        "    sum = 0.0 :: Float64\n",
        "    for i in 1:n  \n",
        "        sum += sin(3.4)  \n",
        "    end  \n",
        "    return sum \n",
        "end\n",
        "\n",
        "# Compile and run\n",
        "sumofsins_unstable(Int(1e5))\n",
        "sumofsins_stable(Int(1e5))"
      ],
      "id": "cell-215"
    },
    {
      "cell_type": "code",
      "execution_count": 50,
      "metadata": {},
      "outputs": [
        {
          "output_type": "stream",
          "name": "stdout",
          "text": [
            "  0.000176 seconds"
          ]
        },
        {
          "output_type": "display_data",
          "metadata": {},
          "data": {
            "text/plain": [
              "-25554.110202663698"
            ]
          }
        }
      ],
      "source": [
        "@time sumofsins_unstable(Int(1e5))"
      ],
      "id": "cell-216"
    },
    {
      "cell_type": "code",
      "execution_count": 47,
      "metadata": {},
      "outputs": [
        {
          "output_type": "stream",
          "name": "stdout",
          "text": [
            "  0.000168 seconds"
          ]
        },
        {
          "output_type": "display_data",
          "metadata": {},
          "data": {
            "text/plain": [
              "-25554.110202663698"
            ]
          }
        }
      ],
      "source": [
        "@time sumofsins_stable(Int(1e5))"
      ],
      "id": "cell-217"
    },
    {
      "cell_type": "markdown",
      "metadata": {},
      "source": [
        "In `sumofsins_stable`, the compiler is guaranteed that `sum` is of type\n",
        "`Float64` throughout; therefore, it saves time and memory. On the other\n",
        "hand, in `sumofsins_unstable`, the compiler must check the type of `sum`\n",
        "at each iteration of the loop. Let’s look at the LLVM [intermediate\n",
        "representation](http://www.johnmyleswhite.com/notebook/2013/12/06/writing-type-stable-code-in-julia/).\n",
        "\n",
        "### Multiple Dispatch\n",
        "\n",
        "So far we have defined functions over argument lists of any type.\n",
        "Methods allow us to define functions “piecewise”. For any set of input\n",
        "arguments, we can define a **method**, a definition of one possible\n",
        "behavior for a function."
      ],
      "id": "cad66543-d434-4122-b106-351bf34d8ac5"
    },
    {
      "cell_type": "code",
      "execution_count": 51,
      "metadata": {},
      "outputs": [
        {
          "output_type": "display_data",
          "metadata": {},
          "data": {
            "text/plain": [
              "print_type (generic function with 1 method)"
            ]
          }
        }
      ],
      "source": [
        "# Define one method of the function print_type\n",
        "function print_type(x::Number)\n",
        "    println(\"$x is a number\")\n",
        "end"
      ],
      "id": "cell-221"
    },
    {
      "cell_type": "code",
      "execution_count": 53,
      "metadata": {},
      "outputs": [
        {
          "output_type": "display_data",
          "metadata": {},
          "data": {
            "text/plain": [
              "print_type (generic function with 2 methods)"
            ]
          }
        }
      ],
      "source": [
        "# Define another method\n",
        "function print_type(x::String)\n",
        "    println(\"$x is a string\")\n",
        "end"
      ],
      "id": "cell-222"
    },
    {
      "cell_type": "code",
      "execution_count": 54,
      "metadata": {},
      "outputs": [
        {
          "output_type": "display_data",
          "metadata": {},
          "data": {
            "text/plain": [
              "print_type (generic function with 3 methods)"
            ]
          }
        }
      ],
      "source": [
        "# Define yet another method\n",
        "function print_type(x::Number, y::Number)\n",
        "    println(\"$x and $y are both numbers\")\n",
        "end"
      ],
      "id": "cell-223"
    },
    {
      "cell_type": "code",
      "execution_count": 55,
      "metadata": {},
      "outputs": [
        {
          "output_type": "display_data",
          "metadata": {},
          "data": {
            "text/html": [
              "# 3 methods for generic function <b>print_type</b>:<ul><li> print_type(x::<b>String</b>) in Main at In[53]:3</li> <li> print_type(x::<b>Number</b>) in Main at In[51]:3</li> <li> print_type(x::<b>Number</b>, y::<b>Number</b>) in Main at In[54]:3</li> </ul>"
            ]
          }
        }
      ],
      "source": [
        "# See all methods for a given function\n",
        "methods(print_type)"
      ],
      "id": "cell-224"
    },
    {
      "cell_type": "markdown",
      "metadata": {},
      "source": [
        "Julia uses **multiple dispatch** to decide which **method** of a\n",
        "**function** to execute when a function is applied. In particular, Julia\n",
        "compares the types of *all* arguments to the signatures of the\n",
        "function’s methods in order to choose the applicable one, not just the\n",
        "first (hence “multiple”)."
      ],
      "id": "25704c64-e21a-4e8d-8bcd-d56d5e01f5d4"
    },
    {
      "cell_type": "code",
      "execution_count": 56,
      "metadata": {},
      "outputs": [
        {
          "output_type": "stream",
          "name": "stdout",
          "text": [
            "5 is a number"
          ]
        }
      ],
      "source": [
        "print_type(5)"
      ],
      "id": "cell-226"
    },
    {
      "cell_type": "code",
      "execution_count": 57,
      "metadata": {},
      "outputs": [
        {
          "output_type": "stream",
          "name": "stdout",
          "text": [
            "foo is a string"
          ]
        }
      ],
      "source": [
        "print_type(\"foo\")"
      ],
      "id": "cell-227"
    },
    {
      "cell_type": "code",
      "execution_count": 58,
      "metadata": {},
      "outputs": [],
      "source": [
        "print_type([1, 2, 3])"
      ],
      "id": "cell-228"
    },
    {
      "cell_type": "markdown",
      "metadata": {},
      "source": [
        "#### Other types of functions\n",
        "\n",
        "Julia supports a short function definition for one-liners"
      ],
      "id": "fd4fb155-f398-483c-ad4c-160e5903c9fc"
    },
    {
      "cell_type": "code",
      "execution_count": null,
      "metadata": {},
      "outputs": [],
      "source": [
        "f(x::Float64) = x^2.0\n",
        "f(x::Int64) = x^3"
      ],
      "id": "cell-230"
    },
    {
      "cell_type": "markdown",
      "metadata": {},
      "source": [
        "As well as a special syntax for anonymous functions"
      ],
      "id": "324ee565-8dfa-40ed-891c-8187211c624a"
    },
    {
      "cell_type": "code",
      "execution_count": null,
      "metadata": {},
      "outputs": [],
      "source": [
        "u->u^2"
      ],
      "id": "cell-232"
    },
    {
      "cell_type": "code",
      "execution_count": null,
      "metadata": {},
      "outputs": [],
      "source": [
        "map(u->u^2, [1,2,3,4])"
      ],
      "id": "cell-233"
    },
    {
      "cell_type": "markdown",
      "metadata": {},
      "source": [
        "### Keyword arguments and optional arguments"
      ],
      "id": "df0de4a5-9b31-45a5-91b2-58d33bec1add"
    },
    {
      "cell_type": "code",
      "execution_count": 59,
      "metadata": {},
      "outputs": [],
      "source": [
        "f(a,b,c=true; algo=\"newton\")"
      ],
      "id": "cell-235"
    },
    {
      "cell_type": "markdown",
      "metadata": {},
      "source": [
        "### Packing/unpacking"
      ],
      "id": "74ae4dfe-5afa-4773-bd9f-0e1db50fdd61"
    },
    {
      "cell_type": "code",
      "execution_count": 60,
      "metadata": {},
      "outputs": [
        {
          "output_type": "display_data",
          "metadata": {},
          "data": {
            "text/plain": [
              "(1, 2, 4)"
            ]
          }
        }
      ],
      "source": [
        "t = (1,2,4)"
      ],
      "id": "cell-237"
    },
    {
      "cell_type": "code",
      "execution_count": 61,
      "metadata": {},
      "outputs": [
        {
          "output_type": "display_data",
          "metadata": {},
          "data": {
            "text/plain": [
              "(1, 2, 4)"
            ]
          }
        }
      ],
      "source": [
        "a,b,c = t"
      ],
      "id": "cell-238"
    },
    {
      "cell_type": "code",
      "execution_count": 65,
      "metadata": {},
      "outputs": [
        {
          "output_type": "display_data",
          "metadata": {},
          "data": {
            "text/plain": [
              "10-element Array{Int64,1}:\n",
              "  1\n",
              "  2\n",
              "  3\n",
              "  4\n",
              "  5\n",
              "  6\n",
              "  7\n",
              "  8\n",
              "  9\n",
              " 10"
            ]
          }
        }
      ],
      "source": [
        "[(1:10)...]"
      ],
      "id": "cell-239"
    },
    {
      "cell_type": "code",
      "execution_count": 66,
      "metadata": {},
      "outputs": [
        {
          "output_type": "display_data",
          "metadata": {},
          "data": {
            "text/plain": [
              "4-element Array{Int64,1}:\n",
              " 4\n",
              " 3\n",
              " 0\n",
              " 1"
            ]
          }
        }
      ],
      "source": [
        "cat([4,3], [0,1]; dims=1)"
      ],
      "id": "cell-240"
    },
    {
      "cell_type": "code",
      "execution_count": 67,
      "metadata": {},
      "outputs": [
        {
          "output_type": "display_data",
          "metadata": {},
          "data": {
            "text/plain": [
              "8-element Array{Int64,1}:\n",
              " 4\n",
              " 3\n",
              " 0\n",
              " 1\n",
              " 0\n",
              " 0\n",
              " 1\n",
              " 1"
            ]
          }
        }
      ],
      "source": [
        "l = [[4,3], [0,1], [0, 0], [1, 1]]\n",
        "# how do I concatenate it ?\n",
        "\n",
        "cat(l...; dims=1) ### see python's f(*s)"
      ],
      "id": "cell-241"
    },
    {
      "cell_type": "markdown",
      "metadata": {},
      "source": [
        "### Writing Julian Code\n",
        "\n",
        "As we’ve seen, you can use Julia just like you use MATLAB and get faster\n",
        "code. However, to write faster and *better* code, attempt to write in a\n",
        "“Julian” manner:\n",
        "\n",
        "-   Define composite types as logically needed\n",
        "-   Write type-stable functions for best performance\n",
        "-   Take advantage of multiple dispatch to write code that looks like\n",
        "    math\n",
        "-   Add methods to existing functions\n",
        "\n",
        "### Just-in-Time Compilation\n",
        "\n",
        "How is Julia so fast? Julia is just-in-time (JIT) compiled, which means\n",
        "(according to [this StackExchange\n",
        "answer](http://stackoverflow.com/questions/95635/what-does-a-just-in-time-jit-compiler-do)):\n",
        "\n",
        "> A JIT compiler runs after the program has started and compiles the\n",
        "> code (usually bytecode or some kind of VM instructions) on the fly (or\n",
        "> just-in-time, as it’s called) into a form that’s usually faster,\n",
        "> typically the host CPU’s native instruction set. *A JIT has access to\n",
        "> dynamic runtime information whereas a standard compiler doesn’t and\n",
        "> can make better optimizations like inlining functions that are used\n",
        "> frequently.*\n",
        "\n",
        "> This is in contrast to a traditional compiler that compiles all the\n",
        "> code to machine language before the program is first run.\n",
        "\n",
        "In particular, Julia uses type information at runtime to optimize how\n",
        "your code is compiled. This is why writing type-stable code makes such a\n",
        "difference in speed!\n",
        "\n",
        "## Additional Exercises\n",
        "\n",
        "Taken from QuantEcon’s [Julia\n",
        "Essentials](https://lectures.quantecon.org/jl/julia_essentials.html) and\n",
        "[Vectors, Arrays, and\n",
        "Matrices](https://lectures.quantecon.org/jl/julia_arrays.html) lectures.\n",
        "\n",
        "1.  Consider the polynomial $$p(x) = \\sum_{i=0}^n a_0 x^0$$ Using\n",
        "    `enumerate`, write a function `p` such that `p(x, coeff)` computes\n",
        "    the value of the polynomial with coefficients `coeff` evaluated at\n",
        "    `x`."
      ],
      "id": "a5116682-c1f4-4d94-b9e9-747183a265f0"
    },
    {
      "cell_type": "code",
      "execution_count": 75,
      "metadata": {},
      "outputs": [
        {
          "output_type": "display_data",
          "metadata": {},
          "data": {
            "text/plain": [
              "ppp (generic function with 1 method)"
            ]
          }
        }
      ],
      "source": [],
      "id": "cell-246"
    },
    {
      "cell_type": "markdown",
      "metadata": {},
      "source": [
        "1.  Write a function `solve_discrete_lyapunov` that solves the discrete\n",
        "    Lyapunov equation $$S = ASA' + \\Sigma \\Sigma'$$ using the iterative\n",
        "    procedure $$S_0 = \\Sigma \\Sigma'$$\n",
        "    $$S_{t+1} = A S_t A' + \\Sigma \\Sigma'$$ taking in as arguments the\n",
        "    $n \\times n$ matrix $A$, the $n \\times k$ matrix $\\Sigma$, and a\n",
        "    number of iterations."
      ],
      "id": "a12fc54e-4376-463f-87ee-d3ed4434fd33"
    }
  ],
  "nbformat": 4,
  "nbformat_minor": 5,
  "metadata": {
    "kernelspec": {
      "name": "julia-1.9",
      "display_name": "Julia 1.9.3",
      "language": "julia"
    },
    "language_info": {
      "name": "julia",
      "file_extension": ".jl",
      "mimetype": "application/julia",
      "version": "1.9.3"
    }
  }
}