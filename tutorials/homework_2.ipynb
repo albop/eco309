{
 "cells": [
  {
   "cell_type": "markdown",
   "metadata": {},
   "source": [
    "# Homework 2\n",
    "\n",
    "Last Name: \n",
    "\n",
    "First Name:\n",
    "\n",
    "\n",
    "The goal of this second homework is to replicate some famous results from classical Business Cycle analysis.\n",
    "\n",
    "As usual, you are allowed to install any library, and encouraged to help each other. Copying/pasting is not allowed though.\n",
    "\n",
    "The notebook will be evaluated along three dimensions:\n",
    "- correctness (whether you answered the questions correctly)\n",
    "- readibility\n",
    "- originality (there are bonus points if you took some nice initiative)\n",
    "\n",
    "Homeworks should be handled by midnight on **June 26th**."
   ]
  },
  {
   "cell_type": "markdown",
   "metadata": {},
   "source": [
    "## Measuring business cycles moments"
   ]
  },
  {
   "cell_type": "markdown",
   "metadata": {},
   "source": [
    "__Choose a country. Download data for production, investment, consumption at *quarterly* frequency using dBnomics or any other method.__"
   ]
  },
  {
   "cell_type": "code",
   "execution_count": null,
   "metadata": {},
   "outputs": [],
   "source": []
  },
  {
   "cell_type": "markdown",
   "metadata": {},
   "source": [
    "__Describe the data briefly (source, the spanning period, ...)__"
   ]
  },
  {
   "cell_type": "code",
   "execution_count": null,
   "metadata": {},
   "outputs": [],
   "source": []
  },
  {
   "cell_type": "markdown",
   "metadata": {},
   "source": [
    "__Detrend the data using the HP filter with the appropriate smoothing parameter $\\lambda$. For each series $y_t$ it yields a decomposition between the trend $\\tau_t$ and the cycle $c_t$.__"
   ]
  },
  {
   "cell_type": "code",
   "execution_count": null,
   "metadata": {},
   "outputs": [],
   "source": []
  },
  {
   "cell_type": "markdown",
   "metadata": {},
   "source": [
    "__Plot for each series, the decomposition between trend and cycle.__"
   ]
  },
  {
   "cell_type": "code",
   "execution_count": null,
   "metadata": {},
   "outputs": [],
   "source": []
  },
  {
   "cell_type": "markdown",
   "metadata": {},
   "source": [
    "__For each series compute the log-deviation from the trend $d_t =log(c_t/ \\tau_t)$.__"
   ]
  },
  {
   "cell_type": "code",
   "execution_count": null,
   "metadata": {},
   "outputs": [],
   "source": []
  },
  {
   "cell_type": "markdown",
   "metadata": {},
   "source": [
    "__Compute standard-deviations and correlations, between all three detrended series (in log deviations). Compute the ratio between the standard deviation of consumption (resp investment) and that of output. These two statistics are the ones that will be compared with the predictions of the model.__"
   ]
  },
  {
   "cell_type": "code",
   "execution_count": null,
   "metadata": {},
   "outputs": [],
   "source": []
  },
  {
   "cell_type": "markdown",
   "metadata": {},
   "source": [
    "## Solving the RBC model"
   ]
  },
  {
   "cell_type": "markdown",
   "metadata": {},
   "source": [
    "\n",
    "We consider the RBC model as in the lectures. The representative agent maximizes utility from consumption $c_t$ and labour $l_t$:\n",
    "\n",
    "$$\\max \\sum_t \\beta^t  \\left( \\frac{c^{1-\\gamma}}{1-\\gamma} + \\chi \\frac{(1-l_t)^{1-\\eta}}{1-\\eta} \\right)$$\n",
    "\n",
    "The capital is accumulated according to the following law of motion:\n",
    "\n",
    "$$k_t = (1-\\delta) k_{t-1} + i_{t-1}$$\n",
    "\n",
    "where $\\delta$ is the depreciation rate and $i_t$ is the investment.\n",
    "The productive sector combines labour and capital to produce:\n",
    "\n",
    "$$y_t = \\exp(z_t) k_t^{\\alpha} l_t^{1-\\alpha}$$\n",
    "\n",
    "with $z_t = \\rho z_{t-1} + \\epsilon_t$ being an autoregressive productivity process driven by i.i.d. shock $\\epsilon_t$ (with standard deviation $\\sigma_\\epsilon$).\n",
    "\n",
    "The budget constraint is \n",
    "\n",
    "$$y_t = c_t + i_t$$"
   ]
  },
  {
   "cell_type": "markdown",
   "metadata": {},
   "source": [
    "__Math: What are the states (s) ? The controls (x) ? The shocks (e) ?__"
   ]
  },
  {
   "cell_type": "code",
   "execution_count": null,
   "metadata": {},
   "outputs": [],
   "source": []
  },
  {
   "cell_type": "markdown",
   "metadata": {},
   "source": [
    "__Math: Write down the first order conditions for the model (for the social planner version). What are the two transition (g) equations such that $s_t = g(s_{t-1},x_{t-1},e_t)$ ? The two arbitrage (f) equations such that $f(s_t, x_t, s_{t+1}, x_{t+1})=0$ ?__"
   ]
  },
  {
   "cell_type": "code",
   "execution_count": null,
   "metadata": {},
   "outputs": [],
   "source": []
  },
  {
   "cell_type": "markdown",
   "metadata": {},
   "source": [
    "\n",
    "__Math: Write down the conditions pinning down the steady-state of the model, given that $\\chi$  in order to satisfy: $\\overline{l}=\\frac{1}{3}$.__"
   ]
  },
  {
   "cell_type": "code",
   "execution_count": null,
   "metadata": {
    "vscode": {
     "languageId": "plaintext"
    }
   },
   "outputs": [],
   "source": []
  },
  {
   "cell_type": "markdown",
   "metadata": {},
   "source": [
    "In the following questions you are expected to take the code from the `neoclassical.ipynb` notebook in order to adapt it to your need. In doing so, feel free to add comments and docstrings to the code."
   ]
  },
  {
   "cell_type": "code",
   "execution_count": null,
   "metadata": {},
   "outputs": [],
   "source": []
  },
  {
   "cell_type": "markdown",
   "metadata": {},
   "source": [
    "__Create a structure holding the parameters and the steady-state values of the model. Choose and justify briefly a *quarterly* parameterization.__"
   ]
  },
  {
   "cell_type": "code",
   "execution_count": null,
   "metadata": {},
   "outputs": [],
   "source": []
  },
  {
   "cell_type": "markdown",
   "metadata": {},
   "source": [
    "__Define the transition and arbitrage functions. Check that they are compatible with steady-state values.__"
   ]
  },
  {
   "cell_type": "code",
   "execution_count": null,
   "metadata": {},
   "outputs": [],
   "source": []
  },
  {
   "cell_type": "markdown",
   "metadata": {},
   "source": [
    "__Differentiate all equations to get the first order representation of the model.__"
   ]
  },
  {
   "cell_type": "code",
   "execution_count": null,
   "metadata": {},
   "outputs": [],
   "source": []
  },
  {
   "cell_type": "markdown",
   "metadata": {},
   "source": [
    "__Apply the time-iteration algorithm to find a solution $X$ for the controls. It approximates controls as a function of the states $\\Delta x_t = X \\Delta s_t$ (where $\\Delta$ is the deviation from the steady-state). Check that $X$ satifsfies indeed the first order model.__"
   ]
  },
  {
   "cell_type": "code",
   "execution_count": null,
   "metadata": {},
   "outputs": [],
   "source": []
  },
  {
   "cell_type": "markdown",
   "metadata": {},
   "source": [
    "__Compute matrices $P$ and $Q$ for the states so that the evolution of states is given by $$\\Delta s_t = P \\Delta s_{t-1}  + Q e_t$$__"
   ]
  },
  {
   "cell_type": "code",
   "execution_count": null,
   "metadata": {},
   "outputs": [],
   "source": []
  },
  {
   "cell_type": "markdown",
   "metadata": {},
   "source": [
    "__Check that the model is well defined, that is, that it satisfies the forward and backward stability conditions.__\n"
   ]
  },
  {
   "cell_type": "code",
   "execution_count": null,
   "metadata": {},
   "outputs": [],
   "source": []
  },
  {
   "cell_type": "markdown",
   "metadata": {},
   "source": [
    "__Write a method to make stochastic simulations of the model starting from the steady-state. Your function should use, the calibration structure and the matrices `P` and `Q` defined above. Add an option to compute the series either in deviations to the steady-state or in levels.__"
   ]
  },
  {
   "cell_type": "code",
   "execution_count": null,
   "metadata": {},
   "outputs": [],
   "source": []
  },
  {
   "cell_type": "markdown",
   "metadata": {},
   "source": [
    "__Compute 200 random draws of the model over a 40 periods horizon. For each draw, perform the same steps as in the first part (hp filter, computation of the correlations). Compare the ratio of volatility investment/output and consumption/output both in the data and in the simulated model. Comment?__"
   ]
  },
  {
   "cell_type": "code",
   "execution_count": null,
   "metadata": {},
   "outputs": [],
   "source": []
  }
 ],
 "metadata": {
  "language_info": {
   "name": "python"
  },
  "orig_nbformat": 4
 },
 "nbformat": 4,
 "nbformat_minor": 2
}
