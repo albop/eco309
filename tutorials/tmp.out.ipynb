{
  "cells": [
    {
      "cell_type": "markdown",
      "metadata": {},
      "source": [
        "# Discrete Dynamic Programming\n",
        "\n",
        "Pablo Winant\n",
        "\n",
        "## Markov Chains\n",
        "\n",
        "A worker’s employment dynamics obey the stochastic matrix\n",
        "\n",
        "$$P = \\begin{bmatrix}\n",
        "1-\\alpha & \\alpha \\\\\n",
        "\\beta & 1-\\beta\n",
        "\\end{bmatrix}$$\n",
        "\n",
        "$$P = \\begin{bmatrix}\n",
        "1-\\alpha & ... \\\\\n",
        "\\beta & ...\n",
        "\\end{bmatrix}$$\n",
        "\n",
        "with $\\alpha\\in(0,1)$ and $\\beta\\in (0,1)$. First line corresponds to\n",
        "employment, second line to unemployment.\n",
        "\n",
        "**Which is the stationary equilibrium? (choose any value for $\\alpha$\n",
        "and $\\beta$)**\n",
        "\n",
        "**In the long run, what will the the fraction $p$ of time spent\n",
        "unemployed? (Denote by $X_m$ the fraction of dates were one is\n",
        "unemployed)**\n",
        "\n",
        "**Illustrate this convergence by generating a simulated series of length\n",
        "10000 starting at $X_0=1$. Plot $X_m-p$ against $m$. (Take\n",
        "$\\alpha=\\beta=0.1$).**\n",
        "\n",
        "## Basic Asset Pricing model\n",
        "\n",
        "A financial asset yields dividend $(x_t)$, which follows an AR1. It is\n",
        "evaluated using the stochastic discount factor:\n",
        "$\\rho_{0,t} = \\beta^t \\exp(y_t)$ where $\\beta<1$ and $y_t$ is an $AR1$.\n",
        "The price of the asset is given by\n",
        "$p_0 = \\sum_{t\\geq 0} \\rho_{0,t} U(x_t)$ where\n",
        "$U(u)=\\exp(u)^{0.5}/{0.5}$. Our goal is to find the pricing function\n",
        "$p(x,y)$, which yields the price of the asset in any state.\n",
        "\n",
        "**Write down the recursive equation which must be satisfied by $p$.**\n",
        "\n",
        "$$p_t = U(x_t) + \\beta E_t \\left[ \\frac{e^{y_{t+1}}}{e^{y_t}} p_{t+1} \\right]$$\n",
        "\n",
        "**Compute the ergodic distribution of $x$ and $y$.**\n",
        "\n",
        "**Discretize processes $(x_t)$ and $(y_t)$ using 2 states each. How\n",
        "would you represent the unknown $p()$?**\n",
        "\n",
        "**Solve for $p()$ using successive approximations**\n",
        "\n",
        "**Solve for $p()$ by solving a linear system (homework)**\n",
        "\n",
        "## Asset replacement (from Compecon)\n",
        "\n",
        "At the beginning of each year, a manufacturer must decide whether to\n",
        "continue to operate an aging physical asset or replace it with a new\n",
        "one.\n",
        "\n",
        "An asset that is $a$ years old yields a profit contribution $p(a)$ up to\n",
        "$n$ years, at which point, the asset becomes unsafe and must be replaced\n",
        "by law.\n",
        "\n",
        "The cost of a new asset is $c$. What replacement policy maximizes\n",
        "profits?\n",
        "\n",
        "Calibration: profit $p(a)=50-2.5a-2.5a^2$. Maximum asset age: 5 years.\n",
        "Asset replacement cost: 75, annual discount factor $\\delta=0.9$."
      ],
      "id": "3af8cd05-5d26-47cf-9ab2-558215c3de54"
    },
    {
      "cell_type": "code",
      "execution_count": 1,
      "metadata": {},
      "outputs": [
        {
          "output_type": "display_data",
          "metadata": {},
          "data": {
            "text/plain": [
              "p (generic function with 1 method)"
            ]
          }
        }
      ],
      "source": [
        "p(a) = 50-2.5a-2.5a^2"
      ],
      "id": "cell-21"
    },
    {
      "cell_type": "code",
      "execution_count": 3,
      "metadata": {},
      "outputs": [],
      "source": [
        "using Plots"
      ],
      "id": "cell-22"
    },
    {
      "cell_type": "code",
      "execution_count": 4,
      "metadata": {},
      "outputs": [
        {
          "output_type": "display_data",
          "metadata": {},
          "data": {
            "text/html": [
              "<?xml version=\"1.0\" encoding=\"utf-8\"?>\n",
              "<svg xmlns=\"http://www.w3.org/2000/svg\" xmlns:xlink=\"http://www.w3.org/1999/xlink\" width=\"600\" height=\"400\" viewBox=\"0 0 2400 1600\">\n",
              "<defs>\n",
              "  <clipPath id=\"clip710\">\n",
              "    <rect x=\"0\" y=\"0\" width=\"2400\" height=\"1600\"/>\n",
              "  </clipPath>\n",
              "</defs>\n",
              "<path clip-path=\"url(#clip710)\" d=\"M0 1600 L2400 1600 L2400 0 L0 0  Z\" fill=\"#ffffff\" fill-rule=\"evenodd\" fill-opacity=\"1\"/>\n",
              "<defs>\n",
              "  <clipPath id=\"clip711\">\n",
              "    <rect x=\"480\" y=\"0\" width=\"1681\" height=\"1600\"/>\n",
              "  </clipPath>\n",
              "</defs>\n",
              "<path clip-path=\"url(#clip710)\" d=\"M178.867 1486.45 L2352.76 1486.45 L2352.76 47.2441 L178.867 47.2441  Z\" fill=\"#ffffff\" fill-rule=\"evenodd\" fill-opacity=\"1\"/>\n",
              "<defs>\n",
              "  <clipPath id=\"clip712\">\n",
              "    <rect x=\"178\" y=\"47\" width=\"2175\" height=\"1440\"/>\n",
              "  </clipPath>\n",
              "</defs>\n",
              "<polyline clip-path=\"url(#clip712)\" style=\"stroke:#000000; stroke-linecap:round; stroke-linejoin:round; stroke-width:2; stroke-opacity:0.1; fill:none\" points=\"240.392,1486.45 240.392,47.2441 \"/>\n",
              "<polyline clip-path=\"url(#clip712)\" style=\"stroke:#000000; stroke-linecap:round; stroke-linejoin:round; stroke-width:2; stroke-opacity:0.1; fill:none\" points=\"650.56,1486.45 650.56,47.2441 \"/>\n",
              "<polyline clip-path=\"url(#clip712)\" style=\"stroke:#000000; stroke-linecap:round; stroke-linejoin:round; stroke-width:2; stroke-opacity:0.1; fill:none\" points=\"1060.73,1486.45 1060.73,47.2441 \"/>\n",
              "<polyline clip-path=\"url(#clip712)\" style=\"stroke:#000000; stroke-linecap:round; stroke-linejoin:round; stroke-width:2; stroke-opacity:0.1; fill:none\" points=\"1470.9,1486.45 1470.9,47.2441 \"/>\n",
              "<polyline clip-path=\"url(#clip712)\" style=\"stroke:#000000; stroke-linecap:round; stroke-linejoin:round; stroke-width:2; stroke-opacity:0.1; fill:none\" points=\"1881.06,1486.45 1881.06,47.2441 \"/>\n",
              "<polyline clip-path=\"url(#clip712)\" style=\"stroke:#000000; stroke-linecap:round; stroke-linejoin:round; stroke-width:2; stroke-opacity:0.1; fill:none\" points=\"2291.23,1486.45 2291.23,47.2441 \"/>\n",
              "<polyline clip-path=\"url(#clip710)\" style=\"stroke:#000000; stroke-linecap:round; stroke-linejoin:round; stroke-width:4; stroke-opacity:1; fill:none\" points=\"178.867,1486.45 2352.76,1486.45 \"/>\n",
              "<polyline clip-path=\"url(#clip710)\" style=\"stroke:#000000; stroke-linecap:round; stroke-linejoin:round; stroke-width:4; stroke-opacity:1; fill:none\" points=\"240.392,1486.45 240.392,1467.55 \"/>\n",
              "<polyline clip-path=\"url(#clip710)\" style=\"stroke:#000000; stroke-linecap:round; stroke-linejoin:round; stroke-width:4; stroke-opacity:1; fill:none\" points=\"650.56,1486.45 650.56,1467.55 \"/>\n",
              "<polyline clip-path=\"url(#clip710)\" style=\"stroke:#000000; stroke-linecap:round; stroke-linejoin:round; stroke-width:4; stroke-opacity:1; fill:none\" points=\"1060.73,1486.45 1060.73,1467.55 \"/>\n",
              "<polyline clip-path=\"url(#clip710)\" style=\"stroke:#000000; stroke-linecap:round; stroke-linejoin:round; stroke-width:4; stroke-opacity:1; fill:none\" points=\"1470.9,1486.45 1470.9,1467.55 \"/>\n",
              "<polyline clip-path=\"url(#clip710)\" style=\"stroke:#000000; stroke-linecap:round; stroke-linejoin:round; stroke-width:4; stroke-opacity:1; fill:none\" points=\"1881.06,1486.45 1881.06,1467.55 \"/>\n",
              "<polyline clip-path=\"url(#clip710)\" style=\"stroke:#000000; stroke-linecap:round; stroke-linejoin:round; stroke-width:4; stroke-opacity:1; fill:none\" points=\"2291.23,1486.45 2291.23,1467.55 \"/>\n",
              "<path clip-path=\"url(#clip710)\" d=\"M230.774 1544.91 L238.413 1544.91 L238.413 1518.55 L230.103 1520.21 L230.103 1515.95 L238.366 1514.29 L243.042 1514.29 L243.042 1544.91 L250.681 1544.91 L250.681 1548.85 L230.774 1548.85 L230.774 1544.91 Z\" fill=\"#000000\" fill-rule=\"evenodd\" fill-opacity=\"1\" /><path clip-path=\"url(#clip710)\" d=\"M645.212 1544.91 L661.532 1544.91 L661.532 1548.85 L639.587 1548.85 L639.587 1544.91 Q642.249 1542.16 646.833 1537.53 Q651.439 1532.88 652.62 1531.53 Q654.865 1529.01 655.745 1527.27 Q656.648 1525.51 656.648 1523.82 Q656.648 1521.07 654.703 1519.33 Q652.782 1517.6 649.68 1517.6 Q647.481 1517.6 645.027 1518.36 Q642.597 1519.13 639.819 1520.68 L639.819 1515.95 Q642.643 1514.82 645.097 1514.24 Q647.55 1513.66 649.587 1513.66 Q654.958 1513.66 658.152 1516.35 Q661.347 1519.03 661.347 1523.52 Q661.347 1525.65 660.536 1527.57 Q659.749 1529.47 657.643 1532.07 Q657.064 1532.74 653.962 1535.95 Q650.861 1539.15 645.212 1544.91 Z\" fill=\"#000000\" fill-rule=\"evenodd\" fill-opacity=\"1\" /><path clip-path=\"url(#clip710)\" d=\"M1064.98 1530.21 Q1068.33 1530.93 1070.21 1533.2 Q1072.1 1535.47 1072.1 1538.8 Q1072.1 1543.92 1068.59 1546.72 Q1065.07 1549.52 1058.59 1549.52 Q1056.41 1549.52 1054.1 1549.08 Q1051.8 1548.66 1049.35 1547.81 L1049.35 1543.29 Q1051.29 1544.43 1053.61 1545.01 Q1055.92 1545.58 1058.45 1545.58 Q1062.85 1545.58 1065.14 1543.85 Q1067.45 1542.11 1067.45 1538.8 Q1067.45 1535.75 1065.3 1534.03 Q1063.17 1532.3 1059.35 1532.3 L1055.32 1532.3 L1055.32 1528.45 L1059.54 1528.45 Q1062.98 1528.45 1064.81 1527.09 Q1066.64 1525.7 1066.64 1523.11 Q1066.64 1520.45 1064.74 1519.03 Q1062.87 1517.6 1059.35 1517.6 Q1057.43 1517.6 1055.23 1518.01 Q1053.03 1518.43 1050.39 1519.31 L1050.39 1515.14 Q1053.05 1514.4 1055.37 1514.03 Q1057.71 1513.66 1059.77 1513.66 Q1065.09 1513.66 1068.19 1516.09 Q1071.29 1518.5 1071.29 1522.62 Q1071.29 1525.49 1069.65 1527.48 Q1068.01 1529.45 1064.98 1530.21 Z\" fill=\"#000000\" fill-rule=\"evenodd\" fill-opacity=\"1\" /><path clip-path=\"url(#clip710)\" d=\"M1473.9 1518.36 L1462.1 1536.81 L1473.9 1536.81 L1473.9 1518.36 M1472.68 1514.29 L1478.56 1514.29 L1478.56 1536.81 L1483.49 1536.81 L1483.49 1540.7 L1478.56 1540.7 L1478.56 1548.85 L1473.9 1548.85 L1473.9 1540.7 L1458.3 1540.7 L1458.3 1536.19 L1472.68 1514.29 Z\" fill=\"#000000\" fill-rule=\"evenodd\" fill-opacity=\"1\" /><path clip-path=\"url(#clip710)\" d=\"M1871.34 1514.29 L1889.7 1514.29 L1889.7 1518.22 L1875.62 1518.22 L1875.62 1526.7 Q1876.64 1526.35 1877.66 1526.19 Q1878.68 1526 1879.7 1526 Q1885.48 1526 1888.86 1529.17 Q1892.24 1532.34 1892.24 1537.76 Q1892.24 1543.34 1888.77 1546.44 Q1885.3 1549.52 1878.98 1549.52 Q1876.8 1549.52 1874.54 1549.15 Q1872.29 1548.78 1869.88 1548.04 L1869.88 1543.34 Q1871.97 1544.47 1874.19 1545.03 Q1876.41 1545.58 1878.89 1545.58 Q1882.89 1545.58 1885.23 1543.48 Q1887.57 1541.37 1887.57 1537.76 Q1887.57 1534.15 1885.23 1532.04 Q1882.89 1529.94 1878.89 1529.94 Q1877.01 1529.94 1875.14 1530.35 Q1873.29 1530.77 1871.34 1531.65 L1871.34 1514.29 Z\" fill=\"#000000\" fill-rule=\"evenodd\" fill-opacity=\"1\" /><path clip-path=\"url(#clip710)\" d=\"M2291.64 1529.7 Q2288.49 1529.7 2286.64 1531.86 Q2284.81 1534.01 2284.81 1537.76 Q2284.81 1541.49 2286.64 1543.66 Q2288.49 1545.82 2291.64 1545.82 Q2294.78 1545.82 2296.61 1543.66 Q2298.46 1541.49 2298.46 1537.76 Q2298.46 1534.01 2296.61 1531.86 Q2294.78 1529.7 2291.64 1529.7 M2300.92 1515.05 L2300.92 1519.31 Q2299.16 1518.48 2297.35 1518.04 Q2295.57 1517.6 2293.81 1517.6 Q2289.18 1517.6 2286.73 1520.72 Q2284.3 1523.85 2283.95 1530.17 Q2285.32 1528.15 2287.38 1527.09 Q2289.44 1526 2291.91 1526 Q2297.12 1526 2300.13 1529.17 Q2303.16 1532.32 2303.16 1537.76 Q2303.16 1543.08 2300.02 1546.3 Q2296.87 1549.52 2291.64 1549.52 Q2285.64 1549.52 2282.47 1544.94 Q2279.3 1540.33 2279.3 1531.6 Q2279.3 1523.41 2283.19 1518.55 Q2287.08 1513.66 2293.63 1513.66 Q2295.39 1513.66 2297.17 1514.01 Q2298.97 1514.36 2300.92 1515.05 Z\" fill=\"#000000\" fill-rule=\"evenodd\" fill-opacity=\"1\" /><polyline clip-path=\"url(#clip712)\" style=\"stroke:#000000; stroke-linecap:round; stroke-linejoin:round; stroke-width:2; stroke-opacity:0.1; fill:none\" points=\"178.867,1355.2 2352.76,1355.2 \"/>\n",
              "<polyline clip-path=\"url(#clip712)\" style=\"stroke:#000000; stroke-linecap:round; stroke-linejoin:round; stroke-width:2; stroke-opacity:0.1; fill:none\" points=\"178.867,993.136 2352.76,993.136 \"/>\n",
              "<polyline clip-path=\"url(#clip712)\" style=\"stroke:#000000; stroke-linecap:round; stroke-linejoin:round; stroke-width:2; stroke-opacity:0.1; fill:none\" points=\"178.867,631.072 2352.76,631.072 \"/>\n",
              "<polyline clip-path=\"url(#clip712)\" style=\"stroke:#000000; stroke-linecap:round; stroke-linejoin:round; stroke-width:2; stroke-opacity:0.1; fill:none\" points=\"178.867,269.008 2352.76,269.008 \"/>\n",
              "<polyline clip-path=\"url(#clip710)\" style=\"stroke:#000000; stroke-linecap:round; stroke-linejoin:round; stroke-width:4; stroke-opacity:1; fill:none\" points=\"178.867,1486.45 178.867,47.2441 \"/>\n",
              "<polyline clip-path=\"url(#clip710)\" style=\"stroke:#000000; stroke-linecap:round; stroke-linejoin:round; stroke-width:4; stroke-opacity:1; fill:none\" points=\"178.867,1355.2 197.764,1355.2 \"/>\n",
              "<polyline clip-path=\"url(#clip710)\" style=\"stroke:#000000; stroke-linecap:round; stroke-linejoin:round; stroke-width:4; stroke-opacity:1; fill:none\" points=\"178.867,993.136 197.764,993.136 \"/>\n",
              "<polyline clip-path=\"url(#clip710)\" style=\"stroke:#000000; stroke-linecap:round; stroke-linejoin:round; stroke-width:4; stroke-opacity:1; fill:none\" points=\"178.867,631.072 197.764,631.072 \"/>\n",
              "<polyline clip-path=\"url(#clip710)\" style=\"stroke:#000000; stroke-linecap:round; stroke-linejoin:round; stroke-width:4; stroke-opacity:1; fill:none\" points=\"178.867,269.008 197.764,269.008 \"/>\n",
              "<path clip-path=\"url(#clip710)\" d=\"M50.9921 1355.65 L80.6679 1355.65 L80.6679 1359.59 L50.9921 1359.59 L50.9921 1355.65 Z\" fill=\"#000000\" fill-rule=\"evenodd\" fill-opacity=\"1\" /><path clip-path=\"url(#clip710)\" d=\"M94.7882 1368.54 L111.108 1368.54 L111.108 1372.48 L89.1632 1372.48 L89.1632 1368.54 Q91.8252 1365.79 96.4085 1361.16 Q101.015 1356.51 102.196 1355.17 Q104.441 1352.64 105.321 1350.91 Q106.223 1349.15 106.223 1347.46 Q106.223 1344.7 104.279 1342.97 Q102.358 1341.23 99.2558 1341.23 Q97.0567 1341.23 94.603 1341.99 Q92.1725 1342.76 89.3947 1344.31 L89.3947 1339.59 Q92.2188 1338.45 94.6724 1337.87 Q97.1261 1337.29 99.1632 1337.29 Q104.534 1337.29 107.728 1339.98 Q110.922 1342.67 110.922 1347.16 Q110.922 1349.29 110.112 1351.21 Q109.325 1353.1 107.219 1355.7 Q106.64 1356.37 103.538 1359.59 Q100.436 1362.78 94.7882 1368.54 Z\" fill=\"#000000\" fill-rule=\"evenodd\" fill-opacity=\"1\" /><path clip-path=\"url(#clip710)\" d=\"M130.922 1341 Q127.311 1341 125.482 1344.56 Q123.677 1348.1 123.677 1355.23 Q123.677 1362.34 125.482 1365.91 Q127.311 1369.45 130.922 1369.45 Q134.556 1369.45 136.362 1365.91 Q138.191 1362.34 138.191 1355.23 Q138.191 1348.1 136.362 1344.56 Q134.556 1341 130.922 1341 M130.922 1337.29 Q136.732 1337.29 139.788 1341.9 Q142.867 1346.48 142.867 1355.23 Q142.867 1363.96 139.788 1368.57 Q136.732 1373.15 130.922 1373.15 Q125.112 1373.15 122.033 1368.57 Q118.978 1363.96 118.978 1355.23 Q118.978 1346.48 122.033 1341.9 Q125.112 1337.29 130.922 1337.29 Z\" fill=\"#000000\" fill-rule=\"evenodd\" fill-opacity=\"1\" /><path clip-path=\"url(#clip710)\" d=\"M130.922 978.935 Q127.311 978.935 125.482 982.499 Q123.677 986.041 123.677 993.171 Q123.677 1000.28 125.482 1003.84 Q127.311 1007.38 130.922 1007.38 Q134.556 1007.38 136.362 1003.84 Q138.191 1000.28 138.191 993.171 Q138.191 986.041 136.362 982.499 Q134.556 978.935 130.922 978.935 M130.922 975.231 Q136.732 975.231 139.788 979.837 Q142.867 984.421 142.867 993.171 Q142.867 1001.9 139.788 1006.5 Q136.732 1011.09 130.922 1011.09 Q125.112 1011.09 122.033 1006.5 Q118.978 1001.9 118.978 993.171 Q118.978 984.421 122.033 979.837 Q125.112 975.231 130.922 975.231 Z\" fill=\"#000000\" fill-rule=\"evenodd\" fill-opacity=\"1\" /><path clip-path=\"url(#clip710)\" d=\"M94.7882 644.417 L111.108 644.417 L111.108 648.352 L89.1632 648.352 L89.1632 644.417 Q91.8252 641.662 96.4085 637.033 Q101.015 632.38 102.196 631.037 Q104.441 628.514 105.321 626.778 Q106.223 625.019 106.223 623.329 Q106.223 620.574 104.279 618.838 Q102.358 617.102 99.2558 617.102 Q97.0567 617.102 94.603 617.866 Q92.1725 618.63 89.3947 620.181 L89.3947 615.459 Q92.2188 614.324 94.6724 613.746 Q97.1261 613.167 99.1632 613.167 Q104.534 613.167 107.728 615.852 Q110.922 618.537 110.922 623.028 Q110.922 625.158 110.112 627.079 Q109.325 628.977 107.219 631.57 Q106.64 632.241 103.538 635.459 Q100.436 638.653 94.7882 644.417 Z\" fill=\"#000000\" fill-rule=\"evenodd\" fill-opacity=\"1\" /><path clip-path=\"url(#clip710)\" d=\"M130.922 616.871 Q127.311 616.871 125.482 620.436 Q123.677 623.977 123.677 631.107 Q123.677 638.213 125.482 641.778 Q127.311 645.32 130.922 645.32 Q134.556 645.32 136.362 641.778 Q138.191 638.213 138.191 631.107 Q138.191 623.977 136.362 620.436 Q134.556 616.871 130.922 616.871 M130.922 613.167 Q136.732 613.167 139.788 617.774 Q142.867 622.357 142.867 631.107 Q142.867 639.834 139.788 644.44 Q136.732 649.023 130.922 649.023 Q125.112 649.023 122.033 644.44 Q118.978 639.834 118.978 631.107 Q118.978 622.357 122.033 617.774 Q125.112 613.167 130.922 613.167 Z\" fill=\"#000000\" fill-rule=\"evenodd\" fill-opacity=\"1\" /><path clip-path=\"url(#clip710)\" d=\"M103.608 255.802 L91.8021 274.251 L103.608 274.251 L103.608 255.802 M102.381 251.728 L108.26 251.728 L108.26 274.251 L113.191 274.251 L113.191 278.14 L108.26 278.14 L108.26 286.288 L103.608 286.288 L103.608 278.14 L88.0058 278.14 L88.0058 273.626 L102.381 251.728 Z\" fill=\"#000000\" fill-rule=\"evenodd\" fill-opacity=\"1\" /><path clip-path=\"url(#clip710)\" d=\"M130.922 254.807 Q127.311 254.807 125.482 258.372 Q123.677 261.913 123.677 269.043 Q123.677 276.149 125.482 279.714 Q127.311 283.256 130.922 283.256 Q134.556 283.256 136.362 279.714 Q138.191 276.149 138.191 269.043 Q138.191 261.913 136.362 258.372 Q134.556 254.807 130.922 254.807 M130.922 251.103 Q136.732 251.103 139.788 255.71 Q142.867 260.293 142.867 269.043 Q142.867 277.77 139.788 282.376 Q136.732 286.959 130.922 286.959 Q125.112 286.959 122.033 282.376 Q118.978 277.77 118.978 269.043 Q118.978 260.293 122.033 255.71 Q125.112 251.103 130.922 251.103 Z\" fill=\"#000000\" fill-rule=\"evenodd\" fill-opacity=\"1\" /><polyline clip-path=\"url(#clip712)\" style=\"stroke:#009af9; stroke-linecap:round; stroke-linejoin:round; stroke-width:4; stroke-opacity:1; fill:none\" points=\"240.392,87.9763 650.56,178.492 1060.73,359.524 1470.9,631.072 1881.06,993.136 2291.23,1445.72 \"/>\n",
              "<path clip-path=\"url(#clip710)\" d=\"M2010.47 198.898 L2280.29 198.898 L2280.29 95.2176 L2010.47 95.2176  Z\" fill=\"#ffffff\" fill-rule=\"evenodd\" fill-opacity=\"1\"/>\n",
              "<polyline clip-path=\"url(#clip710)\" style=\"stroke:#000000; stroke-linecap:round; stroke-linejoin:round; stroke-width:4; stroke-opacity:1; fill:none\" points=\"2010.47,198.898 2280.29,198.898 2280.29,95.2176 2010.47,95.2176 2010.47,198.898 \"/>\n",
              "<polyline clip-path=\"url(#clip710)\" style=\"stroke:#009af9; stroke-linecap:round; stroke-linejoin:round; stroke-width:4; stroke-opacity:1; fill:none\" points=\"2034.63,147.058 2179.55,147.058 \"/>\n",
              "<path clip-path=\"url(#clip710)\" d=\"M2217.55 166.745 Q2215.75 171.375 2214.03 172.787 Q2212.32 174.199 2209.45 174.199 L2206.05 174.199 L2206.05 170.634 L2208.55 170.634 Q2210.31 170.634 2211.28 169.8 Q2212.25 168.967 2213.43 165.865 L2214.19 163.921 L2203.71 138.412 L2208.22 138.412 L2216.32 158.689 L2224.43 138.412 L2228.94 138.412 L2217.55 166.745 Z\" fill=\"#000000\" fill-rule=\"evenodd\" fill-opacity=\"1\" /><path clip-path=\"url(#clip710)\" d=\"M2236.23 160.402 L2243.87 160.402 L2243.87 134.037 L2235.56 135.703 L2235.56 131.444 L2243.82 129.778 L2248.5 129.778 L2248.5 160.402 L2256.14 160.402 L2256.14 164.338 L2236.23 164.338 L2236.23 160.402 Z\" fill=\"#000000\" fill-rule=\"evenodd\" fill-opacity=\"1\" /></svg>"
            ]
          }
        }
      ],
      "source": [
        "plot( [p(i) for i=0:5])"
      ],
      "id": "cell-23"
    },
    {
      "cell_type": "markdown",
      "metadata": {},
      "source": [
        "**Define kind of problem, the state space, the actions, the reward\n",
        "function, and the Bellman updating equation**\n",
        "\n",
        "kind of problem: - discrete/finite state and actions space - infinite\n",
        "horizon - discrete dynamic programming problem (d.m.d.p.)\n",
        "\n",
        "-   state-space: asset age $a\\in[0,1,2,3,4,5]$\n",
        "-   actions: $x(a)$ keep/replace ($\\text{replace} in false/true$ if\n",
        "    a\\<5)\n",
        "\n",
        "Bellman updating equation:\n",
        "\n",
        "$$ V(a) ← p(a) + \\delta \\begin{cases} V(0) - c \\   \\text{if x(a)=true} \\\\ V(a+1) \\text{if x(a)=false} \\\\ V(0)-c \\text{if a=5}\\end{cases}   $$\n",
        "\n",
        "**Solve the problem using Value Function Iteration**"
      ],
      "id": "c85c2839-67c8-4d9f-bbaa-0aa080c83624"
    },
    {
      "cell_type": "code",
      "execution_count": null,
      "metadata": {},
      "outputs": [],
      "source": [
        "function bellman_step()"
      ],
      "id": "cell-29"
    },
    {
      "cell_type": "markdown",
      "metadata": {},
      "source": [
        "**Solve the problem using Policy Iteration. Compare with VFI.**"
      ],
      "id": "518aed3e-9b2c-435e-bba2-72e0d63120be"
    }
  ],
  "nbformat": 4,
  "nbformat_minor": 5,
  "metadata": {
    "kernelspec": {
      "name": "julia-1.10",
      "display_name": "Julia 1.10.2",
      "language": "julia"
    },
    "language_info": {
      "name": "julia",
      "file_extension": ".jl",
      "mimetype": "application/julia",
      "version": "1.10.2"
    }
  }
}