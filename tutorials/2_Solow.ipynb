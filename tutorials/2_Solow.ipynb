{
 "cells": [
  {
   "cell_type": "markdown",
   "metadata": {
    "tags": []
   },
   "source": [
    "---\n",
    "\n",
    "## (modified) Solow model\n",
    "\n",
    "This model tries to explain long-term productivity, its relation to productivity and the speed of convergence.\n",
    "\n",
    "The setup is the following:\n",
    "\n",
    "- a country accumulates capital $k_t$\n",
    "- population $n_t$ grows at rate $g$ (so that $n_{t+1}=g n_t$)\n",
    "- capital and labour are combined to produce $y_t = A F(k_t, n_t)$ where $A>0$ is total factor productivity.\n",
    "- capital depreciates at rate $\\delta \\in ]0,1[$. Its law of motion is $k_{t+1}=(1-\\delta)k_{t}+i_{t}$ where $i_t$ is the amount invested at time $t$\n",
    "- production is either consumed or invested: $y_t = c_t + i_t$\n",
    "\n",
    "We choose a Cobb-Douglas specification with constant returns to scale $F(k_t, n_t) = k_t^{\\alpha} n_t^{1-\\alpha}$.\n",
    "\n",
    "In the Ramsey–Cass–Koopmans  model (also called neoclassical growth model), a representative agent would choose $c_t$ in every period so as to maximize an intertemporal utility like $\\sum_{t \\geq 0} \\beta^t U(c_t)$ where $\\beta \\in [0,1[$ is a time discount and $U(x)=\\frac{x^{1-\\gamma}}{1-\\gamma}$ is the instantaneous felicity.\n",
    "\n",
    "Here we follow the Solow-Swan specification and assume instead there is a fixed fraction $s\\in[0,1[$ of income in every period, which is saved and invested in every period. In other words investment (or savings) is given by:\n",
    "\n",
    "$$i_t = s y_t$$\n",
    "\n",
    "As a result, the dynamic of capital and all other variables will be backward looking and can be simulated easily."
   ]
  },
  {
   "cell_type": "markdown",
   "metadata": {},
   "source": [
    "__Calibrate parameters $\\beta$, $\\delta$ and $g$, that is, propose plausible values for them, from the litterature, or by matching some observable fact.__"
   ]
  },
  {
   "cell_type": "code",
   "execution_count": null,
   "metadata": {},
   "outputs": [],
   "source": []
  },
  {
   "cell_type": "markdown",
   "metadata": {},
   "source": [
    "__Detrend the equations of the model w.r.t. population growth. Denote the detrended variables with a hat (in the code we assume all variables are detrended and ignore the hat).__"
   ]
  },
  {
   "cell_type": "code",
   "execution_count": null,
   "metadata": {},
   "outputs": [],
   "source": []
  },
  {
   "cell_type": "markdown",
   "metadata": {},
   "source": [
    "Our goal is to compute the steady-state and assess its stability.\n",
    "\n",
    "__Compute a function `f` which returns the capital $\\hat{k}_{t+1}$ as a function of $\\hat{k_t}$. It is suggested to define `f(k::Float64, p::Dict{Symbol, Float64})` where `p` is a dictionary of parameters.__"
   ]
  },
  {
   "cell_type": "markdown",
   "metadata": {},
   "source": [
    " (note: such a dictionary can be defined as `p = Dict(:a=>0.9, :b=>4)` and accessed with brackets `p[:a]` or `p[:b]`) (note2: symbols like `:a` or `:b` are lightweight string. The content must be a valid julia identifier so that it is valid to write `a=p[:a]`)"
   ]
  },
  {
   "cell_type": "code",
   "execution_count": null,
   "metadata": {},
   "outputs": [],
   "source": []
  },
  {
   "cell_type": "markdown",
   "metadata": {},
   "source": [
    "__Starting from an initial level $\\hat{k}_0$ compute successive iterates of `f` to find the long-run level $\\overline{k}$ of capital per capita. (Bonus: produce a nice plot of the convergence)__"
   ]
  },
  {
   "cell_type": "code",
   "execution_count": null,
   "metadata": {},
   "outputs": [],
   "source": []
  },
  {
   "cell_type": "markdown",
   "metadata": {},
   "source": [
    "__What factors affect the steady-state level of capital?__"
   ]
  },
  {
   "cell_type": "code",
   "execution_count": null,
   "metadata": {},
   "outputs": [],
   "source": []
  },
  {
   "cell_type": "markdown",
   "metadata": {},
   "source": [
    "__Study the stability of $f$ around $\\overline{k}$. Which factors affect the speed of convergence towards the steady-state?__"
   ]
  },
  {
   "cell_type": "code",
   "execution_count": null,
   "metadata": {},
   "outputs": [],
   "source": []
  },
  {
   "cell_type": "markdown",
   "metadata": {},
   "source": [
    "__Compute the steady-state directly using a Newton method and compare convergence speed.__"
   ]
  },
  {
   "cell_type": "code",
   "execution_count": null,
   "metadata": {},
   "outputs": [],
   "source": []
  },
  {
   "cell_type": "markdown",
   "metadata": {},
   "source": [
    "__Suppose one tries to maximize steady-state consumption by choosing saving rate $s$. Which value would one choose?__"
   ]
  },
  {
   "cell_type": "code",
   "execution_count": null,
   "metadata": {},
   "outputs": [],
   "source": []
  },
  {
   "cell_type": "markdown",
   "metadata": {},
   "source": [
    "__(Bonus) Suppose an agent is given the intertemporal utility from the Ramsey–Cass–Koopmans model but chooses saving rate once for all. Which saving rate would one choose? Is it the same for all initial levels of capital?__\n",
    "\n"
   ]
  },
  {
   "cell_type": "code",
   "execution_count": null,
   "metadata": {},
   "outputs": [],
   "source": []
  }
 ],
 "metadata": {
  "kernelspec": {
   "display_name": "Julia 1.6.1",
   "language": "julia",
   "name": "julia-1.6"
  },
  "language_info": {
   "file_extension": ".jl",
   "mimetype": "application/julia",
   "name": "julia",
   "version": "1.6.1"
  }
 },
 "nbformat": 4,
 "nbformat_minor": 4
}
