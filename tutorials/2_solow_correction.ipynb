{
 "cells": [
  {
   "attachments": {},
   "cell_type": "markdown",
   "metadata": {},
   "source": [
    "# Convergence: Solow Model"
   ]
  },
  {
   "attachments": {},
   "cell_type": "markdown",
   "metadata": {},
   "source": [
    "### Solow Model"
   ]
  },
  {
   "attachments": {},
   "cell_type": "markdown",
   "metadata": {},
   "source": [
    "A representative agent uses capital $k_t$ to produce $y_t$ using the following production function:\n",
    "\n",
    "$$y_t = k_t^{\\alpha}$$\n",
    "\n",
    "He chooses to consume an amount $c_t \\in ]0, y_t]$ and invests what remains:\n",
    "\n",
    "$$i_t = y_t - c_t$$ \n",
    "\n",
    "He accumulates capital $k_t$ according to:\n",
    "\n",
    "$$k_{t+1} = \\left( 1-\\delta \\right) k_{t} + i_{t}$$\n",
    "\n",
    "where $\\delta$ is the depreciation rate and $i_t$ is the amount invested.\n",
    "\n",
    "The goal of the representative agent is to maximize:\n",
    "\n",
    "$$\\sum_{t\\geq 0} \\beta^t U(c_t)$$\n",
    "\n",
    "where $U(x)=\\frac{x^{1-\\gamma}}{1-\\gamma}$ and $\\beta<1$ is the discount factor.\n",
    "\n",
    "For now, we ignore the objective and assume that the saving rate $s=\\frac{c_t}{y_t}$ is constant over time."
   ]
  },
  {
   "attachments": {},
   "cell_type": "markdown",
   "metadata": {},
   "source": [
    "__Create a `NamedTuple` to hold parameter values $\\beta=0.96$, $\\delta=0.1$, $\\alpha=0.3$, $\\gamma=4$.__ "
   ]
  },
  {
   "cell_type": "code",
   "execution_count": 1,
   "metadata": {},
   "outputs": [
    {
     "data": {
      "text/plain": [
       "(β = 0.96, δ = 0.1, α = 0.3, γ = 4.0)"
      ]
     },
     "metadata": {},
     "output_type": "display_data"
    }
   ],
   "source": [
    "p = (;β=0.96, δ=0.1, α=0.3, γ=4.0)"
   ]
  },
  {
   "cell_type": "markdown",
   "metadata": {},
   "source": [
    "__Write down the formula of function $f$ such that $k_{t+1}$: $k_{t+1} = f(k_t)$.__"
   ]
  },
  {
   "attachments": {},
   "cell_type": "markdown",
   "metadata": {},
   "source": [
    "$$k_{t+1}= (1-\\delta) k_t + (1-s) k_t^{\\alpha}$$"
   ]
  },
  {
   "attachments": {},
   "cell_type": "markdown",
   "metadata": {},
   "source": [
    "__Define a function `f(k::Float64, p::NamedTuple)::Float64` to represent $f$ for a given calibration__"
   ]
  },
  {
   "cell_type": "code",
   "execution_count": 7,
   "metadata": {},
   "outputs": [
    {
     "data": {
      "text/plain": [
       "f (generic function with 2 methods)"
      ]
     },
     "metadata": {},
     "output_type": "display_data"
    }
   ],
   "source": [
    "# function f(k::Float64, p::NamedTuple)\n",
    "\n",
    "# we added a keyword argument to specify the saving rate\n",
    "function f(k, p; s=0.2)\n",
    "\n",
    "    (;α, δ) = p # keyword unpacking syntax\n",
    "\n",
    "    val = k*(1-δ) + s*k^α\n",
    "\n",
    "    return val \n",
    "end"
   ]
  },
  {
   "cell_type": "code",
   "execution_count": 6,
   "metadata": {},
   "outputs": [
    {
     "data": {
      "text/plain": [
       "0.1902374467254545"
      ]
     },
     "metadata": {},
     "output_type": "display_data"
    }
   ],
   "source": [
    "f(0.1, p)"
   ]
  },
  {
   "attachments": {},
   "cell_type": "markdown",
   "metadata": {},
   "source": [
    "__Write a function `simulate(k0::Float64, T::Int, p::NamedTuple)::Vector{Float64}` to compute the simulation over `T` periods starting from initial capital level `k0`.__"
   ]
  },
  {
   "cell_type": "code",
   "execution_count": 10,
   "metadata": {},
   "outputs": [
    {
     "data": {
      "text/plain": [
       "simulate (generic function with 1 method)"
      ]
     },
     "metadata": {},
     "output_type": "display_data"
    }
   ],
   "source": [
    "function simulate(k0, T, p; s=0.5)\n",
    "\n",
    "    sim = [k0]\n",
    "\n",
    "    for i ∈ 1:T    # same as for i in ... or for i=...\n",
    "        # in Julia, intervals contain the lower and upper bound\n",
    "        k1 = f(k0, p; s=s)\n",
    "\n",
    "        # add new value to simulation vector\n",
    "        push!(sim, k1)\n",
    "\n",
    "        k0 = k1\n",
    "    end\n",
    "\n",
    "    return sim\n",
    "end"
   ]
  },
  {
   "cell_type": "code",
   "execution_count": 11,
   "metadata": {},
   "outputs": [
    {
     "data": {
      "text/plain": [
       "101-element Vector{Float64}:\n",
       " 0.2\n",
       " 0.30340677254400195\n",
       " 0.4129080792968781\n",
       " 0.525003373019628\n",
       " 0.6373491155565568\n",
       " 0.7483344417178636\n",
       " 0.856841626057419\n",
       " 0.9620988898971137\n",
       " 1.0635841029776287\n",
       " 1.1609587708409257\n",
       " ⋮\n",
       " 2.6876186883735818\n",
       " 2.6879113388853018\n",
       " 2.6881835130861362\n",
       " 2.6884366430712516\n",
       " 2.6886720608576273\n",
       " 2.688891005366757\n",
       " 2.689094628921639\n",
       " 2.6892840032916374\n",
       " 2.6894601253165105"
      ]
     },
     "metadata": {},
     "output_type": "display_data"
    }
   ],
   "source": [
    "sim = simulate(0.5, 100, p;)"
   ]
  },
  {
   "cell_type": "code",
   "execution_count": 13,
   "metadata": {},
   "outputs": [
    {
     "data": {
      "text/plain": [
       "simulate_preallocate (generic function with 1 method)"
      ]
     },
     "metadata": {},
     "output_type": "display_data"
    }
   ],
   "source": [
    "# sometimes, we want to avoid using too much memory\n",
    "# in that case we try to do as many inplace operations as possible\n",
    "\n",
    "function simulate_preallocate(k, T, p; s=0.2)\n",
    "    v = zeros(T) # allocates memore\n",
    "    v[1] = k\n",
    "    for t = 1:(T-1)\n",
    "        k0 = v[t]\n",
    "        v[t+1] = f(k0, p; s=s)\n",
    "    end\n",
    "    return v\n",
    "end"
   ]
  },
  {
   "cell_type": "code",
   "execution_count": 18,
   "metadata": {},
   "outputs": [
    {
     "name": "stdout",
     "output_type": "stream",
     "text": [
      "  0.067737 seconds (14 allocations: 9.781 MiB)\n",
      "  0.055613 seconds (2 allocations: 7.629 MiB)\n"
     ]
    }
   ],
   "source": [
    "@time simulate(0.2, 1000000, p);\n",
    "@time simulate_preallocate(0.2, 1000000, p);"
   ]
  },
  {
   "cell_type": "markdown",
   "metadata": {},
   "source": [
    "__Make a nice plot to illustrate the convergence. Do we get convergence from any initial level of capital?__"
   ]
  },
  {
   "cell_type": "code",
   "execution_count": null,
   "metadata": {},
   "outputs": [],
   "source": [
    "pl= plot(simulate(0.5, 100, p;); label=\"baseline\", title=\"Convergence of Solow Model\")\n",
    "plot!(pl, simulate(6.0, 100, p;); label=\"high initial capital\")\n",
    "plot!(pl, simulate(0.5, 100, p;s=0.2); label=\"lower saving rate\")"
   ]
  },
  {
   "cell_type": "markdown",
   "metadata": {},
   "source": [
    "__Suppose you were interested in using `f` to compute the steady-state. What would you propose to measure convergence speed? To speed-up convergence? Implement these ideas.__"
   ]
  },
  {
   "cell_type": "code",
   "execution_count": 20,
   "metadata": {},
   "outputs": [
    {
     "data": {
      "text/plain": [
       "steady_state (generic function with 1 method)"
      ]
     },
     "metadata": {},
     "output_type": "display_data"
    }
   ],
   "source": [
    "function steady_state(p; s=0.2)\n",
    "    sim = simulate(0.1, 1000, p)\n",
    "    return sim[end]\n",
    "end"
   ]
  },
  {
   "cell_type": "code",
   "execution_count": 21,
   "metadata": {},
   "outputs": [
    {
     "data": {
      "text/plain": [
       "2.691800385264708"
      ]
     },
     "metadata": {},
     "output_type": "display_data"
    }
   ],
   "source": [
    "steady_state(p)"
   ]
  },
  {
   "cell_type": "code",
   "execution_count": null,
   "metadata": {},
   "outputs": [],
   "source": []
  }
 ],
 "metadata": {
  "kernelspec": {
   "display_name": "Julia 1.8.4",
   "language": "julia",
   "name": "julia-1.8"
  },
  "language_info": {
   "file_extension": ".jl",
   "mimetype": "application/julia",
   "name": "julia",
   "version": "1.8.4"
  }
 },
 "nbformat": 4,
 "nbformat_minor": 4
}
