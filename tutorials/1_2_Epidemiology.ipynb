{
 "cells": [
  {
   "cell_type": "markdown",
   "metadata": {},
   "source": [
    "# Tutorial: Epidemiology Models\n",
    "\n",
    "\n",
    "## Computational Economics  (ECO309)\n",
    "\n",
    "\n",
    "\n",
    "H.W. Heathcote: epidemiologic models are *deterministic models for infectious diseases which are spread by direct person-to-person contact in a population*.\n",
    "\n",
    "This kind of models has been used since by a few decades by economist, for matters that have nothing to do with health.\n",
    "\n",
    "- diffusion of information, or opinions on social medias\n",
    "- asset prices and fads\n",
    "- expectation formation for macroeconomic outcomes (ex: *The Epidemiology of Macroeconomic Expectations* by Chris Carroll)\n",
    "\n",
    "Epidemiologic models have two features that depart from standard economic models:\n",
    "\n",
    "- Agent's behaviour does not take the full system into account, an is irrational in the sense that it isn't forwards looking. Instead, an agent is given a behavioural heuristic.\n",
    "- The transitions of the whole system can be determined without solving for complex interactions first.\n",
    "\n",
    "Understanding why these two assumptions are very costly for economists will keep us busy during a big part of the course. Here we just consider two simple models as small programming exercises."
   ]
  },
  {
   "cell_type": "markdown",
   "metadata": {},
   "source": [
    "### Simple SIR model\n",
    "\n",
    "There is a continuum of agents of mass $1$. Each agent can be either \"Susceptible\" (S), \"Infected\" (I) or \"Recovered\" (R).\n",
    "In each period, one agent meets another agent drawn randomly.\n",
    "During a meeting Susceptible agents who meet an infected agent, will always catch the disease (or the fad) but are not contagious. Infected agents, have a probability $\\pi$ of being recovered. Nothing happens to Recovered agents who meet other people. No distinction is made between recovering as a healthy or a dead person.\n",
    "\n",
    "We're interested in the evolution in the number infected persons, both the speed of infection and the total amount of infected people in every period."
   ]
  },
  {
   "cell_type": "markdown",
   "metadata": {},
   "source": [
    "__Write down the transition equations for $n_I$, the number of infected people, for $n_R$ the number of recovered people and $n_S$ the number of susceptible people.__\n",
    "\n"
   ]
  },
  {
   "cell_type": "code",
   "execution_count": null,
   "metadata": {},
   "outputs": [],
   "source": []
  },
  {
   "cell_type": "markdown",
   "metadata": {},
   "source": [
    "__Compute the transition function `f` for the vector state $s_t$ returning $s_{t+1}$__\n",
    "\n"
   ]
  },
  {
   "cell_type": "code",
   "execution_count": null,
   "metadata": {},
   "outputs": [],
   "source": []
  },
  {
   "cell_type": "markdown",
   "metadata": {},
   "source": [
    "__Compute the transitions over $T$ periods. Plot the result using Plots.jl. (bonus: check against closed form solution)__\n",
    "\n"
   ]
  },
  {
   "cell_type": "code",
   "execution_count": null,
   "metadata": {},
   "outputs": [],
   "source": []
  },
  {
   "cell_type": "markdown",
   "metadata": {},
   "source": [
    "__We now assume a Susceptible person who meets an infected one has a probability $\\mu$ of catching the disease. Update the transition function. Update function $f$ and write a function of $\\mu$, $\\pi$ which returns the simulation. Compare different values of the parameters. How would you interpret \"social distancing\"? How would you choose parameters $\\Pi$ and $\\mu$__ "
   ]
  },
  {
   "cell_type": "code",
   "execution_count": null,
   "metadata": {},
   "outputs": [],
   "source": []
  },
  {
   "cell_type": "markdown",
   "metadata": {},
   "source": [
    "### A Spatial SIR model\n",
    "\n",
    "We now consider another version of the model where agents evolve in the space $\\mathcal{S}=[0,1]\\times[0,1]$. There are $N\\in\\mathbb{N}$ agent. At any date, each agent $n \\in [0,1]$  is located at $(x_n,y_n)\\in \\mathcal{S}$.\n",
    "\n",
    "Each agent moves follows a random walk bounded by $\\mathcal{S}$:\n",
    "$$x_t = \\min(\\max( x_{t-1} + \\epsilon_t, 0), 1)$$\n",
    "$$y_t = \\min(\\max( y_{t-1} + \\eta_t, 0), 1)$$\n",
    "where $\\epsilon_t$ and $\\eta_t$ are both normally distributed with standard deviation $\\sigma$.\n",
    "\n",
    "At any date, the individual state of an agent is $s_t=(x_t, y_t, h_t)$ where $h_t$ is either \"S\", \"I\" or \"R\". $v_t$ denotes the states of all agents (for instance $v_t=(s_{n,t})_n$. The health status of each agent is updated in the following way:\n",
    "\n",
    "- Agents $R$  stay $R$.\n",
    "- Agents $I$ have probability $\\pi$ to become $R$. They stay $I$ otherwise.\n",
    "- An agent of type $S$ in position $(x,y)$ has a probability $prob(x,y,S)$ to be infected that is $\\mu$ if there is another infected agent within a radius $r>0$.\n"
   ]
  },
  {
   "cell_type": "markdown",
   "metadata": {},
   "source": [
    "__Define a type `Agent`, which holds the type of an agent. The state of the whole system will be held in a `Vector[Agent]` type.__\n",
    "\n"
   ]
  },
  {
   "cell_type": "code",
   "execution_count": 2,
   "metadata": {},
   "outputs": [],
   "source": [
    "struct Status\n",
    "    state::Int8\n",
    "end\n",
    "\n",
    "struct Agent\n",
    "    x::Float64\n",
    "    y::Float64\n",
    "    status::Status\n",
    "end\n",
    "\n",
    "struct Parameters\n",
    "    π::Float64\n",
    "    μ::Float64\n",
    "    σ::Float64\n",
    "    r::Float64\n",
    "end"
   ]
  },
  {
   "cell_type": "code",
   "execution_count": 3,
   "metadata": {},
   "outputs": [
    {
     "data": {
      "text/plain": [
       "Parameters(0.1, 0.1, 0.001, 0.1)"
      ]
     },
     "execution_count": 3,
     "metadata": {},
     "output_type": "execute_result"
    }
   ],
   "source": [
    "p0 = Parameters(0.1, 0.1, 0.001, 0.1)"
   ]
  },
  {
   "cell_type": "code",
   "execution_count": 4,
   "metadata": {},
   "outputs": [
    {
     "data": {
      "text/plain": [
       "0.5635454056856684"
      ]
     },
     "execution_count": 4,
     "metadata": {},
     "output_type": "execute_result"
    }
   ],
   "source": [
    "rand() # uniform between 0 and 1"
   ]
  },
  {
   "cell_type": "code",
   "execution_count": 5,
   "metadata": {},
   "outputs": [
    {
     "data": {
      "text/plain": [
       "Status(2)"
      ]
     },
     "execution_count": 5,
     "metadata": {},
     "output_type": "execute_result"
    }
   ],
   "source": [
    "const SUSCEPTIBLE = Status(0)\n",
    "const INFECTED = Status(1)\n",
    "const RECOVERED = Status(2)"
   ]
  },
  {
   "cell_type": "code",
   "execution_count": 6,
   "metadata": {},
   "outputs": [
    {
     "data": {
      "text/plain": [
       "Agent"
      ]
     },
     "execution_count": 6,
     "metadata": {},
     "output_type": "execute_result"
    }
   ],
   "source": [
    "Agent() = Agent(rand(), rand(), SUSCEPTIBLE)"
   ]
  },
  {
   "cell_type": "code",
   "execution_count": 7,
   "metadata": {},
   "outputs": [
    {
     "data": {
      "text/plain": [
       "Agent(0.9321507308941688, 0.9125899999676816, Status(0))"
      ]
     },
     "execution_count": 7,
     "metadata": {},
     "output_type": "execute_result"
    }
   ],
   "source": [
    "Agent()"
   ]
  },
  {
   "cell_type": "code",
   "execution_count": 8,
   "metadata": {},
   "outputs": [
    {
     "data": {
      "text/plain": [
       "100"
      ]
     },
     "execution_count": 8,
     "metadata": {},
     "output_type": "execute_result"
    }
   ],
   "source": [
    "N = 100"
   ]
  },
  {
   "cell_type": "code",
   "execution_count": 9,
   "metadata": {},
   "outputs": [
    {
     "data": {
      "text/plain": [
       "100-element Vector{Agent}:\n",
       " Agent(0.628775526315654, 0.7747187339300827, Status(0))\n",
       " Agent(0.848203633522232, 0.12697652589887465, Status(0))\n",
       " Agent(0.3770730637725206, 0.6518910908952857, Status(0))\n",
       " Agent(0.5858942210794518, 0.9315300981592123, Status(0))\n",
       " Agent(0.9355437044101396, 0.01257220054159136, Status(0))\n",
       " Agent(0.0028969107658058935, 0.7063256479188373, Status(0))\n",
       " Agent(0.7093600220340011, 0.38687950925069736, Status(0))\n",
       " Agent(0.39101974989637966, 0.7702746583032465, Status(0))\n",
       " Agent(0.9780100962658798, 0.7733381341853336, Status(0))\n",
       " Agent(0.3050038561296904, 0.3910848311360444, Status(0))\n",
       " Agent(0.2852412500502912, 0.15063632807752292, Status(0))\n",
       " Agent(0.017203804189477978, 0.5087081675152239, Status(0))\n",
       " Agent(0.25535255761686404, 0.17367674782088405, Status(0))\n",
       " ⋮\n",
       " Agent(0.1941335667477393, 0.2838472092184854, Status(0))\n",
       " Agent(0.21633766104898777, 0.1966735094373273, Status(0))\n",
       " Agent(0.6831569995645241, 0.8920419336580139, Status(0))\n",
       " Agent(0.9622417953536797, 0.39182392462501126, Status(0))\n",
       " Agent(0.2739499783123305, 0.7185297915614013, Status(0))\n",
       " Agent(0.24694950085367484, 0.45228886139759705, Status(0))\n",
       " Agent(0.6297114224499756, 0.4032956358091453, Status(0))\n",
       " Agent(0.43542881147602186, 0.6126881629284924, Status(0))\n",
       " Agent(0.32287284121939286, 0.8719234425590454, Status(0))\n",
       " Agent(0.4564635812057405, 0.7335491904444007, Status(0))\n",
       " Agent(0.8603354574919857, 0.7200255521995313, Status(0))\n",
       " Agent(0.5362575560436258, 0.04291256858421444, Status(0))"
      ]
     },
     "execution_count": 9,
     "metadata": {},
     "output_type": "execute_result"
    }
   ],
   "source": [
    "population = [Agent() for i=1:N]"
   ]
  },
  {
   "cell_type": "markdown",
   "metadata": {},
   "source": [
    "__Write a function `spatial_transition(S::Vector{Agent})::Vector{Agent}` to compute the transition of the positions. Write another function `random_guess(T=100)` which simulates for $T$ periods in order to find a good initial guess.__\n",
    "\n"
   ]
  },
  {
   "cell_type": "code",
   "execution_count": 10,
   "metadata": {},
   "outputs": [
    {
     "data": {
      "text/plain": [
       "move (generic function with 1 method)"
      ]
     },
     "execution_count": 10,
     "metadata": {},
     "output_type": "execute_result"
    }
   ],
   "source": [
    "function move(agent::Agent, p::\n",
    "        Parameters)\n",
    "    x = agent.x + randn()*p.σ\n",
    "    y = agent.y + randn()*p.σ\n",
    "    return Agent(x, y, agent.status)\n",
    "end"
   ]
  },
  {
   "cell_type": "code",
   "execution_count": 11,
   "metadata": {},
   "outputs": [
    {
     "data": {
      "text/plain": [
       "Agent(0.47223716356217693, 0.6635242305673732, Status(0))"
      ]
     },
     "execution_count": 11,
     "metadata": {},
     "output_type": "execute_result"
    }
   ],
   "source": [
    "s = Agent()"
   ]
  },
  {
   "cell_type": "code",
   "execution_count": 12,
   "metadata": {},
   "outputs": [
    {
     "data": {
      "text/plain": [
       "Agent(0.47378596063805917, 0.665414145159432, Status(0))"
      ]
     },
     "execution_count": 12,
     "metadata": {},
     "output_type": "execute_result"
    }
   ],
   "source": [
    "move(s, p0)"
   ]
  },
  {
   "cell_type": "code",
   "execution_count": 13,
   "metadata": {},
   "outputs": [
    {
     "data": {
      "text/plain": [
       "spatial_transition (generic function with 1 method)"
      ]
     },
     "execution_count": 13,
     "metadata": {},
     "output_type": "execute_result"
    }
   ],
   "source": [
    "function spatial_transition(S::Vector{Agent}, p::Parameters)\n",
    "    out = [move(agent, p) for agent in S]\n",
    "    return out\n",
    "end"
   ]
  },
  {
   "cell_type": "code",
   "execution_count": 14,
   "metadata": {},
   "outputs": [
    {
     "data": {
      "text/plain": [
       "100-element Vector{Agent}:\n",
       " Agent(0.6291229889106399, 0.774070225270899, Status(0))\n",
       " Agent(0.8492560959259334, 0.12722132837173722, Status(0))\n",
       " Agent(0.3767834602439938, 0.6531753736840068, Status(0))\n",
       " Agent(0.5855802186575476, 0.9314864791265248, Status(0))\n",
       " Agent(0.9355728554104757, 0.0147052591465586, Status(0))\n",
       " Agent(0.002418270849616774, 0.7063249119204462, Status(0))\n",
       " Agent(0.707917249104527, 0.38881840471119206, Status(0))\n",
       " Agent(0.39094335960860116, 0.771927538997568, Status(0))\n",
       " Agent(0.9777438556540287, 0.7739879703309611, Status(0))\n",
       " Agent(0.3059470622744458, 0.39105261241885153, Status(0))\n",
       " Agent(0.2846707776844322, 0.1501994827208828, Status(0))\n",
       " Agent(0.016439024784622704, 0.5086506588124433, Status(0))\n",
       " Agent(0.2544781760434176, 0.17513164699524292, Status(0))\n",
       " ⋮\n",
       " Agent(0.19468554246935676, 0.28493805370350134, Status(0))\n",
       " Agent(0.2157212801784034, 0.19605624712784833, Status(0))\n",
       " Agent(0.6841183772626205, 0.8917157204512453, Status(0))\n",
       " Agent(0.9619082508405186, 0.39142752163734507, Status(0))\n",
       " Agent(0.27378095520752205, 0.7174255427828923, Status(0))\n",
       " Agent(0.24756324831567023, 0.4505642735758591, Status(0))\n",
       " Agent(0.6288632551262225, 0.40536477381800373, Status(0))\n",
       " Agent(0.4356625735283086, 0.614521653730983, Status(0))\n",
       " Agent(0.324335078005909, 0.8715459749863679, Status(0))\n",
       " Agent(0.4562206598464672, 0.7341017315886411, Status(0))\n",
       " Agent(0.8597297360316762, 0.7201195225680559, Status(0))\n",
       " Agent(0.5375863325198571, 0.04339672685778972, Status(0))"
      ]
     },
     "execution_count": 14,
     "metadata": {},
     "output_type": "execute_result"
    }
   ],
   "source": [
    "spatial_transition(population, p0)"
   ]
  },
  {
   "cell_type": "code",
   "execution_count": 15,
   "metadata": {},
   "outputs": [
    {
     "data": {
      "text/plain": [
       "random_guess (generic function with 3 methods)"
      ]
     },
     "execution_count": 15,
     "metadata": {},
     "output_type": "execute_result"
    }
   ],
   "source": [
    "function random_guess(p0, T=100, N=100)\n",
    "    population = [Agent() for n =1:N]\n",
    "    for t in 1:T\n",
    "        population = spatial_transition(population, p0)\n",
    "    end\n",
    "    return population\n",
    "    \n",
    "end"
   ]
  },
  {
   "cell_type": "code",
   "execution_count": 16,
   "metadata": {},
   "outputs": [
    {
     "data": {
      "text/plain": [
       "100-element Vector{Agent}:\n",
       " Agent(0.021148909567778883, 0.47314918146830615, Status(0))\n",
       " Agent(0.5089546321194396, 0.28884513251996013, Status(0))\n",
       " Agent(0.10491956415835271, 0.03417556625673566, Status(0))\n",
       " Agent(0.9648890196776359, 0.29156910851739715, Status(0))\n",
       " Agent(0.9550089218945547, 0.6302006590901906, Status(0))\n",
       " Agent(0.3373709215204663, 0.5974486029242638, Status(0))\n",
       " Agent(0.039620256025278466, 0.8244282387537727, Status(0))\n",
       " Agent(0.766594069080001, 0.16756944526349368, Status(0))\n",
       " Agent(0.43998997083123537, 0.38760080495602073, Status(0))\n",
       " Agent(0.8197449310709023, 0.4049939138409894, Status(0))\n",
       " Agent(0.7023572874176478, 0.9223123325033322, Status(0))\n",
       " Agent(0.7838120506296088, 0.003946385150953381, Status(0))\n",
       " Agent(0.3499841116914357, 0.4690434636787926, Status(0))\n",
       " ⋮\n",
       " Agent(0.4706292315132484, 0.9633774556626334, Status(0))\n",
       " Agent(0.11601326441296803, 0.21677391220315914, Status(0))\n",
       " Agent(0.1360317989573984, 0.3051995851284062, Status(0))\n",
       " Agent(0.06404029710874866, 0.12963451119876945, Status(0))\n",
       " Agent(0.8819544938117289, 0.34781087309163483, Status(0))\n",
       " Agent(0.30686411620952936, 0.32898742746510923, Status(0))\n",
       " Agent(0.07350006357718267, 0.2408092420737203, Status(0))\n",
       " Agent(0.3703927194187015, 0.408806625745773, Status(0))\n",
       " Agent(0.49607150587083376, 0.6952786978677291, Status(0))\n",
       " Agent(0.3300798342640545, 0.9699989839486622, Status(0))\n",
       " Agent(0.46573276741862035, 0.975095147901568, Status(0))\n",
       " Agent(0.6679626351164057, 0.31069373176474274, Status(0))"
      ]
     },
     "execution_count": 16,
     "metadata": {},
     "output_type": "execute_result"
    }
   ],
   "source": [
    "random_guess(p0)"
   ]
  },
  {
   "cell_type": "markdown",
   "metadata": {},
   "source": [
    "__Write a function `show_population` to plot all agents with different colors for different health status.__\n",
    "\n"
   ]
  },
  {
   "cell_type": "code",
   "execution_count": null,
   "metadata": {},
   "outputs": [],
   "source": []
  },
  {
   "cell_type": "code",
   "execution_count": 18,
   "metadata": {},
   "outputs": [],
   "source": [
    "import Plots: plot, plot!"
   ]
  },
  {
   "cell_type": "code",
   "execution_count": 19,
   "metadata": {},
   "outputs": [],
   "source": [
    "using Plots # imports all functions that are \"exported\""
   ]
  },
  {
   "cell_type": "code",
   "execution_count": 20,
   "metadata": {},
   "outputs": [
    {
     "name": "stderr",
     "output_type": "stream",
     "text": [
      "┌ Warning: Skipped marker arg ..\n",
      "└ @ Plots /home/pablo/.julia/packages/Plots/8K4be/src/args.jl:1230\n"
     ]
    },
    {
     "data": {
      "image/svg+xml": [
       "<?xml version=\"1.0\" encoding=\"utf-8\"?>\n",
       "<svg xmlns=\"http://www.w3.org/2000/svg\" xmlns:xlink=\"http://www.w3.org/1999/xlink\" width=\"600\" height=\"400\" viewBox=\"0 0 2400 1600\">\n",
       "<defs>\n",
       "  <clipPath id=\"clip860\">\n",
       "    <rect x=\"0\" y=\"0\" width=\"2400\" height=\"1600\"/>\n",
       "  </clipPath>\n",
       "</defs>\n",
       "<path clip-path=\"url(#clip860)\" d=\"\n",
       "M0 1600 L2400 1600 L2400 0 L0 0  Z\n",
       "  \" fill=\"#ffffff\" fill-rule=\"evenodd\" fill-opacity=\"1\"/>\n",
       "<defs>\n",
       "  <clipPath id=\"clip861\">\n",
       "    <rect x=\"480\" y=\"0\" width=\"1681\" height=\"1600\"/>\n",
       "  </clipPath>\n",
       "</defs>\n",
       "<path clip-path=\"url(#clip860)\" d=\"\n",
       "M186.274 1486.45 L2352.76 1486.45 L2352.76 47.2441 L186.274 47.2441  Z\n",
       "  \" fill=\"#ffffff\" fill-rule=\"evenodd\" fill-opacity=\"1\"/>\n",
       "<defs>\n",
       "  <clipPath id=\"clip862\">\n",
       "    <rect x=\"186\" y=\"47\" width=\"2167\" height=\"1440\"/>\n",
       "  </clipPath>\n",
       "</defs>\n",
       "<polyline clip-path=\"url(#clip862)\" style=\"stroke:#000000; stroke-linecap:butt; stroke-linejoin:round; stroke-width:2; stroke-opacity:0.1; fill:none\" points=\"\n",
       "  241.602,1486.45 241.602,47.2441 \n",
       "  \"/>\n",
       "<polyline clip-path=\"url(#clip862)\" style=\"stroke:#000000; stroke-linecap:butt; stroke-linejoin:round; stroke-width:2; stroke-opacity:0.1; fill:none\" points=\"\n",
       "  758.357,1486.45 758.357,47.2441 \n",
       "  \"/>\n",
       "<polyline clip-path=\"url(#clip862)\" style=\"stroke:#000000; stroke-linecap:butt; stroke-linejoin:round; stroke-width:2; stroke-opacity:0.1; fill:none\" points=\"\n",
       "  1275.11,1486.45 1275.11,47.2441 \n",
       "  \"/>\n",
       "<polyline clip-path=\"url(#clip862)\" style=\"stroke:#000000; stroke-linecap:butt; stroke-linejoin:round; stroke-width:2; stroke-opacity:0.1; fill:none\" points=\"\n",
       "  1791.87,1486.45 1791.87,47.2441 \n",
       "  \"/>\n",
       "<polyline clip-path=\"url(#clip862)\" style=\"stroke:#000000; stroke-linecap:butt; stroke-linejoin:round; stroke-width:2; stroke-opacity:0.1; fill:none\" points=\"\n",
       "  2308.62,1486.45 2308.62,47.2441 \n",
       "  \"/>\n",
       "<polyline clip-path=\"url(#clip860)\" style=\"stroke:#000000; stroke-linecap:butt; stroke-linejoin:round; stroke-width:4; stroke-opacity:1; fill:none\" points=\"\n",
       "  186.274,1486.45 2352.76,1486.45 \n",
       "  \"/>\n",
       "<polyline clip-path=\"url(#clip860)\" style=\"stroke:#000000; stroke-linecap:butt; stroke-linejoin:round; stroke-width:4; stroke-opacity:1; fill:none\" points=\"\n",
       "  241.602,1486.45 241.602,1467.55 \n",
       "  \"/>\n",
       "<polyline clip-path=\"url(#clip860)\" style=\"stroke:#000000; stroke-linecap:butt; stroke-linejoin:round; stroke-width:4; stroke-opacity:1; fill:none\" points=\"\n",
       "  758.357,1486.45 758.357,1467.55 \n",
       "  \"/>\n",
       "<polyline clip-path=\"url(#clip860)\" style=\"stroke:#000000; stroke-linecap:butt; stroke-linejoin:round; stroke-width:4; stroke-opacity:1; fill:none\" points=\"\n",
       "  1275.11,1486.45 1275.11,1467.55 \n",
       "  \"/>\n",
       "<polyline clip-path=\"url(#clip860)\" style=\"stroke:#000000; stroke-linecap:butt; stroke-linejoin:round; stroke-width:4; stroke-opacity:1; fill:none\" points=\"\n",
       "  1791.87,1486.45 1791.87,1467.55 \n",
       "  \"/>\n",
       "<polyline clip-path=\"url(#clip860)\" style=\"stroke:#000000; stroke-linecap:butt; stroke-linejoin:round; stroke-width:4; stroke-opacity:1; fill:none\" points=\"\n",
       "  2308.62,1486.45 2308.62,1467.55 \n",
       "  \"/>\n",
       "<path clip-path=\"url(#clip860)\" d=\"M203.905 1517.37 Q200.294 1517.37 198.465 1520.93 Q196.66 1524.47 196.66 1531.6 Q196.66 1538.71 198.465 1542.27 Q200.294 1545.82 203.905 1545.82 Q207.539 1545.82 209.345 1542.27 Q211.173 1538.71 211.173 1531.6 Q211.173 1524.47 209.345 1520.93 Q207.539 1517.37 203.905 1517.37 M203.905 1513.66 Q209.715 1513.66 212.771 1518.27 Q215.849 1522.85 215.849 1531.6 Q215.849 1540.33 212.771 1544.94 Q209.715 1549.52 203.905 1549.52 Q198.095 1549.52 195.016 1544.94 Q191.961 1540.33 191.961 1531.6 Q191.961 1522.85 195.016 1518.27 Q198.095 1513.66 203.905 1513.66 Z\" fill=\"#000000\" fill-rule=\"evenodd\" fill-opacity=\"1\" /><path clip-path=\"url(#clip860)\" d=\"M224.067 1542.97 L228.951 1542.97 L228.951 1548.85 L224.067 1548.85 L224.067 1542.97 Z\" fill=\"#000000\" fill-rule=\"evenodd\" fill-opacity=\"1\" /><path clip-path=\"url(#clip860)\" d=\"M249.136 1517.37 Q245.525 1517.37 243.696 1520.93 Q241.891 1524.47 241.891 1531.6 Q241.891 1538.71 243.696 1542.27 Q245.525 1545.82 249.136 1545.82 Q252.77 1545.82 254.576 1542.27 Q256.405 1538.71 256.405 1531.6 Q256.405 1524.47 254.576 1520.93 Q252.77 1517.37 249.136 1517.37 M249.136 1513.66 Q254.946 1513.66 258.002 1518.27 Q261.081 1522.85 261.081 1531.6 Q261.081 1540.33 258.002 1544.94 Q254.946 1549.52 249.136 1549.52 Q243.326 1549.52 240.247 1544.94 Q237.192 1540.33 237.192 1531.6 Q237.192 1522.85 240.247 1518.27 Q243.326 1513.66 249.136 1513.66 Z\" fill=\"#000000\" fill-rule=\"evenodd\" fill-opacity=\"1\" /><path clip-path=\"url(#clip860)\" d=\"M279.298 1517.37 Q275.687 1517.37 273.858 1520.93 Q272.053 1524.47 272.053 1531.6 Q272.053 1538.71 273.858 1542.27 Q275.687 1545.82 279.298 1545.82 Q282.932 1545.82 284.738 1542.27 Q286.567 1538.71 286.567 1531.6 Q286.567 1524.47 284.738 1520.93 Q282.932 1517.37 279.298 1517.37 M279.298 1513.66 Q285.108 1513.66 288.164 1518.27 Q291.242 1522.85 291.242 1531.6 Q291.242 1540.33 288.164 1544.94 Q285.108 1549.52 279.298 1549.52 Q273.488 1549.52 270.409 1544.94 Q267.354 1540.33 267.354 1531.6 Q267.354 1522.85 270.409 1518.27 Q273.488 1513.66 279.298 1513.66 Z\" fill=\"#000000\" fill-rule=\"evenodd\" fill-opacity=\"1\" /><path clip-path=\"url(#clip860)\" d=\"M721.158 1517.37 Q717.547 1517.37 715.718 1520.93 Q713.913 1524.47 713.913 1531.6 Q713.913 1538.71 715.718 1542.27 Q717.547 1545.82 721.158 1545.82 Q724.792 1545.82 726.598 1542.27 Q728.426 1538.71 728.426 1531.6 Q728.426 1524.47 726.598 1520.93 Q724.792 1517.37 721.158 1517.37 M721.158 1513.66 Q726.968 1513.66 730.024 1518.27 Q733.102 1522.85 733.102 1531.6 Q733.102 1540.33 730.024 1544.94 Q726.968 1549.52 721.158 1549.52 Q715.348 1549.52 712.269 1544.94 Q709.214 1540.33 709.214 1531.6 Q709.214 1522.85 712.269 1518.27 Q715.348 1513.66 721.158 1513.66 Z\" fill=\"#000000\" fill-rule=\"evenodd\" fill-opacity=\"1\" /><path clip-path=\"url(#clip860)\" d=\"M741.32 1542.97 L746.204 1542.97 L746.204 1548.85 L741.32 1548.85 L741.32 1542.97 Z\" fill=\"#000000\" fill-rule=\"evenodd\" fill-opacity=\"1\" /><path clip-path=\"url(#clip860)\" d=\"M760.417 1544.91 L776.736 1544.91 L776.736 1548.85 L754.792 1548.85 L754.792 1544.91 Q757.454 1542.16 762.037 1537.53 Q766.644 1532.88 767.824 1531.53 Q770.07 1529.01 770.949 1527.27 Q771.852 1525.51 771.852 1523.82 Q771.852 1521.07 769.908 1519.33 Q767.986 1517.6 764.885 1517.6 Q762.685 1517.6 760.232 1518.36 Q757.801 1519.13 755.023 1520.68 L755.023 1515.95 Q757.848 1514.82 760.301 1514.24 Q762.755 1513.66 764.792 1513.66 Q770.162 1513.66 773.357 1516.35 Q776.551 1519.03 776.551 1523.52 Q776.551 1525.65 775.741 1527.57 Q774.954 1529.47 772.847 1532.07 Q772.269 1532.74 769.167 1535.95 Q766.065 1539.15 760.417 1544.91 Z\" fill=\"#000000\" fill-rule=\"evenodd\" fill-opacity=\"1\" /><path clip-path=\"url(#clip860)\" d=\"M786.597 1514.29 L804.954 1514.29 L804.954 1518.22 L790.88 1518.22 L790.88 1526.7 Q791.898 1526.35 792.917 1526.19 Q793.935 1526 794.954 1526 Q800.741 1526 804.12 1529.17 Q807.5 1532.34 807.5 1537.76 Q807.5 1543.34 804.028 1546.44 Q800.556 1549.52 794.236 1549.52 Q792.06 1549.52 789.792 1549.15 Q787.546 1548.78 785.139 1548.04 L785.139 1543.34 Q787.222 1544.47 789.445 1545.03 Q791.667 1545.58 794.144 1545.58 Q798.148 1545.58 800.486 1543.48 Q802.824 1541.37 802.824 1537.76 Q802.824 1534.15 800.486 1532.04 Q798.148 1529.94 794.144 1529.94 Q792.269 1529.94 790.394 1530.35 Q788.542 1530.77 786.597 1531.65 L786.597 1514.29 Z\" fill=\"#000000\" fill-rule=\"evenodd\" fill-opacity=\"1\" /><path clip-path=\"url(#clip860)\" d=\"M1237.42 1517.37 Q1233.8 1517.37 1231.98 1520.93 Q1230.17 1524.47 1230.17 1531.6 Q1230.17 1538.71 1231.98 1542.27 Q1233.8 1545.82 1237.42 1545.82 Q1241.05 1545.82 1242.86 1542.27 Q1244.68 1538.71 1244.68 1531.6 Q1244.68 1524.47 1242.86 1520.93 Q1241.05 1517.37 1237.42 1517.37 M1237.42 1513.66 Q1243.23 1513.66 1246.28 1518.27 Q1249.36 1522.85 1249.36 1531.6 Q1249.36 1540.33 1246.28 1544.94 Q1243.23 1549.52 1237.42 1549.52 Q1231.61 1549.52 1228.53 1544.94 Q1225.47 1540.33 1225.47 1531.6 Q1225.47 1522.85 1228.53 1518.27 Q1231.61 1513.66 1237.42 1513.66 Z\" fill=\"#000000\" fill-rule=\"evenodd\" fill-opacity=\"1\" /><path clip-path=\"url(#clip860)\" d=\"M1257.58 1542.97 L1262.46 1542.97 L1262.46 1548.85 L1257.58 1548.85 L1257.58 1542.97 Z\" fill=\"#000000\" fill-rule=\"evenodd\" fill-opacity=\"1\" /><path clip-path=\"url(#clip860)\" d=\"M1272.69 1514.29 L1291.05 1514.29 L1291.05 1518.22 L1276.98 1518.22 L1276.98 1526.7 Q1277.99 1526.35 1279.01 1526.19 Q1280.03 1526 1281.05 1526 Q1286.84 1526 1290.22 1529.17 Q1293.6 1532.34 1293.6 1537.76 Q1293.6 1543.34 1290.12 1546.44 Q1286.65 1549.52 1280.33 1549.52 Q1278.16 1549.52 1275.89 1549.15 Q1273.64 1548.78 1271.23 1548.04 L1271.23 1543.34 Q1273.32 1544.47 1275.54 1545.03 Q1277.76 1545.58 1280.24 1545.58 Q1284.24 1545.58 1286.58 1543.48 Q1288.92 1541.37 1288.92 1537.76 Q1288.92 1534.15 1286.58 1532.04 Q1284.24 1529.94 1280.24 1529.94 Q1278.36 1529.94 1276.49 1530.35 Q1274.64 1530.77 1272.69 1531.65 L1272.69 1514.29 Z\" fill=\"#000000\" fill-rule=\"evenodd\" fill-opacity=\"1\" /><path clip-path=\"url(#clip860)\" d=\"M1312.81 1517.37 Q1309.2 1517.37 1307.37 1520.93 Q1305.56 1524.47 1305.56 1531.6 Q1305.56 1538.71 1307.37 1542.27 Q1309.2 1545.82 1312.81 1545.82 Q1316.44 1545.82 1318.25 1542.27 Q1320.08 1538.71 1320.08 1531.6 Q1320.08 1524.47 1318.25 1520.93 Q1316.44 1517.37 1312.81 1517.37 M1312.81 1513.66 Q1318.62 1513.66 1321.67 1518.27 Q1324.75 1522.85 1324.75 1531.6 Q1324.75 1540.33 1321.67 1544.94 Q1318.62 1549.52 1312.81 1549.52 Q1307 1549.52 1303.92 1544.94 Q1300.86 1540.33 1300.86 1531.6 Q1300.86 1522.85 1303.92 1518.27 Q1307 1513.66 1312.81 1513.66 Z\" fill=\"#000000\" fill-rule=\"evenodd\" fill-opacity=\"1\" /><path clip-path=\"url(#clip860)\" d=\"M1754.67 1517.37 Q1751.06 1517.37 1749.23 1520.93 Q1747.42 1524.47 1747.42 1531.6 Q1747.42 1538.71 1749.23 1542.27 Q1751.06 1545.82 1754.67 1545.82 Q1758.3 1545.82 1760.11 1542.27 Q1761.94 1538.71 1761.94 1531.6 Q1761.94 1524.47 1760.11 1520.93 Q1758.3 1517.37 1754.67 1517.37 M1754.67 1513.66 Q1760.48 1513.66 1763.53 1518.27 Q1766.61 1522.85 1766.61 1531.6 Q1766.61 1540.33 1763.53 1544.94 Q1760.48 1549.52 1754.67 1549.52 Q1748.86 1549.52 1745.78 1544.94 Q1742.72 1540.33 1742.72 1531.6 Q1742.72 1522.85 1745.78 1518.27 Q1748.86 1513.66 1754.67 1513.66 Z\" fill=\"#000000\" fill-rule=\"evenodd\" fill-opacity=\"1\" /><path clip-path=\"url(#clip860)\" d=\"M1774.83 1542.97 L1779.71 1542.97 L1779.71 1548.85 L1774.83 1548.85 L1774.83 1542.97 Z\" fill=\"#000000\" fill-rule=\"evenodd\" fill-opacity=\"1\" /><path clip-path=\"url(#clip860)\" d=\"M1788.72 1514.29 L1810.94 1514.29 L1810.94 1516.28 L1798.4 1548.85 L1793.51 1548.85 L1805.32 1518.22 L1788.72 1518.22 L1788.72 1514.29 Z\" fill=\"#000000\" fill-rule=\"evenodd\" fill-opacity=\"1\" /><path clip-path=\"url(#clip860)\" d=\"M1820.11 1514.29 L1838.46 1514.29 L1838.46 1518.22 L1824.39 1518.22 L1824.39 1526.7 Q1825.41 1526.35 1826.43 1526.19 Q1827.45 1526 1828.46 1526 Q1834.25 1526 1837.63 1529.17 Q1841.01 1532.34 1841.01 1537.76 Q1841.01 1543.34 1837.54 1546.44 Q1834.07 1549.52 1827.75 1549.52 Q1825.57 1549.52 1823.3 1549.15 Q1821.06 1548.78 1818.65 1548.04 L1818.65 1543.34 Q1820.73 1544.47 1822.96 1545.03 Q1825.18 1545.58 1827.65 1545.58 Q1831.66 1545.58 1834 1543.48 Q1836.33 1541.37 1836.33 1537.76 Q1836.33 1534.15 1834 1532.04 Q1831.66 1529.94 1827.65 1529.94 Q1825.78 1529.94 1823.9 1530.35 Q1822.05 1530.77 1820.11 1531.65 L1820.11 1514.29 Z\" fill=\"#000000\" fill-rule=\"evenodd\" fill-opacity=\"1\" /><path clip-path=\"url(#clip860)\" d=\"M2260.69 1544.91 L2268.33 1544.91 L2268.33 1518.55 L2260.02 1520.21 L2260.02 1515.95 L2268.29 1514.29 L2272.96 1514.29 L2272.96 1544.91 L2280.6 1544.91 L2280.6 1548.85 L2260.69 1548.85 L2260.69 1544.91 Z\" fill=\"#000000\" fill-rule=\"evenodd\" fill-opacity=\"1\" /><path clip-path=\"url(#clip860)\" d=\"M2290.05 1542.97 L2294.93 1542.97 L2294.93 1548.85 L2290.05 1548.85 L2290.05 1542.97 Z\" fill=\"#000000\" fill-rule=\"evenodd\" fill-opacity=\"1\" /><path clip-path=\"url(#clip860)\" d=\"M2315.12 1517.37 Q2311.5 1517.37 2309.68 1520.93 Q2307.87 1524.47 2307.87 1531.6 Q2307.87 1538.71 2309.68 1542.27 Q2311.5 1545.82 2315.12 1545.82 Q2318.75 1545.82 2320.56 1542.27 Q2322.38 1538.71 2322.38 1531.6 Q2322.38 1524.47 2320.56 1520.93 Q2318.75 1517.37 2315.12 1517.37 M2315.12 1513.66 Q2320.93 1513.66 2323.98 1518.27 Q2327.06 1522.85 2327.06 1531.6 Q2327.06 1540.33 2323.98 1544.94 Q2320.93 1549.52 2315.12 1549.52 Q2309.31 1549.52 2306.23 1544.94 Q2303.17 1540.33 2303.17 1531.6 Q2303.17 1522.85 2306.23 1518.27 Q2309.31 1513.66 2315.12 1513.66 Z\" fill=\"#000000\" fill-rule=\"evenodd\" fill-opacity=\"1\" /><path clip-path=\"url(#clip860)\" d=\"M2345.28 1517.37 Q2341.67 1517.37 2339.84 1520.93 Q2338.03 1524.47 2338.03 1531.6 Q2338.03 1538.71 2339.84 1542.27 Q2341.67 1545.82 2345.28 1545.82 Q2348.91 1545.82 2350.72 1542.27 Q2352.55 1538.71 2352.55 1531.6 Q2352.55 1524.47 2350.72 1520.93 Q2348.91 1517.37 2345.28 1517.37 M2345.28 1513.66 Q2351.09 1513.66 2354.14 1518.27 Q2357.22 1522.85 2357.22 1531.6 Q2357.22 1540.33 2354.14 1544.94 Q2351.09 1549.52 2345.28 1549.52 Q2339.47 1549.52 2336.39 1544.94 Q2333.33 1540.33 2333.33 1531.6 Q2333.33 1522.85 2336.39 1518.27 Q2339.47 1513.66 2345.28 1513.66 Z\" fill=\"#000000\" fill-rule=\"evenodd\" fill-opacity=\"1\" /><polyline clip-path=\"url(#clip862)\" style=\"stroke:#000000; stroke-linecap:butt; stroke-linejoin:round; stroke-width:2; stroke-opacity:0.1; fill:none\" points=\"\n",
       "  186.274,1449.91 2352.76,1449.91 \n",
       "  \"/>\n",
       "<polyline clip-path=\"url(#clip862)\" style=\"stroke:#000000; stroke-linecap:butt; stroke-linejoin:round; stroke-width:2; stroke-opacity:0.1; fill:none\" points=\"\n",
       "  186.274,1105.19 2352.76,1105.19 \n",
       "  \"/>\n",
       "<polyline clip-path=\"url(#clip862)\" style=\"stroke:#000000; stroke-linecap:butt; stroke-linejoin:round; stroke-width:2; stroke-opacity:0.1; fill:none\" points=\"\n",
       "  186.274,760.48 2352.76,760.48 \n",
       "  \"/>\n",
       "<polyline clip-path=\"url(#clip862)\" style=\"stroke:#000000; stroke-linecap:butt; stroke-linejoin:round; stroke-width:2; stroke-opacity:0.1; fill:none\" points=\"\n",
       "  186.274,415.766 2352.76,415.766 \n",
       "  \"/>\n",
       "<polyline clip-path=\"url(#clip862)\" style=\"stroke:#000000; stroke-linecap:butt; stroke-linejoin:round; stroke-width:2; stroke-opacity:0.1; fill:none\" points=\"\n",
       "  186.274,71.0532 2352.76,71.0532 \n",
       "  \"/>\n",
       "<polyline clip-path=\"url(#clip860)\" style=\"stroke:#000000; stroke-linecap:butt; stroke-linejoin:round; stroke-width:4; stroke-opacity:1; fill:none\" points=\"\n",
       "  186.274,1486.45 186.274,47.2441 \n",
       "  \"/>\n",
       "<polyline clip-path=\"url(#clip860)\" style=\"stroke:#000000; stroke-linecap:butt; stroke-linejoin:round; stroke-width:4; stroke-opacity:1; fill:none\" points=\"\n",
       "  186.274,1449.91 205.172,1449.91 \n",
       "  \"/>\n",
       "<polyline clip-path=\"url(#clip860)\" style=\"stroke:#000000; stroke-linecap:butt; stroke-linejoin:round; stroke-width:4; stroke-opacity:1; fill:none\" points=\"\n",
       "  186.274,1105.19 205.172,1105.19 \n",
       "  \"/>\n",
       "<polyline clip-path=\"url(#clip860)\" style=\"stroke:#000000; stroke-linecap:butt; stroke-linejoin:round; stroke-width:4; stroke-opacity:1; fill:none\" points=\"\n",
       "  186.274,760.48 205.172,760.48 \n",
       "  \"/>\n",
       "<polyline clip-path=\"url(#clip860)\" style=\"stroke:#000000; stroke-linecap:butt; stroke-linejoin:round; stroke-width:4; stroke-opacity:1; fill:none\" points=\"\n",
       "  186.274,415.766 205.172,415.766 \n",
       "  \"/>\n",
       "<polyline clip-path=\"url(#clip860)\" style=\"stroke:#000000; stroke-linecap:butt; stroke-linejoin:round; stroke-width:4; stroke-opacity:1; fill:none\" points=\"\n",
       "  186.274,71.0532 205.172,71.0532 \n",
       "  \"/>\n",
       "<path clip-path=\"url(#clip860)\" d=\"M62.9365 1435.7 Q59.3254 1435.7 57.4967 1439.27 Q55.6912 1442.81 55.6912 1449.94 Q55.6912 1457.05 57.4967 1460.61 Q59.3254 1464.15 62.9365 1464.15 Q66.5707 1464.15 68.3763 1460.61 Q70.205 1457.05 70.205 1449.94 Q70.205 1442.81 68.3763 1439.27 Q66.5707 1435.7 62.9365 1435.7 M62.9365 1432 Q68.7467 1432 71.8022 1436.61 Q74.8809 1441.19 74.8809 1449.94 Q74.8809 1458.67 71.8022 1463.27 Q68.7467 1467.86 62.9365 1467.86 Q57.1264 1467.86 54.0477 1463.27 Q50.9921 1458.67 50.9921 1449.94 Q50.9921 1441.19 54.0477 1436.61 Q57.1264 1432 62.9365 1432 Z\" fill=\"#000000\" fill-rule=\"evenodd\" fill-opacity=\"1\" /><path clip-path=\"url(#clip860)\" d=\"M83.0984 1461.31 L87.9827 1461.31 L87.9827 1467.19 L83.0984 1467.19 L83.0984 1461.31 Z\" fill=\"#000000\" fill-rule=\"evenodd\" fill-opacity=\"1\" /><path clip-path=\"url(#clip860)\" d=\"M108.168 1435.7 Q104.557 1435.7 102.728 1439.27 Q100.922 1442.81 100.922 1449.94 Q100.922 1457.05 102.728 1460.61 Q104.557 1464.15 108.168 1464.15 Q111.802 1464.15 113.608 1460.61 Q115.436 1457.05 115.436 1449.94 Q115.436 1442.81 113.608 1439.27 Q111.802 1435.7 108.168 1435.7 M108.168 1432 Q113.978 1432 117.033 1436.61 Q120.112 1441.19 120.112 1449.94 Q120.112 1458.67 117.033 1463.27 Q113.978 1467.86 108.168 1467.86 Q102.358 1467.86 99.2789 1463.27 Q96.2234 1458.67 96.2234 1449.94 Q96.2234 1441.19 99.2789 1436.61 Q102.358 1432 108.168 1432 Z\" fill=\"#000000\" fill-rule=\"evenodd\" fill-opacity=\"1\" /><path clip-path=\"url(#clip860)\" d=\"M138.33 1435.7 Q134.719 1435.7 132.89 1439.27 Q131.084 1442.81 131.084 1449.94 Q131.084 1457.05 132.89 1460.61 Q134.719 1464.15 138.33 1464.15 Q141.964 1464.15 143.769 1460.61 Q145.598 1457.05 145.598 1449.94 Q145.598 1442.81 143.769 1439.27 Q141.964 1435.7 138.33 1435.7 M138.33 1432 Q144.14 1432 147.195 1436.61 Q150.274 1441.19 150.274 1449.94 Q150.274 1458.67 147.195 1463.27 Q144.14 1467.86 138.33 1467.86 Q132.519 1467.86 129.441 1463.27 Q126.385 1458.67 126.385 1449.94 Q126.385 1441.19 129.441 1436.61 Q132.519 1432 138.33 1432 Z\" fill=\"#000000\" fill-rule=\"evenodd\" fill-opacity=\"1\" /><path clip-path=\"url(#clip860)\" d=\"M63.9319 1090.99 Q60.3208 1090.99 58.4921 1094.56 Q56.6865 1098.1 56.6865 1105.23 Q56.6865 1112.33 58.4921 1115.9 Q60.3208 1119.44 63.9319 1119.44 Q67.5661 1119.44 69.3717 1115.9 Q71.2004 1112.33 71.2004 1105.23 Q71.2004 1098.1 69.3717 1094.56 Q67.5661 1090.99 63.9319 1090.99 M63.9319 1087.29 Q69.742 1087.29 72.7976 1091.89 Q75.8763 1096.48 75.8763 1105.23 Q75.8763 1113.95 72.7976 1118.56 Q69.742 1123.14 63.9319 1123.14 Q58.1217 1123.14 55.043 1118.56 Q51.9875 1113.95 51.9875 1105.23 Q51.9875 1096.48 55.043 1091.89 Q58.1217 1087.29 63.9319 1087.29 Z\" fill=\"#000000\" fill-rule=\"evenodd\" fill-opacity=\"1\" /><path clip-path=\"url(#clip860)\" d=\"M84.0938 1116.59 L88.978 1116.59 L88.978 1122.47 L84.0938 1122.47 L84.0938 1116.59 Z\" fill=\"#000000\" fill-rule=\"evenodd\" fill-opacity=\"1\" /><path clip-path=\"url(#clip860)\" d=\"M103.191 1118.54 L119.51 1118.54 L119.51 1122.47 L97.566 1122.47 L97.566 1118.54 Q100.228 1115.78 104.811 1111.15 Q109.418 1106.5 110.598 1105.16 Q112.844 1102.64 113.723 1100.9 Q114.626 1099.14 114.626 1097.45 Q114.626 1094.7 112.682 1092.96 Q110.76 1091.22 107.658 1091.22 Q105.459 1091.22 103.006 1091.99 Q100.575 1092.75 97.7974 1094.3 L97.7974 1089.58 Q100.621 1088.45 103.075 1087.87 Q105.529 1087.29 107.566 1087.29 Q112.936 1087.29 116.131 1089.97 Q119.325 1092.66 119.325 1097.15 Q119.325 1099.28 118.515 1101.2 Q117.728 1103.1 115.621 1105.69 Q115.043 1106.36 111.941 1109.58 Q108.839 1112.77 103.191 1118.54 Z\" fill=\"#000000\" fill-rule=\"evenodd\" fill-opacity=\"1\" /><path clip-path=\"url(#clip860)\" d=\"M129.371 1087.91 L147.728 1087.91 L147.728 1091.85 L133.654 1091.85 L133.654 1100.32 Q134.672 1099.97 135.691 1099.81 Q136.709 1099.63 137.728 1099.63 Q143.515 1099.63 146.894 1102.8 Q150.274 1105.97 150.274 1111.39 Q150.274 1116.96 146.802 1120.07 Q143.33 1123.14 137.01 1123.14 Q134.834 1123.14 132.566 1122.77 Q130.32 1122.4 127.913 1121.66 L127.913 1116.96 Q129.996 1118.1 132.219 1118.65 Q134.441 1119.21 136.918 1119.21 Q140.922 1119.21 143.26 1117.1 Q145.598 1115 145.598 1111.39 Q145.598 1107.77 143.26 1105.67 Q140.922 1103.56 136.918 1103.56 Q135.043 1103.56 133.168 1103.98 Q131.316 1104.39 129.371 1105.27 L129.371 1087.91 Z\" fill=\"#000000\" fill-rule=\"evenodd\" fill-opacity=\"1\" /><path clip-path=\"url(#clip860)\" d=\"M62.9365 746.278 Q59.3254 746.278 57.4967 749.843 Q55.6912 753.385 55.6912 760.514 Q55.6912 767.621 57.4967 771.186 Q59.3254 774.727 62.9365 774.727 Q66.5707 774.727 68.3763 771.186 Q70.205 767.621 70.205 760.514 Q70.205 753.385 68.3763 749.843 Q66.5707 746.278 62.9365 746.278 M62.9365 742.575 Q68.7467 742.575 71.8022 747.181 Q74.8809 751.765 74.8809 760.514 Q74.8809 769.241 71.8022 773.848 Q68.7467 778.431 62.9365 778.431 Q57.1264 778.431 54.0477 773.848 Q50.9921 769.241 50.9921 760.514 Q50.9921 751.765 54.0477 747.181 Q57.1264 742.575 62.9365 742.575 Z\" fill=\"#000000\" fill-rule=\"evenodd\" fill-opacity=\"1\" /><path clip-path=\"url(#clip860)\" d=\"M83.0984 771.88 L87.9827 771.88 L87.9827 777.76 L83.0984 777.76 L83.0984 771.88 Z\" fill=\"#000000\" fill-rule=\"evenodd\" fill-opacity=\"1\" /><path clip-path=\"url(#clip860)\" d=\"M98.2141 743.2 L116.57 743.2 L116.57 747.135 L102.496 747.135 L102.496 755.607 Q103.515 755.26 104.534 755.098 Q105.552 754.913 106.571 754.913 Q112.358 754.913 115.737 758.084 Q119.117 761.255 119.117 766.672 Q119.117 772.251 115.645 775.352 Q112.172 778.431 105.853 778.431 Q103.677 778.431 101.409 778.061 Q99.1632 777.69 96.7558 776.95 L96.7558 772.251 Q98.8391 773.385 101.061 773.94 Q103.284 774.496 105.76 774.496 Q109.765 774.496 112.103 772.389 Q114.441 770.283 114.441 766.672 Q114.441 763.061 112.103 760.954 Q109.765 758.848 105.76 758.848 Q103.885 758.848 102.01 759.264 Q100.159 759.681 98.2141 760.561 L98.2141 743.2 Z\" fill=\"#000000\" fill-rule=\"evenodd\" fill-opacity=\"1\" /><path clip-path=\"url(#clip860)\" d=\"M138.33 746.278 Q134.719 746.278 132.89 749.843 Q131.084 753.385 131.084 760.514 Q131.084 767.621 132.89 771.186 Q134.719 774.727 138.33 774.727 Q141.964 774.727 143.769 771.186 Q145.598 767.621 145.598 760.514 Q145.598 753.385 143.769 749.843 Q141.964 746.278 138.33 746.278 M138.33 742.575 Q144.14 742.575 147.195 747.181 Q150.274 751.765 150.274 760.514 Q150.274 769.241 147.195 773.848 Q144.14 778.431 138.33 778.431 Q132.519 778.431 129.441 773.848 Q126.385 769.241 126.385 760.514 Q126.385 751.765 129.441 747.181 Q132.519 742.575 138.33 742.575 Z\" fill=\"#000000\" fill-rule=\"evenodd\" fill-opacity=\"1\" /><path clip-path=\"url(#clip860)\" d=\"M63.9319 401.565 Q60.3208 401.565 58.4921 405.13 Q56.6865 408.672 56.6865 415.801 Q56.6865 422.908 58.4921 426.472 Q60.3208 430.014 63.9319 430.014 Q67.5661 430.014 69.3717 426.472 Q71.2004 422.908 71.2004 415.801 Q71.2004 408.672 69.3717 405.13 Q67.5661 401.565 63.9319 401.565 M63.9319 397.861 Q69.742 397.861 72.7976 402.468 Q75.8763 407.051 75.8763 415.801 Q75.8763 424.528 72.7976 429.134 Q69.742 433.718 63.9319 433.718 Q58.1217 433.718 55.043 429.134 Q51.9875 424.528 51.9875 415.801 Q51.9875 407.051 55.043 402.468 Q58.1217 397.861 63.9319 397.861 Z\" fill=\"#000000\" fill-rule=\"evenodd\" fill-opacity=\"1\" /><path clip-path=\"url(#clip860)\" d=\"M84.0938 427.167 L88.978 427.167 L88.978 433.046 L84.0938 433.046 L84.0938 427.167 Z\" fill=\"#000000\" fill-rule=\"evenodd\" fill-opacity=\"1\" /><path clip-path=\"url(#clip860)\" d=\"M97.9826 398.486 L120.205 398.486 L120.205 400.477 L107.658 433.046 L102.774 433.046 L114.58 402.422 L97.9826 402.422 L97.9826 398.486 Z\" fill=\"#000000\" fill-rule=\"evenodd\" fill-opacity=\"1\" /><path clip-path=\"url(#clip860)\" d=\"M129.371 398.486 L147.728 398.486 L147.728 402.422 L133.654 402.422 L133.654 410.894 Q134.672 410.547 135.691 410.385 Q136.709 410.199 137.728 410.199 Q143.515 410.199 146.894 413.371 Q150.274 416.542 150.274 421.959 Q150.274 427.537 146.802 430.639 Q143.33 433.718 137.01 433.718 Q134.834 433.718 132.566 433.347 Q130.32 432.977 127.913 432.236 L127.913 427.537 Q129.996 428.672 132.219 429.227 Q134.441 429.783 136.918 429.783 Q140.922 429.783 143.26 427.676 Q145.598 425.57 145.598 421.959 Q145.598 418.347 143.26 416.241 Q140.922 414.135 136.918 414.135 Q135.043 414.135 133.168 414.551 Q131.316 414.968 129.371 415.848 L129.371 398.486 Z\" fill=\"#000000\" fill-rule=\"evenodd\" fill-opacity=\"1\" /><path clip-path=\"url(#clip860)\" d=\"M53.7467 84.398 L61.3856 84.398 L61.3856 58.0324 L53.0754 59.6991 L53.0754 55.4399 L61.3393 53.7732 L66.0152 53.7732 L66.0152 84.398 L73.654 84.398 L73.654 88.3332 L53.7467 88.3332 L53.7467 84.398 Z\" fill=\"#000000\" fill-rule=\"evenodd\" fill-opacity=\"1\" /><path clip-path=\"url(#clip860)\" d=\"M83.0984 82.4536 L87.9827 82.4536 L87.9827 88.3332 L83.0984 88.3332 L83.0984 82.4536 Z\" fill=\"#000000\" fill-rule=\"evenodd\" fill-opacity=\"1\" /><path clip-path=\"url(#clip860)\" d=\"M108.168 56.8519 Q104.557 56.8519 102.728 60.4167 Q100.922 63.9583 100.922 71.0879 Q100.922 78.1944 102.728 81.7592 Q104.557 85.3008 108.168 85.3008 Q111.802 85.3008 113.608 81.7592 Q115.436 78.1944 115.436 71.0879 Q115.436 63.9583 113.608 60.4167 Q111.802 56.8519 108.168 56.8519 M108.168 53.1482 Q113.978 53.1482 117.033 57.7547 Q120.112 62.338 120.112 71.0879 Q120.112 79.8147 117.033 84.4212 Q113.978 89.0045 108.168 89.0045 Q102.358 89.0045 99.2789 84.4212 Q96.2234 79.8147 96.2234 71.0879 Q96.2234 62.338 99.2789 57.7547 Q102.358 53.1482 108.168 53.1482 Z\" fill=\"#000000\" fill-rule=\"evenodd\" fill-opacity=\"1\" /><path clip-path=\"url(#clip860)\" d=\"M138.33 56.8519 Q134.719 56.8519 132.89 60.4167 Q131.084 63.9583 131.084 71.0879 Q131.084 78.1944 132.89 81.7592 Q134.719 85.3008 138.33 85.3008 Q141.964 85.3008 143.769 81.7592 Q145.598 78.1944 145.598 71.0879 Q145.598 63.9583 143.769 60.4167 Q141.964 56.8519 138.33 56.8519 M138.33 53.1482 Q144.14 53.1482 147.195 57.7547 Q150.274 62.338 150.274 71.0879 Q150.274 79.8147 147.195 84.4212 Q144.14 89.0045 138.33 89.0045 Q132.519 89.0045 129.441 84.4212 Q126.385 79.8147 126.385 71.0879 Q126.385 62.338 129.441 57.7547 Q132.519 53.1482 138.33 53.1482 Z\" fill=\"#000000\" fill-rule=\"evenodd\" fill-opacity=\"1\" /><circle clip-path=\"url(#clip862)\" cx=\"1541.29\" cy=\"381.683\" r=\"14\" fill=\"#009af9\" fill-rule=\"evenodd\" fill-opacity=\"1\" stroke=\"#000000\" stroke-opacity=\"1\" stroke-width=\"3.2\"/>\n",
       "<circle clip-path=\"url(#clip862)\" cx=\"1994.86\" cy=\"1274.82\" r=\"14\" fill=\"#009af9\" fill-rule=\"evenodd\" fill-opacity=\"1\" stroke=\"#000000\" stroke-opacity=\"1\" stroke-width=\"3.2\"/>\n",
       "<circle clip-path=\"url(#clip862)\" cx=\"1021.02\" cy=\"551.044\" r=\"14\" fill=\"#009af9\" fill-rule=\"evenodd\" fill-opacity=\"1\" stroke=\"#000000\" stroke-opacity=\"1\" stroke-width=\"3.2\"/>\n",
       "<circle clip-path=\"url(#clip862)\" cx=\"1452.66\" cy=\"165.463\" r=\"14\" fill=\"#009af9\" fill-rule=\"evenodd\" fill-opacity=\"1\" stroke=\"#000000\" stroke-opacity=\"1\" stroke-width=\"3.2\"/>\n",
       "<circle clip-path=\"url(#clip862)\" cx=\"2175.39\" cy=\"1432.57\" r=\"14\" fill=\"#009af9\" fill-rule=\"evenodd\" fill-opacity=\"1\" stroke=\"#000000\" stroke-opacity=\"1\" stroke-width=\"3.2\"/>\n",
       "<circle clip-path=\"url(#clip862)\" cx=\"247.59\" cy=\"475.987\" r=\"14\" fill=\"#009af9\" fill-rule=\"evenodd\" fill-opacity=\"1\" stroke=\"#000000\" stroke-opacity=\"1\" stroke-width=\"3.2\"/>\n",
       "<circle clip-path=\"url(#clip862)\" cx=\"1707.86\" cy=\"916.456\" r=\"14\" fill=\"#009af9\" fill-rule=\"evenodd\" fill-opacity=\"1\" stroke=\"#000000\" stroke-opacity=\"1\" stroke-width=\"3.2\"/>\n",
       "<circle clip-path=\"url(#clip862)\" cx=\"1049.85\" cy=\"387.811\" r=\"14\" fill=\"#009af9\" fill-rule=\"evenodd\" fill-opacity=\"1\" stroke=\"#000000\" stroke-opacity=\"1\" stroke-width=\"3.2\"/>\n",
       "<circle clip-path=\"url(#clip862)\" cx=\"2263.17\" cy=\"383.587\" r=\"14\" fill=\"#009af9\" fill-rule=\"evenodd\" fill-opacity=\"1\" stroke=\"#000000\" stroke-opacity=\"1\" stroke-width=\"3.2\"/>\n",
       "<circle clip-path=\"url(#clip862)\" cx=\"872.051\" cy=\"910.658\" r=\"14\" fill=\"#009af9\" fill-rule=\"evenodd\" fill-opacity=\"1\" stroke=\"#000000\" stroke-opacity=\"1\" stroke-width=\"3.2\"/>\n",
       "<circle clip-path=\"url(#clip862)\" cx=\"831.201\" cy=\"1242.2\" r=\"14\" fill=\"#009af9\" fill-rule=\"evenodd\" fill-opacity=\"1\" stroke=\"#000000\" stroke-opacity=\"1\" stroke-width=\"3.2\"/>\n",
       "<circle clip-path=\"url(#clip862)\" cx=\"277.162\" cy=\"748.472\" r=\"14\" fill=\"#009af9\" fill-rule=\"evenodd\" fill-opacity=\"1\" stroke=\"#000000\" stroke-opacity=\"1\" stroke-width=\"3.2\"/>\n",
       "<circle clip-path=\"url(#clip862)\" cx=\"769.421\" cy=\"1210.43\" r=\"14\" fill=\"#009af9\" fill-rule=\"evenodd\" fill-opacity=\"1\" stroke=\"#000000\" stroke-opacity=\"1\" stroke-width=\"3.2\"/>\n",
       "<circle clip-path=\"url(#clip862)\" cx=\"1001.35\" cy=\"112.062\" r=\"14\" fill=\"#009af9\" fill-rule=\"evenodd\" fill-opacity=\"1\" stroke=\"#000000\" stroke-opacity=\"1\" stroke-width=\"3.2\"/>\n",
       "<circle clip-path=\"url(#clip862)\" cx=\"1245.82\" cy=\"254.19\" r=\"14\" fill=\"#009af9\" fill-rule=\"evenodd\" fill-opacity=\"1\" stroke=\"#000000\" stroke-opacity=\"1\" stroke-width=\"3.2\"/>\n",
       "<circle clip-path=\"url(#clip862)\" cx=\"806.27\" cy=\"483.957\" r=\"14\" fill=\"#009af9\" fill-rule=\"evenodd\" fill-opacity=\"1\" stroke=\"#000000\" stroke-opacity=\"1\" stroke-width=\"3.2\"/>\n",
       "<circle clip-path=\"url(#clip862)\" cx=\"1873.16\" cy=\"775.604\" r=\"14\" fill=\"#009af9\" fill-rule=\"evenodd\" fill-opacity=\"1\" stroke=\"#000000\" stroke-opacity=\"1\" stroke-width=\"3.2\"/>\n",
       "<circle clip-path=\"url(#clip862)\" cx=\"1829.1\" cy=\"582.776\" r=\"14\" fill=\"#009af9\" fill-rule=\"evenodd\" fill-opacity=\"1\" stroke=\"#000000\" stroke-opacity=\"1\" stroke-width=\"3.2\"/>\n",
       "<circle clip-path=\"url(#clip862)\" cx=\"958.454\" cy=\"1215.28\" r=\"14\" fill=\"#009af9\" fill-rule=\"evenodd\" fill-opacity=\"1\" stroke=\"#000000\" stroke-opacity=\"1\" stroke-width=\"3.2\"/>\n",
       "<circle clip-path=\"url(#clip862)\" cx=\"645.39\" cy=\"1081.5\" r=\"14\" fill=\"#009af9\" fill-rule=\"evenodd\" fill-opacity=\"1\" stroke=\"#000000\" stroke-opacity=\"1\" stroke-width=\"3.2\"/>\n",
       "<circle clip-path=\"url(#clip862)\" cx=\"565.526\" cy=\"1226.23\" r=\"14\" fill=\"#009af9\" fill-rule=\"evenodd\" fill-opacity=\"1\" stroke=\"#000000\" stroke-opacity=\"1\" stroke-width=\"3.2\"/>\n",
       "<circle clip-path=\"url(#clip862)\" cx=\"1355.16\" cy=\"488.797\" r=\"14\" fill=\"#009af9\" fill-rule=\"evenodd\" fill-opacity=\"1\" stroke=\"#000000\" stroke-opacity=\"1\" stroke-width=\"3.2\"/>\n",
       "<circle clip-path=\"url(#clip862)\" cx=\"402.632\" cy=\"1223.21\" r=\"14\" fill=\"#009af9\" fill-rule=\"evenodd\" fill-opacity=\"1\" stroke=\"#000000\" stroke-opacity=\"1\" stroke-width=\"3.2\"/>\n",
       "<circle clip-path=\"url(#clip862)\" cx=\"1351.83\" cy=\"388.652\" r=\"14\" fill=\"#009af9\" fill-rule=\"evenodd\" fill-opacity=\"1\" stroke=\"#000000\" stroke-opacity=\"1\" stroke-width=\"3.2\"/>\n",
       "<circle clip-path=\"url(#clip862)\" cx=\"937.176\" cy=\"356.434\" r=\"14\" fill=\"#009af9\" fill-rule=\"evenodd\" fill-opacity=\"1\" stroke=\"#000000\" stroke-opacity=\"1\" stroke-width=\"3.2\"/>\n",
       "<circle clip-path=\"url(#clip862)\" cx=\"2291.44\" cy=\"324.082\" r=\"14\" fill=\"#009af9\" fill-rule=\"evenodd\" fill-opacity=\"1\" stroke=\"#000000\" stroke-opacity=\"1\" stroke-width=\"3.2\"/>\n",
       "<circle clip-path=\"url(#clip862)\" cx=\"1400.37\" cy=\"711.12\" r=\"14\" fill=\"#009af9\" fill-rule=\"evenodd\" fill-opacity=\"1\" stroke=\"#000000\" stroke-opacity=\"1\" stroke-width=\"3.2\"/>\n",
       "<circle clip-path=\"url(#clip862)\" cx=\"881.742\" cy=\"654.452\" r=\"14\" fill=\"#009af9\" fill-rule=\"evenodd\" fill-opacity=\"1\" stroke=\"#000000\" stroke-opacity=\"1\" stroke-width=\"3.2\"/>\n",
       "<circle clip-path=\"url(#clip862)\" cx=\"2073.8\" cy=\"880.162\" r=\"14\" fill=\"#009af9\" fill-rule=\"evenodd\" fill-opacity=\"1\" stroke=\"#000000\" stroke-opacity=\"1\" stroke-width=\"3.2\"/>\n",
       "<circle clip-path=\"url(#clip862)\" cx=\"929.654\" cy=\"706.179\" r=\"14\" fill=\"#009af9\" fill-rule=\"evenodd\" fill-opacity=\"1\" stroke=\"#000000\" stroke-opacity=\"1\" stroke-width=\"3.2\"/>\n",
       "<circle clip-path=\"url(#clip862)\" cx=\"1999.58\" cy=\"1290.43\" r=\"14\" fill=\"#009af9\" fill-rule=\"evenodd\" fill-opacity=\"1\" stroke=\"#000000\" stroke-opacity=\"1\" stroke-width=\"3.2\"/>\n",
       "<circle clip-path=\"url(#clip862)\" cx=\"1132.29\" cy=\"1416.71\" r=\"14\" fill=\"#009af9\" fill-rule=\"evenodd\" fill-opacity=\"1\" stroke=\"#000000\" stroke-opacity=\"1\" stroke-width=\"3.2\"/>\n",
       "<circle clip-path=\"url(#clip862)\" cx=\"1602.29\" cy=\"1398.02\" r=\"14\" fill=\"#009af9\" fill-rule=\"evenodd\" fill-opacity=\"1\" stroke=\"#000000\" stroke-opacity=\"1\" stroke-width=\"3.2\"/>\n",
       "<circle clip-path=\"url(#clip862)\" cx=\"1964.67\" cy=\"333.428\" r=\"14\" fill=\"#009af9\" fill-rule=\"evenodd\" fill-opacity=\"1\" stroke=\"#000000\" stroke-opacity=\"1\" stroke-width=\"3.2\"/>\n",
       "<circle clip-path=\"url(#clip862)\" cx=\"1375.65\" cy=\"935.898\" r=\"14\" fill=\"#009af9\" fill-rule=\"evenodd\" fill-opacity=\"1\" stroke=\"#000000\" stroke-opacity=\"1\" stroke-width=\"3.2\"/>\n",
       "<circle clip-path=\"url(#clip862)\" cx=\"1348.57\" cy=\"1398.92\" r=\"14\" fill=\"#009af9\" fill-rule=\"evenodd\" fill-opacity=\"1\" stroke=\"#000000\" stroke-opacity=\"1\" stroke-width=\"3.2\"/>\n",
       "<circle clip-path=\"url(#clip862)\" cx=\"2071.53\" cy=\"401.385\" r=\"14\" fill=\"#009af9\" fill-rule=\"evenodd\" fill-opacity=\"1\" stroke=\"#000000\" stroke-opacity=\"1\" stroke-width=\"3.2\"/>\n",
       "<circle clip-path=\"url(#clip862)\" cx=\"1196.45\" cy=\"117.461\" r=\"14\" fill=\"#009af9\" fill-rule=\"evenodd\" fill-opacity=\"1\" stroke=\"#000000\" stroke-opacity=\"1\" stroke-width=\"3.2\"/>\n",
       "<circle clip-path=\"url(#clip862)\" cx=\"1303.4\" cy=\"433.905\" r=\"14\" fill=\"#009af9\" fill-rule=\"evenodd\" fill-opacity=\"1\" stroke=\"#000000\" stroke-opacity=\"1\" stroke-width=\"3.2\"/>\n",
       "<circle clip-path=\"url(#clip862)\" cx=\"1176.28\" cy=\"955.083\" r=\"14\" fill=\"#009af9\" fill-rule=\"evenodd\" fill-opacity=\"1\" stroke=\"#000000\" stroke-opacity=\"1\" stroke-width=\"3.2\"/>\n",
       "<circle clip-path=\"url(#clip862)\" cx=\"1597.45\" cy=\"381.09\" r=\"14\" fill=\"#009af9\" fill-rule=\"evenodd\" fill-opacity=\"1\" stroke=\"#000000\" stroke-opacity=\"1\" stroke-width=\"3.2\"/>\n",
       "<circle clip-path=\"url(#clip862)\" cx=\"1593.75\" cy=\"471.234\" r=\"14\" fill=\"#009af9\" fill-rule=\"evenodd\" fill-opacity=\"1\" stroke=\"#000000\" stroke-opacity=\"1\" stroke-width=\"3.2\"/>\n",
       "<circle clip-path=\"url(#clip862)\" cx=\"247.618\" cy=\"260.037\" r=\"14\" fill=\"#009af9\" fill-rule=\"evenodd\" fill-opacity=\"1\" stroke=\"#000000\" stroke-opacity=\"1\" stroke-width=\"3.2\"/>\n",
       "<circle clip-path=\"url(#clip862)\" cx=\"448.363\" cy=\"1195.6\" r=\"14\" fill=\"#009af9\" fill-rule=\"evenodd\" fill-opacity=\"1\" stroke=\"#000000\" stroke-opacity=\"1\" stroke-width=\"3.2\"/>\n",
       "<circle clip-path=\"url(#clip862)\" cx=\"877.424\" cy=\"1445.72\" r=\"14\" fill=\"#009af9\" fill-rule=\"evenodd\" fill-opacity=\"1\" stroke=\"#000000\" stroke-opacity=\"1\" stroke-width=\"3.2\"/>\n",
       "<circle clip-path=\"url(#clip862)\" cx=\"1438.44\" cy=\"544.129\" r=\"14\" fill=\"#009af9\" fill-rule=\"evenodd\" fill-opacity=\"1\" stroke=\"#000000\" stroke-opacity=\"1\" stroke-width=\"3.2\"/>\n",
       "<circle clip-path=\"url(#clip862)\" cx=\"1082.98\" cy=\"1177.07\" r=\"14\" fill=\"#009af9\" fill-rule=\"evenodd\" fill-opacity=\"1\" stroke=\"#000000\" stroke-opacity=\"1\" stroke-width=\"3.2\"/>\n",
       "<circle clip-path=\"url(#clip862)\" cx=\"1407.49\" cy=\"800.596\" r=\"14\" fill=\"#009af9\" fill-rule=\"evenodd\" fill-opacity=\"1\" stroke=\"#000000\" stroke-opacity=\"1\" stroke-width=\"3.2\"/>\n",
       "<circle clip-path=\"url(#clip862)\" cx=\"290.883\" cy=\"605.61\" r=\"14\" fill=\"#009af9\" fill-rule=\"evenodd\" fill-opacity=\"1\" stroke=\"#000000\" stroke-opacity=\"1\" stroke-width=\"3.2\"/>\n",
       "<circle clip-path=\"url(#clip862)\" cx=\"686.67\" cy=\"924.421\" r=\"14\" fill=\"#009af9\" fill-rule=\"evenodd\" fill-opacity=\"1\" stroke=\"#000000\" stroke-opacity=\"1\" stroke-width=\"3.2\"/>\n",
       "<circle clip-path=\"url(#clip862)\" cx=\"2087.31\" cy=\"1191.32\" r=\"14\" fill=\"#009af9\" fill-rule=\"evenodd\" fill-opacity=\"1\" stroke=\"#000000\" stroke-opacity=\"1\" stroke-width=\"3.2\"/>\n",
       "<circle clip-path=\"url(#clip862)\" cx=\"1015.24\" cy=\"962.203\" r=\"14\" fill=\"#009af9\" fill-rule=\"evenodd\" fill-opacity=\"1\" stroke=\"#000000\" stroke-opacity=\"1\" stroke-width=\"3.2\"/>\n",
       "<circle clip-path=\"url(#clip862)\" cx=\"1191.96\" cy=\"1297.39\" r=\"14\" fill=\"#009af9\" fill-rule=\"evenodd\" fill-opacity=\"1\" stroke=\"#000000\" stroke-opacity=\"1\" stroke-width=\"3.2\"/>\n",
       "<circle clip-path=\"url(#clip862)\" cx=\"1207.72\" cy=\"614.551\" r=\"14\" fill=\"#009af9\" fill-rule=\"evenodd\" fill-opacity=\"1\" stroke=\"#000000\" stroke-opacity=\"1\" stroke-width=\"3.2\"/>\n",
       "<circle clip-path=\"url(#clip862)\" cx=\"2211.46\" cy=\"151.383\" r=\"14\" fill=\"#009af9\" fill-rule=\"evenodd\" fill-opacity=\"1\" stroke=\"#000000\" stroke-opacity=\"1\" stroke-width=\"3.2\"/>\n",
       "<circle clip-path=\"url(#clip862)\" cx=\"953.394\" cy=\"486.301\" r=\"14\" fill=\"#009af9\" fill-rule=\"evenodd\" fill-opacity=\"1\" stroke=\"#000000\" stroke-opacity=\"1\" stroke-width=\"3.2\"/>\n",
       "<circle clip-path=\"url(#clip862)\" cx=\"980.063\" cy=\"846.256\" r=\"14\" fill=\"#009af9\" fill-rule=\"evenodd\" fill-opacity=\"1\" stroke=\"#000000\" stroke-opacity=\"1\" stroke-width=\"3.2\"/>\n",
       "<circle clip-path=\"url(#clip862)\" cx=\"541.181\" cy=\"830.54\" r=\"14\" fill=\"#009af9\" fill-rule=\"evenodd\" fill-opacity=\"1\" stroke=\"#000000\" stroke-opacity=\"1\" stroke-width=\"3.2\"/>\n",
       "<circle clip-path=\"url(#clip862)\" cx=\"863.836\" cy=\"522.296\" r=\"14\" fill=\"#009af9\" fill-rule=\"evenodd\" fill-opacity=\"1\" stroke=\"#000000\" stroke-opacity=\"1\" stroke-width=\"3.2\"/>\n",
       "<circle clip-path=\"url(#clip862)\" cx=\"1229.8\" cy=\"1037.78\" r=\"14\" fill=\"#009af9\" fill-rule=\"evenodd\" fill-opacity=\"1\" stroke=\"#000000\" stroke-opacity=\"1\" stroke-width=\"3.2\"/>\n",
       "<circle clip-path=\"url(#clip862)\" cx=\"1101.89\" cy=\"838.277\" r=\"14\" fill=\"#009af9\" fill-rule=\"evenodd\" fill-opacity=\"1\" stroke=\"#000000\" stroke-opacity=\"1\" stroke-width=\"3.2\"/>\n",
       "<circle clip-path=\"url(#clip862)\" cx=\"1002.16\" cy=\"979.616\" r=\"14\" fill=\"#009af9\" fill-rule=\"evenodd\" fill-opacity=\"1\" stroke=\"#000000\" stroke-opacity=\"1\" stroke-width=\"3.2\"/>\n",
       "<circle clip-path=\"url(#clip862)\" cx=\"613.936\" cy=\"1061.04\" r=\"14\" fill=\"#009af9\" fill-rule=\"evenodd\" fill-opacity=\"1\" stroke=\"#000000\" stroke-opacity=\"1\" stroke-width=\"3.2\"/>\n",
       "<circle clip-path=\"url(#clip862)\" cx=\"2085.29\" cy=\"298.444\" r=\"14\" fill=\"#009af9\" fill-rule=\"evenodd\" fill-opacity=\"1\" stroke=\"#000000\" stroke-opacity=\"1\" stroke-width=\"3.2\"/>\n",
       "<circle clip-path=\"url(#clip862)\" cx=\"1217.75\" cy=\"153.793\" r=\"14\" fill=\"#009af9\" fill-rule=\"evenodd\" fill-opacity=\"1\" stroke=\"#000000\" stroke-opacity=\"1\" stroke-width=\"3.2\"/>\n",
       "<circle clip-path=\"url(#clip862)\" cx=\"361.671\" cy=\"1287.7\" r=\"14\" fill=\"#009af9\" fill-rule=\"evenodd\" fill-opacity=\"1\" stroke=\"#000000\" stroke-opacity=\"1\" stroke-width=\"3.2\"/>\n",
       "<circle clip-path=\"url(#clip862)\" cx=\"409.831\" cy=\"128.251\" r=\"14\" fill=\"#009af9\" fill-rule=\"evenodd\" fill-opacity=\"1\" stroke=\"#000000\" stroke-opacity=\"1\" stroke-width=\"3.2\"/>\n",
       "<circle clip-path=\"url(#clip862)\" cx=\"1221.11\" cy=\"304.761\" r=\"14\" fill=\"#009af9\" fill-rule=\"evenodd\" fill-opacity=\"1\" stroke=\"#000000\" stroke-opacity=\"1\" stroke-width=\"3.2\"/>\n",
       "<circle clip-path=\"url(#clip862)\" cx=\"436.112\" cy=\"1397.5\" r=\"14\" fill=\"#009af9\" fill-rule=\"evenodd\" fill-opacity=\"1\" stroke=\"#000000\" stroke-opacity=\"1\" stroke-width=\"3.2\"/>\n",
       "<circle clip-path=\"url(#clip862)\" cx=\"2106.97\" cy=\"1245.5\" r=\"14\" fill=\"#009af9\" fill-rule=\"evenodd\" fill-opacity=\"1\" stroke=\"#000000\" stroke-opacity=\"1\" stroke-width=\"3.2\"/>\n",
       "<circle clip-path=\"url(#clip862)\" cx=\"1473.5\" cy=\"363.858\" r=\"14\" fill=\"#009af9\" fill-rule=\"evenodd\" fill-opacity=\"1\" stroke=\"#000000\" stroke-opacity=\"1\" stroke-width=\"3.2\"/>\n",
       "<circle clip-path=\"url(#clip862)\" cx=\"257.857\" cy=\"1134.87\" r=\"14\" fill=\"#009af9\" fill-rule=\"evenodd\" fill-opacity=\"1\" stroke=\"#000000\" stroke-opacity=\"1\" stroke-width=\"3.2\"/>\n",
       "<circle clip-path=\"url(#clip862)\" cx=\"723.93\" cy=\"270.416\" r=\"14\" fill=\"#009af9\" fill-rule=\"evenodd\" fill-opacity=\"1\" stroke=\"#000000\" stroke-opacity=\"1\" stroke-width=\"3.2\"/>\n",
       "<circle clip-path=\"url(#clip862)\" cx=\"673.208\" cy=\"1127.97\" r=\"14\" fill=\"#009af9\" fill-rule=\"evenodd\" fill-opacity=\"1\" stroke=\"#000000\" stroke-opacity=\"1\" stroke-width=\"3.2\"/>\n",
       "<circle clip-path=\"url(#clip862)\" cx=\"654.049\" cy=\"764.211\" r=\"14\" fill=\"#009af9\" fill-rule=\"evenodd\" fill-opacity=\"1\" stroke=\"#000000\" stroke-opacity=\"1\" stroke-width=\"3.2\"/>\n",
       "<circle clip-path=\"url(#clip862)\" cx=\"1849.43\" cy=\"1278.24\" r=\"14\" fill=\"#009af9\" fill-rule=\"evenodd\" fill-opacity=\"1\" stroke=\"#000000\" stroke-opacity=\"1\" stroke-width=\"3.2\"/>\n",
       "<circle clip-path=\"url(#clip862)\" cx=\"2257.1\" cy=\"1436.85\" r=\"14\" fill=\"#009af9\" fill-rule=\"evenodd\" fill-opacity=\"1\" stroke=\"#000000\" stroke-opacity=\"1\" stroke-width=\"3.2\"/>\n",
       "<circle clip-path=\"url(#clip862)\" cx=\"1147.81\" cy=\"111.327\" r=\"14\" fill=\"#009af9\" fill-rule=\"evenodd\" fill-opacity=\"1\" stroke=\"#000000\" stroke-opacity=\"1\" stroke-width=\"3.2\"/>\n",
       "<circle clip-path=\"url(#clip862)\" cx=\"1159.38\" cy=\"664.87\" r=\"14\" fill=\"#009af9\" fill-rule=\"evenodd\" fill-opacity=\"1\" stroke=\"#000000\" stroke-opacity=\"1\" stroke-width=\"3.2\"/>\n",
       "<circle clip-path=\"url(#clip862)\" cx=\"1679.07\" cy=\"278.248\" r=\"14\" fill=\"#009af9\" fill-rule=\"evenodd\" fill-opacity=\"1\" stroke=\"#000000\" stroke-opacity=\"1\" stroke-width=\"3.2\"/>\n",
       "<circle clip-path=\"url(#clip862)\" cx=\"1818.1\" cy=\"937.506\" r=\"14\" fill=\"#009af9\" fill-rule=\"evenodd\" fill-opacity=\"1\" stroke=\"#000000\" stroke-opacity=\"1\" stroke-width=\"3.2\"/>\n",
       "<circle clip-path=\"url(#clip862)\" cx=\"1120.17\" cy=\"267.576\" r=\"14\" fill=\"#009af9\" fill-rule=\"evenodd\" fill-opacity=\"1\" stroke=\"#000000\" stroke-opacity=\"1\" stroke-width=\"3.2\"/>\n",
       "<circle clip-path=\"url(#clip862)\" cx=\"769.406\" cy=\"605.574\" r=\"14\" fill=\"#009af9\" fill-rule=\"evenodd\" fill-opacity=\"1\" stroke=\"#000000\" stroke-opacity=\"1\" stroke-width=\"3.2\"/>\n",
       "<circle clip-path=\"url(#clip862)\" cx=\"567.691\" cy=\"1180.68\" r=\"14\" fill=\"#009af9\" fill-rule=\"evenodd\" fill-opacity=\"1\" stroke=\"#000000\" stroke-opacity=\"1\" stroke-width=\"3.2\"/>\n",
       "<circle clip-path=\"url(#clip862)\" cx=\"947.761\" cy=\"87.9763\" r=\"14\" fill=\"#009af9\" fill-rule=\"evenodd\" fill-opacity=\"1\" stroke=\"#000000\" stroke-opacity=\"1\" stroke-width=\"3.2\"/>\n",
       "<circle clip-path=\"url(#clip862)\" cx=\"1111.97\" cy=\"1276.33\" r=\"14\" fill=\"#009af9\" fill-rule=\"evenodd\" fill-opacity=\"1\" stroke=\"#000000\" stroke-opacity=\"1\" stroke-width=\"3.2\"/>\n",
       "<circle clip-path=\"url(#clip862)\" cx=\"1661.47\" cy=\"422.204\" r=\"14\" fill=\"#009af9\" fill-rule=\"evenodd\" fill-opacity=\"1\" stroke=\"#000000\" stroke-opacity=\"1\" stroke-width=\"3.2\"/>\n",
       "<circle clip-path=\"url(#clip862)\" cx=\"1114.76\" cy=\"459.43\" r=\"14\" fill=\"#009af9\" fill-rule=\"evenodd\" fill-opacity=\"1\" stroke=\"#000000\" stroke-opacity=\"1\" stroke-width=\"3.2\"/>\n",
       "<circle clip-path=\"url(#clip862)\" cx=\"642.88\" cy=\"1058.52\" r=\"14\" fill=\"#009af9\" fill-rule=\"evenodd\" fill-opacity=\"1\" stroke=\"#000000\" stroke-opacity=\"1\" stroke-width=\"3.2\"/>\n",
       "<circle clip-path=\"url(#clip862)\" cx=\"688.776\" cy=\"1178.72\" r=\"14\" fill=\"#009af9\" fill-rule=\"evenodd\" fill-opacity=\"1\" stroke=\"#000000\" stroke-opacity=\"1\" stroke-width=\"3.2\"/>\n",
       "<circle clip-path=\"url(#clip862)\" cx=\"1653.7\" cy=\"219.912\" r=\"14\" fill=\"#009af9\" fill-rule=\"evenodd\" fill-opacity=\"1\" stroke=\"#000000\" stroke-opacity=\"1\" stroke-width=\"3.2\"/>\n",
       "<circle clip-path=\"url(#clip862)\" cx=\"2230.58\" cy=\"909.639\" r=\"14\" fill=\"#009af9\" fill-rule=\"evenodd\" fill-opacity=\"1\" stroke=\"#000000\" stroke-opacity=\"1\" stroke-width=\"3.2\"/>\n",
       "<circle clip-path=\"url(#clip862)\" cx=\"807.862\" cy=\"459.159\" r=\"14\" fill=\"#009af9\" fill-rule=\"evenodd\" fill-opacity=\"1\" stroke=\"#000000\" stroke-opacity=\"1\" stroke-width=\"3.2\"/>\n",
       "<circle clip-path=\"url(#clip862)\" cx=\"752.051\" cy=\"826.266\" r=\"14\" fill=\"#009af9\" fill-rule=\"evenodd\" fill-opacity=\"1\" stroke=\"#000000\" stroke-opacity=\"1\" stroke-width=\"3.2\"/>\n",
       "<circle clip-path=\"url(#clip862)\" cx=\"1543.23\" cy=\"893.821\" r=\"14\" fill=\"#009af9\" fill-rule=\"evenodd\" fill-opacity=\"1\" stroke=\"#000000\" stroke-opacity=\"1\" stroke-width=\"3.2\"/>\n",
       "<circle clip-path=\"url(#clip862)\" cx=\"1141.64\" cy=\"605.099\" r=\"14\" fill=\"#009af9\" fill-rule=\"evenodd\" fill-opacity=\"1\" stroke=\"#000000\" stroke-opacity=\"1\" stroke-width=\"3.2\"/>\n",
       "<circle clip-path=\"url(#clip862)\" cx=\"908.986\" cy=\"247.652\" r=\"14\" fill=\"#009af9\" fill-rule=\"evenodd\" fill-opacity=\"1\" stroke=\"#000000\" stroke-opacity=\"1\" stroke-width=\"3.2\"/>\n",
       "<circle clip-path=\"url(#clip862)\" cx=\"1185.12\" cy=\"438.45\" r=\"14\" fill=\"#009af9\" fill-rule=\"evenodd\" fill-opacity=\"1\" stroke=\"#000000\" stroke-opacity=\"1\" stroke-width=\"3.2\"/>\n",
       "<circle clip-path=\"url(#clip862)\" cx=\"2019.93\" cy=\"457.097\" r=\"14\" fill=\"#009af9\" fill-rule=\"evenodd\" fill-opacity=\"1\" stroke=\"#000000\" stroke-opacity=\"1\" stroke-width=\"3.2\"/>\n",
       "<circle clip-path=\"url(#clip862)\" cx=\"1350.06\" cy=\"1390.74\" r=\"14\" fill=\"#009af9\" fill-rule=\"evenodd\" fill-opacity=\"1\" stroke=\"#000000\" stroke-opacity=\"1\" stroke-width=\"3.2\"/>\n",
       "<path clip-path=\"url(#clip860)\" d=\"\n",
       "M1987.39 198.898 L2280.54 198.898 L2280.54 95.2176 L1987.39 95.2176  Z\n",
       "  \" fill=\"#ffffff\" fill-rule=\"evenodd\" fill-opacity=\"1\"/>\n",
       "<polyline clip-path=\"url(#clip860)\" style=\"stroke:#000000; stroke-linecap:butt; stroke-linejoin:round; stroke-width:4; stroke-opacity:1; fill:none\" points=\"\n",
       "  1987.39,198.898 2280.54,198.898 2280.54,95.2176 1987.39,95.2176 1987.39,198.898 \n",
       "  \"/>\n",
       "<circle clip-path=\"url(#clip860)\" cx=\"2083.68\" cy=\"147.058\" r=\"23\" fill=\"#009af9\" fill-rule=\"evenodd\" fill-opacity=\"1\" stroke=\"#000000\" stroke-opacity=\"1\" stroke-width=\"5.12\"/>\n",
       "<path clip-path=\"url(#clip860)\" d=\"M2193.81 166.745 Q2192 171.375 2190.29 172.787 Q2188.58 174.199 2185.71 174.199 L2182.3 174.199 L2182.3 170.634 L2184.8 170.634 Q2186.56 170.634 2187.53 169.8 Q2188.51 168.967 2189.69 165.865 L2190.45 163.921 L2179.97 138.412 L2184.48 138.412 L2192.58 158.689 L2200.68 138.412 L2205.2 138.412 L2193.81 166.745 Z\" fill=\"#000000\" fill-rule=\"evenodd\" fill-opacity=\"1\" /><path clip-path=\"url(#clip860)\" d=\"M2212.49 160.402 L2220.13 160.402 L2220.13 134.037 L2211.82 135.703 L2211.82 131.444 L2220.08 129.778 L2224.76 129.778 L2224.76 160.402 L2232.4 160.402 L2232.4 164.338 L2212.49 164.338 L2212.49 160.402 Z\" fill=\"#000000\" fill-rule=\"evenodd\" fill-opacity=\"1\" /></svg>\n"
      ]
     },
     "execution_count": 20,
     "metadata": {},
     "output_type": "execute_result"
    }
   ],
   "source": [
    "plot(\n",
    "[a.x for a in population],\n",
    "[a.y for a in population]; marker=\".\", seriestype=:scatter # should make lines invisible\n",
    ")"
   ]
  },
  {
   "cell_type": "code",
   "execution_count": 21,
   "metadata": {},
   "outputs": [
    {
     "name": "stderr",
     "output_type": "stream",
     "text": [
      "┌ Warning: Skipped marker arg ..\n",
      "└ @ Plots /home/pablo/.julia/packages/Plots/8K4be/src/args.jl:1230\n"
     ]
    },
    {
     "data": {
      "image/svg+xml": [
       "<?xml version=\"1.0\" encoding=\"utf-8\"?>\n",
       "<svg xmlns=\"http://www.w3.org/2000/svg\" xmlns:xlink=\"http://www.w3.org/1999/xlink\" width=\"600\" height=\"400\" viewBox=\"0 0 2400 1600\">\n",
       "<defs>\n",
       "  <clipPath id=\"clip900\">\n",
       "    <rect x=\"0\" y=\"0\" width=\"2400\" height=\"1600\"/>\n",
       "  </clipPath>\n",
       "</defs>\n",
       "<path clip-path=\"url(#clip900)\" d=\"\n",
       "M0 1600 L2400 1600 L2400 0 L0 0  Z\n",
       "  \" fill=\"#ffffff\" fill-rule=\"evenodd\" fill-opacity=\"1\"/>\n",
       "<defs>\n",
       "  <clipPath id=\"clip901\">\n",
       "    <rect x=\"480\" y=\"0\" width=\"1681\" height=\"1600\"/>\n",
       "  </clipPath>\n",
       "</defs>\n",
       "<path clip-path=\"url(#clip900)\" d=\"\n",
       "M186.274 1486.45 L2352.76 1486.45 L2352.76 47.2441 L186.274 47.2441  Z\n",
       "  \" fill=\"#ffffff\" fill-rule=\"evenodd\" fill-opacity=\"1\"/>\n",
       "<defs>\n",
       "  <clipPath id=\"clip902\">\n",
       "    <rect x=\"186\" y=\"47\" width=\"2167\" height=\"1440\"/>\n",
       "  </clipPath>\n",
       "</defs>\n",
       "<polyline clip-path=\"url(#clip902)\" style=\"stroke:#000000; stroke-linecap:butt; stroke-linejoin:round; stroke-width:2; stroke-opacity:0.1; fill:none\" points=\"\n",
       "  241.602,1486.45 241.602,47.2441 \n",
       "  \"/>\n",
       "<polyline clip-path=\"url(#clip902)\" style=\"stroke:#000000; stroke-linecap:butt; stroke-linejoin:round; stroke-width:2; stroke-opacity:0.1; fill:none\" points=\"\n",
       "  758.357,1486.45 758.357,47.2441 \n",
       "  \"/>\n",
       "<polyline clip-path=\"url(#clip902)\" style=\"stroke:#000000; stroke-linecap:butt; stroke-linejoin:round; stroke-width:2; stroke-opacity:0.1; fill:none\" points=\"\n",
       "  1275.11,1486.45 1275.11,47.2441 \n",
       "  \"/>\n",
       "<polyline clip-path=\"url(#clip902)\" style=\"stroke:#000000; stroke-linecap:butt; stroke-linejoin:round; stroke-width:2; stroke-opacity:0.1; fill:none\" points=\"\n",
       "  1791.87,1486.45 1791.87,47.2441 \n",
       "  \"/>\n",
       "<polyline clip-path=\"url(#clip902)\" style=\"stroke:#000000; stroke-linecap:butt; stroke-linejoin:round; stroke-width:2; stroke-opacity:0.1; fill:none\" points=\"\n",
       "  2308.62,1486.45 2308.62,47.2441 \n",
       "  \"/>\n",
       "<polyline clip-path=\"url(#clip900)\" style=\"stroke:#000000; stroke-linecap:butt; stroke-linejoin:round; stroke-width:4; stroke-opacity:1; fill:none\" points=\"\n",
       "  186.274,1486.45 2352.76,1486.45 \n",
       "  \"/>\n",
       "<polyline clip-path=\"url(#clip900)\" style=\"stroke:#000000; stroke-linecap:butt; stroke-linejoin:round; stroke-width:4; stroke-opacity:1; fill:none\" points=\"\n",
       "  241.602,1486.45 241.602,1467.55 \n",
       "  \"/>\n",
       "<polyline clip-path=\"url(#clip900)\" style=\"stroke:#000000; stroke-linecap:butt; stroke-linejoin:round; stroke-width:4; stroke-opacity:1; fill:none\" points=\"\n",
       "  758.357,1486.45 758.357,1467.55 \n",
       "  \"/>\n",
       "<polyline clip-path=\"url(#clip900)\" style=\"stroke:#000000; stroke-linecap:butt; stroke-linejoin:round; stroke-width:4; stroke-opacity:1; fill:none\" points=\"\n",
       "  1275.11,1486.45 1275.11,1467.55 \n",
       "  \"/>\n",
       "<polyline clip-path=\"url(#clip900)\" style=\"stroke:#000000; stroke-linecap:butt; stroke-linejoin:round; stroke-width:4; stroke-opacity:1; fill:none\" points=\"\n",
       "  1791.87,1486.45 1791.87,1467.55 \n",
       "  \"/>\n",
       "<polyline clip-path=\"url(#clip900)\" style=\"stroke:#000000; stroke-linecap:butt; stroke-linejoin:round; stroke-width:4; stroke-opacity:1; fill:none\" points=\"\n",
       "  2308.62,1486.45 2308.62,1467.55 \n",
       "  \"/>\n",
       "<path clip-path=\"url(#clip900)\" d=\"M203.905 1517.37 Q200.294 1517.37 198.465 1520.93 Q196.66 1524.47 196.66 1531.6 Q196.66 1538.71 198.465 1542.27 Q200.294 1545.82 203.905 1545.82 Q207.539 1545.82 209.345 1542.27 Q211.173 1538.71 211.173 1531.6 Q211.173 1524.47 209.345 1520.93 Q207.539 1517.37 203.905 1517.37 M203.905 1513.66 Q209.715 1513.66 212.771 1518.27 Q215.849 1522.85 215.849 1531.6 Q215.849 1540.33 212.771 1544.94 Q209.715 1549.52 203.905 1549.52 Q198.095 1549.52 195.016 1544.94 Q191.961 1540.33 191.961 1531.6 Q191.961 1522.85 195.016 1518.27 Q198.095 1513.66 203.905 1513.66 Z\" fill=\"#000000\" fill-rule=\"evenodd\" fill-opacity=\"1\" /><path clip-path=\"url(#clip900)\" d=\"M224.067 1542.97 L228.951 1542.97 L228.951 1548.85 L224.067 1548.85 L224.067 1542.97 Z\" fill=\"#000000\" fill-rule=\"evenodd\" fill-opacity=\"1\" /><path clip-path=\"url(#clip900)\" d=\"M249.136 1517.37 Q245.525 1517.37 243.696 1520.93 Q241.891 1524.47 241.891 1531.6 Q241.891 1538.71 243.696 1542.27 Q245.525 1545.82 249.136 1545.82 Q252.77 1545.82 254.576 1542.27 Q256.405 1538.71 256.405 1531.6 Q256.405 1524.47 254.576 1520.93 Q252.77 1517.37 249.136 1517.37 M249.136 1513.66 Q254.946 1513.66 258.002 1518.27 Q261.081 1522.85 261.081 1531.6 Q261.081 1540.33 258.002 1544.94 Q254.946 1549.52 249.136 1549.52 Q243.326 1549.52 240.247 1544.94 Q237.192 1540.33 237.192 1531.6 Q237.192 1522.85 240.247 1518.27 Q243.326 1513.66 249.136 1513.66 Z\" fill=\"#000000\" fill-rule=\"evenodd\" fill-opacity=\"1\" /><path clip-path=\"url(#clip900)\" d=\"M279.298 1517.37 Q275.687 1517.37 273.858 1520.93 Q272.053 1524.47 272.053 1531.6 Q272.053 1538.71 273.858 1542.27 Q275.687 1545.82 279.298 1545.82 Q282.932 1545.82 284.738 1542.27 Q286.567 1538.71 286.567 1531.6 Q286.567 1524.47 284.738 1520.93 Q282.932 1517.37 279.298 1517.37 M279.298 1513.66 Q285.108 1513.66 288.164 1518.27 Q291.242 1522.85 291.242 1531.6 Q291.242 1540.33 288.164 1544.94 Q285.108 1549.52 279.298 1549.52 Q273.488 1549.52 270.409 1544.94 Q267.354 1540.33 267.354 1531.6 Q267.354 1522.85 270.409 1518.27 Q273.488 1513.66 279.298 1513.66 Z\" fill=\"#000000\" fill-rule=\"evenodd\" fill-opacity=\"1\" /><path clip-path=\"url(#clip900)\" d=\"M721.158 1517.37 Q717.547 1517.37 715.718 1520.93 Q713.913 1524.47 713.913 1531.6 Q713.913 1538.71 715.718 1542.27 Q717.547 1545.82 721.158 1545.82 Q724.792 1545.82 726.598 1542.27 Q728.426 1538.71 728.426 1531.6 Q728.426 1524.47 726.598 1520.93 Q724.792 1517.37 721.158 1517.37 M721.158 1513.66 Q726.968 1513.66 730.024 1518.27 Q733.102 1522.85 733.102 1531.6 Q733.102 1540.33 730.024 1544.94 Q726.968 1549.52 721.158 1549.52 Q715.348 1549.52 712.269 1544.94 Q709.214 1540.33 709.214 1531.6 Q709.214 1522.85 712.269 1518.27 Q715.348 1513.66 721.158 1513.66 Z\" fill=\"#000000\" fill-rule=\"evenodd\" fill-opacity=\"1\" /><path clip-path=\"url(#clip900)\" d=\"M741.32 1542.97 L746.204 1542.97 L746.204 1548.85 L741.32 1548.85 L741.32 1542.97 Z\" fill=\"#000000\" fill-rule=\"evenodd\" fill-opacity=\"1\" /><path clip-path=\"url(#clip900)\" d=\"M760.417 1544.91 L776.736 1544.91 L776.736 1548.85 L754.792 1548.85 L754.792 1544.91 Q757.454 1542.16 762.037 1537.53 Q766.644 1532.88 767.824 1531.53 Q770.07 1529.01 770.949 1527.27 Q771.852 1525.51 771.852 1523.82 Q771.852 1521.07 769.908 1519.33 Q767.986 1517.6 764.885 1517.6 Q762.685 1517.6 760.232 1518.36 Q757.801 1519.13 755.023 1520.68 L755.023 1515.95 Q757.848 1514.82 760.301 1514.24 Q762.755 1513.66 764.792 1513.66 Q770.162 1513.66 773.357 1516.35 Q776.551 1519.03 776.551 1523.52 Q776.551 1525.65 775.741 1527.57 Q774.954 1529.47 772.847 1532.07 Q772.269 1532.74 769.167 1535.95 Q766.065 1539.15 760.417 1544.91 Z\" fill=\"#000000\" fill-rule=\"evenodd\" fill-opacity=\"1\" /><path clip-path=\"url(#clip900)\" d=\"M786.597 1514.29 L804.954 1514.29 L804.954 1518.22 L790.88 1518.22 L790.88 1526.7 Q791.898 1526.35 792.917 1526.19 Q793.935 1526 794.954 1526 Q800.741 1526 804.12 1529.17 Q807.5 1532.34 807.5 1537.76 Q807.5 1543.34 804.028 1546.44 Q800.556 1549.52 794.236 1549.52 Q792.06 1549.52 789.792 1549.15 Q787.546 1548.78 785.139 1548.04 L785.139 1543.34 Q787.222 1544.47 789.445 1545.03 Q791.667 1545.58 794.144 1545.58 Q798.148 1545.58 800.486 1543.48 Q802.824 1541.37 802.824 1537.76 Q802.824 1534.15 800.486 1532.04 Q798.148 1529.94 794.144 1529.94 Q792.269 1529.94 790.394 1530.35 Q788.542 1530.77 786.597 1531.65 L786.597 1514.29 Z\" fill=\"#000000\" fill-rule=\"evenodd\" fill-opacity=\"1\" /><path clip-path=\"url(#clip900)\" d=\"M1237.42 1517.37 Q1233.8 1517.37 1231.98 1520.93 Q1230.17 1524.47 1230.17 1531.6 Q1230.17 1538.71 1231.98 1542.27 Q1233.8 1545.82 1237.42 1545.82 Q1241.05 1545.82 1242.86 1542.27 Q1244.68 1538.71 1244.68 1531.6 Q1244.68 1524.47 1242.86 1520.93 Q1241.05 1517.37 1237.42 1517.37 M1237.42 1513.66 Q1243.23 1513.66 1246.28 1518.27 Q1249.36 1522.85 1249.36 1531.6 Q1249.36 1540.33 1246.28 1544.94 Q1243.23 1549.52 1237.42 1549.52 Q1231.61 1549.52 1228.53 1544.94 Q1225.47 1540.33 1225.47 1531.6 Q1225.47 1522.85 1228.53 1518.27 Q1231.61 1513.66 1237.42 1513.66 Z\" fill=\"#000000\" fill-rule=\"evenodd\" fill-opacity=\"1\" /><path clip-path=\"url(#clip900)\" d=\"M1257.58 1542.97 L1262.46 1542.97 L1262.46 1548.85 L1257.58 1548.85 L1257.58 1542.97 Z\" fill=\"#000000\" fill-rule=\"evenodd\" fill-opacity=\"1\" /><path clip-path=\"url(#clip900)\" d=\"M1272.69 1514.29 L1291.05 1514.29 L1291.05 1518.22 L1276.98 1518.22 L1276.98 1526.7 Q1277.99 1526.35 1279.01 1526.19 Q1280.03 1526 1281.05 1526 Q1286.84 1526 1290.22 1529.17 Q1293.6 1532.34 1293.6 1537.76 Q1293.6 1543.34 1290.12 1546.44 Q1286.65 1549.52 1280.33 1549.52 Q1278.16 1549.52 1275.89 1549.15 Q1273.64 1548.78 1271.23 1548.04 L1271.23 1543.34 Q1273.32 1544.47 1275.54 1545.03 Q1277.76 1545.58 1280.24 1545.58 Q1284.24 1545.58 1286.58 1543.48 Q1288.92 1541.37 1288.92 1537.76 Q1288.92 1534.15 1286.58 1532.04 Q1284.24 1529.94 1280.24 1529.94 Q1278.36 1529.94 1276.49 1530.35 Q1274.64 1530.77 1272.69 1531.65 L1272.69 1514.29 Z\" fill=\"#000000\" fill-rule=\"evenodd\" fill-opacity=\"1\" /><path clip-path=\"url(#clip900)\" d=\"M1312.81 1517.37 Q1309.2 1517.37 1307.37 1520.93 Q1305.56 1524.47 1305.56 1531.6 Q1305.56 1538.71 1307.37 1542.27 Q1309.2 1545.82 1312.81 1545.82 Q1316.44 1545.82 1318.25 1542.27 Q1320.08 1538.71 1320.08 1531.6 Q1320.08 1524.47 1318.25 1520.93 Q1316.44 1517.37 1312.81 1517.37 M1312.81 1513.66 Q1318.62 1513.66 1321.67 1518.27 Q1324.75 1522.85 1324.75 1531.6 Q1324.75 1540.33 1321.67 1544.94 Q1318.62 1549.52 1312.81 1549.52 Q1307 1549.52 1303.92 1544.94 Q1300.86 1540.33 1300.86 1531.6 Q1300.86 1522.85 1303.92 1518.27 Q1307 1513.66 1312.81 1513.66 Z\" fill=\"#000000\" fill-rule=\"evenodd\" fill-opacity=\"1\" /><path clip-path=\"url(#clip900)\" d=\"M1754.67 1517.37 Q1751.06 1517.37 1749.23 1520.93 Q1747.42 1524.47 1747.42 1531.6 Q1747.42 1538.71 1749.23 1542.27 Q1751.06 1545.82 1754.67 1545.82 Q1758.3 1545.82 1760.11 1542.27 Q1761.94 1538.71 1761.94 1531.6 Q1761.94 1524.47 1760.11 1520.93 Q1758.3 1517.37 1754.67 1517.37 M1754.67 1513.66 Q1760.48 1513.66 1763.53 1518.27 Q1766.61 1522.85 1766.61 1531.6 Q1766.61 1540.33 1763.53 1544.94 Q1760.48 1549.52 1754.67 1549.52 Q1748.86 1549.52 1745.78 1544.94 Q1742.72 1540.33 1742.72 1531.6 Q1742.72 1522.85 1745.78 1518.27 Q1748.86 1513.66 1754.67 1513.66 Z\" fill=\"#000000\" fill-rule=\"evenodd\" fill-opacity=\"1\" /><path clip-path=\"url(#clip900)\" d=\"M1774.83 1542.97 L1779.71 1542.97 L1779.71 1548.85 L1774.83 1548.85 L1774.83 1542.97 Z\" fill=\"#000000\" fill-rule=\"evenodd\" fill-opacity=\"1\" /><path clip-path=\"url(#clip900)\" d=\"M1788.72 1514.29 L1810.94 1514.29 L1810.94 1516.28 L1798.4 1548.85 L1793.51 1548.85 L1805.32 1518.22 L1788.72 1518.22 L1788.72 1514.29 Z\" fill=\"#000000\" fill-rule=\"evenodd\" fill-opacity=\"1\" /><path clip-path=\"url(#clip900)\" d=\"M1820.11 1514.29 L1838.46 1514.29 L1838.46 1518.22 L1824.39 1518.22 L1824.39 1526.7 Q1825.41 1526.35 1826.43 1526.19 Q1827.45 1526 1828.46 1526 Q1834.25 1526 1837.63 1529.17 Q1841.01 1532.34 1841.01 1537.76 Q1841.01 1543.34 1837.54 1546.44 Q1834.07 1549.52 1827.75 1549.52 Q1825.57 1549.52 1823.3 1549.15 Q1821.06 1548.78 1818.65 1548.04 L1818.65 1543.34 Q1820.73 1544.47 1822.96 1545.03 Q1825.18 1545.58 1827.65 1545.58 Q1831.66 1545.58 1834 1543.48 Q1836.33 1541.37 1836.33 1537.76 Q1836.33 1534.15 1834 1532.04 Q1831.66 1529.94 1827.65 1529.94 Q1825.78 1529.94 1823.9 1530.35 Q1822.05 1530.77 1820.11 1531.65 L1820.11 1514.29 Z\" fill=\"#000000\" fill-rule=\"evenodd\" fill-opacity=\"1\" /><path clip-path=\"url(#clip900)\" d=\"M2260.69 1544.91 L2268.33 1544.91 L2268.33 1518.55 L2260.02 1520.21 L2260.02 1515.95 L2268.29 1514.29 L2272.96 1514.29 L2272.96 1544.91 L2280.6 1544.91 L2280.6 1548.85 L2260.69 1548.85 L2260.69 1544.91 Z\" fill=\"#000000\" fill-rule=\"evenodd\" fill-opacity=\"1\" /><path clip-path=\"url(#clip900)\" d=\"M2290.05 1542.97 L2294.93 1542.97 L2294.93 1548.85 L2290.05 1548.85 L2290.05 1542.97 Z\" fill=\"#000000\" fill-rule=\"evenodd\" fill-opacity=\"1\" /><path clip-path=\"url(#clip900)\" d=\"M2315.12 1517.37 Q2311.5 1517.37 2309.68 1520.93 Q2307.87 1524.47 2307.87 1531.6 Q2307.87 1538.71 2309.68 1542.27 Q2311.5 1545.82 2315.12 1545.82 Q2318.75 1545.82 2320.56 1542.27 Q2322.38 1538.71 2322.38 1531.6 Q2322.38 1524.47 2320.56 1520.93 Q2318.75 1517.37 2315.12 1517.37 M2315.12 1513.66 Q2320.93 1513.66 2323.98 1518.27 Q2327.06 1522.85 2327.06 1531.6 Q2327.06 1540.33 2323.98 1544.94 Q2320.93 1549.52 2315.12 1549.52 Q2309.31 1549.52 2306.23 1544.94 Q2303.17 1540.33 2303.17 1531.6 Q2303.17 1522.85 2306.23 1518.27 Q2309.31 1513.66 2315.12 1513.66 Z\" fill=\"#000000\" fill-rule=\"evenodd\" fill-opacity=\"1\" /><path clip-path=\"url(#clip900)\" d=\"M2345.28 1517.37 Q2341.67 1517.37 2339.84 1520.93 Q2338.03 1524.47 2338.03 1531.6 Q2338.03 1538.71 2339.84 1542.27 Q2341.67 1545.82 2345.28 1545.82 Q2348.91 1545.82 2350.72 1542.27 Q2352.55 1538.71 2352.55 1531.6 Q2352.55 1524.47 2350.72 1520.93 Q2348.91 1517.37 2345.28 1517.37 M2345.28 1513.66 Q2351.09 1513.66 2354.14 1518.27 Q2357.22 1522.85 2357.22 1531.6 Q2357.22 1540.33 2354.14 1544.94 Q2351.09 1549.52 2345.28 1549.52 Q2339.47 1549.52 2336.39 1544.94 Q2333.33 1540.33 2333.33 1531.6 Q2333.33 1522.85 2336.39 1518.27 Q2339.47 1513.66 2345.28 1513.66 Z\" fill=\"#000000\" fill-rule=\"evenodd\" fill-opacity=\"1\" /><polyline clip-path=\"url(#clip902)\" style=\"stroke:#000000; stroke-linecap:butt; stroke-linejoin:round; stroke-width:2; stroke-opacity:0.1; fill:none\" points=\"\n",
       "  186.274,1449.91 2352.76,1449.91 \n",
       "  \"/>\n",
       "<polyline clip-path=\"url(#clip902)\" style=\"stroke:#000000; stroke-linecap:butt; stroke-linejoin:round; stroke-width:2; stroke-opacity:0.1; fill:none\" points=\"\n",
       "  186.274,1105.19 2352.76,1105.19 \n",
       "  \"/>\n",
       "<polyline clip-path=\"url(#clip902)\" style=\"stroke:#000000; stroke-linecap:butt; stroke-linejoin:round; stroke-width:2; stroke-opacity:0.1; fill:none\" points=\"\n",
       "  186.274,760.48 2352.76,760.48 \n",
       "  \"/>\n",
       "<polyline clip-path=\"url(#clip902)\" style=\"stroke:#000000; stroke-linecap:butt; stroke-linejoin:round; stroke-width:2; stroke-opacity:0.1; fill:none\" points=\"\n",
       "  186.274,415.766 2352.76,415.766 \n",
       "  \"/>\n",
       "<polyline clip-path=\"url(#clip902)\" style=\"stroke:#000000; stroke-linecap:butt; stroke-linejoin:round; stroke-width:2; stroke-opacity:0.1; fill:none\" points=\"\n",
       "  186.274,71.0532 2352.76,71.0532 \n",
       "  \"/>\n",
       "<polyline clip-path=\"url(#clip900)\" style=\"stroke:#000000; stroke-linecap:butt; stroke-linejoin:round; stroke-width:4; stroke-opacity:1; fill:none\" points=\"\n",
       "  186.274,1486.45 186.274,47.2441 \n",
       "  \"/>\n",
       "<polyline clip-path=\"url(#clip900)\" style=\"stroke:#000000; stroke-linecap:butt; stroke-linejoin:round; stroke-width:4; stroke-opacity:1; fill:none\" points=\"\n",
       "  186.274,1449.91 205.172,1449.91 \n",
       "  \"/>\n",
       "<polyline clip-path=\"url(#clip900)\" style=\"stroke:#000000; stroke-linecap:butt; stroke-linejoin:round; stroke-width:4; stroke-opacity:1; fill:none\" points=\"\n",
       "  186.274,1105.19 205.172,1105.19 \n",
       "  \"/>\n",
       "<polyline clip-path=\"url(#clip900)\" style=\"stroke:#000000; stroke-linecap:butt; stroke-linejoin:round; stroke-width:4; stroke-opacity:1; fill:none\" points=\"\n",
       "  186.274,760.48 205.172,760.48 \n",
       "  \"/>\n",
       "<polyline clip-path=\"url(#clip900)\" style=\"stroke:#000000; stroke-linecap:butt; stroke-linejoin:round; stroke-width:4; stroke-opacity:1; fill:none\" points=\"\n",
       "  186.274,415.766 205.172,415.766 \n",
       "  \"/>\n",
       "<polyline clip-path=\"url(#clip900)\" style=\"stroke:#000000; stroke-linecap:butt; stroke-linejoin:round; stroke-width:4; stroke-opacity:1; fill:none\" points=\"\n",
       "  186.274,71.0532 205.172,71.0532 \n",
       "  \"/>\n",
       "<path clip-path=\"url(#clip900)\" d=\"M62.9365 1435.7 Q59.3254 1435.7 57.4967 1439.27 Q55.6912 1442.81 55.6912 1449.94 Q55.6912 1457.05 57.4967 1460.61 Q59.3254 1464.15 62.9365 1464.15 Q66.5707 1464.15 68.3763 1460.61 Q70.205 1457.05 70.205 1449.94 Q70.205 1442.81 68.3763 1439.27 Q66.5707 1435.7 62.9365 1435.7 M62.9365 1432 Q68.7467 1432 71.8022 1436.61 Q74.8809 1441.19 74.8809 1449.94 Q74.8809 1458.67 71.8022 1463.27 Q68.7467 1467.86 62.9365 1467.86 Q57.1264 1467.86 54.0477 1463.27 Q50.9921 1458.67 50.9921 1449.94 Q50.9921 1441.19 54.0477 1436.61 Q57.1264 1432 62.9365 1432 Z\" fill=\"#000000\" fill-rule=\"evenodd\" fill-opacity=\"1\" /><path clip-path=\"url(#clip900)\" d=\"M83.0984 1461.31 L87.9827 1461.31 L87.9827 1467.19 L83.0984 1467.19 L83.0984 1461.31 Z\" fill=\"#000000\" fill-rule=\"evenodd\" fill-opacity=\"1\" /><path clip-path=\"url(#clip900)\" d=\"M108.168 1435.7 Q104.557 1435.7 102.728 1439.27 Q100.922 1442.81 100.922 1449.94 Q100.922 1457.05 102.728 1460.61 Q104.557 1464.15 108.168 1464.15 Q111.802 1464.15 113.608 1460.61 Q115.436 1457.05 115.436 1449.94 Q115.436 1442.81 113.608 1439.27 Q111.802 1435.7 108.168 1435.7 M108.168 1432 Q113.978 1432 117.033 1436.61 Q120.112 1441.19 120.112 1449.94 Q120.112 1458.67 117.033 1463.27 Q113.978 1467.86 108.168 1467.86 Q102.358 1467.86 99.2789 1463.27 Q96.2234 1458.67 96.2234 1449.94 Q96.2234 1441.19 99.2789 1436.61 Q102.358 1432 108.168 1432 Z\" fill=\"#000000\" fill-rule=\"evenodd\" fill-opacity=\"1\" /><path clip-path=\"url(#clip900)\" d=\"M138.33 1435.7 Q134.719 1435.7 132.89 1439.27 Q131.084 1442.81 131.084 1449.94 Q131.084 1457.05 132.89 1460.61 Q134.719 1464.15 138.33 1464.15 Q141.964 1464.15 143.769 1460.61 Q145.598 1457.05 145.598 1449.94 Q145.598 1442.81 143.769 1439.27 Q141.964 1435.7 138.33 1435.7 M138.33 1432 Q144.14 1432 147.195 1436.61 Q150.274 1441.19 150.274 1449.94 Q150.274 1458.67 147.195 1463.27 Q144.14 1467.86 138.33 1467.86 Q132.519 1467.86 129.441 1463.27 Q126.385 1458.67 126.385 1449.94 Q126.385 1441.19 129.441 1436.61 Q132.519 1432 138.33 1432 Z\" fill=\"#000000\" fill-rule=\"evenodd\" fill-opacity=\"1\" /><path clip-path=\"url(#clip900)\" d=\"M63.9319 1090.99 Q60.3208 1090.99 58.4921 1094.56 Q56.6865 1098.1 56.6865 1105.23 Q56.6865 1112.33 58.4921 1115.9 Q60.3208 1119.44 63.9319 1119.44 Q67.5661 1119.44 69.3717 1115.9 Q71.2004 1112.33 71.2004 1105.23 Q71.2004 1098.1 69.3717 1094.56 Q67.5661 1090.99 63.9319 1090.99 M63.9319 1087.29 Q69.742 1087.29 72.7976 1091.89 Q75.8763 1096.48 75.8763 1105.23 Q75.8763 1113.95 72.7976 1118.56 Q69.742 1123.14 63.9319 1123.14 Q58.1217 1123.14 55.043 1118.56 Q51.9875 1113.95 51.9875 1105.23 Q51.9875 1096.48 55.043 1091.89 Q58.1217 1087.29 63.9319 1087.29 Z\" fill=\"#000000\" fill-rule=\"evenodd\" fill-opacity=\"1\" /><path clip-path=\"url(#clip900)\" d=\"M84.0938 1116.59 L88.978 1116.59 L88.978 1122.47 L84.0938 1122.47 L84.0938 1116.59 Z\" fill=\"#000000\" fill-rule=\"evenodd\" fill-opacity=\"1\" /><path clip-path=\"url(#clip900)\" d=\"M103.191 1118.54 L119.51 1118.54 L119.51 1122.47 L97.566 1122.47 L97.566 1118.54 Q100.228 1115.78 104.811 1111.15 Q109.418 1106.5 110.598 1105.16 Q112.844 1102.64 113.723 1100.9 Q114.626 1099.14 114.626 1097.45 Q114.626 1094.7 112.682 1092.96 Q110.76 1091.22 107.658 1091.22 Q105.459 1091.22 103.006 1091.99 Q100.575 1092.75 97.7974 1094.3 L97.7974 1089.58 Q100.621 1088.45 103.075 1087.87 Q105.529 1087.29 107.566 1087.29 Q112.936 1087.29 116.131 1089.97 Q119.325 1092.66 119.325 1097.15 Q119.325 1099.28 118.515 1101.2 Q117.728 1103.1 115.621 1105.69 Q115.043 1106.36 111.941 1109.58 Q108.839 1112.77 103.191 1118.54 Z\" fill=\"#000000\" fill-rule=\"evenodd\" fill-opacity=\"1\" /><path clip-path=\"url(#clip900)\" d=\"M129.371 1087.91 L147.728 1087.91 L147.728 1091.85 L133.654 1091.85 L133.654 1100.32 Q134.672 1099.97 135.691 1099.81 Q136.709 1099.63 137.728 1099.63 Q143.515 1099.63 146.894 1102.8 Q150.274 1105.97 150.274 1111.39 Q150.274 1116.96 146.802 1120.07 Q143.33 1123.14 137.01 1123.14 Q134.834 1123.14 132.566 1122.77 Q130.32 1122.4 127.913 1121.66 L127.913 1116.96 Q129.996 1118.1 132.219 1118.65 Q134.441 1119.21 136.918 1119.21 Q140.922 1119.21 143.26 1117.1 Q145.598 1115 145.598 1111.39 Q145.598 1107.77 143.26 1105.67 Q140.922 1103.56 136.918 1103.56 Q135.043 1103.56 133.168 1103.98 Q131.316 1104.39 129.371 1105.27 L129.371 1087.91 Z\" fill=\"#000000\" fill-rule=\"evenodd\" fill-opacity=\"1\" /><path clip-path=\"url(#clip900)\" d=\"M62.9365 746.278 Q59.3254 746.278 57.4967 749.843 Q55.6912 753.385 55.6912 760.514 Q55.6912 767.621 57.4967 771.186 Q59.3254 774.727 62.9365 774.727 Q66.5707 774.727 68.3763 771.186 Q70.205 767.621 70.205 760.514 Q70.205 753.385 68.3763 749.843 Q66.5707 746.278 62.9365 746.278 M62.9365 742.575 Q68.7467 742.575 71.8022 747.181 Q74.8809 751.765 74.8809 760.514 Q74.8809 769.241 71.8022 773.848 Q68.7467 778.431 62.9365 778.431 Q57.1264 778.431 54.0477 773.848 Q50.9921 769.241 50.9921 760.514 Q50.9921 751.765 54.0477 747.181 Q57.1264 742.575 62.9365 742.575 Z\" fill=\"#000000\" fill-rule=\"evenodd\" fill-opacity=\"1\" /><path clip-path=\"url(#clip900)\" d=\"M83.0984 771.88 L87.9827 771.88 L87.9827 777.76 L83.0984 777.76 L83.0984 771.88 Z\" fill=\"#000000\" fill-rule=\"evenodd\" fill-opacity=\"1\" /><path clip-path=\"url(#clip900)\" d=\"M98.2141 743.2 L116.57 743.2 L116.57 747.135 L102.496 747.135 L102.496 755.607 Q103.515 755.26 104.534 755.098 Q105.552 754.913 106.571 754.913 Q112.358 754.913 115.737 758.084 Q119.117 761.255 119.117 766.672 Q119.117 772.251 115.645 775.352 Q112.172 778.431 105.853 778.431 Q103.677 778.431 101.409 778.061 Q99.1632 777.69 96.7558 776.95 L96.7558 772.251 Q98.8391 773.385 101.061 773.94 Q103.284 774.496 105.76 774.496 Q109.765 774.496 112.103 772.389 Q114.441 770.283 114.441 766.672 Q114.441 763.061 112.103 760.954 Q109.765 758.848 105.76 758.848 Q103.885 758.848 102.01 759.264 Q100.159 759.681 98.2141 760.561 L98.2141 743.2 Z\" fill=\"#000000\" fill-rule=\"evenodd\" fill-opacity=\"1\" /><path clip-path=\"url(#clip900)\" d=\"M138.33 746.278 Q134.719 746.278 132.89 749.843 Q131.084 753.385 131.084 760.514 Q131.084 767.621 132.89 771.186 Q134.719 774.727 138.33 774.727 Q141.964 774.727 143.769 771.186 Q145.598 767.621 145.598 760.514 Q145.598 753.385 143.769 749.843 Q141.964 746.278 138.33 746.278 M138.33 742.575 Q144.14 742.575 147.195 747.181 Q150.274 751.765 150.274 760.514 Q150.274 769.241 147.195 773.848 Q144.14 778.431 138.33 778.431 Q132.519 778.431 129.441 773.848 Q126.385 769.241 126.385 760.514 Q126.385 751.765 129.441 747.181 Q132.519 742.575 138.33 742.575 Z\" fill=\"#000000\" fill-rule=\"evenodd\" fill-opacity=\"1\" /><path clip-path=\"url(#clip900)\" d=\"M63.9319 401.565 Q60.3208 401.565 58.4921 405.13 Q56.6865 408.672 56.6865 415.801 Q56.6865 422.908 58.4921 426.472 Q60.3208 430.014 63.9319 430.014 Q67.5661 430.014 69.3717 426.472 Q71.2004 422.908 71.2004 415.801 Q71.2004 408.672 69.3717 405.13 Q67.5661 401.565 63.9319 401.565 M63.9319 397.861 Q69.742 397.861 72.7976 402.468 Q75.8763 407.051 75.8763 415.801 Q75.8763 424.528 72.7976 429.134 Q69.742 433.718 63.9319 433.718 Q58.1217 433.718 55.043 429.134 Q51.9875 424.528 51.9875 415.801 Q51.9875 407.051 55.043 402.468 Q58.1217 397.861 63.9319 397.861 Z\" fill=\"#000000\" fill-rule=\"evenodd\" fill-opacity=\"1\" /><path clip-path=\"url(#clip900)\" d=\"M84.0938 427.167 L88.978 427.167 L88.978 433.046 L84.0938 433.046 L84.0938 427.167 Z\" fill=\"#000000\" fill-rule=\"evenodd\" fill-opacity=\"1\" /><path clip-path=\"url(#clip900)\" d=\"M97.9826 398.486 L120.205 398.486 L120.205 400.477 L107.658 433.046 L102.774 433.046 L114.58 402.422 L97.9826 402.422 L97.9826 398.486 Z\" fill=\"#000000\" fill-rule=\"evenodd\" fill-opacity=\"1\" /><path clip-path=\"url(#clip900)\" d=\"M129.371 398.486 L147.728 398.486 L147.728 402.422 L133.654 402.422 L133.654 410.894 Q134.672 410.547 135.691 410.385 Q136.709 410.199 137.728 410.199 Q143.515 410.199 146.894 413.371 Q150.274 416.542 150.274 421.959 Q150.274 427.537 146.802 430.639 Q143.33 433.718 137.01 433.718 Q134.834 433.718 132.566 433.347 Q130.32 432.977 127.913 432.236 L127.913 427.537 Q129.996 428.672 132.219 429.227 Q134.441 429.783 136.918 429.783 Q140.922 429.783 143.26 427.676 Q145.598 425.57 145.598 421.959 Q145.598 418.347 143.26 416.241 Q140.922 414.135 136.918 414.135 Q135.043 414.135 133.168 414.551 Q131.316 414.968 129.371 415.848 L129.371 398.486 Z\" fill=\"#000000\" fill-rule=\"evenodd\" fill-opacity=\"1\" /><path clip-path=\"url(#clip900)\" d=\"M53.7467 84.398 L61.3856 84.398 L61.3856 58.0324 L53.0754 59.6991 L53.0754 55.4399 L61.3393 53.7732 L66.0152 53.7732 L66.0152 84.398 L73.654 84.398 L73.654 88.3332 L53.7467 88.3332 L53.7467 84.398 Z\" fill=\"#000000\" fill-rule=\"evenodd\" fill-opacity=\"1\" /><path clip-path=\"url(#clip900)\" d=\"M83.0984 82.4536 L87.9827 82.4536 L87.9827 88.3332 L83.0984 88.3332 L83.0984 82.4536 Z\" fill=\"#000000\" fill-rule=\"evenodd\" fill-opacity=\"1\" /><path clip-path=\"url(#clip900)\" d=\"M108.168 56.8519 Q104.557 56.8519 102.728 60.4167 Q100.922 63.9583 100.922 71.0879 Q100.922 78.1944 102.728 81.7592 Q104.557 85.3008 108.168 85.3008 Q111.802 85.3008 113.608 81.7592 Q115.436 78.1944 115.436 71.0879 Q115.436 63.9583 113.608 60.4167 Q111.802 56.8519 108.168 56.8519 M108.168 53.1482 Q113.978 53.1482 117.033 57.7547 Q120.112 62.338 120.112 71.0879 Q120.112 79.8147 117.033 84.4212 Q113.978 89.0045 108.168 89.0045 Q102.358 89.0045 99.2789 84.4212 Q96.2234 79.8147 96.2234 71.0879 Q96.2234 62.338 99.2789 57.7547 Q102.358 53.1482 108.168 53.1482 Z\" fill=\"#000000\" fill-rule=\"evenodd\" fill-opacity=\"1\" /><path clip-path=\"url(#clip900)\" d=\"M138.33 56.8519 Q134.719 56.8519 132.89 60.4167 Q131.084 63.9583 131.084 71.0879 Q131.084 78.1944 132.89 81.7592 Q134.719 85.3008 138.33 85.3008 Q141.964 85.3008 143.769 81.7592 Q145.598 78.1944 145.598 71.0879 Q145.598 63.9583 143.769 60.4167 Q141.964 56.8519 138.33 56.8519 M138.33 53.1482 Q144.14 53.1482 147.195 57.7547 Q150.274 62.338 150.274 71.0879 Q150.274 79.8147 147.195 84.4212 Q144.14 89.0045 138.33 89.0045 Q132.519 89.0045 129.441 84.4212 Q126.385 79.8147 126.385 71.0879 Q126.385 62.338 129.441 57.7547 Q132.519 53.1482 138.33 53.1482 Z\" fill=\"#000000\" fill-rule=\"evenodd\" fill-opacity=\"1\" /><circle clip-path=\"url(#clip902)\" cx=\"1541.29\" cy=\"381.683\" r=\"14\" fill=\"#009af9\" fill-rule=\"evenodd\" fill-opacity=\"1\" stroke=\"#000000\" stroke-opacity=\"1\" stroke-width=\"3.2\"/>\n",
       "<circle clip-path=\"url(#clip902)\" cx=\"1994.86\" cy=\"1274.82\" r=\"14\" fill=\"#009af9\" fill-rule=\"evenodd\" fill-opacity=\"1\" stroke=\"#000000\" stroke-opacity=\"1\" stroke-width=\"3.2\"/>\n",
       "<circle clip-path=\"url(#clip902)\" cx=\"1021.02\" cy=\"551.044\" r=\"14\" fill=\"#009af9\" fill-rule=\"evenodd\" fill-opacity=\"1\" stroke=\"#000000\" stroke-opacity=\"1\" stroke-width=\"3.2\"/>\n",
       "<circle clip-path=\"url(#clip902)\" cx=\"1452.66\" cy=\"165.463\" r=\"14\" fill=\"#009af9\" fill-rule=\"evenodd\" fill-opacity=\"1\" stroke=\"#000000\" stroke-opacity=\"1\" stroke-width=\"3.2\"/>\n",
       "<circle clip-path=\"url(#clip902)\" cx=\"2175.39\" cy=\"1432.57\" r=\"14\" fill=\"#009af9\" fill-rule=\"evenodd\" fill-opacity=\"1\" stroke=\"#000000\" stroke-opacity=\"1\" stroke-width=\"3.2\"/>\n",
       "<circle clip-path=\"url(#clip902)\" cx=\"247.59\" cy=\"475.987\" r=\"14\" fill=\"#009af9\" fill-rule=\"evenodd\" fill-opacity=\"1\" stroke=\"#000000\" stroke-opacity=\"1\" stroke-width=\"3.2\"/>\n",
       "<circle clip-path=\"url(#clip902)\" cx=\"1707.86\" cy=\"916.456\" r=\"14\" fill=\"#009af9\" fill-rule=\"evenodd\" fill-opacity=\"1\" stroke=\"#000000\" stroke-opacity=\"1\" stroke-width=\"3.2\"/>\n",
       "<circle clip-path=\"url(#clip902)\" cx=\"1049.85\" cy=\"387.811\" r=\"14\" fill=\"#009af9\" fill-rule=\"evenodd\" fill-opacity=\"1\" stroke=\"#000000\" stroke-opacity=\"1\" stroke-width=\"3.2\"/>\n",
       "<circle clip-path=\"url(#clip902)\" cx=\"2263.17\" cy=\"383.587\" r=\"14\" fill=\"#009af9\" fill-rule=\"evenodd\" fill-opacity=\"1\" stroke=\"#000000\" stroke-opacity=\"1\" stroke-width=\"3.2\"/>\n",
       "<circle clip-path=\"url(#clip902)\" cx=\"872.051\" cy=\"910.658\" r=\"14\" fill=\"#009af9\" fill-rule=\"evenodd\" fill-opacity=\"1\" stroke=\"#000000\" stroke-opacity=\"1\" stroke-width=\"3.2\"/>\n",
       "<circle clip-path=\"url(#clip902)\" cx=\"831.201\" cy=\"1242.2\" r=\"14\" fill=\"#009af9\" fill-rule=\"evenodd\" fill-opacity=\"1\" stroke=\"#000000\" stroke-opacity=\"1\" stroke-width=\"3.2\"/>\n",
       "<circle clip-path=\"url(#clip902)\" cx=\"277.162\" cy=\"748.472\" r=\"14\" fill=\"#009af9\" fill-rule=\"evenodd\" fill-opacity=\"1\" stroke=\"#000000\" stroke-opacity=\"1\" stroke-width=\"3.2\"/>\n",
       "<circle clip-path=\"url(#clip902)\" cx=\"769.421\" cy=\"1210.43\" r=\"14\" fill=\"#009af9\" fill-rule=\"evenodd\" fill-opacity=\"1\" stroke=\"#000000\" stroke-opacity=\"1\" stroke-width=\"3.2\"/>\n",
       "<circle clip-path=\"url(#clip902)\" cx=\"1001.35\" cy=\"112.062\" r=\"14\" fill=\"#009af9\" fill-rule=\"evenodd\" fill-opacity=\"1\" stroke=\"#000000\" stroke-opacity=\"1\" stroke-width=\"3.2\"/>\n",
       "<circle clip-path=\"url(#clip902)\" cx=\"1245.82\" cy=\"254.19\" r=\"14\" fill=\"#009af9\" fill-rule=\"evenodd\" fill-opacity=\"1\" stroke=\"#000000\" stroke-opacity=\"1\" stroke-width=\"3.2\"/>\n",
       "<circle clip-path=\"url(#clip902)\" cx=\"806.27\" cy=\"483.957\" r=\"14\" fill=\"#009af9\" fill-rule=\"evenodd\" fill-opacity=\"1\" stroke=\"#000000\" stroke-opacity=\"1\" stroke-width=\"3.2\"/>\n",
       "<circle clip-path=\"url(#clip902)\" cx=\"1873.16\" cy=\"775.604\" r=\"14\" fill=\"#009af9\" fill-rule=\"evenodd\" fill-opacity=\"1\" stroke=\"#000000\" stroke-opacity=\"1\" stroke-width=\"3.2\"/>\n",
       "<circle clip-path=\"url(#clip902)\" cx=\"1829.1\" cy=\"582.776\" r=\"14\" fill=\"#009af9\" fill-rule=\"evenodd\" fill-opacity=\"1\" stroke=\"#000000\" stroke-opacity=\"1\" stroke-width=\"3.2\"/>\n",
       "<circle clip-path=\"url(#clip902)\" cx=\"958.454\" cy=\"1215.28\" r=\"14\" fill=\"#009af9\" fill-rule=\"evenodd\" fill-opacity=\"1\" stroke=\"#000000\" stroke-opacity=\"1\" stroke-width=\"3.2\"/>\n",
       "<circle clip-path=\"url(#clip902)\" cx=\"645.39\" cy=\"1081.5\" r=\"14\" fill=\"#009af9\" fill-rule=\"evenodd\" fill-opacity=\"1\" stroke=\"#000000\" stroke-opacity=\"1\" stroke-width=\"3.2\"/>\n",
       "<circle clip-path=\"url(#clip902)\" cx=\"565.526\" cy=\"1226.23\" r=\"14\" fill=\"#009af9\" fill-rule=\"evenodd\" fill-opacity=\"1\" stroke=\"#000000\" stroke-opacity=\"1\" stroke-width=\"3.2\"/>\n",
       "<circle clip-path=\"url(#clip902)\" cx=\"1355.16\" cy=\"488.797\" r=\"14\" fill=\"#009af9\" fill-rule=\"evenodd\" fill-opacity=\"1\" stroke=\"#000000\" stroke-opacity=\"1\" stroke-width=\"3.2\"/>\n",
       "<circle clip-path=\"url(#clip902)\" cx=\"402.632\" cy=\"1223.21\" r=\"14\" fill=\"#009af9\" fill-rule=\"evenodd\" fill-opacity=\"1\" stroke=\"#000000\" stroke-opacity=\"1\" stroke-width=\"3.2\"/>\n",
       "<circle clip-path=\"url(#clip902)\" cx=\"1351.83\" cy=\"388.652\" r=\"14\" fill=\"#009af9\" fill-rule=\"evenodd\" fill-opacity=\"1\" stroke=\"#000000\" stroke-opacity=\"1\" stroke-width=\"3.2\"/>\n",
       "<circle clip-path=\"url(#clip902)\" cx=\"937.176\" cy=\"356.434\" r=\"14\" fill=\"#009af9\" fill-rule=\"evenodd\" fill-opacity=\"1\" stroke=\"#000000\" stroke-opacity=\"1\" stroke-width=\"3.2\"/>\n",
       "<circle clip-path=\"url(#clip902)\" cx=\"2291.44\" cy=\"324.082\" r=\"14\" fill=\"#009af9\" fill-rule=\"evenodd\" fill-opacity=\"1\" stroke=\"#000000\" stroke-opacity=\"1\" stroke-width=\"3.2\"/>\n",
       "<circle clip-path=\"url(#clip902)\" cx=\"1400.37\" cy=\"711.12\" r=\"14\" fill=\"#009af9\" fill-rule=\"evenodd\" fill-opacity=\"1\" stroke=\"#000000\" stroke-opacity=\"1\" stroke-width=\"3.2\"/>\n",
       "<circle clip-path=\"url(#clip902)\" cx=\"881.742\" cy=\"654.452\" r=\"14\" fill=\"#009af9\" fill-rule=\"evenodd\" fill-opacity=\"1\" stroke=\"#000000\" stroke-opacity=\"1\" stroke-width=\"3.2\"/>\n",
       "<circle clip-path=\"url(#clip902)\" cx=\"2073.8\" cy=\"880.162\" r=\"14\" fill=\"#009af9\" fill-rule=\"evenodd\" fill-opacity=\"1\" stroke=\"#000000\" stroke-opacity=\"1\" stroke-width=\"3.2\"/>\n",
       "<circle clip-path=\"url(#clip902)\" cx=\"929.654\" cy=\"706.179\" r=\"14\" fill=\"#009af9\" fill-rule=\"evenodd\" fill-opacity=\"1\" stroke=\"#000000\" stroke-opacity=\"1\" stroke-width=\"3.2\"/>\n",
       "<circle clip-path=\"url(#clip902)\" cx=\"1999.58\" cy=\"1290.43\" r=\"14\" fill=\"#009af9\" fill-rule=\"evenodd\" fill-opacity=\"1\" stroke=\"#000000\" stroke-opacity=\"1\" stroke-width=\"3.2\"/>\n",
       "<circle clip-path=\"url(#clip902)\" cx=\"1132.29\" cy=\"1416.71\" r=\"14\" fill=\"#009af9\" fill-rule=\"evenodd\" fill-opacity=\"1\" stroke=\"#000000\" stroke-opacity=\"1\" stroke-width=\"3.2\"/>\n",
       "<circle clip-path=\"url(#clip902)\" cx=\"1602.29\" cy=\"1398.02\" r=\"14\" fill=\"#009af9\" fill-rule=\"evenodd\" fill-opacity=\"1\" stroke=\"#000000\" stroke-opacity=\"1\" stroke-width=\"3.2\"/>\n",
       "<circle clip-path=\"url(#clip902)\" cx=\"1964.67\" cy=\"333.428\" r=\"14\" fill=\"#009af9\" fill-rule=\"evenodd\" fill-opacity=\"1\" stroke=\"#000000\" stroke-opacity=\"1\" stroke-width=\"3.2\"/>\n",
       "<circle clip-path=\"url(#clip902)\" cx=\"1375.65\" cy=\"935.898\" r=\"14\" fill=\"#009af9\" fill-rule=\"evenodd\" fill-opacity=\"1\" stroke=\"#000000\" stroke-opacity=\"1\" stroke-width=\"3.2\"/>\n",
       "<circle clip-path=\"url(#clip902)\" cx=\"1348.57\" cy=\"1398.92\" r=\"14\" fill=\"#009af9\" fill-rule=\"evenodd\" fill-opacity=\"1\" stroke=\"#000000\" stroke-opacity=\"1\" stroke-width=\"3.2\"/>\n",
       "<circle clip-path=\"url(#clip902)\" cx=\"2071.53\" cy=\"401.385\" r=\"14\" fill=\"#009af9\" fill-rule=\"evenodd\" fill-opacity=\"1\" stroke=\"#000000\" stroke-opacity=\"1\" stroke-width=\"3.2\"/>\n",
       "<circle clip-path=\"url(#clip902)\" cx=\"1196.45\" cy=\"117.461\" r=\"14\" fill=\"#009af9\" fill-rule=\"evenodd\" fill-opacity=\"1\" stroke=\"#000000\" stroke-opacity=\"1\" stroke-width=\"3.2\"/>\n",
       "<circle clip-path=\"url(#clip902)\" cx=\"1303.4\" cy=\"433.905\" r=\"14\" fill=\"#009af9\" fill-rule=\"evenodd\" fill-opacity=\"1\" stroke=\"#000000\" stroke-opacity=\"1\" stroke-width=\"3.2\"/>\n",
       "<circle clip-path=\"url(#clip902)\" cx=\"1176.28\" cy=\"955.083\" r=\"14\" fill=\"#009af9\" fill-rule=\"evenodd\" fill-opacity=\"1\" stroke=\"#000000\" stroke-opacity=\"1\" stroke-width=\"3.2\"/>\n",
       "<circle clip-path=\"url(#clip902)\" cx=\"1597.45\" cy=\"381.09\" r=\"14\" fill=\"#009af9\" fill-rule=\"evenodd\" fill-opacity=\"1\" stroke=\"#000000\" stroke-opacity=\"1\" stroke-width=\"3.2\"/>\n",
       "<circle clip-path=\"url(#clip902)\" cx=\"1593.75\" cy=\"471.234\" r=\"14\" fill=\"#009af9\" fill-rule=\"evenodd\" fill-opacity=\"1\" stroke=\"#000000\" stroke-opacity=\"1\" stroke-width=\"3.2\"/>\n",
       "<circle clip-path=\"url(#clip902)\" cx=\"247.618\" cy=\"260.037\" r=\"14\" fill=\"#009af9\" fill-rule=\"evenodd\" fill-opacity=\"1\" stroke=\"#000000\" stroke-opacity=\"1\" stroke-width=\"3.2\"/>\n",
       "<circle clip-path=\"url(#clip902)\" cx=\"448.363\" cy=\"1195.6\" r=\"14\" fill=\"#009af9\" fill-rule=\"evenodd\" fill-opacity=\"1\" stroke=\"#000000\" stroke-opacity=\"1\" stroke-width=\"3.2\"/>\n",
       "<circle clip-path=\"url(#clip902)\" cx=\"877.424\" cy=\"1445.72\" r=\"14\" fill=\"#009af9\" fill-rule=\"evenodd\" fill-opacity=\"1\" stroke=\"#000000\" stroke-opacity=\"1\" stroke-width=\"3.2\"/>\n",
       "<circle clip-path=\"url(#clip902)\" cx=\"1438.44\" cy=\"544.129\" r=\"14\" fill=\"#009af9\" fill-rule=\"evenodd\" fill-opacity=\"1\" stroke=\"#000000\" stroke-opacity=\"1\" stroke-width=\"3.2\"/>\n",
       "<circle clip-path=\"url(#clip902)\" cx=\"1082.98\" cy=\"1177.07\" r=\"14\" fill=\"#009af9\" fill-rule=\"evenodd\" fill-opacity=\"1\" stroke=\"#000000\" stroke-opacity=\"1\" stroke-width=\"3.2\"/>\n",
       "<circle clip-path=\"url(#clip902)\" cx=\"1407.49\" cy=\"800.596\" r=\"14\" fill=\"#009af9\" fill-rule=\"evenodd\" fill-opacity=\"1\" stroke=\"#000000\" stroke-opacity=\"1\" stroke-width=\"3.2\"/>\n",
       "<circle clip-path=\"url(#clip902)\" cx=\"290.883\" cy=\"605.61\" r=\"14\" fill=\"#009af9\" fill-rule=\"evenodd\" fill-opacity=\"1\" stroke=\"#000000\" stroke-opacity=\"1\" stroke-width=\"3.2\"/>\n",
       "<circle clip-path=\"url(#clip902)\" cx=\"686.67\" cy=\"924.421\" r=\"14\" fill=\"#009af9\" fill-rule=\"evenodd\" fill-opacity=\"1\" stroke=\"#000000\" stroke-opacity=\"1\" stroke-width=\"3.2\"/>\n",
       "<circle clip-path=\"url(#clip902)\" cx=\"2087.31\" cy=\"1191.32\" r=\"14\" fill=\"#009af9\" fill-rule=\"evenodd\" fill-opacity=\"1\" stroke=\"#000000\" stroke-opacity=\"1\" stroke-width=\"3.2\"/>\n",
       "<circle clip-path=\"url(#clip902)\" cx=\"1015.24\" cy=\"962.203\" r=\"14\" fill=\"#009af9\" fill-rule=\"evenodd\" fill-opacity=\"1\" stroke=\"#000000\" stroke-opacity=\"1\" stroke-width=\"3.2\"/>\n",
       "<circle clip-path=\"url(#clip902)\" cx=\"1191.96\" cy=\"1297.39\" r=\"14\" fill=\"#009af9\" fill-rule=\"evenodd\" fill-opacity=\"1\" stroke=\"#000000\" stroke-opacity=\"1\" stroke-width=\"3.2\"/>\n",
       "<circle clip-path=\"url(#clip902)\" cx=\"1207.72\" cy=\"614.551\" r=\"14\" fill=\"#009af9\" fill-rule=\"evenodd\" fill-opacity=\"1\" stroke=\"#000000\" stroke-opacity=\"1\" stroke-width=\"3.2\"/>\n",
       "<circle clip-path=\"url(#clip902)\" cx=\"2211.46\" cy=\"151.383\" r=\"14\" fill=\"#009af9\" fill-rule=\"evenodd\" fill-opacity=\"1\" stroke=\"#000000\" stroke-opacity=\"1\" stroke-width=\"3.2\"/>\n",
       "<circle clip-path=\"url(#clip902)\" cx=\"953.394\" cy=\"486.301\" r=\"14\" fill=\"#009af9\" fill-rule=\"evenodd\" fill-opacity=\"1\" stroke=\"#000000\" stroke-opacity=\"1\" stroke-width=\"3.2\"/>\n",
       "<circle clip-path=\"url(#clip902)\" cx=\"980.063\" cy=\"846.256\" r=\"14\" fill=\"#009af9\" fill-rule=\"evenodd\" fill-opacity=\"1\" stroke=\"#000000\" stroke-opacity=\"1\" stroke-width=\"3.2\"/>\n",
       "<circle clip-path=\"url(#clip902)\" cx=\"541.181\" cy=\"830.54\" r=\"14\" fill=\"#009af9\" fill-rule=\"evenodd\" fill-opacity=\"1\" stroke=\"#000000\" stroke-opacity=\"1\" stroke-width=\"3.2\"/>\n",
       "<circle clip-path=\"url(#clip902)\" cx=\"863.836\" cy=\"522.296\" r=\"14\" fill=\"#009af9\" fill-rule=\"evenodd\" fill-opacity=\"1\" stroke=\"#000000\" stroke-opacity=\"1\" stroke-width=\"3.2\"/>\n",
       "<circle clip-path=\"url(#clip902)\" cx=\"1229.8\" cy=\"1037.78\" r=\"14\" fill=\"#009af9\" fill-rule=\"evenodd\" fill-opacity=\"1\" stroke=\"#000000\" stroke-opacity=\"1\" stroke-width=\"3.2\"/>\n",
       "<circle clip-path=\"url(#clip902)\" cx=\"1101.89\" cy=\"838.277\" r=\"14\" fill=\"#009af9\" fill-rule=\"evenodd\" fill-opacity=\"1\" stroke=\"#000000\" stroke-opacity=\"1\" stroke-width=\"3.2\"/>\n",
       "<circle clip-path=\"url(#clip902)\" cx=\"1002.16\" cy=\"979.616\" r=\"14\" fill=\"#009af9\" fill-rule=\"evenodd\" fill-opacity=\"1\" stroke=\"#000000\" stroke-opacity=\"1\" stroke-width=\"3.2\"/>\n",
       "<circle clip-path=\"url(#clip902)\" cx=\"613.936\" cy=\"1061.04\" r=\"14\" fill=\"#009af9\" fill-rule=\"evenodd\" fill-opacity=\"1\" stroke=\"#000000\" stroke-opacity=\"1\" stroke-width=\"3.2\"/>\n",
       "<circle clip-path=\"url(#clip902)\" cx=\"2085.29\" cy=\"298.444\" r=\"14\" fill=\"#009af9\" fill-rule=\"evenodd\" fill-opacity=\"1\" stroke=\"#000000\" stroke-opacity=\"1\" stroke-width=\"3.2\"/>\n",
       "<circle clip-path=\"url(#clip902)\" cx=\"1217.75\" cy=\"153.793\" r=\"14\" fill=\"#009af9\" fill-rule=\"evenodd\" fill-opacity=\"1\" stroke=\"#000000\" stroke-opacity=\"1\" stroke-width=\"3.2\"/>\n",
       "<circle clip-path=\"url(#clip902)\" cx=\"361.671\" cy=\"1287.7\" r=\"14\" fill=\"#009af9\" fill-rule=\"evenodd\" fill-opacity=\"1\" stroke=\"#000000\" stroke-opacity=\"1\" stroke-width=\"3.2\"/>\n",
       "<circle clip-path=\"url(#clip902)\" cx=\"409.831\" cy=\"128.251\" r=\"14\" fill=\"#009af9\" fill-rule=\"evenodd\" fill-opacity=\"1\" stroke=\"#000000\" stroke-opacity=\"1\" stroke-width=\"3.2\"/>\n",
       "<circle clip-path=\"url(#clip902)\" cx=\"1221.11\" cy=\"304.761\" r=\"14\" fill=\"#009af9\" fill-rule=\"evenodd\" fill-opacity=\"1\" stroke=\"#000000\" stroke-opacity=\"1\" stroke-width=\"3.2\"/>\n",
       "<circle clip-path=\"url(#clip902)\" cx=\"436.112\" cy=\"1397.5\" r=\"14\" fill=\"#009af9\" fill-rule=\"evenodd\" fill-opacity=\"1\" stroke=\"#000000\" stroke-opacity=\"1\" stroke-width=\"3.2\"/>\n",
       "<circle clip-path=\"url(#clip902)\" cx=\"2106.97\" cy=\"1245.5\" r=\"14\" fill=\"#009af9\" fill-rule=\"evenodd\" fill-opacity=\"1\" stroke=\"#000000\" stroke-opacity=\"1\" stroke-width=\"3.2\"/>\n",
       "<circle clip-path=\"url(#clip902)\" cx=\"1473.5\" cy=\"363.858\" r=\"14\" fill=\"#009af9\" fill-rule=\"evenodd\" fill-opacity=\"1\" stroke=\"#000000\" stroke-opacity=\"1\" stroke-width=\"3.2\"/>\n",
       "<circle clip-path=\"url(#clip902)\" cx=\"257.857\" cy=\"1134.87\" r=\"14\" fill=\"#009af9\" fill-rule=\"evenodd\" fill-opacity=\"1\" stroke=\"#000000\" stroke-opacity=\"1\" stroke-width=\"3.2\"/>\n",
       "<circle clip-path=\"url(#clip902)\" cx=\"723.93\" cy=\"270.416\" r=\"14\" fill=\"#009af9\" fill-rule=\"evenodd\" fill-opacity=\"1\" stroke=\"#000000\" stroke-opacity=\"1\" stroke-width=\"3.2\"/>\n",
       "<circle clip-path=\"url(#clip902)\" cx=\"673.208\" cy=\"1127.97\" r=\"14\" fill=\"#009af9\" fill-rule=\"evenodd\" fill-opacity=\"1\" stroke=\"#000000\" stroke-opacity=\"1\" stroke-width=\"3.2\"/>\n",
       "<circle clip-path=\"url(#clip902)\" cx=\"654.049\" cy=\"764.211\" r=\"14\" fill=\"#009af9\" fill-rule=\"evenodd\" fill-opacity=\"1\" stroke=\"#000000\" stroke-opacity=\"1\" stroke-width=\"3.2\"/>\n",
       "<circle clip-path=\"url(#clip902)\" cx=\"1849.43\" cy=\"1278.24\" r=\"14\" fill=\"#009af9\" fill-rule=\"evenodd\" fill-opacity=\"1\" stroke=\"#000000\" stroke-opacity=\"1\" stroke-width=\"3.2\"/>\n",
       "<circle clip-path=\"url(#clip902)\" cx=\"2257.1\" cy=\"1436.85\" r=\"14\" fill=\"#009af9\" fill-rule=\"evenodd\" fill-opacity=\"1\" stroke=\"#000000\" stroke-opacity=\"1\" stroke-width=\"3.2\"/>\n",
       "<circle clip-path=\"url(#clip902)\" cx=\"1147.81\" cy=\"111.327\" r=\"14\" fill=\"#009af9\" fill-rule=\"evenodd\" fill-opacity=\"1\" stroke=\"#000000\" stroke-opacity=\"1\" stroke-width=\"3.2\"/>\n",
       "<circle clip-path=\"url(#clip902)\" cx=\"1159.38\" cy=\"664.87\" r=\"14\" fill=\"#009af9\" fill-rule=\"evenodd\" fill-opacity=\"1\" stroke=\"#000000\" stroke-opacity=\"1\" stroke-width=\"3.2\"/>\n",
       "<circle clip-path=\"url(#clip902)\" cx=\"1679.07\" cy=\"278.248\" r=\"14\" fill=\"#009af9\" fill-rule=\"evenodd\" fill-opacity=\"1\" stroke=\"#000000\" stroke-opacity=\"1\" stroke-width=\"3.2\"/>\n",
       "<circle clip-path=\"url(#clip902)\" cx=\"1818.1\" cy=\"937.506\" r=\"14\" fill=\"#009af9\" fill-rule=\"evenodd\" fill-opacity=\"1\" stroke=\"#000000\" stroke-opacity=\"1\" stroke-width=\"3.2\"/>\n",
       "<circle clip-path=\"url(#clip902)\" cx=\"1120.17\" cy=\"267.576\" r=\"14\" fill=\"#009af9\" fill-rule=\"evenodd\" fill-opacity=\"1\" stroke=\"#000000\" stroke-opacity=\"1\" stroke-width=\"3.2\"/>\n",
       "<circle clip-path=\"url(#clip902)\" cx=\"769.406\" cy=\"605.574\" r=\"14\" fill=\"#009af9\" fill-rule=\"evenodd\" fill-opacity=\"1\" stroke=\"#000000\" stroke-opacity=\"1\" stroke-width=\"3.2\"/>\n",
       "<circle clip-path=\"url(#clip902)\" cx=\"567.691\" cy=\"1180.68\" r=\"14\" fill=\"#009af9\" fill-rule=\"evenodd\" fill-opacity=\"1\" stroke=\"#000000\" stroke-opacity=\"1\" stroke-width=\"3.2\"/>\n",
       "<circle clip-path=\"url(#clip902)\" cx=\"947.761\" cy=\"87.9763\" r=\"14\" fill=\"#009af9\" fill-rule=\"evenodd\" fill-opacity=\"1\" stroke=\"#000000\" stroke-opacity=\"1\" stroke-width=\"3.2\"/>\n",
       "<circle clip-path=\"url(#clip902)\" cx=\"1111.97\" cy=\"1276.33\" r=\"14\" fill=\"#009af9\" fill-rule=\"evenodd\" fill-opacity=\"1\" stroke=\"#000000\" stroke-opacity=\"1\" stroke-width=\"3.2\"/>\n",
       "<circle clip-path=\"url(#clip902)\" cx=\"1661.47\" cy=\"422.204\" r=\"14\" fill=\"#009af9\" fill-rule=\"evenodd\" fill-opacity=\"1\" stroke=\"#000000\" stroke-opacity=\"1\" stroke-width=\"3.2\"/>\n",
       "<circle clip-path=\"url(#clip902)\" cx=\"1114.76\" cy=\"459.43\" r=\"14\" fill=\"#009af9\" fill-rule=\"evenodd\" fill-opacity=\"1\" stroke=\"#000000\" stroke-opacity=\"1\" stroke-width=\"3.2\"/>\n",
       "<circle clip-path=\"url(#clip902)\" cx=\"642.88\" cy=\"1058.52\" r=\"14\" fill=\"#009af9\" fill-rule=\"evenodd\" fill-opacity=\"1\" stroke=\"#000000\" stroke-opacity=\"1\" stroke-width=\"3.2\"/>\n",
       "<circle clip-path=\"url(#clip902)\" cx=\"688.776\" cy=\"1178.72\" r=\"14\" fill=\"#009af9\" fill-rule=\"evenodd\" fill-opacity=\"1\" stroke=\"#000000\" stroke-opacity=\"1\" stroke-width=\"3.2\"/>\n",
       "<circle clip-path=\"url(#clip902)\" cx=\"1653.7\" cy=\"219.912\" r=\"14\" fill=\"#009af9\" fill-rule=\"evenodd\" fill-opacity=\"1\" stroke=\"#000000\" stroke-opacity=\"1\" stroke-width=\"3.2\"/>\n",
       "<circle clip-path=\"url(#clip902)\" cx=\"2230.58\" cy=\"909.639\" r=\"14\" fill=\"#009af9\" fill-rule=\"evenodd\" fill-opacity=\"1\" stroke=\"#000000\" stroke-opacity=\"1\" stroke-width=\"3.2\"/>\n",
       "<circle clip-path=\"url(#clip902)\" cx=\"807.862\" cy=\"459.159\" r=\"14\" fill=\"#009af9\" fill-rule=\"evenodd\" fill-opacity=\"1\" stroke=\"#000000\" stroke-opacity=\"1\" stroke-width=\"3.2\"/>\n",
       "<circle clip-path=\"url(#clip902)\" cx=\"752.051\" cy=\"826.266\" r=\"14\" fill=\"#009af9\" fill-rule=\"evenodd\" fill-opacity=\"1\" stroke=\"#000000\" stroke-opacity=\"1\" stroke-width=\"3.2\"/>\n",
       "<circle clip-path=\"url(#clip902)\" cx=\"1543.23\" cy=\"893.821\" r=\"14\" fill=\"#009af9\" fill-rule=\"evenodd\" fill-opacity=\"1\" stroke=\"#000000\" stroke-opacity=\"1\" stroke-width=\"3.2\"/>\n",
       "<circle clip-path=\"url(#clip902)\" cx=\"1141.64\" cy=\"605.099\" r=\"14\" fill=\"#009af9\" fill-rule=\"evenodd\" fill-opacity=\"1\" stroke=\"#000000\" stroke-opacity=\"1\" stroke-width=\"3.2\"/>\n",
       "<circle clip-path=\"url(#clip902)\" cx=\"908.986\" cy=\"247.652\" r=\"14\" fill=\"#009af9\" fill-rule=\"evenodd\" fill-opacity=\"1\" stroke=\"#000000\" stroke-opacity=\"1\" stroke-width=\"3.2\"/>\n",
       "<circle clip-path=\"url(#clip902)\" cx=\"1185.12\" cy=\"438.45\" r=\"14\" fill=\"#009af9\" fill-rule=\"evenodd\" fill-opacity=\"1\" stroke=\"#000000\" stroke-opacity=\"1\" stroke-width=\"3.2\"/>\n",
       "<circle clip-path=\"url(#clip902)\" cx=\"2019.93\" cy=\"457.097\" r=\"14\" fill=\"#009af9\" fill-rule=\"evenodd\" fill-opacity=\"1\" stroke=\"#000000\" stroke-opacity=\"1\" stroke-width=\"3.2\"/>\n",
       "<circle clip-path=\"url(#clip902)\" cx=\"1350.06\" cy=\"1390.74\" r=\"14\" fill=\"#009af9\" fill-rule=\"evenodd\" fill-opacity=\"1\" stroke=\"#000000\" stroke-opacity=\"1\" stroke-width=\"3.2\"/>\n",
       "<path clip-path=\"url(#clip900)\" d=\"\n",
       "M1987.39 198.898 L2280.54 198.898 L2280.54 95.2176 L1987.39 95.2176  Z\n",
       "  \" fill=\"#ffffff\" fill-rule=\"evenodd\" fill-opacity=\"1\"/>\n",
       "<polyline clip-path=\"url(#clip900)\" style=\"stroke:#000000; stroke-linecap:butt; stroke-linejoin:round; stroke-width:4; stroke-opacity:1; fill:none\" points=\"\n",
       "  1987.39,198.898 2280.54,198.898 2280.54,95.2176 1987.39,95.2176 1987.39,198.898 \n",
       "  \"/>\n",
       "<circle clip-path=\"url(#clip900)\" cx=\"2083.68\" cy=\"147.058\" r=\"23\" fill=\"#009af9\" fill-rule=\"evenodd\" fill-opacity=\"1\" stroke=\"#000000\" stroke-opacity=\"1\" stroke-width=\"5.12\"/>\n",
       "<path clip-path=\"url(#clip900)\" d=\"M2193.81 166.745 Q2192 171.375 2190.29 172.787 Q2188.58 174.199 2185.71 174.199 L2182.3 174.199 L2182.3 170.634 L2184.8 170.634 Q2186.56 170.634 2187.53 169.8 Q2188.51 168.967 2189.69 165.865 L2190.45 163.921 L2179.97 138.412 L2184.48 138.412 L2192.58 158.689 L2200.68 138.412 L2205.2 138.412 L2193.81 166.745 Z\" fill=\"#000000\" fill-rule=\"evenodd\" fill-opacity=\"1\" /><path clip-path=\"url(#clip900)\" d=\"M2212.49 160.402 L2220.13 160.402 L2220.13 134.037 L2211.82 135.703 L2211.82 131.444 L2220.08 129.778 L2224.76 129.778 L2224.76 160.402 L2232.4 160.402 L2232.4 164.338 L2212.49 164.338 L2212.49 160.402 Z\" fill=\"#000000\" fill-rule=\"evenodd\" fill-opacity=\"1\" /></svg>\n"
      ]
     },
     "execution_count": 21,
     "metadata": {},
     "output_type": "execute_result"
    }
   ],
   "source": [
    "scatter(\n",
    "[a.x for a in population],\n",
    "[a.y for a in population]; marker=\".\", seriestype=:scatter # should make lines invisible\n",
    ")"
   ]
  },
  {
   "cell_type": "code",
   "execution_count": 22,
   "metadata": {},
   "outputs": [],
   "source": [
    "import Plots: plot"
   ]
  },
  {
   "cell_type": "code",
   "execution_count": 23,
   "metadata": {},
   "outputs": [
    {
     "data": {
      "text/plain": [
       "plot (generic function with 5 methods)"
      ]
     },
     "execution_count": 23,
     "metadata": {},
     "output_type": "execute_result"
    }
   ],
   "source": [
    "function plot(population::Vector{Agent})\n",
    "    pl = scatter(\n",
    "        [a.x for a in population],\n",
    "        [a.y for a in population]; marker=\".\", seriestype=:scatter # should make lines invisible\n",
    "    )\n",
    "    return pl\n",
    "end"
   ]
  },
  {
   "cell_type": "code",
   "execution_count": 30,
   "metadata": {},
   "outputs": [],
   "source": [
    "pop0 = random_guess(p0);"
   ]
  },
  {
   "cell_type": "code",
   "execution_count": 31,
   "metadata": {},
   "outputs": [
    {
     "name": "stderr",
     "output_type": "stream",
     "text": [
      "┌ Warning: Skipped marker arg ..\n",
      "└ @ Plots /home/pablo/.julia/packages/Plots/8K4be/src/args.jl:1230\n"
     ]
    },
    {
     "data": {
      "image/svg+xml": [
       "<?xml version=\"1.0\" encoding=\"utf-8\"?>\n",
       "<svg xmlns=\"http://www.w3.org/2000/svg\" xmlns:xlink=\"http://www.w3.org/1999/xlink\" width=\"600\" height=\"400\" viewBox=\"0 0 2400 1600\">\n",
       "<defs>\n",
       "  <clipPath id=\"clip980\">\n",
       "    <rect x=\"0\" y=\"0\" width=\"2400\" height=\"1600\"/>\n",
       "  </clipPath>\n",
       "</defs>\n",
       "<path clip-path=\"url(#clip980)\" d=\"\n",
       "M0 1600 L2400 1600 L2400 0 L0 0  Z\n",
       "  \" fill=\"#ffffff\" fill-rule=\"evenodd\" fill-opacity=\"1\"/>\n",
       "<defs>\n",
       "  <clipPath id=\"clip981\">\n",
       "    <rect x=\"480\" y=\"0\" width=\"1681\" height=\"1600\"/>\n",
       "  </clipPath>\n",
       "</defs>\n",
       "<path clip-path=\"url(#clip980)\" d=\"\n",
       "M156.598 1486.45 L2352.76 1486.45 L2352.76 47.2441 L156.598 47.2441  Z\n",
       "  \" fill=\"#ffffff\" fill-rule=\"evenodd\" fill-opacity=\"1\"/>\n",
       "<defs>\n",
       "  <clipPath id=\"clip982\">\n",
       "    <rect x=\"156\" y=\"47\" width=\"2197\" height=\"1440\"/>\n",
       "  </clipPath>\n",
       "</defs>\n",
       "<polyline clip-path=\"url(#clip982)\" style=\"stroke:#000000; stroke-linecap:butt; stroke-linejoin:round; stroke-width:2; stroke-opacity:0.1; fill:none\" points=\"\n",
       "  198.77,1486.45 198.77,47.2441 \n",
       "  \"/>\n",
       "<polyline clip-path=\"url(#clip982)\" style=\"stroke:#000000; stroke-linecap:butt; stroke-linejoin:round; stroke-width:2; stroke-opacity:0.1; fill:none\" points=\"\n",
       "  720.953,1486.45 720.953,47.2441 \n",
       "  \"/>\n",
       "<polyline clip-path=\"url(#clip982)\" style=\"stroke:#000000; stroke-linecap:butt; stroke-linejoin:round; stroke-width:2; stroke-opacity:0.1; fill:none\" points=\"\n",
       "  1243.14,1486.45 1243.14,47.2441 \n",
       "  \"/>\n",
       "<polyline clip-path=\"url(#clip982)\" style=\"stroke:#000000; stroke-linecap:butt; stroke-linejoin:round; stroke-width:2; stroke-opacity:0.1; fill:none\" points=\"\n",
       "  1765.32,1486.45 1765.32,47.2441 \n",
       "  \"/>\n",
       "<polyline clip-path=\"url(#clip982)\" style=\"stroke:#000000; stroke-linecap:butt; stroke-linejoin:round; stroke-width:2; stroke-opacity:0.1; fill:none\" points=\"\n",
       "  2287.5,1486.45 2287.5,47.2441 \n",
       "  \"/>\n",
       "<polyline clip-path=\"url(#clip980)\" style=\"stroke:#000000; stroke-linecap:butt; stroke-linejoin:round; stroke-width:4; stroke-opacity:1; fill:none\" points=\"\n",
       "  156.598,1486.45 2352.76,1486.45 \n",
       "  \"/>\n",
       "<polyline clip-path=\"url(#clip980)\" style=\"stroke:#000000; stroke-linecap:butt; stroke-linejoin:round; stroke-width:4; stroke-opacity:1; fill:none\" points=\"\n",
       "  198.77,1486.45 198.77,1467.55 \n",
       "  \"/>\n",
       "<polyline clip-path=\"url(#clip980)\" style=\"stroke:#000000; stroke-linecap:butt; stroke-linejoin:round; stroke-width:4; stroke-opacity:1; fill:none\" points=\"\n",
       "  720.953,1486.45 720.953,1467.55 \n",
       "  \"/>\n",
       "<polyline clip-path=\"url(#clip980)\" style=\"stroke:#000000; stroke-linecap:butt; stroke-linejoin:round; stroke-width:4; stroke-opacity:1; fill:none\" points=\"\n",
       "  1243.14,1486.45 1243.14,1467.55 \n",
       "  \"/>\n",
       "<polyline clip-path=\"url(#clip980)\" style=\"stroke:#000000; stroke-linecap:butt; stroke-linejoin:round; stroke-width:4; stroke-opacity:1; fill:none\" points=\"\n",
       "  1765.32,1486.45 1765.32,1467.55 \n",
       "  \"/>\n",
       "<polyline clip-path=\"url(#clip980)\" style=\"stroke:#000000; stroke-linecap:butt; stroke-linejoin:round; stroke-width:4; stroke-opacity:1; fill:none\" points=\"\n",
       "  2287.5,1486.45 2287.5,1467.55 \n",
       "  \"/>\n",
       "<path clip-path=\"url(#clip980)\" d=\"M161.074 1517.37 Q157.462 1517.37 155.634 1520.93 Q153.828 1524.47 153.828 1531.6 Q153.828 1538.71 155.634 1542.27 Q157.462 1545.82 161.074 1545.82 Q164.708 1545.82 166.513 1542.27 Q168.342 1538.71 168.342 1531.6 Q168.342 1524.47 166.513 1520.93 Q164.708 1517.37 161.074 1517.37 M161.074 1513.66 Q166.884 1513.66 169.939 1518.27 Q173.018 1522.85 173.018 1531.6 Q173.018 1540.33 169.939 1544.94 Q166.884 1549.52 161.074 1549.52 Q155.263 1549.52 152.185 1544.94 Q149.129 1540.33 149.129 1531.6 Q149.129 1522.85 152.185 1518.27 Q155.263 1513.66 161.074 1513.66 Z\" fill=\"#000000\" fill-rule=\"evenodd\" fill-opacity=\"1\" /><path clip-path=\"url(#clip980)\" d=\"M181.235 1542.97 L186.12 1542.97 L186.12 1548.85 L181.235 1548.85 L181.235 1542.97 Z\" fill=\"#000000\" fill-rule=\"evenodd\" fill-opacity=\"1\" /><path clip-path=\"url(#clip980)\" d=\"M206.305 1517.37 Q202.694 1517.37 200.865 1520.93 Q199.059 1524.47 199.059 1531.6 Q199.059 1538.71 200.865 1542.27 Q202.694 1545.82 206.305 1545.82 Q209.939 1545.82 211.745 1542.27 Q213.573 1538.71 213.573 1531.6 Q213.573 1524.47 211.745 1520.93 Q209.939 1517.37 206.305 1517.37 M206.305 1513.66 Q212.115 1513.66 215.17 1518.27 Q218.249 1522.85 218.249 1531.6 Q218.249 1540.33 215.17 1544.94 Q212.115 1549.52 206.305 1549.52 Q200.495 1549.52 197.416 1544.94 Q194.36 1540.33 194.36 1531.6 Q194.36 1522.85 197.416 1518.27 Q200.495 1513.66 206.305 1513.66 Z\" fill=\"#000000\" fill-rule=\"evenodd\" fill-opacity=\"1\" /><path clip-path=\"url(#clip980)\" d=\"M236.467 1517.37 Q232.856 1517.37 231.027 1520.93 Q229.221 1524.47 229.221 1531.6 Q229.221 1538.71 231.027 1542.27 Q232.856 1545.82 236.467 1545.82 Q240.101 1545.82 241.906 1542.27 Q243.735 1538.71 243.735 1531.6 Q243.735 1524.47 241.906 1520.93 Q240.101 1517.37 236.467 1517.37 M236.467 1513.66 Q242.277 1513.66 245.332 1518.27 Q248.411 1522.85 248.411 1531.6 Q248.411 1540.33 245.332 1544.94 Q242.277 1549.52 236.467 1549.52 Q230.656 1549.52 227.578 1544.94 Q224.522 1540.33 224.522 1531.6 Q224.522 1522.85 227.578 1518.27 Q230.656 1513.66 236.467 1513.66 Z\" fill=\"#000000\" fill-rule=\"evenodd\" fill-opacity=\"1\" /><path clip-path=\"url(#clip980)\" d=\"M683.754 1517.37 Q680.143 1517.37 678.314 1520.93 Q676.509 1524.47 676.509 1531.6 Q676.509 1538.71 678.314 1542.27 Q680.143 1545.82 683.754 1545.82 Q687.388 1545.82 689.194 1542.27 Q691.022 1538.71 691.022 1531.6 Q691.022 1524.47 689.194 1520.93 Q687.388 1517.37 683.754 1517.37 M683.754 1513.66 Q689.564 1513.66 692.62 1518.27 Q695.698 1522.85 695.698 1531.6 Q695.698 1540.33 692.62 1544.94 Q689.564 1549.52 683.754 1549.52 Q677.944 1549.52 674.865 1544.94 Q671.81 1540.33 671.81 1531.6 Q671.81 1522.85 674.865 1518.27 Q677.944 1513.66 683.754 1513.66 Z\" fill=\"#000000\" fill-rule=\"evenodd\" fill-opacity=\"1\" /><path clip-path=\"url(#clip980)\" d=\"M703.916 1542.97 L708.8 1542.97 L708.8 1548.85 L703.916 1548.85 L703.916 1542.97 Z\" fill=\"#000000\" fill-rule=\"evenodd\" fill-opacity=\"1\" /><path clip-path=\"url(#clip980)\" d=\"M723.013 1544.91 L739.332 1544.91 L739.332 1548.85 L717.388 1548.85 L717.388 1544.91 Q720.05 1542.16 724.633 1537.53 Q729.24 1532.88 730.42 1531.53 Q732.666 1529.01 733.545 1527.27 Q734.448 1525.51 734.448 1523.82 Q734.448 1521.07 732.504 1519.33 Q730.582 1517.6 727.481 1517.6 Q725.281 1517.6 722.828 1518.36 Q720.397 1519.13 717.619 1520.68 L717.619 1515.95 Q720.444 1514.82 722.897 1514.24 Q725.351 1513.66 727.388 1513.66 Q732.758 1513.66 735.953 1516.35 Q739.147 1519.03 739.147 1523.52 Q739.147 1525.65 738.337 1527.57 Q737.55 1529.47 735.443 1532.07 Q734.865 1532.74 731.763 1535.95 Q728.661 1539.15 723.013 1544.91 Z\" fill=\"#000000\" fill-rule=\"evenodd\" fill-opacity=\"1\" /><path clip-path=\"url(#clip980)\" d=\"M749.193 1514.29 L767.55 1514.29 L767.55 1518.22 L753.476 1518.22 L753.476 1526.7 Q754.494 1526.35 755.513 1526.19 Q756.531 1526 757.55 1526 Q763.337 1526 766.716 1529.17 Q770.096 1532.34 770.096 1537.76 Q770.096 1543.34 766.624 1546.44 Q763.152 1549.52 756.832 1549.52 Q754.656 1549.52 752.388 1549.15 Q750.142 1548.78 747.735 1548.04 L747.735 1543.34 Q749.818 1544.47 752.041 1545.03 Q754.263 1545.58 756.74 1545.58 Q760.744 1545.58 763.082 1543.48 Q765.42 1541.37 765.42 1537.76 Q765.42 1534.15 763.082 1532.04 Q760.744 1529.94 756.74 1529.94 Q754.865 1529.94 752.99 1530.35 Q751.138 1530.77 749.193 1531.65 L749.193 1514.29 Z\" fill=\"#000000\" fill-rule=\"evenodd\" fill-opacity=\"1\" /><path clip-path=\"url(#clip980)\" d=\"M1205.44 1517.37 Q1201.83 1517.37 1200 1520.93 Q1198.19 1524.47 1198.19 1531.6 Q1198.19 1538.71 1200 1542.27 Q1201.83 1545.82 1205.44 1545.82 Q1209.07 1545.82 1210.88 1542.27 Q1212.71 1538.71 1212.71 1531.6 Q1212.71 1524.47 1210.88 1520.93 Q1209.07 1517.37 1205.44 1517.37 M1205.44 1513.66 Q1211.25 1513.66 1214.3 1518.27 Q1217.38 1522.85 1217.38 1531.6 Q1217.38 1540.33 1214.3 1544.94 Q1211.25 1549.52 1205.44 1549.52 Q1199.63 1549.52 1196.55 1544.94 Q1193.49 1540.33 1193.49 1531.6 Q1193.49 1522.85 1196.55 1518.27 Q1199.63 1513.66 1205.44 1513.66 Z\" fill=\"#000000\" fill-rule=\"evenodd\" fill-opacity=\"1\" /><path clip-path=\"url(#clip980)\" d=\"M1225.6 1542.97 L1230.49 1542.97 L1230.49 1548.85 L1225.6 1548.85 L1225.6 1542.97 Z\" fill=\"#000000\" fill-rule=\"evenodd\" fill-opacity=\"1\" /><path clip-path=\"url(#clip980)\" d=\"M1240.72 1514.29 L1259.07 1514.29 L1259.07 1518.22 L1245 1518.22 L1245 1526.7 Q1246.02 1526.35 1247.04 1526.19 Q1248.05 1526 1249.07 1526 Q1254.86 1526 1258.24 1529.17 Q1261.62 1532.34 1261.62 1537.76 Q1261.62 1543.34 1258.15 1546.44 Q1254.67 1549.52 1248.36 1549.52 Q1246.18 1549.52 1243.91 1549.15 Q1241.67 1548.78 1239.26 1548.04 L1239.26 1543.34 Q1241.34 1544.47 1243.56 1545.03 Q1245.79 1545.58 1248.26 1545.58 Q1252.27 1545.58 1254.61 1543.48 Q1256.94 1541.37 1256.94 1537.76 Q1256.94 1534.15 1254.61 1532.04 Q1252.27 1529.94 1248.26 1529.94 Q1246.39 1529.94 1244.51 1530.35 Q1242.66 1530.77 1240.72 1531.65 L1240.72 1514.29 Z\" fill=\"#000000\" fill-rule=\"evenodd\" fill-opacity=\"1\" /><path clip-path=\"url(#clip980)\" d=\"M1280.83 1517.37 Q1277.22 1517.37 1275.39 1520.93 Q1273.59 1524.47 1273.59 1531.6 Q1273.59 1538.71 1275.39 1542.27 Q1277.22 1545.82 1280.83 1545.82 Q1284.47 1545.82 1286.27 1542.27 Q1288.1 1538.71 1288.1 1531.6 Q1288.1 1524.47 1286.27 1520.93 Q1284.47 1517.37 1280.83 1517.37 M1280.83 1513.66 Q1286.64 1513.66 1289.7 1518.27 Q1292.78 1522.85 1292.78 1531.6 Q1292.78 1540.33 1289.7 1544.94 Q1286.64 1549.52 1280.83 1549.52 Q1275.02 1549.52 1271.94 1544.94 Q1268.89 1540.33 1268.89 1531.6 Q1268.89 1522.85 1271.94 1518.27 Q1275.02 1513.66 1280.83 1513.66 Z\" fill=\"#000000\" fill-rule=\"evenodd\" fill-opacity=\"1\" /><path clip-path=\"url(#clip980)\" d=\"M1728.12 1517.37 Q1724.51 1517.37 1722.68 1520.93 Q1720.87 1524.47 1720.87 1531.6 Q1720.87 1538.71 1722.68 1542.27 Q1724.51 1545.82 1728.12 1545.82 Q1731.75 1545.82 1733.56 1542.27 Q1735.39 1538.71 1735.39 1531.6 Q1735.39 1524.47 1733.56 1520.93 Q1731.75 1517.37 1728.12 1517.37 M1728.12 1513.66 Q1733.93 1513.66 1736.99 1518.27 Q1740.06 1522.85 1740.06 1531.6 Q1740.06 1540.33 1736.99 1544.94 Q1733.93 1549.52 1728.12 1549.52 Q1722.31 1549.52 1719.23 1544.94 Q1716.17 1540.33 1716.17 1531.6 Q1716.17 1522.85 1719.23 1518.27 Q1722.31 1513.66 1728.12 1513.66 Z\" fill=\"#000000\" fill-rule=\"evenodd\" fill-opacity=\"1\" /><path clip-path=\"url(#clip980)\" d=\"M1748.28 1542.97 L1753.17 1542.97 L1753.17 1548.85 L1748.28 1548.85 L1748.28 1542.97 Z\" fill=\"#000000\" fill-rule=\"evenodd\" fill-opacity=\"1\" /><path clip-path=\"url(#clip980)\" d=\"M1762.17 1514.29 L1784.39 1514.29 L1784.39 1516.28 L1771.85 1548.85 L1766.96 1548.85 L1778.77 1518.22 L1762.17 1518.22 L1762.17 1514.29 Z\" fill=\"#000000\" fill-rule=\"evenodd\" fill-opacity=\"1\" /><path clip-path=\"url(#clip980)\" d=\"M1793.56 1514.29 L1811.92 1514.29 L1811.92 1518.22 L1797.84 1518.22 L1797.84 1526.7 Q1798.86 1526.35 1799.88 1526.19 Q1800.9 1526 1801.92 1526 Q1807.7 1526 1811.08 1529.17 Q1814.46 1532.34 1814.46 1537.76 Q1814.46 1543.34 1810.99 1546.44 Q1807.52 1549.52 1801.2 1549.52 Q1799.02 1549.52 1796.75 1549.15 Q1794.51 1548.78 1792.1 1548.04 L1792.1 1543.34 Q1794.18 1544.47 1796.41 1545.03 Q1798.63 1545.58 1801.11 1545.58 Q1805.11 1545.58 1807.45 1543.48 Q1809.79 1541.37 1809.79 1537.76 Q1809.79 1534.15 1807.45 1532.04 Q1805.11 1529.94 1801.11 1529.94 Q1799.23 1529.94 1797.36 1530.35 Q1795.5 1530.77 1793.56 1531.65 L1793.56 1514.29 Z\" fill=\"#000000\" fill-rule=\"evenodd\" fill-opacity=\"1\" /><path clip-path=\"url(#clip980)\" d=\"M2239.57 1544.91 L2247.21 1544.91 L2247.21 1518.55 L2238.9 1520.21 L2238.9 1515.95 L2247.17 1514.29 L2251.84 1514.29 L2251.84 1544.91 L2259.48 1544.91 L2259.48 1548.85 L2239.57 1548.85 L2239.57 1544.91 Z\" fill=\"#000000\" fill-rule=\"evenodd\" fill-opacity=\"1\" /><path clip-path=\"url(#clip980)\" d=\"M2268.92 1542.97 L2273.81 1542.97 L2273.81 1548.85 L2268.92 1548.85 L2268.92 1542.97 Z\" fill=\"#000000\" fill-rule=\"evenodd\" fill-opacity=\"1\" /><path clip-path=\"url(#clip980)\" d=\"M2293.99 1517.37 Q2290.38 1517.37 2288.55 1520.93 Q2286.75 1524.47 2286.75 1531.6 Q2286.75 1538.71 2288.55 1542.27 Q2290.38 1545.82 2293.99 1545.82 Q2297.63 1545.82 2299.43 1542.27 Q2301.26 1538.71 2301.26 1531.6 Q2301.26 1524.47 2299.43 1520.93 Q2297.63 1517.37 2293.99 1517.37 M2293.99 1513.66 Q2299.8 1513.66 2302.86 1518.27 Q2305.94 1522.85 2305.94 1531.6 Q2305.94 1540.33 2302.86 1544.94 Q2299.8 1549.52 2293.99 1549.52 Q2288.18 1549.52 2285.11 1544.94 Q2282.05 1540.33 2282.05 1531.6 Q2282.05 1522.85 2285.11 1518.27 Q2288.18 1513.66 2293.99 1513.66 Z\" fill=\"#000000\" fill-rule=\"evenodd\" fill-opacity=\"1\" /><path clip-path=\"url(#clip980)\" d=\"M2324.16 1517.37 Q2320.54 1517.37 2318.72 1520.93 Q2316.91 1524.47 2316.91 1531.6 Q2316.91 1538.71 2318.72 1542.27 Q2320.54 1545.82 2324.16 1545.82 Q2327.79 1545.82 2329.6 1542.27 Q2331.42 1538.71 2331.42 1531.6 Q2331.42 1524.47 2329.6 1520.93 Q2327.79 1517.37 2324.16 1517.37 M2324.16 1513.66 Q2329.97 1513.66 2333.02 1518.27 Q2336.1 1522.85 2336.1 1531.6 Q2336.1 1540.33 2333.02 1544.94 Q2329.97 1549.52 2324.16 1549.52 Q2318.35 1549.52 2315.27 1544.94 Q2312.21 1540.33 2312.21 1531.6 Q2312.21 1522.85 2315.27 1518.27 Q2318.35 1513.66 2324.16 1513.66 Z\" fill=\"#000000\" fill-rule=\"evenodd\" fill-opacity=\"1\" /><polyline clip-path=\"url(#clip982)\" style=\"stroke:#000000; stroke-linecap:butt; stroke-linejoin:round; stroke-width:2; stroke-opacity:0.1; fill:none\" points=\"\n",
       "  156.598,1267.5 2352.76,1267.5 \n",
       "  \"/>\n",
       "<polyline clip-path=\"url(#clip982)\" style=\"stroke:#000000; stroke-linecap:butt; stroke-linejoin:round; stroke-width:2; stroke-opacity:0.1; fill:none\" points=\"\n",
       "  156.598,972.622 2352.76,972.622 \n",
       "  \"/>\n",
       "<polyline clip-path=\"url(#clip982)\" style=\"stroke:#000000; stroke-linecap:butt; stroke-linejoin:round; stroke-width:2; stroke-opacity:0.1; fill:none\" points=\"\n",
       "  156.598,677.74 2352.76,677.74 \n",
       "  \"/>\n",
       "<polyline clip-path=\"url(#clip982)\" style=\"stroke:#000000; stroke-linecap:butt; stroke-linejoin:round; stroke-width:2; stroke-opacity:0.1; fill:none\" points=\"\n",
       "  156.598,382.857 2352.76,382.857 \n",
       "  \"/>\n",
       "<polyline clip-path=\"url(#clip982)\" style=\"stroke:#000000; stroke-linecap:butt; stroke-linejoin:round; stroke-width:2; stroke-opacity:0.1; fill:none\" points=\"\n",
       "  156.598,87.9746 2352.76,87.9746 \n",
       "  \"/>\n",
       "<polyline clip-path=\"url(#clip980)\" style=\"stroke:#000000; stroke-linecap:butt; stroke-linejoin:round; stroke-width:4; stroke-opacity:1; fill:none\" points=\"\n",
       "  156.598,1486.45 156.598,47.2441 \n",
       "  \"/>\n",
       "<polyline clip-path=\"url(#clip980)\" style=\"stroke:#000000; stroke-linecap:butt; stroke-linejoin:round; stroke-width:4; stroke-opacity:1; fill:none\" points=\"\n",
       "  156.598,1267.5 175.496,1267.5 \n",
       "  \"/>\n",
       "<polyline clip-path=\"url(#clip980)\" style=\"stroke:#000000; stroke-linecap:butt; stroke-linejoin:round; stroke-width:4; stroke-opacity:1; fill:none\" points=\"\n",
       "  156.598,972.622 175.496,972.622 \n",
       "  \"/>\n",
       "<polyline clip-path=\"url(#clip980)\" style=\"stroke:#000000; stroke-linecap:butt; stroke-linejoin:round; stroke-width:4; stroke-opacity:1; fill:none\" points=\"\n",
       "  156.598,677.74 175.496,677.74 \n",
       "  \"/>\n",
       "<polyline clip-path=\"url(#clip980)\" style=\"stroke:#000000; stroke-linecap:butt; stroke-linejoin:round; stroke-width:4; stroke-opacity:1; fill:none\" points=\"\n",
       "  156.598,382.857 175.496,382.857 \n",
       "  \"/>\n",
       "<polyline clip-path=\"url(#clip980)\" style=\"stroke:#000000; stroke-linecap:butt; stroke-linejoin:round; stroke-width:4; stroke-opacity:1; fill:none\" points=\"\n",
       "  156.598,87.9746 175.496,87.9746 \n",
       "  \"/>\n",
       "<path clip-path=\"url(#clip980)\" d=\"M65.0198 1253.3 Q61.4087 1253.3 59.58 1256.87 Q57.7745 1260.41 57.7745 1267.54 Q57.7745 1274.65 59.58 1278.21 Q61.4087 1281.75 65.0198 1281.75 Q68.6541 1281.75 70.4596 1278.21 Q72.2883 1274.65 72.2883 1267.54 Q72.2883 1260.41 70.4596 1256.87 Q68.6541 1253.3 65.0198 1253.3 M65.0198 1249.6 Q70.83 1249.6 73.8855 1254.21 Q76.9642 1258.79 76.9642 1267.54 Q76.9642 1276.27 73.8855 1280.87 Q70.83 1285.46 65.0198 1285.46 Q59.2097 1285.46 56.131 1280.87 Q53.0754 1276.27 53.0754 1267.54 Q53.0754 1258.79 56.131 1254.21 Q59.2097 1249.6 65.0198 1249.6 Z\" fill=\"#000000\" fill-rule=\"evenodd\" fill-opacity=\"1\" /><path clip-path=\"url(#clip980)\" d=\"M85.1818 1278.91 L90.066 1278.91 L90.066 1284.78 L85.1818 1284.78 L85.1818 1278.91 Z\" fill=\"#000000\" fill-rule=\"evenodd\" fill-opacity=\"1\" /><path clip-path=\"url(#clip980)\" d=\"M104.279 1280.85 L120.598 1280.85 L120.598 1284.78 L98.6539 1284.78 L98.6539 1280.85 Q101.316 1278.09 105.899 1273.47 Q110.506 1268.81 111.686 1267.47 Q113.932 1264.95 114.811 1263.21 Q115.714 1261.45 115.714 1259.76 Q115.714 1257.01 113.77 1255.27 Q111.848 1253.53 108.746 1253.53 Q106.547 1253.53 104.094 1254.3 Q101.663 1255.06 98.8854 1256.61 L98.8854 1251.89 Q101.709 1250.76 104.163 1250.18 Q106.617 1249.6 108.654 1249.6 Q114.024 1249.6 117.219 1252.28 Q120.413 1254.97 120.413 1259.46 Q120.413 1261.59 119.603 1263.51 Q118.816 1265.41 116.709 1268 Q116.131 1268.67 113.029 1271.89 Q109.927 1275.09 104.279 1280.85 Z\" fill=\"#000000\" fill-rule=\"evenodd\" fill-opacity=\"1\" /><path clip-path=\"url(#clip980)\" d=\"M62.9365 958.421 Q59.3254 958.421 57.4967 961.986 Q55.6912 965.527 55.6912 972.657 Q55.6912 979.763 57.4967 983.328 Q59.3254 986.87 62.9365 986.87 Q66.5707 986.87 68.3763 983.328 Q70.205 979.763 70.205 972.657 Q70.205 965.527 68.3763 961.986 Q66.5707 958.421 62.9365 958.421 M62.9365 954.717 Q68.7467 954.717 71.8022 959.324 Q74.8809 963.907 74.8809 972.657 Q74.8809 981.384 71.8022 985.99 Q68.7467 990.573 62.9365 990.573 Q57.1264 990.573 54.0477 985.99 Q50.9921 981.384 50.9921 972.657 Q50.9921 963.907 54.0477 959.324 Q57.1264 954.717 62.9365 954.717 Z\" fill=\"#000000\" fill-rule=\"evenodd\" fill-opacity=\"1\" /><path clip-path=\"url(#clip980)\" d=\"M83.0984 984.023 L87.9827 984.023 L87.9827 989.902 L83.0984 989.902 L83.0984 984.023 Z\" fill=\"#000000\" fill-rule=\"evenodd\" fill-opacity=\"1\" /><path clip-path=\"url(#clip980)\" d=\"M111.015 959.416 L99.2095 977.865 L111.015 977.865 L111.015 959.416 M109.788 955.342 L115.668 955.342 L115.668 977.865 L120.598 977.865 L120.598 981.754 L115.668 981.754 L115.668 989.902 L111.015 989.902 L111.015 981.754 L95.4132 981.754 L95.4132 977.24 L109.788 955.342 Z\" fill=\"#000000\" fill-rule=\"evenodd\" fill-opacity=\"1\" /><path clip-path=\"url(#clip980)\" d=\"M63.2606 663.538 Q59.6495 663.538 57.8208 667.103 Q56.0152 670.645 56.0152 677.774 Q56.0152 684.881 57.8208 688.446 Q59.6495 691.987 63.2606 691.987 Q66.8948 691.987 68.7004 688.446 Q70.5291 684.881 70.5291 677.774 Q70.5291 670.645 68.7004 667.103 Q66.8948 663.538 63.2606 663.538 M63.2606 659.835 Q69.0707 659.835 72.1263 664.441 Q75.205 669.024 75.205 677.774 Q75.205 686.501 72.1263 691.108 Q69.0707 695.691 63.2606 695.691 Q57.4504 695.691 54.3717 691.108 Q51.3162 686.501 51.3162 677.774 Q51.3162 669.024 54.3717 664.441 Q57.4504 659.835 63.2606 659.835 Z\" fill=\"#000000\" fill-rule=\"evenodd\" fill-opacity=\"1\" /><path clip-path=\"url(#clip980)\" d=\"M83.4225 689.14 L88.3067 689.14 L88.3067 695.02 L83.4225 695.02 L83.4225 689.14 Z\" fill=\"#000000\" fill-rule=\"evenodd\" fill-opacity=\"1\" /><path clip-path=\"url(#clip980)\" d=\"M109.071 675.876 Q105.922 675.876 104.071 678.029 Q102.242 680.182 102.242 683.932 Q102.242 687.659 104.071 689.834 Q105.922 691.987 109.071 691.987 Q112.219 691.987 114.047 689.834 Q115.899 687.659 115.899 683.932 Q115.899 680.182 114.047 678.029 Q112.219 675.876 109.071 675.876 M118.353 661.224 L118.353 665.483 Q116.594 664.649 114.788 664.21 Q113.006 663.77 111.246 663.77 Q106.617 663.77 104.163 666.895 Q101.733 670.02 101.385 676.339 Q102.751 674.325 104.811 673.26 Q106.871 672.173 109.348 672.173 Q114.557 672.173 117.566 675.344 Q120.598 678.492 120.598 683.932 Q120.598 689.256 117.45 692.473 Q114.302 695.691 109.071 695.691 Q103.075 695.691 99.9039 691.108 Q96.7326 686.501 96.7326 677.774 Q96.7326 669.58 100.621 664.719 Q104.51 659.835 111.061 659.835 Q112.82 659.835 114.603 660.182 Q116.408 660.529 118.353 661.224 Z\" fill=\"#000000\" fill-rule=\"evenodd\" fill-opacity=\"1\" /><path clip-path=\"url(#clip980)\" d=\"M63.5152 368.656 Q59.9041 368.656 58.0754 372.221 Q56.2699 375.762 56.2699 382.892 Q56.2699 389.998 58.0754 393.563 Q59.9041 397.105 63.5152 397.105 Q67.1494 397.105 68.955 393.563 Q70.7837 389.998 70.7837 382.892 Q70.7837 375.762 68.955 372.221 Q67.1494 368.656 63.5152 368.656 M63.5152 364.952 Q69.3254 364.952 72.3809 369.559 Q75.4596 374.142 75.4596 382.892 Q75.4596 391.619 72.3809 396.225 Q69.3254 400.808 63.5152 400.808 Q57.7051 400.808 54.6264 396.225 Q51.5708 391.619 51.5708 382.892 Q51.5708 374.142 54.6264 369.559 Q57.7051 364.952 63.5152 364.952 Z\" fill=\"#000000\" fill-rule=\"evenodd\" fill-opacity=\"1\" /><path clip-path=\"url(#clip980)\" d=\"M83.6771 394.258 L88.5614 394.258 L88.5614 400.137 L83.6771 400.137 L83.6771 394.258 Z\" fill=\"#000000\" fill-rule=\"evenodd\" fill-opacity=\"1\" /><path clip-path=\"url(#clip980)\" d=\"M108.746 383.725 Q105.413 383.725 103.492 385.508 Q101.594 387.29 101.594 390.415 Q101.594 393.54 103.492 395.322 Q105.413 397.105 108.746 397.105 Q112.08 397.105 114.001 395.322 Q115.922 393.517 115.922 390.415 Q115.922 387.29 114.001 385.508 Q112.103 383.725 108.746 383.725 M104.071 381.734 Q101.061 380.994 99.3715 378.934 Q97.7048 376.873 97.7048 373.91 Q97.7048 369.767 100.645 367.36 Q103.608 364.952 108.746 364.952 Q113.908 364.952 116.848 367.36 Q119.788 369.767 119.788 373.91 Q119.788 376.873 118.098 378.934 Q116.432 380.994 113.445 381.734 Q116.825 382.521 118.7 384.813 Q120.598 387.105 120.598 390.415 Q120.598 395.438 117.52 398.123 Q114.464 400.808 108.746 400.808 Q103.029 400.808 99.9502 398.123 Q96.8947 395.438 96.8947 390.415 Q96.8947 387.105 98.7928 384.813 Q100.691 382.521 104.071 381.734 M102.358 374.35 Q102.358 377.035 104.024 378.54 Q105.714 380.045 108.746 380.045 Q111.756 380.045 113.445 378.54 Q115.158 377.035 115.158 374.35 Q115.158 371.665 113.445 370.16 Q111.756 368.656 108.746 368.656 Q105.714 368.656 104.024 370.16 Q102.358 371.665 102.358 374.35 Z\" fill=\"#000000\" fill-rule=\"evenodd\" fill-opacity=\"1\" /><path clip-path=\"url(#clip980)\" d=\"M54.2328 101.319 L61.8717 101.319 L61.8717 74.9538 L53.5616 76.6205 L53.5616 72.3612 L61.8254 70.6946 L66.5013 70.6946 L66.5013 101.319 L74.1402 101.319 L74.1402 105.255 L54.2328 105.255 L54.2328 101.319 Z\" fill=\"#000000\" fill-rule=\"evenodd\" fill-opacity=\"1\" /><path clip-path=\"url(#clip980)\" d=\"M83.5845 99.375 L88.4688 99.375 L88.4688 105.255 L83.5845 105.255 L83.5845 99.375 Z\" fill=\"#000000\" fill-rule=\"evenodd\" fill-opacity=\"1\" /><path clip-path=\"url(#clip980)\" d=\"M108.654 73.7733 Q105.043 73.7733 103.214 77.3381 Q101.409 80.8797 101.409 88.0093 Q101.409 95.1158 103.214 98.6805 Q105.043 102.222 108.654 102.222 Q112.288 102.222 114.094 98.6805 Q115.922 95.1158 115.922 88.0093 Q115.922 80.8797 114.094 77.3381 Q112.288 73.7733 108.654 73.7733 M108.654 70.0696 Q114.464 70.0696 117.52 74.676 Q120.598 79.2594 120.598 88.0093 Q120.598 96.7361 117.52 101.343 Q114.464 105.926 108.654 105.926 Q102.844 105.926 99.765 101.343 Q96.7095 96.7361 96.7095 88.0093 Q96.7095 79.2594 99.765 74.676 Q102.844 70.0696 108.654 70.0696 Z\" fill=\"#000000\" fill-rule=\"evenodd\" fill-opacity=\"1\" /><circle clip-path=\"url(#clip982)\" cx=\"1121.71\" cy=\"364.647\" r=\"14\" fill=\"#009af9\" fill-rule=\"evenodd\" fill-opacity=\"1\" stroke=\"#000000\" stroke-opacity=\"1\" stroke-width=\"3.2\"/>\n",
       "<circle clip-path=\"url(#clip982)\" cx=\"1839.27\" cy=\"180.497\" r=\"14\" fill=\"#009af9\" fill-rule=\"evenodd\" fill-opacity=\"1\" stroke=\"#000000\" stroke-opacity=\"1\" stroke-width=\"3.2\"/>\n",
       "<circle clip-path=\"url(#clip982)\" cx=\"2282.36\" cy=\"1091.14\" r=\"14\" fill=\"#009af9\" fill-rule=\"evenodd\" fill-opacity=\"1\" stroke=\"#000000\" stroke-opacity=\"1\" stroke-width=\"3.2\"/>\n",
       "<circle clip-path=\"url(#clip982)\" cx=\"592.97\" cy=\"689.453\" r=\"14\" fill=\"#009af9\" fill-rule=\"evenodd\" fill-opacity=\"1\" stroke=\"#000000\" stroke-opacity=\"1\" stroke-width=\"3.2\"/>\n",
       "<circle clip-path=\"url(#clip982)\" cx=\"420.489\" cy=\"1207.97\" r=\"14\" fill=\"#009af9\" fill-rule=\"evenodd\" fill-opacity=\"1\" stroke=\"#000000\" stroke-opacity=\"1\" stroke-width=\"3.2\"/>\n",
       "<circle clip-path=\"url(#clip982)\" cx=\"1037.43\" cy=\"978.909\" r=\"14\" fill=\"#009af9\" fill-rule=\"evenodd\" fill-opacity=\"1\" stroke=\"#000000\" stroke-opacity=\"1\" stroke-width=\"3.2\"/>\n",
       "<circle clip-path=\"url(#clip982)\" cx=\"1513.33\" cy=\"528.321\" r=\"14\" fill=\"#009af9\" fill-rule=\"evenodd\" fill-opacity=\"1\" stroke=\"#000000\" stroke-opacity=\"1\" stroke-width=\"3.2\"/>\n",
       "<circle clip-path=\"url(#clip982)\" cx=\"1240.63\" cy=\"87.9763\" r=\"14\" fill=\"#009af9\" fill-rule=\"evenodd\" fill-opacity=\"1\" stroke=\"#000000\" stroke-opacity=\"1\" stroke-width=\"3.2\"/>\n",
       "<circle clip-path=\"url(#clip982)\" cx=\"1039.41\" cy=\"1336.46\" r=\"14\" fill=\"#009af9\" fill-rule=\"evenodd\" fill-opacity=\"1\" stroke=\"#000000\" stroke-opacity=\"1\" stroke-width=\"3.2\"/>\n",
       "<circle clip-path=\"url(#clip982)\" cx=\"1451.84\" cy=\"1019.48\" r=\"14\" fill=\"#009af9\" fill-rule=\"evenodd\" fill-opacity=\"1\" stroke=\"#000000\" stroke-opacity=\"1\" stroke-width=\"3.2\"/>\n",
       "<circle clip-path=\"url(#clip982)\" cx=\"1694.69\" cy=\"1220.14\" r=\"14\" fill=\"#009af9\" fill-rule=\"evenodd\" fill-opacity=\"1\" stroke=\"#000000\" stroke-opacity=\"1\" stroke-width=\"3.2\"/>\n",
       "<circle clip-path=\"url(#clip982)\" cx=\"1945.87\" cy=\"1371.7\" r=\"14\" fill=\"#009af9\" fill-rule=\"evenodd\" fill-opacity=\"1\" stroke=\"#000000\" stroke-opacity=\"1\" stroke-width=\"3.2\"/>\n",
       "<circle clip-path=\"url(#clip982)\" cx=\"479.869\" cy=\"123.35\" r=\"14\" fill=\"#009af9\" fill-rule=\"evenodd\" fill-opacity=\"1\" stroke=\"#000000\" stroke-opacity=\"1\" stroke-width=\"3.2\"/>\n",
       "<circle clip-path=\"url(#clip982)\" cx=\"454.732\" cy=\"745.881\" r=\"14\" fill=\"#009af9\" fill-rule=\"evenodd\" fill-opacity=\"1\" stroke=\"#000000\" stroke-opacity=\"1\" stroke-width=\"3.2\"/>\n",
       "<circle clip-path=\"url(#clip982)\" cx=\"1471.57\" cy=\"1022.94\" r=\"14\" fill=\"#009af9\" fill-rule=\"evenodd\" fill-opacity=\"1\" stroke=\"#000000\" stroke-opacity=\"1\" stroke-width=\"3.2\"/>\n",
       "<circle clip-path=\"url(#clip982)\" cx=\"1276.18\" cy=\"707.619\" r=\"14\" fill=\"#009af9\" fill-rule=\"evenodd\" fill-opacity=\"1\" stroke=\"#000000\" stroke-opacity=\"1\" stroke-width=\"3.2\"/>\n",
       "<circle clip-path=\"url(#clip982)\" cx=\"1498.15\" cy=\"1124.34\" r=\"14\" fill=\"#009af9\" fill-rule=\"evenodd\" fill-opacity=\"1\" stroke=\"#000000\" stroke-opacity=\"1\" stroke-width=\"3.2\"/>\n",
       "<circle clip-path=\"url(#clip982)\" cx=\"384.717\" cy=\"1065.73\" r=\"14\" fill=\"#009af9\" fill-rule=\"evenodd\" fill-opacity=\"1\" stroke=\"#000000\" stroke-opacity=\"1\" stroke-width=\"3.2\"/>\n",
       "<circle clip-path=\"url(#clip982)\" cx=\"614.599\" cy=\"1101.97\" r=\"14\" fill=\"#009af9\" fill-rule=\"evenodd\" fill-opacity=\"1\" stroke=\"#000000\" stroke-opacity=\"1\" stroke-width=\"3.2\"/>\n",
       "<circle clip-path=\"url(#clip982)\" cx=\"2097.99\" cy=\"599.466\" r=\"14\" fill=\"#009af9\" fill-rule=\"evenodd\" fill-opacity=\"1\" stroke=\"#000000\" stroke-opacity=\"1\" stroke-width=\"3.2\"/>\n",
       "<circle clip-path=\"url(#clip982)\" cx=\"1191.39\" cy=\"953.893\" r=\"14\" fill=\"#009af9\" fill-rule=\"evenodd\" fill-opacity=\"1\" stroke=\"#000000\" stroke-opacity=\"1\" stroke-width=\"3.2\"/>\n",
       "<circle clip-path=\"url(#clip982)\" cx=\"1604.63\" cy=\"737.625\" r=\"14\" fill=\"#009af9\" fill-rule=\"evenodd\" fill-opacity=\"1\" stroke=\"#000000\" stroke-opacity=\"1\" stroke-width=\"3.2\"/>\n",
       "<circle clip-path=\"url(#clip982)\" cx=\"2290.6\" cy=\"91.0692\" r=\"14\" fill=\"#009af9\" fill-rule=\"evenodd\" fill-opacity=\"1\" stroke=\"#000000\" stroke-opacity=\"1\" stroke-width=\"3.2\"/>\n",
       "<circle clip-path=\"url(#clip982)\" cx=\"1298.41\" cy=\"137.558\" r=\"14\" fill=\"#009af9\" fill-rule=\"evenodd\" fill-opacity=\"1\" stroke=\"#000000\" stroke-opacity=\"1\" stroke-width=\"3.2\"/>\n",
       "<circle clip-path=\"url(#clip982)\" cx=\"241.826\" cy=\"392.611\" r=\"14\" fill=\"#009af9\" fill-rule=\"evenodd\" fill-opacity=\"1\" stroke=\"#000000\" stroke-opacity=\"1\" stroke-width=\"3.2\"/>\n",
       "<circle clip-path=\"url(#clip982)\" cx=\"1904.75\" cy=\"479.112\" r=\"14\" fill=\"#009af9\" fill-rule=\"evenodd\" fill-opacity=\"1\" stroke=\"#000000\" stroke-opacity=\"1\" stroke-width=\"3.2\"/>\n",
       "<circle clip-path=\"url(#clip982)\" cx=\"447.878\" cy=\"1369.83\" r=\"14\" fill=\"#009af9\" fill-rule=\"evenodd\" fill-opacity=\"1\" stroke=\"#000000\" stroke-opacity=\"1\" stroke-width=\"3.2\"/>\n",
       "<circle clip-path=\"url(#clip982)\" cx=\"518.757\" cy=\"227.676\" r=\"14\" fill=\"#009af9\" fill-rule=\"evenodd\" fill-opacity=\"1\" stroke=\"#000000\" stroke-opacity=\"1\" stroke-width=\"3.2\"/>\n",
       "<circle clip-path=\"url(#clip982)\" cx=\"727.813\" cy=\"195.122\" r=\"14\" fill=\"#009af9\" fill-rule=\"evenodd\" fill-opacity=\"1\" stroke=\"#000000\" stroke-opacity=\"1\" stroke-width=\"3.2\"/>\n",
       "<circle clip-path=\"url(#clip982)\" cx=\"2189.02\" cy=\"134.793\" r=\"14\" fill=\"#009af9\" fill-rule=\"evenodd\" fill-opacity=\"1\" stroke=\"#000000\" stroke-opacity=\"1\" stroke-width=\"3.2\"/>\n",
       "<circle clip-path=\"url(#clip982)\" cx=\"927.237\" cy=\"393.73\" r=\"14\" fill=\"#009af9\" fill-rule=\"evenodd\" fill-opacity=\"1\" stroke=\"#000000\" stroke-opacity=\"1\" stroke-width=\"3.2\"/>\n",
       "<circle clip-path=\"url(#clip982)\" cx=\"218.754\" cy=\"1239.66\" r=\"14\" fill=\"#009af9\" fill-rule=\"evenodd\" fill-opacity=\"1\" stroke=\"#000000\" stroke-opacity=\"1\" stroke-width=\"3.2\"/>\n",
       "<circle clip-path=\"url(#clip982)\" cx=\"1252.11\" cy=\"609.535\" r=\"14\" fill=\"#009af9\" fill-rule=\"evenodd\" fill-opacity=\"1\" stroke=\"#000000\" stroke-opacity=\"1\" stroke-width=\"3.2\"/>\n",
       "<circle clip-path=\"url(#clip982)\" cx=\"1431.94\" cy=\"165.208\" r=\"14\" fill=\"#009af9\" fill-rule=\"evenodd\" fill-opacity=\"1\" stroke=\"#000000\" stroke-opacity=\"1\" stroke-width=\"3.2\"/>\n",
       "<circle clip-path=\"url(#clip982)\" cx=\"1620.29\" cy=\"802.228\" r=\"14\" fill=\"#009af9\" fill-rule=\"evenodd\" fill-opacity=\"1\" stroke=\"#000000\" stroke-opacity=\"1\" stroke-width=\"3.2\"/>\n",
       "<circle clip-path=\"url(#clip982)\" cx=\"1873.98\" cy=\"1182.72\" r=\"14\" fill=\"#009af9\" fill-rule=\"evenodd\" fill-opacity=\"1\" stroke=\"#000000\" stroke-opacity=\"1\" stroke-width=\"3.2\"/>\n",
       "<circle clip-path=\"url(#clip982)\" cx=\"2094.59\" cy=\"1059.76\" r=\"14\" fill=\"#009af9\" fill-rule=\"evenodd\" fill-opacity=\"1\" stroke=\"#000000\" stroke-opacity=\"1\" stroke-width=\"3.2\"/>\n",
       "<circle clip-path=\"url(#clip982)\" cx=\"2273.89\" cy=\"161.811\" r=\"14\" fill=\"#009af9\" fill-rule=\"evenodd\" fill-opacity=\"1\" stroke=\"#000000\" stroke-opacity=\"1\" stroke-width=\"3.2\"/>\n",
       "<circle clip-path=\"url(#clip982)\" cx=\"754.047\" cy=\"1354.8\" r=\"14\" fill=\"#009af9\" fill-rule=\"evenodd\" fill-opacity=\"1\" stroke=\"#000000\" stroke-opacity=\"1\" stroke-width=\"3.2\"/>\n",
       "<circle clip-path=\"url(#clip982)\" cx=\"2279.96\" cy=\"542.333\" r=\"14\" fill=\"#009af9\" fill-rule=\"evenodd\" fill-opacity=\"1\" stroke=\"#000000\" stroke-opacity=\"1\" stroke-width=\"3.2\"/>\n",
       "<circle clip-path=\"url(#clip982)\" cx=\"1083.88\" cy=\"1084.14\" r=\"14\" fill=\"#009af9\" fill-rule=\"evenodd\" fill-opacity=\"1\" stroke=\"#000000\" stroke-opacity=\"1\" stroke-width=\"3.2\"/>\n",
       "<circle clip-path=\"url(#clip982)\" cx=\"1843.87\" cy=\"1284.25\" r=\"14\" fill=\"#009af9\" fill-rule=\"evenodd\" fill-opacity=\"1\" stroke=\"#000000\" stroke-opacity=\"1\" stroke-width=\"3.2\"/>\n",
       "<circle clip-path=\"url(#clip982)\" cx=\"806.363\" cy=\"931.534\" r=\"14\" fill=\"#009af9\" fill-rule=\"evenodd\" fill-opacity=\"1\" stroke=\"#000000\" stroke-opacity=\"1\" stroke-width=\"3.2\"/>\n",
       "<circle clip-path=\"url(#clip982)\" cx=\"914.013\" cy=\"1188.45\" r=\"14\" fill=\"#009af9\" fill-rule=\"evenodd\" fill-opacity=\"1\" stroke=\"#000000\" stroke-opacity=\"1\" stroke-width=\"3.2\"/>\n",
       "<circle clip-path=\"url(#clip982)\" cx=\"1224.66\" cy=\"1335.61\" r=\"14\" fill=\"#009af9\" fill-rule=\"evenodd\" fill-opacity=\"1\" stroke=\"#000000\" stroke-opacity=\"1\" stroke-width=\"3.2\"/>\n",
       "<circle clip-path=\"url(#clip982)\" cx=\"1131.91\" cy=\"364.745\" r=\"14\" fill=\"#009af9\" fill-rule=\"evenodd\" fill-opacity=\"1\" stroke=\"#000000\" stroke-opacity=\"1\" stroke-width=\"3.2\"/>\n",
       "<circle clip-path=\"url(#clip982)\" cx=\"1505.44\" cy=\"452.213\" r=\"14\" fill=\"#009af9\" fill-rule=\"evenodd\" fill-opacity=\"1\" stroke=\"#000000\" stroke-opacity=\"1\" stroke-width=\"3.2\"/>\n",
       "<circle clip-path=\"url(#clip982)\" cx=\"1834.94\" cy=\"751.967\" r=\"14\" fill=\"#009af9\" fill-rule=\"evenodd\" fill-opacity=\"1\" stroke=\"#000000\" stroke-opacity=\"1\" stroke-width=\"3.2\"/>\n",
       "<circle clip-path=\"url(#clip982)\" cx=\"1736.97\" cy=\"1288.72\" r=\"14\" fill=\"#009af9\" fill-rule=\"evenodd\" fill-opacity=\"1\" stroke=\"#000000\" stroke-opacity=\"1\" stroke-width=\"3.2\"/>\n",
       "<circle clip-path=\"url(#clip982)\" cx=\"979.009\" cy=\"697.07\" r=\"14\" fill=\"#009af9\" fill-rule=\"evenodd\" fill-opacity=\"1\" stroke=\"#000000\" stroke-opacity=\"1\" stroke-width=\"3.2\"/>\n",
       "<circle clip-path=\"url(#clip982)\" cx=\"1052.94\" cy=\"1057.26\" r=\"14\" fill=\"#009af9\" fill-rule=\"evenodd\" fill-opacity=\"1\" stroke=\"#000000\" stroke-opacity=\"1\" stroke-width=\"3.2\"/>\n",
       "<circle clip-path=\"url(#clip982)\" cx=\"388.442\" cy=\"1027.73\" r=\"14\" fill=\"#009af9\" fill-rule=\"evenodd\" fill-opacity=\"1\" stroke=\"#000000\" stroke-opacity=\"1\" stroke-width=\"3.2\"/>\n",
       "<circle clip-path=\"url(#clip982)\" cx=\"246.273\" cy=\"122.837\" r=\"14\" fill=\"#009af9\" fill-rule=\"evenodd\" fill-opacity=\"1\" stroke=\"#000000\" stroke-opacity=\"1\" stroke-width=\"3.2\"/>\n",
       "<circle clip-path=\"url(#clip982)\" cx=\"1644.08\" cy=\"645.5\" r=\"14\" fill=\"#009af9\" fill-rule=\"evenodd\" fill-opacity=\"1\" stroke=\"#000000\" stroke-opacity=\"1\" stroke-width=\"3.2\"/>\n",
       "<circle clip-path=\"url(#clip982)\" cx=\"306.676\" cy=\"889.401\" r=\"14\" fill=\"#009af9\" fill-rule=\"evenodd\" fill-opacity=\"1\" stroke=\"#000000\" stroke-opacity=\"1\" stroke-width=\"3.2\"/>\n",
       "<circle clip-path=\"url(#clip982)\" cx=\"728.826\" cy=\"1348.64\" r=\"14\" fill=\"#009af9\" fill-rule=\"evenodd\" fill-opacity=\"1\" stroke=\"#000000\" stroke-opacity=\"1\" stroke-width=\"3.2\"/>\n",
       "<circle clip-path=\"url(#clip982)\" cx=\"435.834\" cy=\"1113.36\" r=\"14\" fill=\"#009af9\" fill-rule=\"evenodd\" fill-opacity=\"1\" stroke=\"#000000\" stroke-opacity=\"1\" stroke-width=\"3.2\"/>\n",
       "<circle clip-path=\"url(#clip982)\" cx=\"659.157\" cy=\"945.463\" r=\"14\" fill=\"#009af9\" fill-rule=\"evenodd\" fill-opacity=\"1\" stroke=\"#000000\" stroke-opacity=\"1\" stroke-width=\"3.2\"/>\n",
       "<circle clip-path=\"url(#clip982)\" cx=\"834.626\" cy=\"612.32\" r=\"14\" fill=\"#009af9\" fill-rule=\"evenodd\" fill-opacity=\"1\" stroke=\"#000000\" stroke-opacity=\"1\" stroke-width=\"3.2\"/>\n",
       "<circle clip-path=\"url(#clip982)\" cx=\"986.908\" cy=\"1002.04\" r=\"14\" fill=\"#009af9\" fill-rule=\"evenodd\" fill-opacity=\"1\" stroke=\"#000000\" stroke-opacity=\"1\" stroke-width=\"3.2\"/>\n",
       "<circle clip-path=\"url(#clip982)\" cx=\"758.74\" cy=\"1116.11\" r=\"14\" fill=\"#009af9\" fill-rule=\"evenodd\" fill-opacity=\"1\" stroke=\"#000000\" stroke-opacity=\"1\" stroke-width=\"3.2\"/>\n",
       "<circle clip-path=\"url(#clip982)\" cx=\"380.863\" cy=\"425.715\" r=\"14\" fill=\"#009af9\" fill-rule=\"evenodd\" fill-opacity=\"1\" stroke=\"#000000\" stroke-opacity=\"1\" stroke-width=\"3.2\"/>\n",
       "<circle clip-path=\"url(#clip982)\" cx=\"1287.07\" cy=\"1413.29\" r=\"14\" fill=\"#009af9\" fill-rule=\"evenodd\" fill-opacity=\"1\" stroke=\"#000000\" stroke-opacity=\"1\" stroke-width=\"3.2\"/>\n",
       "<circle clip-path=\"url(#clip982)\" cx=\"930.623\" cy=\"1421.3\" r=\"14\" fill=\"#009af9\" fill-rule=\"evenodd\" fill-opacity=\"1\" stroke=\"#000000\" stroke-opacity=\"1\" stroke-width=\"3.2\"/>\n",
       "<circle clip-path=\"url(#clip982)\" cx=\"1778.16\" cy=\"1367.1\" r=\"14\" fill=\"#009af9\" fill-rule=\"evenodd\" fill-opacity=\"1\" stroke=\"#000000\" stroke-opacity=\"1\" stroke-width=\"3.2\"/>\n",
       "<circle clip-path=\"url(#clip982)\" cx=\"960.174\" cy=\"683.078\" r=\"14\" fill=\"#009af9\" fill-rule=\"evenodd\" fill-opacity=\"1\" stroke=\"#000000\" stroke-opacity=\"1\" stroke-width=\"3.2\"/>\n",
       "<circle clip-path=\"url(#clip982)\" cx=\"1118.86\" cy=\"171.865\" r=\"14\" fill=\"#009af9\" fill-rule=\"evenodd\" fill-opacity=\"1\" stroke=\"#000000\" stroke-opacity=\"1\" stroke-width=\"3.2\"/>\n",
       "<circle clip-path=\"url(#clip982)\" cx=\"655.77\" cy=\"1017.49\" r=\"14\" fill=\"#009af9\" fill-rule=\"evenodd\" fill-opacity=\"1\" stroke=\"#000000\" stroke-opacity=\"1\" stroke-width=\"3.2\"/>\n",
       "<circle clip-path=\"url(#clip982)\" cx=\"724.043\" cy=\"528.553\" r=\"14\" fill=\"#009af9\" fill-rule=\"evenodd\" fill-opacity=\"1\" stroke=\"#000000\" stroke-opacity=\"1\" stroke-width=\"3.2\"/>\n",
       "<circle clip-path=\"url(#clip982)\" cx=\"396.36\" cy=\"370.486\" r=\"14\" fill=\"#009af9\" fill-rule=\"evenodd\" fill-opacity=\"1\" stroke=\"#000000\" stroke-opacity=\"1\" stroke-width=\"3.2\"/>\n",
       "<circle clip-path=\"url(#clip982)\" cx=\"676.498\" cy=\"318.748\" r=\"14\" fill=\"#009af9\" fill-rule=\"evenodd\" fill-opacity=\"1\" stroke=\"#000000\" stroke-opacity=\"1\" stroke-width=\"3.2\"/>\n",
       "<circle clip-path=\"url(#clip982)\" cx=\"1878.16\" cy=\"1076.62\" r=\"14\" fill=\"#009af9\" fill-rule=\"evenodd\" fill-opacity=\"1\" stroke=\"#000000\" stroke-opacity=\"1\" stroke-width=\"3.2\"/>\n",
       "<circle clip-path=\"url(#clip982)\" cx=\"1775.23\" cy=\"1179.39\" r=\"14\" fill=\"#009af9\" fill-rule=\"evenodd\" fill-opacity=\"1\" stroke=\"#000000\" stroke-opacity=\"1\" stroke-width=\"3.2\"/>\n",
       "<circle clip-path=\"url(#clip982)\" cx=\"1224.99\" cy=\"338.284\" r=\"14\" fill=\"#009af9\" fill-rule=\"evenodd\" fill-opacity=\"1\" stroke=\"#000000\" stroke-opacity=\"1\" stroke-width=\"3.2\"/>\n",
       "<circle clip-path=\"url(#clip982)\" cx=\"347.309\" cy=\"334.088\" r=\"14\" fill=\"#009af9\" fill-rule=\"evenodd\" fill-opacity=\"1\" stroke=\"#000000\" stroke-opacity=\"1\" stroke-width=\"3.2\"/>\n",
       "<circle clip-path=\"url(#clip982)\" cx=\"1717.02\" cy=\"1328.9\" r=\"14\" fill=\"#009af9\" fill-rule=\"evenodd\" fill-opacity=\"1\" stroke=\"#000000\" stroke-opacity=\"1\" stroke-width=\"3.2\"/>\n",
       "<circle clip-path=\"url(#clip982)\" cx=\"583.15\" cy=\"567.771\" r=\"14\" fill=\"#009af9\" fill-rule=\"evenodd\" fill-opacity=\"1\" stroke=\"#000000\" stroke-opacity=\"1\" stroke-width=\"3.2\"/>\n",
       "<circle clip-path=\"url(#clip982)\" cx=\"1579.18\" cy=\"896.543\" r=\"14\" fill=\"#009af9\" fill-rule=\"evenodd\" fill-opacity=\"1\" stroke=\"#000000\" stroke-opacity=\"1\" stroke-width=\"3.2\"/>\n",
       "<circle clip-path=\"url(#clip982)\" cx=\"2176.81\" cy=\"147.535\" r=\"14\" fill=\"#009af9\" fill-rule=\"evenodd\" fill-opacity=\"1\" stroke=\"#000000\" stroke-opacity=\"1\" stroke-width=\"3.2\"/>\n",
       "<circle clip-path=\"url(#clip982)\" cx=\"797.513\" cy=\"895.951\" r=\"14\" fill=\"#009af9\" fill-rule=\"evenodd\" fill-opacity=\"1\" stroke=\"#000000\" stroke-opacity=\"1\" stroke-width=\"3.2\"/>\n",
       "<circle clip-path=\"url(#clip982)\" cx=\"785.711\" cy=\"1160.99\" r=\"14\" fill=\"#009af9\" fill-rule=\"evenodd\" fill-opacity=\"1\" stroke=\"#000000\" stroke-opacity=\"1\" stroke-width=\"3.2\"/>\n",
       "<circle clip-path=\"url(#clip982)\" cx=\"2008.6\" cy=\"1418.75\" r=\"14\" fill=\"#009af9\" fill-rule=\"evenodd\" fill-opacity=\"1\" stroke=\"#000000\" stroke-opacity=\"1\" stroke-width=\"3.2\"/>\n",
       "<circle clip-path=\"url(#clip982)\" cx=\"1412.37\" cy=\"839.102\" r=\"14\" fill=\"#009af9\" fill-rule=\"evenodd\" fill-opacity=\"1\" stroke=\"#000000\" stroke-opacity=\"1\" stroke-width=\"3.2\"/>\n",
       "<circle clip-path=\"url(#clip982)\" cx=\"1080.22\" cy=\"1148.76\" r=\"14\" fill=\"#009af9\" fill-rule=\"evenodd\" fill-opacity=\"1\" stroke=\"#000000\" stroke-opacity=\"1\" stroke-width=\"3.2\"/>\n",
       "<circle clip-path=\"url(#clip982)\" cx=\"1899.82\" cy=\"563.457\" r=\"14\" fill=\"#009af9\" fill-rule=\"evenodd\" fill-opacity=\"1\" stroke=\"#000000\" stroke-opacity=\"1\" stroke-width=\"3.2\"/>\n",
       "<circle clip-path=\"url(#clip982)\" cx=\"1796.33\" cy=\"1445.72\" r=\"14\" fill=\"#009af9\" fill-rule=\"evenodd\" fill-opacity=\"1\" stroke=\"#000000\" stroke-opacity=\"1\" stroke-width=\"3.2\"/>\n",
       "<circle clip-path=\"url(#clip982)\" cx=\"395.589\" cy=\"528.767\" r=\"14\" fill=\"#009af9\" fill-rule=\"evenodd\" fill-opacity=\"1\" stroke=\"#000000\" stroke-opacity=\"1\" stroke-width=\"3.2\"/>\n",
       "<circle clip-path=\"url(#clip982)\" cx=\"1705.56\" cy=\"583.265\" r=\"14\" fill=\"#009af9\" fill-rule=\"evenodd\" fill-opacity=\"1\" stroke=\"#000000\" stroke-opacity=\"1\" stroke-width=\"3.2\"/>\n",
       "<circle clip-path=\"url(#clip982)\" cx=\"1873.1\" cy=\"901.506\" r=\"14\" fill=\"#009af9\" fill-rule=\"evenodd\" fill-opacity=\"1\" stroke=\"#000000\" stroke-opacity=\"1\" stroke-width=\"3.2\"/>\n",
       "<circle clip-path=\"url(#clip982)\" cx=\"1033.71\" cy=\"1419.56\" r=\"14\" fill=\"#009af9\" fill-rule=\"evenodd\" fill-opacity=\"1\" stroke=\"#000000\" stroke-opacity=\"1\" stroke-width=\"3.2\"/>\n",
       "<circle clip-path=\"url(#clip982)\" cx=\"1727.2\" cy=\"242.951\" r=\"14\" fill=\"#009af9\" fill-rule=\"evenodd\" fill-opacity=\"1\" stroke=\"#000000\" stroke-opacity=\"1\" stroke-width=\"3.2\"/>\n",
       "<circle clip-path=\"url(#clip982)\" cx=\"455.57\" cy=\"515.621\" r=\"14\" fill=\"#009af9\" fill-rule=\"evenodd\" fill-opacity=\"1\" stroke=\"#000000\" stroke-opacity=\"1\" stroke-width=\"3.2\"/>\n",
       "<circle clip-path=\"url(#clip982)\" cx=\"254.975\" cy=\"600.675\" r=\"14\" fill=\"#009af9\" fill-rule=\"evenodd\" fill-opacity=\"1\" stroke=\"#000000\" stroke-opacity=\"1\" stroke-width=\"3.2\"/>\n",
       "<circle clip-path=\"url(#clip982)\" cx=\"1929.49\" cy=\"972.544\" r=\"14\" fill=\"#009af9\" fill-rule=\"evenodd\" fill-opacity=\"1\" stroke=\"#000000\" stroke-opacity=\"1\" stroke-width=\"3.2\"/>\n",
       "<circle clip-path=\"url(#clip982)\" cx=\"2130.35\" cy=\"750.999\" r=\"14\" fill=\"#009af9\" fill-rule=\"evenodd\" fill-opacity=\"1\" stroke=\"#000000\" stroke-opacity=\"1\" stroke-width=\"3.2\"/>\n",
       "<circle clip-path=\"url(#clip982)\" cx=\"1968.28\" cy=\"1302.05\" r=\"14\" fill=\"#009af9\" fill-rule=\"evenodd\" fill-opacity=\"1\" stroke=\"#000000\" stroke-opacity=\"1\" stroke-width=\"3.2\"/>\n",
       "<circle clip-path=\"url(#clip982)\" cx=\"700.12\" cy=\"490.003\" r=\"14\" fill=\"#009af9\" fill-rule=\"evenodd\" fill-opacity=\"1\" stroke=\"#000000\" stroke-opacity=\"1\" stroke-width=\"3.2\"/>\n",
       "<circle clip-path=\"url(#clip982)\" cx=\"1898.32\" cy=\"1319.08\" r=\"14\" fill=\"#009af9\" fill-rule=\"evenodd\" fill-opacity=\"1\" stroke=\"#000000\" stroke-opacity=\"1\" stroke-width=\"3.2\"/>\n",
       "<circle clip-path=\"url(#clip982)\" cx=\"1979.85\" cy=\"824.956\" r=\"14\" fill=\"#009af9\" fill-rule=\"evenodd\" fill-opacity=\"1\" stroke=\"#000000\" stroke-opacity=\"1\" stroke-width=\"3.2\"/>\n",
       "<circle clip-path=\"url(#clip982)\" cx=\"1728.82\" cy=\"1354.48\" r=\"14\" fill=\"#009af9\" fill-rule=\"evenodd\" fill-opacity=\"1\" stroke=\"#000000\" stroke-opacity=\"1\" stroke-width=\"3.2\"/>\n",
       "<path clip-path=\"url(#clip980)\" d=\"\n",
       "M1983.1 198.898 L2279.55 198.898 L2279.55 95.2176 L1983.1 95.2176  Z\n",
       "  \" fill=\"#ffffff\" fill-rule=\"evenodd\" fill-opacity=\"1\"/>\n",
       "<polyline clip-path=\"url(#clip980)\" style=\"stroke:#000000; stroke-linecap:butt; stroke-linejoin:round; stroke-width:4; stroke-opacity:1; fill:none\" points=\"\n",
       "  1983.1,198.898 2279.55,198.898 2279.55,95.2176 1983.1,95.2176 1983.1,198.898 \n",
       "  \"/>\n",
       "<circle clip-path=\"url(#clip980)\" cx=\"2080.71\" cy=\"147.058\" r=\"23\" fill=\"#009af9\" fill-rule=\"evenodd\" fill-opacity=\"1\" stroke=\"#000000\" stroke-opacity=\"1\" stroke-width=\"5.12\"/>\n",
       "<path clip-path=\"url(#clip980)\" d=\"M2192.16 166.745 Q2190.35 171.375 2188.64 172.787 Q2186.93 174.199 2184.06 174.199 L2180.65 174.199 L2180.65 170.634 L2183.15 170.634 Q2184.91 170.634 2185.89 169.8 Q2186.86 168.967 2188.04 165.865 L2188.8 163.921 L2178.32 138.412 L2182.83 138.412 L2190.93 158.689 L2199.03 138.412 L2203.55 138.412 L2192.16 166.745 Z\" fill=\"#000000\" fill-rule=\"evenodd\" fill-opacity=\"1\" /><path clip-path=\"url(#clip980)\" d=\"M2210.84 160.402 L2218.48 160.402 L2218.48 134.037 L2210.17 135.703 L2210.17 131.444 L2218.43 129.778 L2223.11 129.778 L2223.11 160.402 L2230.75 160.402 L2230.75 164.338 L2210.84 164.338 L2210.84 160.402 Z\" fill=\"#000000\" fill-rule=\"evenodd\" fill-opacity=\"1\" /></svg>\n"
      ]
     },
     "execution_count": 31,
     "metadata": {},
     "output_type": "execute_result"
    }
   ],
   "source": [
    "plot(pop0)"
   ]
  },
  {
   "cell_type": "markdown",
   "metadata": {},
   "source": [
    "__Write a function `evolve(S::Vector[Agent])::Vector[Agent]` which takes the population in a given state and returns the same population with updated health status.__\n",
    "\n"
   ]
  },
  {
   "cell_type": "code",
   "execution_count": 26,
   "metadata": {},
   "outputs": [
    {
     "data": {
      "text/plain": [
       "- (generic function with 251 methods)"
      ]
     },
     "execution_count": 26,
     "metadata": {},
     "output_type": "execute_result"
    }
   ],
   "source": [
    "import Base: -\n",
    "(-)(a1, a2) = Agent( a1.x-a2.x, a1.y - a2.y, a1.status)"
   ]
  },
  {
   "cell_type": "code",
   "execution_count": 27,
   "metadata": {},
   "outputs": [
    {
     "data": {
      "text/plain": [
       "distance (generic function with 1 method)"
      ]
     },
     "execution_count": 27,
     "metadata": {},
     "output_type": "execute_result"
    }
   ],
   "source": [
    "distance(a1::Agent, a2::Agent) = sqrt( ((a2-a1).x)^2 + ((a2-a1).y)^2 )"
   ]
  },
  {
   "cell_type": "code",
   "execution_count": 28,
   "metadata": {},
   "outputs": [
    {
     "data": {
      "text/plain": [
       "0.5090802924591714"
      ]
     },
     "execution_count": 28,
     "metadata": {},
     "output_type": "execute_result"
    }
   ],
   "source": [
    "distance(Agent(), Agent())"
   ]
  },
  {
   "cell_type": "code",
   "execution_count": 70,
   "metadata": {},
   "outputs": [
    {
     "data": {
      "text/plain": [
       "evolve (generic function with 1 method)"
      ]
     },
     "execution_count": 70,
     "metadata": {},
     "output_type": "execute_result"
    }
   ],
   "source": [
    "function evolve(S::Vector{Agent}, p::Parameters)\n",
    "    S = spatial_transition(S, p)\n",
    "    new_S = []\n",
    "    for (i,agent) in enumerate(S)\n",
    "        if agent.status == SUSCEPTIBLE\n",
    "            \n",
    "            risky_encounter = false\n",
    "            for (j,oagent) in enumerate(S)\n",
    "                if j!=i\n",
    "                    d = distance(agent, oagent)\n",
    "                    if (d<p.r) && (oagent.status == INFECTED)\n",
    "                        risky_encounter=true\n",
    "                        break\n",
    "                    end\n",
    "                end\n",
    "                break\n",
    "            end\n",
    "            \n",
    "            if risky_encounter\n",
    "                if rand() < p.μ\n",
    "                    new_agent = Agent(agent.x, agent.y, INFECTED)\n",
    "                else\n",
    "                    new_agent = agent\n",
    "                end\n",
    "            else\n",
    "                new_agent = agent\n",
    "            end\n",
    "            \n",
    "            \n",
    "        elseif agent.status == INFECTED\n",
    "            if rand() < p.π\n",
    "                new_agent = Agent(agent.x, agent.y, RECOVERED)\n",
    "            else\n",
    "                new_agent = agent\n",
    "            end\n",
    "        elseif agent.status == RECOVERED\n",
    "            new_agent = agent\n",
    "        end\n",
    "        \n",
    "        push!(new_S, new_agent)\n",
    "        \n",
    "    end\n",
    "    \n",
    "    return new_S\n",
    "    \n",
    "end"
   ]
  },
  {
   "cell_type": "code",
   "execution_count": 71,
   "metadata": {},
   "outputs": [
    {
     "data": {
      "text/plain": [
       "infect (generic function with 1 method)"
      ]
     },
     "execution_count": 71,
     "metadata": {},
     "output_type": "execute_result"
    }
   ],
   "source": [
    "infect(agent::Agent) = Agent(agent.x, agent.y, INFECTED)"
   ]
  },
  {
   "cell_type": "code",
   "execution_count": 72,
   "metadata": {},
   "outputs": [
    {
     "data": {
      "text/plain": [
       "Agent(0.441866421899041, 0.8123508004680626, Status(1))"
      ]
     },
     "execution_count": 72,
     "metadata": {},
     "output_type": "execute_result"
    }
   ],
   "source": [
    "pop0[1] = infect(pop0[1])"
   ]
  },
  {
   "cell_type": "code",
   "execution_count": 73,
   "metadata": {},
   "outputs": [
    {
     "data": {
      "text/plain": [
       "100-element Vector{Any}:\n",
       " Agent(0.4400986434346771, 0.8131979953305294, Status(1))\n",
       " Agent(0.78591525472586, 0.938679005088445, Status(0))\n",
       " Agent(0.9974960146827153, 0.31911388887754416, Status(0))\n",
       " Agent(0.18839463783145038, 0.5914093128283494, Status(0))\n",
       " Agent(0.10703795332461867, 0.2415377529237061, Status(0))\n",
       " Agent(0.40189765364697577, 0.3942218375197692, Status(0))\n",
       " Agent(0.6278090339114756, 0.7000969921375494, Status(0))\n",
       " Agent(0.49849882061198286, 1.002173861309859, Status(0))\n",
       " Agent(0.4012144028963097, 0.15381332262052724, Status(0))\n",
       " Agent(0.5995126013762854, 0.36860720597926183, Status(0))\n",
       " Agent(0.7150538251648496, 0.23048985018664622, Status(0))\n",
       " Agent(0.8366926540976956, 0.13098169699111353, Status(0))\n",
       " Agent(0.13405582978722977, 0.9769724778529784, Status(0))\n",
       " ⋮\n",
       " Agent(0.8009668473739764, 0.44717266736615346, Status(0))\n",
       " Agent(0.39963701899944176, 0.09695743075130865, Status(0))\n",
       " Agent(0.730909838624037, 0.8957170083296532, Status(0))\n",
       " Agent(0.12202686189475535, 0.7108331647212076, Status(0))\n",
       " Agent(0.02556974911988038, 0.6512206926550195, Status(0))\n",
       " Agent(0.8277838112049084, 0.3977093786688347, Status(0))\n",
       " Agent(0.9230871033326455, 0.5494691005216155, Status(0))\n",
       " Agent(0.8487731829698942, 0.17613479053354542, Status(0))\n",
       " Agent(0.23996260436414685, 0.7259301056175521, Status(0))\n",
       " Agent(0.8111453442558807, 0.16457921836217404, Status(0))\n",
       " Agent(0.8538287191395986, 0.5008508352686645, Status(0))\n",
       " Agent(0.7317131321638034, 0.1406695400875948, Status(0))"
      ]
     },
     "execution_count": 73,
     "metadata": {},
     "output_type": "execute_result"
    }
   ],
   "source": [
    "evolve(pop0, p0)"
   ]
  },
  {
   "cell_type": "markdown",
   "metadata": {},
   "source": [
    "__Write a function `simulate(S0::Vector[Agent], k=1)` to simulate the economy starting from an initially random position with `k` infected individuals. The returned object should be of type `Vector[Vector[Agent]]`.__\n",
    "\n"
   ]
  },
  {
   "cell_type": "code",
   "execution_count": 74,
   "metadata": {},
   "outputs": [
    {
     "data": {
      "text/plain": [
       "simulate (generic function with 1 method)"
      ]
     },
     "execution_count": 74,
     "metadata": {},
     "output_type": "execute_result"
    }
   ],
   "source": [
    "function simulate(S0::Vector{Agent}, p::Parameters; T=1)\n",
    "    sim = [S0]\n",
    "    for t=1:T\n",
    "        pop = sim[end]\n",
    "        push!(sim, evolve(pop, p))\n",
    "    end\n",
    "    return sim\n",
    "end"
   ]
  },
  {
   "cell_type": "code",
   "execution_count": 76,
   "metadata": {},
   "outputs": [
    {
     "data": {
      "text/plain": [
       "101-element Vector{Vector{Agent}}:\n",
       " [Agent(0.441866421899041, 0.8123508004680626, Status(1)), Agent(0.7854071329647904, 0.9372482823692116, Status(0)), Agent(0.9975409897421323, 0.31961377242256905, Status(0)), Agent(0.18872704600426163, 0.5920558147918156, Status(0)), Agent(0.10615016895963983, 0.24037685998821293, Status(0)), Agent(0.401518414766676, 0.395735934342022, Status(0)), Agent(0.6293589919021436, 0.7013413101083454, Status(0)), Agent(0.49880131265821676, 0.9999988537761209, Status(0)), Agent(0.4024638668258409, 0.15323105376578777, Status(0)), Agent(0.5999188515799793, 0.36821832736573823, Status(0))  …  Agent(0.731749120112525, 0.8948896273227398, Status(0)), Agent(0.12294544837412476, 0.7099547508813026, Status(0)), Agent(0.02690848676757432, 0.6522679193401205, Status(0)), Agent(0.8285987229784609, 0.4000528595082623, Status(0)), Agent(0.9247625025601486, 0.5503127753459159, Status(0)), Agent(0.8471722875835832, 0.17657205514505364, Status(0)), Agent(0.24002620565354532, 0.7273299291660996, Status(0)), Agent(0.8136778097822348, 0.16502056409612506, Status(0)), Agent(0.8527105933494985, 0.5001524252059384, Status(0)), Agent(0.732526185487153, 0.14100901661174903, Status(0))]\n",
       " [Agent(0.442529836076338, 0.8118853082864981, Status(1)), Agent(0.7862632773602122, 0.9383191277842291, Status(0)), Agent(0.9970697848694335, 0.32075364462559497, Status(0)), Agent(0.18856628119118946, 0.5932929653910708, Status(0)), Agent(0.10424294166135492, 0.2405480949258491, Status(0)), Agent(0.40191842703392794, 0.3946178237221266, Status(0)), Agent(0.6296232133600783, 0.701124301377656, Status(0)), Agent(0.4991187958295939, 0.9985977150520342, Status(0)), Agent(0.40157255198549363, 0.1528055005730649, Status(0)), Agent(0.6009852569159178, 0.36783563378970857, Status(0))  …  Agent(0.7326275002869485, 0.8940202682289238, Status(0)), Agent(0.12403776134999274, 0.709883156910694, Status(0)), Agent(0.0257075122830999, 0.6520990387126823, Status(0)), Agent(0.8281341756445871, 0.4005485456037277, Status(0)), Agent(0.9247203544043578, 0.5495552560441944, Status(0)), Agent(0.8469420132317502, 0.17467741635687342, Status(0)), Agent(0.23950559996022514, 0.7277666656988727, Status(0)), Agent(0.813351683659198, 0.1639834251071749, Status(0)), Agent(0.8529785706179416, 0.5006748192345365, Status(0)), Agent(0.7314903560736649, 0.14103122839908525, Status(0))]\n",
       " [Agent(0.44385741799503986, 0.8122509010936316, Status(1)), Agent(0.7864154704487637, 0.9375699248346644, Status(0)), Agent(0.9975168175778097, 0.32158389173502827, Status(0)), Agent(0.18894816490110694, 0.5917154392625062, Status(0)), Agent(0.10573235976811694, 0.24091711336275304, Status(0)), Agent(0.4020041714066411, 0.393511966903223, Status(0)), Agent(0.6294431457358413, 0.7019410824976265, Status(0)), Agent(0.5003163466648354, 0.9970328060068792, Status(0)), Agent(0.4020519419748231, 0.1535949792853815, Status(0)), Agent(0.601680542862499, 0.36667751960898654, Status(0))  …  Agent(0.7306191324904929, 0.8926855562666102, Status(0)), Agent(0.12331798578407342, 0.7106271461238091, Status(0)), Agent(0.027261635351836247, 0.6512648252926417, Status(0)), Agent(0.82806037996398, 0.3998987976430061, Status(0)), Agent(0.9250805300878677, 0.5509498037189139, Status(0)), Agent(0.8459961051899432, 0.1745809946224706, Status(0)), Agent(0.24057262348542838, 0.7258585169402969, Status(0)), Agent(0.8124883720245265, 0.16227753640987697, Status(0)), Agent(0.8545396955425436, 0.5008680309670407, Status(0)), Agent(0.732356294300309, 0.14079358267401554, Status(0))]\n",
       " [Agent(0.44143601430313795, 0.8109012527767526, Status(1)), Agent(0.7847855563513468, 0.9385605323662012, Status(0)), Agent(0.9981882560049341, 0.32305079206348347, Status(0)), Agent(0.18873719776669323, 0.590114018781142, Status(0)), Agent(0.10629160358125028, 0.2425945497187616, Status(0)), Agent(0.40172180403359264, 0.3935794841421229, Status(0)), Agent(0.628845310730426, 0.700643704410727, Status(0)), Agent(0.49981506734223097, 0.9962009041338814, Status(0)), Agent(0.40138134937030784, 0.15455146103835202, Status(0)), Agent(0.601273352054296, 0.3668590853865329, Status(0))  …  Agent(0.7300646583061547, 0.8926376302904875, Status(0)), Agent(0.12197247095019595, 0.7104821427216658, Status(0)), Agent(0.02647232988916635, 0.6509050068898048, Status(0)), Agent(0.8278654650237912, 0.39938690609025884, Status(0)), Agent(0.9255844977242286, 0.5508175849731638, Status(0)), Agent(0.8461845964016704, 0.17541016158557582, Status(0)), Agent(0.23888127382389324, 0.727075487892517, Status(0)), Agent(0.8128831033856619, 0.16442473271629224, Status(0)), Agent(0.8555546172805246, 0.4997080582404427, Status(0)), Agent(0.7299968512301199, 0.14090917313800772, Status(0))]\n",
       " [Agent(0.44143232550513156, 0.8116322806233718, Status(2)), Agent(0.7850271276115492, 0.9377850100721135, Status(0)), Agent(0.9984818211781348, 0.32289006481733745, Status(0)), Agent(0.19013415022055025, 0.5912656320891427, Status(0)), Agent(0.10721531219567947, 0.2423539301041307, Status(0)), Agent(0.40151743246022675, 0.3931825847156946, Status(0)), Agent(0.6283864914547052, 0.6997669246063346, Status(0)), Agent(0.5010837675562352, 0.995086940362378, Status(0)), Agent(0.40144208995163844, 0.15400358824281257, Status(0)), Agent(0.6031062156289628, 0.3656875957557012, Status(0))  …  Agent(0.7295286074132161, 0.8922281120525392, Status(0)), Agent(0.1213042020261773, 0.7111101463417513, Status(0)), Agent(0.026878219578959736, 0.6507413471658348, Status(0)), Agent(0.8281518299121955, 0.4000593075793267, Status(0)), Agent(0.9247818164770577, 0.5506769864086912, Status(0)), Agent(0.8460116223861153, 0.17404424873403893, Status(0)), Agent(0.2372654976950991, 0.7279115724188011, Status(0)), Agent(0.8138969346333568, 0.1644245830634919, Status(0)), Agent(0.8556271675245165, 0.5009554582182628, Status(0)), Agent(0.730390690755905, 0.13957971306075168, Status(0))]\n",
       " [Agent(0.4431575878851423, 0.8126325342166986, Status(2)), Agent(0.787024421028446, 0.937894676998416, Status(0)), Agent(0.998633819389741, 0.32393172361441774, Status(0)), Agent(0.1889873198606994, 0.5902533018665567, Status(0)), Agent(0.10842621690802556, 0.2420351925411216, Status(0)), Agent(0.40315570913514426, 0.3927643929788164, Status(0)), Agent(0.6282892549167484, 0.6989346050599804, Status(0)), Agent(0.5022257890874796, 0.9935755617044859, Status(0)), Agent(0.40253992951857714, 0.15335936323863417, Status(0)), Agent(0.6039868229654618, 0.36392657429600067, Status(0))  …  Agent(0.7293719845769621, 0.8925509079691587, Status(0)), Agent(0.12223710211500795, 0.7109965052006866, Status(0)), Agent(0.027240444842885354, 0.6510527311402889, Status(0)), Agent(0.8274600967789527, 0.40083952898801556, Status(0)), Agent(0.9235683253601106, 0.5508330657406815, Status(0)), Agent(0.84463080264382, 0.17272533425700382, Status(0)), Agent(0.2381432037563708, 0.7301545618178992, Status(0)), Agent(0.8138885513760006, 0.164311088053162, Status(0)), Agent(0.855316352863125, 0.5024662562313975, Status(0)), Agent(0.7304012007037838, 0.13848558658865961, Status(0))]\n",
       " [Agent(0.4422261921096162, 0.8125111503727651, Status(2)), Agent(0.7877822534386613, 0.9382138147070861, Status(0)), Agent(0.9983331736115238, 0.3237234031058819, Status(0)), Agent(0.18753811532563303, 0.5912216760270286, Status(0)), Agent(0.1079119536259964, 0.24208228475841426, Status(0)), Agent(0.40364664639051534, 0.39308884363207613, Status(0)), Agent(0.6295272780062282, 0.6992165022677231, Status(0)), Agent(0.5016302453095813, 0.9933584027498878, Status(0)), Agent(0.4025049384064205, 0.15343629751602844, Status(0)), Agent(0.6060131702329192, 0.36277154899495867, Status(0))  …  Agent(0.7280287588689087, 0.8917147049938571, Status(0)), Agent(0.12161514261014436, 0.712077854463025, Status(0)), Agent(0.02879380915352566, 0.6491253465783401, Status(0)), Agent(0.8262782069396624, 0.40166823222798526, Status(0)), Agent(0.9233862860072962, 0.5512033055291579, Status(0)), Agent(0.845045437947382, 0.17119887690611912, Status(0)), Agent(0.2395103752026538, 0.72869332243359, Status(0)), Agent(0.8139922235324106, 0.16375853882422403, Status(0)), Agent(0.8539983798251518, 0.5030021942885732, Status(0)), Agent(0.7305272166752103, 0.13901409362321895, Status(0))]\n",
       " [Agent(0.4417178608879097, 0.8122452603507276, Status(2)), Agent(0.7881703536556063, 0.9382540835459329, Status(0)), Agent(0.998007837540053, 0.32353414566619976, Status(0)), Agent(0.18616572069638335, 0.5925128455278946, Status(0)), Agent(0.10718228498237004, 0.2416644655343551, Status(0)), Agent(0.40419187793068956, 0.39321096853700876, Status(0)), Agent(0.6288564305547872, 0.7003087137158607, Status(0)), Agent(0.5027070212916008, 0.993344425203185, Status(0)), Agent(0.40188142590238307, 0.153836254102514, Status(0)), Agent(0.6053187789521222, 0.3631848311530929, Status(0))  …  Agent(0.7261391396505329, 0.8918533564723, Status(0)), Agent(0.12228945130139726, 0.7115205900929901, Status(0)), Agent(0.0292921547492081, 0.6505692786238139, Status(0)), Agent(0.8270726538516735, 0.4020111348943792, Status(0)), Agent(0.9224233867668022, 0.553410193118374, Status(0)), Agent(0.8445823961404897, 0.16961433475502294, Status(0)), Agent(0.23934644665704916, 0.7266488842804865, Status(0)), Agent(0.8162694447091483, 0.16366871791966067, Status(0)), Agent(0.8530398662334816, 0.5025163718673221, Status(0)), Agent(0.7293255618622704, 0.13811327624332112, Status(0))]\n",
       " [Agent(0.442485264332925, 0.8111123942890234, Status(2)), Agent(0.7874558412325513, 0.9401673353904162, Status(0)), Agent(0.9988120562101837, 0.32251265447455835, Status(0)), Agent(0.18441538374927377, 0.591485911572609, Status(0)), Agent(0.10756520675802331, 0.24051363282491278, Status(0)), Agent(0.40317703298237684, 0.3931660877843566, Status(0)), Agent(0.630217986028868, 0.7001066765524754, Status(0)), Agent(0.5026988592656141, 0.9950846911833151, Status(0)), Agent(0.402022428053736, 0.15217594558460018, Status(0)), Agent(0.6051994830394399, 0.3631935461936355, Status(0))  …  Agent(0.7262768236837008, 0.8911137644015331, Status(0)), Agent(0.12167654943701815, 0.7137730924033405, Status(0)), Agent(0.02943415980253969, 0.6501892895809172, Status(0)), Agent(0.8286468313990312, 0.40032576153857824, Status(0)), Agent(0.9225584417877741, 0.5552505418520908, Status(0)), Agent(0.846458533251086, 0.16916074926909644, Status(0)), Agent(0.2406175892863526, 0.7256268984737472, Status(0)), Agent(0.8162888246281313, 0.16340082446475673, Status(0)), Agent(0.8528634882845119, 0.5025576427557168, Status(0)), Agent(0.7301035120863177, 0.1373696283282154, Status(0))]\n",
       " [Agent(0.44322685908842174, 0.8108472980530821, Status(2)), Agent(0.7882734915769418, 0.9388941791885129, Status(0)), Agent(0.9963884625993057, 0.3206701153441409, Status(0)), Agent(0.1848125883876502, 0.5932006537475214, Status(0)), Agent(0.1068683283736011, 0.23991559086550954, Status(0)), Agent(0.4030005998380687, 0.3932203882297437, Status(0)), Agent(0.6317163301895065, 0.7003276978304297, Status(0)), Agent(0.5044924339898348, 0.9951957550162323, Status(0)), Agent(0.40196466527330404, 0.15237224588858364, Status(0)), Agent(0.6052926153727103, 0.36310717085027383, Status(0))  …  Agent(0.7248453474207927, 0.8909552391374455, Status(0)), Agent(0.1206642712971681, 0.7139955464135125, Status(0)), Agent(0.029360861545914243, 0.6518116541565286, Status(0)), Agent(0.829012049439057, 0.3996619997387848, Status(0)), Agent(0.9223417793654037, 0.5569189821270372, Status(0)), Agent(0.8473160616372989, 0.1669410271747154, Status(0)), Agent(0.23904717619229723, 0.7250900197658998, Status(0)), Agent(0.816371089988887, 0.1606654245298471, Status(0)), Agent(0.8528613606554278, 0.5026025758748991, Status(0)), Agent(0.7309130655758349, 0.13598171940211456, Status(0))]\n",
       " [Agent(0.4451064391515084, 0.81110921492663, Status(2)), Agent(0.7877628905388975, 0.9389437434742378, Status(0)), Agent(0.9967985336126756, 0.32186036233297355, Status(0)), Agent(0.18532019893473453, 0.5930075902092301, Status(0)), Agent(0.10696903519344199, 0.24107554000186807, Status(0)), Agent(0.40206437025500846, 0.39385274651765834, Status(0)), Agent(0.6299242686437513, 0.6995089039391037, Status(0)), Agent(0.5049788617892761, 0.9946490902712464, Status(0)), Agent(0.40234234539023755, 0.1530052268633083, Status(0)), Agent(0.6062882633994584, 0.3636313008399237, Status(0))  …  Agent(0.723856920668422, 0.8918804512338937, Status(0)), Agent(0.12310641137713298, 0.7141265013176181, Status(0)), Agent(0.03034362910671491, 0.6506064228644849, Status(0)), Agent(0.8296908315782956, 0.3997833365647314, Status(0)), Agent(0.921137242213987, 0.557378624040555, Status(0)), Agent(0.8476182253924445, 0.16906976194599635, Status(0)), Agent(0.2378018609005793, 0.7245191933111635, Status(0)), Agent(0.8150245475644172, 0.1608597746562974, Status(0)), Agent(0.853199147154455, 0.5015556270048845, Status(0)), Agent(0.731290918801849, 0.13552056291977949, Status(0))]\n",
       " [Agent(0.44515779347107465, 0.8120132414551714, Status(2)), Agent(0.7889479823203434, 0.9387350931980668, Status(0)), Agent(0.9981818435167096, 0.3209827249621066, Status(0)), Agent(0.18698665137589807, 0.5931208965110198, Status(0)), Agent(0.10809028228425278, 0.24164393689151897, Status(0)), Agent(0.40297520684765564, 0.39323500005132905, Status(0)), Agent(0.6293893146302708, 0.6982509506512435, Status(0)), Agent(0.5051918659136754, 0.9936347410214128, Status(0)), Agent(0.4018720062673195, 0.15438588966845102, Status(0)), Agent(0.6055420510089545, 0.3646983735142258, Status(0))  …  Agent(0.7237382318170292, 0.891285098087303, Status(0)), Agent(0.1231679174290374, 0.7127340152952455, Status(0)), Agent(0.03143523888851154, 0.6494468071578929, Status(0)), Agent(0.8287898184564868, 0.39960725247710677, Status(0)), Agent(0.921154108216751, 0.5574157689775252, Status(0)), Agent(0.848809609364808, 0.16824775856599353, Status(0)), Agent(0.2359922772997027, 0.7257769873004642, Status(0)), Agent(0.816774355121578, 0.16082216713348343, Status(0)), Agent(0.8531932224160214, 0.5014457015588222, Status(0)), Agent(0.7312592026545321, 0.13774461298470492, Status(0))]\n",
       " [Agent(0.4457091246692341, 0.8110066531085949, Status(2)), Agent(0.7892404847730928, 0.9395990683348232, Status(0)), Agent(0.9978674187832937, 0.32209342591882334, Status(0)), Agent(0.18709997865730804, 0.5938639224209723, Status(0)), Agent(0.10867070437577005, 0.24106917004093478, Status(0)), Agent(0.400082969687098, 0.39281326312069875, Status(0)), Agent(0.6294819202135417, 0.6979119121968463, Status(0)), Agent(0.5053092207374443, 0.9927818519543103, Status(0)), Agent(0.40194029469365483, 0.15527100953704143, Status(0)), Agent(0.6048119570698722, 0.36502416690121275, Status(0))  …  Agent(0.7257546287397749, 0.8912297082862555, Status(0)), Agent(0.12433793460290997, 0.712515270777967, Status(0)), Agent(0.030934710887631243, 0.6494409673371144, Status(0)), Agent(0.8311325513550206, 0.3994313562267959, Status(0)), Agent(0.9202509596097429, 0.5577058425374563, Status(0)), Agent(0.848066049346399, 0.1681642281409571, Status(0)), Agent(0.23512526350612847, 0.7259873432137083, Status(0)), Agent(0.8165706839655698, 0.1608190568674662, Status(0)), Agent(0.8515814707672584, 0.5012819322475581, Status(0)), Agent(0.7329191712778952, 0.1365845923206646, Status(0))]\n",
       " ⋮\n",
       " [Agent(0.4398434290763222, 0.8130731797279486, Status(2)), Agent(0.7852626279612421, 0.9372060272613925, Status(0)), Agent(1.0075928437415744, 0.3251082563375485, Status(0)), Agent(0.19329604818718593, 0.5937758628008794, Status(0)), Agent(0.08999487417869875, 0.2374683894450651, Status(0)), Agent(0.39917969842162326, 0.396195776761437, Status(0)), Agent(0.6284815141315211, 0.6972720882206642, Status(0)), Agent(0.4969647168369334, 0.998169006681133, Status(0)), Agent(0.4005114012238426, 0.1595804380928642, Status(0)), Agent(0.601558154040745, 0.3660629031866788, Status(0))  …  Agent(0.74091461923018, 0.9001020023952853, Status(0)), Agent(0.12594781595205476, 0.7121386428341928, Status(0)), Agent(0.036492853764586865, 0.654725165431608, Status(0)), Agent(0.8170106492900315, 0.4070644354131682, Status(0)), Agent(0.9244161446884629, 0.5656759974898161, Status(0)), Agent(0.8425933391140563, 0.16522740354220533, Status(0)), Agent(0.24053705724972232, 0.7124497408072096, Status(0)), Agent(0.8180081915954618, 0.1484365145316182, Status(0)), Agent(0.8423316114907028, 0.5062379903959389, Status(0)), Agent(0.7340634474187695, 0.1379845705419109, Status(0))]\n",
       " [Agent(0.4392156539484673, 0.811763348671184, Status(2)), Agent(0.7849583971212757, 0.9365112153915957, Status(0)), Agent(1.0081852321571763, 0.32606052640840094, Status(0)), Agent(0.19527928461182176, 0.5940446101434919, Status(0)), Agent(0.09161156100672048, 0.23787357166838113, Status(0)), Agent(0.3990964784821896, 0.3951908698994591, Status(0)), Agent(0.6290470048183306, 0.6980261752757873, Status(0)), Agent(0.49650314507789745, 0.9980910893454142, Status(0)), Agent(0.4003618534002786, 0.1595872155278906, Status(0)), Agent(0.6019681611098464, 0.3679913270612052, Status(0))  …  Agent(0.7409986078592539, 0.9000361991808946, Status(0)), Agent(0.1260765156909216, 0.7115979847116818, Status(0)), Agent(0.03746454144468891, 0.655327406329063, Status(0)), Agent(0.8164729417447567, 0.4073737932718268, Status(0)), Agent(0.926087788659693, 0.5665300362887863, Status(0)), Agent(0.8413369772125101, 0.16563034938718046, Status(0)), Agent(0.2393675220553736, 0.7146713233323678, Status(0)), Agent(0.8179269771093182, 0.14823898569338656, Status(0)), Agent(0.8425054241845531, 0.5069164535198505, Status(0)), Agent(0.7337240952649209, 0.13773392754048205, Status(0))]\n",
       " [Agent(0.439227338118714, 0.8123352027097855, Status(2)), Agent(0.7834853890829637, 0.9370241313571385, Status(0)), Agent(1.0091620014066498, 0.32545321907626307, Status(0)), Agent(0.19616243600288777, 0.5941888799455464, Status(0)), Agent(0.09122459419168762, 0.2374708568095875, Status(0)), Agent(0.3997182930481254, 0.39673903732686794, Status(0)), Agent(0.6298425266504987, 0.6978881400441301, Status(0)), Agent(0.4970711182095145, 0.9976484659945547, Status(0)), Agent(0.40101165640560266, 0.16114839882237592, Status(0)), Agent(0.6028096717922249, 0.36970919850544565, Status(0))  …  Agent(0.7402965748515359, 0.8999604214630188, Status(0)), Agent(0.12430281015516363, 0.7110062494365031, Status(0)), Agent(0.03671361649541695, 0.6559809040452571, Status(0)), Agent(0.8167510263326209, 0.40722536206598087, Status(0)), Agent(0.9252870641801766, 0.5670254804090208, Status(0)), Agent(0.8414018597100469, 0.16420462723419726, Status(0)), Agent(0.23804362206602314, 0.7144535521154051, Status(0)), Agent(0.8198552234144876, 0.14827968519112983, Status(0)), Agent(0.8420485055719842, 0.506821999145314, Status(0)), Agent(0.7321982703509006, 0.13838319146657221, Status(0))]\n",
       " [Agent(0.43810080192148554, 0.8118306753874529, Status(2)), Agent(0.782682036086891, 0.9370538153597171, Status(0)), Agent(1.0087783906630885, 0.32373250399512915, Status(0)), Agent(0.19493990876056627, 0.5946414699409198, Status(0)), Agent(0.09117874552363367, 0.2376985197357713, Status(0)), Agent(0.3998882646272509, 0.3946573322920105, Status(0)), Agent(0.6304344464399961, 0.6967668562387759, Status(0)), Agent(0.49668693505821754, 0.9980507224388557, Status(0)), Agent(0.4004394072314649, 0.16314008526584028, Status(0)), Agent(0.6020251238911148, 0.3688812189790221, Status(0))  …  Agent(0.7395399934882655, 0.9001073588654738, Status(0)), Agent(0.1251388442377291, 0.7092826148525743, Status(0)), Agent(0.037987724519309804, 0.6565674625988727, Status(0)), Agent(0.8154322425502669, 0.40671627740405336, Status(0)), Agent(0.9230882301873304, 0.5654541647359658, Status(0)), Agent(0.8426407293236821, 0.16550426965038645, Status(0)), Agent(0.2386269826042905, 0.7140105225287274, Status(0)), Agent(0.8183408865375883, 0.1479204972650557, Status(0)), Agent(0.8434579570364978, 0.5062368390748042, Status(0)), Agent(0.7335278725590169, 0.13703817330375284, Status(0))]\n",
       " [Agent(0.43819409122235226, 0.8132218488329089, Status(2)), Agent(0.7827478233331987, 0.9379879291039458, Status(0)), Agent(1.0085129653015796, 0.3266642088283069, Status(0)), Agent(0.1951502991536997, 0.5946400659376244, Status(0)), Agent(0.09036890376766628, 0.2374420339605776, Status(0)), Agent(0.39921801667529105, 0.3951579329052276, Status(0)), Agent(0.6306273347789411, 0.6978241927311339, Status(0)), Agent(0.4975792133626165, 0.9953226616166782, Status(0)), Agent(0.40005233428351544, 0.1636514861553488, Status(0)), Agent(0.6008542832622338, 0.36921640682868057, Status(0))  …  Agent(0.7388218571058214, 0.9003187404000286, Status(0)), Agent(0.12436544864091162, 0.708726277715301, Status(0)), Agent(0.036356042612690403, 0.656593058966902, Status(0)), Agent(0.8131048216733904, 0.40711156787369723, Status(0)), Agent(0.9221287251507804, 0.5679553883985176, Status(0)), Agent(0.8437055635902875, 0.16639151128720975, Status(0)), Agent(0.23911383433125138, 0.7125869940043238, Status(0)), Agent(0.8167470688661548, 0.14842700902926872, Status(0)), Agent(0.8442827694486111, 0.5054598203740532, Status(0)), Agent(0.7339811160734665, 0.1371917062261695, Status(0))]\n",
       " [Agent(0.43846863888812293, 0.8136527857381026, Status(2)), Agent(0.7825248272720242, 0.9384904560838251, Status(0)), Agent(1.0088013169047685, 0.3253201237583487, Status(0)), Agent(0.19572453406305707, 0.5949056892089403, Status(0)), Agent(0.09061470001048597, 0.2372639074679479, Status(0)), Agent(0.4001885476746242, 0.3953655492581143, Status(0)), Agent(0.6294370652764794, 0.6951696977142238, Status(0)), Agent(0.49748870523378935, 0.9955387680681281, Status(0)), Agent(0.4008554323360955, 0.16293660564285237, Status(0)), Agent(0.6003359240263713, 0.3681862617364786, Status(0))  …  Agent(0.7392590113299143, 0.9017741951814178, Status(0)), Agent(0.12540355781253976, 0.7090225226390683, Status(0)), Agent(0.036710222670873725, 0.6572926436609897, Status(0)), Agent(0.8149726955891011, 0.4075292104443696, Status(0)), Agent(0.9222294616385645, 0.5694585737096522, Status(0)), Agent(0.8423531092108231, 0.16677893980419012, Status(0)), Agent(0.24056726720927646, 0.7128936916734243, Status(0)), Agent(0.8179805673008121, 0.14800083947859793, Status(0)), Agent(0.8457468940771942, 0.5032910023227684, Status(0)), Agent(0.7338172958376615, 0.13635238236090624, Status(0))]\n",
       " [Agent(0.4384817322665405, 0.8145575587422089, Status(2)), Agent(0.7822186215866562, 0.9374691178008379, Status(0)), Agent(1.0082835702010473, 0.3249337095473684, Status(0)), Agent(0.194816644373963, 0.5955122052502505, Status(0)), Agent(0.08908408480355341, 0.23893408756942616, Status(0)), Agent(0.39993067819066863, 0.39385767315946324, Status(0)), Agent(0.6293293786102713, 0.6941718691253689, Status(0)), Agent(0.49577969062525684, 0.9950679361980109, Status(0)), Agent(0.4023822805349393, 0.16373461374840423, Status(0)), Agent(0.6002030621570295, 0.3673809295190543, Status(0))  …  Agent(0.7401415127349003, 0.9021697751668745, Status(0)), Agent(0.12450442445458329, 0.7106996103549397, Status(0)), Agent(0.037236969107168616, 0.6583308321229506, Status(0)), Agent(0.8166491757819228, 0.4086256063970911, Status(0)), Agent(0.9217921730805787, 0.5706304370987498, Status(0)), Agent(0.8412198673689512, 0.16783721086394254, Status(0)), Agent(0.24060286477689416, 0.7118218640801746, Status(0)), Agent(0.8169282496124602, 0.1479057523833763, Status(0)), Agent(0.8455114870852158, 0.5049416849833813, Status(0)), Agent(0.7336838677720915, 0.13593882973254437, Status(0))]\n",
       " [Agent(0.43802882966908646, 0.815397590050508, Status(2)), Agent(0.7829321934732368, 0.9384210573841409, Status(0)), Agent(1.0093839070202968, 0.32375028502454956, Status(0)), Agent(0.19513157857685162, 0.5951919730417315, Status(0)), Agent(0.08611132659533327, 0.2394714922557445, Status(0)), Agent(0.4006316884233861, 0.3972154854983049, Status(0)), Agent(0.6289841730910128, 0.6932328173644657, Status(0)), Agent(0.4960046964537785, 0.9956030264916814, Status(0)), Agent(0.40255633464026275, 0.16380807749677131, Status(0)), Agent(0.6002826001465114, 0.3667129562962687, Status(0))  …  Agent(0.739445731733693, 0.9021834043201518, Status(0)), Agent(0.12528214698214585, 0.7118581896103984, Status(0)), Agent(0.03586069757171176, 0.6593839193822566, Status(0)), Agent(0.8156854583799873, 0.41049570247088324, Status(0)), Agent(0.9223115775645503, 0.5707646208083953, Status(0)), Agent(0.8403425284822064, 0.1680547375439349, Status(0)), Agent(0.24285955962415237, 0.7127887787501292, Status(0)), Agent(0.817029357221291, 0.1490636230023905, Status(0)), Agent(0.845081981452403, 0.5061738680866381, Status(0)), Agent(0.7326186396946935, 0.1364755252877274, Status(0))]\n",
       " [Agent(0.43607142953995304, 0.8152098453663569, Status(2)), Agent(0.7835393697708456, 0.9385418094155858, Status(0)), Agent(1.0088535409304513, 0.32510738509370946, Status(0)), Agent(0.19529336378174542, 0.597952129974227, Status(0)), Agent(0.08661580181288077, 0.237620537190702, Status(0)), Agent(0.40009099237070517, 0.39768138845787615, Status(0)), Agent(0.6284863050490712, 0.6926996499511484, Status(0)), Agent(0.4943239965743711, 0.9945316475488202, Status(0)), Agent(0.4025548243817535, 0.16413986562279517, Status(0)), Agent(0.599768144915327, 0.3655297239443983, Status(0))  …  Agent(0.7400494468207819, 0.9029151884920059, Status(0)), Agent(0.1248120423085644, 0.7117951396605311, Status(0)), Agent(0.0347381096445276, 0.6594365998790008, Status(0)), Agent(0.8154668286485132, 0.4100146960943363, Status(0)), Agent(0.9222744887261148, 0.5715111777099923, Status(0)), Agent(0.8400620454298172, 0.1668444654639437, Status(0)), Agent(0.24349150848976048, 0.7132350722428226, Status(0)), Agent(0.8175721221845748, 0.14988269487760322, Status(0)), Agent(0.8452814224431108, 0.5055534856992605, Status(0)), Agent(0.7329802089774513, 0.1376259529897503, Status(0))]\n",
       " [Agent(0.4358186431583357, 0.8154740107924721, Status(2)), Agent(0.7831489766743316, 0.9369680534311884, Status(0)), Agent(1.0111249443859158, 0.32659678796455405, Status(0)), Agent(0.19603846269853012, 0.5976963309475658, Status(0)), Agent(0.08792432653307412, 0.23699140613620373, Status(0)), Agent(0.40070770337896017, 0.39656861556265893, Status(0)), Agent(0.628093213306971, 0.6922920457358762, Status(0)), Agent(0.493789583468707, 0.9949546394425134, Status(0)), Agent(0.3996903197018787, 0.16322055992933554, Status(0)), Agent(0.5988565310689405, 0.36466053675105786, Status(0))  …  Agent(0.7400445529433035, 0.9017663663775608, Status(0)), Agent(0.12424554126569615, 0.711265109601701, Status(0)), Agent(0.036283922678269444, 0.6584020514238422, Status(0)), Agent(0.8133283900887575, 0.4111445928256766, Status(0)), Agent(0.9237999878865827, 0.5715144823685466, Status(0)), Agent(0.8398395863474708, 0.16762700698506575, Status(0)), Agent(0.24518336564124465, 0.7131911699751711, Status(0)), Agent(0.8186014184819426, 0.14975827714166834, Status(0)), Agent(0.8454225373606199, 0.5070896885444538, Status(0)), Agent(0.7340498529822086, 0.13763117106985565, Status(0))]\n",
       " [Agent(0.4353492041537104, 0.8135623647279063, Status(2)), Agent(0.7837726026738221, 0.9381707366593354, Status(0)), Agent(1.0088997360450638, 0.32557302082853506, Status(0)), Agent(0.1987582325252235, 0.598463372098762, Status(0)), Agent(0.0878359188455921, 0.23669093601482705, Status(0)), Agent(0.4025094525744544, 0.396033858938448, Status(0)), Agent(0.6291848515696487, 0.6911996660420342, Status(0)), Agent(0.49249464975634183, 0.9932322112005854, Status(0)), Agent(0.4004265479616885, 0.16243570725201553, Status(0)), Agent(0.5993547930391107, 0.3644401165944391, Status(0))  …  Agent(0.7405405332513715, 0.9003640764090779, Status(0)), Agent(0.12480475860049448, 0.7102932040597387, Status(0)), Agent(0.03515747429519327, 0.6584542199932989, Status(0)), Agent(0.8116440828703527, 0.41085518301503965, Status(0)), Agent(0.9232570254296937, 0.5714790025230235, Status(0)), Agent(0.8391342788121922, 0.16573327950847294, Status(0)), Agent(0.24468870793190514, 0.7133161778591234, Status(0)), Agent(0.8181505881044948, 0.14909209245083282, Status(0)), Agent(0.8474400943359627, 0.5078384272366958, Status(0)), Agent(0.7338587218426641, 0.1386562969678601, Status(0))]\n",
       " [Agent(0.435079370086555, 0.8159315991465731, Status(2)), Agent(0.7830349322617804, 0.9385191019299033, Status(0)), Agent(1.0086096404812195, 0.3238428842699708, Status(0)), Agent(0.19831781763296338, 0.5985380514133444, Status(0)), Agent(0.08834826623219312, 0.23763801486915395, Status(0)), Agent(0.40125819314705297, 0.3958903557205134, Status(0)), Agent(0.6300609340922065, 0.6909358380765523, Status(0)), Agent(0.4951081271877429, 0.992296104423664, Status(0)), Agent(0.4012946520107518, 0.16324041274461554, Status(0)), Agent(0.5997953012758569, 0.36362155790279194, Status(0))  …  Agent(0.7409157888938563, 0.9002552209858768, Status(0)), Agent(0.12618150526469918, 0.70929765059573, Status(0)), Agent(0.034479892248360317, 0.6596951123646058, Status(0)), Agent(0.8120455114782488, 0.4110310650811127, Status(0)), Agent(0.9245210445446359, 0.5692097656835027, Status(0)), Agent(0.8379442929278645, 0.16514487556268984, Status(0)), Agent(0.24452878931707084, 0.7133418220416281, Status(0)), Agent(0.8189504007760263, 0.1492064899911878, Status(0)), Agent(0.848256020130256, 0.5075775541398552, Status(0)), Agent(0.7345688404042433, 0.13905143597251823, Status(0))]"
      ]
     },
     "execution_count": 76,
     "metadata": {},
     "output_type": "execute_result"
    }
   ],
   "source": [
    "sim = simulate(pop0, p0; T=100)"
   ]
  },
  {
   "cell_type": "markdown",
   "metadata": {},
   "source": [
    "__Compute statistics along a simulated path for $n_I$, $n_S$, $n_R$. Plot and compare with the basic SIR model__"
   ]
  },
  {
   "cell_type": "code",
   "execution_count": 81,
   "metadata": {},
   "outputs": [
    {
     "data": {
      "text/plain": [
       "count (generic function with 2 methods)"
      ]
     },
     "execution_count": 81,
     "metadata": {},
     "output_type": "execute_result"
    }
   ],
   "source": [
    "count(pop::Vector{Agent}, state) = sum(a.status==state for a in pop)"
   ]
  },
  {
   "cell_type": "code",
   "execution_count": 82,
   "metadata": {},
   "outputs": [
    {
     "data": {
      "text/plain": [
       "99"
      ]
     },
     "execution_count": 82,
     "metadata": {},
     "output_type": "execute_result"
    }
   ],
   "source": [
    "count(pop0, SUSCEPTIBLE)\n",
    "count(pop0, SUSCEPTIBLE)"
   ]
  },
  {
   "cell_type": "code",
   "execution_count": null,
   "metadata": {},
   "outputs": [],
   "source": [
    "p0."
   ]
  },
  {
   "cell_type": "code",
   "execution_count": 108,
   "metadata": {},
   "outputs": [
    {
     "data": {
      "text/plain": [
       "Parameters(0.05, 0.5, 0.1, 0.2)"
      ]
     },
     "execution_count": 108,
     "metadata": {},
     "output_type": "execute_result"
    }
   ],
   "source": [
    "p0 = Parameters(0.05, 0.5, 0.1, 0.2)\n",
    "\n"
   ]
  },
  {
   "cell_type": "code",
   "execution_count": 109,
   "metadata": {},
   "outputs": [],
   "source": [
    "sim = simulate(pop0, p0; T=100);"
   ]
  },
  {
   "cell_type": "code",
   "execution_count": 110,
   "metadata": {},
   "outputs": [
    {
     "data": {
      "text/plain": [
       "101-element Vector{Int64}:\n",
       "  0\n",
       "  0\n",
       "  2\n",
       "  3\n",
       "  5\n",
       "  5\n",
       "  5\n",
       "  6\n",
       "  6\n",
       "  6\n",
       "  6\n",
       "  6\n",
       "  7\n",
       "  ⋮\n",
       " 27\n",
       " 27\n",
       " 27\n",
       " 27\n",
       " 27\n",
       " 27\n",
       " 27\n",
       " 27\n",
       " 27\n",
       " 27\n",
       " 27\n",
       " 27"
      ]
     },
     "execution_count": 110,
     "metadata": {},
     "output_type": "execute_result"
    }
   ],
   "source": [
    "sim_n_S = [count(pop, SUSCEPTIBLE) for pop in sim]\n",
    "sim_n_I = [count(pop, INFECTED) for pop in sim]\n",
    "sim_n_R = [count(pop, RECOVERED) for pop in sim]\n"
   ]
  },
  {
   "cell_type": "code",
   "execution_count": 111,
   "metadata": {},
   "outputs": [
    {
     "data": {
      "image/svg+xml": [
       "<?xml version=\"1.0\" encoding=\"utf-8\"?>\n",
       "<svg xmlns=\"http://www.w3.org/2000/svg\" xmlns:xlink=\"http://www.w3.org/1999/xlink\" width=\"600\" height=\"400\" viewBox=\"0 0 2400 1600\">\n",
       "<defs>\n",
       "  <clipPath id=\"clip300\">\n",
       "    <rect x=\"0\" y=\"0\" width=\"2400\" height=\"1600\"/>\n",
       "  </clipPath>\n",
       "</defs>\n",
       "<path clip-path=\"url(#clip300)\" d=\"\n",
       "M0 1600 L2400 1600 L2400 0 L0 0  Z\n",
       "  \" fill=\"#ffffff\" fill-rule=\"evenodd\" fill-opacity=\"1\"/>\n",
       "<defs>\n",
       "  <clipPath id=\"clip301\">\n",
       "    <rect x=\"480\" y=\"0\" width=\"1681\" height=\"1600\"/>\n",
       "  </clipPath>\n",
       "</defs>\n",
       "<path clip-path=\"url(#clip300)\" d=\"\n",
       "M169.121 1486.45 L2352.76 1486.45 L2352.76 47.2441 L169.121 47.2441  Z\n",
       "  \" fill=\"#ffffff\" fill-rule=\"evenodd\" fill-opacity=\"1\"/>\n",
       "<defs>\n",
       "  <clipPath id=\"clip302\">\n",
       "    <rect x=\"169\" y=\"47\" width=\"2185\" height=\"1440\"/>\n",
       "  </clipPath>\n",
       "</defs>\n",
       "<polyline clip-path=\"url(#clip302)\" style=\"stroke:#000000; stroke-linecap:butt; stroke-linejoin:round; stroke-width:2; stroke-opacity:0.1; fill:none\" points=\"\n",
       "  210.322,1486.45 210.322,47.2441 \n",
       "  \"/>\n",
       "<polyline clip-path=\"url(#clip302)\" style=\"stroke:#000000; stroke-linecap:butt; stroke-linejoin:round; stroke-width:2; stroke-opacity:0.1; fill:none\" points=\"\n",
       "  725.33,1486.45 725.33,47.2441 \n",
       "  \"/>\n",
       "<polyline clip-path=\"url(#clip302)\" style=\"stroke:#000000; stroke-linecap:butt; stroke-linejoin:round; stroke-width:2; stroke-opacity:0.1; fill:none\" points=\"\n",
       "  1240.34,1486.45 1240.34,47.2441 \n",
       "  \"/>\n",
       "<polyline clip-path=\"url(#clip302)\" style=\"stroke:#000000; stroke-linecap:butt; stroke-linejoin:round; stroke-width:2; stroke-opacity:0.1; fill:none\" points=\"\n",
       "  1755.35,1486.45 1755.35,47.2441 \n",
       "  \"/>\n",
       "<polyline clip-path=\"url(#clip302)\" style=\"stroke:#000000; stroke-linecap:butt; stroke-linejoin:round; stroke-width:2; stroke-opacity:0.1; fill:none\" points=\"\n",
       "  2270.35,1486.45 2270.35,47.2441 \n",
       "  \"/>\n",
       "<polyline clip-path=\"url(#clip300)\" style=\"stroke:#000000; stroke-linecap:butt; stroke-linejoin:round; stroke-width:4; stroke-opacity:1; fill:none\" points=\"\n",
       "  169.121,1486.45 2352.76,1486.45 \n",
       "  \"/>\n",
       "<polyline clip-path=\"url(#clip300)\" style=\"stroke:#000000; stroke-linecap:butt; stroke-linejoin:round; stroke-width:4; stroke-opacity:1; fill:none\" points=\"\n",
       "  210.322,1486.45 210.322,1467.55 \n",
       "  \"/>\n",
       "<polyline clip-path=\"url(#clip300)\" style=\"stroke:#000000; stroke-linecap:butt; stroke-linejoin:round; stroke-width:4; stroke-opacity:1; fill:none\" points=\"\n",
       "  725.33,1486.45 725.33,1467.55 \n",
       "  \"/>\n",
       "<polyline clip-path=\"url(#clip300)\" style=\"stroke:#000000; stroke-linecap:butt; stroke-linejoin:round; stroke-width:4; stroke-opacity:1; fill:none\" points=\"\n",
       "  1240.34,1486.45 1240.34,1467.55 \n",
       "  \"/>\n",
       "<polyline clip-path=\"url(#clip300)\" style=\"stroke:#000000; stroke-linecap:butt; stroke-linejoin:round; stroke-width:4; stroke-opacity:1; fill:none\" points=\"\n",
       "  1755.35,1486.45 1755.35,1467.55 \n",
       "  \"/>\n",
       "<polyline clip-path=\"url(#clip300)\" style=\"stroke:#000000; stroke-linecap:butt; stroke-linejoin:round; stroke-width:4; stroke-opacity:1; fill:none\" points=\"\n",
       "  2270.35,1486.45 2270.35,1467.55 \n",
       "  \"/>\n",
       "<path clip-path=\"url(#clip300)\" d=\"M210.322 1517.37 Q206.711 1517.37 204.882 1520.93 Q203.077 1524.47 203.077 1531.6 Q203.077 1538.71 204.882 1542.27 Q206.711 1545.82 210.322 1545.82 Q213.956 1545.82 215.762 1542.27 Q217.59 1538.71 217.59 1531.6 Q217.59 1524.47 215.762 1520.93 Q213.956 1517.37 210.322 1517.37 M210.322 1513.66 Q216.132 1513.66 219.188 1518.27 Q222.266 1522.85 222.266 1531.6 Q222.266 1540.33 219.188 1544.94 Q216.132 1549.52 210.322 1549.52 Q204.512 1549.52 201.433 1544.94 Q198.378 1540.33 198.378 1531.6 Q198.378 1522.85 201.433 1518.27 Q204.512 1513.66 210.322 1513.66 Z\" fill=\"#000000\" fill-rule=\"evenodd\" fill-opacity=\"1\" /><path clip-path=\"url(#clip300)\" d=\"M704.601 1544.91 L720.92 1544.91 L720.92 1548.85 L698.976 1548.85 L698.976 1544.91 Q701.638 1542.16 706.221 1537.53 Q710.828 1532.88 712.008 1531.53 Q714.254 1529.01 715.133 1527.27 Q716.036 1525.51 716.036 1523.82 Q716.036 1521.07 714.092 1519.33 Q712.17 1517.6 709.069 1517.6 Q706.87 1517.6 704.416 1518.36 Q701.985 1519.13 699.208 1520.68 L699.208 1515.95 Q702.032 1514.82 704.485 1514.24 Q706.939 1513.66 708.976 1513.66 Q714.346 1513.66 717.541 1516.35 Q720.735 1519.03 720.735 1523.52 Q720.735 1525.65 719.925 1527.57 Q719.138 1529.47 717.032 1532.07 Q716.453 1532.74 713.351 1535.95 Q710.249 1539.15 704.601 1544.91 Z\" fill=\"#000000\" fill-rule=\"evenodd\" fill-opacity=\"1\" /><path clip-path=\"url(#clip300)\" d=\"M730.781 1514.29 L749.138 1514.29 L749.138 1518.22 L735.064 1518.22 L735.064 1526.7 Q736.082 1526.35 737.101 1526.19 Q738.119 1526 739.138 1526 Q744.925 1526 748.305 1529.17 Q751.684 1532.34 751.684 1537.76 Q751.684 1543.34 748.212 1546.44 Q744.74 1549.52 738.42 1549.52 Q736.244 1549.52 733.976 1549.15 Q731.731 1548.78 729.323 1548.04 L729.323 1543.34 Q731.406 1544.47 733.629 1545.03 Q735.851 1545.58 738.328 1545.58 Q742.332 1545.58 744.67 1543.48 Q747.008 1541.37 747.008 1537.76 Q747.008 1534.15 744.67 1532.04 Q742.332 1529.94 738.328 1529.94 Q736.453 1529.94 734.578 1530.35 Q732.726 1530.77 730.781 1531.65 L730.781 1514.29 Z\" fill=\"#000000\" fill-rule=\"evenodd\" fill-opacity=\"1\" /><path clip-path=\"url(#clip300)\" d=\"M1215.04 1514.29 L1233.39 1514.29 L1233.39 1518.22 L1219.32 1518.22 L1219.32 1526.7 Q1220.34 1526.35 1221.36 1526.19 Q1222.38 1526 1223.39 1526 Q1229.18 1526 1232.56 1529.17 Q1235.94 1532.34 1235.94 1537.76 Q1235.94 1543.34 1232.47 1546.44 Q1229 1549.52 1222.68 1549.52 Q1220.5 1549.52 1218.23 1549.15 Q1215.99 1548.78 1213.58 1548.04 L1213.58 1543.34 Q1215.66 1544.47 1217.88 1545.03 Q1220.11 1545.58 1222.58 1545.58 Q1226.59 1545.58 1228.93 1543.48 Q1231.26 1541.37 1231.26 1537.76 Q1231.26 1534.15 1228.93 1532.04 Q1226.59 1529.94 1222.58 1529.94 Q1220.71 1529.94 1218.83 1530.35 Q1216.98 1530.77 1215.04 1531.65 L1215.04 1514.29 Z\" fill=\"#000000\" fill-rule=\"evenodd\" fill-opacity=\"1\" /><path clip-path=\"url(#clip300)\" d=\"M1255.15 1517.37 Q1251.54 1517.37 1249.71 1520.93 Q1247.91 1524.47 1247.91 1531.6 Q1247.91 1538.71 1249.71 1542.27 Q1251.54 1545.82 1255.15 1545.82 Q1258.79 1545.82 1260.59 1542.27 Q1262.42 1538.71 1262.42 1531.6 Q1262.42 1524.47 1260.59 1520.93 Q1258.79 1517.37 1255.15 1517.37 M1255.15 1513.66 Q1260.96 1513.66 1264.02 1518.27 Q1267.1 1522.85 1267.1 1531.6 Q1267.1 1540.33 1264.02 1544.94 Q1260.96 1549.52 1255.15 1549.52 Q1249.34 1549.52 1246.26 1544.94 Q1243.21 1540.33 1243.21 1531.6 Q1243.21 1522.85 1246.26 1518.27 Q1249.34 1513.66 1255.15 1513.66 Z\" fill=\"#000000\" fill-rule=\"evenodd\" fill-opacity=\"1\" /><path clip-path=\"url(#clip300)\" d=\"M1729.2 1514.29 L1751.42 1514.29 L1751.42 1516.28 L1738.88 1548.85 L1733.99 1548.85 L1745.8 1518.22 L1729.2 1518.22 L1729.2 1514.29 Z\" fill=\"#000000\" fill-rule=\"evenodd\" fill-opacity=\"1\" /><path clip-path=\"url(#clip300)\" d=\"M1760.59 1514.29 L1778.95 1514.29 L1778.95 1518.22 L1764.87 1518.22 L1764.87 1526.7 Q1765.89 1526.35 1766.91 1526.19 Q1767.93 1526 1768.95 1526 Q1774.73 1526 1778.11 1529.17 Q1781.49 1532.34 1781.49 1537.76 Q1781.49 1543.34 1778.02 1546.44 Q1774.55 1549.52 1768.23 1549.52 Q1766.05 1549.52 1763.78 1549.15 Q1761.54 1548.78 1759.13 1548.04 L1759.13 1543.34 Q1761.21 1544.47 1763.44 1545.03 Q1765.66 1545.58 1768.14 1545.58 Q1772.14 1545.58 1774.48 1543.48 Q1776.82 1541.37 1776.82 1537.76 Q1776.82 1534.15 1774.48 1532.04 Q1772.14 1529.94 1768.14 1529.94 Q1766.26 1529.94 1764.39 1530.35 Q1762.53 1530.77 1760.59 1531.65 L1760.59 1514.29 Z\" fill=\"#000000\" fill-rule=\"evenodd\" fill-opacity=\"1\" /><path clip-path=\"url(#clip300)\" d=\"M2229.96 1544.91 L2237.6 1544.91 L2237.6 1518.55 L2229.29 1520.21 L2229.29 1515.95 L2237.55 1514.29 L2242.23 1514.29 L2242.23 1544.91 L2249.87 1544.91 L2249.87 1548.85 L2229.96 1548.85 L2229.96 1544.91 Z\" fill=\"#000000\" fill-rule=\"evenodd\" fill-opacity=\"1\" /><path clip-path=\"url(#clip300)\" d=\"M2269.31 1517.37 Q2265.7 1517.37 2263.87 1520.93 Q2262.07 1524.47 2262.07 1531.6 Q2262.07 1538.71 2263.87 1542.27 Q2265.7 1545.82 2269.31 1545.82 Q2272.95 1545.82 2274.75 1542.27 Q2276.58 1538.71 2276.58 1531.6 Q2276.58 1524.47 2274.75 1520.93 Q2272.95 1517.37 2269.31 1517.37 M2269.31 1513.66 Q2275.12 1513.66 2278.18 1518.27 Q2281.26 1522.85 2281.26 1531.6 Q2281.26 1540.33 2278.18 1544.94 Q2275.12 1549.52 2269.31 1549.52 Q2263.5 1549.52 2260.42 1544.94 Q2257.37 1540.33 2257.37 1531.6 Q2257.37 1522.85 2260.42 1518.27 Q2263.5 1513.66 2269.31 1513.66 Z\" fill=\"#000000\" fill-rule=\"evenodd\" fill-opacity=\"1\" /><path clip-path=\"url(#clip300)\" d=\"M2299.47 1517.37 Q2295.86 1517.37 2294.04 1520.93 Q2292.23 1524.47 2292.23 1531.6 Q2292.23 1538.71 2294.04 1542.27 Q2295.86 1545.82 2299.47 1545.82 Q2303.11 1545.82 2304.91 1542.27 Q2306.74 1538.71 2306.74 1531.6 Q2306.74 1524.47 2304.91 1520.93 Q2303.11 1517.37 2299.47 1517.37 M2299.47 1513.66 Q2305.28 1513.66 2308.34 1518.27 Q2311.42 1522.85 2311.42 1531.6 Q2311.42 1540.33 2308.34 1544.94 Q2305.28 1549.52 2299.47 1549.52 Q2293.66 1549.52 2290.59 1544.94 Q2287.53 1540.33 2287.53 1531.6 Q2287.53 1522.85 2290.59 1518.27 Q2293.66 1513.66 2299.47 1513.66 Z\" fill=\"#000000\" fill-rule=\"evenodd\" fill-opacity=\"1\" /><polyline clip-path=\"url(#clip302)\" style=\"stroke:#000000; stroke-linecap:butt; stroke-linejoin:round; stroke-width:2; stroke-opacity:0.1; fill:none\" points=\"\n",
       "  169.121,1445.72 2352.76,1445.72 \n",
       "  \"/>\n",
       "<polyline clip-path=\"url(#clip302)\" style=\"stroke:#000000; stroke-linecap:butt; stroke-linejoin:round; stroke-width:2; stroke-opacity:0.1; fill:none\" points=\"\n",
       "  169.121,1102.85 2352.76,1102.85 \n",
       "  \"/>\n",
       "<polyline clip-path=\"url(#clip302)\" style=\"stroke:#000000; stroke-linecap:butt; stroke-linejoin:round; stroke-width:2; stroke-opacity:0.1; fill:none\" points=\"\n",
       "  169.121,759.989 2352.76,759.989 \n",
       "  \"/>\n",
       "<polyline clip-path=\"url(#clip302)\" style=\"stroke:#000000; stroke-linecap:butt; stroke-linejoin:round; stroke-width:2; stroke-opacity:0.1; fill:none\" points=\"\n",
       "  169.121,417.125 2352.76,417.125 \n",
       "  \"/>\n",
       "<polyline clip-path=\"url(#clip302)\" style=\"stroke:#000000; stroke-linecap:butt; stroke-linejoin:round; stroke-width:2; stroke-opacity:0.1; fill:none\" points=\"\n",
       "  169.121,74.2617 2352.76,74.2617 \n",
       "  \"/>\n",
       "<polyline clip-path=\"url(#clip300)\" style=\"stroke:#000000; stroke-linecap:butt; stroke-linejoin:round; stroke-width:4; stroke-opacity:1; fill:none\" points=\"\n",
       "  169.121,1486.45 169.121,47.2441 \n",
       "  \"/>\n",
       "<polyline clip-path=\"url(#clip300)\" style=\"stroke:#000000; stroke-linecap:butt; stroke-linejoin:round; stroke-width:4; stroke-opacity:1; fill:none\" points=\"\n",
       "  169.121,1445.72 188.019,1445.72 \n",
       "  \"/>\n",
       "<polyline clip-path=\"url(#clip300)\" style=\"stroke:#000000; stroke-linecap:butt; stroke-linejoin:round; stroke-width:4; stroke-opacity:1; fill:none\" points=\"\n",
       "  169.121,1102.85 188.019,1102.85 \n",
       "  \"/>\n",
       "<polyline clip-path=\"url(#clip300)\" style=\"stroke:#000000; stroke-linecap:butt; stroke-linejoin:round; stroke-width:4; stroke-opacity:1; fill:none\" points=\"\n",
       "  169.121,759.989 188.019,759.989 \n",
       "  \"/>\n",
       "<polyline clip-path=\"url(#clip300)\" style=\"stroke:#000000; stroke-linecap:butt; stroke-linejoin:round; stroke-width:4; stroke-opacity:1; fill:none\" points=\"\n",
       "  169.121,417.125 188.019,417.125 \n",
       "  \"/>\n",
       "<polyline clip-path=\"url(#clip300)\" style=\"stroke:#000000; stroke-linecap:butt; stroke-linejoin:round; stroke-width:4; stroke-opacity:1; fill:none\" points=\"\n",
       "  169.121,74.2617 188.019,74.2617 \n",
       "  \"/>\n",
       "<path clip-path=\"url(#clip300)\" d=\"M121.177 1431.51 Q117.566 1431.51 115.737 1435.08 Q113.932 1438.62 113.932 1445.75 Q113.932 1452.86 115.737 1456.42 Q117.566 1459.96 121.177 1459.96 Q124.811 1459.96 126.617 1456.42 Q128.445 1452.86 128.445 1445.75 Q128.445 1438.62 126.617 1435.08 Q124.811 1431.51 121.177 1431.51 M121.177 1427.81 Q126.987 1427.81 130.043 1432.42 Q133.121 1437 133.121 1445.75 Q133.121 1454.48 130.043 1459.08 Q126.987 1463.67 121.177 1463.67 Q115.367 1463.67 112.288 1459.08 Q109.233 1454.48 109.233 1445.75 Q109.233 1437 112.288 1432.42 Q115.367 1427.81 121.177 1427.81 Z\" fill=\"#000000\" fill-rule=\"evenodd\" fill-opacity=\"1\" /><path clip-path=\"url(#clip300)\" d=\"M86.0382 1116.2 L102.358 1116.2 L102.358 1120.13 L80.4133 1120.13 L80.4133 1116.2 Q83.0753 1113.44 87.6586 1108.81 Q92.2651 1104.16 93.4456 1102.82 Q95.691 1100.29 96.5706 1098.56 Q97.4734 1096.8 97.4734 1095.11 Q97.4734 1092.35 95.5289 1090.62 Q93.6076 1088.88 90.5058 1088.88 Q88.3067 1088.88 85.8531 1089.65 Q83.4225 1090.41 80.6447 1091.96 L80.6447 1087.24 Q83.4688 1086.1 85.9225 1085.53 Q88.3762 1084.95 90.4132 1084.95 Q95.7836 1084.95 98.978 1087.63 Q102.172 1090.32 102.172 1094.81 Q102.172 1096.94 101.362 1098.86 Q100.575 1100.76 98.4687 1103.35 Q97.89 1104.02 94.7882 1107.24 Q91.6864 1110.43 86.0382 1116.2 Z\" fill=\"#000000\" fill-rule=\"evenodd\" fill-opacity=\"1\" /><path clip-path=\"url(#clip300)\" d=\"M112.219 1085.57 L130.575 1085.57 L130.575 1089.51 L116.501 1089.51 L116.501 1097.98 Q117.52 1097.63 118.538 1097.47 Q119.557 1097.29 120.575 1097.29 Q126.362 1097.29 129.742 1100.46 Q133.121 1103.63 133.121 1109.04 Q133.121 1114.62 129.649 1117.72 Q126.177 1120.8 119.857 1120.8 Q117.682 1120.8 115.413 1120.43 Q113.168 1120.06 110.76 1119.32 L110.76 1114.62 Q112.844 1115.76 115.066 1116.31 Q117.288 1116.87 119.765 1116.87 Q123.77 1116.87 126.107 1114.76 Q128.445 1112.66 128.445 1109.04 Q128.445 1105.43 126.107 1103.33 Q123.77 1101.22 119.765 1101.22 Q117.89 1101.22 116.015 1101.64 Q114.163 1102.05 112.219 1102.93 L112.219 1085.57 Z\" fill=\"#000000\" fill-rule=\"evenodd\" fill-opacity=\"1\" /><path clip-path=\"url(#clip300)\" d=\"M81.0614 742.709 L99.4178 742.709 L99.4178 746.644 L85.3438 746.644 L85.3438 755.116 Q86.3623 754.769 87.3808 754.607 Q88.3993 754.422 89.4178 754.422 Q95.2049 754.422 98.5845 757.593 Q101.964 760.764 101.964 766.181 Q101.964 771.759 98.4919 774.861 Q95.0197 777.94 88.7003 777.94 Q86.5243 777.94 84.2558 777.57 Q82.0105 777.199 79.6031 776.459 L79.6031 771.759 Q81.6864 772.894 83.9086 773.449 Q86.1308 774.005 88.6077 774.005 Q92.6123 774.005 94.9502 771.898 Q97.2882 769.792 97.2882 766.181 Q97.2882 762.57 94.9502 760.463 Q92.6123 758.357 88.6077 758.357 Q86.7327 758.357 84.8577 758.773 Q83.0058 759.19 81.0614 760.07 L81.0614 742.709 Z\" fill=\"#000000\" fill-rule=\"evenodd\" fill-opacity=\"1\" /><path clip-path=\"url(#clip300)\" d=\"M121.177 745.787 Q117.566 745.787 115.737 749.352 Q113.932 752.894 113.932 760.023 Q113.932 767.13 115.737 770.695 Q117.566 774.236 121.177 774.236 Q124.811 774.236 126.617 770.695 Q128.445 767.13 128.445 760.023 Q128.445 752.894 126.617 749.352 Q124.811 745.787 121.177 745.787 M121.177 742.084 Q126.987 742.084 130.043 746.69 Q133.121 751.273 133.121 760.023 Q133.121 768.75 130.043 773.357 Q126.987 777.94 121.177 777.94 Q115.367 777.94 112.288 773.357 Q109.233 768.75 109.233 760.023 Q109.233 751.273 112.288 746.69 Q115.367 742.084 121.177 742.084 Z\" fill=\"#000000\" fill-rule=\"evenodd\" fill-opacity=\"1\" /><path clip-path=\"url(#clip300)\" d=\"M80.8299 399.845 L103.052 399.845 L103.052 401.836 L90.5058 434.405 L85.6216 434.405 L97.4271 403.78 L80.8299 403.78 L80.8299 399.845 Z\" fill=\"#000000\" fill-rule=\"evenodd\" fill-opacity=\"1\" /><path clip-path=\"url(#clip300)\" d=\"M112.219 399.845 L130.575 399.845 L130.575 403.78 L116.501 403.78 L116.501 412.253 Q117.52 411.905 118.538 411.743 Q119.557 411.558 120.575 411.558 Q126.362 411.558 129.742 414.729 Q133.121 417.901 133.121 423.317 Q133.121 428.896 129.649 431.998 Q126.177 435.077 119.857 435.077 Q117.682 435.077 115.413 434.706 Q113.168 434.336 110.76 433.595 L110.76 428.896 Q112.844 430.03 115.066 430.586 Q117.288 431.141 119.765 431.141 Q123.77 431.141 126.107 429.035 Q128.445 426.928 128.445 423.317 Q128.445 419.706 126.107 417.6 Q123.77 415.493 119.765 415.493 Q117.89 415.493 116.015 415.91 Q114.163 416.327 112.219 417.206 L112.219 399.845 Z\" fill=\"#000000\" fill-rule=\"evenodd\" fill-opacity=\"1\" /><path clip-path=\"url(#clip300)\" d=\"M51.6634 87.6066 L59.3023 87.6066 L59.3023 61.241 L50.9921 62.9076 L50.9921 58.6484 L59.256 56.9817 L63.9319 56.9817 L63.9319 87.6066 L71.5707 87.6066 L71.5707 91.5417 L51.6634 91.5417 L51.6634 87.6066 Z\" fill=\"#000000\" fill-rule=\"evenodd\" fill-opacity=\"1\" /><path clip-path=\"url(#clip300)\" d=\"M91.0151 60.0604 Q87.404 60.0604 85.5753 63.6252 Q83.7697 67.1669 83.7697 74.2965 Q83.7697 81.4029 85.5753 84.9677 Q87.404 88.5093 91.0151 88.5093 Q94.6493 88.5093 96.4548 84.9677 Q98.2835 81.4029 98.2835 74.2965 Q98.2835 67.1669 96.4548 63.6252 Q94.6493 60.0604 91.0151 60.0604 M91.0151 56.3567 Q96.8252 56.3567 99.8808 60.9632 Q102.959 65.5465 102.959 74.2965 Q102.959 83.0233 99.8808 87.6297 Q96.8252 92.213 91.0151 92.213 Q85.2049 92.213 82.1262 87.6297 Q79.0707 83.0233 79.0707 74.2965 Q79.0707 65.5465 82.1262 60.9632 Q85.2049 56.3567 91.0151 56.3567 Z\" fill=\"#000000\" fill-rule=\"evenodd\" fill-opacity=\"1\" /><path clip-path=\"url(#clip300)\" d=\"M121.177 60.0604 Q117.566 60.0604 115.737 63.6252 Q113.932 67.1669 113.932 74.2965 Q113.932 81.4029 115.737 84.9677 Q117.566 88.5093 121.177 88.5093 Q124.811 88.5093 126.617 84.9677 Q128.445 81.4029 128.445 74.2965 Q128.445 67.1669 126.617 63.6252 Q124.811 60.0604 121.177 60.0604 M121.177 56.3567 Q126.987 56.3567 130.043 60.9632 Q133.121 65.5465 133.121 74.2965 Q133.121 83.0233 130.043 87.6297 Q126.987 92.213 121.177 92.213 Q115.367 92.213 112.288 87.6297 Q109.233 83.0233 109.233 74.2965 Q109.233 65.5465 112.288 60.9632 Q115.367 56.3567 121.177 56.3567 Z\" fill=\"#000000\" fill-rule=\"evenodd\" fill-opacity=\"1\" /><polyline clip-path=\"url(#clip302)\" style=\"stroke:#009af9; stroke-linecap:butt; stroke-linejoin:round; stroke-width:4; stroke-opacity:1; fill:none\" points=\"\n",
       "  230.922,87.9763 251.523,156.549 272.123,252.551 292.723,252.551 313.324,266.265 333.924,293.694 354.524,293.694 375.125,307.409 395.725,321.123 416.325,348.553 \n",
       "  436.926,348.553 457.526,348.553 478.126,348.553 498.727,362.267 519.327,362.267 539.927,389.696 560.528,389.696 581.128,389.696 601.728,389.696 622.328,389.696 \n",
       "  642.929,389.696 663.529,389.696 684.129,403.411 704.73,403.411 725.33,417.125 745.93,417.125 766.531,444.554 787.131,444.554 807.731,444.554 828.332,444.554 \n",
       "  848.932,444.554 869.532,444.554 890.133,444.554 910.733,444.554 931.333,444.554 951.934,444.554 972.534,444.554 993.134,444.554 1013.73,444.554 1034.34,444.554 \n",
       "  1054.94,444.554 1075.54,444.554 1096.14,444.554 1116.74,444.554 1137.34,444.554 1157.94,444.554 1178.54,444.554 1199.14,444.554 1219.74,444.554 1240.34,444.554 \n",
       "  1260.94,444.554 1281.54,444.554 1302.14,444.554 1322.74,444.554 1343.34,444.554 1363.94,444.554 1384.54,444.554 1405.14,444.554 1425.74,444.554 1446.34,444.554 \n",
       "  1466.94,444.554 1487.54,444.554 1508.14,444.554 1528.74,444.554 1549.34,444.554 1569.94,444.554 1590.54,444.554 1611.14,444.554 1631.74,444.554 1652.34,444.554 \n",
       "  1672.95,444.554 1693.55,444.554 1714.15,444.554 1734.75,444.554 1755.35,444.554 1775.95,444.554 1796.55,444.554 1817.15,444.554 1837.75,444.554 1858.35,444.554 \n",
       "  1878.95,444.554 1899.55,444.554 1920.15,444.554 1940.75,444.554 1961.35,444.554 1981.95,444.554 2002.55,444.554 2023.15,444.554 2043.75,444.554 2064.35,444.554 \n",
       "  2084.95,444.554 2105.55,444.554 2126.15,444.554 2146.75,444.554 2167.35,444.554 2187.95,444.554 2208.55,444.554 2229.15,444.554 2249.75,444.554 2270.35,444.554 \n",
       "  2290.95,444.554 \n",
       "  \"/>\n",
       "<polyline clip-path=\"url(#clip302)\" style=\"stroke:#e26f46; stroke-linecap:butt; stroke-linejoin:round; stroke-width:4; stroke-opacity:1; fill:none\" points=\"\n",
       "  230.922,1432 251.523,1363.43 272.123,1294.86 292.723,1308.57 313.324,1322.28 333.924,1294.86 354.524,1294.86 375.125,1294.86 395.725,1281.14 416.325,1253.71 \n",
       "  436.926,1253.71 457.526,1253.71 478.126,1267.43 498.727,1253.71 519.327,1281.14 539.927,1253.71 560.528,1253.71 581.128,1253.71 601.728,1267.43 622.328,1267.43 \n",
       "  642.929,1267.43 663.529,1281.14 684.129,1267.43 704.73,1267.43 725.33,1253.71 745.93,1253.71 766.531,1226.28 787.131,1240 807.731,1240 828.332,1240 \n",
       "  848.932,1240 869.532,1253.71 890.133,1267.43 910.733,1294.86 931.333,1308.57 951.934,1322.28 972.534,1322.28 993.134,1322.28 1013.73,1322.28 1034.34,1322.28 \n",
       "  1054.94,1349.71 1075.54,1363.43 1096.14,1363.43 1116.74,1363.43 1137.34,1363.43 1157.94,1377.14 1178.54,1377.14 1199.14,1377.14 1219.74,1377.14 1240.34,1377.14 \n",
       "  1260.94,1377.14 1281.54,1377.14 1302.14,1390.86 1322.74,1390.86 1343.34,1390.86 1363.94,1390.86 1384.54,1390.86 1405.14,1390.86 1425.74,1404.57 1446.34,1404.57 \n",
       "  1466.94,1404.57 1487.54,1404.57 1508.14,1418.29 1528.74,1418.29 1549.34,1418.29 1569.94,1418.29 1590.54,1418.29 1611.14,1418.29 1631.74,1432 1652.34,1432 \n",
       "  1672.95,1432 1693.55,1432 1714.15,1432 1734.75,1445.72 1755.35,1445.72 1775.95,1445.72 1796.55,1445.72 1817.15,1445.72 1837.75,1445.72 1858.35,1445.72 \n",
       "  1878.95,1445.72 1899.55,1445.72 1920.15,1445.72 1940.75,1445.72 1961.35,1445.72 1981.95,1445.72 2002.55,1445.72 2023.15,1445.72 2043.75,1445.72 2064.35,1445.72 \n",
       "  2084.95,1445.72 2105.55,1445.72 2126.15,1445.72 2146.75,1445.72 2167.35,1445.72 2187.95,1445.72 2208.55,1445.72 2229.15,1445.72 2249.75,1445.72 2270.35,1445.72 \n",
       "  2290.95,1445.72 \n",
       "  \"/>\n",
       "<polyline clip-path=\"url(#clip302)\" style=\"stroke:#3da44d; stroke-linecap:butt; stroke-linejoin:round; stroke-width:4; stroke-opacity:1; fill:none\" points=\"\n",
       "  230.922,1445.72 251.523,1445.72 272.123,1418.29 292.723,1404.57 313.324,1377.14 333.924,1377.14 354.524,1377.14 375.125,1363.43 395.725,1363.43 416.325,1363.43 \n",
       "  436.926,1363.43 457.526,1363.43 478.126,1349.71 498.727,1349.71 519.327,1322.28 539.927,1322.28 560.528,1322.28 581.128,1322.28 601.728,1308.57 622.328,1308.57 \n",
       "  642.929,1308.57 663.529,1294.86 684.129,1294.86 704.73,1294.86 725.33,1294.86 745.93,1294.86 766.531,1294.86 787.131,1281.14 807.731,1281.14 828.332,1281.14 \n",
       "  848.932,1281.14 869.532,1267.43 890.133,1253.71 910.733,1226.28 931.333,1212.57 951.934,1198.85 972.534,1198.85 993.134,1198.85 1013.73,1198.85 1034.34,1198.85 \n",
       "  1054.94,1171.42 1075.54,1157.71 1096.14,1157.71 1116.74,1157.71 1137.34,1157.71 1157.94,1144 1178.54,1144 1199.14,1144 1219.74,1144 1240.34,1144 \n",
       "  1260.94,1144 1281.54,1144 1302.14,1130.28 1322.74,1130.28 1343.34,1130.28 1363.94,1130.28 1384.54,1130.28 1405.14,1130.28 1425.74,1116.57 1446.34,1116.57 \n",
       "  1466.94,1116.57 1487.54,1116.57 1508.14,1102.85 1528.74,1102.85 1549.34,1102.85 1569.94,1102.85 1590.54,1102.85 1611.14,1102.85 1631.74,1089.14 1652.34,1089.14 \n",
       "  1672.95,1089.14 1693.55,1089.14 1714.15,1089.14 1734.75,1075.42 1755.35,1075.42 1775.95,1075.42 1796.55,1075.42 1817.15,1075.42 1837.75,1075.42 1858.35,1075.42 \n",
       "  1878.95,1075.42 1899.55,1075.42 1920.15,1075.42 1940.75,1075.42 1961.35,1075.42 1981.95,1075.42 2002.55,1075.42 2023.15,1075.42 2043.75,1075.42 2064.35,1075.42 \n",
       "  2084.95,1075.42 2105.55,1075.42 2126.15,1075.42 2146.75,1075.42 2167.35,1075.42 2187.95,1075.42 2208.55,1075.42 2229.15,1075.42 2249.75,1075.42 2270.35,1075.42 \n",
       "  2290.95,1075.42 \n",
       "  \"/>\n",
       "<path clip-path=\"url(#clip300)\" d=\"\n",
       "M1768.64 302.578 L2279.97 302.578 L2279.97 95.2176 L1768.64 95.2176  Z\n",
       "  \" fill=\"#ffffff\" fill-rule=\"evenodd\" fill-opacity=\"1\"/>\n",
       "<polyline clip-path=\"url(#clip300)\" style=\"stroke:#000000; stroke-linecap:butt; stroke-linejoin:round; stroke-width:4; stroke-opacity:1; fill:none\" points=\"\n",
       "  1768.64,302.578 2279.97,302.578 2279.97,95.2176 1768.64,95.2176 1768.64,302.578 \n",
       "  \"/>\n",
       "<polyline clip-path=\"url(#clip300)\" style=\"stroke:#009af9; stroke-linecap:butt; stroke-linejoin:round; stroke-width:4; stroke-opacity:1; fill:none\" points=\"\n",
       "  1792.9,147.058 1938.48,147.058 \n",
       "  \"/>\n",
       "<path clip-path=\"url(#clip300)\" d=\"M1984.99 130.912 L1984.99 135.472 Q1982.32 134.199 1979.96 133.574 Q1977.6 132.949 1975.4 132.949 Q1971.58 132.949 1969.5 134.43 Q1967.44 135.912 1967.44 138.643 Q1967.44 140.935 1968.81 142.115 Q1970.19 143.273 1974.04 143.99 L1976.86 144.569 Q1982.09 145.565 1984.57 148.088 Q1987.07 150.588 1987.07 154.801 Q1987.07 159.824 1983.69 162.416 Q1980.33 165.009 1973.83 165.009 Q1971.37 165.009 1968.6 164.453 Q1965.84 163.898 1962.88 162.81 L1962.88 157.995 Q1965.73 159.592 1968.46 160.402 Q1971.19 161.213 1973.83 161.213 Q1977.83 161.213 1980.01 159.639 Q1982.18 158.064 1982.18 155.148 Q1982.18 152.602 1980.61 151.166 Q1979.06 149.731 1975.5 149.014 L1972.65 148.458 Q1967.42 147.416 1965.08 145.194 Q1962.74 142.972 1962.74 139.014 Q1962.74 134.43 1965.96 131.791 Q1969.2 129.153 1974.87 129.153 Q1977.3 129.153 1979.82 129.592 Q1982.35 130.032 1984.99 130.912 Z\" fill=\"#000000\" fill-rule=\"evenodd\" fill-opacity=\"1\" /><path clip-path=\"url(#clip300)\" d=\"M1993.74 154.106 L1993.74 138.412 L1998 138.412 L1998 153.944 Q1998 157.625 1999.43 159.476 Q2000.87 161.305 2003.74 161.305 Q2007.18 161.305 2009.18 159.106 Q2011.19 156.907 2011.19 153.111 L2011.19 138.412 L2015.45 138.412 L2015.45 164.338 L2011.19 164.338 L2011.19 160.356 Q2009.64 162.717 2007.58 163.875 Q2005.54 165.009 2002.83 165.009 Q1998.37 165.009 1996.05 162.231 Q1993.74 159.453 1993.74 154.106 M2004.45 137.787 L2004.45 137.787 Z\" fill=\"#000000\" fill-rule=\"evenodd\" fill-opacity=\"1\" /><path clip-path=\"url(#clip300)\" d=\"M2040.75 139.176 L2040.75 143.203 Q2038.94 142.277 2037 141.815 Q2035.06 141.352 2032.97 141.352 Q2029.8 141.352 2028.2 142.324 Q2026.63 143.296 2026.63 145.24 Q2026.63 146.722 2027.76 147.578 Q2028.9 148.412 2032.32 149.176 L2033.78 149.5 Q2038.32 150.472 2040.22 152.254 Q2042.14 154.014 2042.14 157.185 Q2042.14 160.796 2039.27 162.902 Q2036.42 165.009 2031.42 165.009 Q2029.34 165.009 2027.07 164.592 Q2024.82 164.199 2022.32 163.388 L2022.32 158.99 Q2024.68 160.217 2026.98 160.842 Q2029.27 161.444 2031.51 161.444 Q2034.52 161.444 2036.14 160.426 Q2037.76 159.384 2037.76 157.509 Q2037.76 155.773 2036.58 154.847 Q2035.43 153.921 2031.47 153.064 L2029.99 152.717 Q2026.03 151.884 2024.27 150.171 Q2022.51 148.435 2022.51 145.426 Q2022.51 141.768 2025.1 139.778 Q2027.69 137.787 2032.46 137.787 Q2034.82 137.787 2036.91 138.134 Q2038.99 138.481 2040.75 139.176 Z\" fill=\"#000000\" fill-rule=\"evenodd\" fill-opacity=\"1\" /><path clip-path=\"url(#clip300)\" d=\"M2067.58 139.407 L2067.58 143.389 Q2065.77 142.393 2063.94 141.907 Q2062.14 141.398 2060.29 141.398 Q2056.14 141.398 2053.85 144.037 Q2051.56 146.652 2051.56 151.398 Q2051.56 156.143 2053.85 158.782 Q2056.14 161.398 2060.29 161.398 Q2062.14 161.398 2063.94 160.912 Q2065.77 160.402 2067.58 159.407 L2067.58 163.342 Q2065.8 164.176 2063.87 164.592 Q2061.98 165.009 2059.82 165.009 Q2053.97 165.009 2050.52 161.328 Q2047.07 157.648 2047.07 151.398 Q2047.07 145.055 2050.54 141.421 Q2054.04 137.787 2060.1 137.787 Q2062.07 137.787 2063.94 138.203 Q2065.82 138.597 2067.58 139.407 Z\" fill=\"#000000\" fill-rule=\"evenodd\" fill-opacity=\"1\" /><path clip-path=\"url(#clip300)\" d=\"M2097.16 150.31 L2097.16 152.393 L2077.58 152.393 Q2077.86 156.791 2080.22 159.106 Q2082.6 161.398 2086.84 161.398 Q2089.29 161.398 2091.58 160.796 Q2093.9 160.194 2096.17 158.99 L2096.17 163.018 Q2093.87 163.99 2091.47 164.5 Q2089.06 165.009 2086.58 165.009 Q2080.38 165.009 2076.74 161.398 Q2073.13 157.787 2073.13 151.629 Q2073.13 145.264 2076.56 141.537 Q2080.01 137.787 2085.84 137.787 Q2091.07 137.787 2094.11 141.166 Q2097.16 144.523 2097.16 150.31 M2092.9 149.06 Q2092.86 145.565 2090.93 143.481 Q2089.04 141.398 2085.89 141.398 Q2082.32 141.398 2080.17 143.412 Q2078.04 145.426 2077.72 149.083 L2092.9 149.06 Z\" fill=\"#000000\" fill-rule=\"evenodd\" fill-opacity=\"1\" /><path clip-path=\"url(#clip300)\" d=\"M2108.27 160.449 L2108.27 174.199 L2103.99 174.199 L2103.99 138.412 L2108.27 138.412 L2108.27 142.347 Q2109.61 140.032 2111.65 138.921 Q2113.71 137.787 2116.56 137.787 Q2121.28 137.787 2124.22 141.537 Q2127.18 145.287 2127.18 151.398 Q2127.18 157.509 2124.22 161.259 Q2121.28 165.009 2116.56 165.009 Q2113.71 165.009 2111.65 163.898 Q2109.61 162.763 2108.27 160.449 M2122.76 151.398 Q2122.76 146.699 2120.82 144.037 Q2118.9 141.352 2115.52 141.352 Q2112.14 141.352 2110.19 144.037 Q2108.27 146.699 2108.27 151.398 Q2108.27 156.097 2110.19 158.782 Q2112.14 161.444 2115.52 161.444 Q2118.9 161.444 2120.82 158.782 Q2122.76 156.097 2122.76 151.398 Z\" fill=\"#000000\" fill-rule=\"evenodd\" fill-opacity=\"1\" /><path clip-path=\"url(#clip300)\" d=\"M2138.46 131.051 L2138.46 138.412 L2147.23 138.412 L2147.23 141.722 L2138.46 141.722 L2138.46 155.796 Q2138.46 158.967 2139.31 159.87 Q2140.19 160.773 2142.86 160.773 L2147.23 160.773 L2147.23 164.338 L2142.86 164.338 Q2137.92 164.338 2136.05 162.509 Q2134.17 160.657 2134.17 155.796 L2134.17 141.722 L2131.05 141.722 L2131.05 138.412 L2134.17 138.412 L2134.17 131.051 L2138.46 131.051 Z\" fill=\"#000000\" fill-rule=\"evenodd\" fill-opacity=\"1\" /><path clip-path=\"url(#clip300)\" d=\"M2152.83 138.412 L2157.09 138.412 L2157.09 164.338 L2152.83 164.338 L2152.83 138.412 M2152.83 128.319 L2157.09 128.319 L2157.09 133.713 L2152.83 133.713 L2152.83 128.319 Z\" fill=\"#000000\" fill-rule=\"evenodd\" fill-opacity=\"1\" /><path clip-path=\"url(#clip300)\" d=\"M2184.61 151.398 Q2184.61 146.699 2182.67 144.037 Q2180.75 141.352 2177.37 141.352 Q2173.99 141.352 2172.05 144.037 Q2170.12 146.699 2170.12 151.398 Q2170.12 156.097 2172.05 158.782 Q2173.99 161.444 2177.37 161.444 Q2180.75 161.444 2182.67 158.782 Q2184.61 156.097 2184.61 151.398 M2170.12 142.347 Q2171.47 140.032 2173.5 138.921 Q2175.56 137.787 2178.41 137.787 Q2183.13 137.787 2186.07 141.537 Q2189.04 145.287 2189.04 151.398 Q2189.04 157.509 2186.07 161.259 Q2183.13 165.009 2178.41 165.009 Q2175.56 165.009 2173.5 163.898 Q2171.47 162.763 2170.12 160.449 L2170.12 164.338 L2165.84 164.338 L2165.84 128.319 L2170.12 128.319 L2170.12 142.347 Z\" fill=\"#000000\" fill-rule=\"evenodd\" fill-opacity=\"1\" /><path clip-path=\"url(#clip300)\" d=\"M2196.1 128.319 L2200.36 128.319 L2200.36 164.338 L2196.1 164.338 L2196.1 128.319 Z\" fill=\"#000000\" fill-rule=\"evenodd\" fill-opacity=\"1\" /><path clip-path=\"url(#clip300)\" d=\"M2231.44 150.31 L2231.44 152.393 L2211.86 152.393 Q2212.14 156.791 2214.5 159.106 Q2216.88 161.398 2221.12 161.398 Q2223.57 161.398 2225.86 160.796 Q2228.18 160.194 2230.45 158.99 L2230.45 163.018 Q2228.16 163.99 2225.75 164.5 Q2223.34 165.009 2220.86 165.009 Q2214.66 165.009 2211.03 161.398 Q2207.42 157.787 2207.42 151.629 Q2207.42 145.264 2210.84 141.537 Q2214.29 137.787 2220.12 137.787 Q2225.35 137.787 2228.39 141.166 Q2231.44 144.523 2231.44 150.31 M2227.18 149.06 Q2227.14 145.565 2225.22 143.481 Q2223.32 141.398 2220.17 141.398 Q2216.6 141.398 2214.45 143.412 Q2212.32 145.426 2212 149.083 L2227.18 149.06 Z\" fill=\"#000000\" fill-rule=\"evenodd\" fill-opacity=\"1\" /><polyline clip-path=\"url(#clip300)\" style=\"stroke:#e26f46; stroke-linecap:butt; stroke-linejoin:round; stroke-width:4; stroke-opacity:1; fill:none\" points=\"\n",
       "  1792.9,198.898 1938.48,198.898 \n",
       "  \"/>\n",
       "<path clip-path=\"url(#clip300)\" d=\"M1962.74 181.618 L1967.42 181.618 L1967.42 216.178 L1962.74 216.178 L1962.74 181.618 Z\" fill=\"#000000\" fill-rule=\"evenodd\" fill-opacity=\"1\" /><path clip-path=\"url(#clip300)\" d=\"M1998.09 200.529 L1998.09 216.178 L1993.83 216.178 L1993.83 200.668 Q1993.83 196.988 1992.39 195.159 Q1990.96 193.33 1988.09 193.33 Q1984.64 193.33 1982.65 195.53 Q1980.66 197.729 1980.66 201.525 L1980.66 216.178 L1976.37 216.178 L1976.37 190.252 L1980.66 190.252 L1980.66 194.28 Q1982.18 191.942 1984.25 190.784 Q1986.33 189.627 1989.04 189.627 Q1993.5 189.627 1995.8 192.405 Q1998.09 195.159 1998.09 200.529 Z\" fill=\"#000000\" fill-rule=\"evenodd\" fill-opacity=\"1\" /><path clip-path=\"url(#clip300)\" d=\"M2019.71 180.159 L2019.71 183.701 L2015.63 183.701 Q2013.34 183.701 2012.44 184.627 Q2011.56 185.553 2011.56 187.96 L2011.56 190.252 L2018.57 190.252 L2018.57 193.562 L2011.56 193.562 L2011.56 216.178 L2007.28 216.178 L2007.28 193.562 L2003.2 193.562 L2003.2 190.252 L2007.28 190.252 L2007.28 188.446 Q2007.28 184.118 2009.29 182.15 Q2011.31 180.159 2015.68 180.159 L2019.71 180.159 Z\" fill=\"#000000\" fill-rule=\"evenodd\" fill-opacity=\"1\" /><path clip-path=\"url(#clip300)\" d=\"M2045.45 202.15 L2045.45 204.233 L2025.87 204.233 Q2026.14 208.631 2028.5 210.946 Q2030.89 213.238 2035.12 213.238 Q2037.58 213.238 2039.87 212.636 Q2042.18 212.034 2044.45 210.83 L2044.45 214.858 Q2042.16 215.83 2039.75 216.34 Q2037.35 216.849 2034.87 216.849 Q2028.67 216.849 2025.03 213.238 Q2021.42 209.627 2021.42 203.469 Q2021.42 197.104 2024.85 193.377 Q2028.3 189.627 2034.13 189.627 Q2039.36 189.627 2042.39 193.006 Q2045.45 196.363 2045.45 202.15 M2041.19 200.9 Q2041.14 197.405 2039.22 195.321 Q2037.32 193.238 2034.18 193.238 Q2030.61 193.238 2028.46 195.252 Q2026.33 197.266 2026 200.923 L2041.19 200.9 Z\" fill=\"#000000\" fill-rule=\"evenodd\" fill-opacity=\"1\" /><path clip-path=\"url(#clip300)\" d=\"M2071.1 191.247 L2071.1 195.229 Q2069.29 194.233 2067.46 193.747 Q2065.66 193.238 2063.8 193.238 Q2059.66 193.238 2057.37 195.877 Q2055.08 198.492 2055.08 203.238 Q2055.08 207.983 2057.37 210.622 Q2059.66 213.238 2063.8 213.238 Q2065.66 213.238 2067.46 212.752 Q2069.29 212.242 2071.1 211.247 L2071.1 215.182 Q2069.31 216.016 2067.39 216.432 Q2065.49 216.849 2063.34 216.849 Q2057.49 216.849 2054.04 213.168 Q2050.59 209.488 2050.59 203.238 Q2050.59 196.895 2054.06 193.261 Q2057.55 189.627 2063.62 189.627 Q2065.59 189.627 2067.46 190.043 Q2069.34 190.437 2071.1 191.247 Z\" fill=\"#000000\" fill-rule=\"evenodd\" fill-opacity=\"1\" /><path clip-path=\"url(#clip300)\" d=\"M2082.72 182.891 L2082.72 190.252 L2091.49 190.252 L2091.49 193.562 L2082.72 193.562 L2082.72 207.636 Q2082.72 210.807 2083.57 211.71 Q2084.45 212.613 2087.11 212.613 L2091.49 212.613 L2091.49 216.178 L2087.11 216.178 Q2082.18 216.178 2080.31 214.349 Q2078.43 212.497 2078.43 207.636 L2078.43 193.562 L2075.31 193.562 L2075.31 190.252 L2078.43 190.252 L2078.43 182.891 L2082.72 182.891 Z\" fill=\"#000000\" fill-rule=\"evenodd\" fill-opacity=\"1\" /><path clip-path=\"url(#clip300)\" d=\"M2119.27 202.15 L2119.27 204.233 L2099.68 204.233 Q2099.96 208.631 2102.32 210.946 Q2104.71 213.238 2108.94 213.238 Q2111.4 213.238 2113.69 212.636 Q2116 212.034 2118.27 210.83 L2118.27 214.858 Q2115.98 215.83 2113.57 216.34 Q2111.17 216.849 2108.69 216.849 Q2102.49 216.849 2098.85 213.238 Q2095.24 209.627 2095.24 203.469 Q2095.24 197.104 2098.67 193.377 Q2102.11 189.627 2107.95 189.627 Q2113.18 189.627 2116.21 193.006 Q2119.27 196.363 2119.27 202.15 M2115.01 200.9 Q2114.96 197.405 2113.04 195.321 Q2111.14 193.238 2107.99 193.238 Q2104.43 193.238 2102.28 195.252 Q2100.15 197.266 2099.82 200.923 L2115.01 200.9 Z\" fill=\"#000000\" fill-rule=\"evenodd\" fill-opacity=\"1\" /><path clip-path=\"url(#clip300)\" d=\"M2143.32 194.187 L2143.32 180.159 L2147.58 180.159 L2147.58 216.178 L2143.32 216.178 L2143.32 212.289 Q2141.98 214.603 2139.92 215.738 Q2137.88 216.849 2135.01 216.849 Q2130.31 216.849 2127.35 213.099 Q2124.41 209.349 2124.41 203.238 Q2124.41 197.127 2127.35 193.377 Q2130.31 189.627 2135.01 189.627 Q2137.88 189.627 2139.92 190.761 Q2141.98 191.872 2143.32 194.187 M2128.8 203.238 Q2128.8 207.937 2130.73 210.622 Q2132.67 213.284 2136.05 213.284 Q2139.43 213.284 2141.37 210.622 Q2143.32 207.937 2143.32 203.238 Q2143.32 198.539 2141.37 195.877 Q2139.43 193.192 2136.05 193.192 Q2132.67 193.192 2130.73 195.877 Q2128.8 198.539 2128.8 203.238 Z\" fill=\"#000000\" fill-rule=\"evenodd\" fill-opacity=\"1\" /><polyline clip-path=\"url(#clip300)\" style=\"stroke:#3da44d; stroke-linecap:butt; stroke-linejoin:round; stroke-width:4; stroke-opacity:1; fill:none\" points=\"\n",
       "  1792.9,250.738 1938.48,250.738 \n",
       "  \"/>\n",
       "<path clip-path=\"url(#clip300)\" d=\"M1979.13 251.814 Q1980.63 252.323 1982.05 253.99 Q1983.48 255.657 1984.92 258.573 L1989.66 268.018 L1984.64 268.018 L1980.22 259.152 Q1978.5 255.68 1976.88 254.545 Q1975.29 253.411 1972.51 253.411 L1967.42 253.411 L1967.42 268.018 L1962.74 268.018 L1962.74 233.458 L1973.3 233.458 Q1979.22 233.458 1982.14 235.934 Q1985.06 238.411 1985.06 243.411 Q1985.06 246.675 1983.53 248.828 Q1982.02 250.981 1979.13 251.814 M1967.42 237.3 L1967.42 249.569 L1973.3 249.569 Q1976.68 249.569 1978.39 248.018 Q1980.12 246.444 1980.12 243.411 Q1980.12 240.379 1978.39 238.851 Q1976.68 237.3 1973.3 237.3 L1967.42 237.3 Z\" fill=\"#000000\" fill-rule=\"evenodd\" fill-opacity=\"1\" /><path clip-path=\"url(#clip300)\" d=\"M2015.54 253.99 L2015.54 256.073 L1995.96 256.073 Q1996.24 260.471 1998.6 262.786 Q2000.98 265.078 2005.22 265.078 Q2007.67 265.078 2009.96 264.476 Q2012.28 263.874 2014.55 262.67 L2014.55 266.698 Q2012.25 267.67 2009.85 268.18 Q2007.44 268.689 2004.96 268.689 Q1998.76 268.689 1995.12 265.078 Q1991.51 261.467 1991.51 255.309 Q1991.51 248.944 1994.94 245.217 Q1998.39 241.467 2004.22 241.467 Q2009.45 241.467 2012.49 244.846 Q2015.54 248.203 2015.54 253.99 M2011.28 252.74 Q2011.24 249.245 2009.31 247.161 Q2007.42 245.078 2004.27 245.078 Q2000.7 245.078 1998.55 247.092 Q1996.42 249.106 1996.1 252.763 L2011.28 252.74 Z\" fill=\"#000000\" fill-rule=\"evenodd\" fill-opacity=\"1\" /><path clip-path=\"url(#clip300)\" d=\"M2041.19 243.087 L2041.19 247.069 Q2039.38 246.073 2037.56 245.587 Q2035.75 245.078 2033.9 245.078 Q2029.75 245.078 2027.46 247.717 Q2025.17 250.332 2025.17 255.078 Q2025.17 259.823 2027.46 262.462 Q2029.75 265.078 2033.9 265.078 Q2035.75 265.078 2037.56 264.592 Q2039.38 264.082 2041.19 263.087 L2041.19 267.022 Q2039.41 267.856 2037.49 268.272 Q2035.59 268.689 2033.43 268.689 Q2027.58 268.689 2024.13 265.008 Q2020.68 261.328 2020.68 255.078 Q2020.68 248.735 2024.15 245.101 Q2027.65 241.467 2033.71 241.467 Q2035.68 241.467 2037.56 241.883 Q2039.43 242.277 2041.19 243.087 Z\" fill=\"#000000\" fill-rule=\"evenodd\" fill-opacity=\"1\" /><path clip-path=\"url(#clip300)\" d=\"M2058.64 245.078 Q2055.22 245.078 2053.23 247.763 Q2051.24 250.425 2051.24 255.078 Q2051.24 259.731 2053.2 262.416 Q2055.19 265.078 2058.64 265.078 Q2062.05 265.078 2064.04 262.393 Q2066.03 259.707 2066.03 255.078 Q2066.03 250.471 2064.04 247.786 Q2062.05 245.078 2058.64 245.078 M2058.64 241.467 Q2064.2 241.467 2067.37 245.078 Q2070.54 248.689 2070.54 255.078 Q2070.54 261.444 2067.37 265.078 Q2064.2 268.689 2058.64 268.689 Q2053.06 268.689 2049.89 265.078 Q2046.74 261.444 2046.74 255.078 Q2046.74 248.689 2049.89 245.078 Q2053.06 241.467 2058.64 241.467 Z\" fill=\"#000000\" fill-rule=\"evenodd\" fill-opacity=\"1\" /><path clip-path=\"url(#clip300)\" d=\"M2074.55 242.092 L2079.06 242.092 L2087.16 263.851 L2095.26 242.092 L2099.78 242.092 L2090.05 268.018 L2084.27 268.018 L2074.55 242.092 Z\" fill=\"#000000\" fill-rule=\"evenodd\" fill-opacity=\"1\" /><path clip-path=\"url(#clip300)\" d=\"M2127.83 253.99 L2127.83 256.073 L2108.25 256.073 Q2108.53 260.471 2110.89 262.786 Q2113.27 265.078 2117.51 265.078 Q2119.96 265.078 2122.25 264.476 Q2124.57 263.874 2126.84 262.67 L2126.84 266.698 Q2124.55 267.67 2122.14 268.18 Q2119.73 268.689 2117.25 268.689 Q2111.05 268.689 2107.42 265.078 Q2103.8 261.467 2103.8 255.309 Q2103.8 248.944 2107.23 245.217 Q2110.68 241.467 2116.51 241.467 Q2121.74 241.467 2124.78 244.846 Q2127.83 248.203 2127.83 253.99 M2123.57 252.74 Q2123.53 249.245 2121.61 247.161 Q2119.71 245.078 2116.56 245.078 Q2112.99 245.078 2110.84 247.092 Q2108.71 249.106 2108.39 252.763 L2123.57 252.74 Z\" fill=\"#000000\" fill-rule=\"evenodd\" fill-opacity=\"1\" /><path clip-path=\"url(#clip300)\" d=\"M2149.85 246.073 Q2149.13 245.657 2148.27 245.471 Q2147.44 245.263 2146.42 245.263 Q2142.81 245.263 2140.86 247.624 Q2138.94 249.962 2138.94 254.36 L2138.94 268.018 L2134.66 268.018 L2134.66 242.092 L2138.94 242.092 L2138.94 246.12 Q2140.29 243.758 2142.44 242.624 Q2144.59 241.467 2147.67 241.467 Q2148.11 241.467 2148.64 241.536 Q2149.17 241.583 2149.82 241.698 L2149.85 246.073 Z\" fill=\"#000000\" fill-rule=\"evenodd\" fill-opacity=\"1\" /><path clip-path=\"url(#clip300)\" d=\"M2175.45 253.99 L2175.45 256.073 L2155.86 256.073 Q2156.14 260.471 2158.5 262.786 Q2160.89 265.078 2165.12 265.078 Q2167.58 265.078 2169.87 264.476 Q2172.18 263.874 2174.45 262.67 L2174.45 266.698 Q2172.16 267.67 2169.75 268.18 Q2167.35 268.689 2164.87 268.689 Q2158.67 268.689 2155.03 265.078 Q2151.42 261.467 2151.42 255.309 Q2151.42 248.944 2154.85 245.217 Q2158.3 241.467 2164.13 241.467 Q2169.36 241.467 2172.39 244.846 Q2175.45 248.203 2175.45 253.99 M2171.19 252.74 Q2171.14 249.245 2169.22 247.161 Q2167.32 245.078 2164.17 245.078 Q2160.61 245.078 2158.46 247.092 Q2156.33 249.106 2156 252.763 L2171.19 252.74 Z\" fill=\"#000000\" fill-rule=\"evenodd\" fill-opacity=\"1\" /><path clip-path=\"url(#clip300)\" d=\"M2199.5 246.027 L2199.5 231.999 L2203.76 231.999 L2203.76 268.018 L2199.5 268.018 L2199.5 264.129 Q2198.16 266.443 2196.1 267.578 Q2194.06 268.689 2191.19 268.689 Q2186.49 268.689 2183.53 264.939 Q2180.59 261.189 2180.59 255.078 Q2180.59 248.967 2183.53 245.217 Q2186.49 241.467 2191.19 241.467 Q2194.06 241.467 2196.1 242.601 Q2198.16 243.712 2199.5 246.027 M2184.98 255.078 Q2184.98 259.777 2186.91 262.462 Q2188.85 265.124 2192.23 265.124 Q2195.61 265.124 2197.55 262.462 Q2199.5 259.777 2199.5 255.078 Q2199.5 250.379 2197.55 247.717 Q2195.61 245.032 2192.23 245.032 Q2188.85 245.032 2186.91 247.717 Q2184.98 250.379 2184.98 255.078 Z\" fill=\"#000000\" fill-rule=\"evenodd\" fill-opacity=\"1\" /></svg>\n"
      ]
     },
     "execution_count": 111,
     "metadata": {},
     "output_type": "execute_result"
    }
   ],
   "source": [
    "pl = plot(sim_n_S, label=\"Susceptible\")\n",
    "plot!(pl, sim_n_I, label=\"Infected\")\n",
    "plot!(pl, sim_n_R, label=\"Recovered\")\n"
   ]
  },
  {
   "cell_type": "markdown",
   "metadata": {},
   "source": [
    "### Additional questions\n",
    "\n",
    "Have fun by trying to answer one of these questions:\n",
    "- change probability of infection so that it depends on the number of infected people in the vincinity (with some suitable functional formulation for)\n",
    "- compute an animation of the transition\n",
    "- compute an interactive visualisation (with `Interact.jl` if available)"
   ]
  },
  {
   "cell_type": "code",
   "execution_count": null,
   "metadata": {},
   "outputs": [],
   "source": []
  }
 ],
 "metadata": {
  "kernelspec": {
   "display_name": "Julia 1.6.1",
   "language": "julia",
   "name": "julia-1.6"
  },
  "language_info": {
   "file_extension": ".jl",
   "mimetype": "application/julia",
   "name": "julia",
   "version": "1.6.1"
  }
 },
 "nbformat": 4,
 "nbformat_minor": 4
}
