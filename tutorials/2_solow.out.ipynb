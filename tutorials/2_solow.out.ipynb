{
  "cells": [
    {
      "cell_type": "markdown",
      "metadata": {},
      "source": [
        "# Convergence: Solow Model\n",
        "\n",
        "Pablo Winant\n",
        "\n",
        "### Solow Model\n",
        "\n",
        "A representative agent uses capital $k_t$ to produce $y_t$ using the\n",
        "following production function:\n",
        "\n",
        "$$y_t = k_t^{\\alpha}$$\n",
        "\n",
        "He chooses to consume an amount $c_t \\in ]0, y_t]$ and invests what\n",
        "remains:\n",
        "\n",
        "$$i_t = y_t - c_t$$\n",
        "\n",
        "He accumulates capital $k_t$ according to:\n",
        "\n",
        "$$k_{t+1} = \\left( 1-\\delta \\right) k_{t} + i_{t}$$\n",
        "\n",
        "where $\\delta$ is the depreciation rate and $i_t$ is the amount\n",
        "invested.\n",
        "\n",
        "The goal of the representative agent is to maximize:\n",
        "\n",
        "$$\\sum_{t\\geq 0} \\beta^t U(c_t)$$\n",
        "\n",
        "where $U(x)=\\frac{x^{1-\\gamma}}{1-\\gamma}$ and $\\beta<1$ is the discount\n",
        "factor.\n",
        "\n",
        "For now, we ignore the objective and assume that the saving rate\n",
        "$s=\\frac{i_t}{y_t}$ is constant over time.\n",
        "\n",
        "**Create a `NamedTuple` to hold parameter values $\\beta=0.96$,\n",
        "$\\delta=0.1$, $\\alpha=0.3$, $\\gamma=4$.**"
      ],
      "id": "b390f20c-3dc7-4ea4-97ad-5dd25ce00f6a"
    },
    {
      "cell_type": "code",
      "execution_count": null,
      "metadata": {},
      "outputs": [],
      "source": [
        "# how do we record the model informations"
      ],
      "id": "cell-4"
    },
    {
      "cell_type": "code",
      "execution_count": 1,
      "metadata": {},
      "outputs": [],
      "source": [
        "# option 1: use structure (your own type)\n",
        "struct ModelType\n",
        "    α::Float64\n",
        "    β\n",
        "    γ\n",
        "    δ\n",
        "end"
      ],
      "id": "cell-5"
    },
    {
      "cell_type": "code",
      "execution_count": null,
      "metadata": {},
      "outputs": [
        {
          "output_type": "display_data",
          "metadata": {},
          "data": {
            "text/plain": [
              "0.3"
            ]
          }
        }
      ],
      "source": [
        "model = ModelType(0.3, 0.96, 2.0, 0.1)\n",
        "# access the fields with a dot\n",
        "model.α\n",
        "# problem: you cannot redefine structures without restarting the kernel\n"
      ],
      "id": "cell-6"
    },
    {
      "cell_type": "code",
      "execution_count": 4,
      "metadata": {},
      "outputs": [
        {
          "output_type": "display_data",
          "metadata": {},
          "data": {
            "text/plain": [
              "Dict{Symbol, Float64} with 4 entries:\n",
              "  :α => 0.3\n",
              "  :γ => 2.0\n",
              "  :δ => 0.1\n",
              "  :β => 0.96"
            ]
          }
        }
      ],
      "source": [
        "# use a dictionary \n",
        "\n",
        "model_dict = Dict(\n",
        "    :α => 0.3,\n",
        "    :β => 0.96,\n",
        "    :γ => 2.0,\n",
        "    :δ => 0.1\n",
        "    )"
      ],
      "id": "cell-7"
    },
    {
      "cell_type": "code",
      "execution_count": 3,
      "metadata": {},
      "outputs": [
        {
          "output_type": "display_data",
          "metadata": {},
          "data": {
            "text/plain": [
              "0 => \"zero\""
            ]
          }
        }
      ],
      "source": [
        "# a dictionary is a list of pairs\n",
        "0 => \"zero\""
      ],
      "id": "cell-8"
    },
    {
      "cell_type": "code",
      "execution_count": 7,
      "metadata": {},
      "outputs": [
        {
          "output_type": "display_data",
          "metadata": {},
          "data": {
            "text/plain": [
              "\"JIijlkjljasdf  43 '4321514 5\""
            ]
          }
        }
      ],
      "source": [
        "# the keys to dictionaries must be immutable objects (hashable)\n",
        "# for this reason we suse symbols instead of strings\n",
        "\n",
        "\"JIijlkjljasdf  43 '4321514 5\""
      ],
      "id": "cell-9"
    },
    {
      "cell_type": "code",
      "execution_count": null,
      "metadata": {},
      "outputs": [
        {
          "output_type": "display_data",
          "metadata": {},
          "data": {
            "text/plain": [
              ":hkhrd"
            ]
          }
        }
      ],
      "source": [
        ":hkhrd  # this is a symbol (the characters are somwehat restricted.)"
      ],
      "id": "cell-10"
    },
    {
      "cell_type": "code",
      "execution_count": 9,
      "metadata": {},
      "outputs": [
        {
          "output_type": "display_data",
          "metadata": {},
          "data": {
            "text/plain": [
              "0.3"
            ]
          }
        }
      ],
      "source": [
        "# access the fields with brackets\n",
        "model_dict[:α]"
      ],
      "id": "cell-11"
    },
    {
      "cell_type": "code",
      "execution_count": 11,
      "metadata": {},
      "outputs": [
        {
          "output_type": "display_data",
          "metadata": {},
          "data": {
            "text/plain": [
              "0.4"
            ]
          }
        }
      ],
      "source": [
        "model_dict[:α] = 0.4\n",
        "# you change values: dictionaries are mutable"
      ],
      "id": "cell-12"
    },
    {
      "cell_type": "code",
      "execution_count": 10,
      "metadata": {},
      "outputs": [],
      "source": [
        "# problems with dictionaries:\n",
        "# - a lot of model_dict[:α]\n",
        "# - not compiler frienldy"
      ],
      "id": "cell-13"
    },
    {
      "cell_type": "code",
      "execution_count": 12,
      "metadata": {},
      "outputs": [
        {
          "output_type": "display_data",
          "metadata": {},
          "data": {
            "text/plain": [
              "(0.3, 0.96, 2.0, 0.1)"
            ]
          }
        }
      ],
      "source": [
        "# solution 3: use tuples\n",
        "\n",
        "model_tuple = (0.3, 0.96, 2.0, 0.1)"
      ],
      "id": "cell-14"
    },
    {
      "cell_type": "code",
      "execution_count": null,
      "metadata": {},
      "outputs": [
        {
          "output_type": "display_data",
          "metadata": {},
          "data": {
            "text/plain": [
              "0.96"
            ]
          }
        }
      ],
      "source": [
        "# problem: very error prone because one needs to remember the positions\n",
        "β = model_tuple[2]"
      ],
      "id": "cell-15"
    },
    {
      "cell_type": "code",
      "execution_count": 4,
      "metadata": {},
      "outputs": [
        {
          "output_type": "display_data",
          "metadata": {},
          "data": {
            "text/plain": [
              "(s = 0.2, α = 0.3, β = 0.96, γ = 2.0, δ = 0.1)"
            ]
          }
        }
      ],
      "source": [
        "# 🐉\n",
        "\n",
        "# solution 4: use a named tuple\n",
        "\n",
        "# convention: keyword arguments after ;\n",
        "\n",
        "model = (; s=0.2, α=0.3, β=0.96, γ=2.0, δ=0.1)"
      ],
      "id": "cell-16"
    },
    {
      "cell_type": "code",
      "execution_count": 5,
      "metadata": {},
      "outputs": [
        {
          "output_type": "display_data",
          "metadata": {},
          "data": {
            "text/plain": [
              "0.2"
            ]
          }
        }
      ],
      "source": [
        "model[1]"
      ],
      "id": "cell-17"
    },
    {
      "cell_type": "code",
      "execution_count": 15,
      "metadata": {},
      "outputs": [
        {
          "output_type": "display_data",
          "metadata": {},
          "data": {
            "text/plain": [
              "0.3"
            ]
          }
        }
      ],
      "source": [
        "model.α"
      ],
      "id": "cell-18"
    },
    {
      "cell_type": "code",
      "execution_count": null,
      "metadata": {},
      "outputs": [
        {
          "output_type": "display_data",
          "metadata": {},
          "data": {
            "text/plain": [
              "(α = 0.3, β = 0.96, γ = 2.0, δ = 0.1)"
            ]
          }
        }
      ],
      "source": [
        "# you can unpack the content of a named tuple\n",
        "a,b,c,d = model # error prone"
      ],
      "id": "cell-19"
    },
    {
      "cell_type": "code",
      "execution_count": null,
      "metadata": {},
      "outputs": [
        {
          "output_type": "display_data",
          "metadata": {},
          "data": {
            "text/plain": [
              "(α = 0.3, β = 0.96, γ = 2.0, δ = 0.1)"
            ]
          }
        }
      ],
      "source": [
        "# you can unpack using the names\n",
        "(;α, β, γ, δ)  = model\n",
        "\n",
        "# equivalent to \n",
        "# α = model.α\n",
        "# β = model.β\n"
      ],
      "id": "cell-20"
    },
    {
      "cell_type": "markdown",
      "metadata": {},
      "source": [
        "**Write down the formula of function $f$ such that $k_{t+1}$:\n",
        "$k_{t+1} = f(k_t)$.**\n",
        "\n",
        "You get: $$k_{t+1} = (1-\\delta) k_t + s k_t^{\\alpha}$$\n",
        "\n",
        "**Define a function `f(k::Float64, p::NamedTuple)::Float64` to represent\n",
        "$f$ for a given calibration**"
      ],
      "id": "1e5d2d3e-e5cf-4247-8531-7c7e8fc35493"
    },
    {
      "cell_type": "code",
      "execution_count": null,
      "metadata": {},
      "outputs": [
        {
          "output_type": "display_data",
          "metadata": {},
          "data": {
            "text/plain": [
              "fun (generic function with 1 method)"
            ]
          }
        }
      ],
      "source": [
        "# there are three ways to define a function\n",
        "\n",
        "# 1 / with a function end block\n",
        "# and an explicit return statement\n",
        "\n",
        "function fun(a, b; c=1, d=2)\n",
        "    return a + b + c + d\n",
        "end"
      ],
      "id": "cell-24"
    },
    {
      "cell_type": "code",
      "execution_count": 20,
      "metadata": {},
      "outputs": [
        {
          "output_type": "display_data",
          "metadata": {},
          "data": {
            "text/plain": [
              "gun (generic function with 1 method)"
            ]
          }
        }
      ],
      "source": [
        "# 2 / with a one-liner\n",
        "\n",
        "gun(a, b; c=1, d=2) = a + b + c + d"
      ],
      "id": "cell-25"
    },
    {
      "cell_type": "code",
      "execution_count": null,
      "metadata": {},
      "outputs": [
        {
          "output_type": "display_data",
          "metadata": {},
          "data": {
            "text/plain": [
              "#13 (generic function with 1 method)"
            ]
          }
        }
      ],
      "source": [
        "# 3/ an anynomous function\n",
        "\n",
        "# doesn't work with keywords\n",
        "myfun = ((a,b,c,d) ->  a+b+c+d)\n",
        "myfun(2,3,4,5)\n"
      ],
      "id": "cell-26"
    },
    {
      "cell_type": "code",
      "execution_count": 23,
      "metadata": {},
      "outputs": [],
      "source": [
        "# functions have name\n",
        "# methods implement a function for a specific type signature"
      ],
      "id": "cell-27"
    },
    {
      "cell_type": "code",
      "execution_count": 25,
      "metadata": {},
      "outputs": [
        {
          "output_type": "display_data",
          "metadata": {},
          "data": {
            "text/plain": [
              "add (generic function with 1 method)"
            ]
          }
        }
      ],
      "source": [
        "add(a) = a+1"
      ],
      "id": "cell-28"
    },
    {
      "cell_type": "code",
      "execution_count": 26,
      "metadata": {},
      "outputs": [
        {
          "output_type": "display_data",
          "metadata": {},
          "data": {
            "text/plain": [
              "add (generic function with 3 methods)"
            ]
          }
        }
      ],
      "source": [
        "add(x::Int) = x+1\n",
        "add(x::Float64) = x+1.00001"
      ],
      "id": "cell-29"
    },
    {
      "cell_type": "code",
      "execution_count": 28,
      "metadata": {},
      "outputs": [
        {
          "output_type": "display_data",
          "metadata": {},
          "data": {
            "text/plain": [
              "233.00001"
            ]
          }
        }
      ],
      "source": [
        "add(232.0)"
      ],
      "id": "cell-30"
    },
    {
      "cell_type": "code",
      "execution_count": 29,
      "metadata": {},
      "outputs": [
        {
          "output_type": "display_data",
          "metadata": {},
          "data": {
            "text/html": [
              "# 3 methods for generic function <b>add</b> from \u001b[35mMain\u001b[39m:<ul><li> add(x::<b>Float64</b>) in Main at <a href=\"https://github.com/albop/eco309/tree/516feb96383121fee44f05ee7bcad1427eb61059//tutorials/jl_notebook_cell_df34fa98e69747e1a8f8a730347b8e2f_X52sZmlsZQ==.jl#L2\" target=\"_blank\">/home/pablo/Teaching/polytechnique/eco309/tutorials/jl_notebook_cell_df34fa98e69747e1a8f8a730347b8e2f_X52sZmlsZQ==.jl:2</a></li> <li> add(x::<b>Int64</b>) in Main at <a href=\"https://github.com/albop/eco309/tree/516feb96383121fee44f05ee7bcad1427eb61059//tutorials/jl_notebook_cell_df34fa98e69747e1a8f8a730347b8e2f_X52sZmlsZQ==.jl#L1\" target=\"_blank\">/home/pablo/Teaching/polytechnique/eco309/tutorials/jl_notebook_cell_df34fa98e69747e1a8f8a730347b8e2f_X52sZmlsZQ==.jl:1</a></li> <li> add(a) in Main at <a href=\"https://github.com/albop/eco309/tree/516feb96383121fee44f05ee7bcad1427eb61059//tutorials/jl_notebook_cell_df34fa98e69747e1a8f8a730347b8e2f_X51sZmlsZQ==.jl#L1\" target=\"_blank\">/home/pablo/Teaching/polytechnique/eco309/tutorials/jl_notebook_cell_df34fa98e69747e1a8f8a730347b8e2f_X51sZmlsZQ==.jl:1</a></li> </ul>"
            ]
          }
        }
      ],
      "source": [
        "methods(add)"
      ],
      "id": "cell-31"
    },
    {
      "cell_type": "markdown",
      "metadata": {},
      "source": [
        "**Write a function\n",
        "`simulate(k0::Float64, T::Int, p::NamedTuple)::Vector{Float64}` to\n",
        "compute the simulation over `T` periods starting from initial capital\n",
        "level `k0`.**"
      ],
      "id": "6d201457-9a51-4166-b201-b28b29a4cb33"
    },
    {
      "cell_type": "code",
      "execution_count": 6,
      "metadata": {},
      "outputs": [
        {
          "output_type": "display_data",
          "metadata": {},
          "data": {
            "text/plain": [
              "f (generic function with 1 method)"
            ]
          }
        }
      ],
      "source": [
        "# 🐉\n",
        "\n",
        "f(k0, m) = begin\n",
        "    (;α, β, γ, δ, s)  = m\n",
        "    (1-δ)*k0 + s*k0^α\n",
        "end"
      ],
      "id": "cell-33"
    },
    {
      "cell_type": "code",
      "execution_count": 7,
      "metadata": {},
      "outputs": [
        {
          "output_type": "display_data",
          "metadata": {},
          "data": {
            "text/plain": [
              "0.30340677254400195"
            ]
          }
        }
      ],
      "source": [
        "f(0.2, model)"
      ],
      "id": "cell-34"
    },
    {
      "cell_type": "code",
      "execution_count": 16,
      "metadata": {},
      "outputs": [
        {
          "output_type": "display_data",
          "metadata": {},
          "data": {
            "text/plain": [
              "simulate (generic function with 1 method)"
            ]
          }
        }
      ],
      "source": [
        "# 🐉\n",
        "function simulate(k0, T, p)\n",
        "\n",
        "\n",
        "    # store thre result in a non-allocated vector\n",
        "\n",
        "    # when we initialize a vector with given elements, it determines the type of the vector\n",
        "    sim = [k0]\n",
        "    for t = 1:T\n",
        "\n",
        "        k1 = f(k0, p)\n",
        "\n",
        "        # add a new element\n",
        "        # exclamation mark conventionnally means that (first) arguments are mutateted\n",
        "        push!(sim, k1)\n",
        "\n",
        "        k0 = k1\n",
        "\n",
        "    end\n",
        "\n",
        "    return sim\n",
        "    \n",
        "end"
      ],
      "id": "cell-35"
    },
    {
      "cell_type": "code",
      "execution_count": 15,
      "metadata": {},
      "outputs": [
        {
          "output_type": "display_data",
          "metadata": {},
          "data": {
            "text/plain": [
              "101-element Vector{Float64}:\n",
              " 0.2\n",
              " 0.30340677254400195\n",
              " 0.4129080792968781\n",
              " 0.525003373019628\n",
              " 0.6373491155565568\n",
              " 0.7483344417178636\n",
              " 0.856841626057419\n",
              " 0.9620988898971137\n",
              " 1.0635841029776287\n",
              " 1.1609587708409257\n",
              " ⋮\n",
              " 2.6876186883735818\n",
              " 2.6879113388853018\n",
              " 2.6881835130861362\n",
              " 2.6884366430712516\n",
              " 2.6886720608576273\n",
              " 2.688891005366757\n",
              " 2.689094628921639\n",
              " 2.6892840032916374\n",
              " 2.6894601253165105"
            ]
          }
        }
      ],
      "source": [
        "simulate(0.2, 100, model)"
      ],
      "id": "cell-36"
    },
    {
      "cell_type": "code",
      "execution_count": 17,
      "metadata": {},
      "outputs": [
        {
          "output_type": "display_data",
          "metadata": {},
          "data": {
            "text/plain": [
              "simulate (generic function with 2 methods)"
            ]
          }
        }
      ],
      "source": [
        "# make the simulate function more user-friendly\n",
        "\n",
        "# 🐉\n",
        "\n",
        "simulate(k0, model; T=100) = simulate(k0, T, model)"
      ],
      "id": "cell-37"
    },
    {
      "cell_type": "code",
      "execution_count": 18,
      "metadata": {},
      "outputs": [
        {
          "output_type": "display_data",
          "metadata": {},
          "data": {
            "text/html": [
              "# 2 methods for generic function <b>simulate</b> from \u001b[35mMain\u001b[39m:<ul><li> simulate(k0, model; <i>T</i>) in Main at <a href=\"https://github.com/albop/eco309/tree/516feb96383121fee44f05ee7bcad1427eb61059//tutorials/jl_notebook_cell_df34fa98e69747e1a8f8a730347b8e2f_X65sZmlsZQ==.jl#L5\" target=\"_blank\">/home/pablo/Teaching/polytechnique/eco309/tutorials/jl_notebook_cell_df34fa98e69747e1a8f8a730347b8e2f_X65sZmlsZQ==.jl:5</a></li> <li> simulate(k0, T, p) in Main at <a href=\"https://github.com/albop/eco309/tree/516feb96383121fee44f05ee7bcad1427eb61059//tutorials/jl_notebook_cell_df34fa98e69747e1a8f8a730347b8e2f_X13sZmlsZQ==.jl#L2\" target=\"_blank\">/home/pablo/Teaching/polytechnique/eco309/tutorials/jl_notebook_cell_df34fa98e69747e1a8f8a730347b8e2f_X13sZmlsZQ==.jl:2</a></li> </ul>"
            ]
          }
        }
      ],
      "source": [
        "methods(simulate)"
      ],
      "id": "cell-38"
    },
    {
      "cell_type": "markdown",
      "metadata": {},
      "source": [
        "**Make a nice plot to illustrate the convergence. Do we get convergence\n",
        "from any initial level of capital?**"
      ],
      "id": "a933c17f-d2f5-4015-88c9-a582ad5b4e18"
    },
    {
      "cell_type": "code",
      "execution_count": 19,
      "metadata": {},
      "outputs": [],
      "source": [
        "using Plots"
      ],
      "id": "cell-40"
    },
    {
      "cell_type": "code",
      "execution_count": null,
      "metadata": {},
      "outputs": [],
      "source": [
        "# 🐉\n",
        "\n",
        "k0 = 0.2\n",
        "sim = simulate(k0, model);"
      ],
      "id": "cell-41"
    },
    {
      "cell_type": "code",
      "execution_count": 24,
      "metadata": {},
      "outputs": [
        {
          "output_type": "display_data",
          "metadata": {},
          "data": {
            "text/html": [
              "<?xml version=\"1.0\" encoding=\"utf-8\"?>\n",
              "<svg xmlns=\"http://www.w3.org/2000/svg\" xmlns:xlink=\"http://www.w3.org/1999/xlink\" width=\"600\" height=\"400\" viewBox=\"0 0 2400 1600\">\n",
              "<defs>\n",
              "  <clipPath id=\"clip410\">\n",
              "    <rect x=\"0\" y=\"0\" width=\"2400\" height=\"1600\"/>\n",
              "  </clipPath>\n",
              "</defs>\n",
              "<path clip-path=\"url(#clip410)\" d=\"M0 1600 L2400 1600 L2400 0 L0 0  Z\" fill=\"#ffffff\" fill-rule=\"evenodd\" fill-opacity=\"1\"/>\n",
              "<defs>\n",
              "  <clipPath id=\"clip411\">\n",
              "    <rect x=\"480\" y=\"0\" width=\"1681\" height=\"1600\"/>\n",
              "  </clipPath>\n",
              "</defs>\n",
              "<path clip-path=\"url(#clip410)\" d=\"M155.765 1486.45 L2352.76 1486.45 L2352.76 123.472 L155.765 123.472  Z\" fill=\"#ffffff\" fill-rule=\"evenodd\" fill-opacity=\"1\"/>\n",
              "<defs>\n",
              "  <clipPath id=\"clip412\">\n",
              "    <rect x=\"155\" y=\"123\" width=\"2198\" height=\"1364\"/>\n",
              "  </clipPath>\n",
              "</defs>\n",
              "<polyline clip-path=\"url(#clip412)\" style=\"stroke:#000000; stroke-linecap:round; stroke-linejoin:round; stroke-width:2; stroke-opacity:0.1; fill:none\" points=\"197.218,1486.45 197.218,123.472 \"/>\n",
              "<polyline clip-path=\"url(#clip412)\" style=\"stroke:#000000; stroke-linecap:round; stroke-linejoin:round; stroke-width:2; stroke-opacity:0.1; fill:none\" points=\"715.376,1486.45 715.376,123.472 \"/>\n",
              "<polyline clip-path=\"url(#clip412)\" style=\"stroke:#000000; stroke-linecap:round; stroke-linejoin:round; stroke-width:2; stroke-opacity:0.1; fill:none\" points=\"1233.53,1486.45 1233.53,123.472 \"/>\n",
              "<polyline clip-path=\"url(#clip412)\" style=\"stroke:#000000; stroke-linecap:round; stroke-linejoin:round; stroke-width:2; stroke-opacity:0.1; fill:none\" points=\"1751.69,1486.45 1751.69,123.472 \"/>\n",
              "<polyline clip-path=\"url(#clip412)\" style=\"stroke:#000000; stroke-linecap:round; stroke-linejoin:round; stroke-width:2; stroke-opacity:0.1; fill:none\" points=\"2269.85,1486.45 2269.85,123.472 \"/>\n",
              "<polyline clip-path=\"url(#clip412)\" style=\"stroke:#000000; stroke-linecap:round; stroke-linejoin:round; stroke-width:2; stroke-opacity:0.1; fill:none\" points=\"155.765,1292.92 2352.76,1292.92 \"/>\n",
              "<polyline clip-path=\"url(#clip412)\" style=\"stroke:#000000; stroke-linecap:round; stroke-linejoin:round; stroke-width:2; stroke-opacity:0.1; fill:none\" points=\"155.765,1034.67 2352.76,1034.67 \"/>\n",
              "<polyline clip-path=\"url(#clip412)\" style=\"stroke:#000000; stroke-linecap:round; stroke-linejoin:round; stroke-width:2; stroke-opacity:0.1; fill:none\" points=\"155.765,776.413 2352.76,776.413 \"/>\n",
              "<polyline clip-path=\"url(#clip412)\" style=\"stroke:#000000; stroke-linecap:round; stroke-linejoin:round; stroke-width:2; stroke-opacity:0.1; fill:none\" points=\"155.765,518.159 2352.76,518.159 \"/>\n",
              "<polyline clip-path=\"url(#clip412)\" style=\"stroke:#000000; stroke-linecap:round; stroke-linejoin:round; stroke-width:2; stroke-opacity:0.1; fill:none\" points=\"155.765,259.905 2352.76,259.905 \"/>\n",
              "<polyline clip-path=\"url(#clip410)\" style=\"stroke:#000000; stroke-linecap:round; stroke-linejoin:round; stroke-width:4; stroke-opacity:1; fill:none\" points=\"155.765,1486.45 2352.76,1486.45 \"/>\n",
              "<polyline clip-path=\"url(#clip410)\" style=\"stroke:#000000; stroke-linecap:round; stroke-linejoin:round; stroke-width:4; stroke-opacity:1; fill:none\" points=\"197.218,1486.45 197.218,1467.55 \"/>\n",
              "<polyline clip-path=\"url(#clip410)\" style=\"stroke:#000000; stroke-linecap:round; stroke-linejoin:round; stroke-width:4; stroke-opacity:1; fill:none\" points=\"715.376,1486.45 715.376,1467.55 \"/>\n",
              "<polyline clip-path=\"url(#clip410)\" style=\"stroke:#000000; stroke-linecap:round; stroke-linejoin:round; stroke-width:4; stroke-opacity:1; fill:none\" points=\"1233.53,1486.45 1233.53,1467.55 \"/>\n",
              "<polyline clip-path=\"url(#clip410)\" style=\"stroke:#000000; stroke-linecap:round; stroke-linejoin:round; stroke-width:4; stroke-opacity:1; fill:none\" points=\"1751.69,1486.45 1751.69,1467.55 \"/>\n",
              "<polyline clip-path=\"url(#clip410)\" style=\"stroke:#000000; stroke-linecap:round; stroke-linejoin:round; stroke-width:4; stroke-opacity:1; fill:none\" points=\"2269.85,1486.45 2269.85,1467.55 \"/>\n",
              "<path clip-path=\"url(#clip410)\" d=\"M197.218 1517.37 Q193.606 1517.37 191.778 1520.93 Q189.972 1524.47 189.972 1531.6 Q189.972 1538.71 191.778 1542.27 Q193.606 1545.82 197.218 1545.82 Q200.852 1545.82 202.657 1542.27 Q204.486 1538.71 204.486 1531.6 Q204.486 1524.47 202.657 1520.93 Q200.852 1517.37 197.218 1517.37 M197.218 1513.66 Q203.028 1513.66 206.083 1518.27 Q209.162 1522.85 209.162 1531.6 Q209.162 1540.33 206.083 1544.94 Q203.028 1549.52 197.218 1549.52 Q191.407 1549.52 188.329 1544.94 Q185.273 1540.33 185.273 1531.6 Q185.273 1522.85 188.329 1518.27 Q191.407 1513.66 197.218 1513.66 Z\" fill=\"#000000\" fill-rule=\"nonzero\" fill-opacity=\"1\" /><path clip-path=\"url(#clip410)\" d=\"M694.647 1544.91 L710.966 1544.91 L710.966 1548.85 L689.022 1548.85 L689.022 1544.91 Q691.684 1542.16 696.267 1537.53 Q700.874 1532.88 702.054 1531.53 Q704.299 1529.01 705.179 1527.27 Q706.082 1525.51 706.082 1523.82 Q706.082 1521.07 704.137 1519.33 Q702.216 1517.6 699.114 1517.6 Q696.915 1517.6 694.462 1518.36 Q692.031 1519.13 689.253 1520.68 L689.253 1515.95 Q692.077 1514.82 694.531 1514.24 Q696.985 1513.66 699.022 1513.66 Q704.392 1513.66 707.587 1516.35 Q710.781 1519.03 710.781 1523.52 Q710.781 1525.65 709.971 1527.57 Q709.184 1529.47 707.077 1532.07 Q706.499 1532.74 703.397 1535.95 Q700.295 1539.15 694.647 1544.91 Z\" fill=\"#000000\" fill-rule=\"nonzero\" fill-opacity=\"1\" /><path clip-path=\"url(#clip410)\" d=\"M720.827 1514.29 L739.184 1514.29 L739.184 1518.22 L725.11 1518.22 L725.11 1526.7 Q726.128 1526.35 727.147 1526.19 Q728.165 1526 729.184 1526 Q734.971 1526 738.35 1529.17 Q741.73 1532.34 741.73 1537.76 Q741.73 1543.34 738.258 1546.44 Q734.785 1549.52 728.466 1549.52 Q726.29 1549.52 724.022 1549.15 Q721.776 1548.78 719.369 1548.04 L719.369 1543.34 Q721.452 1544.47 723.674 1545.03 Q725.897 1545.58 728.373 1545.58 Q732.378 1545.58 734.716 1543.48 Q737.054 1541.37 737.054 1537.76 Q737.054 1534.15 734.716 1532.04 Q732.378 1529.94 728.373 1529.94 Q726.498 1529.94 724.623 1530.35 Q722.772 1530.77 720.827 1531.65 L720.827 1514.29 Z\" fill=\"#000000\" fill-rule=\"nonzero\" fill-opacity=\"1\" /><path clip-path=\"url(#clip410)\" d=\"M1208.23 1514.29 L1226.59 1514.29 L1226.59 1518.22 L1212.52 1518.22 L1212.52 1526.7 Q1213.53 1526.35 1214.55 1526.19 Q1215.57 1526 1216.59 1526 Q1222.38 1526 1225.76 1529.17 Q1229.14 1532.34 1229.14 1537.76 Q1229.14 1543.34 1225.66 1546.44 Q1222.19 1549.52 1215.87 1549.52 Q1213.7 1549.52 1211.43 1549.15 Q1209.18 1548.78 1206.77 1548.04 L1206.77 1543.34 Q1208.86 1544.47 1211.08 1545.03 Q1213.3 1545.58 1215.78 1545.58 Q1219.78 1545.58 1222.12 1543.48 Q1224.46 1541.37 1224.46 1537.76 Q1224.46 1534.15 1222.12 1532.04 Q1219.78 1529.94 1215.78 1529.94 Q1213.9 1529.94 1212.03 1530.35 Q1210.18 1530.77 1208.23 1531.65 L1208.23 1514.29 Z\" fill=\"#000000\" fill-rule=\"nonzero\" fill-opacity=\"1\" /><path clip-path=\"url(#clip410)\" d=\"M1248.35 1517.37 Q1244.74 1517.37 1242.91 1520.93 Q1241.1 1524.47 1241.1 1531.6 Q1241.1 1538.71 1242.91 1542.27 Q1244.74 1545.82 1248.35 1545.82 Q1251.98 1545.82 1253.79 1542.27 Q1255.62 1538.71 1255.62 1531.6 Q1255.62 1524.47 1253.79 1520.93 Q1251.98 1517.37 1248.35 1517.37 M1248.35 1513.66 Q1254.16 1513.66 1257.21 1518.27 Q1260.29 1522.85 1260.29 1531.6 Q1260.29 1540.33 1257.21 1544.94 Q1254.16 1549.52 1248.35 1549.52 Q1242.54 1549.52 1239.46 1544.94 Q1236.4 1540.33 1236.4 1531.6 Q1236.4 1522.85 1239.46 1518.27 Q1242.54 1513.66 1248.35 1513.66 Z\" fill=\"#000000\" fill-rule=\"nonzero\" fill-opacity=\"1\" /><path clip-path=\"url(#clip410)\" d=\"M1725.55 1514.29 L1747.77 1514.29 L1747.77 1516.28 L1735.22 1548.85 L1730.34 1548.85 L1742.14 1518.22 L1725.55 1518.22 L1725.55 1514.29 Z\" fill=\"#000000\" fill-rule=\"nonzero\" fill-opacity=\"1\" /><path clip-path=\"url(#clip410)\" d=\"M1756.94 1514.29 L1775.29 1514.29 L1775.29 1518.22 L1761.22 1518.22 L1761.22 1526.7 Q1762.24 1526.35 1763.25 1526.19 Q1764.27 1526 1765.29 1526 Q1771.08 1526 1774.46 1529.17 Q1777.84 1532.34 1777.84 1537.76 Q1777.84 1543.34 1774.37 1546.44 Q1770.89 1549.52 1764.57 1549.52 Q1762.4 1549.52 1760.13 1549.15 Q1757.88 1548.78 1755.48 1548.04 L1755.48 1543.34 Q1757.56 1544.47 1759.78 1545.03 Q1762 1545.58 1764.48 1545.58 Q1768.49 1545.58 1770.82 1543.48 Q1773.16 1541.37 1773.16 1537.76 Q1773.16 1534.15 1770.82 1532.04 Q1768.49 1529.94 1764.48 1529.94 Q1762.61 1529.94 1760.73 1530.35 Q1758.88 1530.77 1756.94 1531.65 L1756.94 1514.29 Z\" fill=\"#000000\" fill-rule=\"nonzero\" fill-opacity=\"1\" /><path clip-path=\"url(#clip410)\" d=\"M2229.46 1544.91 L2237.1 1544.91 L2237.1 1518.55 L2228.79 1520.21 L2228.79 1515.95 L2237.05 1514.29 L2241.73 1514.29 L2241.73 1544.91 L2249.36 1544.91 L2249.36 1548.85 L2229.46 1548.85 L2229.46 1544.91 Z\" fill=\"#000000\" fill-rule=\"nonzero\" fill-opacity=\"1\" /><path clip-path=\"url(#clip410)\" d=\"M2268.81 1517.37 Q2265.2 1517.37 2263.37 1520.93 Q2261.56 1524.47 2261.56 1531.6 Q2261.56 1538.71 2263.37 1542.27 Q2265.2 1545.82 2268.81 1545.82 Q2272.44 1545.82 2274.25 1542.27 Q2276.08 1538.71 2276.08 1531.6 Q2276.08 1524.47 2274.25 1520.93 Q2272.44 1517.37 2268.81 1517.37 M2268.81 1513.66 Q2274.62 1513.66 2277.67 1518.27 Q2280.75 1522.85 2280.75 1531.6 Q2280.75 1540.33 2277.67 1544.94 Q2274.62 1549.52 2268.81 1549.52 Q2263 1549.52 2259.92 1544.94 Q2256.86 1540.33 2256.86 1531.6 Q2256.86 1522.85 2259.92 1518.27 Q2263 1513.66 2268.81 1513.66 Z\" fill=\"#000000\" fill-rule=\"nonzero\" fill-opacity=\"1\" /><path clip-path=\"url(#clip410)\" d=\"M2298.97 1517.37 Q2295.36 1517.37 2293.53 1520.93 Q2291.73 1524.47 2291.73 1531.6 Q2291.73 1538.71 2293.53 1542.27 Q2295.36 1545.82 2298.97 1545.82 Q2302.61 1545.82 2304.41 1542.27 Q2306.24 1538.71 2306.24 1531.6 Q2306.24 1524.47 2304.41 1520.93 Q2302.61 1517.37 2298.97 1517.37 M2298.97 1513.66 Q2304.78 1513.66 2307.84 1518.27 Q2310.92 1522.85 2310.92 1531.6 Q2310.92 1540.33 2307.84 1544.94 Q2304.78 1549.52 2298.97 1549.52 Q2293.16 1549.52 2290.08 1544.94 Q2287.03 1540.33 2287.03 1531.6 Q2287.03 1522.85 2290.08 1518.27 Q2293.16 1513.66 2298.97 1513.66 Z\" fill=\"#000000\" fill-rule=\"nonzero\" fill-opacity=\"1\" /><polyline clip-path=\"url(#clip410)\" style=\"stroke:#000000; stroke-linecap:round; stroke-linejoin:round; stroke-width:4; stroke-opacity:1; fill:none\" points=\"155.765,1486.45 155.765,123.472 \"/>\n",
              "<polyline clip-path=\"url(#clip410)\" style=\"stroke:#000000; stroke-linecap:round; stroke-linejoin:round; stroke-width:4; stroke-opacity:1; fill:none\" points=\"155.765,1292.92 174.663,1292.92 \"/>\n",
              "<polyline clip-path=\"url(#clip410)\" style=\"stroke:#000000; stroke-linecap:round; stroke-linejoin:round; stroke-width:4; stroke-opacity:1; fill:none\" points=\"155.765,1034.67 174.663,1034.67 \"/>\n",
              "<polyline clip-path=\"url(#clip410)\" style=\"stroke:#000000; stroke-linecap:round; stroke-linejoin:round; stroke-width:4; stroke-opacity:1; fill:none\" points=\"155.765,776.413 174.663,776.413 \"/>\n",
              "<polyline clip-path=\"url(#clip410)\" style=\"stroke:#000000; stroke-linecap:round; stroke-linejoin:round; stroke-width:4; stroke-opacity:1; fill:none\" points=\"155.765,518.159 174.663,518.159 \"/>\n",
              "<polyline clip-path=\"url(#clip410)\" style=\"stroke:#000000; stroke-linecap:round; stroke-linejoin:round; stroke-width:4; stroke-opacity:1; fill:none\" points=\"155.765,259.905 174.663,259.905 \"/>\n",
              "<path clip-path=\"url(#clip410)\" d=\"M63.5847 1278.72 Q59.9736 1278.72 58.1449 1282.28 Q56.3393 1285.83 56.3393 1292.96 Q56.3393 1300.06 58.1449 1303.63 Q59.9736 1307.17 63.5847 1307.17 Q67.2189 1307.17 69.0244 1303.63 Q70.8531 1300.06 70.8531 1292.96 Q70.8531 1285.83 69.0244 1282.28 Q67.2189 1278.72 63.5847 1278.72 M63.5847 1275.02 Q69.3948 1275.02 72.4503 1279.62 Q75.529 1284.21 75.529 1292.96 Q75.529 1301.68 72.4503 1306.29 Q69.3948 1310.87 63.5847 1310.87 Q57.7745 1310.87 54.6958 1306.29 Q51.6403 1301.68 51.6403 1292.96 Q51.6403 1284.21 54.6958 1279.62 Q57.7745 1275.02 63.5847 1275.02 Z\" fill=\"#000000\" fill-rule=\"nonzero\" fill-opacity=\"1\" /><path clip-path=\"url(#clip410)\" d=\"M83.7466 1304.32 L88.6308 1304.32 L88.6308 1310.2 L83.7466 1310.2 L83.7466 1304.32 Z\" fill=\"#000000\" fill-rule=\"nonzero\" fill-opacity=\"1\" /><path clip-path=\"url(#clip410)\" d=\"M98.8622 1275.64 L117.219 1275.64 L117.219 1279.58 L103.145 1279.58 L103.145 1288.05 Q104.163 1287.7 105.182 1287.54 Q106.2 1287.35 107.219 1287.35 Q113.006 1287.35 116.385 1290.52 Q119.765 1293.7 119.765 1299.11 Q119.765 1304.69 116.293 1307.79 Q112.82 1310.87 106.501 1310.87 Q104.325 1310.87 102.057 1310.5 Q99.8113 1310.13 97.4039 1309.39 L97.4039 1304.69 Q99.4872 1305.83 101.709 1306.38 Q103.932 1306.94 106.408 1306.94 Q110.413 1306.94 112.751 1304.83 Q115.089 1302.72 115.089 1299.11 Q115.089 1295.5 112.751 1293.4 Q110.413 1291.29 106.408 1291.29 Q104.534 1291.29 102.659 1291.71 Q100.807 1292.12 98.8622 1293 L98.8622 1275.64 Z\" fill=\"#000000\" fill-rule=\"nonzero\" fill-opacity=\"1\" /><path clip-path=\"url(#clip410)\" d=\"M53.3995 1048.01 L61.0384 1048.01 L61.0384 1021.65 L52.7282 1023.31 L52.7282 1019.05 L60.9921 1017.39 L65.668 1017.39 L65.668 1048.01 L73.3068 1048.01 L73.3068 1051.95 L53.3995 1051.95 L53.3995 1048.01 Z\" fill=\"#000000\" fill-rule=\"nonzero\" fill-opacity=\"1\" /><path clip-path=\"url(#clip410)\" d=\"M82.7512 1046.07 L87.6354 1046.07 L87.6354 1051.95 L82.7512 1051.95 L82.7512 1046.07 Z\" fill=\"#000000\" fill-rule=\"nonzero\" fill-opacity=\"1\" /><path clip-path=\"url(#clip410)\" d=\"M107.821 1020.47 Q104.209 1020.47 102.381 1024.03 Q100.575 1027.57 100.575 1034.7 Q100.575 1041.81 102.381 1045.37 Q104.209 1048.91 107.821 1048.91 Q111.455 1048.91 113.26 1045.37 Q115.089 1041.81 115.089 1034.7 Q115.089 1027.57 113.26 1024.03 Q111.455 1020.47 107.821 1020.47 M107.821 1016.76 Q113.631 1016.76 116.686 1021.37 Q119.765 1025.95 119.765 1034.7 Q119.765 1043.43 116.686 1048.03 Q113.631 1052.62 107.821 1052.62 Q102.01 1052.62 98.9317 1048.03 Q95.8761 1043.43 95.8761 1034.7 Q95.8761 1025.95 98.9317 1021.37 Q102.01 1016.76 107.821 1016.76 Z\" fill=\"#000000\" fill-rule=\"nonzero\" fill-opacity=\"1\" /><path clip-path=\"url(#clip410)\" d=\"M54.3949 789.757 L62.0337 789.757 L62.0337 763.392 L53.7236 765.059 L53.7236 760.799 L61.9874 759.133 L66.6633 759.133 L66.6633 789.757 L74.3022 789.757 L74.3022 793.693 L54.3949 793.693 L54.3949 789.757 Z\" fill=\"#000000\" fill-rule=\"nonzero\" fill-opacity=\"1\" /><path clip-path=\"url(#clip410)\" d=\"M83.7466 787.813 L88.6308 787.813 L88.6308 793.693 L83.7466 793.693 L83.7466 787.813 Z\" fill=\"#000000\" fill-rule=\"nonzero\" fill-opacity=\"1\" /><path clip-path=\"url(#clip410)\" d=\"M98.8622 759.133 L117.219 759.133 L117.219 763.068 L103.145 763.068 L103.145 771.54 Q104.163 771.193 105.182 771.031 Q106.2 770.846 107.219 770.846 Q113.006 770.846 116.385 774.017 Q119.765 777.188 119.765 782.605 Q119.765 788.183 116.293 791.285 Q112.82 794.364 106.501 794.364 Q104.325 794.364 102.057 793.994 Q99.8113 793.623 97.4039 792.882 L97.4039 788.183 Q99.4872 789.318 101.709 789.873 Q103.932 790.429 106.408 790.429 Q110.413 790.429 112.751 788.322 Q115.089 786.216 115.089 782.605 Q115.089 778.994 112.751 776.887 Q110.413 774.781 106.408 774.781 Q104.534 774.781 102.659 775.197 Q100.807 775.614 98.8622 776.494 L98.8622 759.133 Z\" fill=\"#000000\" fill-rule=\"nonzero\" fill-opacity=\"1\" /><path clip-path=\"url(#clip410)\" d=\"M56.6171 531.503 L72.9365 531.503 L72.9365 535.439 L50.9921 535.439 L50.9921 531.503 Q53.6541 528.749 58.2375 524.119 Q62.8439 519.466 64.0245 518.124 Q66.2698 515.601 67.1494 513.865 Q68.0522 512.105 68.0522 510.416 Q68.0522 507.661 66.1078 505.925 Q64.1865 504.189 61.0847 504.189 Q58.8856 504.189 56.4319 504.953 Q54.0014 505.717 51.2236 507.267 L51.2236 502.545 Q54.0477 501.411 56.5014 500.832 Q58.955 500.254 60.9921 500.254 Q66.3624 500.254 69.5568 502.939 Q72.7513 505.624 72.7513 510.115 Q72.7513 512.244 71.9411 514.166 Q71.1541 516.064 69.0476 518.656 Q68.4689 519.328 65.367 522.545 Q62.2652 525.74 56.6171 531.503 Z\" fill=\"#000000\" fill-rule=\"nonzero\" fill-opacity=\"1\" /><path clip-path=\"url(#clip410)\" d=\"M82.7512 529.559 L87.6354 529.559 L87.6354 535.439 L82.7512 535.439 L82.7512 529.559 Z\" fill=\"#000000\" fill-rule=\"nonzero\" fill-opacity=\"1\" /><path clip-path=\"url(#clip410)\" d=\"M107.821 503.957 Q104.209 503.957 102.381 507.522 Q100.575 511.064 100.575 518.193 Q100.575 525.3 102.381 528.865 Q104.209 532.406 107.821 532.406 Q111.455 532.406 113.26 528.865 Q115.089 525.3 115.089 518.193 Q115.089 511.064 113.26 507.522 Q111.455 503.957 107.821 503.957 M107.821 500.254 Q113.631 500.254 116.686 504.86 Q119.765 509.443 119.765 518.193 Q119.765 526.92 116.686 531.527 Q113.631 536.11 107.821 536.11 Q102.01 536.11 98.9317 531.527 Q95.8761 526.92 95.8761 518.193 Q95.8761 509.443 98.9317 504.86 Q102.01 500.254 107.821 500.254 Z\" fill=\"#000000\" fill-rule=\"nonzero\" fill-opacity=\"1\" /><path clip-path=\"url(#clip410)\" d=\"M57.6125 273.249 L73.9318 273.249 L73.9318 277.185 L51.9875 277.185 L51.9875 273.249 Q54.6495 270.495 59.2328 265.865 Q63.8393 261.212 65.0198 259.87 Q67.2652 257.347 68.1448 255.611 Q69.0476 253.851 69.0476 252.162 Q69.0476 249.407 67.1032 247.671 Q65.1819 245.935 62.08 245.935 Q59.881 245.935 57.4273 246.699 Q54.9967 247.463 52.219 249.013 L52.219 244.291 Q55.043 243.157 57.4967 242.578 Q59.9504 242 61.9874 242 Q67.3578 242 70.5522 244.685 Q73.7466 247.37 73.7466 251.861 Q73.7466 253.99 72.9365 255.912 Q72.1494 257.81 70.0429 260.402 Q69.4642 261.074 66.3624 264.291 Q63.2606 267.486 57.6125 273.249 Z\" fill=\"#000000\" fill-rule=\"nonzero\" fill-opacity=\"1\" /><path clip-path=\"url(#clip410)\" d=\"M83.7466 271.305 L88.6308 271.305 L88.6308 277.185 L83.7466 277.185 L83.7466 271.305 Z\" fill=\"#000000\" fill-rule=\"nonzero\" fill-opacity=\"1\" /><path clip-path=\"url(#clip410)\" d=\"M98.8622 242.625 L117.219 242.625 L117.219 246.56 L103.145 246.56 L103.145 255.032 Q104.163 254.685 105.182 254.523 Q106.2 254.337 107.219 254.337 Q113.006 254.337 116.385 257.509 Q119.765 260.68 119.765 266.097 Q119.765 271.675 116.293 274.777 Q112.82 277.856 106.501 277.856 Q104.325 277.856 102.057 277.486 Q99.8113 277.115 97.4039 276.374 L97.4039 271.675 Q99.4872 272.81 101.709 273.365 Q103.932 273.921 106.408 273.921 Q110.413 273.921 112.751 271.814 Q115.089 269.708 115.089 266.097 Q115.089 262.486 112.751 260.379 Q110.413 258.273 106.408 258.273 Q104.534 258.273 102.659 258.689 Q100.807 259.106 98.8622 259.986 L98.8622 242.625 Z\" fill=\"#000000\" fill-rule=\"nonzero\" fill-opacity=\"1\" /><path clip-path=\"url(#clip410)\" d=\"M860.026 43.6931 L860.026 65.8515 L873.151 65.8515 Q879.754 65.8515 882.914 63.1374 Q886.114 60.3828 886.114 54.752 Q886.114 49.0808 882.914 46.4072 Q879.754 43.6931 873.151 43.6931 L860.026 43.6931 M860.026 18.8205 L860.026 37.0496 L872.139 37.0496 Q878.134 37.0496 881.051 34.8216 Q884.008 32.5531 884.008 27.935 Q884.008 23.3575 881.051 21.089 Q878.134 18.8205 872.139 18.8205 L860.026 18.8205 M851.844 12.096 L872.746 12.096 Q882.104 12.096 887.167 15.9849 Q892.231 19.8737 892.231 27.0438 Q892.231 32.5936 889.639 35.8748 Q887.046 39.156 882.023 39.9662 Q888.059 41.2625 891.38 45.3944 Q894.743 49.4858 894.743 55.6432 Q894.743 63.745 889.233 68.1605 Q883.724 72.576 873.556 72.576 L851.844 72.576 L851.844 12.096 Z\" fill=\"#000000\" fill-rule=\"nonzero\" fill-opacity=\"1\" /><path clip-path=\"url(#clip410)\" d=\"M929.054 49.7694 Q920.02 49.7694 916.537 51.8354 Q913.053 53.9013 913.053 58.8839 Q913.053 62.8538 915.645 65.2034 Q918.278 67.5124 922.775 67.5124 Q928.973 67.5124 932.7 63.1374 Q936.467 58.7219 936.467 51.4303 L936.467 49.7694 L929.054 49.7694 M943.921 46.6907 L943.921 72.576 L936.467 72.576 L936.467 65.6895 Q933.915 69.8214 930.107 71.8063 Q926.299 73.7508 920.79 73.7508 Q913.822 73.7508 909.69 69.8619 Q905.599 65.9325 905.599 59.3701 Q905.599 51.7138 910.703 47.825 Q915.848 43.9361 926.016 43.9361 L936.467 43.9361 L936.467 43.2069 Q936.467 38.0623 933.064 35.2672 Q929.702 32.4315 923.585 32.4315 Q919.696 32.4315 916.01 33.3632 Q912.324 34.295 908.921 36.1584 L908.921 29.2718 Q913.012 27.692 916.861 26.9223 Q920.709 26.1121 924.355 26.1121 Q934.198 26.1121 939.06 31.2163 Q943.921 36.3204 943.921 46.6907 Z\" fill=\"#000000\" fill-rule=\"nonzero\" fill-opacity=\"1\" /><path clip-path=\"url(#clip410)\" d=\"M988.197 28.5427 L988.197 35.5912 Q985.037 33.9709 981.635 33.1607 Q978.232 32.3505 974.586 32.3505 Q969.036 32.3505 966.241 34.0519 Q963.487 35.7533 963.487 39.156 Q963.487 41.7486 965.471 43.2475 Q967.456 44.7058 973.452 46.0426 L976.004 46.6097 Q983.944 48.3111 987.265 51.4303 Q990.628 54.509 990.628 60.0587 Q990.628 66.3781 985.604 70.0644 Q980.622 73.7508 971.872 73.7508 Q968.226 73.7508 964.256 73.0216 Q960.327 72.3329 955.952 70.9151 L955.952 63.2184 Q960.084 65.3654 964.094 66.4591 Q968.105 67.5124 972.034 67.5124 Q977.3 67.5124 980.136 65.73 Q982.971 63.9071 982.971 60.6258 Q982.971 57.5877 980.905 55.9673 Q978.88 54.3469 971.953 52.8481 L969.36 52.2405 Q962.433 50.7821 959.355 47.7845 Q956.276 44.7463 956.276 39.4801 Q956.276 33.0797 960.813 29.5959 Q965.35 26.1121 973.695 26.1121 Q977.827 26.1121 981.473 26.7198 Q985.118 27.3274 988.197 28.5427 Z\" fill=\"#000000\" fill-rule=\"nonzero\" fill-opacity=\"1\" /><path clip-path=\"url(#clip410)\" d=\"M1041.3 48.0275 L1041.3 51.6733 L1007.03 51.6733 Q1007.52 59.3701 1011.65 63.421 Q1015.82 67.4314 1023.24 67.4314 Q1027.53 67.4314 1031.54 66.3781 Q1035.59 65.3249 1039.56 63.2184 L1039.56 70.267 Q1035.55 71.9684 1031.34 72.8596 Q1027.13 73.7508 1022.79 73.7508 Q1011.94 73.7508 1005.58 67.4314 Q999.256 61.1119 999.256 50.3365 Q999.256 39.1965 1005.25 32.6746 Q1011.29 26.1121 1021.5 26.1121 Q1030.65 26.1121 1035.96 32.0264 Q1041.3 37.9003 1041.3 48.0275 M1033.85 45.84 Q1033.77 39.7232 1030.41 36.0774 Q1027.09 32.4315 1021.58 32.4315 Q1015.34 32.4315 1011.57 35.9558 Q1007.84 39.4801 1007.28 45.8805 L1033.85 45.84 Z\" fill=\"#000000\" fill-rule=\"nonzero\" fill-opacity=\"1\" /><path clip-path=\"url(#clip410)\" d=\"M1053.54 9.54393 L1060.99 9.54393 L1060.99 72.576 L1053.54 72.576 L1053.54 9.54393 Z\" fill=\"#000000\" fill-rule=\"nonzero\" fill-opacity=\"1\" /><path clip-path=\"url(#clip410)\" d=\"M1076.59 27.2059 L1084.04 27.2059 L1084.04 72.576 L1076.59 72.576 L1076.59 27.2059 M1076.59 9.54393 L1084.04 9.54393 L1084.04 18.9825 L1076.59 18.9825 L1076.59 9.54393 Z\" fill=\"#000000\" fill-rule=\"nonzero\" fill-opacity=\"1\" /><path clip-path=\"url(#clip410)\" d=\"M1137.35 45.1919 L1137.35 72.576 L1129.9 72.576 L1129.9 45.4349 Q1129.9 38.994 1127.39 35.7938 Q1124.87 32.5936 1119.85 32.5936 Q1113.82 32.5936 1110.33 36.4419 Q1106.85 40.2903 1106.85 46.9338 L1106.85 72.576 L1099.35 72.576 L1099.35 27.2059 L1106.85 27.2059 L1106.85 34.2544 Q1109.52 30.163 1113.13 28.1376 Q1116.77 26.1121 1121.51 26.1121 Q1129.33 26.1121 1133.34 30.9732 Q1137.35 35.7938 1137.35 45.1919 Z\" fill=\"#000000\" fill-rule=\"nonzero\" fill-opacity=\"1\" /><path clip-path=\"url(#clip410)\" d=\"M1191.03 48.0275 L1191.03 51.6733 L1156.76 51.6733 Q1157.24 59.3701 1161.37 63.421 Q1165.55 67.4314 1172.96 67.4314 Q1177.25 67.4314 1181.26 66.3781 Q1185.31 65.3249 1189.28 63.2184 L1189.28 70.267 Q1185.27 71.9684 1181.06 72.8596 Q1176.85 73.7508 1172.51 73.7508 Q1161.66 73.7508 1155.3 67.4314 Q1148.98 61.1119 1148.98 50.3365 Q1148.98 39.1965 1154.97 32.6746 Q1161.01 26.1121 1171.22 26.1121 Q1180.37 26.1121 1185.68 32.0264 Q1191.03 37.9003 1191.03 48.0275 M1183.57 45.84 Q1183.49 39.7232 1180.13 36.0774 Q1176.81 32.4315 1171.3 32.4315 Q1165.06 32.4315 1161.29 35.9558 Q1157.57 39.4801 1157 45.8805 L1183.57 45.84 Z\" fill=\"#000000\" fill-rule=\"nonzero\" fill-opacity=\"1\" /><path clip-path=\"url(#clip410)\" d=\"M1266.21 14.0809 L1266.21 22.0612 Q1261.55 19.8332 1257.42 18.7395 Q1253.29 17.6457 1249.44 17.6457 Q1242.76 17.6457 1239.11 20.2383 Q1235.5 22.8309 1235.5 27.611 Q1235.5 31.6214 1237.89 33.6873 Q1240.33 35.7128 1247.05 36.9686 L1251.99 37.9813 Q1261.15 39.7232 1265.48 44.1387 Q1269.86 48.5136 1269.86 55.8863 Q1269.86 64.6767 1263.94 69.2137 Q1258.07 73.7508 1246.69 73.7508 Q1242.39 73.7508 1237.53 72.7785 Q1232.71 71.8063 1227.52 69.9024 L1227.52 61.4765 Q1232.51 64.2716 1237.29 65.6895 Q1242.07 67.1073 1246.69 67.1073 Q1253.69 67.1073 1257.5 64.3527 Q1261.31 61.598 1261.31 56.4939 Q1261.31 52.0379 1258.55 49.5264 Q1255.84 47.0148 1249.6 45.759 L1244.62 44.7868 Q1235.46 42.9639 1231.37 39.075 Q1227.28 35.1862 1227.28 28.2591 Q1227.28 20.2383 1232.91 15.6203 Q1238.58 11.0023 1248.51 11.0023 Q1252.76 11.0023 1257.18 11.7719 Q1261.59 12.5416 1266.21 14.0809 Z\" fill=\"#000000\" fill-rule=\"nonzero\" fill-opacity=\"1\" /><path clip-path=\"url(#clip410)\" d=\"M1282.29 27.2059 L1289.75 27.2059 L1289.75 72.576 L1282.29 72.576 L1282.29 27.2059 M1282.29 9.54393 L1289.75 9.54393 L1289.75 18.9825 L1282.29 18.9825 L1282.29 9.54393 Z\" fill=\"#000000\" fill-rule=\"nonzero\" fill-opacity=\"1\" /><path clip-path=\"url(#clip410)\" d=\"M1340.67 35.9153 Q1343.46 30.8922 1347.35 28.5022 Q1351.24 26.1121 1356.51 26.1121 Q1363.59 26.1121 1367.44 31.0947 Q1371.29 36.0368 1371.29 45.1919 L1371.29 72.576 L1363.8 72.576 L1363.8 45.4349 Q1363.8 38.913 1361.49 35.7533 Q1359.18 32.5936 1354.44 32.5936 Q1348.65 32.5936 1345.28 36.4419 Q1341.92 40.2903 1341.92 46.9338 L1341.92 72.576 L1334.43 72.576 L1334.43 45.4349 Q1334.43 38.8725 1332.12 35.7533 Q1329.81 32.5936 1324.99 32.5936 Q1319.28 32.5936 1315.92 36.4824 Q1312.55 40.3308 1312.55 46.9338 L1312.55 72.576 L1305.06 72.576 L1305.06 27.2059 L1312.55 27.2059 L1312.55 34.2544 Q1315.1 30.082 1318.67 28.0971 Q1322.23 26.1121 1327.14 26.1121 Q1332.08 26.1121 1335.52 28.6237 Q1339.01 31.1352 1340.67 35.9153 Z\" fill=\"#000000\" fill-rule=\"nonzero\" fill-opacity=\"1\" /><path clip-path=\"url(#clip410)\" d=\"M1385.39 54.671 L1385.39 27.2059 L1392.84 27.2059 L1392.84 54.3874 Q1392.84 60.8284 1395.35 64.0691 Q1397.86 67.2693 1402.89 67.2693 Q1408.92 67.2693 1412.41 63.421 Q1415.93 59.5726 1415.93 52.9291 L1415.93 27.2059 L1423.39 27.2059 L1423.39 72.576 L1415.93 72.576 L1415.93 65.6084 Q1413.22 69.7404 1409.61 71.7658 Q1406.05 73.7508 1401.31 73.7508 Q1393.49 73.7508 1389.44 68.8897 Q1385.39 64.0286 1385.39 54.671 M1404.14 26.1121 L1404.14 26.1121 Z\" fill=\"#000000\" fill-rule=\"nonzero\" fill-opacity=\"1\" /><path clip-path=\"url(#clip410)\" d=\"M1438.74 9.54393 L1446.19 9.54393 L1446.19 72.576 L1438.74 72.576 L1438.74 9.54393 Z\" fill=\"#000000\" fill-rule=\"nonzero\" fill-opacity=\"1\" /><path clip-path=\"url(#clip410)\" d=\"M1482.41 49.7694 Q1473.37 49.7694 1469.89 51.8354 Q1466.41 53.9013 1466.41 58.8839 Q1466.41 62.8538 1469 65.2034 Q1471.63 67.5124 1476.13 67.5124 Q1482.33 67.5124 1486.05 63.1374 Q1489.82 58.7219 1489.82 51.4303 L1489.82 49.7694 L1482.41 49.7694 M1497.27 46.6907 L1497.27 72.576 L1489.82 72.576 L1489.82 65.6895 Q1487.27 69.8214 1483.46 71.8063 Q1479.65 73.7508 1474.14 73.7508 Q1467.18 73.7508 1463.04 69.8619 Q1458.95 65.9325 1458.95 59.3701 Q1458.95 51.7138 1464.06 47.825 Q1469.2 43.9361 1479.37 43.9361 L1489.82 43.9361 L1489.82 43.2069 Q1489.82 38.0623 1486.42 35.2672 Q1483.06 32.4315 1476.94 32.4315 Q1473.05 32.4315 1469.36 33.3632 Q1465.68 34.295 1462.27 36.1584 L1462.27 29.2718 Q1466.37 27.692 1470.21 26.9223 Q1474.06 26.1121 1477.71 26.1121 Q1487.55 26.1121 1492.41 31.2163 Q1497.27 36.3204 1497.27 46.6907 Z\" fill=\"#000000\" fill-rule=\"nonzero\" fill-opacity=\"1\" /><path clip-path=\"url(#clip410)\" d=\"M1520 14.324 L1520 27.2059 L1535.35 27.2059 L1535.35 32.9987 L1520 32.9987 L1520 57.6282 Q1520 63.1779 1521.5 64.7578 Q1523.04 66.3376 1527.7 66.3376 L1535.35 66.3376 L1535.35 72.576 L1527.7 72.576 Q1519.07 72.576 1515.79 69.3758 Q1512.51 66.1351 1512.51 57.6282 L1512.51 32.9987 L1507.04 32.9987 L1507.04 27.2059 L1512.51 27.2059 L1512.51 14.324 L1520 14.324 Z\" fill=\"#000000\" fill-rule=\"nonzero\" fill-opacity=\"1\" /><path clip-path=\"url(#clip410)\" d=\"M1545.16 27.2059 L1552.61 27.2059 L1552.61 72.576 L1545.16 72.576 L1545.16 27.2059 M1545.16 9.54393 L1552.61 9.54393 L1552.61 18.9825 L1545.16 18.9825 L1545.16 9.54393 Z\" fill=\"#000000\" fill-rule=\"nonzero\" fill-opacity=\"1\" /><path clip-path=\"url(#clip410)\" d=\"M1585.79 32.4315 Q1579.79 32.4315 1576.31 37.1306 Q1572.82 41.7891 1572.82 49.9314 Q1572.82 58.0738 1576.27 62.7728 Q1579.75 67.4314 1585.79 67.4314 Q1591.74 67.4314 1595.23 62.7323 Q1598.71 58.0333 1598.71 49.9314 Q1598.71 41.8701 1595.23 37.1711 Q1591.74 32.4315 1585.79 32.4315 M1585.79 26.1121 Q1595.51 26.1121 1601.06 32.4315 Q1606.61 38.7509 1606.61 49.9314 Q1606.61 61.0714 1601.06 67.4314 Q1595.51 73.7508 1585.79 73.7508 Q1576.02 73.7508 1570.47 67.4314 Q1564.96 61.0714 1564.96 49.9314 Q1564.96 38.7509 1570.47 32.4315 Q1576.02 26.1121 1585.79 26.1121 Z\" fill=\"#000000\" fill-rule=\"nonzero\" fill-opacity=\"1\" /><path clip-path=\"url(#clip410)\" d=\"M1656.68 45.1919 L1656.68 72.576 L1649.22 72.576 L1649.22 45.4349 Q1649.22 38.994 1646.71 35.7938 Q1644.2 32.5936 1639.18 32.5936 Q1633.14 32.5936 1629.66 36.4419 Q1626.17 40.2903 1626.17 46.9338 L1626.17 72.576 L1618.68 72.576 L1618.68 27.2059 L1626.17 27.2059 L1626.17 34.2544 Q1628.85 30.163 1632.45 28.1376 Q1636.1 26.1121 1640.84 26.1121 Q1648.66 26.1121 1652.67 30.9732 Q1656.68 35.7938 1656.68 45.1919 Z\" fill=\"#000000\" fill-rule=\"nonzero\" fill-opacity=\"1\" /><polyline clip-path=\"url(#clip412)\" style=\"stroke:#009af9; stroke-linecap:round; stroke-linejoin:round; stroke-width:4; stroke-opacity:1; fill:none\" points=\"217.944,1447.87 238.67,1394.46 259.397,1337.9 280.123,1280.01 300.849,1221.98 321.576,1164.65 342.302,1108.61 363.028,1054.24 383.755,1001.82 404.481,951.53 425.207,903.463 445.934,857.674 466.66,814.175 487.386,772.947 508.113,733.95 528.839,697.127 549.565,662.408 570.292,629.716 591.018,598.969 611.744,570.081 632.47,542.964 653.197,517.529 673.923,493.692 694.649,471.364 715.376,450.465 736.102,430.911 756.828,412.627 777.555,395.537 798.281,379.569 819.007,364.655 839.734,350.731 860.46,337.734 881.186,325.606 901.913,314.292 922.639,303.74 943.365,293.901 964.092,284.728 984.818,276.178 1005.54,268.21 1026.27,260.785 1047,253.867 1067.72,247.423 1088.45,241.421 1109.18,235.831 1129.9,230.625 1150.63,225.778 1171.36,221.265 1192.08,217.063 1212.81,213.152 1233.53,209.511 1254.26,206.122 1274.99,202.968 1295.71,200.033 1316.44,197.301 1337.17,194.759 1357.89,192.393 1378.62,190.192 1399.34,188.144 1420.07,186.238 1440.8,184.465 1461.52,182.815 1482.25,181.281 1502.98,179.853 1523.7,178.524 1544.43,177.289 1565.16,176.139 1585.88,175.07 1606.61,174.075 1627.33,173.15 1648.06,172.289 1668.79,171.489 1689.51,170.744 1710.24,170.051 1730.97,169.407 1751.69,168.808 1772.42,168.25 1793.14,167.732 1813.87,167.25 1834.6,166.801 1855.32,166.384 1876.05,165.996 1896.78,165.635 1917.5,165.3 1938.23,164.988 1958.96,164.697 1979.68,164.427 2000.41,164.176 2021.13,163.942 2041.86,163.725 2062.59,163.523 2083.31,163.335 2104.04,163.161 2124.77,162.998 2145.49,162.847 2166.22,162.706 2186.95,162.576 2207.67,162.454 2228.4,162.341 2249.12,162.236 2269.85,162.138 2290.58,162.047 \"/>\n",
              "<path clip-path=\"url(#clip410)\" d=\"M228.998 272.585 L612.377 272.585 L612.377 168.905 L228.998 168.905  Z\" fill=\"#ffffff\" fill-rule=\"evenodd\" fill-opacity=\"1\"/>\n",
              "<polyline clip-path=\"url(#clip410)\" style=\"stroke:#000000; stroke-linecap:round; stroke-linejoin:round; stroke-width:4; stroke-opacity:1; fill:none\" points=\"228.998,272.585 612.377,272.585 612.377,168.905 228.998,168.905 228.998,272.585 \"/>\n",
              "<polyline clip-path=\"url(#clip410)\" style=\"stroke:#009af9; stroke-linecap:round; stroke-linejoin:round; stroke-width:4; stroke-opacity:1; fill:none\" points=\"253.409,220.745 399.875,220.745 \"/>\n",
              "<path clip-path=\"url(#clip410)\" d=\"M424.286 202.006 L428.568 202.006 L428.568 223.279 L441.277 212.099 L446.716 212.099 L432.967 224.228 L447.295 238.025 L441.74 238.025 L428.568 225.363 L428.568 238.025 L424.286 238.025 L424.286 202.006 Z\" fill=\"#000000\" fill-rule=\"nonzero\" fill-opacity=\"1\" /><path clip-path=\"url(#clip410)\" d=\"M462.503 206.543 Q458.892 206.543 457.064 210.108 Q455.258 213.65 455.258 220.779 Q455.258 227.886 457.064 231.451 Q458.892 234.992 462.503 234.992 Q466.138 234.992 467.943 231.451 Q469.772 227.886 469.772 220.779 Q469.772 213.65 467.943 210.108 Q466.138 206.543 462.503 206.543 M462.503 202.84 Q468.314 202.84 471.369 207.446 Q474.448 212.029 474.448 220.779 Q474.448 229.506 471.369 234.113 Q468.314 238.696 462.503 238.696 Q456.693 238.696 453.615 234.113 Q450.559 229.506 450.559 220.779 Q450.559 212.029 453.615 207.446 Q456.693 202.84 462.503 202.84 Z\" fill=\"#000000\" fill-rule=\"nonzero\" fill-opacity=\"1\" /><path clip-path=\"url(#clip410)\" d=\"M482.619 216.497 L512.295 216.497 L512.295 220.386 L482.619 220.386 L482.619 216.497 M482.619 225.941 L512.295 225.941 L512.295 229.877 L482.619 229.877 L482.619 225.941 Z\" fill=\"#000000\" fill-rule=\"nonzero\" fill-opacity=\"1\" /><path clip-path=\"url(#clip410)\" d=\"M532.387 206.543 Q528.776 206.543 526.948 210.108 Q525.142 213.65 525.142 220.779 Q525.142 227.886 526.948 231.451 Q528.776 234.992 532.387 234.992 Q536.022 234.992 537.827 231.451 Q539.656 227.886 539.656 220.779 Q539.656 213.65 537.827 210.108 Q536.022 206.543 532.387 206.543 M532.387 202.84 Q538.197 202.84 541.253 207.446 Q544.332 212.029 544.332 220.779 Q544.332 229.506 541.253 234.113 Q538.197 238.696 532.387 238.696 Q526.577 238.696 523.498 234.113 Q520.443 229.506 520.443 220.779 Q520.443 212.029 523.498 207.446 Q526.577 202.84 532.387 202.84 Z\" fill=\"#000000\" fill-rule=\"nonzero\" fill-opacity=\"1\" /><path clip-path=\"url(#clip410)\" d=\"M552.549 232.145 L557.433 232.145 L557.433 238.025 L552.549 238.025 L552.549 232.145 Z\" fill=\"#000000\" fill-rule=\"nonzero\" fill-opacity=\"1\" /><path clip-path=\"url(#clip410)\" d=\"M571.646 234.089 L587.966 234.089 L587.966 238.025 L566.021 238.025 L566.021 234.089 Q568.683 231.335 573.267 226.705 Q577.873 222.053 579.054 220.71 Q581.299 218.187 582.179 216.451 Q583.081 214.691 583.081 213.002 Q583.081 210.247 581.137 208.511 Q579.216 206.775 576.114 206.775 Q573.915 206.775 571.461 207.539 Q569.031 208.303 566.253 209.854 L566.253 205.131 Q569.077 203.997 571.531 203.418 Q573.984 202.84 576.021 202.84 Q581.392 202.84 584.586 205.525 Q587.781 208.21 587.781 212.701 Q587.781 214.83 586.97 216.752 Q586.183 218.65 584.077 221.242 Q583.498 221.914 580.396 225.131 Q577.294 228.326 571.646 234.089 Z\" fill=\"#000000\" fill-rule=\"nonzero\" fill-opacity=\"1\" /></svg>"
            ]
          }
        }
      ],
      "source": [
        "plot(sim; title=\"Baseline Simulation\", label=\"k0=0.2\")"
      ],
      "id": "cell-42"
    },
    {
      "cell_type": "code",
      "execution_count": 27,
      "metadata": {},
      "outputs": [],
      "source": [
        "# plot different levels of capital\n",
        "# 🐉\n",
        "\n",
        "klevels = [0.5, 1., 1.5, 2, 2.5, 3, 3.5]\n",
        "simulations = [simulate(k0, model) for k0 in klevels];\n"
      ],
      "id": "cell-43"
    },
    {
      "cell_type": "code",
      "execution_count": 37,
      "metadata": {},
      "outputs": [
        {
          "output_type": "display_data",
          "metadata": {},
          "data": {
            "text/html": [
              "<?xml version=\"1.0\" encoding=\"utf-8\"?>\n",
              "<svg xmlns=\"http://www.w3.org/2000/svg\" xmlns:xlink=\"http://www.w3.org/1999/xlink\" width=\"600\" height=\"400\" viewBox=\"0 0 2400 1600\">\n",
              "<defs>\n",
              "  <clipPath id=\"clip130\">\n",
              "    <rect x=\"0\" y=\"0\" width=\"2400\" height=\"1600\"/>\n",
              "  </clipPath>\n",
              "</defs>\n",
              "<path clip-path=\"url(#clip130)\" d=\"M0 1600 L2400 1600 L2400 0 L0 0  Z\" fill=\"#ffffff\" fill-rule=\"evenodd\" fill-opacity=\"1\"/>\n",
              "<defs>\n",
              "  <clipPath id=\"clip131\">\n",
              "    <rect x=\"480\" y=\"0\" width=\"1681\" height=\"1600\"/>\n",
              "  </clipPath>\n",
              "</defs>\n",
              "<path clip-path=\"url(#clip130)\" d=\"M219.033 1423.18 L2352.76 1423.18 L2352.76 123.472 L219.033 123.472  Z\" fill=\"#ffffff\" fill-rule=\"evenodd\" fill-opacity=\"1\"/>\n",
              "<defs>\n",
              "  <clipPath id=\"clip132\">\n",
              "    <rect x=\"219\" y=\"123\" width=\"2135\" height=\"1301\"/>\n",
              "  </clipPath>\n",
              "</defs>\n",
              "<polyline clip-path=\"url(#clip132)\" style=\"stroke:#000000; stroke-linecap:round; stroke-linejoin:round; stroke-width:2; stroke-opacity:0.1; fill:none\" points=\"259.292,1423.18 259.292,123.472 \"/>\n",
              "<polyline clip-path=\"url(#clip132)\" style=\"stroke:#000000; stroke-linecap:round; stroke-linejoin:round; stroke-width:2; stroke-opacity:0.1; fill:none\" points=\"762.528,1423.18 762.528,123.472 \"/>\n",
              "<polyline clip-path=\"url(#clip132)\" style=\"stroke:#000000; stroke-linecap:round; stroke-linejoin:round; stroke-width:2; stroke-opacity:0.1; fill:none\" points=\"1265.76,1423.18 1265.76,123.472 \"/>\n",
              "<polyline clip-path=\"url(#clip132)\" style=\"stroke:#000000; stroke-linecap:round; stroke-linejoin:round; stroke-width:2; stroke-opacity:0.1; fill:none\" points=\"1769,1423.18 1769,123.472 \"/>\n",
              "<polyline clip-path=\"url(#clip132)\" style=\"stroke:#000000; stroke-linecap:round; stroke-linejoin:round; stroke-width:2; stroke-opacity:0.1; fill:none\" points=\"2272.24,1423.18 2272.24,123.472 \"/>\n",
              "<polyline clip-path=\"url(#clip132)\" style=\"stroke:#000000; stroke-linecap:round; stroke-linejoin:round; stroke-width:2; stroke-opacity:0.1; fill:none\" points=\"219.033,1386.4 2352.76,1386.4 \"/>\n",
              "<polyline clip-path=\"url(#clip132)\" style=\"stroke:#000000; stroke-linecap:round; stroke-linejoin:round; stroke-width:2; stroke-opacity:0.1; fill:none\" points=\"219.033,1182.04 2352.76,1182.04 \"/>\n",
              "<polyline clip-path=\"url(#clip132)\" style=\"stroke:#000000; stroke-linecap:round; stroke-linejoin:round; stroke-width:2; stroke-opacity:0.1; fill:none\" points=\"219.033,977.683 2352.76,977.683 \"/>\n",
              "<polyline clip-path=\"url(#clip132)\" style=\"stroke:#000000; stroke-linecap:round; stroke-linejoin:round; stroke-width:2; stroke-opacity:0.1; fill:none\" points=\"219.033,773.326 2352.76,773.326 \"/>\n",
              "<polyline clip-path=\"url(#clip132)\" style=\"stroke:#000000; stroke-linecap:round; stroke-linejoin:round; stroke-width:2; stroke-opacity:0.1; fill:none\" points=\"219.033,568.969 2352.76,568.969 \"/>\n",
              "<polyline clip-path=\"url(#clip132)\" style=\"stroke:#000000; stroke-linecap:round; stroke-linejoin:round; stroke-width:2; stroke-opacity:0.1; fill:none\" points=\"219.033,364.613 2352.76,364.613 \"/>\n",
              "<polyline clip-path=\"url(#clip132)\" style=\"stroke:#000000; stroke-linecap:round; stroke-linejoin:round; stroke-width:2; stroke-opacity:0.1; fill:none\" points=\"219.033,160.256 2352.76,160.256 \"/>\n",
              "<polyline clip-path=\"url(#clip130)\" style=\"stroke:#000000; stroke-linecap:round; stroke-linejoin:round; stroke-width:4; stroke-opacity:1; fill:none\" points=\"219.033,1423.18 2352.76,1423.18 \"/>\n",
              "<polyline clip-path=\"url(#clip130)\" style=\"stroke:#000000; stroke-linecap:round; stroke-linejoin:round; stroke-width:4; stroke-opacity:1; fill:none\" points=\"259.292,1423.18 259.292,1404.28 \"/>\n",
              "<polyline clip-path=\"url(#clip130)\" style=\"stroke:#000000; stroke-linecap:round; stroke-linejoin:round; stroke-width:4; stroke-opacity:1; fill:none\" points=\"762.528,1423.18 762.528,1404.28 \"/>\n",
              "<polyline clip-path=\"url(#clip130)\" style=\"stroke:#000000; stroke-linecap:round; stroke-linejoin:round; stroke-width:4; stroke-opacity:1; fill:none\" points=\"1265.76,1423.18 1265.76,1404.28 \"/>\n",
              "<polyline clip-path=\"url(#clip130)\" style=\"stroke:#000000; stroke-linecap:round; stroke-linejoin:round; stroke-width:4; stroke-opacity:1; fill:none\" points=\"1769,1423.18 1769,1404.28 \"/>\n",
              "<polyline clip-path=\"url(#clip130)\" style=\"stroke:#000000; stroke-linecap:round; stroke-linejoin:round; stroke-width:4; stroke-opacity:1; fill:none\" points=\"2272.24,1423.18 2272.24,1404.28 \"/>\n",
              "<path clip-path=\"url(#clip130)\" d=\"M259.292 1454.1 Q255.681 1454.1 253.852 1457.66 Q252.047 1461.2 252.047 1468.33 Q252.047 1475.44 253.852 1479.01 Q255.681 1482.55 259.292 1482.55 Q262.926 1482.55 264.732 1479.01 Q266.56 1475.44 266.56 1468.33 Q266.56 1461.2 264.732 1457.66 Q262.926 1454.1 259.292 1454.1 M259.292 1450.39 Q265.102 1450.39 268.158 1455 Q271.236 1459.58 271.236 1468.33 Q271.236 1477.06 268.158 1481.67 Q265.102 1486.25 259.292 1486.25 Q253.482 1486.25 250.403 1481.67 Q247.347 1477.06 247.347 1468.33 Q247.347 1459.58 250.403 1455 Q253.482 1450.39 259.292 1450.39 Z\" fill=\"#000000\" fill-rule=\"nonzero\" fill-opacity=\"1\" /><path clip-path=\"url(#clip130)\" d=\"M741.799 1481.64 L758.119 1481.64 L758.119 1485.58 L736.174 1485.58 L736.174 1481.64 Q738.836 1478.89 743.42 1474.26 Q748.026 1469.61 749.207 1468.27 Q751.452 1465.74 752.332 1464.01 Q753.234 1462.25 753.234 1460.56 Q753.234 1457.8 751.29 1456.07 Q749.369 1454.33 746.267 1454.33 Q744.068 1454.33 741.614 1455.09 Q739.184 1455.86 736.406 1457.41 L736.406 1452.69 Q739.23 1451.55 741.684 1450.97 Q744.137 1450.39 746.174 1450.39 Q751.545 1450.39 754.739 1453.08 Q757.934 1455.77 757.934 1460.26 Q757.934 1462.39 757.123 1464.31 Q756.336 1466.2 754.23 1468.8 Q753.651 1469.47 750.549 1472.69 Q747.447 1475.88 741.799 1481.64 Z\" fill=\"#000000\" fill-rule=\"nonzero\" fill-opacity=\"1\" /><path clip-path=\"url(#clip130)\" d=\"M767.98 1451.02 L786.336 1451.02 L786.336 1454.96 L772.262 1454.96 L772.262 1463.43 Q773.281 1463.08 774.299 1462.92 Q775.318 1462.73 776.336 1462.73 Q782.123 1462.73 785.503 1465.9 Q788.882 1469.08 788.882 1474.49 Q788.882 1480.07 785.41 1483.17 Q781.938 1486.25 775.619 1486.25 Q773.443 1486.25 771.174 1485.88 Q768.929 1485.51 766.521 1484.77 L766.521 1480.07 Q768.605 1481.2 770.827 1481.76 Q773.049 1482.32 775.526 1482.32 Q779.531 1482.32 781.869 1480.21 Q784.207 1478.1 784.207 1474.49 Q784.207 1470.88 781.869 1468.77 Q779.531 1466.67 775.526 1466.67 Q773.651 1466.67 771.776 1467.08 Q769.924 1467.5 767.98 1468.38 L767.98 1451.02 Z\" fill=\"#000000\" fill-rule=\"nonzero\" fill-opacity=\"1\" /><path clip-path=\"url(#clip130)\" d=\"M1240.46 1451.02 L1258.82 1451.02 L1258.82 1454.96 L1244.75 1454.96 L1244.75 1463.43 Q1245.77 1463.08 1246.78 1462.92 Q1247.8 1462.73 1248.82 1462.73 Q1254.61 1462.73 1257.99 1465.9 Q1261.37 1469.08 1261.37 1474.49 Q1261.37 1480.07 1257.89 1483.17 Q1254.42 1486.25 1248.1 1486.25 Q1245.93 1486.25 1243.66 1485.88 Q1241.41 1485.51 1239.01 1484.77 L1239.01 1480.07 Q1241.09 1481.2 1243.31 1481.76 Q1245.53 1482.32 1248.01 1482.32 Q1252.02 1482.32 1254.35 1480.21 Q1256.69 1478.1 1256.69 1474.49 Q1256.69 1470.88 1254.35 1468.77 Q1252.02 1466.67 1248.01 1466.67 Q1246.14 1466.67 1244.26 1467.08 Q1242.41 1467.5 1240.46 1468.38 L1240.46 1451.02 Z\" fill=\"#000000\" fill-rule=\"nonzero\" fill-opacity=\"1\" /><path clip-path=\"url(#clip130)\" d=\"M1280.58 1454.1 Q1276.97 1454.1 1275.14 1457.66 Q1273.33 1461.2 1273.33 1468.33 Q1273.33 1475.44 1275.14 1479.01 Q1276.97 1482.55 1280.58 1482.55 Q1284.21 1482.55 1286.02 1479.01 Q1287.85 1475.44 1287.85 1468.33 Q1287.85 1461.2 1286.02 1457.66 Q1284.21 1454.1 1280.58 1454.1 M1280.58 1450.39 Q1286.39 1450.39 1289.45 1455 Q1292.52 1459.58 1292.52 1468.33 Q1292.52 1477.06 1289.45 1481.67 Q1286.39 1486.25 1280.58 1486.25 Q1274.77 1486.25 1271.69 1481.67 Q1268.64 1477.06 1268.64 1468.33 Q1268.64 1459.58 1271.69 1455 Q1274.77 1450.39 1280.58 1450.39 Z\" fill=\"#000000\" fill-rule=\"nonzero\" fill-opacity=\"1\" /><path clip-path=\"url(#clip130)\" d=\"M1742.86 1451.02 L1765.08 1451.02 L1765.08 1453.01 L1752.53 1485.58 L1747.65 1485.58 L1759.45 1454.96 L1742.86 1454.96 L1742.86 1451.02 Z\" fill=\"#000000\" fill-rule=\"nonzero\" fill-opacity=\"1\" /><path clip-path=\"url(#clip130)\" d=\"M1774.24 1451.02 L1792.6 1451.02 L1792.6 1454.96 L1778.53 1454.96 L1778.53 1463.43 Q1779.55 1463.08 1780.56 1462.92 Q1781.58 1462.73 1782.6 1462.73 Q1788.39 1462.73 1791.77 1465.9 Q1795.15 1469.08 1795.15 1474.49 Q1795.15 1480.07 1791.67 1483.17 Q1788.2 1486.25 1781.88 1486.25 Q1779.71 1486.25 1777.44 1485.88 Q1775.19 1485.51 1772.79 1484.77 L1772.79 1480.07 Q1774.87 1481.2 1777.09 1481.76 Q1779.31 1482.32 1781.79 1482.32 Q1785.8 1482.32 1788.13 1480.21 Q1790.47 1478.1 1790.47 1474.49 Q1790.47 1470.88 1788.13 1468.77 Q1785.8 1466.67 1781.79 1466.67 Q1779.92 1466.67 1778.04 1467.08 Q1776.19 1467.5 1774.24 1468.38 L1774.24 1451.02 Z\" fill=\"#000000\" fill-rule=\"nonzero\" fill-opacity=\"1\" /><path clip-path=\"url(#clip130)\" d=\"M2231.84 1481.64 L2239.48 1481.64 L2239.48 1455.28 L2231.17 1456.95 L2231.17 1452.69 L2239.44 1451.02 L2244.11 1451.02 L2244.11 1481.64 L2251.75 1481.64 L2251.75 1485.58 L2231.84 1485.58 L2231.84 1481.64 Z\" fill=\"#000000\" fill-rule=\"nonzero\" fill-opacity=\"1\" /><path clip-path=\"url(#clip130)\" d=\"M2271.2 1454.1 Q2267.59 1454.1 2265.76 1457.66 Q2263.95 1461.2 2263.95 1468.33 Q2263.95 1475.44 2265.76 1479.01 Q2267.59 1482.55 2271.2 1482.55 Q2274.83 1482.55 2276.64 1479.01 Q2278.46 1475.44 2278.46 1468.33 Q2278.46 1461.2 2276.64 1457.66 Q2274.83 1454.1 2271.2 1454.1 M2271.2 1450.39 Q2277.01 1450.39 2280.06 1455 Q2283.14 1459.58 2283.14 1468.33 Q2283.14 1477.06 2280.06 1481.67 Q2277.01 1486.25 2271.2 1486.25 Q2265.39 1486.25 2262.31 1481.67 Q2259.25 1477.06 2259.25 1468.33 Q2259.25 1459.58 2262.31 1455 Q2265.39 1450.39 2271.2 1450.39 Z\" fill=\"#000000\" fill-rule=\"nonzero\" fill-opacity=\"1\" /><path clip-path=\"url(#clip130)\" d=\"M2301.36 1454.1 Q2297.75 1454.1 2295.92 1457.66 Q2294.11 1461.2 2294.11 1468.33 Q2294.11 1475.44 2295.92 1479.01 Q2297.75 1482.55 2301.36 1482.55 Q2304.99 1482.55 2306.8 1479.01 Q2308.63 1475.44 2308.63 1468.33 Q2308.63 1461.2 2306.8 1457.66 Q2304.99 1454.1 2301.36 1454.1 M2301.36 1450.39 Q2307.17 1450.39 2310.22 1455 Q2313.3 1459.58 2313.3 1468.33 Q2313.3 1477.06 2310.22 1481.67 Q2307.17 1486.25 2301.36 1486.25 Q2295.55 1486.25 2292.47 1481.67 Q2289.41 1477.06 2289.41 1468.33 Q2289.41 1459.58 2292.47 1455 Q2295.55 1450.39 2301.36 1450.39 Z\" fill=\"#000000\" fill-rule=\"nonzero\" fill-opacity=\"1\" /><path clip-path=\"url(#clip130)\" d=\"M1294.37 1531.91 Q1294.37 1532.81 1293.95 1533.04 Q1293.53 1533.23 1292.37 1533.23 L1286.19 1533.23 L1281.29 1552.69 Q1280.9 1554.39 1280.9 1555.84 Q1280.9 1557.45 1281.39 1558.16 Q1281.9 1558.87 1282.96 1558.87 Q1285.06 1558.87 1287.31 1556.97 Q1289.6 1555.07 1291.53 1550.43 Q1291.79 1549.82 1291.92 1549.69 Q1292.08 1549.53 1292.5 1549.53 Q1293.3 1549.53 1293.3 1550.17 Q1293.3 1550.4 1292.85 1551.43 Q1292.43 1552.46 1291.5 1553.97 Q1290.6 1555.49 1289.41 1556.9 Q1288.25 1558.32 1286.47 1559.35 Q1284.7 1560.35 1282.8 1560.35 Q1280.13 1560.35 1278.42 1558.64 Q1276.75 1556.94 1276.75 1554.26 Q1276.75 1553.39 1277.43 1550.62 Q1278.1 1547.82 1281.77 1533.23 L1275.94 1533.23 Q1275.14 1533.23 1274.82 1533.2 Q1274.53 1533.17 1274.3 1533.01 Q1274.11 1532.81 1274.11 1532.43 Q1274.11 1531.82 1274.37 1531.56 Q1274.62 1531.27 1274.95 1531.24 Q1275.3 1531.17 1276.1 1531.17 L1282.29 1531.17 L1284.86 1520.71 Q1285.12 1519.67 1285.77 1519.09 Q1286.44 1518.48 1286.83 1518.42 Q1287.22 1518.32 1287.51 1518.32 Q1288.38 1518.32 1288.89 1518.81 Q1289.41 1519.26 1289.41 1520.09 Q1289.41 1520.54 1286.7 1531.17 L1292.5 1531.17 Q1293.24 1531.17 1293.53 1531.2 Q1293.85 1531.24 1294.11 1531.4 Q1294.37 1531.56 1294.37 1531.91 Z\" fill=\"#000000\" fill-rule=\"nonzero\" fill-opacity=\"1\" /><polyline clip-path=\"url(#clip130)\" style=\"stroke:#000000; stroke-linecap:round; stroke-linejoin:round; stroke-width:4; stroke-opacity:1; fill:none\" points=\"219.033,1423.18 219.033,123.472 \"/>\n",
              "<polyline clip-path=\"url(#clip130)\" style=\"stroke:#000000; stroke-linecap:round; stroke-linejoin:round; stroke-width:4; stroke-opacity:1; fill:none\" points=\"219.033,1386.4 237.931,1386.4 \"/>\n",
              "<polyline clip-path=\"url(#clip130)\" style=\"stroke:#000000; stroke-linecap:round; stroke-linejoin:round; stroke-width:4; stroke-opacity:1; fill:none\" points=\"219.033,1182.04 237.931,1182.04 \"/>\n",
              "<polyline clip-path=\"url(#clip130)\" style=\"stroke:#000000; stroke-linecap:round; stroke-linejoin:round; stroke-width:4; stroke-opacity:1; fill:none\" points=\"219.033,977.683 237.931,977.683 \"/>\n",
              "<polyline clip-path=\"url(#clip130)\" style=\"stroke:#000000; stroke-linecap:round; stroke-linejoin:round; stroke-width:4; stroke-opacity:1; fill:none\" points=\"219.033,773.326 237.931,773.326 \"/>\n",
              "<polyline clip-path=\"url(#clip130)\" style=\"stroke:#000000; stroke-linecap:round; stroke-linejoin:round; stroke-width:4; stroke-opacity:1; fill:none\" points=\"219.033,568.969 237.931,568.969 \"/>\n",
              "<polyline clip-path=\"url(#clip130)\" style=\"stroke:#000000; stroke-linecap:round; stroke-linejoin:round; stroke-width:4; stroke-opacity:1; fill:none\" points=\"219.033,364.613 237.931,364.613 \"/>\n",
              "<polyline clip-path=\"url(#clip130)\" style=\"stroke:#000000; stroke-linecap:round; stroke-linejoin:round; stroke-width:4; stroke-opacity:1; fill:none\" points=\"219.033,160.256 237.931,160.256 \"/>\n",
              "<path clip-path=\"url(#clip130)\" d=\"M126.853 1372.19 Q123.242 1372.19 121.413 1375.76 Q119.607 1379.3 119.607 1386.43 Q119.607 1393.54 121.413 1397.1 Q123.242 1400.64 126.853 1400.64 Q130.487 1400.64 132.292 1397.1 Q134.121 1393.54 134.121 1386.43 Q134.121 1379.3 132.292 1375.76 Q130.487 1372.19 126.853 1372.19 M126.853 1368.49 Q132.663 1368.49 135.718 1373.1 Q138.797 1377.68 138.797 1386.43 Q138.797 1395.16 135.718 1399.76 Q132.663 1404.35 126.853 1404.35 Q121.043 1404.35 117.964 1399.76 Q114.908 1395.16 114.908 1386.43 Q114.908 1377.68 117.964 1373.1 Q121.043 1368.49 126.853 1368.49 Z\" fill=\"#000000\" fill-rule=\"nonzero\" fill-opacity=\"1\" /><path clip-path=\"url(#clip130)\" d=\"M147.015 1397.8 L151.899 1397.8 L151.899 1403.68 L147.015 1403.68 L147.015 1397.8 Z\" fill=\"#000000\" fill-rule=\"nonzero\" fill-opacity=\"1\" /><path clip-path=\"url(#clip130)\" d=\"M162.13 1369.12 L180.487 1369.12 L180.487 1373.05 L166.413 1373.05 L166.413 1381.52 Q167.431 1381.18 168.45 1381.01 Q169.468 1380.83 170.487 1380.83 Q176.274 1380.83 179.653 1384 Q183.033 1387.17 183.033 1392.59 Q183.033 1398.17 179.561 1401.27 Q176.089 1404.35 169.769 1404.35 Q167.593 1404.35 165.325 1403.98 Q163.079 1403.61 160.672 1402.87 L160.672 1398.17 Q162.755 1399.3 164.977 1399.86 Q167.2 1400.41 169.677 1400.41 Q173.681 1400.41 176.019 1398.31 Q178.357 1396.2 178.357 1392.59 Q178.357 1388.98 176.019 1386.87 Q173.681 1384.76 169.677 1384.76 Q167.802 1384.76 165.927 1385.18 Q164.075 1385.6 162.13 1386.48 L162.13 1369.12 Z\" fill=\"#000000\" fill-rule=\"nonzero\" fill-opacity=\"1\" /><path clip-path=\"url(#clip130)\" d=\"M116.668 1195.38 L124.306 1195.38 L124.306 1169.02 L115.996 1170.68 L115.996 1166.43 L124.26 1164.76 L128.936 1164.76 L128.936 1195.38 L136.575 1195.38 L136.575 1199.32 L116.668 1199.32 L116.668 1195.38 Z\" fill=\"#000000\" fill-rule=\"nonzero\" fill-opacity=\"1\" /><path clip-path=\"url(#clip130)\" d=\"M146.019 1193.44 L150.903 1193.44 L150.903 1199.32 L146.019 1199.32 L146.019 1193.44 Z\" fill=\"#000000\" fill-rule=\"nonzero\" fill-opacity=\"1\" /><path clip-path=\"url(#clip130)\" d=\"M171.089 1167.84 Q167.477 1167.84 165.649 1171.4 Q163.843 1174.94 163.843 1182.07 Q163.843 1189.18 165.649 1192.75 Q167.477 1196.29 171.089 1196.29 Q174.723 1196.29 176.528 1192.75 Q178.357 1189.18 178.357 1182.07 Q178.357 1174.94 176.528 1171.4 Q174.723 1167.84 171.089 1167.84 M171.089 1164.13 Q176.899 1164.13 179.954 1168.74 Q183.033 1173.32 183.033 1182.07 Q183.033 1190.8 179.954 1195.41 Q176.899 1199.99 171.089 1199.99 Q165.278 1199.99 162.2 1195.41 Q159.144 1190.8 159.144 1182.07 Q159.144 1173.32 162.2 1168.74 Q165.278 1164.13 171.089 1164.13 Z\" fill=\"#000000\" fill-rule=\"nonzero\" fill-opacity=\"1\" /><path clip-path=\"url(#clip130)\" d=\"M117.663 991.027 L125.302 991.027 L125.302 964.662 L116.992 966.328 L116.992 962.069 L125.255 960.403 L129.931 960.403 L129.931 991.027 L137.57 991.027 L137.57 994.963 L117.663 994.963 L117.663 991.027 Z\" fill=\"#000000\" fill-rule=\"nonzero\" fill-opacity=\"1\" /><path clip-path=\"url(#clip130)\" d=\"M147.015 989.083 L151.899 989.083 L151.899 994.963 L147.015 994.963 L147.015 989.083 Z\" fill=\"#000000\" fill-rule=\"nonzero\" fill-opacity=\"1\" /><path clip-path=\"url(#clip130)\" d=\"M162.13 960.403 L180.487 960.403 L180.487 964.338 L166.413 964.338 L166.413 972.81 Q167.431 972.463 168.45 972.301 Q169.468 972.115 170.487 972.115 Q176.274 972.115 179.653 975.287 Q183.033 978.458 183.033 983.875 Q183.033 989.453 179.561 992.555 Q176.089 995.634 169.769 995.634 Q167.593 995.634 165.325 995.263 Q163.079 994.893 160.672 994.152 L160.672 989.453 Q162.755 990.588 164.977 991.143 Q167.2 991.699 169.677 991.699 Q173.681 991.699 176.019 989.592 Q178.357 987.486 178.357 983.875 Q178.357 980.264 176.019 978.157 Q173.681 976.051 169.677 976.051 Q167.802 976.051 165.927 976.467 Q164.075 976.884 162.13 977.764 L162.13 960.403 Z\" fill=\"#000000\" fill-rule=\"nonzero\" fill-opacity=\"1\" /><path clip-path=\"url(#clip130)\" d=\"M119.885 786.671 L136.204 786.671 L136.204 790.606 L114.26 790.606 L114.26 786.671 Q116.922 783.916 121.505 779.287 Q126.112 774.634 127.292 773.291 Q129.538 770.768 130.417 769.032 Q131.32 767.273 131.32 765.583 Q131.32 762.828 129.376 761.092 Q127.455 759.356 124.353 759.356 Q122.154 759.356 119.7 760.12 Q117.269 760.884 114.492 762.435 L114.492 757.713 Q117.316 756.578 119.769 756 Q122.223 755.421 124.26 755.421 Q129.63 755.421 132.825 758.106 Q136.019 760.791 136.019 765.282 Q136.019 767.412 135.209 769.333 Q134.422 771.231 132.316 773.824 Q131.737 774.495 128.635 777.713 Q125.533 780.907 119.885 786.671 Z\" fill=\"#000000\" fill-rule=\"nonzero\" fill-opacity=\"1\" /><path clip-path=\"url(#clip130)\" d=\"M146.019 784.726 L150.903 784.726 L150.903 790.606 L146.019 790.606 L146.019 784.726 Z\" fill=\"#000000\" fill-rule=\"nonzero\" fill-opacity=\"1\" /><path clip-path=\"url(#clip130)\" d=\"M171.089 759.125 Q167.477 759.125 165.649 762.689 Q163.843 766.231 163.843 773.361 Q163.843 780.467 165.649 784.032 Q167.477 787.574 171.089 787.574 Q174.723 787.574 176.528 784.032 Q178.357 780.467 178.357 773.361 Q178.357 766.231 176.528 762.689 Q174.723 759.125 171.089 759.125 M171.089 755.421 Q176.899 755.421 179.954 760.027 Q183.033 764.611 183.033 773.361 Q183.033 782.088 179.954 786.694 Q176.899 791.277 171.089 791.277 Q165.278 791.277 162.2 786.694 Q159.144 782.088 159.144 773.361 Q159.144 764.611 162.2 760.027 Q165.278 755.421 171.089 755.421 Z\" fill=\"#000000\" fill-rule=\"nonzero\" fill-opacity=\"1\" /><path clip-path=\"url(#clip130)\" d=\"M120.88 582.314 L137.2 582.314 L137.2 586.249 L115.256 586.249 L115.256 582.314 Q117.918 579.56 122.501 574.93 Q127.107 570.277 128.288 568.935 Q130.533 566.412 131.413 564.675 Q132.316 562.916 132.316 561.226 Q132.316 558.472 130.371 556.736 Q128.45 555 125.348 555 Q123.149 555 120.695 555.763 Q118.265 556.527 115.487 558.078 L115.487 553.356 Q118.311 552.222 120.765 551.643 Q123.218 551.064 125.255 551.064 Q130.626 551.064 133.82 553.75 Q137.015 556.435 137.015 560.925 Q137.015 563.055 136.204 564.976 Q135.417 566.875 133.311 569.467 Q132.732 570.138 129.63 573.356 Q126.529 576.55 120.88 582.314 Z\" fill=\"#000000\" fill-rule=\"nonzero\" fill-opacity=\"1\" /><path clip-path=\"url(#clip130)\" d=\"M147.015 580.37 L151.899 580.37 L151.899 586.249 L147.015 586.249 L147.015 580.37 Z\" fill=\"#000000\" fill-rule=\"nonzero\" fill-opacity=\"1\" /><path clip-path=\"url(#clip130)\" d=\"M162.13 551.689 L180.487 551.689 L180.487 555.625 L166.413 555.625 L166.413 564.097 Q167.431 563.75 168.45 563.588 Q169.468 563.402 170.487 563.402 Q176.274 563.402 179.653 566.574 Q183.033 569.745 183.033 575.162 Q183.033 580.74 179.561 583.842 Q176.089 586.921 169.769 586.921 Q167.593 586.921 165.325 586.55 Q163.079 586.18 160.672 585.439 L160.672 580.74 Q162.755 581.874 164.977 582.43 Q167.2 582.986 169.677 582.986 Q173.681 582.986 176.019 580.879 Q178.357 578.773 178.357 575.162 Q178.357 571.55 176.019 569.444 Q173.681 567.337 169.677 567.337 Q167.802 567.337 165.927 567.754 Q164.075 568.171 162.13 569.05 L162.13 551.689 Z\" fill=\"#000000\" fill-rule=\"nonzero\" fill-opacity=\"1\" /><path clip-path=\"url(#clip130)\" d=\"M130.024 363.259 Q133.38 363.976 135.255 366.245 Q137.154 368.513 137.154 371.847 Q137.154 376.962 133.635 379.763 Q130.117 382.564 123.635 382.564 Q121.459 382.564 119.144 382.124 Q116.853 381.708 114.399 380.851 L114.399 376.337 Q116.343 377.472 118.658 378.05 Q120.973 378.629 123.496 378.629 Q127.894 378.629 130.186 376.893 Q132.501 375.157 132.501 371.847 Q132.501 368.791 130.348 367.078 Q128.218 365.342 124.399 365.342 L120.371 365.342 L120.371 361.499 L124.584 361.499 Q128.033 361.499 129.862 360.134 Q131.691 358.745 131.691 356.152 Q131.691 353.49 129.792 352.078 Q127.917 350.643 124.399 350.643 Q122.478 350.643 120.279 351.06 Q118.08 351.476 115.441 352.356 L115.441 348.189 Q118.103 347.449 120.418 347.078 Q122.755 346.708 124.816 346.708 Q130.14 346.708 133.242 349.138 Q136.343 351.546 136.343 355.666 Q136.343 358.537 134.7 360.527 Q133.056 362.495 130.024 363.259 Z\" fill=\"#000000\" fill-rule=\"nonzero\" fill-opacity=\"1\" /><path clip-path=\"url(#clip130)\" d=\"M146.019 376.013 L150.903 376.013 L150.903 381.893 L146.019 381.893 L146.019 376.013 Z\" fill=\"#000000\" fill-rule=\"nonzero\" fill-opacity=\"1\" /><path clip-path=\"url(#clip130)\" d=\"M171.089 350.412 Q167.477 350.412 165.649 353.976 Q163.843 357.518 163.843 364.648 Q163.843 371.754 165.649 375.319 Q167.477 378.86 171.089 378.86 Q174.723 378.86 176.528 375.319 Q178.357 371.754 178.357 364.648 Q178.357 357.518 176.528 353.976 Q174.723 350.412 171.089 350.412 M171.089 346.708 Q176.899 346.708 179.954 351.314 Q183.033 355.898 183.033 364.648 Q183.033 373.374 179.954 377.981 Q176.899 382.564 171.089 382.564 Q165.278 382.564 162.2 377.981 Q159.144 373.374 159.144 364.648 Q159.144 355.898 162.2 351.314 Q165.278 346.708 171.089 346.708 Z\" fill=\"#000000\" fill-rule=\"nonzero\" fill-opacity=\"1\" /><path clip-path=\"url(#clip130)\" d=\"M131.019 158.902 Q134.376 159.62 136.251 161.888 Q138.149 164.157 138.149 167.49 Q138.149 172.606 134.63 175.407 Q131.112 178.208 124.63 178.208 Q122.455 178.208 120.14 177.768 Q117.848 177.351 115.394 176.495 L115.394 171.981 Q117.339 173.115 119.654 173.694 Q121.968 174.272 124.492 174.272 Q128.89 174.272 131.181 172.536 Q133.496 170.8 133.496 167.49 Q133.496 164.435 131.343 162.722 Q129.214 160.985 125.394 160.985 L121.367 160.985 L121.367 157.143 L125.58 157.143 Q129.029 157.143 130.857 155.777 Q132.686 154.388 132.686 151.796 Q132.686 149.134 130.788 147.722 Q128.913 146.286 125.394 146.286 Q123.473 146.286 121.274 146.703 Q119.075 147.12 116.436 147.999 L116.436 143.833 Q119.098 143.092 121.413 142.722 Q123.751 142.351 125.811 142.351 Q131.135 142.351 134.237 144.782 Q137.339 147.189 137.339 151.31 Q137.339 154.18 135.695 156.171 Q134.052 158.138 131.019 158.902 Z\" fill=\"#000000\" fill-rule=\"nonzero\" fill-opacity=\"1\" /><path clip-path=\"url(#clip130)\" d=\"M147.015 171.657 L151.899 171.657 L151.899 177.536 L147.015 177.536 L147.015 171.657 Z\" fill=\"#000000\" fill-rule=\"nonzero\" fill-opacity=\"1\" /><path clip-path=\"url(#clip130)\" d=\"M162.13 142.976 L180.487 142.976 L180.487 146.911 L166.413 146.911 L166.413 155.384 Q167.431 155.036 168.45 154.874 Q169.468 154.689 170.487 154.689 Q176.274 154.689 179.653 157.86 Q183.033 161.032 183.033 166.448 Q183.033 172.027 179.561 175.129 Q176.089 178.208 169.769 178.208 Q167.593 178.208 165.325 177.837 Q163.079 177.467 160.672 176.726 L160.672 172.027 Q162.755 173.161 164.977 173.717 Q167.2 174.272 169.677 174.272 Q173.681 174.272 176.019 172.166 Q178.357 170.059 178.357 166.448 Q178.357 162.837 176.019 160.731 Q173.681 158.624 169.677 158.624 Q167.802 158.624 165.927 159.041 Q164.075 159.458 162.13 160.337 L162.13 142.976 Z\" fill=\"#000000\" fill-rule=\"nonzero\" fill-opacity=\"1\" /><path clip-path=\"url(#clip130)\" d=\"M38.2092 772.314 Q40.045 772.314 41.14 773.441 Q42.235 774.536 42.235 775.921 Q42.235 777.145 41.5264 777.789 Q40.8179 778.433 39.9161 778.433 Q39.5297 778.433 39.0466 778.272 Q38.5313 778.111 37.9194 777.757 Q37.3075 777.371 36.8566 776.565 Q36.4057 775.76 36.3413 774.665 Q36.1158 774.891 36.0836 774.955 Q35.6972 775.438 35.5683 776.34 Q35.5039 776.469 35.5039 776.92 Q35.5039 779.142 37.1464 781.396 Q38.7567 783.619 41.8163 786.356 Q45.3911 789.802 46.7116 792.024 Q47.9998 782.266 53.6358 782.266 Q54.5698 782.266 55.697 782.524 Q57.8226 783.039 59.3685 783.039 Q62.4602 783.039 62.4602 780.945 Q62.4602 778.916 60.3991 777.628 Q58.3379 776.308 54.3122 775.213 Q53.5714 775.052 53.346 774.891 Q53.1205 774.73 53.1205 774.279 Q53.1205 773.474 53.7647 773.474 Q57.5327 774.214 60.4313 775.857 Q63.9417 777.95 63.9417 781.074 Q63.9417 783.683 62.1382 785.422 Q60.3024 787.129 57.4039 787.129 Q56.6954 787.129 55.0851 786.871 Q54.441 786.678 53.7002 786.678 Q52.1866 786.678 51.0594 787.515 Q49.8999 788.353 49.3202 789.705 Q48.7405 791.058 48.4829 792.185 Q48.193 793.28 48.0964 794.343 Q61.7195 797.564 62.5569 798.015 Q63.1366 798.304 63.523 798.949 Q63.9417 799.593 63.9417 800.269 Q63.9417 800.913 63.4908 801.557 Q63.0721 802.169 62.0738 802.169 Q61.5585 802.169 60.6245 801.911 L22.6216 792.346 L21.3334 792.153 Q20.9469 792.153 20.7536 792.314 Q20.5282 792.443 20.3672 793.216 Q20.2061 793.957 20.2061 795.438 Q20.2061 796.05 20.1739 796.34 Q20.1417 796.597 19.9807 796.823 Q19.7875 797.048 19.401 797.048 Q18.8535 797.048 18.5636 796.823 Q18.2416 796.565 18.1772 796.372 Q18.1128 796.179 18.0806 795.792 Q18.0484 795.245 17.8873 793.409 Q17.6941 791.573 17.5653 789.995 Q17.4364 788.417 17.4364 787.741 Q17.4364 787.354 17.6297 787.161 Q17.7907 786.936 17.9839 786.904 L18.145 786.871 L45.9708 793.731 Q44.8436 790.897 39.8517 786.42 Q34.0547 781.235 34.0547 776.791 Q34.0547 774.698 35.3429 773.506 Q36.5989 772.314 38.2092 772.314 Z\" fill=\"#000000\" fill-rule=\"nonzero\" fill-opacity=\"1\" /><path clip-path=\"url(#clip130)\" d=\"M61.7215 751.386 Q62.3527 751.386 62.5105 751.679 Q62.6458 751.973 62.6458 752.784 L62.6458 757.113 L76.2624 760.539 Q77.4573 760.81 78.4717 760.81 Q79.599 760.81 80.0949 760.472 Q80.5909 760.111 80.5909 759.367 Q80.5909 757.902 79.2608 756.324 Q77.9307 754.723 74.6843 753.37 Q74.256 753.19 74.1658 753.1 Q74.0531 752.987 74.0531 752.694 Q74.0531 752.13 74.504 752.13 Q74.6618 752.13 75.3832 752.446 Q76.1046 752.739 77.1642 753.393 Q78.2238 754.024 79.2157 754.858 Q80.2076 755.67 80.9291 756.91 Q81.6279 758.15 81.6279 759.48 Q81.6279 761.351 80.4331 762.546 Q79.2382 763.718 77.3671 763.718 Q76.7584 763.718 74.8196 763.245 Q72.8583 762.771 62.6458 760.201 L62.6458 764.282 Q62.6458 764.845 62.6232 765.071 Q62.6007 765.274 62.488 765.431 Q62.3527 765.567 62.0822 765.567 Q61.6538 765.567 61.4735 765.386 Q61.2706 765.206 61.2481 764.98 Q61.203 764.732 61.203 764.169 L61.203 759.84 L53.8761 758.037 Q53.1547 757.857 52.7489 757.406 Q52.3206 756.932 52.2755 756.662 Q52.2079 756.391 52.2079 756.188 Q52.2079 755.58 52.546 755.219 Q52.8616 754.858 53.4478 754.858 Q53.7634 754.858 61.203 756.752 L61.203 752.694 Q61.203 752.175 61.2255 751.973 Q61.2481 751.747 61.3608 751.567 Q61.4735 751.386 61.7215 751.386 Z\" fill=\"#000000\" fill-rule=\"nonzero\" fill-opacity=\"1\" /><path clip-path=\"url(#clip130)\" d=\"M891.66 43.6931 L891.66 65.8515 L904.785 65.8515 Q911.388 65.8515 914.548 63.1374 Q917.748 60.3828 917.748 54.752 Q917.748 49.0808 914.548 46.4072 Q911.388 43.6931 904.785 43.6931 L891.66 43.6931 M891.66 18.8205 L891.66 37.0496 L903.773 37.0496 Q909.768 37.0496 912.685 34.8216 Q915.642 32.5531 915.642 27.935 Q915.642 23.3575 912.685 21.089 Q909.768 18.8205 903.773 18.8205 L891.66 18.8205 M883.478 12.096 L904.38 12.096 Q913.738 12.096 918.801 15.9849 Q923.865 19.8737 923.865 27.0438 Q923.865 32.5936 921.273 35.8748 Q918.68 39.156 913.657 39.9662 Q919.693 41.2625 923.014 45.3944 Q926.377 49.4858 926.377 55.6432 Q926.377 63.745 920.867 68.1605 Q915.358 72.576 905.19 72.576 L883.478 72.576 L883.478 12.096 Z\" fill=\"#000000\" fill-rule=\"nonzero\" fill-opacity=\"1\" /><path clip-path=\"url(#clip130)\" d=\"M960.688 49.7694 Q951.654 49.7694 948.171 51.8354 Q944.687 53.9013 944.687 58.8839 Q944.687 62.8538 947.279 65.2034 Q949.912 67.5124 954.409 67.5124 Q960.607 67.5124 964.334 63.1374 Q968.101 58.7219 968.101 51.4303 L968.101 49.7694 L960.688 49.7694 M975.555 46.6907 L975.555 72.576 L968.101 72.576 L968.101 65.6895 Q965.549 69.8214 961.741 71.8063 Q957.933 73.7508 952.424 73.7508 Q945.456 73.7508 941.325 69.8619 Q937.233 65.9325 937.233 59.3701 Q937.233 51.7138 942.337 47.825 Q947.482 43.9361 957.65 43.9361 L968.101 43.9361 L968.101 43.2069 Q968.101 38.0623 964.698 35.2672 Q961.336 32.4315 955.219 32.4315 Q951.33 32.4315 947.644 33.3632 Q943.958 34.295 940.555 36.1584 L940.555 29.2718 Q944.646 27.692 948.495 26.9223 Q952.343 26.1121 955.989 26.1121 Q965.832 26.1121 970.694 31.2163 Q975.555 36.3204 975.555 46.6907 Z\" fill=\"#000000\" fill-rule=\"nonzero\" fill-opacity=\"1\" /><path clip-path=\"url(#clip130)\" d=\"M1019.83 28.5427 L1019.83 35.5912 Q1016.67 33.9709 1013.27 33.1607 Q1009.87 32.3505 1006.22 32.3505 Q1000.67 32.3505 997.875 34.0519 Q995.121 35.7533 995.121 39.156 Q995.121 41.7486 997.105 43.2475 Q999.09 44.7058 1005.09 46.0426 L1007.64 46.6097 Q1015.58 48.3111 1018.9 51.4303 Q1022.26 54.509 1022.26 60.0587 Q1022.26 66.3781 1017.24 70.0644 Q1012.26 73.7508 1003.51 73.7508 Q999.86 73.7508 995.89 73.0216 Q991.961 72.3329 987.586 70.9151 L987.586 63.2184 Q991.718 65.3654 995.728 66.4591 Q999.739 67.5124 1003.67 67.5124 Q1008.93 67.5124 1011.77 65.73 Q1014.61 63.9071 1014.61 60.6258 Q1014.61 57.5877 1012.54 55.9673 Q1010.51 54.3469 1003.59 52.8481 L1000.99 52.2405 Q994.067 50.7821 990.989 47.7845 Q987.91 44.7463 987.91 39.4801 Q987.91 33.0797 992.447 29.5959 Q996.984 26.1121 1005.33 26.1121 Q1009.46 26.1121 1013.11 26.7198 Q1016.75 27.3274 1019.83 28.5427 Z\" fill=\"#000000\" fill-rule=\"nonzero\" fill-opacity=\"1\" /><path clip-path=\"url(#clip130)\" d=\"M1072.94 48.0275 L1072.94 51.6733 L1038.67 51.6733 Q1039.15 59.3701 1043.29 63.421 Q1047.46 67.4314 1054.87 67.4314 Q1059.17 67.4314 1063.18 66.3781 Q1067.23 65.3249 1071.2 63.2184 L1071.2 70.267 Q1067.19 71.9684 1062.97 72.8596 Q1058.76 73.7508 1054.43 73.7508 Q1043.57 73.7508 1037.21 67.4314 Q1030.89 61.1119 1030.89 50.3365 Q1030.89 39.1965 1036.89 32.6746 Q1042.92 26.1121 1053.13 26.1121 Q1062.28 26.1121 1067.59 32.0264 Q1072.94 37.9003 1072.94 48.0275 M1065.48 45.84 Q1065.4 39.7232 1062.04 36.0774 Q1058.72 32.4315 1053.21 32.4315 Q1046.97 32.4315 1043.2 35.9558 Q1039.48 39.4801 1038.91 45.8805 L1065.48 45.84 Z\" fill=\"#000000\" fill-rule=\"nonzero\" fill-opacity=\"1\" /><path clip-path=\"url(#clip130)\" d=\"M1085.17 9.54393 L1092.63 9.54393 L1092.63 72.576 L1085.17 72.576 L1085.17 9.54393 Z\" fill=\"#000000\" fill-rule=\"nonzero\" fill-opacity=\"1\" /><path clip-path=\"url(#clip130)\" d=\"M1108.22 27.2059 L1115.68 27.2059 L1115.68 72.576 L1108.22 72.576 L1108.22 27.2059 M1108.22 9.54393 L1115.68 9.54393 L1115.68 18.9825 L1108.22 18.9825 L1108.22 9.54393 Z\" fill=\"#000000\" fill-rule=\"nonzero\" fill-opacity=\"1\" /><path clip-path=\"url(#clip130)\" d=\"M1168.99 45.1919 L1168.99 72.576 L1161.53 72.576 L1161.53 45.4349 Q1161.53 38.994 1159.02 35.7938 Q1156.51 32.5936 1151.49 32.5936 Q1145.45 32.5936 1141.97 36.4419 Q1138.48 40.2903 1138.48 46.9338 L1138.48 72.576 L1130.99 72.576 L1130.99 27.2059 L1138.48 27.2059 L1138.48 34.2544 Q1141.16 30.163 1144.76 28.1376 Q1148.41 26.1121 1153.15 26.1121 Q1160.96 26.1121 1164.97 30.9732 Q1168.99 35.7938 1168.99 45.1919 Z\" fill=\"#000000\" fill-rule=\"nonzero\" fill-opacity=\"1\" /><path clip-path=\"url(#clip130)\" d=\"M1222.66 48.0275 L1222.66 51.6733 L1188.39 51.6733 Q1188.88 59.3701 1193.01 63.421 Q1197.18 67.4314 1204.59 67.4314 Q1208.89 67.4314 1212.9 66.3781 Q1216.95 65.3249 1220.92 63.2184 L1220.92 70.267 Q1216.91 71.9684 1212.69 72.8596 Q1208.48 73.7508 1204.15 73.7508 Q1193.29 73.7508 1186.93 67.4314 Q1180.61 61.1119 1180.61 50.3365 Q1180.61 39.1965 1186.61 32.6746 Q1192.64 26.1121 1202.85 26.1121 Q1212.01 26.1121 1217.31 32.0264 Q1222.66 37.9003 1222.66 48.0275 M1215.21 45.84 Q1215.13 39.7232 1211.76 36.0774 Q1208.44 32.4315 1202.93 32.4315 Q1196.69 32.4315 1192.93 35.9558 Q1189.2 39.4801 1188.63 45.8805 L1215.21 45.84 Z\" fill=\"#000000\" fill-rule=\"nonzero\" fill-opacity=\"1\" /><path clip-path=\"url(#clip130)\" d=\"M1297.84 14.0809 L1297.84 22.0612 Q1293.19 19.8332 1289.05 18.7395 Q1284.92 17.6457 1281.07 17.6457 Q1274.39 17.6457 1270.74 20.2383 Q1267.14 22.8309 1267.14 27.611 Q1267.14 31.6214 1269.53 33.6873 Q1271.96 35.7128 1278.68 36.9686 L1283.63 37.9813 Q1292.78 39.7232 1297.12 44.1387 Q1301.49 48.5136 1301.49 55.8863 Q1301.49 64.6767 1295.58 69.2137 Q1289.7 73.7508 1278.32 73.7508 Q1274.03 73.7508 1269.16 72.7785 Q1264.34 71.8063 1259.16 69.9024 L1259.16 61.4765 Q1264.14 64.2716 1268.92 65.6895 Q1273.7 67.1073 1278.32 67.1073 Q1285.33 67.1073 1289.14 64.3527 Q1292.94 61.598 1292.94 56.4939 Q1292.94 52.0379 1290.19 49.5264 Q1287.47 47.0148 1281.24 45.759 L1276.25 44.7868 Q1267.1 42.9639 1263.01 39.075 Q1258.92 35.1862 1258.92 28.2591 Q1258.92 20.2383 1264.55 15.6203 Q1270.22 11.0023 1280.14 11.0023 Q1284.4 11.0023 1288.81 11.7719 Q1293.23 12.5416 1297.84 14.0809 Z\" fill=\"#000000\" fill-rule=\"nonzero\" fill-opacity=\"1\" /><path clip-path=\"url(#clip130)\" d=\"M1313.93 27.2059 L1321.38 27.2059 L1321.38 72.576 L1313.93 72.576 L1313.93 27.2059 M1313.93 9.54393 L1321.38 9.54393 L1321.38 18.9825 L1313.93 18.9825 L1313.93 9.54393 Z\" fill=\"#000000\" fill-rule=\"nonzero\" fill-opacity=\"1\" /><path clip-path=\"url(#clip130)\" d=\"M1372.3 35.9153 Q1375.1 30.8922 1378.98 28.5022 Q1382.87 26.1121 1388.14 26.1121 Q1395.23 26.1121 1399.08 31.0947 Q1402.93 36.0368 1402.93 45.1919 L1402.93 72.576 L1395.43 72.576 L1395.43 45.4349 Q1395.43 38.913 1393.12 35.7533 Q1390.81 32.5936 1386.07 32.5936 Q1380.28 32.5936 1376.92 36.4419 Q1373.56 40.2903 1373.56 46.9338 L1373.56 72.576 L1366.06 72.576 L1366.06 45.4349 Q1366.06 38.8725 1363.75 35.7533 Q1361.44 32.5936 1356.62 32.5936 Q1350.91 32.5936 1347.55 36.4824 Q1344.19 40.3308 1344.19 46.9338 L1344.19 72.576 L1336.69 72.576 L1336.69 27.2059 L1344.19 27.2059 L1344.19 34.2544 Q1346.74 30.082 1350.3 28.0971 Q1353.87 26.1121 1358.77 26.1121 Q1363.71 26.1121 1367.16 28.6237 Q1370.64 31.1352 1372.3 35.9153 Z\" fill=\"#000000\" fill-rule=\"nonzero\" fill-opacity=\"1\" /><path clip-path=\"url(#clip130)\" d=\"M1417.02 54.671 L1417.02 27.2059 L1424.48 27.2059 L1424.48 54.3874 Q1424.48 60.8284 1426.99 64.0691 Q1429.5 67.2693 1434.52 67.2693 Q1440.56 67.2693 1444.04 63.421 Q1447.57 59.5726 1447.57 52.9291 L1447.57 27.2059 L1455.02 27.2059 L1455.02 72.576 L1447.57 72.576 L1447.57 65.6084 Q1444.85 69.7404 1441.25 71.7658 Q1437.68 73.7508 1432.94 73.7508 Q1425.12 73.7508 1421.07 68.8897 Q1417.02 64.0286 1417.02 54.671 M1435.78 26.1121 L1435.78 26.1121 Z\" fill=\"#000000\" fill-rule=\"nonzero\" fill-opacity=\"1\" /><path clip-path=\"url(#clip130)\" d=\"M1470.37 9.54393 L1477.83 9.54393 L1477.83 72.576 L1470.37 72.576 L1470.37 9.54393 Z\" fill=\"#000000\" fill-rule=\"nonzero\" fill-opacity=\"1\" /><path clip-path=\"url(#clip130)\" d=\"M1514.04 49.7694 Q1505.01 49.7694 1501.52 51.8354 Q1498.04 53.9013 1498.04 58.8839 Q1498.04 62.8538 1500.63 65.2034 Q1503.27 67.5124 1507.76 67.5124 Q1513.96 67.5124 1517.69 63.1374 Q1521.45 58.7219 1521.45 51.4303 L1521.45 49.7694 L1514.04 49.7694 M1528.91 46.6907 L1528.91 72.576 L1521.45 72.576 L1521.45 65.6895 Q1518.9 69.8214 1515.09 71.8063 Q1511.29 73.7508 1505.78 73.7508 Q1498.81 73.7508 1494.68 69.8619 Q1490.59 65.9325 1490.59 59.3701 Q1490.59 51.7138 1495.69 47.825 Q1500.84 43.9361 1511 43.9361 L1521.45 43.9361 L1521.45 43.2069 Q1521.45 38.0623 1518.05 35.2672 Q1514.69 32.4315 1508.57 32.4315 Q1504.68 32.4315 1501 33.3632 Q1497.31 34.295 1493.91 36.1584 L1493.91 29.2718 Q1498 27.692 1501.85 26.9223 Q1505.7 26.1121 1509.34 26.1121 Q1519.19 26.1121 1524.05 31.2163 Q1528.91 36.3204 1528.91 46.6907 Z\" fill=\"#000000\" fill-rule=\"nonzero\" fill-opacity=\"1\" /><path clip-path=\"url(#clip130)\" d=\"M1551.63 14.324 L1551.63 27.2059 L1566.99 27.2059 L1566.99 32.9987 L1551.63 32.9987 L1551.63 57.6282 Q1551.63 63.1779 1553.13 64.7578 Q1554.67 66.3376 1559.33 66.3376 L1566.99 66.3376 L1566.99 72.576 L1559.33 72.576 Q1550.7 72.576 1547.42 69.3758 Q1544.14 66.1351 1544.14 57.6282 L1544.14 32.9987 L1538.67 32.9987 L1538.67 27.2059 L1544.14 27.2059 L1544.14 14.324 L1551.63 14.324 Z\" fill=\"#000000\" fill-rule=\"nonzero\" fill-opacity=\"1\" /><path clip-path=\"url(#clip130)\" d=\"M1576.79 27.2059 L1584.24 27.2059 L1584.24 72.576 L1576.79 72.576 L1576.79 27.2059 M1576.79 9.54393 L1584.24 9.54393 L1584.24 18.9825 L1576.79 18.9825 L1576.79 9.54393 Z\" fill=\"#000000\" fill-rule=\"nonzero\" fill-opacity=\"1\" /><path clip-path=\"url(#clip130)\" d=\"M1617.42 32.4315 Q1611.43 32.4315 1607.94 37.1306 Q1604.46 41.7891 1604.46 49.9314 Q1604.46 58.0738 1607.9 62.7728 Q1611.38 67.4314 1617.42 67.4314 Q1623.38 67.4314 1626.86 62.7323 Q1630.34 58.0333 1630.34 49.9314 Q1630.34 41.8701 1626.86 37.1711 Q1623.38 32.4315 1617.42 32.4315 M1617.42 26.1121 Q1627.14 26.1121 1632.69 32.4315 Q1638.24 38.7509 1638.24 49.9314 Q1638.24 61.0714 1632.69 67.4314 Q1627.14 73.7508 1617.42 73.7508 Q1607.66 73.7508 1602.11 67.4314 Q1596.6 61.0714 1596.6 49.9314 Q1596.6 38.7509 1602.11 32.4315 Q1607.66 26.1121 1617.42 26.1121 Z\" fill=\"#000000\" fill-rule=\"nonzero\" fill-opacity=\"1\" /><path clip-path=\"url(#clip130)\" d=\"M1688.31 45.1919 L1688.31 72.576 L1680.86 72.576 L1680.86 45.4349 Q1680.86 38.994 1678.35 35.7938 Q1675.83 32.5936 1670.81 32.5936 Q1664.78 32.5936 1661.29 36.4419 Q1657.81 40.2903 1657.81 46.9338 L1657.81 72.576 L1650.31 72.576 L1650.31 27.2059 L1657.81 27.2059 L1657.81 34.2544 Q1660.48 30.163 1664.09 28.1376 Q1667.73 26.1121 1672.47 26.1121 Q1680.29 26.1121 1684.3 30.9732 Q1688.31 35.7938 1688.31 45.1919 Z\" fill=\"#000000\" fill-rule=\"nonzero\" fill-opacity=\"1\" /><polyline clip-path=\"url(#clip132)\" style=\"stroke:#009af9; stroke-linecap:round; stroke-linejoin:round; stroke-width:4; stroke-opacity:1; fill:none\" points=\"279.421,1386.4 299.551,1340.44 319.68,1294.91 339.81,1250.3 359.939,1206.96 380.069,1165.13 400.198,1124.95 420.328,1086.52 440.457,1049.88 460.586,1015.06 480.716,982.037 500.845,950.79 520.975,921.274 541.104,893.436 561.234,867.216 581.363,842.549 601.493,819.369 621.622,797.606 641.752,777.189 661.881,758.052 682.011,740.124 702.14,723.341 722.269,707.637 742.399,692.951 762.528,679.222 782.658,666.394 802.787,654.412 822.917,643.224 843.046,632.78 863.176,623.035 883.305,613.943 903.435,605.462 923.564,597.554 943.694,590.182 963.823,583.309 983.952,576.904 1004.08,570.936 1024.21,565.375 1044.34,560.195 1064.47,555.37 1084.6,550.876 1104.73,546.691 1124.86,542.794 1144.99,539.166 1165.12,535.788 1185.25,532.643 1205.38,529.716 1225.51,526.991 1245.64,524.455 1265.76,522.095 1285.89,519.898 1306.02,517.854 1326.15,515.952 1346.28,514.182 1366.41,512.535 1386.54,511.003 1406.67,509.577 1426.8,508.251 1446.93,507.017 1467.06,505.868 1487.19,504.8 1507.32,503.807 1527.45,502.882 1547.58,502.023 1567.71,501.223 1587.84,500.479 1607.97,499.787 1628.1,499.143 1648.22,498.544 1668.35,497.987 1688.48,497.469 1708.61,496.987 1728.74,496.539 1748.87,496.122 1769,495.734 1789.13,495.373 1809.26,495.038 1829.39,494.726 1849.52,494.436 1869.65,494.166 1889.78,493.915 1909.91,493.681 1930.04,493.464 1950.17,493.262 1970.3,493.074 1990.43,492.9 2010.56,492.737 2030.68,492.586 2050.81,492.446 2070.94,492.315 2091.07,492.193 2111.2,492.08 2131.33,491.975 2151.46,491.877 2171.59,491.787 2191.72,491.702 2211.85,491.623 2231.98,491.55 2252.11,491.482 2272.24,491.419 2292.37,491.36 \"/>\n",
              "<polyline clip-path=\"url(#clip132)\" style=\"stroke:#e26f46; stroke-linecap:round; stroke-linejoin:round; stroke-width:4; stroke-opacity:1; fill:none\" points=\"279.421,1182.04 299.551,1141.17 319.68,1102.01 339.81,1064.64 359.939,1029.08 380.069,995.32 400.198,963.353 420.328,933.135 440.457,904.617 460.586,877.744 480.716,852.45 500.845,828.671 520.975,806.336 541.104,785.378 561.234,765.726 581.363,747.312 601.493,730.068 621.622,713.931 641.752,698.836 661.881,684.723 682.011,671.533 702.14,659.212 722.269,647.705 742.399,636.963 762.528,626.937 782.658,617.583 802.787,608.858 822.917,600.721 843.046,593.133 863.176,586.061 883.305,579.468 903.435,573.325 923.564,567.601 943.694,562.268 963.823,557.301 983.952,552.675 1004.08,548.366 1024.21,544.354 1044.34,540.618 1064.47,537.139 1084.6,533.901 1104.73,530.887 1124.86,528.081 1144.99,525.47 1165.12,523.039 1185.25,520.777 1205.38,518.672 1225.51,516.713 1245.64,514.89 1265.76,513.194 1285.89,511.616 1306.02,510.148 1326.15,508.781 1346.28,507.51 1366.41,506.328 1386.54,505.228 1406.67,504.204 1426.8,503.252 1446.93,502.367 1467.06,501.543 1487.19,500.776 1507.32,500.063 1527.45,499.4 1547.58,498.784 1567.71,498.21 1587.84,497.676 1607.97,497.18 1628.1,496.718 1648.22,496.289 1668.35,495.889 1688.48,495.518 1708.61,495.172 1728.74,494.851 1748.87,494.552 1769,494.274 1789.13,494.015 1809.26,493.775 1829.39,493.551 1849.52,493.343 1869.65,493.15 1889.78,492.97 1909.91,492.802 1930.04,492.647 1950.17,492.502 1970.3,492.367 1990.43,492.242 2010.56,492.126 2030.68,492.017 2050.81,491.917 2070.94,491.823 2091.07,491.736 2111.2,491.655 2131.33,491.579 2151.46,491.509 2171.59,491.444 2191.72,491.384 2211.85,491.327 2231.98,491.275 2252.11,491.226 2272.24,491.181 2292.37,491.138 \"/>\n",
              "<polyline clip-path=\"url(#clip132)\" style=\"stroke:#3da44d; stroke-linecap:round; stroke-linejoin:round; stroke-width:4; stroke-opacity:1; fill:none\" points=\"279.421,977.683 299.551,946.674 319.68,917.389 339.81,889.775 359.939,863.77 380.069,839.31 400.198,816.327 420.328,794.75 440.457,774.512 460.586,755.543 480.716,737.775 500.845,721.142 520.975,705.581 541.104,691.028 561.234,677.425 581.363,664.715 601.493,652.844 621.622,641.76 641.752,631.414 661.881,621.76 682.011,612.754 702.14,604.354 722.269,596.521 742.399,589.218 762.528,582.411 782.658,576.067 802.787,570.156 822.917,564.649 843.046,559.518 863.176,554.739 883.305,550.289 903.435,546.144 923.564,542.285 943.694,538.692 963.823,535.346 983.952,532.232 1004.08,529.333 1024.21,526.635 1044.34,524.124 1064.47,521.786 1084.6,519.611 1104.73,517.587 1124.86,515.704 1144.99,513.951 1165.12,512.32 1185.25,510.803 1205.38,509.391 1225.51,508.077 1245.64,506.855 1265.76,505.719 1285.89,504.661 1306.02,503.677 1326.15,502.762 1346.28,501.91 1366.41,501.118 1386.54,500.382 1406.67,499.696 1426.8,499.059 1446.93,498.466 1467.06,497.914 1487.19,497.401 1507.32,496.924 1527.45,496.48 1547.58,496.067 1567.71,495.683 1587.84,495.326 1607.97,494.994 1628.1,494.685 1648.22,494.398 1668.35,494.131 1688.48,493.882 1708.61,493.651 1728.74,493.436 1748.87,493.236 1769,493.05 1789.13,492.877 1809.26,492.716 1829.39,492.566 1849.52,492.427 1869.65,492.298 1889.78,492.178 1909.91,492.066 1930.04,491.962 1950.17,491.865 1970.3,491.775 1990.43,491.691 2010.56,491.613 2030.68,491.541 2050.81,491.473 2070.94,491.411 2091.07,491.352 2111.2,491.298 2131.33,491.248 2151.46,491.201 2171.59,491.157 2191.72,491.117 2211.85,491.079 2231.98,491.044 2252.11,491.011 2272.24,490.981 2292.37,490.953 \"/>\n",
              "<polyline clip-path=\"url(#clip132)\" style=\"stroke:#c271d2; stroke-linecap:round; stroke-linejoin:round; stroke-width:4; stroke-opacity:1; fill:none\" points=\"279.421,773.326 299.551,754.432 319.68,736.734 339.81,720.168 359.939,704.67 380.069,690.176 400.198,676.629 420.328,663.972 440.457,652.15 460.586,641.112 480.716,630.809 500.845,621.196 520.975,612.227 541.104,603.863 561.234,596.063 581.363,588.791 601.493,582.013 621.622,575.697 641.752,569.811 661.881,564.327 682.011,559.219 702.14,554.46 722.269,550.029 742.399,545.902 762.528,542.059 782.658,538.482 802.787,535.151 822.917,532.05 843.046,529.164 863.176,526.477 883.305,523.977 903.435,521.65 923.564,519.484 943.694,517.469 963.823,515.594 983.952,513.849 1004.08,512.225 1024.21,510.714 1044.34,509.309 1064.47,508.001 1084.6,506.784 1104.73,505.652 1124.86,504.599 1144.99,503.62 1165.12,502.708 1185.25,501.861 1205.38,501.072 1225.51,500.339 1245.64,499.656 1265.76,499.022 1285.89,498.431 1306.02,497.882 1326.15,497.371 1346.28,496.896 1366.41,496.454 1386.54,496.043 1406.67,495.661 1426.8,495.305 1446.93,494.975 1467.06,494.667 1487.19,494.381 1507.32,494.115 1527.45,493.868 1547.58,493.637 1567.71,493.423 1587.84,493.224 1607.97,493.039 1628.1,492.867 1648.22,492.707 1668.35,492.558 1688.48,492.419 1708.61,492.29 1728.74,492.171 1748.87,492.059 1769,491.955 1789.13,491.859 1809.26,491.769 1829.39,491.686 1849.52,491.608 1869.65,491.536 1889.78,491.469 1909.91,491.407 1930.04,491.349 1950.17,491.295 1970.3,491.245 1990.43,491.198 2010.56,491.155 2030.68,491.114 2050.81,491.077 2070.94,491.042 2091.07,491.009 2111.2,490.979 2131.33,490.951 2151.46,490.925 2171.59,490.901 2191.72,490.878 2211.85,490.857 2231.98,490.838 2252.11,490.819 2272.24,490.803 2292.37,490.787 \"/>\n",
              "<polyline clip-path=\"url(#clip132)\" style=\"stroke:#ac8d18; stroke-linecap:round; stroke-linejoin:round; stroke-width:4; stroke-opacity:1; fill:none\" points=\"279.421,568.969 299.551,563.543 319.68,558.488 339.81,553.78 359.939,549.396 380.069,545.312 400.198,541.51 420.328,537.971 440.457,534.675 460.586,531.607 480.716,528.752 500.845,526.094 520.975,523.62 541.104,521.318 561.234,519.175 581.363,517.181 601.493,515.326 621.622,513.599 641.752,511.993 661.881,510.498 682.011,509.108 702.14,507.814 722.269,506.61 742.399,505.491 762.528,504.449 782.658,503.48 802.787,502.578 822.917,501.74 843.046,500.959 863.176,500.234 883.305,499.559 903.435,498.931 923.564,498.347 943.694,497.804 963.823,497.298 983.952,496.828 1004.08,496.391 1024.21,495.985 1044.34,495.606 1064.47,495.255 1084.6,494.928 1104.73,494.623 1124.86,494.34 1144.99,494.077 1165.12,493.832 1185.25,493.605 1205.38,493.393 1225.51,493.196 1245.64,493.013 1265.76,492.842 1285.89,492.684 1306.02,492.536 1326.15,492.399 1346.28,492.272 1366.41,492.153 1386.54,492.043 1406.67,491.941 1426.8,491.845 1446.93,491.757 1467.06,491.674 1487.19,491.597 1507.32,491.526 1527.45,491.46 1547.58,491.398 1567.71,491.341 1587.84,491.287 1607.97,491.238 1628.1,491.191 1648.22,491.149 1668.35,491.109 1688.48,491.071 1708.61,491.037 1728.74,491.005 1748.87,490.975 1769,490.947 1789.13,490.921 1809.26,490.897 1829.39,490.875 1849.52,490.854 1869.65,490.835 1889.78,490.817 1909.91,490.8 1930.04,490.785 1950.17,490.77 1970.3,490.757 1990.43,490.744 2010.56,490.733 2030.68,490.722 2050.81,490.712 2070.94,490.702 2091.07,490.694 2111.2,490.686 2131.33,490.678 2151.46,490.671 2171.59,490.665 2191.72,490.658 2211.85,490.653 2231.98,490.648 2252.11,490.643 2272.24,490.638 2292.37,490.634 \"/>\n",
              "<polyline clip-path=\"url(#clip132)\" style=\"stroke:#00a9ad; stroke-linecap:round; stroke-linejoin:round; stroke-width:4; stroke-opacity:1; fill:none\" points=\"279.421,364.613 299.551,373.573 319.68,381.886 339.81,389.602 359.939,396.763 380.069,403.41 400.198,409.581 420.328,415.311 440.457,420.632 460.586,425.573 480.716,430.162 500.845,434.425 520.975,438.385 541.104,442.064 561.234,445.482 581.363,448.658 601.493,451.609 621.622,454.351 641.752,456.899 661.881,459.267 682.011,461.468 702.14,463.514 722.269,465.415 742.399,467.182 762.528,468.825 782.658,470.352 802.787,471.772 822.917,473.092 843.046,474.319 863.176,475.459 883.305,476.52 903.435,477.506 923.564,478.423 943.694,479.275 963.823,480.067 983.952,480.804 1004.08,481.489 1024.21,482.126 1044.34,482.718 1064.47,483.269 1084.6,483.781 1104.73,484.258 1124.86,484.7 1144.99,485.112 1165.12,485.495 1185.25,485.851 1205.38,486.182 1225.51,486.49 1245.64,486.776 1265.76,487.043 1285.89,487.29 1306.02,487.521 1326.15,487.735 1346.28,487.934 1366.41,488.119 1386.54,488.291 1406.67,488.451 1426.8,488.6 1446.93,488.739 1467.06,488.867 1487.19,488.987 1507.32,489.099 1527.45,489.202 1547.58,489.299 1567.71,489.388 1587.84,489.471 1607.97,489.549 1628.1,489.621 1648.22,489.688 1668.35,489.75 1688.48,489.808 1708.61,489.862 1728.74,489.912 1748.87,489.959 1769,490.002 1789.13,490.043 1809.26,490.08 1829.39,490.115 1849.52,490.147 1869.65,490.177 1889.78,490.206 1909.91,490.232 1930.04,490.256 1950.17,490.278 1970.3,490.299 1990.43,490.319 2010.56,490.337 2030.68,490.354 2050.81,490.37 2070.94,490.384 2091.07,490.398 2111.2,490.41 2131.33,490.422 2151.46,490.433 2171.59,490.443 2191.72,490.453 2211.85,490.461 2231.98,490.47 2252.11,490.477 2272.24,490.484 2292.37,490.491 \"/>\n",
              "<polyline clip-path=\"url(#clip132)\" style=\"stroke:#ed5d92; stroke-linecap:round; stroke-linejoin:round; stroke-width:4; stroke-opacity:1; fill:none\" points=\"279.421,160.256 299.551,184.272 319.68,206.49 339.81,227.05 359.939,246.082 380.069,263.705 400.198,280.027 420.328,295.148 440.457,309.16 460.586,322.147 480.716,334.186 500.845,345.35 520.975,355.703 541.104,365.307 561.234,374.217 581.363,382.484 601.493,390.156 621.622,397.278 641.752,403.888 661.881,410.025 682.011,415.723 702.14,421.014 722.269,425.928 742.399,430.493 762.528,434.732 782.658,438.67 802.787,442.329 822.917,445.728 843.046,448.886 863.176,451.821 883.305,454.548 903.435,457.082 923.564,459.437 943.694,461.626 963.823,463.661 983.952,465.552 1004.08,467.31 1024.21,468.944 1044.34,470.462 1064.47,471.874 1084.6,473.187 1104.73,474.407 1124.86,475.542 1144.99,476.596 1165.12,477.577 1185.25,478.489 1205.38,479.336 1225.51,480.124 1245.64,480.857 1265.76,481.538 1285.89,482.172 1306.02,482.761 1326.15,483.309 1346.28,483.818 1366.41,484.292 1386.54,484.732 1406.67,485.142 1426.8,485.523 1446.93,485.877 1467.06,486.206 1487.19,486.512 1507.32,486.797 1527.45,487.062 1547.58,487.308 1567.71,487.537 1587.84,487.75 1607.97,487.948 1628.1,488.132 1648.22,488.304 1668.35,488.463 1688.48,488.611 1708.61,488.749 1728.74,488.877 1748.87,488.996 1769,489.107 1789.13,489.21 1809.26,489.305 1829.39,489.395 1849.52,489.477 1869.65,489.554 1889.78,489.626 1909.91,489.693 1930.04,489.755 1950.17,489.812 1970.3,489.866 1990.43,489.916 2010.56,489.962 2030.68,490.005 2050.81,490.045 2070.94,490.083 2091.07,490.117 2111.2,490.15 2131.33,490.18 2151.46,490.208 2171.59,490.233 2191.72,490.258 2211.85,490.28 2231.98,490.301 2252.11,490.32 2272.24,490.338 2292.37,490.355 \"/>\n",
              "<path clip-path=\"url(#clip130)\" d=\"M1898.28 581.516 L2281.63 581.516 L2281.63 166.796 L1898.28 166.796  Z\" fill=\"#ffffff\" fill-rule=\"evenodd\" fill-opacity=\"1\"/>\n",
              "<polyline clip-path=\"url(#clip130)\" style=\"stroke:#000000; stroke-linecap:round; stroke-linejoin:round; stroke-width:4; stroke-opacity:1; fill:none\" points=\"1898.28,581.516 2281.63,581.516 2281.63,166.796 1898.28,166.796 1898.28,581.516 \"/>\n",
              "<polyline clip-path=\"url(#clip130)\" style=\"stroke:#009af9; stroke-linecap:round; stroke-linejoin:round; stroke-width:4; stroke-opacity:1; fill:none\" points=\"1921.99,218.636 2064.23,218.636 \"/>\n",
              "<path clip-path=\"url(#clip130)\" d=\"M2109.65 209.66 Q2109.65 210.995 2108.83 211.791 Q2108.04 212.588 2107.03 212.588 Q2106.14 212.588 2105.67 212.072 Q2105.2 211.557 2105.2 210.901 Q2105.2 210.62 2105.32 210.269 Q2105.44 209.894 2105.7 209.449 Q2105.98 209.004 2106.56 208.676 Q2107.15 208.348 2107.94 208.301 Q2107.78 208.137 2107.73 208.114 Q2107.38 207.833 2106.73 207.739 Q2106.63 207.692 2106.3 207.692 Q2104.69 207.692 2103.05 208.887 Q2101.43 210.058 2099.44 212.283 Q2096.94 214.883 2095.32 215.843 Q2102.42 216.78 2102.42 220.879 Q2102.42 221.559 2102.23 222.378 Q2101.85 223.924 2101.85 225.048 Q2101.85 227.297 2103.38 227.297 Q2104.85 227.297 2105.79 225.798 Q2106.75 224.299 2107.55 221.371 Q2107.66 220.832 2107.78 220.668 Q2107.9 220.504 2108.23 220.504 Q2108.81 220.504 2108.81 220.973 Q2108.27 223.713 2107.08 225.821 Q2105.55 228.374 2103.28 228.374 Q2101.39 228.374 2100.12 227.063 Q2098.88 225.728 2098.88 223.62 Q2098.88 223.104 2099.07 221.933 Q2099.21 221.465 2099.21 220.926 Q2099.21 219.825 2098.6 219.005 Q2097.99 218.162 2097.01 217.741 Q2096.02 217.319 2095.2 217.132 Q2094.41 216.921 2093.63 216.851 Q2091.29 226.758 2090.96 227.367 Q2090.75 227.789 2090.28 228.07 Q2089.82 228.374 2089.32 228.374 Q2088.85 228.374 2088.39 228.047 Q2087.94 227.742 2087.94 227.016 Q2087.94 226.641 2088.13 225.962 L2095.09 198.323 L2095.23 197.387 Q2095.23 197.105 2095.11 196.965 Q2095.01 196.801 2094.45 196.684 Q2093.91 196.567 2092.84 196.567 Q2092.39 196.567 2092.18 196.543 Q2091.99 196.52 2091.83 196.403 Q2091.67 196.262 2091.67 195.981 Q2091.67 195.583 2091.83 195.372 Q2092.02 195.138 2092.16 195.091 Q2092.3 195.044 2092.58 195.021 Q2092.98 194.997 2094.31 194.88 Q2095.65 194.74 2096.79 194.646 Q2097.94 194.552 2098.43 194.552 Q2098.72 194.552 2098.86 194.693 Q2099.02 194.81 2099.04 194.951 L2099.07 195.068 L2094.08 215.305 Q2096.14 214.485 2099.39 210.854 Q2103.17 206.638 2106.4 206.638 Q2107.92 206.638 2108.79 207.575 Q2109.65 208.489 2109.65 209.66 Z\" fill=\"#000000\" fill-rule=\"nonzero\" fill-opacity=\"1\" /><path clip-path=\"url(#clip130)\" d=\"M2114.56 230.917 Q2114.56 225.982 2115.81 223.293 Q2117.55 219.292 2121.64 219.292 Q2122.51 219.292 2123.41 219.538 Q2124.33 219.768 2125.48 220.67 Q2126.64 221.571 2127.35 223.047 Q2128.69 225.9 2128.69 230.917 Q2128.69 235.819 2127.45 238.492 Q2125.63 242.394 2121.61 242.394 Q2120.1 242.394 2118.56 241.623 Q2117.04 240.853 2116.07 239 Q2114.56 236.229 2114.56 230.917 M2117.35 230.507 Q2117.35 235.573 2117.71 237.59 Q2118.12 239.771 2119.23 240.721 Q2120.37 241.656 2121.61 241.656 Q2122.96 241.656 2124.07 240.656 Q2125.2 239.639 2125.55 237.459 Q2125.92 235.311 2125.91 230.507 Q2125.91 225.834 2125.58 223.965 Q2125.14 221.784 2123.96 220.915 Q2122.79 220.03 2121.61 220.03 Q2121.17 220.03 2120.69 220.161 Q2120.23 220.292 2119.56 220.67 Q2118.89 221.047 2118.37 221.981 Q2117.86 222.916 2117.61 224.326 Q2117.35 226.146 2117.35 230.507 Z\" fill=\"#000000\" fill-rule=\"nonzero\" fill-opacity=\"1\" /><path clip-path=\"url(#clip130)\" d=\"M2146.98 220.551 Q2147.02 219.966 2147.94 219.966 L2177.33 219.966 Q2178.71 219.966 2178.74 220.504 Q2178.74 221.09 2177.42 221.067 L2148.26 221.067 Q2146.98 221.09 2146.98 220.551 M2146.98 211.182 Q2146.98 210.597 2147.98 210.62 L2177.28 210.62 Q2178.71 210.62 2178.74 211.182 Q2178.74 211.721 2177.52 211.721 L2147.94 211.721 Q2146.98 211.721 2146.98 211.182 Z\" fill=\"#000000\" fill-rule=\"nonzero\" fill-opacity=\"1\" /><path clip-path=\"url(#clip130)\" d=\"M2197.23 212.494 Q2197.23 205.444 2199.01 201.603 Q2201.49 195.888 2207.35 195.888 Q2208.59 195.888 2209.87 196.239 Q2211.19 196.567 2212.83 197.855 Q2214.49 199.143 2215.5 201.251 Q2217.42 205.327 2217.42 212.494 Q2217.42 219.497 2215.64 223.315 Q2213.04 228.89 2207.3 228.89 Q2205.14 228.89 2202.94 227.789 Q2200.76 226.688 2199.38 224.041 Q2197.23 220.083 2197.23 212.494 M2201.21 211.908 Q2201.21 219.146 2201.72 222.027 Q2202.31 225.142 2203.9 226.501 Q2205.52 227.836 2207.3 227.836 Q2209.22 227.836 2210.81 226.407 Q2212.43 224.955 2212.92 221.84 Q2213.46 218.771 2213.44 211.908 Q2213.44 205.233 2212.97 202.563 Q2212.33 199.448 2210.65 198.206 Q2208.98 196.942 2207.3 196.942 Q2206.67 196.942 2205.99 197.129 Q2205.33 197.316 2204.37 197.855 Q2203.41 198.394 2202.66 199.729 Q2201.93 201.064 2201.58 203.078 Q2201.21 205.678 2201.21 211.908 Z\" fill=\"#000000\" fill-rule=\"nonzero\" fill-opacity=\"1\" /><path clip-path=\"url(#clip130)\" d=\"M2221.7 227.063 Q2220.98 226.29 2220.98 225.283 Q2220.98 224.276 2221.7 223.549 Q2222.43 222.8 2223.53 222.8 Q2224.58 222.8 2225.29 223.503 Q2226.01 224.182 2226.01 225.306 Q2226.01 226.407 2225.24 227.133 Q2224.49 227.836 2223.53 227.836 Q2222.43 227.836 2221.7 227.063 Z\" fill=\"#000000\" fill-rule=\"nonzero\" fill-opacity=\"1\" /><path clip-path=\"url(#clip130)\" d=\"M2234.17 220.106 Q2234.17 218.678 2234.95 218.139 Q2235.72 217.577 2236.54 217.577 Q2237.64 217.577 2238.27 218.279 Q2238.93 218.959 2238.93 219.919 Q2238.93 220.879 2238.27 221.582 Q2237.64 222.261 2236.54 222.261 Q2236 222.261 2235.72 222.167 Q2236.35 224.369 2238.27 225.962 Q2240.22 227.555 2242.77 227.555 Q2245.98 227.555 2247.9 224.439 Q2249.05 222.425 2249.05 217.858 Q2249.05 213.829 2248.18 211.815 Q2246.85 208.746 2244.1 208.746 Q2240.22 208.746 2237.92 212.096 Q2237.64 212.517 2237.31 212.541 Q2236.84 212.541 2236.73 212.283 Q2236.63 212.002 2236.63 211.276 L2236.63 197.082 Q2236.63 195.934 2237.1 195.934 Q2237.29 195.934 2237.69 196.075 Q2240.71 197.41 2244.06 197.433 Q2247.5 197.433 2250.59 196.028 Q2250.83 195.888 2250.97 195.888 Q2251.44 195.888 2251.46 196.426 Q2251.46 196.614 2251.06 197.176 Q2250.69 197.714 2249.87 198.441 Q2249.05 199.143 2247.99 199.822 Q2246.94 200.502 2245.39 200.97 Q2243.87 201.415 2242.18 201.415 Q2240.17 201.415 2238.11 200.783 L2238.11 210.128 Q2240.59 207.692 2244.2 207.692 Q2248.04 207.692 2250.69 210.784 Q2253.33 213.876 2253.33 218.186 Q2253.33 222.706 2250.19 225.798 Q2247.08 228.89 2242.86 228.89 Q2239.02 228.89 2236.59 226.149 Q2234.17 223.409 2234.17 220.106 Z\" fill=\"#000000\" fill-rule=\"nonzero\" fill-opacity=\"1\" /><polyline clip-path=\"url(#clip130)\" style=\"stroke:#e26f46; stroke-linecap:round; stroke-linejoin:round; stroke-width:4; stroke-opacity:1; fill:none\" points=\"1921.99,270.476 2064.23,270.476 \"/>\n",
              "<path clip-path=\"url(#clip130)\" d=\"M2109.65 261.5 Q2109.65 262.835 2108.83 263.631 Q2108.04 264.428 2107.03 264.428 Q2106.14 264.428 2105.67 263.912 Q2105.2 263.397 2105.2 262.741 Q2105.2 262.46 2105.32 262.109 Q2105.44 261.734 2105.7 261.289 Q2105.98 260.844 2106.56 260.516 Q2107.15 260.188 2107.94 260.141 Q2107.78 259.977 2107.73 259.954 Q2107.38 259.673 2106.73 259.579 Q2106.63 259.532 2106.3 259.532 Q2104.69 259.532 2103.05 260.727 Q2101.43 261.898 2099.44 264.123 Q2096.94 266.723 2095.32 267.683 Q2102.42 268.62 2102.42 272.719 Q2102.42 273.399 2102.23 274.218 Q2101.85 275.764 2101.85 276.888 Q2101.85 279.137 2103.38 279.137 Q2104.85 279.137 2105.79 277.638 Q2106.75 276.139 2107.55 273.211 Q2107.66 272.672 2107.78 272.508 Q2107.9 272.344 2108.23 272.344 Q2108.81 272.344 2108.81 272.813 Q2108.27 275.553 2107.08 277.661 Q2105.55 280.214 2103.28 280.214 Q2101.39 280.214 2100.12 278.903 Q2098.88 277.568 2098.88 275.46 Q2098.88 274.944 2099.07 273.773 Q2099.21 273.305 2099.21 272.766 Q2099.21 271.665 2098.6 270.845 Q2097.99 270.002 2097.01 269.581 Q2096.02 269.159 2095.2 268.972 Q2094.41 268.761 2093.63 268.691 Q2091.29 278.598 2090.96 279.207 Q2090.75 279.629 2090.28 279.91 Q2089.82 280.214 2089.32 280.214 Q2088.85 280.214 2088.39 279.887 Q2087.94 279.582 2087.94 278.856 Q2087.94 278.481 2088.13 277.802 L2095.09 250.163 L2095.23 249.227 Q2095.23 248.945 2095.11 248.805 Q2095.01 248.641 2094.45 248.524 Q2093.91 248.407 2092.84 248.407 Q2092.39 248.407 2092.18 248.383 Q2091.99 248.36 2091.83 248.243 Q2091.67 248.102 2091.67 247.821 Q2091.67 247.423 2091.83 247.212 Q2092.02 246.978 2092.16 246.931 Q2092.3 246.884 2092.58 246.861 Q2092.98 246.837 2094.31 246.72 Q2095.65 246.58 2096.79 246.486 Q2097.94 246.392 2098.43 246.392 Q2098.72 246.392 2098.86 246.533 Q2099.02 246.65 2099.04 246.791 L2099.07 246.908 L2094.08 267.145 Q2096.14 266.325 2099.39 262.694 Q2103.17 258.478 2106.4 258.478 Q2107.92 258.478 2108.79 259.415 Q2109.65 260.329 2109.65 261.5 Z\" fill=\"#000000\" fill-rule=\"nonzero\" fill-opacity=\"1\" /><path clip-path=\"url(#clip130)\" d=\"M2114.56 282.757 Q2114.56 277.822 2115.81 275.133 Q2117.55 271.132 2121.64 271.132 Q2122.51 271.132 2123.41 271.378 Q2124.33 271.608 2125.48 272.51 Q2126.64 273.411 2127.35 274.887 Q2128.69 277.74 2128.69 282.757 Q2128.69 287.659 2127.45 290.332 Q2125.63 294.234 2121.61 294.234 Q2120.1 294.234 2118.56 293.463 Q2117.04 292.693 2116.07 290.84 Q2114.56 288.069 2114.56 282.757 M2117.35 282.347 Q2117.35 287.413 2117.71 289.43 Q2118.12 291.611 2119.23 292.561 Q2120.37 293.496 2121.61 293.496 Q2122.96 293.496 2124.07 292.496 Q2125.2 291.479 2125.55 289.299 Q2125.92 287.151 2125.91 282.347 Q2125.91 277.674 2125.58 275.805 Q2125.14 273.624 2123.96 272.755 Q2122.79 271.87 2121.61 271.87 Q2121.17 271.87 2120.69 272.001 Q2120.23 272.132 2119.56 272.51 Q2118.89 272.887 2118.37 273.821 Q2117.86 274.756 2117.61 276.166 Q2117.35 277.986 2117.35 282.347 Z\" fill=\"#000000\" fill-rule=\"nonzero\" fill-opacity=\"1\" /><path clip-path=\"url(#clip130)\" d=\"M2146.98 272.391 Q2147.02 271.806 2147.94 271.806 L2177.33 271.806 Q2178.71 271.806 2178.74 272.344 Q2178.74 272.93 2177.42 272.907 L2148.26 272.907 Q2146.98 272.93 2146.98 272.391 M2146.98 263.022 Q2146.98 262.437 2147.98 262.46 L2177.28 262.46 Q2178.71 262.46 2178.74 263.022 Q2178.74 263.561 2177.52 263.561 L2147.94 263.561 Q2146.98 263.561 2146.98 263.022 Z\" fill=\"#000000\" fill-rule=\"nonzero\" fill-opacity=\"1\" /><path clip-path=\"url(#clip130)\" d=\"M2197.23 252.295 L2197.23 250.796 Q2202.99 250.796 2205.96 247.728 Q2206.78 247.728 2206.92 247.915 Q2207.06 248.102 2207.06 248.969 L2207.06 275.881 Q2207.06 277.31 2207.77 277.755 Q2208.47 278.2 2211.54 278.2 L2213.06 278.2 L2213.06 279.676 Q2211.37 279.535 2205.28 279.535 Q2199.19 279.535 2197.53 279.676 L2197.53 278.2 L2199.05 278.2 Q2202.08 278.2 2202.8 277.778 Q2203.53 277.333 2203.53 275.881 L2203.53 251.03 Q2201.02 252.295 2197.23 252.295 Z\" fill=\"#000000\" fill-rule=\"nonzero\" fill-opacity=\"1\" /><path clip-path=\"url(#clip130)\" d=\"M2216.83 278.903 Q2216.1 278.13 2216.1 277.123 Q2216.1 276.116 2216.83 275.389 Q2217.55 274.64 2218.65 274.64 Q2219.71 274.64 2220.41 275.343 Q2221.14 276.022 2221.14 277.146 Q2221.14 278.247 2220.36 278.973 Q2219.62 279.676 2218.65 279.676 Q2217.55 279.676 2216.83 278.903 Z\" fill=\"#000000\" fill-rule=\"nonzero\" fill-opacity=\"1\" /><path clip-path=\"url(#clip130)\" d=\"M2229.3 264.334 Q2229.3 257.284 2231.08 253.443 Q2233.56 247.728 2239.42 247.728 Q2240.66 247.728 2241.95 248.079 Q2243.26 248.407 2244.9 249.695 Q2246.56 250.983 2247.57 253.091 Q2249.49 257.167 2249.49 264.334 Q2249.49 271.337 2247.71 275.155 Q2245.11 280.73 2239.37 280.73 Q2237.22 280.73 2235.01 279.629 Q2232.84 278.528 2231.45 275.881 Q2229.3 271.923 2229.3 264.334 M2233.28 263.748 Q2233.28 270.986 2233.8 273.867 Q2234.38 276.982 2235.97 278.341 Q2237.59 279.676 2239.37 279.676 Q2241.29 279.676 2242.88 278.247 Q2244.5 276.795 2244.99 273.68 Q2245.53 270.611 2245.51 263.748 Q2245.51 257.073 2245.04 254.403 Q2244.41 251.288 2242.72 250.046 Q2241.06 248.782 2239.37 248.782 Q2238.74 248.782 2238.06 248.969 Q2237.4 249.156 2236.44 249.695 Q2235.48 250.234 2234.73 251.569 Q2234.01 252.904 2233.66 254.918 Q2233.28 257.518 2233.28 263.748 Z\" fill=\"#000000\" fill-rule=\"nonzero\" fill-opacity=\"1\" /><polyline clip-path=\"url(#clip130)\" style=\"stroke:#3da44d; stroke-linecap:round; stroke-linejoin:round; stroke-width:4; stroke-opacity:1; fill:none\" points=\"1921.99,322.316 2064.23,322.316 \"/>\n",
              "<path clip-path=\"url(#clip130)\" d=\"M2109.65 313.34 Q2109.65 314.675 2108.83 315.471 Q2108.04 316.268 2107.03 316.268 Q2106.14 316.268 2105.67 315.752 Q2105.2 315.237 2105.2 314.581 Q2105.2 314.3 2105.32 313.949 Q2105.44 313.574 2105.7 313.129 Q2105.98 312.684 2106.56 312.356 Q2107.15 312.028 2107.94 311.981 Q2107.78 311.817 2107.73 311.794 Q2107.38 311.513 2106.73 311.419 Q2106.63 311.372 2106.3 311.372 Q2104.69 311.372 2103.05 312.567 Q2101.43 313.738 2099.44 315.963 Q2096.94 318.563 2095.32 319.523 Q2102.42 320.46 2102.42 324.559 Q2102.42 325.239 2102.23 326.058 Q2101.85 327.604 2101.85 328.728 Q2101.85 330.977 2103.38 330.977 Q2104.85 330.977 2105.79 329.478 Q2106.75 327.979 2107.55 325.051 Q2107.66 324.512 2107.78 324.348 Q2107.9 324.184 2108.23 324.184 Q2108.81 324.184 2108.81 324.653 Q2108.27 327.393 2107.08 329.501 Q2105.55 332.054 2103.28 332.054 Q2101.39 332.054 2100.12 330.743 Q2098.88 329.408 2098.88 327.3 Q2098.88 326.784 2099.07 325.613 Q2099.21 325.145 2099.21 324.606 Q2099.21 323.505 2098.6 322.685 Q2097.99 321.842 2097.01 321.421 Q2096.02 320.999 2095.2 320.812 Q2094.41 320.601 2093.63 320.531 Q2091.29 330.438 2090.96 331.047 Q2090.75 331.469 2090.28 331.75 Q2089.82 332.054 2089.32 332.054 Q2088.85 332.054 2088.39 331.727 Q2087.94 331.422 2087.94 330.696 Q2087.94 330.321 2088.13 329.642 L2095.09 302.003 L2095.23 301.067 Q2095.23 300.785 2095.11 300.645 Q2095.01 300.481 2094.45 300.364 Q2093.91 300.247 2092.84 300.247 Q2092.39 300.247 2092.18 300.223 Q2091.99 300.2 2091.83 300.083 Q2091.67 299.942 2091.67 299.661 Q2091.67 299.263 2091.83 299.052 Q2092.02 298.818 2092.16 298.771 Q2092.3 298.724 2092.58 298.701 Q2092.98 298.677 2094.31 298.56 Q2095.65 298.42 2096.79 298.326 Q2097.94 298.232 2098.43 298.232 Q2098.72 298.232 2098.86 298.373 Q2099.02 298.49 2099.04 298.631 L2099.07 298.748 L2094.08 318.985 Q2096.14 318.165 2099.39 314.534 Q2103.17 310.318 2106.4 310.318 Q2107.92 310.318 2108.79 311.255 Q2109.65 312.169 2109.65 313.34 Z\" fill=\"#000000\" fill-rule=\"nonzero\" fill-opacity=\"1\" /><path clip-path=\"url(#clip130)\" d=\"M2114.56 334.597 Q2114.56 329.662 2115.81 326.973 Q2117.55 322.972 2121.64 322.972 Q2122.51 322.972 2123.41 323.218 Q2124.33 323.448 2125.48 324.35 Q2126.64 325.251 2127.35 326.727 Q2128.69 329.58 2128.69 334.597 Q2128.69 339.499 2127.45 342.172 Q2125.63 346.074 2121.61 346.074 Q2120.1 346.074 2118.56 345.303 Q2117.04 344.533 2116.07 342.68 Q2114.56 339.909 2114.56 334.597 M2117.35 334.187 Q2117.35 339.253 2117.71 341.27 Q2118.12 343.451 2119.23 344.401 Q2120.37 345.336 2121.61 345.336 Q2122.96 345.336 2124.07 344.336 Q2125.2 343.319 2125.55 341.139 Q2125.92 338.991 2125.91 334.187 Q2125.91 329.514 2125.58 327.645 Q2125.14 325.464 2123.96 324.595 Q2122.79 323.71 2121.61 323.71 Q2121.17 323.71 2120.69 323.841 Q2120.23 323.972 2119.56 324.35 Q2118.89 324.727 2118.37 325.661 Q2117.86 326.596 2117.61 328.006 Q2117.35 329.826 2117.35 334.187 Z\" fill=\"#000000\" fill-rule=\"nonzero\" fill-opacity=\"1\" /><path clip-path=\"url(#clip130)\" d=\"M2146.98 324.231 Q2147.02 323.646 2147.94 323.646 L2177.33 323.646 Q2178.71 323.646 2178.74 324.184 Q2178.74 324.77 2177.42 324.747 L2148.26 324.747 Q2146.98 324.77 2146.98 324.231 M2146.98 314.862 Q2146.98 314.277 2147.98 314.3 L2177.28 314.3 Q2178.71 314.3 2178.74 314.862 Q2178.74 315.401 2177.52 315.401 L2147.94 315.401 Q2146.98 315.401 2146.98 314.862 Z\" fill=\"#000000\" fill-rule=\"nonzero\" fill-opacity=\"1\" /><path clip-path=\"url(#clip130)\" d=\"M2197.23 304.135 L2197.23 302.636 Q2202.99 302.636 2205.96 299.568 Q2206.78 299.568 2206.92 299.755 Q2207.06 299.942 2207.06 300.809 L2207.06 327.721 Q2207.06 329.15 2207.77 329.595 Q2208.47 330.04 2211.54 330.04 L2213.06 330.04 L2213.06 331.516 Q2211.37 331.375 2205.28 331.375 Q2199.19 331.375 2197.53 331.516 L2197.53 330.04 L2199.05 330.04 Q2202.08 330.04 2202.8 329.618 Q2203.53 329.173 2203.53 327.721 L2203.53 302.87 Q2201.02 304.135 2197.23 304.135 Z\" fill=\"#000000\" fill-rule=\"nonzero\" fill-opacity=\"1\" /><path clip-path=\"url(#clip130)\" d=\"M2216.83 330.743 Q2216.1 329.97 2216.1 328.963 Q2216.1 327.956 2216.83 327.229 Q2217.55 326.48 2218.65 326.48 Q2219.71 326.48 2220.41 327.183 Q2221.14 327.862 2221.14 328.986 Q2221.14 330.087 2220.36 330.813 Q2219.62 331.516 2218.65 331.516 Q2217.55 331.516 2216.83 330.743 Z\" fill=\"#000000\" fill-rule=\"nonzero\" fill-opacity=\"1\" /><path clip-path=\"url(#clip130)\" d=\"M2229.3 323.786 Q2229.3 322.358 2230.07 321.819 Q2230.84 321.257 2231.66 321.257 Q2232.77 321.257 2233.4 321.959 Q2234.05 322.639 2234.05 323.599 Q2234.05 324.559 2233.4 325.262 Q2232.77 325.941 2231.66 325.941 Q2231.13 325.941 2230.84 325.847 Q2231.48 328.049 2233.4 329.642 Q2235.34 331.235 2237.89 331.235 Q2241.1 331.235 2243.02 328.119 Q2244.17 326.105 2244.17 321.538 Q2244.17 317.509 2243.31 315.495 Q2241.97 312.426 2239.23 312.426 Q2235.34 312.426 2233.05 315.776 Q2232.77 316.197 2232.44 316.221 Q2231.97 316.221 2231.85 315.963 Q2231.76 315.682 2231.76 314.956 L2231.76 300.762 Q2231.76 299.614 2232.23 299.614 Q2232.41 299.614 2232.81 299.755 Q2235.83 301.09 2239.18 301.113 Q2242.63 301.113 2245.72 299.708 Q2245.95 299.568 2246.09 299.568 Q2246.56 299.568 2246.58 300.106 Q2246.58 300.294 2246.19 300.856 Q2245.81 301.394 2244.99 302.121 Q2244.17 302.823 2243.12 303.502 Q2242.06 304.182 2240.52 304.65 Q2239 305.095 2237.31 305.095 Q2235.29 305.095 2233.23 304.463 L2233.23 313.808 Q2235.72 311.372 2239.32 311.372 Q2243.16 311.372 2245.81 314.464 Q2248.46 317.556 2248.46 321.866 Q2248.46 326.386 2245.32 329.478 Q2242.2 332.57 2237.99 332.57 Q2234.15 332.57 2231.71 329.829 Q2229.3 327.089 2229.3 323.786 Z\" fill=\"#000000\" fill-rule=\"nonzero\" fill-opacity=\"1\" /><polyline clip-path=\"url(#clip130)\" style=\"stroke:#c271d2; stroke-linecap:round; stroke-linejoin:round; stroke-width:4; stroke-opacity:1; fill:none\" points=\"1921.99,374.156 2064.23,374.156 \"/>\n",
              "<path clip-path=\"url(#clip130)\" d=\"M2109.65 365.18 Q2109.65 366.515 2108.83 367.311 Q2108.04 368.108 2107.03 368.108 Q2106.14 368.108 2105.67 367.592 Q2105.2 367.077 2105.2 366.421 Q2105.2 366.14 2105.32 365.789 Q2105.44 365.414 2105.7 364.969 Q2105.98 364.524 2106.56 364.196 Q2107.15 363.868 2107.94 363.821 Q2107.78 363.657 2107.73 363.634 Q2107.38 363.353 2106.73 363.259 Q2106.63 363.212 2106.3 363.212 Q2104.69 363.212 2103.05 364.407 Q2101.43 365.578 2099.44 367.803 Q2096.94 370.403 2095.32 371.363 Q2102.42 372.3 2102.42 376.399 Q2102.42 377.079 2102.23 377.898 Q2101.85 379.444 2101.85 380.568 Q2101.85 382.817 2103.38 382.817 Q2104.85 382.817 2105.79 381.318 Q2106.75 379.819 2107.55 376.891 Q2107.66 376.352 2107.78 376.188 Q2107.9 376.024 2108.23 376.024 Q2108.81 376.024 2108.81 376.493 Q2108.27 379.233 2107.08 381.341 Q2105.55 383.894 2103.28 383.894 Q2101.39 383.894 2100.12 382.583 Q2098.88 381.248 2098.88 379.14 Q2098.88 378.624 2099.07 377.453 Q2099.21 376.985 2099.21 376.446 Q2099.21 375.345 2098.6 374.525 Q2097.99 373.682 2097.01 373.261 Q2096.02 372.839 2095.2 372.652 Q2094.41 372.441 2093.63 372.371 Q2091.29 382.278 2090.96 382.887 Q2090.75 383.309 2090.28 383.59 Q2089.82 383.894 2089.32 383.894 Q2088.85 383.894 2088.39 383.567 Q2087.94 383.262 2087.94 382.536 Q2087.94 382.161 2088.13 381.482 L2095.09 353.843 L2095.23 352.907 Q2095.23 352.625 2095.11 352.485 Q2095.01 352.321 2094.45 352.204 Q2093.91 352.087 2092.84 352.087 Q2092.39 352.087 2092.18 352.063 Q2091.99 352.04 2091.83 351.923 Q2091.67 351.782 2091.67 351.501 Q2091.67 351.103 2091.83 350.892 Q2092.02 350.658 2092.16 350.611 Q2092.3 350.564 2092.58 350.541 Q2092.98 350.517 2094.31 350.4 Q2095.65 350.26 2096.79 350.166 Q2097.94 350.072 2098.43 350.072 Q2098.72 350.072 2098.86 350.213 Q2099.02 350.33 2099.04 350.471 L2099.07 350.588 L2094.08 370.825 Q2096.14 370.005 2099.39 366.374 Q2103.17 362.158 2106.4 362.158 Q2107.92 362.158 2108.79 363.095 Q2109.65 364.009 2109.65 365.18 Z\" fill=\"#000000\" fill-rule=\"nonzero\" fill-opacity=\"1\" /><path clip-path=\"url(#clip130)\" d=\"M2114.56 386.437 Q2114.56 381.502 2115.81 378.813 Q2117.55 374.812 2121.64 374.812 Q2122.51 374.812 2123.41 375.058 Q2124.33 375.288 2125.48 376.19 Q2126.64 377.091 2127.35 378.567 Q2128.69 381.42 2128.69 386.437 Q2128.69 391.339 2127.45 394.012 Q2125.63 397.914 2121.61 397.914 Q2120.1 397.914 2118.56 397.143 Q2117.04 396.373 2116.07 394.52 Q2114.56 391.749 2114.56 386.437 M2117.35 386.027 Q2117.35 391.093 2117.71 393.11 Q2118.12 395.291 2119.23 396.241 Q2120.37 397.176 2121.61 397.176 Q2122.96 397.176 2124.07 396.176 Q2125.2 395.159 2125.55 392.979 Q2125.92 390.831 2125.91 386.027 Q2125.91 381.354 2125.58 379.485 Q2125.14 377.304 2123.96 376.435 Q2122.79 375.55 2121.61 375.55 Q2121.17 375.55 2120.69 375.681 Q2120.23 375.812 2119.56 376.19 Q2118.89 376.567 2118.37 377.501 Q2117.86 378.436 2117.61 379.846 Q2117.35 381.666 2117.35 386.027 Z\" fill=\"#000000\" fill-rule=\"nonzero\" fill-opacity=\"1\" /><path clip-path=\"url(#clip130)\" d=\"M2146.98 376.071 Q2147.02 375.486 2147.94 375.486 L2177.33 375.486 Q2178.71 375.486 2178.74 376.024 Q2178.74 376.61 2177.42 376.587 L2148.26 376.587 Q2146.98 376.61 2146.98 376.071 M2146.98 366.702 Q2146.98 366.117 2147.98 366.14 L2177.28 366.14 Q2178.71 366.14 2178.74 366.702 Q2178.74 367.241 2177.52 367.241 L2147.94 367.241 Q2146.98 367.241 2146.98 366.702 Z\" fill=\"#000000\" fill-rule=\"nonzero\" fill-opacity=\"1\" /><path clip-path=\"url(#clip130)\" d=\"M2197.23 383.356 Q2197.23 382.489 2197.3 382.231 Q2197.39 381.974 2197.77 381.576 L2206.97 371.317 Q2212.01 365.648 2212.01 360.706 Q2212.01 357.497 2210.32 355.202 Q2208.66 352.907 2205.59 352.907 Q2203.48 352.907 2201.7 354.195 Q2199.92 355.483 2199.1 357.778 Q2199.24 357.732 2199.73 357.732 Q2200.93 357.732 2201.58 358.481 Q2202.26 359.231 2202.26 360.238 Q2202.26 361.526 2201.42 362.158 Q2200.6 362.767 2199.78 362.767 Q2199.45 362.767 2199.01 362.697 Q2198.59 362.627 2197.91 361.971 Q2197.23 361.292 2197.23 360.097 Q2197.23 356.748 2199.76 354.078 Q2202.31 351.408 2206.2 351.408 Q2210.6 351.408 2213.48 354.031 Q2216.39 356.631 2216.39 360.706 Q2216.39 362.135 2215.94 363.447 Q2215.52 364.735 2214.93 365.742 Q2214.37 366.749 2212.83 368.365 Q2211.28 369.982 2210.04 371.129 Q2208.8 372.277 2206.01 374.713 L2200.93 379.655 L2209.57 379.655 Q2213.79 379.655 2214.11 379.28 Q2214.58 378.601 2215.17 375.017 L2216.39 375.017 L2215.03 383.356 L2197.23 383.356 Z\" fill=\"#000000\" fill-rule=\"nonzero\" fill-opacity=\"1\" /><path clip-path=\"url(#clip130)\" d=\"M2221.7 382.583 Q2220.98 381.81 2220.98 380.803 Q2220.98 379.796 2221.7 379.069 Q2222.43 378.32 2223.53 378.32 Q2224.58 378.32 2225.29 379.023 Q2226.01 379.702 2226.01 380.826 Q2226.01 381.927 2225.24 382.653 Q2224.49 383.356 2223.53 383.356 Q2222.43 383.356 2221.7 382.583 Z\" fill=\"#000000\" fill-rule=\"nonzero\" fill-opacity=\"1\" /><path clip-path=\"url(#clip130)\" d=\"M2234.17 368.014 Q2234.17 360.964 2235.95 357.123 Q2238.44 351.408 2244.29 351.408 Q2245.53 351.408 2246.82 351.759 Q2248.13 352.087 2249.77 353.375 Q2251.44 354.663 2252.44 356.771 Q2254.36 360.847 2254.36 368.014 Q2254.36 375.017 2252.58 378.835 Q2249.98 384.41 2244.25 384.41 Q2242.09 384.41 2239.89 383.309 Q2237.71 382.208 2236.33 379.561 Q2234.17 375.603 2234.17 368.014 M2238.16 367.428 Q2238.16 374.666 2238.67 377.547 Q2239.26 380.662 2240.85 382.021 Q2242.47 383.356 2244.25 383.356 Q2246.17 383.356 2247.76 381.927 Q2249.37 380.475 2249.87 377.36 Q2250.41 374.291 2250.38 367.428 Q2250.38 360.753 2249.91 358.083 Q2249.28 354.968 2247.59 353.726 Q2245.93 352.462 2244.25 352.462 Q2243.61 352.462 2242.93 352.649 Q2242.28 352.836 2241.32 353.375 Q2240.36 353.914 2239.61 355.249 Q2238.88 356.584 2238.53 358.598 Q2238.16 361.198 2238.16 367.428 Z\" fill=\"#000000\" fill-rule=\"nonzero\" fill-opacity=\"1\" /><polyline clip-path=\"url(#clip130)\" style=\"stroke:#ac8d18; stroke-linecap:round; stroke-linejoin:round; stroke-width:4; stroke-opacity:1; fill:none\" points=\"1921.99,425.996 2064.23,425.996 \"/>\n",
              "<path clip-path=\"url(#clip130)\" d=\"M2109.65 417.02 Q2109.65 418.355 2108.83 419.151 Q2108.04 419.948 2107.03 419.948 Q2106.14 419.948 2105.67 419.432 Q2105.2 418.917 2105.2 418.261 Q2105.2 417.98 2105.32 417.629 Q2105.44 417.254 2105.7 416.809 Q2105.98 416.364 2106.56 416.036 Q2107.15 415.708 2107.94 415.661 Q2107.78 415.497 2107.73 415.474 Q2107.38 415.193 2106.73 415.099 Q2106.63 415.052 2106.3 415.052 Q2104.69 415.052 2103.05 416.247 Q2101.43 417.418 2099.44 419.643 Q2096.94 422.243 2095.32 423.203 Q2102.42 424.14 2102.42 428.239 Q2102.42 428.919 2102.23 429.738 Q2101.85 431.284 2101.85 432.408 Q2101.85 434.657 2103.38 434.657 Q2104.85 434.657 2105.79 433.158 Q2106.75 431.659 2107.55 428.731 Q2107.66 428.192 2107.78 428.028 Q2107.9 427.864 2108.23 427.864 Q2108.81 427.864 2108.81 428.333 Q2108.27 431.073 2107.08 433.181 Q2105.55 435.734 2103.28 435.734 Q2101.39 435.734 2100.12 434.423 Q2098.88 433.088 2098.88 430.98 Q2098.88 430.464 2099.07 429.293 Q2099.21 428.825 2099.21 428.286 Q2099.21 427.185 2098.6 426.365 Q2097.99 425.522 2097.01 425.101 Q2096.02 424.679 2095.2 424.492 Q2094.41 424.281 2093.63 424.211 Q2091.29 434.118 2090.96 434.727 Q2090.75 435.149 2090.28 435.43 Q2089.82 435.734 2089.32 435.734 Q2088.85 435.734 2088.39 435.407 Q2087.94 435.102 2087.94 434.376 Q2087.94 434.001 2088.13 433.322 L2095.09 405.683 L2095.23 404.747 Q2095.23 404.465 2095.11 404.325 Q2095.01 404.161 2094.45 404.044 Q2093.91 403.927 2092.84 403.927 Q2092.39 403.927 2092.18 403.903 Q2091.99 403.88 2091.83 403.763 Q2091.67 403.622 2091.67 403.341 Q2091.67 402.943 2091.83 402.732 Q2092.02 402.498 2092.16 402.451 Q2092.3 402.404 2092.58 402.381 Q2092.98 402.357 2094.31 402.24 Q2095.65 402.1 2096.79 402.006 Q2097.94 401.912 2098.43 401.912 Q2098.72 401.912 2098.86 402.053 Q2099.02 402.17 2099.04 402.311 L2099.07 402.428 L2094.08 422.665 Q2096.14 421.845 2099.39 418.214 Q2103.17 413.998 2106.4 413.998 Q2107.92 413.998 2108.79 414.935 Q2109.65 415.849 2109.65 417.02 Z\" fill=\"#000000\" fill-rule=\"nonzero\" fill-opacity=\"1\" /><path clip-path=\"url(#clip130)\" d=\"M2114.56 438.277 Q2114.56 433.342 2115.81 430.653 Q2117.55 426.652 2121.64 426.652 Q2122.51 426.652 2123.41 426.898 Q2124.33 427.128 2125.48 428.03 Q2126.64 428.931 2127.35 430.407 Q2128.69 433.26 2128.69 438.277 Q2128.69 443.179 2127.45 445.852 Q2125.63 449.754 2121.61 449.754 Q2120.1 449.754 2118.56 448.983 Q2117.04 448.213 2116.07 446.36 Q2114.56 443.589 2114.56 438.277 M2117.35 437.867 Q2117.35 442.933 2117.71 444.95 Q2118.12 447.131 2119.23 448.081 Q2120.37 449.016 2121.61 449.016 Q2122.96 449.016 2124.07 448.016 Q2125.2 446.999 2125.55 444.819 Q2125.92 442.671 2125.91 437.867 Q2125.91 433.194 2125.58 431.325 Q2125.14 429.144 2123.96 428.275 Q2122.79 427.39 2121.61 427.39 Q2121.17 427.39 2120.69 427.521 Q2120.23 427.652 2119.56 428.03 Q2118.89 428.407 2118.37 429.341 Q2117.86 430.276 2117.61 431.686 Q2117.35 433.506 2117.35 437.867 Z\" fill=\"#000000\" fill-rule=\"nonzero\" fill-opacity=\"1\" /><path clip-path=\"url(#clip130)\" d=\"M2146.98 427.911 Q2147.02 427.326 2147.94 427.326 L2177.33 427.326 Q2178.71 427.326 2178.74 427.864 Q2178.74 428.45 2177.42 428.427 L2148.26 428.427 Q2146.98 428.45 2146.98 427.911 M2146.98 418.542 Q2146.98 417.957 2147.98 417.98 L2177.28 417.98 Q2178.71 417.98 2178.74 418.542 Q2178.74 419.081 2177.52 419.081 L2147.94 419.081 Q2146.98 419.081 2146.98 418.542 Z\" fill=\"#000000\" fill-rule=\"nonzero\" fill-opacity=\"1\" /><path clip-path=\"url(#clip130)\" d=\"M2197.23 435.196 Q2197.23 434.329 2197.3 434.071 Q2197.39 433.814 2197.77 433.416 L2206.97 423.157 Q2212.01 417.488 2212.01 412.546 Q2212.01 409.337 2210.32 407.042 Q2208.66 404.747 2205.59 404.747 Q2203.48 404.747 2201.7 406.035 Q2199.92 407.323 2199.1 409.618 Q2199.24 409.572 2199.73 409.572 Q2200.93 409.572 2201.58 410.321 Q2202.26 411.071 2202.26 412.078 Q2202.26 413.366 2201.42 413.998 Q2200.6 414.607 2199.78 414.607 Q2199.45 414.607 2199.01 414.537 Q2198.59 414.467 2197.91 413.811 Q2197.23 413.132 2197.23 411.937 Q2197.23 408.588 2199.76 405.918 Q2202.31 403.248 2206.2 403.248 Q2210.6 403.248 2213.48 405.871 Q2216.39 408.471 2216.39 412.546 Q2216.39 413.975 2215.94 415.287 Q2215.52 416.575 2214.93 417.582 Q2214.37 418.589 2212.83 420.205 Q2211.28 421.822 2210.04 422.969 Q2208.8 424.117 2206.01 426.553 L2200.93 431.495 L2209.57 431.495 Q2213.79 431.495 2214.11 431.12 Q2214.58 430.441 2215.17 426.857 L2216.39 426.857 L2215.03 435.196 L2197.23 435.196 Z\" fill=\"#000000\" fill-rule=\"nonzero\" fill-opacity=\"1\" /><path clip-path=\"url(#clip130)\" d=\"M2221.7 434.423 Q2220.98 433.65 2220.98 432.643 Q2220.98 431.636 2221.7 430.909 Q2222.43 430.16 2223.53 430.16 Q2224.58 430.16 2225.29 430.863 Q2226.01 431.542 2226.01 432.666 Q2226.01 433.767 2225.24 434.493 Q2224.49 435.196 2223.53 435.196 Q2222.43 435.196 2221.7 434.423 Z\" fill=\"#000000\" fill-rule=\"nonzero\" fill-opacity=\"1\" /><path clip-path=\"url(#clip130)\" d=\"M2234.17 427.466 Q2234.17 426.038 2234.95 425.499 Q2235.72 424.937 2236.54 424.937 Q2237.64 424.937 2238.27 425.639 Q2238.93 426.319 2238.93 427.279 Q2238.93 428.239 2238.27 428.942 Q2237.64 429.621 2236.54 429.621 Q2236 429.621 2235.72 429.527 Q2236.35 431.729 2238.27 433.322 Q2240.22 434.915 2242.77 434.915 Q2245.98 434.915 2247.9 431.799 Q2249.05 429.785 2249.05 425.218 Q2249.05 421.189 2248.18 419.175 Q2246.85 416.106 2244.1 416.106 Q2240.22 416.106 2237.92 419.456 Q2237.64 419.877 2237.31 419.901 Q2236.84 419.901 2236.73 419.643 Q2236.63 419.362 2236.63 418.636 L2236.63 404.442 Q2236.63 403.294 2237.1 403.294 Q2237.29 403.294 2237.69 403.435 Q2240.71 404.77 2244.06 404.793 Q2247.5 404.793 2250.59 403.388 Q2250.83 403.248 2250.97 403.248 Q2251.44 403.248 2251.46 403.786 Q2251.46 403.974 2251.06 404.536 Q2250.69 405.074 2249.87 405.801 Q2249.05 406.503 2247.99 407.182 Q2246.94 407.862 2245.39 408.33 Q2243.87 408.775 2242.18 408.775 Q2240.17 408.775 2238.11 408.143 L2238.11 417.488 Q2240.59 415.052 2244.2 415.052 Q2248.04 415.052 2250.69 418.144 Q2253.33 421.236 2253.33 425.546 Q2253.33 430.066 2250.19 433.158 Q2247.08 436.25 2242.86 436.25 Q2239.02 436.25 2236.59 433.509 Q2234.17 430.769 2234.17 427.466 Z\" fill=\"#000000\" fill-rule=\"nonzero\" fill-opacity=\"1\" /><polyline clip-path=\"url(#clip130)\" style=\"stroke:#00a9ad; stroke-linecap:round; stroke-linejoin:round; stroke-width:4; stroke-opacity:1; fill:none\" points=\"1921.99,477.836 2064.23,477.836 \"/>\n",
              "<path clip-path=\"url(#clip130)\" d=\"M2109.65 468.86 Q2109.65 470.195 2108.83 470.991 Q2108.04 471.788 2107.03 471.788 Q2106.14 471.788 2105.67 471.272 Q2105.2 470.757 2105.2 470.101 Q2105.2 469.82 2105.32 469.469 Q2105.44 469.094 2105.7 468.649 Q2105.98 468.204 2106.56 467.876 Q2107.15 467.548 2107.94 467.501 Q2107.78 467.337 2107.73 467.314 Q2107.38 467.033 2106.73 466.939 Q2106.63 466.892 2106.3 466.892 Q2104.69 466.892 2103.05 468.087 Q2101.43 469.258 2099.44 471.483 Q2096.94 474.083 2095.32 475.043 Q2102.42 475.98 2102.42 480.079 Q2102.42 480.759 2102.23 481.578 Q2101.85 483.124 2101.85 484.248 Q2101.85 486.497 2103.38 486.497 Q2104.85 486.497 2105.79 484.998 Q2106.75 483.499 2107.55 480.571 Q2107.66 480.032 2107.78 479.868 Q2107.9 479.704 2108.23 479.704 Q2108.81 479.704 2108.81 480.173 Q2108.27 482.913 2107.08 485.021 Q2105.55 487.574 2103.28 487.574 Q2101.39 487.574 2100.12 486.263 Q2098.88 484.928 2098.88 482.82 Q2098.88 482.304 2099.07 481.133 Q2099.21 480.665 2099.21 480.126 Q2099.21 479.025 2098.6 478.205 Q2097.99 477.362 2097.01 476.941 Q2096.02 476.519 2095.2 476.332 Q2094.41 476.121 2093.63 476.051 Q2091.29 485.958 2090.96 486.567 Q2090.75 486.989 2090.28 487.27 Q2089.82 487.574 2089.32 487.574 Q2088.85 487.574 2088.39 487.247 Q2087.94 486.942 2087.94 486.216 Q2087.94 485.841 2088.13 485.162 L2095.09 457.523 L2095.23 456.587 Q2095.23 456.305 2095.11 456.165 Q2095.01 456.001 2094.45 455.884 Q2093.91 455.767 2092.84 455.767 Q2092.39 455.767 2092.18 455.743 Q2091.99 455.72 2091.83 455.603 Q2091.67 455.462 2091.67 455.181 Q2091.67 454.783 2091.83 454.572 Q2092.02 454.338 2092.16 454.291 Q2092.3 454.244 2092.58 454.221 Q2092.98 454.197 2094.31 454.08 Q2095.65 453.94 2096.79 453.846 Q2097.94 453.752 2098.43 453.752 Q2098.72 453.752 2098.86 453.893 Q2099.02 454.01 2099.04 454.151 L2099.07 454.268 L2094.08 474.505 Q2096.14 473.685 2099.39 470.054 Q2103.17 465.838 2106.4 465.838 Q2107.92 465.838 2108.79 466.775 Q2109.65 467.689 2109.65 468.86 Z\" fill=\"#000000\" fill-rule=\"nonzero\" fill-opacity=\"1\" /><path clip-path=\"url(#clip130)\" d=\"M2114.56 490.117 Q2114.56 485.182 2115.81 482.493 Q2117.55 478.492 2121.64 478.492 Q2122.51 478.492 2123.41 478.738 Q2124.33 478.968 2125.48 479.87 Q2126.64 480.771 2127.35 482.247 Q2128.69 485.1 2128.69 490.117 Q2128.69 495.019 2127.45 497.692 Q2125.63 501.594 2121.61 501.594 Q2120.1 501.594 2118.56 500.823 Q2117.04 500.053 2116.07 498.2 Q2114.56 495.429 2114.56 490.117 M2117.35 489.707 Q2117.35 494.773 2117.71 496.79 Q2118.12 498.971 2119.23 499.921 Q2120.37 500.856 2121.61 500.856 Q2122.96 500.856 2124.07 499.856 Q2125.2 498.839 2125.55 496.659 Q2125.92 494.511 2125.91 489.707 Q2125.91 485.034 2125.58 483.165 Q2125.14 480.984 2123.96 480.115 Q2122.79 479.23 2121.61 479.23 Q2121.17 479.23 2120.69 479.361 Q2120.23 479.492 2119.56 479.87 Q2118.89 480.247 2118.37 481.181 Q2117.86 482.116 2117.61 483.526 Q2117.35 485.346 2117.35 489.707 Z\" fill=\"#000000\" fill-rule=\"nonzero\" fill-opacity=\"1\" /><path clip-path=\"url(#clip130)\" d=\"M2146.98 479.751 Q2147.02 479.166 2147.94 479.166 L2177.33 479.166 Q2178.71 479.166 2178.74 479.704 Q2178.74 480.29 2177.42 480.267 L2148.26 480.267 Q2146.98 480.29 2146.98 479.751 M2146.98 470.382 Q2146.98 469.797 2147.98 469.82 L2177.28 469.82 Q2178.71 469.82 2178.74 470.382 Q2178.74 470.921 2177.52 470.921 L2147.94 470.921 Q2146.98 470.921 2146.98 470.382 Z\" fill=\"#000000\" fill-rule=\"nonzero\" fill-opacity=\"1\" /><path clip-path=\"url(#clip130)\" d=\"M2197.23 480.571 Q2197.23 479.142 2198.05 478.463 Q2198.87 477.784 2199.92 477.784 Q2201.02 477.784 2201.79 478.51 Q2202.59 479.213 2202.59 480.454 Q2202.59 481.789 2201.65 482.539 Q2200.74 483.288 2199.43 483.101 Q2200.58 485.021 2202.68 485.888 Q2204.82 486.755 2206.78 486.755 Q2208.84 486.755 2210.51 484.975 Q2212.19 483.194 2212.19 478.838 Q2212.19 475.137 2210.74 473.006 Q2209.31 470.874 2206.48 470.874 L2204.37 470.874 Q2203.64 470.874 2203.43 470.804 Q2203.22 470.734 2203.22 470.336 Q2203.22 469.867 2203.95 469.773 Q2204.68 469.773 2205.82 469.633 Q2208.61 469.539 2210.09 467.127 Q2211.42 464.878 2211.42 461.669 Q2211.42 458.741 2210.02 457.523 Q2208.63 456.282 2206.83 456.282 Q2205.14 456.282 2203.29 456.985 Q2201.44 457.687 2200.44 459.257 Q2203.41 459.257 2203.41 461.669 Q2203.41 462.723 2202.73 463.426 Q2202.08 464.105 2200.97 464.105 Q2199.92 464.105 2199.22 463.449 Q2198.51 462.77 2198.51 461.622 Q2198.51 458.882 2200.95 456.985 Q2203.41 455.088 2207.02 455.088 Q2210.58 455.088 2213.2 456.961 Q2215.85 458.835 2215.85 461.716 Q2215.85 464.55 2213.97 466.869 Q2212.1 469.188 2209.13 470.148 Q2212.78 470.874 2214.96 473.357 Q2217.14 475.816 2217.14 478.838 Q2217.14 482.585 2214.18 485.349 Q2211.23 488.09 2206.92 488.09 Q2202.94 488.09 2200.08 485.935 Q2197.23 483.78 2197.23 480.571 Z\" fill=\"#000000\" fill-rule=\"nonzero\" fill-opacity=\"1\" /><path clip-path=\"url(#clip130)\" d=\"M2221.7 486.263 Q2220.98 485.49 2220.98 484.483 Q2220.98 483.476 2221.7 482.749 Q2222.43 482 2223.53 482 Q2224.58 482 2225.29 482.703 Q2226.01 483.382 2226.01 484.506 Q2226.01 485.607 2225.24 486.333 Q2224.49 487.036 2223.53 487.036 Q2222.43 487.036 2221.7 486.263 Z\" fill=\"#000000\" fill-rule=\"nonzero\" fill-opacity=\"1\" /><path clip-path=\"url(#clip130)\" d=\"M2234.17 471.694 Q2234.17 464.644 2235.95 460.803 Q2238.44 455.088 2244.29 455.088 Q2245.53 455.088 2246.82 455.439 Q2248.13 455.767 2249.77 457.055 Q2251.44 458.343 2252.44 460.451 Q2254.36 464.527 2254.36 471.694 Q2254.36 478.697 2252.58 482.515 Q2249.98 488.09 2244.25 488.09 Q2242.09 488.09 2239.89 486.989 Q2237.71 485.888 2236.33 483.241 Q2234.17 479.283 2234.17 471.694 M2238.16 471.108 Q2238.16 478.346 2238.67 481.227 Q2239.26 484.342 2240.85 485.701 Q2242.47 487.036 2244.25 487.036 Q2246.17 487.036 2247.76 485.607 Q2249.37 484.155 2249.87 481.04 Q2250.41 477.971 2250.38 471.108 Q2250.38 464.433 2249.91 461.763 Q2249.28 458.648 2247.59 457.406 Q2245.93 456.142 2244.25 456.142 Q2243.61 456.142 2242.93 456.329 Q2242.28 456.516 2241.32 457.055 Q2240.36 457.594 2239.61 458.929 Q2238.88 460.264 2238.53 462.278 Q2238.16 464.878 2238.16 471.108 Z\" fill=\"#000000\" fill-rule=\"nonzero\" fill-opacity=\"1\" /><polyline clip-path=\"url(#clip130)\" style=\"stroke:#ed5d92; stroke-linecap:round; stroke-linejoin:round; stroke-width:4; stroke-opacity:1; fill:none\" points=\"1921.99,529.676 2064.23,529.676 \"/>\n",
              "<path clip-path=\"url(#clip130)\" d=\"M2109.65 520.7 Q2109.65 522.035 2108.83 522.831 Q2108.04 523.628 2107.03 523.628 Q2106.14 523.628 2105.67 523.112 Q2105.2 522.597 2105.2 521.941 Q2105.2 521.66 2105.32 521.309 Q2105.44 520.934 2105.7 520.489 Q2105.98 520.044 2106.56 519.716 Q2107.15 519.388 2107.94 519.341 Q2107.78 519.177 2107.73 519.154 Q2107.38 518.873 2106.73 518.779 Q2106.63 518.732 2106.3 518.732 Q2104.69 518.732 2103.05 519.927 Q2101.43 521.098 2099.44 523.323 Q2096.94 525.923 2095.32 526.883 Q2102.42 527.82 2102.42 531.919 Q2102.42 532.599 2102.23 533.418 Q2101.85 534.964 2101.85 536.088 Q2101.85 538.337 2103.38 538.337 Q2104.85 538.337 2105.79 536.838 Q2106.75 535.339 2107.55 532.411 Q2107.66 531.872 2107.78 531.708 Q2107.9 531.544 2108.23 531.544 Q2108.81 531.544 2108.81 532.013 Q2108.27 534.753 2107.08 536.861 Q2105.55 539.414 2103.28 539.414 Q2101.39 539.414 2100.12 538.103 Q2098.88 536.768 2098.88 534.66 Q2098.88 534.144 2099.07 532.973 Q2099.21 532.505 2099.21 531.966 Q2099.21 530.865 2098.6 530.045 Q2097.99 529.202 2097.01 528.781 Q2096.02 528.359 2095.2 528.172 Q2094.41 527.961 2093.63 527.891 Q2091.29 537.798 2090.96 538.407 Q2090.75 538.829 2090.28 539.11 Q2089.82 539.414 2089.32 539.414 Q2088.85 539.414 2088.39 539.087 Q2087.94 538.782 2087.94 538.056 Q2087.94 537.681 2088.13 537.002 L2095.09 509.363 L2095.23 508.427 Q2095.23 508.145 2095.11 508.005 Q2095.01 507.841 2094.45 507.724 Q2093.91 507.607 2092.84 507.607 Q2092.39 507.607 2092.18 507.583 Q2091.99 507.56 2091.83 507.443 Q2091.67 507.302 2091.67 507.021 Q2091.67 506.623 2091.83 506.412 Q2092.02 506.178 2092.16 506.131 Q2092.3 506.084 2092.58 506.061 Q2092.98 506.037 2094.31 505.92 Q2095.65 505.78 2096.79 505.686 Q2097.94 505.592 2098.43 505.592 Q2098.72 505.592 2098.86 505.733 Q2099.02 505.85 2099.04 505.991 L2099.07 506.108 L2094.08 526.345 Q2096.14 525.525 2099.39 521.894 Q2103.17 517.678 2106.4 517.678 Q2107.92 517.678 2108.79 518.615 Q2109.65 519.529 2109.65 520.7 Z\" fill=\"#000000\" fill-rule=\"nonzero\" fill-opacity=\"1\" /><path clip-path=\"url(#clip130)\" d=\"M2114.56 541.957 Q2114.56 537.022 2115.81 534.333 Q2117.55 530.332 2121.64 530.332 Q2122.51 530.332 2123.41 530.578 Q2124.33 530.808 2125.48 531.71 Q2126.64 532.611 2127.35 534.087 Q2128.69 536.94 2128.69 541.957 Q2128.69 546.859 2127.45 549.532 Q2125.63 553.434 2121.61 553.434 Q2120.1 553.434 2118.56 552.663 Q2117.04 551.893 2116.07 550.04 Q2114.56 547.269 2114.56 541.957 M2117.35 541.547 Q2117.35 546.613 2117.71 548.63 Q2118.12 550.811 2119.23 551.761 Q2120.37 552.696 2121.61 552.696 Q2122.96 552.696 2124.07 551.696 Q2125.2 550.679 2125.55 548.499 Q2125.92 546.351 2125.91 541.547 Q2125.91 536.874 2125.58 535.005 Q2125.14 532.824 2123.96 531.955 Q2122.79 531.07 2121.61 531.07 Q2121.17 531.07 2120.69 531.201 Q2120.23 531.332 2119.56 531.71 Q2118.89 532.087 2118.37 533.021 Q2117.86 533.956 2117.61 535.366 Q2117.35 537.186 2117.35 541.547 Z\" fill=\"#000000\" fill-rule=\"nonzero\" fill-opacity=\"1\" /><path clip-path=\"url(#clip130)\" d=\"M2146.98 531.591 Q2147.02 531.006 2147.94 531.006 L2177.33 531.006 Q2178.71 531.006 2178.74 531.544 Q2178.74 532.13 2177.42 532.107 L2148.26 532.107 Q2146.98 532.13 2146.98 531.591 M2146.98 522.222 Q2146.98 521.637 2147.98 521.66 L2177.28 521.66 Q2178.71 521.66 2178.74 522.222 Q2178.74 522.761 2177.52 522.761 L2147.94 522.761 Q2146.98 522.761 2146.98 522.222 Z\" fill=\"#000000\" fill-rule=\"nonzero\" fill-opacity=\"1\" /><path clip-path=\"url(#clip130)\" d=\"M2197.23 532.411 Q2197.23 530.982 2198.05 530.303 Q2198.87 529.624 2199.92 529.624 Q2201.02 529.624 2201.79 530.35 Q2202.59 531.053 2202.59 532.294 Q2202.59 533.629 2201.65 534.379 Q2200.74 535.128 2199.43 534.941 Q2200.58 536.861 2202.68 537.728 Q2204.82 538.595 2206.78 538.595 Q2208.84 538.595 2210.51 536.815 Q2212.19 535.034 2212.19 530.678 Q2212.19 526.977 2210.74 524.846 Q2209.31 522.714 2206.48 522.714 L2204.37 522.714 Q2203.64 522.714 2203.43 522.644 Q2203.22 522.574 2203.22 522.176 Q2203.22 521.707 2203.95 521.613 Q2204.68 521.613 2205.82 521.473 Q2208.61 521.379 2210.09 518.967 Q2211.42 516.718 2211.42 513.509 Q2211.42 510.581 2210.02 509.363 Q2208.63 508.122 2206.83 508.122 Q2205.14 508.122 2203.29 508.825 Q2201.44 509.527 2200.44 511.097 Q2203.41 511.097 2203.41 513.509 Q2203.41 514.563 2202.73 515.266 Q2202.08 515.945 2200.97 515.945 Q2199.92 515.945 2199.22 515.289 Q2198.51 514.61 2198.51 513.462 Q2198.51 510.722 2200.95 508.825 Q2203.41 506.928 2207.02 506.928 Q2210.58 506.928 2213.2 508.801 Q2215.85 510.675 2215.85 513.556 Q2215.85 516.39 2213.97 518.709 Q2212.1 521.028 2209.13 521.988 Q2212.78 522.714 2214.96 525.197 Q2217.14 527.656 2217.14 530.678 Q2217.14 534.425 2214.18 537.189 Q2211.23 539.93 2206.92 539.93 Q2202.94 539.93 2200.08 537.775 Q2197.23 535.62 2197.23 532.411 Z\" fill=\"#000000\" fill-rule=\"nonzero\" fill-opacity=\"1\" /><path clip-path=\"url(#clip130)\" d=\"M2221.7 538.103 Q2220.98 537.33 2220.98 536.323 Q2220.98 535.316 2221.7 534.589 Q2222.43 533.84 2223.53 533.84 Q2224.58 533.84 2225.29 534.543 Q2226.01 535.222 2226.01 536.346 Q2226.01 537.447 2225.24 538.173 Q2224.49 538.876 2223.53 538.876 Q2222.43 538.876 2221.7 538.103 Z\" fill=\"#000000\" fill-rule=\"nonzero\" fill-opacity=\"1\" /><path clip-path=\"url(#clip130)\" d=\"M2234.17 531.146 Q2234.17 529.718 2234.95 529.179 Q2235.72 528.617 2236.54 528.617 Q2237.64 528.617 2238.27 529.319 Q2238.93 529.999 2238.93 530.959 Q2238.93 531.919 2238.27 532.622 Q2237.64 533.301 2236.54 533.301 Q2236 533.301 2235.72 533.207 Q2236.35 535.409 2238.27 537.002 Q2240.22 538.595 2242.77 538.595 Q2245.98 538.595 2247.9 535.479 Q2249.05 533.465 2249.05 528.898 Q2249.05 524.869 2248.18 522.855 Q2246.85 519.786 2244.1 519.786 Q2240.22 519.786 2237.92 523.136 Q2237.64 523.557 2237.31 523.581 Q2236.84 523.581 2236.73 523.323 Q2236.63 523.042 2236.63 522.316 L2236.63 508.122 Q2236.63 506.974 2237.1 506.974 Q2237.29 506.974 2237.69 507.115 Q2240.71 508.45 2244.06 508.473 Q2247.5 508.473 2250.59 507.068 Q2250.83 506.928 2250.97 506.928 Q2251.44 506.928 2251.46 507.466 Q2251.46 507.654 2251.06 508.216 Q2250.69 508.754 2249.87 509.481 Q2249.05 510.183 2247.99 510.862 Q2246.94 511.542 2245.39 512.01 Q2243.87 512.455 2242.18 512.455 Q2240.17 512.455 2238.11 511.823 L2238.11 521.168 Q2240.59 518.732 2244.2 518.732 Q2248.04 518.732 2250.69 521.824 Q2253.33 524.916 2253.33 529.226 Q2253.33 533.746 2250.19 536.838 Q2247.08 539.93 2242.86 539.93 Q2239.02 539.93 2236.59 537.189 Q2234.17 534.449 2234.17 531.146 Z\" fill=\"#000000\" fill-rule=\"nonzero\" fill-opacity=\"1\" /></svg>"
            ]
          }
        }
      ],
      "source": [
        "# 🐉\n",
        "\n",
        "# create initially empty plot\n",
        "pl = plot(; title=\"Baseline Simulation\", xlabel=\"\\$t\\$\", ylabel=\"\\$k_t\\$\")\n",
        "\n",
        "for (k, sim) in zip(klevels, simulations)\n",
        "    plot!(pl, sim; label=\"\\$k_0=$k\\$\")\n",
        "end\n",
        "\n",
        "pl"
      ],
      "id": "cell-44"
    },
    {
      "cell_type": "code",
      "execution_count": 30,
      "metadata": {},
      "outputs": [
        {
          "output_type": "display_data",
          "metadata": {},
          "data": {
            "text/html": [
              "<?xml version=\"1.0\" encoding=\"utf-8\"?>\n",
              "<svg xmlns=\"http://www.w3.org/2000/svg\" xmlns:xlink=\"http://www.w3.org/1999/xlink\" width=\"600\" height=\"400\" viewBox=\"0 0 2400 1600\">\n",
              "<defs>\n",
              "  <clipPath id=\"clip680\">\n",
              "    <rect x=\"0\" y=\"0\" width=\"2400\" height=\"1600\"/>\n",
              "  </clipPath>\n",
              "</defs>\n",
              "<path clip-path=\"url(#clip680)\" d=\"M0 1600 L2400 1600 L2400 0 L0 0  Z\" fill=\"#ffffff\" fill-rule=\"evenodd\" fill-opacity=\"1\"/>\n",
              "<defs>\n",
              "  <clipPath id=\"clip681\">\n",
              "    <rect x=\"480\" y=\"0\" width=\"1681\" height=\"1600\"/>\n",
              "  </clipPath>\n",
              "</defs>\n",
              "<path clip-path=\"url(#clip680)\" d=\"M112.177 1486.45 L2352.76 1486.45 L2352.76 123.472 L112.177 123.472  Z\" fill=\"#ffffff\" fill-rule=\"evenodd\" fill-opacity=\"1\"/>\n",
              "<defs>\n",
              "  <clipPath id=\"clip682\">\n",
              "    <rect x=\"112\" y=\"123\" width=\"2242\" height=\"1364\"/>\n",
              "  </clipPath>\n",
              "</defs>\n",
              "<polyline clip-path=\"url(#clip682)\" style=\"stroke:#000000; stroke-linecap:round; stroke-linejoin:round; stroke-width:2; stroke-opacity:0.1; fill:none\" points=\"154.452,1486.45 154.452,123.472 \"/>\n",
              "<polyline clip-path=\"url(#clip682)\" style=\"stroke:#000000; stroke-linecap:round; stroke-linejoin:round; stroke-width:2; stroke-opacity:0.1; fill:none\" points=\"682.891,1486.45 682.891,123.472 \"/>\n",
              "<polyline clip-path=\"url(#clip682)\" style=\"stroke:#000000; stroke-linecap:round; stroke-linejoin:round; stroke-width:2; stroke-opacity:0.1; fill:none\" points=\"1211.33,1486.45 1211.33,123.472 \"/>\n",
              "<polyline clip-path=\"url(#clip682)\" style=\"stroke:#000000; stroke-linecap:round; stroke-linejoin:round; stroke-width:2; stroke-opacity:0.1; fill:none\" points=\"1739.77,1486.45 1739.77,123.472 \"/>\n",
              "<polyline clip-path=\"url(#clip682)\" style=\"stroke:#000000; stroke-linecap:round; stroke-linejoin:round; stroke-width:2; stroke-opacity:0.1; fill:none\" points=\"2268.21,1486.45 2268.21,123.472 \"/>\n",
              "<polyline clip-path=\"url(#clip682)\" style=\"stroke:#000000; stroke-linecap:round; stroke-linejoin:round; stroke-width:2; stroke-opacity:0.1; fill:none\" points=\"112.177,1249.25 2352.76,1249.25 \"/>\n",
              "<polyline clip-path=\"url(#clip682)\" style=\"stroke:#000000; stroke-linecap:round; stroke-linejoin:round; stroke-width:2; stroke-opacity:0.1; fill:none\" points=\"112.177,1000.97 2352.76,1000.97 \"/>\n",
              "<polyline clip-path=\"url(#clip682)\" style=\"stroke:#000000; stroke-linecap:round; stroke-linejoin:round; stroke-width:2; stroke-opacity:0.1; fill:none\" points=\"112.177,752.687 2352.76,752.687 \"/>\n",
              "<polyline clip-path=\"url(#clip682)\" style=\"stroke:#000000; stroke-linecap:round; stroke-linejoin:round; stroke-width:2; stroke-opacity:0.1; fill:none\" points=\"112.177,504.406 2352.76,504.406 \"/>\n",
              "<polyline clip-path=\"url(#clip682)\" style=\"stroke:#000000; stroke-linecap:round; stroke-linejoin:round; stroke-width:2; stroke-opacity:0.1; fill:none\" points=\"112.177,256.126 2352.76,256.126 \"/>\n",
              "<polyline clip-path=\"url(#clip680)\" style=\"stroke:#000000; stroke-linecap:round; stroke-linejoin:round; stroke-width:4; stroke-opacity:1; fill:none\" points=\"112.177,1486.45 2352.76,1486.45 \"/>\n",
              "<polyline clip-path=\"url(#clip680)\" style=\"stroke:#000000; stroke-linecap:round; stroke-linejoin:round; stroke-width:4; stroke-opacity:1; fill:none\" points=\"154.452,1486.45 154.452,1467.55 \"/>\n",
              "<polyline clip-path=\"url(#clip680)\" style=\"stroke:#000000; stroke-linecap:round; stroke-linejoin:round; stroke-width:4; stroke-opacity:1; fill:none\" points=\"682.891,1486.45 682.891,1467.55 \"/>\n",
              "<polyline clip-path=\"url(#clip680)\" style=\"stroke:#000000; stroke-linecap:round; stroke-linejoin:round; stroke-width:4; stroke-opacity:1; fill:none\" points=\"1211.33,1486.45 1211.33,1467.55 \"/>\n",
              "<polyline clip-path=\"url(#clip680)\" style=\"stroke:#000000; stroke-linecap:round; stroke-linejoin:round; stroke-width:4; stroke-opacity:1; fill:none\" points=\"1739.77,1486.45 1739.77,1467.55 \"/>\n",
              "<polyline clip-path=\"url(#clip680)\" style=\"stroke:#000000; stroke-linecap:round; stroke-linejoin:round; stroke-width:4; stroke-opacity:1; fill:none\" points=\"2268.21,1486.45 2268.21,1467.55 \"/>\n",
              "<path clip-path=\"url(#clip680)\" d=\"M154.452 1517.37 Q150.841 1517.37 149.012 1520.93 Q147.207 1524.47 147.207 1531.6 Q147.207 1538.71 149.012 1542.27 Q150.841 1545.82 154.452 1545.82 Q158.086 1545.82 159.892 1542.27 Q161.721 1538.71 161.721 1531.6 Q161.721 1524.47 159.892 1520.93 Q158.086 1517.37 154.452 1517.37 M154.452 1513.66 Q160.262 1513.66 163.318 1518.27 Q166.397 1522.85 166.397 1531.6 Q166.397 1540.33 163.318 1544.94 Q160.262 1549.52 154.452 1549.52 Q148.642 1549.52 145.563 1544.94 Q142.508 1540.33 142.508 1531.6 Q142.508 1522.85 145.563 1518.27 Q148.642 1513.66 154.452 1513.66 Z\" fill=\"#000000\" fill-rule=\"nonzero\" fill-opacity=\"1\" /><path clip-path=\"url(#clip680)\" d=\"M662.162 1544.91 L678.481 1544.91 L678.481 1548.85 L656.537 1548.85 L656.537 1544.91 Q659.199 1542.16 663.782 1537.53 Q668.388 1532.88 669.569 1531.53 Q671.814 1529.01 672.694 1527.27 Q673.597 1525.51 673.597 1523.82 Q673.597 1521.07 671.652 1519.33 Q669.731 1517.6 666.629 1517.6 Q664.43 1517.6 661.976 1518.36 Q659.546 1519.13 656.768 1520.68 L656.768 1515.95 Q659.592 1514.82 662.046 1514.24 Q664.5 1513.66 666.537 1513.66 Q671.907 1513.66 675.101 1516.35 Q678.296 1519.03 678.296 1523.52 Q678.296 1525.65 677.486 1527.57 Q676.699 1529.47 674.592 1532.07 Q674.013 1532.74 670.912 1535.95 Q667.81 1539.15 662.162 1544.91 Z\" fill=\"#000000\" fill-rule=\"nonzero\" fill-opacity=\"1\" /><path clip-path=\"url(#clip680)\" d=\"M688.342 1514.29 L706.698 1514.29 L706.698 1518.22 L692.624 1518.22 L692.624 1526.7 Q693.643 1526.35 694.661 1526.19 Q695.68 1526 696.698 1526 Q702.485 1526 705.865 1529.17 Q709.245 1532.34 709.245 1537.76 Q709.245 1543.34 705.772 1546.44 Q702.3 1549.52 695.981 1549.52 Q693.805 1549.52 691.536 1549.15 Q689.291 1548.78 686.884 1548.04 L686.884 1543.34 Q688.967 1544.47 691.189 1545.03 Q693.411 1545.58 695.888 1545.58 Q699.893 1545.58 702.231 1543.48 Q704.569 1541.37 704.569 1537.76 Q704.569 1534.15 702.231 1532.04 Q699.893 1529.94 695.888 1529.94 Q694.013 1529.94 692.138 1530.35 Q690.286 1530.77 688.342 1531.65 L688.342 1514.29 Z\" fill=\"#000000\" fill-rule=\"nonzero\" fill-opacity=\"1\" /><path clip-path=\"url(#clip680)\" d=\"M1186.03 1514.29 L1204.38 1514.29 L1204.38 1518.22 L1190.31 1518.22 L1190.31 1526.7 Q1191.33 1526.35 1192.35 1526.19 Q1193.37 1526 1194.38 1526 Q1200.17 1526 1203.55 1529.17 Q1206.93 1532.34 1206.93 1537.76 Q1206.93 1543.34 1203.46 1546.44 Q1199.99 1549.52 1193.67 1549.52 Q1191.49 1549.52 1189.22 1549.15 Q1186.98 1548.78 1184.57 1548.04 L1184.57 1543.34 Q1186.65 1544.47 1188.88 1545.03 Q1191.1 1545.58 1193.57 1545.58 Q1197.58 1545.58 1199.92 1543.48 Q1202.25 1541.37 1202.25 1537.76 Q1202.25 1534.15 1199.92 1532.04 Q1197.58 1529.94 1193.57 1529.94 Q1191.7 1529.94 1189.82 1530.35 Q1187.97 1530.77 1186.03 1531.65 L1186.03 1514.29 Z\" fill=\"#000000\" fill-rule=\"nonzero\" fill-opacity=\"1\" /><path clip-path=\"url(#clip680)\" d=\"M1226.14 1517.37 Q1222.53 1517.37 1220.7 1520.93 Q1218.9 1524.47 1218.9 1531.6 Q1218.9 1538.71 1220.7 1542.27 Q1222.53 1545.82 1226.14 1545.82 Q1229.78 1545.82 1231.58 1542.27 Q1233.41 1538.71 1233.41 1531.6 Q1233.41 1524.47 1231.58 1520.93 Q1229.78 1517.37 1226.14 1517.37 M1226.14 1513.66 Q1231.95 1513.66 1235.01 1518.27 Q1238.09 1522.85 1238.09 1531.6 Q1238.09 1540.33 1235.01 1544.94 Q1231.95 1549.52 1226.14 1549.52 Q1220.33 1549.52 1217.25 1544.94 Q1214.2 1540.33 1214.2 1531.6 Q1214.2 1522.85 1217.25 1518.27 Q1220.33 1513.66 1226.14 1513.66 Z\" fill=\"#000000\" fill-rule=\"nonzero\" fill-opacity=\"1\" /><path clip-path=\"url(#clip680)\" d=\"M1713.62 1514.29 L1735.84 1514.29 L1735.84 1516.28 L1723.3 1548.85 L1718.41 1548.85 L1730.22 1518.22 L1713.62 1518.22 L1713.62 1514.29 Z\" fill=\"#000000\" fill-rule=\"nonzero\" fill-opacity=\"1\" /><path clip-path=\"url(#clip680)\" d=\"M1745.01 1514.29 L1763.37 1514.29 L1763.37 1518.22 L1749.29 1518.22 L1749.29 1526.7 Q1750.31 1526.35 1751.33 1526.19 Q1752.35 1526 1753.37 1526 Q1759.15 1526 1762.53 1529.17 Q1765.91 1532.34 1765.91 1537.76 Q1765.91 1543.34 1762.44 1546.44 Q1758.97 1549.52 1752.65 1549.52 Q1750.47 1549.52 1748.2 1549.15 Q1745.96 1548.78 1743.55 1548.04 L1743.55 1543.34 Q1745.64 1544.47 1747.86 1545.03 Q1750.08 1545.58 1752.56 1545.58 Q1756.56 1545.58 1758.9 1543.48 Q1761.24 1541.37 1761.24 1537.76 Q1761.24 1534.15 1758.9 1532.04 Q1756.56 1529.94 1752.56 1529.94 Q1750.68 1529.94 1748.81 1530.35 Q1746.95 1530.77 1745.01 1531.65 L1745.01 1514.29 Z\" fill=\"#000000\" fill-rule=\"nonzero\" fill-opacity=\"1\" /><path clip-path=\"url(#clip680)\" d=\"M2227.81 1544.91 L2235.45 1544.91 L2235.45 1518.55 L2227.14 1520.21 L2227.14 1515.95 L2235.41 1514.29 L2240.08 1514.29 L2240.08 1544.91 L2247.72 1544.91 L2247.72 1548.85 L2227.81 1548.85 L2227.81 1544.91 Z\" fill=\"#000000\" fill-rule=\"nonzero\" fill-opacity=\"1\" /><path clip-path=\"url(#clip680)\" d=\"M2267.16 1517.37 Q2263.55 1517.37 2261.72 1520.93 Q2259.92 1524.47 2259.92 1531.6 Q2259.92 1538.71 2261.72 1542.27 Q2263.55 1545.82 2267.16 1545.82 Q2270.8 1545.82 2272.6 1542.27 Q2274.43 1538.71 2274.43 1531.6 Q2274.43 1524.47 2272.6 1520.93 Q2270.8 1517.37 2267.16 1517.37 M2267.16 1513.66 Q2272.97 1513.66 2276.03 1518.27 Q2279.11 1522.85 2279.11 1531.6 Q2279.11 1540.33 2276.03 1544.94 Q2272.97 1549.52 2267.16 1549.52 Q2261.35 1549.52 2258.28 1544.94 Q2255.22 1540.33 2255.22 1531.6 Q2255.22 1522.85 2258.28 1518.27 Q2261.35 1513.66 2267.16 1513.66 Z\" fill=\"#000000\" fill-rule=\"nonzero\" fill-opacity=\"1\" /><path clip-path=\"url(#clip680)\" d=\"M2297.33 1517.37 Q2293.71 1517.37 2291.89 1520.93 Q2290.08 1524.47 2290.08 1531.6 Q2290.08 1538.71 2291.89 1542.27 Q2293.71 1545.82 2297.33 1545.82 Q2300.96 1545.82 2302.77 1542.27 Q2304.59 1538.71 2304.59 1531.6 Q2304.59 1524.47 2302.77 1520.93 Q2300.96 1517.37 2297.33 1517.37 M2297.33 1513.66 Q2303.14 1513.66 2306.19 1518.27 Q2309.27 1522.85 2309.27 1531.6 Q2309.27 1540.33 2306.19 1544.94 Q2303.14 1549.52 2297.33 1549.52 Q2291.52 1549.52 2288.44 1544.94 Q2285.38 1540.33 2285.38 1531.6 Q2285.38 1522.85 2288.44 1518.27 Q2291.52 1513.66 2297.33 1513.66 Z\" fill=\"#000000\" fill-rule=\"nonzero\" fill-opacity=\"1\" /><polyline clip-path=\"url(#clip680)\" style=\"stroke:#000000; stroke-linecap:round; stroke-linejoin:round; stroke-width:4; stroke-opacity:1; fill:none\" points=\"112.177,1486.45 112.177,123.472 \"/>\n",
              "<polyline clip-path=\"url(#clip680)\" style=\"stroke:#000000; stroke-linecap:round; stroke-linejoin:round; stroke-width:4; stroke-opacity:1; fill:none\" points=\"112.177,1249.25 131.075,1249.25 \"/>\n",
              "<polyline clip-path=\"url(#clip680)\" style=\"stroke:#000000; stroke-linecap:round; stroke-linejoin:round; stroke-width:4; stroke-opacity:1; fill:none\" points=\"112.177,1000.97 131.075,1000.97 \"/>\n",
              "<polyline clip-path=\"url(#clip680)\" style=\"stroke:#000000; stroke-linecap:round; stroke-linejoin:round; stroke-width:4; stroke-opacity:1; fill:none\" points=\"112.177,752.687 131.075,752.687 \"/>\n",
              "<polyline clip-path=\"url(#clip680)\" style=\"stroke:#000000; stroke-linecap:round; stroke-linejoin:round; stroke-width:4; stroke-opacity:1; fill:none\" points=\"112.177,504.406 131.075,504.406 \"/>\n",
              "<polyline clip-path=\"url(#clip680)\" style=\"stroke:#000000; stroke-linecap:round; stroke-linejoin:round; stroke-width:4; stroke-opacity:1; fill:none\" points=\"112.177,256.126 131.075,256.126 \"/>\n",
              "<path clip-path=\"url(#clip680)\" d=\"M56.2699 1262.59 L63.9087 1262.59 L63.9087 1236.23 L55.5986 1237.89 L55.5986 1233.64 L63.8624 1231.97 L68.5383 1231.97 L68.5383 1262.59 L76.1772 1262.59 L76.1772 1266.53 L56.2699 1266.53 L56.2699 1262.59 Z\" fill=\"#000000\" fill-rule=\"nonzero\" fill-opacity=\"1\" /><path clip-path=\"url(#clip680)\" d=\"M59.8578 1014.31 L76.1772 1014.31 L76.1772 1018.25 L54.2328 1018.25 L54.2328 1014.31 Q56.8949 1011.56 61.4782 1006.93 Q66.0846 1002.28 67.2652 1000.93 Q69.5105 998.41 70.3902 996.674 Q71.2929 994.915 71.2929 993.225 Q71.2929 990.47 69.3485 988.734 Q67.4272 986.998 64.3254 986.998 Q62.1263 986.998 59.6726 987.762 Q57.2421 988.526 54.4643 990.077 L54.4643 985.354 Q57.2884 984.22 59.7421 983.641 Q62.1958 983.063 64.2328 983.063 Q69.6031 983.063 72.7976 985.748 Q75.992 988.433 75.992 992.924 Q75.992 995.053 75.1818 996.975 Q74.3948 998.873 72.2883 1001.47 Q71.7096 1002.14 68.6078 1005.35 Q65.5059 1008.55 59.8578 1014.31 Z\" fill=\"#000000\" fill-rule=\"nonzero\" fill-opacity=\"1\" /><path clip-path=\"url(#clip680)\" d=\"M69.0476 751.333 Q72.404 752.05 74.279 754.319 Q76.1772 756.587 76.1772 759.921 Q76.1772 765.036 72.6587 767.837 Q69.1402 770.638 62.6587 770.638 Q60.4828 770.638 58.168 770.198 Q55.8764 769.782 53.4227 768.925 L53.4227 764.411 Q55.3671 765.546 57.6819 766.124 Q59.9967 766.703 62.5198 766.703 Q66.918 766.703 69.2096 764.967 Q71.5244 763.231 71.5244 759.921 Q71.5244 756.865 69.3717 755.152 Q67.242 753.416 63.4226 753.416 L59.3949 753.416 L59.3949 749.574 L63.6078 749.574 Q67.0569 749.574 68.8855 748.208 Q70.7142 746.819 70.7142 744.226 Q70.7142 741.564 68.8161 740.152 Q66.9411 738.717 63.4226 738.717 Q61.5013 738.717 59.3023 739.134 Q57.1032 739.55 54.4643 740.43 L54.4643 736.263 Q57.1264 735.523 59.4412 735.152 Q61.7791 734.782 63.8393 734.782 Q69.1633 734.782 72.2652 737.213 Q75.367 739.62 75.367 743.74 Q75.367 746.611 73.7235 748.601 Q72.08 750.569 69.0476 751.333 Z\" fill=\"#000000\" fill-rule=\"nonzero\" fill-opacity=\"1\" /><path clip-path=\"url(#clip680)\" d=\"M66.5939 491.2 L54.7884 509.649 L66.5939 509.649 L66.5939 491.2 M65.367 487.126 L71.2466 487.126 L71.2466 509.649 L76.1772 509.649 L76.1772 513.538 L71.2466 513.538 L71.2466 521.686 L66.5939 521.686 L66.5939 513.538 L50.9921 513.538 L50.9921 509.024 L65.367 487.126 Z\" fill=\"#000000\" fill-rule=\"nonzero\" fill-opacity=\"1\" /><path clip-path=\"url(#clip680)\" d=\"M55.2745 238.846 L73.6309 238.846 L73.6309 242.781 L59.5569 242.781 L59.5569 251.253 Q60.5754 250.906 61.5939 250.744 Q62.6124 250.558 63.6309 250.558 Q69.418 250.558 72.7976 253.73 Q76.1772 256.901 76.1772 262.318 Q76.1772 267.896 72.705 270.998 Q69.2328 274.077 62.9134 274.077 Q60.7374 274.077 58.4689 273.706 Q56.2236 273.336 53.8162 272.595 L53.8162 267.896 Q55.8995 269.031 58.1217 269.586 Q60.3439 270.142 62.8208 270.142 Q66.8254 270.142 69.1633 268.035 Q71.5013 265.929 71.5013 262.318 Q71.5013 258.707 69.1633 256.6 Q66.8254 254.494 62.8208 254.494 Q60.9458 254.494 59.0708 254.91 Q57.2189 255.327 55.2745 256.207 L55.2745 238.846 Z\" fill=\"#000000\" fill-rule=\"nonzero\" fill-opacity=\"1\" /><path clip-path=\"url(#clip680)\" d=\"M838.233 43.6931 L838.233 65.8515 L851.357 65.8515 Q857.96 65.8515 861.12 63.1374 Q864.32 60.3828 864.32 54.752 Q864.32 49.0808 861.12 46.4072 Q857.96 43.6931 851.357 43.6931 L838.233 43.6931 M838.233 18.8205 L838.233 37.0496 L850.345 37.0496 Q856.34 37.0496 859.257 34.8216 Q862.214 32.5531 862.214 27.935 Q862.214 23.3575 859.257 21.089 Q856.34 18.8205 850.345 18.8205 L838.233 18.8205 M830.05 12.096 L850.952 12.096 Q860.31 12.096 865.374 15.9849 Q870.437 19.8737 870.437 27.0438 Q870.437 32.5936 867.845 35.8748 Q865.252 39.156 860.229 39.9662 Q866.265 41.2625 869.587 45.3944 Q872.949 49.4858 872.949 55.6432 Q872.949 63.745 867.44 68.1605 Q861.93 72.576 851.763 72.576 L830.05 72.576 L830.05 12.096 Z\" fill=\"#000000\" fill-rule=\"nonzero\" fill-opacity=\"1\" /><path clip-path=\"url(#clip680)\" d=\"M907.26 49.7694 Q898.226 49.7694 894.743 51.8354 Q891.259 53.9013 891.259 58.8839 Q891.259 62.8538 893.851 65.2034 Q896.485 67.5124 900.981 67.5124 Q907.179 67.5124 910.906 63.1374 Q914.673 58.7219 914.673 51.4303 L914.673 49.7694 L907.26 49.7694 M922.127 46.6907 L922.127 72.576 L914.673 72.576 L914.673 65.6895 Q912.121 69.8214 908.313 71.8063 Q904.505 73.7508 898.996 73.7508 Q892.029 73.7508 887.897 69.8619 Q883.805 65.9325 883.805 59.3701 Q883.805 51.7138 888.909 47.825 Q894.054 43.9361 904.222 43.9361 L914.673 43.9361 L914.673 43.2069 Q914.673 38.0623 911.27 35.2672 Q907.908 32.4315 901.791 32.4315 Q897.902 32.4315 894.216 33.3632 Q890.53 34.295 887.127 36.1584 L887.127 29.2718 Q891.218 27.692 895.067 26.9223 Q898.915 26.1121 902.561 26.1121 Q912.405 26.1121 917.266 31.2163 Q922.127 36.3204 922.127 46.6907 Z\" fill=\"#000000\" fill-rule=\"nonzero\" fill-opacity=\"1\" /><path clip-path=\"url(#clip680)\" d=\"M966.403 28.5427 L966.403 35.5912 Q963.243 33.9709 959.841 33.1607 Q956.438 32.3505 952.792 32.3505 Q947.242 32.3505 944.447 34.0519 Q941.693 35.7533 941.693 39.156 Q941.693 41.7486 943.678 43.2475 Q945.663 44.7058 951.658 46.0426 L954.21 46.6097 Q962.15 48.3111 965.471 51.4303 Q968.834 54.509 968.834 60.0587 Q968.834 66.3781 963.811 70.0644 Q958.828 73.7508 950.078 73.7508 Q946.432 73.7508 942.462 73.0216 Q938.533 72.3329 934.158 70.9151 L934.158 63.2184 Q938.29 65.3654 942.3 66.4591 Q946.311 67.5124 950.24 67.5124 Q955.506 67.5124 958.342 65.73 Q961.177 63.9071 961.177 60.6258 Q961.177 57.5877 959.112 55.9673 Q957.086 54.3469 950.159 52.8481 L947.566 52.2405 Q940.639 50.7821 937.561 47.7845 Q934.482 44.7463 934.482 39.4801 Q934.482 33.0797 939.019 29.5959 Q943.556 26.1121 951.901 26.1121 Q956.033 26.1121 959.679 26.7198 Q963.324 27.3274 966.403 28.5427 Z\" fill=\"#000000\" fill-rule=\"nonzero\" fill-opacity=\"1\" /><path clip-path=\"url(#clip680)\" d=\"M1019.51 48.0275 L1019.51 51.6733 L985.24 51.6733 Q985.726 59.3701 989.858 63.421 Q994.03 67.4314 1001.44 67.4314 Q1005.74 67.4314 1009.75 66.3781 Q1013.8 65.3249 1017.77 63.2184 L1017.77 70.267 Q1013.76 71.9684 1009.55 72.8596 Q1005.33 73.7508 1001 73.7508 Q990.141 73.7508 983.782 67.4314 Q977.462 61.1119 977.462 50.3365 Q977.462 39.1965 983.457 32.6746 Q989.493 26.1121 999.702 26.1121 Q1008.86 26.1121 1014.16 32.0264 Q1019.51 37.9003 1019.51 48.0275 M1012.06 45.84 Q1011.98 39.7232 1008.61 36.0774 Q1005.29 32.4315 999.783 32.4315 Q993.544 32.4315 989.777 35.9558 Q986.05 39.4801 985.483 45.8805 L1012.06 45.84 Z\" fill=\"#000000\" fill-rule=\"nonzero\" fill-opacity=\"1\" /><path clip-path=\"url(#clip680)\" d=\"M1031.74 9.54393 L1039.2 9.54393 L1039.2 72.576 L1031.74 72.576 L1031.74 9.54393 Z\" fill=\"#000000\" fill-rule=\"nonzero\" fill-opacity=\"1\" /><path clip-path=\"url(#clip680)\" d=\"M1054.79 27.2059 L1062.25 27.2059 L1062.25 72.576 L1054.79 72.576 L1054.79 27.2059 M1054.79 9.54393 L1062.25 9.54393 L1062.25 18.9825 L1054.79 18.9825 L1054.79 9.54393 Z\" fill=\"#000000\" fill-rule=\"nonzero\" fill-opacity=\"1\" /><path clip-path=\"url(#clip680)\" d=\"M1115.56 45.1919 L1115.56 72.576 L1108.1 72.576 L1108.1 45.4349 Q1108.1 38.994 1105.59 35.7938 Q1103.08 32.5936 1098.06 32.5936 Q1092.02 32.5936 1088.54 36.4419 Q1085.05 40.2903 1085.05 46.9338 L1085.05 72.576 L1077.56 72.576 L1077.56 27.2059 L1085.05 27.2059 L1085.05 34.2544 Q1087.73 30.163 1091.33 28.1376 Q1094.98 26.1121 1099.72 26.1121 Q1107.54 26.1121 1111.55 30.9732 Q1115.56 35.7938 1115.56 45.1919 Z\" fill=\"#000000\" fill-rule=\"nonzero\" fill-opacity=\"1\" /><path clip-path=\"url(#clip680)\" d=\"M1169.23 48.0275 L1169.23 51.6733 L1134.96 51.6733 Q1135.45 59.3701 1139.58 63.421 Q1143.75 67.4314 1151.16 67.4314 Q1155.46 67.4314 1159.47 66.3781 Q1163.52 65.3249 1167.49 63.2184 L1167.49 70.267 Q1163.48 71.9684 1159.27 72.8596 Q1155.05 73.7508 1150.72 73.7508 Q1139.86 73.7508 1133.5 67.4314 Q1127.18 61.1119 1127.18 50.3365 Q1127.18 39.1965 1133.18 32.6746 Q1139.21 26.1121 1149.42 26.1121 Q1158.58 26.1121 1163.88 32.0264 Q1169.23 37.9003 1169.23 48.0275 M1161.78 45.84 Q1161.7 39.7232 1158.33 36.0774 Q1155.01 32.4315 1149.5 32.4315 Q1143.27 32.4315 1139.5 35.9558 Q1135.77 39.4801 1135.2 45.8805 L1161.78 45.84 Z\" fill=\"#000000\" fill-rule=\"nonzero\" fill-opacity=\"1\" /><path clip-path=\"url(#clip680)\" d=\"M1244.42 14.0809 L1244.42 22.0612 Q1239.76 19.8332 1235.63 18.7395 Q1231.49 17.6457 1227.65 17.6457 Q1220.96 17.6457 1217.32 20.2383 Q1213.71 22.8309 1213.71 27.611 Q1213.71 31.6214 1216.1 33.6873 Q1218.53 35.7128 1225.26 36.9686 L1230.2 37.9813 Q1239.35 39.7232 1243.69 44.1387 Q1248.06 48.5136 1248.06 55.8863 Q1248.06 64.6767 1242.15 69.2137 Q1236.27 73.7508 1224.89 73.7508 Q1220.6 73.7508 1215.74 72.7785 Q1210.92 71.8063 1205.73 69.9024 L1205.73 61.4765 Q1210.71 64.2716 1215.49 65.6895 Q1220.27 67.1073 1224.89 67.1073 Q1231.9 67.1073 1235.71 64.3527 Q1239.52 61.598 1239.52 56.4939 Q1239.52 52.0379 1236.76 49.5264 Q1234.05 47.0148 1227.81 45.759 L1222.83 44.7868 Q1213.67 42.9639 1209.58 39.075 Q1205.49 35.1862 1205.49 28.2591 Q1205.49 20.2383 1211.12 15.6203 Q1216.79 11.0023 1226.71 11.0023 Q1230.97 11.0023 1235.38 11.7719 Q1239.8 12.5416 1244.42 14.0809 Z\" fill=\"#000000\" fill-rule=\"nonzero\" fill-opacity=\"1\" /><path clip-path=\"url(#clip680)\" d=\"M1260.5 27.2059 L1267.95 27.2059 L1267.95 72.576 L1260.5 72.576 L1260.5 27.2059 M1260.5 9.54393 L1267.95 9.54393 L1267.95 18.9825 L1260.5 18.9825 L1260.5 9.54393 Z\" fill=\"#000000\" fill-rule=\"nonzero\" fill-opacity=\"1\" /><path clip-path=\"url(#clip680)\" d=\"M1318.87 35.9153 Q1321.67 30.8922 1325.56 28.5022 Q1329.45 26.1121 1334.71 26.1121 Q1341.8 26.1121 1345.65 31.0947 Q1349.5 36.0368 1349.5 45.1919 L1349.5 72.576 L1342 72.576 L1342 45.4349 Q1342 38.913 1339.69 35.7533 Q1337.38 32.5936 1332.65 32.5936 Q1326.85 32.5936 1323.49 36.4419 Q1320.13 40.2903 1320.13 46.9338 L1320.13 72.576 L1312.63 72.576 L1312.63 45.4349 Q1312.63 38.8725 1310.32 35.7533 Q1308.02 32.5936 1303.2 32.5936 Q1297.48 32.5936 1294.12 36.4824 Q1290.76 40.3308 1290.76 46.9338 L1290.76 72.576 L1283.26 72.576 L1283.26 27.2059 L1290.76 27.2059 L1290.76 34.2544 Q1293.31 30.082 1296.88 28.0971 Q1300.44 26.1121 1305.34 26.1121 Q1310.28 26.1121 1313.73 28.6237 Q1317.21 31.1352 1318.87 35.9153 Z\" fill=\"#000000\" fill-rule=\"nonzero\" fill-opacity=\"1\" /><path clip-path=\"url(#clip680)\" d=\"M1363.59 54.671 L1363.59 27.2059 L1371.05 27.2059 L1371.05 54.3874 Q1371.05 60.8284 1373.56 64.0691 Q1376.07 67.2693 1381.09 67.2693 Q1387.13 67.2693 1390.61 63.421 Q1394.14 59.5726 1394.14 52.9291 L1394.14 27.2059 L1401.59 27.2059 L1401.59 72.576 L1394.14 72.576 L1394.14 65.6084 Q1391.42 69.7404 1387.82 71.7658 Q1384.25 73.7508 1379.51 73.7508 Q1371.7 73.7508 1367.65 68.8897 Q1363.59 64.0286 1363.59 54.671 M1382.35 26.1121 L1382.35 26.1121 Z\" fill=\"#000000\" fill-rule=\"nonzero\" fill-opacity=\"1\" /><path clip-path=\"url(#clip680)\" d=\"M1416.94 9.54393 L1424.4 9.54393 L1424.4 72.576 L1416.94 72.576 L1416.94 9.54393 Z\" fill=\"#000000\" fill-rule=\"nonzero\" fill-opacity=\"1\" /><path clip-path=\"url(#clip680)\" d=\"M1460.61 49.7694 Q1451.58 49.7694 1448.1 51.8354 Q1444.61 53.9013 1444.61 58.8839 Q1444.61 62.8538 1447.2 65.2034 Q1449.84 67.5124 1454.33 67.5124 Q1460.53 67.5124 1464.26 63.1374 Q1468.03 58.7219 1468.03 51.4303 L1468.03 49.7694 L1460.61 49.7694 M1475.48 46.6907 L1475.48 72.576 L1468.03 72.576 L1468.03 65.6895 Q1465.47 69.8214 1461.67 71.8063 Q1457.86 73.7508 1452.35 73.7508 Q1445.38 73.7508 1441.25 69.8619 Q1437.16 65.9325 1437.16 59.3701 Q1437.16 51.7138 1442.26 47.825 Q1447.41 43.9361 1457.58 43.9361 L1468.03 43.9361 L1468.03 43.2069 Q1468.03 38.0623 1464.62 35.2672 Q1461.26 32.4315 1455.14 32.4315 Q1451.26 32.4315 1447.57 33.3632 Q1443.88 34.295 1440.48 36.1584 L1440.48 29.2718 Q1444.57 27.692 1448.42 26.9223 Q1452.27 26.1121 1455.91 26.1121 Q1465.76 26.1121 1470.62 31.2163 Q1475.48 36.3204 1475.48 46.6907 Z\" fill=\"#000000\" fill-rule=\"nonzero\" fill-opacity=\"1\" /><path clip-path=\"url(#clip680)\" d=\"M1498.21 14.324 L1498.21 27.2059 L1513.56 27.2059 L1513.56 32.9987 L1498.21 32.9987 L1498.21 57.6282 Q1498.21 63.1779 1499.7 64.7578 Q1501.24 66.3376 1505.9 66.3376 L1513.56 66.3376 L1513.56 72.576 L1505.9 72.576 Q1497.27 72.576 1493.99 69.3758 Q1490.71 66.1351 1490.71 57.6282 L1490.71 32.9987 L1485.24 32.9987 L1485.24 27.2059 L1490.71 27.2059 L1490.71 14.324 L1498.21 14.324 Z\" fill=\"#000000\" fill-rule=\"nonzero\" fill-opacity=\"1\" /><path clip-path=\"url(#clip680)\" d=\"M1523.36 27.2059 L1530.82 27.2059 L1530.82 72.576 L1523.36 72.576 L1523.36 27.2059 M1523.36 9.54393 L1530.82 9.54393 L1530.82 18.9825 L1523.36 18.9825 L1523.36 9.54393 Z\" fill=\"#000000\" fill-rule=\"nonzero\" fill-opacity=\"1\" /><path clip-path=\"url(#clip680)\" d=\"M1563.99 32.4315 Q1558 32.4315 1554.51 37.1306 Q1551.03 41.7891 1551.03 49.9314 Q1551.03 58.0738 1554.47 62.7728 Q1557.96 67.4314 1563.99 67.4314 Q1569.95 67.4314 1573.43 62.7323 Q1576.91 58.0333 1576.91 49.9314 Q1576.91 41.8701 1573.43 37.1711 Q1569.95 32.4315 1563.99 32.4315 M1563.99 26.1121 Q1573.71 26.1121 1579.26 32.4315 Q1584.81 38.7509 1584.81 49.9314 Q1584.81 61.0714 1579.26 67.4314 Q1573.71 73.7508 1563.99 73.7508 Q1554.23 73.7508 1548.68 67.4314 Q1543.17 61.0714 1543.17 49.9314 Q1543.17 38.7509 1548.68 32.4315 Q1554.23 26.1121 1563.99 26.1121 Z\" fill=\"#000000\" fill-rule=\"nonzero\" fill-opacity=\"1\" /><path clip-path=\"url(#clip680)\" d=\"M1634.88 45.1919 L1634.88 72.576 L1627.43 72.576 L1627.43 45.4349 Q1627.43 38.994 1624.92 35.7938 Q1622.41 32.5936 1617.38 32.5936 Q1611.35 32.5936 1607.86 36.4419 Q1604.38 40.2903 1604.38 46.9338 L1604.38 72.576 L1596.89 72.576 L1596.89 27.2059 L1604.38 27.2059 L1604.38 34.2544 Q1607.05 30.163 1610.66 28.1376 Q1614.3 26.1121 1619.04 26.1121 Q1626.86 26.1121 1630.87 30.9732 Q1634.88 35.7938 1634.88 45.1919 Z\" fill=\"#000000\" fill-rule=\"nonzero\" fill-opacity=\"1\" /><polyline clip-path=\"url(#clip682)\" style=\"stroke:#009af9; stroke-linecap:round; stroke-linejoin:round; stroke-width:4; stroke-opacity:1; fill:none\" points=\"175.59,1447.87 196.727,1422.2 217.865,1395.01 239.002,1367.18 260.14,1339.29 281.277,1311.73 302.415,1284.79 323.553,1258.66 344.69,1233.46 365.828,1209.29 386.965,1186.18 408.103,1164.17 429.24,1143.26 450.378,1123.44 471.515,1104.7 492.653,1087 513.79,1070.31 534.928,1054.59 556.065,1039.81 577.203,1025.93 598.34,1012.89 619.478,1000.67 640.616,989.207 661.753,978.474 682.891,968.428 704.028,959.029 725.166,950.24 746.303,942.025 767.441,934.349 788.578,927.18 809.716,920.487 830.853,914.239 851.991,908.409 873.128,902.971 894.266,897.899 915.404,893.169 936.541,888.76 957.679,884.65 978.816,880.82 999.954,877.25 1021.09,873.925 1042.23,870.828 1063.37,867.942 1084.5,865.255 1105.64,862.753 1126.78,860.423 1147.92,858.254 1169.05,856.234 1190.19,854.354 1211.33,852.604 1232.47,850.975 1253.6,849.459 1274.74,848.047 1295.88,846.734 1317.02,845.512 1338.15,844.375 1359.29,843.317 1380.43,842.333 1401.57,841.416 1422.7,840.564 1443.84,839.771 1464.98,839.034 1486.12,838.347 1507.25,837.709 1528.39,837.115 1549.53,836.562 1570.67,836.048 1591.8,835.57 1612.94,835.125 1634.08,834.712 1655.22,834.327 1676.35,833.969 1697.49,833.636 1718.63,833.326 1739.77,833.038 1760.9,832.77 1782.04,832.521 1803.18,832.289 1824.32,832.073 1845.46,831.873 1866.59,831.686 1887.73,831.513 1908.87,831.352 1930.01,831.202 1951.14,831.062 1972.28,830.932 1993.42,830.812 2014.56,830.699 2035.69,830.595 2056.83,830.498 2077.97,830.407 2099.11,830.323 2120.24,830.245 2141.38,830.173 2162.52,830.105 2183.66,830.042 2204.79,829.984 2225.93,829.929 2247.07,829.879 2268.21,829.832 2289.34,829.788 \"/>\n",
              "<polyline clip-path=\"url(#clip682)\" style=\"stroke:#e26f46; stroke-linecap:round; stroke-linejoin:round; stroke-width:4; stroke-opacity:1; fill:none\" points=\"175.59,1398.22 196.727,1346.87 217.865,1292.49 239.002,1236.83 260.14,1181.05 281.277,1125.94 302.415,1072.05 323.553,1019.79 344.69,969.394 365.828,921.042 386.965,874.831 408.103,830.81 429.24,788.991 450.378,749.355 471.515,711.864 492.653,676.463 513.79,643.085 534.928,611.656 556.065,582.096 577.203,554.323 598.34,528.253 619.478,503.801 640.616,480.884 661.753,459.419 682.891,439.326 704.028,420.528 725.166,402.95 746.303,386.52 767.441,371.169 788.578,356.831 809.716,343.444 830.853,330.949 851.991,319.29 873.128,308.413 894.266,298.268 915.404,288.809 936.541,279.99 957.679,271.77 978.816,264.11 999.954,256.972 1021.09,250.321 1042.23,244.126 1063.37,238.356 1084.5,232.981 1105.64,227.977 1126.78,223.317 1147.92,218.978 1169.05,214.939 1190.19,211.178 1211.33,207.678 1232.47,204.42 1253.6,201.388 1274.74,198.566 1295.88,195.939 1317.02,193.495 1338.15,191.221 1359.29,189.105 1380.43,187.136 1401.57,185.304 1422.7,183.599 1443.84,182.013 1464.98,180.538 1486.12,179.165 1507.25,177.888 1528.39,176.7 1549.53,175.595 1570.67,174.567 1591.8,173.611 1612.94,172.721 1634.08,171.894 1655.22,171.124 1676.35,170.408 1697.49,169.742 1718.63,169.123 1739.77,168.547 1760.9,168.011 1782.04,167.512 1803.18,167.049 1824.32,166.618 1845.46,166.217 1866.59,165.844 1887.73,165.497 1908.87,165.174 1930.01,164.874 1951.14,164.595 1972.28,164.335 1993.42,164.094 2014.56,163.869 2035.69,163.66 2056.83,163.466 2077.97,163.286 2099.11,163.118 2120.24,162.961 2141.38,162.816 2162.52,162.681 2183.66,162.555 2204.79,162.438 2225.93,162.33 2247.07,162.228 2268.21,162.134 2289.34,162.047 \"/>\n",
              "<path clip-path=\"url(#clip680)\" d=\"M1890.33 1441.02 L2278.07 1441.02 L2278.07 1285.5 L1890.33 1285.5  Z\" fill=\"#ffffff\" fill-rule=\"evenodd\" fill-opacity=\"1\"/>\n",
              "<polyline clip-path=\"url(#clip680)\" style=\"stroke:#000000; stroke-linecap:round; stroke-linejoin:round; stroke-width:4; stroke-opacity:1; fill:none\" points=\"1890.33,1441.02 2278.07,1441.02 2278.07,1285.5 1890.33,1285.5 1890.33,1441.02 \"/>\n",
              "<polyline clip-path=\"url(#clip680)\" style=\"stroke:#009af9; stroke-linecap:round; stroke-linejoin:round; stroke-width:4; stroke-opacity:1; fill:none\" points=\"1915.23,1337.34 2064.6,1337.34 \"/>\n",
              "<path clip-path=\"url(#clip680)\" d=\"M2089.49 1318.6 L2093.78 1318.6 L2093.78 1339.87 L2106.49 1328.69 L2111.93 1328.69 L2098.18 1340.82 L2112.5 1354.62 L2106.95 1354.62 L2093.78 1341.95 L2093.78 1354.62 L2089.49 1354.62 L2089.49 1318.6 Z\" fill=\"#000000\" fill-rule=\"nonzero\" fill-opacity=\"1\" /><path clip-path=\"url(#clip680)\" d=\"M2127.71 1323.13 Q2124.1 1323.13 2122.27 1326.7 Q2120.47 1330.24 2120.47 1337.37 Q2120.47 1344.48 2122.27 1348.04 Q2124.1 1351.58 2127.71 1351.58 Q2131.35 1351.58 2133.15 1348.04 Q2134.98 1344.48 2134.98 1337.37 Q2134.98 1330.24 2133.15 1326.7 Q2131.35 1323.13 2127.71 1323.13 M2127.71 1319.43 Q2133.52 1319.43 2136.58 1324.04 Q2139.66 1328.62 2139.66 1337.37 Q2139.66 1346.1 2136.58 1350.7 Q2133.52 1355.29 2127.71 1355.29 Q2121.9 1355.29 2118.82 1350.7 Q2115.77 1346.1 2115.77 1337.37 Q2115.77 1328.62 2118.82 1324.04 Q2121.9 1319.43 2127.71 1319.43 Z\" fill=\"#000000\" fill-rule=\"nonzero\" fill-opacity=\"1\" /><path clip-path=\"url(#clip680)\" d=\"M2147.83 1333.09 L2177.5 1333.09 L2177.5 1336.98 L2147.83 1336.98 L2147.83 1333.09 M2147.83 1342.53 L2177.5 1342.53 L2177.5 1346.47 L2147.83 1346.47 L2147.83 1342.53 Z\" fill=\"#000000\" fill-rule=\"nonzero\" fill-opacity=\"1\" /><path clip-path=\"url(#clip680)\" d=\"M2197.6 1323.13 Q2193.99 1323.13 2192.16 1326.7 Q2190.35 1330.24 2190.35 1337.37 Q2190.35 1344.48 2192.16 1348.04 Q2193.99 1351.58 2197.6 1351.58 Q2201.23 1351.58 2203.04 1348.04 Q2204.86 1344.48 2204.86 1337.37 Q2204.86 1330.24 2203.04 1326.7 Q2201.23 1323.13 2197.6 1323.13 M2197.6 1319.43 Q2203.41 1319.43 2206.46 1324.04 Q2209.54 1328.62 2209.54 1337.37 Q2209.54 1346.1 2206.46 1350.7 Q2203.41 1355.29 2197.6 1355.29 Q2191.79 1355.29 2188.71 1350.7 Q2185.65 1346.1 2185.65 1337.37 Q2185.65 1328.62 2188.71 1324.04 Q2191.79 1319.43 2197.6 1319.43 Z\" fill=\"#000000\" fill-rule=\"nonzero\" fill-opacity=\"1\" /><path clip-path=\"url(#clip680)\" d=\"M2217.76 1348.74 L2222.64 1348.74 L2222.64 1354.62 L2217.76 1354.62 L2217.76 1348.74 Z\" fill=\"#000000\" fill-rule=\"nonzero\" fill-opacity=\"1\" /><path clip-path=\"url(#clip680)\" d=\"M2236.86 1350.68 L2253.17 1350.68 L2253.17 1354.62 L2231.23 1354.62 L2231.23 1350.68 Q2233.89 1347.93 2238.48 1343.3 Q2243.08 1338.64 2244.26 1337.3 Q2246.51 1334.78 2247.39 1333.04 Q2248.29 1331.28 2248.29 1329.59 Q2248.29 1326.84 2246.35 1325.1 Q2244.42 1323.37 2241.32 1323.37 Q2239.12 1323.37 2236.67 1324.13 Q2234.24 1324.89 2231.46 1326.44 L2231.46 1321.72 Q2234.29 1320.59 2236.74 1320.01 Q2239.19 1319.43 2241.23 1319.43 Q2246.6 1319.43 2249.8 1322.12 Q2252.99 1324.8 2252.99 1329.29 Q2252.99 1331.42 2252.18 1333.34 Q2251.39 1335.24 2249.29 1337.83 Q2248.71 1338.5 2245.61 1341.72 Q2242.5 1344.92 2236.86 1350.68 Z\" fill=\"#000000\" fill-rule=\"nonzero\" fill-opacity=\"1\" /><polyline clip-path=\"url(#clip680)\" style=\"stroke:#e26f46; stroke-linecap:round; stroke-linejoin:round; stroke-width:4; stroke-opacity:1; fill:none\" points=\"1915.23,1389.18 2064.6,1389.18 \"/>\n",
              "<path clip-path=\"url(#clip680)\" d=\"M2103.34 1408.86 Q2101.53 1413.49 2099.82 1414.9 Q2098.11 1416.32 2095.24 1416.32 L2091.83 1416.32 L2091.83 1412.75 L2094.33 1412.75 Q2096.09 1412.75 2097.06 1411.92 Q2098.04 1411.08 2099.22 1407.98 L2099.98 1406.04 L2089.49 1380.53 L2094.01 1380.53 L2102.11 1400.81 L2110.21 1380.53 L2114.73 1380.53 L2103.34 1408.86 Z\" fill=\"#000000\" fill-rule=\"nonzero\" fill-opacity=\"1\" /><path clip-path=\"url(#clip680)\" d=\"M2125.24 1402.52 L2141.55 1402.52 L2141.55 1406.46 L2119.61 1406.46 L2119.61 1402.52 Q2122.27 1399.77 2126.86 1395.14 Q2131.46 1390.48 2132.64 1389.14 Q2134.89 1386.62 2135.77 1384.88 Q2136.67 1383.12 2136.67 1381.43 Q2136.67 1378.68 2134.73 1376.94 Q2132.8 1375.21 2129.7 1375.21 Q2127.5 1375.21 2125.05 1375.97 Q2122.62 1376.73 2119.84 1378.28 L2119.84 1373.56 Q2122.67 1372.43 2125.12 1371.85 Q2127.57 1371.27 2129.61 1371.27 Q2134.98 1371.27 2138.18 1373.96 Q2141.37 1376.64 2141.37 1381.13 Q2141.37 1383.26 2140.56 1385.18 Q2139.77 1387.08 2137.67 1389.67 Q2137.09 1390.34 2133.99 1393.56 Q2130.88 1396.76 2125.24 1402.52 Z\" fill=\"#000000\" fill-rule=\"nonzero\" fill-opacity=\"1\" /></svg>"
            ]
          }
        }
      ],
      "source": [
        "# to add two lines, you need modify an existing plot\n",
        "pl = plot(sim; title=\"Baseline Simulation\", label=\"k0=0.2\")\n",
        "plot!(pl, sim*2)"
      ],
      "id": "cell-45"
    },
    {
      "cell_type": "code",
      "execution_count": 42,
      "metadata": {},
      "outputs": [],
      "source": [
        "# what if I want to change the parametrization? for a different saving rate\n",
        "k0 = 0.2\n",
        "sim1 = simulate(k0, merge(model, (;s=0.2)));\n",
        "sim2 = simulate(k0, merge(model, (;s=0.3)));"
      ],
      "id": "cell-46"
    },
    {
      "cell_type": "code",
      "execution_count": 43,
      "metadata": {},
      "outputs": [
        {
          "output_type": "display_data",
          "metadata": {},
          "data": {
            "text/html": [
              "<?xml version=\"1.0\" encoding=\"utf-8\"?>\n",
              "<svg xmlns=\"http://www.w3.org/2000/svg\" xmlns:xlink=\"http://www.w3.org/1999/xlink\" width=\"600\" height=\"400\" viewBox=\"0 0 2400 1600\">\n",
              "<defs>\n",
              "  <clipPath id=\"clip220\">\n",
              "    <rect x=\"0\" y=\"0\" width=\"2400\" height=\"1600\"/>\n",
              "  </clipPath>\n",
              "</defs>\n",
              "<path clip-path=\"url(#clip220)\" d=\"M0 1600 L2400 1600 L2400 0 L0 0  Z\" fill=\"#ffffff\" fill-rule=\"evenodd\" fill-opacity=\"1\"/>\n",
              "<defs>\n",
              "  <clipPath id=\"clip221\">\n",
              "    <rect x=\"480\" y=\"0\" width=\"1681\" height=\"1600\"/>\n",
              "  </clipPath>\n",
              "</defs>\n",
              "<path clip-path=\"url(#clip220)\" d=\"M112.177 1486.45 L2352.76 1486.45 L2352.76 47.2441 L112.177 47.2441  Z\" fill=\"#ffffff\" fill-rule=\"evenodd\" fill-opacity=\"1\"/>\n",
              "<defs>\n",
              "  <clipPath id=\"clip222\">\n",
              "    <rect x=\"112\" y=\"47\" width=\"2242\" height=\"1440\"/>\n",
              "  </clipPath>\n",
              "</defs>\n",
              "<polyline clip-path=\"url(#clip222)\" style=\"stroke:#000000; stroke-linecap:round; stroke-linejoin:round; stroke-width:2; stroke-opacity:0.1; fill:none\" points=\"154.452,1486.45 154.452,47.2441 \"/>\n",
              "<polyline clip-path=\"url(#clip222)\" style=\"stroke:#000000; stroke-linecap:round; stroke-linejoin:round; stroke-width:2; stroke-opacity:0.1; fill:none\" points=\"682.891,1486.45 682.891,47.2441 \"/>\n",
              "<polyline clip-path=\"url(#clip222)\" style=\"stroke:#000000; stroke-linecap:round; stroke-linejoin:round; stroke-width:2; stroke-opacity:0.1; fill:none\" points=\"1211.33,1486.45 1211.33,47.2441 \"/>\n",
              "<polyline clip-path=\"url(#clip222)\" style=\"stroke:#000000; stroke-linecap:round; stroke-linejoin:round; stroke-width:2; stroke-opacity:0.1; fill:none\" points=\"1739.77,1486.45 1739.77,47.2441 \"/>\n",
              "<polyline clip-path=\"url(#clip222)\" style=\"stroke:#000000; stroke-linecap:round; stroke-linejoin:round; stroke-width:2; stroke-opacity:0.1; fill:none\" points=\"2268.21,1486.45 2268.21,47.2441 \"/>\n",
              "<polyline clip-path=\"url(#clip222)\" style=\"stroke:#000000; stroke-linecap:round; stroke-linejoin:round; stroke-width:2; stroke-opacity:0.1; fill:none\" points=\"112.177,1209.56 2352.76,1209.56 \"/>\n",
              "<polyline clip-path=\"url(#clip222)\" style=\"stroke:#000000; stroke-linecap:round; stroke-linejoin:round; stroke-width:2; stroke-opacity:0.1; fill:none\" points=\"112.177,914.37 2352.76,914.37 \"/>\n",
              "<polyline clip-path=\"url(#clip222)\" style=\"stroke:#000000; stroke-linecap:round; stroke-linejoin:round; stroke-width:2; stroke-opacity:0.1; fill:none\" points=\"112.177,619.178 2352.76,619.178 \"/>\n",
              "<polyline clip-path=\"url(#clip222)\" style=\"stroke:#000000; stroke-linecap:round; stroke-linejoin:round; stroke-width:2; stroke-opacity:0.1; fill:none\" points=\"112.177,323.986 2352.76,323.986 \"/>\n",
              "<polyline clip-path=\"url(#clip220)\" style=\"stroke:#000000; stroke-linecap:round; stroke-linejoin:round; stroke-width:4; stroke-opacity:1; fill:none\" points=\"112.177,1486.45 2352.76,1486.45 \"/>\n",
              "<polyline clip-path=\"url(#clip220)\" style=\"stroke:#000000; stroke-linecap:round; stroke-linejoin:round; stroke-width:4; stroke-opacity:1; fill:none\" points=\"154.452,1486.45 154.452,1467.55 \"/>\n",
              "<polyline clip-path=\"url(#clip220)\" style=\"stroke:#000000; stroke-linecap:round; stroke-linejoin:round; stroke-width:4; stroke-opacity:1; fill:none\" points=\"682.891,1486.45 682.891,1467.55 \"/>\n",
              "<polyline clip-path=\"url(#clip220)\" style=\"stroke:#000000; stroke-linecap:round; stroke-linejoin:round; stroke-width:4; stroke-opacity:1; fill:none\" points=\"1211.33,1486.45 1211.33,1467.55 \"/>\n",
              "<polyline clip-path=\"url(#clip220)\" style=\"stroke:#000000; stroke-linecap:round; stroke-linejoin:round; stroke-width:4; stroke-opacity:1; fill:none\" points=\"1739.77,1486.45 1739.77,1467.55 \"/>\n",
              "<polyline clip-path=\"url(#clip220)\" style=\"stroke:#000000; stroke-linecap:round; stroke-linejoin:round; stroke-width:4; stroke-opacity:1; fill:none\" points=\"2268.21,1486.45 2268.21,1467.55 \"/>\n",
              "<path clip-path=\"url(#clip220)\" d=\"M154.452 1517.37 Q150.841 1517.37 149.012 1520.93 Q147.207 1524.47 147.207 1531.6 Q147.207 1538.71 149.012 1542.27 Q150.841 1545.82 154.452 1545.82 Q158.086 1545.82 159.892 1542.27 Q161.721 1538.71 161.721 1531.6 Q161.721 1524.47 159.892 1520.93 Q158.086 1517.37 154.452 1517.37 M154.452 1513.66 Q160.262 1513.66 163.318 1518.27 Q166.397 1522.85 166.397 1531.6 Q166.397 1540.33 163.318 1544.94 Q160.262 1549.52 154.452 1549.52 Q148.642 1549.52 145.563 1544.94 Q142.508 1540.33 142.508 1531.6 Q142.508 1522.85 145.563 1518.27 Q148.642 1513.66 154.452 1513.66 Z\" fill=\"#000000\" fill-rule=\"nonzero\" fill-opacity=\"1\" /><path clip-path=\"url(#clip220)\" d=\"M662.162 1544.91 L678.481 1544.91 L678.481 1548.85 L656.537 1548.85 L656.537 1544.91 Q659.199 1542.16 663.782 1537.53 Q668.388 1532.88 669.569 1531.53 Q671.814 1529.01 672.694 1527.27 Q673.597 1525.51 673.597 1523.82 Q673.597 1521.07 671.652 1519.33 Q669.731 1517.6 666.629 1517.6 Q664.43 1517.6 661.976 1518.36 Q659.546 1519.13 656.768 1520.68 L656.768 1515.95 Q659.592 1514.82 662.046 1514.24 Q664.5 1513.66 666.537 1513.66 Q671.907 1513.66 675.101 1516.35 Q678.296 1519.03 678.296 1523.52 Q678.296 1525.65 677.486 1527.57 Q676.699 1529.47 674.592 1532.07 Q674.013 1532.74 670.912 1535.95 Q667.81 1539.15 662.162 1544.91 Z\" fill=\"#000000\" fill-rule=\"nonzero\" fill-opacity=\"1\" /><path clip-path=\"url(#clip220)\" d=\"M688.342 1514.29 L706.698 1514.29 L706.698 1518.22 L692.624 1518.22 L692.624 1526.7 Q693.643 1526.35 694.661 1526.19 Q695.68 1526 696.698 1526 Q702.485 1526 705.865 1529.17 Q709.245 1532.34 709.245 1537.76 Q709.245 1543.34 705.772 1546.44 Q702.3 1549.52 695.981 1549.52 Q693.805 1549.52 691.536 1549.15 Q689.291 1548.78 686.884 1548.04 L686.884 1543.34 Q688.967 1544.47 691.189 1545.03 Q693.411 1545.58 695.888 1545.58 Q699.893 1545.58 702.231 1543.48 Q704.569 1541.37 704.569 1537.76 Q704.569 1534.15 702.231 1532.04 Q699.893 1529.94 695.888 1529.94 Q694.013 1529.94 692.138 1530.35 Q690.286 1530.77 688.342 1531.65 L688.342 1514.29 Z\" fill=\"#000000\" fill-rule=\"nonzero\" fill-opacity=\"1\" /><path clip-path=\"url(#clip220)\" d=\"M1186.03 1514.29 L1204.38 1514.29 L1204.38 1518.22 L1190.31 1518.22 L1190.31 1526.7 Q1191.33 1526.35 1192.35 1526.19 Q1193.37 1526 1194.38 1526 Q1200.17 1526 1203.55 1529.17 Q1206.93 1532.34 1206.93 1537.76 Q1206.93 1543.34 1203.46 1546.44 Q1199.99 1549.52 1193.67 1549.52 Q1191.49 1549.52 1189.22 1549.15 Q1186.98 1548.78 1184.57 1548.04 L1184.57 1543.34 Q1186.65 1544.47 1188.88 1545.03 Q1191.1 1545.58 1193.57 1545.58 Q1197.58 1545.58 1199.92 1543.48 Q1202.25 1541.37 1202.25 1537.76 Q1202.25 1534.15 1199.92 1532.04 Q1197.58 1529.94 1193.57 1529.94 Q1191.7 1529.94 1189.82 1530.35 Q1187.97 1530.77 1186.03 1531.65 L1186.03 1514.29 Z\" fill=\"#000000\" fill-rule=\"nonzero\" fill-opacity=\"1\" /><path clip-path=\"url(#clip220)\" d=\"M1226.14 1517.37 Q1222.53 1517.37 1220.7 1520.93 Q1218.9 1524.47 1218.9 1531.6 Q1218.9 1538.71 1220.7 1542.27 Q1222.53 1545.82 1226.14 1545.82 Q1229.78 1545.82 1231.58 1542.27 Q1233.41 1538.71 1233.41 1531.6 Q1233.41 1524.47 1231.58 1520.93 Q1229.78 1517.37 1226.14 1517.37 M1226.14 1513.66 Q1231.95 1513.66 1235.01 1518.27 Q1238.09 1522.85 1238.09 1531.6 Q1238.09 1540.33 1235.01 1544.94 Q1231.95 1549.52 1226.14 1549.52 Q1220.33 1549.52 1217.25 1544.94 Q1214.2 1540.33 1214.2 1531.6 Q1214.2 1522.85 1217.25 1518.27 Q1220.33 1513.66 1226.14 1513.66 Z\" fill=\"#000000\" fill-rule=\"nonzero\" fill-opacity=\"1\" /><path clip-path=\"url(#clip220)\" d=\"M1713.62 1514.29 L1735.84 1514.29 L1735.84 1516.28 L1723.3 1548.85 L1718.41 1548.85 L1730.22 1518.22 L1713.62 1518.22 L1713.62 1514.29 Z\" fill=\"#000000\" fill-rule=\"nonzero\" fill-opacity=\"1\" /><path clip-path=\"url(#clip220)\" d=\"M1745.01 1514.29 L1763.37 1514.29 L1763.37 1518.22 L1749.29 1518.22 L1749.29 1526.7 Q1750.31 1526.35 1751.33 1526.19 Q1752.35 1526 1753.37 1526 Q1759.15 1526 1762.53 1529.17 Q1765.91 1532.34 1765.91 1537.76 Q1765.91 1543.34 1762.44 1546.44 Q1758.97 1549.52 1752.65 1549.52 Q1750.47 1549.52 1748.2 1549.15 Q1745.96 1548.78 1743.55 1548.04 L1743.55 1543.34 Q1745.64 1544.47 1747.86 1545.03 Q1750.08 1545.58 1752.56 1545.58 Q1756.56 1545.58 1758.9 1543.48 Q1761.24 1541.37 1761.24 1537.76 Q1761.24 1534.15 1758.9 1532.04 Q1756.56 1529.94 1752.56 1529.94 Q1750.68 1529.94 1748.81 1530.35 Q1746.95 1530.77 1745.01 1531.65 L1745.01 1514.29 Z\" fill=\"#000000\" fill-rule=\"nonzero\" fill-opacity=\"1\" /><path clip-path=\"url(#clip220)\" d=\"M2227.81 1544.91 L2235.45 1544.91 L2235.45 1518.55 L2227.14 1520.21 L2227.14 1515.95 L2235.41 1514.29 L2240.08 1514.29 L2240.08 1544.91 L2247.72 1544.91 L2247.72 1548.85 L2227.81 1548.85 L2227.81 1544.91 Z\" fill=\"#000000\" fill-rule=\"nonzero\" fill-opacity=\"1\" /><path clip-path=\"url(#clip220)\" d=\"M2267.16 1517.37 Q2263.55 1517.37 2261.72 1520.93 Q2259.92 1524.47 2259.92 1531.6 Q2259.92 1538.71 2261.72 1542.27 Q2263.55 1545.82 2267.16 1545.82 Q2270.8 1545.82 2272.6 1542.27 Q2274.43 1538.71 2274.43 1531.6 Q2274.43 1524.47 2272.6 1520.93 Q2270.8 1517.37 2267.16 1517.37 M2267.16 1513.66 Q2272.97 1513.66 2276.03 1518.27 Q2279.11 1522.85 2279.11 1531.6 Q2279.11 1540.33 2276.03 1544.94 Q2272.97 1549.52 2267.16 1549.52 Q2261.35 1549.52 2258.28 1544.94 Q2255.22 1540.33 2255.22 1531.6 Q2255.22 1522.85 2258.28 1518.27 Q2261.35 1513.66 2267.16 1513.66 Z\" fill=\"#000000\" fill-rule=\"nonzero\" fill-opacity=\"1\" /><path clip-path=\"url(#clip220)\" d=\"M2297.33 1517.37 Q2293.71 1517.37 2291.89 1520.93 Q2290.08 1524.47 2290.08 1531.6 Q2290.08 1538.71 2291.89 1542.27 Q2293.71 1545.82 2297.33 1545.82 Q2300.96 1545.82 2302.77 1542.27 Q2304.59 1538.71 2304.59 1531.6 Q2304.59 1524.47 2302.77 1520.93 Q2300.96 1517.37 2297.33 1517.37 M2297.33 1513.66 Q2303.14 1513.66 2306.19 1518.27 Q2309.27 1522.85 2309.27 1531.6 Q2309.27 1540.33 2306.19 1544.94 Q2303.14 1549.52 2297.33 1549.52 Q2291.52 1549.52 2288.44 1544.94 Q2285.38 1540.33 2285.38 1531.6 Q2285.38 1522.85 2288.44 1518.27 Q2291.52 1513.66 2297.33 1513.66 Z\" fill=\"#000000\" fill-rule=\"nonzero\" fill-opacity=\"1\" /><polyline clip-path=\"url(#clip220)\" style=\"stroke:#000000; stroke-linecap:round; stroke-linejoin:round; stroke-width:4; stroke-opacity:1; fill:none\" points=\"112.177,1486.45 112.177,47.2441 \"/>\n",
              "<polyline clip-path=\"url(#clip220)\" style=\"stroke:#000000; stroke-linecap:round; stroke-linejoin:round; stroke-width:4; stroke-opacity:1; fill:none\" points=\"112.177,1209.56 131.075,1209.56 \"/>\n",
              "<polyline clip-path=\"url(#clip220)\" style=\"stroke:#000000; stroke-linecap:round; stroke-linejoin:round; stroke-width:4; stroke-opacity:1; fill:none\" points=\"112.177,914.37 131.075,914.37 \"/>\n",
              "<polyline clip-path=\"url(#clip220)\" style=\"stroke:#000000; stroke-linecap:round; stroke-linejoin:round; stroke-width:4; stroke-opacity:1; fill:none\" points=\"112.177,619.178 131.075,619.178 \"/>\n",
              "<polyline clip-path=\"url(#clip220)\" style=\"stroke:#000000; stroke-linecap:round; stroke-linejoin:round; stroke-width:4; stroke-opacity:1; fill:none\" points=\"112.177,323.986 131.075,323.986 \"/>\n",
              "<path clip-path=\"url(#clip220)\" d=\"M56.2699 1222.91 L63.9087 1222.91 L63.9087 1196.54 L55.5986 1198.21 L55.5986 1193.95 L63.8624 1192.28 L68.5383 1192.28 L68.5383 1222.91 L76.1772 1222.91 L76.1772 1226.84 L56.2699 1226.84 L56.2699 1222.91 Z\" fill=\"#000000\" fill-rule=\"nonzero\" fill-opacity=\"1\" /><path clip-path=\"url(#clip220)\" d=\"M59.8578 927.715 L76.1772 927.715 L76.1772 931.65 L54.2328 931.65 L54.2328 927.715 Q56.8949 924.96 61.4782 920.33 Q66.0846 915.678 67.2652 914.335 Q69.5105 911.812 70.3902 910.076 Q71.2929 908.317 71.2929 906.627 Q71.2929 903.872 69.3485 902.136 Q67.4272 900.4 64.3254 900.4 Q62.1263 900.4 59.6726 901.164 Q57.2421 901.928 54.4643 903.479 L54.4643 898.757 Q57.2884 897.622 59.7421 897.044 Q62.1958 896.465 64.2328 896.465 Q69.6031 896.465 72.7976 899.15 Q75.992 901.835 75.992 906.326 Q75.992 908.456 75.1818 910.377 Q74.3948 912.275 72.2883 914.868 Q71.7096 915.539 68.6078 918.756 Q65.5059 921.951 59.8578 927.715 Z\" fill=\"#000000\" fill-rule=\"nonzero\" fill-opacity=\"1\" /><path clip-path=\"url(#clip220)\" d=\"M69.0476 617.824 Q72.404 618.541 74.279 620.81 Q76.1772 623.078 76.1772 626.411 Q76.1772 631.527 72.6587 634.328 Q69.1402 637.129 62.6587 637.129 Q60.4828 637.129 58.168 636.689 Q55.8764 636.273 53.4227 635.416 L53.4227 630.902 Q55.3671 632.036 57.6819 632.615 Q59.9967 633.194 62.5198 633.194 Q66.918 633.194 69.2096 631.458 Q71.5244 629.722 71.5244 626.411 Q71.5244 623.356 69.3717 621.643 Q67.242 619.907 63.4226 619.907 L59.3949 619.907 L59.3949 616.064 L63.6078 616.064 Q67.0569 616.064 68.8855 614.699 Q70.7142 613.31 70.7142 610.717 Q70.7142 608.055 68.8161 606.643 Q66.9411 605.208 63.4226 605.208 Q61.5013 605.208 59.3023 605.625 Q57.1032 606.041 54.4643 606.921 L54.4643 602.754 Q57.1264 602.013 59.4412 601.643 Q61.7791 601.273 63.8393 601.273 Q69.1633 601.273 72.2652 603.703 Q75.367 606.111 75.367 610.231 Q75.367 613.101 73.7235 615.092 Q72.08 617.06 69.0476 617.824 Z\" fill=\"#000000\" fill-rule=\"nonzero\" fill-opacity=\"1\" /><path clip-path=\"url(#clip220)\" d=\"M66.5939 310.78 L54.7884 329.229 L66.5939 329.229 L66.5939 310.78 M65.367 306.706 L71.2466 306.706 L71.2466 329.229 L76.1772 329.229 L76.1772 333.117 L71.2466 333.117 L71.2466 341.266 L66.5939 341.266 L66.5939 333.117 L50.9921 333.117 L50.9921 328.604 L65.367 306.706 Z\" fill=\"#000000\" fill-rule=\"nonzero\" fill-opacity=\"1\" /><polyline clip-path=\"url(#clip222)\" style=\"stroke:#009af9; stroke-linecap:round; stroke-linejoin:round; stroke-width:4; stroke-opacity:1; fill:none\" points=\"175.59,1445.72 196.727,1415.19 217.865,1382.87 239.002,1349.78 260.14,1316.61 281.277,1283.85 302.415,1251.82 323.553,1220.75 344.69,1190.79 365.828,1162.05 386.965,1134.58 408.103,1108.41 429.24,1083.55 450.378,1059.99 471.515,1037.7 492.653,1016.65 513.79,996.811 534.928,978.127 556.065,960.554 577.203,944.044 598.34,928.546 619.478,914.01 640.616,900.387 661.753,887.626 682.891,875.682 704.028,864.507 725.166,854.057 746.303,844.29 767.441,835.164 788.578,826.64 809.716,818.682 830.853,811.254 851.991,804.323 873.128,797.857 894.266,791.827 915.404,786.203 936.541,780.961 957.679,776.074 978.816,771.52 999.954,767.277 1021.09,763.323 1042.23,759.64 1063.37,756.21 1084.5,753.015 1105.64,750.04 1126.78,747.27 1147.92,744.691 1169.05,742.289 1190.19,740.054 1211.33,737.973 1232.47,736.036 1253.6,734.234 1274.74,732.556 1295.88,730.995 1317.02,729.542 1338.15,728.19 1359.29,726.932 1380.43,725.761 1401.57,724.672 1422.7,723.659 1443.84,722.716 1464.98,721.839 1486.12,721.023 1507.25,720.264 1528.39,719.558 1549.53,718.901 1570.67,718.29 1591.8,717.721 1612.94,717.192 1634.08,716.7 1655.22,716.243 1676.35,715.817 1697.49,715.421 1718.63,715.053 1739.77,714.711 1760.9,714.392 1782.04,714.096 1803.18,713.82 1824.32,713.564 1845.46,713.325 1866.59,713.104 1887.73,712.897 1908.87,712.706 1930.01,712.527 1951.14,712.361 1972.28,712.207 1993.42,712.063 2014.56,711.93 2035.69,711.806 2056.83,711.69 2077.97,711.583 2099.11,711.483 2120.24,711.39 2141.38,711.304 2162.52,711.223 2183.66,711.149 2204.79,711.079 2225.93,711.015 2247.07,710.955 2268.21,710.899 2289.34,710.847 \"/>\n",
              "<polyline clip-path=\"url(#clip222)\" style=\"stroke:#e26f46; stroke-linecap:round; stroke-linejoin:round; stroke-width:4; stroke-opacity:1; fill:none\" points=\"175.59,1445.72 196.727,1396.98 217.865,1342.3 239.002,1284.51 260.14,1225.43 281.277,1166.26 302.415,1107.84 323.553,1050.75 344.69,995.381 365.828,942.013 386.965,890.817 408.103,841.896 429.24,795.301 450.378,751.041 471.515,709.097 492.653,669.425 513.79,631.967 534.928,596.653 556.065,563.402 577.203,532.131 598.34,502.751 619.478,475.173 640.616,449.309 661.753,425.068 682.891,402.364 704.028,381.112 725.166,361.231 746.303,342.639 767.441,325.262 788.578,309.026 809.716,293.863 830.853,279.706 851.991,266.491 873.128,254.161 894.266,242.659 915.404,231.931 936.541,221.927 957.679,212.602 978.816,203.909 999.954,195.808 1021.09,188.26 1042.23,181.227 1063.37,174.676 1084.5,168.574 1105.64,162.891 1126.78,157.599 1147.92,152.671 1169.05,148.083 1190.19,143.812 1211.33,139.836 1232.47,136.134 1253.6,132.689 1274.74,129.483 1295.88,126.499 1317.02,123.722 1338.15,121.137 1359.29,118.733 1380.43,116.495 1401.57,114.413 1422.7,112.475 1443.84,110.673 1464.98,108.996 1486.12,107.436 1507.25,105.984 1528.39,104.634 1549.53,103.378 1570.67,102.21 1591.8,101.123 1612.94,100.111 1634.08,99.1708 1655.22,98.2958 1676.35,97.482 1697.49,96.725 1718.63,96.0208 1739.77,95.3659 1760.9,94.7567 1782.04,94.19 1803.18,93.663 1824.32,93.1728 1845.46,92.7169 1866.59,92.2928 1887.73,91.8984 1908.87,91.5316 1930.01,91.1904 1951.14,90.8731 1972.28,90.578 1993.42,90.3035 2014.56,90.0482 2035.69,89.8107 2056.83,89.5899 2077.97,89.3845 2099.11,89.1935 2120.24,89.0159 2141.38,88.8507 2162.52,88.697 2183.66,88.5541 2204.79,88.4212 2225.93,88.2976 2247.07,88.1826 2268.21,88.0757 2289.34,87.9763 \"/>\n",
              "<path clip-path=\"url(#clip220)\" d=\"M186.863 250.738 L463.351 250.738 L463.351 95.2176 L186.863 95.2176  Z\" fill=\"#ffffff\" fill-rule=\"evenodd\" fill-opacity=\"1\"/>\n",
              "<polyline clip-path=\"url(#clip220)\" style=\"stroke:#000000; stroke-linecap:round; stroke-linejoin:round; stroke-width:4; stroke-opacity:1; fill:none\" points=\"186.863,250.738 463.351,250.738 463.351,95.2176 186.863,95.2176 186.863,250.738 \"/>\n",
              "<polyline clip-path=\"url(#clip220)\" style=\"stroke:#009af9; stroke-linecap:round; stroke-linejoin:round; stroke-width:4; stroke-opacity:1; fill:none\" points=\"211.758,147.058 361.13,147.058 \"/>\n",
              "<path clip-path=\"url(#clip220)\" d=\"M399.868 166.745 Q398.063 171.375 396.35 172.787 Q394.637 174.199 391.766 174.199 L388.364 174.199 L388.364 170.634 L390.864 170.634 Q392.623 170.634 393.595 169.8 Q394.567 168.967 395.748 165.865 L396.512 163.921 L386.026 138.412 L390.54 138.412 L398.641 158.689 L406.743 138.412 L411.257 138.412 L399.868 166.745 Z\" fill=\"#000000\" fill-rule=\"nonzero\" fill-opacity=\"1\" /><path clip-path=\"url(#clip220)\" d=\"M418.549 160.402 L426.188 160.402 L426.188 134.037 L417.877 135.703 L417.877 131.444 L426.141 129.778 L430.817 129.778 L430.817 160.402 L438.456 160.402 L438.456 164.338 L418.549 164.338 L418.549 160.402 Z\" fill=\"#000000\" fill-rule=\"nonzero\" fill-opacity=\"1\" /><polyline clip-path=\"url(#clip220)\" style=\"stroke:#e26f46; stroke-linecap:round; stroke-linejoin:round; stroke-width:4; stroke-opacity:1; fill:none\" points=\"211.758,198.898 361.13,198.898 \"/>\n",
              "<path clip-path=\"url(#clip220)\" d=\"M399.868 218.585 Q398.063 223.215 396.35 224.627 Q394.637 226.039 391.766 226.039 L388.364 226.039 L388.364 222.474 L390.864 222.474 Q392.623 222.474 393.595 221.64 Q394.567 220.807 395.748 217.705 L396.512 215.761 L386.026 190.252 L390.54 190.252 L398.641 210.529 L406.743 190.252 L411.257 190.252 L399.868 218.585 Z\" fill=\"#000000\" fill-rule=\"nonzero\" fill-opacity=\"1\" /><path clip-path=\"url(#clip220)\" d=\"M421.766 212.242 L438.086 212.242 L438.086 216.178 L416.141 216.178 L416.141 212.242 Q418.803 209.488 423.387 204.858 Q427.993 200.205 429.174 198.863 Q431.419 196.34 432.299 194.604 Q433.201 192.844 433.201 191.155 Q433.201 188.4 431.257 186.664 Q429.336 184.928 426.234 184.928 Q424.035 184.928 421.581 185.692 Q419.151 186.455 416.373 188.006 L416.373 183.284 Q419.197 182.15 421.65 181.571 Q424.104 180.993 426.141 180.993 Q431.512 180.993 434.706 183.678 Q437.9 186.363 437.9 190.854 Q437.9 192.983 437.09 194.905 Q436.303 196.803 434.197 199.395 Q433.618 200.067 430.516 203.284 Q427.414 206.479 421.766 212.242 Z\" fill=\"#000000\" fill-rule=\"nonzero\" fill-opacity=\"1\" /></svg>"
            ]
          }
        }
      ],
      "source": [
        "pl = plot(sim1)\n",
        "plot!(sim2)"
      ],
      "id": "cell-47"
    },
    {
      "cell_type": "markdown",
      "metadata": {},
      "source": [
        "**Suppose you were interested in using `f` to compute the steady-state.\n",
        "What would you propose to measure convergence speed? To speed-up\n",
        "convergence? Implement these ideas.**"
      ],
      "id": "09070046-9ebd-44e5-847e-2eb299e0f8d6"
    }
  ],
  "nbformat": 4,
  "nbformat_minor": 5,
  "metadata": {
    "kernelspec": {
      "name": "julia-1.11",
      "display_name": "Julia 1.11.3",
      "language": "julia"
    },
    "language_info": {
      "name": "julia",
      "file_extension": ".jl",
      "mimetype": "application/julia",
      "version": "1.11.3"
    }
  }
}