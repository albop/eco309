{
  "cells": [
    {
      "cell_type": "markdown",
      "metadata": {},
      "source": [
        "# Convergence: Solow Model\n",
        "\n",
        "Pablo Winant\n",
        "\n",
        "### Solow Model\n",
        "\n",
        "A representative agent uses capital $k_t$ to produce $y_t$ using the\n",
        "following production function:\n",
        "\n",
        "$$y_t = k_t^{\\alpha}$$\n",
        "\n",
        "He chooses to consume an amount $c_t \\in ]0, y_t]$ and invests what\n",
        "remains:\n",
        "\n",
        "$$i_t = y_t - c_t$$\n",
        "\n",
        "He accumulates capital $k_t$ according to:\n",
        "\n",
        "$$k_{t+1} = \\left( 1-\\delta \\right) k_{t} + i_{t}$$\n",
        "\n",
        "where $\\delta$ is the depreciation rate and $i_t$ is the amount\n",
        "invested.\n",
        "\n",
        "The goal of the representative agent is to maximize:\n",
        "\n",
        "$$\\sum_{t\\geq 0} \\beta^t U(c_t)$$\n",
        "\n",
        "where $U(x)=\\frac{x^{1-\\gamma}}{1-\\gamma}$ and $\\beta<1$ is the discount\n",
        "factor.\n",
        "\n",
        "For now, we ignore the objective and assume that the saving rate\n",
        "$s=\\frac{i_t}{y_t}$ is constant over time.\n",
        "\n",
        "**Create a `NamedTuple` to hold parameter values $\\beta=0.96$,\n",
        "$\\delta=0.1$, $\\alpha=0.3$, $\\gamma=4$.**\n",
        "\n",
        "**Write down the formula of function $f$ such that $k_{t+1}$:\n",
        "$k_{t+1} = f(k_t)$.**\n",
        "\n",
        "**Define a function `f(k::Float64, p::NamedTuple)::Float64` to represent\n",
        "$f$ for a given calibration**\n",
        "\n",
        "**Write a function\n",
        "`simulate(k0::Float64, T::Int, p::NamedTuple)::Vector{Float64}` to\n",
        "compute the simulation over `T` periods starting from initial capital\n",
        "level `k0`.**\n",
        "\n",
        "**Make a nice plot to illustrate the convergence. Do we get convergence\n",
        "from any initial level of capital?**\n",
        "\n",
        "**Suppose you were interested in using `f` to compute the steady-state.\n",
        "What would you propose to measure convergence speed? To speed-up\n",
        "convergence? Implement these ideas.**"
      ],
      "id": "d1db6ef6-642e-4a21-8865-1615da3e738f"
    }
  ],
  "nbformat": 4,
  "nbformat_minor": 5,
  "metadata": {
    "kernelspec": {
      "name": "julia-1.11",
      "display_name": "Julia 1.11.3",
      "language": "julia"
    },
    "language_info": {
      "name": "julia",
      "file_extension": ".jl",
      "mimetype": "application/julia",
      "version": "1.11.3"
    }
  }
}